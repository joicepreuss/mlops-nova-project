{
 "cells": [
  {
   "cell_type": "markdown",
   "metadata": {},
   "source": [
    "# Pre-Processing"
   ]
  },
  {
   "attachments": {},
   "cell_type": "markdown",
   "metadata": {},
   "source": [
    "## Data fields\n",
    "Here's a brief version of what you'll find in the data description file.\n",
    "\n",
    "|Column|Description|Column|Description|Column|Description|\n",
    "|------|------|------|------|------|------|\n",
    "|SalePrice | the property's sale price in dollars. This is the target variable that you're trying to predict.| MSSubClass | The building class|MSZoning | The general zoning classification|LotFrontage | Linear feet of street connected to property|\n",
    "|LotArea | Lot size in square feet|Street | Type of road access|Alley | Type of alley access|LotShape | General shape of property|\n",
    "|LandContour | Flatness of the property|Utilities | Type of utilities available|LotConfig | Lot configuration|LandSlope | Slope of property|\n",
    "|Neighborhood | Physical locations within Ames city limits|Condition1 | Proximity to main road or railroad|Condition2 | Proximity to main road or railroad (if a second is present)|BldgType | Type of dwelling|\n",
    "|HouseStyle | Style of dwelling|OverallQual | Overall material and finish quality|OverallCond | Overall condition rating|YearBuilt | Original construction date|\n",
    "|YearRemodAdd | Remodel date|RoofStyle | Type of roof|RoofMatl | Roof material|Exterior1st | Exterior covering on house|\n",
    "|Exterior2nd | Exterior covering on house (if more than one material)|MasVnrType | Masonry veneer type|MasVnrArea | Masonry veneer area in square feet|ExterQual | Exterior material quality|\n",
    "|ExterCond | Present condition of the material on the exterior|Foundation | Type of foundation|BsmtQual | Height of the basement|BsmtCond | General condition of the basement|\n",
    "|BsmtExposure | Walkout or garden level basement walls|BsmtFinType1 | Quality of basement finished area|BsmtFinSF1 | Type 1 finished square feet|BsmtFinType2 | Quality of second finished area (if present)|\n",
    "|BsmtFinSF2 | Type 2 finished square feet|BsmtUnfSF | Unfinished square feet of basement area|TotalBsmtSF | Total square feet of basement area|Heating | Type of heating|\n",
    "|HeatingQC | Heating quality and condition|CentralAir | Central air conditioning|Electrical | Electrical system|1stFlrSF | First Floor square feet|\n",
    "|2ndFlrSF | Second floor square feet|LowQualFinSF | Low quality finished square feet (all floors)|GrLivArea | Above grade (ground) living area square feet|BsmtFullBath | Basement full bathrooms|\n",
    "|BsmtHalfBath | Basement half bathrooms|FullBath | Full bathrooms above grade|HalfBath | Half baths above grade|Bedroom | Number of bedrooms above basement level|\n",
    "|Kitchen | Number of kitchens|KitchenQual | Kitchen quality|TotRmsAbvGrd | Total rooms above grade (does not include bathrooms)|Functional | Home functionality rating|\n",
    "|Fireplaces | Number of fireplaces|FireplaceQu | Fireplace quality|GarageType | Garage location|GarageYrBlt | Year garage was built|\n",
    "|GarageFinish | Interior finish of the garage|GarageCars | Size of garage in car capacity|GarageArea | Size of garage in square feet|GarageQual | Garage quality|\n",
    "|GarageCond | Garage condition|PavedDrive | Paved driveway|WoodDeckSF | Wood deck area in square feet|OpenPorchSF | Open porch area in square feet|\n",
    "|EnclosedPorch | Enclosed porch area in square feet|3SsnPorch | Three season porch area in square feet|ScreenPorch | Screen porch area in square feet|PoolArea | Pool area in square feet|\n",
    "|PoolQC | Pool quality|Fence | Fence quality|MiscFeature | Miscellaneous feature not covered in other categories|MiscVal | $Value of miscellaneous feature|\n",
    "|MoSold | Month Sold|YrSold | Year Sold|SaleType | Type of sale|SaleCondition | Condition of sale|\n",
    "\n"
   ]
  },
  {
   "attachments": {},
   "cell_type": "markdown",
   "metadata": {},
   "source": [
    "# Import libraries"
   ]
  },
  {
   "cell_type": "code",
   "execution_count": 2,
   "metadata": {},
   "outputs": [],
   "source": [
    "import pandas as pd\n",
    "\n",
    "from sklearn.model_selection import train_test_split\n",
    "from sklearn.preprocessing import OneHotEncoder, StandardScaler, MinMaxScaler, RobustScaler\n",
    "from sklearn.compose import ColumnTransformer\n",
    "from sklearn.pipeline import Pipeline\n",
    "from sklearn.impute import SimpleImputer\n",
    "\n",
    "SEED=42"
   ]
  },
  {
   "attachments": {},
   "cell_type": "markdown",
   "metadata": {},
   "source": [
    "## Auxilary functions"
   ]
  },
  {
   "cell_type": "code",
   "execution_count": null,
   "metadata": {},
   "outputs": [],
   "source": [
    "def pre_processing(df, scaler=StandardScaler(), numerical_features=[], categorical_features=[]):\n",
    "  # lots_of_zeros = ['MasVnrArea', 'BsmtFinSF2', 'LowQualFinSF', 'BsmtFinSF1', 'BsmtUnfSF', 'TotalBsmtSF', '2ndFlrSF' 'WoodDeckSF', 'OpenPorchSF', 'EnclosedPorch', '3SsnPorch', 'ScreenPorch']\n",
    "  list_miss_to_mean = ['LotFrontage']\n",
    "  remove_cols = []\n",
    "  list_remove_cols_missing = ['Alley', 'FireplaceQu', 'PoolQC', 'Fence', 'MiscFeature']\n",
    "  list_remove_cols_zeros = ['PoolArea','MiscVal']\n",
    "  list_remove_rows_garage = ['GarageType', 'GarageYrBlt', 'GarageFinish', 'GarageQual', 'GarageCond','GarageCars', 'GarageArea']\n",
    "  list_remove_rows_bsmt = ['BsmtExposure', 'BsmtQual', 'BsmtCond', 'BsmtFinType1','BsmtFinType2']\n",
    "  list_remove_rows_little = ['MasVnrType', 'MasVnrArea', 'Electrical']\n",
    "\n",
    "  if 'Alley' in df.columns:\n",
    "    remove_cols = list_remove_cols_missing + list_remove_cols_zeros\n",
    "    df = df.drop(remove_cols, axis=1)\n",
    "\n",
    "  # df = df.dropna(subset=list_remove_rows_garage).dropna(subset=list_remove_rows_bsmt).dropna(subset=list_remove_rows_little)\n",
    "\n",
    "  df[list_miss_to_mean[0]] = df.fillna(df[list_miss_to_mean[0]].mean())[list_miss_to_mean[0]]\n",
    "\n",
    "  column_transformer = ColumnTransformer([\n",
    "                                          (\"imputer\", SimpleImputer(strategy='mean'), numerical_features),\n",
    "                                          ('one_hot_encoder', OneHotEncoder(), categorical_features),\n",
    "                                          ('scaler', scaler, numerical_features)\n",
    "                                          ], remainder='passthrough')\n",
    "  \n",
    "  transformed_data = column_transformer.fit_transform(df)    \n",
    "  column_names = column_transformer.get_feature_names()    \n",
    "  transformed_df = pd.DataFrame(transformed_data, columns=column_names)\n",
    "  \n",
    "  return transformed_df, column_transformer\n"
   ]
  },
  {
   "attachments": {},
   "cell_type": "markdown",
   "metadata": {},
   "source": [
    "## Import datasets and train test split"
   ]
  },
  {
   "cell_type": "code",
   "execution_count": 17,
   "metadata": {},
   "outputs": [
    {
     "name": "stdout",
     "output_type": "stream",
     "text": [
      "X_train shape: (1168, 79)\n",
      "X_test shape: (1168,)\n"
     ]
    }
   ],
   "source": [
    "df = pd.read_csv('../data/01_raw/house-pricing.csv')\n",
    "\n",
    "X_train, y_train, X_test, y_test = train_test_split(df.drop(columns=['SalePrice', 'Id']), \n",
    "                                                    df['SalePrice'], \n",
    "                                                    test_size=0.2, \n",
    "                                                    random_state=SEED)\n",
    "print(f'X_train shape: {X_train.shape}')\n",
    "print(f'X_test shape: {X_test.shape}')"
   ]
  },
  {
   "cell_type": "code",
   "execution_count": 18,
   "metadata": {},
   "outputs": [
    {
     "name": "stdout",
     "output_type": "stream",
     "text": [
      "train | LotFrontage : True | Null count: 217 or 217\n",
      "train | Alley : True | Null count: 1094 or 1094\n",
      "train | MasVnrType : True | Null count: 683 or 683\n",
      "train | MasVnrArea : True | Null count: 6 or 6\n",
      "train | BsmtQual : True | Null count: 28 or 28\n",
      "train | BsmtCond : True | Null count: 28 or 28\n",
      "train | BsmtExposure : True | Null count: 28 or 28\n",
      "train | BsmtFinType1 : True | Null count: 28 or 28\n",
      "train | BsmtFinType2 : True | Null count: 28 or 28\n",
      "train | Electrical : True | Null count: 1 or 1\n",
      "train | FireplaceQu : True | Null count: 547 or 547\n",
      "train | GarageType : True | Null count: 64 or 64\n",
      "train | GarageYrBlt : True | Null count: 64 or 64\n",
      "train | GarageFinish : True | Null count: 64 or 64\n",
      "train | GarageQual : True | Null count: 64 or 64\n",
      "train | GarageCond : True | Null count: 64 or 64\n",
      "train | PoolQC : True | Null count: 1162 or 1162\n",
      "train | Fence : True | Null count: 935 or 935\n",
      "train | MiscFeature : True | Null count: 1122 or 1122\n"
     ]
    }
   ],
   "source": [
    "for name in list(X_train.columns):\n",
    "  train_is_na = X_train[name].isna().any()\n",
    "  train_is_null = X_train[name].isnull().any()\n",
    "  if (train_is_na or train_is_null):\n",
    "    print(f\"train | {name} : {str(train_is_na)} | Null count: {str(X_train[name].isna().sum())} or {str(X_train[name].isnull().sum())}\")"
   ]
  },
  {
   "cell_type": "code",
   "execution_count": null,
   "metadata": {},
   "outputs": [],
   "source": []
  },
  {
   "cell_type": "code",
   "execution_count": null,
   "metadata": {},
   "outputs": [],
   "source": [
    "# df = pre_processing(df)"
   ]
  }
 ],
 "metadata": {
  "kernelspec": {
   "display_name": "mlops-project",
   "language": "python",
   "name": "python3"
  },
  "language_info": {
   "codemirror_mode": {
    "name": "ipython",
    "version": 3
   },
   "file_extension": ".py",
   "mimetype": "text/x-python",
   "name": "python",
   "nbconvert_exporter": "python",
   "pygments_lexer": "ipython3",
   "version": "3.10.11"
  },
  "orig_nbformat": 4
 },
 "nbformat": 4,
 "nbformat_minor": 2
}
