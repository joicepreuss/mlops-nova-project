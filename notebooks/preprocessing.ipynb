{
 "cells": [
  {
   "attachments": {},
   "cell_type": "markdown",
   "metadata": {},
   "source": [
    "# House Prices Challenge\n",
    "\n",
    "Data fields\n",
    "Here's a brief version of what you'll find in the data description file.\n",
    "\n",
    "|Column|Description|Column|Description|Column|Description|\n",
    "|------|------|------|------|------|------|\n",
    "|SalePrice | the property's sale price in dollars. This is the target variable that you're trying to predict.| MSSubClass | The building class|MSZoning | The general zoning classification|LotFrontage | Linear feet of street connected to property|\n",
    "|LotArea | Lot size in square feet|Street | Type of road access|Alley | Type of alley access|LotShape | General shape of property|\n",
    "|LandContour | Flatness of the property|Utilities | Type of utilities available|LotConfig | Lot configuration|LandSlope | Slope of property|\n",
    "|Neighborhood | Physical locations within Ames city limits|Condition1 | Proximity to main road or railroad|Condition2 | Proximity to main road or railroad (if a second is present)|BldgType | Type of dwelling|\n",
    "|HouseStyle | Style of dwelling|OverallQual | Overall material and finish quality|OverallCond | Overall condition rating|YearBuilt | Original construction date|\n",
    "|YearRemodAdd | Remodel date|RoofStyle | Type of roof|RoofMatl | Roof material|Exterior1st | Exterior covering on house|\n",
    "|Exterior2nd | Exterior covering on house (if more than one material)|MasVnrType | Masonry veneer type|MasVnrArea | Masonry veneer area in square feet|ExterQual | Exterior material quality|\n",
    "|ExterCond | Present condition of the material on the exterior|Foundation | Type of foundation|BsmtQual | Height of the basement|BsmtCond | General condition of the basement|\n",
    "|BsmtExposure | Walkout or garden level basement walls|BsmtFinType1 | Quality of basement finished area|BsmtFinSF1 | Type 1 finished square feet|BsmtFinType2 | Quality of second finished area (if present)|\n",
    "|BsmtFinSF2 | Type 2 finished square feet|BsmtUnfSF | Unfinished square feet of basement area|TotalBsmtSF | Total square feet of basement area|Heating | Type of heating|\n",
    "|HeatingQC | Heating quality and condition|CentralAir | Central air conditioning|Electrical | Electrical system|1stFlrSF | First Floor square feet|\n",
    "|2ndFlrSF | Second floor square feet|LowQualFinSF | Low quality finished square feet (all floors)|GrLivArea | Above grade (ground) living area square feet|BsmtFullBath | Basement full bathrooms|\n",
    "|BsmtHalfBath | Basement half bathrooms|FullBath | Full bathrooms above grade|HalfBath | Half baths above grade|Bedroom | Number of bedrooms above basement level|\n",
    "|Kitchen | Number of kitchens|KitchenQual | Kitchen quality|TotRmsAbvGrd | Total rooms above grade (does not include bathrooms)|Functional | Home functionality rating|\n",
    "|Fireplaces | Number of fireplaces|FireplaceQu | Fireplace quality|GarageType | Garage location|GarageYrBlt | Year garage was built|\n",
    "|GarageFinish | Interior finish of the garage|GarageCars | Size of garage in car capacity|GarageArea | Size of garage in square feet|GarageQual | Garage quality|\n",
    "|GarageCond | Garage condition|PavedDrive | Paved driveway|WoodDeckSF | Wood deck area in square feet|OpenPorchSF | Open porch area in square feet|\n",
    "|EnclosedPorch | Enclosed porch area in square feet|3SsnPorch | Three season porch area in square feet|ScreenPorch | Screen porch area in square feet|PoolArea | Pool area in square feet|\n",
    "|PoolQC | Pool quality|Fence | Fence quality|MiscFeature | Miscellaneous feature not covered in other categories|MiscVal | $Value of miscellaneous feature|\n",
    "|MoSold | Month Sold|YrSold | Year Sold|SaleType | Type of sale|SaleCondition | Condition of sale|\n",
    "\n"
   ]
  },
  {
   "cell_type": "code",
   "execution_count": null,
   "metadata": {},
   "outputs": [],
   "source": [
    "import pandas as pd\n",
    "\n",
    "from sklearn.model_selection import train_test_split\n",
    "\n",
    "SEED=42"
   ]
  },
  {
   "cell_type": "code",
   "execution_count": null,
   "metadata": {},
   "outputs": [],
   "source": [
    "df = pd.read_csv('/data/01_raw/house-pricing.csv')\n",
    "X_train, y_train, X_test, y_test = train_test_split(df.drop(columns=['SalePrice', 'id']), df['SalePrice'], test_size=0.3, random_state=SEED)\n",
    "X_train.head()"
   ]
  },
  {
   "cell_type": "code",
   "execution_count": null,
   "metadata": {},
   "outputs": [],
   "source": [
    "for name in list(X_train.columns):\n",
    "  if (X_train[name].isna().any()) or (X_train[name].isnull().any()):\n",
    "    print(f\"train | {name} : {str(X_train[name].isna().any())} | Null count: {str(X_train[name].isna().sum())} or {str(X_train[name].isnull().sum())}\")"
   ]
  },
  {
   "cell_type": "code",
   "execution_count": null,
   "metadata": {},
   "outputs": [],
   "source": [
    "X_train.duplicated(subset=None, keep='first')"
   ]
  },
  {
   "cell_type": "code",
   "execution_count": null,
   "metadata": {},
   "outputs": [],
   "source": []
  },
  {
   "cell_type": "code",
   "execution_count": null,
   "metadata": {},
   "outputs": [],
   "source": [
    "def pre_processing(df):\n",
    "  # lots_of_zeros = ['MasVnrArea', 'BsmtFinSF2', 'LowQualFinSF', 'BsmtFinSF1', 'BsmtUnfSF', 'TotalBsmtSF', '2ndFlrSF' 'WoodDeckSF', 'OpenPorchSF', 'EnclosedPorch', '3SsnPorch', 'ScreenPorch']\n",
    "  list_miss_to_mean = ['LotFrontage']\n",
    "  remove_cols = []\n",
    "  list_remove_cols_missing = ['Alley', 'FireplaceQu', 'PoolQC', 'Fence', 'MiscFeature']\n",
    "  list_remove_cols_zeros = ['PoolArea','MiscVal']\n",
    "  list_remove_rows_garage = ['GarageType', 'GarageYrBlt', 'GarageFinish', 'GarageQual', 'GarageCond','GarageCars', 'GarageArea']\n",
    "  list_remove_rows_bsmt = ['BsmtExposure', 'BsmtQual', 'BsmtCond', 'BsmtFinType1','BsmtFinType2']\n",
    "  list_remove_rows_little = ['MasVnrType', 'MasVnrArea', 'Electrical']\n",
    "\n",
    "  if 'Alley' in df.columns:\n",
    "    remove_cols = list_remove_cols_missing + list_remove_cols_zeros\n",
    "    df = df.drop(remove_cols, axis=1)\n",
    "\n",
    "  # df = df.dropna(subset=list_remove_rows_garage).dropna(subset=list_remove_rows_bsmt).dropna(subset=list_remove_rows_little)\n",
    "\n",
    "  df[list_miss_to_mean[0]] = df.fillna(df[list_miss_to_mean[0]].mean())[list_miss_to_mean[0]]\n",
    "\n",
    "  return df"
   ]
  },
  {
   "cell_type": "code",
   "execution_count": null,
   "metadata": {},
   "outputs": [],
   "source": []
  },
  {
   "cell_type": "code",
   "execution_count": null,
   "metadata": {},
   "outputs": [],
   "source": [
    "# df = pre_processing(df)"
   ]
  }
 ],
 "metadata": {
  "language_info": {
   "name": "python"
  },
  "orig_nbformat": 4
 },
 "nbformat": 4,
 "nbformat_minor": 2
}
