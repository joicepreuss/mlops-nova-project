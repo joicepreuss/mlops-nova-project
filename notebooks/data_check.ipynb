{
 "cells": [
  {
   "cell_type": "code",
   "execution_count": 126,
   "metadata": {},
   "outputs": [],
   "source": [
    "import pandas as pd\n",
    "import numpy as np\n",
    "import nannyml as nml\n",
    "import matplotlib.pyplot as plt\n",
    "from IPython.display import display\n",
    "from sklearn.preprocessing import MinMaxScaler\n",
    "from sklearn.impute import SimpleImputer\n",
    "from nannyml.drift.multivariate.data_reconstruction.result import Result"
   ]
  },
  {
   "cell_type": "code",
   "execution_count": 38,
   "metadata": {},
   "outputs": [],
   "source": [
    "df = pd.read_csv('../data/01_raw/house-pricing.csv')"
   ]
  },
  {
   "cell_type": "code",
   "execution_count": 39,
   "metadata": {},
   "outputs": [
    {
     "data": {
      "text/plain": [
       "Index(['Id', 'MSSubClass', 'MSZoning', 'LotFrontage', 'LotArea', 'Street',\n",
       "       'Alley', 'LotShape', 'LandContour', 'Utilities', 'LotConfig',\n",
       "       'LandSlope', 'Neighborhood', 'Condition1', 'Condition2', 'BldgType',\n",
       "       'HouseStyle', 'OverallQual', 'OverallCond', 'YearBuilt', 'YearRemodAdd',\n",
       "       'RoofStyle', 'RoofMatl', 'Exterior1st', 'Exterior2nd', 'MasVnrType',\n",
       "       'MasVnrArea', 'ExterQual', 'ExterCond', 'Foundation', 'BsmtQual',\n",
       "       'BsmtCond', 'BsmtExposure', 'BsmtFinType1', 'BsmtFinSF1',\n",
       "       'BsmtFinType2', 'BsmtFinSF2', 'BsmtUnfSF', 'TotalBsmtSF', 'Heating',\n",
       "       'HeatingQC', 'CentralAir', 'Electrical', '1stFlrSF', '2ndFlrSF',\n",
       "       'LowQualFinSF', 'GrLivArea', 'BsmtFullBath', 'BsmtHalfBath', 'FullBath',\n",
       "       'HalfBath', 'BedroomAbvGr', 'KitchenAbvGr', 'KitchenQual',\n",
       "       'TotRmsAbvGrd', 'Functional', 'Fireplaces', 'FireplaceQu', 'GarageType',\n",
       "       'GarageYrBlt', 'GarageFinish', 'GarageCars', 'GarageArea', 'GarageQual',\n",
       "       'GarageCond', 'PavedDrive', 'WoodDeckSF', 'OpenPorchSF',\n",
       "       'EnclosedPorch', '3SsnPorch', 'ScreenPorch', 'PoolArea', 'PoolQC',\n",
       "       'Fence', 'MiscFeature', 'MiscVal', 'MoSold', 'YrSold', 'SaleType',\n",
       "       'SaleCondition', 'SalePrice'],\n",
       "      dtype='object')"
      ]
     },
     "execution_count": 39,
     "metadata": {},
     "output_type": "execute_result"
    }
   ],
   "source": [
    "df.columns"
   ]
  },
  {
   "cell_type": "code",
   "execution_count": 40,
   "metadata": {},
   "outputs": [
    {
     "data": {
      "text/html": [
       "<div>\n",
       "<style scoped>\n",
       "    .dataframe tbody tr th:only-of-type {\n",
       "        vertical-align: middle;\n",
       "    }\n",
       "\n",
       "    .dataframe tbody tr th {\n",
       "        vertical-align: top;\n",
       "    }\n",
       "\n",
       "    .dataframe thead th {\n",
       "        text-align: right;\n",
       "    }\n",
       "</style>\n",
       "<table border=\"1\" class=\"dataframe\">\n",
       "  <thead>\n",
       "    <tr style=\"text-align: right;\">\n",
       "      <th></th>\n",
       "      <th>Id</th>\n",
       "      <th>MSSubClass</th>\n",
       "      <th>MSZoning</th>\n",
       "      <th>LotFrontage</th>\n",
       "      <th>LotArea</th>\n",
       "      <th>Street</th>\n",
       "      <th>Alley</th>\n",
       "      <th>LotShape</th>\n",
       "      <th>LandContour</th>\n",
       "      <th>Utilities</th>\n",
       "      <th>...</th>\n",
       "      <th>PoolArea</th>\n",
       "      <th>PoolQC</th>\n",
       "      <th>Fence</th>\n",
       "      <th>MiscFeature</th>\n",
       "      <th>MiscVal</th>\n",
       "      <th>MoSold</th>\n",
       "      <th>YrSold</th>\n",
       "      <th>SaleType</th>\n",
       "      <th>SaleCondition</th>\n",
       "      <th>SalePrice</th>\n",
       "    </tr>\n",
       "  </thead>\n",
       "  <tbody>\n",
       "    <tr>\n",
       "      <th>0</th>\n",
       "      <td>1</td>\n",
       "      <td>60</td>\n",
       "      <td>RL</td>\n",
       "      <td>65.0</td>\n",
       "      <td>8450</td>\n",
       "      <td>Pave</td>\n",
       "      <td>NaN</td>\n",
       "      <td>Reg</td>\n",
       "      <td>Lvl</td>\n",
       "      <td>AllPub</td>\n",
       "      <td>...</td>\n",
       "      <td>0</td>\n",
       "      <td>NaN</td>\n",
       "      <td>NaN</td>\n",
       "      <td>NaN</td>\n",
       "      <td>0</td>\n",
       "      <td>2</td>\n",
       "      <td>2008</td>\n",
       "      <td>WD</td>\n",
       "      <td>Normal</td>\n",
       "      <td>208500</td>\n",
       "    </tr>\n",
       "    <tr>\n",
       "      <th>1</th>\n",
       "      <td>2</td>\n",
       "      <td>20</td>\n",
       "      <td>RL</td>\n",
       "      <td>80.0</td>\n",
       "      <td>9600</td>\n",
       "      <td>Pave</td>\n",
       "      <td>NaN</td>\n",
       "      <td>Reg</td>\n",
       "      <td>Lvl</td>\n",
       "      <td>AllPub</td>\n",
       "      <td>...</td>\n",
       "      <td>0</td>\n",
       "      <td>NaN</td>\n",
       "      <td>NaN</td>\n",
       "      <td>NaN</td>\n",
       "      <td>0</td>\n",
       "      <td>5</td>\n",
       "      <td>2007</td>\n",
       "      <td>WD</td>\n",
       "      <td>Normal</td>\n",
       "      <td>181500</td>\n",
       "    </tr>\n",
       "    <tr>\n",
       "      <th>2</th>\n",
       "      <td>3</td>\n",
       "      <td>60</td>\n",
       "      <td>RL</td>\n",
       "      <td>68.0</td>\n",
       "      <td>11250</td>\n",
       "      <td>Pave</td>\n",
       "      <td>NaN</td>\n",
       "      <td>IR1</td>\n",
       "      <td>Lvl</td>\n",
       "      <td>AllPub</td>\n",
       "      <td>...</td>\n",
       "      <td>0</td>\n",
       "      <td>NaN</td>\n",
       "      <td>NaN</td>\n",
       "      <td>NaN</td>\n",
       "      <td>0</td>\n",
       "      <td>9</td>\n",
       "      <td>2008</td>\n",
       "      <td>WD</td>\n",
       "      <td>Normal</td>\n",
       "      <td>223500</td>\n",
       "    </tr>\n",
       "    <tr>\n",
       "      <th>3</th>\n",
       "      <td>4</td>\n",
       "      <td>70</td>\n",
       "      <td>RL</td>\n",
       "      <td>60.0</td>\n",
       "      <td>9550</td>\n",
       "      <td>Pave</td>\n",
       "      <td>NaN</td>\n",
       "      <td>IR1</td>\n",
       "      <td>Lvl</td>\n",
       "      <td>AllPub</td>\n",
       "      <td>...</td>\n",
       "      <td>0</td>\n",
       "      <td>NaN</td>\n",
       "      <td>NaN</td>\n",
       "      <td>NaN</td>\n",
       "      <td>0</td>\n",
       "      <td>2</td>\n",
       "      <td>2006</td>\n",
       "      <td>WD</td>\n",
       "      <td>Abnorml</td>\n",
       "      <td>140000</td>\n",
       "    </tr>\n",
       "    <tr>\n",
       "      <th>4</th>\n",
       "      <td>5</td>\n",
       "      <td>60</td>\n",
       "      <td>RL</td>\n",
       "      <td>84.0</td>\n",
       "      <td>14260</td>\n",
       "      <td>Pave</td>\n",
       "      <td>NaN</td>\n",
       "      <td>IR1</td>\n",
       "      <td>Lvl</td>\n",
       "      <td>AllPub</td>\n",
       "      <td>...</td>\n",
       "      <td>0</td>\n",
       "      <td>NaN</td>\n",
       "      <td>NaN</td>\n",
       "      <td>NaN</td>\n",
       "      <td>0</td>\n",
       "      <td>12</td>\n",
       "      <td>2008</td>\n",
       "      <td>WD</td>\n",
       "      <td>Normal</td>\n",
       "      <td>250000</td>\n",
       "    </tr>\n",
       "  </tbody>\n",
       "</table>\n",
       "<p>5 rows × 81 columns</p>\n",
       "</div>"
      ],
      "text/plain": [
       "   Id  MSSubClass MSZoning  LotFrontage  LotArea Street Alley LotShape  \\\n",
       "0   1          60       RL         65.0     8450   Pave   NaN      Reg   \n",
       "1   2          20       RL         80.0     9600   Pave   NaN      Reg   \n",
       "2   3          60       RL         68.0    11250   Pave   NaN      IR1   \n",
       "3   4          70       RL         60.0     9550   Pave   NaN      IR1   \n",
       "4   5          60       RL         84.0    14260   Pave   NaN      IR1   \n",
       "\n",
       "  LandContour Utilities  ... PoolArea PoolQC Fence MiscFeature MiscVal MoSold  \\\n",
       "0         Lvl    AllPub  ...        0    NaN   NaN         NaN       0      2   \n",
       "1         Lvl    AllPub  ...        0    NaN   NaN         NaN       0      5   \n",
       "2         Lvl    AllPub  ...        0    NaN   NaN         NaN       0      9   \n",
       "3         Lvl    AllPub  ...        0    NaN   NaN         NaN       0      2   \n",
       "4         Lvl    AllPub  ...        0    NaN   NaN         NaN       0     12   \n",
       "\n",
       "  YrSold  SaleType  SaleCondition  SalePrice  \n",
       "0   2008        WD         Normal     208500  \n",
       "1   2007        WD         Normal     181500  \n",
       "2   2008        WD         Normal     223500  \n",
       "3   2006        WD        Abnorml     140000  \n",
       "4   2008        WD         Normal     250000  \n",
       "\n",
       "[5 rows x 81 columns]"
      ]
     },
     "execution_count": 40,
     "metadata": {},
     "output_type": "execute_result"
    }
   ],
   "source": [
    "df.head()"
   ]
  },
  {
   "cell_type": "code",
   "execution_count": 41,
   "metadata": {},
   "outputs": [
    {
     "data": {
      "text/plain": [
       "2009    338\n",
       "2007    329\n",
       "2006    314\n",
       "2008    304\n",
       "2010    175\n",
       "Name: YrSold, dtype: int64"
      ]
     },
     "execution_count": 41,
     "metadata": {},
     "output_type": "execute_result"
    }
   ],
   "source": [
    "df[\"YrSold\"].value_counts()"
   ]
  },
  {
   "cell_type": "code",
   "execution_count": 42,
   "metadata": {},
   "outputs": [],
   "source": [
    "def create_timestamp_column(df, column_name_year, column_name_month):\n",
    "    df['timestamp'] = pd.to_datetime(df[column_name_year].astype(str) + '-' + df[column_name_month].astype(str), format='%Y-%m')\n",
    "    \n",
    "    return df"
   ]
  },
  {
   "cell_type": "code",
   "execution_count": 43,
   "metadata": {},
   "outputs": [],
   "source": [
    "df = create_timestamp_column(df, column_name_year=\"YrSold\", column_name_month=\"MoSold\")"
   ]
  },
  {
   "cell_type": "code",
   "execution_count": 44,
   "metadata": {},
   "outputs": [],
   "source": [
    "def filter_rows_by_years(df, years, months=None):\n",
    "    filtered_df = df[df['timestamp'].dt.year.isin(years)]\n",
    "    \n",
    "    if months:\n",
    "        filtered_df = filtered_df[filtered_df['timestamp'].dt.month.isin(months)]\n",
    "    \n",
    "    return filtered_df"
   ]
  },
  {
   "cell_type": "code",
   "execution_count": 45,
   "metadata": {},
   "outputs": [],
   "source": [
    "df = df[[\"MSSubClass\",\"MSZoning\",\"LotFrontage\",\"LotArea\", \"Street\",\"timestamp\",\"SalePrice\"]]"
   ]
  },
  {
   "cell_type": "code",
   "execution_count": 46,
   "metadata": {},
   "outputs": [],
   "source": [
    "median_sale_price = df[\"SalePrice\"].median()\n",
    "df['binarized'] = df[\"SalePrice\"].apply(lambda x: 1 if x > median_sale_price else 0)"
   ]
  },
  {
   "cell_type": "code",
   "execution_count": 47,
   "metadata": {},
   "outputs": [
    {
     "data": {
      "text/html": [
       "<div>\n",
       "<style scoped>\n",
       "    .dataframe tbody tr th:only-of-type {\n",
       "        vertical-align: middle;\n",
       "    }\n",
       "\n",
       "    .dataframe tbody tr th {\n",
       "        vertical-align: top;\n",
       "    }\n",
       "\n",
       "    .dataframe thead th {\n",
       "        text-align: right;\n",
       "    }\n",
       "</style>\n",
       "<table border=\"1\" class=\"dataframe\">\n",
       "  <thead>\n",
       "    <tr style=\"text-align: right;\">\n",
       "      <th></th>\n",
       "      <th>MSSubClass</th>\n",
       "      <th>MSZoning</th>\n",
       "      <th>LotFrontage</th>\n",
       "      <th>LotArea</th>\n",
       "      <th>Street</th>\n",
       "      <th>timestamp</th>\n",
       "      <th>SalePrice</th>\n",
       "      <th>binarized</th>\n",
       "    </tr>\n",
       "  </thead>\n",
       "  <tbody>\n",
       "    <tr>\n",
       "      <th>0</th>\n",
       "      <td>60</td>\n",
       "      <td>RL</td>\n",
       "      <td>65.0</td>\n",
       "      <td>8450</td>\n",
       "      <td>Pave</td>\n",
       "      <td>2008-02-01</td>\n",
       "      <td>208500</td>\n",
       "      <td>1</td>\n",
       "    </tr>\n",
       "    <tr>\n",
       "      <th>1</th>\n",
       "      <td>20</td>\n",
       "      <td>RL</td>\n",
       "      <td>80.0</td>\n",
       "      <td>9600</td>\n",
       "      <td>Pave</td>\n",
       "      <td>2007-05-01</td>\n",
       "      <td>181500</td>\n",
       "      <td>1</td>\n",
       "    </tr>\n",
       "    <tr>\n",
       "      <th>2</th>\n",
       "      <td>60</td>\n",
       "      <td>RL</td>\n",
       "      <td>68.0</td>\n",
       "      <td>11250</td>\n",
       "      <td>Pave</td>\n",
       "      <td>2008-09-01</td>\n",
       "      <td>223500</td>\n",
       "      <td>1</td>\n",
       "    </tr>\n",
       "    <tr>\n",
       "      <th>3</th>\n",
       "      <td>70</td>\n",
       "      <td>RL</td>\n",
       "      <td>60.0</td>\n",
       "      <td>9550</td>\n",
       "      <td>Pave</td>\n",
       "      <td>2006-02-01</td>\n",
       "      <td>140000</td>\n",
       "      <td>0</td>\n",
       "    </tr>\n",
       "    <tr>\n",
       "      <th>4</th>\n",
       "      <td>60</td>\n",
       "      <td>RL</td>\n",
       "      <td>84.0</td>\n",
       "      <td>14260</td>\n",
       "      <td>Pave</td>\n",
       "      <td>2008-12-01</td>\n",
       "      <td>250000</td>\n",
       "      <td>1</td>\n",
       "    </tr>\n",
       "    <tr>\n",
       "      <th>...</th>\n",
       "      <td>...</td>\n",
       "      <td>...</td>\n",
       "      <td>...</td>\n",
       "      <td>...</td>\n",
       "      <td>...</td>\n",
       "      <td>...</td>\n",
       "      <td>...</td>\n",
       "      <td>...</td>\n",
       "    </tr>\n",
       "    <tr>\n",
       "      <th>1455</th>\n",
       "      <td>60</td>\n",
       "      <td>RL</td>\n",
       "      <td>62.0</td>\n",
       "      <td>7917</td>\n",
       "      <td>Pave</td>\n",
       "      <td>2007-08-01</td>\n",
       "      <td>175000</td>\n",
       "      <td>1</td>\n",
       "    </tr>\n",
       "    <tr>\n",
       "      <th>1456</th>\n",
       "      <td>20</td>\n",
       "      <td>RL</td>\n",
       "      <td>85.0</td>\n",
       "      <td>13175</td>\n",
       "      <td>Pave</td>\n",
       "      <td>2010-02-01</td>\n",
       "      <td>210000</td>\n",
       "      <td>1</td>\n",
       "    </tr>\n",
       "    <tr>\n",
       "      <th>1457</th>\n",
       "      <td>70</td>\n",
       "      <td>RL</td>\n",
       "      <td>66.0</td>\n",
       "      <td>9042</td>\n",
       "      <td>Pave</td>\n",
       "      <td>2010-05-01</td>\n",
       "      <td>266500</td>\n",
       "      <td>1</td>\n",
       "    </tr>\n",
       "    <tr>\n",
       "      <th>1458</th>\n",
       "      <td>20</td>\n",
       "      <td>RL</td>\n",
       "      <td>68.0</td>\n",
       "      <td>9717</td>\n",
       "      <td>Pave</td>\n",
       "      <td>2010-04-01</td>\n",
       "      <td>142125</td>\n",
       "      <td>0</td>\n",
       "    </tr>\n",
       "    <tr>\n",
       "      <th>1459</th>\n",
       "      <td>20</td>\n",
       "      <td>RL</td>\n",
       "      <td>75.0</td>\n",
       "      <td>9937</td>\n",
       "      <td>Pave</td>\n",
       "      <td>2008-06-01</td>\n",
       "      <td>147500</td>\n",
       "      <td>0</td>\n",
       "    </tr>\n",
       "  </tbody>\n",
       "</table>\n",
       "<p>1460 rows × 8 columns</p>\n",
       "</div>"
      ],
      "text/plain": [
       "      MSSubClass MSZoning  LotFrontage  LotArea Street  timestamp  SalePrice  \\\n",
       "0             60       RL         65.0     8450   Pave 2008-02-01     208500   \n",
       "1             20       RL         80.0     9600   Pave 2007-05-01     181500   \n",
       "2             60       RL         68.0    11250   Pave 2008-09-01     223500   \n",
       "3             70       RL         60.0     9550   Pave 2006-02-01     140000   \n",
       "4             60       RL         84.0    14260   Pave 2008-12-01     250000   \n",
       "...          ...      ...          ...      ...    ...        ...        ...   \n",
       "1455          60       RL         62.0     7917   Pave 2007-08-01     175000   \n",
       "1456          20       RL         85.0    13175   Pave 2010-02-01     210000   \n",
       "1457          70       RL         66.0     9042   Pave 2010-05-01     266500   \n",
       "1458          20       RL         68.0     9717   Pave 2010-04-01     142125   \n",
       "1459          20       RL         75.0     9937   Pave 2008-06-01     147500   \n",
       "\n",
       "      binarized  \n",
       "0             1  \n",
       "1             1  \n",
       "2             1  \n",
       "3             0  \n",
       "4             1  \n",
       "...         ...  \n",
       "1455          1  \n",
       "1456          1  \n",
       "1457          1  \n",
       "1458          0  \n",
       "1459          0  \n",
       "\n",
       "[1460 rows x 8 columns]"
      ]
     },
     "execution_count": 47,
     "metadata": {},
     "output_type": "execute_result"
    }
   ],
   "source": [
    "df"
   ]
  },
  {
   "cell_type": "code",
   "execution_count": 88,
   "metadata": {},
   "outputs": [],
   "source": [
    "reference = filter_rows_by_years(df, [2007, 2008])\n",
    "analysis = filter_rows_by_years(df, [2009, 2010])"
   ]
  },
  {
   "cell_type": "code",
   "execution_count": 89,
   "metadata": {},
   "outputs": [],
   "source": [
    "scaler = MinMaxScaler()"
   ]
  },
  {
   "cell_type": "code",
   "execution_count": 90,
   "metadata": {},
   "outputs": [
    {
     "name": "stderr",
     "output_type": "stream",
     "text": [
      "C:\\Users\\leoal\\AppData\\Local\\Temp\\ipykernel_16288\\667280526.py:1: SettingWithCopyWarning:\n",
      "\n",
      "\n",
      "A value is trying to be set on a copy of a slice from a DataFrame.\n",
      "Try using .loc[row_indexer,col_indexer] = value instead\n",
      "\n",
      "See the caveats in the documentation: https://pandas.pydata.org/pandas-docs/stable/user_guide/indexing.html#returning-a-view-versus-a-copy\n",
      "\n"
     ]
    }
   ],
   "source": [
    "reference[\"proba_pred\"] = scaler.fit_transform(X=np.array(reference[\"SalePrice\"]).reshape(-1,1), y=reference[\"binarized\"])"
   ]
  },
  {
   "cell_type": "code",
   "execution_count": 91,
   "metadata": {},
   "outputs": [
    {
     "name": "stderr",
     "output_type": "stream",
     "text": [
      "C:\\Users\\leoal\\AppData\\Local\\Temp\\ipykernel_16288\\2254347285.py:1: SettingWithCopyWarning:\n",
      "\n",
      "\n",
      "A value is trying to be set on a copy of a slice from a DataFrame.\n",
      "Try using .loc[row_indexer,col_indexer] = value instead\n",
      "\n",
      "See the caveats in the documentation: https://pandas.pydata.org/pandas-docs/stable/user_guide/indexing.html#returning-a-view-versus-a-copy\n",
      "\n"
     ]
    }
   ],
   "source": [
    "analysis[\"proba_pred\"] = scaler.transform(X=np.array(analysis[\"SalePrice\"]).reshape(-1,1))"
   ]
  },
  {
   "cell_type": "code",
   "execution_count": 92,
   "metadata": {},
   "outputs": [],
   "source": [
    "feature_column_names = [\"MSSubClass\",\n",
    "                        \"MSZoning\",\n",
    "                        \"LotFrontage\",\n",
    "                        \"LotArea\",\n",
    "                        \"Street\"\n",
    "                        ]"
   ]
  },
  {
   "cell_type": "code",
   "execution_count": 93,
   "metadata": {},
   "outputs": [],
   "source": [
    "def calculate_drift(reference, analysis, feature_column_names):  \n",
    "    calc = nml.DataReconstructionDriftCalculator(column_names=feature_column_names,\n",
    "                                                 timestamp_column_name='timestamp'\n",
    "                                                 )\n",
    "    calc.fit(reference)\n",
    "\n",
    "    results = calc.calculate(analysis)\n",
    "\n",
    "    return results"
   ]
  },
  {
   "cell_type": "code",
   "execution_count": 125,
   "metadata": {},
   "outputs": [
    {
     "data": {
      "text/plain": [
       "nannyml.drift.multivariate.data_reconstruction.result.Result"
      ]
     },
     "execution_count": 125,
     "metadata": {},
     "output_type": "execute_result"
    }
   ],
   "source": [
    "type(result_years)"
   ]
  },
  {
   "cell_type": "code",
   "execution_count": 94,
   "metadata": {},
   "outputs": [],
   "source": [
    "result_years = calculate_drift(reference, analysis, feature_column_names)"
   ]
  },
  {
   "cell_type": "code",
   "execution_count": 95,
   "metadata": {},
   "outputs": [
    {
     "data": {
      "text/html": [
       "<div>\n",
       "<style scoped>\n",
       "    .dataframe tbody tr th:only-of-type {\n",
       "        vertical-align: middle;\n",
       "    }\n",
       "\n",
       "    .dataframe tbody tr th {\n",
       "        vertical-align: top;\n",
       "    }\n",
       "\n",
       "    .dataframe thead tr th {\n",
       "        text-align: left;\n",
       "    }\n",
       "</style>\n",
       "<table border=\"1\" class=\"dataframe\">\n",
       "  <thead>\n",
       "    <tr>\n",
       "      <th></th>\n",
       "      <th colspan=\"7\" halign=\"left\">chunk</th>\n",
       "      <th colspan=\"7\" halign=\"left\">reconstruction_error</th>\n",
       "    </tr>\n",
       "    <tr>\n",
       "      <th></th>\n",
       "      <th>key</th>\n",
       "      <th>chunk_index</th>\n",
       "      <th>start_index</th>\n",
       "      <th>end_index</th>\n",
       "      <th>start_date</th>\n",
       "      <th>end_date</th>\n",
       "      <th>period</th>\n",
       "      <th>sampling_error</th>\n",
       "      <th>value</th>\n",
       "      <th>upper_confidence_boundary</th>\n",
       "      <th>lower_confidence_boundary</th>\n",
       "      <th>upper_threshold</th>\n",
       "      <th>lower_threshold</th>\n",
       "      <th>alert</th>\n",
       "    </tr>\n",
       "  </thead>\n",
       "  <tbody>\n",
       "    <tr>\n",
       "      <th>0</th>\n",
       "      <td>[0:50]</td>\n",
       "      <td>0</td>\n",
       "      <td>0</td>\n",
       "      <td>50</td>\n",
       "      <td>2009-01-01</td>\n",
       "      <td>2009-04-01</td>\n",
       "      <td>analysis</td>\n",
       "      <td>0.112286</td>\n",
       "      <td>0.630272</td>\n",
       "      <td>0.967130</td>\n",
       "      <td>0.293413</td>\n",
       "      <td>1.056872</td>\n",
       "      <td>0.466109</td>\n",
       "      <td>False</td>\n",
       "    </tr>\n",
       "    <tr>\n",
       "      <th>1</th>\n",
       "      <td>[51:101]</td>\n",
       "      <td>1</td>\n",
       "      <td>51</td>\n",
       "      <td>101</td>\n",
       "      <td>2009-04-01</td>\n",
       "      <td>2009-05-01</td>\n",
       "      <td>analysis</td>\n",
       "      <td>0.112286</td>\n",
       "      <td>0.778354</td>\n",
       "      <td>1.115212</td>\n",
       "      <td>0.441496</td>\n",
       "      <td>1.056872</td>\n",
       "      <td>0.466109</td>\n",
       "      <td>False</td>\n",
       "    </tr>\n",
       "    <tr>\n",
       "      <th>2</th>\n",
       "      <td>[102:152]</td>\n",
       "      <td>2</td>\n",
       "      <td>102</td>\n",
       "      <td>152</td>\n",
       "      <td>2009-05-01</td>\n",
       "      <td>2009-06-01</td>\n",
       "      <td>analysis</td>\n",
       "      <td>0.112286</td>\n",
       "      <td>0.828765</td>\n",
       "      <td>1.165624</td>\n",
       "      <td>0.491907</td>\n",
       "      <td>1.056872</td>\n",
       "      <td>0.466109</td>\n",
       "      <td>False</td>\n",
       "    </tr>\n",
       "    <tr>\n",
       "      <th>3</th>\n",
       "      <td>[153:203]</td>\n",
       "      <td>3</td>\n",
       "      <td>153</td>\n",
       "      <td>203</td>\n",
       "      <td>2009-06-01</td>\n",
       "      <td>2009-07-01</td>\n",
       "      <td>analysis</td>\n",
       "      <td>0.112286</td>\n",
       "      <td>0.791450</td>\n",
       "      <td>1.128308</td>\n",
       "      <td>0.454591</td>\n",
       "      <td>1.056872</td>\n",
       "      <td>0.466109</td>\n",
       "      <td>False</td>\n",
       "    </tr>\n",
       "    <tr>\n",
       "      <th>4</th>\n",
       "      <td>[204:254]</td>\n",
       "      <td>4</td>\n",
       "      <td>204</td>\n",
       "      <td>254</td>\n",
       "      <td>2009-07-01</td>\n",
       "      <td>2009-09-01</td>\n",
       "      <td>analysis</td>\n",
       "      <td>0.112286</td>\n",
       "      <td>0.657601</td>\n",
       "      <td>0.994460</td>\n",
       "      <td>0.320743</td>\n",
       "      <td>1.056872</td>\n",
       "      <td>0.466109</td>\n",
       "      <td>False</td>\n",
       "    </tr>\n",
       "    <tr>\n",
       "      <th>5</th>\n",
       "      <td>[255:305]</td>\n",
       "      <td>5</td>\n",
       "      <td>255</td>\n",
       "      <td>305</td>\n",
       "      <td>2009-09-01</td>\n",
       "      <td>2009-11-01</td>\n",
       "      <td>analysis</td>\n",
       "      <td>0.112286</td>\n",
       "      <td>0.787139</td>\n",
       "      <td>1.123997</td>\n",
       "      <td>0.450280</td>\n",
       "      <td>1.056872</td>\n",
       "      <td>0.466109</td>\n",
       "      <td>False</td>\n",
       "    </tr>\n",
       "    <tr>\n",
       "      <th>6</th>\n",
       "      <td>[306:356]</td>\n",
       "      <td>6</td>\n",
       "      <td>306</td>\n",
       "      <td>356</td>\n",
       "      <td>2009-11-01</td>\n",
       "      <td>2010-02-01</td>\n",
       "      <td>analysis</td>\n",
       "      <td>0.112286</td>\n",
       "      <td>0.712281</td>\n",
       "      <td>1.049140</td>\n",
       "      <td>0.375423</td>\n",
       "      <td>1.056872</td>\n",
       "      <td>0.466109</td>\n",
       "      <td>False</td>\n",
       "    </tr>\n",
       "    <tr>\n",
       "      <th>7</th>\n",
       "      <td>[357:407]</td>\n",
       "      <td>7</td>\n",
       "      <td>357</td>\n",
       "      <td>407</td>\n",
       "      <td>2010-02-01</td>\n",
       "      <td>2010-04-01</td>\n",
       "      <td>analysis</td>\n",
       "      <td>0.112286</td>\n",
       "      <td>0.716112</td>\n",
       "      <td>1.052970</td>\n",
       "      <td>0.379253</td>\n",
       "      <td>1.056872</td>\n",
       "      <td>0.466109</td>\n",
       "      <td>False</td>\n",
       "    </tr>\n",
       "    <tr>\n",
       "      <th>8</th>\n",
       "      <td>[408:458]</td>\n",
       "      <td>8</td>\n",
       "      <td>408</td>\n",
       "      <td>458</td>\n",
       "      <td>2010-04-01</td>\n",
       "      <td>2010-05-01</td>\n",
       "      <td>analysis</td>\n",
       "      <td>0.112286</td>\n",
       "      <td>0.798214</td>\n",
       "      <td>1.135072</td>\n",
       "      <td>0.461355</td>\n",
       "      <td>1.056872</td>\n",
       "      <td>0.466109</td>\n",
       "      <td>False</td>\n",
       "    </tr>\n",
       "    <tr>\n",
       "      <th>9</th>\n",
       "      <td>[510:509]</td>\n",
       "      <td>9</td>\n",
       "      <td>459</td>\n",
       "      <td>512</td>\n",
       "      <td>2010-07-01</td>\n",
       "      <td>2010-07-01</td>\n",
       "      <td>analysis</td>\n",
       "      <td>0.109123</td>\n",
       "      <td>1.106609</td>\n",
       "      <td>1.433977</td>\n",
       "      <td>0.779242</td>\n",
       "      <td>1.056872</td>\n",
       "      <td>0.466109</td>\n",
       "      <td>True</td>\n",
       "    </tr>\n",
       "  </tbody>\n",
       "</table>\n",
       "</div>"
      ],
      "text/plain": [
       "       chunk                                                          \\\n",
       "         key chunk_index start_index end_index start_date   end_date   \n",
       "0     [0:50]           0           0        50 2009-01-01 2009-04-01   \n",
       "1   [51:101]           1          51       101 2009-04-01 2009-05-01   \n",
       "2  [102:152]           2         102       152 2009-05-01 2009-06-01   \n",
       "3  [153:203]           3         153       203 2009-06-01 2009-07-01   \n",
       "4  [204:254]           4         204       254 2009-07-01 2009-09-01   \n",
       "5  [255:305]           5         255       305 2009-09-01 2009-11-01   \n",
       "6  [306:356]           6         306       356 2009-11-01 2010-02-01   \n",
       "7  [357:407]           7         357       407 2010-02-01 2010-04-01   \n",
       "8  [408:458]           8         408       458 2010-04-01 2010-05-01   \n",
       "9  [510:509]           9         459       512 2010-07-01 2010-07-01   \n",
       "\n",
       "            reconstruction_error                                      \\\n",
       "     period       sampling_error     value upper_confidence_boundary   \n",
       "0  analysis             0.112286  0.630272                  0.967130   \n",
       "1  analysis             0.112286  0.778354                  1.115212   \n",
       "2  analysis             0.112286  0.828765                  1.165624   \n",
       "3  analysis             0.112286  0.791450                  1.128308   \n",
       "4  analysis             0.112286  0.657601                  0.994460   \n",
       "5  analysis             0.112286  0.787139                  1.123997   \n",
       "6  analysis             0.112286  0.712281                  1.049140   \n",
       "7  analysis             0.112286  0.716112                  1.052970   \n",
       "8  analysis             0.112286  0.798214                  1.135072   \n",
       "9  analysis             0.109123  1.106609                  1.433977   \n",
       "\n",
       "                                                                    \n",
       "  lower_confidence_boundary upper_threshold lower_threshold  alert  \n",
       "0                  0.293413        1.056872        0.466109  False  \n",
       "1                  0.441496        1.056872        0.466109  False  \n",
       "2                  0.491907        1.056872        0.466109  False  \n",
       "3                  0.454591        1.056872        0.466109  False  \n",
       "4                  0.320743        1.056872        0.466109  False  \n",
       "5                  0.450280        1.056872        0.466109  False  \n",
       "6                  0.375423        1.056872        0.466109  False  \n",
       "7                  0.379253        1.056872        0.466109  False  \n",
       "8                  0.461355        1.056872        0.466109  False  \n",
       "9                  0.779242        1.056872        0.466109   True  "
      ]
     },
     "metadata": {},
     "output_type": "display_data"
    }
   ],
   "source": [
    "display(result_years.filter(period='analysis').to_df())"
   ]
  },
  {
   "cell_type": "code",
   "execution_count": 96,
   "metadata": {},
   "outputs": [
    {
     "data": {
      "text/html": [
       "<div>\n",
       "<style scoped>\n",
       "    .dataframe tbody tr th:only-of-type {\n",
       "        vertical-align: middle;\n",
       "    }\n",
       "\n",
       "    .dataframe tbody tr th {\n",
       "        vertical-align: top;\n",
       "    }\n",
       "\n",
       "    .dataframe thead tr th {\n",
       "        text-align: left;\n",
       "    }\n",
       "</style>\n",
       "<table border=\"1\" class=\"dataframe\">\n",
       "  <thead>\n",
       "    <tr>\n",
       "      <th></th>\n",
       "      <th colspan=\"7\" halign=\"left\">chunk</th>\n",
       "      <th colspan=\"7\" halign=\"left\">reconstruction_error</th>\n",
       "    </tr>\n",
       "    <tr>\n",
       "      <th></th>\n",
       "      <th>key</th>\n",
       "      <th>chunk_index</th>\n",
       "      <th>start_index</th>\n",
       "      <th>end_index</th>\n",
       "      <th>start_date</th>\n",
       "      <th>end_date</th>\n",
       "      <th>period</th>\n",
       "      <th>sampling_error</th>\n",
       "      <th>value</th>\n",
       "      <th>upper_confidence_boundary</th>\n",
       "      <th>lower_confidence_boundary</th>\n",
       "      <th>upper_threshold</th>\n",
       "      <th>lower_threshold</th>\n",
       "      <th>alert</th>\n",
       "    </tr>\n",
       "  </thead>\n",
       "  <tbody>\n",
       "    <tr>\n",
       "      <th>0</th>\n",
       "      <td>[0:62]</td>\n",
       "      <td>0</td>\n",
       "      <td>0</td>\n",
       "      <td>62</td>\n",
       "      <td>2007-01-01</td>\n",
       "      <td>2007-04-01</td>\n",
       "      <td>reference</td>\n",
       "      <td>0.101028</td>\n",
       "      <td>0.607666</td>\n",
       "      <td>0.910749</td>\n",
       "      <td>0.304582</td>\n",
       "      <td>1.056872</td>\n",
       "      <td>0.466109</td>\n",
       "      <td>False</td>\n",
       "    </tr>\n",
       "    <tr>\n",
       "      <th>1</th>\n",
       "      <td>[63:125]</td>\n",
       "      <td>1</td>\n",
       "      <td>63</td>\n",
       "      <td>125</td>\n",
       "      <td>2007-04-01</td>\n",
       "      <td>2007-06-01</td>\n",
       "      <td>reference</td>\n",
       "      <td>0.101028</td>\n",
       "      <td>0.809938</td>\n",
       "      <td>1.113022</td>\n",
       "      <td>0.506855</td>\n",
       "      <td>1.056872</td>\n",
       "      <td>0.466109</td>\n",
       "      <td>False</td>\n",
       "    </tr>\n",
       "    <tr>\n",
       "      <th>2</th>\n",
       "      <td>[126:188]</td>\n",
       "      <td>2</td>\n",
       "      <td>126</td>\n",
       "      <td>188</td>\n",
       "      <td>2007-06-01</td>\n",
       "      <td>2007-07-01</td>\n",
       "      <td>reference</td>\n",
       "      <td>0.101028</td>\n",
       "      <td>0.922155</td>\n",
       "      <td>1.225239</td>\n",
       "      <td>0.619072</td>\n",
       "      <td>1.056872</td>\n",
       "      <td>0.466109</td>\n",
       "      <td>False</td>\n",
       "    </tr>\n",
       "    <tr>\n",
       "      <th>3</th>\n",
       "      <td>[189:251]</td>\n",
       "      <td>3</td>\n",
       "      <td>189</td>\n",
       "      <td>251</td>\n",
       "      <td>2007-07-01</td>\n",
       "      <td>2007-08-01</td>\n",
       "      <td>reference</td>\n",
       "      <td>0.101028</td>\n",
       "      <td>0.735069</td>\n",
       "      <td>1.038153</td>\n",
       "      <td>0.431986</td>\n",
       "      <td>1.056872</td>\n",
       "      <td>0.466109</td>\n",
       "      <td>False</td>\n",
       "    </tr>\n",
       "    <tr>\n",
       "      <th>4</th>\n",
       "      <td>[252:314]</td>\n",
       "      <td>4</td>\n",
       "      <td>252</td>\n",
       "      <td>314</td>\n",
       "      <td>2007-08-01</td>\n",
       "      <td>2007-12-01</td>\n",
       "      <td>reference</td>\n",
       "      <td>0.101028</td>\n",
       "      <td>0.660695</td>\n",
       "      <td>0.963779</td>\n",
       "      <td>0.357612</td>\n",
       "      <td>1.056872</td>\n",
       "      <td>0.466109</td>\n",
       "      <td>False</td>\n",
       "    </tr>\n",
       "    <tr>\n",
       "      <th>5</th>\n",
       "      <td>[315:377]</td>\n",
       "      <td>5</td>\n",
       "      <td>315</td>\n",
       "      <td>377</td>\n",
       "      <td>2007-12-01</td>\n",
       "      <td>2008-04-01</td>\n",
       "      <td>reference</td>\n",
       "      <td>0.101028</td>\n",
       "      <td>0.830604</td>\n",
       "      <td>1.133687</td>\n",
       "      <td>0.527521</td>\n",
       "      <td>1.056872</td>\n",
       "      <td>0.466109</td>\n",
       "      <td>False</td>\n",
       "    </tr>\n",
       "    <tr>\n",
       "      <th>6</th>\n",
       "      <td>[378:440]</td>\n",
       "      <td>6</td>\n",
       "      <td>378</td>\n",
       "      <td>440</td>\n",
       "      <td>2008-04-01</td>\n",
       "      <td>2008-06-01</td>\n",
       "      <td>reference</td>\n",
       "      <td>0.101028</td>\n",
       "      <td>0.702914</td>\n",
       "      <td>1.005997</td>\n",
       "      <td>0.399830</td>\n",
       "      <td>1.056872</td>\n",
       "      <td>0.466109</td>\n",
       "      <td>False</td>\n",
       "    </tr>\n",
       "    <tr>\n",
       "      <th>7</th>\n",
       "      <td>[441:503]</td>\n",
       "      <td>7</td>\n",
       "      <td>441</td>\n",
       "      <td>503</td>\n",
       "      <td>2008-06-01</td>\n",
       "      <td>2008-07-01</td>\n",
       "      <td>reference</td>\n",
       "      <td>0.101028</td>\n",
       "      <td>0.655071</td>\n",
       "      <td>0.958154</td>\n",
       "      <td>0.351987</td>\n",
       "      <td>1.056872</td>\n",
       "      <td>0.466109</td>\n",
       "      <td>False</td>\n",
       "    </tr>\n",
       "    <tr>\n",
       "      <th>8</th>\n",
       "      <td>[504:566]</td>\n",
       "      <td>8</td>\n",
       "      <td>504</td>\n",
       "      <td>566</td>\n",
       "      <td>2008-07-01</td>\n",
       "      <td>2008-09-01</td>\n",
       "      <td>reference</td>\n",
       "      <td>0.101028</td>\n",
       "      <td>0.863431</td>\n",
       "      <td>1.166515</td>\n",
       "      <td>0.560348</td>\n",
       "      <td>1.056872</td>\n",
       "      <td>0.466109</td>\n",
       "      <td>False</td>\n",
       "    </tr>\n",
       "    <tr>\n",
       "      <th>9</th>\n",
       "      <td>[630:629]</td>\n",
       "      <td>9</td>\n",
       "      <td>567</td>\n",
       "      <td>632</td>\n",
       "      <td>2008-12-01</td>\n",
       "      <td>2008-12-01</td>\n",
       "      <td>reference</td>\n",
       "      <td>0.098705</td>\n",
       "      <td>0.827365</td>\n",
       "      <td>1.123480</td>\n",
       "      <td>0.531250</td>\n",
       "      <td>1.056872</td>\n",
       "      <td>0.466109</td>\n",
       "      <td>False</td>\n",
       "    </tr>\n",
       "  </tbody>\n",
       "</table>\n",
       "</div>"
      ],
      "text/plain": [
       "       chunk                                                          \\\n",
       "         key chunk_index start_index end_index start_date   end_date   \n",
       "0     [0:62]           0           0        62 2007-01-01 2007-04-01   \n",
       "1   [63:125]           1          63       125 2007-04-01 2007-06-01   \n",
       "2  [126:188]           2         126       188 2007-06-01 2007-07-01   \n",
       "3  [189:251]           3         189       251 2007-07-01 2007-08-01   \n",
       "4  [252:314]           4         252       314 2007-08-01 2007-12-01   \n",
       "5  [315:377]           5         315       377 2007-12-01 2008-04-01   \n",
       "6  [378:440]           6         378       440 2008-04-01 2008-06-01   \n",
       "7  [441:503]           7         441       503 2008-06-01 2008-07-01   \n",
       "8  [504:566]           8         504       566 2008-07-01 2008-09-01   \n",
       "9  [630:629]           9         567       632 2008-12-01 2008-12-01   \n",
       "\n",
       "             reconstruction_error                                      \\\n",
       "      period       sampling_error     value upper_confidence_boundary   \n",
       "0  reference             0.101028  0.607666                  0.910749   \n",
       "1  reference             0.101028  0.809938                  1.113022   \n",
       "2  reference             0.101028  0.922155                  1.225239   \n",
       "3  reference             0.101028  0.735069                  1.038153   \n",
       "4  reference             0.101028  0.660695                  0.963779   \n",
       "5  reference             0.101028  0.830604                  1.133687   \n",
       "6  reference             0.101028  0.702914                  1.005997   \n",
       "7  reference             0.101028  0.655071                  0.958154   \n",
       "8  reference             0.101028  0.863431                  1.166515   \n",
       "9  reference             0.098705  0.827365                  1.123480   \n",
       "\n",
       "                                                                    \n",
       "  lower_confidence_boundary upper_threshold lower_threshold  alert  \n",
       "0                  0.304582        1.056872        0.466109  False  \n",
       "1                  0.506855        1.056872        0.466109  False  \n",
       "2                  0.619072        1.056872        0.466109  False  \n",
       "3                  0.431986        1.056872        0.466109  False  \n",
       "4                  0.357612        1.056872        0.466109  False  \n",
       "5                  0.527521        1.056872        0.466109  False  \n",
       "6                  0.399830        1.056872        0.466109  False  \n",
       "7                  0.351987        1.056872        0.466109  False  \n",
       "8                  0.560348        1.056872        0.466109  False  \n",
       "9                  0.531250        1.056872        0.466109  False  "
      ]
     },
     "metadata": {},
     "output_type": "display_data"
    }
   ],
   "source": [
    "display(result_years.filter(period='reference').to_df())"
   ]
  },
  {
   "cell_type": "code",
   "execution_count": 97,
   "metadata": {},
   "outputs": [
    {
     "data": {
      "application/vnd.plotly.v1+json": {
       "config": {
        "plotlyServerURL": "https://plot.ly"
       },
       "data": [
        {
         "hoverinfo": "skip",
         "legendgroup": "metric_reference",
         "line": {
          "color": "#00c8e5",
          "shape": "hv",
          "width": 2
         },
         "mode": "lines",
         "name": "Metric",
         "showlegend": true,
         "type": "scatter",
         "x": [
          "2007-01-01T00:00:00",
          "2007-04-01T00:00:00",
          "2007-06-01T00:00:00",
          "2007-07-01T00:00:00",
          "2007-08-01T00:00:00",
          "2007-12-01T00:00:00",
          "2008-04-01T00:00:00",
          "2008-06-01T00:00:00",
          "2008-07-01T00:00:00",
          "2008-12-01T00:00:00",
          "2008-12-01T00:00:00"
         ],
         "y": [
          0.6076659286368773,
          0.8099382252063614,
          0.9221554170595738,
          0.7350693460421422,
          0.6606953085728124,
          0.8306039589267236,
          0.7029136696161098,
          0.655070510247605,
          0.8634313601930521,
          0.8273652513054316,
          0.8273652513054316
         ]
        },
        {
         "customdata": [
          [
           "Data reconstruction drift",
           "<b style=\"color:#00c8e5;line-height:60px\">Reference</b>",
           "",
           "[0:62]",
           "From <b>Jan-01-2007</b> to <b>Apr-01-2007</b>",
           0.6077,
           0.3031
          ],
          [
           "Data reconstruction drift",
           "<b style=\"color:#00c8e5;line-height:60px\">Reference</b>",
           "",
           "[63:125]",
           "From <b>Apr-01-2007</b> to <b>Jun-01-2007</b>",
           0.8099,
           0.3031
          ],
          [
           "Data reconstruction drift",
           "<b style=\"color:#00c8e5;line-height:60px\">Reference</b>",
           "",
           "[126:188]",
           "From <b>Jun-01-2007</b> to <b>Jul-01-2007</b>",
           0.9222,
           0.3031
          ],
          [
           "Data reconstruction drift",
           "<b style=\"color:#00c8e5;line-height:60px\">Reference</b>",
           "",
           "[189:251]",
           "From <b>Jul-01-2007</b> to <b>Aug-01-2007</b>",
           0.7351,
           0.3031
          ],
          [
           "Data reconstruction drift",
           "<b style=\"color:#00c8e5;line-height:60px\">Reference</b>",
           "",
           "[252:314]",
           "From <b>Aug-01-2007</b> to <b>Dec-01-2007</b>",
           0.6607,
           0.3031
          ],
          [
           "Data reconstruction drift",
           "<b style=\"color:#00c8e5;line-height:60px\">Reference</b>",
           "",
           "[315:377]",
           "From <b>Dec-01-2007</b> to <b>Apr-01-2008</b>",
           0.8306,
           0.3031
          ],
          [
           "Data reconstruction drift",
           "<b style=\"color:#00c8e5;line-height:60px\">Reference</b>",
           "",
           "[378:440]",
           "From <b>Apr-01-2008</b> to <b>Jun-01-2008</b>",
           0.7029,
           0.3031
          ],
          [
           "Data reconstruction drift",
           "<b style=\"color:#00c8e5;line-height:60px\">Reference</b>",
           "",
           "[441:503]",
           "From <b>Jun-01-2008</b> to <b>Jul-01-2008</b>",
           0.6551,
           0.3031
          ],
          [
           "Data reconstruction drift",
           "<b style=\"color:#00c8e5;line-height:60px\">Reference</b>",
           "",
           "[504:566]",
           "From <b>Jul-01-2008</b> to <b>Sep-01-2008</b>",
           0.8634,
           0.3031
          ],
          [
           "Data reconstruction drift",
           "<b style=\"color:#00c8e5;line-height:60px\">Reference</b>",
           "",
           "[630:629]",
           "From <b>Dec-01-2008</b> to <b>Dec-01-2008</b>",
           0.8274,
           0.2961
          ]
         ],
         "hovertemplate": "%{customdata[1]} &nbsp; &nbsp; %{customdata[2]} <br />Chunk: <b>%{customdata[3]}</b> &nbsp; &nbsp; %{customdata[4]} <br />%{customdata[0]}: <b>%{customdata[5]}</b><br />Confidence band: +/- <b>%{customdata[6]}</b><br /><extra></extra>",
         "legendgroup": "metric_reference",
         "marker": {
          "color": "#00c8e5",
          "size": 5,
          "symbol": "circle"
         },
         "mode": "markers",
         "name": "Metric",
         "showlegend": false,
         "type": "scatter",
         "x": [
          "2007-02-15T00:00:00",
          "2007-05-01T12:00:00",
          "2007-06-16T00:00:00",
          "2007-07-16T12:00:00",
          "2007-10-01T00:00:00",
          "2008-01-31T00:00:00",
          "2008-05-01T12:00:00",
          "2008-06-16T00:00:00",
          "2008-09-15T12:00:00",
          "2008-12-01T00:00:00"
         ],
         "y": [
          0.6076659286368773,
          0.8099382252063614,
          0.9221554170595738,
          0.7350693460421422,
          0.6606953085728124,
          0.8306039589267236,
          0.7029136696161098,
          0.655070510247605,
          0.8634313601930521,
          0.8273652513054316,
          0.8273652513054316
         ]
        },
        {
         "hoverinfo": "skip",
         "legendgroup": "metric_analysis",
         "line": {
          "color": "#00c8e5",
          "shape": "hv",
          "width": 2
         },
         "mode": "lines",
         "name": "Metric",
         "showlegend": false,
         "type": "scatter",
         "x": [
          "2009-01-01T00:00:00",
          "2009-04-01T00:00:00",
          "2009-05-01T00:00:00",
          "2009-06-01T00:00:00",
          "2009-07-01T00:00:00",
          "2009-09-01T00:00:00",
          "2009-11-01T00:00:00",
          "2010-02-01T00:00:00",
          "2010-04-01T00:00:00",
          "2010-07-01T00:00:00",
          "2010-07-01T00:00:00"
         ],
         "y": [
          0.6302715732693761,
          0.7783540226420059,
          0.8287650904714112,
          0.7914497767775028,
          0.657601082155666,
          0.7871386397087351,
          0.7122812126059686,
          0.71611182512518,
          0.798213669395936,
          1.1066093982807048,
          1.1066093982807048
         ]
        },
        {
         "customdata": [
          [
           "Data reconstruction drift",
           "<b style=\"color:#3b0280;line-height:60px\">Analysis</b>",
           "",
           "[0:50]",
           "From <b>Jan-01-2009</b> to <b>Apr-01-2009</b>",
           0.6303,
           0.3369
          ],
          [
           "Data reconstruction drift",
           "<b style=\"color:#3b0280;line-height:60px\">Analysis</b>",
           "",
           "[51:101]",
           "From <b>Apr-01-2009</b> to <b>May-01-2009</b>",
           0.7784,
           0.3369
          ],
          [
           "Data reconstruction drift",
           "<b style=\"color:#3b0280;line-height:60px\">Analysis</b>",
           "",
           "[102:152]",
           "From <b>May-01-2009</b> to <b>Jun-01-2009</b>",
           0.8288,
           0.3369
          ],
          [
           "Data reconstruction drift",
           "<b style=\"color:#3b0280;line-height:60px\">Analysis</b>",
           "",
           "[153:203]",
           "From <b>Jun-01-2009</b> to <b>Jul-01-2009</b>",
           0.7914,
           0.3369
          ],
          [
           "Data reconstruction drift",
           "<b style=\"color:#3b0280;line-height:60px\">Analysis</b>",
           "",
           "[204:254]",
           "From <b>Jul-01-2009</b> to <b>Sep-01-2009</b>",
           0.6576,
           0.3369
          ],
          [
           "Data reconstruction drift",
           "<b style=\"color:#3b0280;line-height:60px\">Analysis</b>",
           "",
           "[255:305]",
           "From <b>Sep-01-2009</b> to <b>Nov-01-2009</b>",
           0.7871,
           0.3369
          ],
          [
           "Data reconstruction drift",
           "<b style=\"color:#3b0280;line-height:60px\">Analysis</b>",
           "",
           "[306:356]",
           "From <b>Nov-01-2009</b> to <b>Feb-01-2010</b>",
           0.7123,
           0.3369
          ],
          [
           "Data reconstruction drift",
           "<b style=\"color:#3b0280;line-height:60px\">Analysis</b>",
           "",
           "[357:407]",
           "From <b>Feb-01-2010</b> to <b>Apr-01-2010</b>",
           0.7161,
           0.3369
          ],
          [
           "Data reconstruction drift",
           "<b style=\"color:#3b0280;line-height:60px\">Analysis</b>",
           "",
           "[408:458]",
           "From <b>Apr-01-2010</b> to <b>May-01-2010</b>",
           0.7982,
           0.3369
          ],
          [
           "Data reconstruction drift",
           "<b style=\"color:#3b0280;line-height:60px\">Analysis</b>",
           "<span style=\"color:#AD0000\">⚠ <b>Drift detected</b></span>",
           "[510:509]",
           "From <b>Jul-01-2010</b> to <b>Jul-01-2010</b>",
           1.1066,
           0.3274
          ]
         ],
         "hovertemplate": "%{customdata[1]} &nbsp; &nbsp; %{customdata[2]} <br />Chunk: <b>%{customdata[3]}</b> &nbsp; &nbsp; %{customdata[4]} <br />%{customdata[0]}: <b>%{customdata[5]}</b><br />Confidence band: +/- <b>%{customdata[6]}</b><br /><extra></extra>",
         "legendgroup": "metric_analysis",
         "marker": {
          "color": "#00c8e5",
          "size": 5,
          "symbol": "circle"
         },
         "mode": "markers",
         "name": "Metric",
         "showlegend": false,
         "type": "scatter",
         "x": [
          "2009-02-15T00:00:00",
          "2009-04-16T00:00:00",
          "2009-05-16T12:00:00",
          "2009-06-16T00:00:00",
          "2009-08-01T00:00:00",
          "2009-10-01T12:00:00",
          "2009-12-17T00:00:00",
          "2010-03-02T12:00:00",
          "2010-05-16T12:00:00",
          "2010-07-01T00:00:00"
         ],
         "y": [
          0.6302715732693761,
          0.7783540226420059,
          0.8287650904714112,
          0.7914497767775028,
          0.657601082155666,
          0.7871386397087351,
          0.7122812126059686,
          0.71611182512518,
          0.798213669395936,
          1.1066093982807048,
          1.1066093982807048
         ]
        },
        {
         "hoverinfo": "skip",
         "legendgroup": "alert",
         "marker": {
          "color": "#DD4040",
          "size": 8,
          "symbol": "diamond"
         },
         "mode": "markers",
         "name": "Alert",
         "showlegend": true,
         "type": "scatter",
         "x": [
          "2010-07-01T00:00:00"
         ],
         "y": [
          1.1066093982807048
         ]
        },
        {
         "hoverinfo": "skip",
         "legendgroup": "thresh",
         "line": {
          "color": "#DD4040",
          "dash": "dash",
          "width": 2
         },
         "mode": "lines",
         "name": "Threshold",
         "showlegend": false,
         "type": "scatter",
         "x": [
          "2007-01-01T00:00:00",
          "2007-04-01T00:00:00",
          "2007-06-01T00:00:00",
          "2007-07-01T00:00:00",
          "2007-08-01T00:00:00",
          "2007-12-01T00:00:00",
          "2008-04-01T00:00:00",
          "2008-06-01T00:00:00",
          "2008-07-01T00:00:00",
          "2008-12-01T00:00:00",
          "2008-12-01T00:00:00"
         ],
         "y": [
          1.056872390133567,
          1.056872390133567,
          1.056872390133567,
          1.056872390133567,
          1.056872390133567,
          1.056872390133567,
          1.056872390133567,
          1.056872390133567,
          1.056872390133567,
          1.056872390133567,
          1.056872390133567
         ]
        },
        {
         "hoverinfo": "skip",
         "legendgroup": "thresh",
         "line": {
          "color": "#DD4040",
          "dash": "dash",
          "width": 2
         },
         "mode": "lines",
         "name": "Threshold",
         "showlegend": false,
         "type": "scatter",
         "x": [
          "2007-01-01T00:00:00",
          "2007-04-01T00:00:00",
          "2007-06-01T00:00:00",
          "2007-07-01T00:00:00",
          "2007-08-01T00:00:00",
          "2007-12-01T00:00:00",
          "2008-04-01T00:00:00",
          "2008-06-01T00:00:00",
          "2008-07-01T00:00:00",
          "2008-12-01T00:00:00",
          "2008-12-01T00:00:00"
         ],
         "y": [
          0.4661094050277711,
          0.4661094050277711,
          0.4661094050277711,
          0.4661094050277711,
          0.4661094050277711,
          0.4661094050277711,
          0.4661094050277711,
          0.4661094050277711,
          0.4661094050277711,
          0.4661094050277711,
          0.4661094050277711
         ]
        },
        {
         "hoverinfo": "skip",
         "legendgroup": "thresh",
         "line": {
          "color": "#DD4040",
          "dash": "dash",
          "width": 2
         },
         "mode": "lines",
         "name": "Threshold",
         "showlegend": false,
         "type": "scatter",
         "x": [
          "2009-01-01T00:00:00",
          "2009-04-01T00:00:00",
          "2009-05-01T00:00:00",
          "2009-06-01T00:00:00",
          "2009-07-01T00:00:00",
          "2009-09-01T00:00:00",
          "2009-11-01T00:00:00",
          "2010-02-01T00:00:00",
          "2010-04-01T00:00:00",
          "2010-07-01T00:00:00",
          "2010-07-01T00:00:00"
         ],
         "y": [
          1.056872390133567,
          1.056872390133567,
          1.056872390133567,
          1.056872390133567,
          1.056872390133567,
          1.056872390133567,
          1.056872390133567,
          1.056872390133567,
          1.056872390133567,
          1.056872390133567,
          1.056872390133567
         ]
        },
        {
         "hoverinfo": "skip",
         "legendgroup": "thresh",
         "line": {
          "color": "#DD4040",
          "dash": "dash",
          "width": 2
         },
         "mode": "lines",
         "name": "Threshold",
         "showlegend": false,
         "type": "scatter",
         "x": [
          "2009-01-01T00:00:00",
          "2009-04-01T00:00:00",
          "2009-05-01T00:00:00",
          "2009-06-01T00:00:00",
          "2009-07-01T00:00:00",
          "2009-09-01T00:00:00",
          "2009-11-01T00:00:00",
          "2010-02-01T00:00:00",
          "2010-04-01T00:00:00",
          "2010-07-01T00:00:00",
          "2010-07-01T00:00:00"
         ],
         "y": [
          0.4661094050277711,
          0.4661094050277711,
          0.4661094050277711,
          0.4661094050277711,
          0.4661094050277711,
          0.4661094050277711,
          0.4661094050277711,
          0.4661094050277711,
          0.4661094050277711,
          0.4661094050277711,
          0.4661094050277711
         ]
        },
        {
         "hoverinfo": "skip",
         "line": {
          "color": "rgba(0,0,0,0)",
          "shape": "hv"
         },
         "mode": "lines",
         "name": "Confidence band",
         "showlegend": false,
         "type": "scatter",
         "x": [
          "2007-01-01T00:00:00",
          "2007-04-01T00:00:00",
          "2007-06-01T00:00:00",
          "2007-07-01T00:00:00",
          "2007-08-01T00:00:00",
          "2007-12-01T00:00:00",
          "2008-04-01T00:00:00",
          "2008-06-01T00:00:00",
          "2008-07-01T00:00:00",
          "2008-12-01T00:00:00",
          "2008-12-01T00:00:00"
         ],
         "y": [
          0.9107493810477336,
          1.1130216776172177,
          1.2252388694704301,
          1.0381527984529986,
          0.9637787609836688,
          1.1336874113375799,
          1.0059971220269661,
          0.9581539626584614,
          1.1665148126039084,
          1.1234803365518578,
          1.1234803365518578
         ]
        },
        {
         "fill": "tonexty",
         "fillcolor": "rgba(0.0, 0.7843137254901961, 0.8980392156862745, 0.2)",
         "hoverinfo": "skip",
         "line": {
          "color": "rgba(0,0,0,0)",
          "shape": "hv"
         },
         "mode": "lines",
         "name": "Confidence band",
         "showlegend": true,
         "type": "scatter",
         "x": [
          "2007-01-01T00:00:00",
          "2007-04-01T00:00:00",
          "2007-06-01T00:00:00",
          "2007-07-01T00:00:00",
          "2007-08-01T00:00:00",
          "2007-12-01T00:00:00",
          "2008-04-01T00:00:00",
          "2008-06-01T00:00:00",
          "2008-07-01T00:00:00",
          "2008-12-01T00:00:00",
          "2008-12-01T00:00:00"
         ],
         "y": [
          0.3045824762260209,
          0.5068547727955051,
          0.6190719646487175,
          0.43198589363128587,
          0.35761185616195607,
          0.5275205065158672,
          0.3998302172052534,
          0.3519870578367486,
          0.5603479077821958,
          0.5312501660590054,
          0.5312501660590054
         ]
        },
        {
         "hoverinfo": "skip",
         "line": {
          "color": "rgba(0,0,0,0)",
          "shape": "hv"
         },
         "mode": "lines",
         "name": "Confidence band",
         "showlegend": false,
         "type": "scatter",
         "x": [
          "2009-01-01T00:00:00",
          "2009-04-01T00:00:00",
          "2009-05-01T00:00:00",
          "2009-06-01T00:00:00",
          "2009-07-01T00:00:00",
          "2009-09-01T00:00:00",
          "2009-11-01T00:00:00",
          "2010-02-01T00:00:00",
          "2010-04-01T00:00:00",
          "2010-07-01T00:00:00",
          "2010-07-01T00:00:00"
         ],
         "y": [
          0.9671299971554319,
          1.1152124465280617,
          1.165623514357467,
          1.1283082006635587,
          0.9944595060417218,
          1.123997063594791,
          1.0491396364920242,
          1.0529702490112358,
          1.1350720932819918,
          1.4339769424562046,
          1.4339769424562046
         ]
        },
        {
         "fill": "tonexty",
         "fillcolor": "rgba(0.0, 0.7843137254901961, 0.8980392156862745, 0.2)",
         "hoverinfo": "skip",
         "line": {
          "color": "rgba(0,0,0,0)",
          "shape": "hv"
         },
         "mode": "lines",
         "name": "Confidence band",
         "showlegend": false,
         "type": "scatter",
         "x": [
          "2009-01-01T00:00:00",
          "2009-04-01T00:00:00",
          "2009-05-01T00:00:00",
          "2009-06-01T00:00:00",
          "2009-07-01T00:00:00",
          "2009-09-01T00:00:00",
          "2009-11-01T00:00:00",
          "2010-02-01T00:00:00",
          "2010-04-01T00:00:00",
          "2010-07-01T00:00:00",
          "2010-07-01T00:00:00"
         ],
         "y": [
          0.2934131493833203,
          0.4414955987559501,
          0.4919066665853554,
          0.45459135289144703,
          0.32074265826961024,
          0.4502802158226793,
          0.37542278871991275,
          0.3792534012391242,
          0.46135524550988016,
          0.7792418541052051,
          0.7792418541052051
         ]
        }
       ],
       "layout": {
        "annotations": [
         {
          "showarrow": false,
          "text": "Reference",
          "x": "2007-11-15T19:12:00",
          "xshift": 10,
          "y": 1.01,
          "yref": "y domain"
         },
         {
          "showarrow": false,
          "text": "Analysis",
          "x": "2009-09-06T14:24:00",
          "xshift": 15,
          "y": 1.01,
          "yref": "y domain"
         }
        ],
        "hoverlabel": {
         "bgcolor": "white",
         "font": {
          "size": 14
         }
        },
        "legend": {
         "itemclick": false,
         "itemdoubleclick": false,
         "traceorder": "grouped"
        },
        "paper_bgcolor": "rgba(255,255,255,1)",
        "plot_bgcolor": "rgba(255,255,255,1)",
        "shapes": [
         {
          "layer": "below",
          "line": {
           "color": "#666666",
           "width": 1
          },
          "type": "line",
          "x0": "2009-01-01T00:00:00",
          "x1": "2009-01-01T00:00:00",
          "xref": "x",
          "y0": 0,
          "y1": 1,
          "yref": "y domain"
         }
        ],
        "template": {
         "data": {
          "bar": [
           {
            "error_x": {
             "color": "#2a3f5f"
            },
            "error_y": {
             "color": "#2a3f5f"
            },
            "marker": {
             "line": {
              "color": "#E5ECF6",
              "width": 0.5
             },
             "pattern": {
              "fillmode": "overlay",
              "size": 10,
              "solidity": 0.2
             }
            },
            "type": "bar"
           }
          ],
          "barpolar": [
           {
            "marker": {
             "line": {
              "color": "#E5ECF6",
              "width": 0.5
             },
             "pattern": {
              "fillmode": "overlay",
              "size": 10,
              "solidity": 0.2
             }
            },
            "type": "barpolar"
           }
          ],
          "carpet": [
           {
            "aaxis": {
             "endlinecolor": "#2a3f5f",
             "gridcolor": "white",
             "linecolor": "white",
             "minorgridcolor": "white",
             "startlinecolor": "#2a3f5f"
            },
            "baxis": {
             "endlinecolor": "#2a3f5f",
             "gridcolor": "white",
             "linecolor": "white",
             "minorgridcolor": "white",
             "startlinecolor": "#2a3f5f"
            },
            "type": "carpet"
           }
          ],
          "choropleth": [
           {
            "colorbar": {
             "outlinewidth": 0,
             "ticks": ""
            },
            "type": "choropleth"
           }
          ],
          "contour": [
           {
            "colorbar": {
             "outlinewidth": 0,
             "ticks": ""
            },
            "colorscale": [
             [
              0,
              "#0d0887"
             ],
             [
              0.1111111111111111,
              "#46039f"
             ],
             [
              0.2222222222222222,
              "#7201a8"
             ],
             [
              0.3333333333333333,
              "#9c179e"
             ],
             [
              0.4444444444444444,
              "#bd3786"
             ],
             [
              0.5555555555555556,
              "#d8576b"
             ],
             [
              0.6666666666666666,
              "#ed7953"
             ],
             [
              0.7777777777777778,
              "#fb9f3a"
             ],
             [
              0.8888888888888888,
              "#fdca26"
             ],
             [
              1,
              "#f0f921"
             ]
            ],
            "type": "contour"
           }
          ],
          "contourcarpet": [
           {
            "colorbar": {
             "outlinewidth": 0,
             "ticks": ""
            },
            "type": "contourcarpet"
           }
          ],
          "heatmap": [
           {
            "colorbar": {
             "outlinewidth": 0,
             "ticks": ""
            },
            "colorscale": [
             [
              0,
              "#0d0887"
             ],
             [
              0.1111111111111111,
              "#46039f"
             ],
             [
              0.2222222222222222,
              "#7201a8"
             ],
             [
              0.3333333333333333,
              "#9c179e"
             ],
             [
              0.4444444444444444,
              "#bd3786"
             ],
             [
              0.5555555555555556,
              "#d8576b"
             ],
             [
              0.6666666666666666,
              "#ed7953"
             ],
             [
              0.7777777777777778,
              "#fb9f3a"
             ],
             [
              0.8888888888888888,
              "#fdca26"
             ],
             [
              1,
              "#f0f921"
             ]
            ],
            "type": "heatmap"
           }
          ],
          "heatmapgl": [
           {
            "colorbar": {
             "outlinewidth": 0,
             "ticks": ""
            },
            "colorscale": [
             [
              0,
              "#0d0887"
             ],
             [
              0.1111111111111111,
              "#46039f"
             ],
             [
              0.2222222222222222,
              "#7201a8"
             ],
             [
              0.3333333333333333,
              "#9c179e"
             ],
             [
              0.4444444444444444,
              "#bd3786"
             ],
             [
              0.5555555555555556,
              "#d8576b"
             ],
             [
              0.6666666666666666,
              "#ed7953"
             ],
             [
              0.7777777777777778,
              "#fb9f3a"
             ],
             [
              0.8888888888888888,
              "#fdca26"
             ],
             [
              1,
              "#f0f921"
             ]
            ],
            "type": "heatmapgl"
           }
          ],
          "histogram": [
           {
            "marker": {
             "pattern": {
              "fillmode": "overlay",
              "size": 10,
              "solidity": 0.2
             }
            },
            "type": "histogram"
           }
          ],
          "histogram2d": [
           {
            "colorbar": {
             "outlinewidth": 0,
             "ticks": ""
            },
            "colorscale": [
             [
              0,
              "#0d0887"
             ],
             [
              0.1111111111111111,
              "#46039f"
             ],
             [
              0.2222222222222222,
              "#7201a8"
             ],
             [
              0.3333333333333333,
              "#9c179e"
             ],
             [
              0.4444444444444444,
              "#bd3786"
             ],
             [
              0.5555555555555556,
              "#d8576b"
             ],
             [
              0.6666666666666666,
              "#ed7953"
             ],
             [
              0.7777777777777778,
              "#fb9f3a"
             ],
             [
              0.8888888888888888,
              "#fdca26"
             ],
             [
              1,
              "#f0f921"
             ]
            ],
            "type": "histogram2d"
           }
          ],
          "histogram2dcontour": [
           {
            "colorbar": {
             "outlinewidth": 0,
             "ticks": ""
            },
            "colorscale": [
             [
              0,
              "#0d0887"
             ],
             [
              0.1111111111111111,
              "#46039f"
             ],
             [
              0.2222222222222222,
              "#7201a8"
             ],
             [
              0.3333333333333333,
              "#9c179e"
             ],
             [
              0.4444444444444444,
              "#bd3786"
             ],
             [
              0.5555555555555556,
              "#d8576b"
             ],
             [
              0.6666666666666666,
              "#ed7953"
             ],
             [
              0.7777777777777778,
              "#fb9f3a"
             ],
             [
              0.8888888888888888,
              "#fdca26"
             ],
             [
              1,
              "#f0f921"
             ]
            ],
            "type": "histogram2dcontour"
           }
          ],
          "mesh3d": [
           {
            "colorbar": {
             "outlinewidth": 0,
             "ticks": ""
            },
            "type": "mesh3d"
           }
          ],
          "parcoords": [
           {
            "line": {
             "colorbar": {
              "outlinewidth": 0,
              "ticks": ""
             }
            },
            "type": "parcoords"
           }
          ],
          "pie": [
           {
            "automargin": true,
            "type": "pie"
           }
          ],
          "scatter": [
           {
            "fillpattern": {
             "fillmode": "overlay",
             "size": 10,
             "solidity": 0.2
            },
            "type": "scatter"
           }
          ],
          "scatter3d": [
           {
            "line": {
             "colorbar": {
              "outlinewidth": 0,
              "ticks": ""
             }
            },
            "marker": {
             "colorbar": {
              "outlinewidth": 0,
              "ticks": ""
             }
            },
            "type": "scatter3d"
           }
          ],
          "scattercarpet": [
           {
            "marker": {
             "colorbar": {
              "outlinewidth": 0,
              "ticks": ""
             }
            },
            "type": "scattercarpet"
           }
          ],
          "scattergeo": [
           {
            "marker": {
             "colorbar": {
              "outlinewidth": 0,
              "ticks": ""
             }
            },
            "type": "scattergeo"
           }
          ],
          "scattergl": [
           {
            "marker": {
             "colorbar": {
              "outlinewidth": 0,
              "ticks": ""
             }
            },
            "type": "scattergl"
           }
          ],
          "scattermapbox": [
           {
            "marker": {
             "colorbar": {
              "outlinewidth": 0,
              "ticks": ""
             }
            },
            "type": "scattermapbox"
           }
          ],
          "scatterpolar": [
           {
            "marker": {
             "colorbar": {
              "outlinewidth": 0,
              "ticks": ""
             }
            },
            "type": "scatterpolar"
           }
          ],
          "scatterpolargl": [
           {
            "marker": {
             "colorbar": {
              "outlinewidth": 0,
              "ticks": ""
             }
            },
            "type": "scatterpolargl"
           }
          ],
          "scatterternary": [
           {
            "marker": {
             "colorbar": {
              "outlinewidth": 0,
              "ticks": ""
             }
            },
            "type": "scatterternary"
           }
          ],
          "surface": [
           {
            "colorbar": {
             "outlinewidth": 0,
             "ticks": ""
            },
            "colorscale": [
             [
              0,
              "#0d0887"
             ],
             [
              0.1111111111111111,
              "#46039f"
             ],
             [
              0.2222222222222222,
              "#7201a8"
             ],
             [
              0.3333333333333333,
              "#9c179e"
             ],
             [
              0.4444444444444444,
              "#bd3786"
             ],
             [
              0.5555555555555556,
              "#d8576b"
             ],
             [
              0.6666666666666666,
              "#ed7953"
             ],
             [
              0.7777777777777778,
              "#fb9f3a"
             ],
             [
              0.8888888888888888,
              "#fdca26"
             ],
             [
              1,
              "#f0f921"
             ]
            ],
            "type": "surface"
           }
          ],
          "table": [
           {
            "cells": {
             "fill": {
              "color": "#EBF0F8"
             },
             "line": {
              "color": "white"
             }
            },
            "header": {
             "fill": {
              "color": "#C8D4E3"
             },
             "line": {
              "color": "white"
             }
            },
            "type": "table"
           }
          ]
         },
         "layout": {
          "annotationdefaults": {
           "arrowcolor": "#2a3f5f",
           "arrowhead": 0,
           "arrowwidth": 1
          },
          "autotypenumbers": "strict",
          "coloraxis": {
           "colorbar": {
            "outlinewidth": 0,
            "ticks": ""
           }
          },
          "colorscale": {
           "diverging": [
            [
             0,
             "#8e0152"
            ],
            [
             0.1,
             "#c51b7d"
            ],
            [
             0.2,
             "#de77ae"
            ],
            [
             0.3,
             "#f1b6da"
            ],
            [
             0.4,
             "#fde0ef"
            ],
            [
             0.5,
             "#f7f7f7"
            ],
            [
             0.6,
             "#e6f5d0"
            ],
            [
             0.7,
             "#b8e186"
            ],
            [
             0.8,
             "#7fbc41"
            ],
            [
             0.9,
             "#4d9221"
            ],
            [
             1,
             "#276419"
            ]
           ],
           "sequential": [
            [
             0,
             "#0d0887"
            ],
            [
             0.1111111111111111,
             "#46039f"
            ],
            [
             0.2222222222222222,
             "#7201a8"
            ],
            [
             0.3333333333333333,
             "#9c179e"
            ],
            [
             0.4444444444444444,
             "#bd3786"
            ],
            [
             0.5555555555555556,
             "#d8576b"
            ],
            [
             0.6666666666666666,
             "#ed7953"
            ],
            [
             0.7777777777777778,
             "#fb9f3a"
            ],
            [
             0.8888888888888888,
             "#fdca26"
            ],
            [
             1,
             "#f0f921"
            ]
           ],
           "sequentialminus": [
            [
             0,
             "#0d0887"
            ],
            [
             0.1111111111111111,
             "#46039f"
            ],
            [
             0.2222222222222222,
             "#7201a8"
            ],
            [
             0.3333333333333333,
             "#9c179e"
            ],
            [
             0.4444444444444444,
             "#bd3786"
            ],
            [
             0.5555555555555556,
             "#d8576b"
            ],
            [
             0.6666666666666666,
             "#ed7953"
            ],
            [
             0.7777777777777778,
             "#fb9f3a"
            ],
            [
             0.8888888888888888,
             "#fdca26"
            ],
            [
             1,
             "#f0f921"
            ]
           ]
          },
          "colorway": [
           "#636efa",
           "#EF553B",
           "#00cc96",
           "#ab63fa",
           "#FFA15A",
           "#19d3f3",
           "#FF6692",
           "#B6E880",
           "#FF97FF",
           "#FECB52"
          ],
          "font": {
           "color": "#2a3f5f"
          },
          "geo": {
           "bgcolor": "white",
           "lakecolor": "white",
           "landcolor": "#E5ECF6",
           "showlakes": true,
           "showland": true,
           "subunitcolor": "white"
          },
          "hoverlabel": {
           "align": "left"
          },
          "hovermode": "closest",
          "mapbox": {
           "style": "light"
          },
          "paper_bgcolor": "white",
          "plot_bgcolor": "#E5ECF6",
          "polar": {
           "angularaxis": {
            "gridcolor": "white",
            "linecolor": "white",
            "ticks": ""
           },
           "bgcolor": "#E5ECF6",
           "radialaxis": {
            "gridcolor": "white",
            "linecolor": "white",
            "ticks": ""
           }
          },
          "scene": {
           "xaxis": {
            "backgroundcolor": "#E5ECF6",
            "gridcolor": "white",
            "gridwidth": 2,
            "linecolor": "white",
            "showbackground": true,
            "ticks": "",
            "zerolinecolor": "white"
           },
           "yaxis": {
            "backgroundcolor": "#E5ECF6",
            "gridcolor": "white",
            "gridwidth": 2,
            "linecolor": "white",
            "showbackground": true,
            "ticks": "",
            "zerolinecolor": "white"
           },
           "zaxis": {
            "backgroundcolor": "#E5ECF6",
            "gridcolor": "white",
            "gridwidth": 2,
            "linecolor": "white",
            "showbackground": true,
            "ticks": "",
            "zerolinecolor": "white"
           }
          },
          "shapedefaults": {
           "line": {
            "color": "#2a3f5f"
           }
          },
          "ternary": {
           "aaxis": {
            "gridcolor": "white",
            "linecolor": "white",
            "ticks": ""
           },
           "baxis": {
            "gridcolor": "white",
            "linecolor": "white",
            "ticks": ""
           },
           "bgcolor": "#E5ECF6",
           "caxis": {
            "gridcolor": "white",
            "linecolor": "white",
            "ticks": ""
           }
          },
          "title": {
           "x": 0.05
          },
          "xaxis": {
           "automargin": true,
           "gridcolor": "white",
           "linecolor": "white",
           "ticks": "",
           "title": {
            "standoff": 15
           },
           "zerolinecolor": "white",
           "zerolinewidth": 2
          },
          "yaxis": {
           "automargin": true,
           "gridcolor": "white",
           "linecolor": "white",
           "ticks": "",
           "title": {
            "standoff": 15
           },
           "zerolinecolor": "white",
           "zerolinewidth": 2
          }
         }
        },
        "title": {
         "text": "Multivariate drift (PCA reconstruction error)"
        },
        "xaxis": {
         "linecolor": "#3b0280",
         "matches": "x",
         "mirror": true,
         "showgrid": false,
         "title": {
          "text": "Time"
         },
         "zeroline": false
        },
        "yaxis": {
         "linecolor": "#3b0280",
         "mirror": true,
         "showgrid": false,
         "title": {
          "text": "Data reconstruction drift"
         },
         "zeroline": false
        }
       }
      }
     },
     "metadata": {},
     "output_type": "display_data"
    }
   ],
   "source": [
    "figure = result_years.plot()\n",
    "\n",
    "figure.show()"
   ]
  },
  {
   "cell_type": "code",
   "execution_count": 98,
   "metadata": {},
   "outputs": [],
   "source": [
    "imputer = SimpleImputer(strategy='mean')"
   ]
  },
  {
   "cell_type": "code",
   "execution_count": 101,
   "metadata": {},
   "outputs": [
    {
     "data": {
      "text/html": [
       "<style>#sk-container-id-2 {color: black;background-color: white;}#sk-container-id-2 pre{padding: 0;}#sk-container-id-2 div.sk-toggleable {background-color: white;}#sk-container-id-2 label.sk-toggleable__label {cursor: pointer;display: block;width: 100%;margin-bottom: 0;padding: 0.3em;box-sizing: border-box;text-align: center;}#sk-container-id-2 label.sk-toggleable__label-arrow:before {content: \"▸\";float: left;margin-right: 0.25em;color: #696969;}#sk-container-id-2 label.sk-toggleable__label-arrow:hover:before {color: black;}#sk-container-id-2 div.sk-estimator:hover label.sk-toggleable__label-arrow:before {color: black;}#sk-container-id-2 div.sk-toggleable__content {max-height: 0;max-width: 0;overflow: hidden;text-align: left;background-color: #f0f8ff;}#sk-container-id-2 div.sk-toggleable__content pre {margin: 0.2em;color: black;border-radius: 0.25em;background-color: #f0f8ff;}#sk-container-id-2 input.sk-toggleable__control:checked~div.sk-toggleable__content {max-height: 200px;max-width: 100%;overflow: auto;}#sk-container-id-2 input.sk-toggleable__control:checked~label.sk-toggleable__label-arrow:before {content: \"▾\";}#sk-container-id-2 div.sk-estimator input.sk-toggleable__control:checked~label.sk-toggleable__label {background-color: #d4ebff;}#sk-container-id-2 div.sk-label input.sk-toggleable__control:checked~label.sk-toggleable__label {background-color: #d4ebff;}#sk-container-id-2 input.sk-hidden--visually {border: 0;clip: rect(1px 1px 1px 1px);clip: rect(1px, 1px, 1px, 1px);height: 1px;margin: -1px;overflow: hidden;padding: 0;position: absolute;width: 1px;}#sk-container-id-2 div.sk-estimator {font-family: monospace;background-color: #f0f8ff;border: 1px dotted black;border-radius: 0.25em;box-sizing: border-box;margin-bottom: 0.5em;}#sk-container-id-2 div.sk-estimator:hover {background-color: #d4ebff;}#sk-container-id-2 div.sk-parallel-item::after {content: \"\";width: 100%;border-bottom: 1px solid gray;flex-grow: 1;}#sk-container-id-2 div.sk-label:hover label.sk-toggleable__label {background-color: #d4ebff;}#sk-container-id-2 div.sk-serial::before {content: \"\";position: absolute;border-left: 1px solid gray;box-sizing: border-box;top: 0;bottom: 0;left: 50%;z-index: 0;}#sk-container-id-2 div.sk-serial {display: flex;flex-direction: column;align-items: center;background-color: white;padding-right: 0.2em;padding-left: 0.2em;position: relative;}#sk-container-id-2 div.sk-item {position: relative;z-index: 1;}#sk-container-id-2 div.sk-parallel {display: flex;align-items: stretch;justify-content: center;background-color: white;position: relative;}#sk-container-id-2 div.sk-item::before, #sk-container-id-2 div.sk-parallel-item::before {content: \"\";position: absolute;border-left: 1px solid gray;box-sizing: border-box;top: 0;bottom: 0;left: 50%;z-index: -1;}#sk-container-id-2 div.sk-parallel-item {display: flex;flex-direction: column;z-index: 1;position: relative;background-color: white;}#sk-container-id-2 div.sk-parallel-item:first-child::after {align-self: flex-end;width: 50%;}#sk-container-id-2 div.sk-parallel-item:last-child::after {align-self: flex-start;width: 50%;}#sk-container-id-2 div.sk-parallel-item:only-child::after {width: 0;}#sk-container-id-2 div.sk-dashed-wrapped {border: 1px dashed gray;margin: 0 0.4em 0.5em 0.4em;box-sizing: border-box;padding-bottom: 0.4em;background-color: white;}#sk-container-id-2 div.sk-label label {font-family: monospace;font-weight: bold;display: inline-block;line-height: 1.2em;}#sk-container-id-2 div.sk-label-container {text-align: center;}#sk-container-id-2 div.sk-container {/* jupyter's `normalize.less` sets `[hidden] { display: none; }` but bootstrap.min.css set `[hidden] { display: none !important; }` so we also need the `!important` here to be able to override the default hidden behavior on the sphinx rendered scikit-learn.org. See: https://github.com/scikit-learn/scikit-learn/issues/21755 */display: inline-block !important;position: relative;}#sk-container-id-2 div.sk-text-repr-fallback {display: none;}</style><div id=\"sk-container-id-2\" class=\"sk-top-container\"><div class=\"sk-text-repr-fallback\"><pre>SimpleImputer()</pre><b>In a Jupyter environment, please rerun this cell to show the HTML representation or trust the notebook. <br />On GitHub, the HTML representation is unable to render, please try loading this page with nbviewer.org.</b></div><div class=\"sk-container\" hidden><div class=\"sk-item\"><div class=\"sk-estimator sk-toggleable\"><input class=\"sk-toggleable__control sk-hidden--visually\" id=\"sk-estimator-id-2\" type=\"checkbox\" checked><label for=\"sk-estimator-id-2\" class=\"sk-toggleable__label sk-toggleable__label-arrow\">SimpleImputer</label><div class=\"sk-toggleable__content\"><pre>SimpleImputer()</pre></div></div></div></div></div>"
      ],
      "text/plain": [
       "SimpleImputer()"
      ]
     },
     "execution_count": 101,
     "metadata": {},
     "output_type": "execute_result"
    }
   ],
   "source": [
    "imputer.fit(np.array(reference[\"LotFrontage\"]).reshape(-1,1))"
   ]
  },
  {
   "cell_type": "code",
   "execution_count": 103,
   "metadata": {},
   "outputs": [],
   "source": [
    "LotFrontage = imputer.transform(np.array(reference[\"LotFrontage\"]).reshape(-1,1))"
   ]
  },
  {
   "cell_type": "code",
   "execution_count": 105,
   "metadata": {},
   "outputs": [
    {
     "name": "stderr",
     "output_type": "stream",
     "text": [
      "C:\\Users\\leoal\\AppData\\Local\\Temp\\ipykernel_16288\\2329655065.py:1: SettingWithCopyWarning:\n",
      "\n",
      "\n",
      "A value is trying to be set on a copy of a slice from a DataFrame.\n",
      "Try using .loc[row_indexer,col_indexer] = value instead\n",
      "\n",
      "See the caveats in the documentation: https://pandas.pydata.org/pandas-docs/stable/user_guide/indexing.html#returning-a-view-versus-a-copy\n",
      "\n"
     ]
    }
   ],
   "source": [
    "reference[\"LotFrontage\"] = LotFrontage"
   ]
  },
  {
   "cell_type": "code",
   "execution_count": 106,
   "metadata": {},
   "outputs": [
    {
     "data": {
      "text/plain": [
       "MSSubClass  MSZoning  LotFrontage  LotArea  Street  timestamp  SalePrice  binarized  proba_pred\n",
       "False       False     False        False    False   False      False      False      False         633\n",
       "dtype: int64"
      ]
     },
     "execution_count": 106,
     "metadata": {},
     "output_type": "execute_result"
    }
   ],
   "source": [
    "reference.isnull().value_counts()"
   ]
  },
  {
   "cell_type": "code",
   "execution_count": 107,
   "metadata": {},
   "outputs": [
    {
     "name": "stderr",
     "output_type": "stream",
     "text": [
      "c:\\Users\\leoal\\.virtualenvs\\mlops-nova-project-5FFhJkaC\\lib\\site-packages\\nannyml\\base.py:299: FutureWarning:\n",
      "\n",
      "The behavior of indexing on a MultiIndex with a nested sequence of labels is deprecated and will change in a future version. `series.loc[label, sequence]` will raise if any members of 'sequence' or not present in the index's second level. To retain the old behavior, use `series.index.isin(sequence, level=1)`\n",
      "\n"
     ]
    },
    {
     "data": {
      "application/vnd.plotly.v1+json": {
       "config": {
        "plotlyServerURL": "https://plot.ly"
       },
       "data": [
        {
         "hoverinfo": "skip",
         "legendgroup": "metric_reference",
         "line": {
          "color": "#00c8e5",
          "shape": "hv",
          "width": 2
         },
         "mode": "lines",
         "name": "Method",
         "showlegend": true,
         "type": "scatter",
         "x": [
          "2007-01-01T00:00:00",
          "2007-04-01T00:00:00",
          "2007-06-01T00:00:00",
          "2007-07-01T00:00:00",
          "2007-08-01T00:00:00",
          "2007-12-01T00:00:00",
          "2008-04-01T00:00:00",
          "2008-06-01T00:00:00",
          "2008-07-01T00:00:00",
          "2008-12-01T00:00:00",
          "2008-12-01T00:00:00"
         ],
         "xaxis": "x",
         "y": [
          0.12841108095516565,
          0.13774179785467833,
          0.1350280042329499,
          0.1386565067955234,
          0.118840376954417,
          0.14086425465134947,
          0.1974487894787535,
          0.17754170339618316,
          0.13444609852271577,
          0.10070662825627884,
          0.10070662825627884
         ],
         "yaxis": "y"
        },
        {
         "customdata": [
          [
           "Jensen-Shannon distance for <b>LotArea</b>",
           "<b style=\"color:#00c8e5;line-height:60px\">Reference</b>",
           "<span style=\"color:#AD0000\">⚠ <b>Drift detected</b></span>",
           "[0:62]",
           "From <b>Jan-01-2007</b> to <b>Apr-01-2007</b>",
           0.1284
          ],
          [
           "Jensen-Shannon distance for <b>LotArea</b>",
           "<b style=\"color:#00c8e5;line-height:60px\">Reference</b>",
           "<span style=\"color:#AD0000\">⚠ <b>Drift detected</b></span>",
           "[63:125]",
           "From <b>Apr-01-2007</b> to <b>Jun-01-2007</b>",
           0.1377
          ],
          [
           "Jensen-Shannon distance for <b>LotArea</b>",
           "<b style=\"color:#00c8e5;line-height:60px\">Reference</b>",
           "<span style=\"color:#AD0000\">⚠ <b>Drift detected</b></span>",
           "[126:188]",
           "From <b>Jun-01-2007</b> to <b>Jul-01-2007</b>",
           0.135
          ],
          [
           "Jensen-Shannon distance for <b>LotArea</b>",
           "<b style=\"color:#00c8e5;line-height:60px\">Reference</b>",
           "<span style=\"color:#AD0000\">⚠ <b>Drift detected</b></span>",
           "[189:251]",
           "From <b>Jul-01-2007</b> to <b>Aug-01-2007</b>",
           0.1387
          ],
          [
           "Jensen-Shannon distance for <b>LotArea</b>",
           "<b style=\"color:#00c8e5;line-height:60px\">Reference</b>",
           "<span style=\"color:#AD0000\">⚠ <b>Drift detected</b></span>",
           "[252:314]",
           "From <b>Aug-01-2007</b> to <b>Dec-01-2007</b>",
           0.1188
          ],
          [
           "Jensen-Shannon distance for <b>LotArea</b>",
           "<b style=\"color:#00c8e5;line-height:60px\">Reference</b>",
           "<span style=\"color:#AD0000\">⚠ <b>Drift detected</b></span>",
           "[315:377]",
           "From <b>Dec-01-2007</b> to <b>Apr-01-2008</b>",
           0.1409
          ],
          [
           "Jensen-Shannon distance for <b>LotArea</b>",
           "<b style=\"color:#00c8e5;line-height:60px\">Reference</b>",
           "<span style=\"color:#AD0000\">⚠ <b>Drift detected</b></span>",
           "[378:440]",
           "From <b>Apr-01-2008</b> to <b>Jun-01-2008</b>",
           0.1974
          ],
          [
           "Jensen-Shannon distance for <b>LotArea</b>",
           "<b style=\"color:#00c8e5;line-height:60px\">Reference</b>",
           "<span style=\"color:#AD0000\">⚠ <b>Drift detected</b></span>",
           "[441:503]",
           "From <b>Jun-01-2008</b> to <b>Jul-01-2008</b>",
           0.1775
          ],
          [
           "Jensen-Shannon distance for <b>LotArea</b>",
           "<b style=\"color:#00c8e5;line-height:60px\">Reference</b>",
           "<span style=\"color:#AD0000\">⚠ <b>Drift detected</b></span>",
           "[504:566]",
           "From <b>Jul-01-2008</b> to <b>Sep-01-2008</b>",
           0.1344
          ],
          [
           "Jensen-Shannon distance for <b>LotArea</b>",
           "<b style=\"color:#00c8e5;line-height:60px\">Reference</b>",
           "<span style=\"color:#AD0000\">⚠ <b>Drift detected</b></span>",
           "[630:629]",
           "From <b>Dec-01-2008</b> to <b>Dec-01-2008</b>",
           0.1007
          ]
         ],
         "hovertemplate": "%{customdata[1]} &nbsp; &nbsp; %{customdata[2]} <br />Chunk: <b>%{customdata[3]}</b> &nbsp; &nbsp; %{customdata[4]} <br />%{customdata[0]}: <b>%{customdata[5]}</b><b r /><extra></extra>",
         "legendgroup": "metric_reference",
         "marker": {
          "color": "#00c8e5",
          "size": 5,
          "symbol": "circle"
         },
         "mode": "markers",
         "name": "Method",
         "showlegend": false,
         "type": "scatter",
         "x": [
          "2007-02-15T00:00:00",
          "2007-05-01T12:00:00",
          "2007-06-16T00:00:00",
          "2007-07-16T12:00:00",
          "2007-10-01T00:00:00",
          "2008-01-31T00:00:00",
          "2008-05-01T12:00:00",
          "2008-06-16T00:00:00",
          "2008-09-15T12:00:00",
          "2008-12-01T00:00:00"
         ],
         "xaxis": "x",
         "y": [
          0.12841108095516565,
          0.13774179785467833,
          0.1350280042329499,
          0.1386565067955234,
          0.118840376954417,
          0.14086425465134947,
          0.1974487894787535,
          0.17754170339618316,
          0.13444609852271577,
          0.10070662825627884,
          0.10070662825627884
         ],
         "yaxis": "y"
        },
        {
         "hoverinfo": "skip",
         "legendgroup": "metric_analysis",
         "line": {
          "color": "#00c8e5",
          "shape": "hv",
          "width": 2
         },
         "mode": "lines",
         "name": "Method",
         "showlegend": false,
         "type": "scatter",
         "x": [
          "2009-01-01T00:00:00",
          "2009-04-01T00:00:00",
          "2009-05-01T00:00:00",
          "2009-06-01T00:00:00",
          "2009-07-01T00:00:00",
          "2009-09-01T00:00:00",
          "2009-11-01T00:00:00",
          "2010-02-01T00:00:00",
          "2010-04-01T00:00:00",
          "2010-07-01T00:00:00",
          "2010-07-01T00:00:00"
         ],
         "xaxis": "x",
         "y": [
          0.1771471078870114,
          0.20295124319353267,
          0.18667156917383207,
          0.1460236910010894,
          0.16520356237926198,
          0.18008072248866222,
          0.14566906985054737,
          0.13892568637407604,
          0.15339418323900492,
          0.15299073656739196,
          0.15299073656739196
         ],
         "yaxis": "y"
        },
        {
         "customdata": [
          [
           "Jensen-Shannon distance for <b>LotArea</b>",
           "<b style=\"color:#00c8e5;line-height:60px\">Analysis</b>",
           "<span style=\"color:#AD0000\">⚠ <b>Drift detected</b></span>",
           "[0:50]",
           "From <b>Jan-01-2009</b> to <b>Apr-01-2009</b>",
           0.1771
          ],
          [
           "Jensen-Shannon distance for <b>LotArea</b>",
           "<b style=\"color:#00c8e5;line-height:60px\">Analysis</b>",
           "<span style=\"color:#AD0000\">⚠ <b>Drift detected</b></span>",
           "[51:101]",
           "From <b>Apr-01-2009</b> to <b>May-01-2009</b>",
           0.203
          ],
          [
           "Jensen-Shannon distance for <b>LotArea</b>",
           "<b style=\"color:#00c8e5;line-height:60px\">Analysis</b>",
           "<span style=\"color:#AD0000\">⚠ <b>Drift detected</b></span>",
           "[102:152]",
           "From <b>May-01-2009</b> to <b>Jun-01-2009</b>",
           0.1867
          ],
          [
           "Jensen-Shannon distance for <b>LotArea</b>",
           "<b style=\"color:#00c8e5;line-height:60px\">Analysis</b>",
           "<span style=\"color:#AD0000\">⚠ <b>Drift detected</b></span>",
           "[153:203]",
           "From <b>Jun-01-2009</b> to <b>Jul-01-2009</b>",
           0.146
          ],
          [
           "Jensen-Shannon distance for <b>LotArea</b>",
           "<b style=\"color:#00c8e5;line-height:60px\">Analysis</b>",
           "<span style=\"color:#AD0000\">⚠ <b>Drift detected</b></span>",
           "[204:254]",
           "From <b>Jul-01-2009</b> to <b>Sep-01-2009</b>",
           0.1652
          ],
          [
           "Jensen-Shannon distance for <b>LotArea</b>",
           "<b style=\"color:#00c8e5;line-height:60px\">Analysis</b>",
           "<span style=\"color:#AD0000\">⚠ <b>Drift detected</b></span>",
           "[255:305]",
           "From <b>Sep-01-2009</b> to <b>Nov-01-2009</b>",
           0.1801
          ],
          [
           "Jensen-Shannon distance for <b>LotArea</b>",
           "<b style=\"color:#00c8e5;line-height:60px\">Analysis</b>",
           "<span style=\"color:#AD0000\">⚠ <b>Drift detected</b></span>",
           "[306:356]",
           "From <b>Nov-01-2009</b> to <b>Feb-01-2010</b>",
           0.1457
          ],
          [
           "Jensen-Shannon distance for <b>LotArea</b>",
           "<b style=\"color:#00c8e5;line-height:60px\">Analysis</b>",
           "<span style=\"color:#AD0000\">⚠ <b>Drift detected</b></span>",
           "[357:407]",
           "From <b>Feb-01-2010</b> to <b>Apr-01-2010</b>",
           0.1389
          ],
          [
           "Jensen-Shannon distance for <b>LotArea</b>",
           "<b style=\"color:#00c8e5;line-height:60px\">Analysis</b>",
           "<span style=\"color:#AD0000\">⚠ <b>Drift detected</b></span>",
           "[408:458]",
           "From <b>Apr-01-2010</b> to <b>May-01-2010</b>",
           0.1534
          ],
          [
           "Jensen-Shannon distance for <b>LotArea</b>",
           "<b style=\"color:#00c8e5;line-height:60px\">Analysis</b>",
           "<span style=\"color:#AD0000\">⚠ <b>Drift detected</b></span>",
           "[510:509]",
           "From <b>Jul-01-2010</b> to <b>Jul-01-2010</b>",
           0.153
          ]
         ],
         "hovertemplate": "%{customdata[1]} &nbsp; &nbsp; %{customdata[2]} <br />Chunk: <b>%{customdata[3]}</b> &nbsp; &nbsp; %{customdata[4]} <br />%{customdata[0]}: <b>%{customdata[5]}</b><b r /><extra></extra>",
         "legendgroup": "metric_analysis",
         "marker": {
          "color": "#00c8e5",
          "size": 5,
          "symbol": "circle"
         },
         "mode": "markers",
         "name": "Method",
         "showlegend": false,
         "type": "scatter",
         "x": [
          "2009-02-15T00:00:00",
          "2009-04-16T00:00:00",
          "2009-05-16T12:00:00",
          "2009-06-16T00:00:00",
          "2009-08-01T00:00:00",
          "2009-10-01T12:00:00",
          "2009-12-17T00:00:00",
          "2010-03-02T12:00:00",
          "2010-05-16T12:00:00",
          "2010-07-01T00:00:00"
         ],
         "xaxis": "x",
         "y": [
          0.1771471078870114,
          0.20295124319353267,
          0.18667156917383207,
          0.1460236910010894,
          0.16520356237926198,
          0.18008072248866222,
          0.14566906985054737,
          0.13892568637407604,
          0.15339418323900492,
          0.15299073656739196,
          0.15299073656739196
         ],
         "yaxis": "y"
        },
        {
         "hoverinfo": "skip",
         "legendgroup": "alert",
         "marker": {
          "color": "#DD4040",
          "size": 8,
          "symbol": "diamond"
         },
         "mode": "markers",
         "name": "Alert",
         "showlegend": true,
         "type": "scatter",
         "x": [
          "2009-02-15T00:00:00",
          "2009-04-16T00:00:00",
          "2009-05-16T12:00:00",
          "2009-06-16T00:00:00",
          "2009-08-01T00:00:00",
          "2009-10-01T12:00:00",
          "2009-12-17T00:00:00",
          "2010-03-02T12:00:00",
          "2010-05-16T12:00:00",
          "2010-07-01T00:00:00"
         ],
         "xaxis": "x",
         "y": [
          0.1771471078870114,
          0.20295124319353267,
          0.18667156917383207,
          0.1460236910010894,
          0.16520356237926198,
          0.18008072248866222,
          0.14566906985054737,
          0.13892568637407604,
          0.15339418323900492,
          0.15299073656739196
         ],
         "yaxis": "y"
        },
        {
         "hoverinfo": "skip",
         "legendgroup": "thresh",
         "line": {
          "color": "#DD4040",
          "dash": "dash",
          "width": 2
         },
         "mode": "lines",
         "name": "Threshold",
         "showlegend": true,
         "type": "scatter",
         "x": [
          "2007-01-01T00:00:00",
          "2007-04-01T00:00:00",
          "2007-06-01T00:00:00",
          "2007-07-01T00:00:00",
          "2007-08-01T00:00:00",
          "2007-12-01T00:00:00",
          "2008-04-01T00:00:00",
          "2008-06-01T00:00:00",
          "2008-07-01T00:00:00",
          "2008-12-01T00:00:00",
          "2008-12-01T00:00:00"
         ],
         "xaxis": "x",
         "y": [
          0.1,
          0.1,
          0.1,
          0.1,
          0.1,
          0.1,
          0.1,
          0.1,
          0.1,
          0.1,
          0.1
         ],
         "yaxis": "y"
        },
        {
         "hoverinfo": "skip",
         "legendgroup": "thresh",
         "line": {
          "color": "#DD4040",
          "dash": "dash",
          "width": 2
         },
         "mode": "lines",
         "name": "Threshold",
         "showlegend": false,
         "type": "scatter",
         "x": [
          "2009-01-01T00:00:00",
          "2009-04-01T00:00:00",
          "2009-05-01T00:00:00",
          "2009-06-01T00:00:00",
          "2009-07-01T00:00:00",
          "2009-09-01T00:00:00",
          "2009-11-01T00:00:00",
          "2010-02-01T00:00:00",
          "2010-04-01T00:00:00",
          "2010-07-01T00:00:00",
          "2010-07-01T00:00:00"
         ],
         "xaxis": "x",
         "y": [
          0.1,
          0.1,
          0.1,
          0.1,
          0.1,
          0.1,
          0.1,
          0.1,
          0.1,
          0.1,
          0.1
         ],
         "yaxis": "y"
        },
        {
         "hoverinfo": "skip",
         "legendgroup": "metric_reference",
         "line": {
          "color": "#00c8e5",
          "shape": "hv",
          "width": 2
         },
         "mode": "lines",
         "name": "Method",
         "showlegend": false,
         "type": "scatter",
         "x": [
          "2007-01-01T00:00:00",
          "2007-04-01T00:00:00",
          "2007-06-01T00:00:00",
          "2007-07-01T00:00:00",
          "2007-08-01T00:00:00",
          "2007-12-01T00:00:00",
          "2008-04-01T00:00:00",
          "2008-06-01T00:00:00",
          "2008-07-01T00:00:00",
          "2008-12-01T00:00:00",
          "2008-12-01T00:00:00"
         ],
         "xaxis": "x2",
         "y": [
          0.10477618252833235,
          0.13599952451394723,
          0.1125504674307615,
          0.07766585360034525,
          0.12312728146886182,
          0.20358187747764112,
          0.09389659042741322,
          0.17731634577902275,
          0.10397704679762457,
          0.1309640037248451,
          0.1309640037248451
         ],
         "yaxis": "y2"
        },
        {
         "customdata": [
          [
           "Jensen-Shannon distance for <b>LotFrontage</b>",
           "<b style=\"color:#00c8e5;line-height:60px\">Reference</b>",
           "<span style=\"color:#AD0000\">⚠ <b>Drift detected</b></span>",
           "[0:62]",
           "From <b>Jan-01-2007</b> to <b>Apr-01-2007</b>",
           0.1048
          ],
          [
           "Jensen-Shannon distance for <b>LotFrontage</b>",
           "<b style=\"color:#00c8e5;line-height:60px\">Reference</b>",
           "<span style=\"color:#AD0000\">⚠ <b>Drift detected</b></span>",
           "[63:125]",
           "From <b>Apr-01-2007</b> to <b>Jun-01-2007</b>",
           0.136
          ],
          [
           "Jensen-Shannon distance for <b>LotFrontage</b>",
           "<b style=\"color:#00c8e5;line-height:60px\">Reference</b>",
           "<span style=\"color:#AD0000\">⚠ <b>Drift detected</b></span>",
           "[126:188]",
           "From <b>Jun-01-2007</b> to <b>Jul-01-2007</b>",
           0.1126
          ],
          [
           "Jensen-Shannon distance for <b>LotFrontage</b>",
           "<b style=\"color:#00c8e5;line-height:60px\">Reference</b>",
           "",
           "[189:251]",
           "From <b>Jul-01-2007</b> to <b>Aug-01-2007</b>",
           0.0777
          ],
          [
           "Jensen-Shannon distance for <b>LotFrontage</b>",
           "<b style=\"color:#00c8e5;line-height:60px\">Reference</b>",
           "<span style=\"color:#AD0000\">⚠ <b>Drift detected</b></span>",
           "[252:314]",
           "From <b>Aug-01-2007</b> to <b>Dec-01-2007</b>",
           0.1231
          ],
          [
           "Jensen-Shannon distance for <b>LotFrontage</b>",
           "<b style=\"color:#00c8e5;line-height:60px\">Reference</b>",
           "<span style=\"color:#AD0000\">⚠ <b>Drift detected</b></span>",
           "[315:377]",
           "From <b>Dec-01-2007</b> to <b>Apr-01-2008</b>",
           0.2036
          ],
          [
           "Jensen-Shannon distance for <b>LotFrontage</b>",
           "<b style=\"color:#00c8e5;line-height:60px\">Reference</b>",
           "",
           "[378:440]",
           "From <b>Apr-01-2008</b> to <b>Jun-01-2008</b>",
           0.0939
          ],
          [
           "Jensen-Shannon distance for <b>LotFrontage</b>",
           "<b style=\"color:#00c8e5;line-height:60px\">Reference</b>",
           "<span style=\"color:#AD0000\">⚠ <b>Drift detected</b></span>",
           "[441:503]",
           "From <b>Jun-01-2008</b> to <b>Jul-01-2008</b>",
           0.1773
          ],
          [
           "Jensen-Shannon distance for <b>LotFrontage</b>",
           "<b style=\"color:#00c8e5;line-height:60px\">Reference</b>",
           "<span style=\"color:#AD0000\">⚠ <b>Drift detected</b></span>",
           "[504:566]",
           "From <b>Jul-01-2008</b> to <b>Sep-01-2008</b>",
           0.104
          ],
          [
           "Jensen-Shannon distance for <b>LotFrontage</b>",
           "<b style=\"color:#00c8e5;line-height:60px\">Reference</b>",
           "<span style=\"color:#AD0000\">⚠ <b>Drift detected</b></span>",
           "[630:629]",
           "From <b>Dec-01-2008</b> to <b>Dec-01-2008</b>",
           0.131
          ]
         ],
         "hovertemplate": "%{customdata[1]} &nbsp; &nbsp; %{customdata[2]} <br />Chunk: <b>%{customdata[3]}</b> &nbsp; &nbsp; %{customdata[4]} <br />%{customdata[0]}: <b>%{customdata[5]}</b><b r /><extra></extra>",
         "legendgroup": "metric_reference",
         "marker": {
          "color": "#00c8e5",
          "size": 5,
          "symbol": "circle"
         },
         "mode": "markers",
         "name": "Method",
         "showlegend": false,
         "type": "scatter",
         "x": [
          "2007-02-15T00:00:00",
          "2007-05-01T12:00:00",
          "2007-06-16T00:00:00",
          "2007-07-16T12:00:00",
          "2007-10-01T00:00:00",
          "2008-01-31T00:00:00",
          "2008-05-01T12:00:00",
          "2008-06-16T00:00:00",
          "2008-09-15T12:00:00",
          "2008-12-01T00:00:00"
         ],
         "xaxis": "x2",
         "y": [
          0.10477618252833235,
          0.13599952451394723,
          0.1125504674307615,
          0.07766585360034525,
          0.12312728146886182,
          0.20358187747764112,
          0.09389659042741322,
          0.17731634577902275,
          0.10397704679762457,
          0.1309640037248451,
          0.1309640037248451
         ],
         "yaxis": "y2"
        },
        {
         "hoverinfo": "skip",
         "legendgroup": "metric_analysis",
         "line": {
          "color": "#00c8e5",
          "shape": "hv",
          "width": 2
         },
         "mode": "lines",
         "name": "Method",
         "showlegend": false,
         "type": "scatter",
         "x": [
          "2009-01-01T00:00:00",
          "2009-04-01T00:00:00",
          "2009-05-01T00:00:00",
          "2009-06-01T00:00:00",
          "2009-07-01T00:00:00",
          "2009-09-01T00:00:00",
          "2009-11-01T00:00:00",
          "2010-02-01T00:00:00",
          "2010-04-01T00:00:00",
          "2010-07-01T00:00:00",
          "2010-07-01T00:00:00"
         ],
         "xaxis": "x2",
         "y": [
          0.3856156176987269,
          0.40498812646189253,
          0.4424315195826662,
          0.29361634588554003,
          0.3033467938204134,
          0.3211491336957707,
          0.4296331832875461,
          0.33025764312649164,
          0.4247222361713341,
          0.3552190511690343,
          0.3552190511690343
         ],
         "yaxis": "y2"
        },
        {
         "customdata": [
          [
           "Jensen-Shannon distance for <b>LotFrontage</b>",
           "<b style=\"color:#00c8e5;line-height:60px\">Analysis</b>",
           "<span style=\"color:#AD0000\">⚠ <b>Drift detected</b></span>",
           "[0:50]",
           "From <b>Jan-01-2009</b> to <b>Apr-01-2009</b>",
           0.3856
          ],
          [
           "Jensen-Shannon distance for <b>LotFrontage</b>",
           "<b style=\"color:#00c8e5;line-height:60px\">Analysis</b>",
           "<span style=\"color:#AD0000\">⚠ <b>Drift detected</b></span>",
           "[51:101]",
           "From <b>Apr-01-2009</b> to <b>May-01-2009</b>",
           0.405
          ],
          [
           "Jensen-Shannon distance for <b>LotFrontage</b>",
           "<b style=\"color:#00c8e5;line-height:60px\">Analysis</b>",
           "<span style=\"color:#AD0000\">⚠ <b>Drift detected</b></span>",
           "[102:152]",
           "From <b>May-01-2009</b> to <b>Jun-01-2009</b>",
           0.4424
          ],
          [
           "Jensen-Shannon distance for <b>LotFrontage</b>",
           "<b style=\"color:#00c8e5;line-height:60px\">Analysis</b>",
           "<span style=\"color:#AD0000\">⚠ <b>Drift detected</b></span>",
           "[153:203]",
           "From <b>Jun-01-2009</b> to <b>Jul-01-2009</b>",
           0.2936
          ],
          [
           "Jensen-Shannon distance for <b>LotFrontage</b>",
           "<b style=\"color:#00c8e5;line-height:60px\">Analysis</b>",
           "<span style=\"color:#AD0000\">⚠ <b>Drift detected</b></span>",
           "[204:254]",
           "From <b>Jul-01-2009</b> to <b>Sep-01-2009</b>",
           0.3033
          ],
          [
           "Jensen-Shannon distance for <b>LotFrontage</b>",
           "<b style=\"color:#00c8e5;line-height:60px\">Analysis</b>",
           "<span style=\"color:#AD0000\">⚠ <b>Drift detected</b></span>",
           "[255:305]",
           "From <b>Sep-01-2009</b> to <b>Nov-01-2009</b>",
           0.3211
          ],
          [
           "Jensen-Shannon distance for <b>LotFrontage</b>",
           "<b style=\"color:#00c8e5;line-height:60px\">Analysis</b>",
           "<span style=\"color:#AD0000\">⚠ <b>Drift detected</b></span>",
           "[306:356]",
           "From <b>Nov-01-2009</b> to <b>Feb-01-2010</b>",
           0.4296
          ],
          [
           "Jensen-Shannon distance for <b>LotFrontage</b>",
           "<b style=\"color:#00c8e5;line-height:60px\">Analysis</b>",
           "<span style=\"color:#AD0000\">⚠ <b>Drift detected</b></span>",
           "[357:407]",
           "From <b>Feb-01-2010</b> to <b>Apr-01-2010</b>",
           0.3303
          ],
          [
           "Jensen-Shannon distance for <b>LotFrontage</b>",
           "<b style=\"color:#00c8e5;line-height:60px\">Analysis</b>",
           "<span style=\"color:#AD0000\">⚠ <b>Drift detected</b></span>",
           "[408:458]",
           "From <b>Apr-01-2010</b> to <b>May-01-2010</b>",
           0.4247
          ],
          [
           "Jensen-Shannon distance for <b>LotFrontage</b>",
           "<b style=\"color:#00c8e5;line-height:60px\">Analysis</b>",
           "<span style=\"color:#AD0000\">⚠ <b>Drift detected</b></span>",
           "[510:509]",
           "From <b>Jul-01-2010</b> to <b>Jul-01-2010</b>",
           0.3552
          ]
         ],
         "hovertemplate": "%{customdata[1]} &nbsp; &nbsp; %{customdata[2]} <br />Chunk: <b>%{customdata[3]}</b> &nbsp; &nbsp; %{customdata[4]} <br />%{customdata[0]}: <b>%{customdata[5]}</b><b r /><extra></extra>",
         "legendgroup": "metric_analysis",
         "marker": {
          "color": "#00c8e5",
          "size": 5,
          "symbol": "circle"
         },
         "mode": "markers",
         "name": "Method",
         "showlegend": false,
         "type": "scatter",
         "x": [
          "2009-02-15T00:00:00",
          "2009-04-16T00:00:00",
          "2009-05-16T12:00:00",
          "2009-06-16T00:00:00",
          "2009-08-01T00:00:00",
          "2009-10-01T12:00:00",
          "2009-12-17T00:00:00",
          "2010-03-02T12:00:00",
          "2010-05-16T12:00:00",
          "2010-07-01T00:00:00"
         ],
         "xaxis": "x2",
         "y": [
          0.3856156176987269,
          0.40498812646189253,
          0.4424315195826662,
          0.29361634588554003,
          0.3033467938204134,
          0.3211491336957707,
          0.4296331832875461,
          0.33025764312649164,
          0.4247222361713341,
          0.3552190511690343,
          0.3552190511690343
         ],
         "yaxis": "y2"
        },
        {
         "hoverinfo": "skip",
         "legendgroup": "alert",
         "marker": {
          "color": "#DD4040",
          "size": 8,
          "symbol": "diamond"
         },
         "mode": "markers",
         "name": "Alert",
         "showlegend": false,
         "type": "scatter",
         "x": [
          "2009-02-15T00:00:00",
          "2009-04-16T00:00:00",
          "2009-05-16T12:00:00",
          "2009-06-16T00:00:00",
          "2009-08-01T00:00:00",
          "2009-10-01T12:00:00",
          "2009-12-17T00:00:00",
          "2010-03-02T12:00:00",
          "2010-05-16T12:00:00",
          "2010-07-01T00:00:00"
         ],
         "xaxis": "x2",
         "y": [
          0.3856156176987269,
          0.40498812646189253,
          0.4424315195826662,
          0.29361634588554003,
          0.3033467938204134,
          0.3211491336957707,
          0.4296331832875461,
          0.33025764312649164,
          0.4247222361713341,
          0.3552190511690343
         ],
         "yaxis": "y2"
        },
        {
         "hoverinfo": "skip",
         "legendgroup": "thresh",
         "line": {
          "color": "#DD4040",
          "dash": "dash",
          "width": 2
         },
         "mode": "lines",
         "name": "Threshold",
         "showlegend": false,
         "type": "scatter",
         "x": [
          "2007-01-01T00:00:00",
          "2007-04-01T00:00:00",
          "2007-06-01T00:00:00",
          "2007-07-01T00:00:00",
          "2007-08-01T00:00:00",
          "2007-12-01T00:00:00",
          "2008-04-01T00:00:00",
          "2008-06-01T00:00:00",
          "2008-07-01T00:00:00",
          "2008-12-01T00:00:00",
          "2008-12-01T00:00:00"
         ],
         "xaxis": "x2",
         "y": [
          0.1,
          0.1,
          0.1,
          0.1,
          0.1,
          0.1,
          0.1,
          0.1,
          0.1,
          0.1,
          0.1
         ],
         "yaxis": "y2"
        },
        {
         "hoverinfo": "skip",
         "legendgroup": "thresh",
         "line": {
          "color": "#DD4040",
          "dash": "dash",
          "width": 2
         },
         "mode": "lines",
         "name": "Threshold",
         "showlegend": false,
         "type": "scatter",
         "x": [
          "2009-01-01T00:00:00",
          "2009-04-01T00:00:00",
          "2009-05-01T00:00:00",
          "2009-06-01T00:00:00",
          "2009-07-01T00:00:00",
          "2009-09-01T00:00:00",
          "2009-11-01T00:00:00",
          "2010-02-01T00:00:00",
          "2010-04-01T00:00:00",
          "2010-07-01T00:00:00",
          "2010-07-01T00:00:00"
         ],
         "xaxis": "x2",
         "y": [
          0.1,
          0.1,
          0.1,
          0.1,
          0.1,
          0.1,
          0.1,
          0.1,
          0.1,
          0.1,
          0.1
         ],
         "yaxis": "y2"
        },
        {
         "hoverinfo": "skip",
         "legendgroup": "metric_reference",
         "line": {
          "color": "#00c8e5",
          "shape": "hv",
          "width": 2
         },
         "mode": "lines",
         "name": "Method",
         "showlegend": false,
         "type": "scatter",
         "x": [
          "2007-01-01T00:00:00",
          "2007-04-01T00:00:00",
          "2007-06-01T00:00:00",
          "2007-07-01T00:00:00",
          "2007-08-01T00:00:00",
          "2007-12-01T00:00:00",
          "2008-04-01T00:00:00",
          "2008-06-01T00:00:00",
          "2008-07-01T00:00:00",
          "2008-12-01T00:00:00",
          "2008-12-01T00:00:00"
         ],
         "xaxis": "x3",
         "y": [
          0.2049237259905773,
          0.2259175369883447,
          0.16758584049860606,
          0.21610552594080673,
          0.20813546566793165,
          0.14368768974029186,
          0.22676712037385996,
          0.19499576004434158,
          0.1951800544859252,
          0.2254306134011529,
          0.2254306134011529
         ],
         "yaxis": "y3"
        },
        {
         "customdata": [
          [
           "Jensen-Shannon distance for <b>MSSubClass</b>",
           "<b style=\"color:#00c8e5;line-height:60px\">Reference</b>",
           "<span style=\"color:#AD0000\">⚠ <b>Drift detected</b></span>",
           "[0:62]",
           "From <b>Jan-01-2007</b> to <b>Apr-01-2007</b>",
           0.2049
          ],
          [
           "Jensen-Shannon distance for <b>MSSubClass</b>",
           "<b style=\"color:#00c8e5;line-height:60px\">Reference</b>",
           "<span style=\"color:#AD0000\">⚠ <b>Drift detected</b></span>",
           "[63:125]",
           "From <b>Apr-01-2007</b> to <b>Jun-01-2007</b>",
           0.2259
          ],
          [
           "Jensen-Shannon distance for <b>MSSubClass</b>",
           "<b style=\"color:#00c8e5;line-height:60px\">Reference</b>",
           "<span style=\"color:#AD0000\">⚠ <b>Drift detected</b></span>",
           "[126:188]",
           "From <b>Jun-01-2007</b> to <b>Jul-01-2007</b>",
           0.1676
          ],
          [
           "Jensen-Shannon distance for <b>MSSubClass</b>",
           "<b style=\"color:#00c8e5;line-height:60px\">Reference</b>",
           "<span style=\"color:#AD0000\">⚠ <b>Drift detected</b></span>",
           "[189:251]",
           "From <b>Jul-01-2007</b> to <b>Aug-01-2007</b>",
           0.2161
          ],
          [
           "Jensen-Shannon distance for <b>MSSubClass</b>",
           "<b style=\"color:#00c8e5;line-height:60px\">Reference</b>",
           "<span style=\"color:#AD0000\">⚠ <b>Drift detected</b></span>",
           "[252:314]",
           "From <b>Aug-01-2007</b> to <b>Dec-01-2007</b>",
           0.2081
          ],
          [
           "Jensen-Shannon distance for <b>MSSubClass</b>",
           "<b style=\"color:#00c8e5;line-height:60px\">Reference</b>",
           "<span style=\"color:#AD0000\">⚠ <b>Drift detected</b></span>",
           "[315:377]",
           "From <b>Dec-01-2007</b> to <b>Apr-01-2008</b>",
           0.1437
          ],
          [
           "Jensen-Shannon distance for <b>MSSubClass</b>",
           "<b style=\"color:#00c8e5;line-height:60px\">Reference</b>",
           "<span style=\"color:#AD0000\">⚠ <b>Drift detected</b></span>",
           "[378:440]",
           "From <b>Apr-01-2008</b> to <b>Jun-01-2008</b>",
           0.2268
          ],
          [
           "Jensen-Shannon distance for <b>MSSubClass</b>",
           "<b style=\"color:#00c8e5;line-height:60px\">Reference</b>",
           "<span style=\"color:#AD0000\">⚠ <b>Drift detected</b></span>",
           "[441:503]",
           "From <b>Jun-01-2008</b> to <b>Jul-01-2008</b>",
           0.195
          ],
          [
           "Jensen-Shannon distance for <b>MSSubClass</b>",
           "<b style=\"color:#00c8e5;line-height:60px\">Reference</b>",
           "<span style=\"color:#AD0000\">⚠ <b>Drift detected</b></span>",
           "[504:566]",
           "From <b>Jul-01-2008</b> to <b>Sep-01-2008</b>",
           0.1952
          ],
          [
           "Jensen-Shannon distance for <b>MSSubClass</b>",
           "<b style=\"color:#00c8e5;line-height:60px\">Reference</b>",
           "<span style=\"color:#AD0000\">⚠ <b>Drift detected</b></span>",
           "[630:629]",
           "From <b>Dec-01-2008</b> to <b>Dec-01-2008</b>",
           0.2254
          ]
         ],
         "hovertemplate": "%{customdata[1]} &nbsp; &nbsp; %{customdata[2]} <br />Chunk: <b>%{customdata[3]}</b> &nbsp; &nbsp; %{customdata[4]} <br />%{customdata[0]}: <b>%{customdata[5]}</b><b r /><extra></extra>",
         "legendgroup": "metric_reference",
         "marker": {
          "color": "#00c8e5",
          "size": 5,
          "symbol": "circle"
         },
         "mode": "markers",
         "name": "Method",
         "showlegend": false,
         "type": "scatter",
         "x": [
          "2007-02-15T00:00:00",
          "2007-05-01T12:00:00",
          "2007-06-16T00:00:00",
          "2007-07-16T12:00:00",
          "2007-10-01T00:00:00",
          "2008-01-31T00:00:00",
          "2008-05-01T12:00:00",
          "2008-06-16T00:00:00",
          "2008-09-15T12:00:00",
          "2008-12-01T00:00:00"
         ],
         "xaxis": "x3",
         "y": [
          0.2049237259905773,
          0.2259175369883447,
          0.16758584049860606,
          0.21610552594080673,
          0.20813546566793165,
          0.14368768974029186,
          0.22676712037385996,
          0.19499576004434158,
          0.1951800544859252,
          0.2254306134011529,
          0.2254306134011529
         ],
         "yaxis": "y3"
        },
        {
         "hoverinfo": "skip",
         "legendgroup": "metric_analysis",
         "line": {
          "color": "#00c8e5",
          "shape": "hv",
          "width": 2
         },
         "mode": "lines",
         "name": "Method",
         "showlegend": false,
         "type": "scatter",
         "x": [
          "2009-01-01T00:00:00",
          "2009-04-01T00:00:00",
          "2009-05-01T00:00:00",
          "2009-06-01T00:00:00",
          "2009-07-01T00:00:00",
          "2009-09-01T00:00:00",
          "2009-11-01T00:00:00",
          "2010-02-01T00:00:00",
          "2010-04-01T00:00:00",
          "2010-07-01T00:00:00",
          "2010-07-01T00:00:00"
         ],
         "xaxis": "x3",
         "y": [
          0.3084313669471349,
          0.2913887978389297,
          0.2637748872078211,
          0.3207072288061271,
          0.20074792855879614,
          0.31208265167672417,
          0.25110781858888964,
          0.2650621966926848,
          0.2659152413546852,
          0.2041494027021412,
          0.2041494027021412
         ],
         "yaxis": "y3"
        },
        {
         "customdata": [
          [
           "Jensen-Shannon distance for <b>MSSubClass</b>",
           "<b style=\"color:#00c8e5;line-height:60px\">Analysis</b>",
           "<span style=\"color:#AD0000\">⚠ <b>Drift detected</b></span>",
           "[0:50]",
           "From <b>Jan-01-2009</b> to <b>Apr-01-2009</b>",
           0.3084
          ],
          [
           "Jensen-Shannon distance for <b>MSSubClass</b>",
           "<b style=\"color:#00c8e5;line-height:60px\">Analysis</b>",
           "<span style=\"color:#AD0000\">⚠ <b>Drift detected</b></span>",
           "[51:101]",
           "From <b>Apr-01-2009</b> to <b>May-01-2009</b>",
           0.2914
          ],
          [
           "Jensen-Shannon distance for <b>MSSubClass</b>",
           "<b style=\"color:#00c8e5;line-height:60px\">Analysis</b>",
           "<span style=\"color:#AD0000\">⚠ <b>Drift detected</b></span>",
           "[102:152]",
           "From <b>May-01-2009</b> to <b>Jun-01-2009</b>",
           0.2638
          ],
          [
           "Jensen-Shannon distance for <b>MSSubClass</b>",
           "<b style=\"color:#00c8e5;line-height:60px\">Analysis</b>",
           "<span style=\"color:#AD0000\">⚠ <b>Drift detected</b></span>",
           "[153:203]",
           "From <b>Jun-01-2009</b> to <b>Jul-01-2009</b>",
           0.3207
          ],
          [
           "Jensen-Shannon distance for <b>MSSubClass</b>",
           "<b style=\"color:#00c8e5;line-height:60px\">Analysis</b>",
           "<span style=\"color:#AD0000\">⚠ <b>Drift detected</b></span>",
           "[204:254]",
           "From <b>Jul-01-2009</b> to <b>Sep-01-2009</b>",
           0.2007
          ],
          [
           "Jensen-Shannon distance for <b>MSSubClass</b>",
           "<b style=\"color:#00c8e5;line-height:60px\">Analysis</b>",
           "<span style=\"color:#AD0000\">⚠ <b>Drift detected</b></span>",
           "[255:305]",
           "From <b>Sep-01-2009</b> to <b>Nov-01-2009</b>",
           0.3121
          ],
          [
           "Jensen-Shannon distance for <b>MSSubClass</b>",
           "<b style=\"color:#00c8e5;line-height:60px\">Analysis</b>",
           "<span style=\"color:#AD0000\">⚠ <b>Drift detected</b></span>",
           "[306:356]",
           "From <b>Nov-01-2009</b> to <b>Feb-01-2010</b>",
           0.2511
          ],
          [
           "Jensen-Shannon distance for <b>MSSubClass</b>",
           "<b style=\"color:#00c8e5;line-height:60px\">Analysis</b>",
           "<span style=\"color:#AD0000\">⚠ <b>Drift detected</b></span>",
           "[357:407]",
           "From <b>Feb-01-2010</b> to <b>Apr-01-2010</b>",
           0.2651
          ],
          [
           "Jensen-Shannon distance for <b>MSSubClass</b>",
           "<b style=\"color:#00c8e5;line-height:60px\">Analysis</b>",
           "<span style=\"color:#AD0000\">⚠ <b>Drift detected</b></span>",
           "[408:458]",
           "From <b>Apr-01-2010</b> to <b>May-01-2010</b>",
           0.2659
          ],
          [
           "Jensen-Shannon distance for <b>MSSubClass</b>",
           "<b style=\"color:#00c8e5;line-height:60px\">Analysis</b>",
           "<span style=\"color:#AD0000\">⚠ <b>Drift detected</b></span>",
           "[510:509]",
           "From <b>Jul-01-2010</b> to <b>Jul-01-2010</b>",
           0.2041
          ]
         ],
         "hovertemplate": "%{customdata[1]} &nbsp; &nbsp; %{customdata[2]} <br />Chunk: <b>%{customdata[3]}</b> &nbsp; &nbsp; %{customdata[4]} <br />%{customdata[0]}: <b>%{customdata[5]}</b><b r /><extra></extra>",
         "legendgroup": "metric_analysis",
         "marker": {
          "color": "#00c8e5",
          "size": 5,
          "symbol": "circle"
         },
         "mode": "markers",
         "name": "Method",
         "showlegend": false,
         "type": "scatter",
         "x": [
          "2009-02-15T00:00:00",
          "2009-04-16T00:00:00",
          "2009-05-16T12:00:00",
          "2009-06-16T00:00:00",
          "2009-08-01T00:00:00",
          "2009-10-01T12:00:00",
          "2009-12-17T00:00:00",
          "2010-03-02T12:00:00",
          "2010-05-16T12:00:00",
          "2010-07-01T00:00:00"
         ],
         "xaxis": "x3",
         "y": [
          0.3084313669471349,
          0.2913887978389297,
          0.2637748872078211,
          0.3207072288061271,
          0.20074792855879614,
          0.31208265167672417,
          0.25110781858888964,
          0.2650621966926848,
          0.2659152413546852,
          0.2041494027021412,
          0.2041494027021412
         ],
         "yaxis": "y3"
        },
        {
         "hoverinfo": "skip",
         "legendgroup": "alert",
         "marker": {
          "color": "#DD4040",
          "size": 8,
          "symbol": "diamond"
         },
         "mode": "markers",
         "name": "Alert",
         "showlegend": false,
         "type": "scatter",
         "x": [
          "2009-02-15T00:00:00",
          "2009-04-16T00:00:00",
          "2009-05-16T12:00:00",
          "2009-06-16T00:00:00",
          "2009-08-01T00:00:00",
          "2009-10-01T12:00:00",
          "2009-12-17T00:00:00",
          "2010-03-02T12:00:00",
          "2010-05-16T12:00:00",
          "2010-07-01T00:00:00"
         ],
         "xaxis": "x3",
         "y": [
          0.3084313669471349,
          0.2913887978389297,
          0.2637748872078211,
          0.3207072288061271,
          0.20074792855879614,
          0.31208265167672417,
          0.25110781858888964,
          0.2650621966926848,
          0.2659152413546852,
          0.2041494027021412
         ],
         "yaxis": "y3"
        },
        {
         "hoverinfo": "skip",
         "legendgroup": "thresh",
         "line": {
          "color": "#DD4040",
          "dash": "dash",
          "width": 2
         },
         "mode": "lines",
         "name": "Threshold",
         "showlegend": false,
         "type": "scatter",
         "x": [
          "2007-01-01T00:00:00",
          "2007-04-01T00:00:00",
          "2007-06-01T00:00:00",
          "2007-07-01T00:00:00",
          "2007-08-01T00:00:00",
          "2007-12-01T00:00:00",
          "2008-04-01T00:00:00",
          "2008-06-01T00:00:00",
          "2008-07-01T00:00:00",
          "2008-12-01T00:00:00",
          "2008-12-01T00:00:00"
         ],
         "xaxis": "x3",
         "y": [
          0.1,
          0.1,
          0.1,
          0.1,
          0.1,
          0.1,
          0.1,
          0.1,
          0.1,
          0.1,
          0.1
         ],
         "yaxis": "y3"
        },
        {
         "hoverinfo": "skip",
         "legendgroup": "thresh",
         "line": {
          "color": "#DD4040",
          "dash": "dash",
          "width": 2
         },
         "mode": "lines",
         "name": "Threshold",
         "showlegend": false,
         "type": "scatter",
         "x": [
          "2009-01-01T00:00:00",
          "2009-04-01T00:00:00",
          "2009-05-01T00:00:00",
          "2009-06-01T00:00:00",
          "2009-07-01T00:00:00",
          "2009-09-01T00:00:00",
          "2009-11-01T00:00:00",
          "2010-02-01T00:00:00",
          "2010-04-01T00:00:00",
          "2010-07-01T00:00:00",
          "2010-07-01T00:00:00"
         ],
         "xaxis": "x3",
         "y": [
          0.1,
          0.1,
          0.1,
          0.1,
          0.1,
          0.1,
          0.1,
          0.1,
          0.1,
          0.1,
          0.1
         ],
         "yaxis": "y3"
        },
        {
         "hoverinfo": "skip",
         "legendgroup": "metric_reference",
         "line": {
          "color": "#00c8e5",
          "shape": "hv",
          "width": 2
         },
         "mode": "lines",
         "name": "Method",
         "showlegend": false,
         "type": "scatter",
         "x": [
          "2007-01-01T00:00:00",
          "2007-04-01T00:00:00",
          "2007-06-01T00:00:00",
          "2007-07-01T00:00:00",
          "2007-08-01T00:00:00",
          "2007-12-01T00:00:00",
          "2008-04-01T00:00:00",
          "2008-06-01T00:00:00",
          "2008-07-01T00:00:00",
          "2008-12-01T00:00:00",
          "2008-12-01T00:00:00"
         ],
         "xaxis": "x4",
         "y": [
          0.1849164855476841,
          0.16301404513494494,
          0.20919611366397448,
          0.18628648705006146,
          0.1612744832012248,
          0.1619765968505402,
          0.10333505333360969,
          0.19816370389947968,
          0.18424489148375697,
          0.1611691255912671,
          0.1611691255912671
         ],
         "yaxis": "y4"
        },
        {
         "customdata": [
          [
           "Jensen-Shannon distance for <b>SalePrice</b>",
           "<b style=\"color:#00c8e5;line-height:60px\">Reference</b>",
           "<span style=\"color:#AD0000\">⚠ <b>Drift detected</b></span>",
           "[0:62]",
           "From <b>Jan-01-2007</b> to <b>Apr-01-2007</b>",
           0.1849
          ],
          [
           "Jensen-Shannon distance for <b>SalePrice</b>",
           "<b style=\"color:#00c8e5;line-height:60px\">Reference</b>",
           "<span style=\"color:#AD0000\">⚠ <b>Drift detected</b></span>",
           "[63:125]",
           "From <b>Apr-01-2007</b> to <b>Jun-01-2007</b>",
           0.163
          ],
          [
           "Jensen-Shannon distance for <b>SalePrice</b>",
           "<b style=\"color:#00c8e5;line-height:60px\">Reference</b>",
           "<span style=\"color:#AD0000\">⚠ <b>Drift detected</b></span>",
           "[126:188]",
           "From <b>Jun-01-2007</b> to <b>Jul-01-2007</b>",
           0.2092
          ],
          [
           "Jensen-Shannon distance for <b>SalePrice</b>",
           "<b style=\"color:#00c8e5;line-height:60px\">Reference</b>",
           "<span style=\"color:#AD0000\">⚠ <b>Drift detected</b></span>",
           "[189:251]",
           "From <b>Jul-01-2007</b> to <b>Aug-01-2007</b>",
           0.1863
          ],
          [
           "Jensen-Shannon distance for <b>SalePrice</b>",
           "<b style=\"color:#00c8e5;line-height:60px\">Reference</b>",
           "<span style=\"color:#AD0000\">⚠ <b>Drift detected</b></span>",
           "[252:314]",
           "From <b>Aug-01-2007</b> to <b>Dec-01-2007</b>",
           0.1613
          ],
          [
           "Jensen-Shannon distance for <b>SalePrice</b>",
           "<b style=\"color:#00c8e5;line-height:60px\">Reference</b>",
           "<span style=\"color:#AD0000\">⚠ <b>Drift detected</b></span>",
           "[315:377]",
           "From <b>Dec-01-2007</b> to <b>Apr-01-2008</b>",
           0.162
          ],
          [
           "Jensen-Shannon distance for <b>SalePrice</b>",
           "<b style=\"color:#00c8e5;line-height:60px\">Reference</b>",
           "<span style=\"color:#AD0000\">⚠ <b>Drift detected</b></span>",
           "[378:440]",
           "From <b>Apr-01-2008</b> to <b>Jun-01-2008</b>",
           0.1033
          ],
          [
           "Jensen-Shannon distance for <b>SalePrice</b>",
           "<b style=\"color:#00c8e5;line-height:60px\">Reference</b>",
           "<span style=\"color:#AD0000\">⚠ <b>Drift detected</b></span>",
           "[441:503]",
           "From <b>Jun-01-2008</b> to <b>Jul-01-2008</b>",
           0.1982
          ],
          [
           "Jensen-Shannon distance for <b>SalePrice</b>",
           "<b style=\"color:#00c8e5;line-height:60px\">Reference</b>",
           "<span style=\"color:#AD0000\">⚠ <b>Drift detected</b></span>",
           "[504:566]",
           "From <b>Jul-01-2008</b> to <b>Sep-01-2008</b>",
           0.1842
          ],
          [
           "Jensen-Shannon distance for <b>SalePrice</b>",
           "<b style=\"color:#00c8e5;line-height:60px\">Reference</b>",
           "<span style=\"color:#AD0000\">⚠ <b>Drift detected</b></span>",
           "[630:629]",
           "From <b>Dec-01-2008</b> to <b>Dec-01-2008</b>",
           0.1612
          ]
         ],
         "hovertemplate": "%{customdata[1]} &nbsp; &nbsp; %{customdata[2]} <br />Chunk: <b>%{customdata[3]}</b> &nbsp; &nbsp; %{customdata[4]} <br />%{customdata[0]}: <b>%{customdata[5]}</b><b r /><extra></extra>",
         "legendgroup": "metric_reference",
         "marker": {
          "color": "#00c8e5",
          "size": 5,
          "symbol": "circle"
         },
         "mode": "markers",
         "name": "Method",
         "showlegend": false,
         "type": "scatter",
         "x": [
          "2007-02-15T00:00:00",
          "2007-05-01T12:00:00",
          "2007-06-16T00:00:00",
          "2007-07-16T12:00:00",
          "2007-10-01T00:00:00",
          "2008-01-31T00:00:00",
          "2008-05-01T12:00:00",
          "2008-06-16T00:00:00",
          "2008-09-15T12:00:00",
          "2008-12-01T00:00:00"
         ],
         "xaxis": "x4",
         "y": [
          0.1849164855476841,
          0.16301404513494494,
          0.20919611366397448,
          0.18628648705006146,
          0.1612744832012248,
          0.1619765968505402,
          0.10333505333360969,
          0.19816370389947968,
          0.18424489148375697,
          0.1611691255912671,
          0.1611691255912671
         ],
         "yaxis": "y4"
        },
        {
         "hoverinfo": "skip",
         "legendgroup": "metric_analysis",
         "line": {
          "color": "#00c8e5",
          "shape": "hv",
          "width": 2
         },
         "mode": "lines",
         "name": "Method",
         "showlegend": false,
         "type": "scatter",
         "x": [
          "2009-01-01T00:00:00",
          "2009-04-01T00:00:00",
          "2009-05-01T00:00:00",
          "2009-06-01T00:00:00",
          "2009-07-01T00:00:00",
          "2009-09-01T00:00:00",
          "2009-11-01T00:00:00",
          "2010-02-01T00:00:00",
          "2010-04-01T00:00:00",
          "2010-07-01T00:00:00",
          "2010-07-01T00:00:00"
         ],
         "xaxis": "x4",
         "y": [
          0.24915190297876255,
          0.1934876460611635,
          0.2235527968063285,
          0.2154590818748076,
          0.1855018831705664,
          0.11994089486077007,
          0.28114361554590694,
          0.1712779334043386,
          0.16226722103920377,
          0.2576094068524498,
          0.2576094068524498
         ],
         "yaxis": "y4"
        },
        {
         "customdata": [
          [
           "Jensen-Shannon distance for <b>SalePrice</b>",
           "<b style=\"color:#00c8e5;line-height:60px\">Analysis</b>",
           "<span style=\"color:#AD0000\">⚠ <b>Drift detected</b></span>",
           "[0:50]",
           "From <b>Jan-01-2009</b> to <b>Apr-01-2009</b>",
           0.2492
          ],
          [
           "Jensen-Shannon distance for <b>SalePrice</b>",
           "<b style=\"color:#00c8e5;line-height:60px\">Analysis</b>",
           "<span style=\"color:#AD0000\">⚠ <b>Drift detected</b></span>",
           "[51:101]",
           "From <b>Apr-01-2009</b> to <b>May-01-2009</b>",
           0.1935
          ],
          [
           "Jensen-Shannon distance for <b>SalePrice</b>",
           "<b style=\"color:#00c8e5;line-height:60px\">Analysis</b>",
           "<span style=\"color:#AD0000\">⚠ <b>Drift detected</b></span>",
           "[102:152]",
           "From <b>May-01-2009</b> to <b>Jun-01-2009</b>",
           0.2236
          ],
          [
           "Jensen-Shannon distance for <b>SalePrice</b>",
           "<b style=\"color:#00c8e5;line-height:60px\">Analysis</b>",
           "<span style=\"color:#AD0000\">⚠ <b>Drift detected</b></span>",
           "[153:203]",
           "From <b>Jun-01-2009</b> to <b>Jul-01-2009</b>",
           0.2155
          ],
          [
           "Jensen-Shannon distance for <b>SalePrice</b>",
           "<b style=\"color:#00c8e5;line-height:60px\">Analysis</b>",
           "<span style=\"color:#AD0000\">⚠ <b>Drift detected</b></span>",
           "[204:254]",
           "From <b>Jul-01-2009</b> to <b>Sep-01-2009</b>",
           0.1855
          ],
          [
           "Jensen-Shannon distance for <b>SalePrice</b>",
           "<b style=\"color:#00c8e5;line-height:60px\">Analysis</b>",
           "<span style=\"color:#AD0000\">⚠ <b>Drift detected</b></span>",
           "[255:305]",
           "From <b>Sep-01-2009</b> to <b>Nov-01-2009</b>",
           0.1199
          ],
          [
           "Jensen-Shannon distance for <b>SalePrice</b>",
           "<b style=\"color:#00c8e5;line-height:60px\">Analysis</b>",
           "<span style=\"color:#AD0000\">⚠ <b>Drift detected</b></span>",
           "[306:356]",
           "From <b>Nov-01-2009</b> to <b>Feb-01-2010</b>",
           0.2811
          ],
          [
           "Jensen-Shannon distance for <b>SalePrice</b>",
           "<b style=\"color:#00c8e5;line-height:60px\">Analysis</b>",
           "<span style=\"color:#AD0000\">⚠ <b>Drift detected</b></span>",
           "[357:407]",
           "From <b>Feb-01-2010</b> to <b>Apr-01-2010</b>",
           0.1713
          ],
          [
           "Jensen-Shannon distance for <b>SalePrice</b>",
           "<b style=\"color:#00c8e5;line-height:60px\">Analysis</b>",
           "<span style=\"color:#AD0000\">⚠ <b>Drift detected</b></span>",
           "[408:458]",
           "From <b>Apr-01-2010</b> to <b>May-01-2010</b>",
           0.1623
          ],
          [
           "Jensen-Shannon distance for <b>SalePrice</b>",
           "<b style=\"color:#00c8e5;line-height:60px\">Analysis</b>",
           "<span style=\"color:#AD0000\">⚠ <b>Drift detected</b></span>",
           "[510:509]",
           "From <b>Jul-01-2010</b> to <b>Jul-01-2010</b>",
           0.2576
          ]
         ],
         "hovertemplate": "%{customdata[1]} &nbsp; &nbsp; %{customdata[2]} <br />Chunk: <b>%{customdata[3]}</b> &nbsp; &nbsp; %{customdata[4]} <br />%{customdata[0]}: <b>%{customdata[5]}</b><b r /><extra></extra>",
         "legendgroup": "metric_analysis",
         "marker": {
          "color": "#00c8e5",
          "size": 5,
          "symbol": "circle"
         },
         "mode": "markers",
         "name": "Method",
         "showlegend": false,
         "type": "scatter",
         "x": [
          "2009-02-15T00:00:00",
          "2009-04-16T00:00:00",
          "2009-05-16T12:00:00",
          "2009-06-16T00:00:00",
          "2009-08-01T00:00:00",
          "2009-10-01T12:00:00",
          "2009-12-17T00:00:00",
          "2010-03-02T12:00:00",
          "2010-05-16T12:00:00",
          "2010-07-01T00:00:00"
         ],
         "xaxis": "x4",
         "y": [
          0.24915190297876255,
          0.1934876460611635,
          0.2235527968063285,
          0.2154590818748076,
          0.1855018831705664,
          0.11994089486077007,
          0.28114361554590694,
          0.1712779334043386,
          0.16226722103920377,
          0.2576094068524498,
          0.2576094068524498
         ],
         "yaxis": "y4"
        },
        {
         "hoverinfo": "skip",
         "legendgroup": "alert",
         "marker": {
          "color": "#DD4040",
          "size": 8,
          "symbol": "diamond"
         },
         "mode": "markers",
         "name": "Alert",
         "showlegend": false,
         "type": "scatter",
         "x": [
          "2009-02-15T00:00:00",
          "2009-04-16T00:00:00",
          "2009-05-16T12:00:00",
          "2009-06-16T00:00:00",
          "2009-08-01T00:00:00",
          "2009-10-01T12:00:00",
          "2009-12-17T00:00:00",
          "2010-03-02T12:00:00",
          "2010-05-16T12:00:00",
          "2010-07-01T00:00:00"
         ],
         "xaxis": "x4",
         "y": [
          0.24915190297876255,
          0.1934876460611635,
          0.2235527968063285,
          0.2154590818748076,
          0.1855018831705664,
          0.11994089486077007,
          0.28114361554590694,
          0.1712779334043386,
          0.16226722103920377,
          0.2576094068524498
         ],
         "yaxis": "y4"
        },
        {
         "hoverinfo": "skip",
         "legendgroup": "thresh",
         "line": {
          "color": "#DD4040",
          "dash": "dash",
          "width": 2
         },
         "mode": "lines",
         "name": "Threshold",
         "showlegend": false,
         "type": "scatter",
         "x": [
          "2007-01-01T00:00:00",
          "2007-04-01T00:00:00",
          "2007-06-01T00:00:00",
          "2007-07-01T00:00:00",
          "2007-08-01T00:00:00",
          "2007-12-01T00:00:00",
          "2008-04-01T00:00:00",
          "2008-06-01T00:00:00",
          "2008-07-01T00:00:00",
          "2008-12-01T00:00:00",
          "2008-12-01T00:00:00"
         ],
         "xaxis": "x4",
         "y": [
          0.1,
          0.1,
          0.1,
          0.1,
          0.1,
          0.1,
          0.1,
          0.1,
          0.1,
          0.1,
          0.1
         ],
         "yaxis": "y4"
        },
        {
         "hoverinfo": "skip",
         "legendgroup": "thresh",
         "line": {
          "color": "#DD4040",
          "dash": "dash",
          "width": 2
         },
         "mode": "lines",
         "name": "Threshold",
         "showlegend": false,
         "type": "scatter",
         "x": [
          "2009-01-01T00:00:00",
          "2009-04-01T00:00:00",
          "2009-05-01T00:00:00",
          "2009-06-01T00:00:00",
          "2009-07-01T00:00:00",
          "2009-09-01T00:00:00",
          "2009-11-01T00:00:00",
          "2010-02-01T00:00:00",
          "2010-04-01T00:00:00",
          "2010-07-01T00:00:00",
          "2010-07-01T00:00:00"
         ],
         "xaxis": "x4",
         "y": [
          0.1,
          0.1,
          0.1,
          0.1,
          0.1,
          0.1,
          0.1,
          0.1,
          0.1,
          0.1,
          0.1
         ],
         "yaxis": "y4"
        }
       ],
       "layout": {
        "annotations": [
         {
          "font": {
           "size": 16
          },
          "showarrow": false,
          "text": "Jensen-Shannon distance for <b>LotArea</b>",
          "x": 0.5,
          "xanchor": "center",
          "xref": "paper",
          "y": 1,
          "yanchor": "bottom",
          "yref": "paper"
         },
         {
          "font": {
           "size": 16
          },
          "showarrow": false,
          "text": "Jensen-Shannon distance for <b>LotFrontage</b>",
          "x": 0.5,
          "xanchor": "center",
          "xref": "paper",
          "y": 0.71875,
          "yanchor": "bottom",
          "yref": "paper"
         },
         {
          "font": {
           "size": 16
          },
          "showarrow": false,
          "text": "Jensen-Shannon distance for <b>MSSubClass</b>",
          "x": 0.5,
          "xanchor": "center",
          "xref": "paper",
          "y": 0.4375,
          "yanchor": "bottom",
          "yref": "paper"
         },
         {
          "font": {
           "size": 16
          },
          "showarrow": false,
          "text": "Jensen-Shannon distance for <b>SalePrice</b>",
          "x": 0.5,
          "xanchor": "center",
          "xref": "paper",
          "y": 0.15625,
          "yanchor": "bottom",
          "yref": "paper"
         },
         {
          "showarrow": false,
          "text": "Reference",
          "x": "2007-11-15T19:12:00",
          "xref": "x",
          "xshift": 10,
          "y": 1.01,
          "yref": "y domain"
         },
         {
          "showarrow": false,
          "text": "Analysis",
          "x": "2009-09-06T14:24:00",
          "xref": "x",
          "xshift": 15,
          "y": 1.01,
          "yref": "y domain"
         },
         {
          "showarrow": false,
          "text": "Reference",
          "x": "2007-11-15T19:12:00",
          "xref": "x2",
          "xshift": 10,
          "y": 1.01,
          "yref": "y2 domain"
         },
         {
          "showarrow": false,
          "text": "Analysis",
          "x": "2009-09-06T14:24:00",
          "xref": "x2",
          "xshift": 15,
          "y": 1.01,
          "yref": "y2 domain"
         },
         {
          "showarrow": false,
          "text": "Reference",
          "x": "2007-11-15T19:12:00",
          "xref": "x3",
          "xshift": 10,
          "y": 1.01,
          "yref": "y3 domain"
         },
         {
          "showarrow": false,
          "text": "Analysis",
          "x": "2009-09-06T14:24:00",
          "xref": "x3",
          "xshift": 15,
          "y": 1.01,
          "yref": "y3 domain"
         },
         {
          "showarrow": false,
          "text": "Reference",
          "x": "2007-11-15T19:12:00",
          "xref": "x4",
          "xshift": 10,
          "y": 1.01,
          "yref": "y4 domain"
         },
         {
          "showarrow": false,
          "text": "Analysis",
          "x": "2009-09-06T14:24:00",
          "xref": "x4",
          "xshift": 15,
          "y": 1.01,
          "yref": "y4 domain"
         }
        ],
        "height": 2000,
        "hoverlabel": {
         "bgcolor": "white",
         "font": {
          "size": 14
         }
        },
        "legend": {
         "itemclick": false,
         "itemdoubleclick": false,
         "traceorder": "grouped"
        },
        "paper_bgcolor": "rgba(255,255,255,1)",
        "plot_bgcolor": "rgba(255,255,255,1)",
        "shapes": [
         {
          "layer": "below",
          "line": {
           "color": "#666666",
           "width": 1
          },
          "type": "line",
          "x0": "2009-01-01T00:00:00",
          "x1": "2009-01-01T00:00:00",
          "xref": "x",
          "y0": 0,
          "y1": 1,
          "yref": "y domain"
         },
         {
          "layer": "below",
          "line": {
           "color": "#666666",
           "width": 1
          },
          "type": "line",
          "x0": "2009-01-01T00:00:00",
          "x1": "2009-01-01T00:00:00",
          "xref": "x",
          "y0": 0,
          "y1": 1,
          "yref": "y domain"
         },
         {
          "layer": "below",
          "line": {
           "color": "#666666",
           "width": 1
          },
          "type": "line",
          "x0": "2009-01-01T00:00:00",
          "x1": "2009-01-01T00:00:00",
          "xref": "x2",
          "y0": 0,
          "y1": 1,
          "yref": "y2 domain"
         },
         {
          "layer": "below",
          "line": {
           "color": "#666666",
           "width": 1
          },
          "type": "line",
          "x0": "2009-01-01T00:00:00",
          "x1": "2009-01-01T00:00:00",
          "xref": "x",
          "y0": 0,
          "y1": 1,
          "yref": "y domain"
         },
         {
          "layer": "below",
          "line": {
           "color": "#666666",
           "width": 1
          },
          "type": "line",
          "x0": "2009-01-01T00:00:00",
          "x1": "2009-01-01T00:00:00",
          "xref": "x2",
          "y0": 0,
          "y1": 1,
          "yref": "y2 domain"
         },
         {
          "layer": "below",
          "line": {
           "color": "#666666",
           "width": 1
          },
          "type": "line",
          "x0": "2009-01-01T00:00:00",
          "x1": "2009-01-01T00:00:00",
          "xref": "x3",
          "y0": 0,
          "y1": 1,
          "yref": "y3 domain"
         },
         {
          "layer": "below",
          "line": {
           "color": "#666666",
           "width": 1
          },
          "type": "line",
          "x0": "2009-01-01T00:00:00",
          "x1": "2009-01-01T00:00:00",
          "xref": "x",
          "y0": 0,
          "y1": 1,
          "yref": "y domain"
         },
         {
          "layer": "below",
          "line": {
           "color": "#666666",
           "width": 1
          },
          "type": "line",
          "x0": "2009-01-01T00:00:00",
          "x1": "2009-01-01T00:00:00",
          "xref": "x2",
          "y0": 0,
          "y1": 1,
          "yref": "y2 domain"
         },
         {
          "layer": "below",
          "line": {
           "color": "#666666",
           "width": 1
          },
          "type": "line",
          "x0": "2009-01-01T00:00:00",
          "x1": "2009-01-01T00:00:00",
          "xref": "x3",
          "y0": 0,
          "y1": 1,
          "yref": "y3 domain"
         },
         {
          "layer": "below",
          "line": {
           "color": "#666666",
           "width": 1
          },
          "type": "line",
          "x0": "2009-01-01T00:00:00",
          "x1": "2009-01-01T00:00:00",
          "xref": "x4",
          "y0": 0,
          "y1": 1,
          "yref": "y4 domain"
         }
        ],
        "template": {
         "data": {
          "bar": [
           {
            "error_x": {
             "color": "#2a3f5f"
            },
            "error_y": {
             "color": "#2a3f5f"
            },
            "marker": {
             "line": {
              "color": "#E5ECF6",
              "width": 0.5
             },
             "pattern": {
              "fillmode": "overlay",
              "size": 10,
              "solidity": 0.2
             }
            },
            "type": "bar"
           }
          ],
          "barpolar": [
           {
            "marker": {
             "line": {
              "color": "#E5ECF6",
              "width": 0.5
             },
             "pattern": {
              "fillmode": "overlay",
              "size": 10,
              "solidity": 0.2
             }
            },
            "type": "barpolar"
           }
          ],
          "carpet": [
           {
            "aaxis": {
             "endlinecolor": "#2a3f5f",
             "gridcolor": "white",
             "linecolor": "white",
             "minorgridcolor": "white",
             "startlinecolor": "#2a3f5f"
            },
            "baxis": {
             "endlinecolor": "#2a3f5f",
             "gridcolor": "white",
             "linecolor": "white",
             "minorgridcolor": "white",
             "startlinecolor": "#2a3f5f"
            },
            "type": "carpet"
           }
          ],
          "choropleth": [
           {
            "colorbar": {
             "outlinewidth": 0,
             "ticks": ""
            },
            "type": "choropleth"
           }
          ],
          "contour": [
           {
            "colorbar": {
             "outlinewidth": 0,
             "ticks": ""
            },
            "colorscale": [
             [
              0,
              "#0d0887"
             ],
             [
              0.1111111111111111,
              "#46039f"
             ],
             [
              0.2222222222222222,
              "#7201a8"
             ],
             [
              0.3333333333333333,
              "#9c179e"
             ],
             [
              0.4444444444444444,
              "#bd3786"
             ],
             [
              0.5555555555555556,
              "#d8576b"
             ],
             [
              0.6666666666666666,
              "#ed7953"
             ],
             [
              0.7777777777777778,
              "#fb9f3a"
             ],
             [
              0.8888888888888888,
              "#fdca26"
             ],
             [
              1,
              "#f0f921"
             ]
            ],
            "type": "contour"
           }
          ],
          "contourcarpet": [
           {
            "colorbar": {
             "outlinewidth": 0,
             "ticks": ""
            },
            "type": "contourcarpet"
           }
          ],
          "heatmap": [
           {
            "colorbar": {
             "outlinewidth": 0,
             "ticks": ""
            },
            "colorscale": [
             [
              0,
              "#0d0887"
             ],
             [
              0.1111111111111111,
              "#46039f"
             ],
             [
              0.2222222222222222,
              "#7201a8"
             ],
             [
              0.3333333333333333,
              "#9c179e"
             ],
             [
              0.4444444444444444,
              "#bd3786"
             ],
             [
              0.5555555555555556,
              "#d8576b"
             ],
             [
              0.6666666666666666,
              "#ed7953"
             ],
             [
              0.7777777777777778,
              "#fb9f3a"
             ],
             [
              0.8888888888888888,
              "#fdca26"
             ],
             [
              1,
              "#f0f921"
             ]
            ],
            "type": "heatmap"
           }
          ],
          "heatmapgl": [
           {
            "colorbar": {
             "outlinewidth": 0,
             "ticks": ""
            },
            "colorscale": [
             [
              0,
              "#0d0887"
             ],
             [
              0.1111111111111111,
              "#46039f"
             ],
             [
              0.2222222222222222,
              "#7201a8"
             ],
             [
              0.3333333333333333,
              "#9c179e"
             ],
             [
              0.4444444444444444,
              "#bd3786"
             ],
             [
              0.5555555555555556,
              "#d8576b"
             ],
             [
              0.6666666666666666,
              "#ed7953"
             ],
             [
              0.7777777777777778,
              "#fb9f3a"
             ],
             [
              0.8888888888888888,
              "#fdca26"
             ],
             [
              1,
              "#f0f921"
             ]
            ],
            "type": "heatmapgl"
           }
          ],
          "histogram": [
           {
            "marker": {
             "pattern": {
              "fillmode": "overlay",
              "size": 10,
              "solidity": 0.2
             }
            },
            "type": "histogram"
           }
          ],
          "histogram2d": [
           {
            "colorbar": {
             "outlinewidth": 0,
             "ticks": ""
            },
            "colorscale": [
             [
              0,
              "#0d0887"
             ],
             [
              0.1111111111111111,
              "#46039f"
             ],
             [
              0.2222222222222222,
              "#7201a8"
             ],
             [
              0.3333333333333333,
              "#9c179e"
             ],
             [
              0.4444444444444444,
              "#bd3786"
             ],
             [
              0.5555555555555556,
              "#d8576b"
             ],
             [
              0.6666666666666666,
              "#ed7953"
             ],
             [
              0.7777777777777778,
              "#fb9f3a"
             ],
             [
              0.8888888888888888,
              "#fdca26"
             ],
             [
              1,
              "#f0f921"
             ]
            ],
            "type": "histogram2d"
           }
          ],
          "histogram2dcontour": [
           {
            "colorbar": {
             "outlinewidth": 0,
             "ticks": ""
            },
            "colorscale": [
             [
              0,
              "#0d0887"
             ],
             [
              0.1111111111111111,
              "#46039f"
             ],
             [
              0.2222222222222222,
              "#7201a8"
             ],
             [
              0.3333333333333333,
              "#9c179e"
             ],
             [
              0.4444444444444444,
              "#bd3786"
             ],
             [
              0.5555555555555556,
              "#d8576b"
             ],
             [
              0.6666666666666666,
              "#ed7953"
             ],
             [
              0.7777777777777778,
              "#fb9f3a"
             ],
             [
              0.8888888888888888,
              "#fdca26"
             ],
             [
              1,
              "#f0f921"
             ]
            ],
            "type": "histogram2dcontour"
           }
          ],
          "mesh3d": [
           {
            "colorbar": {
             "outlinewidth": 0,
             "ticks": ""
            },
            "type": "mesh3d"
           }
          ],
          "parcoords": [
           {
            "line": {
             "colorbar": {
              "outlinewidth": 0,
              "ticks": ""
             }
            },
            "type": "parcoords"
           }
          ],
          "pie": [
           {
            "automargin": true,
            "type": "pie"
           }
          ],
          "scatter": [
           {
            "fillpattern": {
             "fillmode": "overlay",
             "size": 10,
             "solidity": 0.2
            },
            "type": "scatter"
           }
          ],
          "scatter3d": [
           {
            "line": {
             "colorbar": {
              "outlinewidth": 0,
              "ticks": ""
             }
            },
            "marker": {
             "colorbar": {
              "outlinewidth": 0,
              "ticks": ""
             }
            },
            "type": "scatter3d"
           }
          ],
          "scattercarpet": [
           {
            "marker": {
             "colorbar": {
              "outlinewidth": 0,
              "ticks": ""
             }
            },
            "type": "scattercarpet"
           }
          ],
          "scattergeo": [
           {
            "marker": {
             "colorbar": {
              "outlinewidth": 0,
              "ticks": ""
             }
            },
            "type": "scattergeo"
           }
          ],
          "scattergl": [
           {
            "marker": {
             "colorbar": {
              "outlinewidth": 0,
              "ticks": ""
             }
            },
            "type": "scattergl"
           }
          ],
          "scattermapbox": [
           {
            "marker": {
             "colorbar": {
              "outlinewidth": 0,
              "ticks": ""
             }
            },
            "type": "scattermapbox"
           }
          ],
          "scatterpolar": [
           {
            "marker": {
             "colorbar": {
              "outlinewidth": 0,
              "ticks": ""
             }
            },
            "type": "scatterpolar"
           }
          ],
          "scatterpolargl": [
           {
            "marker": {
             "colorbar": {
              "outlinewidth": 0,
              "ticks": ""
             }
            },
            "type": "scatterpolargl"
           }
          ],
          "scatterternary": [
           {
            "marker": {
             "colorbar": {
              "outlinewidth": 0,
              "ticks": ""
             }
            },
            "type": "scatterternary"
           }
          ],
          "surface": [
           {
            "colorbar": {
             "outlinewidth": 0,
             "ticks": ""
            },
            "colorscale": [
             [
              0,
              "#0d0887"
             ],
             [
              0.1111111111111111,
              "#46039f"
             ],
             [
              0.2222222222222222,
              "#7201a8"
             ],
             [
              0.3333333333333333,
              "#9c179e"
             ],
             [
              0.4444444444444444,
              "#bd3786"
             ],
             [
              0.5555555555555556,
              "#d8576b"
             ],
             [
              0.6666666666666666,
              "#ed7953"
             ],
             [
              0.7777777777777778,
              "#fb9f3a"
             ],
             [
              0.8888888888888888,
              "#fdca26"
             ],
             [
              1,
              "#f0f921"
             ]
            ],
            "type": "surface"
           }
          ],
          "table": [
           {
            "cells": {
             "fill": {
              "color": "#EBF0F8"
             },
             "line": {
              "color": "white"
             }
            },
            "header": {
             "fill": {
              "color": "#C8D4E3"
             },
             "line": {
              "color": "white"
             }
            },
            "type": "table"
           }
          ]
         },
         "layout": {
          "annotationdefaults": {
           "arrowcolor": "#2a3f5f",
           "arrowhead": 0,
           "arrowwidth": 1
          },
          "autotypenumbers": "strict",
          "coloraxis": {
           "colorbar": {
            "outlinewidth": 0,
            "ticks": ""
           }
          },
          "colorscale": {
           "diverging": [
            [
             0,
             "#8e0152"
            ],
            [
             0.1,
             "#c51b7d"
            ],
            [
             0.2,
             "#de77ae"
            ],
            [
             0.3,
             "#f1b6da"
            ],
            [
             0.4,
             "#fde0ef"
            ],
            [
             0.5,
             "#f7f7f7"
            ],
            [
             0.6,
             "#e6f5d0"
            ],
            [
             0.7,
             "#b8e186"
            ],
            [
             0.8,
             "#7fbc41"
            ],
            [
             0.9,
             "#4d9221"
            ],
            [
             1,
             "#276419"
            ]
           ],
           "sequential": [
            [
             0,
             "#0d0887"
            ],
            [
             0.1111111111111111,
             "#46039f"
            ],
            [
             0.2222222222222222,
             "#7201a8"
            ],
            [
             0.3333333333333333,
             "#9c179e"
            ],
            [
             0.4444444444444444,
             "#bd3786"
            ],
            [
             0.5555555555555556,
             "#d8576b"
            ],
            [
             0.6666666666666666,
             "#ed7953"
            ],
            [
             0.7777777777777778,
             "#fb9f3a"
            ],
            [
             0.8888888888888888,
             "#fdca26"
            ],
            [
             1,
             "#f0f921"
            ]
           ],
           "sequentialminus": [
            [
             0,
             "#0d0887"
            ],
            [
             0.1111111111111111,
             "#46039f"
            ],
            [
             0.2222222222222222,
             "#7201a8"
            ],
            [
             0.3333333333333333,
             "#9c179e"
            ],
            [
             0.4444444444444444,
             "#bd3786"
            ],
            [
             0.5555555555555556,
             "#d8576b"
            ],
            [
             0.6666666666666666,
             "#ed7953"
            ],
            [
             0.7777777777777778,
             "#fb9f3a"
            ],
            [
             0.8888888888888888,
             "#fdca26"
            ],
            [
             1,
             "#f0f921"
            ]
           ]
          },
          "colorway": [
           "#636efa",
           "#EF553B",
           "#00cc96",
           "#ab63fa",
           "#FFA15A",
           "#19d3f3",
           "#FF6692",
           "#B6E880",
           "#FF97FF",
           "#FECB52"
          ],
          "font": {
           "color": "#2a3f5f"
          },
          "geo": {
           "bgcolor": "white",
           "lakecolor": "white",
           "landcolor": "#E5ECF6",
           "showlakes": true,
           "showland": true,
           "subunitcolor": "white"
          },
          "hoverlabel": {
           "align": "left"
          },
          "hovermode": "closest",
          "mapbox": {
           "style": "light"
          },
          "paper_bgcolor": "white",
          "plot_bgcolor": "#E5ECF6",
          "polar": {
           "angularaxis": {
            "gridcolor": "white",
            "linecolor": "white",
            "ticks": ""
           },
           "bgcolor": "#E5ECF6",
           "radialaxis": {
            "gridcolor": "white",
            "linecolor": "white",
            "ticks": ""
           }
          },
          "scene": {
           "xaxis": {
            "backgroundcolor": "#E5ECF6",
            "gridcolor": "white",
            "gridwidth": 2,
            "linecolor": "white",
            "showbackground": true,
            "ticks": "",
            "zerolinecolor": "white"
           },
           "yaxis": {
            "backgroundcolor": "#E5ECF6",
            "gridcolor": "white",
            "gridwidth": 2,
            "linecolor": "white",
            "showbackground": true,
            "ticks": "",
            "zerolinecolor": "white"
           },
           "zaxis": {
            "backgroundcolor": "#E5ECF6",
            "gridcolor": "white",
            "gridwidth": 2,
            "linecolor": "white",
            "showbackground": true,
            "ticks": "",
            "zerolinecolor": "white"
           }
          },
          "shapedefaults": {
           "line": {
            "color": "#2a3f5f"
           }
          },
          "ternary": {
           "aaxis": {
            "gridcolor": "white",
            "linecolor": "white",
            "ticks": ""
           },
           "baxis": {
            "gridcolor": "white",
            "linecolor": "white",
            "ticks": ""
           },
           "bgcolor": "#E5ECF6",
           "caxis": {
            "gridcolor": "white",
            "linecolor": "white",
            "ticks": ""
           }
          },
          "title": {
           "x": 0.05
          },
          "xaxis": {
           "automargin": true,
           "gridcolor": "white",
           "linecolor": "white",
           "ticks": "",
           "title": {
            "standoff": 15
           },
           "zerolinecolor": "white",
           "zerolinewidth": 2
          },
          "yaxis": {
           "automargin": true,
           "gridcolor": "white",
           "linecolor": "white",
           "ticks": "",
           "title": {
            "standoff": 15
           },
           "zerolinecolor": "white",
           "zerolinewidth": 2
          }
         }
        },
        "title": {
         "text": "Univariate drift metrics"
        },
        "xaxis": {
         "anchor": "y",
         "domain": [
          0,
          1
         ],
         "linecolor": "#3b0280",
         "matches": "x",
         "mirror": true,
         "showgrid": false,
         "title": {
          "text": "Time"
         },
         "zeroline": false
        },
        "xaxis2": {
         "anchor": "y2",
         "domain": [
          0,
          1
         ],
         "linecolor": "#3b0280",
         "matches": "x",
         "mirror": true,
         "showgrid": false,
         "title": {
          "text": "Time"
         },
         "zeroline": false
        },
        "xaxis3": {
         "anchor": "y3",
         "domain": [
          0,
          1
         ],
         "linecolor": "#3b0280",
         "matches": "x",
         "mirror": true,
         "showgrid": false,
         "title": {
          "text": "Time"
         },
         "zeroline": false
        },
        "xaxis4": {
         "anchor": "y4",
         "domain": [
          0,
          1
         ],
         "linecolor": "#3b0280",
         "matches": "x",
         "mirror": true,
         "showgrid": false,
         "title": {
          "text": "Time"
         },
         "zeroline": false
        },
        "yaxis": {
         "anchor": "x",
         "domain": [
          0.84375,
          1
         ],
         "linecolor": "#3b0280",
         "mirror": true,
         "showgrid": false,
         "title": {
          "text": "Jensen-Shannon distance"
         },
         "zeroline": false
        },
        "yaxis2": {
         "anchor": "x2",
         "domain": [
          0.5625,
          0.71875
         ],
         "linecolor": "#3b0280",
         "mirror": true,
         "showgrid": false,
         "title": {
          "text": "Jensen-Shannon distance"
         },
         "zeroline": false
        },
        "yaxis3": {
         "anchor": "x3",
         "domain": [
          0.28125,
          0.4375
         ],
         "linecolor": "#3b0280",
         "mirror": true,
         "showgrid": false,
         "title": {
          "text": "Jensen-Shannon distance"
         },
         "zeroline": false
        },
        "yaxis4": {
         "anchor": "x4",
         "domain": [
          0,
          0.15625
         ],
         "linecolor": "#3b0280",
         "mirror": true,
         "showgrid": false,
         "title": {
          "text": "Jensen-Shannon distance"
         },
         "zeroline": false
        }
       }
      }
     },
     "metadata": {},
     "output_type": "display_data"
    }
   ],
   "source": [
    "calc = nml.UnivariateDriftCalculator(\n",
    "\n",
    "    column_names=[\"MSSubClass\",\"MSZoning\",\"LotFrontage\",\"LotArea\", \"Street\",\"timestamp\",\"SalePrice\"],\n",
    "\n",
    "    treat_as_categorical=['binarized'],\n",
    "\n",
    "    timestamp_column_name='timestamp',\n",
    "\n",
    "    continuous_methods=['kolmogorov_smirnov', 'jensen_shannon'],\n",
    "\n",
    "    categorical_methods=['chi2', 'jensen_shannon'],\n",
    "\n",
    ")\n",
    "\n",
    "calc.fit(reference)\n",
    "\n",
    "results = calc.calculate(analysis)\n",
    "\n",
    "\n",
    "figure = results.filter(column_names=results.continuous_column_names, methods=['jensen_shannon']).plot(kind='drift')\n",
    "\n",
    "figure.show()"
   ]
  },
  {
   "cell_type": "code",
   "execution_count": 108,
   "metadata": {},
   "outputs": [
    {
     "data": {
      "application/vnd.plotly.v1+json": {
       "config": {
        "plotlyServerURL": "https://plot.ly"
       },
       "data": [
        {
         "hoverinfo": "skip",
         "legendgroup": "metric_reference",
         "line": {
          "color": "#00c8e5",
          "shape": "hv",
          "width": 2
         },
         "mode": "lines",
         "name": "Method",
         "showlegend": true,
         "type": "scatter",
         "x": [
          "2007-01-01T00:00:00",
          "2007-04-01T00:00:00",
          "2007-06-01T00:00:00",
          "2007-07-01T00:00:00",
          "2007-08-01T00:00:00",
          "2007-12-01T00:00:00",
          "2008-04-01T00:00:00",
          "2008-06-01T00:00:00",
          "2008-07-01T00:00:00",
          "2008-12-01T00:00:00",
          "2008-12-01T00:00:00"
         ],
         "xaxis": "x",
         "y": [
          1.0033613344570442,
          0.319723092372844,
          0.3797364487718283,
          0.6670536986119207,
          4.113232428518427,
          7.902701560069676,
          1.6381622778137712,
          8.05055053656612,
          6.387064515571513,
          2.4228360096949593,
          2.4228360096949593
         ],
         "yaxis": "y"
        },
        {
         "customdata": [
          [
           "Chi2 statistic for <b>MSZoning</b>",
           "<b style=\"color:#00c8e5;line-height:60px\">Reference</b>",
           "",
           "[0:62]",
           "From <b>Jan-01-2007</b> to <b>Apr-01-2007</b>",
           1.0034
          ],
          [
           "Chi2 statistic for <b>MSZoning</b>",
           "<b style=\"color:#00c8e5;line-height:60px\">Reference</b>",
           "",
           "[63:125]",
           "From <b>Apr-01-2007</b> to <b>Jun-01-2007</b>",
           0.3197
          ],
          [
           "Chi2 statistic for <b>MSZoning</b>",
           "<b style=\"color:#00c8e5;line-height:60px\">Reference</b>",
           "",
           "[126:188]",
           "From <b>Jun-01-2007</b> to <b>Jul-01-2007</b>",
           0.3797
          ],
          [
           "Chi2 statistic for <b>MSZoning</b>",
           "<b style=\"color:#00c8e5;line-height:60px\">Reference</b>",
           "",
           "[189:251]",
           "From <b>Jul-01-2007</b> to <b>Aug-01-2007</b>",
           0.6671
          ],
          [
           "Chi2 statistic for <b>MSZoning</b>",
           "<b style=\"color:#00c8e5;line-height:60px\">Reference</b>",
           "",
           "[252:314]",
           "From <b>Aug-01-2007</b> to <b>Dec-01-2007</b>",
           4.1132
          ],
          [
           "Chi2 statistic for <b>MSZoning</b>",
           "<b style=\"color:#00c8e5;line-height:60px\">Reference</b>",
           "",
           "[315:377]",
           "From <b>Dec-01-2007</b> to <b>Apr-01-2008</b>",
           7.9027
          ],
          [
           "Chi2 statistic for <b>MSZoning</b>",
           "<b style=\"color:#00c8e5;line-height:60px\">Reference</b>",
           "",
           "[378:440]",
           "From <b>Apr-01-2008</b> to <b>Jun-01-2008</b>",
           1.6382
          ],
          [
           "Chi2 statistic for <b>MSZoning</b>",
           "<b style=\"color:#00c8e5;line-height:60px\">Reference</b>",
           "",
           "[441:503]",
           "From <b>Jun-01-2008</b> to <b>Jul-01-2008</b>",
           8.0506
          ],
          [
           "Chi2 statistic for <b>MSZoning</b>",
           "<b style=\"color:#00c8e5;line-height:60px\">Reference</b>",
           "",
           "[504:566]",
           "From <b>Jul-01-2008</b> to <b>Sep-01-2008</b>",
           6.3871
          ],
          [
           "Chi2 statistic for <b>MSZoning</b>",
           "<b style=\"color:#00c8e5;line-height:60px\">Reference</b>",
           "",
           "[630:629]",
           "From <b>Dec-01-2008</b> to <b>Dec-01-2008</b>",
           2.4228
          ]
         ],
         "hovertemplate": "%{customdata[1]} &nbsp; &nbsp; %{customdata[2]} <br />Chunk: <b>%{customdata[3]}</b> &nbsp; &nbsp; %{customdata[4]} <br />%{customdata[0]}: <b>%{customdata[5]}</b><b r /><extra></extra>",
         "legendgroup": "metric_reference",
         "marker": {
          "color": "#00c8e5",
          "size": 5,
          "symbol": "circle"
         },
         "mode": "markers",
         "name": "Method",
         "showlegend": false,
         "type": "scatter",
         "x": [
          "2007-02-15T00:00:00",
          "2007-05-01T12:00:00",
          "2007-06-16T00:00:00",
          "2007-07-16T12:00:00",
          "2007-10-01T00:00:00",
          "2008-01-31T00:00:00",
          "2008-05-01T12:00:00",
          "2008-06-16T00:00:00",
          "2008-09-15T12:00:00",
          "2008-12-01T00:00:00"
         ],
         "xaxis": "x",
         "y": [
          1.0033613344570442,
          0.319723092372844,
          0.3797364487718283,
          0.6670536986119207,
          4.113232428518427,
          7.902701560069676,
          1.6381622778137712,
          8.05055053656612,
          6.387064515571513,
          2.4228360096949593,
          2.4228360096949593
         ],
         "yaxis": "y"
        },
        {
         "hoverinfo": "skip",
         "legendgroup": "metric_analysis",
         "line": {
          "color": "#00c8e5",
          "shape": "hv",
          "width": 2
         },
         "mode": "lines",
         "name": "Method",
         "showlegend": false,
         "type": "scatter",
         "x": [
          "2009-01-01T00:00:00",
          "2009-04-01T00:00:00",
          "2009-05-01T00:00:00",
          "2009-06-01T00:00:00",
          "2009-07-01T00:00:00",
          "2009-09-01T00:00:00",
          "2009-11-01T00:00:00",
          "2010-02-01T00:00:00",
          "2010-04-01T00:00:00",
          "2010-07-01T00:00:00",
          "2010-07-01T00:00:00"
         ],
         "xaxis": "x",
         "y": [
          1.6775963559626934,
          6.173513368505769,
          2.429380820498566,
          1.15452748976527,
          8.012182713671422,
          8.069623765282286,
          8.680090706956694,
          3.8049345892799584,
          2.7110599667842665,
          4.825391813327675,
          4.825391813327675
         ],
         "yaxis": "y"
        },
        {
         "customdata": [
          [
           "Chi2 statistic for <b>MSZoning</b>",
           "<b style=\"color:#00c8e5;line-height:60px\">Analysis</b>",
           "",
           "[0:50]",
           "From <b>Jan-01-2009</b> to <b>Apr-01-2009</b>",
           1.6776
          ],
          [
           "Chi2 statistic for <b>MSZoning</b>",
           "<b style=\"color:#00c8e5;line-height:60px\">Analysis</b>",
           "",
           "[51:101]",
           "From <b>Apr-01-2009</b> to <b>May-01-2009</b>",
           6.1735
          ],
          [
           "Chi2 statistic for <b>MSZoning</b>",
           "<b style=\"color:#00c8e5;line-height:60px\">Analysis</b>",
           "",
           "[102:152]",
           "From <b>May-01-2009</b> to <b>Jun-01-2009</b>",
           2.4294
          ],
          [
           "Chi2 statistic for <b>MSZoning</b>",
           "<b style=\"color:#00c8e5;line-height:60px\">Analysis</b>",
           "",
           "[153:203]",
           "From <b>Jun-01-2009</b> to <b>Jul-01-2009</b>",
           1.1545
          ],
          [
           "Chi2 statistic for <b>MSZoning</b>",
           "<b style=\"color:#00c8e5;line-height:60px\">Analysis</b>",
           "",
           "[204:254]",
           "From <b>Jul-01-2009</b> to <b>Sep-01-2009</b>",
           8.0122
          ],
          [
           "Chi2 statistic for <b>MSZoning</b>",
           "<b style=\"color:#00c8e5;line-height:60px\">Analysis</b>",
           "",
           "[255:305]",
           "From <b>Sep-01-2009</b> to <b>Nov-01-2009</b>",
           8.0696
          ],
          [
           "Chi2 statistic for <b>MSZoning</b>",
           "<b style=\"color:#00c8e5;line-height:60px\">Analysis</b>",
           "",
           "[306:356]",
           "From <b>Nov-01-2009</b> to <b>Feb-01-2010</b>",
           8.6801
          ],
          [
           "Chi2 statistic for <b>MSZoning</b>",
           "<b style=\"color:#00c8e5;line-height:60px\">Analysis</b>",
           "",
           "[357:407]",
           "From <b>Feb-01-2010</b> to <b>Apr-01-2010</b>",
           3.8049
          ],
          [
           "Chi2 statistic for <b>MSZoning</b>",
           "<b style=\"color:#00c8e5;line-height:60px\">Analysis</b>",
           "",
           "[408:458]",
           "From <b>Apr-01-2010</b> to <b>May-01-2010</b>",
           2.7111
          ],
          [
           "Chi2 statistic for <b>MSZoning</b>",
           "<b style=\"color:#00c8e5;line-height:60px\">Analysis</b>",
           "",
           "[510:509]",
           "From <b>Jul-01-2010</b> to <b>Jul-01-2010</b>",
           4.8254
          ]
         ],
         "hovertemplate": "%{customdata[1]} &nbsp; &nbsp; %{customdata[2]} <br />Chunk: <b>%{customdata[3]}</b> &nbsp; &nbsp; %{customdata[4]} <br />%{customdata[0]}: <b>%{customdata[5]}</b><b r /><extra></extra>",
         "legendgroup": "metric_analysis",
         "marker": {
          "color": "#00c8e5",
          "size": 5,
          "symbol": "circle"
         },
         "mode": "markers",
         "name": "Method",
         "showlegend": false,
         "type": "scatter",
         "x": [
          "2009-02-15T00:00:00",
          "2009-04-16T00:00:00",
          "2009-05-16T12:00:00",
          "2009-06-16T00:00:00",
          "2009-08-01T00:00:00",
          "2009-10-01T12:00:00",
          "2009-12-17T00:00:00",
          "2010-03-02T12:00:00",
          "2010-05-16T12:00:00",
          "2010-07-01T00:00:00"
         ],
         "xaxis": "x",
         "y": [
          1.6775963559626934,
          6.173513368505769,
          2.429380820498566,
          1.15452748976527,
          8.012182713671422,
          8.069623765282286,
          8.680090706956694,
          3.8049345892799584,
          2.7110599667842665,
          4.825391813327675,
          4.825391813327675
         ],
         "yaxis": "y"
        },
        {
         "hoverinfo": "skip",
         "legendgroup": "alert",
         "marker": {
          "color": "#DD4040",
          "size": 8,
          "symbol": "diamond"
         },
         "mode": "markers",
         "name": "Alert",
         "showlegend": true,
         "type": "scatter",
         "x": [],
         "xaxis": "x",
         "y": [],
         "yaxis": "y"
        },
        {
         "hoverinfo": "skip",
         "legendgroup": "thresh",
         "line": {
          "color": "#DD4040",
          "dash": "dash",
          "width": 2
         },
         "mode": "lines",
         "name": "Threshold",
         "showlegend": true,
         "type": "scatter",
         "x": [
          "2007-01-01T00:00:00",
          "2007-04-01T00:00:00",
          "2007-06-01T00:00:00",
          "2007-07-01T00:00:00",
          "2007-08-01T00:00:00",
          "2007-12-01T00:00:00",
          "2008-04-01T00:00:00",
          "2008-06-01T00:00:00",
          "2008-07-01T00:00:00",
          "2008-12-01T00:00:00",
          "2008-12-01T00:00:00"
         ],
         "xaxis": "x",
         "y": [
          1,
          null,
          null,
          null,
          null,
          null,
          null,
          null,
          null,
          null,
          null
         ],
         "yaxis": "y"
        },
        {
         "hoverinfo": "skip",
         "legendgroup": "thresh",
         "line": {
          "color": "#DD4040",
          "dash": "dash",
          "width": 2
         },
         "mode": "lines",
         "name": "Threshold",
         "showlegend": false,
         "type": "scatter",
         "x": [
          "2007-01-01T00:00:00",
          "2007-04-01T00:00:00",
          "2007-06-01T00:00:00",
          "2007-07-01T00:00:00",
          "2007-08-01T00:00:00",
          "2007-12-01T00:00:00",
          "2008-04-01T00:00:00",
          "2008-06-01T00:00:00",
          "2008-07-01T00:00:00",
          "2008-12-01T00:00:00",
          "2008-12-01T00:00:00"
         ],
         "xaxis": "x",
         "y": [
          0,
          null,
          null,
          null,
          null,
          null,
          null,
          null,
          null,
          null,
          null
         ],
         "yaxis": "y"
        },
        {
         "hoverinfo": "skip",
         "legendgroup": "metric_reference",
         "line": {
          "color": "#00c8e5",
          "shape": "hv",
          "width": 2
         },
         "mode": "lines",
         "name": "Method",
         "showlegend": false,
         "type": "scatter",
         "x": [
          "2007-01-01T00:00:00",
          "2007-04-01T00:00:00",
          "2007-06-01T00:00:00",
          "2007-07-01T00:00:00",
          "2007-08-01T00:00:00",
          "2007-12-01T00:00:00",
          "2008-04-01T00:00:00",
          "2008-06-01T00:00:00",
          "2008-07-01T00:00:00",
          "2008-12-01T00:00:00",
          "2008-12-01T00:00:00"
         ],
         "xaxis": "x2",
         "y": [
          0,
          1.869877248241147,
          0,
          0,
          0,
          0,
          0,
          0,
          1.869877248241147,
          0,
          0
         ],
         "yaxis": "y2"
        },
        {
         "customdata": [
          [
           "Chi2 statistic for <b>Street</b>",
           "<b style=\"color:#00c8e5;line-height:60px\">Reference</b>",
           "",
           "[0:62]",
           "From <b>Jan-01-2007</b> to <b>Apr-01-2007</b>",
           0
          ],
          [
           "Chi2 statistic for <b>Street</b>",
           "<b style=\"color:#00c8e5;line-height:60px\">Reference</b>",
           "",
           "[63:125]",
           "From <b>Apr-01-2007</b> to <b>Jun-01-2007</b>",
           1.8699
          ],
          [
           "Chi2 statistic for <b>Street</b>",
           "<b style=\"color:#00c8e5;line-height:60px\">Reference</b>",
           "",
           "[126:188]",
           "From <b>Jun-01-2007</b> to <b>Jul-01-2007</b>",
           0
          ],
          [
           "Chi2 statistic for <b>Street</b>",
           "<b style=\"color:#00c8e5;line-height:60px\">Reference</b>",
           "",
           "[189:251]",
           "From <b>Jul-01-2007</b> to <b>Aug-01-2007</b>",
           0
          ],
          [
           "Chi2 statistic for <b>Street</b>",
           "<b style=\"color:#00c8e5;line-height:60px\">Reference</b>",
           "",
           "[252:314]",
           "From <b>Aug-01-2007</b> to <b>Dec-01-2007</b>",
           0
          ],
          [
           "Chi2 statistic for <b>Street</b>",
           "<b style=\"color:#00c8e5;line-height:60px\">Reference</b>",
           "",
           "[315:377]",
           "From <b>Dec-01-2007</b> to <b>Apr-01-2008</b>",
           0
          ],
          [
           "Chi2 statistic for <b>Street</b>",
           "<b style=\"color:#00c8e5;line-height:60px\">Reference</b>",
           "",
           "[378:440]",
           "From <b>Apr-01-2008</b> to <b>Jun-01-2008</b>",
           0
          ],
          [
           "Chi2 statistic for <b>Street</b>",
           "<b style=\"color:#00c8e5;line-height:60px\">Reference</b>",
           "",
           "[441:503]",
           "From <b>Jun-01-2008</b> to <b>Jul-01-2008</b>",
           0
          ],
          [
           "Chi2 statistic for <b>Street</b>",
           "<b style=\"color:#00c8e5;line-height:60px\">Reference</b>",
           "",
           "[504:566]",
           "From <b>Jul-01-2008</b> to <b>Sep-01-2008</b>",
           1.8699
          ],
          [
           "Chi2 statistic for <b>Street</b>",
           "<b style=\"color:#00c8e5;line-height:60px\">Reference</b>",
           "",
           "[630:629]",
           "From <b>Dec-01-2008</b> to <b>Dec-01-2008</b>",
           0
          ]
         ],
         "hovertemplate": "%{customdata[1]} &nbsp; &nbsp; %{customdata[2]} <br />Chunk: <b>%{customdata[3]}</b> &nbsp; &nbsp; %{customdata[4]} <br />%{customdata[0]}: <b>%{customdata[5]}</b><b r /><extra></extra>",
         "legendgroup": "metric_reference",
         "marker": {
          "color": "#00c8e5",
          "size": 5,
          "symbol": "circle"
         },
         "mode": "markers",
         "name": "Method",
         "showlegend": false,
         "type": "scatter",
         "x": [
          "2007-02-15T00:00:00",
          "2007-05-01T12:00:00",
          "2007-06-16T00:00:00",
          "2007-07-16T12:00:00",
          "2007-10-01T00:00:00",
          "2008-01-31T00:00:00",
          "2008-05-01T12:00:00",
          "2008-06-16T00:00:00",
          "2008-09-15T12:00:00",
          "2008-12-01T00:00:00"
         ],
         "xaxis": "x2",
         "y": [
          0,
          1.869877248241147,
          0,
          0,
          0,
          0,
          0,
          0,
          1.869877248241147,
          0,
          0
         ],
         "yaxis": "y2"
        },
        {
         "hoverinfo": "skip",
         "legendgroup": "metric_analysis",
         "line": {
          "color": "#00c8e5",
          "shape": "hv",
          "width": 2
         },
         "mode": "lines",
         "name": "Method",
         "showlegend": false,
         "type": "scatter",
         "x": [
          "2009-01-01T00:00:00",
          "2009-04-01T00:00:00",
          "2009-05-01T00:00:00",
          "2009-06-01T00:00:00",
          "2009-07-01T00:00:00",
          "2009-09-01T00:00:00",
          "2009-11-01T00:00:00",
          "2010-02-01T00:00:00",
          "2010-04-01T00:00:00",
          "2010-07-01T00:00:00",
          "2010-07-01T00:00:00"
         ],
         "xaxis": "x2",
         "y": [
          0,
          0,
          0,
          0,
          0,
          0,
          0,
          0,
          0.04723685145138329,
          0.03184047708394142,
          0.03184047708394142
         ],
         "yaxis": "y2"
        },
        {
         "customdata": [
          [
           "Chi2 statistic for <b>Street</b>",
           "<b style=\"color:#00c8e5;line-height:60px\">Analysis</b>",
           "",
           "[0:50]",
           "From <b>Jan-01-2009</b> to <b>Apr-01-2009</b>",
           0
          ],
          [
           "Chi2 statistic for <b>Street</b>",
           "<b style=\"color:#00c8e5;line-height:60px\">Analysis</b>",
           "",
           "[51:101]",
           "From <b>Apr-01-2009</b> to <b>May-01-2009</b>",
           0
          ],
          [
           "Chi2 statistic for <b>Street</b>",
           "<b style=\"color:#00c8e5;line-height:60px\">Analysis</b>",
           "",
           "[102:152]",
           "From <b>May-01-2009</b> to <b>Jun-01-2009</b>",
           0
          ],
          [
           "Chi2 statistic for <b>Street</b>",
           "<b style=\"color:#00c8e5;line-height:60px\">Analysis</b>",
           "",
           "[153:203]",
           "From <b>Jun-01-2009</b> to <b>Jul-01-2009</b>",
           0
          ],
          [
           "Chi2 statistic for <b>Street</b>",
           "<b style=\"color:#00c8e5;line-height:60px\">Analysis</b>",
           "",
           "[204:254]",
           "From <b>Jul-01-2009</b> to <b>Sep-01-2009</b>",
           0
          ],
          [
           "Chi2 statistic for <b>Street</b>",
           "<b style=\"color:#00c8e5;line-height:60px\">Analysis</b>",
           "",
           "[255:305]",
           "From <b>Sep-01-2009</b> to <b>Nov-01-2009</b>",
           0
          ],
          [
           "Chi2 statistic for <b>Street</b>",
           "<b style=\"color:#00c8e5;line-height:60px\">Analysis</b>",
           "",
           "[306:356]",
           "From <b>Nov-01-2009</b> to <b>Feb-01-2010</b>",
           0
          ],
          [
           "Chi2 statistic for <b>Street</b>",
           "<b style=\"color:#00c8e5;line-height:60px\">Analysis</b>",
           "",
           "[357:407]",
           "From <b>Feb-01-2010</b> to <b>Apr-01-2010</b>",
           0
          ],
          [
           "Chi2 statistic for <b>Street</b>",
           "<b style=\"color:#00c8e5;line-height:60px\">Analysis</b>",
           "",
           "[408:458]",
           "From <b>Apr-01-2010</b> to <b>May-01-2010</b>",
           0.0472
          ],
          [
           "Chi2 statistic for <b>Street</b>",
           "<b style=\"color:#00c8e5;line-height:60px\">Analysis</b>",
           "",
           "[510:509]",
           "From <b>Jul-01-2010</b> to <b>Jul-01-2010</b>",
           0.0318
          ]
         ],
         "hovertemplate": "%{customdata[1]} &nbsp; &nbsp; %{customdata[2]} <br />Chunk: <b>%{customdata[3]}</b> &nbsp; &nbsp; %{customdata[4]} <br />%{customdata[0]}: <b>%{customdata[5]}</b><b r /><extra></extra>",
         "legendgroup": "metric_analysis",
         "marker": {
          "color": "#00c8e5",
          "size": 5,
          "symbol": "circle"
         },
         "mode": "markers",
         "name": "Method",
         "showlegend": false,
         "type": "scatter",
         "x": [
          "2009-02-15T00:00:00",
          "2009-04-16T00:00:00",
          "2009-05-16T12:00:00",
          "2009-06-16T00:00:00",
          "2009-08-01T00:00:00",
          "2009-10-01T12:00:00",
          "2009-12-17T00:00:00",
          "2010-03-02T12:00:00",
          "2010-05-16T12:00:00",
          "2010-07-01T00:00:00"
         ],
         "xaxis": "x2",
         "y": [
          0,
          0,
          0,
          0,
          0,
          0,
          0,
          0,
          0.04723685145138329,
          0.03184047708394142,
          0.03184047708394142
         ],
         "yaxis": "y2"
        },
        {
         "hoverinfo": "skip",
         "legendgroup": "alert",
         "marker": {
          "color": "#DD4040",
          "size": 8,
          "symbol": "diamond"
         },
         "mode": "markers",
         "name": "Alert",
         "showlegend": false,
         "type": "scatter",
         "x": [],
         "xaxis": "x2",
         "y": [],
         "yaxis": "y2"
        },
        {
         "hoverinfo": "skip",
         "legendgroup": "thresh",
         "line": {
          "color": "#DD4040",
          "dash": "dash",
          "width": 2
         },
         "mode": "lines",
         "name": "Threshold",
         "showlegend": false,
         "type": "scatter",
         "x": [
          "2007-01-01T00:00:00",
          "2007-04-01T00:00:00",
          "2007-06-01T00:00:00",
          "2007-07-01T00:00:00",
          "2007-08-01T00:00:00",
          "2007-12-01T00:00:00",
          "2008-04-01T00:00:00",
          "2008-06-01T00:00:00",
          "2008-07-01T00:00:00",
          "2008-12-01T00:00:00",
          "2008-12-01T00:00:00"
         ],
         "xaxis": "x2",
         "y": [
          1,
          null,
          null,
          null,
          null,
          null,
          null,
          null,
          null,
          null,
          null
         ],
         "yaxis": "y2"
        },
        {
         "hoverinfo": "skip",
         "legendgroup": "thresh",
         "line": {
          "color": "#DD4040",
          "dash": "dash",
          "width": 2
         },
         "mode": "lines",
         "name": "Threshold",
         "showlegend": false,
         "type": "scatter",
         "x": [
          "2007-01-01T00:00:00",
          "2007-04-01T00:00:00",
          "2007-06-01T00:00:00",
          "2007-07-01T00:00:00",
          "2007-08-01T00:00:00",
          "2007-12-01T00:00:00",
          "2008-04-01T00:00:00",
          "2008-06-01T00:00:00",
          "2008-07-01T00:00:00",
          "2008-12-01T00:00:00",
          "2008-12-01T00:00:00"
         ],
         "xaxis": "x2",
         "y": [
          0,
          null,
          null,
          null,
          null,
          null,
          null,
          null,
          null,
          null,
          null
         ],
         "yaxis": "y2"
        }
       ],
       "layout": {
        "annotations": [
         {
          "font": {
           "size": 16
          },
          "showarrow": false,
          "text": "Chi2 statistic for <b>MSZoning</b>",
          "x": 0.5,
          "xanchor": "center",
          "xref": "paper",
          "y": 1,
          "yanchor": "bottom",
          "yref": "paper"
         },
         {
          "font": {
           "size": 16
          },
          "showarrow": false,
          "text": "Chi2 statistic for <b>Street</b>",
          "x": 0.5,
          "xanchor": "center",
          "xref": "paper",
          "y": 0.375,
          "yanchor": "bottom",
          "yref": "paper"
         },
         {
          "showarrow": false,
          "text": "Reference",
          "x": "2007-11-15T19:12:00",
          "xref": "x",
          "xshift": 10,
          "y": 1.01,
          "yref": "y domain"
         },
         {
          "showarrow": false,
          "text": "Analysis",
          "x": "2009-09-06T14:24:00",
          "xref": "x",
          "xshift": 15,
          "y": 1.01,
          "yref": "y domain"
         },
         {
          "showarrow": false,
          "text": "Reference",
          "x": "2007-11-15T19:12:00",
          "xref": "x2",
          "xshift": 10,
          "y": 1.01,
          "yref": "y2 domain"
         },
         {
          "showarrow": false,
          "text": "Analysis",
          "x": "2009-09-06T14:24:00",
          "xref": "x2",
          "xshift": 15,
          "y": 1.01,
          "yref": "y2 domain"
         }
        ],
        "height": 1000,
        "hoverlabel": {
         "bgcolor": "white",
         "font": {
          "size": 14
         }
        },
        "legend": {
         "itemclick": false,
         "itemdoubleclick": false,
         "traceorder": "grouped"
        },
        "paper_bgcolor": "rgba(255,255,255,1)",
        "plot_bgcolor": "rgba(255,255,255,1)",
        "shapes": [
         {
          "layer": "below",
          "line": {
           "color": "#666666",
           "width": 1
          },
          "type": "line",
          "x0": "2009-01-01T00:00:00",
          "x1": "2009-01-01T00:00:00",
          "xref": "x",
          "y0": 0,
          "y1": 1,
          "yref": "y domain"
         },
         {
          "layer": "below",
          "line": {
           "color": "#666666",
           "width": 1
          },
          "type": "line",
          "x0": "2009-01-01T00:00:00",
          "x1": "2009-01-01T00:00:00",
          "xref": "x",
          "y0": 0,
          "y1": 1,
          "yref": "y domain"
         },
         {
          "layer": "below",
          "line": {
           "color": "#666666",
           "width": 1
          },
          "type": "line",
          "x0": "2009-01-01T00:00:00",
          "x1": "2009-01-01T00:00:00",
          "xref": "x2",
          "y0": 0,
          "y1": 1,
          "yref": "y2 domain"
         }
        ],
        "template": {
         "data": {
          "bar": [
           {
            "error_x": {
             "color": "#2a3f5f"
            },
            "error_y": {
             "color": "#2a3f5f"
            },
            "marker": {
             "line": {
              "color": "#E5ECF6",
              "width": 0.5
             },
             "pattern": {
              "fillmode": "overlay",
              "size": 10,
              "solidity": 0.2
             }
            },
            "type": "bar"
           }
          ],
          "barpolar": [
           {
            "marker": {
             "line": {
              "color": "#E5ECF6",
              "width": 0.5
             },
             "pattern": {
              "fillmode": "overlay",
              "size": 10,
              "solidity": 0.2
             }
            },
            "type": "barpolar"
           }
          ],
          "carpet": [
           {
            "aaxis": {
             "endlinecolor": "#2a3f5f",
             "gridcolor": "white",
             "linecolor": "white",
             "minorgridcolor": "white",
             "startlinecolor": "#2a3f5f"
            },
            "baxis": {
             "endlinecolor": "#2a3f5f",
             "gridcolor": "white",
             "linecolor": "white",
             "minorgridcolor": "white",
             "startlinecolor": "#2a3f5f"
            },
            "type": "carpet"
           }
          ],
          "choropleth": [
           {
            "colorbar": {
             "outlinewidth": 0,
             "ticks": ""
            },
            "type": "choropleth"
           }
          ],
          "contour": [
           {
            "colorbar": {
             "outlinewidth": 0,
             "ticks": ""
            },
            "colorscale": [
             [
              0,
              "#0d0887"
             ],
             [
              0.1111111111111111,
              "#46039f"
             ],
             [
              0.2222222222222222,
              "#7201a8"
             ],
             [
              0.3333333333333333,
              "#9c179e"
             ],
             [
              0.4444444444444444,
              "#bd3786"
             ],
             [
              0.5555555555555556,
              "#d8576b"
             ],
             [
              0.6666666666666666,
              "#ed7953"
             ],
             [
              0.7777777777777778,
              "#fb9f3a"
             ],
             [
              0.8888888888888888,
              "#fdca26"
             ],
             [
              1,
              "#f0f921"
             ]
            ],
            "type": "contour"
           }
          ],
          "contourcarpet": [
           {
            "colorbar": {
             "outlinewidth": 0,
             "ticks": ""
            },
            "type": "contourcarpet"
           }
          ],
          "heatmap": [
           {
            "colorbar": {
             "outlinewidth": 0,
             "ticks": ""
            },
            "colorscale": [
             [
              0,
              "#0d0887"
             ],
             [
              0.1111111111111111,
              "#46039f"
             ],
             [
              0.2222222222222222,
              "#7201a8"
             ],
             [
              0.3333333333333333,
              "#9c179e"
             ],
             [
              0.4444444444444444,
              "#bd3786"
             ],
             [
              0.5555555555555556,
              "#d8576b"
             ],
             [
              0.6666666666666666,
              "#ed7953"
             ],
             [
              0.7777777777777778,
              "#fb9f3a"
             ],
             [
              0.8888888888888888,
              "#fdca26"
             ],
             [
              1,
              "#f0f921"
             ]
            ],
            "type": "heatmap"
           }
          ],
          "heatmapgl": [
           {
            "colorbar": {
             "outlinewidth": 0,
             "ticks": ""
            },
            "colorscale": [
             [
              0,
              "#0d0887"
             ],
             [
              0.1111111111111111,
              "#46039f"
             ],
             [
              0.2222222222222222,
              "#7201a8"
             ],
             [
              0.3333333333333333,
              "#9c179e"
             ],
             [
              0.4444444444444444,
              "#bd3786"
             ],
             [
              0.5555555555555556,
              "#d8576b"
             ],
             [
              0.6666666666666666,
              "#ed7953"
             ],
             [
              0.7777777777777778,
              "#fb9f3a"
             ],
             [
              0.8888888888888888,
              "#fdca26"
             ],
             [
              1,
              "#f0f921"
             ]
            ],
            "type": "heatmapgl"
           }
          ],
          "histogram": [
           {
            "marker": {
             "pattern": {
              "fillmode": "overlay",
              "size": 10,
              "solidity": 0.2
             }
            },
            "type": "histogram"
           }
          ],
          "histogram2d": [
           {
            "colorbar": {
             "outlinewidth": 0,
             "ticks": ""
            },
            "colorscale": [
             [
              0,
              "#0d0887"
             ],
             [
              0.1111111111111111,
              "#46039f"
             ],
             [
              0.2222222222222222,
              "#7201a8"
             ],
             [
              0.3333333333333333,
              "#9c179e"
             ],
             [
              0.4444444444444444,
              "#bd3786"
             ],
             [
              0.5555555555555556,
              "#d8576b"
             ],
             [
              0.6666666666666666,
              "#ed7953"
             ],
             [
              0.7777777777777778,
              "#fb9f3a"
             ],
             [
              0.8888888888888888,
              "#fdca26"
             ],
             [
              1,
              "#f0f921"
             ]
            ],
            "type": "histogram2d"
           }
          ],
          "histogram2dcontour": [
           {
            "colorbar": {
             "outlinewidth": 0,
             "ticks": ""
            },
            "colorscale": [
             [
              0,
              "#0d0887"
             ],
             [
              0.1111111111111111,
              "#46039f"
             ],
             [
              0.2222222222222222,
              "#7201a8"
             ],
             [
              0.3333333333333333,
              "#9c179e"
             ],
             [
              0.4444444444444444,
              "#bd3786"
             ],
             [
              0.5555555555555556,
              "#d8576b"
             ],
             [
              0.6666666666666666,
              "#ed7953"
             ],
             [
              0.7777777777777778,
              "#fb9f3a"
             ],
             [
              0.8888888888888888,
              "#fdca26"
             ],
             [
              1,
              "#f0f921"
             ]
            ],
            "type": "histogram2dcontour"
           }
          ],
          "mesh3d": [
           {
            "colorbar": {
             "outlinewidth": 0,
             "ticks": ""
            },
            "type": "mesh3d"
           }
          ],
          "parcoords": [
           {
            "line": {
             "colorbar": {
              "outlinewidth": 0,
              "ticks": ""
             }
            },
            "type": "parcoords"
           }
          ],
          "pie": [
           {
            "automargin": true,
            "type": "pie"
           }
          ],
          "scatter": [
           {
            "fillpattern": {
             "fillmode": "overlay",
             "size": 10,
             "solidity": 0.2
            },
            "type": "scatter"
           }
          ],
          "scatter3d": [
           {
            "line": {
             "colorbar": {
              "outlinewidth": 0,
              "ticks": ""
             }
            },
            "marker": {
             "colorbar": {
              "outlinewidth": 0,
              "ticks": ""
             }
            },
            "type": "scatter3d"
           }
          ],
          "scattercarpet": [
           {
            "marker": {
             "colorbar": {
              "outlinewidth": 0,
              "ticks": ""
             }
            },
            "type": "scattercarpet"
           }
          ],
          "scattergeo": [
           {
            "marker": {
             "colorbar": {
              "outlinewidth": 0,
              "ticks": ""
             }
            },
            "type": "scattergeo"
           }
          ],
          "scattergl": [
           {
            "marker": {
             "colorbar": {
              "outlinewidth": 0,
              "ticks": ""
             }
            },
            "type": "scattergl"
           }
          ],
          "scattermapbox": [
           {
            "marker": {
             "colorbar": {
              "outlinewidth": 0,
              "ticks": ""
             }
            },
            "type": "scattermapbox"
           }
          ],
          "scatterpolar": [
           {
            "marker": {
             "colorbar": {
              "outlinewidth": 0,
              "ticks": ""
             }
            },
            "type": "scatterpolar"
           }
          ],
          "scatterpolargl": [
           {
            "marker": {
             "colorbar": {
              "outlinewidth": 0,
              "ticks": ""
             }
            },
            "type": "scatterpolargl"
           }
          ],
          "scatterternary": [
           {
            "marker": {
             "colorbar": {
              "outlinewidth": 0,
              "ticks": ""
             }
            },
            "type": "scatterternary"
           }
          ],
          "surface": [
           {
            "colorbar": {
             "outlinewidth": 0,
             "ticks": ""
            },
            "colorscale": [
             [
              0,
              "#0d0887"
             ],
             [
              0.1111111111111111,
              "#46039f"
             ],
             [
              0.2222222222222222,
              "#7201a8"
             ],
             [
              0.3333333333333333,
              "#9c179e"
             ],
             [
              0.4444444444444444,
              "#bd3786"
             ],
             [
              0.5555555555555556,
              "#d8576b"
             ],
             [
              0.6666666666666666,
              "#ed7953"
             ],
             [
              0.7777777777777778,
              "#fb9f3a"
             ],
             [
              0.8888888888888888,
              "#fdca26"
             ],
             [
              1,
              "#f0f921"
             ]
            ],
            "type": "surface"
           }
          ],
          "table": [
           {
            "cells": {
             "fill": {
              "color": "#EBF0F8"
             },
             "line": {
              "color": "white"
             }
            },
            "header": {
             "fill": {
              "color": "#C8D4E3"
             },
             "line": {
              "color": "white"
             }
            },
            "type": "table"
           }
          ]
         },
         "layout": {
          "annotationdefaults": {
           "arrowcolor": "#2a3f5f",
           "arrowhead": 0,
           "arrowwidth": 1
          },
          "autotypenumbers": "strict",
          "coloraxis": {
           "colorbar": {
            "outlinewidth": 0,
            "ticks": ""
           }
          },
          "colorscale": {
           "diverging": [
            [
             0,
             "#8e0152"
            ],
            [
             0.1,
             "#c51b7d"
            ],
            [
             0.2,
             "#de77ae"
            ],
            [
             0.3,
             "#f1b6da"
            ],
            [
             0.4,
             "#fde0ef"
            ],
            [
             0.5,
             "#f7f7f7"
            ],
            [
             0.6,
             "#e6f5d0"
            ],
            [
             0.7,
             "#b8e186"
            ],
            [
             0.8,
             "#7fbc41"
            ],
            [
             0.9,
             "#4d9221"
            ],
            [
             1,
             "#276419"
            ]
           ],
           "sequential": [
            [
             0,
             "#0d0887"
            ],
            [
             0.1111111111111111,
             "#46039f"
            ],
            [
             0.2222222222222222,
             "#7201a8"
            ],
            [
             0.3333333333333333,
             "#9c179e"
            ],
            [
             0.4444444444444444,
             "#bd3786"
            ],
            [
             0.5555555555555556,
             "#d8576b"
            ],
            [
             0.6666666666666666,
             "#ed7953"
            ],
            [
             0.7777777777777778,
             "#fb9f3a"
            ],
            [
             0.8888888888888888,
             "#fdca26"
            ],
            [
             1,
             "#f0f921"
            ]
           ],
           "sequentialminus": [
            [
             0,
             "#0d0887"
            ],
            [
             0.1111111111111111,
             "#46039f"
            ],
            [
             0.2222222222222222,
             "#7201a8"
            ],
            [
             0.3333333333333333,
             "#9c179e"
            ],
            [
             0.4444444444444444,
             "#bd3786"
            ],
            [
             0.5555555555555556,
             "#d8576b"
            ],
            [
             0.6666666666666666,
             "#ed7953"
            ],
            [
             0.7777777777777778,
             "#fb9f3a"
            ],
            [
             0.8888888888888888,
             "#fdca26"
            ],
            [
             1,
             "#f0f921"
            ]
           ]
          },
          "colorway": [
           "#636efa",
           "#EF553B",
           "#00cc96",
           "#ab63fa",
           "#FFA15A",
           "#19d3f3",
           "#FF6692",
           "#B6E880",
           "#FF97FF",
           "#FECB52"
          ],
          "font": {
           "color": "#2a3f5f"
          },
          "geo": {
           "bgcolor": "white",
           "lakecolor": "white",
           "landcolor": "#E5ECF6",
           "showlakes": true,
           "showland": true,
           "subunitcolor": "white"
          },
          "hoverlabel": {
           "align": "left"
          },
          "hovermode": "closest",
          "mapbox": {
           "style": "light"
          },
          "paper_bgcolor": "white",
          "plot_bgcolor": "#E5ECF6",
          "polar": {
           "angularaxis": {
            "gridcolor": "white",
            "linecolor": "white",
            "ticks": ""
           },
           "bgcolor": "#E5ECF6",
           "radialaxis": {
            "gridcolor": "white",
            "linecolor": "white",
            "ticks": ""
           }
          },
          "scene": {
           "xaxis": {
            "backgroundcolor": "#E5ECF6",
            "gridcolor": "white",
            "gridwidth": 2,
            "linecolor": "white",
            "showbackground": true,
            "ticks": "",
            "zerolinecolor": "white"
           },
           "yaxis": {
            "backgroundcolor": "#E5ECF6",
            "gridcolor": "white",
            "gridwidth": 2,
            "linecolor": "white",
            "showbackground": true,
            "ticks": "",
            "zerolinecolor": "white"
           },
           "zaxis": {
            "backgroundcolor": "#E5ECF6",
            "gridcolor": "white",
            "gridwidth": 2,
            "linecolor": "white",
            "showbackground": true,
            "ticks": "",
            "zerolinecolor": "white"
           }
          },
          "shapedefaults": {
           "line": {
            "color": "#2a3f5f"
           }
          },
          "ternary": {
           "aaxis": {
            "gridcolor": "white",
            "linecolor": "white",
            "ticks": ""
           },
           "baxis": {
            "gridcolor": "white",
            "linecolor": "white",
            "ticks": ""
           },
           "bgcolor": "#E5ECF6",
           "caxis": {
            "gridcolor": "white",
            "linecolor": "white",
            "ticks": ""
           }
          },
          "title": {
           "x": 0.05
          },
          "xaxis": {
           "automargin": true,
           "gridcolor": "white",
           "linecolor": "white",
           "ticks": "",
           "title": {
            "standoff": 15
           },
           "zerolinecolor": "white",
           "zerolinewidth": 2
          },
          "yaxis": {
           "automargin": true,
           "gridcolor": "white",
           "linecolor": "white",
           "ticks": "",
           "title": {
            "standoff": 15
           },
           "zerolinecolor": "white",
           "zerolinewidth": 2
          }
         }
        },
        "title": {
         "text": "Univariate drift metrics"
        },
        "xaxis": {
         "anchor": "y",
         "domain": [
          0,
          1
         ],
         "linecolor": "#3b0280",
         "matches": "x",
         "mirror": true,
         "showgrid": false,
         "title": {
          "text": "Time"
         },
         "zeroline": false
        },
        "xaxis2": {
         "anchor": "y2",
         "domain": [
          0,
          1
         ],
         "linecolor": "#3b0280",
         "matches": "x",
         "mirror": true,
         "showgrid": false,
         "title": {
          "text": "Time"
         },
         "zeroline": false
        },
        "yaxis": {
         "anchor": "x",
         "domain": [
          0.625,
          1
         ],
         "linecolor": "#3b0280",
         "mirror": true,
         "showgrid": false,
         "title": {
          "text": "Chi2 statistic"
         },
         "zeroline": false
        },
        "yaxis2": {
         "anchor": "x2",
         "domain": [
          0,
          0.375
         ],
         "linecolor": "#3b0280",
         "mirror": true,
         "showgrid": false,
         "title": {
          "text": "Chi2 statistic"
         },
         "zeroline": false
        }
       }
      }
     },
     "metadata": {},
     "output_type": "display_data"
    }
   ],
   "source": [
    "figure = results.filter(column_names=results.categorical_column_names, methods=['chi2']).plot(kind='drift')\n",
    "\n",
    "figure.show()"
   ]
  },
  {
   "cell_type": "code",
   "execution_count": 113,
   "metadata": {},
   "outputs": [
    {
     "name": "stderr",
     "output_type": "stream",
     "text": [
      "c:\\Users\\leoal\\.virtualenvs\\mlops-nova-project-5FFhJkaC\\lib\\site-packages\\lightgbm\\basic.py:2065: UserWarning:\n",
      "\n",
      "Using categorical_feature in Dataset.\n",
      "\n",
      "c:\\Users\\leoal\\.virtualenvs\\mlops-nova-project-5FFhJkaC\\lib\\site-packages\\lightgbm\\basic.py:2065: UserWarning:\n",
      "\n",
      "Using categorical_feature in Dataset.\n",
      "\n",
      "c:\\Users\\leoal\\.virtualenvs\\mlops-nova-project-5FFhJkaC\\lib\\site-packages\\nannyml\\sampling_error\\regression.py:191: RuntimeWarning:\n",
      "\n",
      "invalid value encountered in double_scalars\n",
      "\n",
      "c:\\Users\\leoal\\.virtualenvs\\mlops-nova-project-5FFhJkaC\\lib\\site-packages\\nannyml\\sampling_error\\regression.py:230: RuntimeWarning:\n",
      "\n",
      "invalid value encountered in double_scalars\n",
      "\n",
      "c:\\Users\\leoal\\.virtualenvs\\mlops-nova-project-5FFhJkaC\\lib\\site-packages\\nannyml\\sampling_error\\regression.py:191: RuntimeWarning:\n",
      "\n",
      "invalid value encountered in double_scalars\n",
      "\n",
      "c:\\Users\\leoal\\.virtualenvs\\mlops-nova-project-5FFhJkaC\\lib\\site-packages\\nannyml\\sampling_error\\regression.py:230: RuntimeWarning:\n",
      "\n",
      "invalid value encountered in double_scalars\n",
      "\n",
      "c:\\Users\\leoal\\.virtualenvs\\mlops-nova-project-5FFhJkaC\\lib\\site-packages\\nannyml\\sampling_error\\regression.py:191: RuntimeWarning:\n",
      "\n",
      "invalid value encountered in double_scalars\n",
      "\n",
      "c:\\Users\\leoal\\.virtualenvs\\mlops-nova-project-5FFhJkaC\\lib\\site-packages\\nannyml\\sampling_error\\regression.py:230: RuntimeWarning:\n",
      "\n",
      "invalid value encountered in double_scalars\n",
      "\n",
      "c:\\Users\\leoal\\.virtualenvs\\mlops-nova-project-5FFhJkaC\\lib\\site-packages\\nannyml\\sampling_error\\regression.py:191: RuntimeWarning:\n",
      "\n",
      "invalid value encountered in double_scalars\n",
      "\n",
      "c:\\Users\\leoal\\.virtualenvs\\mlops-nova-project-5FFhJkaC\\lib\\site-packages\\nannyml\\sampling_error\\regression.py:230: RuntimeWarning:\n",
      "\n",
      "invalid value encountered in double_scalars\n",
      "\n",
      "c:\\Users\\leoal\\.virtualenvs\\mlops-nova-project-5FFhJkaC\\lib\\site-packages\\nannyml\\sampling_error\\regression.py:191: RuntimeWarning:\n",
      "\n",
      "invalid value encountered in double_scalars\n",
      "\n",
      "c:\\Users\\leoal\\.virtualenvs\\mlops-nova-project-5FFhJkaC\\lib\\site-packages\\nannyml\\sampling_error\\regression.py:230: RuntimeWarning:\n",
      "\n",
      "invalid value encountered in double_scalars\n",
      "\n",
      "c:\\Users\\leoal\\.virtualenvs\\mlops-nova-project-5FFhJkaC\\lib\\site-packages\\nannyml\\sampling_error\\regression.py:191: RuntimeWarning:\n",
      "\n",
      "invalid value encountered in double_scalars\n",
      "\n",
      "c:\\Users\\leoal\\.virtualenvs\\mlops-nova-project-5FFhJkaC\\lib\\site-packages\\nannyml\\sampling_error\\regression.py:230: RuntimeWarning:\n",
      "\n",
      "invalid value encountered in double_scalars\n",
      "\n",
      "c:\\Users\\leoal\\.virtualenvs\\mlops-nova-project-5FFhJkaC\\lib\\site-packages\\nannyml\\sampling_error\\regression.py:191: RuntimeWarning:\n",
      "\n",
      "invalid value encountered in double_scalars\n",
      "\n",
      "c:\\Users\\leoal\\.virtualenvs\\mlops-nova-project-5FFhJkaC\\lib\\site-packages\\nannyml\\sampling_error\\regression.py:230: RuntimeWarning:\n",
      "\n",
      "invalid value encountered in double_scalars\n",
      "\n",
      "c:\\Users\\leoal\\.virtualenvs\\mlops-nova-project-5FFhJkaC\\lib\\site-packages\\nannyml\\sampling_error\\regression.py:191: RuntimeWarning:\n",
      "\n",
      "invalid value encountered in double_scalars\n",
      "\n",
      "c:\\Users\\leoal\\.virtualenvs\\mlops-nova-project-5FFhJkaC\\lib\\site-packages\\nannyml\\sampling_error\\regression.py:230: RuntimeWarning:\n",
      "\n",
      "invalid value encountered in double_scalars\n",
      "\n",
      "c:\\Users\\leoal\\.virtualenvs\\mlops-nova-project-5FFhJkaC\\lib\\site-packages\\nannyml\\sampling_error\\regression.py:191: RuntimeWarning:\n",
      "\n",
      "invalid value encountered in double_scalars\n",
      "\n",
      "c:\\Users\\leoal\\.virtualenvs\\mlops-nova-project-5FFhJkaC\\lib\\site-packages\\nannyml\\sampling_error\\regression.py:230: RuntimeWarning:\n",
      "\n",
      "invalid value encountered in double_scalars\n",
      "\n",
      "c:\\Users\\leoal\\.virtualenvs\\mlops-nova-project-5FFhJkaC\\lib\\site-packages\\nannyml\\sampling_error\\regression.py:191: RuntimeWarning:\n",
      "\n",
      "invalid value encountered in double_scalars\n",
      "\n",
      "c:\\Users\\leoal\\.virtualenvs\\mlops-nova-project-5FFhJkaC\\lib\\site-packages\\nannyml\\sampling_error\\regression.py:230: RuntimeWarning:\n",
      "\n",
      "invalid value encountered in double_scalars\n",
      "\n",
      "c:\\Users\\leoal\\.virtualenvs\\mlops-nova-project-5FFhJkaC\\lib\\site-packages\\nannyml\\sampling_error\\regression.py:191: RuntimeWarning:\n",
      "\n",
      "invalid value encountered in double_scalars\n",
      "\n",
      "c:\\Users\\leoal\\.virtualenvs\\mlops-nova-project-5FFhJkaC\\lib\\site-packages\\nannyml\\sampling_error\\regression.py:230: RuntimeWarning:\n",
      "\n",
      "invalid value encountered in double_scalars\n",
      "\n",
      "c:\\Users\\leoal\\.virtualenvs\\mlops-nova-project-5FFhJkaC\\lib\\site-packages\\nannyml\\sampling_error\\regression.py:191: RuntimeWarning:\n",
      "\n",
      "invalid value encountered in double_scalars\n",
      "\n",
      "c:\\Users\\leoal\\.virtualenvs\\mlops-nova-project-5FFhJkaC\\lib\\site-packages\\nannyml\\sampling_error\\regression.py:230: RuntimeWarning:\n",
      "\n",
      "invalid value encountered in double_scalars\n",
      "\n",
      "c:\\Users\\leoal\\.virtualenvs\\mlops-nova-project-5FFhJkaC\\lib\\site-packages\\nannyml\\sampling_error\\regression.py:191: RuntimeWarning:\n",
      "\n",
      "invalid value encountered in double_scalars\n",
      "\n",
      "c:\\Users\\leoal\\.virtualenvs\\mlops-nova-project-5FFhJkaC\\lib\\site-packages\\nannyml\\sampling_error\\regression.py:230: RuntimeWarning:\n",
      "\n",
      "invalid value encountered in double_scalars\n",
      "\n",
      "c:\\Users\\leoal\\.virtualenvs\\mlops-nova-project-5FFhJkaC\\lib\\site-packages\\nannyml\\sampling_error\\regression.py:191: RuntimeWarning:\n",
      "\n",
      "invalid value encountered in double_scalars\n",
      "\n",
      "c:\\Users\\leoal\\.virtualenvs\\mlops-nova-project-5FFhJkaC\\lib\\site-packages\\nannyml\\sampling_error\\regression.py:230: RuntimeWarning:\n",
      "\n",
      "invalid value encountered in double_scalars\n",
      "\n",
      "c:\\Users\\leoal\\.virtualenvs\\mlops-nova-project-5FFhJkaC\\lib\\site-packages\\nannyml\\sampling_error\\regression.py:191: RuntimeWarning:\n",
      "\n",
      "invalid value encountered in double_scalars\n",
      "\n",
      "c:\\Users\\leoal\\.virtualenvs\\mlops-nova-project-5FFhJkaC\\lib\\site-packages\\nannyml\\sampling_error\\regression.py:230: RuntimeWarning:\n",
      "\n",
      "invalid value encountered in double_scalars\n",
      "\n",
      "c:\\Users\\leoal\\.virtualenvs\\mlops-nova-project-5FFhJkaC\\lib\\site-packages\\nannyml\\sampling_error\\regression.py:191: RuntimeWarning:\n",
      "\n",
      "invalid value encountered in double_scalars\n",
      "\n",
      "c:\\Users\\leoal\\.virtualenvs\\mlops-nova-project-5FFhJkaC\\lib\\site-packages\\nannyml\\sampling_error\\regression.py:230: RuntimeWarning:\n",
      "\n",
      "invalid value encountered in double_scalars\n",
      "\n",
      "c:\\Users\\leoal\\.virtualenvs\\mlops-nova-project-5FFhJkaC\\lib\\site-packages\\nannyml\\sampling_error\\regression.py:191: RuntimeWarning:\n",
      "\n",
      "invalid value encountered in double_scalars\n",
      "\n",
      "c:\\Users\\leoal\\.virtualenvs\\mlops-nova-project-5FFhJkaC\\lib\\site-packages\\nannyml\\sampling_error\\regression.py:230: RuntimeWarning:\n",
      "\n",
      "invalid value encountered in double_scalars\n",
      "\n",
      "c:\\Users\\leoal\\.virtualenvs\\mlops-nova-project-5FFhJkaC\\lib\\site-packages\\nannyml\\sampling_error\\regression.py:191: RuntimeWarning:\n",
      "\n",
      "invalid value encountered in double_scalars\n",
      "\n",
      "c:\\Users\\leoal\\.virtualenvs\\mlops-nova-project-5FFhJkaC\\lib\\site-packages\\nannyml\\sampling_error\\regression.py:230: RuntimeWarning:\n",
      "\n",
      "invalid value encountered in double_scalars\n",
      "\n",
      "c:\\Users\\leoal\\.virtualenvs\\mlops-nova-project-5FFhJkaC\\lib\\site-packages\\nannyml\\sampling_error\\regression.py:191: RuntimeWarning:\n",
      "\n",
      "invalid value encountered in double_scalars\n",
      "\n",
      "c:\\Users\\leoal\\.virtualenvs\\mlops-nova-project-5FFhJkaC\\lib\\site-packages\\nannyml\\sampling_error\\regression.py:230: RuntimeWarning:\n",
      "\n",
      "invalid value encountered in double_scalars\n",
      "\n",
      "c:\\Users\\leoal\\.virtualenvs\\mlops-nova-project-5FFhJkaC\\lib\\site-packages\\nannyml\\sampling_error\\regression.py:191: RuntimeWarning:\n",
      "\n",
      "invalid value encountered in double_scalars\n",
      "\n",
      "c:\\Users\\leoal\\.virtualenvs\\mlops-nova-project-5FFhJkaC\\lib\\site-packages\\nannyml\\sampling_error\\regression.py:230: RuntimeWarning:\n",
      "\n",
      "invalid value encountered in double_scalars\n",
      "\n"
     ]
    },
    {
     "data": {
      "text/html": [
       "<div>\n",
       "<style scoped>\n",
       "    .dataframe tbody tr th:only-of-type {\n",
       "        vertical-align: middle;\n",
       "    }\n",
       "\n",
       "    .dataframe tbody tr th {\n",
       "        vertical-align: top;\n",
       "    }\n",
       "\n",
       "    .dataframe thead tr th {\n",
       "        text-align: left;\n",
       "    }\n",
       "</style>\n",
       "<table border=\"1\" class=\"dataframe\">\n",
       "  <thead>\n",
       "    <tr>\n",
       "      <th></th>\n",
       "      <th colspan=\"7\" halign=\"left\">chunk</th>\n",
       "      <th colspan=\"6\" halign=\"left\">rmse</th>\n",
       "      <th colspan=\"8\" halign=\"left\">rmsle</th>\n",
       "    </tr>\n",
       "    <tr>\n",
       "      <th></th>\n",
       "      <th>key</th>\n",
       "      <th>chunk_index</th>\n",
       "      <th>start_index</th>\n",
       "      <th>end_index</th>\n",
       "      <th>start_date</th>\n",
       "      <th>end_date</th>\n",
       "      <th>period</th>\n",
       "      <th>sampling_error</th>\n",
       "      <th>realized</th>\n",
       "      <th>value</th>\n",
       "      <th>...</th>\n",
       "      <th>lower_threshold</th>\n",
       "      <th>alert</th>\n",
       "      <th>sampling_error</th>\n",
       "      <th>realized</th>\n",
       "      <th>value</th>\n",
       "      <th>upper_confidence_boundary</th>\n",
       "      <th>lower_confidence_boundary</th>\n",
       "      <th>upper_threshold</th>\n",
       "      <th>lower_threshold</th>\n",
       "      <th>alert</th>\n",
       "    </tr>\n",
       "  </thead>\n",
       "  <tbody>\n",
       "    <tr>\n",
       "      <th>0</th>\n",
       "      <td>[0:50]</td>\n",
       "      <td>0</td>\n",
       "      <td>0</td>\n",
       "      <td>50</td>\n",
       "      <td>2009-01-01</td>\n",
       "      <td>2009-04-01</td>\n",
       "      <td>analysis</td>\n",
       "      <td>NaN</td>\n",
       "      <td>0.0</td>\n",
       "      <td>0.0</td>\n",
       "      <td>...</td>\n",
       "      <td>0.0</td>\n",
       "      <td>False</td>\n",
       "      <td>NaN</td>\n",
       "      <td>0.0</td>\n",
       "      <td>0.0</td>\n",
       "      <td>NaN</td>\n",
       "      <td>0.0</td>\n",
       "      <td>0.0</td>\n",
       "      <td>0.0</td>\n",
       "      <td>False</td>\n",
       "    </tr>\n",
       "    <tr>\n",
       "      <th>1</th>\n",
       "      <td>[51:101]</td>\n",
       "      <td>1</td>\n",
       "      <td>51</td>\n",
       "      <td>101</td>\n",
       "      <td>2009-04-01</td>\n",
       "      <td>2009-05-01</td>\n",
       "      <td>analysis</td>\n",
       "      <td>NaN</td>\n",
       "      <td>0.0</td>\n",
       "      <td>0.0</td>\n",
       "      <td>...</td>\n",
       "      <td>0.0</td>\n",
       "      <td>False</td>\n",
       "      <td>NaN</td>\n",
       "      <td>0.0</td>\n",
       "      <td>0.0</td>\n",
       "      <td>NaN</td>\n",
       "      <td>0.0</td>\n",
       "      <td>0.0</td>\n",
       "      <td>0.0</td>\n",
       "      <td>False</td>\n",
       "    </tr>\n",
       "    <tr>\n",
       "      <th>2</th>\n",
       "      <td>[102:152]</td>\n",
       "      <td>2</td>\n",
       "      <td>102</td>\n",
       "      <td>152</td>\n",
       "      <td>2009-05-01</td>\n",
       "      <td>2009-06-01</td>\n",
       "      <td>analysis</td>\n",
       "      <td>NaN</td>\n",
       "      <td>0.0</td>\n",
       "      <td>0.0</td>\n",
       "      <td>...</td>\n",
       "      <td>0.0</td>\n",
       "      <td>False</td>\n",
       "      <td>NaN</td>\n",
       "      <td>0.0</td>\n",
       "      <td>0.0</td>\n",
       "      <td>NaN</td>\n",
       "      <td>0.0</td>\n",
       "      <td>0.0</td>\n",
       "      <td>0.0</td>\n",
       "      <td>False</td>\n",
       "    </tr>\n",
       "    <tr>\n",
       "      <th>3</th>\n",
       "      <td>[153:203]</td>\n",
       "      <td>3</td>\n",
       "      <td>153</td>\n",
       "      <td>203</td>\n",
       "      <td>2009-06-01</td>\n",
       "      <td>2009-07-01</td>\n",
       "      <td>analysis</td>\n",
       "      <td>NaN</td>\n",
       "      <td>0.0</td>\n",
       "      <td>0.0</td>\n",
       "      <td>...</td>\n",
       "      <td>0.0</td>\n",
       "      <td>False</td>\n",
       "      <td>NaN</td>\n",
       "      <td>0.0</td>\n",
       "      <td>0.0</td>\n",
       "      <td>NaN</td>\n",
       "      <td>0.0</td>\n",
       "      <td>0.0</td>\n",
       "      <td>0.0</td>\n",
       "      <td>False</td>\n",
       "    </tr>\n",
       "    <tr>\n",
       "      <th>4</th>\n",
       "      <td>[204:254]</td>\n",
       "      <td>4</td>\n",
       "      <td>204</td>\n",
       "      <td>254</td>\n",
       "      <td>2009-07-01</td>\n",
       "      <td>2009-09-01</td>\n",
       "      <td>analysis</td>\n",
       "      <td>NaN</td>\n",
       "      <td>0.0</td>\n",
       "      <td>0.0</td>\n",
       "      <td>...</td>\n",
       "      <td>0.0</td>\n",
       "      <td>False</td>\n",
       "      <td>NaN</td>\n",
       "      <td>0.0</td>\n",
       "      <td>0.0</td>\n",
       "      <td>NaN</td>\n",
       "      <td>0.0</td>\n",
       "      <td>0.0</td>\n",
       "      <td>0.0</td>\n",
       "      <td>False</td>\n",
       "    </tr>\n",
       "    <tr>\n",
       "      <th>5</th>\n",
       "      <td>[255:305]</td>\n",
       "      <td>5</td>\n",
       "      <td>255</td>\n",
       "      <td>305</td>\n",
       "      <td>2009-09-01</td>\n",
       "      <td>2009-11-01</td>\n",
       "      <td>analysis</td>\n",
       "      <td>NaN</td>\n",
       "      <td>0.0</td>\n",
       "      <td>0.0</td>\n",
       "      <td>...</td>\n",
       "      <td>0.0</td>\n",
       "      <td>False</td>\n",
       "      <td>NaN</td>\n",
       "      <td>0.0</td>\n",
       "      <td>0.0</td>\n",
       "      <td>NaN</td>\n",
       "      <td>0.0</td>\n",
       "      <td>0.0</td>\n",
       "      <td>0.0</td>\n",
       "      <td>False</td>\n",
       "    </tr>\n",
       "    <tr>\n",
       "      <th>6</th>\n",
       "      <td>[306:356]</td>\n",
       "      <td>6</td>\n",
       "      <td>306</td>\n",
       "      <td>356</td>\n",
       "      <td>2009-11-01</td>\n",
       "      <td>2010-02-01</td>\n",
       "      <td>analysis</td>\n",
       "      <td>NaN</td>\n",
       "      <td>0.0</td>\n",
       "      <td>0.0</td>\n",
       "      <td>...</td>\n",
       "      <td>0.0</td>\n",
       "      <td>False</td>\n",
       "      <td>NaN</td>\n",
       "      <td>0.0</td>\n",
       "      <td>0.0</td>\n",
       "      <td>NaN</td>\n",
       "      <td>0.0</td>\n",
       "      <td>0.0</td>\n",
       "      <td>0.0</td>\n",
       "      <td>False</td>\n",
       "    </tr>\n",
       "    <tr>\n",
       "      <th>7</th>\n",
       "      <td>[357:407]</td>\n",
       "      <td>7</td>\n",
       "      <td>357</td>\n",
       "      <td>407</td>\n",
       "      <td>2010-02-01</td>\n",
       "      <td>2010-04-01</td>\n",
       "      <td>analysis</td>\n",
       "      <td>NaN</td>\n",
       "      <td>0.0</td>\n",
       "      <td>0.0</td>\n",
       "      <td>...</td>\n",
       "      <td>0.0</td>\n",
       "      <td>False</td>\n",
       "      <td>NaN</td>\n",
       "      <td>0.0</td>\n",
       "      <td>0.0</td>\n",
       "      <td>NaN</td>\n",
       "      <td>0.0</td>\n",
       "      <td>0.0</td>\n",
       "      <td>0.0</td>\n",
       "      <td>False</td>\n",
       "    </tr>\n",
       "    <tr>\n",
       "      <th>8</th>\n",
       "      <td>[408:458]</td>\n",
       "      <td>8</td>\n",
       "      <td>408</td>\n",
       "      <td>458</td>\n",
       "      <td>2010-04-01</td>\n",
       "      <td>2010-05-01</td>\n",
       "      <td>analysis</td>\n",
       "      <td>NaN</td>\n",
       "      <td>0.0</td>\n",
       "      <td>0.0</td>\n",
       "      <td>...</td>\n",
       "      <td>0.0</td>\n",
       "      <td>False</td>\n",
       "      <td>NaN</td>\n",
       "      <td>0.0</td>\n",
       "      <td>0.0</td>\n",
       "      <td>NaN</td>\n",
       "      <td>0.0</td>\n",
       "      <td>0.0</td>\n",
       "      <td>0.0</td>\n",
       "      <td>False</td>\n",
       "    </tr>\n",
       "    <tr>\n",
       "      <th>9</th>\n",
       "      <td>[510:509]</td>\n",
       "      <td>9</td>\n",
       "      <td>459</td>\n",
       "      <td>512</td>\n",
       "      <td>2010-07-01</td>\n",
       "      <td>2010-07-01</td>\n",
       "      <td>analysis</td>\n",
       "      <td>NaN</td>\n",
       "      <td>0.0</td>\n",
       "      <td>0.0</td>\n",
       "      <td>...</td>\n",
       "      <td>0.0</td>\n",
       "      <td>False</td>\n",
       "      <td>NaN</td>\n",
       "      <td>0.0</td>\n",
       "      <td>0.0</td>\n",
       "      <td>NaN</td>\n",
       "      <td>0.0</td>\n",
       "      <td>0.0</td>\n",
       "      <td>0.0</td>\n",
       "      <td>False</td>\n",
       "    </tr>\n",
       "  </tbody>\n",
       "</table>\n",
       "<p>10 rows × 23 columns</p>\n",
       "</div>"
      ],
      "text/plain": [
       "       chunk                                                          \\\n",
       "         key chunk_index start_index end_index start_date   end_date   \n",
       "0     [0:50]           0           0        50 2009-01-01 2009-04-01   \n",
       "1   [51:101]           1          51       101 2009-04-01 2009-05-01   \n",
       "2  [102:152]           2         102       152 2009-05-01 2009-06-01   \n",
       "3  [153:203]           3         153       203 2009-06-01 2009-07-01   \n",
       "4  [204:254]           4         204       254 2009-07-01 2009-09-01   \n",
       "5  [255:305]           5         255       305 2009-09-01 2009-11-01   \n",
       "6  [306:356]           6         306       356 2009-11-01 2010-02-01   \n",
       "7  [357:407]           7         357       407 2010-02-01 2010-04-01   \n",
       "8  [408:458]           8         408       458 2010-04-01 2010-05-01   \n",
       "9  [510:509]           9         459       512 2010-07-01 2010-07-01   \n",
       "\n",
       "                      rmse                 ...                         \\\n",
       "     period sampling_error realized value  ... lower_threshold  alert   \n",
       "0  analysis            NaN      0.0   0.0  ...             0.0  False   \n",
       "1  analysis            NaN      0.0   0.0  ...             0.0  False   \n",
       "2  analysis            NaN      0.0   0.0  ...             0.0  False   \n",
       "3  analysis            NaN      0.0   0.0  ...             0.0  False   \n",
       "4  analysis            NaN      0.0   0.0  ...             0.0  False   \n",
       "5  analysis            NaN      0.0   0.0  ...             0.0  False   \n",
       "6  analysis            NaN      0.0   0.0  ...             0.0  False   \n",
       "7  analysis            NaN      0.0   0.0  ...             0.0  False   \n",
       "8  analysis            NaN      0.0   0.0  ...             0.0  False   \n",
       "9  analysis            NaN      0.0   0.0  ...             0.0  False   \n",
       "\n",
       "           rmsle                                           \\\n",
       "  sampling_error realized value upper_confidence_boundary   \n",
       "0            NaN      0.0   0.0                       NaN   \n",
       "1            NaN      0.0   0.0                       NaN   \n",
       "2            NaN      0.0   0.0                       NaN   \n",
       "3            NaN      0.0   0.0                       NaN   \n",
       "4            NaN      0.0   0.0                       NaN   \n",
       "5            NaN      0.0   0.0                       NaN   \n",
       "6            NaN      0.0   0.0                       NaN   \n",
       "7            NaN      0.0   0.0                       NaN   \n",
       "8            NaN      0.0   0.0                       NaN   \n",
       "9            NaN      0.0   0.0                       NaN   \n",
       "\n",
       "                                                                    \n",
       "  lower_confidence_boundary upper_threshold lower_threshold  alert  \n",
       "0                       0.0             0.0             0.0  False  \n",
       "1                       0.0             0.0             0.0  False  \n",
       "2                       0.0             0.0             0.0  False  \n",
       "3                       0.0             0.0             0.0  False  \n",
       "4                       0.0             0.0             0.0  False  \n",
       "5                       0.0             0.0             0.0  False  \n",
       "6                       0.0             0.0             0.0  False  \n",
       "7                       0.0             0.0             0.0  False  \n",
       "8                       0.0             0.0             0.0  False  \n",
       "9                       0.0             0.0             0.0  False  \n",
       "\n",
       "[10 rows x 23 columns]"
      ]
     },
     "metadata": {},
     "output_type": "display_data"
    },
    {
     "data": {
      "text/html": [
       "<div>\n",
       "<style scoped>\n",
       "    .dataframe tbody tr th:only-of-type {\n",
       "        vertical-align: middle;\n",
       "    }\n",
       "\n",
       "    .dataframe tbody tr th {\n",
       "        vertical-align: top;\n",
       "    }\n",
       "\n",
       "    .dataframe thead tr th {\n",
       "        text-align: left;\n",
       "    }\n",
       "</style>\n",
       "<table border=\"1\" class=\"dataframe\">\n",
       "  <thead>\n",
       "    <tr>\n",
       "      <th></th>\n",
       "      <th colspan=\"7\" halign=\"left\">chunk</th>\n",
       "      <th colspan=\"6\" halign=\"left\">rmse</th>\n",
       "      <th colspan=\"8\" halign=\"left\">rmsle</th>\n",
       "    </tr>\n",
       "    <tr>\n",
       "      <th></th>\n",
       "      <th>key</th>\n",
       "      <th>chunk_index</th>\n",
       "      <th>start_index</th>\n",
       "      <th>end_index</th>\n",
       "      <th>start_date</th>\n",
       "      <th>end_date</th>\n",
       "      <th>period</th>\n",
       "      <th>sampling_error</th>\n",
       "      <th>realized</th>\n",
       "      <th>value</th>\n",
       "      <th>...</th>\n",
       "      <th>lower_threshold</th>\n",
       "      <th>alert</th>\n",
       "      <th>sampling_error</th>\n",
       "      <th>realized</th>\n",
       "      <th>value</th>\n",
       "      <th>upper_confidence_boundary</th>\n",
       "      <th>lower_confidence_boundary</th>\n",
       "      <th>upper_threshold</th>\n",
       "      <th>lower_threshold</th>\n",
       "      <th>alert</th>\n",
       "    </tr>\n",
       "  </thead>\n",
       "  <tbody>\n",
       "    <tr>\n",
       "      <th>0</th>\n",
       "      <td>[0:62]</td>\n",
       "      <td>0</td>\n",
       "      <td>0</td>\n",
       "      <td>62</td>\n",
       "      <td>2007-01-01</td>\n",
       "      <td>2007-04-01</td>\n",
       "      <td>reference</td>\n",
       "      <td>NaN</td>\n",
       "      <td>0.0</td>\n",
       "      <td>0.0</td>\n",
       "      <td>...</td>\n",
       "      <td>0.0</td>\n",
       "      <td>False</td>\n",
       "      <td>NaN</td>\n",
       "      <td>0.0</td>\n",
       "      <td>0.0</td>\n",
       "      <td>NaN</td>\n",
       "      <td>0.0</td>\n",
       "      <td>0.0</td>\n",
       "      <td>0.0</td>\n",
       "      <td>False</td>\n",
       "    </tr>\n",
       "    <tr>\n",
       "      <th>1</th>\n",
       "      <td>[63:125]</td>\n",
       "      <td>1</td>\n",
       "      <td>63</td>\n",
       "      <td>125</td>\n",
       "      <td>2007-04-01</td>\n",
       "      <td>2007-06-01</td>\n",
       "      <td>reference</td>\n",
       "      <td>NaN</td>\n",
       "      <td>0.0</td>\n",
       "      <td>0.0</td>\n",
       "      <td>...</td>\n",
       "      <td>0.0</td>\n",
       "      <td>False</td>\n",
       "      <td>NaN</td>\n",
       "      <td>0.0</td>\n",
       "      <td>0.0</td>\n",
       "      <td>NaN</td>\n",
       "      <td>0.0</td>\n",
       "      <td>0.0</td>\n",
       "      <td>0.0</td>\n",
       "      <td>False</td>\n",
       "    </tr>\n",
       "    <tr>\n",
       "      <th>2</th>\n",
       "      <td>[126:188]</td>\n",
       "      <td>2</td>\n",
       "      <td>126</td>\n",
       "      <td>188</td>\n",
       "      <td>2007-06-01</td>\n",
       "      <td>2007-07-01</td>\n",
       "      <td>reference</td>\n",
       "      <td>NaN</td>\n",
       "      <td>0.0</td>\n",
       "      <td>0.0</td>\n",
       "      <td>...</td>\n",
       "      <td>0.0</td>\n",
       "      <td>False</td>\n",
       "      <td>NaN</td>\n",
       "      <td>0.0</td>\n",
       "      <td>0.0</td>\n",
       "      <td>NaN</td>\n",
       "      <td>0.0</td>\n",
       "      <td>0.0</td>\n",
       "      <td>0.0</td>\n",
       "      <td>False</td>\n",
       "    </tr>\n",
       "    <tr>\n",
       "      <th>3</th>\n",
       "      <td>[189:251]</td>\n",
       "      <td>3</td>\n",
       "      <td>189</td>\n",
       "      <td>251</td>\n",
       "      <td>2007-07-01</td>\n",
       "      <td>2007-08-01</td>\n",
       "      <td>reference</td>\n",
       "      <td>NaN</td>\n",
       "      <td>0.0</td>\n",
       "      <td>0.0</td>\n",
       "      <td>...</td>\n",
       "      <td>0.0</td>\n",
       "      <td>False</td>\n",
       "      <td>NaN</td>\n",
       "      <td>0.0</td>\n",
       "      <td>0.0</td>\n",
       "      <td>NaN</td>\n",
       "      <td>0.0</td>\n",
       "      <td>0.0</td>\n",
       "      <td>0.0</td>\n",
       "      <td>False</td>\n",
       "    </tr>\n",
       "    <tr>\n",
       "      <th>4</th>\n",
       "      <td>[252:314]</td>\n",
       "      <td>4</td>\n",
       "      <td>252</td>\n",
       "      <td>314</td>\n",
       "      <td>2007-08-01</td>\n",
       "      <td>2007-12-01</td>\n",
       "      <td>reference</td>\n",
       "      <td>NaN</td>\n",
       "      <td>0.0</td>\n",
       "      <td>0.0</td>\n",
       "      <td>...</td>\n",
       "      <td>0.0</td>\n",
       "      <td>False</td>\n",
       "      <td>NaN</td>\n",
       "      <td>0.0</td>\n",
       "      <td>0.0</td>\n",
       "      <td>NaN</td>\n",
       "      <td>0.0</td>\n",
       "      <td>0.0</td>\n",
       "      <td>0.0</td>\n",
       "      <td>False</td>\n",
       "    </tr>\n",
       "    <tr>\n",
       "      <th>5</th>\n",
       "      <td>[315:377]</td>\n",
       "      <td>5</td>\n",
       "      <td>315</td>\n",
       "      <td>377</td>\n",
       "      <td>2007-12-01</td>\n",
       "      <td>2008-04-01</td>\n",
       "      <td>reference</td>\n",
       "      <td>NaN</td>\n",
       "      <td>0.0</td>\n",
       "      <td>0.0</td>\n",
       "      <td>...</td>\n",
       "      <td>0.0</td>\n",
       "      <td>False</td>\n",
       "      <td>NaN</td>\n",
       "      <td>0.0</td>\n",
       "      <td>0.0</td>\n",
       "      <td>NaN</td>\n",
       "      <td>0.0</td>\n",
       "      <td>0.0</td>\n",
       "      <td>0.0</td>\n",
       "      <td>False</td>\n",
       "    </tr>\n",
       "    <tr>\n",
       "      <th>6</th>\n",
       "      <td>[378:440]</td>\n",
       "      <td>6</td>\n",
       "      <td>378</td>\n",
       "      <td>440</td>\n",
       "      <td>2008-04-01</td>\n",
       "      <td>2008-06-01</td>\n",
       "      <td>reference</td>\n",
       "      <td>NaN</td>\n",
       "      <td>0.0</td>\n",
       "      <td>0.0</td>\n",
       "      <td>...</td>\n",
       "      <td>0.0</td>\n",
       "      <td>False</td>\n",
       "      <td>NaN</td>\n",
       "      <td>0.0</td>\n",
       "      <td>0.0</td>\n",
       "      <td>NaN</td>\n",
       "      <td>0.0</td>\n",
       "      <td>0.0</td>\n",
       "      <td>0.0</td>\n",
       "      <td>False</td>\n",
       "    </tr>\n",
       "    <tr>\n",
       "      <th>7</th>\n",
       "      <td>[441:503]</td>\n",
       "      <td>7</td>\n",
       "      <td>441</td>\n",
       "      <td>503</td>\n",
       "      <td>2008-06-01</td>\n",
       "      <td>2008-07-01</td>\n",
       "      <td>reference</td>\n",
       "      <td>NaN</td>\n",
       "      <td>0.0</td>\n",
       "      <td>0.0</td>\n",
       "      <td>...</td>\n",
       "      <td>0.0</td>\n",
       "      <td>False</td>\n",
       "      <td>NaN</td>\n",
       "      <td>0.0</td>\n",
       "      <td>0.0</td>\n",
       "      <td>NaN</td>\n",
       "      <td>0.0</td>\n",
       "      <td>0.0</td>\n",
       "      <td>0.0</td>\n",
       "      <td>False</td>\n",
       "    </tr>\n",
       "    <tr>\n",
       "      <th>8</th>\n",
       "      <td>[504:566]</td>\n",
       "      <td>8</td>\n",
       "      <td>504</td>\n",
       "      <td>566</td>\n",
       "      <td>2008-07-01</td>\n",
       "      <td>2008-09-01</td>\n",
       "      <td>reference</td>\n",
       "      <td>NaN</td>\n",
       "      <td>0.0</td>\n",
       "      <td>0.0</td>\n",
       "      <td>...</td>\n",
       "      <td>0.0</td>\n",
       "      <td>False</td>\n",
       "      <td>NaN</td>\n",
       "      <td>0.0</td>\n",
       "      <td>0.0</td>\n",
       "      <td>NaN</td>\n",
       "      <td>0.0</td>\n",
       "      <td>0.0</td>\n",
       "      <td>0.0</td>\n",
       "      <td>False</td>\n",
       "    </tr>\n",
       "    <tr>\n",
       "      <th>9</th>\n",
       "      <td>[630:629]</td>\n",
       "      <td>9</td>\n",
       "      <td>567</td>\n",
       "      <td>632</td>\n",
       "      <td>2008-12-01</td>\n",
       "      <td>2008-12-01</td>\n",
       "      <td>reference</td>\n",
       "      <td>NaN</td>\n",
       "      <td>0.0</td>\n",
       "      <td>0.0</td>\n",
       "      <td>...</td>\n",
       "      <td>0.0</td>\n",
       "      <td>False</td>\n",
       "      <td>NaN</td>\n",
       "      <td>0.0</td>\n",
       "      <td>0.0</td>\n",
       "      <td>NaN</td>\n",
       "      <td>0.0</td>\n",
       "      <td>0.0</td>\n",
       "      <td>0.0</td>\n",
       "      <td>False</td>\n",
       "    </tr>\n",
       "  </tbody>\n",
       "</table>\n",
       "<p>10 rows × 23 columns</p>\n",
       "</div>"
      ],
      "text/plain": [
       "       chunk                                                          \\\n",
       "         key chunk_index start_index end_index start_date   end_date   \n",
       "0     [0:62]           0           0        62 2007-01-01 2007-04-01   \n",
       "1   [63:125]           1          63       125 2007-04-01 2007-06-01   \n",
       "2  [126:188]           2         126       188 2007-06-01 2007-07-01   \n",
       "3  [189:251]           3         189       251 2007-07-01 2007-08-01   \n",
       "4  [252:314]           4         252       314 2007-08-01 2007-12-01   \n",
       "5  [315:377]           5         315       377 2007-12-01 2008-04-01   \n",
       "6  [378:440]           6         378       440 2008-04-01 2008-06-01   \n",
       "7  [441:503]           7         441       503 2008-06-01 2008-07-01   \n",
       "8  [504:566]           8         504       566 2008-07-01 2008-09-01   \n",
       "9  [630:629]           9         567       632 2008-12-01 2008-12-01   \n",
       "\n",
       "                       rmse                 ...                         \\\n",
       "      period sampling_error realized value  ... lower_threshold  alert   \n",
       "0  reference            NaN      0.0   0.0  ...             0.0  False   \n",
       "1  reference            NaN      0.0   0.0  ...             0.0  False   \n",
       "2  reference            NaN      0.0   0.0  ...             0.0  False   \n",
       "3  reference            NaN      0.0   0.0  ...             0.0  False   \n",
       "4  reference            NaN      0.0   0.0  ...             0.0  False   \n",
       "5  reference            NaN      0.0   0.0  ...             0.0  False   \n",
       "6  reference            NaN      0.0   0.0  ...             0.0  False   \n",
       "7  reference            NaN      0.0   0.0  ...             0.0  False   \n",
       "8  reference            NaN      0.0   0.0  ...             0.0  False   \n",
       "9  reference            NaN      0.0   0.0  ...             0.0  False   \n",
       "\n",
       "           rmsle                                           \\\n",
       "  sampling_error realized value upper_confidence_boundary   \n",
       "0            NaN      0.0   0.0                       NaN   \n",
       "1            NaN      0.0   0.0                       NaN   \n",
       "2            NaN      0.0   0.0                       NaN   \n",
       "3            NaN      0.0   0.0                       NaN   \n",
       "4            NaN      0.0   0.0                       NaN   \n",
       "5            NaN      0.0   0.0                       NaN   \n",
       "6            NaN      0.0   0.0                       NaN   \n",
       "7            NaN      0.0   0.0                       NaN   \n",
       "8            NaN      0.0   0.0                       NaN   \n",
       "9            NaN      0.0   0.0                       NaN   \n",
       "\n",
       "                                                                    \n",
       "  lower_confidence_boundary upper_threshold lower_threshold  alert  \n",
       "0                       0.0             0.0             0.0  False  \n",
       "1                       0.0             0.0             0.0  False  \n",
       "2                       0.0             0.0             0.0  False  \n",
       "3                       0.0             0.0             0.0  False  \n",
       "4                       0.0             0.0             0.0  False  \n",
       "5                       0.0             0.0             0.0  False  \n",
       "6                       0.0             0.0             0.0  False  \n",
       "7                       0.0             0.0             0.0  False  \n",
       "8                       0.0             0.0             0.0  False  \n",
       "9                       0.0             0.0             0.0  False  \n",
       "\n",
       "[10 rows x 23 columns]"
      ]
     },
     "metadata": {},
     "output_type": "display_data"
    },
    {
     "data": {
      "application/vnd.plotly.v1+json": {
       "config": {
        "plotlyServerURL": "https://plot.ly"
       },
       "data": [
        {
         "hoverinfo": "skip",
         "legendgroup": "metric_reference",
         "line": {
          "color": "#3b0280",
          "dash": "dash",
          "shape": "hv",
          "width": 2
         },
         "mode": "lines",
         "name": "Metric",
         "showlegend": true,
         "type": "scatter",
         "x": [
          "2007-01-01T00:00:00",
          "2007-04-01T00:00:00",
          "2007-06-01T00:00:00",
          "2007-07-01T00:00:00",
          "2007-08-01T00:00:00",
          "2007-12-01T00:00:00",
          "2008-04-01T00:00:00",
          "2008-06-01T00:00:00",
          "2008-07-01T00:00:00",
          "2008-12-01T00:00:00",
          "2008-12-01T00:00:00"
         ],
         "xaxis": "x",
         "y": [
          0,
          0,
          0,
          0,
          0,
          0,
          0,
          0,
          0,
          0,
          0
         ],
         "yaxis": "y"
        },
        {
         "customdata": [
          [
           "Estimated <b>RMSE</b>",
           "<b style=\"color:#3b0280;line-height:60px\">Reference</b>",
           "",
           "[0:62]",
           "From <b>Jan-01-2007</b> to <b>Apr-01-2007</b>",
           0,
           null
          ],
          [
           "Estimated <b>RMSE</b>",
           "<b style=\"color:#3b0280;line-height:60px\">Reference</b>",
           "",
           "[63:125]",
           "From <b>Apr-01-2007</b> to <b>Jun-01-2007</b>",
           0,
           null
          ],
          [
           "Estimated <b>RMSE</b>",
           "<b style=\"color:#3b0280;line-height:60px\">Reference</b>",
           "",
           "[126:188]",
           "From <b>Jun-01-2007</b> to <b>Jul-01-2007</b>",
           0,
           null
          ],
          [
           "Estimated <b>RMSE</b>",
           "<b style=\"color:#3b0280;line-height:60px\">Reference</b>",
           "",
           "[189:251]",
           "From <b>Jul-01-2007</b> to <b>Aug-01-2007</b>",
           0,
           null
          ],
          [
           "Estimated <b>RMSE</b>",
           "<b style=\"color:#3b0280;line-height:60px\">Reference</b>",
           "",
           "[252:314]",
           "From <b>Aug-01-2007</b> to <b>Dec-01-2007</b>",
           0,
           null
          ],
          [
           "Estimated <b>RMSE</b>",
           "<b style=\"color:#3b0280;line-height:60px\">Reference</b>",
           "",
           "[315:377]",
           "From <b>Dec-01-2007</b> to <b>Apr-01-2008</b>",
           0,
           null
          ],
          [
           "Estimated <b>RMSE</b>",
           "<b style=\"color:#3b0280;line-height:60px\">Reference</b>",
           "",
           "[378:440]",
           "From <b>Apr-01-2008</b> to <b>Jun-01-2008</b>",
           0,
           null
          ],
          [
           "Estimated <b>RMSE</b>",
           "<b style=\"color:#3b0280;line-height:60px\">Reference</b>",
           "",
           "[441:503]",
           "From <b>Jun-01-2008</b> to <b>Jul-01-2008</b>",
           0,
           null
          ],
          [
           "Estimated <b>RMSE</b>",
           "<b style=\"color:#3b0280;line-height:60px\">Reference</b>",
           "",
           "[504:566]",
           "From <b>Jul-01-2008</b> to <b>Sep-01-2008</b>",
           0,
           null
          ],
          [
           "Estimated <b>RMSE</b>",
           "<b style=\"color:#3b0280;line-height:60px\">Reference</b>",
           "",
           "[630:629]",
           "From <b>Dec-01-2008</b> to <b>Dec-01-2008</b>",
           0,
           null
          ]
         ],
         "hovertemplate": "%{customdata[1]} &nbsp; &nbsp; %{customdata[2]} <br />Chunk: <b>%{customdata[3]}</b> &nbsp; &nbsp; %{customdata[4]} <br />%{customdata[0]}: <b>%{customdata[5]}</b><br />Confidence band: +/- <b>%{customdata[6]}</b><br /><extra></extra>",
         "legendgroup": "metric_reference",
         "line": {
          "dash": "dash"
         },
         "marker": {
          "color": "#3b0280",
          "size": 5,
          "symbol": "circle"
         },
         "mode": "markers",
         "name": "Metric",
         "showlegend": false,
         "type": "scatter",
         "x": [
          "2007-02-15T00:00:00",
          "2007-05-01T12:00:00",
          "2007-06-16T00:00:00",
          "2007-07-16T12:00:00",
          "2007-10-01T00:00:00",
          "2008-01-31T00:00:00",
          "2008-05-01T12:00:00",
          "2008-06-16T00:00:00",
          "2008-09-15T12:00:00",
          "2008-12-01T00:00:00"
         ],
         "xaxis": "x",
         "y": [
          0,
          0,
          0,
          0,
          0,
          0,
          0,
          0,
          0,
          0,
          0
         ],
         "yaxis": "y"
        },
        {
         "hoverinfo": "skip",
         "legendgroup": "metric_analysis",
         "line": {
          "color": "#3b0280",
          "dash": "dash",
          "shape": "hv",
          "width": 2
         },
         "mode": "lines",
         "name": "Metric",
         "showlegend": false,
         "type": "scatter",
         "x": [
          "2009-01-01T00:00:00",
          "2009-04-01T00:00:00",
          "2009-05-01T00:00:00",
          "2009-06-01T00:00:00",
          "2009-07-01T00:00:00",
          "2009-09-01T00:00:00",
          "2009-11-01T00:00:00",
          "2010-02-01T00:00:00",
          "2010-04-01T00:00:00",
          "2010-07-01T00:00:00",
          "2010-07-01T00:00:00"
         ],
         "xaxis": "x",
         "y": [
          0,
          0,
          0,
          0,
          0,
          0,
          0,
          0,
          0,
          0,
          0
         ],
         "yaxis": "y"
        },
        {
         "customdata": [
          [
           "Estimated <b>RMSE</b>",
           "<b style=\"color:#3b0280;line-height:60px\">Analysis</b>",
           "",
           "[0:50]",
           "From <b>Jan-01-2009</b> to <b>Apr-01-2009</b>",
           0,
           null
          ],
          [
           "Estimated <b>RMSE</b>",
           "<b style=\"color:#3b0280;line-height:60px\">Analysis</b>",
           "",
           "[51:101]",
           "From <b>Apr-01-2009</b> to <b>May-01-2009</b>",
           0,
           null
          ],
          [
           "Estimated <b>RMSE</b>",
           "<b style=\"color:#3b0280;line-height:60px\">Analysis</b>",
           "",
           "[102:152]",
           "From <b>May-01-2009</b> to <b>Jun-01-2009</b>",
           0,
           null
          ],
          [
           "Estimated <b>RMSE</b>",
           "<b style=\"color:#3b0280;line-height:60px\">Analysis</b>",
           "",
           "[153:203]",
           "From <b>Jun-01-2009</b> to <b>Jul-01-2009</b>",
           0,
           null
          ],
          [
           "Estimated <b>RMSE</b>",
           "<b style=\"color:#3b0280;line-height:60px\">Analysis</b>",
           "",
           "[204:254]",
           "From <b>Jul-01-2009</b> to <b>Sep-01-2009</b>",
           0,
           null
          ],
          [
           "Estimated <b>RMSE</b>",
           "<b style=\"color:#3b0280;line-height:60px\">Analysis</b>",
           "",
           "[255:305]",
           "From <b>Sep-01-2009</b> to <b>Nov-01-2009</b>",
           0,
           null
          ],
          [
           "Estimated <b>RMSE</b>",
           "<b style=\"color:#3b0280;line-height:60px\">Analysis</b>",
           "",
           "[306:356]",
           "From <b>Nov-01-2009</b> to <b>Feb-01-2010</b>",
           0,
           null
          ],
          [
           "Estimated <b>RMSE</b>",
           "<b style=\"color:#3b0280;line-height:60px\">Analysis</b>",
           "",
           "[357:407]",
           "From <b>Feb-01-2010</b> to <b>Apr-01-2010</b>",
           0,
           null
          ],
          [
           "Estimated <b>RMSE</b>",
           "<b style=\"color:#3b0280;line-height:60px\">Analysis</b>",
           "",
           "[408:458]",
           "From <b>Apr-01-2010</b> to <b>May-01-2010</b>",
           0,
           null
          ],
          [
           "Estimated <b>RMSE</b>",
           "<b style=\"color:#3b0280;line-height:60px\">Analysis</b>",
           "",
           "[510:509]",
           "From <b>Jul-01-2010</b> to <b>Jul-01-2010</b>",
           0,
           null
          ]
         ],
         "hovertemplate": "%{customdata[1]} &nbsp; &nbsp; %{customdata[2]} <br />Chunk: <b>%{customdata[3]}</b> &nbsp; &nbsp; %{customdata[4]} <br />%{customdata[0]}: <b>%{customdata[5]}</b><br />Confidence band: +/- <b>%{customdata[6]}</b><br /><extra></extra>",
         "legendgroup": "metric_analysis",
         "line": {
          "dash": "dash"
         },
         "marker": {
          "color": "#3b0280",
          "size": 5,
          "symbol": "circle"
         },
         "mode": "markers",
         "name": "Metric",
         "showlegend": false,
         "type": "scatter",
         "x": [
          "2009-02-15T00:00:00",
          "2009-04-16T00:00:00",
          "2009-05-16T12:00:00",
          "2009-06-16T00:00:00",
          "2009-08-01T00:00:00",
          "2009-10-01T12:00:00",
          "2009-12-17T00:00:00",
          "2010-03-02T12:00:00",
          "2010-05-16T12:00:00",
          "2010-07-01T00:00:00"
         ],
         "xaxis": "x",
         "y": [
          0,
          0,
          0,
          0,
          0,
          0,
          0,
          0,
          0,
          0,
          0
         ],
         "yaxis": "y"
        },
        {
         "hoverinfo": "skip",
         "legendgroup": "alert",
         "marker": {
          "color": "#DD4040",
          "size": 8,
          "symbol": "diamond"
         },
         "mode": "markers",
         "name": "Alert",
         "showlegend": true,
         "type": "scatter",
         "x": [],
         "xaxis": "x",
         "y": [],
         "yaxis": "y"
        },
        {
         "hoverinfo": "skip",
         "legendgroup": "thresh",
         "line": {
          "color": "#DD4040",
          "dash": "dash",
          "width": 2
         },
         "mode": "lines",
         "name": "Threshold",
         "showlegend": true,
         "type": "scatter",
         "x": [
          "2007-01-01T00:00:00",
          "2007-04-01T00:00:00",
          "2007-06-01T00:00:00",
          "2007-07-01T00:00:00",
          "2007-08-01T00:00:00",
          "2007-12-01T00:00:00",
          "2008-04-01T00:00:00",
          "2008-06-01T00:00:00",
          "2008-07-01T00:00:00",
          "2008-12-01T00:00:00",
          "2008-12-01T00:00:00"
         ],
         "xaxis": "x",
         "y": [
          0,
          0,
          0,
          0,
          0,
          0,
          0,
          0,
          0,
          0,
          0
         ],
         "yaxis": "y"
        },
        {
         "hoverinfo": "skip",
         "legendgroup": "thresh",
         "line": {
          "color": "#DD4040",
          "dash": "dash",
          "width": 2
         },
         "mode": "lines",
         "name": "Threshold",
         "showlegend": false,
         "type": "scatter",
         "x": [
          "2007-01-01T00:00:00",
          "2007-04-01T00:00:00",
          "2007-06-01T00:00:00",
          "2007-07-01T00:00:00",
          "2007-08-01T00:00:00",
          "2007-12-01T00:00:00",
          "2008-04-01T00:00:00",
          "2008-06-01T00:00:00",
          "2008-07-01T00:00:00",
          "2008-12-01T00:00:00",
          "2008-12-01T00:00:00"
         ],
         "xaxis": "x",
         "y": [
          0,
          0,
          0,
          0,
          0,
          0,
          0,
          0,
          0,
          0,
          0
         ],
         "yaxis": "y"
        },
        {
         "hoverinfo": "skip",
         "legendgroup": "thresh",
         "line": {
          "color": "#DD4040",
          "dash": "dash",
          "width": 2
         },
         "mode": "lines",
         "name": "Threshold",
         "showlegend": false,
         "type": "scatter",
         "x": [
          "2009-01-01T00:00:00",
          "2009-04-01T00:00:00",
          "2009-05-01T00:00:00",
          "2009-06-01T00:00:00",
          "2009-07-01T00:00:00",
          "2009-09-01T00:00:00",
          "2009-11-01T00:00:00",
          "2010-02-01T00:00:00",
          "2010-04-01T00:00:00",
          "2010-07-01T00:00:00",
          "2010-07-01T00:00:00"
         ],
         "xaxis": "x",
         "y": [
          0,
          0,
          0,
          0,
          0,
          0,
          0,
          0,
          0,
          0,
          0
         ],
         "yaxis": "y"
        },
        {
         "hoverinfo": "skip",
         "legendgroup": "thresh",
         "line": {
          "color": "#DD4040",
          "dash": "dash",
          "width": 2
         },
         "mode": "lines",
         "name": "Threshold",
         "showlegend": false,
         "type": "scatter",
         "x": [
          "2009-01-01T00:00:00",
          "2009-04-01T00:00:00",
          "2009-05-01T00:00:00",
          "2009-06-01T00:00:00",
          "2009-07-01T00:00:00",
          "2009-09-01T00:00:00",
          "2009-11-01T00:00:00",
          "2010-02-01T00:00:00",
          "2010-04-01T00:00:00",
          "2010-07-01T00:00:00",
          "2010-07-01T00:00:00"
         ],
         "xaxis": "x",
         "y": [
          0,
          0,
          0,
          0,
          0,
          0,
          0,
          0,
          0,
          0,
          0
         ],
         "yaxis": "y"
        },
        {
         "hoverinfo": "skip",
         "line": {
          "color": "rgba(0,0,0,0)",
          "shape": "hv"
         },
         "mode": "lines",
         "name": "Confidence band",
         "showlegend": false,
         "type": "scatter",
         "x": [
          "2007-01-01T00:00:00",
          "2007-04-01T00:00:00",
          "2007-06-01T00:00:00",
          "2007-07-01T00:00:00",
          "2007-08-01T00:00:00",
          "2007-12-01T00:00:00",
          "2008-04-01T00:00:00",
          "2008-06-01T00:00:00",
          "2008-07-01T00:00:00",
          "2008-12-01T00:00:00",
          "2008-12-01T00:00:00"
         ],
         "xaxis": "x",
         "y": [
          null,
          null,
          null,
          null,
          null,
          null,
          null,
          null,
          null,
          null,
          null
         ],
         "yaxis": "y"
        },
        {
         "fill": "tonexty",
         "fillcolor": "rgba(0.23137254901960785, 0.00784313725490196, 0.5019607843137255, 0.2)",
         "hoverinfo": "skip",
         "line": {
          "color": "rgba(0,0,0,0)",
          "shape": "hv"
         },
         "mode": "lines",
         "name": "Confidence band",
         "showlegend": true,
         "type": "scatter",
         "x": [
          "2007-01-01T00:00:00",
          "2007-04-01T00:00:00",
          "2007-06-01T00:00:00",
          "2007-07-01T00:00:00",
          "2007-08-01T00:00:00",
          "2007-12-01T00:00:00",
          "2008-04-01T00:00:00",
          "2008-06-01T00:00:00",
          "2008-07-01T00:00:00",
          "2008-12-01T00:00:00",
          "2008-12-01T00:00:00"
         ],
         "xaxis": "x",
         "y": [
          0,
          0,
          0,
          0,
          0,
          0,
          0,
          0,
          0,
          0,
          0
         ],
         "yaxis": "y"
        },
        {
         "hoverinfo": "skip",
         "line": {
          "color": "rgba(0,0,0,0)",
          "shape": "hv"
         },
         "mode": "lines",
         "name": "Confidence band",
         "showlegend": false,
         "type": "scatter",
         "x": [
          "2009-01-01T00:00:00",
          "2009-04-01T00:00:00",
          "2009-05-01T00:00:00",
          "2009-06-01T00:00:00",
          "2009-07-01T00:00:00",
          "2009-09-01T00:00:00",
          "2009-11-01T00:00:00",
          "2010-02-01T00:00:00",
          "2010-04-01T00:00:00",
          "2010-07-01T00:00:00",
          "2010-07-01T00:00:00"
         ],
         "xaxis": "x",
         "y": [
          null,
          null,
          null,
          null,
          null,
          null,
          null,
          null,
          null,
          null,
          null
         ],
         "yaxis": "y"
        },
        {
         "fill": "tonexty",
         "fillcolor": "rgba(0.23137254901960785, 0.00784313725490196, 0.5019607843137255, 0.2)",
         "hoverinfo": "skip",
         "line": {
          "color": "rgba(0,0,0,0)",
          "shape": "hv"
         },
         "mode": "lines",
         "name": "Confidence band",
         "showlegend": false,
         "type": "scatter",
         "x": [
          "2009-01-01T00:00:00",
          "2009-04-01T00:00:00",
          "2009-05-01T00:00:00",
          "2009-06-01T00:00:00",
          "2009-07-01T00:00:00",
          "2009-09-01T00:00:00",
          "2009-11-01T00:00:00",
          "2010-02-01T00:00:00",
          "2010-04-01T00:00:00",
          "2010-07-01T00:00:00",
          "2010-07-01T00:00:00"
         ],
         "xaxis": "x",
         "y": [
          0,
          0,
          0,
          0,
          0,
          0,
          0,
          0,
          0,
          0,
          0
         ],
         "yaxis": "y"
        },
        {
         "hoverinfo": "skip",
         "legendgroup": "metric_reference",
         "line": {
          "color": "#3b0280",
          "dash": "dash",
          "shape": "hv",
          "width": 2
         },
         "mode": "lines",
         "name": "Metric",
         "showlegend": false,
         "type": "scatter",
         "x": [
          "2007-01-01T00:00:00",
          "2007-04-01T00:00:00",
          "2007-06-01T00:00:00",
          "2007-07-01T00:00:00",
          "2007-08-01T00:00:00",
          "2007-12-01T00:00:00",
          "2008-04-01T00:00:00",
          "2008-06-01T00:00:00",
          "2008-07-01T00:00:00",
          "2008-12-01T00:00:00",
          "2008-12-01T00:00:00"
         ],
         "xaxis": "x2",
         "y": [
          0,
          0,
          0,
          0,
          0,
          0,
          0,
          0,
          0,
          0,
          0
         ],
         "yaxis": "y2"
        },
        {
         "customdata": [
          [
           "Estimated <b>RMSLE</b>",
           "<b style=\"color:#3b0280;line-height:60px\">Reference</b>",
           "",
           "[0:62]",
           "From <b>Jan-01-2007</b> to <b>Apr-01-2007</b>",
           0,
           null
          ],
          [
           "Estimated <b>RMSLE</b>",
           "<b style=\"color:#3b0280;line-height:60px\">Reference</b>",
           "",
           "[63:125]",
           "From <b>Apr-01-2007</b> to <b>Jun-01-2007</b>",
           0,
           null
          ],
          [
           "Estimated <b>RMSLE</b>",
           "<b style=\"color:#3b0280;line-height:60px\">Reference</b>",
           "",
           "[126:188]",
           "From <b>Jun-01-2007</b> to <b>Jul-01-2007</b>",
           0,
           null
          ],
          [
           "Estimated <b>RMSLE</b>",
           "<b style=\"color:#3b0280;line-height:60px\">Reference</b>",
           "",
           "[189:251]",
           "From <b>Jul-01-2007</b> to <b>Aug-01-2007</b>",
           0,
           null
          ],
          [
           "Estimated <b>RMSLE</b>",
           "<b style=\"color:#3b0280;line-height:60px\">Reference</b>",
           "",
           "[252:314]",
           "From <b>Aug-01-2007</b> to <b>Dec-01-2007</b>",
           0,
           null
          ],
          [
           "Estimated <b>RMSLE</b>",
           "<b style=\"color:#3b0280;line-height:60px\">Reference</b>",
           "",
           "[315:377]",
           "From <b>Dec-01-2007</b> to <b>Apr-01-2008</b>",
           0,
           null
          ],
          [
           "Estimated <b>RMSLE</b>",
           "<b style=\"color:#3b0280;line-height:60px\">Reference</b>",
           "",
           "[378:440]",
           "From <b>Apr-01-2008</b> to <b>Jun-01-2008</b>",
           0,
           null
          ],
          [
           "Estimated <b>RMSLE</b>",
           "<b style=\"color:#3b0280;line-height:60px\">Reference</b>",
           "",
           "[441:503]",
           "From <b>Jun-01-2008</b> to <b>Jul-01-2008</b>",
           0,
           null
          ],
          [
           "Estimated <b>RMSLE</b>",
           "<b style=\"color:#3b0280;line-height:60px\">Reference</b>",
           "",
           "[504:566]",
           "From <b>Jul-01-2008</b> to <b>Sep-01-2008</b>",
           0,
           null
          ],
          [
           "Estimated <b>RMSLE</b>",
           "<b style=\"color:#3b0280;line-height:60px\">Reference</b>",
           "",
           "[630:629]",
           "From <b>Dec-01-2008</b> to <b>Dec-01-2008</b>",
           0,
           null
          ]
         ],
         "hovertemplate": "%{customdata[1]} &nbsp; &nbsp; %{customdata[2]} <br />Chunk: <b>%{customdata[3]}</b> &nbsp; &nbsp; %{customdata[4]} <br />%{customdata[0]}: <b>%{customdata[5]}</b><br />Confidence band: +/- <b>%{customdata[6]}</b><br /><extra></extra>",
         "legendgroup": "metric_reference",
         "line": {
          "dash": "dash"
         },
         "marker": {
          "color": "#3b0280",
          "size": 5,
          "symbol": "circle"
         },
         "mode": "markers",
         "name": "Metric",
         "showlegend": false,
         "type": "scatter",
         "x": [
          "2007-02-15T00:00:00",
          "2007-05-01T12:00:00",
          "2007-06-16T00:00:00",
          "2007-07-16T12:00:00",
          "2007-10-01T00:00:00",
          "2008-01-31T00:00:00",
          "2008-05-01T12:00:00",
          "2008-06-16T00:00:00",
          "2008-09-15T12:00:00",
          "2008-12-01T00:00:00"
         ],
         "xaxis": "x2",
         "y": [
          0,
          0,
          0,
          0,
          0,
          0,
          0,
          0,
          0,
          0,
          0
         ],
         "yaxis": "y2"
        },
        {
         "hoverinfo": "skip",
         "legendgroup": "metric_analysis",
         "line": {
          "color": "#3b0280",
          "dash": "dash",
          "shape": "hv",
          "width": 2
         },
         "mode": "lines",
         "name": "Metric",
         "showlegend": false,
         "type": "scatter",
         "x": [
          "2009-01-01T00:00:00",
          "2009-04-01T00:00:00",
          "2009-05-01T00:00:00",
          "2009-06-01T00:00:00",
          "2009-07-01T00:00:00",
          "2009-09-01T00:00:00",
          "2009-11-01T00:00:00",
          "2010-02-01T00:00:00",
          "2010-04-01T00:00:00",
          "2010-07-01T00:00:00",
          "2010-07-01T00:00:00"
         ],
         "xaxis": "x2",
         "y": [
          0,
          0,
          0,
          0,
          0,
          0,
          0,
          0,
          0,
          0,
          0
         ],
         "yaxis": "y2"
        },
        {
         "customdata": [
          [
           "Estimated <b>RMSLE</b>",
           "<b style=\"color:#3b0280;line-height:60px\">Analysis</b>",
           "",
           "[0:50]",
           "From <b>Jan-01-2009</b> to <b>Apr-01-2009</b>",
           0,
           null
          ],
          [
           "Estimated <b>RMSLE</b>",
           "<b style=\"color:#3b0280;line-height:60px\">Analysis</b>",
           "",
           "[51:101]",
           "From <b>Apr-01-2009</b> to <b>May-01-2009</b>",
           0,
           null
          ],
          [
           "Estimated <b>RMSLE</b>",
           "<b style=\"color:#3b0280;line-height:60px\">Analysis</b>",
           "",
           "[102:152]",
           "From <b>May-01-2009</b> to <b>Jun-01-2009</b>",
           0,
           null
          ],
          [
           "Estimated <b>RMSLE</b>",
           "<b style=\"color:#3b0280;line-height:60px\">Analysis</b>",
           "",
           "[153:203]",
           "From <b>Jun-01-2009</b> to <b>Jul-01-2009</b>",
           0,
           null
          ],
          [
           "Estimated <b>RMSLE</b>",
           "<b style=\"color:#3b0280;line-height:60px\">Analysis</b>",
           "",
           "[204:254]",
           "From <b>Jul-01-2009</b> to <b>Sep-01-2009</b>",
           0,
           null
          ],
          [
           "Estimated <b>RMSLE</b>",
           "<b style=\"color:#3b0280;line-height:60px\">Analysis</b>",
           "",
           "[255:305]",
           "From <b>Sep-01-2009</b> to <b>Nov-01-2009</b>",
           0,
           null
          ],
          [
           "Estimated <b>RMSLE</b>",
           "<b style=\"color:#3b0280;line-height:60px\">Analysis</b>",
           "",
           "[306:356]",
           "From <b>Nov-01-2009</b> to <b>Feb-01-2010</b>",
           0,
           null
          ],
          [
           "Estimated <b>RMSLE</b>",
           "<b style=\"color:#3b0280;line-height:60px\">Analysis</b>",
           "",
           "[357:407]",
           "From <b>Feb-01-2010</b> to <b>Apr-01-2010</b>",
           0,
           null
          ],
          [
           "Estimated <b>RMSLE</b>",
           "<b style=\"color:#3b0280;line-height:60px\">Analysis</b>",
           "",
           "[408:458]",
           "From <b>Apr-01-2010</b> to <b>May-01-2010</b>",
           0,
           null
          ],
          [
           "Estimated <b>RMSLE</b>",
           "<b style=\"color:#3b0280;line-height:60px\">Analysis</b>",
           "",
           "[510:509]",
           "From <b>Jul-01-2010</b> to <b>Jul-01-2010</b>",
           0,
           null
          ]
         ],
         "hovertemplate": "%{customdata[1]} &nbsp; &nbsp; %{customdata[2]} <br />Chunk: <b>%{customdata[3]}</b> &nbsp; &nbsp; %{customdata[4]} <br />%{customdata[0]}: <b>%{customdata[5]}</b><br />Confidence band: +/- <b>%{customdata[6]}</b><br /><extra></extra>",
         "legendgroup": "metric_analysis",
         "line": {
          "dash": "dash"
         },
         "marker": {
          "color": "#3b0280",
          "size": 5,
          "symbol": "circle"
         },
         "mode": "markers",
         "name": "Metric",
         "showlegend": false,
         "type": "scatter",
         "x": [
          "2009-02-15T00:00:00",
          "2009-04-16T00:00:00",
          "2009-05-16T12:00:00",
          "2009-06-16T00:00:00",
          "2009-08-01T00:00:00",
          "2009-10-01T12:00:00",
          "2009-12-17T00:00:00",
          "2010-03-02T12:00:00",
          "2010-05-16T12:00:00",
          "2010-07-01T00:00:00"
         ],
         "xaxis": "x2",
         "y": [
          0,
          0,
          0,
          0,
          0,
          0,
          0,
          0,
          0,
          0,
          0
         ],
         "yaxis": "y2"
        },
        {
         "hoverinfo": "skip",
         "legendgroup": "alert",
         "marker": {
          "color": "#DD4040",
          "size": 8,
          "symbol": "diamond"
         },
         "mode": "markers",
         "name": "Alert",
         "showlegend": false,
         "type": "scatter",
         "x": [],
         "xaxis": "x2",
         "y": [],
         "yaxis": "y2"
        },
        {
         "hoverinfo": "skip",
         "legendgroup": "thresh",
         "line": {
          "color": "#DD4040",
          "dash": "dash",
          "width": 2
         },
         "mode": "lines",
         "name": "Threshold",
         "showlegend": false,
         "type": "scatter",
         "x": [
          "2007-01-01T00:00:00",
          "2007-04-01T00:00:00",
          "2007-06-01T00:00:00",
          "2007-07-01T00:00:00",
          "2007-08-01T00:00:00",
          "2007-12-01T00:00:00",
          "2008-04-01T00:00:00",
          "2008-06-01T00:00:00",
          "2008-07-01T00:00:00",
          "2008-12-01T00:00:00",
          "2008-12-01T00:00:00"
         ],
         "xaxis": "x2",
         "y": [
          0,
          0,
          0,
          0,
          0,
          0,
          0,
          0,
          0,
          0,
          0
         ],
         "yaxis": "y2"
        },
        {
         "hoverinfo": "skip",
         "legendgroup": "thresh",
         "line": {
          "color": "#DD4040",
          "dash": "dash",
          "width": 2
         },
         "mode": "lines",
         "name": "Threshold",
         "showlegend": false,
         "type": "scatter",
         "x": [
          "2007-01-01T00:00:00",
          "2007-04-01T00:00:00",
          "2007-06-01T00:00:00",
          "2007-07-01T00:00:00",
          "2007-08-01T00:00:00",
          "2007-12-01T00:00:00",
          "2008-04-01T00:00:00",
          "2008-06-01T00:00:00",
          "2008-07-01T00:00:00",
          "2008-12-01T00:00:00",
          "2008-12-01T00:00:00"
         ],
         "xaxis": "x2",
         "y": [
          0,
          0,
          0,
          0,
          0,
          0,
          0,
          0,
          0,
          0,
          0
         ],
         "yaxis": "y2"
        },
        {
         "hoverinfo": "skip",
         "legendgroup": "thresh",
         "line": {
          "color": "#DD4040",
          "dash": "dash",
          "width": 2
         },
         "mode": "lines",
         "name": "Threshold",
         "showlegend": false,
         "type": "scatter",
         "x": [
          "2009-01-01T00:00:00",
          "2009-04-01T00:00:00",
          "2009-05-01T00:00:00",
          "2009-06-01T00:00:00",
          "2009-07-01T00:00:00",
          "2009-09-01T00:00:00",
          "2009-11-01T00:00:00",
          "2010-02-01T00:00:00",
          "2010-04-01T00:00:00",
          "2010-07-01T00:00:00",
          "2010-07-01T00:00:00"
         ],
         "xaxis": "x2",
         "y": [
          0,
          0,
          0,
          0,
          0,
          0,
          0,
          0,
          0,
          0,
          0
         ],
         "yaxis": "y2"
        },
        {
         "hoverinfo": "skip",
         "legendgroup": "thresh",
         "line": {
          "color": "#DD4040",
          "dash": "dash",
          "width": 2
         },
         "mode": "lines",
         "name": "Threshold",
         "showlegend": false,
         "type": "scatter",
         "x": [
          "2009-01-01T00:00:00",
          "2009-04-01T00:00:00",
          "2009-05-01T00:00:00",
          "2009-06-01T00:00:00",
          "2009-07-01T00:00:00",
          "2009-09-01T00:00:00",
          "2009-11-01T00:00:00",
          "2010-02-01T00:00:00",
          "2010-04-01T00:00:00",
          "2010-07-01T00:00:00",
          "2010-07-01T00:00:00"
         ],
         "xaxis": "x2",
         "y": [
          0,
          0,
          0,
          0,
          0,
          0,
          0,
          0,
          0,
          0,
          0
         ],
         "yaxis": "y2"
        },
        {
         "hoverinfo": "skip",
         "line": {
          "color": "rgba(0,0,0,0)",
          "shape": "hv"
         },
         "mode": "lines",
         "name": "Confidence band",
         "showlegend": false,
         "type": "scatter",
         "x": [
          "2007-01-01T00:00:00",
          "2007-04-01T00:00:00",
          "2007-06-01T00:00:00",
          "2007-07-01T00:00:00",
          "2007-08-01T00:00:00",
          "2007-12-01T00:00:00",
          "2008-04-01T00:00:00",
          "2008-06-01T00:00:00",
          "2008-07-01T00:00:00",
          "2008-12-01T00:00:00",
          "2008-12-01T00:00:00"
         ],
         "xaxis": "x2",
         "y": [
          null,
          null,
          null,
          null,
          null,
          null,
          null,
          null,
          null,
          null,
          null
         ],
         "yaxis": "y2"
        },
        {
         "fill": "tonexty",
         "fillcolor": "rgba(0.23137254901960785, 0.00784313725490196, 0.5019607843137255, 0.2)",
         "hoverinfo": "skip",
         "line": {
          "color": "rgba(0,0,0,0)",
          "shape": "hv"
         },
         "mode": "lines",
         "name": "Confidence band",
         "showlegend": false,
         "type": "scatter",
         "x": [
          "2007-01-01T00:00:00",
          "2007-04-01T00:00:00",
          "2007-06-01T00:00:00",
          "2007-07-01T00:00:00",
          "2007-08-01T00:00:00",
          "2007-12-01T00:00:00",
          "2008-04-01T00:00:00",
          "2008-06-01T00:00:00",
          "2008-07-01T00:00:00",
          "2008-12-01T00:00:00",
          "2008-12-01T00:00:00"
         ],
         "xaxis": "x2",
         "y": [
          0,
          0,
          0,
          0,
          0,
          0,
          0,
          0,
          0,
          0,
          0
         ],
         "yaxis": "y2"
        },
        {
         "hoverinfo": "skip",
         "line": {
          "color": "rgba(0,0,0,0)",
          "shape": "hv"
         },
         "mode": "lines",
         "name": "Confidence band",
         "showlegend": false,
         "type": "scatter",
         "x": [
          "2009-01-01T00:00:00",
          "2009-04-01T00:00:00",
          "2009-05-01T00:00:00",
          "2009-06-01T00:00:00",
          "2009-07-01T00:00:00",
          "2009-09-01T00:00:00",
          "2009-11-01T00:00:00",
          "2010-02-01T00:00:00",
          "2010-04-01T00:00:00",
          "2010-07-01T00:00:00",
          "2010-07-01T00:00:00"
         ],
         "xaxis": "x2",
         "y": [
          null,
          null,
          null,
          null,
          null,
          null,
          null,
          null,
          null,
          null,
          null
         ],
         "yaxis": "y2"
        },
        {
         "fill": "tonexty",
         "fillcolor": "rgba(0.23137254901960785, 0.00784313725490196, 0.5019607843137255, 0.2)",
         "hoverinfo": "skip",
         "line": {
          "color": "rgba(0,0,0,0)",
          "shape": "hv"
         },
         "mode": "lines",
         "name": "Confidence band",
         "showlegend": false,
         "type": "scatter",
         "x": [
          "2009-01-01T00:00:00",
          "2009-04-01T00:00:00",
          "2009-05-01T00:00:00",
          "2009-06-01T00:00:00",
          "2009-07-01T00:00:00",
          "2009-09-01T00:00:00",
          "2009-11-01T00:00:00",
          "2010-02-01T00:00:00",
          "2010-04-01T00:00:00",
          "2010-07-01T00:00:00",
          "2010-07-01T00:00:00"
         ],
         "xaxis": "x2",
         "y": [
          0,
          0,
          0,
          0,
          0,
          0,
          0,
          0,
          0,
          0,
          0
         ],
         "yaxis": "y2"
        }
       ],
       "layout": {
        "annotations": [
         {
          "font": {
           "size": 16
          },
          "showarrow": false,
          "text": "Estimated <b>RMSE</b>",
          "x": 0.5,
          "xanchor": "center",
          "xref": "paper",
          "y": 1,
          "yanchor": "bottom",
          "yref": "paper"
         },
         {
          "font": {
           "size": 16
          },
          "showarrow": false,
          "text": "Estimated <b>RMSLE</b>",
          "x": 0.5,
          "xanchor": "center",
          "xref": "paper",
          "y": 0.375,
          "yanchor": "bottom",
          "yref": "paper"
         },
         {
          "showarrow": false,
          "text": "Reference",
          "x": "2007-11-15T19:12:00",
          "xref": "x",
          "xshift": 10,
          "y": 1.01,
          "yref": "y domain"
         },
         {
          "showarrow": false,
          "text": "Analysis",
          "x": "2009-09-06T14:24:00",
          "xref": "x",
          "xshift": 15,
          "y": 1.01,
          "yref": "y domain"
         },
         {
          "showarrow": false,
          "text": "Reference",
          "x": "2007-11-15T19:12:00",
          "xref": "x2",
          "xshift": 10,
          "y": 1.01,
          "yref": "y2 domain"
         },
         {
          "showarrow": false,
          "text": "Analysis",
          "x": "2009-09-06T14:24:00",
          "xref": "x2",
          "xshift": 15,
          "y": 1.01,
          "yref": "y2 domain"
         }
        ],
        "height": 1000,
        "hoverlabel": {
         "bgcolor": "white",
         "font": {
          "size": 14
         }
        },
        "legend": {
         "itemclick": false,
         "itemdoubleclick": false,
         "traceorder": "grouped"
        },
        "paper_bgcolor": "rgba(255,255,255,1)",
        "plot_bgcolor": "rgba(255,255,255,1)",
        "shapes": [
         {
          "layer": "below",
          "line": {
           "color": "#666666",
           "width": 1
          },
          "type": "line",
          "x0": "2009-01-01T00:00:00",
          "x1": "2009-01-01T00:00:00",
          "xref": "x",
          "y0": 0,
          "y1": 1,
          "yref": "y domain"
         },
         {
          "layer": "below",
          "line": {
           "color": "#666666",
           "width": 1
          },
          "type": "line",
          "x0": "2009-01-01T00:00:00",
          "x1": "2009-01-01T00:00:00",
          "xref": "x",
          "y0": 0,
          "y1": 1,
          "yref": "y domain"
         },
         {
          "layer": "below",
          "line": {
           "color": "#666666",
           "width": 1
          },
          "type": "line",
          "x0": "2009-01-01T00:00:00",
          "x1": "2009-01-01T00:00:00",
          "xref": "x2",
          "y0": 0,
          "y1": 1,
          "yref": "y2 domain"
         }
        ],
        "template": {
         "data": {
          "bar": [
           {
            "error_x": {
             "color": "#2a3f5f"
            },
            "error_y": {
             "color": "#2a3f5f"
            },
            "marker": {
             "line": {
              "color": "#E5ECF6",
              "width": 0.5
             },
             "pattern": {
              "fillmode": "overlay",
              "size": 10,
              "solidity": 0.2
             }
            },
            "type": "bar"
           }
          ],
          "barpolar": [
           {
            "marker": {
             "line": {
              "color": "#E5ECF6",
              "width": 0.5
             },
             "pattern": {
              "fillmode": "overlay",
              "size": 10,
              "solidity": 0.2
             }
            },
            "type": "barpolar"
           }
          ],
          "carpet": [
           {
            "aaxis": {
             "endlinecolor": "#2a3f5f",
             "gridcolor": "white",
             "linecolor": "white",
             "minorgridcolor": "white",
             "startlinecolor": "#2a3f5f"
            },
            "baxis": {
             "endlinecolor": "#2a3f5f",
             "gridcolor": "white",
             "linecolor": "white",
             "minorgridcolor": "white",
             "startlinecolor": "#2a3f5f"
            },
            "type": "carpet"
           }
          ],
          "choropleth": [
           {
            "colorbar": {
             "outlinewidth": 0,
             "ticks": ""
            },
            "type": "choropleth"
           }
          ],
          "contour": [
           {
            "colorbar": {
             "outlinewidth": 0,
             "ticks": ""
            },
            "colorscale": [
             [
              0,
              "#0d0887"
             ],
             [
              0.1111111111111111,
              "#46039f"
             ],
             [
              0.2222222222222222,
              "#7201a8"
             ],
             [
              0.3333333333333333,
              "#9c179e"
             ],
             [
              0.4444444444444444,
              "#bd3786"
             ],
             [
              0.5555555555555556,
              "#d8576b"
             ],
             [
              0.6666666666666666,
              "#ed7953"
             ],
             [
              0.7777777777777778,
              "#fb9f3a"
             ],
             [
              0.8888888888888888,
              "#fdca26"
             ],
             [
              1,
              "#f0f921"
             ]
            ],
            "type": "contour"
           }
          ],
          "contourcarpet": [
           {
            "colorbar": {
             "outlinewidth": 0,
             "ticks": ""
            },
            "type": "contourcarpet"
           }
          ],
          "heatmap": [
           {
            "colorbar": {
             "outlinewidth": 0,
             "ticks": ""
            },
            "colorscale": [
             [
              0,
              "#0d0887"
             ],
             [
              0.1111111111111111,
              "#46039f"
             ],
             [
              0.2222222222222222,
              "#7201a8"
             ],
             [
              0.3333333333333333,
              "#9c179e"
             ],
             [
              0.4444444444444444,
              "#bd3786"
             ],
             [
              0.5555555555555556,
              "#d8576b"
             ],
             [
              0.6666666666666666,
              "#ed7953"
             ],
             [
              0.7777777777777778,
              "#fb9f3a"
             ],
             [
              0.8888888888888888,
              "#fdca26"
             ],
             [
              1,
              "#f0f921"
             ]
            ],
            "type": "heatmap"
           }
          ],
          "heatmapgl": [
           {
            "colorbar": {
             "outlinewidth": 0,
             "ticks": ""
            },
            "colorscale": [
             [
              0,
              "#0d0887"
             ],
             [
              0.1111111111111111,
              "#46039f"
             ],
             [
              0.2222222222222222,
              "#7201a8"
             ],
             [
              0.3333333333333333,
              "#9c179e"
             ],
             [
              0.4444444444444444,
              "#bd3786"
             ],
             [
              0.5555555555555556,
              "#d8576b"
             ],
             [
              0.6666666666666666,
              "#ed7953"
             ],
             [
              0.7777777777777778,
              "#fb9f3a"
             ],
             [
              0.8888888888888888,
              "#fdca26"
             ],
             [
              1,
              "#f0f921"
             ]
            ],
            "type": "heatmapgl"
           }
          ],
          "histogram": [
           {
            "marker": {
             "pattern": {
              "fillmode": "overlay",
              "size": 10,
              "solidity": 0.2
             }
            },
            "type": "histogram"
           }
          ],
          "histogram2d": [
           {
            "colorbar": {
             "outlinewidth": 0,
             "ticks": ""
            },
            "colorscale": [
             [
              0,
              "#0d0887"
             ],
             [
              0.1111111111111111,
              "#46039f"
             ],
             [
              0.2222222222222222,
              "#7201a8"
             ],
             [
              0.3333333333333333,
              "#9c179e"
             ],
             [
              0.4444444444444444,
              "#bd3786"
             ],
             [
              0.5555555555555556,
              "#d8576b"
             ],
             [
              0.6666666666666666,
              "#ed7953"
             ],
             [
              0.7777777777777778,
              "#fb9f3a"
             ],
             [
              0.8888888888888888,
              "#fdca26"
             ],
             [
              1,
              "#f0f921"
             ]
            ],
            "type": "histogram2d"
           }
          ],
          "histogram2dcontour": [
           {
            "colorbar": {
             "outlinewidth": 0,
             "ticks": ""
            },
            "colorscale": [
             [
              0,
              "#0d0887"
             ],
             [
              0.1111111111111111,
              "#46039f"
             ],
             [
              0.2222222222222222,
              "#7201a8"
             ],
             [
              0.3333333333333333,
              "#9c179e"
             ],
             [
              0.4444444444444444,
              "#bd3786"
             ],
             [
              0.5555555555555556,
              "#d8576b"
             ],
             [
              0.6666666666666666,
              "#ed7953"
             ],
             [
              0.7777777777777778,
              "#fb9f3a"
             ],
             [
              0.8888888888888888,
              "#fdca26"
             ],
             [
              1,
              "#f0f921"
             ]
            ],
            "type": "histogram2dcontour"
           }
          ],
          "mesh3d": [
           {
            "colorbar": {
             "outlinewidth": 0,
             "ticks": ""
            },
            "type": "mesh3d"
           }
          ],
          "parcoords": [
           {
            "line": {
             "colorbar": {
              "outlinewidth": 0,
              "ticks": ""
             }
            },
            "type": "parcoords"
           }
          ],
          "pie": [
           {
            "automargin": true,
            "type": "pie"
           }
          ],
          "scatter": [
           {
            "fillpattern": {
             "fillmode": "overlay",
             "size": 10,
             "solidity": 0.2
            },
            "type": "scatter"
           }
          ],
          "scatter3d": [
           {
            "line": {
             "colorbar": {
              "outlinewidth": 0,
              "ticks": ""
             }
            },
            "marker": {
             "colorbar": {
              "outlinewidth": 0,
              "ticks": ""
             }
            },
            "type": "scatter3d"
           }
          ],
          "scattercarpet": [
           {
            "marker": {
             "colorbar": {
              "outlinewidth": 0,
              "ticks": ""
             }
            },
            "type": "scattercarpet"
           }
          ],
          "scattergeo": [
           {
            "marker": {
             "colorbar": {
              "outlinewidth": 0,
              "ticks": ""
             }
            },
            "type": "scattergeo"
           }
          ],
          "scattergl": [
           {
            "marker": {
             "colorbar": {
              "outlinewidth": 0,
              "ticks": ""
             }
            },
            "type": "scattergl"
           }
          ],
          "scattermapbox": [
           {
            "marker": {
             "colorbar": {
              "outlinewidth": 0,
              "ticks": ""
             }
            },
            "type": "scattermapbox"
           }
          ],
          "scatterpolar": [
           {
            "marker": {
             "colorbar": {
              "outlinewidth": 0,
              "ticks": ""
             }
            },
            "type": "scatterpolar"
           }
          ],
          "scatterpolargl": [
           {
            "marker": {
             "colorbar": {
              "outlinewidth": 0,
              "ticks": ""
             }
            },
            "type": "scatterpolargl"
           }
          ],
          "scatterternary": [
           {
            "marker": {
             "colorbar": {
              "outlinewidth": 0,
              "ticks": ""
             }
            },
            "type": "scatterternary"
           }
          ],
          "surface": [
           {
            "colorbar": {
             "outlinewidth": 0,
             "ticks": ""
            },
            "colorscale": [
             [
              0,
              "#0d0887"
             ],
             [
              0.1111111111111111,
              "#46039f"
             ],
             [
              0.2222222222222222,
              "#7201a8"
             ],
             [
              0.3333333333333333,
              "#9c179e"
             ],
             [
              0.4444444444444444,
              "#bd3786"
             ],
             [
              0.5555555555555556,
              "#d8576b"
             ],
             [
              0.6666666666666666,
              "#ed7953"
             ],
             [
              0.7777777777777778,
              "#fb9f3a"
             ],
             [
              0.8888888888888888,
              "#fdca26"
             ],
             [
              1,
              "#f0f921"
             ]
            ],
            "type": "surface"
           }
          ],
          "table": [
           {
            "cells": {
             "fill": {
              "color": "#EBF0F8"
             },
             "line": {
              "color": "white"
             }
            },
            "header": {
             "fill": {
              "color": "#C8D4E3"
             },
             "line": {
              "color": "white"
             }
            },
            "type": "table"
           }
          ]
         },
         "layout": {
          "annotationdefaults": {
           "arrowcolor": "#2a3f5f",
           "arrowhead": 0,
           "arrowwidth": 1
          },
          "autotypenumbers": "strict",
          "coloraxis": {
           "colorbar": {
            "outlinewidth": 0,
            "ticks": ""
           }
          },
          "colorscale": {
           "diverging": [
            [
             0,
             "#8e0152"
            ],
            [
             0.1,
             "#c51b7d"
            ],
            [
             0.2,
             "#de77ae"
            ],
            [
             0.3,
             "#f1b6da"
            ],
            [
             0.4,
             "#fde0ef"
            ],
            [
             0.5,
             "#f7f7f7"
            ],
            [
             0.6,
             "#e6f5d0"
            ],
            [
             0.7,
             "#b8e186"
            ],
            [
             0.8,
             "#7fbc41"
            ],
            [
             0.9,
             "#4d9221"
            ],
            [
             1,
             "#276419"
            ]
           ],
           "sequential": [
            [
             0,
             "#0d0887"
            ],
            [
             0.1111111111111111,
             "#46039f"
            ],
            [
             0.2222222222222222,
             "#7201a8"
            ],
            [
             0.3333333333333333,
             "#9c179e"
            ],
            [
             0.4444444444444444,
             "#bd3786"
            ],
            [
             0.5555555555555556,
             "#d8576b"
            ],
            [
             0.6666666666666666,
             "#ed7953"
            ],
            [
             0.7777777777777778,
             "#fb9f3a"
            ],
            [
             0.8888888888888888,
             "#fdca26"
            ],
            [
             1,
             "#f0f921"
            ]
           ],
           "sequentialminus": [
            [
             0,
             "#0d0887"
            ],
            [
             0.1111111111111111,
             "#46039f"
            ],
            [
             0.2222222222222222,
             "#7201a8"
            ],
            [
             0.3333333333333333,
             "#9c179e"
            ],
            [
             0.4444444444444444,
             "#bd3786"
            ],
            [
             0.5555555555555556,
             "#d8576b"
            ],
            [
             0.6666666666666666,
             "#ed7953"
            ],
            [
             0.7777777777777778,
             "#fb9f3a"
            ],
            [
             0.8888888888888888,
             "#fdca26"
            ],
            [
             1,
             "#f0f921"
            ]
           ]
          },
          "colorway": [
           "#636efa",
           "#EF553B",
           "#00cc96",
           "#ab63fa",
           "#FFA15A",
           "#19d3f3",
           "#FF6692",
           "#B6E880",
           "#FF97FF",
           "#FECB52"
          ],
          "font": {
           "color": "#2a3f5f"
          },
          "geo": {
           "bgcolor": "white",
           "lakecolor": "white",
           "landcolor": "#E5ECF6",
           "showlakes": true,
           "showland": true,
           "subunitcolor": "white"
          },
          "hoverlabel": {
           "align": "left"
          },
          "hovermode": "closest",
          "mapbox": {
           "style": "light"
          },
          "paper_bgcolor": "white",
          "plot_bgcolor": "#E5ECF6",
          "polar": {
           "angularaxis": {
            "gridcolor": "white",
            "linecolor": "white",
            "ticks": ""
           },
           "bgcolor": "#E5ECF6",
           "radialaxis": {
            "gridcolor": "white",
            "linecolor": "white",
            "ticks": ""
           }
          },
          "scene": {
           "xaxis": {
            "backgroundcolor": "#E5ECF6",
            "gridcolor": "white",
            "gridwidth": 2,
            "linecolor": "white",
            "showbackground": true,
            "ticks": "",
            "zerolinecolor": "white"
           },
           "yaxis": {
            "backgroundcolor": "#E5ECF6",
            "gridcolor": "white",
            "gridwidth": 2,
            "linecolor": "white",
            "showbackground": true,
            "ticks": "",
            "zerolinecolor": "white"
           },
           "zaxis": {
            "backgroundcolor": "#E5ECF6",
            "gridcolor": "white",
            "gridwidth": 2,
            "linecolor": "white",
            "showbackground": true,
            "ticks": "",
            "zerolinecolor": "white"
           }
          },
          "shapedefaults": {
           "line": {
            "color": "#2a3f5f"
           }
          },
          "ternary": {
           "aaxis": {
            "gridcolor": "white",
            "linecolor": "white",
            "ticks": ""
           },
           "baxis": {
            "gridcolor": "white",
            "linecolor": "white",
            "ticks": ""
           },
           "bgcolor": "#E5ECF6",
           "caxis": {
            "gridcolor": "white",
            "linecolor": "white",
            "ticks": ""
           }
          },
          "title": {
           "x": 0.05
          },
          "xaxis": {
           "automargin": true,
           "gridcolor": "white",
           "linecolor": "white",
           "ticks": "",
           "title": {
            "standoff": 15
           },
           "zerolinecolor": "white",
           "zerolinewidth": 2
          },
          "yaxis": {
           "automargin": true,
           "gridcolor": "white",
           "linecolor": "white",
           "ticks": "",
           "title": {
            "standoff": 15
           },
           "zerolinecolor": "white",
           "zerolinewidth": 2
          }
         }
        },
        "title": {
         "text": "Estimated performance <b>(DLE)</b>"
        },
        "xaxis": {
         "anchor": "y",
         "domain": [
          0,
          1
         ],
         "linecolor": "#3b0280",
         "matches": "x",
         "mirror": true,
         "showgrid": false,
         "title": {
          "text": "Time"
         },
         "zeroline": false
        },
        "xaxis2": {
         "anchor": "y2",
         "domain": [
          0,
          1
         ],
         "linecolor": "#3b0280",
         "matches": "x",
         "mirror": true,
         "showgrid": false,
         "title": {
          "text": "Time"
         },
         "zeroline": false
        },
        "yaxis": {
         "anchor": "x",
         "domain": [
          0.625,
          1
         ],
         "linecolor": "#3b0280",
         "mirror": true,
         "showgrid": false,
         "title": {
          "text": "RMSE"
         },
         "zeroline": false
        },
        "yaxis2": {
         "anchor": "x2",
         "domain": [
          0,
          0.375
         ],
         "linecolor": "#3b0280",
         "mirror": true,
         "showgrid": false,
         "title": {
          "text": "RMSLE"
         },
         "zeroline": false
        }
       }
      }
     },
     "metadata": {},
     "output_type": "display_data"
    }
   ],
   "source": [
    "estimator = nml.DLE(\n",
    "\n",
    "    feature_column_names=[\"MSSubClass\",\"MSZoning\",\"LotFrontage\",\"LotArea\", \"Street\"],\n",
    "\n",
    "    y_pred='binarized',\n",
    "\n",
    "    y_true='binarized',\n",
    "\n",
    "    timestamp_column_name='timestamp',\n",
    "\n",
    "    metrics=['rmse', 'rmsle'],\n",
    "\n",
    "    tune_hyperparameters=False\n",
    "\n",
    ")\n",
    "\n",
    "estimator.fit(reference)\n",
    "\n",
    "results = estimator.estimate(analysis)\n",
    "\n",
    "display(results.filter(period='analysis').to_df())\n",
    "\n",
    "display(results.filter(period='reference').to_df())\n",
    "\n",
    "metric_fig = results.plot()\n",
    "\n",
    "metric_fig.show()"
   ]
  },
  {
   "attachments": {},
   "cell_type": "markdown",
   "metadata": {},
   "source": [
    "## Code for PSI from Lab01 "
   ]
  },
  {
   "cell_type": "code",
   "execution_count": 114,
   "metadata": {},
   "outputs": [],
   "source": [
    "numerical_features = reference.select_dtypes(exclude='object').columns.tolist()\n",
    "categorical_features = analysis.select_dtypes(include='object').columns.tolist()"
   ]
  },
  {
   "cell_type": "code",
   "execution_count": 115,
   "metadata": {},
   "outputs": [],
   "source": [
    "def calculate_psi(expected, actual, buckettype='bins', buckets=10, axis=0):\n",
    "    '''Calculate the PSI (population stability index) across all variables\n",
    "    Args:\n",
    "       expected: numpy matrix of original values\n",
    "       actual: numpy matrix of new values, same size as expected\n",
    "       buckettype: type of strategy for creating buckets, bins splits into even splits, quantiles splits into quantile buckets\n",
    "       buckets: number of quantiles to use in bucketing variables\n",
    "       axis: axis by which variables are defined, 0 for vertical, 1 for horizontal\n",
    "    Returns:\n",
    "       psi_values: ndarray of psi values for each variable\n",
    "    Author:\n",
    "       Matthew Burke\n",
    "       github.com/mwburke\n",
    "       worksofchart.com\n",
    "    '''\n",
    "\n",
    "    def psi(expected_array, actual_array, buckets):\n",
    "        '''Calculate the PSI for a single variable\n",
    "        Args:\n",
    "           expected_array: numpy array of original values\n",
    "           actual_array: numpy array of new values, same size as expected\n",
    "           buckets: number of percentile ranges to bucket the values into\n",
    "        Returns:\n",
    "           psi_value: calculated PSI value\n",
    "        '''\n",
    "\n",
    "        def scale_range (input, min, max):\n",
    "            input += -(np.min(input))\n",
    "            input /= np.max(input) / (max - min)\n",
    "            input += min\n",
    "            return input\n",
    "\n",
    "\n",
    "        breakpoints = np.arange(0, buckets + 1) / (buckets) * 100\n",
    "\n",
    "        if buckettype == 'bins':\n",
    "            breakpoints = scale_range(breakpoints, np.min(expected_array), np.max(expected_array))\n",
    "        elif buckettype == 'quantiles':\n",
    "            breakpoints = np.stack([np.percentile(expected_array, b) for b in breakpoints])\n",
    "\n",
    "\n",
    "\n",
    "        expected_percents = np.histogram(expected_array, breakpoints)[0] / len(expected_array)\n",
    "        actual_percents = np.histogram(actual_array, breakpoints)[0] / len(actual_array)\n",
    "\n",
    "        def sub_psi(e_perc, a_perc):\n",
    "            '''Calculate the actual PSI value from comparing the values.\n",
    "               Update the actual value to a very small number if equal to zero\n",
    "            '''\n",
    "            if a_perc == 0:\n",
    "                a_perc = 0.0001\n",
    "            if e_perc == 0:\n",
    "                e_perc = 0.0001\n",
    "\n",
    "            value = (e_perc - a_perc) * np.log(e_perc / a_perc)\n",
    "            return(value)\n",
    "\n",
    "        psi_value = np.sum(sub_psi(expected_percents[i], actual_percents[i]) for i in range(0, len(expected_percents)))\n",
    "\n",
    "        return(psi_value)\n",
    "\n",
    "    if len(expected.shape) == 1:\n",
    "        psi_values = np.empty(len(expected.shape))\n",
    "    else:\n",
    "        psi_values = np.empty(expected.shape[axis])\n",
    "\n",
    "    for i in range(0, len(psi_values)):\n",
    "        if len(psi_values) == 1:\n",
    "            psi_values = psi(expected, actual, buckets)\n",
    "        elif axis == 0:\n",
    "            psi_values[i] = psi(expected[:,i], actual[:,i], buckets)\n",
    "        elif axis == 1:\n",
    "            psi_values[i] = psi(expected[i,:], actual[i,:], buckets)\n",
    "\n",
    "    return(psi_values)"
   ]
  },
  {
   "cell_type": "code",
   "execution_count": 116,
   "metadata": {},
   "outputs": [],
   "source": [
    "def calculate_psi_categorical(actual, expected):\n",
    "    actual_perc = actual.value_counts()/len(actual)\n",
    "    expected_perc = expected.value_counts()/len(expected)\n",
    "    actual_classes = list(actual_perc.index) \n",
    "    expected_classes = list(expected_perc.index)\n",
    "    PSI = 0\n",
    "    classes = set(actual_classes + expected_classes)\n",
    "    for c in classes:\n",
    "        final_actual_perc = actual_perc[c] if c in actual_classes else 0.00001\n",
    "        final_expected_perc = expected_perc[c] if c in expected_classes else 0.00001\n",
    "        PSI += (final_actual_perc - final_expected_perc)*np.log(final_actual_perc/final_expected_perc)\n",
    "    return PSI"
   ]
  },
  {
   "cell_type": "code",
   "execution_count": 122,
   "metadata": {},
   "outputs": [],
   "source": [
    "numerical_features = ['MSSubClass', 'LotFrontage', 'LotArea', 'SalePrice', 'binarized', 'proba_pred']"
   ]
  },
  {
   "cell_type": "code",
   "execution_count": 123,
   "metadata": {},
   "outputs": [
    {
     "name": "stderr",
     "output_type": "stream",
     "text": [
      "C:\\Users\\leoal\\AppData\\Local\\Temp\\ipykernel_16288\\2966103336.py:58: DeprecationWarning:\n",
      "\n",
      "Calling np.sum(generator) is deprecated, and in the future will give a different result. Use np.sum(np.fromiter(generator)) or the python sum builtin instead.\n",
      "\n"
     ]
    },
    {
     "data": {
      "image/png": "[encoded data removed]",
      "text/plain": [
       "<Figure size 640x480 with 1 Axes>"
      ]
     },
     "metadata": {},
     "output_type": "display_data"
    }
   ],
   "source": [
    "psis_num = []\n",
    "#Using the github implementation to compute PSI's numerical features\n",
    "for feature_name in numerical_features:\n",
    "    psi = calculate_psi(reference[feature_name], analysis[feature_name], buckettype='bins', buckets=20, axis=0)\n",
    "    psis_num.append(psi)\n",
    "#Plot each feature's PSI value\n",
    "height = psis_num\n",
    "bars = numerical_features\n",
    "y_pos = np.arange(len(bars))\n",
    "plt.barh(y_pos, height)\n",
    "plt.axvline(x=0.2,color='red')\n",
    "plt.yticks(y_pos, bars)\n",
    "plt.xlabel(\"PSI\")\n",
    "plt.show()"
   ]
  },
  {
   "cell_type": "code",
   "execution_count": null,
   "metadata": {},
   "outputs": [],
   "source": []
  }
 ],
 "metadata": {
  "kernelspec": {
   "display_name": "Python 3",
   "language": "python",
   "name": "python3"
  },
  "language_info": {
   "codemirror_mode": {
    "name": "ipython",
    "version": 3
   },
   "file_extension": ".py",
   "mimetype": "text/x-python",
   "name": "python",
   "nbconvert_exporter": "python",
   "pygments_lexer": "ipython3",
   "version": "3.10.0"
  },
  "orig_nbformat": 4
 },
 "nbformat": 4,
 "nbformat_minor": 2
}
