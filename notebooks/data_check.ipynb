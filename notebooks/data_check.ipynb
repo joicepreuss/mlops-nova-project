{
 "cells": [
  {
   "cell_type": "code",
   "execution_count": 1,
   "metadata": {},
   "outputs": [],
   "source": [
    "import pandas as pd\n",
    "import numpy as np\n",
    "import nannyml as nml\n",
    "import matplotlib.pyplot as plt\n",
    "from IPython.display import display\n",
    "from sklearn.preprocessing import MinMaxScaler\n",
    "from sklearn.impute import SimpleImputer\n",
    "from nannyml.drift.multivariate.data_reconstruction.result import Result"
   ]
  },
  {
   "cell_type": "code",
   "execution_count": 2,
   "metadata": {},
   "outputs": [],
   "source": [
    "df = pd.read_csv('../data/01_raw/house-pricing.csv')"
   ]
  },
  {
   "cell_type": "code",
   "execution_count": 3,
   "metadata": {},
   "outputs": [],
   "source": [
    "def create_timestamp_column(df, column_name_year, column_name_month):\n",
    "    df['timestamp'] = pd.to_datetime(df[column_name_year].astype(str) + '-' + df[column_name_month].astype(str), format='%Y-%m')\n",
    "    \n",
    "    return df"
   ]
  },
  {
   "cell_type": "code",
   "execution_count": 4,
   "metadata": {},
   "outputs": [],
   "source": [
    "df = create_timestamp_column(df, column_name_year=\"YrSold\", column_name_month=\"MoSold\")"
   ]
  },
  {
   "cell_type": "code",
   "execution_count": 5,
   "metadata": {},
   "outputs": [],
   "source": [
    "def filter_rows_by_years(df, years, months=None):\n",
    "    filtered_df = df[df['timestamp'].dt.year.isin(years)]\n",
    "    \n",
    "    if months:\n",
    "        filtered_df = filtered_df[filtered_df['timestamp'].dt.month.isin(months)]\n",
    "    \n",
    "    return filtered_df"
   ]
  },
  {
   "cell_type": "code",
   "execution_count": 6,
   "metadata": {},
   "outputs": [
    {
     "data": {
      "text/plain": [
       "Index(['Id', 'MSSubClass', 'MSZoning', 'LotFrontage', 'LotArea', 'Street',\n",
       "       'Alley', 'LotShape', 'LandContour', 'Utilities', 'LotConfig',\n",
       "       'LandSlope', 'Neighborhood', 'Condition1', 'Condition2', 'BldgType',\n",
       "       'HouseStyle', 'OverallQual', 'OverallCond', 'YearBuilt', 'YearRemodAdd',\n",
       "       'RoofStyle', 'RoofMatl', 'Exterior1st', 'Exterior2nd', 'MasVnrType',\n",
       "       'MasVnrArea', 'ExterQual', 'ExterCond', 'Foundation', 'BsmtQual',\n",
       "       'BsmtCond', 'BsmtExposure', 'BsmtFinType1', 'BsmtFinSF1',\n",
       "       'BsmtFinType2', 'BsmtFinSF2', 'BsmtUnfSF', 'TotalBsmtSF', 'Heating',\n",
       "       'HeatingQC', 'CentralAir', 'Electrical', '1stFlrSF', '2ndFlrSF',\n",
       "       'LowQualFinSF', 'GrLivArea', 'BsmtFullBath', 'BsmtHalfBath', 'FullBath',\n",
       "       'HalfBath', 'BedroomAbvGr', 'KitchenAbvGr', 'KitchenQual',\n",
       "       'TotRmsAbvGrd', 'Functional', 'Fireplaces', 'FireplaceQu', 'GarageType',\n",
       "       'GarageYrBlt', 'GarageFinish', 'GarageCars', 'GarageArea', 'GarageQual',\n",
       "       'GarageCond', 'PavedDrive', 'WoodDeckSF', 'OpenPorchSF',\n",
       "       'EnclosedPorch', '3SsnPorch', 'ScreenPorch', 'PoolArea', 'PoolQC',\n",
       "       'Fence', 'MiscFeature', 'MiscVal', 'MoSold', 'YrSold', 'SaleType',\n",
       "       'SaleCondition', 'SalePrice', 'timestamp'],\n",
       "      dtype='object')"
      ]
     },
     "execution_count": 6,
     "metadata": {},
     "output_type": "execute_result"
    }
   ],
   "source": [
    "df.columns"
   ]
  },
  {
   "cell_type": "code",
   "execution_count": 7,
   "metadata": {},
   "outputs": [],
   "source": [
    "df = df[[\"MSSubClass\",\"MSZoning\",\"LotFrontage\",\"LotArea\", \"Street\",\"timestamp\",\"SalePrice\"]]"
   ]
  },
  {
   "cell_type": "code",
   "execution_count": 8,
   "metadata": {},
   "outputs": [],
   "source": [
    "mean_value = df['LotFrontage'].mean()\n",
    "df= df.fillna(mean_value)"
   ]
  },
  {
   "cell_type": "code",
   "execution_count": 9,
   "metadata": {},
   "outputs": [],
   "source": [
    "reference = filter_rows_by_years(df, [2007, 2008])\n",
    "analysis = filter_rows_by_years(df, [2009, 2010])"
   ]
  },
  {
   "cell_type": "code",
   "execution_count": 10,
   "metadata": {},
   "outputs": [
    {
     "data": {
      "text/html": [
       "<div>\n",
       "<style scoped>\n",
       "    .dataframe tbody tr th:only-of-type {\n",
       "        vertical-align: middle;\n",
       "    }\n",
       "\n",
       "    .dataframe tbody tr th {\n",
       "        vertical-align: top;\n",
       "    }\n",
       "\n",
       "    .dataframe thead th {\n",
       "        text-align: right;\n",
       "    }\n",
       "</style>\n",
       "<table border=\"1\" class=\"dataframe\">\n",
       "  <thead>\n",
       "    <tr style=\"text-align: right;\">\n",
       "      <th></th>\n",
       "      <th>MSSubClass</th>\n",
       "      <th>LotFrontage</th>\n",
       "      <th>LotArea</th>\n",
       "      <th>SalePrice</th>\n",
       "    </tr>\n",
       "  </thead>\n",
       "  <tbody>\n",
       "    <tr>\n",
       "      <th>count</th>\n",
       "      <td>1460.000000</td>\n",
       "      <td>1460.000000</td>\n",
       "      <td>1460.000000</td>\n",
       "      <td>1460.000000</td>\n",
       "    </tr>\n",
       "    <tr>\n",
       "      <th>mean</th>\n",
       "      <td>56.897260</td>\n",
       "      <td>70.049958</td>\n",
       "      <td>10516.828082</td>\n",
       "      <td>180921.195890</td>\n",
       "    </tr>\n",
       "    <tr>\n",
       "      <th>std</th>\n",
       "      <td>42.300571</td>\n",
       "      <td>22.024023</td>\n",
       "      <td>9981.264932</td>\n",
       "      <td>79442.502883</td>\n",
       "    </tr>\n",
       "    <tr>\n",
       "      <th>min</th>\n",
       "      <td>20.000000</td>\n",
       "      <td>21.000000</td>\n",
       "      <td>1300.000000</td>\n",
       "      <td>34900.000000</td>\n",
       "    </tr>\n",
       "    <tr>\n",
       "      <th>25%</th>\n",
       "      <td>20.000000</td>\n",
       "      <td>60.000000</td>\n",
       "      <td>7553.500000</td>\n",
       "      <td>129975.000000</td>\n",
       "    </tr>\n",
       "    <tr>\n",
       "      <th>50%</th>\n",
       "      <td>50.000000</td>\n",
       "      <td>70.049958</td>\n",
       "      <td>9478.500000</td>\n",
       "      <td>163000.000000</td>\n",
       "    </tr>\n",
       "    <tr>\n",
       "      <th>75%</th>\n",
       "      <td>70.000000</td>\n",
       "      <td>79.000000</td>\n",
       "      <td>11601.500000</td>\n",
       "      <td>214000.000000</td>\n",
       "    </tr>\n",
       "    <tr>\n",
       "      <th>max</th>\n",
       "      <td>190.000000</td>\n",
       "      <td>313.000000</td>\n",
       "      <td>215245.000000</td>\n",
       "      <td>755000.000000</td>\n",
       "    </tr>\n",
       "  </tbody>\n",
       "</table>\n",
       "</div>"
      ],
      "text/plain": [
       "        MSSubClass  LotFrontage        LotArea      SalePrice\n",
       "count  1460.000000  1460.000000    1460.000000    1460.000000\n",
       "mean     56.897260    70.049958   10516.828082  180921.195890\n",
       "std      42.300571    22.024023    9981.264932   79442.502883\n",
       "min      20.000000    21.000000    1300.000000   34900.000000\n",
       "25%      20.000000    60.000000    7553.500000  129975.000000\n",
       "50%      50.000000    70.049958    9478.500000  163000.000000\n",
       "75%      70.000000    79.000000   11601.500000  214000.000000\n",
       "max     190.000000   313.000000  215245.000000  755000.000000"
      ]
     },
     "execution_count": 10,
     "metadata": {},
     "output_type": "execute_result"
    }
   ],
   "source": [
    "df.describe()"
   ]
  },
  {
   "cell_type": "code",
   "execution_count": 11,
   "metadata": {},
   "outputs": [],
   "source": [
    "bias = np.random.randint(20, 100, size=len(analysis))"
   ]
  },
  {
   "cell_type": "code",
   "execution_count": 12,
   "metadata": {},
   "outputs": [
    {
     "data": {
      "text/html": [
       "<div>\n",
       "<style scoped>\n",
       "    .dataframe tbody tr th:only-of-type {\n",
       "        vertical-align: middle;\n",
       "    }\n",
       "\n",
       "    .dataframe tbody tr th {\n",
       "        vertical-align: top;\n",
       "    }\n",
       "\n",
       "    .dataframe thead th {\n",
       "        text-align: right;\n",
       "    }\n",
       "</style>\n",
       "<table border=\"1\" class=\"dataframe\">\n",
       "  <thead>\n",
       "    <tr style=\"text-align: right;\">\n",
       "      <th></th>\n",
       "      <th>MSSubClass</th>\n",
       "      <th>MSZoning</th>\n",
       "      <th>LotFrontage</th>\n",
       "      <th>LotArea</th>\n",
       "      <th>Street</th>\n",
       "      <th>timestamp</th>\n",
       "      <th>SalePrice</th>\n",
       "    </tr>\n",
       "  </thead>\n",
       "  <tbody>\n",
       "    <tr>\n",
       "      <th>5</th>\n",
       "      <td>50</td>\n",
       "      <td>RL</td>\n",
       "      <td>85.000000</td>\n",
       "      <td>14115</td>\n",
       "      <td>Pave</td>\n",
       "      <td>2009-10-01</td>\n",
       "      <td>143000</td>\n",
       "    </tr>\n",
       "    <tr>\n",
       "      <th>7</th>\n",
       "      <td>60</td>\n",
       "      <td>RL</td>\n",
       "      <td>70.049958</td>\n",
       "      <td>10382</td>\n",
       "      <td>Pave</td>\n",
       "      <td>2009-11-01</td>\n",
       "      <td>200000</td>\n",
       "    </tr>\n",
       "    <tr>\n",
       "      <th>16</th>\n",
       "      <td>20</td>\n",
       "      <td>RL</td>\n",
       "      <td>70.049958</td>\n",
       "      <td>11241</td>\n",
       "      <td>Pave</td>\n",
       "      <td>2010-03-01</td>\n",
       "      <td>149000</td>\n",
       "    </tr>\n",
       "    <tr>\n",
       "      <th>19</th>\n",
       "      <td>20</td>\n",
       "      <td>RL</td>\n",
       "      <td>70.000000</td>\n",
       "      <td>7560</td>\n",
       "      <td>Pave</td>\n",
       "      <td>2009-05-01</td>\n",
       "      <td>139000</td>\n",
       "    </tr>\n",
       "    <tr>\n",
       "      <th>24</th>\n",
       "      <td>20</td>\n",
       "      <td>RL</td>\n",
       "      <td>70.049958</td>\n",
       "      <td>8246</td>\n",
       "      <td>Pave</td>\n",
       "      <td>2010-05-01</td>\n",
       "      <td>154000</td>\n",
       "    </tr>\n",
       "    <tr>\n",
       "      <th>...</th>\n",
       "      <td>...</td>\n",
       "      <td>...</td>\n",
       "      <td>...</td>\n",
       "      <td>...</td>\n",
       "      <td>...</td>\n",
       "      <td>...</td>\n",
       "      <td>...</td>\n",
       "    </tr>\n",
       "    <tr>\n",
       "      <th>1451</th>\n",
       "      <td>20</td>\n",
       "      <td>RL</td>\n",
       "      <td>78.000000</td>\n",
       "      <td>9262</td>\n",
       "      <td>Pave</td>\n",
       "      <td>2009-05-01</td>\n",
       "      <td>287090</td>\n",
       "    </tr>\n",
       "    <tr>\n",
       "      <th>1454</th>\n",
       "      <td>20</td>\n",
       "      <td>FV</td>\n",
       "      <td>62.000000</td>\n",
       "      <td>7500</td>\n",
       "      <td>Pave</td>\n",
       "      <td>2009-10-01</td>\n",
       "      <td>185000</td>\n",
       "    </tr>\n",
       "    <tr>\n",
       "      <th>1456</th>\n",
       "      <td>20</td>\n",
       "      <td>RL</td>\n",
       "      <td>85.000000</td>\n",
       "      <td>13175</td>\n",
       "      <td>Pave</td>\n",
       "      <td>2010-02-01</td>\n",
       "      <td>210000</td>\n",
       "    </tr>\n",
       "    <tr>\n",
       "      <th>1457</th>\n",
       "      <td>70</td>\n",
       "      <td>RL</td>\n",
       "      <td>66.000000</td>\n",
       "      <td>9042</td>\n",
       "      <td>Pave</td>\n",
       "      <td>2010-05-01</td>\n",
       "      <td>266500</td>\n",
       "    </tr>\n",
       "    <tr>\n",
       "      <th>1458</th>\n",
       "      <td>20</td>\n",
       "      <td>RL</td>\n",
       "      <td>68.000000</td>\n",
       "      <td>9717</td>\n",
       "      <td>Pave</td>\n",
       "      <td>2010-04-01</td>\n",
       "      <td>142125</td>\n",
       "    </tr>\n",
       "  </tbody>\n",
       "</table>\n",
       "<p>513 rows × 7 columns</p>\n",
       "</div>"
      ],
      "text/plain": [
       "      MSSubClass MSZoning  LotFrontage  LotArea Street  timestamp  SalePrice\n",
       "5             50       RL    85.000000    14115   Pave 2009-10-01     143000\n",
       "7             60       RL    70.049958    10382   Pave 2009-11-01     200000\n",
       "16            20       RL    70.049958    11241   Pave 2010-03-01     149000\n",
       "19            20       RL    70.000000     7560   Pave 2009-05-01     139000\n",
       "24            20       RL    70.049958     8246   Pave 2010-05-01     154000\n",
       "...          ...      ...          ...      ...    ...        ...        ...\n",
       "1451          20       RL    78.000000     9262   Pave 2009-05-01     287090\n",
       "1454          20       FV    62.000000     7500   Pave 2009-10-01     185000\n",
       "1456          20       RL    85.000000    13175   Pave 2010-02-01     210000\n",
       "1457          70       RL    66.000000     9042   Pave 2010-05-01     266500\n",
       "1458          20       RL    68.000000     9717   Pave 2010-04-01     142125\n",
       "\n",
       "[513 rows x 7 columns]"
      ]
     },
     "execution_count": 12,
     "metadata": {},
     "output_type": "execute_result"
    }
   ],
   "source": [
    "analysis"
   ]
  },
  {
   "cell_type": "code",
   "execution_count": 13,
   "metadata": {},
   "outputs": [
    {
     "name": "stderr",
     "output_type": "stream",
     "text": [
      "C:\\Users\\leoal\\AppData\\Local\\Temp\\ipykernel_12284\\3079640369.py:1: SettingWithCopyWarning: \n",
      "A value is trying to be set on a copy of a slice from a DataFrame.\n",
      "Try using .loc[row_indexer,col_indexer] = value instead\n",
      "\n",
      "See the caveats in the documentation: https://pandas.pydata.org/pandas-docs/stable/user_guide/indexing.html#returning-a-view-versus-a-copy\n",
      "  analysis['MSSubClass'] = analysis['MSSubClass'] + bias\n"
     ]
    }
   ],
   "source": [
    "analysis['MSSubClass'] = analysis['MSSubClass'] + bias"
   ]
  },
  {
   "cell_type": "code",
   "execution_count": 14,
   "metadata": {},
   "outputs": [
    {
     "data": {
      "text/html": [
       "<div>\n",
       "<style scoped>\n",
       "    .dataframe tbody tr th:only-of-type {\n",
       "        vertical-align: middle;\n",
       "    }\n",
       "\n",
       "    .dataframe tbody tr th {\n",
       "        vertical-align: top;\n",
       "    }\n",
       "\n",
       "    .dataframe thead th {\n",
       "        text-align: right;\n",
       "    }\n",
       "</style>\n",
       "<table border=\"1\" class=\"dataframe\">\n",
       "  <thead>\n",
       "    <tr style=\"text-align: right;\">\n",
       "      <th></th>\n",
       "      <th>MSSubClass</th>\n",
       "      <th>MSZoning</th>\n",
       "      <th>LotFrontage</th>\n",
       "      <th>LotArea</th>\n",
       "      <th>Street</th>\n",
       "      <th>timestamp</th>\n",
       "      <th>SalePrice</th>\n",
       "    </tr>\n",
       "  </thead>\n",
       "  <tbody>\n",
       "    <tr>\n",
       "      <th>5</th>\n",
       "      <td>138</td>\n",
       "      <td>RL</td>\n",
       "      <td>85.000000</td>\n",
       "      <td>14115</td>\n",
       "      <td>Pave</td>\n",
       "      <td>2009-10-01</td>\n",
       "      <td>143000</td>\n",
       "    </tr>\n",
       "    <tr>\n",
       "      <th>7</th>\n",
       "      <td>144</td>\n",
       "      <td>RL</td>\n",
       "      <td>70.049958</td>\n",
       "      <td>10382</td>\n",
       "      <td>Pave</td>\n",
       "      <td>2009-11-01</td>\n",
       "      <td>200000</td>\n",
       "    </tr>\n",
       "    <tr>\n",
       "      <th>16</th>\n",
       "      <td>111</td>\n",
       "      <td>RL</td>\n",
       "      <td>70.049958</td>\n",
       "      <td>11241</td>\n",
       "      <td>Pave</td>\n",
       "      <td>2010-03-01</td>\n",
       "      <td>149000</td>\n",
       "    </tr>\n",
       "    <tr>\n",
       "      <th>19</th>\n",
       "      <td>71</td>\n",
       "      <td>RL</td>\n",
       "      <td>70.000000</td>\n",
       "      <td>7560</td>\n",
       "      <td>Pave</td>\n",
       "      <td>2009-05-01</td>\n",
       "      <td>139000</td>\n",
       "    </tr>\n",
       "    <tr>\n",
       "      <th>24</th>\n",
       "      <td>107</td>\n",
       "      <td>RL</td>\n",
       "      <td>70.049958</td>\n",
       "      <td>8246</td>\n",
       "      <td>Pave</td>\n",
       "      <td>2010-05-01</td>\n",
       "      <td>154000</td>\n",
       "    </tr>\n",
       "    <tr>\n",
       "      <th>...</th>\n",
       "      <td>...</td>\n",
       "      <td>...</td>\n",
       "      <td>...</td>\n",
       "      <td>...</td>\n",
       "      <td>...</td>\n",
       "      <td>...</td>\n",
       "      <td>...</td>\n",
       "    </tr>\n",
       "    <tr>\n",
       "      <th>1451</th>\n",
       "      <td>115</td>\n",
       "      <td>RL</td>\n",
       "      <td>78.000000</td>\n",
       "      <td>9262</td>\n",
       "      <td>Pave</td>\n",
       "      <td>2009-05-01</td>\n",
       "      <td>287090</td>\n",
       "    </tr>\n",
       "    <tr>\n",
       "      <th>1454</th>\n",
       "      <td>119</td>\n",
       "      <td>FV</td>\n",
       "      <td>62.000000</td>\n",
       "      <td>7500</td>\n",
       "      <td>Pave</td>\n",
       "      <td>2009-10-01</td>\n",
       "      <td>185000</td>\n",
       "    </tr>\n",
       "    <tr>\n",
       "      <th>1456</th>\n",
       "      <td>102</td>\n",
       "      <td>RL</td>\n",
       "      <td>85.000000</td>\n",
       "      <td>13175</td>\n",
       "      <td>Pave</td>\n",
       "      <td>2010-02-01</td>\n",
       "      <td>210000</td>\n",
       "    </tr>\n",
       "    <tr>\n",
       "      <th>1457</th>\n",
       "      <td>94</td>\n",
       "      <td>RL</td>\n",
       "      <td>66.000000</td>\n",
       "      <td>9042</td>\n",
       "      <td>Pave</td>\n",
       "      <td>2010-05-01</td>\n",
       "      <td>266500</td>\n",
       "    </tr>\n",
       "    <tr>\n",
       "      <th>1458</th>\n",
       "      <td>44</td>\n",
       "      <td>RL</td>\n",
       "      <td>68.000000</td>\n",
       "      <td>9717</td>\n",
       "      <td>Pave</td>\n",
       "      <td>2010-04-01</td>\n",
       "      <td>142125</td>\n",
       "    </tr>\n",
       "  </tbody>\n",
       "</table>\n",
       "<p>513 rows × 7 columns</p>\n",
       "</div>"
      ],
      "text/plain": [
       "      MSSubClass MSZoning  LotFrontage  LotArea Street  timestamp  SalePrice\n",
       "5            138       RL    85.000000    14115   Pave 2009-10-01     143000\n",
       "7            144       RL    70.049958    10382   Pave 2009-11-01     200000\n",
       "16           111       RL    70.049958    11241   Pave 2010-03-01     149000\n",
       "19            71       RL    70.000000     7560   Pave 2009-05-01     139000\n",
       "24           107       RL    70.049958     8246   Pave 2010-05-01     154000\n",
       "...          ...      ...          ...      ...    ...        ...        ...\n",
       "1451         115       RL    78.000000     9262   Pave 2009-05-01     287090\n",
       "1454         119       FV    62.000000     7500   Pave 2009-10-01     185000\n",
       "1456         102       RL    85.000000    13175   Pave 2010-02-01     210000\n",
       "1457          94       RL    66.000000     9042   Pave 2010-05-01     266500\n",
       "1458          44       RL    68.000000     9717   Pave 2010-04-01     142125\n",
       "\n",
       "[513 rows x 7 columns]"
      ]
     },
     "execution_count": 14,
     "metadata": {},
     "output_type": "execute_result"
    }
   ],
   "source": [
    "analysis"
   ]
  },
  {
   "cell_type": "code",
   "execution_count": 15,
   "metadata": {},
   "outputs": [],
   "source": [
    "feature_column_names = [\"MSSubClass\",\n",
    "                        \"MSZoning\",\n",
    "                        \"LotFrontage\",\n",
    "                        \"LotArea\",\n",
    "                        \"Street\"\n",
    "                        ]"
   ]
  },
  {
   "cell_type": "code",
   "execution_count": 16,
   "metadata": {},
   "outputs": [],
   "source": [
    "def calculate_drift(reference, analysis, feature_column_names):  \n",
    "    calc = nml.DataReconstructionDriftCalculator(column_names=feature_column_names,\n",
    "                                                 timestamp_column_name='timestamp'\n",
    "                                                 )\n",
    "    calc.fit(reference)\n",
    "\n",
    "    results = calc.calculate(analysis)\n",
    "\n",
    "    return results"
   ]
  },
  {
   "cell_type": "code",
   "execution_count": 17,
   "metadata": {},
   "outputs": [],
   "source": [
    "result_years = calculate_drift(reference, analysis, feature_column_names)"
   ]
  },
  {
   "cell_type": "code",
   "execution_count": 18,
   "metadata": {},
   "outputs": [
    {
     "data": {
      "text/html": [
       "<div>\n",
       "<style scoped>\n",
       "    .dataframe tbody tr th:only-of-type {\n",
       "        vertical-align: middle;\n",
       "    }\n",
       "\n",
       "    .dataframe tbody tr th {\n",
       "        vertical-align: top;\n",
       "    }\n",
       "\n",
       "    .dataframe thead tr th {\n",
       "        text-align: left;\n",
       "    }\n",
       "</style>\n",
       "<table border=\"1\" class=\"dataframe\">\n",
       "  <thead>\n",
       "    <tr>\n",
       "      <th></th>\n",
       "      <th colspan=\"7\" halign=\"left\">chunk</th>\n",
       "      <th colspan=\"7\" halign=\"left\">reconstruction_error</th>\n",
       "    </tr>\n",
       "    <tr>\n",
       "      <th></th>\n",
       "      <th>key</th>\n",
       "      <th>chunk_index</th>\n",
       "      <th>start_index</th>\n",
       "      <th>end_index</th>\n",
       "      <th>start_date</th>\n",
       "      <th>end_date</th>\n",
       "      <th>period</th>\n",
       "      <th>sampling_error</th>\n",
       "      <th>value</th>\n",
       "      <th>upper_confidence_boundary</th>\n",
       "      <th>lower_confidence_boundary</th>\n",
       "      <th>upper_threshold</th>\n",
       "      <th>lower_threshold</th>\n",
       "      <th>alert</th>\n",
       "    </tr>\n",
       "  </thead>\n",
       "  <tbody>\n",
       "    <tr>\n",
       "      <th>0</th>\n",
       "      <td>[0:50]</td>\n",
       "      <td>0</td>\n",
       "      <td>0</td>\n",
       "      <td>50</td>\n",
       "      <td>2009-01-01</td>\n",
       "      <td>2009-04-01</td>\n",
       "      <td>analysis</td>\n",
       "      <td>0.112413</td>\n",
       "      <td>1.222054</td>\n",
       "      <td>1.559293</td>\n",
       "      <td>0.884815</td>\n",
       "      <td>1.055783</td>\n",
       "      <td>0.466251</td>\n",
       "      <td>True</td>\n",
       "    </tr>\n",
       "    <tr>\n",
       "      <th>1</th>\n",
       "      <td>[51:101]</td>\n",
       "      <td>1</td>\n",
       "      <td>51</td>\n",
       "      <td>101</td>\n",
       "      <td>2009-04-01</td>\n",
       "      <td>2009-05-01</td>\n",
       "      <td>analysis</td>\n",
       "      <td>0.112413</td>\n",
       "      <td>1.380454</td>\n",
       "      <td>1.717693</td>\n",
       "      <td>1.043215</td>\n",
       "      <td>1.055783</td>\n",
       "      <td>0.466251</td>\n",
       "      <td>True</td>\n",
       "    </tr>\n",
       "    <tr>\n",
       "      <th>2</th>\n",
       "      <td>[102:152]</td>\n",
       "      <td>2</td>\n",
       "      <td>102</td>\n",
       "      <td>152</td>\n",
       "      <td>2009-05-01</td>\n",
       "      <td>2009-06-01</td>\n",
       "      <td>analysis</td>\n",
       "      <td>0.112413</td>\n",
       "      <td>1.354968</td>\n",
       "      <td>1.692207</td>\n",
       "      <td>1.017729</td>\n",
       "      <td>1.055783</td>\n",
       "      <td>0.466251</td>\n",
       "      <td>True</td>\n",
       "    </tr>\n",
       "    <tr>\n",
       "      <th>3</th>\n",
       "      <td>[153:203]</td>\n",
       "      <td>3</td>\n",
       "      <td>153</td>\n",
       "      <td>203</td>\n",
       "      <td>2009-06-01</td>\n",
       "      <td>2009-07-01</td>\n",
       "      <td>analysis</td>\n",
       "      <td>0.112413</td>\n",
       "      <td>1.253345</td>\n",
       "      <td>1.590585</td>\n",
       "      <td>0.916106</td>\n",
       "      <td>1.055783</td>\n",
       "      <td>0.466251</td>\n",
       "      <td>True</td>\n",
       "    </tr>\n",
       "    <tr>\n",
       "      <th>4</th>\n",
       "      <td>[204:254]</td>\n",
       "      <td>4</td>\n",
       "      <td>204</td>\n",
       "      <td>254</td>\n",
       "      <td>2009-07-01</td>\n",
       "      <td>2009-09-01</td>\n",
       "      <td>analysis</td>\n",
       "      <td>0.112413</td>\n",
       "      <td>1.303501</td>\n",
       "      <td>1.640740</td>\n",
       "      <td>0.966262</td>\n",
       "      <td>1.055783</td>\n",
       "      <td>0.466251</td>\n",
       "      <td>True</td>\n",
       "    </tr>\n",
       "    <tr>\n",
       "      <th>5</th>\n",
       "      <td>[255:305]</td>\n",
       "      <td>5</td>\n",
       "      <td>255</td>\n",
       "      <td>305</td>\n",
       "      <td>2009-09-01</td>\n",
       "      <td>2009-11-01</td>\n",
       "      <td>analysis</td>\n",
       "      <td>0.112413</td>\n",
       "      <td>1.143719</td>\n",
       "      <td>1.480959</td>\n",
       "      <td>0.806480</td>\n",
       "      <td>1.055783</td>\n",
       "      <td>0.466251</td>\n",
       "      <td>True</td>\n",
       "    </tr>\n",
       "    <tr>\n",
       "      <th>6</th>\n",
       "      <td>[306:356]</td>\n",
       "      <td>6</td>\n",
       "      <td>306</td>\n",
       "      <td>356</td>\n",
       "      <td>2009-11-01</td>\n",
       "      <td>2010-02-01</td>\n",
       "      <td>analysis</td>\n",
       "      <td>0.112413</td>\n",
       "      <td>1.140930</td>\n",
       "      <td>1.478169</td>\n",
       "      <td>0.803690</td>\n",
       "      <td>1.055783</td>\n",
       "      <td>0.466251</td>\n",
       "      <td>True</td>\n",
       "    </tr>\n",
       "    <tr>\n",
       "      <th>7</th>\n",
       "      <td>[357:407]</td>\n",
       "      <td>7</td>\n",
       "      <td>357</td>\n",
       "      <td>407</td>\n",
       "      <td>2010-02-01</td>\n",
       "      <td>2010-04-01</td>\n",
       "      <td>analysis</td>\n",
       "      <td>0.112413</td>\n",
       "      <td>1.237813</td>\n",
       "      <td>1.575052</td>\n",
       "      <td>0.900573</td>\n",
       "      <td>1.055783</td>\n",
       "      <td>0.466251</td>\n",
       "      <td>True</td>\n",
       "    </tr>\n",
       "    <tr>\n",
       "      <th>8</th>\n",
       "      <td>[408:458]</td>\n",
       "      <td>8</td>\n",
       "      <td>408</td>\n",
       "      <td>458</td>\n",
       "      <td>2010-04-01</td>\n",
       "      <td>2010-05-01</td>\n",
       "      <td>analysis</td>\n",
       "      <td>0.112413</td>\n",
       "      <td>1.306367</td>\n",
       "      <td>1.643606</td>\n",
       "      <td>0.969128</td>\n",
       "      <td>1.055783</td>\n",
       "      <td>0.466251</td>\n",
       "      <td>True</td>\n",
       "    </tr>\n",
       "    <tr>\n",
       "      <th>9</th>\n",
       "      <td>[510:509]</td>\n",
       "      <td>9</td>\n",
       "      <td>459</td>\n",
       "      <td>512</td>\n",
       "      <td>2010-07-01</td>\n",
       "      <td>2010-07-01</td>\n",
       "      <td>analysis</td>\n",
       "      <td>0.109246</td>\n",
       "      <td>1.589322</td>\n",
       "      <td>1.917060</td>\n",
       "      <td>1.261584</td>\n",
       "      <td>1.055783</td>\n",
       "      <td>0.466251</td>\n",
       "      <td>True</td>\n",
       "    </tr>\n",
       "  </tbody>\n",
       "</table>\n",
       "</div>"
      ],
      "text/plain": [
       "       chunk                                                          \\\n",
       "         key chunk_index start_index end_index start_date   end_date   \n",
       "0     [0:50]           0           0        50 2009-01-01 2009-04-01   \n",
       "1   [51:101]           1          51       101 2009-04-01 2009-05-01   \n",
       "2  [102:152]           2         102       152 2009-05-01 2009-06-01   \n",
       "3  [153:203]           3         153       203 2009-06-01 2009-07-01   \n",
       "4  [204:254]           4         204       254 2009-07-01 2009-09-01   \n",
       "5  [255:305]           5         255       305 2009-09-01 2009-11-01   \n",
       "6  [306:356]           6         306       356 2009-11-01 2010-02-01   \n",
       "7  [357:407]           7         357       407 2010-02-01 2010-04-01   \n",
       "8  [408:458]           8         408       458 2010-04-01 2010-05-01   \n",
       "9  [510:509]           9         459       512 2010-07-01 2010-07-01   \n",
       "\n",
       "            reconstruction_error                                      \\\n",
       "     period       sampling_error     value upper_confidence_boundary   \n",
       "0  analysis             0.112413  1.222054                  1.559293   \n",
       "1  analysis             0.112413  1.380454                  1.717693   \n",
       "2  analysis             0.112413  1.354968                  1.692207   \n",
       "3  analysis             0.112413  1.253345                  1.590585   \n",
       "4  analysis             0.112413  1.303501                  1.640740   \n",
       "5  analysis             0.112413  1.143719                  1.480959   \n",
       "6  analysis             0.112413  1.140930                  1.478169   \n",
       "7  analysis             0.112413  1.237813                  1.575052   \n",
       "8  analysis             0.112413  1.306367                  1.643606   \n",
       "9  analysis             0.109246  1.589322                  1.917060   \n",
       "\n",
       "                                                                   \n",
       "  lower_confidence_boundary upper_threshold lower_threshold alert  \n",
       "0                  0.884815        1.055783        0.466251  True  \n",
       "1                  1.043215        1.055783        0.466251  True  \n",
       "2                  1.017729        1.055783        0.466251  True  \n",
       "3                  0.916106        1.055783        0.466251  True  \n",
       "4                  0.966262        1.055783        0.466251  True  \n",
       "5                  0.806480        1.055783        0.466251  True  \n",
       "6                  0.803690        1.055783        0.466251  True  \n",
       "7                  0.900573        1.055783        0.466251  True  \n",
       "8                  0.969128        1.055783        0.466251  True  \n",
       "9                  1.261584        1.055783        0.466251  True  "
      ]
     },
     "metadata": {},
     "output_type": "display_data"
    }
   ],
   "source": [
    "display(result_years.filter(period='analysis').to_df())"
   ]
  },
  {
   "cell_type": "code",
   "execution_count": 19,
   "metadata": {},
   "outputs": [
    {
     "data": {
      "text/html": [
       "<div>\n",
       "<style scoped>\n",
       "    .dataframe tbody tr th:only-of-type {\n",
       "        vertical-align: middle;\n",
       "    }\n",
       "\n",
       "    .dataframe tbody tr th {\n",
       "        vertical-align: top;\n",
       "    }\n",
       "\n",
       "    .dataframe thead tr th {\n",
       "        text-align: left;\n",
       "    }\n",
       "</style>\n",
       "<table border=\"1\" class=\"dataframe\">\n",
       "  <thead>\n",
       "    <tr>\n",
       "      <th></th>\n",
       "      <th colspan=\"7\" halign=\"left\">chunk</th>\n",
       "      <th colspan=\"7\" halign=\"left\">reconstruction_error</th>\n",
       "    </tr>\n",
       "    <tr>\n",
       "      <th></th>\n",
       "      <th>key</th>\n",
       "      <th>chunk_index</th>\n",
       "      <th>start_index</th>\n",
       "      <th>end_index</th>\n",
       "      <th>start_date</th>\n",
       "      <th>end_date</th>\n",
       "      <th>period</th>\n",
       "      <th>sampling_error</th>\n",
       "      <th>value</th>\n",
       "      <th>upper_confidence_boundary</th>\n",
       "      <th>lower_confidence_boundary</th>\n",
       "      <th>upper_threshold</th>\n",
       "      <th>lower_threshold</th>\n",
       "      <th>alert</th>\n",
       "    </tr>\n",
       "  </thead>\n",
       "  <tbody>\n",
       "    <tr>\n",
       "      <th>0</th>\n",
       "      <td>[0:62]</td>\n",
       "      <td>0</td>\n",
       "      <td>0</td>\n",
       "      <td>62</td>\n",
       "      <td>2007-01-01</td>\n",
       "      <td>2007-04-01</td>\n",
       "      <td>reference</td>\n",
       "      <td>0.101142</td>\n",
       "      <td>0.608613</td>\n",
       "      <td>0.912039</td>\n",
       "      <td>0.305186</td>\n",
       "      <td>1.055783</td>\n",
       "      <td>0.466251</td>\n",
       "      <td>False</td>\n",
       "    </tr>\n",
       "    <tr>\n",
       "      <th>1</th>\n",
       "      <td>[63:125]</td>\n",
       "      <td>1</td>\n",
       "      <td>63</td>\n",
       "      <td>125</td>\n",
       "      <td>2007-04-01</td>\n",
       "      <td>2007-06-01</td>\n",
       "      <td>reference</td>\n",
       "      <td>0.101142</td>\n",
       "      <td>0.810786</td>\n",
       "      <td>1.114212</td>\n",
       "      <td>0.507360</td>\n",
       "      <td>1.055783</td>\n",
       "      <td>0.466251</td>\n",
       "      <td>False</td>\n",
       "    </tr>\n",
       "    <tr>\n",
       "      <th>2</th>\n",
       "      <td>[126:188]</td>\n",
       "      <td>2</td>\n",
       "      <td>126</td>\n",
       "      <td>188</td>\n",
       "      <td>2007-06-01</td>\n",
       "      <td>2007-07-01</td>\n",
       "      <td>reference</td>\n",
       "      <td>0.101142</td>\n",
       "      <td>0.922101</td>\n",
       "      <td>1.225527</td>\n",
       "      <td>0.618675</td>\n",
       "      <td>1.055783</td>\n",
       "      <td>0.466251</td>\n",
       "      <td>False</td>\n",
       "    </tr>\n",
       "    <tr>\n",
       "      <th>3</th>\n",
       "      <td>[189:251]</td>\n",
       "      <td>3</td>\n",
       "      <td>189</td>\n",
       "      <td>251</td>\n",
       "      <td>2007-07-01</td>\n",
       "      <td>2007-08-01</td>\n",
       "      <td>reference</td>\n",
       "      <td>0.101142</td>\n",
       "      <td>0.733461</td>\n",
       "      <td>1.036887</td>\n",
       "      <td>0.430034</td>\n",
       "      <td>1.055783</td>\n",
       "      <td>0.466251</td>\n",
       "      <td>False</td>\n",
       "    </tr>\n",
       "    <tr>\n",
       "      <th>4</th>\n",
       "      <td>[252:314]</td>\n",
       "      <td>4</td>\n",
       "      <td>252</td>\n",
       "      <td>314</td>\n",
       "      <td>2007-08-01</td>\n",
       "      <td>2007-12-01</td>\n",
       "      <td>reference</td>\n",
       "      <td>0.101142</td>\n",
       "      <td>0.661106</td>\n",
       "      <td>0.964533</td>\n",
       "      <td>0.357680</td>\n",
       "      <td>1.055783</td>\n",
       "      <td>0.466251</td>\n",
       "      <td>False</td>\n",
       "    </tr>\n",
       "    <tr>\n",
       "      <th>5</th>\n",
       "      <td>[315:377]</td>\n",
       "      <td>5</td>\n",
       "      <td>315</td>\n",
       "      <td>377</td>\n",
       "      <td>2007-12-01</td>\n",
       "      <td>2008-04-01</td>\n",
       "      <td>reference</td>\n",
       "      <td>0.101142</td>\n",
       "      <td>0.828939</td>\n",
       "      <td>1.132365</td>\n",
       "      <td>0.525513</td>\n",
       "      <td>1.055783</td>\n",
       "      <td>0.466251</td>\n",
       "      <td>False</td>\n",
       "    </tr>\n",
       "    <tr>\n",
       "      <th>6</th>\n",
       "      <td>[378:440]</td>\n",
       "      <td>6</td>\n",
       "      <td>378</td>\n",
       "      <td>440</td>\n",
       "      <td>2008-04-01</td>\n",
       "      <td>2008-06-01</td>\n",
       "      <td>reference</td>\n",
       "      <td>0.101142</td>\n",
       "      <td>0.701337</td>\n",
       "      <td>1.004763</td>\n",
       "      <td>0.397911</td>\n",
       "      <td>1.055783</td>\n",
       "      <td>0.466251</td>\n",
       "      <td>False</td>\n",
       "    </tr>\n",
       "    <tr>\n",
       "      <th>7</th>\n",
       "      <td>[441:503]</td>\n",
       "      <td>7</td>\n",
       "      <td>441</td>\n",
       "      <td>503</td>\n",
       "      <td>2008-06-01</td>\n",
       "      <td>2008-07-01</td>\n",
       "      <td>reference</td>\n",
       "      <td>0.101142</td>\n",
       "      <td>0.654633</td>\n",
       "      <td>0.958059</td>\n",
       "      <td>0.351207</td>\n",
       "      <td>1.055783</td>\n",
       "      <td>0.466251</td>\n",
       "      <td>False</td>\n",
       "    </tr>\n",
       "    <tr>\n",
       "      <th>8</th>\n",
       "      <td>[504:566]</td>\n",
       "      <td>8</td>\n",
       "      <td>504</td>\n",
       "      <td>566</td>\n",
       "      <td>2008-07-01</td>\n",
       "      <td>2008-09-01</td>\n",
       "      <td>reference</td>\n",
       "      <td>0.101142</td>\n",
       "      <td>0.863086</td>\n",
       "      <td>1.166512</td>\n",
       "      <td>0.559660</td>\n",
       "      <td>1.055783</td>\n",
       "      <td>0.466251</td>\n",
       "      <td>False</td>\n",
       "    </tr>\n",
       "    <tr>\n",
       "      <th>9</th>\n",
       "      <td>[630:629]</td>\n",
       "      <td>9</td>\n",
       "      <td>567</td>\n",
       "      <td>632</td>\n",
       "      <td>2008-12-01</td>\n",
       "      <td>2008-12-01</td>\n",
       "      <td>reference</td>\n",
       "      <td>0.098817</td>\n",
       "      <td>0.826107</td>\n",
       "      <td>1.122557</td>\n",
       "      <td>0.529657</td>\n",
       "      <td>1.055783</td>\n",
       "      <td>0.466251</td>\n",
       "      <td>False</td>\n",
       "    </tr>\n",
       "  </tbody>\n",
       "</table>\n",
       "</div>"
      ],
      "text/plain": [
       "       chunk                                                          \\\n",
       "         key chunk_index start_index end_index start_date   end_date   \n",
       "0     [0:62]           0           0        62 2007-01-01 2007-04-01   \n",
       "1   [63:125]           1          63       125 2007-04-01 2007-06-01   \n",
       "2  [126:188]           2         126       188 2007-06-01 2007-07-01   \n",
       "3  [189:251]           3         189       251 2007-07-01 2007-08-01   \n",
       "4  [252:314]           4         252       314 2007-08-01 2007-12-01   \n",
       "5  [315:377]           5         315       377 2007-12-01 2008-04-01   \n",
       "6  [378:440]           6         378       440 2008-04-01 2008-06-01   \n",
       "7  [441:503]           7         441       503 2008-06-01 2008-07-01   \n",
       "8  [504:566]           8         504       566 2008-07-01 2008-09-01   \n",
       "9  [630:629]           9         567       632 2008-12-01 2008-12-01   \n",
       "\n",
       "             reconstruction_error                                      \\\n",
       "      period       sampling_error     value upper_confidence_boundary   \n",
       "0  reference             0.101142  0.608613                  0.912039   \n",
       "1  reference             0.101142  0.810786                  1.114212   \n",
       "2  reference             0.101142  0.922101                  1.225527   \n",
       "3  reference             0.101142  0.733461                  1.036887   \n",
       "4  reference             0.101142  0.661106                  0.964533   \n",
       "5  reference             0.101142  0.828939                  1.132365   \n",
       "6  reference             0.101142  0.701337                  1.004763   \n",
       "7  reference             0.101142  0.654633                  0.958059   \n",
       "8  reference             0.101142  0.863086                  1.166512   \n",
       "9  reference             0.098817  0.826107                  1.122557   \n",
       "\n",
       "                                                                    \n",
       "  lower_confidence_boundary upper_threshold lower_threshold  alert  \n",
       "0                  0.305186        1.055783        0.466251  False  \n",
       "1                  0.507360        1.055783        0.466251  False  \n",
       "2                  0.618675        1.055783        0.466251  False  \n",
       "3                  0.430034        1.055783        0.466251  False  \n",
       "4                  0.357680        1.055783        0.466251  False  \n",
       "5                  0.525513        1.055783        0.466251  False  \n",
       "6                  0.397911        1.055783        0.466251  False  \n",
       "7                  0.351207        1.055783        0.466251  False  \n",
       "8                  0.559660        1.055783        0.466251  False  \n",
       "9                  0.529657        1.055783        0.466251  False  "
      ]
     },
     "metadata": {},
     "output_type": "display_data"
    }
   ],
   "source": [
    "display(result_years.filter(period='reference').to_df())"
   ]
  },
  {
   "cell_type": "code",
   "execution_count": 20,
   "metadata": {},
   "outputs": [
    {
     "data": {
      "application/vnd.plotly.v1+json": {
       "config": {
        "plotlyServerURL": "https://plot.ly"
       },
       "data": [
        {
         "hoverinfo": "skip",
         "legendgroup": "metric_reference",
         "line": {
          "color": "#00c8e5",
          "shape": "hv",
          "width": 2
         },
         "mode": "lines",
         "name": "Metric",
         "showlegend": true,
         "type": "scatter",
         "x": [
          "2007-01-01T00:00:00",
          "2007-04-01T00:00:00",
          "2007-06-01T00:00:00",
          "2007-07-01T00:00:00",
          "2007-08-01T00:00:00",
          "2007-12-01T00:00:00",
          "2008-04-01T00:00:00",
          "2008-06-01T00:00:00",
          "2008-07-01T00:00:00",
          "2008-12-01T00:00:00",
          "2008-12-01T00:00:00"
         ],
         "y": [
          0.6086126399018192,
          0.8107861213108626,
          0.9221006652401865,
          0.7334605924445065,
          0.6611064517756506,
          0.8289389543861746,
          0.7013370526274378,
          0.6546330775598467,
          0.8630862531651259,
          0.8261072267723352,
          0.8261072267723352
         ]
        },
        {
         "customdata": [
          [
           "Data reconstruction drift",
           "<b style=\"color:#00c8e5;line-height:60px\">Reference</b>",
           "",
           "[0:62]",
           "From <b>Jan-01-2007</b> to <b>Apr-01-2007</b>",
           0.6086,
           0.3034
          ],
          [
           "Data reconstruction drift",
           "<b style=\"color:#00c8e5;line-height:60px\">Reference</b>",
           "",
           "[63:125]",
           "From <b>Apr-01-2007</b> to <b>Jun-01-2007</b>",
           0.8108,
           0.3034
          ],
          [
           "Data reconstruction drift",
           "<b style=\"color:#00c8e5;line-height:60px\">Reference</b>",
           "",
           "[126:188]",
           "From <b>Jun-01-2007</b> to <b>Jul-01-2007</b>",
           0.9221,
           0.3034
          ],
          [
           "Data reconstruction drift",
           "<b style=\"color:#00c8e5;line-height:60px\">Reference</b>",
           "",
           "[189:251]",
           "From <b>Jul-01-2007</b> to <b>Aug-01-2007</b>",
           0.7335,
           0.3034
          ],
          [
           "Data reconstruction drift",
           "<b style=\"color:#00c8e5;line-height:60px\">Reference</b>",
           "",
           "[252:314]",
           "From <b>Aug-01-2007</b> to <b>Dec-01-2007</b>",
           0.6611,
           0.3034
          ],
          [
           "Data reconstruction drift",
           "<b style=\"color:#00c8e5;line-height:60px\">Reference</b>",
           "",
           "[315:377]",
           "From <b>Dec-01-2007</b> to <b>Apr-01-2008</b>",
           0.8289,
           0.3034
          ],
          [
           "Data reconstruction drift",
           "<b style=\"color:#00c8e5;line-height:60px\">Reference</b>",
           "",
           "[378:440]",
           "From <b>Apr-01-2008</b> to <b>Jun-01-2008</b>",
           0.7013,
           0.3034
          ],
          [
           "Data reconstruction drift",
           "<b style=\"color:#00c8e5;line-height:60px\">Reference</b>",
           "",
           "[441:503]",
           "From <b>Jun-01-2008</b> to <b>Jul-01-2008</b>",
           0.6546,
           0.3034
          ],
          [
           "Data reconstruction drift",
           "<b style=\"color:#00c8e5;line-height:60px\">Reference</b>",
           "",
           "[504:566]",
           "From <b>Jul-01-2008</b> to <b>Sep-01-2008</b>",
           0.8631,
           0.3034
          ],
          [
           "Data reconstruction drift",
           "<b style=\"color:#00c8e5;line-height:60px\">Reference</b>",
           "",
           "[630:629]",
           "From <b>Dec-01-2008</b> to <b>Dec-01-2008</b>",
           0.8261,
           0.2964
          ]
         ],
         "hovertemplate": "%{customdata[1]} &nbsp; &nbsp; %{customdata[2]} <br />Chunk: <b>%{customdata[3]}</b> &nbsp; &nbsp; %{customdata[4]} <br />%{customdata[0]}: <b>%{customdata[5]}</b><br />Confidence band: +/- <b>%{customdata[6]}</b><br /><extra></extra>",
         "legendgroup": "metric_reference",
         "marker": {
          "color": "#00c8e5",
          "size": 5,
          "symbol": "circle"
         },
         "mode": "markers",
         "name": "Metric",
         "showlegend": false,
         "type": "scatter",
         "x": [
          "2007-02-15T00:00:00",
          "2007-05-01T12:00:00",
          "2007-06-16T00:00:00",
          "2007-07-16T12:00:00",
          "2007-10-01T00:00:00",
          "2008-01-31T00:00:00",
          "2008-05-01T12:00:00",
          "2008-06-16T00:00:00",
          "2008-09-15T12:00:00",
          "2008-12-01T00:00:00"
         ],
         "y": [
          0.6086126399018192,
          0.8107861213108626,
          0.9221006652401865,
          0.7334605924445065,
          0.6611064517756506,
          0.8289389543861746,
          0.7013370526274378,
          0.6546330775598467,
          0.8630862531651259,
          0.8261072267723352,
          0.8261072267723352
         ]
        },
        {
         "hoverinfo": "skip",
         "legendgroup": "metric_analysis",
         "line": {
          "color": "#00c8e5",
          "shape": "hv",
          "width": 2
         },
         "mode": "lines",
         "name": "Metric",
         "showlegend": false,
         "type": "scatter",
         "x": [
          "2009-01-01T00:00:00",
          "2009-04-01T00:00:00",
          "2009-05-01T00:00:00",
          "2009-06-01T00:00:00",
          "2009-07-01T00:00:00",
          "2009-09-01T00:00:00",
          "2009-11-01T00:00:00",
          "2010-02-01T00:00:00",
          "2010-04-01T00:00:00",
          "2010-07-01T00:00:00",
          "2010-07-01T00:00:00"
         ],
         "y": [
          1.2220541099109916,
          1.38045410364708,
          1.3549679575964215,
          1.2533454102209323,
          1.3035010888315908,
          1.143719495396691,
          1.1409295092466938,
          1.2378126897766515,
          1.3063670468671287,
          1.5893219008355297,
          1.5893219008355297
         ]
        },
        {
         "customdata": [
          [
           "Data reconstruction drift",
           "<b style=\"color:#3b0280;line-height:60px\">Analysis</b>",
           "<span style=\"color:#AD0000\">⚠ <b>Drift detected</b></span>",
           "[0:50]",
           "From <b>Jan-01-2009</b> to <b>Apr-01-2009</b>",
           1.2221,
           0.3372
          ],
          [
           "Data reconstruction drift",
           "<b style=\"color:#3b0280;line-height:60px\">Analysis</b>",
           "<span style=\"color:#AD0000\">⚠ <b>Drift detected</b></span>",
           "[51:101]",
           "From <b>Apr-01-2009</b> to <b>May-01-2009</b>",
           1.3805,
           0.3372
          ],
          [
           "Data reconstruction drift",
           "<b style=\"color:#3b0280;line-height:60px\">Analysis</b>",
           "<span style=\"color:#AD0000\">⚠ <b>Drift detected</b></span>",
           "[102:152]",
           "From <b>May-01-2009</b> to <b>Jun-01-2009</b>",
           1.355,
           0.3372
          ],
          [
           "Data reconstruction drift",
           "<b style=\"color:#3b0280;line-height:60px\">Analysis</b>",
           "<span style=\"color:#AD0000\">⚠ <b>Drift detected</b></span>",
           "[153:203]",
           "From <b>Jun-01-2009</b> to <b>Jul-01-2009</b>",
           1.2533,
           0.3372
          ],
          [
           "Data reconstruction drift",
           "<b style=\"color:#3b0280;line-height:60px\">Analysis</b>",
           "<span style=\"color:#AD0000\">⚠ <b>Drift detected</b></span>",
           "[204:254]",
           "From <b>Jul-01-2009</b> to <b>Sep-01-2009</b>",
           1.3035,
           0.3372
          ],
          [
           "Data reconstruction drift",
           "<b style=\"color:#3b0280;line-height:60px\">Analysis</b>",
           "<span style=\"color:#AD0000\">⚠ <b>Drift detected</b></span>",
           "[255:305]",
           "From <b>Sep-01-2009</b> to <b>Nov-01-2009</b>",
           1.1437,
           0.3372
          ],
          [
           "Data reconstruction drift",
           "<b style=\"color:#3b0280;line-height:60px\">Analysis</b>",
           "<span style=\"color:#AD0000\">⚠ <b>Drift detected</b></span>",
           "[306:356]",
           "From <b>Nov-01-2009</b> to <b>Feb-01-2010</b>",
           1.1409,
           0.3372
          ],
          [
           "Data reconstruction drift",
           "<b style=\"color:#3b0280;line-height:60px\">Analysis</b>",
           "<span style=\"color:#AD0000\">⚠ <b>Drift detected</b></span>",
           "[357:407]",
           "From <b>Feb-01-2010</b> to <b>Apr-01-2010</b>",
           1.2378,
           0.3372
          ],
          [
           "Data reconstruction drift",
           "<b style=\"color:#3b0280;line-height:60px\">Analysis</b>",
           "<span style=\"color:#AD0000\">⚠ <b>Drift detected</b></span>",
           "[408:458]",
           "From <b>Apr-01-2010</b> to <b>May-01-2010</b>",
           1.3064,
           0.3372
          ],
          [
           "Data reconstruction drift",
           "<b style=\"color:#3b0280;line-height:60px\">Analysis</b>",
           "<span style=\"color:#AD0000\">⚠ <b>Drift detected</b></span>",
           "[510:509]",
           "From <b>Jul-01-2010</b> to <b>Jul-01-2010</b>",
           1.5893,
           0.3277
          ]
         ],
         "hovertemplate": "%{customdata[1]} &nbsp; &nbsp; %{customdata[2]} <br />Chunk: <b>%{customdata[3]}</b> &nbsp; &nbsp; %{customdata[4]} <br />%{customdata[0]}: <b>%{customdata[5]}</b><br />Confidence band: +/- <b>%{customdata[6]}</b><br /><extra></extra>",
         "legendgroup": "metric_analysis",
         "marker": {
          "color": "#00c8e5",
          "size": 5,
          "symbol": "circle"
         },
         "mode": "markers",
         "name": "Metric",
         "showlegend": false,
         "type": "scatter",
         "x": [
          "2009-02-15T00:00:00",
          "2009-04-16T00:00:00",
          "2009-05-16T12:00:00",
          "2009-06-16T00:00:00",
          "2009-08-01T00:00:00",
          "2009-10-01T12:00:00",
          "2009-12-17T00:00:00",
          "2010-03-02T12:00:00",
          "2010-05-16T12:00:00",
          "2010-07-01T00:00:00"
         ],
         "y": [
          1.2220541099109916,
          1.38045410364708,
          1.3549679575964215,
          1.2533454102209323,
          1.3035010888315908,
          1.143719495396691,
          1.1409295092466938,
          1.2378126897766515,
          1.3063670468671287,
          1.5893219008355297,
          1.5893219008355297
         ]
        },
        {
         "hoverinfo": "skip",
         "legendgroup": "alert",
         "marker": {
          "color": "#DD4040",
          "size": 8,
          "symbol": "diamond"
         },
         "mode": "markers",
         "name": "Alert",
         "showlegend": true,
         "type": "scatter",
         "x": [
          "2009-02-15T00:00:00",
          "2009-04-16T00:00:00",
          "2009-05-16T12:00:00",
          "2009-06-16T00:00:00",
          "2009-08-01T00:00:00",
          "2009-10-01T12:00:00",
          "2009-12-17T00:00:00",
          "2010-03-02T12:00:00",
          "2010-05-16T12:00:00",
          "2010-07-01T00:00:00"
         ],
         "y": [
          1.2220541099109916,
          1.38045410364708,
          1.3549679575964215,
          1.2533454102209323,
          1.3035010888315908,
          1.143719495396691,
          1.1409295092466938,
          1.2378126897766515,
          1.3063670468671287,
          1.5893219008355297
         ]
        },
        {
         "hoverinfo": "skip",
         "legendgroup": "thresh",
         "line": {
          "color": "#DD4040",
          "dash": "dash",
          "width": 2
         },
         "mode": "lines",
         "name": "Threshold",
         "showlegend": false,
         "type": "scatter",
         "x": [
          "2007-01-01T00:00:00",
          "2007-04-01T00:00:00",
          "2007-06-01T00:00:00",
          "2007-07-01T00:00:00",
          "2007-08-01T00:00:00",
          "2007-12-01T00:00:00",
          "2008-04-01T00:00:00",
          "2008-06-01T00:00:00",
          "2008-07-01T00:00:00",
          "2008-12-01T00:00:00",
          "2008-12-01T00:00:00"
         ],
         "y": [
          1.0557826998687123,
          1.0557826998687123,
          1.0557826998687123,
          1.0557826998687123,
          1.0557826998687123,
          1.0557826998687123,
          1.0557826998687123,
          1.0557826998687123,
          1.0557826998687123,
          1.0557826998687123,
          1.0557826998687123
         ]
        },
        {
         "hoverinfo": "skip",
         "legendgroup": "thresh",
         "line": {
          "color": "#DD4040",
          "dash": "dash",
          "width": 2
         },
         "mode": "lines",
         "name": "Threshold",
         "showlegend": false,
         "type": "scatter",
         "x": [
          "2007-01-01T00:00:00",
          "2007-04-01T00:00:00",
          "2007-06-01T00:00:00",
          "2007-07-01T00:00:00",
          "2007-08-01T00:00:00",
          "2007-12-01T00:00:00",
          "2008-04-01T00:00:00",
          "2008-06-01T00:00:00",
          "2008-07-01T00:00:00",
          "2008-12-01T00:00:00",
          "2008-12-01T00:00:00"
         ],
         "y": [
          0.46625110716807705,
          0.46625110716807705,
          0.46625110716807705,
          0.46625110716807705,
          0.46625110716807705,
          0.46625110716807705,
          0.46625110716807705,
          0.46625110716807705,
          0.46625110716807705,
          0.46625110716807705,
          0.46625110716807705
         ]
        },
        {
         "hoverinfo": "skip",
         "legendgroup": "thresh",
         "line": {
          "color": "#DD4040",
          "dash": "dash",
          "width": 2
         },
         "mode": "lines",
         "name": "Threshold",
         "showlegend": false,
         "type": "scatter",
         "x": [
          "2009-01-01T00:00:00",
          "2009-04-01T00:00:00",
          "2009-05-01T00:00:00",
          "2009-06-01T00:00:00",
          "2009-07-01T00:00:00",
          "2009-09-01T00:00:00",
          "2009-11-01T00:00:00",
          "2010-02-01T00:00:00",
          "2010-04-01T00:00:00",
          "2010-07-01T00:00:00",
          "2010-07-01T00:00:00"
         ],
         "y": [
          1.0557826998687123,
          1.0557826998687123,
          1.0557826998687123,
          1.0557826998687123,
          1.0557826998687123,
          1.0557826998687123,
          1.0557826998687123,
          1.0557826998687123,
          1.0557826998687123,
          1.0557826998687123,
          1.0557826998687123
         ]
        },
        {
         "hoverinfo": "skip",
         "legendgroup": "thresh",
         "line": {
          "color": "#DD4040",
          "dash": "dash",
          "width": 2
         },
         "mode": "lines",
         "name": "Threshold",
         "showlegend": false,
         "type": "scatter",
         "x": [
          "2009-01-01T00:00:00",
          "2009-04-01T00:00:00",
          "2009-05-01T00:00:00",
          "2009-06-01T00:00:00",
          "2009-07-01T00:00:00",
          "2009-09-01T00:00:00",
          "2009-11-01T00:00:00",
          "2010-02-01T00:00:00",
          "2010-04-01T00:00:00",
          "2010-07-01T00:00:00",
          "2010-07-01T00:00:00"
         ],
         "y": [
          0.46625110716807705,
          0.46625110716807705,
          0.46625110716807705,
          0.46625110716807705,
          0.46625110716807705,
          0.46625110716807705,
          0.46625110716807705,
          0.46625110716807705,
          0.46625110716807705,
          0.46625110716807705,
          0.46625110716807705
         ]
        },
        {
         "hoverinfo": "skip",
         "line": {
          "color": "rgba(0,0,0,0)",
          "shape": "hv"
         },
         "mode": "lines",
         "name": "Confidence band",
         "showlegend": false,
         "type": "scatter",
         "x": [
          "2007-01-01T00:00:00",
          "2007-04-01T00:00:00",
          "2007-06-01T00:00:00",
          "2007-07-01T00:00:00",
          "2007-08-01T00:00:00",
          "2007-12-01T00:00:00",
          "2008-04-01T00:00:00",
          "2008-06-01T00:00:00",
          "2008-07-01T00:00:00",
          "2008-12-01T00:00:00",
          "2008-12-01T00:00:00"
         ],
         "y": [
          0.9120387912081422,
          1.1142122726171855,
          1.2255268165465094,
          1.0368867437508293,
          0.9645326030819736,
          1.1323651056924975,
          1.0047632039337608,
          0.9580592288661697,
          1.1665124044714488,
          1.1225571317254717,
          1.1225571317254717
         ]
        },
        {
         "fill": "tonexty",
         "fillcolor": "rgba(0.0, 0.7843137254901961, 0.8980392156862745, 0.2)",
         "hoverinfo": "skip",
         "line": {
          "color": "rgba(0,0,0,0)",
          "shape": "hv"
         },
         "mode": "lines",
         "name": "Confidence band",
         "showlegend": true,
         "type": "scatter",
         "x": [
          "2007-01-01T00:00:00",
          "2007-04-01T00:00:00",
          "2007-06-01T00:00:00",
          "2007-07-01T00:00:00",
          "2007-08-01T00:00:00",
          "2007-12-01T00:00:00",
          "2008-04-01T00:00:00",
          "2008-06-01T00:00:00",
          "2008-07-01T00:00:00",
          "2008-12-01T00:00:00",
          "2008-12-01T00:00:00"
         ],
         "y": [
          0.30518648859549624,
          0.5073599700045396,
          0.6186745139338635,
          0.43003444113818345,
          0.35768030046932764,
          0.5255128030798516,
          0.39791090132111484,
          0.3512069262535237,
          0.5596601018588029,
          0.5296573218191987,
          0.5296573218191987
         ]
        },
        {
         "hoverinfo": "skip",
         "line": {
          "color": "rgba(0,0,0,0)",
          "shape": "hv"
         },
         "mode": "lines",
         "name": "Confidence band",
         "showlegend": false,
         "type": "scatter",
         "x": [
          "2009-01-01T00:00:00",
          "2009-04-01T00:00:00",
          "2009-05-01T00:00:00",
          "2009-06-01T00:00:00",
          "2009-07-01T00:00:00",
          "2009-09-01T00:00:00",
          "2009-11-01T00:00:00",
          "2010-02-01T00:00:00",
          "2010-04-01T00:00:00",
          "2010-07-01T00:00:00",
          "2010-07-01T00:00:00"
         ],
         "y": [
          1.5592934223242043,
          1.7176934160602928,
          1.6922072700096342,
          1.590584722634145,
          1.6407404012448035,
          1.4809588078099036,
          1.4781688216599065,
          1.5750520021898642,
          1.6436063592803414,
          1.9170596021242212,
          1.9170596021242212
         ]
        },
        {
         "fill": "tonexty",
         "fillcolor": "rgba(0.0, 0.7843137254901961, 0.8980392156862745, 0.2)",
         "hoverinfo": "skip",
         "line": {
          "color": "rgba(0,0,0,0)",
          "shape": "hv"
         },
         "mode": "lines",
         "name": "Confidence band",
         "showlegend": false,
         "type": "scatter",
         "x": [
          "2009-01-01T00:00:00",
          "2009-04-01T00:00:00",
          "2009-05-01T00:00:00",
          "2009-06-01T00:00:00",
          "2009-07-01T00:00:00",
          "2009-09-01T00:00:00",
          "2009-11-01T00:00:00",
          "2010-02-01T00:00:00",
          "2010-04-01T00:00:00",
          "2010-07-01T00:00:00",
          "2010-07-01T00:00:00"
         ],
         "y": [
          0.8848147974977789,
          1.0432147912338674,
          1.0177286451832088,
          0.9161060978077196,
          0.9662617764183781,
          0.8064801829834782,
          0.8036901968334811,
          0.9005733773634388,
          0.969127734453916,
          1.2615841995468382,
          1.2615841995468382
         ]
        }
       ],
       "layout": {
        "annotations": [
         {
          "showarrow": false,
          "text": "Reference",
          "x": "2007-11-15T19:12:00",
          "xshift": 10,
          "y": 1.01,
          "yref": "y domain"
         },
         {
          "showarrow": false,
          "text": "Analysis",
          "x": "2009-09-06T14:24:00",
          "xshift": 15,
          "y": 1.01,
          "yref": "y domain"
         }
        ],
        "hoverlabel": {
         "bgcolor": "white",
         "font": {
          "size": 14
         }
        },
        "legend": {
         "itemclick": false,
         "itemdoubleclick": false,
         "traceorder": "grouped"
        },
        "paper_bgcolor": "rgba(255,255,255,1)",
        "plot_bgcolor": "rgba(255,255,255,1)",
        "shapes": [
         {
          "layer": "below",
          "line": {
           "color": "#666666",
           "width": 1
          },
          "type": "line",
          "x0": "2009-01-01T00:00:00",
          "x1": "2009-01-01T00:00:00",
          "xref": "x",
          "y0": 0,
          "y1": 1,
          "yref": "y domain"
         }
        ],
        "template": {
         "data": {
          "bar": [
           {
            "error_x": {
             "color": "#2a3f5f"
            },
            "error_y": {
             "color": "#2a3f5f"
            },
            "marker": {
             "line": {
              "color": "#E5ECF6",
              "width": 0.5
             },
             "pattern": {
              "fillmode": "overlay",
              "size": 10,
              "solidity": 0.2
             }
            },
            "type": "bar"
           }
          ],
          "barpolar": [
           {
            "marker": {
             "line": {
              "color": "#E5ECF6",
              "width": 0.5
             },
             "pattern": {
              "fillmode": "overlay",
              "size": 10,
              "solidity": 0.2
             }
            },
            "type": "barpolar"
           }
          ],
          "carpet": [
           {
            "aaxis": {
             "endlinecolor": "#2a3f5f",
             "gridcolor": "white",
             "linecolor": "white",
             "minorgridcolor": "white",
             "startlinecolor": "#2a3f5f"
            },
            "baxis": {
             "endlinecolor": "#2a3f5f",
             "gridcolor": "white",
             "linecolor": "white",
             "minorgridcolor": "white",
             "startlinecolor": "#2a3f5f"
            },
            "type": "carpet"
           }
          ],
          "choropleth": [
           {
            "colorbar": {
             "outlinewidth": 0,
             "ticks": ""
            },
            "type": "choropleth"
           }
          ],
          "contour": [
           {
            "colorbar": {
             "outlinewidth": 0,
             "ticks": ""
            },
            "colorscale": [
             [
              0,
              "#0d0887"
             ],
             [
              0.1111111111111111,
              "#46039f"
             ],
             [
              0.2222222222222222,
              "#7201a8"
             ],
             [
              0.3333333333333333,
              "#9c179e"
             ],
             [
              0.4444444444444444,
              "#bd3786"
             ],
             [
              0.5555555555555556,
              "#d8576b"
             ],
             [
              0.6666666666666666,
              "#ed7953"
             ],
             [
              0.7777777777777778,
              "#fb9f3a"
             ],
             [
              0.8888888888888888,
              "#fdca26"
             ],
             [
              1,
              "#f0f921"
             ]
            ],
            "type": "contour"
           }
          ],
          "contourcarpet": [
           {
            "colorbar": {
             "outlinewidth": 0,
             "ticks": ""
            },
            "type": "contourcarpet"
           }
          ],
          "heatmap": [
           {
            "colorbar": {
             "outlinewidth": 0,
             "ticks": ""
            },
            "colorscale": [
             [
              0,
              "#0d0887"
             ],
             [
              0.1111111111111111,
              "#46039f"
             ],
             [
              0.2222222222222222,
              "#7201a8"
             ],
             [
              0.3333333333333333,
              "#9c179e"
             ],
             [
              0.4444444444444444,
              "#bd3786"
             ],
             [
              0.5555555555555556,
              "#d8576b"
             ],
             [
              0.6666666666666666,
              "#ed7953"
             ],
             [
              0.7777777777777778,
              "#fb9f3a"
             ],
             [
              0.8888888888888888,
              "#fdca26"
             ],
             [
              1,
              "#f0f921"
             ]
            ],
            "type": "heatmap"
           }
          ],
          "heatmapgl": [
           {
            "colorbar": {
             "outlinewidth": 0,
             "ticks": ""
            },
            "colorscale": [
             [
              0,
              "#0d0887"
             ],
             [
              0.1111111111111111,
              "#46039f"
             ],
             [
              0.2222222222222222,
              "#7201a8"
             ],
             [
              0.3333333333333333,
              "#9c179e"
             ],
             [
              0.4444444444444444,
              "#bd3786"
             ],
             [
              0.5555555555555556,
              "#d8576b"
             ],
             [
              0.6666666666666666,
              "#ed7953"
             ],
             [
              0.7777777777777778,
              "#fb9f3a"
             ],
             [
              0.8888888888888888,
              "#fdca26"
             ],
             [
              1,
              "#f0f921"
             ]
            ],
            "type": "heatmapgl"
           }
          ],
          "histogram": [
           {
            "marker": {
             "pattern": {
              "fillmode": "overlay",
              "size": 10,
              "solidity": 0.2
             }
            },
            "type": "histogram"
           }
          ],
          "histogram2d": [
           {
            "colorbar": {
             "outlinewidth": 0,
             "ticks": ""
            },
            "colorscale": [
             [
              0,
              "#0d0887"
             ],
             [
              0.1111111111111111,
              "#46039f"
             ],
             [
              0.2222222222222222,
              "#7201a8"
             ],
             [
              0.3333333333333333,
              "#9c179e"
             ],
             [
              0.4444444444444444,
              "#bd3786"
             ],
             [
              0.5555555555555556,
              "#d8576b"
             ],
             [
              0.6666666666666666,
              "#ed7953"
             ],
             [
              0.7777777777777778,
              "#fb9f3a"
             ],
             [
              0.8888888888888888,
              "#fdca26"
             ],
             [
              1,
              "#f0f921"
             ]
            ],
            "type": "histogram2d"
           }
          ],
          "histogram2dcontour": [
           {
            "colorbar": {
             "outlinewidth": 0,
             "ticks": ""
            },
            "colorscale": [
             [
              0,
              "#0d0887"
             ],
             [
              0.1111111111111111,
              "#46039f"
             ],
             [
              0.2222222222222222,
              "#7201a8"
             ],
             [
              0.3333333333333333,
              "#9c179e"
             ],
             [
              0.4444444444444444,
              "#bd3786"
             ],
             [
              0.5555555555555556,
              "#d8576b"
             ],
             [
              0.6666666666666666,
              "#ed7953"
             ],
             [
              0.7777777777777778,
              "#fb9f3a"
             ],
             [
              0.8888888888888888,
              "#fdca26"
             ],
             [
              1,
              "#f0f921"
             ]
            ],
            "type": "histogram2dcontour"
           }
          ],
          "mesh3d": [
           {
            "colorbar": {
             "outlinewidth": 0,
             "ticks": ""
            },
            "type": "mesh3d"
           }
          ],
          "parcoords": [
           {
            "line": {
             "colorbar": {
              "outlinewidth": 0,
              "ticks": ""
             }
            },
            "type": "parcoords"
           }
          ],
          "pie": [
           {
            "automargin": true,
            "type": "pie"
           }
          ],
          "scatter": [
           {
            "fillpattern": {
             "fillmode": "overlay",
             "size": 10,
             "solidity": 0.2
            },
            "type": "scatter"
           }
          ],
          "scatter3d": [
           {
            "line": {
             "colorbar": {
              "outlinewidth": 0,
              "ticks": ""
             }
            },
            "marker": {
             "colorbar": {
              "outlinewidth": 0,
              "ticks": ""
             }
            },
            "type": "scatter3d"
           }
          ],
          "scattercarpet": [
           {
            "marker": {
             "colorbar": {
              "outlinewidth": 0,
              "ticks": ""
             }
            },
            "type": "scattercarpet"
           }
          ],
          "scattergeo": [
           {
            "marker": {
             "colorbar": {
              "outlinewidth": 0,
              "ticks": ""
             }
            },
            "type": "scattergeo"
           }
          ],
          "scattergl": [
           {
            "marker": {
             "colorbar": {
              "outlinewidth": 0,
              "ticks": ""
             }
            },
            "type": "scattergl"
           }
          ],
          "scattermapbox": [
           {
            "marker": {
             "colorbar": {
              "outlinewidth": 0,
              "ticks": ""
             }
            },
            "type": "scattermapbox"
           }
          ],
          "scatterpolar": [
           {
            "marker": {
             "colorbar": {
              "outlinewidth": 0,
              "ticks": ""
             }
            },
            "type": "scatterpolar"
           }
          ],
          "scatterpolargl": [
           {
            "marker": {
             "colorbar": {
              "outlinewidth": 0,
              "ticks": ""
             }
            },
            "type": "scatterpolargl"
           }
          ],
          "scatterternary": [
           {
            "marker": {
             "colorbar": {
              "outlinewidth": 0,
              "ticks": ""
             }
            },
            "type": "scatterternary"
           }
          ],
          "surface": [
           {
            "colorbar": {
             "outlinewidth": 0,
             "ticks": ""
            },
            "colorscale": [
             [
              0,
              "#0d0887"
             ],
             [
              0.1111111111111111,
              "#46039f"
             ],
             [
              0.2222222222222222,
              "#7201a8"
             ],
             [
              0.3333333333333333,
              "#9c179e"
             ],
             [
              0.4444444444444444,
              "#bd3786"
             ],
             [
              0.5555555555555556,
              "#d8576b"
             ],
             [
              0.6666666666666666,
              "#ed7953"
             ],
             [
              0.7777777777777778,
              "#fb9f3a"
             ],
             [
              0.8888888888888888,
              "#fdca26"
             ],
             [
              1,
              "#f0f921"
             ]
            ],
            "type": "surface"
           }
          ],
          "table": [
           {
            "cells": {
             "fill": {
              "color": "#EBF0F8"
             },
             "line": {
              "color": "white"
             }
            },
            "header": {
             "fill": {
              "color": "#C8D4E3"
             },
             "line": {
              "color": "white"
             }
            },
            "type": "table"
           }
          ]
         },
         "layout": {
          "annotationdefaults": {
           "arrowcolor": "#2a3f5f",
           "arrowhead": 0,
           "arrowwidth": 1
          },
          "autotypenumbers": "strict",
          "coloraxis": {
           "colorbar": {
            "outlinewidth": 0,
            "ticks": ""
           }
          },
          "colorscale": {
           "diverging": [
            [
             0,
             "#8e0152"
            ],
            [
             0.1,
             "#c51b7d"
            ],
            [
             0.2,
             "#de77ae"
            ],
            [
             0.3,
             "#f1b6da"
            ],
            [
             0.4,
             "#fde0ef"
            ],
            [
             0.5,
             "#f7f7f7"
            ],
            [
             0.6,
             "#e6f5d0"
            ],
            [
             0.7,
             "#b8e186"
            ],
            [
             0.8,
             "#7fbc41"
            ],
            [
             0.9,
             "#4d9221"
            ],
            [
             1,
             "#276419"
            ]
           ],
           "sequential": [
            [
             0,
             "#0d0887"
            ],
            [
             0.1111111111111111,
             "#46039f"
            ],
            [
             0.2222222222222222,
             "#7201a8"
            ],
            [
             0.3333333333333333,
             "#9c179e"
            ],
            [
             0.4444444444444444,
             "#bd3786"
            ],
            [
             0.5555555555555556,
             "#d8576b"
            ],
            [
             0.6666666666666666,
             "#ed7953"
            ],
            [
             0.7777777777777778,
             "#fb9f3a"
            ],
            [
             0.8888888888888888,
             "#fdca26"
            ],
            [
             1,
             "#f0f921"
            ]
           ],
           "sequentialminus": [
            [
             0,
             "#0d0887"
            ],
            [
             0.1111111111111111,
             "#46039f"
            ],
            [
             0.2222222222222222,
             "#7201a8"
            ],
            [
             0.3333333333333333,
             "#9c179e"
            ],
            [
             0.4444444444444444,
             "#bd3786"
            ],
            [
             0.5555555555555556,
             "#d8576b"
            ],
            [
             0.6666666666666666,
             "#ed7953"
            ],
            [
             0.7777777777777778,
             "#fb9f3a"
            ],
            [
             0.8888888888888888,
             "#fdca26"
            ],
            [
             1,
             "#f0f921"
            ]
           ]
          },
          "colorway": [
           "#636efa",
           "#EF553B",
           "#00cc96",
           "#ab63fa",
           "#FFA15A",
           "#19d3f3",
           "#FF6692",
           "#B6E880",
           "#FF97FF",
           "#FECB52"
          ],
          "font": {
           "color": "#2a3f5f"
          },
          "geo": {
           "bgcolor": "white",
           "lakecolor": "white",
           "landcolor": "#E5ECF6",
           "showlakes": true,
           "showland": true,
           "subunitcolor": "white"
          },
          "hoverlabel": {
           "align": "left"
          },
          "hovermode": "closest",
          "mapbox": {
           "style": "light"
          },
          "paper_bgcolor": "white",
          "plot_bgcolor": "#E5ECF6",
          "polar": {
           "angularaxis": {
            "gridcolor": "white",
            "linecolor": "white",
            "ticks": ""
           },
           "bgcolor": "#E5ECF6",
           "radialaxis": {
            "gridcolor": "white",
            "linecolor": "white",
            "ticks": ""
           }
          },
          "scene": {
           "xaxis": {
            "backgroundcolor": "#E5ECF6",
            "gridcolor": "white",
            "gridwidth": 2,
            "linecolor": "white",
            "showbackground": true,
            "ticks": "",
            "zerolinecolor": "white"
           },
           "yaxis": {
            "backgroundcolor": "#E5ECF6",
            "gridcolor": "white",
            "gridwidth": 2,
            "linecolor": "white",
            "showbackground": true,
            "ticks": "",
            "zerolinecolor": "white"
           },
           "zaxis": {
            "backgroundcolor": "#E5ECF6",
            "gridcolor": "white",
            "gridwidth": 2,
            "linecolor": "white",
            "showbackground": true,
            "ticks": "",
            "zerolinecolor": "white"
           }
          },
          "shapedefaults": {
           "line": {
            "color": "#2a3f5f"
           }
          },
          "ternary": {
           "aaxis": {
            "gridcolor": "white",
            "linecolor": "white",
            "ticks": ""
           },
           "baxis": {
            "gridcolor": "white",
            "linecolor": "white",
            "ticks": ""
           },
           "bgcolor": "#E5ECF6",
           "caxis": {
            "gridcolor": "white",
            "linecolor": "white",
            "ticks": ""
           }
          },
          "title": {
           "x": 0.05
          },
          "xaxis": {
           "automargin": true,
           "gridcolor": "white",
           "linecolor": "white",
           "ticks": "",
           "title": {
            "standoff": 15
           },
           "zerolinecolor": "white",
           "zerolinewidth": 2
          },
          "yaxis": {
           "automargin": true,
           "gridcolor": "white",
           "linecolor": "white",
           "ticks": "",
           "title": {
            "standoff": 15
           },
           "zerolinecolor": "white",
           "zerolinewidth": 2
          }
         }
        },
        "title": {
         "text": "Multivariate drift (PCA reconstruction error)"
        },
        "xaxis": {
         "linecolor": "#3b0280",
         "matches": "x",
         "mirror": true,
         "showgrid": false,
         "title": {
          "text": "Time"
         },
         "zeroline": false
        },
        "yaxis": {
         "linecolor": "#3b0280",
         "mirror": true,
         "showgrid": false,
         "title": {
          "text": "Data reconstruction drift"
         },
         "zeroline": false
        }
       }
      }
     },
     "metadata": {},
     "output_type": "display_data"
    }
   ],
   "source": [
    "figure = result_years.plot()\n",
    "\n",
    "figure.show()"
   ]
  },
  {
   "cell_type": "code",
   "execution_count": 21,
   "metadata": {},
   "outputs": [],
   "source": [
    "mean_value = df['LotFrontage'].mean()\n",
    "df= df.fillna(mean_value)"
   ]
  },
  {
   "cell_type": "code",
   "execution_count": 22,
   "metadata": {},
   "outputs": [
    {
     "name": "stderr",
     "output_type": "stream",
     "text": [
      "c:\\Users\\leoal\\.virtualenvs\\mlops-nova-project-5FFhJkaC\\lib\\site-packages\\nannyml\\base.py:299: FutureWarning:\n",
      "\n",
      "The behavior of indexing on a MultiIndex with a nested sequence of labels is deprecated and will change in a future version. `series.loc[label, sequence]` will raise if any members of 'sequence' or not present in the index's second level. To retain the old behavior, use `series.index.isin(sequence, level=1)`\n",
      "\n"
     ]
    },
    {
     "data": {
      "application/vnd.plotly.v1+json": {
       "config": {
        "plotlyServerURL": "https://plot.ly"
       },
       "data": [
        {
         "hoverinfo": "skip",
         "legendgroup": "metric_reference",
         "line": {
          "color": "#00c8e5",
          "shape": "hv",
          "width": 2
         },
         "mode": "lines",
         "name": "Method",
         "showlegend": true,
         "type": "scatter",
         "x": [
          "2007-01-01T00:00:00",
          "2007-04-01T00:00:00",
          "2007-06-01T00:00:00",
          "2007-07-01T00:00:00",
          "2007-08-01T00:00:00",
          "2007-12-01T00:00:00",
          "2008-04-01T00:00:00",
          "2008-06-01T00:00:00",
          "2008-07-01T00:00:00",
          "2008-12-01T00:00:00",
          "2008-12-01T00:00:00"
         ],
         "xaxis": "x",
         "y": [
          0.12841108095516565,
          0.13774179785467833,
          0.1350280042329499,
          0.1386565067955234,
          0.118840376954417,
          0.14086425465134947,
          0.1974487894787535,
          0.17754170339618316,
          0.13444609852271577,
          0.10070662825627884,
          0.10070662825627884
         ],
         "yaxis": "y"
        },
        {
         "customdata": [
          [
           "Jensen-Shannon distance for <b>LotArea</b>",
           "<b style=\"color:#00c8e5;line-height:60px\">Reference</b>",
           "<span style=\"color:#AD0000\">⚠ <b>Drift detected</b></span>",
           "[0:62]",
           "From <b>Jan-01-2007</b> to <b>Apr-01-2007</b>",
           0.1284
          ],
          [
           "Jensen-Shannon distance for <b>LotArea</b>",
           "<b style=\"color:#00c8e5;line-height:60px\">Reference</b>",
           "<span style=\"color:#AD0000\">⚠ <b>Drift detected</b></span>",
           "[63:125]",
           "From <b>Apr-01-2007</b> to <b>Jun-01-2007</b>",
           0.1377
          ],
          [
           "Jensen-Shannon distance for <b>LotArea</b>",
           "<b style=\"color:#00c8e5;line-height:60px\">Reference</b>",
           "<span style=\"color:#AD0000\">⚠ <b>Drift detected</b></span>",
           "[126:188]",
           "From <b>Jun-01-2007</b> to <b>Jul-01-2007</b>",
           0.135
          ],
          [
           "Jensen-Shannon distance for <b>LotArea</b>",
           "<b style=\"color:#00c8e5;line-height:60px\">Reference</b>",
           "<span style=\"color:#AD0000\">⚠ <b>Drift detected</b></span>",
           "[189:251]",
           "From <b>Jul-01-2007</b> to <b>Aug-01-2007</b>",
           0.1387
          ],
          [
           "Jensen-Shannon distance for <b>LotArea</b>",
           "<b style=\"color:#00c8e5;line-height:60px\">Reference</b>",
           "<span style=\"color:#AD0000\">⚠ <b>Drift detected</b></span>",
           "[252:314]",
           "From <b>Aug-01-2007</b> to <b>Dec-01-2007</b>",
           0.1188
          ],
          [
           "Jensen-Shannon distance for <b>LotArea</b>",
           "<b style=\"color:#00c8e5;line-height:60px\">Reference</b>",
           "<span style=\"color:#AD0000\">⚠ <b>Drift detected</b></span>",
           "[315:377]",
           "From <b>Dec-01-2007</b> to <b>Apr-01-2008</b>",
           0.1409
          ],
          [
           "Jensen-Shannon distance for <b>LotArea</b>",
           "<b style=\"color:#00c8e5;line-height:60px\">Reference</b>",
           "<span style=\"color:#AD0000\">⚠ <b>Drift detected</b></span>",
           "[378:440]",
           "From <b>Apr-01-2008</b> to <b>Jun-01-2008</b>",
           0.1974
          ],
          [
           "Jensen-Shannon distance for <b>LotArea</b>",
           "<b style=\"color:#00c8e5;line-height:60px\">Reference</b>",
           "<span style=\"color:#AD0000\">⚠ <b>Drift detected</b></span>",
           "[441:503]",
           "From <b>Jun-01-2008</b> to <b>Jul-01-2008</b>",
           0.1775
          ],
          [
           "Jensen-Shannon distance for <b>LotArea</b>",
           "<b style=\"color:#00c8e5;line-height:60px\">Reference</b>",
           "<span style=\"color:#AD0000\">⚠ <b>Drift detected</b></span>",
           "[504:566]",
           "From <b>Jul-01-2008</b> to <b>Sep-01-2008</b>",
           0.1344
          ],
          [
           "Jensen-Shannon distance for <b>LotArea</b>",
           "<b style=\"color:#00c8e5;line-height:60px\">Reference</b>",
           "<span style=\"color:#AD0000\">⚠ <b>Drift detected</b></span>",
           "[630:629]",
           "From <b>Dec-01-2008</b> to <b>Dec-01-2008</b>",
           0.1007
          ]
         ],
         "hovertemplate": "%{customdata[1]} &nbsp; &nbsp; %{customdata[2]} <br />Chunk: <b>%{customdata[3]}</b> &nbsp; &nbsp; %{customdata[4]} <br />%{customdata[0]}: <b>%{customdata[5]}</b><b r /><extra></extra>",
         "legendgroup": "metric_reference",
         "marker": {
          "color": "#00c8e5",
          "size": 5,
          "symbol": "circle"
         },
         "mode": "markers",
         "name": "Method",
         "showlegend": false,
         "type": "scatter",
         "x": [
          "2007-02-15T00:00:00",
          "2007-05-01T12:00:00",
          "2007-06-16T00:00:00",
          "2007-07-16T12:00:00",
          "2007-10-01T00:00:00",
          "2008-01-31T00:00:00",
          "2008-05-01T12:00:00",
          "2008-06-16T00:00:00",
          "2008-09-15T12:00:00",
          "2008-12-01T00:00:00"
         ],
         "xaxis": "x",
         "y": [
          0.12841108095516565,
          0.13774179785467833,
          0.1350280042329499,
          0.1386565067955234,
          0.118840376954417,
          0.14086425465134947,
          0.1974487894787535,
          0.17754170339618316,
          0.13444609852271577,
          0.10070662825627884,
          0.10070662825627884
         ],
         "yaxis": "y"
        },
        {
         "hoverinfo": "skip",
         "legendgroup": "metric_analysis",
         "line": {
          "color": "#00c8e5",
          "shape": "hv",
          "width": 2
         },
         "mode": "lines",
         "name": "Method",
         "showlegend": false,
         "type": "scatter",
         "x": [
          "2009-01-01T00:00:00",
          "2009-04-01T00:00:00",
          "2009-05-01T00:00:00",
          "2009-06-01T00:00:00",
          "2009-07-01T00:00:00",
          "2009-09-01T00:00:00",
          "2009-11-01T00:00:00",
          "2010-02-01T00:00:00",
          "2010-04-01T00:00:00",
          "2010-07-01T00:00:00",
          "2010-07-01T00:00:00"
         ],
         "xaxis": "x",
         "y": [
          0.1771471078870114,
          0.20295124319353267,
          0.18667156917383207,
          0.1460236910010894,
          0.16520356237926198,
          0.18008072248866222,
          0.14566906985054737,
          0.13892568637407604,
          0.15339418323900492,
          0.15299073656739196,
          0.15299073656739196
         ],
         "yaxis": "y"
        },
        {
         "customdata": [
          [
           "Jensen-Shannon distance for <b>LotArea</b>",
           "<b style=\"color:#00c8e5;line-height:60px\">Analysis</b>",
           "<span style=\"color:#AD0000\">⚠ <b>Drift detected</b></span>",
           "[0:50]",
           "From <b>Jan-01-2009</b> to <b>Apr-01-2009</b>",
           0.1771
          ],
          [
           "Jensen-Shannon distance for <b>LotArea</b>",
           "<b style=\"color:#00c8e5;line-height:60px\">Analysis</b>",
           "<span style=\"color:#AD0000\">⚠ <b>Drift detected</b></span>",
           "[51:101]",
           "From <b>Apr-01-2009</b> to <b>May-01-2009</b>",
           0.203
          ],
          [
           "Jensen-Shannon distance for <b>LotArea</b>",
           "<b style=\"color:#00c8e5;line-height:60px\">Analysis</b>",
           "<span style=\"color:#AD0000\">⚠ <b>Drift detected</b></span>",
           "[102:152]",
           "From <b>May-01-2009</b> to <b>Jun-01-2009</b>",
           0.1867
          ],
          [
           "Jensen-Shannon distance for <b>LotArea</b>",
           "<b style=\"color:#00c8e5;line-height:60px\">Analysis</b>",
           "<span style=\"color:#AD0000\">⚠ <b>Drift detected</b></span>",
           "[153:203]",
           "From <b>Jun-01-2009</b> to <b>Jul-01-2009</b>",
           0.146
          ],
          [
           "Jensen-Shannon distance for <b>LotArea</b>",
           "<b style=\"color:#00c8e5;line-height:60px\">Analysis</b>",
           "<span style=\"color:#AD0000\">⚠ <b>Drift detected</b></span>",
           "[204:254]",
           "From <b>Jul-01-2009</b> to <b>Sep-01-2009</b>",
           0.1652
          ],
          [
           "Jensen-Shannon distance for <b>LotArea</b>",
           "<b style=\"color:#00c8e5;line-height:60px\">Analysis</b>",
           "<span style=\"color:#AD0000\">⚠ <b>Drift detected</b></span>",
           "[255:305]",
           "From <b>Sep-01-2009</b> to <b>Nov-01-2009</b>",
           0.1801
          ],
          [
           "Jensen-Shannon distance for <b>LotArea</b>",
           "<b style=\"color:#00c8e5;line-height:60px\">Analysis</b>",
           "<span style=\"color:#AD0000\">⚠ <b>Drift detected</b></span>",
           "[306:356]",
           "From <b>Nov-01-2009</b> to <b>Feb-01-2010</b>",
           0.1457
          ],
          [
           "Jensen-Shannon distance for <b>LotArea</b>",
           "<b style=\"color:#00c8e5;line-height:60px\">Analysis</b>",
           "<span style=\"color:#AD0000\">⚠ <b>Drift detected</b></span>",
           "[357:407]",
           "From <b>Feb-01-2010</b> to <b>Apr-01-2010</b>",
           0.1389
          ],
          [
           "Jensen-Shannon distance for <b>LotArea</b>",
           "<b style=\"color:#00c8e5;line-height:60px\">Analysis</b>",
           "<span style=\"color:#AD0000\">⚠ <b>Drift detected</b></span>",
           "[408:458]",
           "From <b>Apr-01-2010</b> to <b>May-01-2010</b>",
           0.1534
          ],
          [
           "Jensen-Shannon distance for <b>LotArea</b>",
           "<b style=\"color:#00c8e5;line-height:60px\">Analysis</b>",
           "<span style=\"color:#AD0000\">⚠ <b>Drift detected</b></span>",
           "[510:509]",
           "From <b>Jul-01-2010</b> to <b>Jul-01-2010</b>",
           0.153
          ]
         ],
         "hovertemplate": "%{customdata[1]} &nbsp; &nbsp; %{customdata[2]} <br />Chunk: <b>%{customdata[3]}</b> &nbsp; &nbsp; %{customdata[4]} <br />%{customdata[0]}: <b>%{customdata[5]}</b><b r /><extra></extra>",
         "legendgroup": "metric_analysis",
         "marker": {
          "color": "#00c8e5",
          "size": 5,
          "symbol": "circle"
         },
         "mode": "markers",
         "name": "Method",
         "showlegend": false,
         "type": "scatter",
         "x": [
          "2009-02-15T00:00:00",
          "2009-04-16T00:00:00",
          "2009-05-16T12:00:00",
          "2009-06-16T00:00:00",
          "2009-08-01T00:00:00",
          "2009-10-01T12:00:00",
          "2009-12-17T00:00:00",
          "2010-03-02T12:00:00",
          "2010-05-16T12:00:00",
          "2010-07-01T00:00:00"
         ],
         "xaxis": "x",
         "y": [
          0.1771471078870114,
          0.20295124319353267,
          0.18667156917383207,
          0.1460236910010894,
          0.16520356237926198,
          0.18008072248866222,
          0.14566906985054737,
          0.13892568637407604,
          0.15339418323900492,
          0.15299073656739196,
          0.15299073656739196
         ],
         "yaxis": "y"
        },
        {
         "hoverinfo": "skip",
         "legendgroup": "alert",
         "marker": {
          "color": "#DD4040",
          "size": 8,
          "symbol": "diamond"
         },
         "mode": "markers",
         "name": "Alert",
         "showlegend": true,
         "type": "scatter",
         "x": [
          "2009-02-15T00:00:00",
          "2009-04-16T00:00:00",
          "2009-05-16T12:00:00",
          "2009-06-16T00:00:00",
          "2009-08-01T00:00:00",
          "2009-10-01T12:00:00",
          "2009-12-17T00:00:00",
          "2010-03-02T12:00:00",
          "2010-05-16T12:00:00",
          "2010-07-01T00:00:00"
         ],
         "xaxis": "x",
         "y": [
          0.1771471078870114,
          0.20295124319353267,
          0.18667156917383207,
          0.1460236910010894,
          0.16520356237926198,
          0.18008072248866222,
          0.14566906985054737,
          0.13892568637407604,
          0.15339418323900492,
          0.15299073656739196
         ],
         "yaxis": "y"
        },
        {
         "hoverinfo": "skip",
         "legendgroup": "thresh",
         "line": {
          "color": "#DD4040",
          "dash": "dash",
          "width": 2
         },
         "mode": "lines",
         "name": "Threshold",
         "showlegend": true,
         "type": "scatter",
         "x": [
          "2007-01-01T00:00:00",
          "2007-04-01T00:00:00",
          "2007-06-01T00:00:00",
          "2007-07-01T00:00:00",
          "2007-08-01T00:00:00",
          "2007-12-01T00:00:00",
          "2008-04-01T00:00:00",
          "2008-06-01T00:00:00",
          "2008-07-01T00:00:00",
          "2008-12-01T00:00:00",
          "2008-12-01T00:00:00"
         ],
         "xaxis": "x",
         "y": [
          0.1,
          0.1,
          0.1,
          0.1,
          0.1,
          0.1,
          0.1,
          0.1,
          0.1,
          0.1,
          0.1
         ],
         "yaxis": "y"
        },
        {
         "hoverinfo": "skip",
         "legendgroup": "thresh",
         "line": {
          "color": "#DD4040",
          "dash": "dash",
          "width": 2
         },
         "mode": "lines",
         "name": "Threshold",
         "showlegend": false,
         "type": "scatter",
         "x": [
          "2009-01-01T00:00:00",
          "2009-04-01T00:00:00",
          "2009-05-01T00:00:00",
          "2009-06-01T00:00:00",
          "2009-07-01T00:00:00",
          "2009-09-01T00:00:00",
          "2009-11-01T00:00:00",
          "2010-02-01T00:00:00",
          "2010-04-01T00:00:00",
          "2010-07-01T00:00:00",
          "2010-07-01T00:00:00"
         ],
         "xaxis": "x",
         "y": [
          0.1,
          0.1,
          0.1,
          0.1,
          0.1,
          0.1,
          0.1,
          0.1,
          0.1,
          0.1,
          0.1
         ],
         "yaxis": "y"
        },
        {
         "hoverinfo": "skip",
         "legendgroup": "metric_reference",
         "line": {
          "color": "#00c8e5",
          "shape": "hv",
          "width": 2
         },
         "mode": "lines",
         "name": "Method",
         "showlegend": false,
         "type": "scatter",
         "x": [
          "2007-01-01T00:00:00",
          "2007-04-01T00:00:00",
          "2007-06-01T00:00:00",
          "2007-07-01T00:00:00",
          "2007-08-01T00:00:00",
          "2007-12-01T00:00:00",
          "2008-04-01T00:00:00",
          "2008-06-01T00:00:00",
          "2008-07-01T00:00:00",
          "2008-12-01T00:00:00",
          "2008-12-01T00:00:00"
         ],
         "xaxis": "x2",
         "y": [
          0.10477618252833235,
          0.13599952451394723,
          0.1125504674307615,
          0.07766585360034525,
          0.12312728146886182,
          0.20358187747764112,
          0.09389659042741322,
          0.17731634577902275,
          0.10397704679762457,
          0.1309640037248451,
          0.1309640037248451
         ],
         "yaxis": "y2"
        },
        {
         "customdata": [
          [
           "Jensen-Shannon distance for <b>LotFrontage</b>",
           "<b style=\"color:#00c8e5;line-height:60px\">Reference</b>",
           "<span style=\"color:#AD0000\">⚠ <b>Drift detected</b></span>",
           "[0:62]",
           "From <b>Jan-01-2007</b> to <b>Apr-01-2007</b>",
           0.1048
          ],
          [
           "Jensen-Shannon distance for <b>LotFrontage</b>",
           "<b style=\"color:#00c8e5;line-height:60px\">Reference</b>",
           "<span style=\"color:#AD0000\">⚠ <b>Drift detected</b></span>",
           "[63:125]",
           "From <b>Apr-01-2007</b> to <b>Jun-01-2007</b>",
           0.136
          ],
          [
           "Jensen-Shannon distance for <b>LotFrontage</b>",
           "<b style=\"color:#00c8e5;line-height:60px\">Reference</b>",
           "<span style=\"color:#AD0000\">⚠ <b>Drift detected</b></span>",
           "[126:188]",
           "From <b>Jun-01-2007</b> to <b>Jul-01-2007</b>",
           0.1126
          ],
          [
           "Jensen-Shannon distance for <b>LotFrontage</b>",
           "<b style=\"color:#00c8e5;line-height:60px\">Reference</b>",
           "",
           "[189:251]",
           "From <b>Jul-01-2007</b> to <b>Aug-01-2007</b>",
           0.0777
          ],
          [
           "Jensen-Shannon distance for <b>LotFrontage</b>",
           "<b style=\"color:#00c8e5;line-height:60px\">Reference</b>",
           "<span style=\"color:#AD0000\">⚠ <b>Drift detected</b></span>",
           "[252:314]",
           "From <b>Aug-01-2007</b> to <b>Dec-01-2007</b>",
           0.1231
          ],
          [
           "Jensen-Shannon distance for <b>LotFrontage</b>",
           "<b style=\"color:#00c8e5;line-height:60px\">Reference</b>",
           "<span style=\"color:#AD0000\">⚠ <b>Drift detected</b></span>",
           "[315:377]",
           "From <b>Dec-01-2007</b> to <b>Apr-01-2008</b>",
           0.2036
          ],
          [
           "Jensen-Shannon distance for <b>LotFrontage</b>",
           "<b style=\"color:#00c8e5;line-height:60px\">Reference</b>",
           "",
           "[378:440]",
           "From <b>Apr-01-2008</b> to <b>Jun-01-2008</b>",
           0.0939
          ],
          [
           "Jensen-Shannon distance for <b>LotFrontage</b>",
           "<b style=\"color:#00c8e5;line-height:60px\">Reference</b>",
           "<span style=\"color:#AD0000\">⚠ <b>Drift detected</b></span>",
           "[441:503]",
           "From <b>Jun-01-2008</b> to <b>Jul-01-2008</b>",
           0.1773
          ],
          [
           "Jensen-Shannon distance for <b>LotFrontage</b>",
           "<b style=\"color:#00c8e5;line-height:60px\">Reference</b>",
           "<span style=\"color:#AD0000\">⚠ <b>Drift detected</b></span>",
           "[504:566]",
           "From <b>Jul-01-2008</b> to <b>Sep-01-2008</b>",
           0.104
          ],
          [
           "Jensen-Shannon distance for <b>LotFrontage</b>",
           "<b style=\"color:#00c8e5;line-height:60px\">Reference</b>",
           "<span style=\"color:#AD0000\">⚠ <b>Drift detected</b></span>",
           "[630:629]",
           "From <b>Dec-01-2008</b> to <b>Dec-01-2008</b>",
           0.131
          ]
         ],
         "hovertemplate": "%{customdata[1]} &nbsp; &nbsp; %{customdata[2]} <br />Chunk: <b>%{customdata[3]}</b> &nbsp; &nbsp; %{customdata[4]} <br />%{customdata[0]}: <b>%{customdata[5]}</b><b r /><extra></extra>",
         "legendgroup": "metric_reference",
         "marker": {
          "color": "#00c8e5",
          "size": 5,
          "symbol": "circle"
         },
         "mode": "markers",
         "name": "Method",
         "showlegend": false,
         "type": "scatter",
         "x": [
          "2007-02-15T00:00:00",
          "2007-05-01T12:00:00",
          "2007-06-16T00:00:00",
          "2007-07-16T12:00:00",
          "2007-10-01T00:00:00",
          "2008-01-31T00:00:00",
          "2008-05-01T12:00:00",
          "2008-06-16T00:00:00",
          "2008-09-15T12:00:00",
          "2008-12-01T00:00:00"
         ],
         "xaxis": "x2",
         "y": [
          0.10477618252833235,
          0.13599952451394723,
          0.1125504674307615,
          0.07766585360034525,
          0.12312728146886182,
          0.20358187747764112,
          0.09389659042741322,
          0.17731634577902275,
          0.10397704679762457,
          0.1309640037248451,
          0.1309640037248451
         ],
         "yaxis": "y2"
        },
        {
         "hoverinfo": "skip",
         "legendgroup": "metric_analysis",
         "line": {
          "color": "#00c8e5",
          "shape": "hv",
          "width": 2
         },
         "mode": "lines",
         "name": "Method",
         "showlegend": false,
         "type": "scatter",
         "x": [
          "2009-01-01T00:00:00",
          "2009-04-01T00:00:00",
          "2009-05-01T00:00:00",
          "2009-06-01T00:00:00",
          "2009-07-01T00:00:00",
          "2009-09-01T00:00:00",
          "2009-11-01T00:00:00",
          "2010-02-01T00:00:00",
          "2010-04-01T00:00:00",
          "2010-07-01T00:00:00",
          "2010-07-01T00:00:00"
         ],
         "xaxis": "x2",
         "y": [
          0.12610862659713995,
          0.24322206485782005,
          0.1728439917132582,
          0.14093498396266946,
          0.10397306093686225,
          0.14793289574709406,
          0.18021214929969442,
          0.1255517436404484,
          0.19309738754758163,
          0.19769888547102993,
          0.19769888547102993
         ],
         "yaxis": "y2"
        },
        {
         "customdata": [
          [
           "Jensen-Shannon distance for <b>LotFrontage</b>",
           "<b style=\"color:#00c8e5;line-height:60px\">Analysis</b>",
           "<span style=\"color:#AD0000\">⚠ <b>Drift detected</b></span>",
           "[0:50]",
           "From <b>Jan-01-2009</b> to <b>Apr-01-2009</b>",
           0.1261
          ],
          [
           "Jensen-Shannon distance for <b>LotFrontage</b>",
           "<b style=\"color:#00c8e5;line-height:60px\">Analysis</b>",
           "<span style=\"color:#AD0000\">⚠ <b>Drift detected</b></span>",
           "[51:101]",
           "From <b>Apr-01-2009</b> to <b>May-01-2009</b>",
           0.2432
          ],
          [
           "Jensen-Shannon distance for <b>LotFrontage</b>",
           "<b style=\"color:#00c8e5;line-height:60px\">Analysis</b>",
           "<span style=\"color:#AD0000\">⚠ <b>Drift detected</b></span>",
           "[102:152]",
           "From <b>May-01-2009</b> to <b>Jun-01-2009</b>",
           0.1728
          ],
          [
           "Jensen-Shannon distance for <b>LotFrontage</b>",
           "<b style=\"color:#00c8e5;line-height:60px\">Analysis</b>",
           "<span style=\"color:#AD0000\">⚠ <b>Drift detected</b></span>",
           "[153:203]",
           "From <b>Jun-01-2009</b> to <b>Jul-01-2009</b>",
           0.1409
          ],
          [
           "Jensen-Shannon distance for <b>LotFrontage</b>",
           "<b style=\"color:#00c8e5;line-height:60px\">Analysis</b>",
           "<span style=\"color:#AD0000\">⚠ <b>Drift detected</b></span>",
           "[204:254]",
           "From <b>Jul-01-2009</b> to <b>Sep-01-2009</b>",
           0.104
          ],
          [
           "Jensen-Shannon distance for <b>LotFrontage</b>",
           "<b style=\"color:#00c8e5;line-height:60px\">Analysis</b>",
           "<span style=\"color:#AD0000\">⚠ <b>Drift detected</b></span>",
           "[255:305]",
           "From <b>Sep-01-2009</b> to <b>Nov-01-2009</b>",
           0.1479
          ],
          [
           "Jensen-Shannon distance for <b>LotFrontage</b>",
           "<b style=\"color:#00c8e5;line-height:60px\">Analysis</b>",
           "<span style=\"color:#AD0000\">⚠ <b>Drift detected</b></span>",
           "[306:356]",
           "From <b>Nov-01-2009</b> to <b>Feb-01-2010</b>",
           0.1802
          ],
          [
           "Jensen-Shannon distance for <b>LotFrontage</b>",
           "<b style=\"color:#00c8e5;line-height:60px\">Analysis</b>",
           "<span style=\"color:#AD0000\">⚠ <b>Drift detected</b></span>",
           "[357:407]",
           "From <b>Feb-01-2010</b> to <b>Apr-01-2010</b>",
           0.1256
          ],
          [
           "Jensen-Shannon distance for <b>LotFrontage</b>",
           "<b style=\"color:#00c8e5;line-height:60px\">Analysis</b>",
           "<span style=\"color:#AD0000\">⚠ <b>Drift detected</b></span>",
           "[408:458]",
           "From <b>Apr-01-2010</b> to <b>May-01-2010</b>",
           0.1931
          ],
          [
           "Jensen-Shannon distance for <b>LotFrontage</b>",
           "<b style=\"color:#00c8e5;line-height:60px\">Analysis</b>",
           "<span style=\"color:#AD0000\">⚠ <b>Drift detected</b></span>",
           "[510:509]",
           "From <b>Jul-01-2010</b> to <b>Jul-01-2010</b>",
           0.1977
          ]
         ],
         "hovertemplate": "%{customdata[1]} &nbsp; &nbsp; %{customdata[2]} <br />Chunk: <b>%{customdata[3]}</b> &nbsp; &nbsp; %{customdata[4]} <br />%{customdata[0]}: <b>%{customdata[5]}</b><b r /><extra></extra>",
         "legendgroup": "metric_analysis",
         "marker": {
          "color": "#00c8e5",
          "size": 5,
          "symbol": "circle"
         },
         "mode": "markers",
         "name": "Method",
         "showlegend": false,
         "type": "scatter",
         "x": [
          "2009-02-15T00:00:00",
          "2009-04-16T00:00:00",
          "2009-05-16T12:00:00",
          "2009-06-16T00:00:00",
          "2009-08-01T00:00:00",
          "2009-10-01T12:00:00",
          "2009-12-17T00:00:00",
          "2010-03-02T12:00:00",
          "2010-05-16T12:00:00",
          "2010-07-01T00:00:00"
         ],
         "xaxis": "x2",
         "y": [
          0.12610862659713995,
          0.24322206485782005,
          0.1728439917132582,
          0.14093498396266946,
          0.10397306093686225,
          0.14793289574709406,
          0.18021214929969442,
          0.1255517436404484,
          0.19309738754758163,
          0.19769888547102993,
          0.19769888547102993
         ],
         "yaxis": "y2"
        },
        {
         "hoverinfo": "skip",
         "legendgroup": "alert",
         "marker": {
          "color": "#DD4040",
          "size": 8,
          "symbol": "diamond"
         },
         "mode": "markers",
         "name": "Alert",
         "showlegend": false,
         "type": "scatter",
         "x": [
          "2009-02-15T00:00:00",
          "2009-04-16T00:00:00",
          "2009-05-16T12:00:00",
          "2009-06-16T00:00:00",
          "2009-08-01T00:00:00",
          "2009-10-01T12:00:00",
          "2009-12-17T00:00:00",
          "2010-03-02T12:00:00",
          "2010-05-16T12:00:00",
          "2010-07-01T00:00:00"
         ],
         "xaxis": "x2",
         "y": [
          0.12610862659713995,
          0.24322206485782005,
          0.1728439917132582,
          0.14093498396266946,
          0.10397306093686225,
          0.14793289574709406,
          0.18021214929969442,
          0.1255517436404484,
          0.19309738754758163,
          0.19769888547102993
         ],
         "yaxis": "y2"
        },
        {
         "hoverinfo": "skip",
         "legendgroup": "thresh",
         "line": {
          "color": "#DD4040",
          "dash": "dash",
          "width": 2
         },
         "mode": "lines",
         "name": "Threshold",
         "showlegend": false,
         "type": "scatter",
         "x": [
          "2007-01-01T00:00:00",
          "2007-04-01T00:00:00",
          "2007-06-01T00:00:00",
          "2007-07-01T00:00:00",
          "2007-08-01T00:00:00",
          "2007-12-01T00:00:00",
          "2008-04-01T00:00:00",
          "2008-06-01T00:00:00",
          "2008-07-01T00:00:00",
          "2008-12-01T00:00:00",
          "2008-12-01T00:00:00"
         ],
         "xaxis": "x2",
         "y": [
          0.1,
          0.1,
          0.1,
          0.1,
          0.1,
          0.1,
          0.1,
          0.1,
          0.1,
          0.1,
          0.1
         ],
         "yaxis": "y2"
        },
        {
         "hoverinfo": "skip",
         "legendgroup": "thresh",
         "line": {
          "color": "#DD4040",
          "dash": "dash",
          "width": 2
         },
         "mode": "lines",
         "name": "Threshold",
         "showlegend": false,
         "type": "scatter",
         "x": [
          "2009-01-01T00:00:00",
          "2009-04-01T00:00:00",
          "2009-05-01T00:00:00",
          "2009-06-01T00:00:00",
          "2009-07-01T00:00:00",
          "2009-09-01T00:00:00",
          "2009-11-01T00:00:00",
          "2010-02-01T00:00:00",
          "2010-04-01T00:00:00",
          "2010-07-01T00:00:00",
          "2010-07-01T00:00:00"
         ],
         "xaxis": "x2",
         "y": [
          0.1,
          0.1,
          0.1,
          0.1,
          0.1,
          0.1,
          0.1,
          0.1,
          0.1,
          0.1,
          0.1
         ],
         "yaxis": "y2"
        },
        {
         "hoverinfo": "skip",
         "legendgroup": "metric_reference",
         "line": {
          "color": "#00c8e5",
          "shape": "hv",
          "width": 2
         },
         "mode": "lines",
         "name": "Method",
         "showlegend": false,
         "type": "scatter",
         "x": [
          "2007-01-01T00:00:00",
          "2007-04-01T00:00:00",
          "2007-06-01T00:00:00",
          "2007-07-01T00:00:00",
          "2007-08-01T00:00:00",
          "2007-12-01T00:00:00",
          "2008-04-01T00:00:00",
          "2008-06-01T00:00:00",
          "2008-07-01T00:00:00",
          "2008-12-01T00:00:00",
          "2008-12-01T00:00:00"
         ],
         "xaxis": "x3",
         "y": [
          0.2049237259905773,
          0.2259175369883447,
          0.16758584049860606,
          0.21610552594080673,
          0.20813546566793165,
          0.14368768974029186,
          0.22676712037385996,
          0.19499576004434158,
          0.1951800544859252,
          0.2254306134011529,
          0.2254306134011529
         ],
         "yaxis": "y3"
        },
        {
         "customdata": [
          [
           "Jensen-Shannon distance for <b>MSSubClass</b>",
           "<b style=\"color:#00c8e5;line-height:60px\">Reference</b>",
           "<span style=\"color:#AD0000\">⚠ <b>Drift detected</b></span>",
           "[0:62]",
           "From <b>Jan-01-2007</b> to <b>Apr-01-2007</b>",
           0.2049
          ],
          [
           "Jensen-Shannon distance for <b>MSSubClass</b>",
           "<b style=\"color:#00c8e5;line-height:60px\">Reference</b>",
           "<span style=\"color:#AD0000\">⚠ <b>Drift detected</b></span>",
           "[63:125]",
           "From <b>Apr-01-2007</b> to <b>Jun-01-2007</b>",
           0.2259
          ],
          [
           "Jensen-Shannon distance for <b>MSSubClass</b>",
           "<b style=\"color:#00c8e5;line-height:60px\">Reference</b>",
           "<span style=\"color:#AD0000\">⚠ <b>Drift detected</b></span>",
           "[126:188]",
           "From <b>Jun-01-2007</b> to <b>Jul-01-2007</b>",
           0.1676
          ],
          [
           "Jensen-Shannon distance for <b>MSSubClass</b>",
           "<b style=\"color:#00c8e5;line-height:60px\">Reference</b>",
           "<span style=\"color:#AD0000\">⚠ <b>Drift detected</b></span>",
           "[189:251]",
           "From <b>Jul-01-2007</b> to <b>Aug-01-2007</b>",
           0.2161
          ],
          [
           "Jensen-Shannon distance for <b>MSSubClass</b>",
           "<b style=\"color:#00c8e5;line-height:60px\">Reference</b>",
           "<span style=\"color:#AD0000\">⚠ <b>Drift detected</b></span>",
           "[252:314]",
           "From <b>Aug-01-2007</b> to <b>Dec-01-2007</b>",
           0.2081
          ],
          [
           "Jensen-Shannon distance for <b>MSSubClass</b>",
           "<b style=\"color:#00c8e5;line-height:60px\">Reference</b>",
           "<span style=\"color:#AD0000\">⚠ <b>Drift detected</b></span>",
           "[315:377]",
           "From <b>Dec-01-2007</b> to <b>Apr-01-2008</b>",
           0.1437
          ],
          [
           "Jensen-Shannon distance for <b>MSSubClass</b>",
           "<b style=\"color:#00c8e5;line-height:60px\">Reference</b>",
           "<span style=\"color:#AD0000\">⚠ <b>Drift detected</b></span>",
           "[378:440]",
           "From <b>Apr-01-2008</b> to <b>Jun-01-2008</b>",
           0.2268
          ],
          [
           "Jensen-Shannon distance for <b>MSSubClass</b>",
           "<b style=\"color:#00c8e5;line-height:60px\">Reference</b>",
           "<span style=\"color:#AD0000\">⚠ <b>Drift detected</b></span>",
           "[441:503]",
           "From <b>Jun-01-2008</b> to <b>Jul-01-2008</b>",
           0.195
          ],
          [
           "Jensen-Shannon distance for <b>MSSubClass</b>",
           "<b style=\"color:#00c8e5;line-height:60px\">Reference</b>",
           "<span style=\"color:#AD0000\">⚠ <b>Drift detected</b></span>",
           "[504:566]",
           "From <b>Jul-01-2008</b> to <b>Sep-01-2008</b>",
           0.1952
          ],
          [
           "Jensen-Shannon distance for <b>MSSubClass</b>",
           "<b style=\"color:#00c8e5;line-height:60px\">Reference</b>",
           "<span style=\"color:#AD0000\">⚠ <b>Drift detected</b></span>",
           "[630:629]",
           "From <b>Dec-01-2008</b> to <b>Dec-01-2008</b>",
           0.2254
          ]
         ],
         "hovertemplate": "%{customdata[1]} &nbsp; &nbsp; %{customdata[2]} <br />Chunk: <b>%{customdata[3]}</b> &nbsp; &nbsp; %{customdata[4]} <br />%{customdata[0]}: <b>%{customdata[5]}</b><b r /><extra></extra>",
         "legendgroup": "metric_reference",
         "marker": {
          "color": "#00c8e5",
          "size": 5,
          "symbol": "circle"
         },
         "mode": "markers",
         "name": "Method",
         "showlegend": false,
         "type": "scatter",
         "x": [
          "2007-02-15T00:00:00",
          "2007-05-01T12:00:00",
          "2007-06-16T00:00:00",
          "2007-07-16T12:00:00",
          "2007-10-01T00:00:00",
          "2008-01-31T00:00:00",
          "2008-05-01T12:00:00",
          "2008-06-16T00:00:00",
          "2008-09-15T12:00:00",
          "2008-12-01T00:00:00"
         ],
         "xaxis": "x3",
         "y": [
          0.2049237259905773,
          0.2259175369883447,
          0.16758584049860606,
          0.21610552594080673,
          0.20813546566793165,
          0.14368768974029186,
          0.22676712037385996,
          0.19499576004434158,
          0.1951800544859252,
          0.2254306134011529,
          0.2254306134011529
         ],
         "yaxis": "y3"
        },
        {
         "hoverinfo": "skip",
         "legendgroup": "metric_analysis",
         "line": {
          "color": "#00c8e5",
          "shape": "hv",
          "width": 2
         },
         "mode": "lines",
         "name": "Method",
         "showlegend": false,
         "type": "scatter",
         "x": [
          "2009-01-01T00:00:00",
          "2009-04-01T00:00:00",
          "2009-05-01T00:00:00",
          "2009-06-01T00:00:00",
          "2009-07-01T00:00:00",
          "2009-09-01T00:00:00",
          "2009-11-01T00:00:00",
          "2010-02-01T00:00:00",
          "2010-04-01T00:00:00",
          "2010-07-01T00:00:00",
          "2010-07-01T00:00:00"
         ],
         "xaxis": "x3",
         "y": [
          0.9376409965241599,
          0.979488849282439,
          0.9531992575916614,
          0.9580209976004307,
          0.9636136438398184,
          0.8826718497646983,
          0.934280627165162,
          0.9630664713784676,
          0.9462599503012361,
          0.9388192341335971,
          0.9388192341335971
         ],
         "yaxis": "y3"
        },
        {
         "customdata": [
          [
           "Jensen-Shannon distance for <b>MSSubClass</b>",
           "<b style=\"color:#00c8e5;line-height:60px\">Analysis</b>",
           "<span style=\"color:#AD0000\">⚠ <b>Drift detected</b></span>",
           "[0:50]",
           "From <b>Jan-01-2009</b> to <b>Apr-01-2009</b>",
           0.9376
          ],
          [
           "Jensen-Shannon distance for <b>MSSubClass</b>",
           "<b style=\"color:#00c8e5;line-height:60px\">Analysis</b>",
           "<span style=\"color:#AD0000\">⚠ <b>Drift detected</b></span>",
           "[51:101]",
           "From <b>Apr-01-2009</b> to <b>May-01-2009</b>",
           0.9795
          ],
          [
           "Jensen-Shannon distance for <b>MSSubClass</b>",
           "<b style=\"color:#00c8e5;line-height:60px\">Analysis</b>",
           "<span style=\"color:#AD0000\">⚠ <b>Drift detected</b></span>",
           "[102:152]",
           "From <b>May-01-2009</b> to <b>Jun-01-2009</b>",
           0.9532
          ],
          [
           "Jensen-Shannon distance for <b>MSSubClass</b>",
           "<b style=\"color:#00c8e5;line-height:60px\">Analysis</b>",
           "<span style=\"color:#AD0000\">⚠ <b>Drift detected</b></span>",
           "[153:203]",
           "From <b>Jun-01-2009</b> to <b>Jul-01-2009</b>",
           0.958
          ],
          [
           "Jensen-Shannon distance for <b>MSSubClass</b>",
           "<b style=\"color:#00c8e5;line-height:60px\">Analysis</b>",
           "<span style=\"color:#AD0000\">⚠ <b>Drift detected</b></span>",
           "[204:254]",
           "From <b>Jul-01-2009</b> to <b>Sep-01-2009</b>",
           0.9636
          ],
          [
           "Jensen-Shannon distance for <b>MSSubClass</b>",
           "<b style=\"color:#00c8e5;line-height:60px\">Analysis</b>",
           "<span style=\"color:#AD0000\">⚠ <b>Drift detected</b></span>",
           "[255:305]",
           "From <b>Sep-01-2009</b> to <b>Nov-01-2009</b>",
           0.8827
          ],
          [
           "Jensen-Shannon distance for <b>MSSubClass</b>",
           "<b style=\"color:#00c8e5;line-height:60px\">Analysis</b>",
           "<span style=\"color:#AD0000\">⚠ <b>Drift detected</b></span>",
           "[306:356]",
           "From <b>Nov-01-2009</b> to <b>Feb-01-2010</b>",
           0.9343
          ],
          [
           "Jensen-Shannon distance for <b>MSSubClass</b>",
           "<b style=\"color:#00c8e5;line-height:60px\">Analysis</b>",
           "<span style=\"color:#AD0000\">⚠ <b>Drift detected</b></span>",
           "[357:407]",
           "From <b>Feb-01-2010</b> to <b>Apr-01-2010</b>",
           0.9631
          ],
          [
           "Jensen-Shannon distance for <b>MSSubClass</b>",
           "<b style=\"color:#00c8e5;line-height:60px\">Analysis</b>",
           "<span style=\"color:#AD0000\">⚠ <b>Drift detected</b></span>",
           "[408:458]",
           "From <b>Apr-01-2010</b> to <b>May-01-2010</b>",
           0.9463
          ],
          [
           "Jensen-Shannon distance for <b>MSSubClass</b>",
           "<b style=\"color:#00c8e5;line-height:60px\">Analysis</b>",
           "<span style=\"color:#AD0000\">⚠ <b>Drift detected</b></span>",
           "[510:509]",
           "From <b>Jul-01-2010</b> to <b>Jul-01-2010</b>",
           0.9388
          ]
         ],
         "hovertemplate": "%{customdata[1]} &nbsp; &nbsp; %{customdata[2]} <br />Chunk: <b>%{customdata[3]}</b> &nbsp; &nbsp; %{customdata[4]} <br />%{customdata[0]}: <b>%{customdata[5]}</b><b r /><extra></extra>",
         "legendgroup": "metric_analysis",
         "marker": {
          "color": "#00c8e5",
          "size": 5,
          "symbol": "circle"
         },
         "mode": "markers",
         "name": "Method",
         "showlegend": false,
         "type": "scatter",
         "x": [
          "2009-02-15T00:00:00",
          "2009-04-16T00:00:00",
          "2009-05-16T12:00:00",
          "2009-06-16T00:00:00",
          "2009-08-01T00:00:00",
          "2009-10-01T12:00:00",
          "2009-12-17T00:00:00",
          "2010-03-02T12:00:00",
          "2010-05-16T12:00:00",
          "2010-07-01T00:00:00"
         ],
         "xaxis": "x3",
         "y": [
          0.9376409965241599,
          0.979488849282439,
          0.9531992575916614,
          0.9580209976004307,
          0.9636136438398184,
          0.8826718497646983,
          0.934280627165162,
          0.9630664713784676,
          0.9462599503012361,
          0.9388192341335971,
          0.9388192341335971
         ],
         "yaxis": "y3"
        },
        {
         "hoverinfo": "skip",
         "legendgroup": "alert",
         "marker": {
          "color": "#DD4040",
          "size": 8,
          "symbol": "diamond"
         },
         "mode": "markers",
         "name": "Alert",
         "showlegend": false,
         "type": "scatter",
         "x": [
          "2009-02-15T00:00:00",
          "2009-04-16T00:00:00",
          "2009-05-16T12:00:00",
          "2009-06-16T00:00:00",
          "2009-08-01T00:00:00",
          "2009-10-01T12:00:00",
          "2009-12-17T00:00:00",
          "2010-03-02T12:00:00",
          "2010-05-16T12:00:00",
          "2010-07-01T00:00:00"
         ],
         "xaxis": "x3",
         "y": [
          0.9376409965241599,
          0.979488849282439,
          0.9531992575916614,
          0.9580209976004307,
          0.9636136438398184,
          0.8826718497646983,
          0.934280627165162,
          0.9630664713784676,
          0.9462599503012361,
          0.9388192341335971
         ],
         "yaxis": "y3"
        },
        {
         "hoverinfo": "skip",
         "legendgroup": "thresh",
         "line": {
          "color": "#DD4040",
          "dash": "dash",
          "width": 2
         },
         "mode": "lines",
         "name": "Threshold",
         "showlegend": false,
         "type": "scatter",
         "x": [
          "2007-01-01T00:00:00",
          "2007-04-01T00:00:00",
          "2007-06-01T00:00:00",
          "2007-07-01T00:00:00",
          "2007-08-01T00:00:00",
          "2007-12-01T00:00:00",
          "2008-04-01T00:00:00",
          "2008-06-01T00:00:00",
          "2008-07-01T00:00:00",
          "2008-12-01T00:00:00",
          "2008-12-01T00:00:00"
         ],
         "xaxis": "x3",
         "y": [
          0.1,
          0.1,
          0.1,
          0.1,
          0.1,
          0.1,
          0.1,
          0.1,
          0.1,
          0.1,
          0.1
         ],
         "yaxis": "y3"
        },
        {
         "hoverinfo": "skip",
         "legendgroup": "thresh",
         "line": {
          "color": "#DD4040",
          "dash": "dash",
          "width": 2
         },
         "mode": "lines",
         "name": "Threshold",
         "showlegend": false,
         "type": "scatter",
         "x": [
          "2009-01-01T00:00:00",
          "2009-04-01T00:00:00",
          "2009-05-01T00:00:00",
          "2009-06-01T00:00:00",
          "2009-07-01T00:00:00",
          "2009-09-01T00:00:00",
          "2009-11-01T00:00:00",
          "2010-02-01T00:00:00",
          "2010-04-01T00:00:00",
          "2010-07-01T00:00:00",
          "2010-07-01T00:00:00"
         ],
         "xaxis": "x3",
         "y": [
          0.1,
          0.1,
          0.1,
          0.1,
          0.1,
          0.1,
          0.1,
          0.1,
          0.1,
          0.1,
          0.1
         ],
         "yaxis": "y3"
        },
        {
         "hoverinfo": "skip",
         "legendgroup": "metric_reference",
         "line": {
          "color": "#00c8e5",
          "shape": "hv",
          "width": 2
         },
         "mode": "lines",
         "name": "Method",
         "showlegend": false,
         "type": "scatter",
         "x": [
          "2007-01-01T00:00:00",
          "2007-04-01T00:00:00",
          "2007-06-01T00:00:00",
          "2007-07-01T00:00:00",
          "2007-08-01T00:00:00",
          "2007-12-01T00:00:00",
          "2008-04-01T00:00:00",
          "2008-06-01T00:00:00",
          "2008-07-01T00:00:00",
          "2008-12-01T00:00:00",
          "2008-12-01T00:00:00"
         ],
         "xaxis": "x4",
         "y": [
          0.1849164855476841,
          0.16301404513494494,
          0.20919611366397448,
          0.18628648705006146,
          0.1612744832012248,
          0.1619765968505402,
          0.10333505333360969,
          0.19816370389947968,
          0.18424489148375697,
          0.1611691255912671,
          0.1611691255912671
         ],
         "yaxis": "y4"
        },
        {
         "customdata": [
          [
           "Jensen-Shannon distance for <b>SalePrice</b>",
           "<b style=\"color:#00c8e5;line-height:60px\">Reference</b>",
           "<span style=\"color:#AD0000\">⚠ <b>Drift detected</b></span>",
           "[0:62]",
           "From <b>Jan-01-2007</b> to <b>Apr-01-2007</b>",
           0.1849
          ],
          [
           "Jensen-Shannon distance for <b>SalePrice</b>",
           "<b style=\"color:#00c8e5;line-height:60px\">Reference</b>",
           "<span style=\"color:#AD0000\">⚠ <b>Drift detected</b></span>",
           "[63:125]",
           "From <b>Apr-01-2007</b> to <b>Jun-01-2007</b>",
           0.163
          ],
          [
           "Jensen-Shannon distance for <b>SalePrice</b>",
           "<b style=\"color:#00c8e5;line-height:60px\">Reference</b>",
           "<span style=\"color:#AD0000\">⚠ <b>Drift detected</b></span>",
           "[126:188]",
           "From <b>Jun-01-2007</b> to <b>Jul-01-2007</b>",
           0.2092
          ],
          [
           "Jensen-Shannon distance for <b>SalePrice</b>",
           "<b style=\"color:#00c8e5;line-height:60px\">Reference</b>",
           "<span style=\"color:#AD0000\">⚠ <b>Drift detected</b></span>",
           "[189:251]",
           "From <b>Jul-01-2007</b> to <b>Aug-01-2007</b>",
           0.1863
          ],
          [
           "Jensen-Shannon distance for <b>SalePrice</b>",
           "<b style=\"color:#00c8e5;line-height:60px\">Reference</b>",
           "<span style=\"color:#AD0000\">⚠ <b>Drift detected</b></span>",
           "[252:314]",
           "From <b>Aug-01-2007</b> to <b>Dec-01-2007</b>",
           0.1613
          ],
          [
           "Jensen-Shannon distance for <b>SalePrice</b>",
           "<b style=\"color:#00c8e5;line-height:60px\">Reference</b>",
           "<span style=\"color:#AD0000\">⚠ <b>Drift detected</b></span>",
           "[315:377]",
           "From <b>Dec-01-2007</b> to <b>Apr-01-2008</b>",
           0.162
          ],
          [
           "Jensen-Shannon distance for <b>SalePrice</b>",
           "<b style=\"color:#00c8e5;line-height:60px\">Reference</b>",
           "<span style=\"color:#AD0000\">⚠ <b>Drift detected</b></span>",
           "[378:440]",
           "From <b>Apr-01-2008</b> to <b>Jun-01-2008</b>",
           0.1033
          ],
          [
           "Jensen-Shannon distance for <b>SalePrice</b>",
           "<b style=\"color:#00c8e5;line-height:60px\">Reference</b>",
           "<span style=\"color:#AD0000\">⚠ <b>Drift detected</b></span>",
           "[441:503]",
           "From <b>Jun-01-2008</b> to <b>Jul-01-2008</b>",
           0.1982
          ],
          [
           "Jensen-Shannon distance for <b>SalePrice</b>",
           "<b style=\"color:#00c8e5;line-height:60px\">Reference</b>",
           "<span style=\"color:#AD0000\">⚠ <b>Drift detected</b></span>",
           "[504:566]",
           "From <b>Jul-01-2008</b> to <b>Sep-01-2008</b>",
           0.1842
          ],
          [
           "Jensen-Shannon distance for <b>SalePrice</b>",
           "<b style=\"color:#00c8e5;line-height:60px\">Reference</b>",
           "<span style=\"color:#AD0000\">⚠ <b>Drift detected</b></span>",
           "[630:629]",
           "From <b>Dec-01-2008</b> to <b>Dec-01-2008</b>",
           0.1612
          ]
         ],
         "hovertemplate": "%{customdata[1]} &nbsp; &nbsp; %{customdata[2]} <br />Chunk: <b>%{customdata[3]}</b> &nbsp; &nbsp; %{customdata[4]} <br />%{customdata[0]}: <b>%{customdata[5]}</b><b r /><extra></extra>",
         "legendgroup": "metric_reference",
         "marker": {
          "color": "#00c8e5",
          "size": 5,
          "symbol": "circle"
         },
         "mode": "markers",
         "name": "Method",
         "showlegend": false,
         "type": "scatter",
         "x": [
          "2007-02-15T00:00:00",
          "2007-05-01T12:00:00",
          "2007-06-16T00:00:00",
          "2007-07-16T12:00:00",
          "2007-10-01T00:00:00",
          "2008-01-31T00:00:00",
          "2008-05-01T12:00:00",
          "2008-06-16T00:00:00",
          "2008-09-15T12:00:00",
          "2008-12-01T00:00:00"
         ],
         "xaxis": "x4",
         "y": [
          0.1849164855476841,
          0.16301404513494494,
          0.20919611366397448,
          0.18628648705006146,
          0.1612744832012248,
          0.1619765968505402,
          0.10333505333360969,
          0.19816370389947968,
          0.18424489148375697,
          0.1611691255912671,
          0.1611691255912671
         ],
         "yaxis": "y4"
        },
        {
         "hoverinfo": "skip",
         "legendgroup": "metric_analysis",
         "line": {
          "color": "#00c8e5",
          "shape": "hv",
          "width": 2
         },
         "mode": "lines",
         "name": "Method",
         "showlegend": false,
         "type": "scatter",
         "x": [
          "2009-01-01T00:00:00",
          "2009-04-01T00:00:00",
          "2009-05-01T00:00:00",
          "2009-06-01T00:00:00",
          "2009-07-01T00:00:00",
          "2009-09-01T00:00:00",
          "2009-11-01T00:00:00",
          "2010-02-01T00:00:00",
          "2010-04-01T00:00:00",
          "2010-07-01T00:00:00",
          "2010-07-01T00:00:00"
         ],
         "xaxis": "x4",
         "y": [
          0.24915190297876255,
          0.1934876460611635,
          0.2235527968063285,
          0.2154590818748076,
          0.1855018831705664,
          0.11994089486077007,
          0.28114361554590694,
          0.1712779334043386,
          0.16226722103920377,
          0.2576094068524498,
          0.2576094068524498
         ],
         "yaxis": "y4"
        },
        {
         "customdata": [
          [
           "Jensen-Shannon distance for <b>SalePrice</b>",
           "<b style=\"color:#00c8e5;line-height:60px\">Analysis</b>",
           "<span style=\"color:#AD0000\">⚠ <b>Drift detected</b></span>",
           "[0:50]",
           "From <b>Jan-01-2009</b> to <b>Apr-01-2009</b>",
           0.2492
          ],
          [
           "Jensen-Shannon distance for <b>SalePrice</b>",
           "<b style=\"color:#00c8e5;line-height:60px\">Analysis</b>",
           "<span style=\"color:#AD0000\">⚠ <b>Drift detected</b></span>",
           "[51:101]",
           "From <b>Apr-01-2009</b> to <b>May-01-2009</b>",
           0.1935
          ],
          [
           "Jensen-Shannon distance for <b>SalePrice</b>",
           "<b style=\"color:#00c8e5;line-height:60px\">Analysis</b>",
           "<span style=\"color:#AD0000\">⚠ <b>Drift detected</b></span>",
           "[102:152]",
           "From <b>May-01-2009</b> to <b>Jun-01-2009</b>",
           0.2236
          ],
          [
           "Jensen-Shannon distance for <b>SalePrice</b>",
           "<b style=\"color:#00c8e5;line-height:60px\">Analysis</b>",
           "<span style=\"color:#AD0000\">⚠ <b>Drift detected</b></span>",
           "[153:203]",
           "From <b>Jun-01-2009</b> to <b>Jul-01-2009</b>",
           0.2155
          ],
          [
           "Jensen-Shannon distance for <b>SalePrice</b>",
           "<b style=\"color:#00c8e5;line-height:60px\">Analysis</b>",
           "<span style=\"color:#AD0000\">⚠ <b>Drift detected</b></span>",
           "[204:254]",
           "From <b>Jul-01-2009</b> to <b>Sep-01-2009</b>",
           0.1855
          ],
          [
           "Jensen-Shannon distance for <b>SalePrice</b>",
           "<b style=\"color:#00c8e5;line-height:60px\">Analysis</b>",
           "<span style=\"color:#AD0000\">⚠ <b>Drift detected</b></span>",
           "[255:305]",
           "From <b>Sep-01-2009</b> to <b>Nov-01-2009</b>",
           0.1199
          ],
          [
           "Jensen-Shannon distance for <b>SalePrice</b>",
           "<b style=\"color:#00c8e5;line-height:60px\">Analysis</b>",
           "<span style=\"color:#AD0000\">⚠ <b>Drift detected</b></span>",
           "[306:356]",
           "From <b>Nov-01-2009</b> to <b>Feb-01-2010</b>",
           0.2811
          ],
          [
           "Jensen-Shannon distance for <b>SalePrice</b>",
           "<b style=\"color:#00c8e5;line-height:60px\">Analysis</b>",
           "<span style=\"color:#AD0000\">⚠ <b>Drift detected</b></span>",
           "[357:407]",
           "From <b>Feb-01-2010</b> to <b>Apr-01-2010</b>",
           0.1713
          ],
          [
           "Jensen-Shannon distance for <b>SalePrice</b>",
           "<b style=\"color:#00c8e5;line-height:60px\">Analysis</b>",
           "<span style=\"color:#AD0000\">⚠ <b>Drift detected</b></span>",
           "[408:458]",
           "From <b>Apr-01-2010</b> to <b>May-01-2010</b>",
           0.1623
          ],
          [
           "Jensen-Shannon distance for <b>SalePrice</b>",
           "<b style=\"color:#00c8e5;line-height:60px\">Analysis</b>",
           "<span style=\"color:#AD0000\">⚠ <b>Drift detected</b></span>",
           "[510:509]",
           "From <b>Jul-01-2010</b> to <b>Jul-01-2010</b>",
           0.2576
          ]
         ],
         "hovertemplate": "%{customdata[1]} &nbsp; &nbsp; %{customdata[2]} <br />Chunk: <b>%{customdata[3]}</b> &nbsp; &nbsp; %{customdata[4]} <br />%{customdata[0]}: <b>%{customdata[5]}</b><b r /><extra></extra>",
         "legendgroup": "metric_analysis",
         "marker": {
          "color": "#00c8e5",
          "size": 5,
          "symbol": "circle"
         },
         "mode": "markers",
         "name": "Method",
         "showlegend": false,
         "type": "scatter",
         "x": [
          "2009-02-15T00:00:00",
          "2009-04-16T00:00:00",
          "2009-05-16T12:00:00",
          "2009-06-16T00:00:00",
          "2009-08-01T00:00:00",
          "2009-10-01T12:00:00",
          "2009-12-17T00:00:00",
          "2010-03-02T12:00:00",
          "2010-05-16T12:00:00",
          "2010-07-01T00:00:00"
         ],
         "xaxis": "x4",
         "y": [
          0.24915190297876255,
          0.1934876460611635,
          0.2235527968063285,
          0.2154590818748076,
          0.1855018831705664,
          0.11994089486077007,
          0.28114361554590694,
          0.1712779334043386,
          0.16226722103920377,
          0.2576094068524498,
          0.2576094068524498
         ],
         "yaxis": "y4"
        },
        {
         "hoverinfo": "skip",
         "legendgroup": "alert",
         "marker": {
          "color": "#DD4040",
          "size": 8,
          "symbol": "diamond"
         },
         "mode": "markers",
         "name": "Alert",
         "showlegend": false,
         "type": "scatter",
         "x": [
          "2009-02-15T00:00:00",
          "2009-04-16T00:00:00",
          "2009-05-16T12:00:00",
          "2009-06-16T00:00:00",
          "2009-08-01T00:00:00",
          "2009-10-01T12:00:00",
          "2009-12-17T00:00:00",
          "2010-03-02T12:00:00",
          "2010-05-16T12:00:00",
          "2010-07-01T00:00:00"
         ],
         "xaxis": "x4",
         "y": [
          0.24915190297876255,
          0.1934876460611635,
          0.2235527968063285,
          0.2154590818748076,
          0.1855018831705664,
          0.11994089486077007,
          0.28114361554590694,
          0.1712779334043386,
          0.16226722103920377,
          0.2576094068524498
         ],
         "yaxis": "y4"
        },
        {
         "hoverinfo": "skip",
         "legendgroup": "thresh",
         "line": {
          "color": "#DD4040",
          "dash": "dash",
          "width": 2
         },
         "mode": "lines",
         "name": "Threshold",
         "showlegend": false,
         "type": "scatter",
         "x": [
          "2007-01-01T00:00:00",
          "2007-04-01T00:00:00",
          "2007-06-01T00:00:00",
          "2007-07-01T00:00:00",
          "2007-08-01T00:00:00",
          "2007-12-01T00:00:00",
          "2008-04-01T00:00:00",
          "2008-06-01T00:00:00",
          "2008-07-01T00:00:00",
          "2008-12-01T00:00:00",
          "2008-12-01T00:00:00"
         ],
         "xaxis": "x4",
         "y": [
          0.1,
          0.1,
          0.1,
          0.1,
          0.1,
          0.1,
          0.1,
          0.1,
          0.1,
          0.1,
          0.1
         ],
         "yaxis": "y4"
        },
        {
         "hoverinfo": "skip",
         "legendgroup": "thresh",
         "line": {
          "color": "#DD4040",
          "dash": "dash",
          "width": 2
         },
         "mode": "lines",
         "name": "Threshold",
         "showlegend": false,
         "type": "scatter",
         "x": [
          "2009-01-01T00:00:00",
          "2009-04-01T00:00:00",
          "2009-05-01T00:00:00",
          "2009-06-01T00:00:00",
          "2009-07-01T00:00:00",
          "2009-09-01T00:00:00",
          "2009-11-01T00:00:00",
          "2010-02-01T00:00:00",
          "2010-04-01T00:00:00",
          "2010-07-01T00:00:00",
          "2010-07-01T00:00:00"
         ],
         "xaxis": "x4",
         "y": [
          0.1,
          0.1,
          0.1,
          0.1,
          0.1,
          0.1,
          0.1,
          0.1,
          0.1,
          0.1,
          0.1
         ],
         "yaxis": "y4"
        }
       ],
       "layout": {
        "annotations": [
         {
          "font": {
           "size": 16
          },
          "showarrow": false,
          "text": "Jensen-Shannon distance for <b>LotArea</b>",
          "x": 0.5,
          "xanchor": "center",
          "xref": "paper",
          "y": 1,
          "yanchor": "bottom",
          "yref": "paper"
         },
         {
          "font": {
           "size": 16
          },
          "showarrow": false,
          "text": "Jensen-Shannon distance for <b>LotFrontage</b>",
          "x": 0.5,
          "xanchor": "center",
          "xref": "paper",
          "y": 0.71875,
          "yanchor": "bottom",
          "yref": "paper"
         },
         {
          "font": {
           "size": 16
          },
          "showarrow": false,
          "text": "Jensen-Shannon distance for <b>MSSubClass</b>",
          "x": 0.5,
          "xanchor": "center",
          "xref": "paper",
          "y": 0.4375,
          "yanchor": "bottom",
          "yref": "paper"
         },
         {
          "font": {
           "size": 16
          },
          "showarrow": false,
          "text": "Jensen-Shannon distance for <b>SalePrice</b>",
          "x": 0.5,
          "xanchor": "center",
          "xref": "paper",
          "y": 0.15625,
          "yanchor": "bottom",
          "yref": "paper"
         },
         {
          "showarrow": false,
          "text": "Reference",
          "x": "2007-11-15T19:12:00",
          "xref": "x",
          "xshift": 10,
          "y": 1.01,
          "yref": "y domain"
         },
         {
          "showarrow": false,
          "text": "Analysis",
          "x": "2009-09-06T14:24:00",
          "xref": "x",
          "xshift": 15,
          "y": 1.01,
          "yref": "y domain"
         },
         {
          "showarrow": false,
          "text": "Reference",
          "x": "2007-11-15T19:12:00",
          "xref": "x2",
          "xshift": 10,
          "y": 1.01,
          "yref": "y2 domain"
         },
         {
          "showarrow": false,
          "text": "Analysis",
          "x": "2009-09-06T14:24:00",
          "xref": "x2",
          "xshift": 15,
          "y": 1.01,
          "yref": "y2 domain"
         },
         {
          "showarrow": false,
          "text": "Reference",
          "x": "2007-11-15T19:12:00",
          "xref": "x3",
          "xshift": 10,
          "y": 1.01,
          "yref": "y3 domain"
         },
         {
          "showarrow": false,
          "text": "Analysis",
          "x": "2009-09-06T14:24:00",
          "xref": "x3",
          "xshift": 15,
          "y": 1.01,
          "yref": "y3 domain"
         },
         {
          "showarrow": false,
          "text": "Reference",
          "x": "2007-11-15T19:12:00",
          "xref": "x4",
          "xshift": 10,
          "y": 1.01,
          "yref": "y4 domain"
         },
         {
          "showarrow": false,
          "text": "Analysis",
          "x": "2009-09-06T14:24:00",
          "xref": "x4",
          "xshift": 15,
          "y": 1.01,
          "yref": "y4 domain"
         }
        ],
        "height": 2000,
        "hoverlabel": {
         "bgcolor": "white",
         "font": {
          "size": 14
         }
        },
        "legend": {
         "itemclick": false,
         "itemdoubleclick": false,
         "traceorder": "grouped"
        },
        "paper_bgcolor": "rgba(255,255,255,1)",
        "plot_bgcolor": "rgba(255,255,255,1)",
        "shapes": [
         {
          "layer": "below",
          "line": {
           "color": "#666666",
           "width": 1
          },
          "type": "line",
          "x0": "2009-01-01T00:00:00",
          "x1": "2009-01-01T00:00:00",
          "xref": "x",
          "y0": 0,
          "y1": 1,
          "yref": "y domain"
         },
         {
          "layer": "below",
          "line": {
           "color": "#666666",
           "width": 1
          },
          "type": "line",
          "x0": "2009-01-01T00:00:00",
          "x1": "2009-01-01T00:00:00",
          "xref": "x",
          "y0": 0,
          "y1": 1,
          "yref": "y domain"
         },
         {
          "layer": "below",
          "line": {
           "color": "#666666",
           "width": 1
          },
          "type": "line",
          "x0": "2009-01-01T00:00:00",
          "x1": "2009-01-01T00:00:00",
          "xref": "x2",
          "y0": 0,
          "y1": 1,
          "yref": "y2 domain"
         },
         {
          "layer": "below",
          "line": {
           "color": "#666666",
           "width": 1
          },
          "type": "line",
          "x0": "2009-01-01T00:00:00",
          "x1": "2009-01-01T00:00:00",
          "xref": "x",
          "y0": 0,
          "y1": 1,
          "yref": "y domain"
         },
         {
          "layer": "below",
          "line": {
           "color": "#666666",
           "width": 1
          },
          "type": "line",
          "x0": "2009-01-01T00:00:00",
          "x1": "2009-01-01T00:00:00",
          "xref": "x2",
          "y0": 0,
          "y1": 1,
          "yref": "y2 domain"
         },
         {
          "layer": "below",
          "line": {
           "color": "#666666",
           "width": 1
          },
          "type": "line",
          "x0": "2009-01-01T00:00:00",
          "x1": "2009-01-01T00:00:00",
          "xref": "x3",
          "y0": 0,
          "y1": 1,
          "yref": "y3 domain"
         },
         {
          "layer": "below",
          "line": {
           "color": "#666666",
           "width": 1
          },
          "type": "line",
          "x0": "2009-01-01T00:00:00",
          "x1": "2009-01-01T00:00:00",
          "xref": "x",
          "y0": 0,
          "y1": 1,
          "yref": "y domain"
         },
         {
          "layer": "below",
          "line": {
           "color": "#666666",
           "width": 1
          },
          "type": "line",
          "x0": "2009-01-01T00:00:00",
          "x1": "2009-01-01T00:00:00",
          "xref": "x2",
          "y0": 0,
          "y1": 1,
          "yref": "y2 domain"
         },
         {
          "layer": "below",
          "line": {
           "color": "#666666",
           "width": 1
          },
          "type": "line",
          "x0": "2009-01-01T00:00:00",
          "x1": "2009-01-01T00:00:00",
          "xref": "x3",
          "y0": 0,
          "y1": 1,
          "yref": "y3 domain"
         },
         {
          "layer": "below",
          "line": {
           "color": "#666666",
           "width": 1
          },
          "type": "line",
          "x0": "2009-01-01T00:00:00",
          "x1": "2009-01-01T00:00:00",
          "xref": "x4",
          "y0": 0,
          "y1": 1,
          "yref": "y4 domain"
         }
        ],
        "template": {
         "data": {
          "bar": [
           {
            "error_x": {
             "color": "#2a3f5f"
            },
            "error_y": {
             "color": "#2a3f5f"
            },
            "marker": {
             "line": {
              "color": "#E5ECF6",
              "width": 0.5
             },
             "pattern": {
              "fillmode": "overlay",
              "size": 10,
              "solidity": 0.2
             }
            },
            "type": "bar"
           }
          ],
          "barpolar": [
           {
            "marker": {
             "line": {
              "color": "#E5ECF6",
              "width": 0.5
             },
             "pattern": {
              "fillmode": "overlay",
              "size": 10,
              "solidity": 0.2
             }
            },
            "type": "barpolar"
           }
          ],
          "carpet": [
           {
            "aaxis": {
             "endlinecolor": "#2a3f5f",
             "gridcolor": "white",
             "linecolor": "white",
             "minorgridcolor": "white",
             "startlinecolor": "#2a3f5f"
            },
            "baxis": {
             "endlinecolor": "#2a3f5f",
             "gridcolor": "white",
             "linecolor": "white",
             "minorgridcolor": "white",
             "startlinecolor": "#2a3f5f"
            },
            "type": "carpet"
           }
          ],
          "choropleth": [
           {
            "colorbar": {
             "outlinewidth": 0,
             "ticks": ""
            },
            "type": "choropleth"
           }
          ],
          "contour": [
           {
            "colorbar": {
             "outlinewidth": 0,
             "ticks": ""
            },
            "colorscale": [
             [
              0,
              "#0d0887"
             ],
             [
              0.1111111111111111,
              "#46039f"
             ],
             [
              0.2222222222222222,
              "#7201a8"
             ],
             [
              0.3333333333333333,
              "#9c179e"
             ],
             [
              0.4444444444444444,
              "#bd3786"
             ],
             [
              0.5555555555555556,
              "#d8576b"
             ],
             [
              0.6666666666666666,
              "#ed7953"
             ],
             [
              0.7777777777777778,
              "#fb9f3a"
             ],
             [
              0.8888888888888888,
              "#fdca26"
             ],
             [
              1,
              "#f0f921"
             ]
            ],
            "type": "contour"
           }
          ],
          "contourcarpet": [
           {
            "colorbar": {
             "outlinewidth": 0,
             "ticks": ""
            },
            "type": "contourcarpet"
           }
          ],
          "heatmap": [
           {
            "colorbar": {
             "outlinewidth": 0,
             "ticks": ""
            },
            "colorscale": [
             [
              0,
              "#0d0887"
             ],
             [
              0.1111111111111111,
              "#46039f"
             ],
             [
              0.2222222222222222,
              "#7201a8"
             ],
             [
              0.3333333333333333,
              "#9c179e"
             ],
             [
              0.4444444444444444,
              "#bd3786"
             ],
             [
              0.5555555555555556,
              "#d8576b"
             ],
             [
              0.6666666666666666,
              "#ed7953"
             ],
             [
              0.7777777777777778,
              "#fb9f3a"
             ],
             [
              0.8888888888888888,
              "#fdca26"
             ],
             [
              1,
              "#f0f921"
             ]
            ],
            "type": "heatmap"
           }
          ],
          "heatmapgl": [
           {
            "colorbar": {
             "outlinewidth": 0,
             "ticks": ""
            },
            "colorscale": [
             [
              0,
              "#0d0887"
             ],
             [
              0.1111111111111111,
              "#46039f"
             ],
             [
              0.2222222222222222,
              "#7201a8"
             ],
             [
              0.3333333333333333,
              "#9c179e"
             ],
             [
              0.4444444444444444,
              "#bd3786"
             ],
             [
              0.5555555555555556,
              "#d8576b"
             ],
             [
              0.6666666666666666,
              "#ed7953"
             ],
             [
              0.7777777777777778,
              "#fb9f3a"
             ],
             [
              0.8888888888888888,
              "#fdca26"
             ],
             [
              1,
              "#f0f921"
             ]
            ],
            "type": "heatmapgl"
           }
          ],
          "histogram": [
           {
            "marker": {
             "pattern": {
              "fillmode": "overlay",
              "size": 10,
              "solidity": 0.2
             }
            },
            "type": "histogram"
           }
          ],
          "histogram2d": [
           {
            "colorbar": {
             "outlinewidth": 0,
             "ticks": ""
            },
            "colorscale": [
             [
              0,
              "#0d0887"
             ],
             [
              0.1111111111111111,
              "#46039f"
             ],
             [
              0.2222222222222222,
              "#7201a8"
             ],
             [
              0.3333333333333333,
              "#9c179e"
             ],
             [
              0.4444444444444444,
              "#bd3786"
             ],
             [
              0.5555555555555556,
              "#d8576b"
             ],
             [
              0.6666666666666666,
              "#ed7953"
             ],
             [
              0.7777777777777778,
              "#fb9f3a"
             ],
             [
              0.8888888888888888,
              "#fdca26"
             ],
             [
              1,
              "#f0f921"
             ]
            ],
            "type": "histogram2d"
           }
          ],
          "histogram2dcontour": [
           {
            "colorbar": {
             "outlinewidth": 0,
             "ticks": ""
            },
            "colorscale": [
             [
              0,
              "#0d0887"
             ],
             [
              0.1111111111111111,
              "#46039f"
             ],
             [
              0.2222222222222222,
              "#7201a8"
             ],
             [
              0.3333333333333333,
              "#9c179e"
             ],
             [
              0.4444444444444444,
              "#bd3786"
             ],
             [
              0.5555555555555556,
              "#d8576b"
             ],
             [
              0.6666666666666666,
              "#ed7953"
             ],
             [
              0.7777777777777778,
              "#fb9f3a"
             ],
             [
              0.8888888888888888,
              "#fdca26"
             ],
             [
              1,
              "#f0f921"
             ]
            ],
            "type": "histogram2dcontour"
           }
          ],
          "mesh3d": [
           {
            "colorbar": {
             "outlinewidth": 0,
             "ticks": ""
            },
            "type": "mesh3d"
           }
          ],
          "parcoords": [
           {
            "line": {
             "colorbar": {
              "outlinewidth": 0,
              "ticks": ""
             }
            },
            "type": "parcoords"
           }
          ],
          "pie": [
           {
            "automargin": true,
            "type": "pie"
           }
          ],
          "scatter": [
           {
            "fillpattern": {
             "fillmode": "overlay",
             "size": 10,
             "solidity": 0.2
            },
            "type": "scatter"
           }
          ],
          "scatter3d": [
           {
            "line": {
             "colorbar": {
              "outlinewidth": 0,
              "ticks": ""
             }
            },
            "marker": {
             "colorbar": {
              "outlinewidth": 0,
              "ticks": ""
             }
            },
            "type": "scatter3d"
           }
          ],
          "scattercarpet": [
           {
            "marker": {
             "colorbar": {
              "outlinewidth": 0,
              "ticks": ""
             }
            },
            "type": "scattercarpet"
           }
          ],
          "scattergeo": [
           {
            "marker": {
             "colorbar": {
              "outlinewidth": 0,
              "ticks": ""
             }
            },
            "type": "scattergeo"
           }
          ],
          "scattergl": [
           {
            "marker": {
             "colorbar": {
              "outlinewidth": 0,
              "ticks": ""
             }
            },
            "type": "scattergl"
           }
          ],
          "scattermapbox": [
           {
            "marker": {
             "colorbar": {
              "outlinewidth": 0,
              "ticks": ""
             }
            },
            "type": "scattermapbox"
           }
          ],
          "scatterpolar": [
           {
            "marker": {
             "colorbar": {
              "outlinewidth": 0,
              "ticks": ""
             }
            },
            "type": "scatterpolar"
           }
          ],
          "scatterpolargl": [
           {
            "marker": {
             "colorbar": {
              "outlinewidth": 0,
              "ticks": ""
             }
            },
            "type": "scatterpolargl"
           }
          ],
          "scatterternary": [
           {
            "marker": {
             "colorbar": {
              "outlinewidth": 0,
              "ticks": ""
             }
            },
            "type": "scatterternary"
           }
          ],
          "surface": [
           {
            "colorbar": {
             "outlinewidth": 0,
             "ticks": ""
            },
            "colorscale": [
             [
              0,
              "#0d0887"
             ],
             [
              0.1111111111111111,
              "#46039f"
             ],
             [
              0.2222222222222222,
              "#7201a8"
             ],
             [
              0.3333333333333333,
              "#9c179e"
             ],
             [
              0.4444444444444444,
              "#bd3786"
             ],
             [
              0.5555555555555556,
              "#d8576b"
             ],
             [
              0.6666666666666666,
              "#ed7953"
             ],
             [
              0.7777777777777778,
              "#fb9f3a"
             ],
             [
              0.8888888888888888,
              "#fdca26"
             ],
             [
              1,
              "#f0f921"
             ]
            ],
            "type": "surface"
           }
          ],
          "table": [
           {
            "cells": {
             "fill": {
              "color": "#EBF0F8"
             },
             "line": {
              "color": "white"
             }
            },
            "header": {
             "fill": {
              "color": "#C8D4E3"
             },
             "line": {
              "color": "white"
             }
            },
            "type": "table"
           }
          ]
         },
         "layout": {
          "annotationdefaults": {
           "arrowcolor": "#2a3f5f",
           "arrowhead": 0,
           "arrowwidth": 1
          },
          "autotypenumbers": "strict",
          "coloraxis": {
           "colorbar": {
            "outlinewidth": 0,
            "ticks": ""
           }
          },
          "colorscale": {
           "diverging": [
            [
             0,
             "#8e0152"
            ],
            [
             0.1,
             "#c51b7d"
            ],
            [
             0.2,
             "#de77ae"
            ],
            [
             0.3,
             "#f1b6da"
            ],
            [
             0.4,
             "#fde0ef"
            ],
            [
             0.5,
             "#f7f7f7"
            ],
            [
             0.6,
             "#e6f5d0"
            ],
            [
             0.7,
             "#b8e186"
            ],
            [
             0.8,
             "#7fbc41"
            ],
            [
             0.9,
             "#4d9221"
            ],
            [
             1,
             "#276419"
            ]
           ],
           "sequential": [
            [
             0,
             "#0d0887"
            ],
            [
             0.1111111111111111,
             "#46039f"
            ],
            [
             0.2222222222222222,
             "#7201a8"
            ],
            [
             0.3333333333333333,
             "#9c179e"
            ],
            [
             0.4444444444444444,
             "#bd3786"
            ],
            [
             0.5555555555555556,
             "#d8576b"
            ],
            [
             0.6666666666666666,
             "#ed7953"
            ],
            [
             0.7777777777777778,
             "#fb9f3a"
            ],
            [
             0.8888888888888888,
             "#fdca26"
            ],
            [
             1,
             "#f0f921"
            ]
           ],
           "sequentialminus": [
            [
             0,
             "#0d0887"
            ],
            [
             0.1111111111111111,
             "#46039f"
            ],
            [
             0.2222222222222222,
             "#7201a8"
            ],
            [
             0.3333333333333333,
             "#9c179e"
            ],
            [
             0.4444444444444444,
             "#bd3786"
            ],
            [
             0.5555555555555556,
             "#d8576b"
            ],
            [
             0.6666666666666666,
             "#ed7953"
            ],
            [
             0.7777777777777778,
             "#fb9f3a"
            ],
            [
             0.8888888888888888,
             "#fdca26"
            ],
            [
             1,
             "#f0f921"
            ]
           ]
          },
          "colorway": [
           "#636efa",
           "#EF553B",
           "#00cc96",
           "#ab63fa",
           "#FFA15A",
           "#19d3f3",
           "#FF6692",
           "#B6E880",
           "#FF97FF",
           "#FECB52"
          ],
          "font": {
           "color": "#2a3f5f"
          },
          "geo": {
           "bgcolor": "white",
           "lakecolor": "white",
           "landcolor": "#E5ECF6",
           "showlakes": true,
           "showland": true,
           "subunitcolor": "white"
          },
          "hoverlabel": {
           "align": "left"
          },
          "hovermode": "closest",
          "mapbox": {
           "style": "light"
          },
          "paper_bgcolor": "white",
          "plot_bgcolor": "#E5ECF6",
          "polar": {
           "angularaxis": {
            "gridcolor": "white",
            "linecolor": "white",
            "ticks": ""
           },
           "bgcolor": "#E5ECF6",
           "radialaxis": {
            "gridcolor": "white",
            "linecolor": "white",
            "ticks": ""
           }
          },
          "scene": {
           "xaxis": {
            "backgroundcolor": "#E5ECF6",
            "gridcolor": "white",
            "gridwidth": 2,
            "linecolor": "white",
            "showbackground": true,
            "ticks": "",
            "zerolinecolor": "white"
           },
           "yaxis": {
            "backgroundcolor": "#E5ECF6",
            "gridcolor": "white",
            "gridwidth": 2,
            "linecolor": "white",
            "showbackground": true,
            "ticks": "",
            "zerolinecolor": "white"
           },
           "zaxis": {
            "backgroundcolor": "#E5ECF6",
            "gridcolor": "white",
            "gridwidth": 2,
            "linecolor": "white",
            "showbackground": true,
            "ticks": "",
            "zerolinecolor": "white"
           }
          },
          "shapedefaults": {
           "line": {
            "color": "#2a3f5f"
           }
          },
          "ternary": {
           "aaxis": {
            "gridcolor": "white",
            "linecolor": "white",
            "ticks": ""
           },
           "baxis": {
            "gridcolor": "white",
            "linecolor": "white",
            "ticks": ""
           },
           "bgcolor": "#E5ECF6",
           "caxis": {
            "gridcolor": "white",
            "linecolor": "white",
            "ticks": ""
           }
          },
          "title": {
           "x": 0.05
          },
          "xaxis": {
           "automargin": true,
           "gridcolor": "white",
           "linecolor": "white",
           "ticks": "",
           "title": {
            "standoff": 15
           },
           "zerolinecolor": "white",
           "zerolinewidth": 2
          },
          "yaxis": {
           "automargin": true,
           "gridcolor": "white",
           "linecolor": "white",
           "ticks": "",
           "title": {
            "standoff": 15
           },
           "zerolinecolor": "white",
           "zerolinewidth": 2
          }
         }
        },
        "title": {
         "text": "Univariate drift metrics"
        },
        "xaxis": {
         "anchor": "y",
         "domain": [
          0,
          1
         ],
         "linecolor": "#3b0280",
         "matches": "x",
         "mirror": true,
         "showgrid": false,
         "title": {
          "text": "Time"
         },
         "zeroline": false
        },
        "xaxis2": {
         "anchor": "y2",
         "domain": [
          0,
          1
         ],
         "linecolor": "#3b0280",
         "matches": "x",
         "mirror": true,
         "showgrid": false,
         "title": {
          "text": "Time"
         },
         "zeroline": false
        },
        "xaxis3": {
         "anchor": "y3",
         "domain": [
          0,
          1
         ],
         "linecolor": "#3b0280",
         "matches": "x",
         "mirror": true,
         "showgrid": false,
         "title": {
          "text": "Time"
         },
         "zeroline": false
        },
        "xaxis4": {
         "anchor": "y4",
         "domain": [
          0,
          1
         ],
         "linecolor": "#3b0280",
         "matches": "x",
         "mirror": true,
         "showgrid": false,
         "title": {
          "text": "Time"
         },
         "zeroline": false
        },
        "yaxis": {
         "anchor": "x",
         "domain": [
          0.84375,
          1
         ],
         "linecolor": "#3b0280",
         "mirror": true,
         "showgrid": false,
         "title": {
          "text": "Jensen-Shannon distance"
         },
         "zeroline": false
        },
        "yaxis2": {
         "anchor": "x2",
         "domain": [
          0.5625,
          0.71875
         ],
         "linecolor": "#3b0280",
         "mirror": true,
         "showgrid": false,
         "title": {
          "text": "Jensen-Shannon distance"
         },
         "zeroline": false
        },
        "yaxis3": {
         "anchor": "x3",
         "domain": [
          0.28125,
          0.4375
         ],
         "linecolor": "#3b0280",
         "mirror": true,
         "showgrid": false,
         "title": {
          "text": "Jensen-Shannon distance"
         },
         "zeroline": false
        },
        "yaxis4": {
         "anchor": "x4",
         "domain": [
          0,
          0.15625
         ],
         "linecolor": "#3b0280",
         "mirror": true,
         "showgrid": false,
         "title": {
          "text": "Jensen-Shannon distance"
         },
         "zeroline": false
        }
       }
      }
     },
     "metadata": {},
     "output_type": "display_data"
    }
   ],
   "source": [
    "calc = nml.UnivariateDriftCalculator(\n",
    "\n",
    "    column_names=[\"MSSubClass\",\"MSZoning\",\"LotFrontage\",\"LotArea\", \"Street\",\"timestamp\",\"SalePrice\"],\n",
    "\n",
    "    treat_as_categorical=['binarized'],\n",
    "\n",
    "    timestamp_column_name='timestamp',\n",
    "\n",
    "    continuous_methods=['kolmogorov_smirnov', 'jensen_shannon'],\n",
    "\n",
    "    categorical_methods=['chi2', 'jensen_shannon'],\n",
    "\n",
    ")\n",
    "\n",
    "calc.fit(reference)\n",
    "\n",
    "results = calc.calculate(analysis)\n",
    "\n",
    "\n",
    "figure = results.filter(column_names=results.continuous_column_names, methods=['jensen_shannon']).plot(kind='drift')\n",
    "\n",
    "figure.show()"
   ]
  },
  {
   "cell_type": "code",
   "execution_count": 23,
   "metadata": {},
   "outputs": [
    {
     "data": {
      "application/vnd.plotly.v1+json": {
       "config": {
        "plotlyServerURL": "https://plot.ly"
       },
       "data": [
        {
         "hoverinfo": "skip",
         "legendgroup": "metric_reference",
         "line": {
          "color": "#00c8e5",
          "shape": "hv",
          "width": 2
         },
         "mode": "lines",
         "name": "Method",
         "showlegend": true,
         "type": "scatter",
         "x": [
          "2007-01-01T00:00:00",
          "2007-04-01T00:00:00",
          "2007-06-01T00:00:00",
          "2007-07-01T00:00:00",
          "2007-08-01T00:00:00",
          "2007-12-01T00:00:00",
          "2008-04-01T00:00:00",
          "2008-06-01T00:00:00",
          "2008-07-01T00:00:00",
          "2008-12-01T00:00:00",
          "2008-12-01T00:00:00"
         ],
         "xaxis": "x",
         "y": [
          1.0033613344570442,
          0.319723092372844,
          0.3797364487718283,
          0.6670536986119207,
          4.113232428518427,
          7.902701560069676,
          1.6381622778137712,
          8.05055053656612,
          6.387064515571513,
          2.4228360096949593,
          2.4228360096949593
         ],
         "yaxis": "y"
        },
        {
         "customdata": [
          [
           "Chi2 statistic for <b>MSZoning</b>",
           "<b style=\"color:#00c8e5;line-height:60px\">Reference</b>",
           "",
           "[0:62]",
           "From <b>Jan-01-2007</b> to <b>Apr-01-2007</b>",
           1.0034
          ],
          [
           "Chi2 statistic for <b>MSZoning</b>",
           "<b style=\"color:#00c8e5;line-height:60px\">Reference</b>",
           "",
           "[63:125]",
           "From <b>Apr-01-2007</b> to <b>Jun-01-2007</b>",
           0.3197
          ],
          [
           "Chi2 statistic for <b>MSZoning</b>",
           "<b style=\"color:#00c8e5;line-height:60px\">Reference</b>",
           "",
           "[126:188]",
           "From <b>Jun-01-2007</b> to <b>Jul-01-2007</b>",
           0.3797
          ],
          [
           "Chi2 statistic for <b>MSZoning</b>",
           "<b style=\"color:#00c8e5;line-height:60px\">Reference</b>",
           "",
           "[189:251]",
           "From <b>Jul-01-2007</b> to <b>Aug-01-2007</b>",
           0.6671
          ],
          [
           "Chi2 statistic for <b>MSZoning</b>",
           "<b style=\"color:#00c8e5;line-height:60px\">Reference</b>",
           "",
           "[252:314]",
           "From <b>Aug-01-2007</b> to <b>Dec-01-2007</b>",
           4.1132
          ],
          [
           "Chi2 statistic for <b>MSZoning</b>",
           "<b style=\"color:#00c8e5;line-height:60px\">Reference</b>",
           "",
           "[315:377]",
           "From <b>Dec-01-2007</b> to <b>Apr-01-2008</b>",
           7.9027
          ],
          [
           "Chi2 statistic for <b>MSZoning</b>",
           "<b style=\"color:#00c8e5;line-height:60px\">Reference</b>",
           "",
           "[378:440]",
           "From <b>Apr-01-2008</b> to <b>Jun-01-2008</b>",
           1.6382
          ],
          [
           "Chi2 statistic for <b>MSZoning</b>",
           "<b style=\"color:#00c8e5;line-height:60px\">Reference</b>",
           "",
           "[441:503]",
           "From <b>Jun-01-2008</b> to <b>Jul-01-2008</b>",
           8.0506
          ],
          [
           "Chi2 statistic for <b>MSZoning</b>",
           "<b style=\"color:#00c8e5;line-height:60px\">Reference</b>",
           "",
           "[504:566]",
           "From <b>Jul-01-2008</b> to <b>Sep-01-2008</b>",
           6.3871
          ],
          [
           "Chi2 statistic for <b>MSZoning</b>",
           "<b style=\"color:#00c8e5;line-height:60px\">Reference</b>",
           "",
           "[630:629]",
           "From <b>Dec-01-2008</b> to <b>Dec-01-2008</b>",
           2.4228
          ]
         ],
         "hovertemplate": "%{customdata[1]} &nbsp; &nbsp; %{customdata[2]} <br />Chunk: <b>%{customdata[3]}</b> &nbsp; &nbsp; %{customdata[4]} <br />%{customdata[0]}: <b>%{customdata[5]}</b><b r /><extra></extra>",
         "legendgroup": "metric_reference",
         "marker": {
          "color": "#00c8e5",
          "size": 5,
          "symbol": "circle"
         },
         "mode": "markers",
         "name": "Method",
         "showlegend": false,
         "type": "scatter",
         "x": [
          "2007-02-15T00:00:00",
          "2007-05-01T12:00:00",
          "2007-06-16T00:00:00",
          "2007-07-16T12:00:00",
          "2007-10-01T00:00:00",
          "2008-01-31T00:00:00",
          "2008-05-01T12:00:00",
          "2008-06-16T00:00:00",
          "2008-09-15T12:00:00",
          "2008-12-01T00:00:00"
         ],
         "xaxis": "x",
         "y": [
          1.0033613344570442,
          0.319723092372844,
          0.3797364487718283,
          0.6670536986119207,
          4.113232428518427,
          7.902701560069676,
          1.6381622778137712,
          8.05055053656612,
          6.387064515571513,
          2.4228360096949593,
          2.4228360096949593
         ],
         "yaxis": "y"
        },
        {
         "hoverinfo": "skip",
         "legendgroup": "metric_analysis",
         "line": {
          "color": "#00c8e5",
          "shape": "hv",
          "width": 2
         },
         "mode": "lines",
         "name": "Method",
         "showlegend": false,
         "type": "scatter",
         "x": [
          "2009-01-01T00:00:00",
          "2009-04-01T00:00:00",
          "2009-05-01T00:00:00",
          "2009-06-01T00:00:00",
          "2009-07-01T00:00:00",
          "2009-09-01T00:00:00",
          "2009-11-01T00:00:00",
          "2010-02-01T00:00:00",
          "2010-04-01T00:00:00",
          "2010-07-01T00:00:00",
          "2010-07-01T00:00:00"
         ],
         "xaxis": "x",
         "y": [
          1.6775963559626934,
          6.173513368505769,
          2.429380820498566,
          1.15452748976527,
          8.012182713671422,
          8.069623765282286,
          8.680090706956694,
          3.8049345892799584,
          2.7110599667842665,
          4.825391813327675,
          4.825391813327675
         ],
         "yaxis": "y"
        },
        {
         "customdata": [
          [
           "Chi2 statistic for <b>MSZoning</b>",
           "<b style=\"color:#00c8e5;line-height:60px\">Analysis</b>",
           "",
           "[0:50]",
           "From <b>Jan-01-2009</b> to <b>Apr-01-2009</b>",
           1.6776
          ],
          [
           "Chi2 statistic for <b>MSZoning</b>",
           "<b style=\"color:#00c8e5;line-height:60px\">Analysis</b>",
           "",
           "[51:101]",
           "From <b>Apr-01-2009</b> to <b>May-01-2009</b>",
           6.1735
          ],
          [
           "Chi2 statistic for <b>MSZoning</b>",
           "<b style=\"color:#00c8e5;line-height:60px\">Analysis</b>",
           "",
           "[102:152]",
           "From <b>May-01-2009</b> to <b>Jun-01-2009</b>",
           2.4294
          ],
          [
           "Chi2 statistic for <b>MSZoning</b>",
           "<b style=\"color:#00c8e5;line-height:60px\">Analysis</b>",
           "",
           "[153:203]",
           "From <b>Jun-01-2009</b> to <b>Jul-01-2009</b>",
           1.1545
          ],
          [
           "Chi2 statistic for <b>MSZoning</b>",
           "<b style=\"color:#00c8e5;line-height:60px\">Analysis</b>",
           "",
           "[204:254]",
           "From <b>Jul-01-2009</b> to <b>Sep-01-2009</b>",
           8.0122
          ],
          [
           "Chi2 statistic for <b>MSZoning</b>",
           "<b style=\"color:#00c8e5;line-height:60px\">Analysis</b>",
           "",
           "[255:305]",
           "From <b>Sep-01-2009</b> to <b>Nov-01-2009</b>",
           8.0696
          ],
          [
           "Chi2 statistic for <b>MSZoning</b>",
           "<b style=\"color:#00c8e5;line-height:60px\">Analysis</b>",
           "",
           "[306:356]",
           "From <b>Nov-01-2009</b> to <b>Feb-01-2010</b>",
           8.6801
          ],
          [
           "Chi2 statistic for <b>MSZoning</b>",
           "<b style=\"color:#00c8e5;line-height:60px\">Analysis</b>",
           "",
           "[357:407]",
           "From <b>Feb-01-2010</b> to <b>Apr-01-2010</b>",
           3.8049
          ],
          [
           "Chi2 statistic for <b>MSZoning</b>",
           "<b style=\"color:#00c8e5;line-height:60px\">Analysis</b>",
           "",
           "[408:458]",
           "From <b>Apr-01-2010</b> to <b>May-01-2010</b>",
           2.7111
          ],
          [
           "Chi2 statistic for <b>MSZoning</b>",
           "<b style=\"color:#00c8e5;line-height:60px\">Analysis</b>",
           "",
           "[510:509]",
           "From <b>Jul-01-2010</b> to <b>Jul-01-2010</b>",
           4.8254
          ]
         ],
         "hovertemplate": "%{customdata[1]} &nbsp; &nbsp; %{customdata[2]} <br />Chunk: <b>%{customdata[3]}</b> &nbsp; &nbsp; %{customdata[4]} <br />%{customdata[0]}: <b>%{customdata[5]}</b><b r /><extra></extra>",
         "legendgroup": "metric_analysis",
         "marker": {
          "color": "#00c8e5",
          "size": 5,
          "symbol": "circle"
         },
         "mode": "markers",
         "name": "Method",
         "showlegend": false,
         "type": "scatter",
         "x": [
          "2009-02-15T00:00:00",
          "2009-04-16T00:00:00",
          "2009-05-16T12:00:00",
          "2009-06-16T00:00:00",
          "2009-08-01T00:00:00",
          "2009-10-01T12:00:00",
          "2009-12-17T00:00:00",
          "2010-03-02T12:00:00",
          "2010-05-16T12:00:00",
          "2010-07-01T00:00:00"
         ],
         "xaxis": "x",
         "y": [
          1.6775963559626934,
          6.173513368505769,
          2.429380820498566,
          1.15452748976527,
          8.012182713671422,
          8.069623765282286,
          8.680090706956694,
          3.8049345892799584,
          2.7110599667842665,
          4.825391813327675,
          4.825391813327675
         ],
         "yaxis": "y"
        },
        {
         "hoverinfo": "skip",
         "legendgroup": "alert",
         "marker": {
          "color": "#DD4040",
          "size": 8,
          "symbol": "diamond"
         },
         "mode": "markers",
         "name": "Alert",
         "showlegend": true,
         "type": "scatter",
         "x": [],
         "xaxis": "x",
         "y": [],
         "yaxis": "y"
        },
        {
         "hoverinfo": "skip",
         "legendgroup": "thresh",
         "line": {
          "color": "#DD4040",
          "dash": "dash",
          "width": 2
         },
         "mode": "lines",
         "name": "Threshold",
         "showlegend": true,
         "type": "scatter",
         "x": [
          "2007-01-01T00:00:00",
          "2007-04-01T00:00:00",
          "2007-06-01T00:00:00",
          "2007-07-01T00:00:00",
          "2007-08-01T00:00:00",
          "2007-12-01T00:00:00",
          "2008-04-01T00:00:00",
          "2008-06-01T00:00:00",
          "2008-07-01T00:00:00",
          "2008-12-01T00:00:00",
          "2008-12-01T00:00:00"
         ],
         "xaxis": "x",
         "y": [
          1,
          null,
          null,
          null,
          null,
          null,
          null,
          null,
          null,
          null,
          null
         ],
         "yaxis": "y"
        },
        {
         "hoverinfo": "skip",
         "legendgroup": "thresh",
         "line": {
          "color": "#DD4040",
          "dash": "dash",
          "width": 2
         },
         "mode": "lines",
         "name": "Threshold",
         "showlegend": false,
         "type": "scatter",
         "x": [
          "2007-01-01T00:00:00",
          "2007-04-01T00:00:00",
          "2007-06-01T00:00:00",
          "2007-07-01T00:00:00",
          "2007-08-01T00:00:00",
          "2007-12-01T00:00:00",
          "2008-04-01T00:00:00",
          "2008-06-01T00:00:00",
          "2008-07-01T00:00:00",
          "2008-12-01T00:00:00",
          "2008-12-01T00:00:00"
         ],
         "xaxis": "x",
         "y": [
          0,
          null,
          null,
          null,
          null,
          null,
          null,
          null,
          null,
          null,
          null
         ],
         "yaxis": "y"
        },
        {
         "hoverinfo": "skip",
         "legendgroup": "metric_reference",
         "line": {
          "color": "#00c8e5",
          "shape": "hv",
          "width": 2
         },
         "mode": "lines",
         "name": "Method",
         "showlegend": false,
         "type": "scatter",
         "x": [
          "2007-01-01T00:00:00",
          "2007-04-01T00:00:00",
          "2007-06-01T00:00:00",
          "2007-07-01T00:00:00",
          "2007-08-01T00:00:00",
          "2007-12-01T00:00:00",
          "2008-04-01T00:00:00",
          "2008-06-01T00:00:00",
          "2008-07-01T00:00:00",
          "2008-12-01T00:00:00",
          "2008-12-01T00:00:00"
         ],
         "xaxis": "x2",
         "y": [
          0,
          1.869877248241147,
          0,
          0,
          0,
          0,
          0,
          0,
          1.869877248241147,
          0,
          0
         ],
         "yaxis": "y2"
        },
        {
         "customdata": [
          [
           "Chi2 statistic for <b>Street</b>",
           "<b style=\"color:#00c8e5;line-height:60px\">Reference</b>",
           "",
           "[0:62]",
           "From <b>Jan-01-2007</b> to <b>Apr-01-2007</b>",
           0
          ],
          [
           "Chi2 statistic for <b>Street</b>",
           "<b style=\"color:#00c8e5;line-height:60px\">Reference</b>",
           "",
           "[63:125]",
           "From <b>Apr-01-2007</b> to <b>Jun-01-2007</b>",
           1.8699
          ],
          [
           "Chi2 statistic for <b>Street</b>",
           "<b style=\"color:#00c8e5;line-height:60px\">Reference</b>",
           "",
           "[126:188]",
           "From <b>Jun-01-2007</b> to <b>Jul-01-2007</b>",
           0
          ],
          [
           "Chi2 statistic for <b>Street</b>",
           "<b style=\"color:#00c8e5;line-height:60px\">Reference</b>",
           "",
           "[189:251]",
           "From <b>Jul-01-2007</b> to <b>Aug-01-2007</b>",
           0
          ],
          [
           "Chi2 statistic for <b>Street</b>",
           "<b style=\"color:#00c8e5;line-height:60px\">Reference</b>",
           "",
           "[252:314]",
           "From <b>Aug-01-2007</b> to <b>Dec-01-2007</b>",
           0
          ],
          [
           "Chi2 statistic for <b>Street</b>",
           "<b style=\"color:#00c8e5;line-height:60px\">Reference</b>",
           "",
           "[315:377]",
           "From <b>Dec-01-2007</b> to <b>Apr-01-2008</b>",
           0
          ],
          [
           "Chi2 statistic for <b>Street</b>",
           "<b style=\"color:#00c8e5;line-height:60px\">Reference</b>",
           "",
           "[378:440]",
           "From <b>Apr-01-2008</b> to <b>Jun-01-2008</b>",
           0
          ],
          [
           "Chi2 statistic for <b>Street</b>",
           "<b style=\"color:#00c8e5;line-height:60px\">Reference</b>",
           "",
           "[441:503]",
           "From <b>Jun-01-2008</b> to <b>Jul-01-2008</b>",
           0
          ],
          [
           "Chi2 statistic for <b>Street</b>",
           "<b style=\"color:#00c8e5;line-height:60px\">Reference</b>",
           "",
           "[504:566]",
           "From <b>Jul-01-2008</b> to <b>Sep-01-2008</b>",
           1.8699
          ],
          [
           "Chi2 statistic for <b>Street</b>",
           "<b style=\"color:#00c8e5;line-height:60px\">Reference</b>",
           "",
           "[630:629]",
           "From <b>Dec-01-2008</b> to <b>Dec-01-2008</b>",
           0
          ]
         ],
         "hovertemplate": "%{customdata[1]} &nbsp; &nbsp; %{customdata[2]} <br />Chunk: <b>%{customdata[3]}</b> &nbsp; &nbsp; %{customdata[4]} <br />%{customdata[0]}: <b>%{customdata[5]}</b><b r /><extra></extra>",
         "legendgroup": "metric_reference",
         "marker": {
          "color": "#00c8e5",
          "size": 5,
          "symbol": "circle"
         },
         "mode": "markers",
         "name": "Method",
         "showlegend": false,
         "type": "scatter",
         "x": [
          "2007-02-15T00:00:00",
          "2007-05-01T12:00:00",
          "2007-06-16T00:00:00",
          "2007-07-16T12:00:00",
          "2007-10-01T00:00:00",
          "2008-01-31T00:00:00",
          "2008-05-01T12:00:00",
          "2008-06-16T00:00:00",
          "2008-09-15T12:00:00",
          "2008-12-01T00:00:00"
         ],
         "xaxis": "x2",
         "y": [
          0,
          1.869877248241147,
          0,
          0,
          0,
          0,
          0,
          0,
          1.869877248241147,
          0,
          0
         ],
         "yaxis": "y2"
        },
        {
         "hoverinfo": "skip",
         "legendgroup": "metric_analysis",
         "line": {
          "color": "#00c8e5",
          "shape": "hv",
          "width": 2
         },
         "mode": "lines",
         "name": "Method",
         "showlegend": false,
         "type": "scatter",
         "x": [
          "2009-01-01T00:00:00",
          "2009-04-01T00:00:00",
          "2009-05-01T00:00:00",
          "2009-06-01T00:00:00",
          "2009-07-01T00:00:00",
          "2009-09-01T00:00:00",
          "2009-11-01T00:00:00",
          "2010-02-01T00:00:00",
          "2010-04-01T00:00:00",
          "2010-07-01T00:00:00",
          "2010-07-01T00:00:00"
         ],
         "xaxis": "x2",
         "y": [
          0,
          0,
          0,
          0,
          0,
          0,
          0,
          0,
          0.04723685145138329,
          0.03184047708394142,
          0.03184047708394142
         ],
         "yaxis": "y2"
        },
        {
         "customdata": [
          [
           "Chi2 statistic for <b>Street</b>",
           "<b style=\"color:#00c8e5;line-height:60px\">Analysis</b>",
           "",
           "[0:50]",
           "From <b>Jan-01-2009</b> to <b>Apr-01-2009</b>",
           0
          ],
          [
           "Chi2 statistic for <b>Street</b>",
           "<b style=\"color:#00c8e5;line-height:60px\">Analysis</b>",
           "",
           "[51:101]",
           "From <b>Apr-01-2009</b> to <b>May-01-2009</b>",
           0
          ],
          [
           "Chi2 statistic for <b>Street</b>",
           "<b style=\"color:#00c8e5;line-height:60px\">Analysis</b>",
           "",
           "[102:152]",
           "From <b>May-01-2009</b> to <b>Jun-01-2009</b>",
           0
          ],
          [
           "Chi2 statistic for <b>Street</b>",
           "<b style=\"color:#00c8e5;line-height:60px\">Analysis</b>",
           "",
           "[153:203]",
           "From <b>Jun-01-2009</b> to <b>Jul-01-2009</b>",
           0
          ],
          [
           "Chi2 statistic for <b>Street</b>",
           "<b style=\"color:#00c8e5;line-height:60px\">Analysis</b>",
           "",
           "[204:254]",
           "From <b>Jul-01-2009</b> to <b>Sep-01-2009</b>",
           0
          ],
          [
           "Chi2 statistic for <b>Street</b>",
           "<b style=\"color:#00c8e5;line-height:60px\">Analysis</b>",
           "",
           "[255:305]",
           "From <b>Sep-01-2009</b> to <b>Nov-01-2009</b>",
           0
          ],
          [
           "Chi2 statistic for <b>Street</b>",
           "<b style=\"color:#00c8e5;line-height:60px\">Analysis</b>",
           "",
           "[306:356]",
           "From <b>Nov-01-2009</b> to <b>Feb-01-2010</b>",
           0
          ],
          [
           "Chi2 statistic for <b>Street</b>",
           "<b style=\"color:#00c8e5;line-height:60px\">Analysis</b>",
           "",
           "[357:407]",
           "From <b>Feb-01-2010</b> to <b>Apr-01-2010</b>",
           0
          ],
          [
           "Chi2 statistic for <b>Street</b>",
           "<b style=\"color:#00c8e5;line-height:60px\">Analysis</b>",
           "",
           "[408:458]",
           "From <b>Apr-01-2010</b> to <b>May-01-2010</b>",
           0.0472
          ],
          [
           "Chi2 statistic for <b>Street</b>",
           "<b style=\"color:#00c8e5;line-height:60px\">Analysis</b>",
           "",
           "[510:509]",
           "From <b>Jul-01-2010</b> to <b>Jul-01-2010</b>",
           0.0318
          ]
         ],
         "hovertemplate": "%{customdata[1]} &nbsp; &nbsp; %{customdata[2]} <br />Chunk: <b>%{customdata[3]}</b> &nbsp; &nbsp; %{customdata[4]} <br />%{customdata[0]}: <b>%{customdata[5]}</b><b r /><extra></extra>",
         "legendgroup": "metric_analysis",
         "marker": {
          "color": "#00c8e5",
          "size": 5,
          "symbol": "circle"
         },
         "mode": "markers",
         "name": "Method",
         "showlegend": false,
         "type": "scatter",
         "x": [
          "2009-02-15T00:00:00",
          "2009-04-16T00:00:00",
          "2009-05-16T12:00:00",
          "2009-06-16T00:00:00",
          "2009-08-01T00:00:00",
          "2009-10-01T12:00:00",
          "2009-12-17T00:00:00",
          "2010-03-02T12:00:00",
          "2010-05-16T12:00:00",
          "2010-07-01T00:00:00"
         ],
         "xaxis": "x2",
         "y": [
          0,
          0,
          0,
          0,
          0,
          0,
          0,
          0,
          0.04723685145138329,
          0.03184047708394142,
          0.03184047708394142
         ],
         "yaxis": "y2"
        },
        {
         "hoverinfo": "skip",
         "legendgroup": "alert",
         "marker": {
          "color": "#DD4040",
          "size": 8,
          "symbol": "diamond"
         },
         "mode": "markers",
         "name": "Alert",
         "showlegend": false,
         "type": "scatter",
         "x": [],
         "xaxis": "x2",
         "y": [],
         "yaxis": "y2"
        },
        {
         "hoverinfo": "skip",
         "legendgroup": "thresh",
         "line": {
          "color": "#DD4040",
          "dash": "dash",
          "width": 2
         },
         "mode": "lines",
         "name": "Threshold",
         "showlegend": false,
         "type": "scatter",
         "x": [
          "2007-01-01T00:00:00",
          "2007-04-01T00:00:00",
          "2007-06-01T00:00:00",
          "2007-07-01T00:00:00",
          "2007-08-01T00:00:00",
          "2007-12-01T00:00:00",
          "2008-04-01T00:00:00",
          "2008-06-01T00:00:00",
          "2008-07-01T00:00:00",
          "2008-12-01T00:00:00",
          "2008-12-01T00:00:00"
         ],
         "xaxis": "x2",
         "y": [
          1,
          null,
          null,
          null,
          null,
          null,
          null,
          null,
          null,
          null,
          null
         ],
         "yaxis": "y2"
        },
        {
         "hoverinfo": "skip",
         "legendgroup": "thresh",
         "line": {
          "color": "#DD4040",
          "dash": "dash",
          "width": 2
         },
         "mode": "lines",
         "name": "Threshold",
         "showlegend": false,
         "type": "scatter",
         "x": [
          "2007-01-01T00:00:00",
          "2007-04-01T00:00:00",
          "2007-06-01T00:00:00",
          "2007-07-01T00:00:00",
          "2007-08-01T00:00:00",
          "2007-12-01T00:00:00",
          "2008-04-01T00:00:00",
          "2008-06-01T00:00:00",
          "2008-07-01T00:00:00",
          "2008-12-01T00:00:00",
          "2008-12-01T00:00:00"
         ],
         "xaxis": "x2",
         "y": [
          0,
          null,
          null,
          null,
          null,
          null,
          null,
          null,
          null,
          null,
          null
         ],
         "yaxis": "y2"
        }
       ],
       "layout": {
        "annotations": [
         {
          "font": {
           "size": 16
          },
          "showarrow": false,
          "text": "Chi2 statistic for <b>MSZoning</b>",
          "x": 0.5,
          "xanchor": "center",
          "xref": "paper",
          "y": 1,
          "yanchor": "bottom",
          "yref": "paper"
         },
         {
          "font": {
           "size": 16
          },
          "showarrow": false,
          "text": "Chi2 statistic for <b>Street</b>",
          "x": 0.5,
          "xanchor": "center",
          "xref": "paper",
          "y": 0.375,
          "yanchor": "bottom",
          "yref": "paper"
         },
         {
          "showarrow": false,
          "text": "Reference",
          "x": "2007-11-15T19:12:00",
          "xref": "x",
          "xshift": 10,
          "y": 1.01,
          "yref": "y domain"
         },
         {
          "showarrow": false,
          "text": "Analysis",
          "x": "2009-09-06T14:24:00",
          "xref": "x",
          "xshift": 15,
          "y": 1.01,
          "yref": "y domain"
         },
         {
          "showarrow": false,
          "text": "Reference",
          "x": "2007-11-15T19:12:00",
          "xref": "x2",
          "xshift": 10,
          "y": 1.01,
          "yref": "y2 domain"
         },
         {
          "showarrow": false,
          "text": "Analysis",
          "x": "2009-09-06T14:24:00",
          "xref": "x2",
          "xshift": 15,
          "y": 1.01,
          "yref": "y2 domain"
         }
        ],
        "height": 1000,
        "hoverlabel": {
         "bgcolor": "white",
         "font": {
          "size": 14
         }
        },
        "legend": {
         "itemclick": false,
         "itemdoubleclick": false,
         "traceorder": "grouped"
        },
        "paper_bgcolor": "rgba(255,255,255,1)",
        "plot_bgcolor": "rgba(255,255,255,1)",
        "shapes": [
         {
          "layer": "below",
          "line": {
           "color": "#666666",
           "width": 1
          },
          "type": "line",
          "x0": "2009-01-01T00:00:00",
          "x1": "2009-01-01T00:00:00",
          "xref": "x",
          "y0": 0,
          "y1": 1,
          "yref": "y domain"
         },
         {
          "layer": "below",
          "line": {
           "color": "#666666",
           "width": 1
          },
          "type": "line",
          "x0": "2009-01-01T00:00:00",
          "x1": "2009-01-01T00:00:00",
          "xref": "x",
          "y0": 0,
          "y1": 1,
          "yref": "y domain"
         },
         {
          "layer": "below",
          "line": {
           "color": "#666666",
           "width": 1
          },
          "type": "line",
          "x0": "2009-01-01T00:00:00",
          "x1": "2009-01-01T00:00:00",
          "xref": "x2",
          "y0": 0,
          "y1": 1,
          "yref": "y2 domain"
         }
        ],
        "template": {
         "data": {
          "bar": [
           {
            "error_x": {
             "color": "#2a3f5f"
            },
            "error_y": {
             "color": "#2a3f5f"
            },
            "marker": {
             "line": {
              "color": "#E5ECF6",
              "width": 0.5
             },
             "pattern": {
              "fillmode": "overlay",
              "size": 10,
              "solidity": 0.2
             }
            },
            "type": "bar"
           }
          ],
          "barpolar": [
           {
            "marker": {
             "line": {
              "color": "#E5ECF6",
              "width": 0.5
             },
             "pattern": {
              "fillmode": "overlay",
              "size": 10,
              "solidity": 0.2
             }
            },
            "type": "barpolar"
           }
          ],
          "carpet": [
           {
            "aaxis": {
             "endlinecolor": "#2a3f5f",
             "gridcolor": "white",
             "linecolor": "white",
             "minorgridcolor": "white",
             "startlinecolor": "#2a3f5f"
            },
            "baxis": {
             "endlinecolor": "#2a3f5f",
             "gridcolor": "white",
             "linecolor": "white",
             "minorgridcolor": "white",
             "startlinecolor": "#2a3f5f"
            },
            "type": "carpet"
           }
          ],
          "choropleth": [
           {
            "colorbar": {
             "outlinewidth": 0,
             "ticks": ""
            },
            "type": "choropleth"
           }
          ],
          "contour": [
           {
            "colorbar": {
             "outlinewidth": 0,
             "ticks": ""
            },
            "colorscale": [
             [
              0,
              "#0d0887"
             ],
             [
              0.1111111111111111,
              "#46039f"
             ],
             [
              0.2222222222222222,
              "#7201a8"
             ],
             [
              0.3333333333333333,
              "#9c179e"
             ],
             [
              0.4444444444444444,
              "#bd3786"
             ],
             [
              0.5555555555555556,
              "#d8576b"
             ],
             [
              0.6666666666666666,
              "#ed7953"
             ],
             [
              0.7777777777777778,
              "#fb9f3a"
             ],
             [
              0.8888888888888888,
              "#fdca26"
             ],
             [
              1,
              "#f0f921"
             ]
            ],
            "type": "contour"
           }
          ],
          "contourcarpet": [
           {
            "colorbar": {
             "outlinewidth": 0,
             "ticks": ""
            },
            "type": "contourcarpet"
           }
          ],
          "heatmap": [
           {
            "colorbar": {
             "outlinewidth": 0,
             "ticks": ""
            },
            "colorscale": [
             [
              0,
              "#0d0887"
             ],
             [
              0.1111111111111111,
              "#46039f"
             ],
             [
              0.2222222222222222,
              "#7201a8"
             ],
             [
              0.3333333333333333,
              "#9c179e"
             ],
             [
              0.4444444444444444,
              "#bd3786"
             ],
             [
              0.5555555555555556,
              "#d8576b"
             ],
             [
              0.6666666666666666,
              "#ed7953"
             ],
             [
              0.7777777777777778,
              "#fb9f3a"
             ],
             [
              0.8888888888888888,
              "#fdca26"
             ],
             [
              1,
              "#f0f921"
             ]
            ],
            "type": "heatmap"
           }
          ],
          "heatmapgl": [
           {
            "colorbar": {
             "outlinewidth": 0,
             "ticks": ""
            },
            "colorscale": [
             [
              0,
              "#0d0887"
             ],
             [
              0.1111111111111111,
              "#46039f"
             ],
             [
              0.2222222222222222,
              "#7201a8"
             ],
             [
              0.3333333333333333,
              "#9c179e"
             ],
             [
              0.4444444444444444,
              "#bd3786"
             ],
             [
              0.5555555555555556,
              "#d8576b"
             ],
             [
              0.6666666666666666,
              "#ed7953"
             ],
             [
              0.7777777777777778,
              "#fb9f3a"
             ],
             [
              0.8888888888888888,
              "#fdca26"
             ],
             [
              1,
              "#f0f921"
             ]
            ],
            "type": "heatmapgl"
           }
          ],
          "histogram": [
           {
            "marker": {
             "pattern": {
              "fillmode": "overlay",
              "size": 10,
              "solidity": 0.2
             }
            },
            "type": "histogram"
           }
          ],
          "histogram2d": [
           {
            "colorbar": {
             "outlinewidth": 0,
             "ticks": ""
            },
            "colorscale": [
             [
              0,
              "#0d0887"
             ],
             [
              0.1111111111111111,
              "#46039f"
             ],
             [
              0.2222222222222222,
              "#7201a8"
             ],
             [
              0.3333333333333333,
              "#9c179e"
             ],
             [
              0.4444444444444444,
              "#bd3786"
             ],
             [
              0.5555555555555556,
              "#d8576b"
             ],
             [
              0.6666666666666666,
              "#ed7953"
             ],
             [
              0.7777777777777778,
              "#fb9f3a"
             ],
             [
              0.8888888888888888,
              "#fdca26"
             ],
             [
              1,
              "#f0f921"
             ]
            ],
            "type": "histogram2d"
           }
          ],
          "histogram2dcontour": [
           {
            "colorbar": {
             "outlinewidth": 0,
             "ticks": ""
            },
            "colorscale": [
             [
              0,
              "#0d0887"
             ],
             [
              0.1111111111111111,
              "#46039f"
             ],
             [
              0.2222222222222222,
              "#7201a8"
             ],
             [
              0.3333333333333333,
              "#9c179e"
             ],
             [
              0.4444444444444444,
              "#bd3786"
             ],
             [
              0.5555555555555556,
              "#d8576b"
             ],
             [
              0.6666666666666666,
              "#ed7953"
             ],
             [
              0.7777777777777778,
              "#fb9f3a"
             ],
             [
              0.8888888888888888,
              "#fdca26"
             ],
             [
              1,
              "#f0f921"
             ]
            ],
            "type": "histogram2dcontour"
           }
          ],
          "mesh3d": [
           {
            "colorbar": {
             "outlinewidth": 0,
             "ticks": ""
            },
            "type": "mesh3d"
           }
          ],
          "parcoords": [
           {
            "line": {
             "colorbar": {
              "outlinewidth": 0,
              "ticks": ""
             }
            },
            "type": "parcoords"
           }
          ],
          "pie": [
           {
            "automargin": true,
            "type": "pie"
           }
          ],
          "scatter": [
           {
            "fillpattern": {
             "fillmode": "overlay",
             "size": 10,
             "solidity": 0.2
            },
            "type": "scatter"
           }
          ],
          "scatter3d": [
           {
            "line": {
             "colorbar": {
              "outlinewidth": 0,
              "ticks": ""
             }
            },
            "marker": {
             "colorbar": {
              "outlinewidth": 0,
              "ticks": ""
             }
            },
            "type": "scatter3d"
           }
          ],
          "scattercarpet": [
           {
            "marker": {
             "colorbar": {
              "outlinewidth": 0,
              "ticks": ""
             }
            },
            "type": "scattercarpet"
           }
          ],
          "scattergeo": [
           {
            "marker": {
             "colorbar": {
              "outlinewidth": 0,
              "ticks": ""
             }
            },
            "type": "scattergeo"
           }
          ],
          "scattergl": [
           {
            "marker": {
             "colorbar": {
              "outlinewidth": 0,
              "ticks": ""
             }
            },
            "type": "scattergl"
           }
          ],
          "scattermapbox": [
           {
            "marker": {
             "colorbar": {
              "outlinewidth": 0,
              "ticks": ""
             }
            },
            "type": "scattermapbox"
           }
          ],
          "scatterpolar": [
           {
            "marker": {
             "colorbar": {
              "outlinewidth": 0,
              "ticks": ""
             }
            },
            "type": "scatterpolar"
           }
          ],
          "scatterpolargl": [
           {
            "marker": {
             "colorbar": {
              "outlinewidth": 0,
              "ticks": ""
             }
            },
            "type": "scatterpolargl"
           }
          ],
          "scatterternary": [
           {
            "marker": {
             "colorbar": {
              "outlinewidth": 0,
              "ticks": ""
             }
            },
            "type": "scatterternary"
           }
          ],
          "surface": [
           {
            "colorbar": {
             "outlinewidth": 0,
             "ticks": ""
            },
            "colorscale": [
             [
              0,
              "#0d0887"
             ],
             [
              0.1111111111111111,
              "#46039f"
             ],
             [
              0.2222222222222222,
              "#7201a8"
             ],
             [
              0.3333333333333333,
              "#9c179e"
             ],
             [
              0.4444444444444444,
              "#bd3786"
             ],
             [
              0.5555555555555556,
              "#d8576b"
             ],
             [
              0.6666666666666666,
              "#ed7953"
             ],
             [
              0.7777777777777778,
              "#fb9f3a"
             ],
             [
              0.8888888888888888,
              "#fdca26"
             ],
             [
              1,
              "#f0f921"
             ]
            ],
            "type": "surface"
           }
          ],
          "table": [
           {
            "cells": {
             "fill": {
              "color": "#EBF0F8"
             },
             "line": {
              "color": "white"
             }
            },
            "header": {
             "fill": {
              "color": "#C8D4E3"
             },
             "line": {
              "color": "white"
             }
            },
            "type": "table"
           }
          ]
         },
         "layout": {
          "annotationdefaults": {
           "arrowcolor": "#2a3f5f",
           "arrowhead": 0,
           "arrowwidth": 1
          },
          "autotypenumbers": "strict",
          "coloraxis": {
           "colorbar": {
            "outlinewidth": 0,
            "ticks": ""
           }
          },
          "colorscale": {
           "diverging": [
            [
             0,
             "#8e0152"
            ],
            [
             0.1,
             "#c51b7d"
            ],
            [
             0.2,
             "#de77ae"
            ],
            [
             0.3,
             "#f1b6da"
            ],
            [
             0.4,
             "#fde0ef"
            ],
            [
             0.5,
             "#f7f7f7"
            ],
            [
             0.6,
             "#e6f5d0"
            ],
            [
             0.7,
             "#b8e186"
            ],
            [
             0.8,
             "#7fbc41"
            ],
            [
             0.9,
             "#4d9221"
            ],
            [
             1,
             "#276419"
            ]
           ],
           "sequential": [
            [
             0,
             "#0d0887"
            ],
            [
             0.1111111111111111,
             "#46039f"
            ],
            [
             0.2222222222222222,
             "#7201a8"
            ],
            [
             0.3333333333333333,
             "#9c179e"
            ],
            [
             0.4444444444444444,
             "#bd3786"
            ],
            [
             0.5555555555555556,
             "#d8576b"
            ],
            [
             0.6666666666666666,
             "#ed7953"
            ],
            [
             0.7777777777777778,
             "#fb9f3a"
            ],
            [
             0.8888888888888888,
             "#fdca26"
            ],
            [
             1,
             "#f0f921"
            ]
           ],
           "sequentialminus": [
            [
             0,
             "#0d0887"
            ],
            [
             0.1111111111111111,
             "#46039f"
            ],
            [
             0.2222222222222222,
             "#7201a8"
            ],
            [
             0.3333333333333333,
             "#9c179e"
            ],
            [
             0.4444444444444444,
             "#bd3786"
            ],
            [
             0.5555555555555556,
             "#d8576b"
            ],
            [
             0.6666666666666666,
             "#ed7953"
            ],
            [
             0.7777777777777778,
             "#fb9f3a"
            ],
            [
             0.8888888888888888,
             "#fdca26"
            ],
            [
             1,
             "#f0f921"
            ]
           ]
          },
          "colorway": [
           "#636efa",
           "#EF553B",
           "#00cc96",
           "#ab63fa",
           "#FFA15A",
           "#19d3f3",
           "#FF6692",
           "#B6E880",
           "#FF97FF",
           "#FECB52"
          ],
          "font": {
           "color": "#2a3f5f"
          },
          "geo": {
           "bgcolor": "white",
           "lakecolor": "white",
           "landcolor": "#E5ECF6",
           "showlakes": true,
           "showland": true,
           "subunitcolor": "white"
          },
          "hoverlabel": {
           "align": "left"
          },
          "hovermode": "closest",
          "mapbox": {
           "style": "light"
          },
          "paper_bgcolor": "white",
          "plot_bgcolor": "#E5ECF6",
          "polar": {
           "angularaxis": {
            "gridcolor": "white",
            "linecolor": "white",
            "ticks": ""
           },
           "bgcolor": "#E5ECF6",
           "radialaxis": {
            "gridcolor": "white",
            "linecolor": "white",
            "ticks": ""
           }
          },
          "scene": {
           "xaxis": {
            "backgroundcolor": "#E5ECF6",
            "gridcolor": "white",
            "gridwidth": 2,
            "linecolor": "white",
            "showbackground": true,
            "ticks": "",
            "zerolinecolor": "white"
           },
           "yaxis": {
            "backgroundcolor": "#E5ECF6",
            "gridcolor": "white",
            "gridwidth": 2,
            "linecolor": "white",
            "showbackground": true,
            "ticks": "",
            "zerolinecolor": "white"
           },
           "zaxis": {
            "backgroundcolor": "#E5ECF6",
            "gridcolor": "white",
            "gridwidth": 2,
            "linecolor": "white",
            "showbackground": true,
            "ticks": "",
            "zerolinecolor": "white"
           }
          },
          "shapedefaults": {
           "line": {
            "color": "#2a3f5f"
           }
          },
          "ternary": {
           "aaxis": {
            "gridcolor": "white",
            "linecolor": "white",
            "ticks": ""
           },
           "baxis": {
            "gridcolor": "white",
            "linecolor": "white",
            "ticks": ""
           },
           "bgcolor": "#E5ECF6",
           "caxis": {
            "gridcolor": "white",
            "linecolor": "white",
            "ticks": ""
           }
          },
          "title": {
           "x": 0.05
          },
          "xaxis": {
           "automargin": true,
           "gridcolor": "white",
           "linecolor": "white",
           "ticks": "",
           "title": {
            "standoff": 15
           },
           "zerolinecolor": "white",
           "zerolinewidth": 2
          },
          "yaxis": {
           "automargin": true,
           "gridcolor": "white",
           "linecolor": "white",
           "ticks": "",
           "title": {
            "standoff": 15
           },
           "zerolinecolor": "white",
           "zerolinewidth": 2
          }
         }
        },
        "title": {
         "text": "Univariate drift metrics"
        },
        "xaxis": {
         "anchor": "y",
         "domain": [
          0,
          1
         ],
         "linecolor": "#3b0280",
         "matches": "x",
         "mirror": true,
         "showgrid": false,
         "title": {
          "text": "Time"
         },
         "zeroline": false
        },
        "xaxis2": {
         "anchor": "y2",
         "domain": [
          0,
          1
         ],
         "linecolor": "#3b0280",
         "matches": "x",
         "mirror": true,
         "showgrid": false,
         "title": {
          "text": "Time"
         },
         "zeroline": false
        },
        "yaxis": {
         "anchor": "x",
         "domain": [
          0.625,
          1
         ],
         "linecolor": "#3b0280",
         "mirror": true,
         "showgrid": false,
         "title": {
          "text": "Chi2 statistic"
         },
         "zeroline": false
        },
        "yaxis2": {
         "anchor": "x2",
         "domain": [
          0,
          0.375
         ],
         "linecolor": "#3b0280",
         "mirror": true,
         "showgrid": false,
         "title": {
          "text": "Chi2 statistic"
         },
         "zeroline": false
        }
       }
      }
     },
     "metadata": {},
     "output_type": "display_data"
    }
   ],
   "source": [
    "figure = results.filter(column_names=results.categorical_column_names, methods=['chi2']).plot(kind='drift')\n",
    "\n",
    "figure.show()"
   ]
  },
  {
   "cell_type": "code",
   "execution_count": 24,
   "metadata": {},
   "outputs": [],
   "source": [
    "prediction = pd.read_csv('../data/07_model_output/df_with_predict.csv')"
   ]
  },
  {
   "cell_type": "code",
   "execution_count": 29,
   "metadata": {},
   "outputs": [
    {
     "data": {
      "text/html": [
       "<div>\n",
       "<style scoped>\n",
       "    .dataframe tbody tr th:only-of-type {\n",
       "        vertical-align: middle;\n",
       "    }\n",
       "\n",
       "    .dataframe tbody tr th {\n",
       "        vertical-align: top;\n",
       "    }\n",
       "\n",
       "    .dataframe thead th {\n",
       "        text-align: right;\n",
       "    }\n",
       "</style>\n",
       "<table border=\"1\" class=\"dataframe\">\n",
       "  <thead>\n",
       "    <tr style=\"text-align: right;\">\n",
       "      <th></th>\n",
       "      <th>numerical__numerical__MSSubClass</th>\n",
       "      <th>numerical__numerical__LotFrontage</th>\n",
       "      <th>numerical__numerical__LotArea</th>\n",
       "      <th>numerical__numerical__OverallQual</th>\n",
       "      <th>numerical__numerical__OverallCond</th>\n",
       "      <th>numerical__numerical__YearBuilt</th>\n",
       "      <th>numerical__numerical__YearRemodAdd</th>\n",
       "      <th>numerical__numerical__MasVnrArea</th>\n",
       "      <th>numerical__numerical__BsmtFinSF1</th>\n",
       "      <th>numerical__numerical__BsmtFinSF2</th>\n",
       "      <th>...</th>\n",
       "      <th>categorical__categorical__SaleType_New</th>\n",
       "      <th>categorical__categorical__SaleType_Oth</th>\n",
       "      <th>categorical__categorical__SaleType_WD</th>\n",
       "      <th>categorical__categorical__SaleCondition_Abnorml</th>\n",
       "      <th>categorical__categorical__SaleCondition_AdjLand</th>\n",
       "      <th>categorical__categorical__SaleCondition_Alloca</th>\n",
       "      <th>categorical__categorical__SaleCondition_Family</th>\n",
       "      <th>categorical__categorical__SaleCondition_Normal</th>\n",
       "      <th>categorical__categorical__SaleCondition_Partial</th>\n",
       "      <th>y_pred</th>\n",
       "    </tr>\n",
       "  </thead>\n",
       "  <tbody>\n",
       "    <tr>\n",
       "      <th>0</th>\n",
       "      <td>-0.6</td>\n",
       "      <td>-0.018097</td>\n",
       "      <td>-0.288372</td>\n",
       "      <td>0.0</td>\n",
       "      <td>3.0</td>\n",
       "      <td>-0.187500</td>\n",
       "      <td>0.236842</td>\n",
       "      <td>0.000000</td>\n",
       "      <td>0.386269</td>\n",
       "      <td>0.0</td>\n",
       "      <td>...</td>\n",
       "      <td>0.0</td>\n",
       "      <td>0.0</td>\n",
       "      <td>1.0</td>\n",
       "      <td>0.0</td>\n",
       "      <td>0.0</td>\n",
       "      <td>0.0</td>\n",
       "      <td>0.0</td>\n",
       "      <td>1.0</td>\n",
       "      <td>0.0</td>\n",
       "      <td>137533.376869</td>\n",
       "    </tr>\n",
       "    <tr>\n",
       "      <th>1</th>\n",
       "      <td>0.2</td>\n",
       "      <td>1.455587</td>\n",
       "      <td>0.645797</td>\n",
       "      <td>1.0</td>\n",
       "      <td>0.0</td>\n",
       "      <td>0.458333</td>\n",
       "      <td>0.026316</td>\n",
       "      <td>2.180723</td>\n",
       "      <td>0.898058</td>\n",
       "      <td>0.0</td>\n",
       "      <td>...</td>\n",
       "      <td>0.0</td>\n",
       "      <td>0.0</td>\n",
       "      <td>1.0</td>\n",
       "      <td>0.0</td>\n",
       "      <td>0.0</td>\n",
       "      <td>0.0</td>\n",
       "      <td>0.0</td>\n",
       "      <td>1.0</td>\n",
       "      <td>0.0</td>\n",
       "      <td>298351.239230</td>\n",
       "    </tr>\n",
       "    <tr>\n",
       "      <th>2</th>\n",
       "      <td>-0.4</td>\n",
       "      <td>-0.754939</td>\n",
       "      <td>-0.155614</td>\n",
       "      <td>-0.5</td>\n",
       "      <td>1.0</td>\n",
       "      <td>-0.937500</td>\n",
       "      <td>-1.157895</td>\n",
       "      <td>0.000000</td>\n",
       "      <td>-0.533287</td>\n",
       "      <td>0.0</td>\n",
       "      <td>...</td>\n",
       "      <td>0.0</td>\n",
       "      <td>0.0</td>\n",
       "      <td>1.0</td>\n",
       "      <td>0.0</td>\n",
       "      <td>0.0</td>\n",
       "      <td>0.0</td>\n",
       "      <td>0.0</td>\n",
       "      <td>1.0</td>\n",
       "      <td>0.0</td>\n",
       "      <td>125230.692480</td>\n",
       "    </tr>\n",
       "    <tr>\n",
       "      <th>3</th>\n",
       "      <td>0.0</td>\n",
       "      <td>-1.070729</td>\n",
       "      <td>-1.118473</td>\n",
       "      <td>0.0</td>\n",
       "      <td>2.0</td>\n",
       "      <td>-0.520833</td>\n",
       "      <td>-1.157895</td>\n",
       "      <td>0.000000</td>\n",
       "      <td>0.020111</td>\n",
       "      <td>0.0</td>\n",
       "      <td>...</td>\n",
       "      <td>0.0</td>\n",
       "      <td>0.0</td>\n",
       "      <td>1.0</td>\n",
       "      <td>0.0</td>\n",
       "      <td>0.0</td>\n",
       "      <td>0.0</td>\n",
       "      <td>0.0</td>\n",
       "      <td>1.0</td>\n",
       "      <td>0.0</td>\n",
       "      <td>150395.898606</td>\n",
       "    </tr>\n",
       "    <tr>\n",
       "      <th>4</th>\n",
       "      <td>-0.6</td>\n",
       "      <td>0.981903</td>\n",
       "      <td>0.801897</td>\n",
       "      <td>1.5</td>\n",
       "      <td>0.0</td>\n",
       "      <td>0.729167</td>\n",
       "      <td>0.368421</td>\n",
       "      <td>0.421687</td>\n",
       "      <td>0.884189</td>\n",
       "      <td>0.0</td>\n",
       "      <td>...</td>\n",
       "      <td>0.0</td>\n",
       "      <td>0.0</td>\n",
       "      <td>1.0</td>\n",
       "      <td>0.0</td>\n",
       "      <td>0.0</td>\n",
       "      <td>0.0</td>\n",
       "      <td>0.0</td>\n",
       "      <td>1.0</td>\n",
       "      <td>0.0</td>\n",
       "      <td>300085.203762</td>\n",
       "    </tr>\n",
       "    <tr>\n",
       "      <th>...</th>\n",
       "      <td>...</td>\n",
       "      <td>...</td>\n",
       "      <td>...</td>\n",
       "      <td>...</td>\n",
       "      <td>...</td>\n",
       "      <td>...</td>\n",
       "      <td>...</td>\n",
       "      <td>...</td>\n",
       "      <td>...</td>\n",
       "      <td>...</td>\n",
       "      <td>...</td>\n",
       "      <td>...</td>\n",
       "      <td>...</td>\n",
       "      <td>...</td>\n",
       "      <td>...</td>\n",
       "      <td>...</td>\n",
       "      <td>...</td>\n",
       "      <td>...</td>\n",
       "      <td>...</td>\n",
       "      <td>...</td>\n",
       "      <td>...</td>\n",
       "    </tr>\n",
       "    <tr>\n",
       "      <th>287</th>\n",
       "      <td>-0.4</td>\n",
       "      <td>-1.070729</td>\n",
       "      <td>-0.893563</td>\n",
       "      <td>-1.0</td>\n",
       "      <td>2.0</td>\n",
       "      <td>-0.729167</td>\n",
       "      <td>0.157895</td>\n",
       "      <td>2.620482</td>\n",
       "      <td>-0.300277</td>\n",
       "      <td>0.0</td>\n",
       "      <td>...</td>\n",
       "      <td>0.0</td>\n",
       "      <td>0.0</td>\n",
       "      <td>1.0</td>\n",
       "      <td>0.0</td>\n",
       "      <td>0.0</td>\n",
       "      <td>1.0</td>\n",
       "      <td>0.0</td>\n",
       "      <td>0.0</td>\n",
       "      <td>0.0</td>\n",
       "      <td>133248.157745</td>\n",
       "    </tr>\n",
       "    <tr>\n",
       "      <th>288</th>\n",
       "      <td>-0.6</td>\n",
       "      <td>2.824008</td>\n",
       "      <td>1.594554</td>\n",
       "      <td>0.5</td>\n",
       "      <td>0.0</td>\n",
       "      <td>0.687500</td>\n",
       "      <td>0.289474</td>\n",
       "      <td>0.096386</td>\n",
       "      <td>1.233703</td>\n",
       "      <td>0.0</td>\n",
       "      <td>...</td>\n",
       "      <td>0.0</td>\n",
       "      <td>0.0</td>\n",
       "      <td>1.0</td>\n",
       "      <td>0.0</td>\n",
       "      <td>0.0</td>\n",
       "      <td>0.0</td>\n",
       "      <td>0.0</td>\n",
       "      <td>1.0</td>\n",
       "      <td>0.0</td>\n",
       "      <td>246826.675290</td>\n",
       "    </tr>\n",
       "    <tr>\n",
       "      <th>289</th>\n",
       "      <td>0.2</td>\n",
       "      <td>-0.386518</td>\n",
       "      <td>-0.340648</td>\n",
       "      <td>0.5</td>\n",
       "      <td>0.0</td>\n",
       "      <td>0.687500</td>\n",
       "      <td>0.289474</td>\n",
       "      <td>0.000000</td>\n",
       "      <td>0.365465</td>\n",
       "      <td>0.0</td>\n",
       "      <td>...</td>\n",
       "      <td>0.0</td>\n",
       "      <td>0.0</td>\n",
       "      <td>1.0</td>\n",
       "      <td>0.0</td>\n",
       "      <td>0.0</td>\n",
       "      <td>0.0</td>\n",
       "      <td>0.0</td>\n",
       "      <td>1.0</td>\n",
       "      <td>0.0</td>\n",
       "      <td>192437.386131</td>\n",
       "    </tr>\n",
       "    <tr>\n",
       "      <th>290</th>\n",
       "      <td>0.4</td>\n",
       "      <td>-0.544413</td>\n",
       "      <td>-0.125463</td>\n",
       "      <td>-1.0</td>\n",
       "      <td>0.0</td>\n",
       "      <td>-0.666667</td>\n",
       "      <td>-1.157895</td>\n",
       "      <td>0.000000</td>\n",
       "      <td>-0.533287</td>\n",
       "      <td>0.0</td>\n",
       "      <td>...</td>\n",
       "      <td>0.0</td>\n",
       "      <td>0.0</td>\n",
       "      <td>1.0</td>\n",
       "      <td>0.0</td>\n",
       "      <td>0.0</td>\n",
       "      <td>0.0</td>\n",
       "      <td>0.0</td>\n",
       "      <td>1.0</td>\n",
       "      <td>0.0</td>\n",
       "      <td>138356.199480</td>\n",
       "    </tr>\n",
       "    <tr>\n",
       "      <th>291</th>\n",
       "      <td>-0.6</td>\n",
       "      <td>-0.018097</td>\n",
       "      <td>-0.359857</td>\n",
       "      <td>-1.0</td>\n",
       "      <td>2.0</td>\n",
       "      <td>-0.041667</td>\n",
       "      <td>-0.631579</td>\n",
       "      <td>0.000000</td>\n",
       "      <td>-0.268377</td>\n",
       "      <td>0.0</td>\n",
       "      <td>...</td>\n",
       "      <td>0.0</td>\n",
       "      <td>0.0</td>\n",
       "      <td>1.0</td>\n",
       "      <td>0.0</td>\n",
       "      <td>0.0</td>\n",
       "      <td>0.0</td>\n",
       "      <td>0.0</td>\n",
       "      <td>1.0</td>\n",
       "      <td>0.0</td>\n",
       "      <td>126708.713828</td>\n",
       "    </tr>\n",
       "  </tbody>\n",
       "</table>\n",
       "<p>292 rows × 267 columns</p>\n",
       "</div>"
      ],
      "text/plain": [
       "     numerical__numerical__MSSubClass  numerical__numerical__LotFrontage  \\\n",
       "0                                -0.6                          -0.018097   \n",
       "1                                 0.2                           1.455587   \n",
       "2                                -0.4                          -0.754939   \n",
       "3                                 0.0                          -1.070729   \n",
       "4                                -0.6                           0.981903   \n",
       "..                                ...                                ...   \n",
       "287                              -0.4                          -1.070729   \n",
       "288                              -0.6                           2.824008   \n",
       "289                               0.2                          -0.386518   \n",
       "290                               0.4                          -0.544413   \n",
       "291                              -0.6                          -0.018097   \n",
       "\n",
       "     numerical__numerical__LotArea  numerical__numerical__OverallQual  \\\n",
       "0                        -0.288372                                0.0   \n",
       "1                         0.645797                                1.0   \n",
       "2                        -0.155614                               -0.5   \n",
       "3                        -1.118473                                0.0   \n",
       "4                         0.801897                                1.5   \n",
       "..                             ...                                ...   \n",
       "287                      -0.893563                               -1.0   \n",
       "288                       1.594554                                0.5   \n",
       "289                      -0.340648                                0.5   \n",
       "290                      -0.125463                               -1.0   \n",
       "291                      -0.359857                               -1.0   \n",
       "\n",
       "     numerical__numerical__OverallCond  numerical__numerical__YearBuilt  \\\n",
       "0                                  3.0                        -0.187500   \n",
       "1                                  0.0                         0.458333   \n",
       "2                                  1.0                        -0.937500   \n",
       "3                                  2.0                        -0.520833   \n",
       "4                                  0.0                         0.729167   \n",
       "..                                 ...                              ...   \n",
       "287                                2.0                        -0.729167   \n",
       "288                                0.0                         0.687500   \n",
       "289                                0.0                         0.687500   \n",
       "290                                0.0                        -0.666667   \n",
       "291                                2.0                        -0.041667   \n",
       "\n",
       "     numerical__numerical__YearRemodAdd  numerical__numerical__MasVnrArea  \\\n",
       "0                              0.236842                          0.000000   \n",
       "1                              0.026316                          2.180723   \n",
       "2                             -1.157895                          0.000000   \n",
       "3                             -1.157895                          0.000000   \n",
       "4                              0.368421                          0.421687   \n",
       "..                                  ...                               ...   \n",
       "287                            0.157895                          2.620482   \n",
       "288                            0.289474                          0.096386   \n",
       "289                            0.289474                          0.000000   \n",
       "290                           -1.157895                          0.000000   \n",
       "291                           -0.631579                          0.000000   \n",
       "\n",
       "     numerical__numerical__BsmtFinSF1  numerical__numerical__BsmtFinSF2  ...  \\\n",
       "0                            0.386269                               0.0  ...   \n",
       "1                            0.898058                               0.0  ...   \n",
       "2                           -0.533287                               0.0  ...   \n",
       "3                            0.020111                               0.0  ...   \n",
       "4                            0.884189                               0.0  ...   \n",
       "..                                ...                               ...  ...   \n",
       "287                         -0.300277                               0.0  ...   \n",
       "288                          1.233703                               0.0  ...   \n",
       "289                          0.365465                               0.0  ...   \n",
       "290                         -0.533287                               0.0  ...   \n",
       "291                         -0.268377                               0.0  ...   \n",
       "\n",
       "     categorical__categorical__SaleType_New  \\\n",
       "0                                       0.0   \n",
       "1                                       0.0   \n",
       "2                                       0.0   \n",
       "3                                       0.0   \n",
       "4                                       0.0   \n",
       "..                                      ...   \n",
       "287                                     0.0   \n",
       "288                                     0.0   \n",
       "289                                     0.0   \n",
       "290                                     0.0   \n",
       "291                                     0.0   \n",
       "\n",
       "     categorical__categorical__SaleType_Oth  \\\n",
       "0                                       0.0   \n",
       "1                                       0.0   \n",
       "2                                       0.0   \n",
       "3                                       0.0   \n",
       "4                                       0.0   \n",
       "..                                      ...   \n",
       "287                                     0.0   \n",
       "288                                     0.0   \n",
       "289                                     0.0   \n",
       "290                                     0.0   \n",
       "291                                     0.0   \n",
       "\n",
       "     categorical__categorical__SaleType_WD  \\\n",
       "0                                      1.0   \n",
       "1                                      1.0   \n",
       "2                                      1.0   \n",
       "3                                      1.0   \n",
       "4                                      1.0   \n",
       "..                                     ...   \n",
       "287                                    1.0   \n",
       "288                                    1.0   \n",
       "289                                    1.0   \n",
       "290                                    1.0   \n",
       "291                                    1.0   \n",
       "\n",
       "     categorical__categorical__SaleCondition_Abnorml  \\\n",
       "0                                                0.0   \n",
       "1                                                0.0   \n",
       "2                                                0.0   \n",
       "3                                                0.0   \n",
       "4                                                0.0   \n",
       "..                                               ...   \n",
       "287                                              0.0   \n",
       "288                                              0.0   \n",
       "289                                              0.0   \n",
       "290                                              0.0   \n",
       "291                                              0.0   \n",
       "\n",
       "     categorical__categorical__SaleCondition_AdjLand  \\\n",
       "0                                                0.0   \n",
       "1                                                0.0   \n",
       "2                                                0.0   \n",
       "3                                                0.0   \n",
       "4                                                0.0   \n",
       "..                                               ...   \n",
       "287                                              0.0   \n",
       "288                                              0.0   \n",
       "289                                              0.0   \n",
       "290                                              0.0   \n",
       "291                                              0.0   \n",
       "\n",
       "     categorical__categorical__SaleCondition_Alloca  \\\n",
       "0                                               0.0   \n",
       "1                                               0.0   \n",
       "2                                               0.0   \n",
       "3                                               0.0   \n",
       "4                                               0.0   \n",
       "..                                              ...   \n",
       "287                                             1.0   \n",
       "288                                             0.0   \n",
       "289                                             0.0   \n",
       "290                                             0.0   \n",
       "291                                             0.0   \n",
       "\n",
       "     categorical__categorical__SaleCondition_Family  \\\n",
       "0                                               0.0   \n",
       "1                                               0.0   \n",
       "2                                               0.0   \n",
       "3                                               0.0   \n",
       "4                                               0.0   \n",
       "..                                              ...   \n",
       "287                                             0.0   \n",
       "288                                             0.0   \n",
       "289                                             0.0   \n",
       "290                                             0.0   \n",
       "291                                             0.0   \n",
       "\n",
       "     categorical__categorical__SaleCondition_Normal  \\\n",
       "0                                               1.0   \n",
       "1                                               1.0   \n",
       "2                                               1.0   \n",
       "3                                               1.0   \n",
       "4                                               1.0   \n",
       "..                                              ...   \n",
       "287                                             0.0   \n",
       "288                                             1.0   \n",
       "289                                             1.0   \n",
       "290                                             1.0   \n",
       "291                                             1.0   \n",
       "\n",
       "     categorical__categorical__SaleCondition_Partial         y_pred  \n",
       "0                                                0.0  137533.376869  \n",
       "1                                                0.0  298351.239230  \n",
       "2                                                0.0  125230.692480  \n",
       "3                                                0.0  150395.898606  \n",
       "4                                                0.0  300085.203762  \n",
       "..                                               ...            ...  \n",
       "287                                              0.0  133248.157745  \n",
       "288                                              0.0  246826.675290  \n",
       "289                                              0.0  192437.386131  \n",
       "290                                              0.0  138356.199480  \n",
       "291                                              0.0  126708.713828  \n",
       "\n",
       "[292 rows x 267 columns]"
      ]
     },
     "execution_count": 29,
     "metadata": {},
     "output_type": "execute_result"
    }
   ],
   "source": [
    "prediction"
   ]
  },
  {
   "cell_type": "code",
   "execution_count": 113,
   "metadata": {},
   "outputs": [
    {
     "name": "stderr",
     "output_type": "stream",
     "text": [
      "c:\\Users\\leoal\\.virtualenvs\\mlops-nova-project-5FFhJkaC\\lib\\site-packages\\lightgbm\\basic.py:2065: UserWarning:\n",
      "\n",
      "Using categorical_feature in Dataset.\n",
      "\n",
      "c:\\Users\\leoal\\.virtualenvs\\mlops-nova-project-5FFhJkaC\\lib\\site-packages\\lightgbm\\basic.py:2065: UserWarning:\n",
      "\n",
      "Using categorical_feature in Dataset.\n",
      "\n",
      "c:\\Users\\leoal\\.virtualenvs\\mlops-nova-project-5FFhJkaC\\lib\\site-packages\\nannyml\\sampling_error\\regression.py:191: RuntimeWarning:\n",
      "\n",
      "invalid value encountered in double_scalars\n",
      "\n",
      "c:\\Users\\leoal\\.virtualenvs\\mlops-nova-project-5FFhJkaC\\lib\\site-packages\\nannyml\\sampling_error\\regression.py:230: RuntimeWarning:\n",
      "\n",
      "invalid value encountered in double_scalars\n",
      "\n",
      "c:\\Users\\leoal\\.virtualenvs\\mlops-nova-project-5FFhJkaC\\lib\\site-packages\\nannyml\\sampling_error\\regression.py:191: RuntimeWarning:\n",
      "\n",
      "invalid value encountered in double_scalars\n",
      "\n",
      "c:\\Users\\leoal\\.virtualenvs\\mlops-nova-project-5FFhJkaC\\lib\\site-packages\\nannyml\\sampling_error\\regression.py:230: RuntimeWarning:\n",
      "\n",
      "invalid value encountered in double_scalars\n",
      "\n",
      "c:\\Users\\leoal\\.virtualenvs\\mlops-nova-project-5FFhJkaC\\lib\\site-packages\\nannyml\\sampling_error\\regression.py:191: RuntimeWarning:\n",
      "\n",
      "invalid value encountered in double_scalars\n",
      "\n",
      "c:\\Users\\leoal\\.virtualenvs\\mlops-nova-project-5FFhJkaC\\lib\\site-packages\\nannyml\\sampling_error\\regression.py:230: RuntimeWarning:\n",
      "\n",
      "invalid value encountered in double_scalars\n",
      "\n",
      "c:\\Users\\leoal\\.virtualenvs\\mlops-nova-project-5FFhJkaC\\lib\\site-packages\\nannyml\\sampling_error\\regression.py:191: RuntimeWarning:\n",
      "\n",
      "invalid value encountered in double_scalars\n",
      "\n",
      "c:\\Users\\leoal\\.virtualenvs\\mlops-nova-project-5FFhJkaC\\lib\\site-packages\\nannyml\\sampling_error\\regression.py:230: RuntimeWarning:\n",
      "\n",
      "invalid value encountered in double_scalars\n",
      "\n",
      "c:\\Users\\leoal\\.virtualenvs\\mlops-nova-project-5FFhJkaC\\lib\\site-packages\\nannyml\\sampling_error\\regression.py:191: RuntimeWarning:\n",
      "\n",
      "invalid value encountered in double_scalars\n",
      "\n",
      "c:\\Users\\leoal\\.virtualenvs\\mlops-nova-project-5FFhJkaC\\lib\\site-packages\\nannyml\\sampling_error\\regression.py:230: RuntimeWarning:\n",
      "\n",
      "invalid value encountered in double_scalars\n",
      "\n",
      "c:\\Users\\leoal\\.virtualenvs\\mlops-nova-project-5FFhJkaC\\lib\\site-packages\\nannyml\\sampling_error\\regression.py:191: RuntimeWarning:\n",
      "\n",
      "invalid value encountered in double_scalars\n",
      "\n",
      "c:\\Users\\leoal\\.virtualenvs\\mlops-nova-project-5FFhJkaC\\lib\\site-packages\\nannyml\\sampling_error\\regression.py:230: RuntimeWarning:\n",
      "\n",
      "invalid value encountered in double_scalars\n",
      "\n",
      "c:\\Users\\leoal\\.virtualenvs\\mlops-nova-project-5FFhJkaC\\lib\\site-packages\\nannyml\\sampling_error\\regression.py:191: RuntimeWarning:\n",
      "\n",
      "invalid value encountered in double_scalars\n",
      "\n",
      "c:\\Users\\leoal\\.virtualenvs\\mlops-nova-project-5FFhJkaC\\lib\\site-packages\\nannyml\\sampling_error\\regression.py:230: RuntimeWarning:\n",
      "\n",
      "invalid value encountered in double_scalars\n",
      "\n",
      "c:\\Users\\leoal\\.virtualenvs\\mlops-nova-project-5FFhJkaC\\lib\\site-packages\\nannyml\\sampling_error\\regression.py:191: RuntimeWarning:\n",
      "\n",
      "invalid value encountered in double_scalars\n",
      "\n",
      "c:\\Users\\leoal\\.virtualenvs\\mlops-nova-project-5FFhJkaC\\lib\\site-packages\\nannyml\\sampling_error\\regression.py:230: RuntimeWarning:\n",
      "\n",
      "invalid value encountered in double_scalars\n",
      "\n",
      "c:\\Users\\leoal\\.virtualenvs\\mlops-nova-project-5FFhJkaC\\lib\\site-packages\\nannyml\\sampling_error\\regression.py:191: RuntimeWarning:\n",
      "\n",
      "invalid value encountered in double_scalars\n",
      "\n",
      "c:\\Users\\leoal\\.virtualenvs\\mlops-nova-project-5FFhJkaC\\lib\\site-packages\\nannyml\\sampling_error\\regression.py:230: RuntimeWarning:\n",
      "\n",
      "invalid value encountered in double_scalars\n",
      "\n",
      "c:\\Users\\leoal\\.virtualenvs\\mlops-nova-project-5FFhJkaC\\lib\\site-packages\\nannyml\\sampling_error\\regression.py:191: RuntimeWarning:\n",
      "\n",
      "invalid value encountered in double_scalars\n",
      "\n",
      "c:\\Users\\leoal\\.virtualenvs\\mlops-nova-project-5FFhJkaC\\lib\\site-packages\\nannyml\\sampling_error\\regression.py:230: RuntimeWarning:\n",
      "\n",
      "invalid value encountered in double_scalars\n",
      "\n",
      "c:\\Users\\leoal\\.virtualenvs\\mlops-nova-project-5FFhJkaC\\lib\\site-packages\\nannyml\\sampling_error\\regression.py:191: RuntimeWarning:\n",
      "\n",
      "invalid value encountered in double_scalars\n",
      "\n",
      "c:\\Users\\leoal\\.virtualenvs\\mlops-nova-project-5FFhJkaC\\lib\\site-packages\\nannyml\\sampling_error\\regression.py:230: RuntimeWarning:\n",
      "\n",
      "invalid value encountered in double_scalars\n",
      "\n",
      "c:\\Users\\leoal\\.virtualenvs\\mlops-nova-project-5FFhJkaC\\lib\\site-packages\\nannyml\\sampling_error\\regression.py:191: RuntimeWarning:\n",
      "\n",
      "invalid value encountered in double_scalars\n",
      "\n",
      "c:\\Users\\leoal\\.virtualenvs\\mlops-nova-project-5FFhJkaC\\lib\\site-packages\\nannyml\\sampling_error\\regression.py:230: RuntimeWarning:\n",
      "\n",
      "invalid value encountered in double_scalars\n",
      "\n",
      "c:\\Users\\leoal\\.virtualenvs\\mlops-nova-project-5FFhJkaC\\lib\\site-packages\\nannyml\\sampling_error\\regression.py:191: RuntimeWarning:\n",
      "\n",
      "invalid value encountered in double_scalars\n",
      "\n",
      "c:\\Users\\leoal\\.virtualenvs\\mlops-nova-project-5FFhJkaC\\lib\\site-packages\\nannyml\\sampling_error\\regression.py:230: RuntimeWarning:\n",
      "\n",
      "invalid value encountered in double_scalars\n",
      "\n",
      "c:\\Users\\leoal\\.virtualenvs\\mlops-nova-project-5FFhJkaC\\lib\\site-packages\\nannyml\\sampling_error\\regression.py:191: RuntimeWarning:\n",
      "\n",
      "invalid value encountered in double_scalars\n",
      "\n",
      "c:\\Users\\leoal\\.virtualenvs\\mlops-nova-project-5FFhJkaC\\lib\\site-packages\\nannyml\\sampling_error\\regression.py:230: RuntimeWarning:\n",
      "\n",
      "invalid value encountered in double_scalars\n",
      "\n",
      "c:\\Users\\leoal\\.virtualenvs\\mlops-nova-project-5FFhJkaC\\lib\\site-packages\\nannyml\\sampling_error\\regression.py:191: RuntimeWarning:\n",
      "\n",
      "invalid value encountered in double_scalars\n",
      "\n",
      "c:\\Users\\leoal\\.virtualenvs\\mlops-nova-project-5FFhJkaC\\lib\\site-packages\\nannyml\\sampling_error\\regression.py:230: RuntimeWarning:\n",
      "\n",
      "invalid value encountered in double_scalars\n",
      "\n",
      "c:\\Users\\leoal\\.virtualenvs\\mlops-nova-project-5FFhJkaC\\lib\\site-packages\\nannyml\\sampling_error\\regression.py:191: RuntimeWarning:\n",
      "\n",
      "invalid value encountered in double_scalars\n",
      "\n",
      "c:\\Users\\leoal\\.virtualenvs\\mlops-nova-project-5FFhJkaC\\lib\\site-packages\\nannyml\\sampling_error\\regression.py:230: RuntimeWarning:\n",
      "\n",
      "invalid value encountered in double_scalars\n",
      "\n",
      "c:\\Users\\leoal\\.virtualenvs\\mlops-nova-project-5FFhJkaC\\lib\\site-packages\\nannyml\\sampling_error\\regression.py:191: RuntimeWarning:\n",
      "\n",
      "invalid value encountered in double_scalars\n",
      "\n",
      "c:\\Users\\leoal\\.virtualenvs\\mlops-nova-project-5FFhJkaC\\lib\\site-packages\\nannyml\\sampling_error\\regression.py:230: RuntimeWarning:\n",
      "\n",
      "invalid value encountered in double_scalars\n",
      "\n",
      "c:\\Users\\leoal\\.virtualenvs\\mlops-nova-project-5FFhJkaC\\lib\\site-packages\\nannyml\\sampling_error\\regression.py:191: RuntimeWarning:\n",
      "\n",
      "invalid value encountered in double_scalars\n",
      "\n",
      "c:\\Users\\leoal\\.virtualenvs\\mlops-nova-project-5FFhJkaC\\lib\\site-packages\\nannyml\\sampling_error\\regression.py:230: RuntimeWarning:\n",
      "\n",
      "invalid value encountered in double_scalars\n",
      "\n",
      "c:\\Users\\leoal\\.virtualenvs\\mlops-nova-project-5FFhJkaC\\lib\\site-packages\\nannyml\\sampling_error\\regression.py:191: RuntimeWarning:\n",
      "\n",
      "invalid value encountered in double_scalars\n",
      "\n",
      "c:\\Users\\leoal\\.virtualenvs\\mlops-nova-project-5FFhJkaC\\lib\\site-packages\\nannyml\\sampling_error\\regression.py:230: RuntimeWarning:\n",
      "\n",
      "invalid value encountered in double_scalars\n",
      "\n",
      "c:\\Users\\leoal\\.virtualenvs\\mlops-nova-project-5FFhJkaC\\lib\\site-packages\\nannyml\\sampling_error\\regression.py:191: RuntimeWarning:\n",
      "\n",
      "invalid value encountered in double_scalars\n",
      "\n",
      "c:\\Users\\leoal\\.virtualenvs\\mlops-nova-project-5FFhJkaC\\lib\\site-packages\\nannyml\\sampling_error\\regression.py:230: RuntimeWarning:\n",
      "\n",
      "invalid value encountered in double_scalars\n",
      "\n"
     ]
    },
    {
     "data": {
      "text/html": [
       "<div>\n",
       "<style scoped>\n",
       "    .dataframe tbody tr th:only-of-type {\n",
       "        vertical-align: middle;\n",
       "    }\n",
       "\n",
       "    .dataframe tbody tr th {\n",
       "        vertical-align: top;\n",
       "    }\n",
       "\n",
       "    .dataframe thead tr th {\n",
       "        text-align: left;\n",
       "    }\n",
       "</style>\n",
       "<table border=\"1\" class=\"dataframe\">\n",
       "  <thead>\n",
       "    <tr>\n",
       "      <th></th>\n",
       "      <th colspan=\"7\" halign=\"left\">chunk</th>\n",
       "      <th colspan=\"6\" halign=\"left\">rmse</th>\n",
       "      <th colspan=\"8\" halign=\"left\">rmsle</th>\n",
       "    </tr>\n",
       "    <tr>\n",
       "      <th></th>\n",
       "      <th>key</th>\n",
       "      <th>chunk_index</th>\n",
       "      <th>start_index</th>\n",
       "      <th>end_index</th>\n",
       "      <th>start_date</th>\n",
       "      <th>end_date</th>\n",
       "      <th>period</th>\n",
       "      <th>sampling_error</th>\n",
       "      <th>realized</th>\n",
       "      <th>value</th>\n",
       "      <th>...</th>\n",
       "      <th>lower_threshold</th>\n",
       "      <th>alert</th>\n",
       "      <th>sampling_error</th>\n",
       "      <th>realized</th>\n",
       "      <th>value</th>\n",
       "      <th>upper_confidence_boundary</th>\n",
       "      <th>lower_confidence_boundary</th>\n",
       "      <th>upper_threshold</th>\n",
       "      <th>lower_threshold</th>\n",
       "      <th>alert</th>\n",
       "    </tr>\n",
       "  </thead>\n",
       "  <tbody>\n",
       "    <tr>\n",
       "      <th>0</th>\n",
       "      <td>[0:50]</td>\n",
       "      <td>0</td>\n",
       "      <td>0</td>\n",
       "      <td>50</td>\n",
       "      <td>2009-01-01</td>\n",
       "      <td>2009-04-01</td>\n",
       "      <td>analysis</td>\n",
       "      <td>NaN</td>\n",
       "      <td>0.0</td>\n",
       "      <td>0.0</td>\n",
       "      <td>...</td>\n",
       "      <td>0.0</td>\n",
       "      <td>False</td>\n",
       "      <td>NaN</td>\n",
       "      <td>0.0</td>\n",
       "      <td>0.0</td>\n",
       "      <td>NaN</td>\n",
       "      <td>0.0</td>\n",
       "      <td>0.0</td>\n",
       "      <td>0.0</td>\n",
       "      <td>False</td>\n",
       "    </tr>\n",
       "    <tr>\n",
       "      <th>1</th>\n",
       "      <td>[51:101]</td>\n",
       "      <td>1</td>\n",
       "      <td>51</td>\n",
       "      <td>101</td>\n",
       "      <td>2009-04-01</td>\n",
       "      <td>2009-05-01</td>\n",
       "      <td>analysis</td>\n",
       "      <td>NaN</td>\n",
       "      <td>0.0</td>\n",
       "      <td>0.0</td>\n",
       "      <td>...</td>\n",
       "      <td>0.0</td>\n",
       "      <td>False</td>\n",
       "      <td>NaN</td>\n",
       "      <td>0.0</td>\n",
       "      <td>0.0</td>\n",
       "      <td>NaN</td>\n",
       "      <td>0.0</td>\n",
       "      <td>0.0</td>\n",
       "      <td>0.0</td>\n",
       "      <td>False</td>\n",
       "    </tr>\n",
       "    <tr>\n",
       "      <th>2</th>\n",
       "      <td>[102:152]</td>\n",
       "      <td>2</td>\n",
       "      <td>102</td>\n",
       "      <td>152</td>\n",
       "      <td>2009-05-01</td>\n",
       "      <td>2009-06-01</td>\n",
       "      <td>analysis</td>\n",
       "      <td>NaN</td>\n",
       "      <td>0.0</td>\n",
       "      <td>0.0</td>\n",
       "      <td>...</td>\n",
       "      <td>0.0</td>\n",
       "      <td>False</td>\n",
       "      <td>NaN</td>\n",
       "      <td>0.0</td>\n",
       "      <td>0.0</td>\n",
       "      <td>NaN</td>\n",
       "      <td>0.0</td>\n",
       "      <td>0.0</td>\n",
       "      <td>0.0</td>\n",
       "      <td>False</td>\n",
       "    </tr>\n",
       "    <tr>\n",
       "      <th>3</th>\n",
       "      <td>[153:203]</td>\n",
       "      <td>3</td>\n",
       "      <td>153</td>\n",
       "      <td>203</td>\n",
       "      <td>2009-06-01</td>\n",
       "      <td>2009-07-01</td>\n",
       "      <td>analysis</td>\n",
       "      <td>NaN</td>\n",
       "      <td>0.0</td>\n",
       "      <td>0.0</td>\n",
       "      <td>...</td>\n",
       "      <td>0.0</td>\n",
       "      <td>False</td>\n",
       "      <td>NaN</td>\n",
       "      <td>0.0</td>\n",
       "      <td>0.0</td>\n",
       "      <td>NaN</td>\n",
       "      <td>0.0</td>\n",
       "      <td>0.0</td>\n",
       "      <td>0.0</td>\n",
       "      <td>False</td>\n",
       "    </tr>\n",
       "    <tr>\n",
       "      <th>4</th>\n",
       "      <td>[204:254]</td>\n",
       "      <td>4</td>\n",
       "      <td>204</td>\n",
       "      <td>254</td>\n",
       "      <td>2009-07-01</td>\n",
       "      <td>2009-09-01</td>\n",
       "      <td>analysis</td>\n",
       "      <td>NaN</td>\n",
       "      <td>0.0</td>\n",
       "      <td>0.0</td>\n",
       "      <td>...</td>\n",
       "      <td>0.0</td>\n",
       "      <td>False</td>\n",
       "      <td>NaN</td>\n",
       "      <td>0.0</td>\n",
       "      <td>0.0</td>\n",
       "      <td>NaN</td>\n",
       "      <td>0.0</td>\n",
       "      <td>0.0</td>\n",
       "      <td>0.0</td>\n",
       "      <td>False</td>\n",
       "    </tr>\n",
       "    <tr>\n",
       "      <th>5</th>\n",
       "      <td>[255:305]</td>\n",
       "      <td>5</td>\n",
       "      <td>255</td>\n",
       "      <td>305</td>\n",
       "      <td>2009-09-01</td>\n",
       "      <td>2009-11-01</td>\n",
       "      <td>analysis</td>\n",
       "      <td>NaN</td>\n",
       "      <td>0.0</td>\n",
       "      <td>0.0</td>\n",
       "      <td>...</td>\n",
       "      <td>0.0</td>\n",
       "      <td>False</td>\n",
       "      <td>NaN</td>\n",
       "      <td>0.0</td>\n",
       "      <td>0.0</td>\n",
       "      <td>NaN</td>\n",
       "      <td>0.0</td>\n",
       "      <td>0.0</td>\n",
       "      <td>0.0</td>\n",
       "      <td>False</td>\n",
       "    </tr>\n",
       "    <tr>\n",
       "      <th>6</th>\n",
       "      <td>[306:356]</td>\n",
       "      <td>6</td>\n",
       "      <td>306</td>\n",
       "      <td>356</td>\n",
       "      <td>2009-11-01</td>\n",
       "      <td>2010-02-01</td>\n",
       "      <td>analysis</td>\n",
       "      <td>NaN</td>\n",
       "      <td>0.0</td>\n",
       "      <td>0.0</td>\n",
       "      <td>...</td>\n",
       "      <td>0.0</td>\n",
       "      <td>False</td>\n",
       "      <td>NaN</td>\n",
       "      <td>0.0</td>\n",
       "      <td>0.0</td>\n",
       "      <td>NaN</td>\n",
       "      <td>0.0</td>\n",
       "      <td>0.0</td>\n",
       "      <td>0.0</td>\n",
       "      <td>False</td>\n",
       "    </tr>\n",
       "    <tr>\n",
       "      <th>7</th>\n",
       "      <td>[357:407]</td>\n",
       "      <td>7</td>\n",
       "      <td>357</td>\n",
       "      <td>407</td>\n",
       "      <td>2010-02-01</td>\n",
       "      <td>2010-04-01</td>\n",
       "      <td>analysis</td>\n",
       "      <td>NaN</td>\n",
       "      <td>0.0</td>\n",
       "      <td>0.0</td>\n",
       "      <td>...</td>\n",
       "      <td>0.0</td>\n",
       "      <td>False</td>\n",
       "      <td>NaN</td>\n",
       "      <td>0.0</td>\n",
       "      <td>0.0</td>\n",
       "      <td>NaN</td>\n",
       "      <td>0.0</td>\n",
       "      <td>0.0</td>\n",
       "      <td>0.0</td>\n",
       "      <td>False</td>\n",
       "    </tr>\n",
       "    <tr>\n",
       "      <th>8</th>\n",
       "      <td>[408:458]</td>\n",
       "      <td>8</td>\n",
       "      <td>408</td>\n",
       "      <td>458</td>\n",
       "      <td>2010-04-01</td>\n",
       "      <td>2010-05-01</td>\n",
       "      <td>analysis</td>\n",
       "      <td>NaN</td>\n",
       "      <td>0.0</td>\n",
       "      <td>0.0</td>\n",
       "      <td>...</td>\n",
       "      <td>0.0</td>\n",
       "      <td>False</td>\n",
       "      <td>NaN</td>\n",
       "      <td>0.0</td>\n",
       "      <td>0.0</td>\n",
       "      <td>NaN</td>\n",
       "      <td>0.0</td>\n",
       "      <td>0.0</td>\n",
       "      <td>0.0</td>\n",
       "      <td>False</td>\n",
       "    </tr>\n",
       "    <tr>\n",
       "      <th>9</th>\n",
       "      <td>[510:509]</td>\n",
       "      <td>9</td>\n",
       "      <td>459</td>\n",
       "      <td>512</td>\n",
       "      <td>2010-07-01</td>\n",
       "      <td>2010-07-01</td>\n",
       "      <td>analysis</td>\n",
       "      <td>NaN</td>\n",
       "      <td>0.0</td>\n",
       "      <td>0.0</td>\n",
       "      <td>...</td>\n",
       "      <td>0.0</td>\n",
       "      <td>False</td>\n",
       "      <td>NaN</td>\n",
       "      <td>0.0</td>\n",
       "      <td>0.0</td>\n",
       "      <td>NaN</td>\n",
       "      <td>0.0</td>\n",
       "      <td>0.0</td>\n",
       "      <td>0.0</td>\n",
       "      <td>False</td>\n",
       "    </tr>\n",
       "  </tbody>\n",
       "</table>\n",
       "<p>10 rows × 23 columns</p>\n",
       "</div>"
      ],
      "text/plain": [
       "       chunk                                                          \\\n",
       "         key chunk_index start_index end_index start_date   end_date   \n",
       "0     [0:50]           0           0        50 2009-01-01 2009-04-01   \n",
       "1   [51:101]           1          51       101 2009-04-01 2009-05-01   \n",
       "2  [102:152]           2         102       152 2009-05-01 2009-06-01   \n",
       "3  [153:203]           3         153       203 2009-06-01 2009-07-01   \n",
       "4  [204:254]           4         204       254 2009-07-01 2009-09-01   \n",
       "5  [255:305]           5         255       305 2009-09-01 2009-11-01   \n",
       "6  [306:356]           6         306       356 2009-11-01 2010-02-01   \n",
       "7  [357:407]           7         357       407 2010-02-01 2010-04-01   \n",
       "8  [408:458]           8         408       458 2010-04-01 2010-05-01   \n",
       "9  [510:509]           9         459       512 2010-07-01 2010-07-01   \n",
       "\n",
       "                      rmse                 ...                         \\\n",
       "     period sampling_error realized value  ... lower_threshold  alert   \n",
       "0  analysis            NaN      0.0   0.0  ...             0.0  False   \n",
       "1  analysis            NaN      0.0   0.0  ...             0.0  False   \n",
       "2  analysis            NaN      0.0   0.0  ...             0.0  False   \n",
       "3  analysis            NaN      0.0   0.0  ...             0.0  False   \n",
       "4  analysis            NaN      0.0   0.0  ...             0.0  False   \n",
       "5  analysis            NaN      0.0   0.0  ...             0.0  False   \n",
       "6  analysis            NaN      0.0   0.0  ...             0.0  False   \n",
       "7  analysis            NaN      0.0   0.0  ...             0.0  False   \n",
       "8  analysis            NaN      0.0   0.0  ...             0.0  False   \n",
       "9  analysis            NaN      0.0   0.0  ...             0.0  False   \n",
       "\n",
       "           rmsle                                           \\\n",
       "  sampling_error realized value upper_confidence_boundary   \n",
       "0            NaN      0.0   0.0                       NaN   \n",
       "1            NaN      0.0   0.0                       NaN   \n",
       "2            NaN      0.0   0.0                       NaN   \n",
       "3            NaN      0.0   0.0                       NaN   \n",
       "4            NaN      0.0   0.0                       NaN   \n",
       "5            NaN      0.0   0.0                       NaN   \n",
       "6            NaN      0.0   0.0                       NaN   \n",
       "7            NaN      0.0   0.0                       NaN   \n",
       "8            NaN      0.0   0.0                       NaN   \n",
       "9            NaN      0.0   0.0                       NaN   \n",
       "\n",
       "                                                                    \n",
       "  lower_confidence_boundary upper_threshold lower_threshold  alert  \n",
       "0                       0.0             0.0             0.0  False  \n",
       "1                       0.0             0.0             0.0  False  \n",
       "2                       0.0             0.0             0.0  False  \n",
       "3                       0.0             0.0             0.0  False  \n",
       "4                       0.0             0.0             0.0  False  \n",
       "5                       0.0             0.0             0.0  False  \n",
       "6                       0.0             0.0             0.0  False  \n",
       "7                       0.0             0.0             0.0  False  \n",
       "8                       0.0             0.0             0.0  False  \n",
       "9                       0.0             0.0             0.0  False  \n",
       "\n",
       "[10 rows x 23 columns]"
      ]
     },
     "metadata": {},
     "output_type": "display_data"
    },
    {
     "data": {
      "text/html": [
       "<div>\n",
       "<style scoped>\n",
       "    .dataframe tbody tr th:only-of-type {\n",
       "        vertical-align: middle;\n",
       "    }\n",
       "\n",
       "    .dataframe tbody tr th {\n",
       "        vertical-align: top;\n",
       "    }\n",
       "\n",
       "    .dataframe thead tr th {\n",
       "        text-align: left;\n",
       "    }\n",
       "</style>\n",
       "<table border=\"1\" class=\"dataframe\">\n",
       "  <thead>\n",
       "    <tr>\n",
       "      <th></th>\n",
       "      <th colspan=\"7\" halign=\"left\">chunk</th>\n",
       "      <th colspan=\"6\" halign=\"left\">rmse</th>\n",
       "      <th colspan=\"8\" halign=\"left\">rmsle</th>\n",
       "    </tr>\n",
       "    <tr>\n",
       "      <th></th>\n",
       "      <th>key</th>\n",
       "      <th>chunk_index</th>\n",
       "      <th>start_index</th>\n",
       "      <th>end_index</th>\n",
       "      <th>start_date</th>\n",
       "      <th>end_date</th>\n",
       "      <th>period</th>\n",
       "      <th>sampling_error</th>\n",
       "      <th>realized</th>\n",
       "      <th>value</th>\n",
       "      <th>...</th>\n",
       "      <th>lower_threshold</th>\n",
       "      <th>alert</th>\n",
       "      <th>sampling_error</th>\n",
       "      <th>realized</th>\n",
       "      <th>value</th>\n",
       "      <th>upper_confidence_boundary</th>\n",
       "      <th>lower_confidence_boundary</th>\n",
       "      <th>upper_threshold</th>\n",
       "      <th>lower_threshold</th>\n",
       "      <th>alert</th>\n",
       "    </tr>\n",
       "  </thead>\n",
       "  <tbody>\n",
       "    <tr>\n",
       "      <th>0</th>\n",
       "      <td>[0:62]</td>\n",
       "      <td>0</td>\n",
       "      <td>0</td>\n",
       "      <td>62</td>\n",
       "      <td>2007-01-01</td>\n",
       "      <td>2007-04-01</td>\n",
       "      <td>reference</td>\n",
       "      <td>NaN</td>\n",
       "      <td>0.0</td>\n",
       "      <td>0.0</td>\n",
       "      <td>...</td>\n",
       "      <td>0.0</td>\n",
       "      <td>False</td>\n",
       "      <td>NaN</td>\n",
       "      <td>0.0</td>\n",
       "      <td>0.0</td>\n",
       "      <td>NaN</td>\n",
       "      <td>0.0</td>\n",
       "      <td>0.0</td>\n",
       "      <td>0.0</td>\n",
       "      <td>False</td>\n",
       "    </tr>\n",
       "    <tr>\n",
       "      <th>1</th>\n",
       "      <td>[63:125]</td>\n",
       "      <td>1</td>\n",
       "      <td>63</td>\n",
       "      <td>125</td>\n",
       "      <td>2007-04-01</td>\n",
       "      <td>2007-06-01</td>\n",
       "      <td>reference</td>\n",
       "      <td>NaN</td>\n",
       "      <td>0.0</td>\n",
       "      <td>0.0</td>\n",
       "      <td>...</td>\n",
       "      <td>0.0</td>\n",
       "      <td>False</td>\n",
       "      <td>NaN</td>\n",
       "      <td>0.0</td>\n",
       "      <td>0.0</td>\n",
       "      <td>NaN</td>\n",
       "      <td>0.0</td>\n",
       "      <td>0.0</td>\n",
       "      <td>0.0</td>\n",
       "      <td>False</td>\n",
       "    </tr>\n",
       "    <tr>\n",
       "      <th>2</th>\n",
       "      <td>[126:188]</td>\n",
       "      <td>2</td>\n",
       "      <td>126</td>\n",
       "      <td>188</td>\n",
       "      <td>2007-06-01</td>\n",
       "      <td>2007-07-01</td>\n",
       "      <td>reference</td>\n",
       "      <td>NaN</td>\n",
       "      <td>0.0</td>\n",
       "      <td>0.0</td>\n",
       "      <td>...</td>\n",
       "      <td>0.0</td>\n",
       "      <td>False</td>\n",
       "      <td>NaN</td>\n",
       "      <td>0.0</td>\n",
       "      <td>0.0</td>\n",
       "      <td>NaN</td>\n",
       "      <td>0.0</td>\n",
       "      <td>0.0</td>\n",
       "      <td>0.0</td>\n",
       "      <td>False</td>\n",
       "    </tr>\n",
       "    <tr>\n",
       "      <th>3</th>\n",
       "      <td>[189:251]</td>\n",
       "      <td>3</td>\n",
       "      <td>189</td>\n",
       "      <td>251</td>\n",
       "      <td>2007-07-01</td>\n",
       "      <td>2007-08-01</td>\n",
       "      <td>reference</td>\n",
       "      <td>NaN</td>\n",
       "      <td>0.0</td>\n",
       "      <td>0.0</td>\n",
       "      <td>...</td>\n",
       "      <td>0.0</td>\n",
       "      <td>False</td>\n",
       "      <td>NaN</td>\n",
       "      <td>0.0</td>\n",
       "      <td>0.0</td>\n",
       "      <td>NaN</td>\n",
       "      <td>0.0</td>\n",
       "      <td>0.0</td>\n",
       "      <td>0.0</td>\n",
       "      <td>False</td>\n",
       "    </tr>\n",
       "    <tr>\n",
       "      <th>4</th>\n",
       "      <td>[252:314]</td>\n",
       "      <td>4</td>\n",
       "      <td>252</td>\n",
       "      <td>314</td>\n",
       "      <td>2007-08-01</td>\n",
       "      <td>2007-12-01</td>\n",
       "      <td>reference</td>\n",
       "      <td>NaN</td>\n",
       "      <td>0.0</td>\n",
       "      <td>0.0</td>\n",
       "      <td>...</td>\n",
       "      <td>0.0</td>\n",
       "      <td>False</td>\n",
       "      <td>NaN</td>\n",
       "      <td>0.0</td>\n",
       "      <td>0.0</td>\n",
       "      <td>NaN</td>\n",
       "      <td>0.0</td>\n",
       "      <td>0.0</td>\n",
       "      <td>0.0</td>\n",
       "      <td>False</td>\n",
       "    </tr>\n",
       "    <tr>\n",
       "      <th>5</th>\n",
       "      <td>[315:377]</td>\n",
       "      <td>5</td>\n",
       "      <td>315</td>\n",
       "      <td>377</td>\n",
       "      <td>2007-12-01</td>\n",
       "      <td>2008-04-01</td>\n",
       "      <td>reference</td>\n",
       "      <td>NaN</td>\n",
       "      <td>0.0</td>\n",
       "      <td>0.0</td>\n",
       "      <td>...</td>\n",
       "      <td>0.0</td>\n",
       "      <td>False</td>\n",
       "      <td>NaN</td>\n",
       "      <td>0.0</td>\n",
       "      <td>0.0</td>\n",
       "      <td>NaN</td>\n",
       "      <td>0.0</td>\n",
       "      <td>0.0</td>\n",
       "      <td>0.0</td>\n",
       "      <td>False</td>\n",
       "    </tr>\n",
       "    <tr>\n",
       "      <th>6</th>\n",
       "      <td>[378:440]</td>\n",
       "      <td>6</td>\n",
       "      <td>378</td>\n",
       "      <td>440</td>\n",
       "      <td>2008-04-01</td>\n",
       "      <td>2008-06-01</td>\n",
       "      <td>reference</td>\n",
       "      <td>NaN</td>\n",
       "      <td>0.0</td>\n",
       "      <td>0.0</td>\n",
       "      <td>...</td>\n",
       "      <td>0.0</td>\n",
       "      <td>False</td>\n",
       "      <td>NaN</td>\n",
       "      <td>0.0</td>\n",
       "      <td>0.0</td>\n",
       "      <td>NaN</td>\n",
       "      <td>0.0</td>\n",
       "      <td>0.0</td>\n",
       "      <td>0.0</td>\n",
       "      <td>False</td>\n",
       "    </tr>\n",
       "    <tr>\n",
       "      <th>7</th>\n",
       "      <td>[441:503]</td>\n",
       "      <td>7</td>\n",
       "      <td>441</td>\n",
       "      <td>503</td>\n",
       "      <td>2008-06-01</td>\n",
       "      <td>2008-07-01</td>\n",
       "      <td>reference</td>\n",
       "      <td>NaN</td>\n",
       "      <td>0.0</td>\n",
       "      <td>0.0</td>\n",
       "      <td>...</td>\n",
       "      <td>0.0</td>\n",
       "      <td>False</td>\n",
       "      <td>NaN</td>\n",
       "      <td>0.0</td>\n",
       "      <td>0.0</td>\n",
       "      <td>NaN</td>\n",
       "      <td>0.0</td>\n",
       "      <td>0.0</td>\n",
       "      <td>0.0</td>\n",
       "      <td>False</td>\n",
       "    </tr>\n",
       "    <tr>\n",
       "      <th>8</th>\n",
       "      <td>[504:566]</td>\n",
       "      <td>8</td>\n",
       "      <td>504</td>\n",
       "      <td>566</td>\n",
       "      <td>2008-07-01</td>\n",
       "      <td>2008-09-01</td>\n",
       "      <td>reference</td>\n",
       "      <td>NaN</td>\n",
       "      <td>0.0</td>\n",
       "      <td>0.0</td>\n",
       "      <td>...</td>\n",
       "      <td>0.0</td>\n",
       "      <td>False</td>\n",
       "      <td>NaN</td>\n",
       "      <td>0.0</td>\n",
       "      <td>0.0</td>\n",
       "      <td>NaN</td>\n",
       "      <td>0.0</td>\n",
       "      <td>0.0</td>\n",
       "      <td>0.0</td>\n",
       "      <td>False</td>\n",
       "    </tr>\n",
       "    <tr>\n",
       "      <th>9</th>\n",
       "      <td>[630:629]</td>\n",
       "      <td>9</td>\n",
       "      <td>567</td>\n",
       "      <td>632</td>\n",
       "      <td>2008-12-01</td>\n",
       "      <td>2008-12-01</td>\n",
       "      <td>reference</td>\n",
       "      <td>NaN</td>\n",
       "      <td>0.0</td>\n",
       "      <td>0.0</td>\n",
       "      <td>...</td>\n",
       "      <td>0.0</td>\n",
       "      <td>False</td>\n",
       "      <td>NaN</td>\n",
       "      <td>0.0</td>\n",
       "      <td>0.0</td>\n",
       "      <td>NaN</td>\n",
       "      <td>0.0</td>\n",
       "      <td>0.0</td>\n",
       "      <td>0.0</td>\n",
       "      <td>False</td>\n",
       "    </tr>\n",
       "  </tbody>\n",
       "</table>\n",
       "<p>10 rows × 23 columns</p>\n",
       "</div>"
      ],
      "text/plain": [
       "       chunk                                                          \\\n",
       "         key chunk_index start_index end_index start_date   end_date   \n",
       "0     [0:62]           0           0        62 2007-01-01 2007-04-01   \n",
       "1   [63:125]           1          63       125 2007-04-01 2007-06-01   \n",
       "2  [126:188]           2         126       188 2007-06-01 2007-07-01   \n",
       "3  [189:251]           3         189       251 2007-07-01 2007-08-01   \n",
       "4  [252:314]           4         252       314 2007-08-01 2007-12-01   \n",
       "5  [315:377]           5         315       377 2007-12-01 2008-04-01   \n",
       "6  [378:440]           6         378       440 2008-04-01 2008-06-01   \n",
       "7  [441:503]           7         441       503 2008-06-01 2008-07-01   \n",
       "8  [504:566]           8         504       566 2008-07-01 2008-09-01   \n",
       "9  [630:629]           9         567       632 2008-12-01 2008-12-01   \n",
       "\n",
       "                       rmse                 ...                         \\\n",
       "      period sampling_error realized value  ... lower_threshold  alert   \n",
       "0  reference            NaN      0.0   0.0  ...             0.0  False   \n",
       "1  reference            NaN      0.0   0.0  ...             0.0  False   \n",
       "2  reference            NaN      0.0   0.0  ...             0.0  False   \n",
       "3  reference            NaN      0.0   0.0  ...             0.0  False   \n",
       "4  reference            NaN      0.0   0.0  ...             0.0  False   \n",
       "5  reference            NaN      0.0   0.0  ...             0.0  False   \n",
       "6  reference            NaN      0.0   0.0  ...             0.0  False   \n",
       "7  reference            NaN      0.0   0.0  ...             0.0  False   \n",
       "8  reference            NaN      0.0   0.0  ...             0.0  False   \n",
       "9  reference            NaN      0.0   0.0  ...             0.0  False   \n",
       "\n",
       "           rmsle                                           \\\n",
       "  sampling_error realized value upper_confidence_boundary   \n",
       "0            NaN      0.0   0.0                       NaN   \n",
       "1            NaN      0.0   0.0                       NaN   \n",
       "2            NaN      0.0   0.0                       NaN   \n",
       "3            NaN      0.0   0.0                       NaN   \n",
       "4            NaN      0.0   0.0                       NaN   \n",
       "5            NaN      0.0   0.0                       NaN   \n",
       "6            NaN      0.0   0.0                       NaN   \n",
       "7            NaN      0.0   0.0                       NaN   \n",
       "8            NaN      0.0   0.0                       NaN   \n",
       "9            NaN      0.0   0.0                       NaN   \n",
       "\n",
       "                                                                    \n",
       "  lower_confidence_boundary upper_threshold lower_threshold  alert  \n",
       "0                       0.0             0.0             0.0  False  \n",
       "1                       0.0             0.0             0.0  False  \n",
       "2                       0.0             0.0             0.0  False  \n",
       "3                       0.0             0.0             0.0  False  \n",
       "4                       0.0             0.0             0.0  False  \n",
       "5                       0.0             0.0             0.0  False  \n",
       "6                       0.0             0.0             0.0  False  \n",
       "7                       0.0             0.0             0.0  False  \n",
       "8                       0.0             0.0             0.0  False  \n",
       "9                       0.0             0.0             0.0  False  \n",
       "\n",
       "[10 rows x 23 columns]"
      ]
     },
     "metadata": {},
     "output_type": "display_data"
    },
    {
     "data": {
      "application/vnd.plotly.v1+json": {
       "config": {
        "plotlyServerURL": "https://plot.ly"
       },
       "data": [
        {
         "hoverinfo": "skip",
         "legendgroup": "metric_reference",
         "line": {
          "color": "#3b0280",
          "dash": "dash",
          "shape": "hv",
          "width": 2
         },
         "mode": "lines",
         "name": "Metric",
         "showlegend": true,
         "type": "scatter",
         "x": [
          "2007-01-01T00:00:00",
          "2007-04-01T00:00:00",
          "2007-06-01T00:00:00",
          "2007-07-01T00:00:00",
          "2007-08-01T00:00:00",
          "2007-12-01T00:00:00",
          "2008-04-01T00:00:00",
          "2008-06-01T00:00:00",
          "2008-07-01T00:00:00",
          "2008-12-01T00:00:00",
          "2008-12-01T00:00:00"
         ],
         "xaxis": "x",
         "y": [
          0,
          0,
          0,
          0,
          0,
          0,
          0,
          0,
          0,
          0,
          0
         ],
         "yaxis": "y"
        },
        {
         "customdata": [
          [
           "Estimated <b>RMSE</b>",
           "<b style=\"color:#3b0280;line-height:60px\">Reference</b>",
           "",
           "[0:62]",
           "From <b>Jan-01-2007</b> to <b>Apr-01-2007</b>",
           0,
           null
          ],
          [
           "Estimated <b>RMSE</b>",
           "<b style=\"color:#3b0280;line-height:60px\">Reference</b>",
           "",
           "[63:125]",
           "From <b>Apr-01-2007</b> to <b>Jun-01-2007</b>",
           0,
           null
          ],
          [
           "Estimated <b>RMSE</b>",
           "<b style=\"color:#3b0280;line-height:60px\">Reference</b>",
           "",
           "[126:188]",
           "From <b>Jun-01-2007</b> to <b>Jul-01-2007</b>",
           0,
           null
          ],
          [
           "Estimated <b>RMSE</b>",
           "<b style=\"color:#3b0280;line-height:60px\">Reference</b>",
           "",
           "[189:251]",
           "From <b>Jul-01-2007</b> to <b>Aug-01-2007</b>",
           0,
           null
          ],
          [
           "Estimated <b>RMSE</b>",
           "<b style=\"color:#3b0280;line-height:60px\">Reference</b>",
           "",
           "[252:314]",
           "From <b>Aug-01-2007</b> to <b>Dec-01-2007</b>",
           0,
           null
          ],
          [
           "Estimated <b>RMSE</b>",
           "<b style=\"color:#3b0280;line-height:60px\">Reference</b>",
           "",
           "[315:377]",
           "From <b>Dec-01-2007</b> to <b>Apr-01-2008</b>",
           0,
           null
          ],
          [
           "Estimated <b>RMSE</b>",
           "<b style=\"color:#3b0280;line-height:60px\">Reference</b>",
           "",
           "[378:440]",
           "From <b>Apr-01-2008</b> to <b>Jun-01-2008</b>",
           0,
           null
          ],
          [
           "Estimated <b>RMSE</b>",
           "<b style=\"color:#3b0280;line-height:60px\">Reference</b>",
           "",
           "[441:503]",
           "From <b>Jun-01-2008</b> to <b>Jul-01-2008</b>",
           0,
           null
          ],
          [
           "Estimated <b>RMSE</b>",
           "<b style=\"color:#3b0280;line-height:60px\">Reference</b>",
           "",
           "[504:566]",
           "From <b>Jul-01-2008</b> to <b>Sep-01-2008</b>",
           0,
           null
          ],
          [
           "Estimated <b>RMSE</b>",
           "<b style=\"color:#3b0280;line-height:60px\">Reference</b>",
           "",
           "[630:629]",
           "From <b>Dec-01-2008</b> to <b>Dec-01-2008</b>",
           0,
           null
          ]
         ],
         "hovertemplate": "%{customdata[1]} &nbsp; &nbsp; %{customdata[2]} <br />Chunk: <b>%{customdata[3]}</b> &nbsp; &nbsp; %{customdata[4]} <br />%{customdata[0]}: <b>%{customdata[5]}</b><br />Confidence band: +/- <b>%{customdata[6]}</b><br /><extra></extra>",
         "legendgroup": "metric_reference",
         "line": {
          "dash": "dash"
         },
         "marker": {
          "color": "#3b0280",
          "size": 5,
          "symbol": "circle"
         },
         "mode": "markers",
         "name": "Metric",
         "showlegend": false,
         "type": "scatter",
         "x": [
          "2007-02-15T00:00:00",
          "2007-05-01T12:00:00",
          "2007-06-16T00:00:00",
          "2007-07-16T12:00:00",
          "2007-10-01T00:00:00",
          "2008-01-31T00:00:00",
          "2008-05-01T12:00:00",
          "2008-06-16T00:00:00",
          "2008-09-15T12:00:00",
          "2008-12-01T00:00:00"
         ],
         "xaxis": "x",
         "y": [
          0,
          0,
          0,
          0,
          0,
          0,
          0,
          0,
          0,
          0,
          0
         ],
         "yaxis": "y"
        },
        {
         "hoverinfo": "skip",
         "legendgroup": "metric_analysis",
         "line": {
          "color": "#3b0280",
          "dash": "dash",
          "shape": "hv",
          "width": 2
         },
         "mode": "lines",
         "name": "Metric",
         "showlegend": false,
         "type": "scatter",
         "x": [
          "2009-01-01T00:00:00",
          "2009-04-01T00:00:00",
          "2009-05-01T00:00:00",
          "2009-06-01T00:00:00",
          "2009-07-01T00:00:00",
          "2009-09-01T00:00:00",
          "2009-11-01T00:00:00",
          "2010-02-01T00:00:00",
          "2010-04-01T00:00:00",
          "2010-07-01T00:00:00",
          "2010-07-01T00:00:00"
         ],
         "xaxis": "x",
         "y": [
          0,
          0,
          0,
          0,
          0,
          0,
          0,
          0,
          0,
          0,
          0
         ],
         "yaxis": "y"
        },
        {
         "customdata": [
          [
           "Estimated <b>RMSE</b>",
           "<b style=\"color:#3b0280;line-height:60px\">Analysis</b>",
           "",
           "[0:50]",
           "From <b>Jan-01-2009</b> to <b>Apr-01-2009</b>",
           0,
           null
          ],
          [
           "Estimated <b>RMSE</b>",
           "<b style=\"color:#3b0280;line-height:60px\">Analysis</b>",
           "",
           "[51:101]",
           "From <b>Apr-01-2009</b> to <b>May-01-2009</b>",
           0,
           null
          ],
          [
           "Estimated <b>RMSE</b>",
           "<b style=\"color:#3b0280;line-height:60px\">Analysis</b>",
           "",
           "[102:152]",
           "From <b>May-01-2009</b> to <b>Jun-01-2009</b>",
           0,
           null
          ],
          [
           "Estimated <b>RMSE</b>",
           "<b style=\"color:#3b0280;line-height:60px\">Analysis</b>",
           "",
           "[153:203]",
           "From <b>Jun-01-2009</b> to <b>Jul-01-2009</b>",
           0,
           null
          ],
          [
           "Estimated <b>RMSE</b>",
           "<b style=\"color:#3b0280;line-height:60px\">Analysis</b>",
           "",
           "[204:254]",
           "From <b>Jul-01-2009</b> to <b>Sep-01-2009</b>",
           0,
           null
          ],
          [
           "Estimated <b>RMSE</b>",
           "<b style=\"color:#3b0280;line-height:60px\">Analysis</b>",
           "",
           "[255:305]",
           "From <b>Sep-01-2009</b> to <b>Nov-01-2009</b>",
           0,
           null
          ],
          [
           "Estimated <b>RMSE</b>",
           "<b style=\"color:#3b0280;line-height:60px\">Analysis</b>",
           "",
           "[306:356]",
           "From <b>Nov-01-2009</b> to <b>Feb-01-2010</b>",
           0,
           null
          ],
          [
           "Estimated <b>RMSE</b>",
           "<b style=\"color:#3b0280;line-height:60px\">Analysis</b>",
           "",
           "[357:407]",
           "From <b>Feb-01-2010</b> to <b>Apr-01-2010</b>",
           0,
           null
          ],
          [
           "Estimated <b>RMSE</b>",
           "<b style=\"color:#3b0280;line-height:60px\">Analysis</b>",
           "",
           "[408:458]",
           "From <b>Apr-01-2010</b> to <b>May-01-2010</b>",
           0,
           null
          ],
          [
           "Estimated <b>RMSE</b>",
           "<b style=\"color:#3b0280;line-height:60px\">Analysis</b>",
           "",
           "[510:509]",
           "From <b>Jul-01-2010</b> to <b>Jul-01-2010</b>",
           0,
           null
          ]
         ],
         "hovertemplate": "%{customdata[1]} &nbsp; &nbsp; %{customdata[2]} <br />Chunk: <b>%{customdata[3]}</b> &nbsp; &nbsp; %{customdata[4]} <br />%{customdata[0]}: <b>%{customdata[5]}</b><br />Confidence band: +/- <b>%{customdata[6]}</b><br /><extra></extra>",
         "legendgroup": "metric_analysis",
         "line": {
          "dash": "dash"
         },
         "marker": {
          "color": "#3b0280",
          "size": 5,
          "symbol": "circle"
         },
         "mode": "markers",
         "name": "Metric",
         "showlegend": false,
         "type": "scatter",
         "x": [
          "2009-02-15T00:00:00",
          "2009-04-16T00:00:00",
          "2009-05-16T12:00:00",
          "2009-06-16T00:00:00",
          "2009-08-01T00:00:00",
          "2009-10-01T12:00:00",
          "2009-12-17T00:00:00",
          "2010-03-02T12:00:00",
          "2010-05-16T12:00:00",
          "2010-07-01T00:00:00"
         ],
         "xaxis": "x",
         "y": [
          0,
          0,
          0,
          0,
          0,
          0,
          0,
          0,
          0,
          0,
          0
         ],
         "yaxis": "y"
        },
        {
         "hoverinfo": "skip",
         "legendgroup": "alert",
         "marker": {
          "color": "#DD4040",
          "size": 8,
          "symbol": "diamond"
         },
         "mode": "markers",
         "name": "Alert",
         "showlegend": true,
         "type": "scatter",
         "x": [],
         "xaxis": "x",
         "y": [],
         "yaxis": "y"
        },
        {
         "hoverinfo": "skip",
         "legendgroup": "thresh",
         "line": {
          "color": "#DD4040",
          "dash": "dash",
          "width": 2
         },
         "mode": "lines",
         "name": "Threshold",
         "showlegend": true,
         "type": "scatter",
         "x": [
          "2007-01-01T00:00:00",
          "2007-04-01T00:00:00",
          "2007-06-01T00:00:00",
          "2007-07-01T00:00:00",
          "2007-08-01T00:00:00",
          "2007-12-01T00:00:00",
          "2008-04-01T00:00:00",
          "2008-06-01T00:00:00",
          "2008-07-01T00:00:00",
          "2008-12-01T00:00:00",
          "2008-12-01T00:00:00"
         ],
         "xaxis": "x",
         "y": [
          0,
          0,
          0,
          0,
          0,
          0,
          0,
          0,
          0,
          0,
          0
         ],
         "yaxis": "y"
        },
        {
         "hoverinfo": "skip",
         "legendgroup": "thresh",
         "line": {
          "color": "#DD4040",
          "dash": "dash",
          "width": 2
         },
         "mode": "lines",
         "name": "Threshold",
         "showlegend": false,
         "type": "scatter",
         "x": [
          "2007-01-01T00:00:00",
          "2007-04-01T00:00:00",
          "2007-06-01T00:00:00",
          "2007-07-01T00:00:00",
          "2007-08-01T00:00:00",
          "2007-12-01T00:00:00",
          "2008-04-01T00:00:00",
          "2008-06-01T00:00:00",
          "2008-07-01T00:00:00",
          "2008-12-01T00:00:00",
          "2008-12-01T00:00:00"
         ],
         "xaxis": "x",
         "y": [
          0,
          0,
          0,
          0,
          0,
          0,
          0,
          0,
          0,
          0,
          0
         ],
         "yaxis": "y"
        },
        {
         "hoverinfo": "skip",
         "legendgroup": "thresh",
         "line": {
          "color": "#DD4040",
          "dash": "dash",
          "width": 2
         },
         "mode": "lines",
         "name": "Threshold",
         "showlegend": false,
         "type": "scatter",
         "x": [
          "2009-01-01T00:00:00",
          "2009-04-01T00:00:00",
          "2009-05-01T00:00:00",
          "2009-06-01T00:00:00",
          "2009-07-01T00:00:00",
          "2009-09-01T00:00:00",
          "2009-11-01T00:00:00",
          "2010-02-01T00:00:00",
          "2010-04-01T00:00:00",
          "2010-07-01T00:00:00",
          "2010-07-01T00:00:00"
         ],
         "xaxis": "x",
         "y": [
          0,
          0,
          0,
          0,
          0,
          0,
          0,
          0,
          0,
          0,
          0
         ],
         "yaxis": "y"
        },
        {
         "hoverinfo": "skip",
         "legendgroup": "thresh",
         "line": {
          "color": "#DD4040",
          "dash": "dash",
          "width": 2
         },
         "mode": "lines",
         "name": "Threshold",
         "showlegend": false,
         "type": "scatter",
         "x": [
          "2009-01-01T00:00:00",
          "2009-04-01T00:00:00",
          "2009-05-01T00:00:00",
          "2009-06-01T00:00:00",
          "2009-07-01T00:00:00",
          "2009-09-01T00:00:00",
          "2009-11-01T00:00:00",
          "2010-02-01T00:00:00",
          "2010-04-01T00:00:00",
          "2010-07-01T00:00:00",
          "2010-07-01T00:00:00"
         ],
         "xaxis": "x",
         "y": [
          0,
          0,
          0,
          0,
          0,
          0,
          0,
          0,
          0,
          0,
          0
         ],
         "yaxis": "y"
        },
        {
         "hoverinfo": "skip",
         "line": {
          "color": "rgba(0,0,0,0)",
          "shape": "hv"
         },
         "mode": "lines",
         "name": "Confidence band",
         "showlegend": false,
         "type": "scatter",
         "x": [
          "2007-01-01T00:00:00",
          "2007-04-01T00:00:00",
          "2007-06-01T00:00:00",
          "2007-07-01T00:00:00",
          "2007-08-01T00:00:00",
          "2007-12-01T00:00:00",
          "2008-04-01T00:00:00",
          "2008-06-01T00:00:00",
          "2008-07-01T00:00:00",
          "2008-12-01T00:00:00",
          "2008-12-01T00:00:00"
         ],
         "xaxis": "x",
         "y": [
          null,
          null,
          null,
          null,
          null,
          null,
          null,
          null,
          null,
          null,
          null
         ],
         "yaxis": "y"
        },
        {
         "fill": "tonexty",
         "fillcolor": "rgba(0.23137254901960785, 0.00784313725490196, 0.5019607843137255, 0.2)",
         "hoverinfo": "skip",
         "line": {
          "color": "rgba(0,0,0,0)",
          "shape": "hv"
         },
         "mode": "lines",
         "name": "Confidence band",
         "showlegend": true,
         "type": "scatter",
         "x": [
          "2007-01-01T00:00:00",
          "2007-04-01T00:00:00",
          "2007-06-01T00:00:00",
          "2007-07-01T00:00:00",
          "2007-08-01T00:00:00",
          "2007-12-01T00:00:00",
          "2008-04-01T00:00:00",
          "2008-06-01T00:00:00",
          "2008-07-01T00:00:00",
          "2008-12-01T00:00:00",
          "2008-12-01T00:00:00"
         ],
         "xaxis": "x",
         "y": [
          0,
          0,
          0,
          0,
          0,
          0,
          0,
          0,
          0,
          0,
          0
         ],
         "yaxis": "y"
        },
        {
         "hoverinfo": "skip",
         "line": {
          "color": "rgba(0,0,0,0)",
          "shape": "hv"
         },
         "mode": "lines",
         "name": "Confidence band",
         "showlegend": false,
         "type": "scatter",
         "x": [
          "2009-01-01T00:00:00",
          "2009-04-01T00:00:00",
          "2009-05-01T00:00:00",
          "2009-06-01T00:00:00",
          "2009-07-01T00:00:00",
          "2009-09-01T00:00:00",
          "2009-11-01T00:00:00",
          "2010-02-01T00:00:00",
          "2010-04-01T00:00:00",
          "2010-07-01T00:00:00",
          "2010-07-01T00:00:00"
         ],
         "xaxis": "x",
         "y": [
          null,
          null,
          null,
          null,
          null,
          null,
          null,
          null,
          null,
          null,
          null
         ],
         "yaxis": "y"
        },
        {
         "fill": "tonexty",
         "fillcolor": "rgba(0.23137254901960785, 0.00784313725490196, 0.5019607843137255, 0.2)",
         "hoverinfo": "skip",
         "line": {
          "color": "rgba(0,0,0,0)",
          "shape": "hv"
         },
         "mode": "lines",
         "name": "Confidence band",
         "showlegend": false,
         "type": "scatter",
         "x": [
          "2009-01-01T00:00:00",
          "2009-04-01T00:00:00",
          "2009-05-01T00:00:00",
          "2009-06-01T00:00:00",
          "2009-07-01T00:00:00",
          "2009-09-01T00:00:00",
          "2009-11-01T00:00:00",
          "2010-02-01T00:00:00",
          "2010-04-01T00:00:00",
          "2010-07-01T00:00:00",
          "2010-07-01T00:00:00"
         ],
         "xaxis": "x",
         "y": [
          0,
          0,
          0,
          0,
          0,
          0,
          0,
          0,
          0,
          0,
          0
         ],
         "yaxis": "y"
        },
        {
         "hoverinfo": "skip",
         "legendgroup": "metric_reference",
         "line": {
          "color": "#3b0280",
          "dash": "dash",
          "shape": "hv",
          "width": 2
         },
         "mode": "lines",
         "name": "Metric",
         "showlegend": false,
         "type": "scatter",
         "x": [
          "2007-01-01T00:00:00",
          "2007-04-01T00:00:00",
          "2007-06-01T00:00:00",
          "2007-07-01T00:00:00",
          "2007-08-01T00:00:00",
          "2007-12-01T00:00:00",
          "2008-04-01T00:00:00",
          "2008-06-01T00:00:00",
          "2008-07-01T00:00:00",
          "2008-12-01T00:00:00",
          "2008-12-01T00:00:00"
         ],
         "xaxis": "x2",
         "y": [
          0,
          0,
          0,
          0,
          0,
          0,
          0,
          0,
          0,
          0,
          0
         ],
         "yaxis": "y2"
        },
        {
         "customdata": [
          [
           "Estimated <b>RMSLE</b>",
           "<b style=\"color:#3b0280;line-height:60px\">Reference</b>",
           "",
           "[0:62]",
           "From <b>Jan-01-2007</b> to <b>Apr-01-2007</b>",
           0,
           null
          ],
          [
           "Estimated <b>RMSLE</b>",
           "<b style=\"color:#3b0280;line-height:60px\">Reference</b>",
           "",
           "[63:125]",
           "From <b>Apr-01-2007</b> to <b>Jun-01-2007</b>",
           0,
           null
          ],
          [
           "Estimated <b>RMSLE</b>",
           "<b style=\"color:#3b0280;line-height:60px\">Reference</b>",
           "",
           "[126:188]",
           "From <b>Jun-01-2007</b> to <b>Jul-01-2007</b>",
           0,
           null
          ],
          [
           "Estimated <b>RMSLE</b>",
           "<b style=\"color:#3b0280;line-height:60px\">Reference</b>",
           "",
           "[189:251]",
           "From <b>Jul-01-2007</b> to <b>Aug-01-2007</b>",
           0,
           null
          ],
          [
           "Estimated <b>RMSLE</b>",
           "<b style=\"color:#3b0280;line-height:60px\">Reference</b>",
           "",
           "[252:314]",
           "From <b>Aug-01-2007</b> to <b>Dec-01-2007</b>",
           0,
           null
          ],
          [
           "Estimated <b>RMSLE</b>",
           "<b style=\"color:#3b0280;line-height:60px\">Reference</b>",
           "",
           "[315:377]",
           "From <b>Dec-01-2007</b> to <b>Apr-01-2008</b>",
           0,
           null
          ],
          [
           "Estimated <b>RMSLE</b>",
           "<b style=\"color:#3b0280;line-height:60px\">Reference</b>",
           "",
           "[378:440]",
           "From <b>Apr-01-2008</b> to <b>Jun-01-2008</b>",
           0,
           null
          ],
          [
           "Estimated <b>RMSLE</b>",
           "<b style=\"color:#3b0280;line-height:60px\">Reference</b>",
           "",
           "[441:503]",
           "From <b>Jun-01-2008</b> to <b>Jul-01-2008</b>",
           0,
           null
          ],
          [
           "Estimated <b>RMSLE</b>",
           "<b style=\"color:#3b0280;line-height:60px\">Reference</b>",
           "",
           "[504:566]",
           "From <b>Jul-01-2008</b> to <b>Sep-01-2008</b>",
           0,
           null
          ],
          [
           "Estimated <b>RMSLE</b>",
           "<b style=\"color:#3b0280;line-height:60px\">Reference</b>",
           "",
           "[630:629]",
           "From <b>Dec-01-2008</b> to <b>Dec-01-2008</b>",
           0,
           null
          ]
         ],
         "hovertemplate": "%{customdata[1]} &nbsp; &nbsp; %{customdata[2]} <br />Chunk: <b>%{customdata[3]}</b> &nbsp; &nbsp; %{customdata[4]} <br />%{customdata[0]}: <b>%{customdata[5]}</b><br />Confidence band: +/- <b>%{customdata[6]}</b><br /><extra></extra>",
         "legendgroup": "metric_reference",
         "line": {
          "dash": "dash"
         },
         "marker": {
          "color": "#3b0280",
          "size": 5,
          "symbol": "circle"
         },
         "mode": "markers",
         "name": "Metric",
         "showlegend": false,
         "type": "scatter",
         "x": [
          "2007-02-15T00:00:00",
          "2007-05-01T12:00:00",
          "2007-06-16T00:00:00",
          "2007-07-16T12:00:00",
          "2007-10-01T00:00:00",
          "2008-01-31T00:00:00",
          "2008-05-01T12:00:00",
          "2008-06-16T00:00:00",
          "2008-09-15T12:00:00",
          "2008-12-01T00:00:00"
         ],
         "xaxis": "x2",
         "y": [
          0,
          0,
          0,
          0,
          0,
          0,
          0,
          0,
          0,
          0,
          0
         ],
         "yaxis": "y2"
        },
        {
         "hoverinfo": "skip",
         "legendgroup": "metric_analysis",
         "line": {
          "color": "#3b0280",
          "dash": "dash",
          "shape": "hv",
          "width": 2
         },
         "mode": "lines",
         "name": "Metric",
         "showlegend": false,
         "type": "scatter",
         "x": [
          "2009-01-01T00:00:00",
          "2009-04-01T00:00:00",
          "2009-05-01T00:00:00",
          "2009-06-01T00:00:00",
          "2009-07-01T00:00:00",
          "2009-09-01T00:00:00",
          "2009-11-01T00:00:00",
          "2010-02-01T00:00:00",
          "2010-04-01T00:00:00",
          "2010-07-01T00:00:00",
          "2010-07-01T00:00:00"
         ],
         "xaxis": "x2",
         "y": [
          0,
          0,
          0,
          0,
          0,
          0,
          0,
          0,
          0,
          0,
          0
         ],
         "yaxis": "y2"
        },
        {
         "customdata": [
          [
           "Estimated <b>RMSLE</b>",
           "<b style=\"color:#3b0280;line-height:60px\">Analysis</b>",
           "",
           "[0:50]",
           "From <b>Jan-01-2009</b> to <b>Apr-01-2009</b>",
           0,
           null
          ],
          [
           "Estimated <b>RMSLE</b>",
           "<b style=\"color:#3b0280;line-height:60px\">Analysis</b>",
           "",
           "[51:101]",
           "From <b>Apr-01-2009</b> to <b>May-01-2009</b>",
           0,
           null
          ],
          [
           "Estimated <b>RMSLE</b>",
           "<b style=\"color:#3b0280;line-height:60px\">Analysis</b>",
           "",
           "[102:152]",
           "From <b>May-01-2009</b> to <b>Jun-01-2009</b>",
           0,
           null
          ],
          [
           "Estimated <b>RMSLE</b>",
           "<b style=\"color:#3b0280;line-height:60px\">Analysis</b>",
           "",
           "[153:203]",
           "From <b>Jun-01-2009</b> to <b>Jul-01-2009</b>",
           0,
           null
          ],
          [
           "Estimated <b>RMSLE</b>",
           "<b style=\"color:#3b0280;line-height:60px\">Analysis</b>",
           "",
           "[204:254]",
           "From <b>Jul-01-2009</b> to <b>Sep-01-2009</b>",
           0,
           null
          ],
          [
           "Estimated <b>RMSLE</b>",
           "<b style=\"color:#3b0280;line-height:60px\">Analysis</b>",
           "",
           "[255:305]",
           "From <b>Sep-01-2009</b> to <b>Nov-01-2009</b>",
           0,
           null
          ],
          [
           "Estimated <b>RMSLE</b>",
           "<b style=\"color:#3b0280;line-height:60px\">Analysis</b>",
           "",
           "[306:356]",
           "From <b>Nov-01-2009</b> to <b>Feb-01-2010</b>",
           0,
           null
          ],
          [
           "Estimated <b>RMSLE</b>",
           "<b style=\"color:#3b0280;line-height:60px\">Analysis</b>",
           "",
           "[357:407]",
           "From <b>Feb-01-2010</b> to <b>Apr-01-2010</b>",
           0,
           null
          ],
          [
           "Estimated <b>RMSLE</b>",
           "<b style=\"color:#3b0280;line-height:60px\">Analysis</b>",
           "",
           "[408:458]",
           "From <b>Apr-01-2010</b> to <b>May-01-2010</b>",
           0,
           null
          ],
          [
           "Estimated <b>RMSLE</b>",
           "<b style=\"color:#3b0280;line-height:60px\">Analysis</b>",
           "",
           "[510:509]",
           "From <b>Jul-01-2010</b> to <b>Jul-01-2010</b>",
           0,
           null
          ]
         ],
         "hovertemplate": "%{customdata[1]} &nbsp; &nbsp; %{customdata[2]} <br />Chunk: <b>%{customdata[3]}</b> &nbsp; &nbsp; %{customdata[4]} <br />%{customdata[0]}: <b>%{customdata[5]}</b><br />Confidence band: +/- <b>%{customdata[6]}</b><br /><extra></extra>",
         "legendgroup": "metric_analysis",
         "line": {
          "dash": "dash"
         },
         "marker": {
          "color": "#3b0280",
          "size": 5,
          "symbol": "circle"
         },
         "mode": "markers",
         "name": "Metric",
         "showlegend": false,
         "type": "scatter",
         "x": [
          "2009-02-15T00:00:00",
          "2009-04-16T00:00:00",
          "2009-05-16T12:00:00",
          "2009-06-16T00:00:00",
          "2009-08-01T00:00:00",
          "2009-10-01T12:00:00",
          "2009-12-17T00:00:00",
          "2010-03-02T12:00:00",
          "2010-05-16T12:00:00",
          "2010-07-01T00:00:00"
         ],
         "xaxis": "x2",
         "y": [
          0,
          0,
          0,
          0,
          0,
          0,
          0,
          0,
          0,
          0,
          0
         ],
         "yaxis": "y2"
        },
        {
         "hoverinfo": "skip",
         "legendgroup": "alert",
         "marker": {
          "color": "#DD4040",
          "size": 8,
          "symbol": "diamond"
         },
         "mode": "markers",
         "name": "Alert",
         "showlegend": false,
         "type": "scatter",
         "x": [],
         "xaxis": "x2",
         "y": [],
         "yaxis": "y2"
        },
        {
         "hoverinfo": "skip",
         "legendgroup": "thresh",
         "line": {
          "color": "#DD4040",
          "dash": "dash",
          "width": 2
         },
         "mode": "lines",
         "name": "Threshold",
         "showlegend": false,
         "type": "scatter",
         "x": [
          "2007-01-01T00:00:00",
          "2007-04-01T00:00:00",
          "2007-06-01T00:00:00",
          "2007-07-01T00:00:00",
          "2007-08-01T00:00:00",
          "2007-12-01T00:00:00",
          "2008-04-01T00:00:00",
          "2008-06-01T00:00:00",
          "2008-07-01T00:00:00",
          "2008-12-01T00:00:00",
          "2008-12-01T00:00:00"
         ],
         "xaxis": "x2",
         "y": [
          0,
          0,
          0,
          0,
          0,
          0,
          0,
          0,
          0,
          0,
          0
         ],
         "yaxis": "y2"
        },
        {
         "hoverinfo": "skip",
         "legendgroup": "thresh",
         "line": {
          "color": "#DD4040",
          "dash": "dash",
          "width": 2
         },
         "mode": "lines",
         "name": "Threshold",
         "showlegend": false,
         "type": "scatter",
         "x": [
          "2007-01-01T00:00:00",
          "2007-04-01T00:00:00",
          "2007-06-01T00:00:00",
          "2007-07-01T00:00:00",
          "2007-08-01T00:00:00",
          "2007-12-01T00:00:00",
          "2008-04-01T00:00:00",
          "2008-06-01T00:00:00",
          "2008-07-01T00:00:00",
          "2008-12-01T00:00:00",
          "2008-12-01T00:00:00"
         ],
         "xaxis": "x2",
         "y": [
          0,
          0,
          0,
          0,
          0,
          0,
          0,
          0,
          0,
          0,
          0
         ],
         "yaxis": "y2"
        },
        {
         "hoverinfo": "skip",
         "legendgroup": "thresh",
         "line": {
          "color": "#DD4040",
          "dash": "dash",
          "width": 2
         },
         "mode": "lines",
         "name": "Threshold",
         "showlegend": false,
         "type": "scatter",
         "x": [
          "2009-01-01T00:00:00",
          "2009-04-01T00:00:00",
          "2009-05-01T00:00:00",
          "2009-06-01T00:00:00",
          "2009-07-01T00:00:00",
          "2009-09-01T00:00:00",
          "2009-11-01T00:00:00",
          "2010-02-01T00:00:00",
          "2010-04-01T00:00:00",
          "2010-07-01T00:00:00",
          "2010-07-01T00:00:00"
         ],
         "xaxis": "x2",
         "y": [
          0,
          0,
          0,
          0,
          0,
          0,
          0,
          0,
          0,
          0,
          0
         ],
         "yaxis": "y2"
        },
        {
         "hoverinfo": "skip",
         "legendgroup": "thresh",
         "line": {
          "color": "#DD4040",
          "dash": "dash",
          "width": 2
         },
         "mode": "lines",
         "name": "Threshold",
         "showlegend": false,
         "type": "scatter",
         "x": [
          "2009-01-01T00:00:00",
          "2009-04-01T00:00:00",
          "2009-05-01T00:00:00",
          "2009-06-01T00:00:00",
          "2009-07-01T00:00:00",
          "2009-09-01T00:00:00",
          "2009-11-01T00:00:00",
          "2010-02-01T00:00:00",
          "2010-04-01T00:00:00",
          "2010-07-01T00:00:00",
          "2010-07-01T00:00:00"
         ],
         "xaxis": "x2",
         "y": [
          0,
          0,
          0,
          0,
          0,
          0,
          0,
          0,
          0,
          0,
          0
         ],
         "yaxis": "y2"
        },
        {
         "hoverinfo": "skip",
         "line": {
          "color": "rgba(0,0,0,0)",
          "shape": "hv"
         },
         "mode": "lines",
         "name": "Confidence band",
         "showlegend": false,
         "type": "scatter",
         "x": [
          "2007-01-01T00:00:00",
          "2007-04-01T00:00:00",
          "2007-06-01T00:00:00",
          "2007-07-01T00:00:00",
          "2007-08-01T00:00:00",
          "2007-12-01T00:00:00",
          "2008-04-01T00:00:00",
          "2008-06-01T00:00:00",
          "2008-07-01T00:00:00",
          "2008-12-01T00:00:00",
          "2008-12-01T00:00:00"
         ],
         "xaxis": "x2",
         "y": [
          null,
          null,
          null,
          null,
          null,
          null,
          null,
          null,
          null,
          null,
          null
         ],
         "yaxis": "y2"
        },
        {
         "fill": "tonexty",
         "fillcolor": "rgba(0.23137254901960785, 0.00784313725490196, 0.5019607843137255, 0.2)",
         "hoverinfo": "skip",
         "line": {
          "color": "rgba(0,0,0,0)",
          "shape": "hv"
         },
         "mode": "lines",
         "name": "Confidence band",
         "showlegend": false,
         "type": "scatter",
         "x": [
          "2007-01-01T00:00:00",
          "2007-04-01T00:00:00",
          "2007-06-01T00:00:00",
          "2007-07-01T00:00:00",
          "2007-08-01T00:00:00",
          "2007-12-01T00:00:00",
          "2008-04-01T00:00:00",
          "2008-06-01T00:00:00",
          "2008-07-01T00:00:00",
          "2008-12-01T00:00:00",
          "2008-12-01T00:00:00"
         ],
         "xaxis": "x2",
         "y": [
          0,
          0,
          0,
          0,
          0,
          0,
          0,
          0,
          0,
          0,
          0
         ],
         "yaxis": "y2"
        },
        {
         "hoverinfo": "skip",
         "line": {
          "color": "rgba(0,0,0,0)",
          "shape": "hv"
         },
         "mode": "lines",
         "name": "Confidence band",
         "showlegend": false,
         "type": "scatter",
         "x": [
          "2009-01-01T00:00:00",
          "2009-04-01T00:00:00",
          "2009-05-01T00:00:00",
          "2009-06-01T00:00:00",
          "2009-07-01T00:00:00",
          "2009-09-01T00:00:00",
          "2009-11-01T00:00:00",
          "2010-02-01T00:00:00",
          "2010-04-01T00:00:00",
          "2010-07-01T00:00:00",
          "2010-07-01T00:00:00"
         ],
         "xaxis": "x2",
         "y": [
          null,
          null,
          null,
          null,
          null,
          null,
          null,
          null,
          null,
          null,
          null
         ],
         "yaxis": "y2"
        },
        {
         "fill": "tonexty",
         "fillcolor": "rgba(0.23137254901960785, 0.00784313725490196, 0.5019607843137255, 0.2)",
         "hoverinfo": "skip",
         "line": {
          "color": "rgba(0,0,0,0)",
          "shape": "hv"
         },
         "mode": "lines",
         "name": "Confidence band",
         "showlegend": false,
         "type": "scatter",
         "x": [
          "2009-01-01T00:00:00",
          "2009-04-01T00:00:00",
          "2009-05-01T00:00:00",
          "2009-06-01T00:00:00",
          "2009-07-01T00:00:00",
          "2009-09-01T00:00:00",
          "2009-11-01T00:00:00",
          "2010-02-01T00:00:00",
          "2010-04-01T00:00:00",
          "2010-07-01T00:00:00",
          "2010-07-01T00:00:00"
         ],
         "xaxis": "x2",
         "y": [
          0,
          0,
          0,
          0,
          0,
          0,
          0,
          0,
          0,
          0,
          0
         ],
         "yaxis": "y2"
        }
       ],
       "layout": {
        "annotations": [
         {
          "font": {
           "size": 16
          },
          "showarrow": false,
          "text": "Estimated <b>RMSE</b>",
          "x": 0.5,
          "xanchor": "center",
          "xref": "paper",
          "y": 1,
          "yanchor": "bottom",
          "yref": "paper"
         },
         {
          "font": {
           "size": 16
          },
          "showarrow": false,
          "text": "Estimated <b>RMSLE</b>",
          "x": 0.5,
          "xanchor": "center",
          "xref": "paper",
          "y": 0.375,
          "yanchor": "bottom",
          "yref": "paper"
         },
         {
          "showarrow": false,
          "text": "Reference",
          "x": "2007-11-15T19:12:00",
          "xref": "x",
          "xshift": 10,
          "y": 1.01,
          "yref": "y domain"
         },
         {
          "showarrow": false,
          "text": "Analysis",
          "x": "2009-09-06T14:24:00",
          "xref": "x",
          "xshift": 15,
          "y": 1.01,
          "yref": "y domain"
         },
         {
          "showarrow": false,
          "text": "Reference",
          "x": "2007-11-15T19:12:00",
          "xref": "x2",
          "xshift": 10,
          "y": 1.01,
          "yref": "y2 domain"
         },
         {
          "showarrow": false,
          "text": "Analysis",
          "x": "2009-09-06T14:24:00",
          "xref": "x2",
          "xshift": 15,
          "y": 1.01,
          "yref": "y2 domain"
         }
        ],
        "height": 1000,
        "hoverlabel": {
         "bgcolor": "white",
         "font": {
          "size": 14
         }
        },
        "legend": {
         "itemclick": false,
         "itemdoubleclick": false,
         "traceorder": "grouped"
        },
        "paper_bgcolor": "rgba(255,255,255,1)",
        "plot_bgcolor": "rgba(255,255,255,1)",
        "shapes": [
         {
          "layer": "below",
          "line": {
           "color": "#666666",
           "width": 1
          },
          "type": "line",
          "x0": "2009-01-01T00:00:00",
          "x1": "2009-01-01T00:00:00",
          "xref": "x",
          "y0": 0,
          "y1": 1,
          "yref": "y domain"
         },
         {
          "layer": "below",
          "line": {
           "color": "#666666",
           "width": 1
          },
          "type": "line",
          "x0": "2009-01-01T00:00:00",
          "x1": "2009-01-01T00:00:00",
          "xref": "x",
          "y0": 0,
          "y1": 1,
          "yref": "y domain"
         },
         {
          "layer": "below",
          "line": {
           "color": "#666666",
           "width": 1
          },
          "type": "line",
          "x0": "2009-01-01T00:00:00",
          "x1": "2009-01-01T00:00:00",
          "xref": "x2",
          "y0": 0,
          "y1": 1,
          "yref": "y2 domain"
         }
        ],
        "template": {
         "data": {
          "bar": [
           {
            "error_x": {
             "color": "#2a3f5f"
            },
            "error_y": {
             "color": "#2a3f5f"
            },
            "marker": {
             "line": {
              "color": "#E5ECF6",
              "width": 0.5
             },
             "pattern": {
              "fillmode": "overlay",
              "size": 10,
              "solidity": 0.2
             }
            },
            "type": "bar"
           }
          ],
          "barpolar": [
           {
            "marker": {
             "line": {
              "color": "#E5ECF6",
              "width": 0.5
             },
             "pattern": {
              "fillmode": "overlay",
              "size": 10,
              "solidity": 0.2
             }
            },
            "type": "barpolar"
           }
          ],
          "carpet": [
           {
            "aaxis": {
             "endlinecolor": "#2a3f5f",
             "gridcolor": "white",
             "linecolor": "white",
             "minorgridcolor": "white",
             "startlinecolor": "#2a3f5f"
            },
            "baxis": {
             "endlinecolor": "#2a3f5f",
             "gridcolor": "white",
             "linecolor": "white",
             "minorgridcolor": "white",
             "startlinecolor": "#2a3f5f"
            },
            "type": "carpet"
           }
          ],
          "choropleth": [
           {
            "colorbar": {
             "outlinewidth": 0,
             "ticks": ""
            },
            "type": "choropleth"
           }
          ],
          "contour": [
           {
            "colorbar": {
             "outlinewidth": 0,
             "ticks": ""
            },
            "colorscale": [
             [
              0,
              "#0d0887"
             ],
             [
              0.1111111111111111,
              "#46039f"
             ],
             [
              0.2222222222222222,
              "#7201a8"
             ],
             [
              0.3333333333333333,
              "#9c179e"
             ],
             [
              0.4444444444444444,
              "#bd3786"
             ],
             [
              0.5555555555555556,
              "#d8576b"
             ],
             [
              0.6666666666666666,
              "#ed7953"
             ],
             [
              0.7777777777777778,
              "#fb9f3a"
             ],
             [
              0.8888888888888888,
              "#fdca26"
             ],
             [
              1,
              "#f0f921"
             ]
            ],
            "type": "contour"
           }
          ],
          "contourcarpet": [
           {
            "colorbar": {
             "outlinewidth": 0,
             "ticks": ""
            },
            "type": "contourcarpet"
           }
          ],
          "heatmap": [
           {
            "colorbar": {
             "outlinewidth": 0,
             "ticks": ""
            },
            "colorscale": [
             [
              0,
              "#0d0887"
             ],
             [
              0.1111111111111111,
              "#46039f"
             ],
             [
              0.2222222222222222,
              "#7201a8"
             ],
             [
              0.3333333333333333,
              "#9c179e"
             ],
             [
              0.4444444444444444,
              "#bd3786"
             ],
             [
              0.5555555555555556,
              "#d8576b"
             ],
             [
              0.6666666666666666,
              "#ed7953"
             ],
             [
              0.7777777777777778,
              "#fb9f3a"
             ],
             [
              0.8888888888888888,
              "#fdca26"
             ],
             [
              1,
              "#f0f921"
             ]
            ],
            "type": "heatmap"
           }
          ],
          "heatmapgl": [
           {
            "colorbar": {
             "outlinewidth": 0,
             "ticks": ""
            },
            "colorscale": [
             [
              0,
              "#0d0887"
             ],
             [
              0.1111111111111111,
              "#46039f"
             ],
             [
              0.2222222222222222,
              "#7201a8"
             ],
             [
              0.3333333333333333,
              "#9c179e"
             ],
             [
              0.4444444444444444,
              "#bd3786"
             ],
             [
              0.5555555555555556,
              "#d8576b"
             ],
             [
              0.6666666666666666,
              "#ed7953"
             ],
             [
              0.7777777777777778,
              "#fb9f3a"
             ],
             [
              0.8888888888888888,
              "#fdca26"
             ],
             [
              1,
              "#f0f921"
             ]
            ],
            "type": "heatmapgl"
           }
          ],
          "histogram": [
           {
            "marker": {
             "pattern": {
              "fillmode": "overlay",
              "size": 10,
              "solidity": 0.2
             }
            },
            "type": "histogram"
           }
          ],
          "histogram2d": [
           {
            "colorbar": {
             "outlinewidth": 0,
             "ticks": ""
            },
            "colorscale": [
             [
              0,
              "#0d0887"
             ],
             [
              0.1111111111111111,
              "#46039f"
             ],
             [
              0.2222222222222222,
              "#7201a8"
             ],
             [
              0.3333333333333333,
              "#9c179e"
             ],
             [
              0.4444444444444444,
              "#bd3786"
             ],
             [
              0.5555555555555556,
              "#d8576b"
             ],
             [
              0.6666666666666666,
              "#ed7953"
             ],
             [
              0.7777777777777778,
              "#fb9f3a"
             ],
             [
              0.8888888888888888,
              "#fdca26"
             ],
             [
              1,
              "#f0f921"
             ]
            ],
            "type": "histogram2d"
           }
          ],
          "histogram2dcontour": [
           {
            "colorbar": {
             "outlinewidth": 0,
             "ticks": ""
            },
            "colorscale": [
             [
              0,
              "#0d0887"
             ],
             [
              0.1111111111111111,
              "#46039f"
             ],
             [
              0.2222222222222222,
              "#7201a8"
             ],
             [
              0.3333333333333333,
              "#9c179e"
             ],
             [
              0.4444444444444444,
              "#bd3786"
             ],
             [
              0.5555555555555556,
              "#d8576b"
             ],
             [
              0.6666666666666666,
              "#ed7953"
             ],
             [
              0.7777777777777778,
              "#fb9f3a"
             ],
             [
              0.8888888888888888,
              "#fdca26"
             ],
             [
              1,
              "#f0f921"
             ]
            ],
            "type": "histogram2dcontour"
           }
          ],
          "mesh3d": [
           {
            "colorbar": {
             "outlinewidth": 0,
             "ticks": ""
            },
            "type": "mesh3d"
           }
          ],
          "parcoords": [
           {
            "line": {
             "colorbar": {
              "outlinewidth": 0,
              "ticks": ""
             }
            },
            "type": "parcoords"
           }
          ],
          "pie": [
           {
            "automargin": true,
            "type": "pie"
           }
          ],
          "scatter": [
           {
            "fillpattern": {
             "fillmode": "overlay",
             "size": 10,
             "solidity": 0.2
            },
            "type": "scatter"
           }
          ],
          "scatter3d": [
           {
            "line": {
             "colorbar": {
              "outlinewidth": 0,
              "ticks": ""
             }
            },
            "marker": {
             "colorbar": {
              "outlinewidth": 0,
              "ticks": ""
             }
            },
            "type": "scatter3d"
           }
          ],
          "scattercarpet": [
           {
            "marker": {
             "colorbar": {
              "outlinewidth": 0,
              "ticks": ""
             }
            },
            "type": "scattercarpet"
           }
          ],
          "scattergeo": [
           {
            "marker": {
             "colorbar": {
              "outlinewidth": 0,
              "ticks": ""
             }
            },
            "type": "scattergeo"
           }
          ],
          "scattergl": [
           {
            "marker": {
             "colorbar": {
              "outlinewidth": 0,
              "ticks": ""
             }
            },
            "type": "scattergl"
           }
          ],
          "scattermapbox": [
           {
            "marker": {
             "colorbar": {
              "outlinewidth": 0,
              "ticks": ""
             }
            },
            "type": "scattermapbox"
           }
          ],
          "scatterpolar": [
           {
            "marker": {
             "colorbar": {
              "outlinewidth": 0,
              "ticks": ""
             }
            },
            "type": "scatterpolar"
           }
          ],
          "scatterpolargl": [
           {
            "marker": {
             "colorbar": {
              "outlinewidth": 0,
              "ticks": ""
             }
            },
            "type": "scatterpolargl"
           }
          ],
          "scatterternary": [
           {
            "marker": {
             "colorbar": {
              "outlinewidth": 0,
              "ticks": ""
             }
            },
            "type": "scatterternary"
           }
          ],
          "surface": [
           {
            "colorbar": {
             "outlinewidth": 0,
             "ticks": ""
            },
            "colorscale": [
             [
              0,
              "#0d0887"
             ],
             [
              0.1111111111111111,
              "#46039f"
             ],
             [
              0.2222222222222222,
              "#7201a8"
             ],
             [
              0.3333333333333333,
              "#9c179e"
             ],
             [
              0.4444444444444444,
              "#bd3786"
             ],
             [
              0.5555555555555556,
              "#d8576b"
             ],
             [
              0.6666666666666666,
              "#ed7953"
             ],
             [
              0.7777777777777778,
              "#fb9f3a"
             ],
             [
              0.8888888888888888,
              "#fdca26"
             ],
             [
              1,
              "#f0f921"
             ]
            ],
            "type": "surface"
           }
          ],
          "table": [
           {
            "cells": {
             "fill": {
              "color": "#EBF0F8"
             },
             "line": {
              "color": "white"
             }
            },
            "header": {
             "fill": {
              "color": "#C8D4E3"
             },
             "line": {
              "color": "white"
             }
            },
            "type": "table"
           }
          ]
         },
         "layout": {
          "annotationdefaults": {
           "arrowcolor": "#2a3f5f",
           "arrowhead": 0,
           "arrowwidth": 1
          },
          "autotypenumbers": "strict",
          "coloraxis": {
           "colorbar": {
            "outlinewidth": 0,
            "ticks": ""
           }
          },
          "colorscale": {
           "diverging": [
            [
             0,
             "#8e0152"
            ],
            [
             0.1,
             "#c51b7d"
            ],
            [
             0.2,
             "#de77ae"
            ],
            [
             0.3,
             "#f1b6da"
            ],
            [
             0.4,
             "#fde0ef"
            ],
            [
             0.5,
             "#f7f7f7"
            ],
            [
             0.6,
             "#e6f5d0"
            ],
            [
             0.7,
             "#b8e186"
            ],
            [
             0.8,
             "#7fbc41"
            ],
            [
             0.9,
             "#4d9221"
            ],
            [
             1,
             "#276419"
            ]
           ],
           "sequential": [
            [
             0,
             "#0d0887"
            ],
            [
             0.1111111111111111,
             "#46039f"
            ],
            [
             0.2222222222222222,
             "#7201a8"
            ],
            [
             0.3333333333333333,
             "#9c179e"
            ],
            [
             0.4444444444444444,
             "#bd3786"
            ],
            [
             0.5555555555555556,
             "#d8576b"
            ],
            [
             0.6666666666666666,
             "#ed7953"
            ],
            [
             0.7777777777777778,
             "#fb9f3a"
            ],
            [
             0.8888888888888888,
             "#fdca26"
            ],
            [
             1,
             "#f0f921"
            ]
           ],
           "sequentialminus": [
            [
             0,
             "#0d0887"
            ],
            [
             0.1111111111111111,
             "#46039f"
            ],
            [
             0.2222222222222222,
             "#7201a8"
            ],
            [
             0.3333333333333333,
             "#9c179e"
            ],
            [
             0.4444444444444444,
             "#bd3786"
            ],
            [
             0.5555555555555556,
             "#d8576b"
            ],
            [
             0.6666666666666666,
             "#ed7953"
            ],
            [
             0.7777777777777778,
             "#fb9f3a"
            ],
            [
             0.8888888888888888,
             "#fdca26"
            ],
            [
             1,
             "#f0f921"
            ]
           ]
          },
          "colorway": [
           "#636efa",
           "#EF553B",
           "#00cc96",
           "#ab63fa",
           "#FFA15A",
           "#19d3f3",
           "#FF6692",
           "#B6E880",
           "#FF97FF",
           "#FECB52"
          ],
          "font": {
           "color": "#2a3f5f"
          },
          "geo": {
           "bgcolor": "white",
           "lakecolor": "white",
           "landcolor": "#E5ECF6",
           "showlakes": true,
           "showland": true,
           "subunitcolor": "white"
          },
          "hoverlabel": {
           "align": "left"
          },
          "hovermode": "closest",
          "mapbox": {
           "style": "light"
          },
          "paper_bgcolor": "white",
          "plot_bgcolor": "#E5ECF6",
          "polar": {
           "angularaxis": {
            "gridcolor": "white",
            "linecolor": "white",
            "ticks": ""
           },
           "bgcolor": "#E5ECF6",
           "radialaxis": {
            "gridcolor": "white",
            "linecolor": "white",
            "ticks": ""
           }
          },
          "scene": {
           "xaxis": {
            "backgroundcolor": "#E5ECF6",
            "gridcolor": "white",
            "gridwidth": 2,
            "linecolor": "white",
            "showbackground": true,
            "ticks": "",
            "zerolinecolor": "white"
           },
           "yaxis": {
            "backgroundcolor": "#E5ECF6",
            "gridcolor": "white",
            "gridwidth": 2,
            "linecolor": "white",
            "showbackground": true,
            "ticks": "",
            "zerolinecolor": "white"
           },
           "zaxis": {
            "backgroundcolor": "#E5ECF6",
            "gridcolor": "white",
            "gridwidth": 2,
            "linecolor": "white",
            "showbackground": true,
            "ticks": "",
            "zerolinecolor": "white"
           }
          },
          "shapedefaults": {
           "line": {
            "color": "#2a3f5f"
           }
          },
          "ternary": {
           "aaxis": {
            "gridcolor": "white",
            "linecolor": "white",
            "ticks": ""
           },
           "baxis": {
            "gridcolor": "white",
            "linecolor": "white",
            "ticks": ""
           },
           "bgcolor": "#E5ECF6",
           "caxis": {
            "gridcolor": "white",
            "linecolor": "white",
            "ticks": ""
           }
          },
          "title": {
           "x": 0.05
          },
          "xaxis": {
           "automargin": true,
           "gridcolor": "white",
           "linecolor": "white",
           "ticks": "",
           "title": {
            "standoff": 15
           },
           "zerolinecolor": "white",
           "zerolinewidth": 2
          },
          "yaxis": {
           "automargin": true,
           "gridcolor": "white",
           "linecolor": "white",
           "ticks": "",
           "title": {
            "standoff": 15
           },
           "zerolinecolor": "white",
           "zerolinewidth": 2
          }
         }
        },
        "title": {
         "text": "Estimated performance <b>(DLE)</b>"
        },
        "xaxis": {
         "anchor": "y",
         "domain": [
          0,
          1
         ],
         "linecolor": "#3b0280",
         "matches": "x",
         "mirror": true,
         "showgrid": false,
         "title": {
          "text": "Time"
         },
         "zeroline": false
        },
        "xaxis2": {
         "anchor": "y2",
         "domain": [
          0,
          1
         ],
         "linecolor": "#3b0280",
         "matches": "x",
         "mirror": true,
         "showgrid": false,
         "title": {
          "text": "Time"
         },
         "zeroline": false
        },
        "yaxis": {
         "anchor": "x",
         "domain": [
          0.625,
          1
         ],
         "linecolor": "#3b0280",
         "mirror": true,
         "showgrid": false,
         "title": {
          "text": "RMSE"
         },
         "zeroline": false
        },
        "yaxis2": {
         "anchor": "x2",
         "domain": [
          0,
          0.375
         ],
         "linecolor": "#3b0280",
         "mirror": true,
         "showgrid": false,
         "title": {
          "text": "RMSLE"
         },
         "zeroline": false
        }
       }
      }
     },
     "metadata": {},
     "output_type": "display_data"
    }
   ],
   "source": [
    "estimator = nml.DLE(\n",
    "\n",
    "    feature_column_names=[\"MSSubClass\",\"MSZoning\",\"LotFrontage\",\"LotArea\", \"Street\"],\n",
    "\n",
    "    y_pred='binarized',\n",
    "\n",
    "    y_true='binarized',\n",
    "\n",
    "    timestamp_column_name='timestamp',\n",
    "\n",
    "    metrics=['rmse', 'rmsle'],\n",
    "\n",
    "    tune_hyperparameters=False\n",
    "\n",
    ")\n",
    "\n",
    "estimator.fit(reference)\n",
    "\n",
    "results = estimator.estimate(analysis)\n",
    "\n",
    "display(results.filter(period='analysis').to_df())\n",
    "\n",
    "display(results.filter(period='reference').to_df())\n",
    "\n",
    "metric_fig = results.plot()\n",
    "\n",
    "metric_fig.show()"
   ]
  },
  {
   "attachments": {},
   "cell_type": "markdown",
   "metadata": {},
   "source": [
    "## Code for PSI from Lab01 "
   ]
  },
  {
   "cell_type": "code",
   "execution_count": 114,
   "metadata": {},
   "outputs": [],
   "source": [
    "numerical_features = reference.select_dtypes(exclude='object').columns.tolist()\n",
    "categorical_features = analysis.select_dtypes(include='object').columns.tolist()"
   ]
  },
  {
   "cell_type": "code",
   "execution_count": 115,
   "metadata": {},
   "outputs": [],
   "source": [
    "def calculate_psi(expected, actual, buckettype='bins', buckets=10, axis=0):\n",
    "    '''Calculate the PSI (population stability index) across all variables\n",
    "    Args:\n",
    "       expected: numpy matrix of original values\n",
    "       actual: numpy matrix of new values, same size as expected\n",
    "       buckettype: type of strategy for creating buckets, bins splits into even splits, quantiles splits into quantile buckets\n",
    "       buckets: number of quantiles to use in bucketing variables\n",
    "       axis: axis by which variables are defined, 0 for vertical, 1 for horizontal\n",
    "    Returns:\n",
    "       psi_values: ndarray of psi values for each variable\n",
    "    Author:\n",
    "       Matthew Burke\n",
    "       github.com/mwburke\n",
    "       worksofchart.com\n",
    "    '''\n",
    "\n",
    "    def psi(expected_array, actual_array, buckets):\n",
    "        '''Calculate the PSI for a single variable\n",
    "        Args:\n",
    "           expected_array: numpy array of original values\n",
    "           actual_array: numpy array of new values, same size as expected\n",
    "           buckets: number of percentile ranges to bucket the values into\n",
    "        Returns:\n",
    "           psi_value: calculated PSI value\n",
    "        '''\n",
    "\n",
    "        def scale_range (input, min, max):\n",
    "            input += -(np.min(input))\n",
    "            input /= np.max(input) / (max - min)\n",
    "            input += min\n",
    "            return input\n",
    "\n",
    "\n",
    "        breakpoints = np.arange(0, buckets + 1) / (buckets) * 100\n",
    "\n",
    "        if buckettype == 'bins':\n",
    "            breakpoints = scale_range(breakpoints, np.min(expected_array), np.max(expected_array))\n",
    "        elif buckettype == 'quantiles':\n",
    "            breakpoints = np.stack([np.percentile(expected_array, b) for b in breakpoints])\n",
    "\n",
    "\n",
    "\n",
    "        expected_percents = np.histogram(expected_array, breakpoints)[0] / len(expected_array)\n",
    "        actual_percents = np.histogram(actual_array, breakpoints)[0] / len(actual_array)\n",
    "\n",
    "        def sub_psi(e_perc, a_perc):\n",
    "            '''Calculate the actual PSI value from comparing the values.\n",
    "               Update the actual value to a very small number if equal to zero\n",
    "            '''\n",
    "            if a_perc == 0:\n",
    "                a_perc = 0.0001\n",
    "            if e_perc == 0:\n",
    "                e_perc = 0.0001\n",
    "\n",
    "            value = (e_perc - a_perc) * np.log(e_perc / a_perc)\n",
    "            return(value)\n",
    "\n",
    "        psi_value = np.sum(sub_psi(expected_percents[i], actual_percents[i]) for i in range(0, len(expected_percents)))\n",
    "\n",
    "        return(psi_value)\n",
    "\n",
    "    if len(expected.shape) == 1:\n",
    "        psi_values = np.empty(len(expected.shape))\n",
    "    else:\n",
    "        psi_values = np.empty(expected.shape[axis])\n",
    "\n",
    "    for i in range(0, len(psi_values)):\n",
    "        if len(psi_values) == 1:\n",
    "            psi_values = psi(expected, actual, buckets)\n",
    "        elif axis == 0:\n",
    "            psi_values[i] = psi(expected[:,i], actual[:,i], buckets)\n",
    "        elif axis == 1:\n",
    "            psi_values[i] = psi(expected[i,:], actual[i,:], buckets)\n",
    "\n",
    "    return(psi_values)"
   ]
  },
  {
   "cell_type": "code",
   "execution_count": 116,
   "metadata": {},
   "outputs": [],
   "source": [
    "def calculate_psi_categorical(actual, expected):\n",
    "    actual_perc = actual.value_counts()/len(actual)\n",
    "    expected_perc = expected.value_counts()/len(expected)\n",
    "    actual_classes = list(actual_perc.index) \n",
    "    expected_classes = list(expected_perc.index)\n",
    "    PSI = 0\n",
    "    classes = set(actual_classes + expected_classes)\n",
    "    for c in classes:\n",
    "        final_actual_perc = actual_perc[c] if c in actual_classes else 0.00001\n",
    "        final_expected_perc = expected_perc[c] if c in expected_classes else 0.00001\n",
    "        PSI += (final_actual_perc - final_expected_perc)*np.log(final_actual_perc/final_expected_perc)\n",
    "    return PSI"
   ]
  },
  {
   "cell_type": "code",
   "execution_count": 122,
   "metadata": {},
   "outputs": [],
   "source": [
    "numerical_features = ['MSSubClass', 'LotFrontage', 'LotArea', 'SalePrice', 'binarized', 'proba_pred']"
   ]
  },
  {
   "cell_type": "code",
   "execution_count": 123,
   "metadata": {},
   "outputs": [
    {
     "name": "stderr",
     "output_type": "stream",
     "text": [
      "C:\\Users\\leoal\\AppData\\Local\\Temp\\ipykernel_16288\\2966103336.py:58: DeprecationWarning:\n",
      "\n",
      "Calling np.sum(generator) is deprecated, and in the future will give a different result. Use np.sum(np.fromiter(generator)) or the python sum builtin instead.\n",
      "\n"
     ]
    },
    {
     "data": {
      "image/png": "[encoded data removed]",
      "text/plain": [
       "<Figure size 640x480 with 1 Axes>"
      ]
     },
     "metadata": {},
     "output_type": "display_data"
    }
   ],
   "source": [
    "psis_num = []\n",
    "#Using the github implementation to compute PSI's numerical features\n",
    "for feature_name in numerical_features:\n",
    "    psi = calculate_psi(reference[feature_name], analysis[feature_name], buckettype='bins', buckets=20, axis=0)\n",
    "    psis_num.append(psi)\n",
    "#Plot each feature's PSI value\n",
    "height = psis_num\n",
    "bars = numerical_features\n",
    "y_pos = np.arange(len(bars))\n",
    "plt.barh(y_pos, height)\n",
    "plt.axvline(x=0.2,color='red')\n",
    "plt.yticks(y_pos, bars)\n",
    "plt.xlabel(\"PSI\")\n",
    "plt.show()"
   ]
  },
  {
   "cell_type": "code",
   "execution_count": null,
   "metadata": {},
   "outputs": [],
   "source": []
  }
 ],
 "metadata": {
  "kernelspec": {
   "display_name": "Python 3",
   "language": "python",
   "name": "python3"
  },
  "language_info": {
   "codemirror_mode": {
    "name": "ipython",
    "version": 3
   },
   "file_extension": ".py",
   "mimetype": "text/x-python",
   "name": "python",
   "nbconvert_exporter": "python",
   "pygments_lexer": "ipython3",
   "version": "3.10.0"
  },
  "orig_nbformat": 4
 },
 "nbformat": 4,
 "nbformat_minor": 2
}
