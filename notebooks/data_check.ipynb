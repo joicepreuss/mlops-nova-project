{
 "cells": [
  {
   "cell_type": "code",
   "execution_count": 1,
   "metadata": {},
   "outputs": [],
   "source": [
    "import pandas as pd\n",
    "import numpy as np\n",
    "import nannyml as nml\n",
    "import matplotlib.pyplot as plt\n",
    "from IPython.display import display\n",
    "from sklearn.preprocessing import MinMaxScaler\n",
    "from sklearn.impute import SimpleImputer\n",
    "from nannyml.drift.multivariate.data_reconstruction.result import Result"
   ]
  },
  {
   "cell_type": "code",
   "execution_count": 2,
   "metadata": {},
   "outputs": [],
   "source": [
    "df = pd.read_csv('../data/01_raw/house-pricing.csv')"
   ]
  },
  {
   "cell_type": "code",
   "execution_count": 3,
   "metadata": {},
   "outputs": [],
   "source": [
    "def create_timestamp_column(df, column_name_year, column_name_month):\n",
    "    df['timestamp'] = pd.to_datetime(df[column_name_year].astype(str) + '-' + df[column_name_month].astype(str), format='%Y-%m')\n",
    "    \n",
    "    return df"
   ]
  },
  {
   "cell_type": "code",
   "execution_count": 4,
   "metadata": {},
   "outputs": [],
   "source": [
    "df = create_timestamp_column(df, column_name_year=\"YrSold\", column_name_month=\"MoSold\")"
   ]
  },
  {
   "cell_type": "code",
   "execution_count": 5,
   "metadata": {},
   "outputs": [],
   "source": [
    "def filter_rows_by_years(df, years, months=None):\n",
    "    filtered_df = df[df['timestamp'].dt.year.isin(years)]\n",
    "    \n",
    "    if months:\n",
    "        filtered_df = filtered_df[filtered_df['timestamp'].dt.month.isin(months)]\n",
    "    \n",
    "    return filtered_df"
   ]
  },
  {
   "cell_type": "code",
   "execution_count": 6,
   "metadata": {},
   "outputs": [
    {
     "data": {
      "text/plain": [
       "Index(['Id', 'MSSubClass', 'MSZoning', 'LotFrontage', 'LotArea', 'Street',\n",
       "       'Alley', 'LotShape', 'LandContour', 'Utilities', 'LotConfig',\n",
       "       'LandSlope', 'Neighborhood', 'Condition1', 'Condition2', 'BldgType',\n",
       "       'HouseStyle', 'OverallQual', 'OverallCond', 'YearBuilt', 'YearRemodAdd',\n",
       "       'RoofStyle', 'RoofMatl', 'Exterior1st', 'Exterior2nd', 'MasVnrType',\n",
       "       'MasVnrArea', 'ExterQual', 'ExterCond', 'Foundation', 'BsmtQual',\n",
       "       'BsmtCond', 'BsmtExposure', 'BsmtFinType1', 'BsmtFinSF1',\n",
       "       'BsmtFinType2', 'BsmtFinSF2', 'BsmtUnfSF', 'TotalBsmtSF', 'Heating',\n",
       "       'HeatingQC', 'CentralAir', 'Electrical', '1stFlrSF', '2ndFlrSF',\n",
       "       'LowQualFinSF', 'GrLivArea', 'BsmtFullBath', 'BsmtHalfBath', 'FullBath',\n",
       "       'HalfBath', 'BedroomAbvGr', 'KitchenAbvGr', 'KitchenQual',\n",
       "       'TotRmsAbvGrd', 'Functional', 'Fireplaces', 'FireplaceQu', 'GarageType',\n",
       "       'GarageYrBlt', 'GarageFinish', 'GarageCars', 'GarageArea', 'GarageQual',\n",
       "       'GarageCond', 'PavedDrive', 'WoodDeckSF', 'OpenPorchSF',\n",
       "       'EnclosedPorch', '3SsnPorch', 'ScreenPorch', 'PoolArea', 'PoolQC',\n",
       "       'Fence', 'MiscFeature', 'MiscVal', 'MoSold', 'YrSold', 'SaleType',\n",
       "       'SaleCondition', 'SalePrice', 'timestamp'],\n",
       "      dtype='object')"
      ]
     },
     "execution_count": 6,
     "metadata": {},
     "output_type": "execute_result"
    }
   ],
   "source": [
    "df.columns"
   ]
  },
  {
   "cell_type": "code",
   "execution_count": 7,
   "metadata": {},
   "outputs": [],
   "source": [
    "important_columns = [\"OverallQual\", \"GrLivArea\", \"2ndFlrSF\", \"TotalBsmtSF\", \"1stFlrSF\", \"BsmtFinSF1\", \"YearBuilt\", \"LotArea\", \"GarageArea\", \"GarageCars\"]"
   ]
  },
  {
   "cell_type": "code",
   "execution_count": 8,
   "metadata": {},
   "outputs": [],
   "source": [
    "# filter df by important columns\n",
    "important_columns.append(\"timestamp\")\n",
    "df = df[important_columns]\n",
    "important_columns.remove(\"timestamp\")"
   ]
  },
  {
   "cell_type": "code",
   "execution_count": 9,
   "metadata": {},
   "outputs": [],
   "source": [
    "# mean_value = df['LotFrontage'].mean()\n",
    "# df= df.fillna(mean_value)"
   ]
  },
  {
   "cell_type": "code",
   "execution_count": 10,
   "metadata": {},
   "outputs": [
    {
     "name": "stdout",
     "output_type": "stream",
     "text": [
      "<class 'pandas.core.frame.DataFrame'>\n",
      "RangeIndex: 1460 entries, 0 to 1459\n",
      "Data columns (total 11 columns):\n",
      " #   Column       Non-Null Count  Dtype         \n",
      "---  ------       --------------  -----         \n",
      " 0   OverallQual  1460 non-null   int64         \n",
      " 1   GrLivArea    1460 non-null   int64         \n",
      " 2   2ndFlrSF     1460 non-null   int64         \n",
      " 3   TotalBsmtSF  1460 non-null   int64         \n",
      " 4   1stFlrSF     1460 non-null   int64         \n",
      " 5   BsmtFinSF1   1460 non-null   int64         \n",
      " 6   YearBuilt    1460 non-null   int64         \n",
      " 7   LotArea      1460 non-null   int64         \n",
      " 8   GarageArea   1460 non-null   int64         \n",
      " 9   GarageCars   1460 non-null   int64         \n",
      " 10  timestamp    1460 non-null   datetime64[ns]\n",
      "dtypes: datetime64[ns](1), int64(10)\n",
      "memory usage: 125.6 KB\n"
     ]
    }
   ],
   "source": [
    "df.info()"
   ]
  },
  {
   "cell_type": "code",
   "execution_count": 11,
   "metadata": {},
   "outputs": [],
   "source": [
    "reference = filter_rows_by_years(df, [2007, 2008])\n",
    "analysis = filter_rows_by_years(df, [2009, 2010])"
   ]
  },
  {
   "cell_type": "code",
   "execution_count": 12,
   "metadata": {},
   "outputs": [
    {
     "data": {
      "text/html": [
       "<div>\n",
       "<style scoped>\n",
       "    .dataframe tbody tr th:only-of-type {\n",
       "        vertical-align: middle;\n",
       "    }\n",
       "\n",
       "    .dataframe tbody tr th {\n",
       "        vertical-align: top;\n",
       "    }\n",
       "\n",
       "    .dataframe thead th {\n",
       "        text-align: right;\n",
       "    }\n",
       "</style>\n",
       "<table border=\"1\" class=\"dataframe\">\n",
       "  <thead>\n",
       "    <tr style=\"text-align: right;\">\n",
       "      <th></th>\n",
       "      <th>OverallQual</th>\n",
       "      <th>GrLivArea</th>\n",
       "      <th>2ndFlrSF</th>\n",
       "      <th>TotalBsmtSF</th>\n",
       "      <th>1stFlrSF</th>\n",
       "      <th>BsmtFinSF1</th>\n",
       "      <th>YearBuilt</th>\n",
       "      <th>LotArea</th>\n",
       "      <th>GarageArea</th>\n",
       "      <th>GarageCars</th>\n",
       "    </tr>\n",
       "  </thead>\n",
       "  <tbody>\n",
       "    <tr>\n",
       "      <th>count</th>\n",
       "      <td>1460.000000</td>\n",
       "      <td>1460.000000</td>\n",
       "      <td>1460.000000</td>\n",
       "      <td>1460.000000</td>\n",
       "      <td>1460.000000</td>\n",
       "      <td>1460.000000</td>\n",
       "      <td>1460.000000</td>\n",
       "      <td>1460.000000</td>\n",
       "      <td>1460.000000</td>\n",
       "      <td>1460.000000</td>\n",
       "    </tr>\n",
       "    <tr>\n",
       "      <th>mean</th>\n",
       "      <td>6.099315</td>\n",
       "      <td>1515.463699</td>\n",
       "      <td>346.992466</td>\n",
       "      <td>1057.429452</td>\n",
       "      <td>1162.626712</td>\n",
       "      <td>443.639726</td>\n",
       "      <td>1971.267808</td>\n",
       "      <td>10516.828082</td>\n",
       "      <td>472.980137</td>\n",
       "      <td>1.767123</td>\n",
       "    </tr>\n",
       "    <tr>\n",
       "      <th>std</th>\n",
       "      <td>1.382997</td>\n",
       "      <td>525.480383</td>\n",
       "      <td>436.528436</td>\n",
       "      <td>438.705324</td>\n",
       "      <td>386.587738</td>\n",
       "      <td>456.098091</td>\n",
       "      <td>30.202904</td>\n",
       "      <td>9981.264932</td>\n",
       "      <td>213.804841</td>\n",
       "      <td>0.747315</td>\n",
       "    </tr>\n",
       "    <tr>\n",
       "      <th>min</th>\n",
       "      <td>1.000000</td>\n",
       "      <td>334.000000</td>\n",
       "      <td>0.000000</td>\n",
       "      <td>0.000000</td>\n",
       "      <td>334.000000</td>\n",
       "      <td>0.000000</td>\n",
       "      <td>1872.000000</td>\n",
       "      <td>1300.000000</td>\n",
       "      <td>0.000000</td>\n",
       "      <td>0.000000</td>\n",
       "    </tr>\n",
       "    <tr>\n",
       "      <th>25%</th>\n",
       "      <td>5.000000</td>\n",
       "      <td>1129.500000</td>\n",
       "      <td>0.000000</td>\n",
       "      <td>795.750000</td>\n",
       "      <td>882.000000</td>\n",
       "      <td>0.000000</td>\n",
       "      <td>1954.000000</td>\n",
       "      <td>7553.500000</td>\n",
       "      <td>334.500000</td>\n",
       "      <td>1.000000</td>\n",
       "    </tr>\n",
       "    <tr>\n",
       "      <th>50%</th>\n",
       "      <td>6.000000</td>\n",
       "      <td>1464.000000</td>\n",
       "      <td>0.000000</td>\n",
       "      <td>991.500000</td>\n",
       "      <td>1087.000000</td>\n",
       "      <td>383.500000</td>\n",
       "      <td>1973.000000</td>\n",
       "      <td>9478.500000</td>\n",
       "      <td>480.000000</td>\n",
       "      <td>2.000000</td>\n",
       "    </tr>\n",
       "    <tr>\n",
       "      <th>75%</th>\n",
       "      <td>7.000000</td>\n",
       "      <td>1776.750000</td>\n",
       "      <td>728.000000</td>\n",
       "      <td>1298.250000</td>\n",
       "      <td>1391.250000</td>\n",
       "      <td>712.250000</td>\n",
       "      <td>2000.000000</td>\n",
       "      <td>11601.500000</td>\n",
       "      <td>576.000000</td>\n",
       "      <td>2.000000</td>\n",
       "    </tr>\n",
       "    <tr>\n",
       "      <th>max</th>\n",
       "      <td>10.000000</td>\n",
       "      <td>5642.000000</td>\n",
       "      <td>2065.000000</td>\n",
       "      <td>6110.000000</td>\n",
       "      <td>4692.000000</td>\n",
       "      <td>5644.000000</td>\n",
       "      <td>2010.000000</td>\n",
       "      <td>215245.000000</td>\n",
       "      <td>1418.000000</td>\n",
       "      <td>4.000000</td>\n",
       "    </tr>\n",
       "  </tbody>\n",
       "</table>\n",
       "</div>"
      ],
      "text/plain": [
       "       OverallQual    GrLivArea     2ndFlrSF  TotalBsmtSF     1stFlrSF  \\\n",
       "count  1460.000000  1460.000000  1460.000000  1460.000000  1460.000000   \n",
       "mean      6.099315  1515.463699   346.992466  1057.429452  1162.626712   \n",
       "std       1.382997   525.480383   436.528436   438.705324   386.587738   \n",
       "min       1.000000   334.000000     0.000000     0.000000   334.000000   \n",
       "25%       5.000000  1129.500000     0.000000   795.750000   882.000000   \n",
       "50%       6.000000  1464.000000     0.000000   991.500000  1087.000000   \n",
       "75%       7.000000  1776.750000   728.000000  1298.250000  1391.250000   \n",
       "max      10.000000  5642.000000  2065.000000  6110.000000  4692.000000   \n",
       "\n",
       "        BsmtFinSF1    YearBuilt        LotArea   GarageArea   GarageCars  \n",
       "count  1460.000000  1460.000000    1460.000000  1460.000000  1460.000000  \n",
       "mean    443.639726  1971.267808   10516.828082   472.980137     1.767123  \n",
       "std     456.098091    30.202904    9981.264932   213.804841     0.747315  \n",
       "min       0.000000  1872.000000    1300.000000     0.000000     0.000000  \n",
       "25%       0.000000  1954.000000    7553.500000   334.500000     1.000000  \n",
       "50%     383.500000  1973.000000    9478.500000   480.000000     2.000000  \n",
       "75%     712.250000  2000.000000   11601.500000   576.000000     2.000000  \n",
       "max    5644.000000  2010.000000  215245.000000  1418.000000     4.000000  "
      ]
     },
     "execution_count": 12,
     "metadata": {},
     "output_type": "execute_result"
    }
   ],
   "source": [
    "df.describe()"
   ]
  },
  {
   "cell_type": "code",
   "execution_count": 13,
   "metadata": {},
   "outputs": [],
   "source": [
    "bias = np.random.randint(20, 100, size=len(analysis))"
   ]
  },
  {
   "cell_type": "code",
   "execution_count": 14,
   "metadata": {},
   "outputs": [
    {
     "data": {
      "text/html": [
       "<div>\n",
       "<style scoped>\n",
       "    .dataframe tbody tr th:only-of-type {\n",
       "        vertical-align: middle;\n",
       "    }\n",
       "\n",
       "    .dataframe tbody tr th {\n",
       "        vertical-align: top;\n",
       "    }\n",
       "\n",
       "    .dataframe thead th {\n",
       "        text-align: right;\n",
       "    }\n",
       "</style>\n",
       "<table border=\"1\" class=\"dataframe\">\n",
       "  <thead>\n",
       "    <tr style=\"text-align: right;\">\n",
       "      <th></th>\n",
       "      <th>OverallQual</th>\n",
       "      <th>GrLivArea</th>\n",
       "      <th>2ndFlrSF</th>\n",
       "      <th>TotalBsmtSF</th>\n",
       "      <th>1stFlrSF</th>\n",
       "      <th>BsmtFinSF1</th>\n",
       "      <th>YearBuilt</th>\n",
       "      <th>LotArea</th>\n",
       "      <th>GarageArea</th>\n",
       "      <th>GarageCars</th>\n",
       "      <th>timestamp</th>\n",
       "    </tr>\n",
       "  </thead>\n",
       "  <tbody>\n",
       "    <tr>\n",
       "      <th>5</th>\n",
       "      <td>5</td>\n",
       "      <td>1362</td>\n",
       "      <td>566</td>\n",
       "      <td>796</td>\n",
       "      <td>796</td>\n",
       "      <td>732</td>\n",
       "      <td>1993</td>\n",
       "      <td>14115</td>\n",
       "      <td>480</td>\n",
       "      <td>2</td>\n",
       "      <td>2009-10-01</td>\n",
       "    </tr>\n",
       "    <tr>\n",
       "      <th>7</th>\n",
       "      <td>7</td>\n",
       "      <td>2090</td>\n",
       "      <td>983</td>\n",
       "      <td>1107</td>\n",
       "      <td>1107</td>\n",
       "      <td>859</td>\n",
       "      <td>1973</td>\n",
       "      <td>10382</td>\n",
       "      <td>484</td>\n",
       "      <td>2</td>\n",
       "      <td>2009-11-01</td>\n",
       "    </tr>\n",
       "    <tr>\n",
       "      <th>16</th>\n",
       "      <td>6</td>\n",
       "      <td>1004</td>\n",
       "      <td>0</td>\n",
       "      <td>1004</td>\n",
       "      <td>1004</td>\n",
       "      <td>578</td>\n",
       "      <td>1970</td>\n",
       "      <td>11241</td>\n",
       "      <td>480</td>\n",
       "      <td>2</td>\n",
       "      <td>2010-03-01</td>\n",
       "    </tr>\n",
       "    <tr>\n",
       "      <th>19</th>\n",
       "      <td>5</td>\n",
       "      <td>1339</td>\n",
       "      <td>0</td>\n",
       "      <td>1029</td>\n",
       "      <td>1339</td>\n",
       "      <td>504</td>\n",
       "      <td>1958</td>\n",
       "      <td>7560</td>\n",
       "      <td>294</td>\n",
       "      <td>1</td>\n",
       "      <td>2009-05-01</td>\n",
       "    </tr>\n",
       "    <tr>\n",
       "      <th>24</th>\n",
       "      <td>5</td>\n",
       "      <td>1060</td>\n",
       "      <td>0</td>\n",
       "      <td>1060</td>\n",
       "      <td>1060</td>\n",
       "      <td>188</td>\n",
       "      <td>1968</td>\n",
       "      <td>8246</td>\n",
       "      <td>270</td>\n",
       "      <td>1</td>\n",
       "      <td>2010-05-01</td>\n",
       "    </tr>\n",
       "    <tr>\n",
       "      <th>...</th>\n",
       "      <td>...</td>\n",
       "      <td>...</td>\n",
       "      <td>...</td>\n",
       "      <td>...</td>\n",
       "      <td>...</td>\n",
       "      <td>...</td>\n",
       "      <td>...</td>\n",
       "      <td>...</td>\n",
       "      <td>...</td>\n",
       "      <td>...</td>\n",
       "      <td>...</td>\n",
       "    </tr>\n",
       "    <tr>\n",
       "      <th>1451</th>\n",
       "      <td>8</td>\n",
       "      <td>1578</td>\n",
       "      <td>0</td>\n",
       "      <td>1573</td>\n",
       "      <td>1578</td>\n",
       "      <td>0</td>\n",
       "      <td>2008</td>\n",
       "      <td>9262</td>\n",
       "      <td>840</td>\n",
       "      <td>3</td>\n",
       "      <td>2009-05-01</td>\n",
       "    </tr>\n",
       "    <tr>\n",
       "      <th>1454</th>\n",
       "      <td>7</td>\n",
       "      <td>1221</td>\n",
       "      <td>0</td>\n",
       "      <td>1221</td>\n",
       "      <td>1221</td>\n",
       "      <td>410</td>\n",
       "      <td>2004</td>\n",
       "      <td>7500</td>\n",
       "      <td>400</td>\n",
       "      <td>2</td>\n",
       "      <td>2009-10-01</td>\n",
       "    </tr>\n",
       "    <tr>\n",
       "      <th>1456</th>\n",
       "      <td>6</td>\n",
       "      <td>2073</td>\n",
       "      <td>0</td>\n",
       "      <td>1542</td>\n",
       "      <td>2073</td>\n",
       "      <td>790</td>\n",
       "      <td>1978</td>\n",
       "      <td>13175</td>\n",
       "      <td>500</td>\n",
       "      <td>2</td>\n",
       "      <td>2010-02-01</td>\n",
       "    </tr>\n",
       "    <tr>\n",
       "      <th>1457</th>\n",
       "      <td>7</td>\n",
       "      <td>2340</td>\n",
       "      <td>1152</td>\n",
       "      <td>1152</td>\n",
       "      <td>1188</td>\n",
       "      <td>275</td>\n",
       "      <td>1941</td>\n",
       "      <td>9042</td>\n",
       "      <td>252</td>\n",
       "      <td>1</td>\n",
       "      <td>2010-05-01</td>\n",
       "    </tr>\n",
       "    <tr>\n",
       "      <th>1458</th>\n",
       "      <td>5</td>\n",
       "      <td>1078</td>\n",
       "      <td>0</td>\n",
       "      <td>1078</td>\n",
       "      <td>1078</td>\n",
       "      <td>49</td>\n",
       "      <td>1950</td>\n",
       "      <td>9717</td>\n",
       "      <td>240</td>\n",
       "      <td>1</td>\n",
       "      <td>2010-04-01</td>\n",
       "    </tr>\n",
       "  </tbody>\n",
       "</table>\n",
       "<p>513 rows × 11 columns</p>\n",
       "</div>"
      ],
      "text/plain": [
       "      OverallQual  GrLivArea  2ndFlrSF  TotalBsmtSF  1stFlrSF  BsmtFinSF1  \\\n",
       "5               5       1362       566          796       796         732   \n",
       "7               7       2090       983         1107      1107         859   \n",
       "16              6       1004         0         1004      1004         578   \n",
       "19              5       1339         0         1029      1339         504   \n",
       "24              5       1060         0         1060      1060         188   \n",
       "...           ...        ...       ...          ...       ...         ...   \n",
       "1451            8       1578         0         1573      1578           0   \n",
       "1454            7       1221         0         1221      1221         410   \n",
       "1456            6       2073         0         1542      2073         790   \n",
       "1457            7       2340      1152         1152      1188         275   \n",
       "1458            5       1078         0         1078      1078          49   \n",
       "\n",
       "      YearBuilt  LotArea  GarageArea  GarageCars  timestamp  \n",
       "5          1993    14115         480           2 2009-10-01  \n",
       "7          1973    10382         484           2 2009-11-01  \n",
       "16         1970    11241         480           2 2010-03-01  \n",
       "19         1958     7560         294           1 2009-05-01  \n",
       "24         1968     8246         270           1 2010-05-01  \n",
       "...         ...      ...         ...         ...        ...  \n",
       "1451       2008     9262         840           3 2009-05-01  \n",
       "1454       2004     7500         400           2 2009-10-01  \n",
       "1456       1978    13175         500           2 2010-02-01  \n",
       "1457       1941     9042         252           1 2010-05-01  \n",
       "1458       1950     9717         240           1 2010-04-01  \n",
       "\n",
       "[513 rows x 11 columns]"
      ]
     },
     "execution_count": 14,
     "metadata": {},
     "output_type": "execute_result"
    }
   ],
   "source": [
    "analysis"
   ]
  },
  {
   "cell_type": "code",
   "execution_count": 15,
   "metadata": {},
   "outputs": [
    {
     "name": "stderr",
     "output_type": "stream",
     "text": [
      "C:\\Users\\jkick\\AppData\\Local\\Temp\\ipykernel_20180\\547201236.py:1: SettingWithCopyWarning: \n",
      "A value is trying to be set on a copy of a slice from a DataFrame.\n",
      "Try using .loc[row_indexer,col_indexer] = value instead\n",
      "\n",
      "See the caveats in the documentation: https://pandas.pydata.org/pandas-docs/stable/user_guide/indexing.html#returning-a-view-versus-a-copy\n",
      "  analysis['OverallQual'] = analysis['OverallQual'] + bias\n"
     ]
    }
   ],
   "source": [
    "analysis['OverallQual'] = analysis['OverallQual'] + bias"
   ]
  },
  {
   "cell_type": "code",
   "execution_count": 16,
   "metadata": {},
   "outputs": [
    {
     "data": {
      "text/html": [
       "<div>\n",
       "<style scoped>\n",
       "    .dataframe tbody tr th:only-of-type {\n",
       "        vertical-align: middle;\n",
       "    }\n",
       "\n",
       "    .dataframe tbody tr th {\n",
       "        vertical-align: top;\n",
       "    }\n",
       "\n",
       "    .dataframe thead th {\n",
       "        text-align: right;\n",
       "    }\n",
       "</style>\n",
       "<table border=\"1\" class=\"dataframe\">\n",
       "  <thead>\n",
       "    <tr style=\"text-align: right;\">\n",
       "      <th></th>\n",
       "      <th>OverallQual</th>\n",
       "      <th>GrLivArea</th>\n",
       "      <th>2ndFlrSF</th>\n",
       "      <th>TotalBsmtSF</th>\n",
       "      <th>1stFlrSF</th>\n",
       "      <th>BsmtFinSF1</th>\n",
       "      <th>YearBuilt</th>\n",
       "      <th>LotArea</th>\n",
       "      <th>GarageArea</th>\n",
       "      <th>GarageCars</th>\n",
       "      <th>timestamp</th>\n",
       "    </tr>\n",
       "  </thead>\n",
       "  <tbody>\n",
       "    <tr>\n",
       "      <th>5</th>\n",
       "      <td>63</td>\n",
       "      <td>1362</td>\n",
       "      <td>566</td>\n",
       "      <td>796</td>\n",
       "      <td>796</td>\n",
       "      <td>732</td>\n",
       "      <td>1993</td>\n",
       "      <td>14115</td>\n",
       "      <td>480</td>\n",
       "      <td>2</td>\n",
       "      <td>2009-10-01</td>\n",
       "    </tr>\n",
       "    <tr>\n",
       "      <th>7</th>\n",
       "      <td>101</td>\n",
       "      <td>2090</td>\n",
       "      <td>983</td>\n",
       "      <td>1107</td>\n",
       "      <td>1107</td>\n",
       "      <td>859</td>\n",
       "      <td>1973</td>\n",
       "      <td>10382</td>\n",
       "      <td>484</td>\n",
       "      <td>2</td>\n",
       "      <td>2009-11-01</td>\n",
       "    </tr>\n",
       "    <tr>\n",
       "      <th>16</th>\n",
       "      <td>79</td>\n",
       "      <td>1004</td>\n",
       "      <td>0</td>\n",
       "      <td>1004</td>\n",
       "      <td>1004</td>\n",
       "      <td>578</td>\n",
       "      <td>1970</td>\n",
       "      <td>11241</td>\n",
       "      <td>480</td>\n",
       "      <td>2</td>\n",
       "      <td>2010-03-01</td>\n",
       "    </tr>\n",
       "    <tr>\n",
       "      <th>19</th>\n",
       "      <td>93</td>\n",
       "      <td>1339</td>\n",
       "      <td>0</td>\n",
       "      <td>1029</td>\n",
       "      <td>1339</td>\n",
       "      <td>504</td>\n",
       "      <td>1958</td>\n",
       "      <td>7560</td>\n",
       "      <td>294</td>\n",
       "      <td>1</td>\n",
       "      <td>2009-05-01</td>\n",
       "    </tr>\n",
       "    <tr>\n",
       "      <th>24</th>\n",
       "      <td>31</td>\n",
       "      <td>1060</td>\n",
       "      <td>0</td>\n",
       "      <td>1060</td>\n",
       "      <td>1060</td>\n",
       "      <td>188</td>\n",
       "      <td>1968</td>\n",
       "      <td>8246</td>\n",
       "      <td>270</td>\n",
       "      <td>1</td>\n",
       "      <td>2010-05-01</td>\n",
       "    </tr>\n",
       "    <tr>\n",
       "      <th>...</th>\n",
       "      <td>...</td>\n",
       "      <td>...</td>\n",
       "      <td>...</td>\n",
       "      <td>...</td>\n",
       "      <td>...</td>\n",
       "      <td>...</td>\n",
       "      <td>...</td>\n",
       "      <td>...</td>\n",
       "      <td>...</td>\n",
       "      <td>...</td>\n",
       "      <td>...</td>\n",
       "    </tr>\n",
       "    <tr>\n",
       "      <th>1451</th>\n",
       "      <td>71</td>\n",
       "      <td>1578</td>\n",
       "      <td>0</td>\n",
       "      <td>1573</td>\n",
       "      <td>1578</td>\n",
       "      <td>0</td>\n",
       "      <td>2008</td>\n",
       "      <td>9262</td>\n",
       "      <td>840</td>\n",
       "      <td>3</td>\n",
       "      <td>2009-05-01</td>\n",
       "    </tr>\n",
       "    <tr>\n",
       "      <th>1454</th>\n",
       "      <td>105</td>\n",
       "      <td>1221</td>\n",
       "      <td>0</td>\n",
       "      <td>1221</td>\n",
       "      <td>1221</td>\n",
       "      <td>410</td>\n",
       "      <td>2004</td>\n",
       "      <td>7500</td>\n",
       "      <td>400</td>\n",
       "      <td>2</td>\n",
       "      <td>2009-10-01</td>\n",
       "    </tr>\n",
       "    <tr>\n",
       "      <th>1456</th>\n",
       "      <td>103</td>\n",
       "      <td>2073</td>\n",
       "      <td>0</td>\n",
       "      <td>1542</td>\n",
       "      <td>2073</td>\n",
       "      <td>790</td>\n",
       "      <td>1978</td>\n",
       "      <td>13175</td>\n",
       "      <td>500</td>\n",
       "      <td>2</td>\n",
       "      <td>2010-02-01</td>\n",
       "    </tr>\n",
       "    <tr>\n",
       "      <th>1457</th>\n",
       "      <td>62</td>\n",
       "      <td>2340</td>\n",
       "      <td>1152</td>\n",
       "      <td>1152</td>\n",
       "      <td>1188</td>\n",
       "      <td>275</td>\n",
       "      <td>1941</td>\n",
       "      <td>9042</td>\n",
       "      <td>252</td>\n",
       "      <td>1</td>\n",
       "      <td>2010-05-01</td>\n",
       "    </tr>\n",
       "    <tr>\n",
       "      <th>1458</th>\n",
       "      <td>39</td>\n",
       "      <td>1078</td>\n",
       "      <td>0</td>\n",
       "      <td>1078</td>\n",
       "      <td>1078</td>\n",
       "      <td>49</td>\n",
       "      <td>1950</td>\n",
       "      <td>9717</td>\n",
       "      <td>240</td>\n",
       "      <td>1</td>\n",
       "      <td>2010-04-01</td>\n",
       "    </tr>\n",
       "  </tbody>\n",
       "</table>\n",
       "<p>513 rows × 11 columns</p>\n",
       "</div>"
      ],
      "text/plain": [
       "      OverallQual  GrLivArea  2ndFlrSF  TotalBsmtSF  1stFlrSF  BsmtFinSF1  \\\n",
       "5              63       1362       566          796       796         732   \n",
       "7             101       2090       983         1107      1107         859   \n",
       "16             79       1004         0         1004      1004         578   \n",
       "19             93       1339         0         1029      1339         504   \n",
       "24             31       1060         0         1060      1060         188   \n",
       "...           ...        ...       ...          ...       ...         ...   \n",
       "1451           71       1578         0         1573      1578           0   \n",
       "1454          105       1221         0         1221      1221         410   \n",
       "1456          103       2073         0         1542      2073         790   \n",
       "1457           62       2340      1152         1152      1188         275   \n",
       "1458           39       1078         0         1078      1078          49   \n",
       "\n",
       "      YearBuilt  LotArea  GarageArea  GarageCars  timestamp  \n",
       "5          1993    14115         480           2 2009-10-01  \n",
       "7          1973    10382         484           2 2009-11-01  \n",
       "16         1970    11241         480           2 2010-03-01  \n",
       "19         1958     7560         294           1 2009-05-01  \n",
       "24         1968     8246         270           1 2010-05-01  \n",
       "...         ...      ...         ...         ...        ...  \n",
       "1451       2008     9262         840           3 2009-05-01  \n",
       "1454       2004     7500         400           2 2009-10-01  \n",
       "1456       1978    13175         500           2 2010-02-01  \n",
       "1457       1941     9042         252           1 2010-05-01  \n",
       "1458       1950     9717         240           1 2010-04-01  \n",
       "\n",
       "[513 rows x 11 columns]"
      ]
     },
     "execution_count": 16,
     "metadata": {},
     "output_type": "execute_result"
    }
   ],
   "source": [
    "analysis"
   ]
  },
  {
   "cell_type": "code",
   "execution_count": 17,
   "metadata": {},
   "outputs": [],
   "source": [
    "def calculate_drift(reference, analysis, feature_column_names):  \n",
    "    calc = nml.DataReconstructionDriftCalculator(column_names=feature_column_names,\n",
    "                                                 timestamp_column_name='timestamp'\n",
    "                                                 )\n",
    "    calc.fit(reference)\n",
    "\n",
    "    results = calc.calculate(analysis)\n",
    "\n",
    "    return results"
   ]
  },
  {
   "cell_type": "code",
   "execution_count": 18,
   "metadata": {},
   "outputs": [],
   "source": [
    "result_years = calculate_drift(reference, analysis, important_columns)"
   ]
  },
  {
   "cell_type": "code",
   "execution_count": 19,
   "metadata": {},
   "outputs": [
    {
     "data": {
      "text/html": [
       "<div>\n",
       "<style scoped>\n",
       "    .dataframe tbody tr th:only-of-type {\n",
       "        vertical-align: middle;\n",
       "    }\n",
       "\n",
       "    .dataframe tbody tr th {\n",
       "        vertical-align: top;\n",
       "    }\n",
       "\n",
       "    .dataframe thead tr th {\n",
       "        text-align: left;\n",
       "    }\n",
       "</style>\n",
       "<table border=\"1\" class=\"dataframe\">\n",
       "  <thead>\n",
       "    <tr>\n",
       "      <th></th>\n",
       "      <th colspan=\"7\" halign=\"left\">chunk</th>\n",
       "      <th colspan=\"7\" halign=\"left\">reconstruction_error</th>\n",
       "    </tr>\n",
       "    <tr>\n",
       "      <th></th>\n",
       "      <th>key</th>\n",
       "      <th>chunk_index</th>\n",
       "      <th>start_index</th>\n",
       "      <th>end_index</th>\n",
       "      <th>start_date</th>\n",
       "      <th>end_date</th>\n",
       "      <th>period</th>\n",
       "      <th>sampling_error</th>\n",
       "      <th>value</th>\n",
       "      <th>upper_confidence_boundary</th>\n",
       "      <th>lower_confidence_boundary</th>\n",
       "      <th>upper_threshold</th>\n",
       "      <th>lower_threshold</th>\n",
       "      <th>alert</th>\n",
       "    </tr>\n",
       "  </thead>\n",
       "  <tbody>\n",
       "    <tr>\n",
       "      <th>0</th>\n",
       "      <td>[0:50]</td>\n",
       "      <td>0</td>\n",
       "      <td>0</td>\n",
       "      <td>50</td>\n",
       "      <td>2009-01-01</td>\n",
       "      <td>2009-04-01</td>\n",
       "      <td>analysis</td>\n",
       "      <td>0.121452</td>\n",
       "      <td>37.871116</td>\n",
       "      <td>38.235473</td>\n",
       "      <td>37.506760</td>\n",
       "      <td>1.609959</td>\n",
       "      <td>1.112769</td>\n",
       "      <td>True</td>\n",
       "    </tr>\n",
       "    <tr>\n",
       "      <th>1</th>\n",
       "      <td>[51:101]</td>\n",
       "      <td>1</td>\n",
       "      <td>51</td>\n",
       "      <td>101</td>\n",
       "      <td>2009-04-01</td>\n",
       "      <td>2009-05-01</td>\n",
       "      <td>analysis</td>\n",
       "      <td>0.121452</td>\n",
       "      <td>39.760414</td>\n",
       "      <td>40.124771</td>\n",
       "      <td>39.396058</td>\n",
       "      <td>1.609959</td>\n",
       "      <td>1.112769</td>\n",
       "      <td>True</td>\n",
       "    </tr>\n",
       "    <tr>\n",
       "      <th>2</th>\n",
       "      <td>[102:152]</td>\n",
       "      <td>2</td>\n",
       "      <td>102</td>\n",
       "      <td>152</td>\n",
       "      <td>2009-05-01</td>\n",
       "      <td>2009-06-01</td>\n",
       "      <td>analysis</td>\n",
       "      <td>0.121452</td>\n",
       "      <td>39.810893</td>\n",
       "      <td>40.175249</td>\n",
       "      <td>39.446536</td>\n",
       "      <td>1.609959</td>\n",
       "      <td>1.112769</td>\n",
       "      <td>True</td>\n",
       "    </tr>\n",
       "    <tr>\n",
       "      <th>3</th>\n",
       "      <td>[153:203]</td>\n",
       "      <td>3</td>\n",
       "      <td>153</td>\n",
       "      <td>203</td>\n",
       "      <td>2009-06-01</td>\n",
       "      <td>2009-07-01</td>\n",
       "      <td>analysis</td>\n",
       "      <td>0.121452</td>\n",
       "      <td>38.435934</td>\n",
       "      <td>38.800290</td>\n",
       "      <td>38.071577</td>\n",
       "      <td>1.609959</td>\n",
       "      <td>1.112769</td>\n",
       "      <td>True</td>\n",
       "    </tr>\n",
       "    <tr>\n",
       "      <th>4</th>\n",
       "      <td>[204:254]</td>\n",
       "      <td>4</td>\n",
       "      <td>204</td>\n",
       "      <td>254</td>\n",
       "      <td>2009-07-01</td>\n",
       "      <td>2009-09-01</td>\n",
       "      <td>analysis</td>\n",
       "      <td>0.121452</td>\n",
       "      <td>41.114150</td>\n",
       "      <td>41.478507</td>\n",
       "      <td>40.749794</td>\n",
       "      <td>1.609959</td>\n",
       "      <td>1.112769</td>\n",
       "      <td>True</td>\n",
       "    </tr>\n",
       "    <tr>\n",
       "      <th>5</th>\n",
       "      <td>[255:305]</td>\n",
       "      <td>5</td>\n",
       "      <td>255</td>\n",
       "      <td>305</td>\n",
       "      <td>2009-09-01</td>\n",
       "      <td>2009-11-01</td>\n",
       "      <td>analysis</td>\n",
       "      <td>0.121452</td>\n",
       "      <td>42.974059</td>\n",
       "      <td>43.338415</td>\n",
       "      <td>42.609702</td>\n",
       "      <td>1.609959</td>\n",
       "      <td>1.112769</td>\n",
       "      <td>True</td>\n",
       "    </tr>\n",
       "    <tr>\n",
       "      <th>6</th>\n",
       "      <td>[306:356]</td>\n",
       "      <td>6</td>\n",
       "      <td>306</td>\n",
       "      <td>356</td>\n",
       "      <td>2009-11-01</td>\n",
       "      <td>2010-02-01</td>\n",
       "      <td>analysis</td>\n",
       "      <td>0.121452</td>\n",
       "      <td>40.851845</td>\n",
       "      <td>41.216202</td>\n",
       "      <td>40.487489</td>\n",
       "      <td>1.609959</td>\n",
       "      <td>1.112769</td>\n",
       "      <td>True</td>\n",
       "    </tr>\n",
       "    <tr>\n",
       "      <th>7</th>\n",
       "      <td>[357:407]</td>\n",
       "      <td>7</td>\n",
       "      <td>357</td>\n",
       "      <td>407</td>\n",
       "      <td>2010-02-01</td>\n",
       "      <td>2010-04-01</td>\n",
       "      <td>analysis</td>\n",
       "      <td>0.121452</td>\n",
       "      <td>38.514332</td>\n",
       "      <td>38.878689</td>\n",
       "      <td>38.149976</td>\n",
       "      <td>1.609959</td>\n",
       "      <td>1.112769</td>\n",
       "      <td>True</td>\n",
       "    </tr>\n",
       "    <tr>\n",
       "      <th>8</th>\n",
       "      <td>[408:458]</td>\n",
       "      <td>8</td>\n",
       "      <td>408</td>\n",
       "      <td>458</td>\n",
       "      <td>2010-04-01</td>\n",
       "      <td>2010-05-01</td>\n",
       "      <td>analysis</td>\n",
       "      <td>0.121452</td>\n",
       "      <td>43.203569</td>\n",
       "      <td>43.567926</td>\n",
       "      <td>42.839213</td>\n",
       "      <td>1.609959</td>\n",
       "      <td>1.112769</td>\n",
       "      <td>True</td>\n",
       "    </tr>\n",
       "    <tr>\n",
       "      <th>9</th>\n",
       "      <td>[510:509]</td>\n",
       "      <td>9</td>\n",
       "      <td>459</td>\n",
       "      <td>512</td>\n",
       "      <td>2010-07-01</td>\n",
       "      <td>2010-07-01</td>\n",
       "      <td>analysis</td>\n",
       "      <td>0.118030</td>\n",
       "      <td>41.724910</td>\n",
       "      <td>42.079001</td>\n",
       "      <td>41.370819</td>\n",
       "      <td>1.609959</td>\n",
       "      <td>1.112769</td>\n",
       "      <td>True</td>\n",
       "    </tr>\n",
       "  </tbody>\n",
       "</table>\n",
       "</div>"
      ],
      "text/plain": [
       "       chunk                                                          \\\n",
       "         key chunk_index start_index end_index start_date   end_date   \n",
       "0     [0:50]           0           0        50 2009-01-01 2009-04-01   \n",
       "1   [51:101]           1          51       101 2009-04-01 2009-05-01   \n",
       "2  [102:152]           2         102       152 2009-05-01 2009-06-01   \n",
       "3  [153:203]           3         153       203 2009-06-01 2009-07-01   \n",
       "4  [204:254]           4         204       254 2009-07-01 2009-09-01   \n",
       "5  [255:305]           5         255       305 2009-09-01 2009-11-01   \n",
       "6  [306:356]           6         306       356 2009-11-01 2010-02-01   \n",
       "7  [357:407]           7         357       407 2010-02-01 2010-04-01   \n",
       "8  [408:458]           8         408       458 2010-04-01 2010-05-01   \n",
       "9  [510:509]           9         459       512 2010-07-01 2010-07-01   \n",
       "\n",
       "            reconstruction_error                                       \\\n",
       "     period       sampling_error      value upper_confidence_boundary   \n",
       "0  analysis             0.121452  37.871116                 38.235473   \n",
       "1  analysis             0.121452  39.760414                 40.124771   \n",
       "2  analysis             0.121452  39.810893                 40.175249   \n",
       "3  analysis             0.121452  38.435934                 38.800290   \n",
       "4  analysis             0.121452  41.114150                 41.478507   \n",
       "5  analysis             0.121452  42.974059                 43.338415   \n",
       "6  analysis             0.121452  40.851845                 41.216202   \n",
       "7  analysis             0.121452  38.514332                 38.878689   \n",
       "8  analysis             0.121452  43.203569                 43.567926   \n",
       "9  analysis             0.118030  41.724910                 42.079001   \n",
       "\n",
       "                                                                   \n",
       "  lower_confidence_boundary upper_threshold lower_threshold alert  \n",
       "0                 37.506760        1.609959        1.112769  True  \n",
       "1                 39.396058        1.609959        1.112769  True  \n",
       "2                 39.446536        1.609959        1.112769  True  \n",
       "3                 38.071577        1.609959        1.112769  True  \n",
       "4                 40.749794        1.609959        1.112769  True  \n",
       "5                 42.609702        1.609959        1.112769  True  \n",
       "6                 40.487489        1.609959        1.112769  True  \n",
       "7                 38.149976        1.609959        1.112769  True  \n",
       "8                 42.839213        1.609959        1.112769  True  \n",
       "9                 41.370819        1.609959        1.112769  True  "
      ]
     },
     "metadata": {},
     "output_type": "display_data"
    }
   ],
   "source": [
    "display(result_years.filter(period='analysis').to_df())"
   ]
  },
  {
   "cell_type": "code",
   "execution_count": 26,
   "metadata": {},
   "outputs": [
    {
     "data": {
      "text/plain": [
       "{('chunk', 'key'): {0: '[0:50]',\n",
       "  1: '[51:101]',\n",
       "  2: '[102:152]',\n",
       "  3: '[153:203]',\n",
       "  4: '[204:254]',\n",
       "  5: '[255:305]',\n",
       "  6: '[306:356]',\n",
       "  7: '[357:407]',\n",
       "  8: '[408:458]',\n",
       "  9: '[510:509]'},\n",
       " ('chunk', 'chunk_index'): {0: 0,\n",
       "  1: 1,\n",
       "  2: 2,\n",
       "  3: 3,\n",
       "  4: 4,\n",
       "  5: 5,\n",
       "  6: 6,\n",
       "  7: 7,\n",
       "  8: 8,\n",
       "  9: 9},\n",
       " ('chunk', 'start_index'): {0: 0,\n",
       "  1: 51,\n",
       "  2: 102,\n",
       "  3: 153,\n",
       "  4: 204,\n",
       "  5: 255,\n",
       "  6: 306,\n",
       "  7: 357,\n",
       "  8: 408,\n",
       "  9: 459},\n",
       " ('chunk', 'end_index'): {0: 50,\n",
       "  1: 101,\n",
       "  2: 152,\n",
       "  3: 203,\n",
       "  4: 254,\n",
       "  5: 305,\n",
       "  6: 356,\n",
       "  7: 407,\n",
       "  8: 458,\n",
       "  9: 512},\n",
       " ('chunk', 'start_date'): {0: Timestamp('2009-01-01 00:00:00'),\n",
       "  1: Timestamp('2009-04-01 00:00:00'),\n",
       "  2: Timestamp('2009-05-01 00:00:00'),\n",
       "  3: Timestamp('2009-06-01 00:00:00'),\n",
       "  4: Timestamp('2009-07-01 00:00:00'),\n",
       "  5: Timestamp('2009-09-01 00:00:00'),\n",
       "  6: Timestamp('2009-11-01 00:00:00'),\n",
       "  7: Timestamp('2010-02-01 00:00:00'),\n",
       "  8: Timestamp('2010-04-01 00:00:00'),\n",
       "  9: Timestamp('2010-07-01 00:00:00')},\n",
       " ('chunk', 'end_date'): {0: Timestamp('2009-04-01 00:00:00'),\n",
       "  1: Timestamp('2009-05-01 00:00:00'),\n",
       "  2: Timestamp('2009-06-01 00:00:00'),\n",
       "  3: Timestamp('2009-07-01 00:00:00'),\n",
       "  4: Timestamp('2009-09-01 00:00:00'),\n",
       "  5: Timestamp('2009-11-01 00:00:00'),\n",
       "  6: Timestamp('2010-02-01 00:00:00'),\n",
       "  7: Timestamp('2010-04-01 00:00:00'),\n",
       "  8: Timestamp('2010-05-01 00:00:00'),\n",
       "  9: Timestamp('2010-07-01 00:00:00')},\n",
       " ('chunk', 'period'): {0: 'analysis',\n",
       "  1: 'analysis',\n",
       "  2: 'analysis',\n",
       "  3: 'analysis',\n",
       "  4: 'analysis',\n",
       "  5: 'analysis',\n",
       "  6: 'analysis',\n",
       "  7: 'analysis',\n",
       "  8: 'analysis',\n",
       "  9: 'analysis'},\n",
       " ('reconstruction_error', 'sampling_error'): {0: 0.12145217040748735,\n",
       "  1: 0.12145217040748735,\n",
       "  2: 0.12145217040748735,\n",
       "  3: 0.12145217040748735,\n",
       "  4: 0.12145217040748735,\n",
       "  5: 0.12145217040748735,\n",
       "  6: 0.12145217040748735,\n",
       "  7: 0.12145217040748735,\n",
       "  8: 0.12145217040748735,\n",
       "  9: 0.11803029386176878},\n",
       " ('reconstruction_error', 'value'): {0: 37.87111616422625,\n",
       "  1: 39.76041423993161,\n",
       "  2: 39.81089265879145,\n",
       "  3: 38.43593364042472,\n",
       "  4: 41.114150454720274,\n",
       "  5: 42.97405853393691,\n",
       "  6: 40.8518454431918,\n",
       "  7: 38.5143322631315,\n",
       "  8: 43.20356947623543,\n",
       "  9: 41.72491030530261},\n",
       " ('reconstruction_error', 'upper_confidence_boundary'): {0: 38.23547267544871,\n",
       "  1: 40.124770751154074,\n",
       "  2: 40.17524917001391,\n",
       "  3: 38.80029015164718,\n",
       "  4: 41.478506965942735,\n",
       "  5: 43.33841504515937,\n",
       "  6: 41.21620195441426,\n",
       "  7: 38.87868877435396,\n",
       "  8: 43.56792598745789,\n",
       "  9: 42.079001186887915},\n",
       " ('reconstruction_error', 'lower_confidence_boundary'): {0: 37.50675965300379,\n",
       "  1: 39.39605772870915,\n",
       "  2: 39.44653614756899,\n",
       "  3: 38.07157712920226,\n",
       "  4: 40.749793943497814,\n",
       "  5: 42.60970202271445,\n",
       "  6: 40.48748893196934,\n",
       "  7: 38.14997575190904,\n",
       "  8: 42.83921296501297,\n",
       "  9: 41.3708194237173},\n",
       " ('reconstruction_error', 'upper_threshold'): {0: 1.6099594408499944,\n",
       "  1: 1.6099594408499944,\n",
       "  2: 1.6099594408499944,\n",
       "  3: 1.6099594408499944,\n",
       "  4: 1.6099594408499944,\n",
       "  5: 1.6099594408499944,\n",
       "  6: 1.6099594408499944,\n",
       "  7: 1.6099594408499944,\n",
       "  8: 1.6099594408499944,\n",
       "  9: 1.6099594408499944},\n",
       " ('reconstruction_error', 'lower_threshold'): {0: 1.1127688009074312,\n",
       "  1: 1.1127688009074312,\n",
       "  2: 1.1127688009074312,\n",
       "  3: 1.1127688009074312,\n",
       "  4: 1.1127688009074312,\n",
       "  5: 1.1127688009074312,\n",
       "  6: 1.1127688009074312,\n",
       "  7: 1.1127688009074312,\n",
       "  8: 1.1127688009074312,\n",
       "  9: 1.1127688009074312},\n",
       " ('reconstruction_error', 'alert'): {0: True,\n",
       "  1: True,\n",
       "  2: True,\n",
       "  3: True,\n",
       "  4: True,\n",
       "  5: True,\n",
       "  6: True,\n",
       "  7: True,\n",
       "  8: True,\n",
       "  9: True}}"
      ]
     },
     "execution_count": 26,
     "metadata": {},
     "output_type": "execute_result"
    }
   ],
   "source": [
    "result_years.filter(period='analysis').to_df().to_dict()"
   ]
  },
  {
   "cell_type": "code",
   "execution_count": 20,
   "metadata": {},
   "outputs": [
    {
     "data": {
      "text/html": [
       "<div>\n",
       "<style scoped>\n",
       "    .dataframe tbody tr th:only-of-type {\n",
       "        vertical-align: middle;\n",
       "    }\n",
       "\n",
       "    .dataframe tbody tr th {\n",
       "        vertical-align: top;\n",
       "    }\n",
       "\n",
       "    .dataframe thead tr th {\n",
       "        text-align: left;\n",
       "    }\n",
       "</style>\n",
       "<table border=\"1\" class=\"dataframe\">\n",
       "  <thead>\n",
       "    <tr>\n",
       "      <th></th>\n",
       "      <th colspan=\"7\" halign=\"left\">chunk</th>\n",
       "      <th colspan=\"7\" halign=\"left\">reconstruction_error</th>\n",
       "    </tr>\n",
       "    <tr>\n",
       "      <th></th>\n",
       "      <th>key</th>\n",
       "      <th>chunk_index</th>\n",
       "      <th>start_index</th>\n",
       "      <th>end_index</th>\n",
       "      <th>start_date</th>\n",
       "      <th>end_date</th>\n",
       "      <th>period</th>\n",
       "      <th>sampling_error</th>\n",
       "      <th>value</th>\n",
       "      <th>upper_confidence_boundary</th>\n",
       "      <th>lower_confidence_boundary</th>\n",
       "      <th>upper_threshold</th>\n",
       "      <th>lower_threshold</th>\n",
       "      <th>alert</th>\n",
       "    </tr>\n",
       "  </thead>\n",
       "  <tbody>\n",
       "    <tr>\n",
       "      <th>0</th>\n",
       "      <td>[0:62]</td>\n",
       "      <td>0</td>\n",
       "      <td>0</td>\n",
       "      <td>62</td>\n",
       "      <td>2007-01-01</td>\n",
       "      <td>2007-04-01</td>\n",
       "      <td>reference</td>\n",
       "      <td>0.109275</td>\n",
       "      <td>1.336004</td>\n",
       "      <td>1.663828</td>\n",
       "      <td>1.008179</td>\n",
       "      <td>1.609959</td>\n",
       "      <td>1.112769</td>\n",
       "      <td>False</td>\n",
       "    </tr>\n",
       "    <tr>\n",
       "      <th>1</th>\n",
       "      <td>[63:125]</td>\n",
       "      <td>1</td>\n",
       "      <td>63</td>\n",
       "      <td>125</td>\n",
       "      <td>2007-04-01</td>\n",
       "      <td>2007-06-01</td>\n",
       "      <td>reference</td>\n",
       "      <td>0.109275</td>\n",
       "      <td>1.358735</td>\n",
       "      <td>1.686559</td>\n",
       "      <td>1.030910</td>\n",
       "      <td>1.609959</td>\n",
       "      <td>1.112769</td>\n",
       "      <td>False</td>\n",
       "    </tr>\n",
       "    <tr>\n",
       "      <th>2</th>\n",
       "      <td>[126:188]</td>\n",
       "      <td>2</td>\n",
       "      <td>126</td>\n",
       "      <td>188</td>\n",
       "      <td>2007-06-01</td>\n",
       "      <td>2007-07-01</td>\n",
       "      <td>reference</td>\n",
       "      <td>0.109275</td>\n",
       "      <td>1.522832</td>\n",
       "      <td>1.850656</td>\n",
       "      <td>1.195007</td>\n",
       "      <td>1.609959</td>\n",
       "      <td>1.112769</td>\n",
       "      <td>False</td>\n",
       "    </tr>\n",
       "    <tr>\n",
       "      <th>3</th>\n",
       "      <td>[189:251]</td>\n",
       "      <td>3</td>\n",
       "      <td>189</td>\n",
       "      <td>251</td>\n",
       "      <td>2007-07-01</td>\n",
       "      <td>2007-08-01</td>\n",
       "      <td>reference</td>\n",
       "      <td>0.109275</td>\n",
       "      <td>1.266994</td>\n",
       "      <td>1.594818</td>\n",
       "      <td>0.939170</td>\n",
       "      <td>1.609959</td>\n",
       "      <td>1.112769</td>\n",
       "      <td>False</td>\n",
       "    </tr>\n",
       "    <tr>\n",
       "      <th>4</th>\n",
       "      <td>[252:314]</td>\n",
       "      <td>4</td>\n",
       "      <td>252</td>\n",
       "      <td>314</td>\n",
       "      <td>2007-08-01</td>\n",
       "      <td>2007-12-01</td>\n",
       "      <td>reference</td>\n",
       "      <td>0.109275</td>\n",
       "      <td>1.460746</td>\n",
       "      <td>1.788571</td>\n",
       "      <td>1.132922</td>\n",
       "      <td>1.609959</td>\n",
       "      <td>1.112769</td>\n",
       "      <td>False</td>\n",
       "    </tr>\n",
       "    <tr>\n",
       "      <th>5</th>\n",
       "      <td>[315:377]</td>\n",
       "      <td>5</td>\n",
       "      <td>315</td>\n",
       "      <td>377</td>\n",
       "      <td>2007-12-01</td>\n",
       "      <td>2008-04-01</td>\n",
       "      <td>reference</td>\n",
       "      <td>0.109275</td>\n",
       "      <td>1.363422</td>\n",
       "      <td>1.691247</td>\n",
       "      <td>1.035598</td>\n",
       "      <td>1.609959</td>\n",
       "      <td>1.112769</td>\n",
       "      <td>False</td>\n",
       "    </tr>\n",
       "    <tr>\n",
       "      <th>6</th>\n",
       "      <td>[378:440]</td>\n",
       "      <td>6</td>\n",
       "      <td>378</td>\n",
       "      <td>440</td>\n",
       "      <td>2008-04-01</td>\n",
       "      <td>2008-06-01</td>\n",
       "      <td>reference</td>\n",
       "      <td>0.109275</td>\n",
       "      <td>1.333715</td>\n",
       "      <td>1.661539</td>\n",
       "      <td>1.005890</td>\n",
       "      <td>1.609959</td>\n",
       "      <td>1.112769</td>\n",
       "      <td>False</td>\n",
       "    </tr>\n",
       "    <tr>\n",
       "      <th>7</th>\n",
       "      <td>[441:503]</td>\n",
       "      <td>7</td>\n",
       "      <td>441</td>\n",
       "      <td>503</td>\n",
       "      <td>2008-06-01</td>\n",
       "      <td>2008-07-01</td>\n",
       "      <td>reference</td>\n",
       "      <td>0.109275</td>\n",
       "      <td>1.247187</td>\n",
       "      <td>1.575011</td>\n",
       "      <td>0.919362</td>\n",
       "      <td>1.609959</td>\n",
       "      <td>1.112769</td>\n",
       "      <td>False</td>\n",
       "    </tr>\n",
       "    <tr>\n",
       "      <th>8</th>\n",
       "      <td>[504:566]</td>\n",
       "      <td>8</td>\n",
       "      <td>504</td>\n",
       "      <td>566</td>\n",
       "      <td>2008-07-01</td>\n",
       "      <td>2008-09-01</td>\n",
       "      <td>reference</td>\n",
       "      <td>0.109275</td>\n",
       "      <td>1.430399</td>\n",
       "      <td>1.758223</td>\n",
       "      <td>1.102574</td>\n",
       "      <td>1.609959</td>\n",
       "      <td>1.112769</td>\n",
       "      <td>False</td>\n",
       "    </tr>\n",
       "    <tr>\n",
       "      <th>9</th>\n",
       "      <td>[630:629]</td>\n",
       "      <td>9</td>\n",
       "      <td>567</td>\n",
       "      <td>632</td>\n",
       "      <td>2008-12-01</td>\n",
       "      <td>2008-12-01</td>\n",
       "      <td>reference</td>\n",
       "      <td>0.106762</td>\n",
       "      <td>1.293608</td>\n",
       "      <td>1.613895</td>\n",
       "      <td>0.973321</td>\n",
       "      <td>1.609959</td>\n",
       "      <td>1.112769</td>\n",
       "      <td>False</td>\n",
       "    </tr>\n",
       "  </tbody>\n",
       "</table>\n",
       "</div>"
      ],
      "text/plain": [
       "       chunk                                                          \\\n",
       "         key chunk_index start_index end_index start_date   end_date   \n",
       "0     [0:62]           0           0        62 2007-01-01 2007-04-01   \n",
       "1   [63:125]           1          63       125 2007-04-01 2007-06-01   \n",
       "2  [126:188]           2         126       188 2007-06-01 2007-07-01   \n",
       "3  [189:251]           3         189       251 2007-07-01 2007-08-01   \n",
       "4  [252:314]           4         252       314 2007-08-01 2007-12-01   \n",
       "5  [315:377]           5         315       377 2007-12-01 2008-04-01   \n",
       "6  [378:440]           6         378       440 2008-04-01 2008-06-01   \n",
       "7  [441:503]           7         441       503 2008-06-01 2008-07-01   \n",
       "8  [504:566]           8         504       566 2008-07-01 2008-09-01   \n",
       "9  [630:629]           9         567       632 2008-12-01 2008-12-01   \n",
       "\n",
       "             reconstruction_error                                      \\\n",
       "      period       sampling_error     value upper_confidence_boundary   \n",
       "0  reference             0.109275  1.336004                  1.663828   \n",
       "1  reference             0.109275  1.358735                  1.686559   \n",
       "2  reference             0.109275  1.522832                  1.850656   \n",
       "3  reference             0.109275  1.266994                  1.594818   \n",
       "4  reference             0.109275  1.460746                  1.788571   \n",
       "5  reference             0.109275  1.363422                  1.691247   \n",
       "6  reference             0.109275  1.333715                  1.661539   \n",
       "7  reference             0.109275  1.247187                  1.575011   \n",
       "8  reference             0.109275  1.430399                  1.758223   \n",
       "9  reference             0.106762  1.293608                  1.613895   \n",
       "\n",
       "                                                                    \n",
       "  lower_confidence_boundary upper_threshold lower_threshold  alert  \n",
       "0                  1.008179        1.609959        1.112769  False  \n",
       "1                  1.030910        1.609959        1.112769  False  \n",
       "2                  1.195007        1.609959        1.112769  False  \n",
       "3                  0.939170        1.609959        1.112769  False  \n",
       "4                  1.132922        1.609959        1.112769  False  \n",
       "5                  1.035598        1.609959        1.112769  False  \n",
       "6                  1.005890        1.609959        1.112769  False  \n",
       "7                  0.919362        1.609959        1.112769  False  \n",
       "8                  1.102574        1.609959        1.112769  False  \n",
       "9                  0.973321        1.609959        1.112769  False  "
      ]
     },
     "metadata": {},
     "output_type": "display_data"
    }
   ],
   "source": [
    "display(result_years.filter(period='reference').to_df())"
   ]
  },
  {
   "cell_type": "code",
   "execution_count": 22,
   "metadata": {},
   "outputs": [],
   "source": [
    "figure = result_years.plot()\n",
    "\n",
    "figure.write_html(\"../data/08_reporting/figure.html\")"
   ]
  },
  {
   "cell_type": "code",
   "execution_count": 21,
   "metadata": {},
   "outputs": [],
   "source": [
    "# mean_value = df['LotFrontage'].mean()\n",
    "# df= df.fillna(mean_value)"
   ]
  },
  {
   "cell_type": "code",
   "execution_count": 45,
   "metadata": {},
   "outputs": [
    {
     "name": "stderr",
     "output_type": "stream",
     "text": [
      "c:\\Users\\jkick\\.conda\\envs\\housepricing\\lib\\site-packages\\nannyml\\base.py:299: FutureWarning:\n",
      "\n",
      "The behavior of indexing on a MultiIndex with a nested sequence of labels is deprecated and will change in a future version. `series.loc[label, sequence]` will raise if any members of 'sequence' or not present in the index's second level. To retain the old behavior, use `series.index.isin(sequence, level=1)`\n",
      "\n"
     ]
    },
    {
     "data": {
      "application/vnd.plotly.v1+json": {
       "config": {
        "plotlyServerURL": "https://plot.ly"
       },
       "data": [
        {
         "hoverinfo": "skip",
         "legendgroup": "metric_reference",
         "line": {
          "color": "#00c8e5",
          "shape": "hv",
          "width": 2
         },
         "mode": "lines",
         "name": "Method",
         "showlegend": true,
         "type": "scatter",
         "x": [
          "2007-01-01T00:00:00",
          "2007-04-01T00:00:00",
          "2007-06-01T00:00:00",
          "2007-07-01T00:00:00",
          "2007-08-01T00:00:00",
          "2007-12-01T00:00:00",
          "2008-04-01T00:00:00",
          "2008-06-01T00:00:00",
          "2008-07-01T00:00:00",
          "2008-12-01T00:00:00",
          "2008-12-01T00:00:00"
         ],
         "xaxis": "x",
         "y": [
          0.20972858238579545,
          0.2470923399224619,
          0.20628187622589006,
          0.14279448408877582,
          0.1980885697485554,
          0.21544163637821925,
          0.15467885755427663,
          0.20031470010864308,
          0.13227707008891407,
          0.14466615736872257,
          0.14466615736872257
         ],
         "yaxis": "y"
        },
        {
         "customdata": [
          [
           "Jensen-Shannon distance for <b>1stFlrSF</b>",
           "<b style=\"color:#00c8e5;line-height:60px\">Reference</b>",
           "<span style=\"color:#AD0000\">⚠ <b>Drift detected</b></span>",
           "[0:62]",
           "From <b>Jan-01-2007</b> to <b>Apr-01-2007</b>",
           0.2097
          ],
          [
           "Jensen-Shannon distance for <b>1stFlrSF</b>",
           "<b style=\"color:#00c8e5;line-height:60px\">Reference</b>",
           "<span style=\"color:#AD0000\">⚠ <b>Drift detected</b></span>",
           "[63:125]",
           "From <b>Apr-01-2007</b> to <b>Jun-01-2007</b>",
           0.2471
          ],
          [
           "Jensen-Shannon distance for <b>1stFlrSF</b>",
           "<b style=\"color:#00c8e5;line-height:60px\">Reference</b>",
           "<span style=\"color:#AD0000\">⚠ <b>Drift detected</b></span>",
           "[126:188]",
           "From <b>Jun-01-2007</b> to <b>Jul-01-2007</b>",
           0.2063
          ],
          [
           "Jensen-Shannon distance for <b>1stFlrSF</b>",
           "<b style=\"color:#00c8e5;line-height:60px\">Reference</b>",
           "<span style=\"color:#AD0000\">⚠ <b>Drift detected</b></span>",
           "[189:251]",
           "From <b>Jul-01-2007</b> to <b>Aug-01-2007</b>",
           0.1428
          ],
          [
           "Jensen-Shannon distance for <b>1stFlrSF</b>",
           "<b style=\"color:#00c8e5;line-height:60px\">Reference</b>",
           "<span style=\"color:#AD0000\">⚠ <b>Drift detected</b></span>",
           "[252:314]",
           "From <b>Aug-01-2007</b> to <b>Dec-01-2007</b>",
           0.1981
          ],
          [
           "Jensen-Shannon distance for <b>1stFlrSF</b>",
           "<b style=\"color:#00c8e5;line-height:60px\">Reference</b>",
           "<span style=\"color:#AD0000\">⚠ <b>Drift detected</b></span>",
           "[315:377]",
           "From <b>Dec-01-2007</b> to <b>Apr-01-2008</b>",
           0.2154
          ],
          [
           "Jensen-Shannon distance for <b>1stFlrSF</b>",
           "<b style=\"color:#00c8e5;line-height:60px\">Reference</b>",
           "<span style=\"color:#AD0000\">⚠ <b>Drift detected</b></span>",
           "[378:440]",
           "From <b>Apr-01-2008</b> to <b>Jun-01-2008</b>",
           0.1547
          ],
          [
           "Jensen-Shannon distance for <b>1stFlrSF</b>",
           "<b style=\"color:#00c8e5;line-height:60px\">Reference</b>",
           "<span style=\"color:#AD0000\">⚠ <b>Drift detected</b></span>",
           "[441:503]",
           "From <b>Jun-01-2008</b> to <b>Jul-01-2008</b>",
           0.2003
          ],
          [
           "Jensen-Shannon distance for <b>1stFlrSF</b>",
           "<b style=\"color:#00c8e5;line-height:60px\">Reference</b>",
           "<span style=\"color:#AD0000\">⚠ <b>Drift detected</b></span>",
           "[504:566]",
           "From <b>Jul-01-2008</b> to <b>Sep-01-2008</b>",
           0.1323
          ],
          [
           "Jensen-Shannon distance for <b>1stFlrSF</b>",
           "<b style=\"color:#00c8e5;line-height:60px\">Reference</b>",
           "<span style=\"color:#AD0000\">⚠ <b>Drift detected</b></span>",
           "[630:629]",
           "From <b>Dec-01-2008</b> to <b>Dec-01-2008</b>",
           0.1447
          ]
         ],
         "hovertemplate": "%{customdata[1]} &nbsp; &nbsp; %{customdata[2]} <br />Chunk: <b>%{customdata[3]}</b> &nbsp; &nbsp; %{customdata[4]} <br />%{customdata[0]}: <b>%{customdata[5]}</b><b r /><extra></extra>",
         "legendgroup": "metric_reference",
         "marker": {
          "color": "#00c8e5",
          "size": 5,
          "symbol": "circle"
         },
         "mode": "markers",
         "name": "Method",
         "showlegend": false,
         "type": "scatter",
         "x": [
          "2007-02-15T00:00:00",
          "2007-05-01T12:00:00",
          "2007-06-16T00:00:00",
          "2007-07-16T12:00:00",
          "2007-10-01T00:00:00",
          "2008-01-31T00:00:00",
          "2008-05-01T12:00:00",
          "2008-06-16T00:00:00",
          "2008-09-15T12:00:00",
          "2008-12-01T00:00:00"
         ],
         "xaxis": "x",
         "y": [
          0.20972858238579545,
          0.2470923399224619,
          0.20628187622589006,
          0.14279448408877582,
          0.1980885697485554,
          0.21544163637821925,
          0.15467885755427663,
          0.20031470010864308,
          0.13227707008891407,
          0.14466615736872257,
          0.14466615736872257
         ],
         "yaxis": "y"
        },
        {
         "hoverinfo": "skip",
         "legendgroup": "metric_analysis",
         "line": {
          "color": "#00c8e5",
          "shape": "hv",
          "width": 2
         },
         "mode": "lines",
         "name": "Method",
         "showlegend": false,
         "type": "scatter",
         "x": [
          "2009-01-01T00:00:00",
          "2009-04-01T00:00:00",
          "2009-05-01T00:00:00",
          "2009-06-01T00:00:00",
          "2009-07-01T00:00:00",
          "2009-09-01T00:00:00",
          "2009-11-01T00:00:00",
          "2010-02-01T00:00:00",
          "2010-04-01T00:00:00",
          "2010-07-01T00:00:00",
          "2010-07-01T00:00:00"
         ],
         "xaxis": "x",
         "y": [
          0.1857021323358715,
          0.22099055192376224,
          0.2391497575945054,
          0.1649315321996616,
          0.14589187566181125,
          0.15333291074654173,
          0.2258224851906951,
          0.14710843463192547,
          0.15961793799413643,
          0.17423001623860382,
          0.17423001623860382
         ],
         "yaxis": "y"
        },
        {
         "customdata": [
          [
           "Jensen-Shannon distance for <b>1stFlrSF</b>",
           "<b style=\"color:#00c8e5;line-height:60px\">Analysis</b>",
           "<span style=\"color:#AD0000\">⚠ <b>Drift detected</b></span>",
           "[0:50]",
           "From <b>Jan-01-2009</b> to <b>Apr-01-2009</b>",
           0.1857
          ],
          [
           "Jensen-Shannon distance for <b>1stFlrSF</b>",
           "<b style=\"color:#00c8e5;line-height:60px\">Analysis</b>",
           "<span style=\"color:#AD0000\">⚠ <b>Drift detected</b></span>",
           "[51:101]",
           "From <b>Apr-01-2009</b> to <b>May-01-2009</b>",
           0.221
          ],
          [
           "Jensen-Shannon distance for <b>1stFlrSF</b>",
           "<b style=\"color:#00c8e5;line-height:60px\">Analysis</b>",
           "<span style=\"color:#AD0000\">⚠ <b>Drift detected</b></span>",
           "[102:152]",
           "From <b>May-01-2009</b> to <b>Jun-01-2009</b>",
           0.2391
          ],
          [
           "Jensen-Shannon distance for <b>1stFlrSF</b>",
           "<b style=\"color:#00c8e5;line-height:60px\">Analysis</b>",
           "<span style=\"color:#AD0000\">⚠ <b>Drift detected</b></span>",
           "[153:203]",
           "From <b>Jun-01-2009</b> to <b>Jul-01-2009</b>",
           0.1649
          ],
          [
           "Jensen-Shannon distance for <b>1stFlrSF</b>",
           "<b style=\"color:#00c8e5;line-height:60px\">Analysis</b>",
           "<span style=\"color:#AD0000\">⚠ <b>Drift detected</b></span>",
           "[204:254]",
           "From <b>Jul-01-2009</b> to <b>Sep-01-2009</b>",
           0.1459
          ],
          [
           "Jensen-Shannon distance for <b>1stFlrSF</b>",
           "<b style=\"color:#00c8e5;line-height:60px\">Analysis</b>",
           "<span style=\"color:#AD0000\">⚠ <b>Drift detected</b></span>",
           "[255:305]",
           "From <b>Sep-01-2009</b> to <b>Nov-01-2009</b>",
           0.1533
          ],
          [
           "Jensen-Shannon distance for <b>1stFlrSF</b>",
           "<b style=\"color:#00c8e5;line-height:60px\">Analysis</b>",
           "<span style=\"color:#AD0000\">⚠ <b>Drift detected</b></span>",
           "[306:356]",
           "From <b>Nov-01-2009</b> to <b>Feb-01-2010</b>",
           0.2258
          ],
          [
           "Jensen-Shannon distance for <b>1stFlrSF</b>",
           "<b style=\"color:#00c8e5;line-height:60px\">Analysis</b>",
           "<span style=\"color:#AD0000\">⚠ <b>Drift detected</b></span>",
           "[357:407]",
           "From <b>Feb-01-2010</b> to <b>Apr-01-2010</b>",
           0.1471
          ],
          [
           "Jensen-Shannon distance for <b>1stFlrSF</b>",
           "<b style=\"color:#00c8e5;line-height:60px\">Analysis</b>",
           "<span style=\"color:#AD0000\">⚠ <b>Drift detected</b></span>",
           "[408:458]",
           "From <b>Apr-01-2010</b> to <b>May-01-2010</b>",
           0.1596
          ],
          [
           "Jensen-Shannon distance for <b>1stFlrSF</b>",
           "<b style=\"color:#00c8e5;line-height:60px\">Analysis</b>",
           "<span style=\"color:#AD0000\">⚠ <b>Drift detected</b></span>",
           "[510:509]",
           "From <b>Jul-01-2010</b> to <b>Jul-01-2010</b>",
           0.1742
          ]
         ],
         "hovertemplate": "%{customdata[1]} &nbsp; &nbsp; %{customdata[2]} <br />Chunk: <b>%{customdata[3]}</b> &nbsp; &nbsp; %{customdata[4]} <br />%{customdata[0]}: <b>%{customdata[5]}</b><b r /><extra></extra>",
         "legendgroup": "metric_analysis",
         "marker": {
          "color": "#00c8e5",
          "size": 5,
          "symbol": "circle"
         },
         "mode": "markers",
         "name": "Method",
         "showlegend": false,
         "type": "scatter",
         "x": [
          "2009-02-15T00:00:00",
          "2009-04-16T00:00:00",
          "2009-05-16T12:00:00",
          "2009-06-16T00:00:00",
          "2009-08-01T00:00:00",
          "2009-10-01T12:00:00",
          "2009-12-17T00:00:00",
          "2010-03-02T12:00:00",
          "2010-05-16T12:00:00",
          "2010-07-01T00:00:00"
         ],
         "xaxis": "x",
         "y": [
          0.1857021323358715,
          0.22099055192376224,
          0.2391497575945054,
          0.1649315321996616,
          0.14589187566181125,
          0.15333291074654173,
          0.2258224851906951,
          0.14710843463192547,
          0.15961793799413643,
          0.17423001623860382,
          0.17423001623860382
         ],
         "yaxis": "y"
        },
        {
         "hoverinfo": "skip",
         "legendgroup": "alert",
         "marker": {
          "color": "#DD4040",
          "size": 8,
          "symbol": "diamond"
         },
         "mode": "markers",
         "name": "Alert",
         "showlegend": true,
         "type": "scatter",
         "x": [
          "2009-02-15T00:00:00",
          "2009-04-16T00:00:00",
          "2009-05-16T12:00:00",
          "2009-06-16T00:00:00",
          "2009-08-01T00:00:00",
          "2009-10-01T12:00:00",
          "2009-12-17T00:00:00",
          "2010-03-02T12:00:00",
          "2010-05-16T12:00:00",
          "2010-07-01T00:00:00"
         ],
         "xaxis": "x",
         "y": [
          0.1857021323358715,
          0.22099055192376224,
          0.2391497575945054,
          0.1649315321996616,
          0.14589187566181125,
          0.15333291074654173,
          0.2258224851906951,
          0.14710843463192547,
          0.15961793799413643,
          0.17423001623860382
         ],
         "yaxis": "y"
        },
        {
         "hoverinfo": "skip",
         "legendgroup": "thresh",
         "line": {
          "color": "#DD4040",
          "dash": "dash",
          "width": 2
         },
         "mode": "lines",
         "name": "Threshold",
         "showlegend": true,
         "type": "scatter",
         "x": [
          "2007-01-01T00:00:00",
          "2007-04-01T00:00:00",
          "2007-06-01T00:00:00",
          "2007-07-01T00:00:00",
          "2007-08-01T00:00:00",
          "2007-12-01T00:00:00",
          "2008-04-01T00:00:00",
          "2008-06-01T00:00:00",
          "2008-07-01T00:00:00",
          "2008-12-01T00:00:00",
          "2008-12-01T00:00:00"
         ],
         "xaxis": "x",
         "y": [
          0.1,
          0.1,
          0.1,
          0.1,
          0.1,
          0.1,
          0.1,
          0.1,
          0.1,
          0.1,
          0.1
         ],
         "yaxis": "y"
        },
        {
         "hoverinfo": "skip",
         "legendgroup": "thresh",
         "line": {
          "color": "#DD4040",
          "dash": "dash",
          "width": 2
         },
         "mode": "lines",
         "name": "Threshold",
         "showlegend": false,
         "type": "scatter",
         "x": [
          "2009-01-01T00:00:00",
          "2009-04-01T00:00:00",
          "2009-05-01T00:00:00",
          "2009-06-01T00:00:00",
          "2009-07-01T00:00:00",
          "2009-09-01T00:00:00",
          "2009-11-01T00:00:00",
          "2010-02-01T00:00:00",
          "2010-04-01T00:00:00",
          "2010-07-01T00:00:00",
          "2010-07-01T00:00:00"
         ],
         "xaxis": "x",
         "y": [
          0.1,
          0.1,
          0.1,
          0.1,
          0.1,
          0.1,
          0.1,
          0.1,
          0.1,
          0.1,
          0.1
         ],
         "yaxis": "y"
        },
        {
         "hoverinfo": "skip",
         "legendgroup": "metric_reference",
         "line": {
          "color": "#00c8e5",
          "shape": "hv",
          "width": 2
         },
         "mode": "lines",
         "name": "Method",
         "showlegend": false,
         "type": "scatter",
         "x": [
          "2007-01-01T00:00:00",
          "2007-04-01T00:00:00",
          "2007-06-01T00:00:00",
          "2007-07-01T00:00:00",
          "2007-08-01T00:00:00",
          "2007-12-01T00:00:00",
          "2008-04-01T00:00:00",
          "2008-06-01T00:00:00",
          "2008-07-01T00:00:00",
          "2008-12-01T00:00:00",
          "2008-12-01T00:00:00"
         ],
         "xaxis": "x2",
         "y": [
          0.242077058107807,
          0.174702260293453,
          0.16641891801617695,
          0.19509091075041365,
          0.17878261267960907,
          0.17828452668979308,
          0.19779874975287465,
          0.08939765380177114,
          0.15060647475277797,
          0.1914451789239669,
          0.1914451789239669
         ],
         "yaxis": "y2"
        },
        {
         "customdata": [
          [
           "Jensen-Shannon distance for <b>2ndFlrSF</b>",
           "<b style=\"color:#00c8e5;line-height:60px\">Reference</b>",
           "<span style=\"color:#AD0000\">⚠ <b>Drift detected</b></span>",
           "[0:62]",
           "From <b>Jan-01-2007</b> to <b>Apr-01-2007</b>",
           0.2421
          ],
          [
           "Jensen-Shannon distance for <b>2ndFlrSF</b>",
           "<b style=\"color:#00c8e5;line-height:60px\">Reference</b>",
           "<span style=\"color:#AD0000\">⚠ <b>Drift detected</b></span>",
           "[63:125]",
           "From <b>Apr-01-2007</b> to <b>Jun-01-2007</b>",
           0.1747
          ],
          [
           "Jensen-Shannon distance for <b>2ndFlrSF</b>",
           "<b style=\"color:#00c8e5;line-height:60px\">Reference</b>",
           "<span style=\"color:#AD0000\">⚠ <b>Drift detected</b></span>",
           "[126:188]",
           "From <b>Jun-01-2007</b> to <b>Jul-01-2007</b>",
           0.1664
          ],
          [
           "Jensen-Shannon distance for <b>2ndFlrSF</b>",
           "<b style=\"color:#00c8e5;line-height:60px\">Reference</b>",
           "<span style=\"color:#AD0000\">⚠ <b>Drift detected</b></span>",
           "[189:251]",
           "From <b>Jul-01-2007</b> to <b>Aug-01-2007</b>",
           0.1951
          ],
          [
           "Jensen-Shannon distance for <b>2ndFlrSF</b>",
           "<b style=\"color:#00c8e5;line-height:60px\">Reference</b>",
           "<span style=\"color:#AD0000\">⚠ <b>Drift detected</b></span>",
           "[252:314]",
           "From <b>Aug-01-2007</b> to <b>Dec-01-2007</b>",
           0.1788
          ],
          [
           "Jensen-Shannon distance for <b>2ndFlrSF</b>",
           "<b style=\"color:#00c8e5;line-height:60px\">Reference</b>",
           "<span style=\"color:#AD0000\">⚠ <b>Drift detected</b></span>",
           "[315:377]",
           "From <b>Dec-01-2007</b> to <b>Apr-01-2008</b>",
           0.1783
          ],
          [
           "Jensen-Shannon distance for <b>2ndFlrSF</b>",
           "<b style=\"color:#00c8e5;line-height:60px\">Reference</b>",
           "<span style=\"color:#AD0000\">⚠ <b>Drift detected</b></span>",
           "[378:440]",
           "From <b>Apr-01-2008</b> to <b>Jun-01-2008</b>",
           0.1978
          ],
          [
           "Jensen-Shannon distance for <b>2ndFlrSF</b>",
           "<b style=\"color:#00c8e5;line-height:60px\">Reference</b>",
           "",
           "[441:503]",
           "From <b>Jun-01-2008</b> to <b>Jul-01-2008</b>",
           0.0894
          ],
          [
           "Jensen-Shannon distance for <b>2ndFlrSF</b>",
           "<b style=\"color:#00c8e5;line-height:60px\">Reference</b>",
           "<span style=\"color:#AD0000\">⚠ <b>Drift detected</b></span>",
           "[504:566]",
           "From <b>Jul-01-2008</b> to <b>Sep-01-2008</b>",
           0.1506
          ],
          [
           "Jensen-Shannon distance for <b>2ndFlrSF</b>",
           "<b style=\"color:#00c8e5;line-height:60px\">Reference</b>",
           "<span style=\"color:#AD0000\">⚠ <b>Drift detected</b></span>",
           "[630:629]",
           "From <b>Dec-01-2008</b> to <b>Dec-01-2008</b>",
           0.1914
          ]
         ],
         "hovertemplate": "%{customdata[1]} &nbsp; &nbsp; %{customdata[2]} <br />Chunk: <b>%{customdata[3]}</b> &nbsp; &nbsp; %{customdata[4]} <br />%{customdata[0]}: <b>%{customdata[5]}</b><b r /><extra></extra>",
         "legendgroup": "metric_reference",
         "marker": {
          "color": "#00c8e5",
          "size": 5,
          "symbol": "circle"
         },
         "mode": "markers",
         "name": "Method",
         "showlegend": false,
         "type": "scatter",
         "x": [
          "2007-02-15T00:00:00",
          "2007-05-01T12:00:00",
          "2007-06-16T00:00:00",
          "2007-07-16T12:00:00",
          "2007-10-01T00:00:00",
          "2008-01-31T00:00:00",
          "2008-05-01T12:00:00",
          "2008-06-16T00:00:00",
          "2008-09-15T12:00:00",
          "2008-12-01T00:00:00"
         ],
         "xaxis": "x2",
         "y": [
          0.242077058107807,
          0.174702260293453,
          0.16641891801617695,
          0.19509091075041365,
          0.17878261267960907,
          0.17828452668979308,
          0.19779874975287465,
          0.08939765380177114,
          0.15060647475277797,
          0.1914451789239669,
          0.1914451789239669
         ],
         "yaxis": "y2"
        },
        {
         "hoverinfo": "skip",
         "legendgroup": "metric_analysis",
         "line": {
          "color": "#00c8e5",
          "shape": "hv",
          "width": 2
         },
         "mode": "lines",
         "name": "Method",
         "showlegend": false,
         "type": "scatter",
         "x": [
          "2009-01-01T00:00:00",
          "2009-04-01T00:00:00",
          "2009-05-01T00:00:00",
          "2009-06-01T00:00:00",
          "2009-07-01T00:00:00",
          "2009-09-01T00:00:00",
          "2009-11-01T00:00:00",
          "2010-02-01T00:00:00",
          "2010-04-01T00:00:00",
          "2010-07-01T00:00:00",
          "2010-07-01T00:00:00"
         ],
         "xaxis": "x2",
         "y": [
          0.17927009011924908,
          0.2667526515852815,
          0.23424399537470086,
          0.2445453607944019,
          0.18485352281975656,
          0.26623436423836294,
          0.19430751376039276,
          0.2289140449848945,
          0.21214720127116798,
          0.24081650658245085,
          0.24081650658245085
         ],
         "yaxis": "y2"
        },
        {
         "customdata": [
          [
           "Jensen-Shannon distance for <b>2ndFlrSF</b>",
           "<b style=\"color:#00c8e5;line-height:60px\">Analysis</b>",
           "<span style=\"color:#AD0000\">⚠ <b>Drift detected</b></span>",
           "[0:50]",
           "From <b>Jan-01-2009</b> to <b>Apr-01-2009</b>",
           0.1793
          ],
          [
           "Jensen-Shannon distance for <b>2ndFlrSF</b>",
           "<b style=\"color:#00c8e5;line-height:60px\">Analysis</b>",
           "<span style=\"color:#AD0000\">⚠ <b>Drift detected</b></span>",
           "[51:101]",
           "From <b>Apr-01-2009</b> to <b>May-01-2009</b>",
           0.2668
          ],
          [
           "Jensen-Shannon distance for <b>2ndFlrSF</b>",
           "<b style=\"color:#00c8e5;line-height:60px\">Analysis</b>",
           "<span style=\"color:#AD0000\">⚠ <b>Drift detected</b></span>",
           "[102:152]",
           "From <b>May-01-2009</b> to <b>Jun-01-2009</b>",
           0.2342
          ],
          [
           "Jensen-Shannon distance for <b>2ndFlrSF</b>",
           "<b style=\"color:#00c8e5;line-height:60px\">Analysis</b>",
           "<span style=\"color:#AD0000\">⚠ <b>Drift detected</b></span>",
           "[153:203]",
           "From <b>Jun-01-2009</b> to <b>Jul-01-2009</b>",
           0.2445
          ],
          [
           "Jensen-Shannon distance for <b>2ndFlrSF</b>",
           "<b style=\"color:#00c8e5;line-height:60px\">Analysis</b>",
           "<span style=\"color:#AD0000\">⚠ <b>Drift detected</b></span>",
           "[204:254]",
           "From <b>Jul-01-2009</b> to <b>Sep-01-2009</b>",
           0.1849
          ],
          [
           "Jensen-Shannon distance for <b>2ndFlrSF</b>",
           "<b style=\"color:#00c8e5;line-height:60px\">Analysis</b>",
           "<span style=\"color:#AD0000\">⚠ <b>Drift detected</b></span>",
           "[255:305]",
           "From <b>Sep-01-2009</b> to <b>Nov-01-2009</b>",
           0.2662
          ],
          [
           "Jensen-Shannon distance for <b>2ndFlrSF</b>",
           "<b style=\"color:#00c8e5;line-height:60px\">Analysis</b>",
           "<span style=\"color:#AD0000\">⚠ <b>Drift detected</b></span>",
           "[306:356]",
           "From <b>Nov-01-2009</b> to <b>Feb-01-2010</b>",
           0.1943
          ],
          [
           "Jensen-Shannon distance for <b>2ndFlrSF</b>",
           "<b style=\"color:#00c8e5;line-height:60px\">Analysis</b>",
           "<span style=\"color:#AD0000\">⚠ <b>Drift detected</b></span>",
           "[357:407]",
           "From <b>Feb-01-2010</b> to <b>Apr-01-2010</b>",
           0.2289
          ],
          [
           "Jensen-Shannon distance for <b>2ndFlrSF</b>",
           "<b style=\"color:#00c8e5;line-height:60px\">Analysis</b>",
           "<span style=\"color:#AD0000\">⚠ <b>Drift detected</b></span>",
           "[408:458]",
           "From <b>Apr-01-2010</b> to <b>May-01-2010</b>",
           0.2121
          ],
          [
           "Jensen-Shannon distance for <b>2ndFlrSF</b>",
           "<b style=\"color:#00c8e5;line-height:60px\">Analysis</b>",
           "<span style=\"color:#AD0000\">⚠ <b>Drift detected</b></span>",
           "[510:509]",
           "From <b>Jul-01-2010</b> to <b>Jul-01-2010</b>",
           0.2408
          ]
         ],
         "hovertemplate": "%{customdata[1]} &nbsp; &nbsp; %{customdata[2]} <br />Chunk: <b>%{customdata[3]}</b> &nbsp; &nbsp; %{customdata[4]} <br />%{customdata[0]}: <b>%{customdata[5]}</b><b r /><extra></extra>",
         "legendgroup": "metric_analysis",
         "marker": {
          "color": "#00c8e5",
          "size": 5,
          "symbol": "circle"
         },
         "mode": "markers",
         "name": "Method",
         "showlegend": false,
         "type": "scatter",
         "x": [
          "2009-02-15T00:00:00",
          "2009-04-16T00:00:00",
          "2009-05-16T12:00:00",
          "2009-06-16T00:00:00",
          "2009-08-01T00:00:00",
          "2009-10-01T12:00:00",
          "2009-12-17T00:00:00",
          "2010-03-02T12:00:00",
          "2010-05-16T12:00:00",
          "2010-07-01T00:00:00"
         ],
         "xaxis": "x2",
         "y": [
          0.17927009011924908,
          0.2667526515852815,
          0.23424399537470086,
          0.2445453607944019,
          0.18485352281975656,
          0.26623436423836294,
          0.19430751376039276,
          0.2289140449848945,
          0.21214720127116798,
          0.24081650658245085,
          0.24081650658245085
         ],
         "yaxis": "y2"
        },
        {
         "hoverinfo": "skip",
         "legendgroup": "alert",
         "marker": {
          "color": "#DD4040",
          "size": 8,
          "symbol": "diamond"
         },
         "mode": "markers",
         "name": "Alert",
         "showlegend": false,
         "type": "scatter",
         "x": [
          "2009-02-15T00:00:00",
          "2009-04-16T00:00:00",
          "2009-05-16T12:00:00",
          "2009-06-16T00:00:00",
          "2009-08-01T00:00:00",
          "2009-10-01T12:00:00",
          "2009-12-17T00:00:00",
          "2010-03-02T12:00:00",
          "2010-05-16T12:00:00",
          "2010-07-01T00:00:00"
         ],
         "xaxis": "x2",
         "y": [
          0.17927009011924908,
          0.2667526515852815,
          0.23424399537470086,
          0.2445453607944019,
          0.18485352281975656,
          0.26623436423836294,
          0.19430751376039276,
          0.2289140449848945,
          0.21214720127116798,
          0.24081650658245085
         ],
         "yaxis": "y2"
        },
        {
         "hoverinfo": "skip",
         "legendgroup": "thresh",
         "line": {
          "color": "#DD4040",
          "dash": "dash",
          "width": 2
         },
         "mode": "lines",
         "name": "Threshold",
         "showlegend": false,
         "type": "scatter",
         "x": [
          "2007-01-01T00:00:00",
          "2007-04-01T00:00:00",
          "2007-06-01T00:00:00",
          "2007-07-01T00:00:00",
          "2007-08-01T00:00:00",
          "2007-12-01T00:00:00",
          "2008-04-01T00:00:00",
          "2008-06-01T00:00:00",
          "2008-07-01T00:00:00",
          "2008-12-01T00:00:00",
          "2008-12-01T00:00:00"
         ],
         "xaxis": "x2",
         "y": [
          0.1,
          0.1,
          0.1,
          0.1,
          0.1,
          0.1,
          0.1,
          0.1,
          0.1,
          0.1,
          0.1
         ],
         "yaxis": "y2"
        },
        {
         "hoverinfo": "skip",
         "legendgroup": "thresh",
         "line": {
          "color": "#DD4040",
          "dash": "dash",
          "width": 2
         },
         "mode": "lines",
         "name": "Threshold",
         "showlegend": false,
         "type": "scatter",
         "x": [
          "2009-01-01T00:00:00",
          "2009-04-01T00:00:00",
          "2009-05-01T00:00:00",
          "2009-06-01T00:00:00",
          "2009-07-01T00:00:00",
          "2009-09-01T00:00:00",
          "2009-11-01T00:00:00",
          "2010-02-01T00:00:00",
          "2010-04-01T00:00:00",
          "2010-07-01T00:00:00",
          "2010-07-01T00:00:00"
         ],
         "xaxis": "x2",
         "y": [
          0.1,
          0.1,
          0.1,
          0.1,
          0.1,
          0.1,
          0.1,
          0.1,
          0.1,
          0.1,
          0.1
         ],
         "yaxis": "y2"
        },
        {
         "hoverinfo": "skip",
         "legendgroup": "metric_reference",
         "line": {
          "color": "#00c8e5",
          "shape": "hv",
          "width": 2
         },
         "mode": "lines",
         "name": "Method",
         "showlegend": false,
         "type": "scatter",
         "x": [
          "2007-01-01T00:00:00",
          "2007-04-01T00:00:00",
          "2007-06-01T00:00:00",
          "2007-07-01T00:00:00",
          "2007-08-01T00:00:00",
          "2007-12-01T00:00:00",
          "2008-04-01T00:00:00",
          "2008-06-01T00:00:00",
          "2008-07-01T00:00:00",
          "2008-12-01T00:00:00",
          "2008-12-01T00:00:00"
         ],
         "xaxis": "x3",
         "y": [
          0.0869654713131258,
          0.13080485243149406,
          0.09297533415922346,
          0.07483173087511293,
          0.1883953277651758,
          0.11285995496117172,
          0.08501618409402037,
          0.14585008524472126,
          0.08311029671075046,
          0.11103538371006541,
          0.11103538371006541
         ],
         "yaxis": "y3"
        },
        {
         "customdata": [
          [
           "Jensen-Shannon distance for <b>BsmtFinSF1</b>",
           "<b style=\"color:#00c8e5;line-height:60px\">Reference</b>",
           "",
           "[0:62]",
           "From <b>Jan-01-2007</b> to <b>Apr-01-2007</b>",
           0.087
          ],
          [
           "Jensen-Shannon distance for <b>BsmtFinSF1</b>",
           "<b style=\"color:#00c8e5;line-height:60px\">Reference</b>",
           "<span style=\"color:#AD0000\">⚠ <b>Drift detected</b></span>",
           "[63:125]",
           "From <b>Apr-01-2007</b> to <b>Jun-01-2007</b>",
           0.1308
          ],
          [
           "Jensen-Shannon distance for <b>BsmtFinSF1</b>",
           "<b style=\"color:#00c8e5;line-height:60px\">Reference</b>",
           "",
           "[126:188]",
           "From <b>Jun-01-2007</b> to <b>Jul-01-2007</b>",
           0.093
          ],
          [
           "Jensen-Shannon distance for <b>BsmtFinSF1</b>",
           "<b style=\"color:#00c8e5;line-height:60px\">Reference</b>",
           "",
           "[189:251]",
           "From <b>Jul-01-2007</b> to <b>Aug-01-2007</b>",
           0.0748
          ],
          [
           "Jensen-Shannon distance for <b>BsmtFinSF1</b>",
           "<b style=\"color:#00c8e5;line-height:60px\">Reference</b>",
           "<span style=\"color:#AD0000\">⚠ <b>Drift detected</b></span>",
           "[252:314]",
           "From <b>Aug-01-2007</b> to <b>Dec-01-2007</b>",
           0.1884
          ],
          [
           "Jensen-Shannon distance for <b>BsmtFinSF1</b>",
           "<b style=\"color:#00c8e5;line-height:60px\">Reference</b>",
           "<span style=\"color:#AD0000\">⚠ <b>Drift detected</b></span>",
           "[315:377]",
           "From <b>Dec-01-2007</b> to <b>Apr-01-2008</b>",
           0.1129
          ],
          [
           "Jensen-Shannon distance for <b>BsmtFinSF1</b>",
           "<b style=\"color:#00c8e5;line-height:60px\">Reference</b>",
           "",
           "[378:440]",
           "From <b>Apr-01-2008</b> to <b>Jun-01-2008</b>",
           0.085
          ],
          [
           "Jensen-Shannon distance for <b>BsmtFinSF1</b>",
           "<b style=\"color:#00c8e5;line-height:60px\">Reference</b>",
           "<span style=\"color:#AD0000\">⚠ <b>Drift detected</b></span>",
           "[441:503]",
           "From <b>Jun-01-2008</b> to <b>Jul-01-2008</b>",
           0.1459
          ],
          [
           "Jensen-Shannon distance for <b>BsmtFinSF1</b>",
           "<b style=\"color:#00c8e5;line-height:60px\">Reference</b>",
           "",
           "[504:566]",
           "From <b>Jul-01-2008</b> to <b>Sep-01-2008</b>",
           0.0831
          ],
          [
           "Jensen-Shannon distance for <b>BsmtFinSF1</b>",
           "<b style=\"color:#00c8e5;line-height:60px\">Reference</b>",
           "<span style=\"color:#AD0000\">⚠ <b>Drift detected</b></span>",
           "[630:629]",
           "From <b>Dec-01-2008</b> to <b>Dec-01-2008</b>",
           0.111
          ]
         ],
         "hovertemplate": "%{customdata[1]} &nbsp; &nbsp; %{customdata[2]} <br />Chunk: <b>%{customdata[3]}</b> &nbsp; &nbsp; %{customdata[4]} <br />%{customdata[0]}: <b>%{customdata[5]}</b><b r /><extra></extra>",
         "legendgroup": "metric_reference",
         "marker": {
          "color": "#00c8e5",
          "size": 5,
          "symbol": "circle"
         },
         "mode": "markers",
         "name": "Method",
         "showlegend": false,
         "type": "scatter",
         "x": [
          "2007-02-15T00:00:00",
          "2007-05-01T12:00:00",
          "2007-06-16T00:00:00",
          "2007-07-16T12:00:00",
          "2007-10-01T00:00:00",
          "2008-01-31T00:00:00",
          "2008-05-01T12:00:00",
          "2008-06-16T00:00:00",
          "2008-09-15T12:00:00",
          "2008-12-01T00:00:00"
         ],
         "xaxis": "x3",
         "y": [
          0.0869654713131258,
          0.13080485243149406,
          0.09297533415922346,
          0.07483173087511293,
          0.1883953277651758,
          0.11285995496117172,
          0.08501618409402037,
          0.14585008524472126,
          0.08311029671075046,
          0.11103538371006541,
          0.11103538371006541
         ],
         "yaxis": "y3"
        },
        {
         "hoverinfo": "skip",
         "legendgroup": "metric_analysis",
         "line": {
          "color": "#00c8e5",
          "shape": "hv",
          "width": 2
         },
         "mode": "lines",
         "name": "Method",
         "showlegend": false,
         "type": "scatter",
         "x": [
          "2009-01-01T00:00:00",
          "2009-04-01T00:00:00",
          "2009-05-01T00:00:00",
          "2009-06-01T00:00:00",
          "2009-07-01T00:00:00",
          "2009-09-01T00:00:00",
          "2009-11-01T00:00:00",
          "2010-02-01T00:00:00",
          "2010-04-01T00:00:00",
          "2010-07-01T00:00:00",
          "2010-07-01T00:00:00"
         ],
         "xaxis": "x3",
         "y": [
          0.143310293850376,
          0.16363006633471197,
          0.15561519083095143,
          0.16993132752742318,
          0.06701735454105563,
          0.13681092668677003,
          0.178895930671004,
          0.16055111642789532,
          0.15015975054058628,
          0.15236279294622096,
          0.15236279294622096
         ],
         "yaxis": "y3"
        },
        {
         "customdata": [
          [
           "Jensen-Shannon distance for <b>BsmtFinSF1</b>",
           "<b style=\"color:#00c8e5;line-height:60px\">Analysis</b>",
           "<span style=\"color:#AD0000\">⚠ <b>Drift detected</b></span>",
           "[0:50]",
           "From <b>Jan-01-2009</b> to <b>Apr-01-2009</b>",
           0.1433
          ],
          [
           "Jensen-Shannon distance for <b>BsmtFinSF1</b>",
           "<b style=\"color:#00c8e5;line-height:60px\">Analysis</b>",
           "<span style=\"color:#AD0000\">⚠ <b>Drift detected</b></span>",
           "[51:101]",
           "From <b>Apr-01-2009</b> to <b>May-01-2009</b>",
           0.1636
          ],
          [
           "Jensen-Shannon distance for <b>BsmtFinSF1</b>",
           "<b style=\"color:#00c8e5;line-height:60px\">Analysis</b>",
           "<span style=\"color:#AD0000\">⚠ <b>Drift detected</b></span>",
           "[102:152]",
           "From <b>May-01-2009</b> to <b>Jun-01-2009</b>",
           0.1556
          ],
          [
           "Jensen-Shannon distance for <b>BsmtFinSF1</b>",
           "<b style=\"color:#00c8e5;line-height:60px\">Analysis</b>",
           "<span style=\"color:#AD0000\">⚠ <b>Drift detected</b></span>",
           "[153:203]",
           "From <b>Jun-01-2009</b> to <b>Jul-01-2009</b>",
           0.1699
          ],
          [
           "Jensen-Shannon distance for <b>BsmtFinSF1</b>",
           "<b style=\"color:#00c8e5;line-height:60px\">Analysis</b>",
           "",
           "[204:254]",
           "From <b>Jul-01-2009</b> to <b>Sep-01-2009</b>",
           0.067
          ],
          [
           "Jensen-Shannon distance for <b>BsmtFinSF1</b>",
           "<b style=\"color:#00c8e5;line-height:60px\">Analysis</b>",
           "<span style=\"color:#AD0000\">⚠ <b>Drift detected</b></span>",
           "[255:305]",
           "From <b>Sep-01-2009</b> to <b>Nov-01-2009</b>",
           0.1368
          ],
          [
           "Jensen-Shannon distance for <b>BsmtFinSF1</b>",
           "<b style=\"color:#00c8e5;line-height:60px\">Analysis</b>",
           "<span style=\"color:#AD0000\">⚠ <b>Drift detected</b></span>",
           "[306:356]",
           "From <b>Nov-01-2009</b> to <b>Feb-01-2010</b>",
           0.1789
          ],
          [
           "Jensen-Shannon distance for <b>BsmtFinSF1</b>",
           "<b style=\"color:#00c8e5;line-height:60px\">Analysis</b>",
           "<span style=\"color:#AD0000\">⚠ <b>Drift detected</b></span>",
           "[357:407]",
           "From <b>Feb-01-2010</b> to <b>Apr-01-2010</b>",
           0.1606
          ],
          [
           "Jensen-Shannon distance for <b>BsmtFinSF1</b>",
           "<b style=\"color:#00c8e5;line-height:60px\">Analysis</b>",
           "<span style=\"color:#AD0000\">⚠ <b>Drift detected</b></span>",
           "[408:458]",
           "From <b>Apr-01-2010</b> to <b>May-01-2010</b>",
           0.1502
          ],
          [
           "Jensen-Shannon distance for <b>BsmtFinSF1</b>",
           "<b style=\"color:#00c8e5;line-height:60px\">Analysis</b>",
           "<span style=\"color:#AD0000\">⚠ <b>Drift detected</b></span>",
           "[510:509]",
           "From <b>Jul-01-2010</b> to <b>Jul-01-2010</b>",
           0.1524
          ]
         ],
         "hovertemplate": "%{customdata[1]} &nbsp; &nbsp; %{customdata[2]} <br />Chunk: <b>%{customdata[3]}</b> &nbsp; &nbsp; %{customdata[4]} <br />%{customdata[0]}: <b>%{customdata[5]}</b><b r /><extra></extra>",
         "legendgroup": "metric_analysis",
         "marker": {
          "color": "#00c8e5",
          "size": 5,
          "symbol": "circle"
         },
         "mode": "markers",
         "name": "Method",
         "showlegend": false,
         "type": "scatter",
         "x": [
          "2009-02-15T00:00:00",
          "2009-04-16T00:00:00",
          "2009-05-16T12:00:00",
          "2009-06-16T00:00:00",
          "2009-08-01T00:00:00",
          "2009-10-01T12:00:00",
          "2009-12-17T00:00:00",
          "2010-03-02T12:00:00",
          "2010-05-16T12:00:00",
          "2010-07-01T00:00:00"
         ],
         "xaxis": "x3",
         "y": [
          0.143310293850376,
          0.16363006633471197,
          0.15561519083095143,
          0.16993132752742318,
          0.06701735454105563,
          0.13681092668677003,
          0.178895930671004,
          0.16055111642789532,
          0.15015975054058628,
          0.15236279294622096,
          0.15236279294622096
         ],
         "yaxis": "y3"
        },
        {
         "hoverinfo": "skip",
         "legendgroup": "alert",
         "marker": {
          "color": "#DD4040",
          "size": 8,
          "symbol": "diamond"
         },
         "mode": "markers",
         "name": "Alert",
         "showlegend": false,
         "type": "scatter",
         "x": [
          "2009-02-15T00:00:00",
          "2009-04-16T00:00:00",
          "2009-05-16T12:00:00",
          "2009-06-16T00:00:00",
          "2009-10-01T12:00:00",
          "2009-12-17T00:00:00",
          "2010-03-02T12:00:00",
          "2010-05-16T12:00:00",
          "2010-07-01T00:00:00"
         ],
         "xaxis": "x3",
         "y": [
          0.143310293850376,
          0.16363006633471197,
          0.15561519083095143,
          0.16993132752742318,
          0.13681092668677003,
          0.178895930671004,
          0.16055111642789532,
          0.15015975054058628,
          0.15236279294622096
         ],
         "yaxis": "y3"
        },
        {
         "hoverinfo": "skip",
         "legendgroup": "thresh",
         "line": {
          "color": "#DD4040",
          "dash": "dash",
          "width": 2
         },
         "mode": "lines",
         "name": "Threshold",
         "showlegend": false,
         "type": "scatter",
         "x": [
          "2007-01-01T00:00:00",
          "2007-04-01T00:00:00",
          "2007-06-01T00:00:00",
          "2007-07-01T00:00:00",
          "2007-08-01T00:00:00",
          "2007-12-01T00:00:00",
          "2008-04-01T00:00:00",
          "2008-06-01T00:00:00",
          "2008-07-01T00:00:00",
          "2008-12-01T00:00:00",
          "2008-12-01T00:00:00"
         ],
         "xaxis": "x3",
         "y": [
          0.1,
          0.1,
          0.1,
          0.1,
          0.1,
          0.1,
          0.1,
          0.1,
          0.1,
          0.1,
          0.1
         ],
         "yaxis": "y3"
        },
        {
         "hoverinfo": "skip",
         "legendgroup": "thresh",
         "line": {
          "color": "#DD4040",
          "dash": "dash",
          "width": 2
         },
         "mode": "lines",
         "name": "Threshold",
         "showlegend": false,
         "type": "scatter",
         "x": [
          "2009-01-01T00:00:00",
          "2009-04-01T00:00:00",
          "2009-05-01T00:00:00",
          "2009-06-01T00:00:00",
          "2009-07-01T00:00:00",
          "2009-09-01T00:00:00",
          "2009-11-01T00:00:00",
          "2010-02-01T00:00:00",
          "2010-04-01T00:00:00",
          "2010-07-01T00:00:00",
          "2010-07-01T00:00:00"
         ],
         "xaxis": "x3",
         "y": [
          0.1,
          0.1,
          0.1,
          0.1,
          0.1,
          0.1,
          0.1,
          0.1,
          0.1,
          0.1,
          0.1
         ],
         "yaxis": "y3"
        },
        {
         "hoverinfo": "skip",
         "legendgroup": "metric_reference",
         "line": {
          "color": "#00c8e5",
          "shape": "hv",
          "width": 2
         },
         "mode": "lines",
         "name": "Method",
         "showlegend": false,
         "type": "scatter",
         "x": [
          "2007-01-01T00:00:00",
          "2007-04-01T00:00:00",
          "2007-06-01T00:00:00",
          "2007-07-01T00:00:00",
          "2007-08-01T00:00:00",
          "2007-12-01T00:00:00",
          "2008-04-01T00:00:00",
          "2008-06-01T00:00:00",
          "2008-07-01T00:00:00",
          "2008-12-01T00:00:00",
          "2008-12-01T00:00:00"
         ],
         "xaxis": "x4",
         "y": [
          0.13889005983246483,
          0.1931910014059132,
          0.23578165411127378,
          0.1420852198932353,
          0.24412562874321492,
          0.13259764504670912,
          0.1438413832783151,
          0.10699264648378064,
          0.16047867803597513,
          0.17817174987689055,
          0.17817174987689055
         ],
         "yaxis": "y4"
        },
        {
         "customdata": [
          [
           "Jensen-Shannon distance for <b>GarageArea</b>",
           "<b style=\"color:#00c8e5;line-height:60px\">Reference</b>",
           "<span style=\"color:#AD0000\">⚠ <b>Drift detected</b></span>",
           "[0:62]",
           "From <b>Jan-01-2007</b> to <b>Apr-01-2007</b>",
           0.1389
          ],
          [
           "Jensen-Shannon distance for <b>GarageArea</b>",
           "<b style=\"color:#00c8e5;line-height:60px\">Reference</b>",
           "<span style=\"color:#AD0000\">⚠ <b>Drift detected</b></span>",
           "[63:125]",
           "From <b>Apr-01-2007</b> to <b>Jun-01-2007</b>",
           0.1932
          ],
          [
           "Jensen-Shannon distance for <b>GarageArea</b>",
           "<b style=\"color:#00c8e5;line-height:60px\">Reference</b>",
           "<span style=\"color:#AD0000\">⚠ <b>Drift detected</b></span>",
           "[126:188]",
           "From <b>Jun-01-2007</b> to <b>Jul-01-2007</b>",
           0.2358
          ],
          [
           "Jensen-Shannon distance for <b>GarageArea</b>",
           "<b style=\"color:#00c8e5;line-height:60px\">Reference</b>",
           "<span style=\"color:#AD0000\">⚠ <b>Drift detected</b></span>",
           "[189:251]",
           "From <b>Jul-01-2007</b> to <b>Aug-01-2007</b>",
           0.1421
          ],
          [
           "Jensen-Shannon distance for <b>GarageArea</b>",
           "<b style=\"color:#00c8e5;line-height:60px\">Reference</b>",
           "<span style=\"color:#AD0000\">⚠ <b>Drift detected</b></span>",
           "[252:314]",
           "From <b>Aug-01-2007</b> to <b>Dec-01-2007</b>",
           0.2441
          ],
          [
           "Jensen-Shannon distance for <b>GarageArea</b>",
           "<b style=\"color:#00c8e5;line-height:60px\">Reference</b>",
           "<span style=\"color:#AD0000\">⚠ <b>Drift detected</b></span>",
           "[315:377]",
           "From <b>Dec-01-2007</b> to <b>Apr-01-2008</b>",
           0.1326
          ],
          [
           "Jensen-Shannon distance for <b>GarageArea</b>",
           "<b style=\"color:#00c8e5;line-height:60px\">Reference</b>",
           "<span style=\"color:#AD0000\">⚠ <b>Drift detected</b></span>",
           "[378:440]",
           "From <b>Apr-01-2008</b> to <b>Jun-01-2008</b>",
           0.1438
          ],
          [
           "Jensen-Shannon distance for <b>GarageArea</b>",
           "<b style=\"color:#00c8e5;line-height:60px\">Reference</b>",
           "<span style=\"color:#AD0000\">⚠ <b>Drift detected</b></span>",
           "[441:503]",
           "From <b>Jun-01-2008</b> to <b>Jul-01-2008</b>",
           0.107
          ],
          [
           "Jensen-Shannon distance for <b>GarageArea</b>",
           "<b style=\"color:#00c8e5;line-height:60px\">Reference</b>",
           "<span style=\"color:#AD0000\">⚠ <b>Drift detected</b></span>",
           "[504:566]",
           "From <b>Jul-01-2008</b> to <b>Sep-01-2008</b>",
           0.1605
          ],
          [
           "Jensen-Shannon distance for <b>GarageArea</b>",
           "<b style=\"color:#00c8e5;line-height:60px\">Reference</b>",
           "<span style=\"color:#AD0000\">⚠ <b>Drift detected</b></span>",
           "[630:629]",
           "From <b>Dec-01-2008</b> to <b>Dec-01-2008</b>",
           0.1782
          ]
         ],
         "hovertemplate": "%{customdata[1]} &nbsp; &nbsp; %{customdata[2]} <br />Chunk: <b>%{customdata[3]}</b> &nbsp; &nbsp; %{customdata[4]} <br />%{customdata[0]}: <b>%{customdata[5]}</b><b r /><extra></extra>",
         "legendgroup": "metric_reference",
         "marker": {
          "color": "#00c8e5",
          "size": 5,
          "symbol": "circle"
         },
         "mode": "markers",
         "name": "Method",
         "showlegend": false,
         "type": "scatter",
         "x": [
          "2007-02-15T00:00:00",
          "2007-05-01T12:00:00",
          "2007-06-16T00:00:00",
          "2007-07-16T12:00:00",
          "2007-10-01T00:00:00",
          "2008-01-31T00:00:00",
          "2008-05-01T12:00:00",
          "2008-06-16T00:00:00",
          "2008-09-15T12:00:00",
          "2008-12-01T00:00:00"
         ],
         "xaxis": "x4",
         "y": [
          0.13889005983246483,
          0.1931910014059132,
          0.23578165411127378,
          0.1420852198932353,
          0.24412562874321492,
          0.13259764504670912,
          0.1438413832783151,
          0.10699264648378064,
          0.16047867803597513,
          0.17817174987689055,
          0.17817174987689055
         ],
         "yaxis": "y4"
        },
        {
         "hoverinfo": "skip",
         "legendgroup": "metric_analysis",
         "line": {
          "color": "#00c8e5",
          "shape": "hv",
          "width": 2
         },
         "mode": "lines",
         "name": "Method",
         "showlegend": false,
         "type": "scatter",
         "x": [
          "2009-01-01T00:00:00",
          "2009-04-01T00:00:00",
          "2009-05-01T00:00:00",
          "2009-06-01T00:00:00",
          "2009-07-01T00:00:00",
          "2009-09-01T00:00:00",
          "2009-11-01T00:00:00",
          "2010-02-01T00:00:00",
          "2010-04-01T00:00:00",
          "2010-07-01T00:00:00",
          "2010-07-01T00:00:00"
         ],
         "xaxis": "x4",
         "y": [
          0.1816269215429858,
          0.11853233495631105,
          0.22130964727319677,
          0.18730827778339634,
          0.23304149636027446,
          0.19074666763857212,
          0.152549691679862,
          0.1991957204503751,
          0.2175471710193512,
          0.19045135389282897,
          0.19045135389282897
         ],
         "yaxis": "y4"
        },
        {
         "customdata": [
          [
           "Jensen-Shannon distance for <b>GarageArea</b>",
           "<b style=\"color:#00c8e5;line-height:60px\">Analysis</b>",
           "<span style=\"color:#AD0000\">⚠ <b>Drift detected</b></span>",
           "[0:50]",
           "From <b>Jan-01-2009</b> to <b>Apr-01-2009</b>",
           0.1816
          ],
          [
           "Jensen-Shannon distance for <b>GarageArea</b>",
           "<b style=\"color:#00c8e5;line-height:60px\">Analysis</b>",
           "<span style=\"color:#AD0000\">⚠ <b>Drift detected</b></span>",
           "[51:101]",
           "From <b>Apr-01-2009</b> to <b>May-01-2009</b>",
           0.1185
          ],
          [
           "Jensen-Shannon distance for <b>GarageArea</b>",
           "<b style=\"color:#00c8e5;line-height:60px\">Analysis</b>",
           "<span style=\"color:#AD0000\">⚠ <b>Drift detected</b></span>",
           "[102:152]",
           "From <b>May-01-2009</b> to <b>Jun-01-2009</b>",
           0.2213
          ],
          [
           "Jensen-Shannon distance for <b>GarageArea</b>",
           "<b style=\"color:#00c8e5;line-height:60px\">Analysis</b>",
           "<span style=\"color:#AD0000\">⚠ <b>Drift detected</b></span>",
           "[153:203]",
           "From <b>Jun-01-2009</b> to <b>Jul-01-2009</b>",
           0.1873
          ],
          [
           "Jensen-Shannon distance for <b>GarageArea</b>",
           "<b style=\"color:#00c8e5;line-height:60px\">Analysis</b>",
           "<span style=\"color:#AD0000\">⚠ <b>Drift detected</b></span>",
           "[204:254]",
           "From <b>Jul-01-2009</b> to <b>Sep-01-2009</b>",
           0.233
          ],
          [
           "Jensen-Shannon distance for <b>GarageArea</b>",
           "<b style=\"color:#00c8e5;line-height:60px\">Analysis</b>",
           "<span style=\"color:#AD0000\">⚠ <b>Drift detected</b></span>",
           "[255:305]",
           "From <b>Sep-01-2009</b> to <b>Nov-01-2009</b>",
           0.1907
          ],
          [
           "Jensen-Shannon distance for <b>GarageArea</b>",
           "<b style=\"color:#00c8e5;line-height:60px\">Analysis</b>",
           "<span style=\"color:#AD0000\">⚠ <b>Drift detected</b></span>",
           "[306:356]",
           "From <b>Nov-01-2009</b> to <b>Feb-01-2010</b>",
           0.1525
          ],
          [
           "Jensen-Shannon distance for <b>GarageArea</b>",
           "<b style=\"color:#00c8e5;line-height:60px\">Analysis</b>",
           "<span style=\"color:#AD0000\">⚠ <b>Drift detected</b></span>",
           "[357:407]",
           "From <b>Feb-01-2010</b> to <b>Apr-01-2010</b>",
           0.1992
          ],
          [
           "Jensen-Shannon distance for <b>GarageArea</b>",
           "<b style=\"color:#00c8e5;line-height:60px\">Analysis</b>",
           "<span style=\"color:#AD0000\">⚠ <b>Drift detected</b></span>",
           "[408:458]",
           "From <b>Apr-01-2010</b> to <b>May-01-2010</b>",
           0.2175
          ],
          [
           "Jensen-Shannon distance for <b>GarageArea</b>",
           "<b style=\"color:#00c8e5;line-height:60px\">Analysis</b>",
           "<span style=\"color:#AD0000\">⚠ <b>Drift detected</b></span>",
           "[510:509]",
           "From <b>Jul-01-2010</b> to <b>Jul-01-2010</b>",
           0.1905
          ]
         ],
         "hovertemplate": "%{customdata[1]} &nbsp; &nbsp; %{customdata[2]} <br />Chunk: <b>%{customdata[3]}</b> &nbsp; &nbsp; %{customdata[4]} <br />%{customdata[0]}: <b>%{customdata[5]}</b><b r /><extra></extra>",
         "legendgroup": "metric_analysis",
         "marker": {
          "color": "#00c8e5",
          "size": 5,
          "symbol": "circle"
         },
         "mode": "markers",
         "name": "Method",
         "showlegend": false,
         "type": "scatter",
         "x": [
          "2009-02-15T00:00:00",
          "2009-04-16T00:00:00",
          "2009-05-16T12:00:00",
          "2009-06-16T00:00:00",
          "2009-08-01T00:00:00",
          "2009-10-01T12:00:00",
          "2009-12-17T00:00:00",
          "2010-03-02T12:00:00",
          "2010-05-16T12:00:00",
          "2010-07-01T00:00:00"
         ],
         "xaxis": "x4",
         "y": [
          0.1816269215429858,
          0.11853233495631105,
          0.22130964727319677,
          0.18730827778339634,
          0.23304149636027446,
          0.19074666763857212,
          0.152549691679862,
          0.1991957204503751,
          0.2175471710193512,
          0.19045135389282897,
          0.19045135389282897
         ],
         "yaxis": "y4"
        },
        {
         "hoverinfo": "skip",
         "legendgroup": "alert",
         "marker": {
          "color": "#DD4040",
          "size": 8,
          "symbol": "diamond"
         },
         "mode": "markers",
         "name": "Alert",
         "showlegend": false,
         "type": "scatter",
         "x": [
          "2009-02-15T00:00:00",
          "2009-04-16T00:00:00",
          "2009-05-16T12:00:00",
          "2009-06-16T00:00:00",
          "2009-08-01T00:00:00",
          "2009-10-01T12:00:00",
          "2009-12-17T00:00:00",
          "2010-03-02T12:00:00",
          "2010-05-16T12:00:00",
          "2010-07-01T00:00:00"
         ],
         "xaxis": "x4",
         "y": [
          0.1816269215429858,
          0.11853233495631105,
          0.22130964727319677,
          0.18730827778339634,
          0.23304149636027446,
          0.19074666763857212,
          0.152549691679862,
          0.1991957204503751,
          0.2175471710193512,
          0.19045135389282897
         ],
         "yaxis": "y4"
        },
        {
         "hoverinfo": "skip",
         "legendgroup": "thresh",
         "line": {
          "color": "#DD4040",
          "dash": "dash",
          "width": 2
         },
         "mode": "lines",
         "name": "Threshold",
         "showlegend": false,
         "type": "scatter",
         "x": [
          "2007-01-01T00:00:00",
          "2007-04-01T00:00:00",
          "2007-06-01T00:00:00",
          "2007-07-01T00:00:00",
          "2007-08-01T00:00:00",
          "2007-12-01T00:00:00",
          "2008-04-01T00:00:00",
          "2008-06-01T00:00:00",
          "2008-07-01T00:00:00",
          "2008-12-01T00:00:00",
          "2008-12-01T00:00:00"
         ],
         "xaxis": "x4",
         "y": [
          0.1,
          0.1,
          0.1,
          0.1,
          0.1,
          0.1,
          0.1,
          0.1,
          0.1,
          0.1,
          0.1
         ],
         "yaxis": "y4"
        },
        {
         "hoverinfo": "skip",
         "legendgroup": "thresh",
         "line": {
          "color": "#DD4040",
          "dash": "dash",
          "width": 2
         },
         "mode": "lines",
         "name": "Threshold",
         "showlegend": false,
         "type": "scatter",
         "x": [
          "2009-01-01T00:00:00",
          "2009-04-01T00:00:00",
          "2009-05-01T00:00:00",
          "2009-06-01T00:00:00",
          "2009-07-01T00:00:00",
          "2009-09-01T00:00:00",
          "2009-11-01T00:00:00",
          "2010-02-01T00:00:00",
          "2010-04-01T00:00:00",
          "2010-07-01T00:00:00",
          "2010-07-01T00:00:00"
         ],
         "xaxis": "x4",
         "y": [
          0.1,
          0.1,
          0.1,
          0.1,
          0.1,
          0.1,
          0.1,
          0.1,
          0.1,
          0.1,
          0.1
         ],
         "yaxis": "y4"
        },
        {
         "hoverinfo": "skip",
         "legendgroup": "metric_reference",
         "line": {
          "color": "#00c8e5",
          "shape": "hv",
          "width": 2
         },
         "mode": "lines",
         "name": "Method",
         "showlegend": false,
         "type": "scatter",
         "x": [
          "2007-01-01T00:00:00",
          "2007-04-01T00:00:00",
          "2007-06-01T00:00:00",
          "2007-07-01T00:00:00",
          "2007-08-01T00:00:00",
          "2007-12-01T00:00:00",
          "2008-04-01T00:00:00",
          "2008-06-01T00:00:00",
          "2008-07-01T00:00:00",
          "2008-12-01T00:00:00",
          "2008-12-01T00:00:00"
         ],
         "xaxis": "x5",
         "y": [
          0.0592393989124161,
          0.05719475603137232,
          0.20005318825264046,
          0.07376770180453346,
          0.13774215689746244,
          0.07863982042574999,
          0.06867030156415296,
          0.08652644517432226,
          0.050280420389456265,
          0.07264202290957493,
          0.07264202290957493
         ],
         "yaxis": "y5"
        },
        {
         "customdata": [
          [
           "Jensen-Shannon distance for <b>GarageCars</b>",
           "<b style=\"color:#00c8e5;line-height:60px\">Reference</b>",
           "",
           "[0:62]",
           "From <b>Jan-01-2007</b> to <b>Apr-01-2007</b>",
           0.0592
          ],
          [
           "Jensen-Shannon distance for <b>GarageCars</b>",
           "<b style=\"color:#00c8e5;line-height:60px\">Reference</b>",
           "",
           "[63:125]",
           "From <b>Apr-01-2007</b> to <b>Jun-01-2007</b>",
           0.0572
          ],
          [
           "Jensen-Shannon distance for <b>GarageCars</b>",
           "<b style=\"color:#00c8e5;line-height:60px\">Reference</b>",
           "<span style=\"color:#AD0000\">⚠ <b>Drift detected</b></span>",
           "[126:188]",
           "From <b>Jun-01-2007</b> to <b>Jul-01-2007</b>",
           0.2001
          ],
          [
           "Jensen-Shannon distance for <b>GarageCars</b>",
           "<b style=\"color:#00c8e5;line-height:60px\">Reference</b>",
           "",
           "[189:251]",
           "From <b>Jul-01-2007</b> to <b>Aug-01-2007</b>",
           0.0738
          ],
          [
           "Jensen-Shannon distance for <b>GarageCars</b>",
           "<b style=\"color:#00c8e5;line-height:60px\">Reference</b>",
           "<span style=\"color:#AD0000\">⚠ <b>Drift detected</b></span>",
           "[252:314]",
           "From <b>Aug-01-2007</b> to <b>Dec-01-2007</b>",
           0.1377
          ],
          [
           "Jensen-Shannon distance for <b>GarageCars</b>",
           "<b style=\"color:#00c8e5;line-height:60px\">Reference</b>",
           "",
           "[315:377]",
           "From <b>Dec-01-2007</b> to <b>Apr-01-2008</b>",
           0.0786
          ],
          [
           "Jensen-Shannon distance for <b>GarageCars</b>",
           "<b style=\"color:#00c8e5;line-height:60px\">Reference</b>",
           "",
           "[378:440]",
           "From <b>Apr-01-2008</b> to <b>Jun-01-2008</b>",
           0.0687
          ],
          [
           "Jensen-Shannon distance for <b>GarageCars</b>",
           "<b style=\"color:#00c8e5;line-height:60px\">Reference</b>",
           "",
           "[441:503]",
           "From <b>Jun-01-2008</b> to <b>Jul-01-2008</b>",
           0.0865
          ],
          [
           "Jensen-Shannon distance for <b>GarageCars</b>",
           "<b style=\"color:#00c8e5;line-height:60px\">Reference</b>",
           "",
           "[504:566]",
           "From <b>Jul-01-2008</b> to <b>Sep-01-2008</b>",
           0.0503
          ],
          [
           "Jensen-Shannon distance for <b>GarageCars</b>",
           "<b style=\"color:#00c8e5;line-height:60px\">Reference</b>",
           "",
           "[630:629]",
           "From <b>Dec-01-2008</b> to <b>Dec-01-2008</b>",
           0.0726
          ]
         ],
         "hovertemplate": "%{customdata[1]} &nbsp; &nbsp; %{customdata[2]} <br />Chunk: <b>%{customdata[3]}</b> &nbsp; &nbsp; %{customdata[4]} <br />%{customdata[0]}: <b>%{customdata[5]}</b><b r /><extra></extra>",
         "legendgroup": "metric_reference",
         "marker": {
          "color": "#00c8e5",
          "size": 5,
          "symbol": "circle"
         },
         "mode": "markers",
         "name": "Method",
         "showlegend": false,
         "type": "scatter",
         "x": [
          "2007-02-15T00:00:00",
          "2007-05-01T12:00:00",
          "2007-06-16T00:00:00",
          "2007-07-16T12:00:00",
          "2007-10-01T00:00:00",
          "2008-01-31T00:00:00",
          "2008-05-01T12:00:00",
          "2008-06-16T00:00:00",
          "2008-09-15T12:00:00",
          "2008-12-01T00:00:00"
         ],
         "xaxis": "x5",
         "y": [
          0.0592393989124161,
          0.05719475603137232,
          0.20005318825264046,
          0.07376770180453346,
          0.13774215689746244,
          0.07863982042574999,
          0.06867030156415296,
          0.08652644517432226,
          0.050280420389456265,
          0.07264202290957493,
          0.07264202290957493
         ],
         "yaxis": "y5"
        },
        {
         "hoverinfo": "skip",
         "legendgroup": "metric_analysis",
         "line": {
          "color": "#00c8e5",
          "shape": "hv",
          "width": 2
         },
         "mode": "lines",
         "name": "Method",
         "showlegend": false,
         "type": "scatter",
         "x": [
          "2009-01-01T00:00:00",
          "2009-04-01T00:00:00",
          "2009-05-01T00:00:00",
          "2009-06-01T00:00:00",
          "2009-07-01T00:00:00",
          "2009-09-01T00:00:00",
          "2009-11-01T00:00:00",
          "2010-02-01T00:00:00",
          "2010-04-01T00:00:00",
          "2010-07-01T00:00:00",
          "2010-07-01T00:00:00"
         ],
         "xaxis": "x5",
         "y": [
          0.11602352747030009,
          0.10479402726646846,
          0.11848889176870445,
          0.07632467196416284,
          0.11677121155151479,
          0.08924934766159186,
          0.15149444889212033,
          0.10044032487316618,
          0.11468983239115335,
          0.09547222122610227,
          0.09547222122610227
         ],
         "yaxis": "y5"
        },
        {
         "customdata": [
          [
           "Jensen-Shannon distance for <b>GarageCars</b>",
           "<b style=\"color:#00c8e5;line-height:60px\">Analysis</b>",
           "<span style=\"color:#AD0000\">⚠ <b>Drift detected</b></span>",
           "[0:50]",
           "From <b>Jan-01-2009</b> to <b>Apr-01-2009</b>",
           0.116
          ],
          [
           "Jensen-Shannon distance for <b>GarageCars</b>",
           "<b style=\"color:#00c8e5;line-height:60px\">Analysis</b>",
           "<span style=\"color:#AD0000\">⚠ <b>Drift detected</b></span>",
           "[51:101]",
           "From <b>Apr-01-2009</b> to <b>May-01-2009</b>",
           0.1048
          ],
          [
           "Jensen-Shannon distance for <b>GarageCars</b>",
           "<b style=\"color:#00c8e5;line-height:60px\">Analysis</b>",
           "<span style=\"color:#AD0000\">⚠ <b>Drift detected</b></span>",
           "[102:152]",
           "From <b>May-01-2009</b> to <b>Jun-01-2009</b>",
           0.1185
          ],
          [
           "Jensen-Shannon distance for <b>GarageCars</b>",
           "<b style=\"color:#00c8e5;line-height:60px\">Analysis</b>",
           "",
           "[153:203]",
           "From <b>Jun-01-2009</b> to <b>Jul-01-2009</b>",
           0.0763
          ],
          [
           "Jensen-Shannon distance for <b>GarageCars</b>",
           "<b style=\"color:#00c8e5;line-height:60px\">Analysis</b>",
           "<span style=\"color:#AD0000\">⚠ <b>Drift detected</b></span>",
           "[204:254]",
           "From <b>Jul-01-2009</b> to <b>Sep-01-2009</b>",
           0.1168
          ],
          [
           "Jensen-Shannon distance for <b>GarageCars</b>",
           "<b style=\"color:#00c8e5;line-height:60px\">Analysis</b>",
           "",
           "[255:305]",
           "From <b>Sep-01-2009</b> to <b>Nov-01-2009</b>",
           0.0892
          ],
          [
           "Jensen-Shannon distance for <b>GarageCars</b>",
           "<b style=\"color:#00c8e5;line-height:60px\">Analysis</b>",
           "<span style=\"color:#AD0000\">⚠ <b>Drift detected</b></span>",
           "[306:356]",
           "From <b>Nov-01-2009</b> to <b>Feb-01-2010</b>",
           0.1515
          ],
          [
           "Jensen-Shannon distance for <b>GarageCars</b>",
           "<b style=\"color:#00c8e5;line-height:60px\">Analysis</b>",
           "<span style=\"color:#AD0000\">⚠ <b>Drift detected</b></span>",
           "[357:407]",
           "From <b>Feb-01-2010</b> to <b>Apr-01-2010</b>",
           0.1004
          ],
          [
           "Jensen-Shannon distance for <b>GarageCars</b>",
           "<b style=\"color:#00c8e5;line-height:60px\">Analysis</b>",
           "<span style=\"color:#AD0000\">⚠ <b>Drift detected</b></span>",
           "[408:458]",
           "From <b>Apr-01-2010</b> to <b>May-01-2010</b>",
           0.1147
          ],
          [
           "Jensen-Shannon distance for <b>GarageCars</b>",
           "<b style=\"color:#00c8e5;line-height:60px\">Analysis</b>",
           "",
           "[510:509]",
           "From <b>Jul-01-2010</b> to <b>Jul-01-2010</b>",
           0.0955
          ]
         ],
         "hovertemplate": "%{customdata[1]} &nbsp; &nbsp; %{customdata[2]} <br />Chunk: <b>%{customdata[3]}</b> &nbsp; &nbsp; %{customdata[4]} <br />%{customdata[0]}: <b>%{customdata[5]}</b><b r /><extra></extra>",
         "legendgroup": "metric_analysis",
         "marker": {
          "color": "#00c8e5",
          "size": 5,
          "symbol": "circle"
         },
         "mode": "markers",
         "name": "Method",
         "showlegend": false,
         "type": "scatter",
         "x": [
          "2009-02-15T00:00:00",
          "2009-04-16T00:00:00",
          "2009-05-16T12:00:00",
          "2009-06-16T00:00:00",
          "2009-08-01T00:00:00",
          "2009-10-01T12:00:00",
          "2009-12-17T00:00:00",
          "2010-03-02T12:00:00",
          "2010-05-16T12:00:00",
          "2010-07-01T00:00:00"
         ],
         "xaxis": "x5",
         "y": [
          0.11602352747030009,
          0.10479402726646846,
          0.11848889176870445,
          0.07632467196416284,
          0.11677121155151479,
          0.08924934766159186,
          0.15149444889212033,
          0.10044032487316618,
          0.11468983239115335,
          0.09547222122610227,
          0.09547222122610227
         ],
         "yaxis": "y5"
        },
        {
         "hoverinfo": "skip",
         "legendgroup": "alert",
         "marker": {
          "color": "#DD4040",
          "size": 8,
          "symbol": "diamond"
         },
         "mode": "markers",
         "name": "Alert",
         "showlegend": false,
         "type": "scatter",
         "x": [
          "2009-02-15T00:00:00",
          "2009-04-16T00:00:00",
          "2009-05-16T12:00:00",
          "2009-08-01T00:00:00",
          "2009-12-17T00:00:00",
          "2010-03-02T12:00:00",
          "2010-05-16T12:00:00"
         ],
         "xaxis": "x5",
         "y": [
          0.11602352747030009,
          0.10479402726646846,
          0.11848889176870445,
          0.11677121155151479,
          0.15149444889212033,
          0.10044032487316618,
          0.11468983239115335
         ],
         "yaxis": "y5"
        },
        {
         "hoverinfo": "skip",
         "legendgroup": "thresh",
         "line": {
          "color": "#DD4040",
          "dash": "dash",
          "width": 2
         },
         "mode": "lines",
         "name": "Threshold",
         "showlegend": false,
         "type": "scatter",
         "x": [
          "2007-01-01T00:00:00",
          "2007-04-01T00:00:00",
          "2007-06-01T00:00:00",
          "2007-07-01T00:00:00",
          "2007-08-01T00:00:00",
          "2007-12-01T00:00:00",
          "2008-04-01T00:00:00",
          "2008-06-01T00:00:00",
          "2008-07-01T00:00:00",
          "2008-12-01T00:00:00",
          "2008-12-01T00:00:00"
         ],
         "xaxis": "x5",
         "y": [
          0.1,
          0.1,
          0.1,
          0.1,
          0.1,
          0.1,
          0.1,
          0.1,
          0.1,
          0.1,
          0.1
         ],
         "yaxis": "y5"
        },
        {
         "hoverinfo": "skip",
         "legendgroup": "thresh",
         "line": {
          "color": "#DD4040",
          "dash": "dash",
          "width": 2
         },
         "mode": "lines",
         "name": "Threshold",
         "showlegend": false,
         "type": "scatter",
         "x": [
          "2009-01-01T00:00:00",
          "2009-04-01T00:00:00",
          "2009-05-01T00:00:00",
          "2009-06-01T00:00:00",
          "2009-07-01T00:00:00",
          "2009-09-01T00:00:00",
          "2009-11-01T00:00:00",
          "2010-02-01T00:00:00",
          "2010-04-01T00:00:00",
          "2010-07-01T00:00:00",
          "2010-07-01T00:00:00"
         ],
         "xaxis": "x5",
         "y": [
          0.1,
          0.1,
          0.1,
          0.1,
          0.1,
          0.1,
          0.1,
          0.1,
          0.1,
          0.1,
          0.1
         ],
         "yaxis": "y5"
        },
        {
         "hoverinfo": "skip",
         "legendgroup": "metric_reference",
         "line": {
          "color": "#00c8e5",
          "shape": "hv",
          "width": 2
         },
         "mode": "lines",
         "name": "Method",
         "showlegend": false,
         "type": "scatter",
         "x": [
          "2007-01-01T00:00:00",
          "2007-04-01T00:00:00",
          "2007-06-01T00:00:00",
          "2007-07-01T00:00:00",
          "2007-08-01T00:00:00",
          "2007-12-01T00:00:00",
          "2008-04-01T00:00:00",
          "2008-06-01T00:00:00",
          "2008-07-01T00:00:00",
          "2008-12-01T00:00:00",
          "2008-12-01T00:00:00"
         ],
         "xaxis": "x6",
         "y": [
          0.19154440917978865,
          0.1777120482133927,
          0.18374599614576612,
          0.16641677979186545,
          0.18502305047582684,
          0.21668312989626076,
          0.13486169963775504,
          0.16125351284158473,
          0.15922053007076054,
          0.14002224483798761,
          0.14002224483798761
         ],
         "yaxis": "y6"
        },
        {
         "customdata": [
          [
           "Jensen-Shannon distance for <b>GrLivArea</b>",
           "<b style=\"color:#00c8e5;line-height:60px\">Reference</b>",
           "<span style=\"color:#AD0000\">⚠ <b>Drift detected</b></span>",
           "[0:62]",
           "From <b>Jan-01-2007</b> to <b>Apr-01-2007</b>",
           0.1915
          ],
          [
           "Jensen-Shannon distance for <b>GrLivArea</b>",
           "<b style=\"color:#00c8e5;line-height:60px\">Reference</b>",
           "<span style=\"color:#AD0000\">⚠ <b>Drift detected</b></span>",
           "[63:125]",
           "From <b>Apr-01-2007</b> to <b>Jun-01-2007</b>",
           0.1777
          ],
          [
           "Jensen-Shannon distance for <b>GrLivArea</b>",
           "<b style=\"color:#00c8e5;line-height:60px\">Reference</b>",
           "<span style=\"color:#AD0000\">⚠ <b>Drift detected</b></span>",
           "[126:188]",
           "From <b>Jun-01-2007</b> to <b>Jul-01-2007</b>",
           0.1837
          ],
          [
           "Jensen-Shannon distance for <b>GrLivArea</b>",
           "<b style=\"color:#00c8e5;line-height:60px\">Reference</b>",
           "<span style=\"color:#AD0000\">⚠ <b>Drift detected</b></span>",
           "[189:251]",
           "From <b>Jul-01-2007</b> to <b>Aug-01-2007</b>",
           0.1664
          ],
          [
           "Jensen-Shannon distance for <b>GrLivArea</b>",
           "<b style=\"color:#00c8e5;line-height:60px\">Reference</b>",
           "<span style=\"color:#AD0000\">⚠ <b>Drift detected</b></span>",
           "[252:314]",
           "From <b>Aug-01-2007</b> to <b>Dec-01-2007</b>",
           0.185
          ],
          [
           "Jensen-Shannon distance for <b>GrLivArea</b>",
           "<b style=\"color:#00c8e5;line-height:60px\">Reference</b>",
           "<span style=\"color:#AD0000\">⚠ <b>Drift detected</b></span>",
           "[315:377]",
           "From <b>Dec-01-2007</b> to <b>Apr-01-2008</b>",
           0.2167
          ],
          [
           "Jensen-Shannon distance for <b>GrLivArea</b>",
           "<b style=\"color:#00c8e5;line-height:60px\">Reference</b>",
           "<span style=\"color:#AD0000\">⚠ <b>Drift detected</b></span>",
           "[378:440]",
           "From <b>Apr-01-2008</b> to <b>Jun-01-2008</b>",
           0.1349
          ],
          [
           "Jensen-Shannon distance for <b>GrLivArea</b>",
           "<b style=\"color:#00c8e5;line-height:60px\">Reference</b>",
           "<span style=\"color:#AD0000\">⚠ <b>Drift detected</b></span>",
           "[441:503]",
           "From <b>Jun-01-2008</b> to <b>Jul-01-2008</b>",
           0.1613
          ],
          [
           "Jensen-Shannon distance for <b>GrLivArea</b>",
           "<b style=\"color:#00c8e5;line-height:60px\">Reference</b>",
           "<span style=\"color:#AD0000\">⚠ <b>Drift detected</b></span>",
           "[504:566]",
           "From <b>Jul-01-2008</b> to <b>Sep-01-2008</b>",
           0.1592
          ],
          [
           "Jensen-Shannon distance for <b>GrLivArea</b>",
           "<b style=\"color:#00c8e5;line-height:60px\">Reference</b>",
           "<span style=\"color:#AD0000\">⚠ <b>Drift detected</b></span>",
           "[630:629]",
           "From <b>Dec-01-2008</b> to <b>Dec-01-2008</b>",
           0.14
          ]
         ],
         "hovertemplate": "%{customdata[1]} &nbsp; &nbsp; %{customdata[2]} <br />Chunk: <b>%{customdata[3]}</b> &nbsp; &nbsp; %{customdata[4]} <br />%{customdata[0]}: <b>%{customdata[5]}</b><b r /><extra></extra>",
         "legendgroup": "metric_reference",
         "marker": {
          "color": "#00c8e5",
          "size": 5,
          "symbol": "circle"
         },
         "mode": "markers",
         "name": "Method",
         "showlegend": false,
         "type": "scatter",
         "x": [
          "2007-02-15T00:00:00",
          "2007-05-01T12:00:00",
          "2007-06-16T00:00:00",
          "2007-07-16T12:00:00",
          "2007-10-01T00:00:00",
          "2008-01-31T00:00:00",
          "2008-05-01T12:00:00",
          "2008-06-16T00:00:00",
          "2008-09-15T12:00:00",
          "2008-12-01T00:00:00"
         ],
         "xaxis": "x6",
         "y": [
          0.19154440917978865,
          0.1777120482133927,
          0.18374599614576612,
          0.16641677979186545,
          0.18502305047582684,
          0.21668312989626076,
          0.13486169963775504,
          0.16125351284158473,
          0.15922053007076054,
          0.14002224483798761,
          0.14002224483798761
         ],
         "yaxis": "y6"
        },
        {
         "hoverinfo": "skip",
         "legendgroup": "metric_analysis",
         "line": {
          "color": "#00c8e5",
          "shape": "hv",
          "width": 2
         },
         "mode": "lines",
         "name": "Method",
         "showlegend": false,
         "type": "scatter",
         "x": [
          "2009-01-01T00:00:00",
          "2009-04-01T00:00:00",
          "2009-05-01T00:00:00",
          "2009-06-01T00:00:00",
          "2009-07-01T00:00:00",
          "2009-09-01T00:00:00",
          "2009-11-01T00:00:00",
          "2010-02-01T00:00:00",
          "2010-04-01T00:00:00",
          "2010-07-01T00:00:00",
          "2010-07-01T00:00:00"
         ],
         "xaxis": "x6",
         "y": [
          0.19610737393398803,
          0.1862027149706263,
          0.25443428821601977,
          0.1664830265013824,
          0.15574138432781326,
          0.22932328625272932,
          0.22372635999226137,
          0.21234320642445176,
          0.19240102568412074,
          0.19218466142513313,
          0.19218466142513313
         ],
         "yaxis": "y6"
        },
        {
         "customdata": [
          [
           "Jensen-Shannon distance for <b>GrLivArea</b>",
           "<b style=\"color:#00c8e5;line-height:60px\">Analysis</b>",
           "<span style=\"color:#AD0000\">⚠ <b>Drift detected</b></span>",
           "[0:50]",
           "From <b>Jan-01-2009</b> to <b>Apr-01-2009</b>",
           0.1961
          ],
          [
           "Jensen-Shannon distance for <b>GrLivArea</b>",
           "<b style=\"color:#00c8e5;line-height:60px\">Analysis</b>",
           "<span style=\"color:#AD0000\">⚠ <b>Drift detected</b></span>",
           "[51:101]",
           "From <b>Apr-01-2009</b> to <b>May-01-2009</b>",
           0.1862
          ],
          [
           "Jensen-Shannon distance for <b>GrLivArea</b>",
           "<b style=\"color:#00c8e5;line-height:60px\">Analysis</b>",
           "<span style=\"color:#AD0000\">⚠ <b>Drift detected</b></span>",
           "[102:152]",
           "From <b>May-01-2009</b> to <b>Jun-01-2009</b>",
           0.2544
          ],
          [
           "Jensen-Shannon distance for <b>GrLivArea</b>",
           "<b style=\"color:#00c8e5;line-height:60px\">Analysis</b>",
           "<span style=\"color:#AD0000\">⚠ <b>Drift detected</b></span>",
           "[153:203]",
           "From <b>Jun-01-2009</b> to <b>Jul-01-2009</b>",
           0.1665
          ],
          [
           "Jensen-Shannon distance for <b>GrLivArea</b>",
           "<b style=\"color:#00c8e5;line-height:60px\">Analysis</b>",
           "<span style=\"color:#AD0000\">⚠ <b>Drift detected</b></span>",
           "[204:254]",
           "From <b>Jul-01-2009</b> to <b>Sep-01-2009</b>",
           0.1557
          ],
          [
           "Jensen-Shannon distance for <b>GrLivArea</b>",
           "<b style=\"color:#00c8e5;line-height:60px\">Analysis</b>",
           "<span style=\"color:#AD0000\">⚠ <b>Drift detected</b></span>",
           "[255:305]",
           "From <b>Sep-01-2009</b> to <b>Nov-01-2009</b>",
           0.2293
          ],
          [
           "Jensen-Shannon distance for <b>GrLivArea</b>",
           "<b style=\"color:#00c8e5;line-height:60px\">Analysis</b>",
           "<span style=\"color:#AD0000\">⚠ <b>Drift detected</b></span>",
           "[306:356]",
           "From <b>Nov-01-2009</b> to <b>Feb-01-2010</b>",
           0.2237
          ],
          [
           "Jensen-Shannon distance for <b>GrLivArea</b>",
           "<b style=\"color:#00c8e5;line-height:60px\">Analysis</b>",
           "<span style=\"color:#AD0000\">⚠ <b>Drift detected</b></span>",
           "[357:407]",
           "From <b>Feb-01-2010</b> to <b>Apr-01-2010</b>",
           0.2123
          ],
          [
           "Jensen-Shannon distance for <b>GrLivArea</b>",
           "<b style=\"color:#00c8e5;line-height:60px\">Analysis</b>",
           "<span style=\"color:#AD0000\">⚠ <b>Drift detected</b></span>",
           "[408:458]",
           "From <b>Apr-01-2010</b> to <b>May-01-2010</b>",
           0.1924
          ],
          [
           "Jensen-Shannon distance for <b>GrLivArea</b>",
           "<b style=\"color:#00c8e5;line-height:60px\">Analysis</b>",
           "<span style=\"color:#AD0000\">⚠ <b>Drift detected</b></span>",
           "[510:509]",
           "From <b>Jul-01-2010</b> to <b>Jul-01-2010</b>",
           0.1922
          ]
         ],
         "hovertemplate": "%{customdata[1]} &nbsp; &nbsp; %{customdata[2]} <br />Chunk: <b>%{customdata[3]}</b> &nbsp; &nbsp; %{customdata[4]} <br />%{customdata[0]}: <b>%{customdata[5]}</b><b r /><extra></extra>",
         "legendgroup": "metric_analysis",
         "marker": {
          "color": "#00c8e5",
          "size": 5,
          "symbol": "circle"
         },
         "mode": "markers",
         "name": "Method",
         "showlegend": false,
         "type": "scatter",
         "x": [
          "2009-02-15T00:00:00",
          "2009-04-16T00:00:00",
          "2009-05-16T12:00:00",
          "2009-06-16T00:00:00",
          "2009-08-01T00:00:00",
          "2009-10-01T12:00:00",
          "2009-12-17T00:00:00",
          "2010-03-02T12:00:00",
          "2010-05-16T12:00:00",
          "2010-07-01T00:00:00"
         ],
         "xaxis": "x6",
         "y": [
          0.19610737393398803,
          0.1862027149706263,
          0.25443428821601977,
          0.1664830265013824,
          0.15574138432781326,
          0.22932328625272932,
          0.22372635999226137,
          0.21234320642445176,
          0.19240102568412074,
          0.19218466142513313,
          0.19218466142513313
         ],
         "yaxis": "y6"
        },
        {
         "hoverinfo": "skip",
         "legendgroup": "alert",
         "marker": {
          "color": "#DD4040",
          "size": 8,
          "symbol": "diamond"
         },
         "mode": "markers",
         "name": "Alert",
         "showlegend": false,
         "type": "scatter",
         "x": [
          "2009-02-15T00:00:00",
          "2009-04-16T00:00:00",
          "2009-05-16T12:00:00",
          "2009-06-16T00:00:00",
          "2009-08-01T00:00:00",
          "2009-10-01T12:00:00",
          "2009-12-17T00:00:00",
          "2010-03-02T12:00:00",
          "2010-05-16T12:00:00",
          "2010-07-01T00:00:00"
         ],
         "xaxis": "x6",
         "y": [
          0.19610737393398803,
          0.1862027149706263,
          0.25443428821601977,
          0.1664830265013824,
          0.15574138432781326,
          0.22932328625272932,
          0.22372635999226137,
          0.21234320642445176,
          0.19240102568412074,
          0.19218466142513313
         ],
         "yaxis": "y6"
        },
        {
         "hoverinfo": "skip",
         "legendgroup": "thresh",
         "line": {
          "color": "#DD4040",
          "dash": "dash",
          "width": 2
         },
         "mode": "lines",
         "name": "Threshold",
         "showlegend": false,
         "type": "scatter",
         "x": [
          "2007-01-01T00:00:00",
          "2007-04-01T00:00:00",
          "2007-06-01T00:00:00",
          "2007-07-01T00:00:00",
          "2007-08-01T00:00:00",
          "2007-12-01T00:00:00",
          "2008-04-01T00:00:00",
          "2008-06-01T00:00:00",
          "2008-07-01T00:00:00",
          "2008-12-01T00:00:00",
          "2008-12-01T00:00:00"
         ],
         "xaxis": "x6",
         "y": [
          0.1,
          0.1,
          0.1,
          0.1,
          0.1,
          0.1,
          0.1,
          0.1,
          0.1,
          0.1,
          0.1
         ],
         "yaxis": "y6"
        },
        {
         "hoverinfo": "skip",
         "legendgroup": "thresh",
         "line": {
          "color": "#DD4040",
          "dash": "dash",
          "width": 2
         },
         "mode": "lines",
         "name": "Threshold",
         "showlegend": false,
         "type": "scatter",
         "x": [
          "2009-01-01T00:00:00",
          "2009-04-01T00:00:00",
          "2009-05-01T00:00:00",
          "2009-06-01T00:00:00",
          "2009-07-01T00:00:00",
          "2009-09-01T00:00:00",
          "2009-11-01T00:00:00",
          "2010-02-01T00:00:00",
          "2010-04-01T00:00:00",
          "2010-07-01T00:00:00",
          "2010-07-01T00:00:00"
         ],
         "xaxis": "x6",
         "y": [
          0.1,
          0.1,
          0.1,
          0.1,
          0.1,
          0.1,
          0.1,
          0.1,
          0.1,
          0.1,
          0.1
         ],
         "yaxis": "y6"
        },
        {
         "hoverinfo": "skip",
         "legendgroup": "metric_reference",
         "line": {
          "color": "#00c8e5",
          "shape": "hv",
          "width": 2
         },
         "mode": "lines",
         "name": "Method",
         "showlegend": false,
         "type": "scatter",
         "x": [
          "2007-01-01T00:00:00",
          "2007-04-01T00:00:00",
          "2007-06-01T00:00:00",
          "2007-07-01T00:00:00",
          "2007-08-01T00:00:00",
          "2007-12-01T00:00:00",
          "2008-04-01T00:00:00",
          "2008-06-01T00:00:00",
          "2008-07-01T00:00:00",
          "2008-12-01T00:00:00",
          "2008-12-01T00:00:00"
         ],
         "xaxis": "x7",
         "y": [
          0.12841108095516565,
          0.13774179785467833,
          0.1350280042329499,
          0.1386565067955234,
          0.118840376954417,
          0.14086425465134947,
          0.1974487894787535,
          0.17754170339618316,
          0.13444609852271577,
          0.10070662825627884,
          0.10070662825627884
         ],
         "yaxis": "y7"
        },
        {
         "customdata": [
          [
           "Jensen-Shannon distance for <b>LotArea</b>",
           "<b style=\"color:#00c8e5;line-height:60px\">Reference</b>",
           "<span style=\"color:#AD0000\">⚠ <b>Drift detected</b></span>",
           "[0:62]",
           "From <b>Jan-01-2007</b> to <b>Apr-01-2007</b>",
           0.1284
          ],
          [
           "Jensen-Shannon distance for <b>LotArea</b>",
           "<b style=\"color:#00c8e5;line-height:60px\">Reference</b>",
           "<span style=\"color:#AD0000\">⚠ <b>Drift detected</b></span>",
           "[63:125]",
           "From <b>Apr-01-2007</b> to <b>Jun-01-2007</b>",
           0.1377
          ],
          [
           "Jensen-Shannon distance for <b>LotArea</b>",
           "<b style=\"color:#00c8e5;line-height:60px\">Reference</b>",
           "<span style=\"color:#AD0000\">⚠ <b>Drift detected</b></span>",
           "[126:188]",
           "From <b>Jun-01-2007</b> to <b>Jul-01-2007</b>",
           0.135
          ],
          [
           "Jensen-Shannon distance for <b>LotArea</b>",
           "<b style=\"color:#00c8e5;line-height:60px\">Reference</b>",
           "<span style=\"color:#AD0000\">⚠ <b>Drift detected</b></span>",
           "[189:251]",
           "From <b>Jul-01-2007</b> to <b>Aug-01-2007</b>",
           0.1387
          ],
          [
           "Jensen-Shannon distance for <b>LotArea</b>",
           "<b style=\"color:#00c8e5;line-height:60px\">Reference</b>",
           "<span style=\"color:#AD0000\">⚠ <b>Drift detected</b></span>",
           "[252:314]",
           "From <b>Aug-01-2007</b> to <b>Dec-01-2007</b>",
           0.1188
          ],
          [
           "Jensen-Shannon distance for <b>LotArea</b>",
           "<b style=\"color:#00c8e5;line-height:60px\">Reference</b>",
           "<span style=\"color:#AD0000\">⚠ <b>Drift detected</b></span>",
           "[315:377]",
           "From <b>Dec-01-2007</b> to <b>Apr-01-2008</b>",
           0.1409
          ],
          [
           "Jensen-Shannon distance for <b>LotArea</b>",
           "<b style=\"color:#00c8e5;line-height:60px\">Reference</b>",
           "<span style=\"color:#AD0000\">⚠ <b>Drift detected</b></span>",
           "[378:440]",
           "From <b>Apr-01-2008</b> to <b>Jun-01-2008</b>",
           0.1974
          ],
          [
           "Jensen-Shannon distance for <b>LotArea</b>",
           "<b style=\"color:#00c8e5;line-height:60px\">Reference</b>",
           "<span style=\"color:#AD0000\">⚠ <b>Drift detected</b></span>",
           "[441:503]",
           "From <b>Jun-01-2008</b> to <b>Jul-01-2008</b>",
           0.1775
          ],
          [
           "Jensen-Shannon distance for <b>LotArea</b>",
           "<b style=\"color:#00c8e5;line-height:60px\">Reference</b>",
           "<span style=\"color:#AD0000\">⚠ <b>Drift detected</b></span>",
           "[504:566]",
           "From <b>Jul-01-2008</b> to <b>Sep-01-2008</b>",
           0.1344
          ],
          [
           "Jensen-Shannon distance for <b>LotArea</b>",
           "<b style=\"color:#00c8e5;line-height:60px\">Reference</b>",
           "<span style=\"color:#AD0000\">⚠ <b>Drift detected</b></span>",
           "[630:629]",
           "From <b>Dec-01-2008</b> to <b>Dec-01-2008</b>",
           0.1007
          ]
         ],
         "hovertemplate": "%{customdata[1]} &nbsp; &nbsp; %{customdata[2]} <br />Chunk: <b>%{customdata[3]}</b> &nbsp; &nbsp; %{customdata[4]} <br />%{customdata[0]}: <b>%{customdata[5]}</b><b r /><extra></extra>",
         "legendgroup": "metric_reference",
         "marker": {
          "color": "#00c8e5",
          "size": 5,
          "symbol": "circle"
         },
         "mode": "markers",
         "name": "Method",
         "showlegend": false,
         "type": "scatter",
         "x": [
          "2007-02-15T00:00:00",
          "2007-05-01T12:00:00",
          "2007-06-16T00:00:00",
          "2007-07-16T12:00:00",
          "2007-10-01T00:00:00",
          "2008-01-31T00:00:00",
          "2008-05-01T12:00:00",
          "2008-06-16T00:00:00",
          "2008-09-15T12:00:00",
          "2008-12-01T00:00:00"
         ],
         "xaxis": "x7",
         "y": [
          0.12841108095516565,
          0.13774179785467833,
          0.1350280042329499,
          0.1386565067955234,
          0.118840376954417,
          0.14086425465134947,
          0.1974487894787535,
          0.17754170339618316,
          0.13444609852271577,
          0.10070662825627884,
          0.10070662825627884
         ],
         "yaxis": "y7"
        },
        {
         "hoverinfo": "skip",
         "legendgroup": "metric_analysis",
         "line": {
          "color": "#00c8e5",
          "shape": "hv",
          "width": 2
         },
         "mode": "lines",
         "name": "Method",
         "showlegend": false,
         "type": "scatter",
         "x": [
          "2009-01-01T00:00:00",
          "2009-04-01T00:00:00",
          "2009-05-01T00:00:00",
          "2009-06-01T00:00:00",
          "2009-07-01T00:00:00",
          "2009-09-01T00:00:00",
          "2009-11-01T00:00:00",
          "2010-02-01T00:00:00",
          "2010-04-01T00:00:00",
          "2010-07-01T00:00:00",
          "2010-07-01T00:00:00"
         ],
         "xaxis": "x7",
         "y": [
          0.1771471078870114,
          0.20295124319353267,
          0.18667156917383207,
          0.1460236910010894,
          0.16520356237926198,
          0.18008072248866222,
          0.14566906985054737,
          0.13892568637407604,
          0.15339418323900492,
          0.15299073656739196,
          0.15299073656739196
         ],
         "yaxis": "y7"
        },
        {
         "customdata": [
          [
           "Jensen-Shannon distance for <b>LotArea</b>",
           "<b style=\"color:#00c8e5;line-height:60px\">Analysis</b>",
           "<span style=\"color:#AD0000\">⚠ <b>Drift detected</b></span>",
           "[0:50]",
           "From <b>Jan-01-2009</b> to <b>Apr-01-2009</b>",
           0.1771
          ],
          [
           "Jensen-Shannon distance for <b>LotArea</b>",
           "<b style=\"color:#00c8e5;line-height:60px\">Analysis</b>",
           "<span style=\"color:#AD0000\">⚠ <b>Drift detected</b></span>",
           "[51:101]",
           "From <b>Apr-01-2009</b> to <b>May-01-2009</b>",
           0.203
          ],
          [
           "Jensen-Shannon distance for <b>LotArea</b>",
           "<b style=\"color:#00c8e5;line-height:60px\">Analysis</b>",
           "<span style=\"color:#AD0000\">⚠ <b>Drift detected</b></span>",
           "[102:152]",
           "From <b>May-01-2009</b> to <b>Jun-01-2009</b>",
           0.1867
          ],
          [
           "Jensen-Shannon distance for <b>LotArea</b>",
           "<b style=\"color:#00c8e5;line-height:60px\">Analysis</b>",
           "<span style=\"color:#AD0000\">⚠ <b>Drift detected</b></span>",
           "[153:203]",
           "From <b>Jun-01-2009</b> to <b>Jul-01-2009</b>",
           0.146
          ],
          [
           "Jensen-Shannon distance for <b>LotArea</b>",
           "<b style=\"color:#00c8e5;line-height:60px\">Analysis</b>",
           "<span style=\"color:#AD0000\">⚠ <b>Drift detected</b></span>",
           "[204:254]",
           "From <b>Jul-01-2009</b> to <b>Sep-01-2009</b>",
           0.1652
          ],
          [
           "Jensen-Shannon distance for <b>LotArea</b>",
           "<b style=\"color:#00c8e5;line-height:60px\">Analysis</b>",
           "<span style=\"color:#AD0000\">⚠ <b>Drift detected</b></span>",
           "[255:305]",
           "From <b>Sep-01-2009</b> to <b>Nov-01-2009</b>",
           0.1801
          ],
          [
           "Jensen-Shannon distance for <b>LotArea</b>",
           "<b style=\"color:#00c8e5;line-height:60px\">Analysis</b>",
           "<span style=\"color:#AD0000\">⚠ <b>Drift detected</b></span>",
           "[306:356]",
           "From <b>Nov-01-2009</b> to <b>Feb-01-2010</b>",
           0.1457
          ],
          [
           "Jensen-Shannon distance for <b>LotArea</b>",
           "<b style=\"color:#00c8e5;line-height:60px\">Analysis</b>",
           "<span style=\"color:#AD0000\">⚠ <b>Drift detected</b></span>",
           "[357:407]",
           "From <b>Feb-01-2010</b> to <b>Apr-01-2010</b>",
           0.1389
          ],
          [
           "Jensen-Shannon distance for <b>LotArea</b>",
           "<b style=\"color:#00c8e5;line-height:60px\">Analysis</b>",
           "<span style=\"color:#AD0000\">⚠ <b>Drift detected</b></span>",
           "[408:458]",
           "From <b>Apr-01-2010</b> to <b>May-01-2010</b>",
           0.1534
          ],
          [
           "Jensen-Shannon distance for <b>LotArea</b>",
           "<b style=\"color:#00c8e5;line-height:60px\">Analysis</b>",
           "<span style=\"color:#AD0000\">⚠ <b>Drift detected</b></span>",
           "[510:509]",
           "From <b>Jul-01-2010</b> to <b>Jul-01-2010</b>",
           0.153
          ]
         ],
         "hovertemplate": "%{customdata[1]} &nbsp; &nbsp; %{customdata[2]} <br />Chunk: <b>%{customdata[3]}</b> &nbsp; &nbsp; %{customdata[4]} <br />%{customdata[0]}: <b>%{customdata[5]}</b><b r /><extra></extra>",
         "legendgroup": "metric_analysis",
         "marker": {
          "color": "#00c8e5",
          "size": 5,
          "symbol": "circle"
         },
         "mode": "markers",
         "name": "Method",
         "showlegend": false,
         "type": "scatter",
         "x": [
          "2009-02-15T00:00:00",
          "2009-04-16T00:00:00",
          "2009-05-16T12:00:00",
          "2009-06-16T00:00:00",
          "2009-08-01T00:00:00",
          "2009-10-01T12:00:00",
          "2009-12-17T00:00:00",
          "2010-03-02T12:00:00",
          "2010-05-16T12:00:00",
          "2010-07-01T00:00:00"
         ],
         "xaxis": "x7",
         "y": [
          0.1771471078870114,
          0.20295124319353267,
          0.18667156917383207,
          0.1460236910010894,
          0.16520356237926198,
          0.18008072248866222,
          0.14566906985054737,
          0.13892568637407604,
          0.15339418323900492,
          0.15299073656739196,
          0.15299073656739196
         ],
         "yaxis": "y7"
        },
        {
         "hoverinfo": "skip",
         "legendgroup": "alert",
         "marker": {
          "color": "#DD4040",
          "size": 8,
          "symbol": "diamond"
         },
         "mode": "markers",
         "name": "Alert",
         "showlegend": false,
         "type": "scatter",
         "x": [
          "2009-02-15T00:00:00",
          "2009-04-16T00:00:00",
          "2009-05-16T12:00:00",
          "2009-06-16T00:00:00",
          "2009-08-01T00:00:00",
          "2009-10-01T12:00:00",
          "2009-12-17T00:00:00",
          "2010-03-02T12:00:00",
          "2010-05-16T12:00:00",
          "2010-07-01T00:00:00"
         ],
         "xaxis": "x7",
         "y": [
          0.1771471078870114,
          0.20295124319353267,
          0.18667156917383207,
          0.1460236910010894,
          0.16520356237926198,
          0.18008072248866222,
          0.14566906985054737,
          0.13892568637407604,
          0.15339418323900492,
          0.15299073656739196
         ],
         "yaxis": "y7"
        },
        {
         "hoverinfo": "skip",
         "legendgroup": "thresh",
         "line": {
          "color": "#DD4040",
          "dash": "dash",
          "width": 2
         },
         "mode": "lines",
         "name": "Threshold",
         "showlegend": false,
         "type": "scatter",
         "x": [
          "2007-01-01T00:00:00",
          "2007-04-01T00:00:00",
          "2007-06-01T00:00:00",
          "2007-07-01T00:00:00",
          "2007-08-01T00:00:00",
          "2007-12-01T00:00:00",
          "2008-04-01T00:00:00",
          "2008-06-01T00:00:00",
          "2008-07-01T00:00:00",
          "2008-12-01T00:00:00",
          "2008-12-01T00:00:00"
         ],
         "xaxis": "x7",
         "y": [
          0.1,
          0.1,
          0.1,
          0.1,
          0.1,
          0.1,
          0.1,
          0.1,
          0.1,
          0.1,
          0.1
         ],
         "yaxis": "y7"
        },
        {
         "hoverinfo": "skip",
         "legendgroup": "thresh",
         "line": {
          "color": "#DD4040",
          "dash": "dash",
          "width": 2
         },
         "mode": "lines",
         "name": "Threshold",
         "showlegend": false,
         "type": "scatter",
         "x": [
          "2009-01-01T00:00:00",
          "2009-04-01T00:00:00",
          "2009-05-01T00:00:00",
          "2009-06-01T00:00:00",
          "2009-07-01T00:00:00",
          "2009-09-01T00:00:00",
          "2009-11-01T00:00:00",
          "2010-02-01T00:00:00",
          "2010-04-01T00:00:00",
          "2010-07-01T00:00:00",
          "2010-07-01T00:00:00"
         ],
         "xaxis": "x7",
         "y": [
          0.1,
          0.1,
          0.1,
          0.1,
          0.1,
          0.1,
          0.1,
          0.1,
          0.1,
          0.1,
          0.1
         ],
         "yaxis": "y7"
        },
        {
         "hoverinfo": "skip",
         "legendgroup": "metric_reference",
         "line": {
          "color": "#00c8e5",
          "shape": "hv",
          "width": 2
         },
         "mode": "lines",
         "name": "Method",
         "showlegend": false,
         "type": "scatter",
         "x": [
          "2007-01-01T00:00:00",
          "2007-04-01T00:00:00",
          "2007-06-01T00:00:00",
          "2007-07-01T00:00:00",
          "2007-08-01T00:00:00",
          "2007-12-01T00:00:00",
          "2008-04-01T00:00:00",
          "2008-06-01T00:00:00",
          "2008-07-01T00:00:00",
          "2008-12-01T00:00:00",
          "2008-12-01T00:00:00"
         ],
         "xaxis": "x8",
         "y": [
          0.1915989343986249,
          0.13665185360255114,
          0.14305536497282015,
          0.12762512113354024,
          0.18633348002674296,
          0.13610974196620831,
          0.15043037097442166,
          0.2135099733261181,
          0.1295168730071423,
          0.21997916812501675,
          0.21997916812501675
         ],
         "yaxis": "y8"
        },
        {
         "customdata": [
          [
           "Jensen-Shannon distance for <b>OverallQual</b>",
           "<b style=\"color:#00c8e5;line-height:60px\">Reference</b>",
           "<span style=\"color:#AD0000\">⚠ <b>Drift detected</b></span>",
           "[0:62]",
           "From <b>Jan-01-2007</b> to <b>Apr-01-2007</b>",
           0.1916
          ],
          [
           "Jensen-Shannon distance for <b>OverallQual</b>",
           "<b style=\"color:#00c8e5;line-height:60px\">Reference</b>",
           "<span style=\"color:#AD0000\">⚠ <b>Drift detected</b></span>",
           "[63:125]",
           "From <b>Apr-01-2007</b> to <b>Jun-01-2007</b>",
           0.1367
          ],
          [
           "Jensen-Shannon distance for <b>OverallQual</b>",
           "<b style=\"color:#00c8e5;line-height:60px\">Reference</b>",
           "<span style=\"color:#AD0000\">⚠ <b>Drift detected</b></span>",
           "[126:188]",
           "From <b>Jun-01-2007</b> to <b>Jul-01-2007</b>",
           0.1431
          ],
          [
           "Jensen-Shannon distance for <b>OverallQual</b>",
           "<b style=\"color:#00c8e5;line-height:60px\">Reference</b>",
           "<span style=\"color:#AD0000\">⚠ <b>Drift detected</b></span>",
           "[189:251]",
           "From <b>Jul-01-2007</b> to <b>Aug-01-2007</b>",
           0.1276
          ],
          [
           "Jensen-Shannon distance for <b>OverallQual</b>",
           "<b style=\"color:#00c8e5;line-height:60px\">Reference</b>",
           "<span style=\"color:#AD0000\">⚠ <b>Drift detected</b></span>",
           "[252:314]",
           "From <b>Aug-01-2007</b> to <b>Dec-01-2007</b>",
           0.1863
          ],
          [
           "Jensen-Shannon distance for <b>OverallQual</b>",
           "<b style=\"color:#00c8e5;line-height:60px\">Reference</b>",
           "<span style=\"color:#AD0000\">⚠ <b>Drift detected</b></span>",
           "[315:377]",
           "From <b>Dec-01-2007</b> to <b>Apr-01-2008</b>",
           0.1361
          ],
          [
           "Jensen-Shannon distance for <b>OverallQual</b>",
           "<b style=\"color:#00c8e5;line-height:60px\">Reference</b>",
           "<span style=\"color:#AD0000\">⚠ <b>Drift detected</b></span>",
           "[378:440]",
           "From <b>Apr-01-2008</b> to <b>Jun-01-2008</b>",
           0.1504
          ],
          [
           "Jensen-Shannon distance for <b>OverallQual</b>",
           "<b style=\"color:#00c8e5;line-height:60px\">Reference</b>",
           "<span style=\"color:#AD0000\">⚠ <b>Drift detected</b></span>",
           "[441:503]",
           "From <b>Jun-01-2008</b> to <b>Jul-01-2008</b>",
           0.2135
          ],
          [
           "Jensen-Shannon distance for <b>OverallQual</b>",
           "<b style=\"color:#00c8e5;line-height:60px\">Reference</b>",
           "<span style=\"color:#AD0000\">⚠ <b>Drift detected</b></span>",
           "[504:566]",
           "From <b>Jul-01-2008</b> to <b>Sep-01-2008</b>",
           0.1295
          ],
          [
           "Jensen-Shannon distance for <b>OverallQual</b>",
           "<b style=\"color:#00c8e5;line-height:60px\">Reference</b>",
           "<span style=\"color:#AD0000\">⚠ <b>Drift detected</b></span>",
           "[630:629]",
           "From <b>Dec-01-2008</b> to <b>Dec-01-2008</b>",
           0.22
          ]
         ],
         "hovertemplate": "%{customdata[1]} &nbsp; &nbsp; %{customdata[2]} <br />Chunk: <b>%{customdata[3]}</b> &nbsp; &nbsp; %{customdata[4]} <br />%{customdata[0]}: <b>%{customdata[5]}</b><b r /><extra></extra>",
         "legendgroup": "metric_reference",
         "marker": {
          "color": "#00c8e5",
          "size": 5,
          "symbol": "circle"
         },
         "mode": "markers",
         "name": "Method",
         "showlegend": false,
         "type": "scatter",
         "x": [
          "2007-02-15T00:00:00",
          "2007-05-01T12:00:00",
          "2007-06-16T00:00:00",
          "2007-07-16T12:00:00",
          "2007-10-01T00:00:00",
          "2008-01-31T00:00:00",
          "2008-05-01T12:00:00",
          "2008-06-16T00:00:00",
          "2008-09-15T12:00:00",
          "2008-12-01T00:00:00"
         ],
         "xaxis": "x8",
         "y": [
          0.1915989343986249,
          0.13665185360255114,
          0.14305536497282015,
          0.12762512113354024,
          0.18633348002674296,
          0.13610974196620831,
          0.15043037097442166,
          0.2135099733261181,
          0.1295168730071423,
          0.21997916812501675,
          0.21997916812501675
         ],
         "yaxis": "y8"
        },
        {
         "hoverinfo": "skip",
         "legendgroup": "metric_analysis",
         "line": {
          "color": "#00c8e5",
          "shape": "hv",
          "width": 2
         },
         "mode": "lines",
         "name": "Method",
         "showlegend": false,
         "type": "scatter",
         "x": [
          "2009-01-01T00:00:00",
          "2009-04-01T00:00:00",
          "2009-05-01T00:00:00",
          "2009-06-01T00:00:00",
          "2009-07-01T00:00:00",
          "2009-09-01T00:00:00",
          "2009-11-01T00:00:00",
          "2010-02-01T00:00:00",
          "2010-04-01T00:00:00",
          "2010-07-01T00:00:00",
          "2010-07-01T00:00:00"
         ],
         "xaxis": "x8",
         "y": [
          1,
          1,
          1,
          1,
          1,
          1,
          1,
          1,
          1,
          1,
          1
         ],
         "yaxis": "y8"
        },
        {
         "customdata": [
          [
           "Jensen-Shannon distance for <b>OverallQual</b>",
           "<b style=\"color:#00c8e5;line-height:60px\">Analysis</b>",
           "<span style=\"color:#AD0000\">⚠ <b>Drift detected</b></span>",
           "[0:50]",
           "From <b>Jan-01-2009</b> to <b>Apr-01-2009</b>",
           1
          ],
          [
           "Jensen-Shannon distance for <b>OverallQual</b>",
           "<b style=\"color:#00c8e5;line-height:60px\">Analysis</b>",
           "<span style=\"color:#AD0000\">⚠ <b>Drift detected</b></span>",
           "[51:101]",
           "From <b>Apr-01-2009</b> to <b>May-01-2009</b>",
           1
          ],
          [
           "Jensen-Shannon distance for <b>OverallQual</b>",
           "<b style=\"color:#00c8e5;line-height:60px\">Analysis</b>",
           "<span style=\"color:#AD0000\">⚠ <b>Drift detected</b></span>",
           "[102:152]",
           "From <b>May-01-2009</b> to <b>Jun-01-2009</b>",
           1
          ],
          [
           "Jensen-Shannon distance for <b>OverallQual</b>",
           "<b style=\"color:#00c8e5;line-height:60px\">Analysis</b>",
           "<span style=\"color:#AD0000\">⚠ <b>Drift detected</b></span>",
           "[153:203]",
           "From <b>Jun-01-2009</b> to <b>Jul-01-2009</b>",
           1
          ],
          [
           "Jensen-Shannon distance for <b>OverallQual</b>",
           "<b style=\"color:#00c8e5;line-height:60px\">Analysis</b>",
           "<span style=\"color:#AD0000\">⚠ <b>Drift detected</b></span>",
           "[204:254]",
           "From <b>Jul-01-2009</b> to <b>Sep-01-2009</b>",
           1
          ],
          [
           "Jensen-Shannon distance for <b>OverallQual</b>",
           "<b style=\"color:#00c8e5;line-height:60px\">Analysis</b>",
           "<span style=\"color:#AD0000\">⚠ <b>Drift detected</b></span>",
           "[255:305]",
           "From <b>Sep-01-2009</b> to <b>Nov-01-2009</b>",
           1
          ],
          [
           "Jensen-Shannon distance for <b>OverallQual</b>",
           "<b style=\"color:#00c8e5;line-height:60px\">Analysis</b>",
           "<span style=\"color:#AD0000\">⚠ <b>Drift detected</b></span>",
           "[306:356]",
           "From <b>Nov-01-2009</b> to <b>Feb-01-2010</b>",
           1
          ],
          [
           "Jensen-Shannon distance for <b>OverallQual</b>",
           "<b style=\"color:#00c8e5;line-height:60px\">Analysis</b>",
           "<span style=\"color:#AD0000\">⚠ <b>Drift detected</b></span>",
           "[357:407]",
           "From <b>Feb-01-2010</b> to <b>Apr-01-2010</b>",
           1
          ],
          [
           "Jensen-Shannon distance for <b>OverallQual</b>",
           "<b style=\"color:#00c8e5;line-height:60px\">Analysis</b>",
           "<span style=\"color:#AD0000\">⚠ <b>Drift detected</b></span>",
           "[408:458]",
           "From <b>Apr-01-2010</b> to <b>May-01-2010</b>",
           1
          ],
          [
           "Jensen-Shannon distance for <b>OverallQual</b>",
           "<b style=\"color:#00c8e5;line-height:60px\">Analysis</b>",
           "<span style=\"color:#AD0000\">⚠ <b>Drift detected</b></span>",
           "[510:509]",
           "From <b>Jul-01-2010</b> to <b>Jul-01-2010</b>",
           1
          ]
         ],
         "hovertemplate": "%{customdata[1]} &nbsp; &nbsp; %{customdata[2]} <br />Chunk: <b>%{customdata[3]}</b> &nbsp; &nbsp; %{customdata[4]} <br />%{customdata[0]}: <b>%{customdata[5]}</b><b r /><extra></extra>",
         "legendgroup": "metric_analysis",
         "marker": {
          "color": "#00c8e5",
          "size": 5,
          "symbol": "circle"
         },
         "mode": "markers",
         "name": "Method",
         "showlegend": false,
         "type": "scatter",
         "x": [
          "2009-02-15T00:00:00",
          "2009-04-16T00:00:00",
          "2009-05-16T12:00:00",
          "2009-06-16T00:00:00",
          "2009-08-01T00:00:00",
          "2009-10-01T12:00:00",
          "2009-12-17T00:00:00",
          "2010-03-02T12:00:00",
          "2010-05-16T12:00:00",
          "2010-07-01T00:00:00"
         ],
         "xaxis": "x8",
         "y": [
          1,
          1,
          1,
          1,
          1,
          1,
          1,
          1,
          1,
          1,
          1
         ],
         "yaxis": "y8"
        },
        {
         "hoverinfo": "skip",
         "legendgroup": "alert",
         "marker": {
          "color": "#DD4040",
          "size": 8,
          "symbol": "diamond"
         },
         "mode": "markers",
         "name": "Alert",
         "showlegend": false,
         "type": "scatter",
         "x": [
          "2009-02-15T00:00:00",
          "2009-04-16T00:00:00",
          "2009-05-16T12:00:00",
          "2009-06-16T00:00:00",
          "2009-08-01T00:00:00",
          "2009-10-01T12:00:00",
          "2009-12-17T00:00:00",
          "2010-03-02T12:00:00",
          "2010-05-16T12:00:00",
          "2010-07-01T00:00:00"
         ],
         "xaxis": "x8",
         "y": [
          1,
          1,
          1,
          1,
          1,
          1,
          1,
          1,
          1,
          1
         ],
         "yaxis": "y8"
        },
        {
         "hoverinfo": "skip",
         "legendgroup": "thresh",
         "line": {
          "color": "#DD4040",
          "dash": "dash",
          "width": 2
         },
         "mode": "lines",
         "name": "Threshold",
         "showlegend": false,
         "type": "scatter",
         "x": [
          "2007-01-01T00:00:00",
          "2007-04-01T00:00:00",
          "2007-06-01T00:00:00",
          "2007-07-01T00:00:00",
          "2007-08-01T00:00:00",
          "2007-12-01T00:00:00",
          "2008-04-01T00:00:00",
          "2008-06-01T00:00:00",
          "2008-07-01T00:00:00",
          "2008-12-01T00:00:00",
          "2008-12-01T00:00:00"
         ],
         "xaxis": "x8",
         "y": [
          0.1,
          0.1,
          0.1,
          0.1,
          0.1,
          0.1,
          0.1,
          0.1,
          0.1,
          0.1,
          0.1
         ],
         "yaxis": "y8"
        },
        {
         "hoverinfo": "skip",
         "legendgroup": "thresh",
         "line": {
          "color": "#DD4040",
          "dash": "dash",
          "width": 2
         },
         "mode": "lines",
         "name": "Threshold",
         "showlegend": false,
         "type": "scatter",
         "x": [
          "2009-01-01T00:00:00",
          "2009-04-01T00:00:00",
          "2009-05-01T00:00:00",
          "2009-06-01T00:00:00",
          "2009-07-01T00:00:00",
          "2009-09-01T00:00:00",
          "2009-11-01T00:00:00",
          "2010-02-01T00:00:00",
          "2010-04-01T00:00:00",
          "2010-07-01T00:00:00",
          "2010-07-01T00:00:00"
         ],
         "xaxis": "x8",
         "y": [
          0.1,
          0.1,
          0.1,
          0.1,
          0.1,
          0.1,
          0.1,
          0.1,
          0.1,
          0.1,
          0.1
         ],
         "yaxis": "y8"
        },
        {
         "hoverinfo": "skip",
         "legendgroup": "metric_reference",
         "line": {
          "color": "#00c8e5",
          "shape": "hv",
          "width": 2
         },
         "mode": "lines",
         "name": "Method",
         "showlegend": false,
         "type": "scatter",
         "x": [
          "2007-01-01T00:00:00",
          "2007-04-01T00:00:00",
          "2007-06-01T00:00:00",
          "2007-07-01T00:00:00",
          "2007-08-01T00:00:00",
          "2007-12-01T00:00:00",
          "2008-04-01T00:00:00",
          "2008-06-01T00:00:00",
          "2008-07-01T00:00:00",
          "2008-12-01T00:00:00",
          "2008-12-01T00:00:00"
         ],
         "xaxis": "x9",
         "y": [
          0.13097478363015458,
          0.14986960471970917,
          0.12774402417917527,
          0.1384089225657267,
          0.172369700290052,
          0.16783637032882323,
          0.19297626378002594,
          0.18536059423339832,
          0.12701812725530584,
          0.08056121372709059,
          0.08056121372709059
         ],
         "yaxis": "y9"
        },
        {
         "customdata": [
          [
           "Jensen-Shannon distance for <b>TotalBsmtSF</b>",
           "<b style=\"color:#00c8e5;line-height:60px\">Reference</b>",
           "<span style=\"color:#AD0000\">⚠ <b>Drift detected</b></span>",
           "[0:62]",
           "From <b>Jan-01-2007</b> to <b>Apr-01-2007</b>",
           0.131
          ],
          [
           "Jensen-Shannon distance for <b>TotalBsmtSF</b>",
           "<b style=\"color:#00c8e5;line-height:60px\">Reference</b>",
           "<span style=\"color:#AD0000\">⚠ <b>Drift detected</b></span>",
           "[63:125]",
           "From <b>Apr-01-2007</b> to <b>Jun-01-2007</b>",
           0.1499
          ],
          [
           "Jensen-Shannon distance for <b>TotalBsmtSF</b>",
           "<b style=\"color:#00c8e5;line-height:60px\">Reference</b>",
           "<span style=\"color:#AD0000\">⚠ <b>Drift detected</b></span>",
           "[126:188]",
           "From <b>Jun-01-2007</b> to <b>Jul-01-2007</b>",
           0.1277
          ],
          [
           "Jensen-Shannon distance for <b>TotalBsmtSF</b>",
           "<b style=\"color:#00c8e5;line-height:60px\">Reference</b>",
           "<span style=\"color:#AD0000\">⚠ <b>Drift detected</b></span>",
           "[189:251]",
           "From <b>Jul-01-2007</b> to <b>Aug-01-2007</b>",
           0.1384
          ],
          [
           "Jensen-Shannon distance for <b>TotalBsmtSF</b>",
           "<b style=\"color:#00c8e5;line-height:60px\">Reference</b>",
           "<span style=\"color:#AD0000\">⚠ <b>Drift detected</b></span>",
           "[252:314]",
           "From <b>Aug-01-2007</b> to <b>Dec-01-2007</b>",
           0.1724
          ],
          [
           "Jensen-Shannon distance for <b>TotalBsmtSF</b>",
           "<b style=\"color:#00c8e5;line-height:60px\">Reference</b>",
           "<span style=\"color:#AD0000\">⚠ <b>Drift detected</b></span>",
           "[315:377]",
           "From <b>Dec-01-2007</b> to <b>Apr-01-2008</b>",
           0.1678
          ],
          [
           "Jensen-Shannon distance for <b>TotalBsmtSF</b>",
           "<b style=\"color:#00c8e5;line-height:60px\">Reference</b>",
           "<span style=\"color:#AD0000\">⚠ <b>Drift detected</b></span>",
           "[378:440]",
           "From <b>Apr-01-2008</b> to <b>Jun-01-2008</b>",
           0.193
          ],
          [
           "Jensen-Shannon distance for <b>TotalBsmtSF</b>",
           "<b style=\"color:#00c8e5;line-height:60px\">Reference</b>",
           "<span style=\"color:#AD0000\">⚠ <b>Drift detected</b></span>",
           "[441:503]",
           "From <b>Jun-01-2008</b> to <b>Jul-01-2008</b>",
           0.1854
          ],
          [
           "Jensen-Shannon distance for <b>TotalBsmtSF</b>",
           "<b style=\"color:#00c8e5;line-height:60px\">Reference</b>",
           "<span style=\"color:#AD0000\">⚠ <b>Drift detected</b></span>",
           "[504:566]",
           "From <b>Jul-01-2008</b> to <b>Sep-01-2008</b>",
           0.127
          ],
          [
           "Jensen-Shannon distance for <b>TotalBsmtSF</b>",
           "<b style=\"color:#00c8e5;line-height:60px\">Reference</b>",
           "",
           "[630:629]",
           "From <b>Dec-01-2008</b> to <b>Dec-01-2008</b>",
           0.0806
          ]
         ],
         "hovertemplate": "%{customdata[1]} &nbsp; &nbsp; %{customdata[2]} <br />Chunk: <b>%{customdata[3]}</b> &nbsp; &nbsp; %{customdata[4]} <br />%{customdata[0]}: <b>%{customdata[5]}</b><b r /><extra></extra>",
         "legendgroup": "metric_reference",
         "marker": {
          "color": "#00c8e5",
          "size": 5,
          "symbol": "circle"
         },
         "mode": "markers",
         "name": "Method",
         "showlegend": false,
         "type": "scatter",
         "x": [
          "2007-02-15T00:00:00",
          "2007-05-01T12:00:00",
          "2007-06-16T00:00:00",
          "2007-07-16T12:00:00",
          "2007-10-01T00:00:00",
          "2008-01-31T00:00:00",
          "2008-05-01T12:00:00",
          "2008-06-16T00:00:00",
          "2008-09-15T12:00:00",
          "2008-12-01T00:00:00"
         ],
         "xaxis": "x9",
         "y": [
          0.13097478363015458,
          0.14986960471970917,
          0.12774402417917527,
          0.1384089225657267,
          0.172369700290052,
          0.16783637032882323,
          0.19297626378002594,
          0.18536059423339832,
          0.12701812725530584,
          0.08056121372709059,
          0.08056121372709059
         ],
         "yaxis": "y9"
        },
        {
         "hoverinfo": "skip",
         "legendgroup": "metric_analysis",
         "line": {
          "color": "#00c8e5",
          "shape": "hv",
          "width": 2
         },
         "mode": "lines",
         "name": "Method",
         "showlegend": false,
         "type": "scatter",
         "x": [
          "2009-01-01T00:00:00",
          "2009-04-01T00:00:00",
          "2009-05-01T00:00:00",
          "2009-06-01T00:00:00",
          "2009-07-01T00:00:00",
          "2009-09-01T00:00:00",
          "2009-11-01T00:00:00",
          "2010-02-01T00:00:00",
          "2010-04-01T00:00:00",
          "2010-07-01T00:00:00",
          "2010-07-01T00:00:00"
         ],
         "xaxis": "x9",
         "y": [
          0.20237487946262528,
          0.17057755299265948,
          0.23052234329947613,
          0.18875242141428647,
          0.1166499013044747,
          0.15129268519731368,
          0.22892086827769625,
          0.10131920028846975,
          0.15032993518542279,
          0.1582589731819041,
          0.1582589731819041
         ],
         "yaxis": "y9"
        },
        {
         "customdata": [
          [
           "Jensen-Shannon distance for <b>TotalBsmtSF</b>",
           "<b style=\"color:#00c8e5;line-height:60px\">Analysis</b>",
           "<span style=\"color:#AD0000\">⚠ <b>Drift detected</b></span>",
           "[0:50]",
           "From <b>Jan-01-2009</b> to <b>Apr-01-2009</b>",
           0.2024
          ],
          [
           "Jensen-Shannon distance for <b>TotalBsmtSF</b>",
           "<b style=\"color:#00c8e5;line-height:60px\">Analysis</b>",
           "<span style=\"color:#AD0000\">⚠ <b>Drift detected</b></span>",
           "[51:101]",
           "From <b>Apr-01-2009</b> to <b>May-01-2009</b>",
           0.1706
          ],
          [
           "Jensen-Shannon distance for <b>TotalBsmtSF</b>",
           "<b style=\"color:#00c8e5;line-height:60px\">Analysis</b>",
           "<span style=\"color:#AD0000\">⚠ <b>Drift detected</b></span>",
           "[102:152]",
           "From <b>May-01-2009</b> to <b>Jun-01-2009</b>",
           0.2305
          ],
          [
           "Jensen-Shannon distance for <b>TotalBsmtSF</b>",
           "<b style=\"color:#00c8e5;line-height:60px\">Analysis</b>",
           "<span style=\"color:#AD0000\">⚠ <b>Drift detected</b></span>",
           "[153:203]",
           "From <b>Jun-01-2009</b> to <b>Jul-01-2009</b>",
           0.1888
          ],
          [
           "Jensen-Shannon distance for <b>TotalBsmtSF</b>",
           "<b style=\"color:#00c8e5;line-height:60px\">Analysis</b>",
           "<span style=\"color:#AD0000\">⚠ <b>Drift detected</b></span>",
           "[204:254]",
           "From <b>Jul-01-2009</b> to <b>Sep-01-2009</b>",
           0.1166
          ],
          [
           "Jensen-Shannon distance for <b>TotalBsmtSF</b>",
           "<b style=\"color:#00c8e5;line-height:60px\">Analysis</b>",
           "<span style=\"color:#AD0000\">⚠ <b>Drift detected</b></span>",
           "[255:305]",
           "From <b>Sep-01-2009</b> to <b>Nov-01-2009</b>",
           0.1513
          ],
          [
           "Jensen-Shannon distance for <b>TotalBsmtSF</b>",
           "<b style=\"color:#00c8e5;line-height:60px\">Analysis</b>",
           "<span style=\"color:#AD0000\">⚠ <b>Drift detected</b></span>",
           "[306:356]",
           "From <b>Nov-01-2009</b> to <b>Feb-01-2010</b>",
           0.2289
          ],
          [
           "Jensen-Shannon distance for <b>TotalBsmtSF</b>",
           "<b style=\"color:#00c8e5;line-height:60px\">Analysis</b>",
           "<span style=\"color:#AD0000\">⚠ <b>Drift detected</b></span>",
           "[357:407]",
           "From <b>Feb-01-2010</b> to <b>Apr-01-2010</b>",
           0.1013
          ],
          [
           "Jensen-Shannon distance for <b>TotalBsmtSF</b>",
           "<b style=\"color:#00c8e5;line-height:60px\">Analysis</b>",
           "<span style=\"color:#AD0000\">⚠ <b>Drift detected</b></span>",
           "[408:458]",
           "From <b>Apr-01-2010</b> to <b>May-01-2010</b>",
           0.1503
          ],
          [
           "Jensen-Shannon distance for <b>TotalBsmtSF</b>",
           "<b style=\"color:#00c8e5;line-height:60px\">Analysis</b>",
           "<span style=\"color:#AD0000\">⚠ <b>Drift detected</b></span>",
           "[510:509]",
           "From <b>Jul-01-2010</b> to <b>Jul-01-2010</b>",
           0.1583
          ]
         ],
         "hovertemplate": "%{customdata[1]} &nbsp; &nbsp; %{customdata[2]} <br />Chunk: <b>%{customdata[3]}</b> &nbsp; &nbsp; %{customdata[4]} <br />%{customdata[0]}: <b>%{customdata[5]}</b><b r /><extra></extra>",
         "legendgroup": "metric_analysis",
         "marker": {
          "color": "#00c8e5",
          "size": 5,
          "symbol": "circle"
         },
         "mode": "markers",
         "name": "Method",
         "showlegend": false,
         "type": "scatter",
         "x": [
          "2009-02-15T00:00:00",
          "2009-04-16T00:00:00",
          "2009-05-16T12:00:00",
          "2009-06-16T00:00:00",
          "2009-08-01T00:00:00",
          "2009-10-01T12:00:00",
          "2009-12-17T00:00:00",
          "2010-03-02T12:00:00",
          "2010-05-16T12:00:00",
          "2010-07-01T00:00:00"
         ],
         "xaxis": "x9",
         "y": [
          0.20237487946262528,
          0.17057755299265948,
          0.23052234329947613,
          0.18875242141428647,
          0.1166499013044747,
          0.15129268519731368,
          0.22892086827769625,
          0.10131920028846975,
          0.15032993518542279,
          0.1582589731819041,
          0.1582589731819041
         ],
         "yaxis": "y9"
        },
        {
         "hoverinfo": "skip",
         "legendgroup": "alert",
         "marker": {
          "color": "#DD4040",
          "size": 8,
          "symbol": "diamond"
         },
         "mode": "markers",
         "name": "Alert",
         "showlegend": false,
         "type": "scatter",
         "x": [
          "2009-02-15T00:00:00",
          "2009-04-16T00:00:00",
          "2009-05-16T12:00:00",
          "2009-06-16T00:00:00",
          "2009-08-01T00:00:00",
          "2009-10-01T12:00:00",
          "2009-12-17T00:00:00",
          "2010-03-02T12:00:00",
          "2010-05-16T12:00:00",
          "2010-07-01T00:00:00"
         ],
         "xaxis": "x9",
         "y": [
          0.20237487946262528,
          0.17057755299265948,
          0.23052234329947613,
          0.18875242141428647,
          0.1166499013044747,
          0.15129268519731368,
          0.22892086827769625,
          0.10131920028846975,
          0.15032993518542279,
          0.1582589731819041
         ],
         "yaxis": "y9"
        },
        {
         "hoverinfo": "skip",
         "legendgroup": "thresh",
         "line": {
          "color": "#DD4040",
          "dash": "dash",
          "width": 2
         },
         "mode": "lines",
         "name": "Threshold",
         "showlegend": false,
         "type": "scatter",
         "x": [
          "2007-01-01T00:00:00",
          "2007-04-01T00:00:00",
          "2007-06-01T00:00:00",
          "2007-07-01T00:00:00",
          "2007-08-01T00:00:00",
          "2007-12-01T00:00:00",
          "2008-04-01T00:00:00",
          "2008-06-01T00:00:00",
          "2008-07-01T00:00:00",
          "2008-12-01T00:00:00",
          "2008-12-01T00:00:00"
         ],
         "xaxis": "x9",
         "y": [
          0.1,
          0.1,
          0.1,
          0.1,
          0.1,
          0.1,
          0.1,
          0.1,
          0.1,
          0.1,
          0.1
         ],
         "yaxis": "y9"
        },
        {
         "hoverinfo": "skip",
         "legendgroup": "thresh",
         "line": {
          "color": "#DD4040",
          "dash": "dash",
          "width": 2
         },
         "mode": "lines",
         "name": "Threshold",
         "showlegend": false,
         "type": "scatter",
         "x": [
          "2009-01-01T00:00:00",
          "2009-04-01T00:00:00",
          "2009-05-01T00:00:00",
          "2009-06-01T00:00:00",
          "2009-07-01T00:00:00",
          "2009-09-01T00:00:00",
          "2009-11-01T00:00:00",
          "2010-02-01T00:00:00",
          "2010-04-01T00:00:00",
          "2010-07-01T00:00:00",
          "2010-07-01T00:00:00"
         ],
         "xaxis": "x9",
         "y": [
          0.1,
          0.1,
          0.1,
          0.1,
          0.1,
          0.1,
          0.1,
          0.1,
          0.1,
          0.1,
          0.1
         ],
         "yaxis": "y9"
        },
        {
         "hoverinfo": "skip",
         "legendgroup": "metric_reference",
         "line": {
          "color": "#00c8e5",
          "shape": "hv",
          "width": 2
         },
         "mode": "lines",
         "name": "Method",
         "showlegend": false,
         "type": "scatter",
         "x": [
          "2007-01-01T00:00:00",
          "2007-04-01T00:00:00",
          "2007-06-01T00:00:00",
          "2007-07-01T00:00:00",
          "2007-08-01T00:00:00",
          "2007-12-01T00:00:00",
          "2008-04-01T00:00:00",
          "2008-06-01T00:00:00",
          "2008-07-01T00:00:00",
          "2008-12-01T00:00:00",
          "2008-12-01T00:00:00"
         ],
         "xaxis": "x10",
         "y": [
          0.199223041263896,
          0.17108866431654438,
          0.1938611401390088,
          0.2146355870365666,
          0.22366260001316104,
          0.2460408967362791,
          0.1914725826125577,
          0.24651594806955734,
          0.18882134365241243,
          0.203493124994573,
          0.203493124994573
         ],
         "yaxis": "y10"
        },
        {
         "customdata": [
          [
           "Jensen-Shannon distance for <b>YearBuilt</b>",
           "<b style=\"color:#00c8e5;line-height:60px\">Reference</b>",
           "<span style=\"color:#AD0000\">⚠ <b>Drift detected</b></span>",
           "[0:62]",
           "From <b>Jan-01-2007</b> to <b>Apr-01-2007</b>",
           0.1992
          ],
          [
           "Jensen-Shannon distance for <b>YearBuilt</b>",
           "<b style=\"color:#00c8e5;line-height:60px\">Reference</b>",
           "<span style=\"color:#AD0000\">⚠ <b>Drift detected</b></span>",
           "[63:125]",
           "From <b>Apr-01-2007</b> to <b>Jun-01-2007</b>",
           0.1711
          ],
          [
           "Jensen-Shannon distance for <b>YearBuilt</b>",
           "<b style=\"color:#00c8e5;line-height:60px\">Reference</b>",
           "<span style=\"color:#AD0000\">⚠ <b>Drift detected</b></span>",
           "[126:188]",
           "From <b>Jun-01-2007</b> to <b>Jul-01-2007</b>",
           0.1939
          ],
          [
           "Jensen-Shannon distance for <b>YearBuilt</b>",
           "<b style=\"color:#00c8e5;line-height:60px\">Reference</b>",
           "<span style=\"color:#AD0000\">⚠ <b>Drift detected</b></span>",
           "[189:251]",
           "From <b>Jul-01-2007</b> to <b>Aug-01-2007</b>",
           0.2146
          ],
          [
           "Jensen-Shannon distance for <b>YearBuilt</b>",
           "<b style=\"color:#00c8e5;line-height:60px\">Reference</b>",
           "<span style=\"color:#AD0000\">⚠ <b>Drift detected</b></span>",
           "[252:314]",
           "From <b>Aug-01-2007</b> to <b>Dec-01-2007</b>",
           0.2237
          ],
          [
           "Jensen-Shannon distance for <b>YearBuilt</b>",
           "<b style=\"color:#00c8e5;line-height:60px\">Reference</b>",
           "<span style=\"color:#AD0000\">⚠ <b>Drift detected</b></span>",
           "[315:377]",
           "From <b>Dec-01-2007</b> to <b>Apr-01-2008</b>",
           0.246
          ],
          [
           "Jensen-Shannon distance for <b>YearBuilt</b>",
           "<b style=\"color:#00c8e5;line-height:60px\">Reference</b>",
           "<span style=\"color:#AD0000\">⚠ <b>Drift detected</b></span>",
           "[378:440]",
           "From <b>Apr-01-2008</b> to <b>Jun-01-2008</b>",
           0.1915
          ],
          [
           "Jensen-Shannon distance for <b>YearBuilt</b>",
           "<b style=\"color:#00c8e5;line-height:60px\">Reference</b>",
           "<span style=\"color:#AD0000\">⚠ <b>Drift detected</b></span>",
           "[441:503]",
           "From <b>Jun-01-2008</b> to <b>Jul-01-2008</b>",
           0.2465
          ],
          [
           "Jensen-Shannon distance for <b>YearBuilt</b>",
           "<b style=\"color:#00c8e5;line-height:60px\">Reference</b>",
           "<span style=\"color:#AD0000\">⚠ <b>Drift detected</b></span>",
           "[504:566]",
           "From <b>Jul-01-2008</b> to <b>Sep-01-2008</b>",
           0.1888
          ],
          [
           "Jensen-Shannon distance for <b>YearBuilt</b>",
           "<b style=\"color:#00c8e5;line-height:60px\">Reference</b>",
           "<span style=\"color:#AD0000\">⚠ <b>Drift detected</b></span>",
           "[630:629]",
           "From <b>Dec-01-2008</b> to <b>Dec-01-2008</b>",
           0.2035
          ]
         ],
         "hovertemplate": "%{customdata[1]} &nbsp; &nbsp; %{customdata[2]} <br />Chunk: <b>%{customdata[3]}</b> &nbsp; &nbsp; %{customdata[4]} <br />%{customdata[0]}: <b>%{customdata[5]}</b><b r /><extra></extra>",
         "legendgroup": "metric_reference",
         "marker": {
          "color": "#00c8e5",
          "size": 5,
          "symbol": "circle"
         },
         "mode": "markers",
         "name": "Method",
         "showlegend": false,
         "type": "scatter",
         "x": [
          "2007-02-15T00:00:00",
          "2007-05-01T12:00:00",
          "2007-06-16T00:00:00",
          "2007-07-16T12:00:00",
          "2007-10-01T00:00:00",
          "2008-01-31T00:00:00",
          "2008-05-01T12:00:00",
          "2008-06-16T00:00:00",
          "2008-09-15T12:00:00",
          "2008-12-01T00:00:00"
         ],
         "xaxis": "x10",
         "y": [
          0.199223041263896,
          0.17108866431654438,
          0.1938611401390088,
          0.2146355870365666,
          0.22366260001316104,
          0.2460408967362791,
          0.1914725826125577,
          0.24651594806955734,
          0.18882134365241243,
          0.203493124994573,
          0.203493124994573
         ],
         "yaxis": "y10"
        },
        {
         "hoverinfo": "skip",
         "legendgroup": "metric_analysis",
         "line": {
          "color": "#00c8e5",
          "shape": "hv",
          "width": 2
         },
         "mode": "lines",
         "name": "Method",
         "showlegend": false,
         "type": "scatter",
         "x": [
          "2009-01-01T00:00:00",
          "2009-04-01T00:00:00",
          "2009-05-01T00:00:00",
          "2009-06-01T00:00:00",
          "2009-07-01T00:00:00",
          "2009-09-01T00:00:00",
          "2009-11-01T00:00:00",
          "2010-02-01T00:00:00",
          "2010-04-01T00:00:00",
          "2010-07-01T00:00:00",
          "2010-07-01T00:00:00"
         ],
         "xaxis": "x10",
         "y": [
          0.19561101739739198,
          0.22017014818499808,
          0.24926478926923998,
          0.21679950754957986,
          0.22805032397733627,
          0.32288097600896354,
          0.22496916386104432,
          0.3204455724606488,
          0.2246480786205331,
          0.3384041660158935,
          0.3384041660158935
         ],
         "yaxis": "y10"
        },
        {
         "customdata": [
          [
           "Jensen-Shannon distance for <b>YearBuilt</b>",
           "<b style=\"color:#00c8e5;line-height:60px\">Analysis</b>",
           "<span style=\"color:#AD0000\">⚠ <b>Drift detected</b></span>",
           "[0:50]",
           "From <b>Jan-01-2009</b> to <b>Apr-01-2009</b>",
           0.1956
          ],
          [
           "Jensen-Shannon distance for <b>YearBuilt</b>",
           "<b style=\"color:#00c8e5;line-height:60px\">Analysis</b>",
           "<span style=\"color:#AD0000\">⚠ <b>Drift detected</b></span>",
           "[51:101]",
           "From <b>Apr-01-2009</b> to <b>May-01-2009</b>",
           0.2202
          ],
          [
           "Jensen-Shannon distance for <b>YearBuilt</b>",
           "<b style=\"color:#00c8e5;line-height:60px\">Analysis</b>",
           "<span style=\"color:#AD0000\">⚠ <b>Drift detected</b></span>",
           "[102:152]",
           "From <b>May-01-2009</b> to <b>Jun-01-2009</b>",
           0.2493
          ],
          [
           "Jensen-Shannon distance for <b>YearBuilt</b>",
           "<b style=\"color:#00c8e5;line-height:60px\">Analysis</b>",
           "<span style=\"color:#AD0000\">⚠ <b>Drift detected</b></span>",
           "[153:203]",
           "From <b>Jun-01-2009</b> to <b>Jul-01-2009</b>",
           0.2168
          ],
          [
           "Jensen-Shannon distance for <b>YearBuilt</b>",
           "<b style=\"color:#00c8e5;line-height:60px\">Analysis</b>",
           "<span style=\"color:#AD0000\">⚠ <b>Drift detected</b></span>",
           "[204:254]",
           "From <b>Jul-01-2009</b> to <b>Sep-01-2009</b>",
           0.2281
          ],
          [
           "Jensen-Shannon distance for <b>YearBuilt</b>",
           "<b style=\"color:#00c8e5;line-height:60px\">Analysis</b>",
           "<span style=\"color:#AD0000\">⚠ <b>Drift detected</b></span>",
           "[255:305]",
           "From <b>Sep-01-2009</b> to <b>Nov-01-2009</b>",
           0.3229
          ],
          [
           "Jensen-Shannon distance for <b>YearBuilt</b>",
           "<b style=\"color:#00c8e5;line-height:60px\">Analysis</b>",
           "<span style=\"color:#AD0000\">⚠ <b>Drift detected</b></span>",
           "[306:356]",
           "From <b>Nov-01-2009</b> to <b>Feb-01-2010</b>",
           0.225
          ],
          [
           "Jensen-Shannon distance for <b>YearBuilt</b>",
           "<b style=\"color:#00c8e5;line-height:60px\">Analysis</b>",
           "<span style=\"color:#AD0000\">⚠ <b>Drift detected</b></span>",
           "[357:407]",
           "From <b>Feb-01-2010</b> to <b>Apr-01-2010</b>",
           0.3204
          ],
          [
           "Jensen-Shannon distance for <b>YearBuilt</b>",
           "<b style=\"color:#00c8e5;line-height:60px\">Analysis</b>",
           "<span style=\"color:#AD0000\">⚠ <b>Drift detected</b></span>",
           "[408:458]",
           "From <b>Apr-01-2010</b> to <b>May-01-2010</b>",
           0.2246
          ],
          [
           "Jensen-Shannon distance for <b>YearBuilt</b>",
           "<b style=\"color:#00c8e5;line-height:60px\">Analysis</b>",
           "<span style=\"color:#AD0000\">⚠ <b>Drift detected</b></span>",
           "[510:509]",
           "From <b>Jul-01-2010</b> to <b>Jul-01-2010</b>",
           0.3384
          ]
         ],
         "hovertemplate": "%{customdata[1]} &nbsp; &nbsp; %{customdata[2]} <br />Chunk: <b>%{customdata[3]}</b> &nbsp; &nbsp; %{customdata[4]} <br />%{customdata[0]}: <b>%{customdata[5]}</b><b r /><extra></extra>",
         "legendgroup": "metric_analysis",
         "marker": {
          "color": "#00c8e5",
          "size": 5,
          "symbol": "circle"
         },
         "mode": "markers",
         "name": "Method",
         "showlegend": false,
         "type": "scatter",
         "x": [
          "2009-02-15T00:00:00",
          "2009-04-16T00:00:00",
          "2009-05-16T12:00:00",
          "2009-06-16T00:00:00",
          "2009-08-01T00:00:00",
          "2009-10-01T12:00:00",
          "2009-12-17T00:00:00",
          "2010-03-02T12:00:00",
          "2010-05-16T12:00:00",
          "2010-07-01T00:00:00"
         ],
         "xaxis": "x10",
         "y": [
          0.19561101739739198,
          0.22017014818499808,
          0.24926478926923998,
          0.21679950754957986,
          0.22805032397733627,
          0.32288097600896354,
          0.22496916386104432,
          0.3204455724606488,
          0.2246480786205331,
          0.3384041660158935,
          0.3384041660158935
         ],
         "yaxis": "y10"
        },
        {
         "hoverinfo": "skip",
         "legendgroup": "alert",
         "marker": {
          "color": "#DD4040",
          "size": 8,
          "symbol": "diamond"
         },
         "mode": "markers",
         "name": "Alert",
         "showlegend": false,
         "type": "scatter",
         "x": [
          "2009-02-15T00:00:00",
          "2009-04-16T00:00:00",
          "2009-05-16T12:00:00",
          "2009-06-16T00:00:00",
          "2009-08-01T00:00:00",
          "2009-10-01T12:00:00",
          "2009-12-17T00:00:00",
          "2010-03-02T12:00:00",
          "2010-05-16T12:00:00",
          "2010-07-01T00:00:00"
         ],
         "xaxis": "x10",
         "y": [
          0.19561101739739198,
          0.22017014818499808,
          0.24926478926923998,
          0.21679950754957986,
          0.22805032397733627,
          0.32288097600896354,
          0.22496916386104432,
          0.3204455724606488,
          0.2246480786205331,
          0.3384041660158935
         ],
         "yaxis": "y10"
        },
        {
         "hoverinfo": "skip",
         "legendgroup": "thresh",
         "line": {
          "color": "#DD4040",
          "dash": "dash",
          "width": 2
         },
         "mode": "lines",
         "name": "Threshold",
         "showlegend": false,
         "type": "scatter",
         "x": [
          "2007-01-01T00:00:00",
          "2007-04-01T00:00:00",
          "2007-06-01T00:00:00",
          "2007-07-01T00:00:00",
          "2007-08-01T00:00:00",
          "2007-12-01T00:00:00",
          "2008-04-01T00:00:00",
          "2008-06-01T00:00:00",
          "2008-07-01T00:00:00",
          "2008-12-01T00:00:00",
          "2008-12-01T00:00:00"
         ],
         "xaxis": "x10",
         "y": [
          0.1,
          0.1,
          0.1,
          0.1,
          0.1,
          0.1,
          0.1,
          0.1,
          0.1,
          0.1,
          0.1
         ],
         "yaxis": "y10"
        },
        {
         "hoverinfo": "skip",
         "legendgroup": "thresh",
         "line": {
          "color": "#DD4040",
          "dash": "dash",
          "width": 2
         },
         "mode": "lines",
         "name": "Threshold",
         "showlegend": false,
         "type": "scatter",
         "x": [
          "2009-01-01T00:00:00",
          "2009-04-01T00:00:00",
          "2009-05-01T00:00:00",
          "2009-06-01T00:00:00",
          "2009-07-01T00:00:00",
          "2009-09-01T00:00:00",
          "2009-11-01T00:00:00",
          "2010-02-01T00:00:00",
          "2010-04-01T00:00:00",
          "2010-07-01T00:00:00",
          "2010-07-01T00:00:00"
         ],
         "xaxis": "x10",
         "y": [
          0.1,
          0.1,
          0.1,
          0.1,
          0.1,
          0.1,
          0.1,
          0.1,
          0.1,
          0.1,
          0.1
         ],
         "yaxis": "y10"
        }
       ],
       "layout": {
        "annotations": [
         {
          "font": {
           "size": 16
          },
          "showarrow": false,
          "text": "Jensen-Shannon distance for <b>1stFlrSF</b>",
          "x": 0.5,
          "xanchor": "center",
          "xref": "paper",
          "y": 1,
          "yanchor": "bottom",
          "yref": "paper"
         },
         {
          "font": {
           "size": 16
          },
          "showarrow": false,
          "text": "Jensen-Shannon distance for <b>2ndFlrSF</b>",
          "x": 0.5,
          "xanchor": "center",
          "xref": "paper",
          "y": 0.8950000000000001,
          "yanchor": "bottom",
          "yref": "paper"
         },
         {
          "font": {
           "size": 16
          },
          "showarrow": false,
          "text": "Jensen-Shannon distance for <b>BsmtFinSF1</b>",
          "x": 0.5,
          "xanchor": "center",
          "xref": "paper",
          "y": 0.7900000000000001,
          "yanchor": "bottom",
          "yref": "paper"
         },
         {
          "font": {
           "size": 16
          },
          "showarrow": false,
          "text": "Jensen-Shannon distance for <b>GarageArea</b>",
          "x": 0.5,
          "xanchor": "center",
          "xref": "paper",
          "y": 0.6850000000000002,
          "yanchor": "bottom",
          "yref": "paper"
         },
         {
          "font": {
           "size": 16
          },
          "showarrow": false,
          "text": "Jensen-Shannon distance for <b>GarageCars</b>",
          "x": 0.5,
          "xanchor": "center",
          "xref": "paper",
          "y": 0.5800000000000001,
          "yanchor": "bottom",
          "yref": "paper"
         },
         {
          "font": {
           "size": 16
          },
          "showarrow": false,
          "text": "Jensen-Shannon distance for <b>GrLivArea</b>",
          "x": 0.5,
          "xanchor": "center",
          "xref": "paper",
          "y": 0.47500000000000003,
          "yanchor": "bottom",
          "yref": "paper"
         },
         {
          "font": {
           "size": 16
          },
          "showarrow": false,
          "text": "Jensen-Shannon distance for <b>LotArea</b>",
          "x": 0.5,
          "xanchor": "center",
          "xref": "paper",
          "y": 0.37000000000000005,
          "yanchor": "bottom",
          "yref": "paper"
         },
         {
          "font": {
           "size": 16
          },
          "showarrow": false,
          "text": "Jensen-Shannon distance for <b>OverallQual</b>",
          "x": 0.5,
          "xanchor": "center",
          "xref": "paper",
          "y": 0.265,
          "yanchor": "bottom",
          "yref": "paper"
         },
         {
          "font": {
           "size": 16
          },
          "showarrow": false,
          "text": "Jensen-Shannon distance for <b>TotalBsmtSF</b>",
          "x": 0.5,
          "xanchor": "center",
          "xref": "paper",
          "y": 0.16000000000000003,
          "yanchor": "bottom",
          "yref": "paper"
         },
         {
          "font": {
           "size": 16
          },
          "showarrow": false,
          "text": "Jensen-Shannon distance for <b>YearBuilt</b>",
          "x": 0.5,
          "xanchor": "center",
          "xref": "paper",
          "y": 0.05500000000000001,
          "yanchor": "bottom",
          "yref": "paper"
         },
         {
          "showarrow": false,
          "text": "Reference",
          "x": "2007-11-15T19:12:00",
          "xref": "x",
          "xshift": 10,
          "y": 1.01,
          "yref": "y domain"
         },
         {
          "showarrow": false,
          "text": "Analysis",
          "x": "2009-09-06T14:24:00",
          "xref": "x",
          "xshift": 15,
          "y": 1.01,
          "yref": "y domain"
         },
         {
          "showarrow": false,
          "text": "Reference",
          "x": "2007-11-15T19:12:00",
          "xref": "x2",
          "xshift": 10,
          "y": 1.01,
          "yref": "y2 domain"
         },
         {
          "showarrow": false,
          "text": "Analysis",
          "x": "2009-09-06T14:24:00",
          "xref": "x2",
          "xshift": 15,
          "y": 1.01,
          "yref": "y2 domain"
         },
         {
          "showarrow": false,
          "text": "Reference",
          "x": "2007-11-15T19:12:00",
          "xref": "x3",
          "xshift": 10,
          "y": 1.01,
          "yref": "y3 domain"
         },
         {
          "showarrow": false,
          "text": "Analysis",
          "x": "2009-09-06T14:24:00",
          "xref": "x3",
          "xshift": 15,
          "y": 1.01,
          "yref": "y3 domain"
         },
         {
          "showarrow": false,
          "text": "Reference",
          "x": "2007-11-15T19:12:00",
          "xref": "x4",
          "xshift": 10,
          "y": 1.01,
          "yref": "y4 domain"
         },
         {
          "showarrow": false,
          "text": "Analysis",
          "x": "2009-09-06T14:24:00",
          "xref": "x4",
          "xshift": 15,
          "y": 1.01,
          "yref": "y4 domain"
         },
         {
          "showarrow": false,
          "text": "Reference",
          "x": "2007-11-15T19:12:00",
          "xref": "x5",
          "xshift": 10,
          "y": 1.01,
          "yref": "y5 domain"
         },
         {
          "showarrow": false,
          "text": "Analysis",
          "x": "2009-09-06T14:24:00",
          "xref": "x5",
          "xshift": 15,
          "y": 1.01,
          "yref": "y5 domain"
         },
         {
          "showarrow": false,
          "text": "Reference",
          "x": "2007-11-15T19:12:00",
          "xref": "x6",
          "xshift": 10,
          "y": 1.01,
          "yref": "y6 domain"
         },
         {
          "showarrow": false,
          "text": "Analysis",
          "x": "2009-09-06T14:24:00",
          "xref": "x6",
          "xshift": 15,
          "y": 1.01,
          "yref": "y6 domain"
         },
         {
          "showarrow": false,
          "text": "Reference",
          "x": "2007-11-15T19:12:00",
          "xref": "x7",
          "xshift": 10,
          "y": 1.01,
          "yref": "y7 domain"
         },
         {
          "showarrow": false,
          "text": "Analysis",
          "x": "2009-09-06T14:24:00",
          "xref": "x7",
          "xshift": 15,
          "y": 1.01,
          "yref": "y7 domain"
         },
         {
          "showarrow": false,
          "text": "Reference",
          "x": "2007-11-15T19:12:00",
          "xref": "x8",
          "xshift": 10,
          "y": 1.01,
          "yref": "y8 domain"
         },
         {
          "showarrow": false,
          "text": "Analysis",
          "x": "2009-09-06T14:24:00",
          "xref": "x8",
          "xshift": 15,
          "y": 1.01,
          "yref": "y8 domain"
         },
         {
          "showarrow": false,
          "text": "Reference",
          "x": "2007-11-15T19:12:00",
          "xref": "x9",
          "xshift": 10,
          "y": 1.01,
          "yref": "y9 domain"
         },
         {
          "showarrow": false,
          "text": "Analysis",
          "x": "2009-09-06T14:24:00",
          "xref": "x9",
          "xshift": 15,
          "y": 1.01,
          "yref": "y9 domain"
         },
         {
          "showarrow": false,
          "text": "Reference",
          "x": "2007-11-15T19:12:00",
          "xref": "x10",
          "xshift": 10,
          "y": 1.01,
          "yref": "y10 domain"
         },
         {
          "showarrow": false,
          "text": "Analysis",
          "x": "2009-09-06T14:24:00",
          "xref": "x10",
          "xshift": 15,
          "y": 1.01,
          "yref": "y10 domain"
         }
        ],
        "height": 5000,
        "hoverlabel": {
         "bgcolor": "white",
         "font": {
          "size": 14
         }
        },
        "legend": {
         "itemclick": false,
         "itemdoubleclick": false,
         "traceorder": "grouped"
        },
        "paper_bgcolor": "rgba(255,255,255,1)",
        "plot_bgcolor": "rgba(255,255,255,1)",
        "shapes": [
         {
          "layer": "below",
          "line": {
           "color": "#666666",
           "width": 1
          },
          "type": "line",
          "x0": "2009-01-01T00:00:00",
          "x1": "2009-01-01T00:00:00",
          "xref": "x",
          "y0": 0,
          "y1": 1,
          "yref": "y domain"
         },
         {
          "layer": "below",
          "line": {
           "color": "#666666",
           "width": 1
          },
          "type": "line",
          "x0": "2009-01-01T00:00:00",
          "x1": "2009-01-01T00:00:00",
          "xref": "x",
          "y0": 0,
          "y1": 1,
          "yref": "y domain"
         },
         {
          "layer": "below",
          "line": {
           "color": "#666666",
           "width": 1
          },
          "type": "line",
          "x0": "2009-01-01T00:00:00",
          "x1": "2009-01-01T00:00:00",
          "xref": "x2",
          "y0": 0,
          "y1": 1,
          "yref": "y2 domain"
         },
         {
          "layer": "below",
          "line": {
           "color": "#666666",
           "width": 1
          },
          "type": "line",
          "x0": "2009-01-01T00:00:00",
          "x1": "2009-01-01T00:00:00",
          "xref": "x",
          "y0": 0,
          "y1": 1,
          "yref": "y domain"
         },
         {
          "layer": "below",
          "line": {
           "color": "#666666",
           "width": 1
          },
          "type": "line",
          "x0": "2009-01-01T00:00:00",
          "x1": "2009-01-01T00:00:00",
          "xref": "x2",
          "y0": 0,
          "y1": 1,
          "yref": "y2 domain"
         },
         {
          "layer": "below",
          "line": {
           "color": "#666666",
           "width": 1
          },
          "type": "line",
          "x0": "2009-01-01T00:00:00",
          "x1": "2009-01-01T00:00:00",
          "xref": "x3",
          "y0": 0,
          "y1": 1,
          "yref": "y3 domain"
         },
         {
          "layer": "below",
          "line": {
           "color": "#666666",
           "width": 1
          },
          "type": "line",
          "x0": "2009-01-01T00:00:00",
          "x1": "2009-01-01T00:00:00",
          "xref": "x",
          "y0": 0,
          "y1": 1,
          "yref": "y domain"
         },
         {
          "layer": "below",
          "line": {
           "color": "#666666",
           "width": 1
          },
          "type": "line",
          "x0": "2009-01-01T00:00:00",
          "x1": "2009-01-01T00:00:00",
          "xref": "x2",
          "y0": 0,
          "y1": 1,
          "yref": "y2 domain"
         },
         {
          "layer": "below",
          "line": {
           "color": "#666666",
           "width": 1
          },
          "type": "line",
          "x0": "2009-01-01T00:00:00",
          "x1": "2009-01-01T00:00:00",
          "xref": "x3",
          "y0": 0,
          "y1": 1,
          "yref": "y3 domain"
         },
         {
          "layer": "below",
          "line": {
           "color": "#666666",
           "width": 1
          },
          "type": "line",
          "x0": "2009-01-01T00:00:00",
          "x1": "2009-01-01T00:00:00",
          "xref": "x4",
          "y0": 0,
          "y1": 1,
          "yref": "y4 domain"
         },
         {
          "layer": "below",
          "line": {
           "color": "#666666",
           "width": 1
          },
          "type": "line",
          "x0": "2009-01-01T00:00:00",
          "x1": "2009-01-01T00:00:00",
          "xref": "x",
          "y0": 0,
          "y1": 1,
          "yref": "y domain"
         },
         {
          "layer": "below",
          "line": {
           "color": "#666666",
           "width": 1
          },
          "type": "line",
          "x0": "2009-01-01T00:00:00",
          "x1": "2009-01-01T00:00:00",
          "xref": "x2",
          "y0": 0,
          "y1": 1,
          "yref": "y2 domain"
         },
         {
          "layer": "below",
          "line": {
           "color": "#666666",
           "width": 1
          },
          "type": "line",
          "x0": "2009-01-01T00:00:00",
          "x1": "2009-01-01T00:00:00",
          "xref": "x3",
          "y0": 0,
          "y1": 1,
          "yref": "y3 domain"
         },
         {
          "layer": "below",
          "line": {
           "color": "#666666",
           "width": 1
          },
          "type": "line",
          "x0": "2009-01-01T00:00:00",
          "x1": "2009-01-01T00:00:00",
          "xref": "x4",
          "y0": 0,
          "y1": 1,
          "yref": "y4 domain"
         },
         {
          "layer": "below",
          "line": {
           "color": "#666666",
           "width": 1
          },
          "type": "line",
          "x0": "2009-01-01T00:00:00",
          "x1": "2009-01-01T00:00:00",
          "xref": "x5",
          "y0": 0,
          "y1": 1,
          "yref": "y5 domain"
         },
         {
          "layer": "below",
          "line": {
           "color": "#666666",
           "width": 1
          },
          "type": "line",
          "x0": "2009-01-01T00:00:00",
          "x1": "2009-01-01T00:00:00",
          "xref": "x",
          "y0": 0,
          "y1": 1,
          "yref": "y domain"
         },
         {
          "layer": "below",
          "line": {
           "color": "#666666",
           "width": 1
          },
          "type": "line",
          "x0": "2009-01-01T00:00:00",
          "x1": "2009-01-01T00:00:00",
          "xref": "x2",
          "y0": 0,
          "y1": 1,
          "yref": "y2 domain"
         },
         {
          "layer": "below",
          "line": {
           "color": "#666666",
           "width": 1
          },
          "type": "line",
          "x0": "2009-01-01T00:00:00",
          "x1": "2009-01-01T00:00:00",
          "xref": "x3",
          "y0": 0,
          "y1": 1,
          "yref": "y3 domain"
         },
         {
          "layer": "below",
          "line": {
           "color": "#666666",
           "width": 1
          },
          "type": "line",
          "x0": "2009-01-01T00:00:00",
          "x1": "2009-01-01T00:00:00",
          "xref": "x4",
          "y0": 0,
          "y1": 1,
          "yref": "y4 domain"
         },
         {
          "layer": "below",
          "line": {
           "color": "#666666",
           "width": 1
          },
          "type": "line",
          "x0": "2009-01-01T00:00:00",
          "x1": "2009-01-01T00:00:00",
          "xref": "x5",
          "y0": 0,
          "y1": 1,
          "yref": "y5 domain"
         },
         {
          "layer": "below",
          "line": {
           "color": "#666666",
           "width": 1
          },
          "type": "line",
          "x0": "2009-01-01T00:00:00",
          "x1": "2009-01-01T00:00:00",
          "xref": "x6",
          "y0": 0,
          "y1": 1,
          "yref": "y6 domain"
         },
         {
          "layer": "below",
          "line": {
           "color": "#666666",
           "width": 1
          },
          "type": "line",
          "x0": "2009-01-01T00:00:00",
          "x1": "2009-01-01T00:00:00",
          "xref": "x",
          "y0": 0,
          "y1": 1,
          "yref": "y domain"
         },
         {
          "layer": "below",
          "line": {
           "color": "#666666",
           "width": 1
          },
          "type": "line",
          "x0": "2009-01-01T00:00:00",
          "x1": "2009-01-01T00:00:00",
          "xref": "x2",
          "y0": 0,
          "y1": 1,
          "yref": "y2 domain"
         },
         {
          "layer": "below",
          "line": {
           "color": "#666666",
           "width": 1
          },
          "type": "line",
          "x0": "2009-01-01T00:00:00",
          "x1": "2009-01-01T00:00:00",
          "xref": "x3",
          "y0": 0,
          "y1": 1,
          "yref": "y3 domain"
         },
         {
          "layer": "below",
          "line": {
           "color": "#666666",
           "width": 1
          },
          "type": "line",
          "x0": "2009-01-01T00:00:00",
          "x1": "2009-01-01T00:00:00",
          "xref": "x4",
          "y0": 0,
          "y1": 1,
          "yref": "y4 domain"
         },
         {
          "layer": "below",
          "line": {
           "color": "#666666",
           "width": 1
          },
          "type": "line",
          "x0": "2009-01-01T00:00:00",
          "x1": "2009-01-01T00:00:00",
          "xref": "x5",
          "y0": 0,
          "y1": 1,
          "yref": "y5 domain"
         },
         {
          "layer": "below",
          "line": {
           "color": "#666666",
           "width": 1
          },
          "type": "line",
          "x0": "2009-01-01T00:00:00",
          "x1": "2009-01-01T00:00:00",
          "xref": "x6",
          "y0": 0,
          "y1": 1,
          "yref": "y6 domain"
         },
         {
          "layer": "below",
          "line": {
           "color": "#666666",
           "width": 1
          },
          "type": "line",
          "x0": "2009-01-01T00:00:00",
          "x1": "2009-01-01T00:00:00",
          "xref": "x7",
          "y0": 0,
          "y1": 1,
          "yref": "y7 domain"
         },
         {
          "layer": "below",
          "line": {
           "color": "#666666",
           "width": 1
          },
          "type": "line",
          "x0": "2009-01-01T00:00:00",
          "x1": "2009-01-01T00:00:00",
          "xref": "x",
          "y0": 0,
          "y1": 1,
          "yref": "y domain"
         },
         {
          "layer": "below",
          "line": {
           "color": "#666666",
           "width": 1
          },
          "type": "line",
          "x0": "2009-01-01T00:00:00",
          "x1": "2009-01-01T00:00:00",
          "xref": "x2",
          "y0": 0,
          "y1": 1,
          "yref": "y2 domain"
         },
         {
          "layer": "below",
          "line": {
           "color": "#666666",
           "width": 1
          },
          "type": "line",
          "x0": "2009-01-01T00:00:00",
          "x1": "2009-01-01T00:00:00",
          "xref": "x3",
          "y0": 0,
          "y1": 1,
          "yref": "y3 domain"
         },
         {
          "layer": "below",
          "line": {
           "color": "#666666",
           "width": 1
          },
          "type": "line",
          "x0": "2009-01-01T00:00:00",
          "x1": "2009-01-01T00:00:00",
          "xref": "x4",
          "y0": 0,
          "y1": 1,
          "yref": "y4 domain"
         },
         {
          "layer": "below",
          "line": {
           "color": "#666666",
           "width": 1
          },
          "type": "line",
          "x0": "2009-01-01T00:00:00",
          "x1": "2009-01-01T00:00:00",
          "xref": "x5",
          "y0": 0,
          "y1": 1,
          "yref": "y5 domain"
         },
         {
          "layer": "below",
          "line": {
           "color": "#666666",
           "width": 1
          },
          "type": "line",
          "x0": "2009-01-01T00:00:00",
          "x1": "2009-01-01T00:00:00",
          "xref": "x6",
          "y0": 0,
          "y1": 1,
          "yref": "y6 domain"
         },
         {
          "layer": "below",
          "line": {
           "color": "#666666",
           "width": 1
          },
          "type": "line",
          "x0": "2009-01-01T00:00:00",
          "x1": "2009-01-01T00:00:00",
          "xref": "x7",
          "y0": 0,
          "y1": 1,
          "yref": "y7 domain"
         },
         {
          "layer": "below",
          "line": {
           "color": "#666666",
           "width": 1
          },
          "type": "line",
          "x0": "2009-01-01T00:00:00",
          "x1": "2009-01-01T00:00:00",
          "xref": "x8",
          "y0": 0,
          "y1": 1,
          "yref": "y8 domain"
         },
         {
          "layer": "below",
          "line": {
           "color": "#666666",
           "width": 1
          },
          "type": "line",
          "x0": "2009-01-01T00:00:00",
          "x1": "2009-01-01T00:00:00",
          "xref": "x",
          "y0": 0,
          "y1": 1,
          "yref": "y domain"
         },
         {
          "layer": "below",
          "line": {
           "color": "#666666",
           "width": 1
          },
          "type": "line",
          "x0": "2009-01-01T00:00:00",
          "x1": "2009-01-01T00:00:00",
          "xref": "x2",
          "y0": 0,
          "y1": 1,
          "yref": "y2 domain"
         },
         {
          "layer": "below",
          "line": {
           "color": "#666666",
           "width": 1
          },
          "type": "line",
          "x0": "2009-01-01T00:00:00",
          "x1": "2009-01-01T00:00:00",
          "xref": "x3",
          "y0": 0,
          "y1": 1,
          "yref": "y3 domain"
         },
         {
          "layer": "below",
          "line": {
           "color": "#666666",
           "width": 1
          },
          "type": "line",
          "x0": "2009-01-01T00:00:00",
          "x1": "2009-01-01T00:00:00",
          "xref": "x4",
          "y0": 0,
          "y1": 1,
          "yref": "y4 domain"
         },
         {
          "layer": "below",
          "line": {
           "color": "#666666",
           "width": 1
          },
          "type": "line",
          "x0": "2009-01-01T00:00:00",
          "x1": "2009-01-01T00:00:00",
          "xref": "x5",
          "y0": 0,
          "y1": 1,
          "yref": "y5 domain"
         },
         {
          "layer": "below",
          "line": {
           "color": "#666666",
           "width": 1
          },
          "type": "line",
          "x0": "2009-01-01T00:00:00",
          "x1": "2009-01-01T00:00:00",
          "xref": "x6",
          "y0": 0,
          "y1": 1,
          "yref": "y6 domain"
         },
         {
          "layer": "below",
          "line": {
           "color": "#666666",
           "width": 1
          },
          "type": "line",
          "x0": "2009-01-01T00:00:00",
          "x1": "2009-01-01T00:00:00",
          "xref": "x7",
          "y0": 0,
          "y1": 1,
          "yref": "y7 domain"
         },
         {
          "layer": "below",
          "line": {
           "color": "#666666",
           "width": 1
          },
          "type": "line",
          "x0": "2009-01-01T00:00:00",
          "x1": "2009-01-01T00:00:00",
          "xref": "x8",
          "y0": 0,
          "y1": 1,
          "yref": "y8 domain"
         },
         {
          "layer": "below",
          "line": {
           "color": "#666666",
           "width": 1
          },
          "type": "line",
          "x0": "2009-01-01T00:00:00",
          "x1": "2009-01-01T00:00:00",
          "xref": "x9",
          "y0": 0,
          "y1": 1,
          "yref": "y9 domain"
         },
         {
          "layer": "below",
          "line": {
           "color": "#666666",
           "width": 1
          },
          "type": "line",
          "x0": "2009-01-01T00:00:00",
          "x1": "2009-01-01T00:00:00",
          "xref": "x",
          "y0": 0,
          "y1": 1,
          "yref": "y domain"
         },
         {
          "layer": "below",
          "line": {
           "color": "#666666",
           "width": 1
          },
          "type": "line",
          "x0": "2009-01-01T00:00:00",
          "x1": "2009-01-01T00:00:00",
          "xref": "x2",
          "y0": 0,
          "y1": 1,
          "yref": "y2 domain"
         },
         {
          "layer": "below",
          "line": {
           "color": "#666666",
           "width": 1
          },
          "type": "line",
          "x0": "2009-01-01T00:00:00",
          "x1": "2009-01-01T00:00:00",
          "xref": "x3",
          "y0": 0,
          "y1": 1,
          "yref": "y3 domain"
         },
         {
          "layer": "below",
          "line": {
           "color": "#666666",
           "width": 1
          },
          "type": "line",
          "x0": "2009-01-01T00:00:00",
          "x1": "2009-01-01T00:00:00",
          "xref": "x4",
          "y0": 0,
          "y1": 1,
          "yref": "y4 domain"
         },
         {
          "layer": "below",
          "line": {
           "color": "#666666",
           "width": 1
          },
          "type": "line",
          "x0": "2009-01-01T00:00:00",
          "x1": "2009-01-01T00:00:00",
          "xref": "x5",
          "y0": 0,
          "y1": 1,
          "yref": "y5 domain"
         },
         {
          "layer": "below",
          "line": {
           "color": "#666666",
           "width": 1
          },
          "type": "line",
          "x0": "2009-01-01T00:00:00",
          "x1": "2009-01-01T00:00:00",
          "xref": "x6",
          "y0": 0,
          "y1": 1,
          "yref": "y6 domain"
         },
         {
          "layer": "below",
          "line": {
           "color": "#666666",
           "width": 1
          },
          "type": "line",
          "x0": "2009-01-01T00:00:00",
          "x1": "2009-01-01T00:00:00",
          "xref": "x7",
          "y0": 0,
          "y1": 1,
          "yref": "y7 domain"
         },
         {
          "layer": "below",
          "line": {
           "color": "#666666",
           "width": 1
          },
          "type": "line",
          "x0": "2009-01-01T00:00:00",
          "x1": "2009-01-01T00:00:00",
          "xref": "x8",
          "y0": 0,
          "y1": 1,
          "yref": "y8 domain"
         },
         {
          "layer": "below",
          "line": {
           "color": "#666666",
           "width": 1
          },
          "type": "line",
          "x0": "2009-01-01T00:00:00",
          "x1": "2009-01-01T00:00:00",
          "xref": "x9",
          "y0": 0,
          "y1": 1,
          "yref": "y9 domain"
         },
         {
          "layer": "below",
          "line": {
           "color": "#666666",
           "width": 1
          },
          "type": "line",
          "x0": "2009-01-01T00:00:00",
          "x1": "2009-01-01T00:00:00",
          "xref": "x10",
          "y0": 0,
          "y1": 1,
          "yref": "y10 domain"
         }
        ],
        "template": {
         "data": {
          "bar": [
           {
            "error_x": {
             "color": "#2a3f5f"
            },
            "error_y": {
             "color": "#2a3f5f"
            },
            "marker": {
             "line": {
              "color": "#E5ECF6",
              "width": 0.5
             },
             "pattern": {
              "fillmode": "overlay",
              "size": 10,
              "solidity": 0.2
             }
            },
            "type": "bar"
           }
          ],
          "barpolar": [
           {
            "marker": {
             "line": {
              "color": "#E5ECF6",
              "width": 0.5
             },
             "pattern": {
              "fillmode": "overlay",
              "size": 10,
              "solidity": 0.2
             }
            },
            "type": "barpolar"
           }
          ],
          "carpet": [
           {
            "aaxis": {
             "endlinecolor": "#2a3f5f",
             "gridcolor": "white",
             "linecolor": "white",
             "minorgridcolor": "white",
             "startlinecolor": "#2a3f5f"
            },
            "baxis": {
             "endlinecolor": "#2a3f5f",
             "gridcolor": "white",
             "linecolor": "white",
             "minorgridcolor": "white",
             "startlinecolor": "#2a3f5f"
            },
            "type": "carpet"
           }
          ],
          "choropleth": [
           {
            "colorbar": {
             "outlinewidth": 0,
             "ticks": ""
            },
            "type": "choropleth"
           }
          ],
          "contour": [
           {
            "colorbar": {
             "outlinewidth": 0,
             "ticks": ""
            },
            "colorscale": [
             [
              0,
              "#0d0887"
             ],
             [
              0.1111111111111111,
              "#46039f"
             ],
             [
              0.2222222222222222,
              "#7201a8"
             ],
             [
              0.3333333333333333,
              "#9c179e"
             ],
             [
              0.4444444444444444,
              "#bd3786"
             ],
             [
              0.5555555555555556,
              "#d8576b"
             ],
             [
              0.6666666666666666,
              "#ed7953"
             ],
             [
              0.7777777777777778,
              "#fb9f3a"
             ],
             [
              0.8888888888888888,
              "#fdca26"
             ],
             [
              1,
              "#f0f921"
             ]
            ],
            "type": "contour"
           }
          ],
          "contourcarpet": [
           {
            "colorbar": {
             "outlinewidth": 0,
             "ticks": ""
            },
            "type": "contourcarpet"
           }
          ],
          "heatmap": [
           {
            "colorbar": {
             "outlinewidth": 0,
             "ticks": ""
            },
            "colorscale": [
             [
              0,
              "#0d0887"
             ],
             [
              0.1111111111111111,
              "#46039f"
             ],
             [
              0.2222222222222222,
              "#7201a8"
             ],
             [
              0.3333333333333333,
              "#9c179e"
             ],
             [
              0.4444444444444444,
              "#bd3786"
             ],
             [
              0.5555555555555556,
              "#d8576b"
             ],
             [
              0.6666666666666666,
              "#ed7953"
             ],
             [
              0.7777777777777778,
              "#fb9f3a"
             ],
             [
              0.8888888888888888,
              "#fdca26"
             ],
             [
              1,
              "#f0f921"
             ]
            ],
            "type": "heatmap"
           }
          ],
          "heatmapgl": [
           {
            "colorbar": {
             "outlinewidth": 0,
             "ticks": ""
            },
            "colorscale": [
             [
              0,
              "#0d0887"
             ],
             [
              0.1111111111111111,
              "#46039f"
             ],
             [
              0.2222222222222222,
              "#7201a8"
             ],
             [
              0.3333333333333333,
              "#9c179e"
             ],
             [
              0.4444444444444444,
              "#bd3786"
             ],
             [
              0.5555555555555556,
              "#d8576b"
             ],
             [
              0.6666666666666666,
              "#ed7953"
             ],
             [
              0.7777777777777778,
              "#fb9f3a"
             ],
             [
              0.8888888888888888,
              "#fdca26"
             ],
             [
              1,
              "#f0f921"
             ]
            ],
            "type": "heatmapgl"
           }
          ],
          "histogram": [
           {
            "marker": {
             "pattern": {
              "fillmode": "overlay",
              "size": 10,
              "solidity": 0.2
             }
            },
            "type": "histogram"
           }
          ],
          "histogram2d": [
           {
            "colorbar": {
             "outlinewidth": 0,
             "ticks": ""
            },
            "colorscale": [
             [
              0,
              "#0d0887"
             ],
             [
              0.1111111111111111,
              "#46039f"
             ],
             [
              0.2222222222222222,
              "#7201a8"
             ],
             [
              0.3333333333333333,
              "#9c179e"
             ],
             [
              0.4444444444444444,
              "#bd3786"
             ],
             [
              0.5555555555555556,
              "#d8576b"
             ],
             [
              0.6666666666666666,
              "#ed7953"
             ],
             [
              0.7777777777777778,
              "#fb9f3a"
             ],
             [
              0.8888888888888888,
              "#fdca26"
             ],
             [
              1,
              "#f0f921"
             ]
            ],
            "type": "histogram2d"
           }
          ],
          "histogram2dcontour": [
           {
            "colorbar": {
             "outlinewidth": 0,
             "ticks": ""
            },
            "colorscale": [
             [
              0,
              "#0d0887"
             ],
             [
              0.1111111111111111,
              "#46039f"
             ],
             [
              0.2222222222222222,
              "#7201a8"
             ],
             [
              0.3333333333333333,
              "#9c179e"
             ],
             [
              0.4444444444444444,
              "#bd3786"
             ],
             [
              0.5555555555555556,
              "#d8576b"
             ],
             [
              0.6666666666666666,
              "#ed7953"
             ],
             [
              0.7777777777777778,
              "#fb9f3a"
             ],
             [
              0.8888888888888888,
              "#fdca26"
             ],
             [
              1,
              "#f0f921"
             ]
            ],
            "type": "histogram2dcontour"
           }
          ],
          "mesh3d": [
           {
            "colorbar": {
             "outlinewidth": 0,
             "ticks": ""
            },
            "type": "mesh3d"
           }
          ],
          "parcoords": [
           {
            "line": {
             "colorbar": {
              "outlinewidth": 0,
              "ticks": ""
             }
            },
            "type": "parcoords"
           }
          ],
          "pie": [
           {
            "automargin": true,
            "type": "pie"
           }
          ],
          "scatter": [
           {
            "fillpattern": {
             "fillmode": "overlay",
             "size": 10,
             "solidity": 0.2
            },
            "type": "scatter"
           }
          ],
          "scatter3d": [
           {
            "line": {
             "colorbar": {
              "outlinewidth": 0,
              "ticks": ""
             }
            },
            "marker": {
             "colorbar": {
              "outlinewidth": 0,
              "ticks": ""
             }
            },
            "type": "scatter3d"
           }
          ],
          "scattercarpet": [
           {
            "marker": {
             "colorbar": {
              "outlinewidth": 0,
              "ticks": ""
             }
            },
            "type": "scattercarpet"
           }
          ],
          "scattergeo": [
           {
            "marker": {
             "colorbar": {
              "outlinewidth": 0,
              "ticks": ""
             }
            },
            "type": "scattergeo"
           }
          ],
          "scattergl": [
           {
            "marker": {
             "colorbar": {
              "outlinewidth": 0,
              "ticks": ""
             }
            },
            "type": "scattergl"
           }
          ],
          "scattermapbox": [
           {
            "marker": {
             "colorbar": {
              "outlinewidth": 0,
              "ticks": ""
             }
            },
            "type": "scattermapbox"
           }
          ],
          "scatterpolar": [
           {
            "marker": {
             "colorbar": {
              "outlinewidth": 0,
              "ticks": ""
             }
            },
            "type": "scatterpolar"
           }
          ],
          "scatterpolargl": [
           {
            "marker": {
             "colorbar": {
              "outlinewidth": 0,
              "ticks": ""
             }
            },
            "type": "scatterpolargl"
           }
          ],
          "scatterternary": [
           {
            "marker": {
             "colorbar": {
              "outlinewidth": 0,
              "ticks": ""
             }
            },
            "type": "scatterternary"
           }
          ],
          "surface": [
           {
            "colorbar": {
             "outlinewidth": 0,
             "ticks": ""
            },
            "colorscale": [
             [
              0,
              "#0d0887"
             ],
             [
              0.1111111111111111,
              "#46039f"
             ],
             [
              0.2222222222222222,
              "#7201a8"
             ],
             [
              0.3333333333333333,
              "#9c179e"
             ],
             [
              0.4444444444444444,
              "#bd3786"
             ],
             [
              0.5555555555555556,
              "#d8576b"
             ],
             [
              0.6666666666666666,
              "#ed7953"
             ],
             [
              0.7777777777777778,
              "#fb9f3a"
             ],
             [
              0.8888888888888888,
              "#fdca26"
             ],
             [
              1,
              "#f0f921"
             ]
            ],
            "type": "surface"
           }
          ],
          "table": [
           {
            "cells": {
             "fill": {
              "color": "#EBF0F8"
             },
             "line": {
              "color": "white"
             }
            },
            "header": {
             "fill": {
              "color": "#C8D4E3"
             },
             "line": {
              "color": "white"
             }
            },
            "type": "table"
           }
          ]
         },
         "layout": {
          "annotationdefaults": {
           "arrowcolor": "#2a3f5f",
           "arrowhead": 0,
           "arrowwidth": 1
          },
          "autotypenumbers": "strict",
          "coloraxis": {
           "colorbar": {
            "outlinewidth": 0,
            "ticks": ""
           }
          },
          "colorscale": {
           "diverging": [
            [
             0,
             "#8e0152"
            ],
            [
             0.1,
             "#c51b7d"
            ],
            [
             0.2,
             "#de77ae"
            ],
            [
             0.3,
             "#f1b6da"
            ],
            [
             0.4,
             "#fde0ef"
            ],
            [
             0.5,
             "#f7f7f7"
            ],
            [
             0.6,
             "#e6f5d0"
            ],
            [
             0.7,
             "#b8e186"
            ],
            [
             0.8,
             "#7fbc41"
            ],
            [
             0.9,
             "#4d9221"
            ],
            [
             1,
             "#276419"
            ]
           ],
           "sequential": [
            [
             0,
             "#0d0887"
            ],
            [
             0.1111111111111111,
             "#46039f"
            ],
            [
             0.2222222222222222,
             "#7201a8"
            ],
            [
             0.3333333333333333,
             "#9c179e"
            ],
            [
             0.4444444444444444,
             "#bd3786"
            ],
            [
             0.5555555555555556,
             "#d8576b"
            ],
            [
             0.6666666666666666,
             "#ed7953"
            ],
            [
             0.7777777777777778,
             "#fb9f3a"
            ],
            [
             0.8888888888888888,
             "#fdca26"
            ],
            [
             1,
             "#f0f921"
            ]
           ],
           "sequentialminus": [
            [
             0,
             "#0d0887"
            ],
            [
             0.1111111111111111,
             "#46039f"
            ],
            [
             0.2222222222222222,
             "#7201a8"
            ],
            [
             0.3333333333333333,
             "#9c179e"
            ],
            [
             0.4444444444444444,
             "#bd3786"
            ],
            [
             0.5555555555555556,
             "#d8576b"
            ],
            [
             0.6666666666666666,
             "#ed7953"
            ],
            [
             0.7777777777777778,
             "#fb9f3a"
            ],
            [
             0.8888888888888888,
             "#fdca26"
            ],
            [
             1,
             "#f0f921"
            ]
           ]
          },
          "colorway": [
           "#636efa",
           "#EF553B",
           "#00cc96",
           "#ab63fa",
           "#FFA15A",
           "#19d3f3",
           "#FF6692",
           "#B6E880",
           "#FF97FF",
           "#FECB52"
          ],
          "font": {
           "color": "#2a3f5f"
          },
          "geo": {
           "bgcolor": "white",
           "lakecolor": "white",
           "landcolor": "#E5ECF6",
           "showlakes": true,
           "showland": true,
           "subunitcolor": "white"
          },
          "hoverlabel": {
           "align": "left"
          },
          "hovermode": "closest",
          "mapbox": {
           "style": "light"
          },
          "paper_bgcolor": "white",
          "plot_bgcolor": "#E5ECF6",
          "polar": {
           "angularaxis": {
            "gridcolor": "white",
            "linecolor": "white",
            "ticks": ""
           },
           "bgcolor": "#E5ECF6",
           "radialaxis": {
            "gridcolor": "white",
            "linecolor": "white",
            "ticks": ""
           }
          },
          "scene": {
           "xaxis": {
            "backgroundcolor": "#E5ECF6",
            "gridcolor": "white",
            "gridwidth": 2,
            "linecolor": "white",
            "showbackground": true,
            "ticks": "",
            "zerolinecolor": "white"
           },
           "yaxis": {
            "backgroundcolor": "#E5ECF6",
            "gridcolor": "white",
            "gridwidth": 2,
            "linecolor": "white",
            "showbackground": true,
            "ticks": "",
            "zerolinecolor": "white"
           },
           "zaxis": {
            "backgroundcolor": "#E5ECF6",
            "gridcolor": "white",
            "gridwidth": 2,
            "linecolor": "white",
            "showbackground": true,
            "ticks": "",
            "zerolinecolor": "white"
           }
          },
          "shapedefaults": {
           "line": {
            "color": "#2a3f5f"
           }
          },
          "ternary": {
           "aaxis": {
            "gridcolor": "white",
            "linecolor": "white",
            "ticks": ""
           },
           "baxis": {
            "gridcolor": "white",
            "linecolor": "white",
            "ticks": ""
           },
           "bgcolor": "#E5ECF6",
           "caxis": {
            "gridcolor": "white",
            "linecolor": "white",
            "ticks": ""
           }
          },
          "title": {
           "x": 0.05
          },
          "xaxis": {
           "automargin": true,
           "gridcolor": "white",
           "linecolor": "white",
           "ticks": "",
           "title": {
            "standoff": 15
           },
           "zerolinecolor": "white",
           "zerolinewidth": 2
          },
          "yaxis": {
           "automargin": true,
           "gridcolor": "white",
           "linecolor": "white",
           "ticks": "",
           "title": {
            "standoff": 15
           },
           "zerolinecolor": "white",
           "zerolinewidth": 2
          }
         }
        },
        "title": {
         "text": "Univariate drift metrics"
        },
        "xaxis": {
         "anchor": "y",
         "domain": [
          0,
          1
         ],
         "linecolor": "#3b0280",
         "matches": "x",
         "mirror": true,
         "showgrid": false,
         "title": {
          "text": "Time"
         },
         "zeroline": false
        },
        "xaxis10": {
         "anchor": "y10",
         "domain": [
          0,
          1
         ],
         "linecolor": "#3b0280",
         "matches": "x",
         "mirror": true,
         "showgrid": false,
         "title": {
          "text": "Time"
         },
         "zeroline": false
        },
        "xaxis2": {
         "anchor": "y2",
         "domain": [
          0,
          1
         ],
         "linecolor": "#3b0280",
         "matches": "x",
         "mirror": true,
         "showgrid": false,
         "title": {
          "text": "Time"
         },
         "zeroline": false
        },
        "xaxis3": {
         "anchor": "y3",
         "domain": [
          0,
          1
         ],
         "linecolor": "#3b0280",
         "matches": "x",
         "mirror": true,
         "showgrid": false,
         "title": {
          "text": "Time"
         },
         "zeroline": false
        },
        "xaxis4": {
         "anchor": "y4",
         "domain": [
          0,
          1
         ],
         "linecolor": "#3b0280",
         "matches": "x",
         "mirror": true,
         "showgrid": false,
         "title": {
          "text": "Time"
         },
         "zeroline": false
        },
        "xaxis5": {
         "anchor": "y5",
         "domain": [
          0,
          1
         ],
         "linecolor": "#3b0280",
         "matches": "x",
         "mirror": true,
         "showgrid": false,
         "title": {
          "text": "Time"
         },
         "zeroline": false
        },
        "xaxis6": {
         "anchor": "y6",
         "domain": [
          0,
          1
         ],
         "linecolor": "#3b0280",
         "matches": "x",
         "mirror": true,
         "showgrid": false,
         "title": {
          "text": "Time"
         },
         "zeroline": false
        },
        "xaxis7": {
         "anchor": "y7",
         "domain": [
          0,
          1
         ],
         "linecolor": "#3b0280",
         "matches": "x",
         "mirror": true,
         "showgrid": false,
         "title": {
          "text": "Time"
         },
         "zeroline": false
        },
        "xaxis8": {
         "anchor": "y8",
         "domain": [
          0,
          1
         ],
         "linecolor": "#3b0280",
         "matches": "x",
         "mirror": true,
         "showgrid": false,
         "title": {
          "text": "Time"
         },
         "zeroline": false
        },
        "xaxis9": {
         "anchor": "y9",
         "domain": [
          0,
          1
         ],
         "linecolor": "#3b0280",
         "matches": "x",
         "mirror": true,
         "showgrid": false,
         "title": {
          "text": "Time"
         },
         "zeroline": false
        },
        "yaxis": {
         "anchor": "x",
         "domain": [
          0.9450000000000001,
          1
         ],
         "linecolor": "#3b0280",
         "mirror": true,
         "showgrid": false,
         "title": {
          "text": "Jensen-Shannon distance"
         },
         "zeroline": false
        },
        "yaxis10": {
         "anchor": "x10",
         "domain": [
          0,
          0.05500000000000001
         ],
         "linecolor": "#3b0280",
         "mirror": true,
         "showgrid": false,
         "title": {
          "text": "Jensen-Shannon distance"
         },
         "zeroline": false
        },
        "yaxis2": {
         "anchor": "x2",
         "domain": [
          0.8400000000000001,
          0.8950000000000001
         ],
         "linecolor": "#3b0280",
         "mirror": true,
         "showgrid": false,
         "title": {
          "text": "Jensen-Shannon distance"
         },
         "zeroline": false
        },
        "yaxis3": {
         "anchor": "x3",
         "domain": [
          0.7350000000000001,
          0.7900000000000001
         ],
         "linecolor": "#3b0280",
         "mirror": true,
         "showgrid": false,
         "title": {
          "text": "Jensen-Shannon distance"
         },
         "zeroline": false
        },
        "yaxis4": {
         "anchor": "x4",
         "domain": [
          0.6300000000000001,
          0.6850000000000002
         ],
         "linecolor": "#3b0280",
         "mirror": true,
         "showgrid": false,
         "title": {
          "text": "Jensen-Shannon distance"
         },
         "zeroline": false
        },
        "yaxis5": {
         "anchor": "x5",
         "domain": [
          0.525,
          0.5800000000000001
         ],
         "linecolor": "#3b0280",
         "mirror": true,
         "showgrid": false,
         "title": {
          "text": "Jensen-Shannon distance"
         },
         "zeroline": false
        },
        "yaxis6": {
         "anchor": "x6",
         "domain": [
          0.42000000000000004,
          0.47500000000000003
         ],
         "linecolor": "#3b0280",
         "mirror": true,
         "showgrid": false,
         "title": {
          "text": "Jensen-Shannon distance"
         },
         "zeroline": false
        },
        "yaxis7": {
         "anchor": "x7",
         "domain": [
          0.31500000000000006,
          0.37000000000000005
         ],
         "linecolor": "#3b0280",
         "mirror": true,
         "showgrid": false,
         "title": {
          "text": "Jensen-Shannon distance"
         },
         "zeroline": false
        },
        "yaxis8": {
         "anchor": "x8",
         "domain": [
          0.21000000000000002,
          0.265
         ],
         "linecolor": "#3b0280",
         "mirror": true,
         "showgrid": false,
         "title": {
          "text": "Jensen-Shannon distance"
         },
         "zeroline": false
        },
        "yaxis9": {
         "anchor": "x9",
         "domain": [
          0.10500000000000001,
          0.16000000000000003
         ],
         "linecolor": "#3b0280",
         "mirror": true,
         "showgrid": false,
         "title": {
          "text": "Jensen-Shannon distance"
         },
         "zeroline": false
        }
       }
      }
     },
     "metadata": {},
     "output_type": "display_data"
    }
   ],
   "source": [
    "calc = nml.UnivariateDriftCalculator(\n",
    "\n",
    "    column_names=important_columns,\n",
    "\n",
    "    # treat_as_categorical=['binarized'],\n",
    "\n",
    "    timestamp_column_name='timestamp',\n",
    "\n",
    "    continuous_methods=['kolmogorov_smirnov', 'jensen_shannon'],\n",
    "\n",
    "    categorical_methods=['chi2', 'jensen_shannon'],\n",
    "\n",
    ")\n",
    "\n",
    "calc.fit(reference)\n",
    "\n",
    "results = calc.calculate(analysis)\n",
    "\n",
    "\n",
    "figure = results.filter(column_names=results.continuous_column_names, methods=['jensen_shannon']).plot(kind='drift')\n",
    "\n",
    "figure.show()"
   ]
  },
  {
   "cell_type": "code",
   "execution_count": 46,
   "metadata": {},
   "outputs": [
    {
     "ename": "ZeroDivisionError",
     "evalue": "division by zero",
     "output_type": "error",
     "traceback": [
      "\u001b[1;31m---------------------------------------------------------------------------\u001b[0m",
      "\u001b[1;31mFileNotFoundError\u001b[0m                         Traceback (most recent call last)",
      "File \u001b[1;32mc:\\Users\\jkick\\.conda\\envs\\housepricing\\lib\\site-packages\\nannyml\\usage_logging.py:208\u001b[0m, in \u001b[0;36mlog_usage.<locals>.logging_decorator.<locals>.logging_wrapper\u001b[1;34m(*args, **kwargs)\u001b[0m\n\u001b[0;32m    207\u001b[0m     \u001b[39m# log the event\u001b[39;00m\n\u001b[1;32m--> 208\u001b[0m     logger\u001b[39m.\u001b[39;49mlog(usage_event, md)\n\u001b[0;32m    209\u001b[0m \u001b[39mfinally\u001b[39;00m:\n",
      "File \u001b[1;32mc:\\Users\\jkick\\.conda\\envs\\housepricing\\lib\\site-packages\\nannyml\\usage_logging.py:102\u001b[0m, in \u001b[0;36mUsageLogger.log\u001b[1;34m(self, usage_event, metadata)\u001b[0m\n\u001b[0;32m    101\u001b[0m     metadata \u001b[39m=\u001b[39m {}\n\u001b[1;32m--> 102\u001b[0m \u001b[39mself\u001b[39;49m\u001b[39m.\u001b[39;49m_log(usage_event, metadata)\n\u001b[0;32m    103\u001b[0m \u001b[39mself\u001b[39m\u001b[39m.\u001b[39m_logger\u001b[39m.\u001b[39mdebug(\u001b[39mf\u001b[39m\u001b[39m\"\u001b[39m\u001b[39mlogged usage for event \u001b[39m\u001b[39m{\u001b[39;00musage_event\u001b[39m}\u001b[39;00m\u001b[39m with metadata \u001b[39m\u001b[39m{\u001b[39;00mmetadata\u001b[39m}\u001b[39;00m\u001b[39m\"\u001b[39m)\n",
      "File \u001b[1;32mc:\\Users\\jkick\\.conda\\envs\\housepricing\\lib\\site-packages\\nannyml\\usage_logging.py:132\u001b[0m, in \u001b[0;36mSegmentUsageTracker._log\u001b[1;34m(self, usage_event, metadata)\u001b[0m\n\u001b[0;32m    131\u001b[0m user_id \u001b[39m=\u001b[39m \u001b[39mstr\u001b[39m(uuid\u001b[39m.\u001b[39mUUID(\u001b[39mint\u001b[39m\u001b[39m=\u001b[39muuid\u001b[39m.\u001b[39mgetnode()))\n\u001b[1;32m--> 132\u001b[0m metadata\u001b[39m.\u001b[39mupdate(_get_system_information())\n\u001b[0;32m    133\u001b[0m segment_analytics\u001b[39m.\u001b[39mtrack(user_id, usage_event\u001b[39m.\u001b[39mvalue, metadata)\n",
      "File \u001b[1;32mc:\\Users\\jkick\\.conda\\envs\\housepricing\\lib\\site-packages\\nannyml\\usage_logging.py:223\u001b[0m, in \u001b[0;36m_get_system_information\u001b[1;34m()\u001b[0m\n\u001b[0;32m    220\u001b[0m \u001b[39mdef\u001b[39;00m \u001b[39m_get_system_information\u001b[39m() \u001b[39m-\u001b[39m\u001b[39m>\u001b[39m Dict[\u001b[39mstr\u001b[39m, Any]:\n\u001b[0;32m    221\u001b[0m     \u001b[39mreturn\u001b[39;00m {\n\u001b[0;32m    222\u001b[0m         \u001b[39m\"\u001b[39m\u001b[39mos_type\u001b[39m\u001b[39m\"\u001b[39m: platform\u001b[39m.\u001b[39msystem(),\n\u001b[1;32m--> 223\u001b[0m         \u001b[39m\"\u001b[39m\u001b[39mruntime_environment\u001b[39m\u001b[39m\"\u001b[39m: _get_runtime_environment(),\n\u001b[0;32m    224\u001b[0m         \u001b[39m\"\u001b[39m\u001b[39mpython_version\u001b[39m\u001b[39m\"\u001b[39m: platform\u001b[39m.\u001b[39mpython_version(),\n\u001b[0;32m    225\u001b[0m         \u001b[39m\"\u001b[39m\u001b[39mnannyml_version\u001b[39m\u001b[39m\"\u001b[39m: __version__,\n\u001b[0;32m    226\u001b[0m     }\n",
      "File \u001b[1;32mc:\\Users\\jkick\\.conda\\envs\\housepricing\\lib\\site-packages\\nannyml\\usage_logging.py:230\u001b[0m, in \u001b[0;36m_get_runtime_environment\u001b[1;34m()\u001b[0m\n\u001b[0;32m    229\u001b[0m \u001b[39mdef\u001b[39;00m \u001b[39m_get_runtime_environment\u001b[39m():\n\u001b[1;32m--> 230\u001b[0m     \u001b[39mif\u001b[39;00m _is_running_in_docker():\n\u001b[0;32m    231\u001b[0m         \u001b[39mreturn\u001b[39;00m \u001b[39m'\u001b[39m\u001b[39mdocker\u001b[39m\u001b[39m'\u001b[39m\n",
      "File \u001b[1;32mc:\\Users\\jkick\\.conda\\envs\\housepricing\\lib\\site-packages\\nannyml\\usage_logging.py:243\u001b[0m, in \u001b[0;36m_is_running_in_docker\u001b[1;34m()\u001b[0m\n\u001b[0;32m    241\u001b[0m     \u001b[39mreturn\u001b[39;00m \u001b[39mTrue\u001b[39;00m\n\u001b[1;32m--> 243\u001b[0m \u001b[39mif\u001b[39;00m \u001b[39many\u001b[39m(\u001b[39m'\u001b[39m\u001b[39mdocker\u001b[39m\u001b[39m'\u001b[39m \u001b[39min\u001b[39;00m line \u001b[39mfor\u001b[39;00m line \u001b[39min\u001b[39;00m Path(\u001b[39m'\u001b[39;49m\u001b[39m/proc/self/cgroup\u001b[39;49m\u001b[39m'\u001b[39;49m)\u001b[39m.\u001b[39;49mopen()):\n\u001b[0;32m    244\u001b[0m     \u001b[39mreturn\u001b[39;00m \u001b[39mTrue\u001b[39;00m\n",
      "File \u001b[1;32mc:\\Users\\jkick\\.conda\\envs\\housepricing\\lib\\pathlib.py:1252\u001b[0m, in \u001b[0;36mPath.open\u001b[1;34m(self, mode, buffering, encoding, errors, newline)\u001b[0m\n\u001b[0;32m   1248\u001b[0m \u001b[39m\u001b[39m\u001b[39m\"\"\"\u001b[39;00m\n\u001b[0;32m   1249\u001b[0m \u001b[39mOpen the file pointed by this path and return a file object, as\u001b[39;00m\n\u001b[0;32m   1250\u001b[0m \u001b[39mthe built-in open() function does.\u001b[39;00m\n\u001b[0;32m   1251\u001b[0m \u001b[39m\"\"\"\u001b[39;00m\n\u001b[1;32m-> 1252\u001b[0m \u001b[39mreturn\u001b[39;00m io\u001b[39m.\u001b[39;49mopen(\u001b[39mself\u001b[39;49m, mode, buffering, encoding, errors, newline,\n\u001b[0;32m   1253\u001b[0m                opener\u001b[39m=\u001b[39;49m\u001b[39mself\u001b[39;49m\u001b[39m.\u001b[39;49m_opener)\n",
      "File \u001b[1;32mc:\\Users\\jkick\\.conda\\envs\\housepricing\\lib\\pathlib.py:1120\u001b[0m, in \u001b[0;36mPath._opener\u001b[1;34m(self, name, flags, mode)\u001b[0m\n\u001b[0;32m   1118\u001b[0m \u001b[39mdef\u001b[39;00m \u001b[39m_opener\u001b[39m(\u001b[39mself\u001b[39m, name, flags, mode\u001b[39m=\u001b[39m\u001b[39m0o666\u001b[39m):\n\u001b[0;32m   1119\u001b[0m     \u001b[39m# A stub for the opener argument to built-in open()\u001b[39;00m\n\u001b[1;32m-> 1120\u001b[0m     \u001b[39mreturn\u001b[39;00m \u001b[39mself\u001b[39;49m\u001b[39m.\u001b[39;49m_accessor\u001b[39m.\u001b[39;49mopen(\u001b[39mself\u001b[39;49m, flags, mode)\n",
      "\u001b[1;31mFileNotFoundError\u001b[0m: [Errno 2] No such file or directory: '\\\\proc\\\\self\\\\cgroup'",
      "\nDuring handling of the above exception, another exception occurred:\n",
      "\u001b[1;31mZeroDivisionError\u001b[0m                         Traceback (most recent call last)",
      "Cell \u001b[1;32mIn[46], line 1\u001b[0m\n\u001b[1;32m----> 1\u001b[0m figure \u001b[39m=\u001b[39m results\u001b[39m.\u001b[39;49mfilter(column_names\u001b[39m=\u001b[39;49mresults\u001b[39m.\u001b[39;49mcategorical_column_names, methods\u001b[39m=\u001b[39;49m[\u001b[39m'\u001b[39;49m\u001b[39mchi2\u001b[39;49m\u001b[39m'\u001b[39;49m])\u001b[39m.\u001b[39;49mplot(kind\u001b[39m=\u001b[39;49m\u001b[39m'\u001b[39;49m\u001b[39mdrift\u001b[39;49m\u001b[39m'\u001b[39;49m)\n\u001b[0;32m      3\u001b[0m figure\u001b[39m.\u001b[39mshow()\n",
      "File \u001b[1;32mc:\\Users\\jkick\\.conda\\envs\\housepricing\\lib\\site-packages\\nannyml\\usage_logging.py:211\u001b[0m, in \u001b[0;36mlog_usage.<locals>.logging_decorator.<locals>.logging_wrapper\u001b[1;34m(*args, **kwargs)\u001b[0m\n\u001b[0;32m    209\u001b[0m \u001b[39mfinally\u001b[39;00m:\n\u001b[0;32m    210\u001b[0m     \u001b[39mif\u001b[39;00m runtime_exception \u001b[39mis\u001b[39;00m \u001b[39mnot\u001b[39;00m \u001b[39mNone\u001b[39;00m:\n\u001b[1;32m--> 211\u001b[0m         \u001b[39mraise\u001b[39;00m runtime_exception\n\u001b[0;32m    212\u001b[0m     \u001b[39melse\u001b[39;00m:\n\u001b[0;32m    213\u001b[0m         \u001b[39mreturn\u001b[39;00m res\n",
      "File \u001b[1;32mc:\\Users\\jkick\\.conda\\envs\\housepricing\\lib\\site-packages\\nannyml\\usage_logging.py:160\u001b[0m, in \u001b[0;36mlog_usage.<locals>.logging_decorator.<locals>.logging_wrapper\u001b[1;34m(*args, **kwargs)\u001b[0m\n\u001b[0;32m    157\u001b[0m runtime_exception \u001b[39m=\u001b[39m \u001b[39mNone\u001b[39;00m\n\u001b[0;32m    158\u001b[0m \u001b[39mtry\u001b[39;00m:\n\u001b[0;32m    159\u001b[0m     \u001b[39m# run original function\u001b[39;00m\n\u001b[1;32m--> 160\u001b[0m     res \u001b[39m=\u001b[39m func(\u001b[39m*\u001b[39margs, \u001b[39m*\u001b[39m\u001b[39m*\u001b[39mkwargs)\n\u001b[0;32m    161\u001b[0m \u001b[39mexcept\u001b[39;00m \u001b[39mBaseException\u001b[39;00m \u001b[39mas\u001b[39;00m exc:\n\u001b[0;32m    162\u001b[0m     runtime_exception \u001b[39m=\u001b[39m exc\n",
      "File \u001b[1;32mc:\\Users\\jkick\\.conda\\envs\\housepricing\\lib\\site-packages\\nannyml\\drift\\univariate\\result.py:234\u001b[0m, in \u001b[0;36mResult.plot\u001b[1;34m(self, kind, *args, **kwargs)\u001b[0m\n\u001b[0;32m    193\u001b[0m \u001b[39m\u001b[39m\u001b[39m\"\"\"Renders plots for metrics returned by the univariate distance drift calculator.\u001b[39;00m\n\u001b[0;32m    194\u001b[0m \n\u001b[0;32m    195\u001b[0m \u001b[39mFor any feature you can render the statistic value or p-values as a step plot, or create a distribution plot.\u001b[39;00m\n\u001b[1;32m   (...)\u001b[0m\n\u001b[0;32m    231\u001b[0m \n\u001b[0;32m    232\u001b[0m \u001b[39m\"\"\"\u001b[39;00m\n\u001b[0;32m    233\u001b[0m \u001b[39mif\u001b[39;00m kind \u001b[39m==\u001b[39m \u001b[39m'\u001b[39m\u001b[39mdrift\u001b[39m\u001b[39m'\u001b[39m:\n\u001b[1;32m--> 234\u001b[0m     \u001b[39mreturn\u001b[39;00m plot_metrics(\n\u001b[0;32m    235\u001b[0m         \u001b[39mself\u001b[39;49m,\n\u001b[0;32m    236\u001b[0m         title\u001b[39m=\u001b[39;49m\u001b[39m'\u001b[39;49m\u001b[39mUnivariate drift metrics\u001b[39;49m\u001b[39m'\u001b[39;49m,\n\u001b[0;32m    237\u001b[0m         hover\u001b[39m=\u001b[39;49mHover(\n\u001b[0;32m    238\u001b[0m             template\u001b[39m=\u001b[39;49m\u001b[39m'\u001b[39;49m\u001b[39m%\u001b[39;49m\u001b[39m{period}\u001b[39;49;00m\u001b[39m &nbsp; &nbsp; \u001b[39;49m\u001b[39m%\u001b[39;49m\u001b[39m{alert}\u001b[39;49;00m\u001b[39m <br />\u001b[39;49m\u001b[39m'\u001b[39;49m\n\u001b[0;32m    239\u001b[0m             \u001b[39m'\u001b[39;49m\u001b[39mChunk: <b>\u001b[39;49m\u001b[39m%\u001b[39;49m\u001b[39m{chunk_key}\u001b[39;49;00m\u001b[39m</b> &nbsp; &nbsp; \u001b[39;49m\u001b[39m%\u001b[39;49m\u001b[39m{x_coordinate}\u001b[39;49;00m\u001b[39m <br />\u001b[39;49m\u001b[39m'\u001b[39;49m\n\u001b[0;32m    240\u001b[0m             \u001b[39m'\u001b[39;49m\u001b[39m%\u001b[39;49m\u001b[39m{metric_name}\u001b[39;49;00m\u001b[39m: <b>\u001b[39;49m\u001b[39m%\u001b[39;49m\u001b[39m{metric_value}\u001b[39;49;00m\u001b[39m</b><b r />\u001b[39;49m\u001b[39m'\u001b[39;49m,\n\u001b[0;32m    241\u001b[0m             show_extra\u001b[39m=\u001b[39;49m\u001b[39mTrue\u001b[39;49;00m,\n\u001b[0;32m    242\u001b[0m         ),\n\u001b[0;32m    243\u001b[0m         subplot_title_format\u001b[39m=\u001b[39;49m\u001b[39m'\u001b[39;49m\u001b[39m{display_names[1]}\u001b[39;49;00m\u001b[39m for <b>\u001b[39;49m\u001b[39m{display_names[0]}\u001b[39;49;00m\u001b[39m</b>\u001b[39;49m\u001b[39m'\u001b[39;49m,\n\u001b[0;32m    244\u001b[0m         subplot_y_axis_title_format\u001b[39m=\u001b[39;49m\u001b[39m'\u001b[39;49m\u001b[39m{display_names[1]}\u001b[39;49;00m\u001b[39m'\u001b[39;49m,\n\u001b[0;32m    245\u001b[0m         color\u001b[39m=\u001b[39;49mColors\u001b[39m.\u001b[39;49mBLUE_SKY_CRAYOLA,\n\u001b[0;32m    246\u001b[0m         metric_name\u001b[39m=\u001b[39;49m\u001b[39m'\u001b[39;49m\u001b[39mMethod\u001b[39;49m\u001b[39m'\u001b[39;49m,\n\u001b[0;32m    247\u001b[0m     )\n\u001b[0;32m    248\u001b[0m \u001b[39melif\u001b[39;00m kind \u001b[39m==\u001b[39m \u001b[39m'\u001b[39m\u001b[39mdistribution\u001b[39m\u001b[39m'\u001b[39m:\n\u001b[0;32m    249\u001b[0m     \u001b[39mreturn\u001b[39;00m plot_distributions(\n\u001b[0;32m    250\u001b[0m         \u001b[39mself\u001b[39m,\n\u001b[0;32m    251\u001b[0m         reference_data\u001b[39m=\u001b[39m\u001b[39mself\u001b[39m\u001b[39m.\u001b[39mreference_data,\n\u001b[0;32m    252\u001b[0m         analysis_data\u001b[39m=\u001b[39m\u001b[39mself\u001b[39m\u001b[39m.\u001b[39manalysis_data,\n\u001b[0;32m    253\u001b[0m         chunker\u001b[39m=\u001b[39m\u001b[39mself\u001b[39m\u001b[39m.\u001b[39mchunker,\n\u001b[0;32m    254\u001b[0m     )\n",
      "File \u001b[1;32mc:\\Users\\jkick\\.conda\\envs\\housepricing\\lib\\site-packages\\nannyml\\plots\\blueprints\\metrics.py:46\u001b[0m, in \u001b[0;36mplot_metrics\u001b[1;34m(result, title, x_axis_time_title, x_axis_chunk_title, y_axis_title, figure_args, subplot_title_format, subplot_y_axis_title_format, number_of_columns, hover, **kwargs)\u001b[0m\n\u001b[0;32m     35\u001b[0m \u001b[39mif\u001b[39;00m figure_args \u001b[39mis\u001b[39;00m \u001b[39mNone\u001b[39;00m:\n\u001b[0;32m     36\u001b[0m     figure_args \u001b[39m=\u001b[39m {}\n\u001b[0;32m     38\u001b[0m figure \u001b[39m=\u001b[39m Figure(\n\u001b[0;32m     39\u001b[0m     \u001b[39m*\u001b[39m\u001b[39m*\u001b[39m\u001b[39mdict\u001b[39m(\n\u001b[0;32m     40\u001b[0m         title\u001b[39m=\u001b[39mtitle,\n\u001b[0;32m     41\u001b[0m         x_axis_title\u001b[39m=\u001b[39mx_axis_time_title\n\u001b[0;32m     42\u001b[0m         \u001b[39mif\u001b[39;00m is_time_based_x_axis(result\u001b[39m.\u001b[39mchunk_start_dates, result\u001b[39m.\u001b[39mchunk_end_dates)\n\u001b[0;32m     43\u001b[0m         \u001b[39melse\u001b[39;00m x_axis_chunk_title,\n\u001b[0;32m     44\u001b[0m         y_axis_title\u001b[39m=\u001b[39my_axis_title,\n\u001b[0;32m     45\u001b[0m         legend\u001b[39m=\u001b[39m\u001b[39mdict\u001b[39m(traceorder\u001b[39m=\u001b[39m\u001b[39m\"\u001b[39m\u001b[39mgrouped\u001b[39m\u001b[39m\"\u001b[39m, itemclick\u001b[39m=\u001b[39m\u001b[39mFalse\u001b[39;00m, itemdoubleclick\u001b[39m=\u001b[39m\u001b[39mFalse\u001b[39;00m),\n\u001b[1;32m---> 46\u001b[0m         height\u001b[39m=\u001b[39m\u001b[39mlen\u001b[39;49m(result\u001b[39m.\u001b[39;49mkeys()) \u001b[39m*\u001b[39;49m \u001b[39m500\u001b[39;49m \u001b[39m/\u001b[39;49m number_of_columns,\n\u001b[0;32m     47\u001b[0m         subplot_args\u001b[39m=\u001b[39m\u001b[39mdict\u001b[39m(\n\u001b[0;32m     48\u001b[0m             cols\u001b[39m=\u001b[39mnumber_of_columns,\n\u001b[0;32m     49\u001b[0m             rows\u001b[39m=\u001b[39mmath\u001b[39m.\u001b[39mceil(\u001b[39mlen\u001b[39m(result\u001b[39m.\u001b[39mkeys()) \u001b[39m/\u001b[39m number_of_columns),\n\u001b[0;32m     50\u001b[0m             subplot_titles\u001b[39m=\u001b[39m[subplot_title_format\u001b[39m.\u001b[39mformat(display_names\u001b[39m=\u001b[39mkey\u001b[39m.\u001b[39mdisplay_names) \u001b[39mfor\u001b[39;00m key \u001b[39min\u001b[39;00m result\u001b[39m.\u001b[39mkeys()],\n\u001b[0;32m     51\u001b[0m         ),\n\u001b[0;32m     52\u001b[0m         \u001b[39m*\u001b[39m\u001b[39m*\u001b[39mfigure_args,\n\u001b[0;32m     53\u001b[0m     )\n\u001b[0;32m     54\u001b[0m )\n\u001b[0;32m     56\u001b[0m \u001b[39mfor\u001b[39;00m idx, key \u001b[39min\u001b[39;00m \u001b[39menumerate\u001b[39m(result\u001b[39m.\u001b[39mkeys()):\n\u001b[0;32m     57\u001b[0m     row \u001b[39m=\u001b[39m (idx \u001b[39m/\u001b[39m\u001b[39m/\u001b[39m number_of_columns) \u001b[39m+\u001b[39m \u001b[39m1\u001b[39m\n",
      "\u001b[1;31mZeroDivisionError\u001b[0m: division by zero"
     ]
    }
   ],
   "source": [
    "figure = results.filter(column_names=results.categorical_column_names, methods=['chi2']).plot(kind='drift')\n",
    "\n",
    "figure.show()"
   ]
  },
  {
   "cell_type": "code",
   "execution_count": 24,
   "metadata": {},
   "outputs": [],
   "source": [
    "prediction = pd.read_csv('../data/07_model_output/df_with_predict.csv')"
   ]
  },
  {
   "cell_type": "code",
   "execution_count": 29,
   "metadata": {},
   "outputs": [
    {
     "data": {
      "text/html": [
       "<div>\n",
       "<style scoped>\n",
       "    .dataframe tbody tr th:only-of-type {\n",
       "        vertical-align: middle;\n",
       "    }\n",
       "\n",
       "    .dataframe tbody tr th {\n",
       "        vertical-align: top;\n",
       "    }\n",
       "\n",
       "    .dataframe thead th {\n",
       "        text-align: right;\n",
       "    }\n",
       "</style>\n",
       "<table border=\"1\" class=\"dataframe\">\n",
       "  <thead>\n",
       "    <tr style=\"text-align: right;\">\n",
       "      <th></th>\n",
       "      <th>numerical__numerical__MSSubClass</th>\n",
       "      <th>numerical__numerical__LotFrontage</th>\n",
       "      <th>numerical__numerical__LotArea</th>\n",
       "      <th>numerical__numerical__OverallQual</th>\n",
       "      <th>numerical__numerical__OverallCond</th>\n",
       "      <th>numerical__numerical__YearBuilt</th>\n",
       "      <th>numerical__numerical__YearRemodAdd</th>\n",
       "      <th>numerical__numerical__MasVnrArea</th>\n",
       "      <th>numerical__numerical__BsmtFinSF1</th>\n",
       "      <th>numerical__numerical__BsmtFinSF2</th>\n",
       "      <th>...</th>\n",
       "      <th>categorical__categorical__SaleType_New</th>\n",
       "      <th>categorical__categorical__SaleType_Oth</th>\n",
       "      <th>categorical__categorical__SaleType_WD</th>\n",
       "      <th>categorical__categorical__SaleCondition_Abnorml</th>\n",
       "      <th>categorical__categorical__SaleCondition_AdjLand</th>\n",
       "      <th>categorical__categorical__SaleCondition_Alloca</th>\n",
       "      <th>categorical__categorical__SaleCondition_Family</th>\n",
       "      <th>categorical__categorical__SaleCondition_Normal</th>\n",
       "      <th>categorical__categorical__SaleCondition_Partial</th>\n",
       "      <th>y_pred</th>\n",
       "    </tr>\n",
       "  </thead>\n",
       "  <tbody>\n",
       "    <tr>\n",
       "      <th>0</th>\n",
       "      <td>-0.6</td>\n",
       "      <td>-0.018097</td>\n",
       "      <td>-0.288372</td>\n",
       "      <td>0.0</td>\n",
       "      <td>3.0</td>\n",
       "      <td>-0.187500</td>\n",
       "      <td>0.236842</td>\n",
       "      <td>0.000000</td>\n",
       "      <td>0.386269</td>\n",
       "      <td>0.0</td>\n",
       "      <td>...</td>\n",
       "      <td>0.0</td>\n",
       "      <td>0.0</td>\n",
       "      <td>1.0</td>\n",
       "      <td>0.0</td>\n",
       "      <td>0.0</td>\n",
       "      <td>0.0</td>\n",
       "      <td>0.0</td>\n",
       "      <td>1.0</td>\n",
       "      <td>0.0</td>\n",
       "      <td>137533.376869</td>\n",
       "    </tr>\n",
       "    <tr>\n",
       "      <th>1</th>\n",
       "      <td>0.2</td>\n",
       "      <td>1.455587</td>\n",
       "      <td>0.645797</td>\n",
       "      <td>1.0</td>\n",
       "      <td>0.0</td>\n",
       "      <td>0.458333</td>\n",
       "      <td>0.026316</td>\n",
       "      <td>2.180723</td>\n",
       "      <td>0.898058</td>\n",
       "      <td>0.0</td>\n",
       "      <td>...</td>\n",
       "      <td>0.0</td>\n",
       "      <td>0.0</td>\n",
       "      <td>1.0</td>\n",
       "      <td>0.0</td>\n",
       "      <td>0.0</td>\n",
       "      <td>0.0</td>\n",
       "      <td>0.0</td>\n",
       "      <td>1.0</td>\n",
       "      <td>0.0</td>\n",
       "      <td>298351.239230</td>\n",
       "    </tr>\n",
       "    <tr>\n",
       "      <th>2</th>\n",
       "      <td>-0.4</td>\n",
       "      <td>-0.754939</td>\n",
       "      <td>-0.155614</td>\n",
       "      <td>-0.5</td>\n",
       "      <td>1.0</td>\n",
       "      <td>-0.937500</td>\n",
       "      <td>-1.157895</td>\n",
       "      <td>0.000000</td>\n",
       "      <td>-0.533287</td>\n",
       "      <td>0.0</td>\n",
       "      <td>...</td>\n",
       "      <td>0.0</td>\n",
       "      <td>0.0</td>\n",
       "      <td>1.0</td>\n",
       "      <td>0.0</td>\n",
       "      <td>0.0</td>\n",
       "      <td>0.0</td>\n",
       "      <td>0.0</td>\n",
       "      <td>1.0</td>\n",
       "      <td>0.0</td>\n",
       "      <td>125230.692480</td>\n",
       "    </tr>\n",
       "    <tr>\n",
       "      <th>3</th>\n",
       "      <td>0.0</td>\n",
       "      <td>-1.070729</td>\n",
       "      <td>-1.118473</td>\n",
       "      <td>0.0</td>\n",
       "      <td>2.0</td>\n",
       "      <td>-0.520833</td>\n",
       "      <td>-1.157895</td>\n",
       "      <td>0.000000</td>\n",
       "      <td>0.020111</td>\n",
       "      <td>0.0</td>\n",
       "      <td>...</td>\n",
       "      <td>0.0</td>\n",
       "      <td>0.0</td>\n",
       "      <td>1.0</td>\n",
       "      <td>0.0</td>\n",
       "      <td>0.0</td>\n",
       "      <td>0.0</td>\n",
       "      <td>0.0</td>\n",
       "      <td>1.0</td>\n",
       "      <td>0.0</td>\n",
       "      <td>150395.898606</td>\n",
       "    </tr>\n",
       "    <tr>\n",
       "      <th>4</th>\n",
       "      <td>-0.6</td>\n",
       "      <td>0.981903</td>\n",
       "      <td>0.801897</td>\n",
       "      <td>1.5</td>\n",
       "      <td>0.0</td>\n",
       "      <td>0.729167</td>\n",
       "      <td>0.368421</td>\n",
       "      <td>0.421687</td>\n",
       "      <td>0.884189</td>\n",
       "      <td>0.0</td>\n",
       "      <td>...</td>\n",
       "      <td>0.0</td>\n",
       "      <td>0.0</td>\n",
       "      <td>1.0</td>\n",
       "      <td>0.0</td>\n",
       "      <td>0.0</td>\n",
       "      <td>0.0</td>\n",
       "      <td>0.0</td>\n",
       "      <td>1.0</td>\n",
       "      <td>0.0</td>\n",
       "      <td>300085.203762</td>\n",
       "    </tr>\n",
       "    <tr>\n",
       "      <th>...</th>\n",
       "      <td>...</td>\n",
       "      <td>...</td>\n",
       "      <td>...</td>\n",
       "      <td>...</td>\n",
       "      <td>...</td>\n",
       "      <td>...</td>\n",
       "      <td>...</td>\n",
       "      <td>...</td>\n",
       "      <td>...</td>\n",
       "      <td>...</td>\n",
       "      <td>...</td>\n",
       "      <td>...</td>\n",
       "      <td>...</td>\n",
       "      <td>...</td>\n",
       "      <td>...</td>\n",
       "      <td>...</td>\n",
       "      <td>...</td>\n",
       "      <td>...</td>\n",
       "      <td>...</td>\n",
       "      <td>...</td>\n",
       "      <td>...</td>\n",
       "    </tr>\n",
       "    <tr>\n",
       "      <th>287</th>\n",
       "      <td>-0.4</td>\n",
       "      <td>-1.070729</td>\n",
       "      <td>-0.893563</td>\n",
       "      <td>-1.0</td>\n",
       "      <td>2.0</td>\n",
       "      <td>-0.729167</td>\n",
       "      <td>0.157895</td>\n",
       "      <td>2.620482</td>\n",
       "      <td>-0.300277</td>\n",
       "      <td>0.0</td>\n",
       "      <td>...</td>\n",
       "      <td>0.0</td>\n",
       "      <td>0.0</td>\n",
       "      <td>1.0</td>\n",
       "      <td>0.0</td>\n",
       "      <td>0.0</td>\n",
       "      <td>1.0</td>\n",
       "      <td>0.0</td>\n",
       "      <td>0.0</td>\n",
       "      <td>0.0</td>\n",
       "      <td>133248.157745</td>\n",
       "    </tr>\n",
       "    <tr>\n",
       "      <th>288</th>\n",
       "      <td>-0.6</td>\n",
       "      <td>2.824008</td>\n",
       "      <td>1.594554</td>\n",
       "      <td>0.5</td>\n",
       "      <td>0.0</td>\n",
       "      <td>0.687500</td>\n",
       "      <td>0.289474</td>\n",
       "      <td>0.096386</td>\n",
       "      <td>1.233703</td>\n",
       "      <td>0.0</td>\n",
       "      <td>...</td>\n",
       "      <td>0.0</td>\n",
       "      <td>0.0</td>\n",
       "      <td>1.0</td>\n",
       "      <td>0.0</td>\n",
       "      <td>0.0</td>\n",
       "      <td>0.0</td>\n",
       "      <td>0.0</td>\n",
       "      <td>1.0</td>\n",
       "      <td>0.0</td>\n",
       "      <td>246826.675290</td>\n",
       "    </tr>\n",
       "    <tr>\n",
       "      <th>289</th>\n",
       "      <td>0.2</td>\n",
       "      <td>-0.386518</td>\n",
       "      <td>-0.340648</td>\n",
       "      <td>0.5</td>\n",
       "      <td>0.0</td>\n",
       "      <td>0.687500</td>\n",
       "      <td>0.289474</td>\n",
       "      <td>0.000000</td>\n",
       "      <td>0.365465</td>\n",
       "      <td>0.0</td>\n",
       "      <td>...</td>\n",
       "      <td>0.0</td>\n",
       "      <td>0.0</td>\n",
       "      <td>1.0</td>\n",
       "      <td>0.0</td>\n",
       "      <td>0.0</td>\n",
       "      <td>0.0</td>\n",
       "      <td>0.0</td>\n",
       "      <td>1.0</td>\n",
       "      <td>0.0</td>\n",
       "      <td>192437.386131</td>\n",
       "    </tr>\n",
       "    <tr>\n",
       "      <th>290</th>\n",
       "      <td>0.4</td>\n",
       "      <td>-0.544413</td>\n",
       "      <td>-0.125463</td>\n",
       "      <td>-1.0</td>\n",
       "      <td>0.0</td>\n",
       "      <td>-0.666667</td>\n",
       "      <td>-1.157895</td>\n",
       "      <td>0.000000</td>\n",
       "      <td>-0.533287</td>\n",
       "      <td>0.0</td>\n",
       "      <td>...</td>\n",
       "      <td>0.0</td>\n",
       "      <td>0.0</td>\n",
       "      <td>1.0</td>\n",
       "      <td>0.0</td>\n",
       "      <td>0.0</td>\n",
       "      <td>0.0</td>\n",
       "      <td>0.0</td>\n",
       "      <td>1.0</td>\n",
       "      <td>0.0</td>\n",
       "      <td>138356.199480</td>\n",
       "    </tr>\n",
       "    <tr>\n",
       "      <th>291</th>\n",
       "      <td>-0.6</td>\n",
       "      <td>-0.018097</td>\n",
       "      <td>-0.359857</td>\n",
       "      <td>-1.0</td>\n",
       "      <td>2.0</td>\n",
       "      <td>-0.041667</td>\n",
       "      <td>-0.631579</td>\n",
       "      <td>0.000000</td>\n",
       "      <td>-0.268377</td>\n",
       "      <td>0.0</td>\n",
       "      <td>...</td>\n",
       "      <td>0.0</td>\n",
       "      <td>0.0</td>\n",
       "      <td>1.0</td>\n",
       "      <td>0.0</td>\n",
       "      <td>0.0</td>\n",
       "      <td>0.0</td>\n",
       "      <td>0.0</td>\n",
       "      <td>1.0</td>\n",
       "      <td>0.0</td>\n",
       "      <td>126708.713828</td>\n",
       "    </tr>\n",
       "  </tbody>\n",
       "</table>\n",
       "<p>292 rows × 267 columns</p>\n",
       "</div>"
      ],
      "text/plain": [
       "     numerical__numerical__MSSubClass  numerical__numerical__LotFrontage  \\\n",
       "0                                -0.6                          -0.018097   \n",
       "1                                 0.2                           1.455587   \n",
       "2                                -0.4                          -0.754939   \n",
       "3                                 0.0                          -1.070729   \n",
       "4                                -0.6                           0.981903   \n",
       "..                                ...                                ...   \n",
       "287                              -0.4                          -1.070729   \n",
       "288                              -0.6                           2.824008   \n",
       "289                               0.2                          -0.386518   \n",
       "290                               0.4                          -0.544413   \n",
       "291                              -0.6                          -0.018097   \n",
       "\n",
       "     numerical__numerical__LotArea  numerical__numerical__OverallQual  \\\n",
       "0                        -0.288372                                0.0   \n",
       "1                         0.645797                                1.0   \n",
       "2                        -0.155614                               -0.5   \n",
       "3                        -1.118473                                0.0   \n",
       "4                         0.801897                                1.5   \n",
       "..                             ...                                ...   \n",
       "287                      -0.893563                               -1.0   \n",
       "288                       1.594554                                0.5   \n",
       "289                      -0.340648                                0.5   \n",
       "290                      -0.125463                               -1.0   \n",
       "291                      -0.359857                               -1.0   \n",
       "\n",
       "     numerical__numerical__OverallCond  numerical__numerical__YearBuilt  \\\n",
       "0                                  3.0                        -0.187500   \n",
       "1                                  0.0                         0.458333   \n",
       "2                                  1.0                        -0.937500   \n",
       "3                                  2.0                        -0.520833   \n",
       "4                                  0.0                         0.729167   \n",
       "..                                 ...                              ...   \n",
       "287                                2.0                        -0.729167   \n",
       "288                                0.0                         0.687500   \n",
       "289                                0.0                         0.687500   \n",
       "290                                0.0                        -0.666667   \n",
       "291                                2.0                        -0.041667   \n",
       "\n",
       "     numerical__numerical__YearRemodAdd  numerical__numerical__MasVnrArea  \\\n",
       "0                              0.236842                          0.000000   \n",
       "1                              0.026316                          2.180723   \n",
       "2                             -1.157895                          0.000000   \n",
       "3                             -1.157895                          0.000000   \n",
       "4                              0.368421                          0.421687   \n",
       "..                                  ...                               ...   \n",
       "287                            0.157895                          2.620482   \n",
       "288                            0.289474                          0.096386   \n",
       "289                            0.289474                          0.000000   \n",
       "290                           -1.157895                          0.000000   \n",
       "291                           -0.631579                          0.000000   \n",
       "\n",
       "     numerical__numerical__BsmtFinSF1  numerical__numerical__BsmtFinSF2  ...  \\\n",
       "0                            0.386269                               0.0  ...   \n",
       "1                            0.898058                               0.0  ...   \n",
       "2                           -0.533287                               0.0  ...   \n",
       "3                            0.020111                               0.0  ...   \n",
       "4                            0.884189                               0.0  ...   \n",
       "..                                ...                               ...  ...   \n",
       "287                         -0.300277                               0.0  ...   \n",
       "288                          1.233703                               0.0  ...   \n",
       "289                          0.365465                               0.0  ...   \n",
       "290                         -0.533287                               0.0  ...   \n",
       "291                         -0.268377                               0.0  ...   \n",
       "\n",
       "     categorical__categorical__SaleType_New  \\\n",
       "0                                       0.0   \n",
       "1                                       0.0   \n",
       "2                                       0.0   \n",
       "3                                       0.0   \n",
       "4                                       0.0   \n",
       "..                                      ...   \n",
       "287                                     0.0   \n",
       "288                                     0.0   \n",
       "289                                     0.0   \n",
       "290                                     0.0   \n",
       "291                                     0.0   \n",
       "\n",
       "     categorical__categorical__SaleType_Oth  \\\n",
       "0                                       0.0   \n",
       "1                                       0.0   \n",
       "2                                       0.0   \n",
       "3                                       0.0   \n",
       "4                                       0.0   \n",
       "..                                      ...   \n",
       "287                                     0.0   \n",
       "288                                     0.0   \n",
       "289                                     0.0   \n",
       "290                                     0.0   \n",
       "291                                     0.0   \n",
       "\n",
       "     categorical__categorical__SaleType_WD  \\\n",
       "0                                      1.0   \n",
       "1                                      1.0   \n",
       "2                                      1.0   \n",
       "3                                      1.0   \n",
       "4                                      1.0   \n",
       "..                                     ...   \n",
       "287                                    1.0   \n",
       "288                                    1.0   \n",
       "289                                    1.0   \n",
       "290                                    1.0   \n",
       "291                                    1.0   \n",
       "\n",
       "     categorical__categorical__SaleCondition_Abnorml  \\\n",
       "0                                                0.0   \n",
       "1                                                0.0   \n",
       "2                                                0.0   \n",
       "3                                                0.0   \n",
       "4                                                0.0   \n",
       "..                                               ...   \n",
       "287                                              0.0   \n",
       "288                                              0.0   \n",
       "289                                              0.0   \n",
       "290                                              0.0   \n",
       "291                                              0.0   \n",
       "\n",
       "     categorical__categorical__SaleCondition_AdjLand  \\\n",
       "0                                                0.0   \n",
       "1                                                0.0   \n",
       "2                                                0.0   \n",
       "3                                                0.0   \n",
       "4                                                0.0   \n",
       "..                                               ...   \n",
       "287                                              0.0   \n",
       "288                                              0.0   \n",
       "289                                              0.0   \n",
       "290                                              0.0   \n",
       "291                                              0.0   \n",
       "\n",
       "     categorical__categorical__SaleCondition_Alloca  \\\n",
       "0                                               0.0   \n",
       "1                                               0.0   \n",
       "2                                               0.0   \n",
       "3                                               0.0   \n",
       "4                                               0.0   \n",
       "..                                              ...   \n",
       "287                                             1.0   \n",
       "288                                             0.0   \n",
       "289                                             0.0   \n",
       "290                                             0.0   \n",
       "291                                             0.0   \n",
       "\n",
       "     categorical__categorical__SaleCondition_Family  \\\n",
       "0                                               0.0   \n",
       "1                                               0.0   \n",
       "2                                               0.0   \n",
       "3                                               0.0   \n",
       "4                                               0.0   \n",
       "..                                              ...   \n",
       "287                                             0.0   \n",
       "288                                             0.0   \n",
       "289                                             0.0   \n",
       "290                                             0.0   \n",
       "291                                             0.0   \n",
       "\n",
       "     categorical__categorical__SaleCondition_Normal  \\\n",
       "0                                               1.0   \n",
       "1                                               1.0   \n",
       "2                                               1.0   \n",
       "3                                               1.0   \n",
       "4                                               1.0   \n",
       "..                                              ...   \n",
       "287                                             0.0   \n",
       "288                                             1.0   \n",
       "289                                             1.0   \n",
       "290                                             1.0   \n",
       "291                                             1.0   \n",
       "\n",
       "     categorical__categorical__SaleCondition_Partial         y_pred  \n",
       "0                                                0.0  137533.376869  \n",
       "1                                                0.0  298351.239230  \n",
       "2                                                0.0  125230.692480  \n",
       "3                                                0.0  150395.898606  \n",
       "4                                                0.0  300085.203762  \n",
       "..                                               ...            ...  \n",
       "287                                              0.0  133248.157745  \n",
       "288                                              0.0  246826.675290  \n",
       "289                                              0.0  192437.386131  \n",
       "290                                              0.0  138356.199480  \n",
       "291                                              0.0  126708.713828  \n",
       "\n",
       "[292 rows x 267 columns]"
      ]
     },
     "execution_count": 29,
     "metadata": {},
     "output_type": "execute_result"
    }
   ],
   "source": [
    "prediction"
   ]
  },
  {
   "cell_type": "code",
   "execution_count": 113,
   "metadata": {},
   "outputs": [
    {
     "name": "stderr",
     "output_type": "stream",
     "text": [
      "c:\\Users\\leoal\\.virtualenvs\\mlops-nova-project-5FFhJkaC\\lib\\site-packages\\lightgbm\\basic.py:2065: UserWarning:\n",
      "\n",
      "Using categorical_feature in Dataset.\n",
      "\n",
      "c:\\Users\\leoal\\.virtualenvs\\mlops-nova-project-5FFhJkaC\\lib\\site-packages\\lightgbm\\basic.py:2065: UserWarning:\n",
      "\n",
      "Using categorical_feature in Dataset.\n",
      "\n",
      "c:\\Users\\leoal\\.virtualenvs\\mlops-nova-project-5FFhJkaC\\lib\\site-packages\\nannyml\\sampling_error\\regression.py:191: RuntimeWarning:\n",
      "\n",
      "invalid value encountered in double_scalars\n",
      "\n",
      "c:\\Users\\leoal\\.virtualenvs\\mlops-nova-project-5FFhJkaC\\lib\\site-packages\\nannyml\\sampling_error\\regression.py:230: RuntimeWarning:\n",
      "\n",
      "invalid value encountered in double_scalars\n",
      "\n",
      "c:\\Users\\leoal\\.virtualenvs\\mlops-nova-project-5FFhJkaC\\lib\\site-packages\\nannyml\\sampling_error\\regression.py:191: RuntimeWarning:\n",
      "\n",
      "invalid value encountered in double_scalars\n",
      "\n",
      "c:\\Users\\leoal\\.virtualenvs\\mlops-nova-project-5FFhJkaC\\lib\\site-packages\\nannyml\\sampling_error\\regression.py:230: RuntimeWarning:\n",
      "\n",
      "invalid value encountered in double_scalars\n",
      "\n",
      "c:\\Users\\leoal\\.virtualenvs\\mlops-nova-project-5FFhJkaC\\lib\\site-packages\\nannyml\\sampling_error\\regression.py:191: RuntimeWarning:\n",
      "\n",
      "invalid value encountered in double_scalars\n",
      "\n",
      "c:\\Users\\leoal\\.virtualenvs\\mlops-nova-project-5FFhJkaC\\lib\\site-packages\\nannyml\\sampling_error\\regression.py:230: RuntimeWarning:\n",
      "\n",
      "invalid value encountered in double_scalars\n",
      "\n",
      "c:\\Users\\leoal\\.virtualenvs\\mlops-nova-project-5FFhJkaC\\lib\\site-packages\\nannyml\\sampling_error\\regression.py:191: RuntimeWarning:\n",
      "\n",
      "invalid value encountered in double_scalars\n",
      "\n",
      "c:\\Users\\leoal\\.virtualenvs\\mlops-nova-project-5FFhJkaC\\lib\\site-packages\\nannyml\\sampling_error\\regression.py:230: RuntimeWarning:\n",
      "\n",
      "invalid value encountered in double_scalars\n",
      "\n",
      "c:\\Users\\leoal\\.virtualenvs\\mlops-nova-project-5FFhJkaC\\lib\\site-packages\\nannyml\\sampling_error\\regression.py:191: RuntimeWarning:\n",
      "\n",
      "invalid value encountered in double_scalars\n",
      "\n",
      "c:\\Users\\leoal\\.virtualenvs\\mlops-nova-project-5FFhJkaC\\lib\\site-packages\\nannyml\\sampling_error\\regression.py:230: RuntimeWarning:\n",
      "\n",
      "invalid value encountered in double_scalars\n",
      "\n",
      "c:\\Users\\leoal\\.virtualenvs\\mlops-nova-project-5FFhJkaC\\lib\\site-packages\\nannyml\\sampling_error\\regression.py:191: RuntimeWarning:\n",
      "\n",
      "invalid value encountered in double_scalars\n",
      "\n",
      "c:\\Users\\leoal\\.virtualenvs\\mlops-nova-project-5FFhJkaC\\lib\\site-packages\\nannyml\\sampling_error\\regression.py:230: RuntimeWarning:\n",
      "\n",
      "invalid value encountered in double_scalars\n",
      "\n",
      "c:\\Users\\leoal\\.virtualenvs\\mlops-nova-project-5FFhJkaC\\lib\\site-packages\\nannyml\\sampling_error\\regression.py:191: RuntimeWarning:\n",
      "\n",
      "invalid value encountered in double_scalars\n",
      "\n",
      "c:\\Users\\leoal\\.virtualenvs\\mlops-nova-project-5FFhJkaC\\lib\\site-packages\\nannyml\\sampling_error\\regression.py:230: RuntimeWarning:\n",
      "\n",
      "invalid value encountered in double_scalars\n",
      "\n",
      "c:\\Users\\leoal\\.virtualenvs\\mlops-nova-project-5FFhJkaC\\lib\\site-packages\\nannyml\\sampling_error\\regression.py:191: RuntimeWarning:\n",
      "\n",
      "invalid value encountered in double_scalars\n",
      "\n",
      "c:\\Users\\leoal\\.virtualenvs\\mlops-nova-project-5FFhJkaC\\lib\\site-packages\\nannyml\\sampling_error\\regression.py:230: RuntimeWarning:\n",
      "\n",
      "invalid value encountered in double_scalars\n",
      "\n",
      "c:\\Users\\leoal\\.virtualenvs\\mlops-nova-project-5FFhJkaC\\lib\\site-packages\\nannyml\\sampling_error\\regression.py:191: RuntimeWarning:\n",
      "\n",
      "invalid value encountered in double_scalars\n",
      "\n",
      "c:\\Users\\leoal\\.virtualenvs\\mlops-nova-project-5FFhJkaC\\lib\\site-packages\\nannyml\\sampling_error\\regression.py:230: RuntimeWarning:\n",
      "\n",
      "invalid value encountered in double_scalars\n",
      "\n",
      "c:\\Users\\leoal\\.virtualenvs\\mlops-nova-project-5FFhJkaC\\lib\\site-packages\\nannyml\\sampling_error\\regression.py:191: RuntimeWarning:\n",
      "\n",
      "invalid value encountered in double_scalars\n",
      "\n",
      "c:\\Users\\leoal\\.virtualenvs\\mlops-nova-project-5FFhJkaC\\lib\\site-packages\\nannyml\\sampling_error\\regression.py:230: RuntimeWarning:\n",
      "\n",
      "invalid value encountered in double_scalars\n",
      "\n",
      "c:\\Users\\leoal\\.virtualenvs\\mlops-nova-project-5FFhJkaC\\lib\\site-packages\\nannyml\\sampling_error\\regression.py:191: RuntimeWarning:\n",
      "\n",
      "invalid value encountered in double_scalars\n",
      "\n",
      "c:\\Users\\leoal\\.virtualenvs\\mlops-nova-project-5FFhJkaC\\lib\\site-packages\\nannyml\\sampling_error\\regression.py:230: RuntimeWarning:\n",
      "\n",
      "invalid value encountered in double_scalars\n",
      "\n",
      "c:\\Users\\leoal\\.virtualenvs\\mlops-nova-project-5FFhJkaC\\lib\\site-packages\\nannyml\\sampling_error\\regression.py:191: RuntimeWarning:\n",
      "\n",
      "invalid value encountered in double_scalars\n",
      "\n",
      "c:\\Users\\leoal\\.virtualenvs\\mlops-nova-project-5FFhJkaC\\lib\\site-packages\\nannyml\\sampling_error\\regression.py:230: RuntimeWarning:\n",
      "\n",
      "invalid value encountered in double_scalars\n",
      "\n",
      "c:\\Users\\leoal\\.virtualenvs\\mlops-nova-project-5FFhJkaC\\lib\\site-packages\\nannyml\\sampling_error\\regression.py:191: RuntimeWarning:\n",
      "\n",
      "invalid value encountered in double_scalars\n",
      "\n",
      "c:\\Users\\leoal\\.virtualenvs\\mlops-nova-project-5FFhJkaC\\lib\\site-packages\\nannyml\\sampling_error\\regression.py:230: RuntimeWarning:\n",
      "\n",
      "invalid value encountered in double_scalars\n",
      "\n",
      "c:\\Users\\leoal\\.virtualenvs\\mlops-nova-project-5FFhJkaC\\lib\\site-packages\\nannyml\\sampling_error\\regression.py:191: RuntimeWarning:\n",
      "\n",
      "invalid value encountered in double_scalars\n",
      "\n",
      "c:\\Users\\leoal\\.virtualenvs\\mlops-nova-project-5FFhJkaC\\lib\\site-packages\\nannyml\\sampling_error\\regression.py:230: RuntimeWarning:\n",
      "\n",
      "invalid value encountered in double_scalars\n",
      "\n",
      "c:\\Users\\leoal\\.virtualenvs\\mlops-nova-project-5FFhJkaC\\lib\\site-packages\\nannyml\\sampling_error\\regression.py:191: RuntimeWarning:\n",
      "\n",
      "invalid value encountered in double_scalars\n",
      "\n",
      "c:\\Users\\leoal\\.virtualenvs\\mlops-nova-project-5FFhJkaC\\lib\\site-packages\\nannyml\\sampling_error\\regression.py:230: RuntimeWarning:\n",
      "\n",
      "invalid value encountered in double_scalars\n",
      "\n",
      "c:\\Users\\leoal\\.virtualenvs\\mlops-nova-project-5FFhJkaC\\lib\\site-packages\\nannyml\\sampling_error\\regression.py:191: RuntimeWarning:\n",
      "\n",
      "invalid value encountered in double_scalars\n",
      "\n",
      "c:\\Users\\leoal\\.virtualenvs\\mlops-nova-project-5FFhJkaC\\lib\\site-packages\\nannyml\\sampling_error\\regression.py:230: RuntimeWarning:\n",
      "\n",
      "invalid value encountered in double_scalars\n",
      "\n",
      "c:\\Users\\leoal\\.virtualenvs\\mlops-nova-project-5FFhJkaC\\lib\\site-packages\\nannyml\\sampling_error\\regression.py:191: RuntimeWarning:\n",
      "\n",
      "invalid value encountered in double_scalars\n",
      "\n",
      "c:\\Users\\leoal\\.virtualenvs\\mlops-nova-project-5FFhJkaC\\lib\\site-packages\\nannyml\\sampling_error\\regression.py:230: RuntimeWarning:\n",
      "\n",
      "invalid value encountered in double_scalars\n",
      "\n",
      "c:\\Users\\leoal\\.virtualenvs\\mlops-nova-project-5FFhJkaC\\lib\\site-packages\\nannyml\\sampling_error\\regression.py:191: RuntimeWarning:\n",
      "\n",
      "invalid value encountered in double_scalars\n",
      "\n",
      "c:\\Users\\leoal\\.virtualenvs\\mlops-nova-project-5FFhJkaC\\lib\\site-packages\\nannyml\\sampling_error\\regression.py:230: RuntimeWarning:\n",
      "\n",
      "invalid value encountered in double_scalars\n",
      "\n",
      "c:\\Users\\leoal\\.virtualenvs\\mlops-nova-project-5FFhJkaC\\lib\\site-packages\\nannyml\\sampling_error\\regression.py:191: RuntimeWarning:\n",
      "\n",
      "invalid value encountered in double_scalars\n",
      "\n",
      "c:\\Users\\leoal\\.virtualenvs\\mlops-nova-project-5FFhJkaC\\lib\\site-packages\\nannyml\\sampling_error\\regression.py:230: RuntimeWarning:\n",
      "\n",
      "invalid value encountered in double_scalars\n",
      "\n",
      "c:\\Users\\leoal\\.virtualenvs\\mlops-nova-project-5FFhJkaC\\lib\\site-packages\\nannyml\\sampling_error\\regression.py:191: RuntimeWarning:\n",
      "\n",
      "invalid value encountered in double_scalars\n",
      "\n",
      "c:\\Users\\leoal\\.virtualenvs\\mlops-nova-project-5FFhJkaC\\lib\\site-packages\\nannyml\\sampling_error\\regression.py:230: RuntimeWarning:\n",
      "\n",
      "invalid value encountered in double_scalars\n",
      "\n"
     ]
    },
    {
     "data": {
      "text/html": [
       "<div>\n",
       "<style scoped>\n",
       "    .dataframe tbody tr th:only-of-type {\n",
       "        vertical-align: middle;\n",
       "    }\n",
       "\n",
       "    .dataframe tbody tr th {\n",
       "        vertical-align: top;\n",
       "    }\n",
       "\n",
       "    .dataframe thead tr th {\n",
       "        text-align: left;\n",
       "    }\n",
       "</style>\n",
       "<table border=\"1\" class=\"dataframe\">\n",
       "  <thead>\n",
       "    <tr>\n",
       "      <th></th>\n",
       "      <th colspan=\"7\" halign=\"left\">chunk</th>\n",
       "      <th colspan=\"6\" halign=\"left\">rmse</th>\n",
       "      <th colspan=\"8\" halign=\"left\">rmsle</th>\n",
       "    </tr>\n",
       "    <tr>\n",
       "      <th></th>\n",
       "      <th>key</th>\n",
       "      <th>chunk_index</th>\n",
       "      <th>start_index</th>\n",
       "      <th>end_index</th>\n",
       "      <th>start_date</th>\n",
       "      <th>end_date</th>\n",
       "      <th>period</th>\n",
       "      <th>sampling_error</th>\n",
       "      <th>realized</th>\n",
       "      <th>value</th>\n",
       "      <th>...</th>\n",
       "      <th>lower_threshold</th>\n",
       "      <th>alert</th>\n",
       "      <th>sampling_error</th>\n",
       "      <th>realized</th>\n",
       "      <th>value</th>\n",
       "      <th>upper_confidence_boundary</th>\n",
       "      <th>lower_confidence_boundary</th>\n",
       "      <th>upper_threshold</th>\n",
       "      <th>lower_threshold</th>\n",
       "      <th>alert</th>\n",
       "    </tr>\n",
       "  </thead>\n",
       "  <tbody>\n",
       "    <tr>\n",
       "      <th>0</th>\n",
       "      <td>[0:50]</td>\n",
       "      <td>0</td>\n",
       "      <td>0</td>\n",
       "      <td>50</td>\n",
       "      <td>2009-01-01</td>\n",
       "      <td>2009-04-01</td>\n",
       "      <td>analysis</td>\n",
       "      <td>NaN</td>\n",
       "      <td>0.0</td>\n",
       "      <td>0.0</td>\n",
       "      <td>...</td>\n",
       "      <td>0.0</td>\n",
       "      <td>False</td>\n",
       "      <td>NaN</td>\n",
       "      <td>0.0</td>\n",
       "      <td>0.0</td>\n",
       "      <td>NaN</td>\n",
       "      <td>0.0</td>\n",
       "      <td>0.0</td>\n",
       "      <td>0.0</td>\n",
       "      <td>False</td>\n",
       "    </tr>\n",
       "    <tr>\n",
       "      <th>1</th>\n",
       "      <td>[51:101]</td>\n",
       "      <td>1</td>\n",
       "      <td>51</td>\n",
       "      <td>101</td>\n",
       "      <td>2009-04-01</td>\n",
       "      <td>2009-05-01</td>\n",
       "      <td>analysis</td>\n",
       "      <td>NaN</td>\n",
       "      <td>0.0</td>\n",
       "      <td>0.0</td>\n",
       "      <td>...</td>\n",
       "      <td>0.0</td>\n",
       "      <td>False</td>\n",
       "      <td>NaN</td>\n",
       "      <td>0.0</td>\n",
       "      <td>0.0</td>\n",
       "      <td>NaN</td>\n",
       "      <td>0.0</td>\n",
       "      <td>0.0</td>\n",
       "      <td>0.0</td>\n",
       "      <td>False</td>\n",
       "    </tr>\n",
       "    <tr>\n",
       "      <th>2</th>\n",
       "      <td>[102:152]</td>\n",
       "      <td>2</td>\n",
       "      <td>102</td>\n",
       "      <td>152</td>\n",
       "      <td>2009-05-01</td>\n",
       "      <td>2009-06-01</td>\n",
       "      <td>analysis</td>\n",
       "      <td>NaN</td>\n",
       "      <td>0.0</td>\n",
       "      <td>0.0</td>\n",
       "      <td>...</td>\n",
       "      <td>0.0</td>\n",
       "      <td>False</td>\n",
       "      <td>NaN</td>\n",
       "      <td>0.0</td>\n",
       "      <td>0.0</td>\n",
       "      <td>NaN</td>\n",
       "      <td>0.0</td>\n",
       "      <td>0.0</td>\n",
       "      <td>0.0</td>\n",
       "      <td>False</td>\n",
       "    </tr>\n",
       "    <tr>\n",
       "      <th>3</th>\n",
       "      <td>[153:203]</td>\n",
       "      <td>3</td>\n",
       "      <td>153</td>\n",
       "      <td>203</td>\n",
       "      <td>2009-06-01</td>\n",
       "      <td>2009-07-01</td>\n",
       "      <td>analysis</td>\n",
       "      <td>NaN</td>\n",
       "      <td>0.0</td>\n",
       "      <td>0.0</td>\n",
       "      <td>...</td>\n",
       "      <td>0.0</td>\n",
       "      <td>False</td>\n",
       "      <td>NaN</td>\n",
       "      <td>0.0</td>\n",
       "      <td>0.0</td>\n",
       "      <td>NaN</td>\n",
       "      <td>0.0</td>\n",
       "      <td>0.0</td>\n",
       "      <td>0.0</td>\n",
       "      <td>False</td>\n",
       "    </tr>\n",
       "    <tr>\n",
       "      <th>4</th>\n",
       "      <td>[204:254]</td>\n",
       "      <td>4</td>\n",
       "      <td>204</td>\n",
       "      <td>254</td>\n",
       "      <td>2009-07-01</td>\n",
       "      <td>2009-09-01</td>\n",
       "      <td>analysis</td>\n",
       "      <td>NaN</td>\n",
       "      <td>0.0</td>\n",
       "      <td>0.0</td>\n",
       "      <td>...</td>\n",
       "      <td>0.0</td>\n",
       "      <td>False</td>\n",
       "      <td>NaN</td>\n",
       "      <td>0.0</td>\n",
       "      <td>0.0</td>\n",
       "      <td>NaN</td>\n",
       "      <td>0.0</td>\n",
       "      <td>0.0</td>\n",
       "      <td>0.0</td>\n",
       "      <td>False</td>\n",
       "    </tr>\n",
       "    <tr>\n",
       "      <th>5</th>\n",
       "      <td>[255:305]</td>\n",
       "      <td>5</td>\n",
       "      <td>255</td>\n",
       "      <td>305</td>\n",
       "      <td>2009-09-01</td>\n",
       "      <td>2009-11-01</td>\n",
       "      <td>analysis</td>\n",
       "      <td>NaN</td>\n",
       "      <td>0.0</td>\n",
       "      <td>0.0</td>\n",
       "      <td>...</td>\n",
       "      <td>0.0</td>\n",
       "      <td>False</td>\n",
       "      <td>NaN</td>\n",
       "      <td>0.0</td>\n",
       "      <td>0.0</td>\n",
       "      <td>NaN</td>\n",
       "      <td>0.0</td>\n",
       "      <td>0.0</td>\n",
       "      <td>0.0</td>\n",
       "      <td>False</td>\n",
       "    </tr>\n",
       "    <tr>\n",
       "      <th>6</th>\n",
       "      <td>[306:356]</td>\n",
       "      <td>6</td>\n",
       "      <td>306</td>\n",
       "      <td>356</td>\n",
       "      <td>2009-11-01</td>\n",
       "      <td>2010-02-01</td>\n",
       "      <td>analysis</td>\n",
       "      <td>NaN</td>\n",
       "      <td>0.0</td>\n",
       "      <td>0.0</td>\n",
       "      <td>...</td>\n",
       "      <td>0.0</td>\n",
       "      <td>False</td>\n",
       "      <td>NaN</td>\n",
       "      <td>0.0</td>\n",
       "      <td>0.0</td>\n",
       "      <td>NaN</td>\n",
       "      <td>0.0</td>\n",
       "      <td>0.0</td>\n",
       "      <td>0.0</td>\n",
       "      <td>False</td>\n",
       "    </tr>\n",
       "    <tr>\n",
       "      <th>7</th>\n",
       "      <td>[357:407]</td>\n",
       "      <td>7</td>\n",
       "      <td>357</td>\n",
       "      <td>407</td>\n",
       "      <td>2010-02-01</td>\n",
       "      <td>2010-04-01</td>\n",
       "      <td>analysis</td>\n",
       "      <td>NaN</td>\n",
       "      <td>0.0</td>\n",
       "      <td>0.0</td>\n",
       "      <td>...</td>\n",
       "      <td>0.0</td>\n",
       "      <td>False</td>\n",
       "      <td>NaN</td>\n",
       "      <td>0.0</td>\n",
       "      <td>0.0</td>\n",
       "      <td>NaN</td>\n",
       "      <td>0.0</td>\n",
       "      <td>0.0</td>\n",
       "      <td>0.0</td>\n",
       "      <td>False</td>\n",
       "    </tr>\n",
       "    <tr>\n",
       "      <th>8</th>\n",
       "      <td>[408:458]</td>\n",
       "      <td>8</td>\n",
       "      <td>408</td>\n",
       "      <td>458</td>\n",
       "      <td>2010-04-01</td>\n",
       "      <td>2010-05-01</td>\n",
       "      <td>analysis</td>\n",
       "      <td>NaN</td>\n",
       "      <td>0.0</td>\n",
       "      <td>0.0</td>\n",
       "      <td>...</td>\n",
       "      <td>0.0</td>\n",
       "      <td>False</td>\n",
       "      <td>NaN</td>\n",
       "      <td>0.0</td>\n",
       "      <td>0.0</td>\n",
       "      <td>NaN</td>\n",
       "      <td>0.0</td>\n",
       "      <td>0.0</td>\n",
       "      <td>0.0</td>\n",
       "      <td>False</td>\n",
       "    </tr>\n",
       "    <tr>\n",
       "      <th>9</th>\n",
       "      <td>[510:509]</td>\n",
       "      <td>9</td>\n",
       "      <td>459</td>\n",
       "      <td>512</td>\n",
       "      <td>2010-07-01</td>\n",
       "      <td>2010-07-01</td>\n",
       "      <td>analysis</td>\n",
       "      <td>NaN</td>\n",
       "      <td>0.0</td>\n",
       "      <td>0.0</td>\n",
       "      <td>...</td>\n",
       "      <td>0.0</td>\n",
       "      <td>False</td>\n",
       "      <td>NaN</td>\n",
       "      <td>0.0</td>\n",
       "      <td>0.0</td>\n",
       "      <td>NaN</td>\n",
       "      <td>0.0</td>\n",
       "      <td>0.0</td>\n",
       "      <td>0.0</td>\n",
       "      <td>False</td>\n",
       "    </tr>\n",
       "  </tbody>\n",
       "</table>\n",
       "<p>10 rows × 23 columns</p>\n",
       "</div>"
      ],
      "text/plain": [
       "       chunk                                                          \\\n",
       "         key chunk_index start_index end_index start_date   end_date   \n",
       "0     [0:50]           0           0        50 2009-01-01 2009-04-01   \n",
       "1   [51:101]           1          51       101 2009-04-01 2009-05-01   \n",
       "2  [102:152]           2         102       152 2009-05-01 2009-06-01   \n",
       "3  [153:203]           3         153       203 2009-06-01 2009-07-01   \n",
       "4  [204:254]           4         204       254 2009-07-01 2009-09-01   \n",
       "5  [255:305]           5         255       305 2009-09-01 2009-11-01   \n",
       "6  [306:356]           6         306       356 2009-11-01 2010-02-01   \n",
       "7  [357:407]           7         357       407 2010-02-01 2010-04-01   \n",
       "8  [408:458]           8         408       458 2010-04-01 2010-05-01   \n",
       "9  [510:509]           9         459       512 2010-07-01 2010-07-01   \n",
       "\n",
       "                      rmse                 ...                         \\\n",
       "     period sampling_error realized value  ... lower_threshold  alert   \n",
       "0  analysis            NaN      0.0   0.0  ...             0.0  False   \n",
       "1  analysis            NaN      0.0   0.0  ...             0.0  False   \n",
       "2  analysis            NaN      0.0   0.0  ...             0.0  False   \n",
       "3  analysis            NaN      0.0   0.0  ...             0.0  False   \n",
       "4  analysis            NaN      0.0   0.0  ...             0.0  False   \n",
       "5  analysis            NaN      0.0   0.0  ...             0.0  False   \n",
       "6  analysis            NaN      0.0   0.0  ...             0.0  False   \n",
       "7  analysis            NaN      0.0   0.0  ...             0.0  False   \n",
       "8  analysis            NaN      0.0   0.0  ...             0.0  False   \n",
       "9  analysis            NaN      0.0   0.0  ...             0.0  False   \n",
       "\n",
       "           rmsle                                           \\\n",
       "  sampling_error realized value upper_confidence_boundary   \n",
       "0            NaN      0.0   0.0                       NaN   \n",
       "1            NaN      0.0   0.0                       NaN   \n",
       "2            NaN      0.0   0.0                       NaN   \n",
       "3            NaN      0.0   0.0                       NaN   \n",
       "4            NaN      0.0   0.0                       NaN   \n",
       "5            NaN      0.0   0.0                       NaN   \n",
       "6            NaN      0.0   0.0                       NaN   \n",
       "7            NaN      0.0   0.0                       NaN   \n",
       "8            NaN      0.0   0.0                       NaN   \n",
       "9            NaN      0.0   0.0                       NaN   \n",
       "\n",
       "                                                                    \n",
       "  lower_confidence_boundary upper_threshold lower_threshold  alert  \n",
       "0                       0.0             0.0             0.0  False  \n",
       "1                       0.0             0.0             0.0  False  \n",
       "2                       0.0             0.0             0.0  False  \n",
       "3                       0.0             0.0             0.0  False  \n",
       "4                       0.0             0.0             0.0  False  \n",
       "5                       0.0             0.0             0.0  False  \n",
       "6                       0.0             0.0             0.0  False  \n",
       "7                       0.0             0.0             0.0  False  \n",
       "8                       0.0             0.0             0.0  False  \n",
       "9                       0.0             0.0             0.0  False  \n",
       "\n",
       "[10 rows x 23 columns]"
      ]
     },
     "metadata": {},
     "output_type": "display_data"
    },
    {
     "data": {
      "text/html": [
       "<div>\n",
       "<style scoped>\n",
       "    .dataframe tbody tr th:only-of-type {\n",
       "        vertical-align: middle;\n",
       "    }\n",
       "\n",
       "    .dataframe tbody tr th {\n",
       "        vertical-align: top;\n",
       "    }\n",
       "\n",
       "    .dataframe thead tr th {\n",
       "        text-align: left;\n",
       "    }\n",
       "</style>\n",
       "<table border=\"1\" class=\"dataframe\">\n",
       "  <thead>\n",
       "    <tr>\n",
       "      <th></th>\n",
       "      <th colspan=\"7\" halign=\"left\">chunk</th>\n",
       "      <th colspan=\"6\" halign=\"left\">rmse</th>\n",
       "      <th colspan=\"8\" halign=\"left\">rmsle</th>\n",
       "    </tr>\n",
       "    <tr>\n",
       "      <th></th>\n",
       "      <th>key</th>\n",
       "      <th>chunk_index</th>\n",
       "      <th>start_index</th>\n",
       "      <th>end_index</th>\n",
       "      <th>start_date</th>\n",
       "      <th>end_date</th>\n",
       "      <th>period</th>\n",
       "      <th>sampling_error</th>\n",
       "      <th>realized</th>\n",
       "      <th>value</th>\n",
       "      <th>...</th>\n",
       "      <th>lower_threshold</th>\n",
       "      <th>alert</th>\n",
       "      <th>sampling_error</th>\n",
       "      <th>realized</th>\n",
       "      <th>value</th>\n",
       "      <th>upper_confidence_boundary</th>\n",
       "      <th>lower_confidence_boundary</th>\n",
       "      <th>upper_threshold</th>\n",
       "      <th>lower_threshold</th>\n",
       "      <th>alert</th>\n",
       "    </tr>\n",
       "  </thead>\n",
       "  <tbody>\n",
       "    <tr>\n",
       "      <th>0</th>\n",
       "      <td>[0:62]</td>\n",
       "      <td>0</td>\n",
       "      <td>0</td>\n",
       "      <td>62</td>\n",
       "      <td>2007-01-01</td>\n",
       "      <td>2007-04-01</td>\n",
       "      <td>reference</td>\n",
       "      <td>NaN</td>\n",
       "      <td>0.0</td>\n",
       "      <td>0.0</td>\n",
       "      <td>...</td>\n",
       "      <td>0.0</td>\n",
       "      <td>False</td>\n",
       "      <td>NaN</td>\n",
       "      <td>0.0</td>\n",
       "      <td>0.0</td>\n",
       "      <td>NaN</td>\n",
       "      <td>0.0</td>\n",
       "      <td>0.0</td>\n",
       "      <td>0.0</td>\n",
       "      <td>False</td>\n",
       "    </tr>\n",
       "    <tr>\n",
       "      <th>1</th>\n",
       "      <td>[63:125]</td>\n",
       "      <td>1</td>\n",
       "      <td>63</td>\n",
       "      <td>125</td>\n",
       "      <td>2007-04-01</td>\n",
       "      <td>2007-06-01</td>\n",
       "      <td>reference</td>\n",
       "      <td>NaN</td>\n",
       "      <td>0.0</td>\n",
       "      <td>0.0</td>\n",
       "      <td>...</td>\n",
       "      <td>0.0</td>\n",
       "      <td>False</td>\n",
       "      <td>NaN</td>\n",
       "      <td>0.0</td>\n",
       "      <td>0.0</td>\n",
       "      <td>NaN</td>\n",
       "      <td>0.0</td>\n",
       "      <td>0.0</td>\n",
       "      <td>0.0</td>\n",
       "      <td>False</td>\n",
       "    </tr>\n",
       "    <tr>\n",
       "      <th>2</th>\n",
       "      <td>[126:188]</td>\n",
       "      <td>2</td>\n",
       "      <td>126</td>\n",
       "      <td>188</td>\n",
       "      <td>2007-06-01</td>\n",
       "      <td>2007-07-01</td>\n",
       "      <td>reference</td>\n",
       "      <td>NaN</td>\n",
       "      <td>0.0</td>\n",
       "      <td>0.0</td>\n",
       "      <td>...</td>\n",
       "      <td>0.0</td>\n",
       "      <td>False</td>\n",
       "      <td>NaN</td>\n",
       "      <td>0.0</td>\n",
       "      <td>0.0</td>\n",
       "      <td>NaN</td>\n",
       "      <td>0.0</td>\n",
       "      <td>0.0</td>\n",
       "      <td>0.0</td>\n",
       "      <td>False</td>\n",
       "    </tr>\n",
       "    <tr>\n",
       "      <th>3</th>\n",
       "      <td>[189:251]</td>\n",
       "      <td>3</td>\n",
       "      <td>189</td>\n",
       "      <td>251</td>\n",
       "      <td>2007-07-01</td>\n",
       "      <td>2007-08-01</td>\n",
       "      <td>reference</td>\n",
       "      <td>NaN</td>\n",
       "      <td>0.0</td>\n",
       "      <td>0.0</td>\n",
       "      <td>...</td>\n",
       "      <td>0.0</td>\n",
       "      <td>False</td>\n",
       "      <td>NaN</td>\n",
       "      <td>0.0</td>\n",
       "      <td>0.0</td>\n",
       "      <td>NaN</td>\n",
       "      <td>0.0</td>\n",
       "      <td>0.0</td>\n",
       "      <td>0.0</td>\n",
       "      <td>False</td>\n",
       "    </tr>\n",
       "    <tr>\n",
       "      <th>4</th>\n",
       "      <td>[252:314]</td>\n",
       "      <td>4</td>\n",
       "      <td>252</td>\n",
       "      <td>314</td>\n",
       "      <td>2007-08-01</td>\n",
       "      <td>2007-12-01</td>\n",
       "      <td>reference</td>\n",
       "      <td>NaN</td>\n",
       "      <td>0.0</td>\n",
       "      <td>0.0</td>\n",
       "      <td>...</td>\n",
       "      <td>0.0</td>\n",
       "      <td>False</td>\n",
       "      <td>NaN</td>\n",
       "      <td>0.0</td>\n",
       "      <td>0.0</td>\n",
       "      <td>NaN</td>\n",
       "      <td>0.0</td>\n",
       "      <td>0.0</td>\n",
       "      <td>0.0</td>\n",
       "      <td>False</td>\n",
       "    </tr>\n",
       "    <tr>\n",
       "      <th>5</th>\n",
       "      <td>[315:377]</td>\n",
       "      <td>5</td>\n",
       "      <td>315</td>\n",
       "      <td>377</td>\n",
       "      <td>2007-12-01</td>\n",
       "      <td>2008-04-01</td>\n",
       "      <td>reference</td>\n",
       "      <td>NaN</td>\n",
       "      <td>0.0</td>\n",
       "      <td>0.0</td>\n",
       "      <td>...</td>\n",
       "      <td>0.0</td>\n",
       "      <td>False</td>\n",
       "      <td>NaN</td>\n",
       "      <td>0.0</td>\n",
       "      <td>0.0</td>\n",
       "      <td>NaN</td>\n",
       "      <td>0.0</td>\n",
       "      <td>0.0</td>\n",
       "      <td>0.0</td>\n",
       "      <td>False</td>\n",
       "    </tr>\n",
       "    <tr>\n",
       "      <th>6</th>\n",
       "      <td>[378:440]</td>\n",
       "      <td>6</td>\n",
       "      <td>378</td>\n",
       "      <td>440</td>\n",
       "      <td>2008-04-01</td>\n",
       "      <td>2008-06-01</td>\n",
       "      <td>reference</td>\n",
       "      <td>NaN</td>\n",
       "      <td>0.0</td>\n",
       "      <td>0.0</td>\n",
       "      <td>...</td>\n",
       "      <td>0.0</td>\n",
       "      <td>False</td>\n",
       "      <td>NaN</td>\n",
       "      <td>0.0</td>\n",
       "      <td>0.0</td>\n",
       "      <td>NaN</td>\n",
       "      <td>0.0</td>\n",
       "      <td>0.0</td>\n",
       "      <td>0.0</td>\n",
       "      <td>False</td>\n",
       "    </tr>\n",
       "    <tr>\n",
       "      <th>7</th>\n",
       "      <td>[441:503]</td>\n",
       "      <td>7</td>\n",
       "      <td>441</td>\n",
       "      <td>503</td>\n",
       "      <td>2008-06-01</td>\n",
       "      <td>2008-07-01</td>\n",
       "      <td>reference</td>\n",
       "      <td>NaN</td>\n",
       "      <td>0.0</td>\n",
       "      <td>0.0</td>\n",
       "      <td>...</td>\n",
       "      <td>0.0</td>\n",
       "      <td>False</td>\n",
       "      <td>NaN</td>\n",
       "      <td>0.0</td>\n",
       "      <td>0.0</td>\n",
       "      <td>NaN</td>\n",
       "      <td>0.0</td>\n",
       "      <td>0.0</td>\n",
       "      <td>0.0</td>\n",
       "      <td>False</td>\n",
       "    </tr>\n",
       "    <tr>\n",
       "      <th>8</th>\n",
       "      <td>[504:566]</td>\n",
       "      <td>8</td>\n",
       "      <td>504</td>\n",
       "      <td>566</td>\n",
       "      <td>2008-07-01</td>\n",
       "      <td>2008-09-01</td>\n",
       "      <td>reference</td>\n",
       "      <td>NaN</td>\n",
       "      <td>0.0</td>\n",
       "      <td>0.0</td>\n",
       "      <td>...</td>\n",
       "      <td>0.0</td>\n",
       "      <td>False</td>\n",
       "      <td>NaN</td>\n",
       "      <td>0.0</td>\n",
       "      <td>0.0</td>\n",
       "      <td>NaN</td>\n",
       "      <td>0.0</td>\n",
       "      <td>0.0</td>\n",
       "      <td>0.0</td>\n",
       "      <td>False</td>\n",
       "    </tr>\n",
       "    <tr>\n",
       "      <th>9</th>\n",
       "      <td>[630:629]</td>\n",
       "      <td>9</td>\n",
       "      <td>567</td>\n",
       "      <td>632</td>\n",
       "      <td>2008-12-01</td>\n",
       "      <td>2008-12-01</td>\n",
       "      <td>reference</td>\n",
       "      <td>NaN</td>\n",
       "      <td>0.0</td>\n",
       "      <td>0.0</td>\n",
       "      <td>...</td>\n",
       "      <td>0.0</td>\n",
       "      <td>False</td>\n",
       "      <td>NaN</td>\n",
       "      <td>0.0</td>\n",
       "      <td>0.0</td>\n",
       "      <td>NaN</td>\n",
       "      <td>0.0</td>\n",
       "      <td>0.0</td>\n",
       "      <td>0.0</td>\n",
       "      <td>False</td>\n",
       "    </tr>\n",
       "  </tbody>\n",
       "</table>\n",
       "<p>10 rows × 23 columns</p>\n",
       "</div>"
      ],
      "text/plain": [
       "       chunk                                                          \\\n",
       "         key chunk_index start_index end_index start_date   end_date   \n",
       "0     [0:62]           0           0        62 2007-01-01 2007-04-01   \n",
       "1   [63:125]           1          63       125 2007-04-01 2007-06-01   \n",
       "2  [126:188]           2         126       188 2007-06-01 2007-07-01   \n",
       "3  [189:251]           3         189       251 2007-07-01 2007-08-01   \n",
       "4  [252:314]           4         252       314 2007-08-01 2007-12-01   \n",
       "5  [315:377]           5         315       377 2007-12-01 2008-04-01   \n",
       "6  [378:440]           6         378       440 2008-04-01 2008-06-01   \n",
       "7  [441:503]           7         441       503 2008-06-01 2008-07-01   \n",
       "8  [504:566]           8         504       566 2008-07-01 2008-09-01   \n",
       "9  [630:629]           9         567       632 2008-12-01 2008-12-01   \n",
       "\n",
       "                       rmse                 ...                         \\\n",
       "      period sampling_error realized value  ... lower_threshold  alert   \n",
       "0  reference            NaN      0.0   0.0  ...             0.0  False   \n",
       "1  reference            NaN      0.0   0.0  ...             0.0  False   \n",
       "2  reference            NaN      0.0   0.0  ...             0.0  False   \n",
       "3  reference            NaN      0.0   0.0  ...             0.0  False   \n",
       "4  reference            NaN      0.0   0.0  ...             0.0  False   \n",
       "5  reference            NaN      0.0   0.0  ...             0.0  False   \n",
       "6  reference            NaN      0.0   0.0  ...             0.0  False   \n",
       "7  reference            NaN      0.0   0.0  ...             0.0  False   \n",
       "8  reference            NaN      0.0   0.0  ...             0.0  False   \n",
       "9  reference            NaN      0.0   0.0  ...             0.0  False   \n",
       "\n",
       "           rmsle                                           \\\n",
       "  sampling_error realized value upper_confidence_boundary   \n",
       "0            NaN      0.0   0.0                       NaN   \n",
       "1            NaN      0.0   0.0                       NaN   \n",
       "2            NaN      0.0   0.0                       NaN   \n",
       "3            NaN      0.0   0.0                       NaN   \n",
       "4            NaN      0.0   0.0                       NaN   \n",
       "5            NaN      0.0   0.0                       NaN   \n",
       "6            NaN      0.0   0.0                       NaN   \n",
       "7            NaN      0.0   0.0                       NaN   \n",
       "8            NaN      0.0   0.0                       NaN   \n",
       "9            NaN      0.0   0.0                       NaN   \n",
       "\n",
       "                                                                    \n",
       "  lower_confidence_boundary upper_threshold lower_threshold  alert  \n",
       "0                       0.0             0.0             0.0  False  \n",
       "1                       0.0             0.0             0.0  False  \n",
       "2                       0.0             0.0             0.0  False  \n",
       "3                       0.0             0.0             0.0  False  \n",
       "4                       0.0             0.0             0.0  False  \n",
       "5                       0.0             0.0             0.0  False  \n",
       "6                       0.0             0.0             0.0  False  \n",
       "7                       0.0             0.0             0.0  False  \n",
       "8                       0.0             0.0             0.0  False  \n",
       "9                       0.0             0.0             0.0  False  \n",
       "\n",
       "[10 rows x 23 columns]"
      ]
     },
     "metadata": {},
     "output_type": "display_data"
    },
    {
     "data": {
      "application/vnd.plotly.v1+json": {
       "config": {
        "plotlyServerURL": "https://plot.ly"
       },
       "data": [
        {
         "hoverinfo": "skip",
         "legendgroup": "metric_reference",
         "line": {
          "color": "#3b0280",
          "dash": "dash",
          "shape": "hv",
          "width": 2
         },
         "mode": "lines",
         "name": "Metric",
         "showlegend": true,
         "type": "scatter",
         "x": [
          "2007-01-01T00:00:00",
          "2007-04-01T00:00:00",
          "2007-06-01T00:00:00",
          "2007-07-01T00:00:00",
          "2007-08-01T00:00:00",
          "2007-12-01T00:00:00",
          "2008-04-01T00:00:00",
          "2008-06-01T00:00:00",
          "2008-07-01T00:00:00",
          "2008-12-01T00:00:00",
          "2008-12-01T00:00:00"
         ],
         "xaxis": "x",
         "y": [
          0,
          0,
          0,
          0,
          0,
          0,
          0,
          0,
          0,
          0,
          0
         ],
         "yaxis": "y"
        },
        {
         "customdata": [
          [
           "Estimated <b>RMSE</b>",
           "<b style=\"color:#3b0280;line-height:60px\">Reference</b>",
           "",
           "[0:62]",
           "From <b>Jan-01-2007</b> to <b>Apr-01-2007</b>",
           0,
           null
          ],
          [
           "Estimated <b>RMSE</b>",
           "<b style=\"color:#3b0280;line-height:60px\">Reference</b>",
           "",
           "[63:125]",
           "From <b>Apr-01-2007</b> to <b>Jun-01-2007</b>",
           0,
           null
          ],
          [
           "Estimated <b>RMSE</b>",
           "<b style=\"color:#3b0280;line-height:60px\">Reference</b>",
           "",
           "[126:188]",
           "From <b>Jun-01-2007</b> to <b>Jul-01-2007</b>",
           0,
           null
          ],
          [
           "Estimated <b>RMSE</b>",
           "<b style=\"color:#3b0280;line-height:60px\">Reference</b>",
           "",
           "[189:251]",
           "From <b>Jul-01-2007</b> to <b>Aug-01-2007</b>",
           0,
           null
          ],
          [
           "Estimated <b>RMSE</b>",
           "<b style=\"color:#3b0280;line-height:60px\">Reference</b>",
           "",
           "[252:314]",
           "From <b>Aug-01-2007</b> to <b>Dec-01-2007</b>",
           0,
           null
          ],
          [
           "Estimated <b>RMSE</b>",
           "<b style=\"color:#3b0280;line-height:60px\">Reference</b>",
           "",
           "[315:377]",
           "From <b>Dec-01-2007</b> to <b>Apr-01-2008</b>",
           0,
           null
          ],
          [
           "Estimated <b>RMSE</b>",
           "<b style=\"color:#3b0280;line-height:60px\">Reference</b>",
           "",
           "[378:440]",
           "From <b>Apr-01-2008</b> to <b>Jun-01-2008</b>",
           0,
           null
          ],
          [
           "Estimated <b>RMSE</b>",
           "<b style=\"color:#3b0280;line-height:60px\">Reference</b>",
           "",
           "[441:503]",
           "From <b>Jun-01-2008</b> to <b>Jul-01-2008</b>",
           0,
           null
          ],
          [
           "Estimated <b>RMSE</b>",
           "<b style=\"color:#3b0280;line-height:60px\">Reference</b>",
           "",
           "[504:566]",
           "From <b>Jul-01-2008</b> to <b>Sep-01-2008</b>",
           0,
           null
          ],
          [
           "Estimated <b>RMSE</b>",
           "<b style=\"color:#3b0280;line-height:60px\">Reference</b>",
           "",
           "[630:629]",
           "From <b>Dec-01-2008</b> to <b>Dec-01-2008</b>",
           0,
           null
          ]
         ],
         "hovertemplate": "%{customdata[1]} &nbsp; &nbsp; %{customdata[2]} <br />Chunk: <b>%{customdata[3]}</b> &nbsp; &nbsp; %{customdata[4]} <br />%{customdata[0]}: <b>%{customdata[5]}</b><br />Confidence band: +/- <b>%{customdata[6]}</b><br /><extra></extra>",
         "legendgroup": "metric_reference",
         "line": {
          "dash": "dash"
         },
         "marker": {
          "color": "#3b0280",
          "size": 5,
          "symbol": "circle"
         },
         "mode": "markers",
         "name": "Metric",
         "showlegend": false,
         "type": "scatter",
         "x": [
          "2007-02-15T00:00:00",
          "2007-05-01T12:00:00",
          "2007-06-16T00:00:00",
          "2007-07-16T12:00:00",
          "2007-10-01T00:00:00",
          "2008-01-31T00:00:00",
          "2008-05-01T12:00:00",
          "2008-06-16T00:00:00",
          "2008-09-15T12:00:00",
          "2008-12-01T00:00:00"
         ],
         "xaxis": "x",
         "y": [
          0,
          0,
          0,
          0,
          0,
          0,
          0,
          0,
          0,
          0,
          0
         ],
         "yaxis": "y"
        },
        {
         "hoverinfo": "skip",
         "legendgroup": "metric_analysis",
         "line": {
          "color": "#3b0280",
          "dash": "dash",
          "shape": "hv",
          "width": 2
         },
         "mode": "lines",
         "name": "Metric",
         "showlegend": false,
         "type": "scatter",
         "x": [
          "2009-01-01T00:00:00",
          "2009-04-01T00:00:00",
          "2009-05-01T00:00:00",
          "2009-06-01T00:00:00",
          "2009-07-01T00:00:00",
          "2009-09-01T00:00:00",
          "2009-11-01T00:00:00",
          "2010-02-01T00:00:00",
          "2010-04-01T00:00:00",
          "2010-07-01T00:00:00",
          "2010-07-01T00:00:00"
         ],
         "xaxis": "x",
         "y": [
          0,
          0,
          0,
          0,
          0,
          0,
          0,
          0,
          0,
          0,
          0
         ],
         "yaxis": "y"
        },
        {
         "customdata": [
          [
           "Estimated <b>RMSE</b>",
           "<b style=\"color:#3b0280;line-height:60px\">Analysis</b>",
           "",
           "[0:50]",
           "From <b>Jan-01-2009</b> to <b>Apr-01-2009</b>",
           0,
           null
          ],
          [
           "Estimated <b>RMSE</b>",
           "<b style=\"color:#3b0280;line-height:60px\">Analysis</b>",
           "",
           "[51:101]",
           "From <b>Apr-01-2009</b> to <b>May-01-2009</b>",
           0,
           null
          ],
          [
           "Estimated <b>RMSE</b>",
           "<b style=\"color:#3b0280;line-height:60px\">Analysis</b>",
           "",
           "[102:152]",
           "From <b>May-01-2009</b> to <b>Jun-01-2009</b>",
           0,
           null
          ],
          [
           "Estimated <b>RMSE</b>",
           "<b style=\"color:#3b0280;line-height:60px\">Analysis</b>",
           "",
           "[153:203]",
           "From <b>Jun-01-2009</b> to <b>Jul-01-2009</b>",
           0,
           null
          ],
          [
           "Estimated <b>RMSE</b>",
           "<b style=\"color:#3b0280;line-height:60px\">Analysis</b>",
           "",
           "[204:254]",
           "From <b>Jul-01-2009</b> to <b>Sep-01-2009</b>",
           0,
           null
          ],
          [
           "Estimated <b>RMSE</b>",
           "<b style=\"color:#3b0280;line-height:60px\">Analysis</b>",
           "",
           "[255:305]",
           "From <b>Sep-01-2009</b> to <b>Nov-01-2009</b>",
           0,
           null
          ],
          [
           "Estimated <b>RMSE</b>",
           "<b style=\"color:#3b0280;line-height:60px\">Analysis</b>",
           "",
           "[306:356]",
           "From <b>Nov-01-2009</b> to <b>Feb-01-2010</b>",
           0,
           null
          ],
          [
           "Estimated <b>RMSE</b>",
           "<b style=\"color:#3b0280;line-height:60px\">Analysis</b>",
           "",
           "[357:407]",
           "From <b>Feb-01-2010</b> to <b>Apr-01-2010</b>",
           0,
           null
          ],
          [
           "Estimated <b>RMSE</b>",
           "<b style=\"color:#3b0280;line-height:60px\">Analysis</b>",
           "",
           "[408:458]",
           "From <b>Apr-01-2010</b> to <b>May-01-2010</b>",
           0,
           null
          ],
          [
           "Estimated <b>RMSE</b>",
           "<b style=\"color:#3b0280;line-height:60px\">Analysis</b>",
           "",
           "[510:509]",
           "From <b>Jul-01-2010</b> to <b>Jul-01-2010</b>",
           0,
           null
          ]
         ],
         "hovertemplate": "%{customdata[1]} &nbsp; &nbsp; %{customdata[2]} <br />Chunk: <b>%{customdata[3]}</b> &nbsp; &nbsp; %{customdata[4]} <br />%{customdata[0]}: <b>%{customdata[5]}</b><br />Confidence band: +/- <b>%{customdata[6]}</b><br /><extra></extra>",
         "legendgroup": "metric_analysis",
         "line": {
          "dash": "dash"
         },
         "marker": {
          "color": "#3b0280",
          "size": 5,
          "symbol": "circle"
         },
         "mode": "markers",
         "name": "Metric",
         "showlegend": false,
         "type": "scatter",
         "x": [
          "2009-02-15T00:00:00",
          "2009-04-16T00:00:00",
          "2009-05-16T12:00:00",
          "2009-06-16T00:00:00",
          "2009-08-01T00:00:00",
          "2009-10-01T12:00:00",
          "2009-12-17T00:00:00",
          "2010-03-02T12:00:00",
          "2010-05-16T12:00:00",
          "2010-07-01T00:00:00"
         ],
         "xaxis": "x",
         "y": [
          0,
          0,
          0,
          0,
          0,
          0,
          0,
          0,
          0,
          0,
          0
         ],
         "yaxis": "y"
        },
        {
         "hoverinfo": "skip",
         "legendgroup": "alert",
         "marker": {
          "color": "#DD4040",
          "size": 8,
          "symbol": "diamond"
         },
         "mode": "markers",
         "name": "Alert",
         "showlegend": true,
         "type": "scatter",
         "x": [],
         "xaxis": "x",
         "y": [],
         "yaxis": "y"
        },
        {
         "hoverinfo": "skip",
         "legendgroup": "thresh",
         "line": {
          "color": "#DD4040",
          "dash": "dash",
          "width": 2
         },
         "mode": "lines",
         "name": "Threshold",
         "showlegend": true,
         "type": "scatter",
         "x": [
          "2007-01-01T00:00:00",
          "2007-04-01T00:00:00",
          "2007-06-01T00:00:00",
          "2007-07-01T00:00:00",
          "2007-08-01T00:00:00",
          "2007-12-01T00:00:00",
          "2008-04-01T00:00:00",
          "2008-06-01T00:00:00",
          "2008-07-01T00:00:00",
          "2008-12-01T00:00:00",
          "2008-12-01T00:00:00"
         ],
         "xaxis": "x",
         "y": [
          0,
          0,
          0,
          0,
          0,
          0,
          0,
          0,
          0,
          0,
          0
         ],
         "yaxis": "y"
        },
        {
         "hoverinfo": "skip",
         "legendgroup": "thresh",
         "line": {
          "color": "#DD4040",
          "dash": "dash",
          "width": 2
         },
         "mode": "lines",
         "name": "Threshold",
         "showlegend": false,
         "type": "scatter",
         "x": [
          "2007-01-01T00:00:00",
          "2007-04-01T00:00:00",
          "2007-06-01T00:00:00",
          "2007-07-01T00:00:00",
          "2007-08-01T00:00:00",
          "2007-12-01T00:00:00",
          "2008-04-01T00:00:00",
          "2008-06-01T00:00:00",
          "2008-07-01T00:00:00",
          "2008-12-01T00:00:00",
          "2008-12-01T00:00:00"
         ],
         "xaxis": "x",
         "y": [
          0,
          0,
          0,
          0,
          0,
          0,
          0,
          0,
          0,
          0,
          0
         ],
         "yaxis": "y"
        },
        {
         "hoverinfo": "skip",
         "legendgroup": "thresh",
         "line": {
          "color": "#DD4040",
          "dash": "dash",
          "width": 2
         },
         "mode": "lines",
         "name": "Threshold",
         "showlegend": false,
         "type": "scatter",
         "x": [
          "2009-01-01T00:00:00",
          "2009-04-01T00:00:00",
          "2009-05-01T00:00:00",
          "2009-06-01T00:00:00",
          "2009-07-01T00:00:00",
          "2009-09-01T00:00:00",
          "2009-11-01T00:00:00",
          "2010-02-01T00:00:00",
          "2010-04-01T00:00:00",
          "2010-07-01T00:00:00",
          "2010-07-01T00:00:00"
         ],
         "xaxis": "x",
         "y": [
          0,
          0,
          0,
          0,
          0,
          0,
          0,
          0,
          0,
          0,
          0
         ],
         "yaxis": "y"
        },
        {
         "hoverinfo": "skip",
         "legendgroup": "thresh",
         "line": {
          "color": "#DD4040",
          "dash": "dash",
          "width": 2
         },
         "mode": "lines",
         "name": "Threshold",
         "showlegend": false,
         "type": "scatter",
         "x": [
          "2009-01-01T00:00:00",
          "2009-04-01T00:00:00",
          "2009-05-01T00:00:00",
          "2009-06-01T00:00:00",
          "2009-07-01T00:00:00",
          "2009-09-01T00:00:00",
          "2009-11-01T00:00:00",
          "2010-02-01T00:00:00",
          "2010-04-01T00:00:00",
          "2010-07-01T00:00:00",
          "2010-07-01T00:00:00"
         ],
         "xaxis": "x",
         "y": [
          0,
          0,
          0,
          0,
          0,
          0,
          0,
          0,
          0,
          0,
          0
         ],
         "yaxis": "y"
        },
        {
         "hoverinfo": "skip",
         "line": {
          "color": "rgba(0,0,0,0)",
          "shape": "hv"
         },
         "mode": "lines",
         "name": "Confidence band",
         "showlegend": false,
         "type": "scatter",
         "x": [
          "2007-01-01T00:00:00",
          "2007-04-01T00:00:00",
          "2007-06-01T00:00:00",
          "2007-07-01T00:00:00",
          "2007-08-01T00:00:00",
          "2007-12-01T00:00:00",
          "2008-04-01T00:00:00",
          "2008-06-01T00:00:00",
          "2008-07-01T00:00:00",
          "2008-12-01T00:00:00",
          "2008-12-01T00:00:00"
         ],
         "xaxis": "x",
         "y": [
          null,
          null,
          null,
          null,
          null,
          null,
          null,
          null,
          null,
          null,
          null
         ],
         "yaxis": "y"
        },
        {
         "fill": "tonexty",
         "fillcolor": "rgba(0.23137254901960785, 0.00784313725490196, 0.5019607843137255, 0.2)",
         "hoverinfo": "skip",
         "line": {
          "color": "rgba(0,0,0,0)",
          "shape": "hv"
         },
         "mode": "lines",
         "name": "Confidence band",
         "showlegend": true,
         "type": "scatter",
         "x": [
          "2007-01-01T00:00:00",
          "2007-04-01T00:00:00",
          "2007-06-01T00:00:00",
          "2007-07-01T00:00:00",
          "2007-08-01T00:00:00",
          "2007-12-01T00:00:00",
          "2008-04-01T00:00:00",
          "2008-06-01T00:00:00",
          "2008-07-01T00:00:00",
          "2008-12-01T00:00:00",
          "2008-12-01T00:00:00"
         ],
         "xaxis": "x",
         "y": [
          0,
          0,
          0,
          0,
          0,
          0,
          0,
          0,
          0,
          0,
          0
         ],
         "yaxis": "y"
        },
        {
         "hoverinfo": "skip",
         "line": {
          "color": "rgba(0,0,0,0)",
          "shape": "hv"
         },
         "mode": "lines",
         "name": "Confidence band",
         "showlegend": false,
         "type": "scatter",
         "x": [
          "2009-01-01T00:00:00",
          "2009-04-01T00:00:00",
          "2009-05-01T00:00:00",
          "2009-06-01T00:00:00",
          "2009-07-01T00:00:00",
          "2009-09-01T00:00:00",
          "2009-11-01T00:00:00",
          "2010-02-01T00:00:00",
          "2010-04-01T00:00:00",
          "2010-07-01T00:00:00",
          "2010-07-01T00:00:00"
         ],
         "xaxis": "x",
         "y": [
          null,
          null,
          null,
          null,
          null,
          null,
          null,
          null,
          null,
          null,
          null
         ],
         "yaxis": "y"
        },
        {
         "fill": "tonexty",
         "fillcolor": "rgba(0.23137254901960785, 0.00784313725490196, 0.5019607843137255, 0.2)",
         "hoverinfo": "skip",
         "line": {
          "color": "rgba(0,0,0,0)",
          "shape": "hv"
         },
         "mode": "lines",
         "name": "Confidence band",
         "showlegend": false,
         "type": "scatter",
         "x": [
          "2009-01-01T00:00:00",
          "2009-04-01T00:00:00",
          "2009-05-01T00:00:00",
          "2009-06-01T00:00:00",
          "2009-07-01T00:00:00",
          "2009-09-01T00:00:00",
          "2009-11-01T00:00:00",
          "2010-02-01T00:00:00",
          "2010-04-01T00:00:00",
          "2010-07-01T00:00:00",
          "2010-07-01T00:00:00"
         ],
         "xaxis": "x",
         "y": [
          0,
          0,
          0,
          0,
          0,
          0,
          0,
          0,
          0,
          0,
          0
         ],
         "yaxis": "y"
        },
        {
         "hoverinfo": "skip",
         "legendgroup": "metric_reference",
         "line": {
          "color": "#3b0280",
          "dash": "dash",
          "shape": "hv",
          "width": 2
         },
         "mode": "lines",
         "name": "Metric",
         "showlegend": false,
         "type": "scatter",
         "x": [
          "2007-01-01T00:00:00",
          "2007-04-01T00:00:00",
          "2007-06-01T00:00:00",
          "2007-07-01T00:00:00",
          "2007-08-01T00:00:00",
          "2007-12-01T00:00:00",
          "2008-04-01T00:00:00",
          "2008-06-01T00:00:00",
          "2008-07-01T00:00:00",
          "2008-12-01T00:00:00",
          "2008-12-01T00:00:00"
         ],
         "xaxis": "x2",
         "y": [
          0,
          0,
          0,
          0,
          0,
          0,
          0,
          0,
          0,
          0,
          0
         ],
         "yaxis": "y2"
        },
        {
         "customdata": [
          [
           "Estimated <b>RMSLE</b>",
           "<b style=\"color:#3b0280;line-height:60px\">Reference</b>",
           "",
           "[0:62]",
           "From <b>Jan-01-2007</b> to <b>Apr-01-2007</b>",
           0,
           null
          ],
          [
           "Estimated <b>RMSLE</b>",
           "<b style=\"color:#3b0280;line-height:60px\">Reference</b>",
           "",
           "[63:125]",
           "From <b>Apr-01-2007</b> to <b>Jun-01-2007</b>",
           0,
           null
          ],
          [
           "Estimated <b>RMSLE</b>",
           "<b style=\"color:#3b0280;line-height:60px\">Reference</b>",
           "",
           "[126:188]",
           "From <b>Jun-01-2007</b> to <b>Jul-01-2007</b>",
           0,
           null
          ],
          [
           "Estimated <b>RMSLE</b>",
           "<b style=\"color:#3b0280;line-height:60px\">Reference</b>",
           "",
           "[189:251]",
           "From <b>Jul-01-2007</b> to <b>Aug-01-2007</b>",
           0,
           null
          ],
          [
           "Estimated <b>RMSLE</b>",
           "<b style=\"color:#3b0280;line-height:60px\">Reference</b>",
           "",
           "[252:314]",
           "From <b>Aug-01-2007</b> to <b>Dec-01-2007</b>",
           0,
           null
          ],
          [
           "Estimated <b>RMSLE</b>",
           "<b style=\"color:#3b0280;line-height:60px\">Reference</b>",
           "",
           "[315:377]",
           "From <b>Dec-01-2007</b> to <b>Apr-01-2008</b>",
           0,
           null
          ],
          [
           "Estimated <b>RMSLE</b>",
           "<b style=\"color:#3b0280;line-height:60px\">Reference</b>",
           "",
           "[378:440]",
           "From <b>Apr-01-2008</b> to <b>Jun-01-2008</b>",
           0,
           null
          ],
          [
           "Estimated <b>RMSLE</b>",
           "<b style=\"color:#3b0280;line-height:60px\">Reference</b>",
           "",
           "[441:503]",
           "From <b>Jun-01-2008</b> to <b>Jul-01-2008</b>",
           0,
           null
          ],
          [
           "Estimated <b>RMSLE</b>",
           "<b style=\"color:#3b0280;line-height:60px\">Reference</b>",
           "",
           "[504:566]",
           "From <b>Jul-01-2008</b> to <b>Sep-01-2008</b>",
           0,
           null
          ],
          [
           "Estimated <b>RMSLE</b>",
           "<b style=\"color:#3b0280;line-height:60px\">Reference</b>",
           "",
           "[630:629]",
           "From <b>Dec-01-2008</b> to <b>Dec-01-2008</b>",
           0,
           null
          ]
         ],
         "hovertemplate": "%{customdata[1]} &nbsp; &nbsp; %{customdata[2]} <br />Chunk: <b>%{customdata[3]}</b> &nbsp; &nbsp; %{customdata[4]} <br />%{customdata[0]}: <b>%{customdata[5]}</b><br />Confidence band: +/- <b>%{customdata[6]}</b><br /><extra></extra>",
         "legendgroup": "metric_reference",
         "line": {
          "dash": "dash"
         },
         "marker": {
          "color": "#3b0280",
          "size": 5,
          "symbol": "circle"
         },
         "mode": "markers",
         "name": "Metric",
         "showlegend": false,
         "type": "scatter",
         "x": [
          "2007-02-15T00:00:00",
          "2007-05-01T12:00:00",
          "2007-06-16T00:00:00",
          "2007-07-16T12:00:00",
          "2007-10-01T00:00:00",
          "2008-01-31T00:00:00",
          "2008-05-01T12:00:00",
          "2008-06-16T00:00:00",
          "2008-09-15T12:00:00",
          "2008-12-01T00:00:00"
         ],
         "xaxis": "x2",
         "y": [
          0,
          0,
          0,
          0,
          0,
          0,
          0,
          0,
          0,
          0,
          0
         ],
         "yaxis": "y2"
        },
        {
         "hoverinfo": "skip",
         "legendgroup": "metric_analysis",
         "line": {
          "color": "#3b0280",
          "dash": "dash",
          "shape": "hv",
          "width": 2
         },
         "mode": "lines",
         "name": "Metric",
         "showlegend": false,
         "type": "scatter",
         "x": [
          "2009-01-01T00:00:00",
          "2009-04-01T00:00:00",
          "2009-05-01T00:00:00",
          "2009-06-01T00:00:00",
          "2009-07-01T00:00:00",
          "2009-09-01T00:00:00",
          "2009-11-01T00:00:00",
          "2010-02-01T00:00:00",
          "2010-04-01T00:00:00",
          "2010-07-01T00:00:00",
          "2010-07-01T00:00:00"
         ],
         "xaxis": "x2",
         "y": [
          0,
          0,
          0,
          0,
          0,
          0,
          0,
          0,
          0,
          0,
          0
         ],
         "yaxis": "y2"
        },
        {
         "customdata": [
          [
           "Estimated <b>RMSLE</b>",
           "<b style=\"color:#3b0280;line-height:60px\">Analysis</b>",
           "",
           "[0:50]",
           "From <b>Jan-01-2009</b> to <b>Apr-01-2009</b>",
           0,
           null
          ],
          [
           "Estimated <b>RMSLE</b>",
           "<b style=\"color:#3b0280;line-height:60px\">Analysis</b>",
           "",
           "[51:101]",
           "From <b>Apr-01-2009</b> to <b>May-01-2009</b>",
           0,
           null
          ],
          [
           "Estimated <b>RMSLE</b>",
           "<b style=\"color:#3b0280;line-height:60px\">Analysis</b>",
           "",
           "[102:152]",
           "From <b>May-01-2009</b> to <b>Jun-01-2009</b>",
           0,
           null
          ],
          [
           "Estimated <b>RMSLE</b>",
           "<b style=\"color:#3b0280;line-height:60px\">Analysis</b>",
           "",
           "[153:203]",
           "From <b>Jun-01-2009</b> to <b>Jul-01-2009</b>",
           0,
           null
          ],
          [
           "Estimated <b>RMSLE</b>",
           "<b style=\"color:#3b0280;line-height:60px\">Analysis</b>",
           "",
           "[204:254]",
           "From <b>Jul-01-2009</b> to <b>Sep-01-2009</b>",
           0,
           null
          ],
          [
           "Estimated <b>RMSLE</b>",
           "<b style=\"color:#3b0280;line-height:60px\">Analysis</b>",
           "",
           "[255:305]",
           "From <b>Sep-01-2009</b> to <b>Nov-01-2009</b>",
           0,
           null
          ],
          [
           "Estimated <b>RMSLE</b>",
           "<b style=\"color:#3b0280;line-height:60px\">Analysis</b>",
           "",
           "[306:356]",
           "From <b>Nov-01-2009</b> to <b>Feb-01-2010</b>",
           0,
           null
          ],
          [
           "Estimated <b>RMSLE</b>",
           "<b style=\"color:#3b0280;line-height:60px\">Analysis</b>",
           "",
           "[357:407]",
           "From <b>Feb-01-2010</b> to <b>Apr-01-2010</b>",
           0,
           null
          ],
          [
           "Estimated <b>RMSLE</b>",
           "<b style=\"color:#3b0280;line-height:60px\">Analysis</b>",
           "",
           "[408:458]",
           "From <b>Apr-01-2010</b> to <b>May-01-2010</b>",
           0,
           null
          ],
          [
           "Estimated <b>RMSLE</b>",
           "<b style=\"color:#3b0280;line-height:60px\">Analysis</b>",
           "",
           "[510:509]",
           "From <b>Jul-01-2010</b> to <b>Jul-01-2010</b>",
           0,
           null
          ]
         ],
         "hovertemplate": "%{customdata[1]} &nbsp; &nbsp; %{customdata[2]} <br />Chunk: <b>%{customdata[3]}</b> &nbsp; &nbsp; %{customdata[4]} <br />%{customdata[0]}: <b>%{customdata[5]}</b><br />Confidence band: +/- <b>%{customdata[6]}</b><br /><extra></extra>",
         "legendgroup": "metric_analysis",
         "line": {
          "dash": "dash"
         },
         "marker": {
          "color": "#3b0280",
          "size": 5,
          "symbol": "circle"
         },
         "mode": "markers",
         "name": "Metric",
         "showlegend": false,
         "type": "scatter",
         "x": [
          "2009-02-15T00:00:00",
          "2009-04-16T00:00:00",
          "2009-05-16T12:00:00",
          "2009-06-16T00:00:00",
          "2009-08-01T00:00:00",
          "2009-10-01T12:00:00",
          "2009-12-17T00:00:00",
          "2010-03-02T12:00:00",
          "2010-05-16T12:00:00",
          "2010-07-01T00:00:00"
         ],
         "xaxis": "x2",
         "y": [
          0,
          0,
          0,
          0,
          0,
          0,
          0,
          0,
          0,
          0,
          0
         ],
         "yaxis": "y2"
        },
        {
         "hoverinfo": "skip",
         "legendgroup": "alert",
         "marker": {
          "color": "#DD4040",
          "size": 8,
          "symbol": "diamond"
         },
         "mode": "markers",
         "name": "Alert",
         "showlegend": false,
         "type": "scatter",
         "x": [],
         "xaxis": "x2",
         "y": [],
         "yaxis": "y2"
        },
        {
         "hoverinfo": "skip",
         "legendgroup": "thresh",
         "line": {
          "color": "#DD4040",
          "dash": "dash",
          "width": 2
         },
         "mode": "lines",
         "name": "Threshold",
         "showlegend": false,
         "type": "scatter",
         "x": [
          "2007-01-01T00:00:00",
          "2007-04-01T00:00:00",
          "2007-06-01T00:00:00",
          "2007-07-01T00:00:00",
          "2007-08-01T00:00:00",
          "2007-12-01T00:00:00",
          "2008-04-01T00:00:00",
          "2008-06-01T00:00:00",
          "2008-07-01T00:00:00",
          "2008-12-01T00:00:00",
          "2008-12-01T00:00:00"
         ],
         "xaxis": "x2",
         "y": [
          0,
          0,
          0,
          0,
          0,
          0,
          0,
          0,
          0,
          0,
          0
         ],
         "yaxis": "y2"
        },
        {
         "hoverinfo": "skip",
         "legendgroup": "thresh",
         "line": {
          "color": "#DD4040",
          "dash": "dash",
          "width": 2
         },
         "mode": "lines",
         "name": "Threshold",
         "showlegend": false,
         "type": "scatter",
         "x": [
          "2007-01-01T00:00:00",
          "2007-04-01T00:00:00",
          "2007-06-01T00:00:00",
          "2007-07-01T00:00:00",
          "2007-08-01T00:00:00",
          "2007-12-01T00:00:00",
          "2008-04-01T00:00:00",
          "2008-06-01T00:00:00",
          "2008-07-01T00:00:00",
          "2008-12-01T00:00:00",
          "2008-12-01T00:00:00"
         ],
         "xaxis": "x2",
         "y": [
          0,
          0,
          0,
          0,
          0,
          0,
          0,
          0,
          0,
          0,
          0
         ],
         "yaxis": "y2"
        },
        {
         "hoverinfo": "skip",
         "legendgroup": "thresh",
         "line": {
          "color": "#DD4040",
          "dash": "dash",
          "width": 2
         },
         "mode": "lines",
         "name": "Threshold",
         "showlegend": false,
         "type": "scatter",
         "x": [
          "2009-01-01T00:00:00",
          "2009-04-01T00:00:00",
          "2009-05-01T00:00:00",
          "2009-06-01T00:00:00",
          "2009-07-01T00:00:00",
          "2009-09-01T00:00:00",
          "2009-11-01T00:00:00",
          "2010-02-01T00:00:00",
          "2010-04-01T00:00:00",
          "2010-07-01T00:00:00",
          "2010-07-01T00:00:00"
         ],
         "xaxis": "x2",
         "y": [
          0,
          0,
          0,
          0,
          0,
          0,
          0,
          0,
          0,
          0,
          0
         ],
         "yaxis": "y2"
        },
        {
         "hoverinfo": "skip",
         "legendgroup": "thresh",
         "line": {
          "color": "#DD4040",
          "dash": "dash",
          "width": 2
         },
         "mode": "lines",
         "name": "Threshold",
         "showlegend": false,
         "type": "scatter",
         "x": [
          "2009-01-01T00:00:00",
          "2009-04-01T00:00:00",
          "2009-05-01T00:00:00",
          "2009-06-01T00:00:00",
          "2009-07-01T00:00:00",
          "2009-09-01T00:00:00",
          "2009-11-01T00:00:00",
          "2010-02-01T00:00:00",
          "2010-04-01T00:00:00",
          "2010-07-01T00:00:00",
          "2010-07-01T00:00:00"
         ],
         "xaxis": "x2",
         "y": [
          0,
          0,
          0,
          0,
          0,
          0,
          0,
          0,
          0,
          0,
          0
         ],
         "yaxis": "y2"
        },
        {
         "hoverinfo": "skip",
         "line": {
          "color": "rgba(0,0,0,0)",
          "shape": "hv"
         },
         "mode": "lines",
         "name": "Confidence band",
         "showlegend": false,
         "type": "scatter",
         "x": [
          "2007-01-01T00:00:00",
          "2007-04-01T00:00:00",
          "2007-06-01T00:00:00",
          "2007-07-01T00:00:00",
          "2007-08-01T00:00:00",
          "2007-12-01T00:00:00",
          "2008-04-01T00:00:00",
          "2008-06-01T00:00:00",
          "2008-07-01T00:00:00",
          "2008-12-01T00:00:00",
          "2008-12-01T00:00:00"
         ],
         "xaxis": "x2",
         "y": [
          null,
          null,
          null,
          null,
          null,
          null,
          null,
          null,
          null,
          null,
          null
         ],
         "yaxis": "y2"
        },
        {
         "fill": "tonexty",
         "fillcolor": "rgba(0.23137254901960785, 0.00784313725490196, 0.5019607843137255, 0.2)",
         "hoverinfo": "skip",
         "line": {
          "color": "rgba(0,0,0,0)",
          "shape": "hv"
         },
         "mode": "lines",
         "name": "Confidence band",
         "showlegend": false,
         "type": "scatter",
         "x": [
          "2007-01-01T00:00:00",
          "2007-04-01T00:00:00",
          "2007-06-01T00:00:00",
          "2007-07-01T00:00:00",
          "2007-08-01T00:00:00",
          "2007-12-01T00:00:00",
          "2008-04-01T00:00:00",
          "2008-06-01T00:00:00",
          "2008-07-01T00:00:00",
          "2008-12-01T00:00:00",
          "2008-12-01T00:00:00"
         ],
         "xaxis": "x2",
         "y": [
          0,
          0,
          0,
          0,
          0,
          0,
          0,
          0,
          0,
          0,
          0
         ],
         "yaxis": "y2"
        },
        {
         "hoverinfo": "skip",
         "line": {
          "color": "rgba(0,0,0,0)",
          "shape": "hv"
         },
         "mode": "lines",
         "name": "Confidence band",
         "showlegend": false,
         "type": "scatter",
         "x": [
          "2009-01-01T00:00:00",
          "2009-04-01T00:00:00",
          "2009-05-01T00:00:00",
          "2009-06-01T00:00:00",
          "2009-07-01T00:00:00",
          "2009-09-01T00:00:00",
          "2009-11-01T00:00:00",
          "2010-02-01T00:00:00",
          "2010-04-01T00:00:00",
          "2010-07-01T00:00:00",
          "2010-07-01T00:00:00"
         ],
         "xaxis": "x2",
         "y": [
          null,
          null,
          null,
          null,
          null,
          null,
          null,
          null,
          null,
          null,
          null
         ],
         "yaxis": "y2"
        },
        {
         "fill": "tonexty",
         "fillcolor": "rgba(0.23137254901960785, 0.00784313725490196, 0.5019607843137255, 0.2)",
         "hoverinfo": "skip",
         "line": {
          "color": "rgba(0,0,0,0)",
          "shape": "hv"
         },
         "mode": "lines",
         "name": "Confidence band",
         "showlegend": false,
         "type": "scatter",
         "x": [
          "2009-01-01T00:00:00",
          "2009-04-01T00:00:00",
          "2009-05-01T00:00:00",
          "2009-06-01T00:00:00",
          "2009-07-01T00:00:00",
          "2009-09-01T00:00:00",
          "2009-11-01T00:00:00",
          "2010-02-01T00:00:00",
          "2010-04-01T00:00:00",
          "2010-07-01T00:00:00",
          "2010-07-01T00:00:00"
         ],
         "xaxis": "x2",
         "y": [
          0,
          0,
          0,
          0,
          0,
          0,
          0,
          0,
          0,
          0,
          0
         ],
         "yaxis": "y2"
        }
       ],
       "layout": {
        "annotations": [
         {
          "font": {
           "size": 16
          },
          "showarrow": false,
          "text": "Estimated <b>RMSE</b>",
          "x": 0.5,
          "xanchor": "center",
          "xref": "paper",
          "y": 1,
          "yanchor": "bottom",
          "yref": "paper"
         },
         {
          "font": {
           "size": 16
          },
          "showarrow": false,
          "text": "Estimated <b>RMSLE</b>",
          "x": 0.5,
          "xanchor": "center",
          "xref": "paper",
          "y": 0.375,
          "yanchor": "bottom",
          "yref": "paper"
         },
         {
          "showarrow": false,
          "text": "Reference",
          "x": "2007-11-15T19:12:00",
          "xref": "x",
          "xshift": 10,
          "y": 1.01,
          "yref": "y domain"
         },
         {
          "showarrow": false,
          "text": "Analysis",
          "x": "2009-09-06T14:24:00",
          "xref": "x",
          "xshift": 15,
          "y": 1.01,
          "yref": "y domain"
         },
         {
          "showarrow": false,
          "text": "Reference",
          "x": "2007-11-15T19:12:00",
          "xref": "x2",
          "xshift": 10,
          "y": 1.01,
          "yref": "y2 domain"
         },
         {
          "showarrow": false,
          "text": "Analysis",
          "x": "2009-09-06T14:24:00",
          "xref": "x2",
          "xshift": 15,
          "y": 1.01,
          "yref": "y2 domain"
         }
        ],
        "height": 1000,
        "hoverlabel": {
         "bgcolor": "white",
         "font": {
          "size": 14
         }
        },
        "legend": {
         "itemclick": false,
         "itemdoubleclick": false,
         "traceorder": "grouped"
        },
        "paper_bgcolor": "rgba(255,255,255,1)",
        "plot_bgcolor": "rgba(255,255,255,1)",
        "shapes": [
         {
          "layer": "below",
          "line": {
           "color": "#666666",
           "width": 1
          },
          "type": "line",
          "x0": "2009-01-01T00:00:00",
          "x1": "2009-01-01T00:00:00",
          "xref": "x",
          "y0": 0,
          "y1": 1,
          "yref": "y domain"
         },
         {
          "layer": "below",
          "line": {
           "color": "#666666",
           "width": 1
          },
          "type": "line",
          "x0": "2009-01-01T00:00:00",
          "x1": "2009-01-01T00:00:00",
          "xref": "x",
          "y0": 0,
          "y1": 1,
          "yref": "y domain"
         },
         {
          "layer": "below",
          "line": {
           "color": "#666666",
           "width": 1
          },
          "type": "line",
          "x0": "2009-01-01T00:00:00",
          "x1": "2009-01-01T00:00:00",
          "xref": "x2",
          "y0": 0,
          "y1": 1,
          "yref": "y2 domain"
         }
        ],
        "template": {
         "data": {
          "bar": [
           {
            "error_x": {
             "color": "#2a3f5f"
            },
            "error_y": {
             "color": "#2a3f5f"
            },
            "marker": {
             "line": {
              "color": "#E5ECF6",
              "width": 0.5
             },
             "pattern": {
              "fillmode": "overlay",
              "size": 10,
              "solidity": 0.2
             }
            },
            "type": "bar"
           }
          ],
          "barpolar": [
           {
            "marker": {
             "line": {
              "color": "#E5ECF6",
              "width": 0.5
             },
             "pattern": {
              "fillmode": "overlay",
              "size": 10,
              "solidity": 0.2
             }
            },
            "type": "barpolar"
           }
          ],
          "carpet": [
           {
            "aaxis": {
             "endlinecolor": "#2a3f5f",
             "gridcolor": "white",
             "linecolor": "white",
             "minorgridcolor": "white",
             "startlinecolor": "#2a3f5f"
            },
            "baxis": {
             "endlinecolor": "#2a3f5f",
             "gridcolor": "white",
             "linecolor": "white",
             "minorgridcolor": "white",
             "startlinecolor": "#2a3f5f"
            },
            "type": "carpet"
           }
          ],
          "choropleth": [
           {
            "colorbar": {
             "outlinewidth": 0,
             "ticks": ""
            },
            "type": "choropleth"
           }
          ],
          "contour": [
           {
            "colorbar": {
             "outlinewidth": 0,
             "ticks": ""
            },
            "colorscale": [
             [
              0,
              "#0d0887"
             ],
             [
              0.1111111111111111,
              "#46039f"
             ],
             [
              0.2222222222222222,
              "#7201a8"
             ],
             [
              0.3333333333333333,
              "#9c179e"
             ],
             [
              0.4444444444444444,
              "#bd3786"
             ],
             [
              0.5555555555555556,
              "#d8576b"
             ],
             [
              0.6666666666666666,
              "#ed7953"
             ],
             [
              0.7777777777777778,
              "#fb9f3a"
             ],
             [
              0.8888888888888888,
              "#fdca26"
             ],
             [
              1,
              "#f0f921"
             ]
            ],
            "type": "contour"
           }
          ],
          "contourcarpet": [
           {
            "colorbar": {
             "outlinewidth": 0,
             "ticks": ""
            },
            "type": "contourcarpet"
           }
          ],
          "heatmap": [
           {
            "colorbar": {
             "outlinewidth": 0,
             "ticks": ""
            },
            "colorscale": [
             [
              0,
              "#0d0887"
             ],
             [
              0.1111111111111111,
              "#46039f"
             ],
             [
              0.2222222222222222,
              "#7201a8"
             ],
             [
              0.3333333333333333,
              "#9c179e"
             ],
             [
              0.4444444444444444,
              "#bd3786"
             ],
             [
              0.5555555555555556,
              "#d8576b"
             ],
             [
              0.6666666666666666,
              "#ed7953"
             ],
             [
              0.7777777777777778,
              "#fb9f3a"
             ],
             [
              0.8888888888888888,
              "#fdca26"
             ],
             [
              1,
              "#f0f921"
             ]
            ],
            "type": "heatmap"
           }
          ],
          "heatmapgl": [
           {
            "colorbar": {
             "outlinewidth": 0,
             "ticks": ""
            },
            "colorscale": [
             [
              0,
              "#0d0887"
             ],
             [
              0.1111111111111111,
              "#46039f"
             ],
             [
              0.2222222222222222,
              "#7201a8"
             ],
             [
              0.3333333333333333,
              "#9c179e"
             ],
             [
              0.4444444444444444,
              "#bd3786"
             ],
             [
              0.5555555555555556,
              "#d8576b"
             ],
             [
              0.6666666666666666,
              "#ed7953"
             ],
             [
              0.7777777777777778,
              "#fb9f3a"
             ],
             [
              0.8888888888888888,
              "#fdca26"
             ],
             [
              1,
              "#f0f921"
             ]
            ],
            "type": "heatmapgl"
           }
          ],
          "histogram": [
           {
            "marker": {
             "pattern": {
              "fillmode": "overlay",
              "size": 10,
              "solidity": 0.2
             }
            },
            "type": "histogram"
           }
          ],
          "histogram2d": [
           {
            "colorbar": {
             "outlinewidth": 0,
             "ticks": ""
            },
            "colorscale": [
             [
              0,
              "#0d0887"
             ],
             [
              0.1111111111111111,
              "#46039f"
             ],
             [
              0.2222222222222222,
              "#7201a8"
             ],
             [
              0.3333333333333333,
              "#9c179e"
             ],
             [
              0.4444444444444444,
              "#bd3786"
             ],
             [
              0.5555555555555556,
              "#d8576b"
             ],
             [
              0.6666666666666666,
              "#ed7953"
             ],
             [
              0.7777777777777778,
              "#fb9f3a"
             ],
             [
              0.8888888888888888,
              "#fdca26"
             ],
             [
              1,
              "#f0f921"
             ]
            ],
            "type": "histogram2d"
           }
          ],
          "histogram2dcontour": [
           {
            "colorbar": {
             "outlinewidth": 0,
             "ticks": ""
            },
            "colorscale": [
             [
              0,
              "#0d0887"
             ],
             [
              0.1111111111111111,
              "#46039f"
             ],
             [
              0.2222222222222222,
              "#7201a8"
             ],
             [
              0.3333333333333333,
              "#9c179e"
             ],
             [
              0.4444444444444444,
              "#bd3786"
             ],
             [
              0.5555555555555556,
              "#d8576b"
             ],
             [
              0.6666666666666666,
              "#ed7953"
             ],
             [
              0.7777777777777778,
              "#fb9f3a"
             ],
             [
              0.8888888888888888,
              "#fdca26"
             ],
             [
              1,
              "#f0f921"
             ]
            ],
            "type": "histogram2dcontour"
           }
          ],
          "mesh3d": [
           {
            "colorbar": {
             "outlinewidth": 0,
             "ticks": ""
            },
            "type": "mesh3d"
           }
          ],
          "parcoords": [
           {
            "line": {
             "colorbar": {
              "outlinewidth": 0,
              "ticks": ""
             }
            },
            "type": "parcoords"
           }
          ],
          "pie": [
           {
            "automargin": true,
            "type": "pie"
           }
          ],
          "scatter": [
           {
            "fillpattern": {
             "fillmode": "overlay",
             "size": 10,
             "solidity": 0.2
            },
            "type": "scatter"
           }
          ],
          "scatter3d": [
           {
            "line": {
             "colorbar": {
              "outlinewidth": 0,
              "ticks": ""
             }
            },
            "marker": {
             "colorbar": {
              "outlinewidth": 0,
              "ticks": ""
             }
            },
            "type": "scatter3d"
           }
          ],
          "scattercarpet": [
           {
            "marker": {
             "colorbar": {
              "outlinewidth": 0,
              "ticks": ""
             }
            },
            "type": "scattercarpet"
           }
          ],
          "scattergeo": [
           {
            "marker": {
             "colorbar": {
              "outlinewidth": 0,
              "ticks": ""
             }
            },
            "type": "scattergeo"
           }
          ],
          "scattergl": [
           {
            "marker": {
             "colorbar": {
              "outlinewidth": 0,
              "ticks": ""
             }
            },
            "type": "scattergl"
           }
          ],
          "scattermapbox": [
           {
            "marker": {
             "colorbar": {
              "outlinewidth": 0,
              "ticks": ""
             }
            },
            "type": "scattermapbox"
           }
          ],
          "scatterpolar": [
           {
            "marker": {
             "colorbar": {
              "outlinewidth": 0,
              "ticks": ""
             }
            },
            "type": "scatterpolar"
           }
          ],
          "scatterpolargl": [
           {
            "marker": {
             "colorbar": {
              "outlinewidth": 0,
              "ticks": ""
             }
            },
            "type": "scatterpolargl"
           }
          ],
          "scatterternary": [
           {
            "marker": {
             "colorbar": {
              "outlinewidth": 0,
              "ticks": ""
             }
            },
            "type": "scatterternary"
           }
          ],
          "surface": [
           {
            "colorbar": {
             "outlinewidth": 0,
             "ticks": ""
            },
            "colorscale": [
             [
              0,
              "#0d0887"
             ],
             [
              0.1111111111111111,
              "#46039f"
             ],
             [
              0.2222222222222222,
              "#7201a8"
             ],
             [
              0.3333333333333333,
              "#9c179e"
             ],
             [
              0.4444444444444444,
              "#bd3786"
             ],
             [
              0.5555555555555556,
              "#d8576b"
             ],
             [
              0.6666666666666666,
              "#ed7953"
             ],
             [
              0.7777777777777778,
              "#fb9f3a"
             ],
             [
              0.8888888888888888,
              "#fdca26"
             ],
             [
              1,
              "#f0f921"
             ]
            ],
            "type": "surface"
           }
          ],
          "table": [
           {
            "cells": {
             "fill": {
              "color": "#EBF0F8"
             },
             "line": {
              "color": "white"
             }
            },
            "header": {
             "fill": {
              "color": "#C8D4E3"
             },
             "line": {
              "color": "white"
             }
            },
            "type": "table"
           }
          ]
         },
         "layout": {
          "annotationdefaults": {
           "arrowcolor": "#2a3f5f",
           "arrowhead": 0,
           "arrowwidth": 1
          },
          "autotypenumbers": "strict",
          "coloraxis": {
           "colorbar": {
            "outlinewidth": 0,
            "ticks": ""
           }
          },
          "colorscale": {
           "diverging": [
            [
             0,
             "#8e0152"
            ],
            [
             0.1,
             "#c51b7d"
            ],
            [
             0.2,
             "#de77ae"
            ],
            [
             0.3,
             "#f1b6da"
            ],
            [
             0.4,
             "#fde0ef"
            ],
            [
             0.5,
             "#f7f7f7"
            ],
            [
             0.6,
             "#e6f5d0"
            ],
            [
             0.7,
             "#b8e186"
            ],
            [
             0.8,
             "#7fbc41"
            ],
            [
             0.9,
             "#4d9221"
            ],
            [
             1,
             "#276419"
            ]
           ],
           "sequential": [
            [
             0,
             "#0d0887"
            ],
            [
             0.1111111111111111,
             "#46039f"
            ],
            [
             0.2222222222222222,
             "#7201a8"
            ],
            [
             0.3333333333333333,
             "#9c179e"
            ],
            [
             0.4444444444444444,
             "#bd3786"
            ],
            [
             0.5555555555555556,
             "#d8576b"
            ],
            [
             0.6666666666666666,
             "#ed7953"
            ],
            [
             0.7777777777777778,
             "#fb9f3a"
            ],
            [
             0.8888888888888888,
             "#fdca26"
            ],
            [
             1,
             "#f0f921"
            ]
           ],
           "sequentialminus": [
            [
             0,
             "#0d0887"
            ],
            [
             0.1111111111111111,
             "#46039f"
            ],
            [
             0.2222222222222222,
             "#7201a8"
            ],
            [
             0.3333333333333333,
             "#9c179e"
            ],
            [
             0.4444444444444444,
             "#bd3786"
            ],
            [
             0.5555555555555556,
             "#d8576b"
            ],
            [
             0.6666666666666666,
             "#ed7953"
            ],
            [
             0.7777777777777778,
             "#fb9f3a"
            ],
            [
             0.8888888888888888,
             "#fdca26"
            ],
            [
             1,
             "#f0f921"
            ]
           ]
          },
          "colorway": [
           "#636efa",
           "#EF553B",
           "#00cc96",
           "#ab63fa",
           "#FFA15A",
           "#19d3f3",
           "#FF6692",
           "#B6E880",
           "#FF97FF",
           "#FECB52"
          ],
          "font": {
           "color": "#2a3f5f"
          },
          "geo": {
           "bgcolor": "white",
           "lakecolor": "white",
           "landcolor": "#E5ECF6",
           "showlakes": true,
           "showland": true,
           "subunitcolor": "white"
          },
          "hoverlabel": {
           "align": "left"
          },
          "hovermode": "closest",
          "mapbox": {
           "style": "light"
          },
          "paper_bgcolor": "white",
          "plot_bgcolor": "#E5ECF6",
          "polar": {
           "angularaxis": {
            "gridcolor": "white",
            "linecolor": "white",
            "ticks": ""
           },
           "bgcolor": "#E5ECF6",
           "radialaxis": {
            "gridcolor": "white",
            "linecolor": "white",
            "ticks": ""
           }
          },
          "scene": {
           "xaxis": {
            "backgroundcolor": "#E5ECF6",
            "gridcolor": "white",
            "gridwidth": 2,
            "linecolor": "white",
            "showbackground": true,
            "ticks": "",
            "zerolinecolor": "white"
           },
           "yaxis": {
            "backgroundcolor": "#E5ECF6",
            "gridcolor": "white",
            "gridwidth": 2,
            "linecolor": "white",
            "showbackground": true,
            "ticks": "",
            "zerolinecolor": "white"
           },
           "zaxis": {
            "backgroundcolor": "#E5ECF6",
            "gridcolor": "white",
            "gridwidth": 2,
            "linecolor": "white",
            "showbackground": true,
            "ticks": "",
            "zerolinecolor": "white"
           }
          },
          "shapedefaults": {
           "line": {
            "color": "#2a3f5f"
           }
          },
          "ternary": {
           "aaxis": {
            "gridcolor": "white",
            "linecolor": "white",
            "ticks": ""
           },
           "baxis": {
            "gridcolor": "white",
            "linecolor": "white",
            "ticks": ""
           },
           "bgcolor": "#E5ECF6",
           "caxis": {
            "gridcolor": "white",
            "linecolor": "white",
            "ticks": ""
           }
          },
          "title": {
           "x": 0.05
          },
          "xaxis": {
           "automargin": true,
           "gridcolor": "white",
           "linecolor": "white",
           "ticks": "",
           "title": {
            "standoff": 15
           },
           "zerolinecolor": "white",
           "zerolinewidth": 2
          },
          "yaxis": {
           "automargin": true,
           "gridcolor": "white",
           "linecolor": "white",
           "ticks": "",
           "title": {
            "standoff": 15
           },
           "zerolinecolor": "white",
           "zerolinewidth": 2
          }
         }
        },
        "title": {
         "text": "Estimated performance <b>(DLE)</b>"
        },
        "xaxis": {
         "anchor": "y",
         "domain": [
          0,
          1
         ],
         "linecolor": "#3b0280",
         "matches": "x",
         "mirror": true,
         "showgrid": false,
         "title": {
          "text": "Time"
         },
         "zeroline": false
        },
        "xaxis2": {
         "anchor": "y2",
         "domain": [
          0,
          1
         ],
         "linecolor": "#3b0280",
         "matches": "x",
         "mirror": true,
         "showgrid": false,
         "title": {
          "text": "Time"
         },
         "zeroline": false
        },
        "yaxis": {
         "anchor": "x",
         "domain": [
          0.625,
          1
         ],
         "linecolor": "#3b0280",
         "mirror": true,
         "showgrid": false,
         "title": {
          "text": "RMSE"
         },
         "zeroline": false
        },
        "yaxis2": {
         "anchor": "x2",
         "domain": [
          0,
          0.375
         ],
         "linecolor": "#3b0280",
         "mirror": true,
         "showgrid": false,
         "title": {
          "text": "RMSLE"
         },
         "zeroline": false
        }
       }
      }
     },
     "metadata": {},
     "output_type": "display_data"
    }
   ],
   "source": [
    "estimator = nml.DLE(\n",
    "\n",
    "    feature_column_names=[\"MSSubClass\",\"MSZoning\",\"LotFrontage\",\"LotArea\", \"Street\"],\n",
    "\n",
    "    y_pred='binarized',\n",
    "\n",
    "    y_true='binarized',\n",
    "\n",
    "    timestamp_column_name='timestamp',\n",
    "\n",
    "    metrics=['rmse', 'rmsle'],\n",
    "\n",
    "    tune_hyperparameters=False\n",
    "\n",
    ")\n",
    "\n",
    "estimator.fit(reference)\n",
    "\n",
    "results = estimator.estimate(analysis)\n",
    "\n",
    "display(results.filter(period='analysis').to_df())\n",
    "\n",
    "display(results.filter(period='reference').to_df())\n",
    "\n",
    "metric_fig = results.plot()\n",
    "\n",
    "metric_fig.show()"
   ]
  },
  {
   "attachments": {},
   "cell_type": "markdown",
   "metadata": {},
   "source": [
    "## Code for PSI from Lab01 "
   ]
  },
  {
   "cell_type": "code",
   "execution_count": 114,
   "metadata": {},
   "outputs": [],
   "source": [
    "numerical_features = reference.select_dtypes(exclude='object').columns.tolist()\n",
    "categorical_features = analysis.select_dtypes(include='object').columns.tolist()"
   ]
  },
  {
   "cell_type": "code",
   "execution_count": 115,
   "metadata": {},
   "outputs": [],
   "source": [
    "def calculate_psi(expected, actual, buckettype='bins', buckets=10, axis=0):\n",
    "    '''Calculate the PSI (population stability index) across all variables\n",
    "    Args:\n",
    "       expected: numpy matrix of original values\n",
    "       actual: numpy matrix of new values, same size as expected\n",
    "       buckettype: type of strategy for creating buckets, bins splits into even splits, quantiles splits into quantile buckets\n",
    "       buckets: number of quantiles to use in bucketing variables\n",
    "       axis: axis by which variables are defined, 0 for vertical, 1 for horizontal\n",
    "    Returns:\n",
    "       psi_values: ndarray of psi values for each variable\n",
    "    Author:\n",
    "       Matthew Burke\n",
    "       github.com/mwburke\n",
    "       worksofchart.com\n",
    "    '''\n",
    "\n",
    "    def psi(expected_array, actual_array, buckets):\n",
    "        '''Calculate the PSI for a single variable\n",
    "        Args:\n",
    "           expected_array: numpy array of original values\n",
    "           actual_array: numpy array of new values, same size as expected\n",
    "           buckets: number of percentile ranges to bucket the values into\n",
    "        Returns:\n",
    "           psi_value: calculated PSI value\n",
    "        '''\n",
    "\n",
    "        def scale_range (input, min, max):\n",
    "            input += -(np.min(input))\n",
    "            input /= np.max(input) / (max - min)\n",
    "            input += min\n",
    "            return input\n",
    "\n",
    "\n",
    "        breakpoints = np.arange(0, buckets + 1) / (buckets) * 100\n",
    "\n",
    "        if buckettype == 'bins':\n",
    "            breakpoints = scale_range(breakpoints, np.min(expected_array), np.max(expected_array))\n",
    "        elif buckettype == 'quantiles':\n",
    "            breakpoints = np.stack([np.percentile(expected_array, b) for b in breakpoints])\n",
    "\n",
    "\n",
    "\n",
    "        expected_percents = np.histogram(expected_array, breakpoints)[0] / len(expected_array)\n",
    "        actual_percents = np.histogram(actual_array, breakpoints)[0] / len(actual_array)\n",
    "\n",
    "        def sub_psi(e_perc, a_perc):\n",
    "            '''Calculate the actual PSI value from comparing the values.\n",
    "               Update the actual value to a very small number if equal to zero\n",
    "            '''\n",
    "            if a_perc == 0:\n",
    "                a_perc = 0.0001\n",
    "            if e_perc == 0:\n",
    "                e_perc = 0.0001\n",
    "\n",
    "            value = (e_perc - a_perc) * np.log(e_perc / a_perc)\n",
    "            return(value)\n",
    "\n",
    "        psi_value = np.sum(sub_psi(expected_percents[i], actual_percents[i]) for i in range(0, len(expected_percents)))\n",
    "\n",
    "        return(psi_value)\n",
    "\n",
    "    if len(expected.shape) == 1:\n",
    "        psi_values = np.empty(len(expected.shape))\n",
    "    else:\n",
    "        psi_values = np.empty(expected.shape[axis])\n",
    "\n",
    "    for i in range(0, len(psi_values)):\n",
    "        if len(psi_values) == 1:\n",
    "            psi_values = psi(expected, actual, buckets)\n",
    "        elif axis == 0:\n",
    "            psi_values[i] = psi(expected[:,i], actual[:,i], buckets)\n",
    "        elif axis == 1:\n",
    "            psi_values[i] = psi(expected[i,:], actual[i,:], buckets)\n",
    "\n",
    "    return(psi_values)"
   ]
  },
  {
   "cell_type": "code",
   "execution_count": 116,
   "metadata": {},
   "outputs": [],
   "source": [
    "def calculate_psi_categorical(actual, expected):\n",
    "    actual_perc = actual.value_counts()/len(actual)\n",
    "    expected_perc = expected.value_counts()/len(expected)\n",
    "    actual_classes = list(actual_perc.index) \n",
    "    expected_classes = list(expected_perc.index)\n",
    "    PSI = 0\n",
    "    classes = set(actual_classes + expected_classes)\n",
    "    for c in classes:\n",
    "        final_actual_perc = actual_perc[c] if c in actual_classes else 0.00001\n",
    "        final_expected_perc = expected_perc[c] if c in expected_classes else 0.00001\n",
    "        PSI += (final_actual_perc - final_expected_perc)*np.log(final_actual_perc/final_expected_perc)\n",
    "    return PSI"
   ]
  },
  {
   "cell_type": "code",
   "execution_count": 122,
   "metadata": {},
   "outputs": [],
   "source": [
    "numerical_features = ['MSSubClass', 'LotFrontage', 'LotArea', 'SalePrice', 'binarized', 'proba_pred']"
   ]
  },
  {
   "cell_type": "code",
   "execution_count": 123,
   "metadata": {},
   "outputs": [
    {
     "name": "stderr",
     "output_type": "stream",
     "text": [
      "C:\\Users\\leoal\\AppData\\Local\\Temp\\ipykernel_16288\\2966103336.py:58: DeprecationWarning:\n",
      "\n",
      "Calling np.sum(generator) is deprecated, and in the future will give a different result. Use np.sum(np.fromiter(generator)) or the python sum builtin instead.\n",
      "\n"
     ]
    },
    {
     "data": {
      "image/png": "[encoded data removed]",
      "text/plain": [
       "<Figure size 640x480 with 1 Axes>"
      ]
     },
     "metadata": {},
     "output_type": "display_data"
    }
   ],
   "source": [
    "psis_num = []\n",
    "#Using the github implementation to compute PSI's numerical features\n",
    "for feature_name in numerical_features:\n",
    "    psi = calculate_psi(reference[feature_name], analysis[feature_name], buckettype='bins', buckets=20, axis=0)\n",
    "    psis_num.append(psi)\n",
    "#Plot each feature's PSI value\n",
    "height = psis_num\n",
    "bars = numerical_features\n",
    "y_pos = np.arange(len(bars))\n",
    "plt.barh(y_pos, height)\n",
    "plt.axvline(x=0.2,color='red')\n",
    "plt.yticks(y_pos, bars)\n",
    "plt.xlabel(\"PSI\")\n",
    "plt.show()"
   ]
  },
  {
   "cell_type": "code",
   "execution_count": null,
   "metadata": {},
   "outputs": [],
   "source": []
  }
 ],
 "metadata": {
  "kernelspec": {
   "display_name": "Python 3",
   "language": "python",
   "name": "python3"
  },
  "language_info": {
   "codemirror_mode": {
    "name": "ipython",
    "version": 3
   },
   "file_extension": ".py",
   "mimetype": "text/x-python",
   "name": "python",
   "nbconvert_exporter": "python",
   "pygments_lexer": "ipython3",
   "version": "3.9.16"
  },
  "orig_nbformat": 4
 },
 "nbformat": 4,
 "nbformat_minor": 2
}
