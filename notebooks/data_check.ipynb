{
 "cells": [
  {
   "cell_type": "code",
   "execution_count": 1,
   "metadata": {},
   "outputs": [],
   "source": [
    "import pandas as pd\n",
    "import nannyml as nml\n",
    "from IPython.display import display"
   ]
  },
  {
   "cell_type": "code",
   "execution_count": 2,
   "metadata": {},
   "outputs": [],
   "source": [
    "df = pd.read_csv('../data/01_raw/house-pricing.csv')"
   ]
  },
  {
   "cell_type": "code",
   "execution_count": 3,
   "metadata": {},
   "outputs": [
    {
     "data": {
      "text/plain": [
       "Index(['Id', 'MSSubClass', 'MSZoning', 'LotFrontage', 'LotArea', 'Street',\n",
       "       'Alley', 'LotShape', 'LandContour', 'Utilities', 'LotConfig',\n",
       "       'LandSlope', 'Neighborhood', 'Condition1', 'Condition2', 'BldgType',\n",
       "       'HouseStyle', 'OverallQual', 'OverallCond', 'YearBuilt', 'YearRemodAdd',\n",
       "       'RoofStyle', 'RoofMatl', 'Exterior1st', 'Exterior2nd', 'MasVnrType',\n",
       "       'MasVnrArea', 'ExterQual', 'ExterCond', 'Foundation', 'BsmtQual',\n",
       "       'BsmtCond', 'BsmtExposure', 'BsmtFinType1', 'BsmtFinSF1',\n",
       "       'BsmtFinType2', 'BsmtFinSF2', 'BsmtUnfSF', 'TotalBsmtSF', 'Heating',\n",
       "       'HeatingQC', 'CentralAir', 'Electrical', '1stFlrSF', '2ndFlrSF',\n",
       "       'LowQualFinSF', 'GrLivArea', 'BsmtFullBath', 'BsmtHalfBath', 'FullBath',\n",
       "       'HalfBath', 'BedroomAbvGr', 'KitchenAbvGr', 'KitchenQual',\n",
       "       'TotRmsAbvGrd', 'Functional', 'Fireplaces', 'FireplaceQu', 'GarageType',\n",
       "       'GarageYrBlt', 'GarageFinish', 'GarageCars', 'GarageArea', 'GarageQual',\n",
       "       'GarageCond', 'PavedDrive', 'WoodDeckSF', 'OpenPorchSF',\n",
       "       'EnclosedPorch', '3SsnPorch', 'ScreenPorch', 'PoolArea', 'PoolQC',\n",
       "       'Fence', 'MiscFeature', 'MiscVal', 'MoSold', 'YrSold', 'SaleType',\n",
       "       'SaleCondition', 'SalePrice'],\n",
       "      dtype='object')"
      ]
     },
     "execution_count": 3,
     "metadata": {},
     "output_type": "execute_result"
    }
   ],
   "source": [
    "df.columns"
   ]
  },
  {
   "cell_type": "code",
   "execution_count": 4,
   "metadata": {},
   "outputs": [
    {
     "data": {
      "text/html": [
       "<div>\n",
       "<style scoped>\n",
       "    .dataframe tbody tr th:only-of-type {\n",
       "        vertical-align: middle;\n",
       "    }\n",
       "\n",
       "    .dataframe tbody tr th {\n",
       "        vertical-align: top;\n",
       "    }\n",
       "\n",
       "    .dataframe thead th {\n",
       "        text-align: right;\n",
       "    }\n",
       "</style>\n",
       "<table border=\"1\" class=\"dataframe\">\n",
       "  <thead>\n",
       "    <tr style=\"text-align: right;\">\n",
       "      <th></th>\n",
       "      <th>Id</th>\n",
       "      <th>MSSubClass</th>\n",
       "      <th>MSZoning</th>\n",
       "      <th>LotFrontage</th>\n",
       "      <th>LotArea</th>\n",
       "      <th>Street</th>\n",
       "      <th>Alley</th>\n",
       "      <th>LotShape</th>\n",
       "      <th>LandContour</th>\n",
       "      <th>Utilities</th>\n",
       "      <th>...</th>\n",
       "      <th>PoolArea</th>\n",
       "      <th>PoolQC</th>\n",
       "      <th>Fence</th>\n",
       "      <th>MiscFeature</th>\n",
       "      <th>MiscVal</th>\n",
       "      <th>MoSold</th>\n",
       "      <th>YrSold</th>\n",
       "      <th>SaleType</th>\n",
       "      <th>SaleCondition</th>\n",
       "      <th>SalePrice</th>\n",
       "    </tr>\n",
       "  </thead>\n",
       "  <tbody>\n",
       "    <tr>\n",
       "      <th>0</th>\n",
       "      <td>1</td>\n",
       "      <td>60</td>\n",
       "      <td>RL</td>\n",
       "      <td>65.0</td>\n",
       "      <td>8450</td>\n",
       "      <td>Pave</td>\n",
       "      <td>NaN</td>\n",
       "      <td>Reg</td>\n",
       "      <td>Lvl</td>\n",
       "      <td>AllPub</td>\n",
       "      <td>...</td>\n",
       "      <td>0</td>\n",
       "      <td>NaN</td>\n",
       "      <td>NaN</td>\n",
       "      <td>NaN</td>\n",
       "      <td>0</td>\n",
       "      <td>2</td>\n",
       "      <td>2008</td>\n",
       "      <td>WD</td>\n",
       "      <td>Normal</td>\n",
       "      <td>208500</td>\n",
       "    </tr>\n",
       "    <tr>\n",
       "      <th>1</th>\n",
       "      <td>2</td>\n",
       "      <td>20</td>\n",
       "      <td>RL</td>\n",
       "      <td>80.0</td>\n",
       "      <td>9600</td>\n",
       "      <td>Pave</td>\n",
       "      <td>NaN</td>\n",
       "      <td>Reg</td>\n",
       "      <td>Lvl</td>\n",
       "      <td>AllPub</td>\n",
       "      <td>...</td>\n",
       "      <td>0</td>\n",
       "      <td>NaN</td>\n",
       "      <td>NaN</td>\n",
       "      <td>NaN</td>\n",
       "      <td>0</td>\n",
       "      <td>5</td>\n",
       "      <td>2007</td>\n",
       "      <td>WD</td>\n",
       "      <td>Normal</td>\n",
       "      <td>181500</td>\n",
       "    </tr>\n",
       "    <tr>\n",
       "      <th>2</th>\n",
       "      <td>3</td>\n",
       "      <td>60</td>\n",
       "      <td>RL</td>\n",
       "      <td>68.0</td>\n",
       "      <td>11250</td>\n",
       "      <td>Pave</td>\n",
       "      <td>NaN</td>\n",
       "      <td>IR1</td>\n",
       "      <td>Lvl</td>\n",
       "      <td>AllPub</td>\n",
       "      <td>...</td>\n",
       "      <td>0</td>\n",
       "      <td>NaN</td>\n",
       "      <td>NaN</td>\n",
       "      <td>NaN</td>\n",
       "      <td>0</td>\n",
       "      <td>9</td>\n",
       "      <td>2008</td>\n",
       "      <td>WD</td>\n",
       "      <td>Normal</td>\n",
       "      <td>223500</td>\n",
       "    </tr>\n",
       "    <tr>\n",
       "      <th>3</th>\n",
       "      <td>4</td>\n",
       "      <td>70</td>\n",
       "      <td>RL</td>\n",
       "      <td>60.0</td>\n",
       "      <td>9550</td>\n",
       "      <td>Pave</td>\n",
       "      <td>NaN</td>\n",
       "      <td>IR1</td>\n",
       "      <td>Lvl</td>\n",
       "      <td>AllPub</td>\n",
       "      <td>...</td>\n",
       "      <td>0</td>\n",
       "      <td>NaN</td>\n",
       "      <td>NaN</td>\n",
       "      <td>NaN</td>\n",
       "      <td>0</td>\n",
       "      <td>2</td>\n",
       "      <td>2006</td>\n",
       "      <td>WD</td>\n",
       "      <td>Abnorml</td>\n",
       "      <td>140000</td>\n",
       "    </tr>\n",
       "    <tr>\n",
       "      <th>4</th>\n",
       "      <td>5</td>\n",
       "      <td>60</td>\n",
       "      <td>RL</td>\n",
       "      <td>84.0</td>\n",
       "      <td>14260</td>\n",
       "      <td>Pave</td>\n",
       "      <td>NaN</td>\n",
       "      <td>IR1</td>\n",
       "      <td>Lvl</td>\n",
       "      <td>AllPub</td>\n",
       "      <td>...</td>\n",
       "      <td>0</td>\n",
       "      <td>NaN</td>\n",
       "      <td>NaN</td>\n",
       "      <td>NaN</td>\n",
       "      <td>0</td>\n",
       "      <td>12</td>\n",
       "      <td>2008</td>\n",
       "      <td>WD</td>\n",
       "      <td>Normal</td>\n",
       "      <td>250000</td>\n",
       "    </tr>\n",
       "  </tbody>\n",
       "</table>\n",
       "<p>5 rows × 81 columns</p>\n",
       "</div>"
      ],
      "text/plain": [
       "   Id  MSSubClass MSZoning  LotFrontage  LotArea Street Alley LotShape  \\\n",
       "0   1          60       RL         65.0     8450   Pave   NaN      Reg   \n",
       "1   2          20       RL         80.0     9600   Pave   NaN      Reg   \n",
       "2   3          60       RL         68.0    11250   Pave   NaN      IR1   \n",
       "3   4          70       RL         60.0     9550   Pave   NaN      IR1   \n",
       "4   5          60       RL         84.0    14260   Pave   NaN      IR1   \n",
       "\n",
       "  LandContour Utilities  ... PoolArea PoolQC Fence MiscFeature MiscVal MoSold  \\\n",
       "0         Lvl    AllPub  ...        0    NaN   NaN         NaN       0      2   \n",
       "1         Lvl    AllPub  ...        0    NaN   NaN         NaN       0      5   \n",
       "2         Lvl    AllPub  ...        0    NaN   NaN         NaN       0      9   \n",
       "3         Lvl    AllPub  ...        0    NaN   NaN         NaN       0      2   \n",
       "4         Lvl    AllPub  ...        0    NaN   NaN         NaN       0     12   \n",
       "\n",
       "  YrSold  SaleType  SaleCondition  SalePrice  \n",
       "0   2008        WD         Normal     208500  \n",
       "1   2007        WD         Normal     181500  \n",
       "2   2008        WD         Normal     223500  \n",
       "3   2006        WD        Abnorml     140000  \n",
       "4   2008        WD         Normal     250000  \n",
       "\n",
       "[5 rows x 81 columns]"
      ]
     },
     "execution_count": 4,
     "metadata": {},
     "output_type": "execute_result"
    }
   ],
   "source": [
    "df.head()"
   ]
  },
  {
   "cell_type": "code",
   "execution_count": 5,
   "metadata": {},
   "outputs": [
    {
     "data": {
      "text/plain": [
       "2009    338\n",
       "2007    329\n",
       "2006    314\n",
       "2008    304\n",
       "2010    175\n",
       "Name: YrSold, dtype: int64"
      ]
     },
     "execution_count": 5,
     "metadata": {},
     "output_type": "execute_result"
    }
   ],
   "source": [
    "df[\"YrSold\"].value_counts()"
   ]
  },
  {
   "cell_type": "code",
   "execution_count": 6,
   "metadata": {},
   "outputs": [],
   "source": [
    "\n",
    "def create_timestamp_column(df, column_name_year, column_name_month):\n",
    "    df['timestamp'] = pd.to_datetime(df[column_name_year].astype(str) + '-' + df[column_name_month].astype(str), format='%Y-%m')\n",
    "    \n",
    "    return df"
   ]
  },
  {
   "cell_type": "code",
   "execution_count": 7,
   "metadata": {},
   "outputs": [],
   "source": [
    "df = create_timestamp_column(df, column_name_year=\"YrSold\", column_name_month=\"MoSold\")"
   ]
  },
  {
   "cell_type": "code",
   "execution_count": 8,
   "metadata": {},
   "outputs": [],
   "source": [
    "def filter_rows_by_years(df, years, months=None):\n",
    "    filtered_df = df[df['timestamp'].dt.year.isin(years)]\n",
    "    \n",
    "    if months:\n",
    "        filtered_df = filtered_df[filtered_df['timestamp'].dt.month.isin(months)]\n",
    "    \n",
    "    return filtered_df"
   ]
  },
  {
   "cell_type": "code",
   "execution_count": 9,
   "metadata": {},
   "outputs": [],
   "source": [
    "reference = filter_rows_by_years(df, [2007, 2008])\n",
    "analysis = filter_rows_by_years(df, [2009, 2010])"
   ]
  },
  {
   "cell_type": "code",
   "execution_count": 10,
   "metadata": {},
   "outputs": [],
   "source": [
    "first_half_2006 = filter_rows_by_years(df, [2006], [1, 2, 3, 4, 5, 6])\n",
    "second_half_2006 = filter_rows_by_years(df, [2006], [7, 8, 9, 10, 11, 12])"
   ]
  },
  {
   "cell_type": "code",
   "execution_count": 11,
   "metadata": {},
   "outputs": [],
   "source": [
    "first_quarter_2008 = filter_rows_by_years(df, [2008], [1, 2, 3])\n",
    "second_quarter_2008 = filter_rows_by_years(df, [2008], [4, 5, 6])"
   ]
  },
  {
   "cell_type": "code",
   "execution_count": 12,
   "metadata": {},
   "outputs": [],
   "source": [
    "feature_column_names = [\"MSSubClass\",\n",
    "                        \"MSZoning\",\n",
    "                        \"LotFrontage\",\n",
    "                        \"LotArea\",\n",
    "                        \"Street\"\n",
    "                        ]"
   ]
  },
  {
   "cell_type": "code",
   "execution_count": 13,
   "metadata": {},
   "outputs": [],
   "source": [
    "def calculate_drift(reference, analysis, feature_column_names):  \n",
    "    calc = nml.DataReconstructionDriftCalculator(column_names=feature_column_names,\n",
    "                                                 timestamp_column_name='timestamp'\n",
    "                                                 )\n",
    "    calc.fit(reference)\n",
    "\n",
    "    results = calc.calculate(analysis)\n",
    "\n",
    "    return results"
   ]
  },
  {
   "cell_type": "code",
   "execution_count": 14,
   "metadata": {},
   "outputs": [],
   "source": [
    "result_years = calculate_drift(reference, analysis, feature_column_names)\n",
    "result_2006 = calculate_drift(first_half_2006, second_half_2006, feature_column_names)\n",
    "result_2008 = calculate_drift(first_quarter_2008, second_quarter_2008, feature_column_names)"
   ]
  },
  {
   "cell_type": "code",
   "execution_count": 15,
   "metadata": {},
   "outputs": [
    {
     "data": {
      "text/html": [
       "<div>\n",
       "<style scoped>\n",
       "    .dataframe tbody tr th:only-of-type {\n",
       "        vertical-align: middle;\n",
       "    }\n",
       "\n",
       "    .dataframe tbody tr th {\n",
       "        vertical-align: top;\n",
       "    }\n",
       "\n",
       "    .dataframe thead tr th {\n",
       "        text-align: left;\n",
       "    }\n",
       "</style>\n",
       "<table border=\"1\" class=\"dataframe\">\n",
       "  <thead>\n",
       "    <tr>\n",
       "      <th></th>\n",
       "      <th colspan=\"7\" halign=\"left\">chunk</th>\n",
       "      <th colspan=\"7\" halign=\"left\">reconstruction_error</th>\n",
       "    </tr>\n",
       "    <tr>\n",
       "      <th></th>\n",
       "      <th>key</th>\n",
       "      <th>chunk_index</th>\n",
       "      <th>start_index</th>\n",
       "      <th>end_index</th>\n",
       "      <th>start_date</th>\n",
       "      <th>end_date</th>\n",
       "      <th>period</th>\n",
       "      <th>sampling_error</th>\n",
       "      <th>value</th>\n",
       "      <th>upper_confidence_boundary</th>\n",
       "      <th>lower_confidence_boundary</th>\n",
       "      <th>upper_threshold</th>\n",
       "      <th>lower_threshold</th>\n",
       "      <th>alert</th>\n",
       "    </tr>\n",
       "  </thead>\n",
       "  <tbody>\n",
       "    <tr>\n",
       "      <th>0</th>\n",
       "      <td>[0:50]</td>\n",
       "      <td>0</td>\n",
       "      <td>0</td>\n",
       "      <td>50</td>\n",
       "      <td>2009-01-01</td>\n",
       "      <td>2009-04-01</td>\n",
       "      <td>analysis</td>\n",
       "      <td>0.112286</td>\n",
       "      <td>0.630272</td>\n",
       "      <td>0.967130</td>\n",
       "      <td>0.293413</td>\n",
       "      <td>1.056872</td>\n",
       "      <td>0.466109</td>\n",
       "      <td>False</td>\n",
       "    </tr>\n",
       "    <tr>\n",
       "      <th>1</th>\n",
       "      <td>[51:101]</td>\n",
       "      <td>1</td>\n",
       "      <td>51</td>\n",
       "      <td>101</td>\n",
       "      <td>2009-04-01</td>\n",
       "      <td>2009-05-01</td>\n",
       "      <td>analysis</td>\n",
       "      <td>0.112286</td>\n",
       "      <td>0.778354</td>\n",
       "      <td>1.115212</td>\n",
       "      <td>0.441496</td>\n",
       "      <td>1.056872</td>\n",
       "      <td>0.466109</td>\n",
       "      <td>False</td>\n",
       "    </tr>\n",
       "    <tr>\n",
       "      <th>2</th>\n",
       "      <td>[102:152]</td>\n",
       "      <td>2</td>\n",
       "      <td>102</td>\n",
       "      <td>152</td>\n",
       "      <td>2009-05-01</td>\n",
       "      <td>2009-06-01</td>\n",
       "      <td>analysis</td>\n",
       "      <td>0.112286</td>\n",
       "      <td>0.828765</td>\n",
       "      <td>1.165624</td>\n",
       "      <td>0.491907</td>\n",
       "      <td>1.056872</td>\n",
       "      <td>0.466109</td>\n",
       "      <td>False</td>\n",
       "    </tr>\n",
       "    <tr>\n",
       "      <th>3</th>\n",
       "      <td>[153:203]</td>\n",
       "      <td>3</td>\n",
       "      <td>153</td>\n",
       "      <td>203</td>\n",
       "      <td>2009-06-01</td>\n",
       "      <td>2009-07-01</td>\n",
       "      <td>analysis</td>\n",
       "      <td>0.112286</td>\n",
       "      <td>0.791450</td>\n",
       "      <td>1.128308</td>\n",
       "      <td>0.454591</td>\n",
       "      <td>1.056872</td>\n",
       "      <td>0.466109</td>\n",
       "      <td>False</td>\n",
       "    </tr>\n",
       "    <tr>\n",
       "      <th>4</th>\n",
       "      <td>[204:254]</td>\n",
       "      <td>4</td>\n",
       "      <td>204</td>\n",
       "      <td>254</td>\n",
       "      <td>2009-07-01</td>\n",
       "      <td>2009-09-01</td>\n",
       "      <td>analysis</td>\n",
       "      <td>0.112286</td>\n",
       "      <td>0.657601</td>\n",
       "      <td>0.994460</td>\n",
       "      <td>0.320743</td>\n",
       "      <td>1.056872</td>\n",
       "      <td>0.466109</td>\n",
       "      <td>False</td>\n",
       "    </tr>\n",
       "    <tr>\n",
       "      <th>5</th>\n",
       "      <td>[255:305]</td>\n",
       "      <td>5</td>\n",
       "      <td>255</td>\n",
       "      <td>305</td>\n",
       "      <td>2009-09-01</td>\n",
       "      <td>2009-11-01</td>\n",
       "      <td>analysis</td>\n",
       "      <td>0.112286</td>\n",
       "      <td>0.787139</td>\n",
       "      <td>1.123997</td>\n",
       "      <td>0.450280</td>\n",
       "      <td>1.056872</td>\n",
       "      <td>0.466109</td>\n",
       "      <td>False</td>\n",
       "    </tr>\n",
       "    <tr>\n",
       "      <th>6</th>\n",
       "      <td>[306:356]</td>\n",
       "      <td>6</td>\n",
       "      <td>306</td>\n",
       "      <td>356</td>\n",
       "      <td>2009-11-01</td>\n",
       "      <td>2010-02-01</td>\n",
       "      <td>analysis</td>\n",
       "      <td>0.112286</td>\n",
       "      <td>0.712281</td>\n",
       "      <td>1.049140</td>\n",
       "      <td>0.375423</td>\n",
       "      <td>1.056872</td>\n",
       "      <td>0.466109</td>\n",
       "      <td>False</td>\n",
       "    </tr>\n",
       "    <tr>\n",
       "      <th>7</th>\n",
       "      <td>[357:407]</td>\n",
       "      <td>7</td>\n",
       "      <td>357</td>\n",
       "      <td>407</td>\n",
       "      <td>2010-02-01</td>\n",
       "      <td>2010-04-01</td>\n",
       "      <td>analysis</td>\n",
       "      <td>0.112286</td>\n",
       "      <td>0.716112</td>\n",
       "      <td>1.052970</td>\n",
       "      <td>0.379253</td>\n",
       "      <td>1.056872</td>\n",
       "      <td>0.466109</td>\n",
       "      <td>False</td>\n",
       "    </tr>\n",
       "    <tr>\n",
       "      <th>8</th>\n",
       "      <td>[408:458]</td>\n",
       "      <td>8</td>\n",
       "      <td>408</td>\n",
       "      <td>458</td>\n",
       "      <td>2010-04-01</td>\n",
       "      <td>2010-05-01</td>\n",
       "      <td>analysis</td>\n",
       "      <td>0.112286</td>\n",
       "      <td>0.798214</td>\n",
       "      <td>1.135072</td>\n",
       "      <td>0.461355</td>\n",
       "      <td>1.056872</td>\n",
       "      <td>0.466109</td>\n",
       "      <td>False</td>\n",
       "    </tr>\n",
       "    <tr>\n",
       "      <th>9</th>\n",
       "      <td>[510:509]</td>\n",
       "      <td>9</td>\n",
       "      <td>459</td>\n",
       "      <td>512</td>\n",
       "      <td>2010-07-01</td>\n",
       "      <td>2010-07-01</td>\n",
       "      <td>analysis</td>\n",
       "      <td>0.109123</td>\n",
       "      <td>1.106609</td>\n",
       "      <td>1.433977</td>\n",
       "      <td>0.779242</td>\n",
       "      <td>1.056872</td>\n",
       "      <td>0.466109</td>\n",
       "      <td>True</td>\n",
       "    </tr>\n",
       "  </tbody>\n",
       "</table>\n",
       "</div>"
      ],
      "text/plain": [
       "       chunk                                                          \\\n",
       "         key chunk_index start_index end_index start_date   end_date   \n",
       "0     [0:50]           0           0        50 2009-01-01 2009-04-01   \n",
       "1   [51:101]           1          51       101 2009-04-01 2009-05-01   \n",
       "2  [102:152]           2         102       152 2009-05-01 2009-06-01   \n",
       "3  [153:203]           3         153       203 2009-06-01 2009-07-01   \n",
       "4  [204:254]           4         204       254 2009-07-01 2009-09-01   \n",
       "5  [255:305]           5         255       305 2009-09-01 2009-11-01   \n",
       "6  [306:356]           6         306       356 2009-11-01 2010-02-01   \n",
       "7  [357:407]           7         357       407 2010-02-01 2010-04-01   \n",
       "8  [408:458]           8         408       458 2010-04-01 2010-05-01   \n",
       "9  [510:509]           9         459       512 2010-07-01 2010-07-01   \n",
       "\n",
       "            reconstruction_error                                      \\\n",
       "     period       sampling_error     value upper_confidence_boundary   \n",
       "0  analysis             0.112286  0.630272                  0.967130   \n",
       "1  analysis             0.112286  0.778354                  1.115212   \n",
       "2  analysis             0.112286  0.828765                  1.165624   \n",
       "3  analysis             0.112286  0.791450                  1.128308   \n",
       "4  analysis             0.112286  0.657601                  0.994460   \n",
       "5  analysis             0.112286  0.787139                  1.123997   \n",
       "6  analysis             0.112286  0.712281                  1.049140   \n",
       "7  analysis             0.112286  0.716112                  1.052970   \n",
       "8  analysis             0.112286  0.798214                  1.135072   \n",
       "9  analysis             0.109123  1.106609                  1.433977   \n",
       "\n",
       "                                                                    \n",
       "  lower_confidence_boundary upper_threshold lower_threshold  alert  \n",
       "0                  0.293413        1.056872        0.466109  False  \n",
       "1                  0.441496        1.056872        0.466109  False  \n",
       "2                  0.491907        1.056872        0.466109  False  \n",
       "3                  0.454591        1.056872        0.466109  False  \n",
       "4                  0.320743        1.056872        0.466109  False  \n",
       "5                  0.450280        1.056872        0.466109  False  \n",
       "6                  0.375423        1.056872        0.466109  False  \n",
       "7                  0.379253        1.056872        0.466109  False  \n",
       "8                  0.461355        1.056872        0.466109  False  \n",
       "9                  0.779242        1.056872        0.466109   True  "
      ]
     },
     "metadata": {},
     "output_type": "display_data"
    }
   ],
   "source": [
    "display(result_years.filter(period='analysis').to_df())"
   ]
  },
  {
   "cell_type": "code",
   "execution_count": 16,
   "metadata": {},
   "outputs": [
    {
     "data": {
      "text/html": [
       "<div>\n",
       "<style scoped>\n",
       "    .dataframe tbody tr th:only-of-type {\n",
       "        vertical-align: middle;\n",
       "    }\n",
       "\n",
       "    .dataframe tbody tr th {\n",
       "        vertical-align: top;\n",
       "    }\n",
       "\n",
       "    .dataframe thead tr th {\n",
       "        text-align: left;\n",
       "    }\n",
       "</style>\n",
       "<table border=\"1\" class=\"dataframe\">\n",
       "  <thead>\n",
       "    <tr>\n",
       "      <th></th>\n",
       "      <th colspan=\"7\" halign=\"left\">chunk</th>\n",
       "      <th colspan=\"7\" halign=\"left\">reconstruction_error</th>\n",
       "    </tr>\n",
       "    <tr>\n",
       "      <th></th>\n",
       "      <th>key</th>\n",
       "      <th>chunk_index</th>\n",
       "      <th>start_index</th>\n",
       "      <th>end_index</th>\n",
       "      <th>start_date</th>\n",
       "      <th>end_date</th>\n",
       "      <th>period</th>\n",
       "      <th>sampling_error</th>\n",
       "      <th>value</th>\n",
       "      <th>upper_confidence_boundary</th>\n",
       "      <th>lower_confidence_boundary</th>\n",
       "      <th>upper_threshold</th>\n",
       "      <th>lower_threshold</th>\n",
       "      <th>alert</th>\n",
       "    </tr>\n",
       "  </thead>\n",
       "  <tbody>\n",
       "    <tr>\n",
       "      <th>0</th>\n",
       "      <td>[0:62]</td>\n",
       "      <td>0</td>\n",
       "      <td>0</td>\n",
       "      <td>62</td>\n",
       "      <td>2007-01-01</td>\n",
       "      <td>2007-04-01</td>\n",
       "      <td>reference</td>\n",
       "      <td>0.101028</td>\n",
       "      <td>0.607666</td>\n",
       "      <td>0.910749</td>\n",
       "      <td>0.304582</td>\n",
       "      <td>1.056872</td>\n",
       "      <td>0.466109</td>\n",
       "      <td>False</td>\n",
       "    </tr>\n",
       "    <tr>\n",
       "      <th>1</th>\n",
       "      <td>[63:125]</td>\n",
       "      <td>1</td>\n",
       "      <td>63</td>\n",
       "      <td>125</td>\n",
       "      <td>2007-04-01</td>\n",
       "      <td>2007-06-01</td>\n",
       "      <td>reference</td>\n",
       "      <td>0.101028</td>\n",
       "      <td>0.809938</td>\n",
       "      <td>1.113022</td>\n",
       "      <td>0.506855</td>\n",
       "      <td>1.056872</td>\n",
       "      <td>0.466109</td>\n",
       "      <td>False</td>\n",
       "    </tr>\n",
       "    <tr>\n",
       "      <th>2</th>\n",
       "      <td>[126:188]</td>\n",
       "      <td>2</td>\n",
       "      <td>126</td>\n",
       "      <td>188</td>\n",
       "      <td>2007-06-01</td>\n",
       "      <td>2007-07-01</td>\n",
       "      <td>reference</td>\n",
       "      <td>0.101028</td>\n",
       "      <td>0.922155</td>\n",
       "      <td>1.225239</td>\n",
       "      <td>0.619072</td>\n",
       "      <td>1.056872</td>\n",
       "      <td>0.466109</td>\n",
       "      <td>False</td>\n",
       "    </tr>\n",
       "    <tr>\n",
       "      <th>3</th>\n",
       "      <td>[189:251]</td>\n",
       "      <td>3</td>\n",
       "      <td>189</td>\n",
       "      <td>251</td>\n",
       "      <td>2007-07-01</td>\n",
       "      <td>2007-08-01</td>\n",
       "      <td>reference</td>\n",
       "      <td>0.101028</td>\n",
       "      <td>0.735069</td>\n",
       "      <td>1.038153</td>\n",
       "      <td>0.431986</td>\n",
       "      <td>1.056872</td>\n",
       "      <td>0.466109</td>\n",
       "      <td>False</td>\n",
       "    </tr>\n",
       "    <tr>\n",
       "      <th>4</th>\n",
       "      <td>[252:314]</td>\n",
       "      <td>4</td>\n",
       "      <td>252</td>\n",
       "      <td>314</td>\n",
       "      <td>2007-08-01</td>\n",
       "      <td>2007-12-01</td>\n",
       "      <td>reference</td>\n",
       "      <td>0.101028</td>\n",
       "      <td>0.660695</td>\n",
       "      <td>0.963779</td>\n",
       "      <td>0.357612</td>\n",
       "      <td>1.056872</td>\n",
       "      <td>0.466109</td>\n",
       "      <td>False</td>\n",
       "    </tr>\n",
       "    <tr>\n",
       "      <th>5</th>\n",
       "      <td>[315:377]</td>\n",
       "      <td>5</td>\n",
       "      <td>315</td>\n",
       "      <td>377</td>\n",
       "      <td>2007-12-01</td>\n",
       "      <td>2008-04-01</td>\n",
       "      <td>reference</td>\n",
       "      <td>0.101028</td>\n",
       "      <td>0.830604</td>\n",
       "      <td>1.133687</td>\n",
       "      <td>0.527521</td>\n",
       "      <td>1.056872</td>\n",
       "      <td>0.466109</td>\n",
       "      <td>False</td>\n",
       "    </tr>\n",
       "    <tr>\n",
       "      <th>6</th>\n",
       "      <td>[378:440]</td>\n",
       "      <td>6</td>\n",
       "      <td>378</td>\n",
       "      <td>440</td>\n",
       "      <td>2008-04-01</td>\n",
       "      <td>2008-06-01</td>\n",
       "      <td>reference</td>\n",
       "      <td>0.101028</td>\n",
       "      <td>0.702914</td>\n",
       "      <td>1.005997</td>\n",
       "      <td>0.399830</td>\n",
       "      <td>1.056872</td>\n",
       "      <td>0.466109</td>\n",
       "      <td>False</td>\n",
       "    </tr>\n",
       "    <tr>\n",
       "      <th>7</th>\n",
       "      <td>[441:503]</td>\n",
       "      <td>7</td>\n",
       "      <td>441</td>\n",
       "      <td>503</td>\n",
       "      <td>2008-06-01</td>\n",
       "      <td>2008-07-01</td>\n",
       "      <td>reference</td>\n",
       "      <td>0.101028</td>\n",
       "      <td>0.655071</td>\n",
       "      <td>0.958154</td>\n",
       "      <td>0.351987</td>\n",
       "      <td>1.056872</td>\n",
       "      <td>0.466109</td>\n",
       "      <td>False</td>\n",
       "    </tr>\n",
       "    <tr>\n",
       "      <th>8</th>\n",
       "      <td>[504:566]</td>\n",
       "      <td>8</td>\n",
       "      <td>504</td>\n",
       "      <td>566</td>\n",
       "      <td>2008-07-01</td>\n",
       "      <td>2008-09-01</td>\n",
       "      <td>reference</td>\n",
       "      <td>0.101028</td>\n",
       "      <td>0.863431</td>\n",
       "      <td>1.166515</td>\n",
       "      <td>0.560348</td>\n",
       "      <td>1.056872</td>\n",
       "      <td>0.466109</td>\n",
       "      <td>False</td>\n",
       "    </tr>\n",
       "    <tr>\n",
       "      <th>9</th>\n",
       "      <td>[630:629]</td>\n",
       "      <td>9</td>\n",
       "      <td>567</td>\n",
       "      <td>632</td>\n",
       "      <td>2008-12-01</td>\n",
       "      <td>2008-12-01</td>\n",
       "      <td>reference</td>\n",
       "      <td>0.098705</td>\n",
       "      <td>0.827365</td>\n",
       "      <td>1.123480</td>\n",
       "      <td>0.531250</td>\n",
       "      <td>1.056872</td>\n",
       "      <td>0.466109</td>\n",
       "      <td>False</td>\n",
       "    </tr>\n",
       "  </tbody>\n",
       "</table>\n",
       "</div>"
      ],
      "text/plain": [
       "       chunk                                                          \\\n",
       "         key chunk_index start_index end_index start_date   end_date   \n",
       "0     [0:62]           0           0        62 2007-01-01 2007-04-01   \n",
       "1   [63:125]           1          63       125 2007-04-01 2007-06-01   \n",
       "2  [126:188]           2         126       188 2007-06-01 2007-07-01   \n",
       "3  [189:251]           3         189       251 2007-07-01 2007-08-01   \n",
       "4  [252:314]           4         252       314 2007-08-01 2007-12-01   \n",
       "5  [315:377]           5         315       377 2007-12-01 2008-04-01   \n",
       "6  [378:440]           6         378       440 2008-04-01 2008-06-01   \n",
       "7  [441:503]           7         441       503 2008-06-01 2008-07-01   \n",
       "8  [504:566]           8         504       566 2008-07-01 2008-09-01   \n",
       "9  [630:629]           9         567       632 2008-12-01 2008-12-01   \n",
       "\n",
       "             reconstruction_error                                      \\\n",
       "      period       sampling_error     value upper_confidence_boundary   \n",
       "0  reference             0.101028  0.607666                  0.910749   \n",
       "1  reference             0.101028  0.809938                  1.113022   \n",
       "2  reference             0.101028  0.922155                  1.225239   \n",
       "3  reference             0.101028  0.735069                  1.038153   \n",
       "4  reference             0.101028  0.660695                  0.963779   \n",
       "5  reference             0.101028  0.830604                  1.133687   \n",
       "6  reference             0.101028  0.702914                  1.005997   \n",
       "7  reference             0.101028  0.655071                  0.958154   \n",
       "8  reference             0.101028  0.863431                  1.166515   \n",
       "9  reference             0.098705  0.827365                  1.123480   \n",
       "\n",
       "                                                                    \n",
       "  lower_confidence_boundary upper_threshold lower_threshold  alert  \n",
       "0                  0.304582        1.056872        0.466109  False  \n",
       "1                  0.506855        1.056872        0.466109  False  \n",
       "2                  0.619072        1.056872        0.466109  False  \n",
       "3                  0.431986        1.056872        0.466109  False  \n",
       "4                  0.357612        1.056872        0.466109  False  \n",
       "5                  0.527521        1.056872        0.466109  False  \n",
       "6                  0.399830        1.056872        0.466109  False  \n",
       "7                  0.351987        1.056872        0.466109  False  \n",
       "8                  0.560348        1.056872        0.466109  False  \n",
       "9                  0.531250        1.056872        0.466109  False  "
      ]
     },
     "metadata": {},
     "output_type": "display_data"
    }
   ],
   "source": [
    "display(result_years.filter(period='reference').to_df())"
   ]
  },
  {
   "cell_type": "code",
   "execution_count": 17,
   "metadata": {},
   "outputs": [
    {
     "data": {
      "application/vnd.plotly.v1+json": {
       "config": {
        "plotlyServerURL": "https://plot.ly"
       },
       "data": [
        {
         "hoverinfo": "skip",
         "legendgroup": "metric_reference",
         "line": {
          "color": "#00c8e5",
          "shape": "hv",
          "width": 2
         },
         "mode": "lines",
         "name": "Metric",
         "showlegend": true,
         "type": "scatter",
         "x": [
          "2007-01-01T00:00:00",
          "2007-04-01T00:00:00",
          "2007-06-01T00:00:00",
          "2007-07-01T00:00:00",
          "2007-08-01T00:00:00",
          "2007-12-01T00:00:00",
          "2008-04-01T00:00:00",
          "2008-06-01T00:00:00",
          "2008-07-01T00:00:00",
          "2008-12-01T00:00:00",
          "2008-12-01T00:00:00"
         ],
         "y": [
          0.6076659286368773,
          0.8099382252063614,
          0.9221554170595738,
          0.7350693460421422,
          0.6606953085728124,
          0.8306039589267236,
          0.7029136696161098,
          0.655070510247605,
          0.8634313601930521,
          0.8273652513054316,
          0.8273652513054316
         ]
        },
        {
         "customdata": [
          [
           "Data reconstruction drift",
           "<b style=\"color:#00c8e5;line-height:60px\">Reference</b>",
           "",
           "[0:62]",
           "From <b>Jan-01-2007</b> to <b>Apr-01-2007</b>",
           0.6077,
           0.3031
          ],
          [
           "Data reconstruction drift",
           "<b style=\"color:#00c8e5;line-height:60px\">Reference</b>",
           "",
           "[63:125]",
           "From <b>Apr-01-2007</b> to <b>Jun-01-2007</b>",
           0.8099,
           0.3031
          ],
          [
           "Data reconstruction drift",
           "<b style=\"color:#00c8e5;line-height:60px\">Reference</b>",
           "",
           "[126:188]",
           "From <b>Jun-01-2007</b> to <b>Jul-01-2007</b>",
           0.9222,
           0.3031
          ],
          [
           "Data reconstruction drift",
           "<b style=\"color:#00c8e5;line-height:60px\">Reference</b>",
           "",
           "[189:251]",
           "From <b>Jul-01-2007</b> to <b>Aug-01-2007</b>",
           0.7351,
           0.3031
          ],
          [
           "Data reconstruction drift",
           "<b style=\"color:#00c8e5;line-height:60px\">Reference</b>",
           "",
           "[252:314]",
           "From <b>Aug-01-2007</b> to <b>Dec-01-2007</b>",
           0.6607,
           0.3031
          ],
          [
           "Data reconstruction drift",
           "<b style=\"color:#00c8e5;line-height:60px\">Reference</b>",
           "",
           "[315:377]",
           "From <b>Dec-01-2007</b> to <b>Apr-01-2008</b>",
           0.8306,
           0.3031
          ],
          [
           "Data reconstruction drift",
           "<b style=\"color:#00c8e5;line-height:60px\">Reference</b>",
           "",
           "[378:440]",
           "From <b>Apr-01-2008</b> to <b>Jun-01-2008</b>",
           0.7029,
           0.3031
          ],
          [
           "Data reconstruction drift",
           "<b style=\"color:#00c8e5;line-height:60px\">Reference</b>",
           "",
           "[441:503]",
           "From <b>Jun-01-2008</b> to <b>Jul-01-2008</b>",
           0.6551,
           0.3031
          ],
          [
           "Data reconstruction drift",
           "<b style=\"color:#00c8e5;line-height:60px\">Reference</b>",
           "",
           "[504:566]",
           "From <b>Jul-01-2008</b> to <b>Sep-01-2008</b>",
           0.8634,
           0.3031
          ],
          [
           "Data reconstruction drift",
           "<b style=\"color:#00c8e5;line-height:60px\">Reference</b>",
           "",
           "[630:629]",
           "From <b>Dec-01-2008</b> to <b>Dec-01-2008</b>",
           0.8274,
           0.2961
          ]
         ],
         "hovertemplate": "%{customdata[1]} &nbsp; &nbsp; %{customdata[2]} <br />Chunk: <b>%{customdata[3]}</b> &nbsp; &nbsp; %{customdata[4]} <br />%{customdata[0]}: <b>%{customdata[5]}</b><br />Confidence band: +/- <b>%{customdata[6]}</b><br /><extra></extra>",
         "legendgroup": "metric_reference",
         "marker": {
          "color": "#00c8e5",
          "size": 5,
          "symbol": "circle"
         },
         "mode": "markers",
         "name": "Metric",
         "showlegend": false,
         "type": "scatter",
         "x": [
          "2007-02-15T00:00:00",
          "2007-05-01T12:00:00",
          "2007-06-16T00:00:00",
          "2007-07-16T12:00:00",
          "2007-10-01T00:00:00",
          "2008-01-31T00:00:00",
          "2008-05-01T12:00:00",
          "2008-06-16T00:00:00",
          "2008-09-15T12:00:00",
          "2008-12-01T00:00:00"
         ],
         "y": [
          0.6076659286368773,
          0.8099382252063614,
          0.9221554170595738,
          0.7350693460421422,
          0.6606953085728124,
          0.8306039589267236,
          0.7029136696161098,
          0.655070510247605,
          0.8634313601930521,
          0.8273652513054316,
          0.8273652513054316
         ]
        },
        {
         "hoverinfo": "skip",
         "legendgroup": "metric_analysis",
         "line": {
          "color": "#00c8e5",
          "shape": "hv",
          "width": 2
         },
         "mode": "lines",
         "name": "Metric",
         "showlegend": false,
         "type": "scatter",
         "x": [
          "2009-01-01T00:00:00",
          "2009-04-01T00:00:00",
          "2009-05-01T00:00:00",
          "2009-06-01T00:00:00",
          "2009-07-01T00:00:00",
          "2009-09-01T00:00:00",
          "2009-11-01T00:00:00",
          "2010-02-01T00:00:00",
          "2010-04-01T00:00:00",
          "2010-07-01T00:00:00",
          "2010-07-01T00:00:00"
         ],
         "y": [
          0.6302715732693761,
          0.7783540226420059,
          0.8287650904714112,
          0.7914497767775028,
          0.657601082155666,
          0.7871386397087351,
          0.7122812126059686,
          0.71611182512518,
          0.798213669395936,
          1.1066093982807048,
          1.1066093982807048
         ]
        },
        {
         "customdata": [
          [
           "Data reconstruction drift",
           "<b style=\"color:#3b0280;line-height:60px\">Analysis</b>",
           "",
           "[0:50]",
           "From <b>Jan-01-2009</b> to <b>Apr-01-2009</b>",
           0.6303,
           0.3369
          ],
          [
           "Data reconstruction drift",
           "<b style=\"color:#3b0280;line-height:60px\">Analysis</b>",
           "",
           "[51:101]",
           "From <b>Apr-01-2009</b> to <b>May-01-2009</b>",
           0.7784,
           0.3369
          ],
          [
           "Data reconstruction drift",
           "<b style=\"color:#3b0280;line-height:60px\">Analysis</b>",
           "",
           "[102:152]",
           "From <b>May-01-2009</b> to <b>Jun-01-2009</b>",
           0.8288,
           0.3369
          ],
          [
           "Data reconstruction drift",
           "<b style=\"color:#3b0280;line-height:60px\">Analysis</b>",
           "",
           "[153:203]",
           "From <b>Jun-01-2009</b> to <b>Jul-01-2009</b>",
           0.7914,
           0.3369
          ],
          [
           "Data reconstruction drift",
           "<b style=\"color:#3b0280;line-height:60px\">Analysis</b>",
           "",
           "[204:254]",
           "From <b>Jul-01-2009</b> to <b>Sep-01-2009</b>",
           0.6576,
           0.3369
          ],
          [
           "Data reconstruction drift",
           "<b style=\"color:#3b0280;line-height:60px\">Analysis</b>",
           "",
           "[255:305]",
           "From <b>Sep-01-2009</b> to <b>Nov-01-2009</b>",
           0.7871,
           0.3369
          ],
          [
           "Data reconstruction drift",
           "<b style=\"color:#3b0280;line-height:60px\">Analysis</b>",
           "",
           "[306:356]",
           "From <b>Nov-01-2009</b> to <b>Feb-01-2010</b>",
           0.7123,
           0.3369
          ],
          [
           "Data reconstruction drift",
           "<b style=\"color:#3b0280;line-height:60px\">Analysis</b>",
           "",
           "[357:407]",
           "From <b>Feb-01-2010</b> to <b>Apr-01-2010</b>",
           0.7161,
           0.3369
          ],
          [
           "Data reconstruction drift",
           "<b style=\"color:#3b0280;line-height:60px\">Analysis</b>",
           "",
           "[408:458]",
           "From <b>Apr-01-2010</b> to <b>May-01-2010</b>",
           0.7982,
           0.3369
          ],
          [
           "Data reconstruction drift",
           "<b style=\"color:#3b0280;line-height:60px\">Analysis</b>",
           "<span style=\"color:#AD0000\">⚠ <b>Drift detected</b></span>",
           "[510:509]",
           "From <b>Jul-01-2010</b> to <b>Jul-01-2010</b>",
           1.1066,
           0.3274
          ]
         ],
         "hovertemplate": "%{customdata[1]} &nbsp; &nbsp; %{customdata[2]} <br />Chunk: <b>%{customdata[3]}</b> &nbsp; &nbsp; %{customdata[4]} <br />%{customdata[0]}: <b>%{customdata[5]}</b><br />Confidence band: +/- <b>%{customdata[6]}</b><br /><extra></extra>",
         "legendgroup": "metric_analysis",
         "marker": {
          "color": "#00c8e5",
          "size": 5,
          "symbol": "circle"
         },
         "mode": "markers",
         "name": "Metric",
         "showlegend": false,
         "type": "scatter",
         "x": [
          "2009-02-15T00:00:00",
          "2009-04-16T00:00:00",
          "2009-05-16T12:00:00",
          "2009-06-16T00:00:00",
          "2009-08-01T00:00:00",
          "2009-10-01T12:00:00",
          "2009-12-17T00:00:00",
          "2010-03-02T12:00:00",
          "2010-05-16T12:00:00",
          "2010-07-01T00:00:00"
         ],
         "y": [
          0.6302715732693761,
          0.7783540226420059,
          0.8287650904714112,
          0.7914497767775028,
          0.657601082155666,
          0.7871386397087351,
          0.7122812126059686,
          0.71611182512518,
          0.798213669395936,
          1.1066093982807048,
          1.1066093982807048
         ]
        },
        {
         "hoverinfo": "skip",
         "legendgroup": "alert",
         "marker": {
          "color": "#DD4040",
          "size": 8,
          "symbol": "diamond"
         },
         "mode": "markers",
         "name": "Alert",
         "showlegend": true,
         "type": "scatter",
         "x": [
          "2010-07-01T00:00:00"
         ],
         "y": [
          1.1066093982807048
         ]
        },
        {
         "hoverinfo": "skip",
         "legendgroup": "thresh",
         "line": {
          "color": "#DD4040",
          "dash": "dash",
          "width": 2
         },
         "mode": "lines",
         "name": "Threshold",
         "showlegend": false,
         "type": "scatter",
         "x": [
          "2007-01-01T00:00:00",
          "2007-04-01T00:00:00",
          "2007-06-01T00:00:00",
          "2007-07-01T00:00:00",
          "2007-08-01T00:00:00",
          "2007-12-01T00:00:00",
          "2008-04-01T00:00:00",
          "2008-06-01T00:00:00",
          "2008-07-01T00:00:00",
          "2008-12-01T00:00:00",
          "2008-12-01T00:00:00"
         ],
         "y": [
          1.056872390133567,
          1.056872390133567,
          1.056872390133567,
          1.056872390133567,
          1.056872390133567,
          1.056872390133567,
          1.056872390133567,
          1.056872390133567,
          1.056872390133567,
          1.056872390133567,
          1.056872390133567
         ]
        },
        {
         "hoverinfo": "skip",
         "legendgroup": "thresh",
         "line": {
          "color": "#DD4040",
          "dash": "dash",
          "width": 2
         },
         "mode": "lines",
         "name": "Threshold",
         "showlegend": false,
         "type": "scatter",
         "x": [
          "2007-01-01T00:00:00",
          "2007-04-01T00:00:00",
          "2007-06-01T00:00:00",
          "2007-07-01T00:00:00",
          "2007-08-01T00:00:00",
          "2007-12-01T00:00:00",
          "2008-04-01T00:00:00",
          "2008-06-01T00:00:00",
          "2008-07-01T00:00:00",
          "2008-12-01T00:00:00",
          "2008-12-01T00:00:00"
         ],
         "y": [
          0.4661094050277711,
          0.4661094050277711,
          0.4661094050277711,
          0.4661094050277711,
          0.4661094050277711,
          0.4661094050277711,
          0.4661094050277711,
          0.4661094050277711,
          0.4661094050277711,
          0.4661094050277711,
          0.4661094050277711
         ]
        },
        {
         "hoverinfo": "skip",
         "legendgroup": "thresh",
         "line": {
          "color": "#DD4040",
          "dash": "dash",
          "width": 2
         },
         "mode": "lines",
         "name": "Threshold",
         "showlegend": false,
         "type": "scatter",
         "x": [
          "2009-01-01T00:00:00",
          "2009-04-01T00:00:00",
          "2009-05-01T00:00:00",
          "2009-06-01T00:00:00",
          "2009-07-01T00:00:00",
          "2009-09-01T00:00:00",
          "2009-11-01T00:00:00",
          "2010-02-01T00:00:00",
          "2010-04-01T00:00:00",
          "2010-07-01T00:00:00",
          "2010-07-01T00:00:00"
         ],
         "y": [
          1.056872390133567,
          1.056872390133567,
          1.056872390133567,
          1.056872390133567,
          1.056872390133567,
          1.056872390133567,
          1.056872390133567,
          1.056872390133567,
          1.056872390133567,
          1.056872390133567,
          1.056872390133567
         ]
        },
        {
         "hoverinfo": "skip",
         "legendgroup": "thresh",
         "line": {
          "color": "#DD4040",
          "dash": "dash",
          "width": 2
         },
         "mode": "lines",
         "name": "Threshold",
         "showlegend": false,
         "type": "scatter",
         "x": [
          "2009-01-01T00:00:00",
          "2009-04-01T00:00:00",
          "2009-05-01T00:00:00",
          "2009-06-01T00:00:00",
          "2009-07-01T00:00:00",
          "2009-09-01T00:00:00",
          "2009-11-01T00:00:00",
          "2010-02-01T00:00:00",
          "2010-04-01T00:00:00",
          "2010-07-01T00:00:00",
          "2010-07-01T00:00:00"
         ],
         "y": [
          0.4661094050277711,
          0.4661094050277711,
          0.4661094050277711,
          0.4661094050277711,
          0.4661094050277711,
          0.4661094050277711,
          0.4661094050277711,
          0.4661094050277711,
          0.4661094050277711,
          0.4661094050277711,
          0.4661094050277711
         ]
        },
        {
         "hoverinfo": "skip",
         "line": {
          "color": "rgba(0,0,0,0)",
          "shape": "hv"
         },
         "mode": "lines",
         "name": "Confidence band",
         "showlegend": false,
         "type": "scatter",
         "x": [
          "2007-01-01T00:00:00",
          "2007-04-01T00:00:00",
          "2007-06-01T00:00:00",
          "2007-07-01T00:00:00",
          "2007-08-01T00:00:00",
          "2007-12-01T00:00:00",
          "2008-04-01T00:00:00",
          "2008-06-01T00:00:00",
          "2008-07-01T00:00:00",
          "2008-12-01T00:00:00",
          "2008-12-01T00:00:00"
         ],
         "y": [
          0.9107493810477336,
          1.1130216776172177,
          1.2252388694704301,
          1.0381527984529986,
          0.9637787609836688,
          1.1336874113375799,
          1.0059971220269661,
          0.9581539626584614,
          1.1665148126039084,
          1.1234803365518578,
          1.1234803365518578
         ]
        },
        {
         "fill": "tonexty",
         "fillcolor": "rgba(0.0, 0.7843137254901961, 0.8980392156862745, 0.2)",
         "hoverinfo": "skip",
         "line": {
          "color": "rgba(0,0,0,0)",
          "shape": "hv"
         },
         "mode": "lines",
         "name": "Confidence band",
         "showlegend": true,
         "type": "scatter",
         "x": [
          "2007-01-01T00:00:00",
          "2007-04-01T00:00:00",
          "2007-06-01T00:00:00",
          "2007-07-01T00:00:00",
          "2007-08-01T00:00:00",
          "2007-12-01T00:00:00",
          "2008-04-01T00:00:00",
          "2008-06-01T00:00:00",
          "2008-07-01T00:00:00",
          "2008-12-01T00:00:00",
          "2008-12-01T00:00:00"
         ],
         "y": [
          0.3045824762260209,
          0.5068547727955051,
          0.6190719646487175,
          0.43198589363128587,
          0.35761185616195607,
          0.5275205065158672,
          0.3998302172052534,
          0.3519870578367486,
          0.5603479077821958,
          0.5312501660590054,
          0.5312501660590054
         ]
        },
        {
         "hoverinfo": "skip",
         "line": {
          "color": "rgba(0,0,0,0)",
          "shape": "hv"
         },
         "mode": "lines",
         "name": "Confidence band",
         "showlegend": false,
         "type": "scatter",
         "x": [
          "2009-01-01T00:00:00",
          "2009-04-01T00:00:00",
          "2009-05-01T00:00:00",
          "2009-06-01T00:00:00",
          "2009-07-01T00:00:00",
          "2009-09-01T00:00:00",
          "2009-11-01T00:00:00",
          "2010-02-01T00:00:00",
          "2010-04-01T00:00:00",
          "2010-07-01T00:00:00",
          "2010-07-01T00:00:00"
         ],
         "y": [
          0.9671299971554319,
          1.1152124465280617,
          1.165623514357467,
          1.1283082006635587,
          0.9944595060417218,
          1.123997063594791,
          1.0491396364920242,
          1.0529702490112358,
          1.1350720932819918,
          1.4339769424562046,
          1.4339769424562046
         ]
        },
        {
         "fill": "tonexty",
         "fillcolor": "rgba(0.0, 0.7843137254901961, 0.8980392156862745, 0.2)",
         "hoverinfo": "skip",
         "line": {
          "color": "rgba(0,0,0,0)",
          "shape": "hv"
         },
         "mode": "lines",
         "name": "Confidence band",
         "showlegend": false,
         "type": "scatter",
         "x": [
          "2009-01-01T00:00:00",
          "2009-04-01T00:00:00",
          "2009-05-01T00:00:00",
          "2009-06-01T00:00:00",
          "2009-07-01T00:00:00",
          "2009-09-01T00:00:00",
          "2009-11-01T00:00:00",
          "2010-02-01T00:00:00",
          "2010-04-01T00:00:00",
          "2010-07-01T00:00:00",
          "2010-07-01T00:00:00"
         ],
         "y": [
          0.2934131493833203,
          0.4414955987559501,
          0.4919066665853554,
          0.45459135289144703,
          0.32074265826961024,
          0.4502802158226793,
          0.37542278871991275,
          0.3792534012391242,
          0.46135524550988016,
          0.7792418541052051,
          0.7792418541052051
         ]
        }
       ],
       "layout": {
        "annotations": [
         {
          "showarrow": false,
          "text": "Reference",
          "x": "2007-11-15T19:12:00",
          "xshift": 10,
          "y": 1.01,
          "yref": "y domain"
         },
         {
          "showarrow": false,
          "text": "Analysis",
          "x": "2009-09-06T14:24:00",
          "xshift": 15,
          "y": 1.01,
          "yref": "y domain"
         }
        ],
        "hoverlabel": {
         "bgcolor": "white",
         "font": {
          "size": 14
         }
        },
        "legend": {
         "itemclick": false,
         "itemdoubleclick": false,
         "traceorder": "grouped"
        },
        "paper_bgcolor": "rgba(255,255,255,1)",
        "plot_bgcolor": "rgba(255,255,255,1)",
        "shapes": [
         {
          "layer": "below",
          "line": {
           "color": "#666666",
           "width": 1
          },
          "type": "line",
          "x0": "2009-01-01T00:00:00",
          "x1": "2009-01-01T00:00:00",
          "xref": "x",
          "y0": 0,
          "y1": 1,
          "yref": "y domain"
         }
        ],
        "template": {
         "data": {
          "bar": [
           {
            "error_x": {
             "color": "#2a3f5f"
            },
            "error_y": {
             "color": "#2a3f5f"
            },
            "marker": {
             "line": {
              "color": "#E5ECF6",
              "width": 0.5
             },
             "pattern": {
              "fillmode": "overlay",
              "size": 10,
              "solidity": 0.2
             }
            },
            "type": "bar"
           }
          ],
          "barpolar": [
           {
            "marker": {
             "line": {
              "color": "#E5ECF6",
              "width": 0.5
             },
             "pattern": {
              "fillmode": "overlay",
              "size": 10,
              "solidity": 0.2
             }
            },
            "type": "barpolar"
           }
          ],
          "carpet": [
           {
            "aaxis": {
             "endlinecolor": "#2a3f5f",
             "gridcolor": "white",
             "linecolor": "white",
             "minorgridcolor": "white",
             "startlinecolor": "#2a3f5f"
            },
            "baxis": {
             "endlinecolor": "#2a3f5f",
             "gridcolor": "white",
             "linecolor": "white",
             "minorgridcolor": "white",
             "startlinecolor": "#2a3f5f"
            },
            "type": "carpet"
           }
          ],
          "choropleth": [
           {
            "colorbar": {
             "outlinewidth": 0,
             "ticks": ""
            },
            "type": "choropleth"
           }
          ],
          "contour": [
           {
            "colorbar": {
             "outlinewidth": 0,
             "ticks": ""
            },
            "colorscale": [
             [
              0,
              "#0d0887"
             ],
             [
              0.1111111111111111,
              "#46039f"
             ],
             [
              0.2222222222222222,
              "#7201a8"
             ],
             [
              0.3333333333333333,
              "#9c179e"
             ],
             [
              0.4444444444444444,
              "#bd3786"
             ],
             [
              0.5555555555555556,
              "#d8576b"
             ],
             [
              0.6666666666666666,
              "#ed7953"
             ],
             [
              0.7777777777777778,
              "#fb9f3a"
             ],
             [
              0.8888888888888888,
              "#fdca26"
             ],
             [
              1,
              "#f0f921"
             ]
            ],
            "type": "contour"
           }
          ],
          "contourcarpet": [
           {
            "colorbar": {
             "outlinewidth": 0,
             "ticks": ""
            },
            "type": "contourcarpet"
           }
          ],
          "heatmap": [
           {
            "colorbar": {
             "outlinewidth": 0,
             "ticks": ""
            },
            "colorscale": [
             [
              0,
              "#0d0887"
             ],
             [
              0.1111111111111111,
              "#46039f"
             ],
             [
              0.2222222222222222,
              "#7201a8"
             ],
             [
              0.3333333333333333,
              "#9c179e"
             ],
             [
              0.4444444444444444,
              "#bd3786"
             ],
             [
              0.5555555555555556,
              "#d8576b"
             ],
             [
              0.6666666666666666,
              "#ed7953"
             ],
             [
              0.7777777777777778,
              "#fb9f3a"
             ],
             [
              0.8888888888888888,
              "#fdca26"
             ],
             [
              1,
              "#f0f921"
             ]
            ],
            "type": "heatmap"
           }
          ],
          "heatmapgl": [
           {
            "colorbar": {
             "outlinewidth": 0,
             "ticks": ""
            },
            "colorscale": [
             [
              0,
              "#0d0887"
             ],
             [
              0.1111111111111111,
              "#46039f"
             ],
             [
              0.2222222222222222,
              "#7201a8"
             ],
             [
              0.3333333333333333,
              "#9c179e"
             ],
             [
              0.4444444444444444,
              "#bd3786"
             ],
             [
              0.5555555555555556,
              "#d8576b"
             ],
             [
              0.6666666666666666,
              "#ed7953"
             ],
             [
              0.7777777777777778,
              "#fb9f3a"
             ],
             [
              0.8888888888888888,
              "#fdca26"
             ],
             [
              1,
              "#f0f921"
             ]
            ],
            "type": "heatmapgl"
           }
          ],
          "histogram": [
           {
            "marker": {
             "pattern": {
              "fillmode": "overlay",
              "size": 10,
              "solidity": 0.2
             }
            },
            "type": "histogram"
           }
          ],
          "histogram2d": [
           {
            "colorbar": {
             "outlinewidth": 0,
             "ticks": ""
            },
            "colorscale": [
             [
              0,
              "#0d0887"
             ],
             [
              0.1111111111111111,
              "#46039f"
             ],
             [
              0.2222222222222222,
              "#7201a8"
             ],
             [
              0.3333333333333333,
              "#9c179e"
             ],
             [
              0.4444444444444444,
              "#bd3786"
             ],
             [
              0.5555555555555556,
              "#d8576b"
             ],
             [
              0.6666666666666666,
              "#ed7953"
             ],
             [
              0.7777777777777778,
              "#fb9f3a"
             ],
             [
              0.8888888888888888,
              "#fdca26"
             ],
             [
              1,
              "#f0f921"
             ]
            ],
            "type": "histogram2d"
           }
          ],
          "histogram2dcontour": [
           {
            "colorbar": {
             "outlinewidth": 0,
             "ticks": ""
            },
            "colorscale": [
             [
              0,
              "#0d0887"
             ],
             [
              0.1111111111111111,
              "#46039f"
             ],
             [
              0.2222222222222222,
              "#7201a8"
             ],
             [
              0.3333333333333333,
              "#9c179e"
             ],
             [
              0.4444444444444444,
              "#bd3786"
             ],
             [
              0.5555555555555556,
              "#d8576b"
             ],
             [
              0.6666666666666666,
              "#ed7953"
             ],
             [
              0.7777777777777778,
              "#fb9f3a"
             ],
             [
              0.8888888888888888,
              "#fdca26"
             ],
             [
              1,
              "#f0f921"
             ]
            ],
            "type": "histogram2dcontour"
           }
          ],
          "mesh3d": [
           {
            "colorbar": {
             "outlinewidth": 0,
             "ticks": ""
            },
            "type": "mesh3d"
           }
          ],
          "parcoords": [
           {
            "line": {
             "colorbar": {
              "outlinewidth": 0,
              "ticks": ""
             }
            },
            "type": "parcoords"
           }
          ],
          "pie": [
           {
            "automargin": true,
            "type": "pie"
           }
          ],
          "scatter": [
           {
            "fillpattern": {
             "fillmode": "overlay",
             "size": 10,
             "solidity": 0.2
            },
            "type": "scatter"
           }
          ],
          "scatter3d": [
           {
            "line": {
             "colorbar": {
              "outlinewidth": 0,
              "ticks": ""
             }
            },
            "marker": {
             "colorbar": {
              "outlinewidth": 0,
              "ticks": ""
             }
            },
            "type": "scatter3d"
           }
          ],
          "scattercarpet": [
           {
            "marker": {
             "colorbar": {
              "outlinewidth": 0,
              "ticks": ""
             }
            },
            "type": "scattercarpet"
           }
          ],
          "scattergeo": [
           {
            "marker": {
             "colorbar": {
              "outlinewidth": 0,
              "ticks": ""
             }
            },
            "type": "scattergeo"
           }
          ],
          "scattergl": [
           {
            "marker": {
             "colorbar": {
              "outlinewidth": 0,
              "ticks": ""
             }
            },
            "type": "scattergl"
           }
          ],
          "scattermapbox": [
           {
            "marker": {
             "colorbar": {
              "outlinewidth": 0,
              "ticks": ""
             }
            },
            "type": "scattermapbox"
           }
          ],
          "scatterpolar": [
           {
            "marker": {
             "colorbar": {
              "outlinewidth": 0,
              "ticks": ""
             }
            },
            "type": "scatterpolar"
           }
          ],
          "scatterpolargl": [
           {
            "marker": {
             "colorbar": {
              "outlinewidth": 0,
              "ticks": ""
             }
            },
            "type": "scatterpolargl"
           }
          ],
          "scatterternary": [
           {
            "marker": {
             "colorbar": {
              "outlinewidth": 0,
              "ticks": ""
             }
            },
            "type": "scatterternary"
           }
          ],
          "surface": [
           {
            "colorbar": {
             "outlinewidth": 0,
             "ticks": ""
            },
            "colorscale": [
             [
              0,
              "#0d0887"
             ],
             [
              0.1111111111111111,
              "#46039f"
             ],
             [
              0.2222222222222222,
              "#7201a8"
             ],
             [
              0.3333333333333333,
              "#9c179e"
             ],
             [
              0.4444444444444444,
              "#bd3786"
             ],
             [
              0.5555555555555556,
              "#d8576b"
             ],
             [
              0.6666666666666666,
              "#ed7953"
             ],
             [
              0.7777777777777778,
              "#fb9f3a"
             ],
             [
              0.8888888888888888,
              "#fdca26"
             ],
             [
              1,
              "#f0f921"
             ]
            ],
            "type": "surface"
           }
          ],
          "table": [
           {
            "cells": {
             "fill": {
              "color": "#EBF0F8"
             },
             "line": {
              "color": "white"
             }
            },
            "header": {
             "fill": {
              "color": "#C8D4E3"
             },
             "line": {
              "color": "white"
             }
            },
            "type": "table"
           }
          ]
         },
         "layout": {
          "annotationdefaults": {
           "arrowcolor": "#2a3f5f",
           "arrowhead": 0,
           "arrowwidth": 1
          },
          "autotypenumbers": "strict",
          "coloraxis": {
           "colorbar": {
            "outlinewidth": 0,
            "ticks": ""
           }
          },
          "colorscale": {
           "diverging": [
            [
             0,
             "#8e0152"
            ],
            [
             0.1,
             "#c51b7d"
            ],
            [
             0.2,
             "#de77ae"
            ],
            [
             0.3,
             "#f1b6da"
            ],
            [
             0.4,
             "#fde0ef"
            ],
            [
             0.5,
             "#f7f7f7"
            ],
            [
             0.6,
             "#e6f5d0"
            ],
            [
             0.7,
             "#b8e186"
            ],
            [
             0.8,
             "#7fbc41"
            ],
            [
             0.9,
             "#4d9221"
            ],
            [
             1,
             "#276419"
            ]
           ],
           "sequential": [
            [
             0,
             "#0d0887"
            ],
            [
             0.1111111111111111,
             "#46039f"
            ],
            [
             0.2222222222222222,
             "#7201a8"
            ],
            [
             0.3333333333333333,
             "#9c179e"
            ],
            [
             0.4444444444444444,
             "#bd3786"
            ],
            [
             0.5555555555555556,
             "#d8576b"
            ],
            [
             0.6666666666666666,
             "#ed7953"
            ],
            [
             0.7777777777777778,
             "#fb9f3a"
            ],
            [
             0.8888888888888888,
             "#fdca26"
            ],
            [
             1,
             "#f0f921"
            ]
           ],
           "sequentialminus": [
            [
             0,
             "#0d0887"
            ],
            [
             0.1111111111111111,
             "#46039f"
            ],
            [
             0.2222222222222222,
             "#7201a8"
            ],
            [
             0.3333333333333333,
             "#9c179e"
            ],
            [
             0.4444444444444444,
             "#bd3786"
            ],
            [
             0.5555555555555556,
             "#d8576b"
            ],
            [
             0.6666666666666666,
             "#ed7953"
            ],
            [
             0.7777777777777778,
             "#fb9f3a"
            ],
            [
             0.8888888888888888,
             "#fdca26"
            ],
            [
             1,
             "#f0f921"
            ]
           ]
          },
          "colorway": [
           "#636efa",
           "#EF553B",
           "#00cc96",
           "#ab63fa",
           "#FFA15A",
           "#19d3f3",
           "#FF6692",
           "#B6E880",
           "#FF97FF",
           "#FECB52"
          ],
          "font": {
           "color": "#2a3f5f"
          },
          "geo": {
           "bgcolor": "white",
           "lakecolor": "white",
           "landcolor": "#E5ECF6",
           "showlakes": true,
           "showland": true,
           "subunitcolor": "white"
          },
          "hoverlabel": {
           "align": "left"
          },
          "hovermode": "closest",
          "mapbox": {
           "style": "light"
          },
          "paper_bgcolor": "white",
          "plot_bgcolor": "#E5ECF6",
          "polar": {
           "angularaxis": {
            "gridcolor": "white",
            "linecolor": "white",
            "ticks": ""
           },
           "bgcolor": "#E5ECF6",
           "radialaxis": {
            "gridcolor": "white",
            "linecolor": "white",
            "ticks": ""
           }
          },
          "scene": {
           "xaxis": {
            "backgroundcolor": "#E5ECF6",
            "gridcolor": "white",
            "gridwidth": 2,
            "linecolor": "white",
            "showbackground": true,
            "ticks": "",
            "zerolinecolor": "white"
           },
           "yaxis": {
            "backgroundcolor": "#E5ECF6",
            "gridcolor": "white",
            "gridwidth": 2,
            "linecolor": "white",
            "showbackground": true,
            "ticks": "",
            "zerolinecolor": "white"
           },
           "zaxis": {
            "backgroundcolor": "#E5ECF6",
            "gridcolor": "white",
            "gridwidth": 2,
            "linecolor": "white",
            "showbackground": true,
            "ticks": "",
            "zerolinecolor": "white"
           }
          },
          "shapedefaults": {
           "line": {
            "color": "#2a3f5f"
           }
          },
          "ternary": {
           "aaxis": {
            "gridcolor": "white",
            "linecolor": "white",
            "ticks": ""
           },
           "baxis": {
            "gridcolor": "white",
            "linecolor": "white",
            "ticks": ""
           },
           "bgcolor": "#E5ECF6",
           "caxis": {
            "gridcolor": "white",
            "linecolor": "white",
            "ticks": ""
           }
          },
          "title": {
           "x": 0.05
          },
          "xaxis": {
           "automargin": true,
           "gridcolor": "white",
           "linecolor": "white",
           "ticks": "",
           "title": {
            "standoff": 15
           },
           "zerolinecolor": "white",
           "zerolinewidth": 2
          },
          "yaxis": {
           "automargin": true,
           "gridcolor": "white",
           "linecolor": "white",
           "ticks": "",
           "title": {
            "standoff": 15
           },
           "zerolinecolor": "white",
           "zerolinewidth": 2
          }
         }
        },
        "title": {
         "text": "Multivariate drift (PCA reconstruction error)"
        },
        "xaxis": {
         "linecolor": "#3b0280",
         "matches": "x",
         "mirror": true,
         "showgrid": false,
         "title": {
          "text": "Time"
         },
         "zeroline": false
        },
        "yaxis": {
         "linecolor": "#3b0280",
         "mirror": true,
         "showgrid": false,
         "title": {
          "text": "Data reconstruction drift"
         },
         "zeroline": false
        }
       }
      }
     },
     "metadata": {},
     "output_type": "display_data"
    }
   ],
   "source": [
    "figure = result_years.plot()\n",
    "\n",
    "figure.show()"
   ]
  },
  {
   "cell_type": "code",
   "execution_count": 18,
   "metadata": {},
   "outputs": [
    {
     "data": {
      "text/html": [
       "<div>\n",
       "<style scoped>\n",
       "    .dataframe tbody tr th:only-of-type {\n",
       "        vertical-align: middle;\n",
       "    }\n",
       "\n",
       "    .dataframe tbody tr th {\n",
       "        vertical-align: top;\n",
       "    }\n",
       "\n",
       "    .dataframe thead tr th {\n",
       "        text-align: left;\n",
       "    }\n",
       "</style>\n",
       "<table border=\"1\" class=\"dataframe\">\n",
       "  <thead>\n",
       "    <tr>\n",
       "      <th></th>\n",
       "      <th colspan=\"7\" halign=\"left\">chunk</th>\n",
       "      <th colspan=\"7\" halign=\"left\">reconstruction_error</th>\n",
       "    </tr>\n",
       "    <tr>\n",
       "      <th></th>\n",
       "      <th>key</th>\n",
       "      <th>chunk_index</th>\n",
       "      <th>start_index</th>\n",
       "      <th>end_index</th>\n",
       "      <th>start_date</th>\n",
       "      <th>end_date</th>\n",
       "      <th>period</th>\n",
       "      <th>sampling_error</th>\n",
       "      <th>value</th>\n",
       "      <th>upper_confidence_boundary</th>\n",
       "      <th>lower_confidence_boundary</th>\n",
       "      <th>upper_threshold</th>\n",
       "      <th>lower_threshold</th>\n",
       "      <th>alert</th>\n",
       "    </tr>\n",
       "  </thead>\n",
       "  <tbody>\n",
       "    <tr>\n",
       "      <th>0</th>\n",
       "      <td>[0:14]</td>\n",
       "      <td>0</td>\n",
       "      <td>0</td>\n",
       "      <td>14</td>\n",
       "      <td>2006-07-01</td>\n",
       "      <td>2006-07-01</td>\n",
       "      <td>analysis</td>\n",
       "      <td>0.168451</td>\n",
       "      <td>0.519768</td>\n",
       "      <td>1.025120</td>\n",
       "      <td>0.014416</td>\n",
       "      <td>1.401847</td>\n",
       "      <td>0.164572</td>\n",
       "      <td>False</td>\n",
       "    </tr>\n",
       "    <tr>\n",
       "      <th>1</th>\n",
       "      <td>[15:29]</td>\n",
       "      <td>1</td>\n",
       "      <td>15</td>\n",
       "      <td>29</td>\n",
       "      <td>2006-07-01</td>\n",
       "      <td>2006-07-01</td>\n",
       "      <td>analysis</td>\n",
       "      <td>0.168451</td>\n",
       "      <td>0.644202</td>\n",
       "      <td>1.149554</td>\n",
       "      <td>0.138850</td>\n",
       "      <td>1.401847</td>\n",
       "      <td>0.164572</td>\n",
       "      <td>False</td>\n",
       "    </tr>\n",
       "    <tr>\n",
       "      <th>2</th>\n",
       "      <td>[30:44]</td>\n",
       "      <td>2</td>\n",
       "      <td>30</td>\n",
       "      <td>44</td>\n",
       "      <td>2006-07-01</td>\n",
       "      <td>2006-07-01</td>\n",
       "      <td>analysis</td>\n",
       "      <td>0.168451</td>\n",
       "      <td>0.658476</td>\n",
       "      <td>1.163828</td>\n",
       "      <td>0.153125</td>\n",
       "      <td>1.401847</td>\n",
       "      <td>0.164572</td>\n",
       "      <td>False</td>\n",
       "    </tr>\n",
       "    <tr>\n",
       "      <th>3</th>\n",
       "      <td>[45:59]</td>\n",
       "      <td>3</td>\n",
       "      <td>45</td>\n",
       "      <td>59</td>\n",
       "      <td>2006-07-01</td>\n",
       "      <td>2006-07-01</td>\n",
       "      <td>analysis</td>\n",
       "      <td>0.168451</td>\n",
       "      <td>0.761452</td>\n",
       "      <td>1.266804</td>\n",
       "      <td>0.256100</td>\n",
       "      <td>1.401847</td>\n",
       "      <td>0.164572</td>\n",
       "      <td>False</td>\n",
       "    </tr>\n",
       "    <tr>\n",
       "      <th>4</th>\n",
       "      <td>[60:74]</td>\n",
       "      <td>4</td>\n",
       "      <td>60</td>\n",
       "      <td>74</td>\n",
       "      <td>2006-07-01</td>\n",
       "      <td>2006-08-01</td>\n",
       "      <td>analysis</td>\n",
       "      <td>0.168451</td>\n",
       "      <td>0.747791</td>\n",
       "      <td>1.253143</td>\n",
       "      <td>0.242440</td>\n",
       "      <td>1.401847</td>\n",
       "      <td>0.164572</td>\n",
       "      <td>False</td>\n",
       "    </tr>\n",
       "    <tr>\n",
       "      <th>5</th>\n",
       "      <td>[75:89]</td>\n",
       "      <td>5</td>\n",
       "      <td>75</td>\n",
       "      <td>89</td>\n",
       "      <td>2006-08-01</td>\n",
       "      <td>2006-08-01</td>\n",
       "      <td>analysis</td>\n",
       "      <td>0.168451</td>\n",
       "      <td>0.842335</td>\n",
       "      <td>1.347687</td>\n",
       "      <td>0.336983</td>\n",
       "      <td>1.401847</td>\n",
       "      <td>0.164572</td>\n",
       "      <td>False</td>\n",
       "    </tr>\n",
       "    <tr>\n",
       "      <th>6</th>\n",
       "      <td>[90:104]</td>\n",
       "      <td>6</td>\n",
       "      <td>90</td>\n",
       "      <td>104</td>\n",
       "      <td>2006-09-01</td>\n",
       "      <td>2006-09-01</td>\n",
       "      <td>analysis</td>\n",
       "      <td>0.168451</td>\n",
       "      <td>1.136312</td>\n",
       "      <td>1.641664</td>\n",
       "      <td>0.630960</td>\n",
       "      <td>1.401847</td>\n",
       "      <td>0.164572</td>\n",
       "      <td>False</td>\n",
       "    </tr>\n",
       "    <tr>\n",
       "      <th>7</th>\n",
       "      <td>[105:119]</td>\n",
       "      <td>7</td>\n",
       "      <td>105</td>\n",
       "      <td>119</td>\n",
       "      <td>2006-10-01</td>\n",
       "      <td>2006-10-01</td>\n",
       "      <td>analysis</td>\n",
       "      <td>0.168451</td>\n",
       "      <td>0.937460</td>\n",
       "      <td>1.442812</td>\n",
       "      <td>0.432108</td>\n",
       "      <td>1.401847</td>\n",
       "      <td>0.164572</td>\n",
       "      <td>False</td>\n",
       "    </tr>\n",
       "    <tr>\n",
       "      <th>8</th>\n",
       "      <td>[120:134]</td>\n",
       "      <td>8</td>\n",
       "      <td>120</td>\n",
       "      <td>134</td>\n",
       "      <td>2006-10-01</td>\n",
       "      <td>2006-11-01</td>\n",
       "      <td>analysis</td>\n",
       "      <td>0.168451</td>\n",
       "      <td>0.747105</td>\n",
       "      <td>1.252457</td>\n",
       "      <td>0.241754</td>\n",
       "      <td>1.401847</td>\n",
       "      <td>0.164572</td>\n",
       "      <td>False</td>\n",
       "    </tr>\n",
       "    <tr>\n",
       "      <th>9</th>\n",
       "      <td>[150:149]</td>\n",
       "      <td>9</td>\n",
       "      <td>135</td>\n",
       "      <td>156</td>\n",
       "      <td>2006-12-01</td>\n",
       "      <td>2006-12-01</td>\n",
       "      <td>analysis</td>\n",
       "      <td>0.139094</td>\n",
       "      <td>1.269163</td>\n",
       "      <td>1.686444</td>\n",
       "      <td>0.851883</td>\n",
       "      <td>1.401847</td>\n",
       "      <td>0.164572</td>\n",
       "      <td>False</td>\n",
       "    </tr>\n",
       "  </tbody>\n",
       "</table>\n",
       "</div>"
      ],
      "text/plain": [
       "       chunk                                                          \\\n",
       "         key chunk_index start_index end_index start_date   end_date   \n",
       "0     [0:14]           0           0        14 2006-07-01 2006-07-01   \n",
       "1    [15:29]           1          15        29 2006-07-01 2006-07-01   \n",
       "2    [30:44]           2          30        44 2006-07-01 2006-07-01   \n",
       "3    [45:59]           3          45        59 2006-07-01 2006-07-01   \n",
       "4    [60:74]           4          60        74 2006-07-01 2006-08-01   \n",
       "5    [75:89]           5          75        89 2006-08-01 2006-08-01   \n",
       "6   [90:104]           6          90       104 2006-09-01 2006-09-01   \n",
       "7  [105:119]           7         105       119 2006-10-01 2006-10-01   \n",
       "8  [120:134]           8         120       134 2006-10-01 2006-11-01   \n",
       "9  [150:149]           9         135       156 2006-12-01 2006-12-01   \n",
       "\n",
       "            reconstruction_error                                      \\\n",
       "     period       sampling_error     value upper_confidence_boundary   \n",
       "0  analysis             0.168451  0.519768                  1.025120   \n",
       "1  analysis             0.168451  0.644202                  1.149554   \n",
       "2  analysis             0.168451  0.658476                  1.163828   \n",
       "3  analysis             0.168451  0.761452                  1.266804   \n",
       "4  analysis             0.168451  0.747791                  1.253143   \n",
       "5  analysis             0.168451  0.842335                  1.347687   \n",
       "6  analysis             0.168451  1.136312                  1.641664   \n",
       "7  analysis             0.168451  0.937460                  1.442812   \n",
       "8  analysis             0.168451  0.747105                  1.252457   \n",
       "9  analysis             0.139094  1.269163                  1.686444   \n",
       "\n",
       "                                                                    \n",
       "  lower_confidence_boundary upper_threshold lower_threshold  alert  \n",
       "0                  0.014416        1.401847        0.164572  False  \n",
       "1                  0.138850        1.401847        0.164572  False  \n",
       "2                  0.153125        1.401847        0.164572  False  \n",
       "3                  0.256100        1.401847        0.164572  False  \n",
       "4                  0.242440        1.401847        0.164572  False  \n",
       "5                  0.336983        1.401847        0.164572  False  \n",
       "6                  0.630960        1.401847        0.164572  False  \n",
       "7                  0.432108        1.401847        0.164572  False  \n",
       "8                  0.241754        1.401847        0.164572  False  \n",
       "9                  0.851883        1.401847        0.164572  False  "
      ]
     },
     "metadata": {},
     "output_type": "display_data"
    }
   ],
   "source": [
    "display(result_2006.filter(period='analysis').to_df())"
   ]
  },
  {
   "cell_type": "code",
   "execution_count": 19,
   "metadata": {},
   "outputs": [
    {
     "data": {
      "text/html": [
       "<div>\n",
       "<style scoped>\n",
       "    .dataframe tbody tr th:only-of-type {\n",
       "        vertical-align: middle;\n",
       "    }\n",
       "\n",
       "    .dataframe tbody tr th {\n",
       "        vertical-align: top;\n",
       "    }\n",
       "\n",
       "    .dataframe thead tr th {\n",
       "        text-align: left;\n",
       "    }\n",
       "</style>\n",
       "<table border=\"1\" class=\"dataframe\">\n",
       "  <thead>\n",
       "    <tr>\n",
       "      <th></th>\n",
       "      <th colspan=\"7\" halign=\"left\">chunk</th>\n",
       "      <th colspan=\"7\" halign=\"left\">reconstruction_error</th>\n",
       "    </tr>\n",
       "    <tr>\n",
       "      <th></th>\n",
       "      <th>key</th>\n",
       "      <th>chunk_index</th>\n",
       "      <th>start_index</th>\n",
       "      <th>end_index</th>\n",
       "      <th>start_date</th>\n",
       "      <th>end_date</th>\n",
       "      <th>period</th>\n",
       "      <th>sampling_error</th>\n",
       "      <th>value</th>\n",
       "      <th>upper_confidence_boundary</th>\n",
       "      <th>lower_confidence_boundary</th>\n",
       "      <th>upper_threshold</th>\n",
       "      <th>lower_threshold</th>\n",
       "      <th>alert</th>\n",
       "    </tr>\n",
       "  </thead>\n",
       "  <tbody>\n",
       "    <tr>\n",
       "      <th>0</th>\n",
       "      <td>[0:14]</td>\n",
       "      <td>0</td>\n",
       "      <td>0</td>\n",
       "      <td>14</td>\n",
       "      <td>2006-01-01</td>\n",
       "      <td>2006-02-01</td>\n",
       "      <td>reference</td>\n",
       "      <td>0.168451</td>\n",
       "      <td>0.607799</td>\n",
       "      <td>1.113151</td>\n",
       "      <td>0.102447</td>\n",
       "      <td>1.401847</td>\n",
       "      <td>0.164572</td>\n",
       "      <td>False</td>\n",
       "    </tr>\n",
       "    <tr>\n",
       "      <th>1</th>\n",
       "      <td>[15:29]</td>\n",
       "      <td>1</td>\n",
       "      <td>15</td>\n",
       "      <td>29</td>\n",
       "      <td>2006-02-01</td>\n",
       "      <td>2006-03-01</td>\n",
       "      <td>reference</td>\n",
       "      <td>0.168451</td>\n",
       "      <td>0.736560</td>\n",
       "      <td>1.241911</td>\n",
       "      <td>0.231208</td>\n",
       "      <td>1.401847</td>\n",
       "      <td>0.164572</td>\n",
       "      <td>False</td>\n",
       "    </tr>\n",
       "    <tr>\n",
       "      <th>2</th>\n",
       "      <td>[30:44]</td>\n",
       "      <td>2</td>\n",
       "      <td>30</td>\n",
       "      <td>44</td>\n",
       "      <td>2006-03-01</td>\n",
       "      <td>2006-04-01</td>\n",
       "      <td>reference</td>\n",
       "      <td>0.168451</td>\n",
       "      <td>1.260991</td>\n",
       "      <td>1.766343</td>\n",
       "      <td>0.755639</td>\n",
       "      <td>1.401847</td>\n",
       "      <td>0.164572</td>\n",
       "      <td>False</td>\n",
       "    </tr>\n",
       "    <tr>\n",
       "      <th>3</th>\n",
       "      <td>[45:59]</td>\n",
       "      <td>3</td>\n",
       "      <td>45</td>\n",
       "      <td>59</td>\n",
       "      <td>2006-04-01</td>\n",
       "      <td>2006-04-01</td>\n",
       "      <td>reference</td>\n",
       "      <td>0.168451</td>\n",
       "      <td>0.632110</td>\n",
       "      <td>1.137462</td>\n",
       "      <td>0.126758</td>\n",
       "      <td>1.401847</td>\n",
       "      <td>0.164572</td>\n",
       "      <td>False</td>\n",
       "    </tr>\n",
       "    <tr>\n",
       "      <th>4</th>\n",
       "      <td>[60:74]</td>\n",
       "      <td>4</td>\n",
       "      <td>60</td>\n",
       "      <td>74</td>\n",
       "      <td>2006-04-01</td>\n",
       "      <td>2006-05-01</td>\n",
       "      <td>reference</td>\n",
       "      <td>0.168451</td>\n",
       "      <td>0.929396</td>\n",
       "      <td>1.434748</td>\n",
       "      <td>0.424044</td>\n",
       "      <td>1.401847</td>\n",
       "      <td>0.164572</td>\n",
       "      <td>False</td>\n",
       "    </tr>\n",
       "    <tr>\n",
       "      <th>5</th>\n",
       "      <td>[75:89]</td>\n",
       "      <td>5</td>\n",
       "      <td>75</td>\n",
       "      <td>89</td>\n",
       "      <td>2006-05-01</td>\n",
       "      <td>2006-05-01</td>\n",
       "      <td>reference</td>\n",
       "      <td>0.168451</td>\n",
       "      <td>0.821846</td>\n",
       "      <td>1.327198</td>\n",
       "      <td>0.316495</td>\n",
       "      <td>1.401847</td>\n",
       "      <td>0.164572</td>\n",
       "      <td>False</td>\n",
       "    </tr>\n",
       "    <tr>\n",
       "      <th>6</th>\n",
       "      <td>[90:104]</td>\n",
       "      <td>6</td>\n",
       "      <td>90</td>\n",
       "      <td>104</td>\n",
       "      <td>2006-05-01</td>\n",
       "      <td>2006-05-01</td>\n",
       "      <td>reference</td>\n",
       "      <td>0.168451</td>\n",
       "      <td>0.579582</td>\n",
       "      <td>1.084934</td>\n",
       "      <td>0.074230</td>\n",
       "      <td>1.401847</td>\n",
       "      <td>0.164572</td>\n",
       "      <td>False</td>\n",
       "    </tr>\n",
       "    <tr>\n",
       "      <th>7</th>\n",
       "      <td>[105:119]</td>\n",
       "      <td>7</td>\n",
       "      <td>105</td>\n",
       "      <td>119</td>\n",
       "      <td>2006-05-01</td>\n",
       "      <td>2006-06-01</td>\n",
       "      <td>reference</td>\n",
       "      <td>0.168451</td>\n",
       "      <td>0.630819</td>\n",
       "      <td>1.136170</td>\n",
       "      <td>0.125467</td>\n",
       "      <td>1.401847</td>\n",
       "      <td>0.164572</td>\n",
       "      <td>False</td>\n",
       "    </tr>\n",
       "    <tr>\n",
       "      <th>8</th>\n",
       "      <td>[120:134]</td>\n",
       "      <td>8</td>\n",
       "      <td>120</td>\n",
       "      <td>134</td>\n",
       "      <td>2006-06-01</td>\n",
       "      <td>2006-06-01</td>\n",
       "      <td>reference</td>\n",
       "      <td>0.168451</td>\n",
       "      <td>0.976836</td>\n",
       "      <td>1.482188</td>\n",
       "      <td>0.471484</td>\n",
       "      <td>1.401847</td>\n",
       "      <td>0.164572</td>\n",
       "      <td>False</td>\n",
       "    </tr>\n",
       "    <tr>\n",
       "      <th>9</th>\n",
       "      <td>[150:149]</td>\n",
       "      <td>9</td>\n",
       "      <td>135</td>\n",
       "      <td>156</td>\n",
       "      <td>2006-06-01</td>\n",
       "      <td>2006-06-01</td>\n",
       "      <td>reference</td>\n",
       "      <td>0.139094</td>\n",
       "      <td>0.656158</td>\n",
       "      <td>1.073438</td>\n",
       "      <td>0.238877</td>\n",
       "      <td>1.401847</td>\n",
       "      <td>0.164572</td>\n",
       "      <td>False</td>\n",
       "    </tr>\n",
       "  </tbody>\n",
       "</table>\n",
       "</div>"
      ],
      "text/plain": [
       "       chunk                                                          \\\n",
       "         key chunk_index start_index end_index start_date   end_date   \n",
       "0     [0:14]           0           0        14 2006-01-01 2006-02-01   \n",
       "1    [15:29]           1          15        29 2006-02-01 2006-03-01   \n",
       "2    [30:44]           2          30        44 2006-03-01 2006-04-01   \n",
       "3    [45:59]           3          45        59 2006-04-01 2006-04-01   \n",
       "4    [60:74]           4          60        74 2006-04-01 2006-05-01   \n",
       "5    [75:89]           5          75        89 2006-05-01 2006-05-01   \n",
       "6   [90:104]           6          90       104 2006-05-01 2006-05-01   \n",
       "7  [105:119]           7         105       119 2006-05-01 2006-06-01   \n",
       "8  [120:134]           8         120       134 2006-06-01 2006-06-01   \n",
       "9  [150:149]           9         135       156 2006-06-01 2006-06-01   \n",
       "\n",
       "             reconstruction_error                                      \\\n",
       "      period       sampling_error     value upper_confidence_boundary   \n",
       "0  reference             0.168451  0.607799                  1.113151   \n",
       "1  reference             0.168451  0.736560                  1.241911   \n",
       "2  reference             0.168451  1.260991                  1.766343   \n",
       "3  reference             0.168451  0.632110                  1.137462   \n",
       "4  reference             0.168451  0.929396                  1.434748   \n",
       "5  reference             0.168451  0.821846                  1.327198   \n",
       "6  reference             0.168451  0.579582                  1.084934   \n",
       "7  reference             0.168451  0.630819                  1.136170   \n",
       "8  reference             0.168451  0.976836                  1.482188   \n",
       "9  reference             0.139094  0.656158                  1.073438   \n",
       "\n",
       "                                                                    \n",
       "  lower_confidence_boundary upper_threshold lower_threshold  alert  \n",
       "0                  0.102447        1.401847        0.164572  False  \n",
       "1                  0.231208        1.401847        0.164572  False  \n",
       "2                  0.755639        1.401847        0.164572  False  \n",
       "3                  0.126758        1.401847        0.164572  False  \n",
       "4                  0.424044        1.401847        0.164572  False  \n",
       "5                  0.316495        1.401847        0.164572  False  \n",
       "6                  0.074230        1.401847        0.164572  False  \n",
       "7                  0.125467        1.401847        0.164572  False  \n",
       "8                  0.471484        1.401847        0.164572  False  \n",
       "9                  0.238877        1.401847        0.164572  False  "
      ]
     },
     "metadata": {},
     "output_type": "display_data"
    }
   ],
   "source": [
    "display(result_2006.filter(period='reference').to_df())"
   ]
  },
  {
   "cell_type": "code",
   "execution_count": 20,
   "metadata": {},
   "outputs": [
    {
     "data": {
      "application/vnd.plotly.v1+json": {
       "config": {
        "plotlyServerURL": "https://plot.ly"
       },
       "data": [
        {
         "hoverinfo": "skip",
         "legendgroup": "metric_reference",
         "line": {
          "color": "#00c8e5",
          "shape": "hv",
          "width": 2
         },
         "mode": "lines",
         "name": "Metric",
         "showlegend": true,
         "type": "scatter",
         "x": [
          "2006-01-01T00:00:00",
          "2006-02-01T00:00:00",
          "2006-03-01T00:00:00",
          "2006-04-01T00:00:00",
          "2006-04-01T00:00:00",
          "2006-05-01T00:00:00",
          "2006-05-01T00:00:00",
          "2006-05-01T00:00:00",
          "2006-06-01T00:00:00",
          "2006-06-01T00:00:00",
          "2006-06-01T00:00:00"
         ],
         "y": [
          0.6077993374853643,
          0.7365595354204143,
          1.2609912622556778,
          0.6321095848651538,
          0.9293959969120629,
          0.8218464949181,
          0.5795816403117121,
          0.6308185549236947,
          0.9768360165739144,
          0.656157730242078,
          0.656157730242078
         ]
        },
        {
         "customdata": [
          [
           "Data reconstruction drift",
           "<b style=\"color:#00c8e5;line-height:60px\">Reference</b>",
           "",
           "[0:14]",
           "From <b>Jan-01-2006</b> to <b>Feb-01-2006</b>",
           0.6078,
           0.5054
          ],
          [
           "Data reconstruction drift",
           "<b style=\"color:#00c8e5;line-height:60px\">Reference</b>",
           "",
           "[15:29]",
           "From <b>Feb-01-2006</b> to <b>Mar-01-2006</b>",
           0.7366,
           0.5054
          ],
          [
           "Data reconstruction drift",
           "<b style=\"color:#00c8e5;line-height:60px\">Reference</b>",
           "",
           "[30:44]",
           "From <b>Mar-01-2006</b> to <b>Apr-01-2006</b>",
           1.261,
           0.5054
          ],
          [
           "Data reconstruction drift",
           "<b style=\"color:#00c8e5;line-height:60px\">Reference</b>",
           "",
           "[45:59]",
           "From <b>Apr-01-2006</b> to <b>Apr-01-2006</b>",
           0.6321,
           0.5054
          ],
          [
           "Data reconstruction drift",
           "<b style=\"color:#00c8e5;line-height:60px\">Reference</b>",
           "",
           "[60:74]",
           "From <b>Apr-01-2006</b> to <b>May-01-2006</b>",
           0.9294,
           0.5054
          ],
          [
           "Data reconstruction drift",
           "<b style=\"color:#00c8e5;line-height:60px\">Reference</b>",
           "",
           "[75:89]",
           "From <b>May-01-2006</b> to <b>May-01-2006</b>",
           0.8218,
           0.5054
          ],
          [
           "Data reconstruction drift",
           "<b style=\"color:#00c8e5;line-height:60px\">Reference</b>",
           "",
           "[90:104]",
           "From <b>May-01-2006</b> to <b>May-01-2006</b>",
           0.5796,
           0.5054
          ],
          [
           "Data reconstruction drift",
           "<b style=\"color:#00c8e5;line-height:60px\">Reference</b>",
           "",
           "[105:119]",
           "From <b>May-01-2006</b> to <b>Jun-01-2006</b>",
           0.6308,
           0.5054
          ],
          [
           "Data reconstruction drift",
           "<b style=\"color:#00c8e5;line-height:60px\">Reference</b>",
           "",
           "[120:134]",
           "From <b>Jun-01-2006</b> to <b>Jun-01-2006</b>",
           0.9768,
           0.5054
          ],
          [
           "Data reconstruction drift",
           "<b style=\"color:#00c8e5;line-height:60px\">Reference</b>",
           "",
           "[150:149]",
           "From <b>Jun-01-2006</b> to <b>Jun-01-2006</b>",
           0.6562,
           0.4173
          ]
         ],
         "hovertemplate": "%{customdata[1]} &nbsp; &nbsp; %{customdata[2]} <br />Chunk: <b>%{customdata[3]}</b> &nbsp; &nbsp; %{customdata[4]} <br />%{customdata[0]}: <b>%{customdata[5]}</b><br />Confidence band: +/- <b>%{customdata[6]}</b><br /><extra></extra>",
         "legendgroup": "metric_reference",
         "marker": {
          "color": "#00c8e5",
          "size": 5,
          "symbol": "circle"
         },
         "mode": "markers",
         "name": "Metric",
         "showlegend": false,
         "type": "scatter",
         "x": [
          "2006-01-16T12:00:00",
          "2006-02-15T00:00:00",
          "2006-03-16T12:00:00",
          "2006-04-01T00:00:00",
          "2006-04-16T00:00:00",
          "2006-05-01T00:00:00",
          "2006-05-01T00:00:00",
          "2006-05-16T12:00:00",
          "2006-06-01T00:00:00",
          "2006-06-01T00:00:00"
         ],
         "y": [
          0.6077993374853643,
          0.7365595354204143,
          1.2609912622556778,
          0.6321095848651538,
          0.9293959969120629,
          0.8218464949181,
          0.5795816403117121,
          0.6308185549236947,
          0.9768360165739144,
          0.656157730242078,
          0.656157730242078
         ]
        },
        {
         "hoverinfo": "skip",
         "legendgroup": "metric_analysis",
         "line": {
          "color": "#00c8e5",
          "shape": "hv",
          "width": 2
         },
         "mode": "lines",
         "name": "Metric",
         "showlegend": false,
         "type": "scatter",
         "x": [
          "2006-07-01T00:00:00",
          "2006-07-01T00:00:00",
          "2006-07-01T00:00:00",
          "2006-07-01T00:00:00",
          "2006-07-01T00:00:00",
          "2006-08-01T00:00:00",
          "2006-09-01T00:00:00",
          "2006-10-01T00:00:00",
          "2006-10-01T00:00:00",
          "2006-12-01T00:00:00",
          "2006-12-01T00:00:00"
         ],
         "y": [
          0.5197683747245545,
          0.6442016832260605,
          0.6584764300543011,
          0.7614519094675584,
          0.7477914969061199,
          0.8423350749543992,
          1.136311684691236,
          0.9374596896634881,
          0.7471054667151756,
          1.2691634536201013,
          1.2691634536201013
         ]
        },
        {
         "customdata": [
          [
           "Data reconstruction drift",
           "<b style=\"color:#3b0280;line-height:60px\">Analysis</b>",
           "",
           "[0:14]",
           "From <b>Jul-01-2006</b> to <b>Jul-01-2006</b>",
           0.5198,
           0.5054
          ],
          [
           "Data reconstruction drift",
           "<b style=\"color:#3b0280;line-height:60px\">Analysis</b>",
           "",
           "[15:29]",
           "From <b>Jul-01-2006</b> to <b>Jul-01-2006</b>",
           0.6442,
           0.5054
          ],
          [
           "Data reconstruction drift",
           "<b style=\"color:#3b0280;line-height:60px\">Analysis</b>",
           "",
           "[30:44]",
           "From <b>Jul-01-2006</b> to <b>Jul-01-2006</b>",
           0.6585,
           0.5054
          ],
          [
           "Data reconstruction drift",
           "<b style=\"color:#3b0280;line-height:60px\">Analysis</b>",
           "",
           "[45:59]",
           "From <b>Jul-01-2006</b> to <b>Jul-01-2006</b>",
           0.7615,
           0.5054
          ],
          [
           "Data reconstruction drift",
           "<b style=\"color:#3b0280;line-height:60px\">Analysis</b>",
           "",
           "[60:74]",
           "From <b>Jul-01-2006</b> to <b>Aug-01-2006</b>",
           0.7478,
           0.5054
          ],
          [
           "Data reconstruction drift",
           "<b style=\"color:#3b0280;line-height:60px\">Analysis</b>",
           "",
           "[75:89]",
           "From <b>Aug-01-2006</b> to <b>Aug-01-2006</b>",
           0.8423,
           0.5054
          ],
          [
           "Data reconstruction drift",
           "<b style=\"color:#3b0280;line-height:60px\">Analysis</b>",
           "",
           "[90:104]",
           "From <b>Sep-01-2006</b> to <b>Sep-01-2006</b>",
           1.1363,
           0.5054
          ],
          [
           "Data reconstruction drift",
           "<b style=\"color:#3b0280;line-height:60px\">Analysis</b>",
           "",
           "[105:119]",
           "From <b>Oct-01-2006</b> to <b>Oct-01-2006</b>",
           0.9375,
           0.5054
          ],
          [
           "Data reconstruction drift",
           "<b style=\"color:#3b0280;line-height:60px\">Analysis</b>",
           "",
           "[120:134]",
           "From <b>Oct-01-2006</b> to <b>Nov-01-2006</b>",
           0.7471,
           0.5054
          ],
          [
           "Data reconstruction drift",
           "<b style=\"color:#3b0280;line-height:60px\">Analysis</b>",
           "",
           "[150:149]",
           "From <b>Dec-01-2006</b> to <b>Dec-01-2006</b>",
           1.2692,
           0.4173
          ]
         ],
         "hovertemplate": "%{customdata[1]} &nbsp; &nbsp; %{customdata[2]} <br />Chunk: <b>%{customdata[3]}</b> &nbsp; &nbsp; %{customdata[4]} <br />%{customdata[0]}: <b>%{customdata[5]}</b><br />Confidence band: +/- <b>%{customdata[6]}</b><br /><extra></extra>",
         "legendgroup": "metric_analysis",
         "marker": {
          "color": "#00c8e5",
          "size": 5,
          "symbol": "circle"
         },
         "mode": "markers",
         "name": "Metric",
         "showlegend": false,
         "type": "scatter",
         "x": [
          "2006-07-01T00:00:00",
          "2006-07-01T00:00:00",
          "2006-07-01T00:00:00",
          "2006-07-01T00:00:00",
          "2006-07-16T12:00:00",
          "2006-08-16T12:00:00",
          "2006-09-16T00:00:00",
          "2006-10-01T00:00:00",
          "2006-10-31T12:00:00",
          "2006-12-01T00:00:00"
         ],
         "y": [
          0.5197683747245545,
          0.6442016832260605,
          0.6584764300543011,
          0.7614519094675584,
          0.7477914969061199,
          0.8423350749543992,
          1.136311684691236,
          0.9374596896634881,
          0.7471054667151756,
          1.2691634536201013,
          1.2691634536201013
         ]
        },
        {
         "hoverinfo": "skip",
         "legendgroup": "alert",
         "marker": {
          "color": "#DD4040",
          "size": 8,
          "symbol": "diamond"
         },
         "mode": "markers",
         "name": "Alert",
         "showlegend": true,
         "type": "scatter",
         "x": [],
         "y": []
        },
        {
         "hoverinfo": "skip",
         "legendgroup": "thresh",
         "line": {
          "color": "#DD4040",
          "dash": "dash",
          "width": 2
         },
         "mode": "lines",
         "name": "Threshold",
         "showlegend": false,
         "type": "scatter",
         "x": [
          "2006-01-01T00:00:00",
          "2006-02-01T00:00:00",
          "2006-03-01T00:00:00",
          "2006-04-01T00:00:00",
          "2006-04-01T00:00:00",
          "2006-05-01T00:00:00",
          "2006-05-01T00:00:00",
          "2006-05-01T00:00:00",
          "2006-06-01T00:00:00",
          "2006-06-01T00:00:00",
          "2006-06-01T00:00:00"
         ],
         "y": [
          1.401846812936716,
          1.401846812936716,
          1.401846812936716,
          1.401846812936716,
          1.401846812936716,
          1.401846812936716,
          1.401846812936716,
          1.401846812936716,
          1.401846812936716,
          1.401846812936716,
          1.401846812936716
         ]
        },
        {
         "hoverinfo": "skip",
         "legendgroup": "thresh",
         "line": {
          "color": "#DD4040",
          "dash": "dash",
          "width": 2
         },
         "mode": "lines",
         "name": "Threshold",
         "showlegend": false,
         "type": "scatter",
         "x": [
          "2006-01-01T00:00:00",
          "2006-02-01T00:00:00",
          "2006-03-01T00:00:00",
          "2006-04-01T00:00:00",
          "2006-04-01T00:00:00",
          "2006-05-01T00:00:00",
          "2006-05-01T00:00:00",
          "2006-05-01T00:00:00",
          "2006-06-01T00:00:00",
          "2006-06-01T00:00:00",
          "2006-06-01T00:00:00"
         ],
         "y": [
          0.1645724178449185,
          0.1645724178449185,
          0.1645724178449185,
          0.1645724178449185,
          0.1645724178449185,
          0.1645724178449185,
          0.1645724178449185,
          0.1645724178449185,
          0.1645724178449185,
          0.1645724178449185,
          0.1645724178449185
         ]
        },
        {
         "hoverinfo": "skip",
         "legendgroup": "thresh",
         "line": {
          "color": "#DD4040",
          "dash": "dash",
          "width": 2
         },
         "mode": "lines",
         "name": "Threshold",
         "showlegend": false,
         "type": "scatter",
         "x": [
          "2006-07-01T00:00:00",
          "2006-07-01T00:00:00",
          "2006-07-01T00:00:00",
          "2006-07-01T00:00:00",
          "2006-07-01T00:00:00",
          "2006-08-01T00:00:00",
          "2006-09-01T00:00:00",
          "2006-10-01T00:00:00",
          "2006-10-01T00:00:00",
          "2006-12-01T00:00:00",
          "2006-12-01T00:00:00"
         ],
         "y": [
          1.401846812936716,
          1.401846812936716,
          1.401846812936716,
          1.401846812936716,
          1.401846812936716,
          1.401846812936716,
          1.401846812936716,
          1.401846812936716,
          1.401846812936716,
          1.401846812936716,
          1.401846812936716
         ]
        },
        {
         "hoverinfo": "skip",
         "legendgroup": "thresh",
         "line": {
          "color": "#DD4040",
          "dash": "dash",
          "width": 2
         },
         "mode": "lines",
         "name": "Threshold",
         "showlegend": false,
         "type": "scatter",
         "x": [
          "2006-07-01T00:00:00",
          "2006-07-01T00:00:00",
          "2006-07-01T00:00:00",
          "2006-07-01T00:00:00",
          "2006-07-01T00:00:00",
          "2006-08-01T00:00:00",
          "2006-09-01T00:00:00",
          "2006-10-01T00:00:00",
          "2006-10-01T00:00:00",
          "2006-12-01T00:00:00",
          "2006-12-01T00:00:00"
         ],
         "y": [
          0.1645724178449185,
          0.1645724178449185,
          0.1645724178449185,
          0.1645724178449185,
          0.1645724178449185,
          0.1645724178449185,
          0.1645724178449185,
          0.1645724178449185,
          0.1645724178449185,
          0.1645724178449185,
          0.1645724178449185
         ]
        },
        {
         "hoverinfo": "skip",
         "line": {
          "color": "rgba(0,0,0,0)",
          "shape": "hv"
         },
         "mode": "lines",
         "name": "Confidence band",
         "showlegend": false,
         "type": "scatter",
         "x": [
          "2006-01-01T00:00:00",
          "2006-02-01T00:00:00",
          "2006-03-01T00:00:00",
          "2006-04-01T00:00:00",
          "2006-04-01T00:00:00",
          "2006-05-01T00:00:00",
          "2006-05-01T00:00:00",
          "2006-05-01T00:00:00",
          "2006-06-01T00:00:00",
          "2006-06-01T00:00:00",
          "2006-06-01T00:00:00"
         ],
         "y": [
          1.113151254021771,
          1.2419114519568208,
          1.7663431787920842,
          1.1374615014015603,
          1.4347479134484695,
          1.3271984114545066,
          1.0849335568481187,
          1.136170471460101,
          1.482187933110321,
          1.0734383417998865,
          1.0734383417998865
         ]
        },
        {
         "fill": "tonexty",
         "fillcolor": "rgba(0.0, 0.7843137254901961, 0.8980392156862745, 0.2)",
         "hoverinfo": "skip",
         "line": {
          "color": "rgba(0,0,0,0)",
          "shape": "hv"
         },
         "mode": "lines",
         "name": "Confidence band",
         "showlegend": true,
         "type": "scatter",
         "x": [
          "2006-01-01T00:00:00",
          "2006-02-01T00:00:00",
          "2006-03-01T00:00:00",
          "2006-04-01T00:00:00",
          "2006-04-01T00:00:00",
          "2006-05-01T00:00:00",
          "2006-05-01T00:00:00",
          "2006-05-01T00:00:00",
          "2006-06-01T00:00:00",
          "2006-06-01T00:00:00",
          "2006-06-01T00:00:00"
         ],
         "y": [
          0.10244742094895776,
          0.23120761888400776,
          0.7556393457192713,
          0.12675766832874724,
          0.42404408037565633,
          0.3164945783816935,
          0.07422972377530557,
          0.1254666383872881,
          0.47148410003750785,
          0.23887711868426964,
          0.23887711868426964
         ]
        },
        {
         "hoverinfo": "skip",
         "line": {
          "color": "rgba(0,0,0,0)",
          "shape": "hv"
         },
         "mode": "lines",
         "name": "Confidence band",
         "showlegend": false,
         "type": "scatter",
         "x": [
          "2006-07-01T00:00:00",
          "2006-07-01T00:00:00",
          "2006-07-01T00:00:00",
          "2006-07-01T00:00:00",
          "2006-07-01T00:00:00",
          "2006-08-01T00:00:00",
          "2006-09-01T00:00:00",
          "2006-10-01T00:00:00",
          "2006-10-01T00:00:00",
          "2006-12-01T00:00:00",
          "2006-12-01T00:00:00"
         ],
         "y": [
          1.025120291260961,
          1.149553599762467,
          1.1638283465907078,
          1.266803826003965,
          1.2531434134425266,
          1.3476869914908058,
          1.6416636012276427,
          1.4428116061998946,
          1.2524573832515822,
          1.6864440651779096,
          1.6864440651779096
         ]
        },
        {
         "fill": "tonexty",
         "fillcolor": "rgba(0.0, 0.7843137254901961, 0.8980392156862745, 0.2)",
         "hoverinfo": "skip",
         "line": {
          "color": "rgba(0,0,0,0)",
          "shape": "hv"
         },
         "mode": "lines",
         "name": "Confidence band",
         "showlegend": false,
         "type": "scatter",
         "x": [
          "2006-07-01T00:00:00",
          "2006-07-01T00:00:00",
          "2006-07-01T00:00:00",
          "2006-07-01T00:00:00",
          "2006-07-01T00:00:00",
          "2006-08-01T00:00:00",
          "2006-09-01T00:00:00",
          "2006-10-01T00:00:00",
          "2006-10-01T00:00:00",
          "2006-12-01T00:00:00",
          "2006-12-01T00:00:00"
         ],
         "y": [
          0.014416458188147963,
          0.138849766689654,
          0.15312451351789458,
          0.2560999929311518,
          0.24243958036971336,
          0.33698315841799265,
          0.6309597681548295,
          0.4321077731270816,
          0.2417535501787691,
          0.8518828420622929,
          0.8518828420622929
         ]
        }
       ],
       "layout": {
        "annotations": [
         {
          "showarrow": false,
          "text": "Reference",
          "x": "2006-04-04T04:48:00",
          "xshift": 10,
          "y": 1.01,
          "yref": "y domain"
         },
         {
          "showarrow": false,
          "text": "Analysis",
          "x": "2006-08-13T00:00:00",
          "xshift": 15,
          "y": 1.01,
          "yref": "y domain"
         }
        ],
        "hoverlabel": {
         "bgcolor": "white",
         "font": {
          "size": 14
         }
        },
        "legend": {
         "itemclick": false,
         "itemdoubleclick": false,
         "traceorder": "grouped"
        },
        "paper_bgcolor": "rgba(255,255,255,1)",
        "plot_bgcolor": "rgba(255,255,255,1)",
        "shapes": [
         {
          "layer": "below",
          "line": {
           "color": "#666666",
           "width": 1
          },
          "type": "line",
          "x0": "2006-07-01T00:00:00",
          "x1": "2006-07-01T00:00:00",
          "xref": "x",
          "y0": 0,
          "y1": 1,
          "yref": "y domain"
         }
        ],
        "template": {
         "data": {
          "bar": [
           {
            "error_x": {
             "color": "#2a3f5f"
            },
            "error_y": {
             "color": "#2a3f5f"
            },
            "marker": {
             "line": {
              "color": "#E5ECF6",
              "width": 0.5
             },
             "pattern": {
              "fillmode": "overlay",
              "size": 10,
              "solidity": 0.2
             }
            },
            "type": "bar"
           }
          ],
          "barpolar": [
           {
            "marker": {
             "line": {
              "color": "#E5ECF6",
              "width": 0.5
             },
             "pattern": {
              "fillmode": "overlay",
              "size": 10,
              "solidity": 0.2
             }
            },
            "type": "barpolar"
           }
          ],
          "carpet": [
           {
            "aaxis": {
             "endlinecolor": "#2a3f5f",
             "gridcolor": "white",
             "linecolor": "white",
             "minorgridcolor": "white",
             "startlinecolor": "#2a3f5f"
            },
            "baxis": {
             "endlinecolor": "#2a3f5f",
             "gridcolor": "white",
             "linecolor": "white",
             "minorgridcolor": "white",
             "startlinecolor": "#2a3f5f"
            },
            "type": "carpet"
           }
          ],
          "choropleth": [
           {
            "colorbar": {
             "outlinewidth": 0,
             "ticks": ""
            },
            "type": "choropleth"
           }
          ],
          "contour": [
           {
            "colorbar": {
             "outlinewidth": 0,
             "ticks": ""
            },
            "colorscale": [
             [
              0,
              "#0d0887"
             ],
             [
              0.1111111111111111,
              "#46039f"
             ],
             [
              0.2222222222222222,
              "#7201a8"
             ],
             [
              0.3333333333333333,
              "#9c179e"
             ],
             [
              0.4444444444444444,
              "#bd3786"
             ],
             [
              0.5555555555555556,
              "#d8576b"
             ],
             [
              0.6666666666666666,
              "#ed7953"
             ],
             [
              0.7777777777777778,
              "#fb9f3a"
             ],
             [
              0.8888888888888888,
              "#fdca26"
             ],
             [
              1,
              "#f0f921"
             ]
            ],
            "type": "contour"
           }
          ],
          "contourcarpet": [
           {
            "colorbar": {
             "outlinewidth": 0,
             "ticks": ""
            },
            "type": "contourcarpet"
           }
          ],
          "heatmap": [
           {
            "colorbar": {
             "outlinewidth": 0,
             "ticks": ""
            },
            "colorscale": [
             [
              0,
              "#0d0887"
             ],
             [
              0.1111111111111111,
              "#46039f"
             ],
             [
              0.2222222222222222,
              "#7201a8"
             ],
             [
              0.3333333333333333,
              "#9c179e"
             ],
             [
              0.4444444444444444,
              "#bd3786"
             ],
             [
              0.5555555555555556,
              "#d8576b"
             ],
             [
              0.6666666666666666,
              "#ed7953"
             ],
             [
              0.7777777777777778,
              "#fb9f3a"
             ],
             [
              0.8888888888888888,
              "#fdca26"
             ],
             [
              1,
              "#f0f921"
             ]
            ],
            "type": "heatmap"
           }
          ],
          "heatmapgl": [
           {
            "colorbar": {
             "outlinewidth": 0,
             "ticks": ""
            },
            "colorscale": [
             [
              0,
              "#0d0887"
             ],
             [
              0.1111111111111111,
              "#46039f"
             ],
             [
              0.2222222222222222,
              "#7201a8"
             ],
             [
              0.3333333333333333,
              "#9c179e"
             ],
             [
              0.4444444444444444,
              "#bd3786"
             ],
             [
              0.5555555555555556,
              "#d8576b"
             ],
             [
              0.6666666666666666,
              "#ed7953"
             ],
             [
              0.7777777777777778,
              "#fb9f3a"
             ],
             [
              0.8888888888888888,
              "#fdca26"
             ],
             [
              1,
              "#f0f921"
             ]
            ],
            "type": "heatmapgl"
           }
          ],
          "histogram": [
           {
            "marker": {
             "pattern": {
              "fillmode": "overlay",
              "size": 10,
              "solidity": 0.2
             }
            },
            "type": "histogram"
           }
          ],
          "histogram2d": [
           {
            "colorbar": {
             "outlinewidth": 0,
             "ticks": ""
            },
            "colorscale": [
             [
              0,
              "#0d0887"
             ],
             [
              0.1111111111111111,
              "#46039f"
             ],
             [
              0.2222222222222222,
              "#7201a8"
             ],
             [
              0.3333333333333333,
              "#9c179e"
             ],
             [
              0.4444444444444444,
              "#bd3786"
             ],
             [
              0.5555555555555556,
              "#d8576b"
             ],
             [
              0.6666666666666666,
              "#ed7953"
             ],
             [
              0.7777777777777778,
              "#fb9f3a"
             ],
             [
              0.8888888888888888,
              "#fdca26"
             ],
             [
              1,
              "#f0f921"
             ]
            ],
            "type": "histogram2d"
           }
          ],
          "histogram2dcontour": [
           {
            "colorbar": {
             "outlinewidth": 0,
             "ticks": ""
            },
            "colorscale": [
             [
              0,
              "#0d0887"
             ],
             [
              0.1111111111111111,
              "#46039f"
             ],
             [
              0.2222222222222222,
              "#7201a8"
             ],
             [
              0.3333333333333333,
              "#9c179e"
             ],
             [
              0.4444444444444444,
              "#bd3786"
             ],
             [
              0.5555555555555556,
              "#d8576b"
             ],
             [
              0.6666666666666666,
              "#ed7953"
             ],
             [
              0.7777777777777778,
              "#fb9f3a"
             ],
             [
              0.8888888888888888,
              "#fdca26"
             ],
             [
              1,
              "#f0f921"
             ]
            ],
            "type": "histogram2dcontour"
           }
          ],
          "mesh3d": [
           {
            "colorbar": {
             "outlinewidth": 0,
             "ticks": ""
            },
            "type": "mesh3d"
           }
          ],
          "parcoords": [
           {
            "line": {
             "colorbar": {
              "outlinewidth": 0,
              "ticks": ""
             }
            },
            "type": "parcoords"
           }
          ],
          "pie": [
           {
            "automargin": true,
            "type": "pie"
           }
          ],
          "scatter": [
           {
            "fillpattern": {
             "fillmode": "overlay",
             "size": 10,
             "solidity": 0.2
            },
            "type": "scatter"
           }
          ],
          "scatter3d": [
           {
            "line": {
             "colorbar": {
              "outlinewidth": 0,
              "ticks": ""
             }
            },
            "marker": {
             "colorbar": {
              "outlinewidth": 0,
              "ticks": ""
             }
            },
            "type": "scatter3d"
           }
          ],
          "scattercarpet": [
           {
            "marker": {
             "colorbar": {
              "outlinewidth": 0,
              "ticks": ""
             }
            },
            "type": "scattercarpet"
           }
          ],
          "scattergeo": [
           {
            "marker": {
             "colorbar": {
              "outlinewidth": 0,
              "ticks": ""
             }
            },
            "type": "scattergeo"
           }
          ],
          "scattergl": [
           {
            "marker": {
             "colorbar": {
              "outlinewidth": 0,
              "ticks": ""
             }
            },
            "type": "scattergl"
           }
          ],
          "scattermapbox": [
           {
            "marker": {
             "colorbar": {
              "outlinewidth": 0,
              "ticks": ""
             }
            },
            "type": "scattermapbox"
           }
          ],
          "scatterpolar": [
           {
            "marker": {
             "colorbar": {
              "outlinewidth": 0,
              "ticks": ""
             }
            },
            "type": "scatterpolar"
           }
          ],
          "scatterpolargl": [
           {
            "marker": {
             "colorbar": {
              "outlinewidth": 0,
              "ticks": ""
             }
            },
            "type": "scatterpolargl"
           }
          ],
          "scatterternary": [
           {
            "marker": {
             "colorbar": {
              "outlinewidth": 0,
              "ticks": ""
             }
            },
            "type": "scatterternary"
           }
          ],
          "surface": [
           {
            "colorbar": {
             "outlinewidth": 0,
             "ticks": ""
            },
            "colorscale": [
             [
              0,
              "#0d0887"
             ],
             [
              0.1111111111111111,
              "#46039f"
             ],
             [
              0.2222222222222222,
              "#7201a8"
             ],
             [
              0.3333333333333333,
              "#9c179e"
             ],
             [
              0.4444444444444444,
              "#bd3786"
             ],
             [
              0.5555555555555556,
              "#d8576b"
             ],
             [
              0.6666666666666666,
              "#ed7953"
             ],
             [
              0.7777777777777778,
              "#fb9f3a"
             ],
             [
              0.8888888888888888,
              "#fdca26"
             ],
             [
              1,
              "#f0f921"
             ]
            ],
            "type": "surface"
           }
          ],
          "table": [
           {
            "cells": {
             "fill": {
              "color": "#EBF0F8"
             },
             "line": {
              "color": "white"
             }
            },
            "header": {
             "fill": {
              "color": "#C8D4E3"
             },
             "line": {
              "color": "white"
             }
            },
            "type": "table"
           }
          ]
         },
         "layout": {
          "annotationdefaults": {
           "arrowcolor": "#2a3f5f",
           "arrowhead": 0,
           "arrowwidth": 1
          },
          "autotypenumbers": "strict",
          "coloraxis": {
           "colorbar": {
            "outlinewidth": 0,
            "ticks": ""
           }
          },
          "colorscale": {
           "diverging": [
            [
             0,
             "#8e0152"
            ],
            [
             0.1,
             "#c51b7d"
            ],
            [
             0.2,
             "#de77ae"
            ],
            [
             0.3,
             "#f1b6da"
            ],
            [
             0.4,
             "#fde0ef"
            ],
            [
             0.5,
             "#f7f7f7"
            ],
            [
             0.6,
             "#e6f5d0"
            ],
            [
             0.7,
             "#b8e186"
            ],
            [
             0.8,
             "#7fbc41"
            ],
            [
             0.9,
             "#4d9221"
            ],
            [
             1,
             "#276419"
            ]
           ],
           "sequential": [
            [
             0,
             "#0d0887"
            ],
            [
             0.1111111111111111,
             "#46039f"
            ],
            [
             0.2222222222222222,
             "#7201a8"
            ],
            [
             0.3333333333333333,
             "#9c179e"
            ],
            [
             0.4444444444444444,
             "#bd3786"
            ],
            [
             0.5555555555555556,
             "#d8576b"
            ],
            [
             0.6666666666666666,
             "#ed7953"
            ],
            [
             0.7777777777777778,
             "#fb9f3a"
            ],
            [
             0.8888888888888888,
             "#fdca26"
            ],
            [
             1,
             "#f0f921"
            ]
           ],
           "sequentialminus": [
            [
             0,
             "#0d0887"
            ],
            [
             0.1111111111111111,
             "#46039f"
            ],
            [
             0.2222222222222222,
             "#7201a8"
            ],
            [
             0.3333333333333333,
             "#9c179e"
            ],
            [
             0.4444444444444444,
             "#bd3786"
            ],
            [
             0.5555555555555556,
             "#d8576b"
            ],
            [
             0.6666666666666666,
             "#ed7953"
            ],
            [
             0.7777777777777778,
             "#fb9f3a"
            ],
            [
             0.8888888888888888,
             "#fdca26"
            ],
            [
             1,
             "#f0f921"
            ]
           ]
          },
          "colorway": [
           "#636efa",
           "#EF553B",
           "#00cc96",
           "#ab63fa",
           "#FFA15A",
           "#19d3f3",
           "#FF6692",
           "#B6E880",
           "#FF97FF",
           "#FECB52"
          ],
          "font": {
           "color": "#2a3f5f"
          },
          "geo": {
           "bgcolor": "white",
           "lakecolor": "white",
           "landcolor": "#E5ECF6",
           "showlakes": true,
           "showland": true,
           "subunitcolor": "white"
          },
          "hoverlabel": {
           "align": "left"
          },
          "hovermode": "closest",
          "mapbox": {
           "style": "light"
          },
          "paper_bgcolor": "white",
          "plot_bgcolor": "#E5ECF6",
          "polar": {
           "angularaxis": {
            "gridcolor": "white",
            "linecolor": "white",
            "ticks": ""
           },
           "bgcolor": "#E5ECF6",
           "radialaxis": {
            "gridcolor": "white",
            "linecolor": "white",
            "ticks": ""
           }
          },
          "scene": {
           "xaxis": {
            "backgroundcolor": "#E5ECF6",
            "gridcolor": "white",
            "gridwidth": 2,
            "linecolor": "white",
            "showbackground": true,
            "ticks": "",
            "zerolinecolor": "white"
           },
           "yaxis": {
            "backgroundcolor": "#E5ECF6",
            "gridcolor": "white",
            "gridwidth": 2,
            "linecolor": "white",
            "showbackground": true,
            "ticks": "",
            "zerolinecolor": "white"
           },
           "zaxis": {
            "backgroundcolor": "#E5ECF6",
            "gridcolor": "white",
            "gridwidth": 2,
            "linecolor": "white",
            "showbackground": true,
            "ticks": "",
            "zerolinecolor": "white"
           }
          },
          "shapedefaults": {
           "line": {
            "color": "#2a3f5f"
           }
          },
          "ternary": {
           "aaxis": {
            "gridcolor": "white",
            "linecolor": "white",
            "ticks": ""
           },
           "baxis": {
            "gridcolor": "white",
            "linecolor": "white",
            "ticks": ""
           },
           "bgcolor": "#E5ECF6",
           "caxis": {
            "gridcolor": "white",
            "linecolor": "white",
            "ticks": ""
           }
          },
          "title": {
           "x": 0.05
          },
          "xaxis": {
           "automargin": true,
           "gridcolor": "white",
           "linecolor": "white",
           "ticks": "",
           "title": {
            "standoff": 15
           },
           "zerolinecolor": "white",
           "zerolinewidth": 2
          },
          "yaxis": {
           "automargin": true,
           "gridcolor": "white",
           "linecolor": "white",
           "ticks": "",
           "title": {
            "standoff": 15
           },
           "zerolinecolor": "white",
           "zerolinewidth": 2
          }
         }
        },
        "title": {
         "text": "Multivariate drift (PCA reconstruction error)"
        },
        "xaxis": {
         "linecolor": "#3b0280",
         "matches": "x",
         "mirror": true,
         "showgrid": false,
         "title": {
          "text": "Time"
         },
         "zeroline": false
        },
        "yaxis": {
         "linecolor": "#3b0280",
         "mirror": true,
         "showgrid": false,
         "title": {
          "text": "Data reconstruction drift"
         },
         "zeroline": false
        }
       }
      }
     },
     "metadata": {},
     "output_type": "display_data"
    }
   ],
   "source": [
    "figure = result_2006.plot()\n",
    "\n",
    "figure.show()"
   ]
  },
  {
   "cell_type": "code",
   "execution_count": 21,
   "metadata": {},
   "outputs": [
    {
     "data": {
      "text/html": [
       "<div>\n",
       "<style scoped>\n",
       "    .dataframe tbody tr th:only-of-type {\n",
       "        vertical-align: middle;\n",
       "    }\n",
       "\n",
       "    .dataframe tbody tr th {\n",
       "        vertical-align: top;\n",
       "    }\n",
       "\n",
       "    .dataframe thead tr th {\n",
       "        text-align: left;\n",
       "    }\n",
       "</style>\n",
       "<table border=\"1\" class=\"dataframe\">\n",
       "  <thead>\n",
       "    <tr>\n",
       "      <th></th>\n",
       "      <th colspan=\"7\" halign=\"left\">chunk</th>\n",
       "      <th colspan=\"7\" halign=\"left\">reconstruction_error</th>\n",
       "    </tr>\n",
       "    <tr>\n",
       "      <th></th>\n",
       "      <th>key</th>\n",
       "      <th>chunk_index</th>\n",
       "      <th>start_index</th>\n",
       "      <th>end_index</th>\n",
       "      <th>start_date</th>\n",
       "      <th>end_date</th>\n",
       "      <th>period</th>\n",
       "      <th>sampling_error</th>\n",
       "      <th>value</th>\n",
       "      <th>upper_confidence_boundary</th>\n",
       "      <th>lower_confidence_boundary</th>\n",
       "      <th>upper_threshold</th>\n",
       "      <th>lower_threshold</th>\n",
       "      <th>alert</th>\n",
       "    </tr>\n",
       "  </thead>\n",
       "  <tbody>\n",
       "    <tr>\n",
       "      <th>0</th>\n",
       "      <td>[0:10]</td>\n",
       "      <td>0</td>\n",
       "      <td>0</td>\n",
       "      <td>10</td>\n",
       "      <td>2008-04-01</td>\n",
       "      <td>2008-04-01</td>\n",
       "      <td>analysis</td>\n",
       "      <td>0.189154</td>\n",
       "      <td>0.634351</td>\n",
       "      <td>1.201812</td>\n",
       "      <td>0.066891</td>\n",
       "      <td>1.363152</td>\n",
       "      <td>0.095338</td>\n",
       "      <td>False</td>\n",
       "    </tr>\n",
       "    <tr>\n",
       "      <th>1</th>\n",
       "      <td>[11:21]</td>\n",
       "      <td>1</td>\n",
       "      <td>11</td>\n",
       "      <td>21</td>\n",
       "      <td>2008-04-01</td>\n",
       "      <td>2008-04-01</td>\n",
       "      <td>analysis</td>\n",
       "      <td>0.189154</td>\n",
       "      <td>0.574249</td>\n",
       "      <td>1.141709</td>\n",
       "      <td>0.006788</td>\n",
       "      <td>1.363152</td>\n",
       "      <td>0.095338</td>\n",
       "      <td>False</td>\n",
       "    </tr>\n",
       "    <tr>\n",
       "      <th>2</th>\n",
       "      <td>[22:32]</td>\n",
       "      <td>2</td>\n",
       "      <td>22</td>\n",
       "      <td>32</td>\n",
       "      <td>2008-04-01</td>\n",
       "      <td>2008-05-01</td>\n",
       "      <td>analysis</td>\n",
       "      <td>0.189154</td>\n",
       "      <td>0.557086</td>\n",
       "      <td>1.124547</td>\n",
       "      <td>-0.010374</td>\n",
       "      <td>1.363152</td>\n",
       "      <td>0.095338</td>\n",
       "      <td>False</td>\n",
       "    </tr>\n",
       "    <tr>\n",
       "      <th>3</th>\n",
       "      <td>[33:43]</td>\n",
       "      <td>3</td>\n",
       "      <td>33</td>\n",
       "      <td>43</td>\n",
       "      <td>2008-05-01</td>\n",
       "      <td>2008-05-01</td>\n",
       "      <td>analysis</td>\n",
       "      <td>0.189154</td>\n",
       "      <td>0.642779</td>\n",
       "      <td>1.210240</td>\n",
       "      <td>0.075318</td>\n",
       "      <td>1.363152</td>\n",
       "      <td>0.095338</td>\n",
       "      <td>False</td>\n",
       "    </tr>\n",
       "    <tr>\n",
       "      <th>4</th>\n",
       "      <td>[44:54]</td>\n",
       "      <td>4</td>\n",
       "      <td>44</td>\n",
       "      <td>54</td>\n",
       "      <td>2008-05-01</td>\n",
       "      <td>2008-05-01</td>\n",
       "      <td>analysis</td>\n",
       "      <td>0.189154</td>\n",
       "      <td>0.481625</td>\n",
       "      <td>1.049086</td>\n",
       "      <td>-0.085836</td>\n",
       "      <td>1.363152</td>\n",
       "      <td>0.095338</td>\n",
       "      <td>False</td>\n",
       "    </tr>\n",
       "    <tr>\n",
       "      <th>5</th>\n",
       "      <td>[55:65]</td>\n",
       "      <td>5</td>\n",
       "      <td>55</td>\n",
       "      <td>65</td>\n",
       "      <td>2008-05-01</td>\n",
       "      <td>2008-06-01</td>\n",
       "      <td>analysis</td>\n",
       "      <td>0.189154</td>\n",
       "      <td>0.810685</td>\n",
       "      <td>1.378146</td>\n",
       "      <td>0.243224</td>\n",
       "      <td>1.363152</td>\n",
       "      <td>0.095338</td>\n",
       "      <td>False</td>\n",
       "    </tr>\n",
       "    <tr>\n",
       "      <th>6</th>\n",
       "      <td>[66:76]</td>\n",
       "      <td>6</td>\n",
       "      <td>66</td>\n",
       "      <td>76</td>\n",
       "      <td>2008-06-01</td>\n",
       "      <td>2008-06-01</td>\n",
       "      <td>analysis</td>\n",
       "      <td>0.189154</td>\n",
       "      <td>0.704347</td>\n",
       "      <td>1.271808</td>\n",
       "      <td>0.136886</td>\n",
       "      <td>1.363152</td>\n",
       "      <td>0.095338</td>\n",
       "      <td>False</td>\n",
       "    </tr>\n",
       "    <tr>\n",
       "      <th>7</th>\n",
       "      <td>[77:87]</td>\n",
       "      <td>7</td>\n",
       "      <td>77</td>\n",
       "      <td>87</td>\n",
       "      <td>2008-06-01</td>\n",
       "      <td>2008-06-01</td>\n",
       "      <td>analysis</td>\n",
       "      <td>0.189154</td>\n",
       "      <td>0.515579</td>\n",
       "      <td>1.083039</td>\n",
       "      <td>-0.051882</td>\n",
       "      <td>1.363152</td>\n",
       "      <td>0.095338</td>\n",
       "      <td>False</td>\n",
       "    </tr>\n",
       "    <tr>\n",
       "      <th>8</th>\n",
       "      <td>[88:98]</td>\n",
       "      <td>8</td>\n",
       "      <td>88</td>\n",
       "      <td>98</td>\n",
       "      <td>2008-06-01</td>\n",
       "      <td>2008-06-01</td>\n",
       "      <td>analysis</td>\n",
       "      <td>0.189154</td>\n",
       "      <td>0.649356</td>\n",
       "      <td>1.216817</td>\n",
       "      <td>0.081895</td>\n",
       "      <td>1.363152</td>\n",
       "      <td>0.095338</td>\n",
       "      <td>False</td>\n",
       "    </tr>\n",
       "    <tr>\n",
       "      <th>9</th>\n",
       "      <td>[110:109]</td>\n",
       "      <td>9</td>\n",
       "      <td>99</td>\n",
       "      <td>114</td>\n",
       "      <td>2008-06-01</td>\n",
       "      <td>2008-06-01</td>\n",
       "      <td>analysis</td>\n",
       "      <td>0.156838</td>\n",
       "      <td>0.551033</td>\n",
       "      <td>1.021547</td>\n",
       "      <td>0.080520</td>\n",
       "      <td>1.363152</td>\n",
       "      <td>0.095338</td>\n",
       "      <td>False</td>\n",
       "    </tr>\n",
       "  </tbody>\n",
       "</table>\n",
       "</div>"
      ],
      "text/plain": [
       "       chunk                                                          \\\n",
       "         key chunk_index start_index end_index start_date   end_date   \n",
       "0     [0:10]           0           0        10 2008-04-01 2008-04-01   \n",
       "1    [11:21]           1          11        21 2008-04-01 2008-04-01   \n",
       "2    [22:32]           2          22        32 2008-04-01 2008-05-01   \n",
       "3    [33:43]           3          33        43 2008-05-01 2008-05-01   \n",
       "4    [44:54]           4          44        54 2008-05-01 2008-05-01   \n",
       "5    [55:65]           5          55        65 2008-05-01 2008-06-01   \n",
       "6    [66:76]           6          66        76 2008-06-01 2008-06-01   \n",
       "7    [77:87]           7          77        87 2008-06-01 2008-06-01   \n",
       "8    [88:98]           8          88        98 2008-06-01 2008-06-01   \n",
       "9  [110:109]           9          99       114 2008-06-01 2008-06-01   \n",
       "\n",
       "            reconstruction_error                                      \\\n",
       "     period       sampling_error     value upper_confidence_boundary   \n",
       "0  analysis             0.189154  0.634351                  1.201812   \n",
       "1  analysis             0.189154  0.574249                  1.141709   \n",
       "2  analysis             0.189154  0.557086                  1.124547   \n",
       "3  analysis             0.189154  0.642779                  1.210240   \n",
       "4  analysis             0.189154  0.481625                  1.049086   \n",
       "5  analysis             0.189154  0.810685                  1.378146   \n",
       "6  analysis             0.189154  0.704347                  1.271808   \n",
       "7  analysis             0.189154  0.515579                  1.083039   \n",
       "8  analysis             0.189154  0.649356                  1.216817   \n",
       "9  analysis             0.156838  0.551033                  1.021547   \n",
       "\n",
       "                                                                    \n",
       "  lower_confidence_boundary upper_threshold lower_threshold  alert  \n",
       "0                  0.066891        1.363152        0.095338  False  \n",
       "1                  0.006788        1.363152        0.095338  False  \n",
       "2                 -0.010374        1.363152        0.095338  False  \n",
       "3                  0.075318        1.363152        0.095338  False  \n",
       "4                 -0.085836        1.363152        0.095338  False  \n",
       "5                  0.243224        1.363152        0.095338  False  \n",
       "6                  0.136886        1.363152        0.095338  False  \n",
       "7                 -0.051882        1.363152        0.095338  False  \n",
       "8                  0.081895        1.363152        0.095338  False  \n",
       "9                  0.080520        1.363152        0.095338  False  "
      ]
     },
     "metadata": {},
     "output_type": "display_data"
    }
   ],
   "source": [
    "display(result_2008.filter(period='analysis').to_df())"
   ]
  },
  {
   "cell_type": "code",
   "execution_count": 22,
   "metadata": {},
   "outputs": [
    {
     "data": {
      "text/html": [
       "<div>\n",
       "<style scoped>\n",
       "    .dataframe tbody tr th:only-of-type {\n",
       "        vertical-align: middle;\n",
       "    }\n",
       "\n",
       "    .dataframe tbody tr th {\n",
       "        vertical-align: top;\n",
       "    }\n",
       "\n",
       "    .dataframe thead tr th {\n",
       "        text-align: left;\n",
       "    }\n",
       "</style>\n",
       "<table border=\"1\" class=\"dataframe\">\n",
       "  <thead>\n",
       "    <tr>\n",
       "      <th></th>\n",
       "      <th colspan=\"7\" halign=\"left\">chunk</th>\n",
       "      <th colspan=\"7\" halign=\"left\">reconstruction_error</th>\n",
       "    </tr>\n",
       "    <tr>\n",
       "      <th></th>\n",
       "      <th>key</th>\n",
       "      <th>chunk_index</th>\n",
       "      <th>start_index</th>\n",
       "      <th>end_index</th>\n",
       "      <th>start_date</th>\n",
       "      <th>end_date</th>\n",
       "      <th>period</th>\n",
       "      <th>sampling_error</th>\n",
       "      <th>value</th>\n",
       "      <th>upper_confidence_boundary</th>\n",
       "      <th>lower_confidence_boundary</th>\n",
       "      <th>upper_threshold</th>\n",
       "      <th>lower_threshold</th>\n",
       "      <th>alert</th>\n",
       "    </tr>\n",
       "  </thead>\n",
       "  <tbody>\n",
       "    <tr>\n",
       "      <th>0</th>\n",
       "      <td>[0:3]</td>\n",
       "      <td>0</td>\n",
       "      <td>0</td>\n",
       "      <td>3</td>\n",
       "      <td>2008-01-01</td>\n",
       "      <td>2008-01-01</td>\n",
       "      <td>reference</td>\n",
       "      <td>0.313676</td>\n",
       "      <td>0.874616</td>\n",
       "      <td>1.815644</td>\n",
       "      <td>-0.066411</td>\n",
       "      <td>1.363152</td>\n",
       "      <td>0.095338</td>\n",
       "      <td>False</td>\n",
       "    </tr>\n",
       "    <tr>\n",
       "      <th>1</th>\n",
       "      <td>[4:7]</td>\n",
       "      <td>1</td>\n",
       "      <td>4</td>\n",
       "      <td>7</td>\n",
       "      <td>2008-01-01</td>\n",
       "      <td>2008-01-01</td>\n",
       "      <td>reference</td>\n",
       "      <td>0.313676</td>\n",
       "      <td>1.050603</td>\n",
       "      <td>1.991631</td>\n",
       "      <td>0.109576</td>\n",
       "      <td>1.363152</td>\n",
       "      <td>0.095338</td>\n",
       "      <td>False</td>\n",
       "    </tr>\n",
       "    <tr>\n",
       "      <th>2</th>\n",
       "      <td>[8:11]</td>\n",
       "      <td>2</td>\n",
       "      <td>8</td>\n",
       "      <td>11</td>\n",
       "      <td>2008-01-01</td>\n",
       "      <td>2008-01-01</td>\n",
       "      <td>reference</td>\n",
       "      <td>0.313676</td>\n",
       "      <td>0.489670</td>\n",
       "      <td>1.430697</td>\n",
       "      <td>-0.451358</td>\n",
       "      <td>1.363152</td>\n",
       "      <td>0.095338</td>\n",
       "      <td>False</td>\n",
       "    </tr>\n",
       "    <tr>\n",
       "      <th>3</th>\n",
       "      <td>[12:15]</td>\n",
       "      <td>3</td>\n",
       "      <td>12</td>\n",
       "      <td>15</td>\n",
       "      <td>2008-01-01</td>\n",
       "      <td>2008-02-01</td>\n",
       "      <td>reference</td>\n",
       "      <td>0.313676</td>\n",
       "      <td>0.572675</td>\n",
       "      <td>1.513702</td>\n",
       "      <td>-0.368353</td>\n",
       "      <td>1.363152</td>\n",
       "      <td>0.095338</td>\n",
       "      <td>False</td>\n",
       "    </tr>\n",
       "    <tr>\n",
       "      <th>4</th>\n",
       "      <td>[16:19]</td>\n",
       "      <td>4</td>\n",
       "      <td>16</td>\n",
       "      <td>19</td>\n",
       "      <td>2008-02-01</td>\n",
       "      <td>2008-02-01</td>\n",
       "      <td>reference</td>\n",
       "      <td>0.313676</td>\n",
       "      <td>0.899352</td>\n",
       "      <td>1.840379</td>\n",
       "      <td>-0.041675</td>\n",
       "      <td>1.363152</td>\n",
       "      <td>0.095338</td>\n",
       "      <td>False</td>\n",
       "    </tr>\n",
       "    <tr>\n",
       "      <th>5</th>\n",
       "      <td>[20:23]</td>\n",
       "      <td>5</td>\n",
       "      <td>20</td>\n",
       "      <td>23</td>\n",
       "      <td>2008-02-01</td>\n",
       "      <td>2008-03-01</td>\n",
       "      <td>reference</td>\n",
       "      <td>0.313676</td>\n",
       "      <td>0.513362</td>\n",
       "      <td>1.454389</td>\n",
       "      <td>-0.427666</td>\n",
       "      <td>1.363152</td>\n",
       "      <td>0.095338</td>\n",
       "      <td>False</td>\n",
       "    </tr>\n",
       "    <tr>\n",
       "      <th>6</th>\n",
       "      <td>[24:27]</td>\n",
       "      <td>6</td>\n",
       "      <td>24</td>\n",
       "      <td>27</td>\n",
       "      <td>2008-03-01</td>\n",
       "      <td>2008-03-01</td>\n",
       "      <td>reference</td>\n",
       "      <td>0.313676</td>\n",
       "      <td>0.827792</td>\n",
       "      <td>1.768819</td>\n",
       "      <td>-0.113236</td>\n",
       "      <td>1.363152</td>\n",
       "      <td>0.095338</td>\n",
       "      <td>False</td>\n",
       "    </tr>\n",
       "    <tr>\n",
       "      <th>7</th>\n",
       "      <td>[28:31]</td>\n",
       "      <td>7</td>\n",
       "      <td>28</td>\n",
       "      <td>31</td>\n",
       "      <td>2008-03-01</td>\n",
       "      <td>2008-03-01</td>\n",
       "      <td>reference</td>\n",
       "      <td>0.313676</td>\n",
       "      <td>0.831431</td>\n",
       "      <td>1.772458</td>\n",
       "      <td>-0.109597</td>\n",
       "      <td>1.363152</td>\n",
       "      <td>0.095338</td>\n",
       "      <td>False</td>\n",
       "    </tr>\n",
       "    <tr>\n",
       "      <th>8</th>\n",
       "      <td>[32:35]</td>\n",
       "      <td>8</td>\n",
       "      <td>32</td>\n",
       "      <td>35</td>\n",
       "      <td>2008-03-01</td>\n",
       "      <td>2008-03-01</td>\n",
       "      <td>reference</td>\n",
       "      <td>0.313676</td>\n",
       "      <td>0.860443</td>\n",
       "      <td>1.801470</td>\n",
       "      <td>-0.080585</td>\n",
       "      <td>1.363152</td>\n",
       "      <td>0.095338</td>\n",
       "      <td>False</td>\n",
       "    </tr>\n",
       "    <tr>\n",
       "      <th>9</th>\n",
       "      <td>[40:39]</td>\n",
       "      <td>9</td>\n",
       "      <td>36</td>\n",
       "      <td>40</td>\n",
       "      <td>2008-03-01</td>\n",
       "      <td>2008-03-01</td>\n",
       "      <td>reference</td>\n",
       "      <td>0.280560</td>\n",
       "      <td>0.372504</td>\n",
       "      <td>1.214185</td>\n",
       "      <td>-0.469176</td>\n",
       "      <td>1.363152</td>\n",
       "      <td>0.095338</td>\n",
       "      <td>False</td>\n",
       "    </tr>\n",
       "  </tbody>\n",
       "</table>\n",
       "</div>"
      ],
      "text/plain": [
       "     chunk                                                                     \\\n",
       "       key chunk_index start_index end_index start_date   end_date     period   \n",
       "0    [0:3]           0           0         3 2008-01-01 2008-01-01  reference   \n",
       "1    [4:7]           1           4         7 2008-01-01 2008-01-01  reference   \n",
       "2   [8:11]           2           8        11 2008-01-01 2008-01-01  reference   \n",
       "3  [12:15]           3          12        15 2008-01-01 2008-02-01  reference   \n",
       "4  [16:19]           4          16        19 2008-02-01 2008-02-01  reference   \n",
       "5  [20:23]           5          20        23 2008-02-01 2008-03-01  reference   \n",
       "6  [24:27]           6          24        27 2008-03-01 2008-03-01  reference   \n",
       "7  [28:31]           7          28        31 2008-03-01 2008-03-01  reference   \n",
       "8  [32:35]           8          32        35 2008-03-01 2008-03-01  reference   \n",
       "9  [40:39]           9          36        40 2008-03-01 2008-03-01  reference   \n",
       "\n",
       "  reconstruction_error                                      \\\n",
       "        sampling_error     value upper_confidence_boundary   \n",
       "0             0.313676  0.874616                  1.815644   \n",
       "1             0.313676  1.050603                  1.991631   \n",
       "2             0.313676  0.489670                  1.430697   \n",
       "3             0.313676  0.572675                  1.513702   \n",
       "4             0.313676  0.899352                  1.840379   \n",
       "5             0.313676  0.513362                  1.454389   \n",
       "6             0.313676  0.827792                  1.768819   \n",
       "7             0.313676  0.831431                  1.772458   \n",
       "8             0.313676  0.860443                  1.801470   \n",
       "9             0.280560  0.372504                  1.214185   \n",
       "\n",
       "                                                                    \n",
       "  lower_confidence_boundary upper_threshold lower_threshold  alert  \n",
       "0                 -0.066411        1.363152        0.095338  False  \n",
       "1                  0.109576        1.363152        0.095338  False  \n",
       "2                 -0.451358        1.363152        0.095338  False  \n",
       "3                 -0.368353        1.363152        0.095338  False  \n",
       "4                 -0.041675        1.363152        0.095338  False  \n",
       "5                 -0.427666        1.363152        0.095338  False  \n",
       "6                 -0.113236        1.363152        0.095338  False  \n",
       "7                 -0.109597        1.363152        0.095338  False  \n",
       "8                 -0.080585        1.363152        0.095338  False  \n",
       "9                 -0.469176        1.363152        0.095338  False  "
      ]
     },
     "metadata": {},
     "output_type": "display_data"
    }
   ],
   "source": [
    "display(result_2008.filter(period='reference').to_df())"
   ]
  },
  {
   "cell_type": "code",
   "execution_count": 23,
   "metadata": {},
   "outputs": [
    {
     "data": {
      "application/vnd.plotly.v1+json": {
       "config": {
        "plotlyServerURL": "https://plot.ly"
       },
       "data": [
        {
         "hoverinfo": "skip",
         "legendgroup": "metric_reference",
         "line": {
          "color": "#00c8e5",
          "shape": "hv",
          "width": 2
         },
         "mode": "lines",
         "name": "Metric",
         "showlegend": true,
         "type": "scatter",
         "x": [
          "2008-01-01T00:00:00",
          "2008-01-01T00:00:00",
          "2008-01-01T00:00:00",
          "2008-01-01T00:00:00",
          "2008-02-01T00:00:00",
          "2008-02-01T00:00:00",
          "2008-03-01T00:00:00",
          "2008-03-01T00:00:00",
          "2008-03-01T00:00:00",
          "2008-03-01T00:00:00",
          "2008-03-01T00:00:00"
         ],
         "y": [
          0.8746164037468949,
          1.0506034057261937,
          0.489669513204089,
          0.57267473742283,
          0.8993519522962103,
          0.5133617068137823,
          0.8277915900298118,
          0.831430685019162,
          0.8604426124315279,
          0.3725042001564872,
          0.3725042001564872
         ]
        },
        {
         "customdata": [
          [
           "Data reconstruction drift",
           "<b style=\"color:#00c8e5;line-height:60px\">Reference</b>",
           "",
           "[0:3]",
           "From <b>Jan-01-2008</b> to <b>Jan-01-2008</b>",
           0.8746,
           0.941
          ],
          [
           "Data reconstruction drift",
           "<b style=\"color:#00c8e5;line-height:60px\">Reference</b>",
           "",
           "[4:7]",
           "From <b>Jan-01-2008</b> to <b>Jan-01-2008</b>",
           1.0506,
           0.941
          ],
          [
           "Data reconstruction drift",
           "<b style=\"color:#00c8e5;line-height:60px\">Reference</b>",
           "",
           "[8:11]",
           "From <b>Jan-01-2008</b> to <b>Jan-01-2008</b>",
           0.4897,
           0.941
          ],
          [
           "Data reconstruction drift",
           "<b style=\"color:#00c8e5;line-height:60px\">Reference</b>",
           "",
           "[12:15]",
           "From <b>Jan-01-2008</b> to <b>Feb-01-2008</b>",
           0.5727,
           0.941
          ],
          [
           "Data reconstruction drift",
           "<b style=\"color:#00c8e5;line-height:60px\">Reference</b>",
           "",
           "[16:19]",
           "From <b>Feb-01-2008</b> to <b>Feb-01-2008</b>",
           0.8994,
           0.941
          ],
          [
           "Data reconstruction drift",
           "<b style=\"color:#00c8e5;line-height:60px\">Reference</b>",
           "",
           "[20:23]",
           "From <b>Feb-01-2008</b> to <b>Mar-01-2008</b>",
           0.5134,
           0.941
          ],
          [
           "Data reconstruction drift",
           "<b style=\"color:#00c8e5;line-height:60px\">Reference</b>",
           "",
           "[24:27]",
           "From <b>Mar-01-2008</b> to <b>Mar-01-2008</b>",
           0.8278,
           0.941
          ],
          [
           "Data reconstruction drift",
           "<b style=\"color:#00c8e5;line-height:60px\">Reference</b>",
           "",
           "[28:31]",
           "From <b>Mar-01-2008</b> to <b>Mar-01-2008</b>",
           0.8314,
           0.941
          ],
          [
           "Data reconstruction drift",
           "<b style=\"color:#00c8e5;line-height:60px\">Reference</b>",
           "",
           "[32:35]",
           "From <b>Mar-01-2008</b> to <b>Mar-01-2008</b>",
           0.8604,
           0.941
          ],
          [
           "Data reconstruction drift",
           "<b style=\"color:#00c8e5;line-height:60px\">Reference</b>",
           "",
           "[40:39]",
           "From <b>Mar-01-2008</b> to <b>Mar-01-2008</b>",
           0.3725,
           0.8417
          ]
         ],
         "hovertemplate": "%{customdata[1]} &nbsp; &nbsp; %{customdata[2]} <br />Chunk: <b>%{customdata[3]}</b> &nbsp; &nbsp; %{customdata[4]} <br />%{customdata[0]}: <b>%{customdata[5]}</b><br />Confidence band: +/- <b>%{customdata[6]}</b><br /><extra></extra>",
         "legendgroup": "metric_reference",
         "marker": {
          "color": "#00c8e5",
          "size": 5,
          "symbol": "circle"
         },
         "mode": "markers",
         "name": "Metric",
         "showlegend": false,
         "type": "scatter",
         "x": [
          "2008-01-01T00:00:00",
          "2008-01-01T00:00:00",
          "2008-01-01T00:00:00",
          "2008-01-16T12:00:00",
          "2008-02-01T00:00:00",
          "2008-02-15T12:00:00",
          "2008-03-01T00:00:00",
          "2008-03-01T00:00:00",
          "2008-03-01T00:00:00",
          "2008-03-01T00:00:00"
         ],
         "y": [
          0.8746164037468949,
          1.0506034057261937,
          0.489669513204089,
          0.57267473742283,
          0.8993519522962103,
          0.5133617068137823,
          0.8277915900298118,
          0.831430685019162,
          0.8604426124315279,
          0.3725042001564872,
          0.3725042001564872
         ]
        },
        {
         "hoverinfo": "skip",
         "legendgroup": "metric_analysis",
         "line": {
          "color": "#00c8e5",
          "shape": "hv",
          "width": 2
         },
         "mode": "lines",
         "name": "Metric",
         "showlegend": false,
         "type": "scatter",
         "x": [
          "2008-04-01T00:00:00",
          "2008-04-01T00:00:00",
          "2008-04-01T00:00:00",
          "2008-05-01T00:00:00",
          "2008-05-01T00:00:00",
          "2008-05-01T00:00:00",
          "2008-06-01T00:00:00",
          "2008-06-01T00:00:00",
          "2008-06-01T00:00:00",
          "2008-06-01T00:00:00",
          "2008-06-01T00:00:00"
         ],
         "y": [
          0.6343514089714739,
          0.5742485783014647,
          0.5570863591801882,
          0.6427789652883832,
          0.481625027456127,
          0.8106852511671516,
          0.7043473279744972,
          0.5155785691408816,
          0.649356203189304,
          0.5510333685918664,
          0.5510333685918664
         ]
        },
        {
         "customdata": [
          [
           "Data reconstruction drift",
           "<b style=\"color:#3b0280;line-height:60px\">Analysis</b>",
           "",
           "[0:10]",
           "From <b>Apr-01-2008</b> to <b>Apr-01-2008</b>",
           0.6344,
           0.5675
          ],
          [
           "Data reconstruction drift",
           "<b style=\"color:#3b0280;line-height:60px\">Analysis</b>",
           "",
           "[11:21]",
           "From <b>Apr-01-2008</b> to <b>Apr-01-2008</b>",
           0.5742,
           0.5675
          ],
          [
           "Data reconstruction drift",
           "<b style=\"color:#3b0280;line-height:60px\">Analysis</b>",
           "",
           "[22:32]",
           "From <b>Apr-01-2008</b> to <b>May-01-2008</b>",
           0.5571,
           0.5675
          ],
          [
           "Data reconstruction drift",
           "<b style=\"color:#3b0280;line-height:60px\">Analysis</b>",
           "",
           "[33:43]",
           "From <b>May-01-2008</b> to <b>May-01-2008</b>",
           0.6428,
           0.5675
          ],
          [
           "Data reconstruction drift",
           "<b style=\"color:#3b0280;line-height:60px\">Analysis</b>",
           "",
           "[44:54]",
           "From <b>May-01-2008</b> to <b>May-01-2008</b>",
           0.4816,
           0.5675
          ],
          [
           "Data reconstruction drift",
           "<b style=\"color:#3b0280;line-height:60px\">Analysis</b>",
           "",
           "[55:65]",
           "From <b>May-01-2008</b> to <b>Jun-01-2008</b>",
           0.8107,
           0.5675
          ],
          [
           "Data reconstruction drift",
           "<b style=\"color:#3b0280;line-height:60px\">Analysis</b>",
           "",
           "[66:76]",
           "From <b>Jun-01-2008</b> to <b>Jun-01-2008</b>",
           0.7043,
           0.5675
          ],
          [
           "Data reconstruction drift",
           "<b style=\"color:#3b0280;line-height:60px\">Analysis</b>",
           "",
           "[77:87]",
           "From <b>Jun-01-2008</b> to <b>Jun-01-2008</b>",
           0.5156,
           0.5675
          ],
          [
           "Data reconstruction drift",
           "<b style=\"color:#3b0280;line-height:60px\">Analysis</b>",
           "",
           "[88:98]",
           "From <b>Jun-01-2008</b> to <b>Jun-01-2008</b>",
           0.6494,
           0.5675
          ],
          [
           "Data reconstruction drift",
           "<b style=\"color:#3b0280;line-height:60px\">Analysis</b>",
           "",
           "[110:109]",
           "From <b>Jun-01-2008</b> to <b>Jun-01-2008</b>",
           0.551,
           0.4705
          ]
         ],
         "hovertemplate": "%{customdata[1]} &nbsp; &nbsp; %{customdata[2]} <br />Chunk: <b>%{customdata[3]}</b> &nbsp; &nbsp; %{customdata[4]} <br />%{customdata[0]}: <b>%{customdata[5]}</b><br />Confidence band: +/- <b>%{customdata[6]}</b><br /><extra></extra>",
         "legendgroup": "metric_analysis",
         "marker": {
          "color": "#00c8e5",
          "size": 5,
          "symbol": "circle"
         },
         "mode": "markers",
         "name": "Metric",
         "showlegend": false,
         "type": "scatter",
         "x": [
          "2008-04-01T00:00:00",
          "2008-04-01T00:00:00",
          "2008-04-16T00:00:00",
          "2008-05-01T00:00:00",
          "2008-05-01T00:00:00",
          "2008-05-16T12:00:00",
          "2008-06-01T00:00:00",
          "2008-06-01T00:00:00",
          "2008-06-01T00:00:00",
          "2008-06-01T00:00:00"
         ],
         "y": [
          0.6343514089714739,
          0.5742485783014647,
          0.5570863591801882,
          0.6427789652883832,
          0.481625027456127,
          0.8106852511671516,
          0.7043473279744972,
          0.5155785691408816,
          0.649356203189304,
          0.5510333685918664,
          0.5510333685918664
         ]
        },
        {
         "hoverinfo": "skip",
         "legendgroup": "alert",
         "marker": {
          "color": "#DD4040",
          "size": 8,
          "symbol": "diamond"
         },
         "mode": "markers",
         "name": "Alert",
         "showlegend": true,
         "type": "scatter",
         "x": [],
         "y": []
        },
        {
         "hoverinfo": "skip",
         "legendgroup": "thresh",
         "line": {
          "color": "#DD4040",
          "dash": "dash",
          "width": 2
         },
         "mode": "lines",
         "name": "Threshold",
         "showlegend": false,
         "type": "scatter",
         "x": [
          "2008-01-01T00:00:00",
          "2008-01-01T00:00:00",
          "2008-01-01T00:00:00",
          "2008-01-01T00:00:00",
          "2008-02-01T00:00:00",
          "2008-02-01T00:00:00",
          "2008-03-01T00:00:00",
          "2008-03-01T00:00:00",
          "2008-03-01T00:00:00",
          "2008-03-01T00:00:00",
          "2008-03-01T00:00:00"
         ],
         "y": [
          1.3631517503523365,
          1.3631517503523365,
          1.3631517503523365,
          1.3631517503523365,
          1.3631517503523365,
          1.3631517503523365,
          1.3631517503523365,
          1.3631517503523365,
          1.3631517503523365,
          1.3631517503523365,
          1.3631517503523365
         ]
        },
        {
         "hoverinfo": "skip",
         "legendgroup": "thresh",
         "line": {
          "color": "#DD4040",
          "dash": "dash",
          "width": 2
         },
         "mode": "lines",
         "name": "Threshold",
         "showlegend": false,
         "type": "scatter",
         "x": [
          "2008-01-01T00:00:00",
          "2008-01-01T00:00:00",
          "2008-01-01T00:00:00",
          "2008-01-01T00:00:00",
          "2008-02-01T00:00:00",
          "2008-02-01T00:00:00",
          "2008-03-01T00:00:00",
          "2008-03-01T00:00:00",
          "2008-03-01T00:00:00",
          "2008-03-01T00:00:00",
          "2008-03-01T00:00:00"
         ],
         "y": [
          0.09533761101706129,
          0.09533761101706129,
          0.09533761101706129,
          0.09533761101706129,
          0.09533761101706129,
          0.09533761101706129,
          0.09533761101706129,
          0.09533761101706129,
          0.09533761101706129,
          0.09533761101706129,
          0.09533761101706129
         ]
        },
        {
         "hoverinfo": "skip",
         "legendgroup": "thresh",
         "line": {
          "color": "#DD4040",
          "dash": "dash",
          "width": 2
         },
         "mode": "lines",
         "name": "Threshold",
         "showlegend": false,
         "type": "scatter",
         "x": [
          "2008-04-01T00:00:00",
          "2008-04-01T00:00:00",
          "2008-04-01T00:00:00",
          "2008-05-01T00:00:00",
          "2008-05-01T00:00:00",
          "2008-05-01T00:00:00",
          "2008-06-01T00:00:00",
          "2008-06-01T00:00:00",
          "2008-06-01T00:00:00",
          "2008-06-01T00:00:00",
          "2008-06-01T00:00:00"
         ],
         "y": [
          1.3631517503523365,
          1.3631517503523365,
          1.3631517503523365,
          1.3631517503523365,
          1.3631517503523365,
          1.3631517503523365,
          1.3631517503523365,
          1.3631517503523365,
          1.3631517503523365,
          1.3631517503523365,
          1.3631517503523365
         ]
        },
        {
         "hoverinfo": "skip",
         "legendgroup": "thresh",
         "line": {
          "color": "#DD4040",
          "dash": "dash",
          "width": 2
         },
         "mode": "lines",
         "name": "Threshold",
         "showlegend": false,
         "type": "scatter",
         "x": [
          "2008-04-01T00:00:00",
          "2008-04-01T00:00:00",
          "2008-04-01T00:00:00",
          "2008-05-01T00:00:00",
          "2008-05-01T00:00:00",
          "2008-05-01T00:00:00",
          "2008-06-01T00:00:00",
          "2008-06-01T00:00:00",
          "2008-06-01T00:00:00",
          "2008-06-01T00:00:00",
          "2008-06-01T00:00:00"
         ],
         "y": [
          0.09533761101706129,
          0.09533761101706129,
          0.09533761101706129,
          0.09533761101706129,
          0.09533761101706129,
          0.09533761101706129,
          0.09533761101706129,
          0.09533761101706129,
          0.09533761101706129,
          0.09533761101706129,
          0.09533761101706129
         ]
        },
        {
         "hoverinfo": "skip",
         "line": {
          "color": "rgba(0,0,0,0)",
          "shape": "hv"
         },
         "mode": "lines",
         "name": "Confidence band",
         "showlegend": false,
         "type": "scatter",
         "x": [
          "2008-01-01T00:00:00",
          "2008-01-01T00:00:00",
          "2008-01-01T00:00:00",
          "2008-01-01T00:00:00",
          "2008-02-01T00:00:00",
          "2008-02-01T00:00:00",
          "2008-03-01T00:00:00",
          "2008-03-01T00:00:00",
          "2008-03-01T00:00:00",
          "2008-03-01T00:00:00",
          "2008-03-01T00:00:00"
         ],
         "y": [
          1.8156437364247109,
          1.9916307384040097,
          1.4306968458819052,
          1.513702070100646,
          1.8403792849740264,
          1.4543890394915984,
          1.7688189227076279,
          1.772458017696978,
          1.8014699451093439,
          1.2141846339776494,
          1.2141846339776494
         ]
        },
        {
         "fill": "tonexty",
         "fillcolor": "rgba(0.0, 0.7843137254901961, 0.8980392156862745, 0.2)",
         "hoverinfo": "skip",
         "line": {
          "color": "rgba(0,0,0,0)",
          "shape": "hv"
         },
         "mode": "lines",
         "name": "Confidence band",
         "showlegend": true,
         "type": "scatter",
         "x": [
          "2008-01-01T00:00:00",
          "2008-01-01T00:00:00",
          "2008-01-01T00:00:00",
          "2008-01-01T00:00:00",
          "2008-02-01T00:00:00",
          "2008-02-01T00:00:00",
          "2008-03-01T00:00:00",
          "2008-03-01T00:00:00",
          "2008-03-01T00:00:00",
          "2008-03-01T00:00:00",
          "2008-03-01T00:00:00"
         ],
         "y": [
          -0.06641092893092115,
          0.10957607304837769,
          -0.451357819473727,
          -0.368352595254986,
          -0.041675380381605676,
          -0.42766562586403367,
          -0.11323574264800418,
          -0.10959664765865407,
          -0.08058472024628816,
          -0.4691762336646751,
          -0.4691762336646751
         ]
        },
        {
         "hoverinfo": "skip",
         "line": {
          "color": "rgba(0,0,0,0)",
          "shape": "hv"
         },
         "mode": "lines",
         "name": "Confidence band",
         "showlegend": false,
         "type": "scatter",
         "x": [
          "2008-04-01T00:00:00",
          "2008-04-01T00:00:00",
          "2008-04-01T00:00:00",
          "2008-05-01T00:00:00",
          "2008-05-01T00:00:00",
          "2008-05-01T00:00:00",
          "2008-06-01T00:00:00",
          "2008-06-01T00:00:00",
          "2008-06-01T00:00:00",
          "2008-06-01T00:00:00",
          "2008-06-01T00:00:00"
         ],
         "y": [
          1.2018122416917034,
          1.141709411021694,
          1.1245471919004177,
          1.2102397980086126,
          1.0490858601763566,
          1.3781460838873811,
          1.2718081606947267,
          1.0830394018611111,
          1.2168170359095334,
          1.0215470349307743,
          1.0215470349307743
         ]
        },
        {
         "fill": "tonexty",
         "fillcolor": "rgba(0.0, 0.7843137254901961, 0.8980392156862745, 0.2)",
         "hoverinfo": "skip",
         "line": {
          "color": "rgba(0,0,0,0)",
          "shape": "hv"
         },
         "mode": "lines",
         "name": "Confidence band",
         "showlegend": false,
         "type": "scatter",
         "x": [
          "2008-04-01T00:00:00",
          "2008-04-01T00:00:00",
          "2008-04-01T00:00:00",
          "2008-05-01T00:00:00",
          "2008-05-01T00:00:00",
          "2008-05-01T00:00:00",
          "2008-06-01T00:00:00",
          "2008-06-01T00:00:00",
          "2008-06-01T00:00:00",
          "2008-06-01T00:00:00",
          "2008-06-01T00:00:00"
         ],
         "y": [
          0.0668905762512444,
          0.006787745581235183,
          -0.010374473540041285,
          0.07531813256815367,
          -0.0858358052641025,
          0.2432244184469221,
          0.13688649525426766,
          -0.05188226357934789,
          0.08189537046907447,
          0.08051970225295835,
          0.08051970225295835
         ]
        }
       ],
       "layout": {
        "annotations": [
         {
          "showarrow": false,
          "text": "Reference",
          "x": "2008-01-31T04:48:00",
          "xshift": 10,
          "y": 1.01,
          "yref": "y domain"
         },
         {
          "showarrow": false,
          "text": "Analysis",
          "x": "2008-05-04T09:36:00",
          "xshift": 15,
          "y": 1.01,
          "yref": "y domain"
         }
        ],
        "hoverlabel": {
         "bgcolor": "white",
         "font": {
          "size": 14
         }
        },
        "legend": {
         "itemclick": false,
         "itemdoubleclick": false,
         "traceorder": "grouped"
        },
        "paper_bgcolor": "rgba(255,255,255,1)",
        "plot_bgcolor": "rgba(255,255,255,1)",
        "shapes": [
         {
          "layer": "below",
          "line": {
           "color": "#666666",
           "width": 1
          },
          "type": "line",
          "x0": "2008-04-01T00:00:00",
          "x1": "2008-04-01T00:00:00",
          "xref": "x",
          "y0": 0,
          "y1": 1,
          "yref": "y domain"
         }
        ],
        "template": {
         "data": {
          "bar": [
           {
            "error_x": {
             "color": "#2a3f5f"
            },
            "error_y": {
             "color": "#2a3f5f"
            },
            "marker": {
             "line": {
              "color": "#E5ECF6",
              "width": 0.5
             },
             "pattern": {
              "fillmode": "overlay",
              "size": 10,
              "solidity": 0.2
             }
            },
            "type": "bar"
           }
          ],
          "barpolar": [
           {
            "marker": {
             "line": {
              "color": "#E5ECF6",
              "width": 0.5
             },
             "pattern": {
              "fillmode": "overlay",
              "size": 10,
              "solidity": 0.2
             }
            },
            "type": "barpolar"
           }
          ],
          "carpet": [
           {
            "aaxis": {
             "endlinecolor": "#2a3f5f",
             "gridcolor": "white",
             "linecolor": "white",
             "minorgridcolor": "white",
             "startlinecolor": "#2a3f5f"
            },
            "baxis": {
             "endlinecolor": "#2a3f5f",
             "gridcolor": "white",
             "linecolor": "white",
             "minorgridcolor": "white",
             "startlinecolor": "#2a3f5f"
            },
            "type": "carpet"
           }
          ],
          "choropleth": [
           {
            "colorbar": {
             "outlinewidth": 0,
             "ticks": ""
            },
            "type": "choropleth"
           }
          ],
          "contour": [
           {
            "colorbar": {
             "outlinewidth": 0,
             "ticks": ""
            },
            "colorscale": [
             [
              0,
              "#0d0887"
             ],
             [
              0.1111111111111111,
              "#46039f"
             ],
             [
              0.2222222222222222,
              "#7201a8"
             ],
             [
              0.3333333333333333,
              "#9c179e"
             ],
             [
              0.4444444444444444,
              "#bd3786"
             ],
             [
              0.5555555555555556,
              "#d8576b"
             ],
             [
              0.6666666666666666,
              "#ed7953"
             ],
             [
              0.7777777777777778,
              "#fb9f3a"
             ],
             [
              0.8888888888888888,
              "#fdca26"
             ],
             [
              1,
              "#f0f921"
             ]
            ],
            "type": "contour"
           }
          ],
          "contourcarpet": [
           {
            "colorbar": {
             "outlinewidth": 0,
             "ticks": ""
            },
            "type": "contourcarpet"
           }
          ],
          "heatmap": [
           {
            "colorbar": {
             "outlinewidth": 0,
             "ticks": ""
            },
            "colorscale": [
             [
              0,
              "#0d0887"
             ],
             [
              0.1111111111111111,
              "#46039f"
             ],
             [
              0.2222222222222222,
              "#7201a8"
             ],
             [
              0.3333333333333333,
              "#9c179e"
             ],
             [
              0.4444444444444444,
              "#bd3786"
             ],
             [
              0.5555555555555556,
              "#d8576b"
             ],
             [
              0.6666666666666666,
              "#ed7953"
             ],
             [
              0.7777777777777778,
              "#fb9f3a"
             ],
             [
              0.8888888888888888,
              "#fdca26"
             ],
             [
              1,
              "#f0f921"
             ]
            ],
            "type": "heatmap"
           }
          ],
          "heatmapgl": [
           {
            "colorbar": {
             "outlinewidth": 0,
             "ticks": ""
            },
            "colorscale": [
             [
              0,
              "#0d0887"
             ],
             [
              0.1111111111111111,
              "#46039f"
             ],
             [
              0.2222222222222222,
              "#7201a8"
             ],
             [
              0.3333333333333333,
              "#9c179e"
             ],
             [
              0.4444444444444444,
              "#bd3786"
             ],
             [
              0.5555555555555556,
              "#d8576b"
             ],
             [
              0.6666666666666666,
              "#ed7953"
             ],
             [
              0.7777777777777778,
              "#fb9f3a"
             ],
             [
              0.8888888888888888,
              "#fdca26"
             ],
             [
              1,
              "#f0f921"
             ]
            ],
            "type": "heatmapgl"
           }
          ],
          "histogram": [
           {
            "marker": {
             "pattern": {
              "fillmode": "overlay",
              "size": 10,
              "solidity": 0.2
             }
            },
            "type": "histogram"
           }
          ],
          "histogram2d": [
           {
            "colorbar": {
             "outlinewidth": 0,
             "ticks": ""
            },
            "colorscale": [
             [
              0,
              "#0d0887"
             ],
             [
              0.1111111111111111,
              "#46039f"
             ],
             [
              0.2222222222222222,
              "#7201a8"
             ],
             [
              0.3333333333333333,
              "#9c179e"
             ],
             [
              0.4444444444444444,
              "#bd3786"
             ],
             [
              0.5555555555555556,
              "#d8576b"
             ],
             [
              0.6666666666666666,
              "#ed7953"
             ],
             [
              0.7777777777777778,
              "#fb9f3a"
             ],
             [
              0.8888888888888888,
              "#fdca26"
             ],
             [
              1,
              "#f0f921"
             ]
            ],
            "type": "histogram2d"
           }
          ],
          "histogram2dcontour": [
           {
            "colorbar": {
             "outlinewidth": 0,
             "ticks": ""
            },
            "colorscale": [
             [
              0,
              "#0d0887"
             ],
             [
              0.1111111111111111,
              "#46039f"
             ],
             [
              0.2222222222222222,
              "#7201a8"
             ],
             [
              0.3333333333333333,
              "#9c179e"
             ],
             [
              0.4444444444444444,
              "#bd3786"
             ],
             [
              0.5555555555555556,
              "#d8576b"
             ],
             [
              0.6666666666666666,
              "#ed7953"
             ],
             [
              0.7777777777777778,
              "#fb9f3a"
             ],
             [
              0.8888888888888888,
              "#fdca26"
             ],
             [
              1,
              "#f0f921"
             ]
            ],
            "type": "histogram2dcontour"
           }
          ],
          "mesh3d": [
           {
            "colorbar": {
             "outlinewidth": 0,
             "ticks": ""
            },
            "type": "mesh3d"
           }
          ],
          "parcoords": [
           {
            "line": {
             "colorbar": {
              "outlinewidth": 0,
              "ticks": ""
             }
            },
            "type": "parcoords"
           }
          ],
          "pie": [
           {
            "automargin": true,
            "type": "pie"
           }
          ],
          "scatter": [
           {
            "fillpattern": {
             "fillmode": "overlay",
             "size": 10,
             "solidity": 0.2
            },
            "type": "scatter"
           }
          ],
          "scatter3d": [
           {
            "line": {
             "colorbar": {
              "outlinewidth": 0,
              "ticks": ""
             }
            },
            "marker": {
             "colorbar": {
              "outlinewidth": 0,
              "ticks": ""
             }
            },
            "type": "scatter3d"
           }
          ],
          "scattercarpet": [
           {
            "marker": {
             "colorbar": {
              "outlinewidth": 0,
              "ticks": ""
             }
            },
            "type": "scattercarpet"
           }
          ],
          "scattergeo": [
           {
            "marker": {
             "colorbar": {
              "outlinewidth": 0,
              "ticks": ""
             }
            },
            "type": "scattergeo"
           }
          ],
          "scattergl": [
           {
            "marker": {
             "colorbar": {
              "outlinewidth": 0,
              "ticks": ""
             }
            },
            "type": "scattergl"
           }
          ],
          "scattermapbox": [
           {
            "marker": {
             "colorbar": {
              "outlinewidth": 0,
              "ticks": ""
             }
            },
            "type": "scattermapbox"
           }
          ],
          "scatterpolar": [
           {
            "marker": {
             "colorbar": {
              "outlinewidth": 0,
              "ticks": ""
             }
            },
            "type": "scatterpolar"
           }
          ],
          "scatterpolargl": [
           {
            "marker": {
             "colorbar": {
              "outlinewidth": 0,
              "ticks": ""
             }
            },
            "type": "scatterpolargl"
           }
          ],
          "scatterternary": [
           {
            "marker": {
             "colorbar": {
              "outlinewidth": 0,
              "ticks": ""
             }
            },
            "type": "scatterternary"
           }
          ],
          "surface": [
           {
            "colorbar": {
             "outlinewidth": 0,
             "ticks": ""
            },
            "colorscale": [
             [
              0,
              "#0d0887"
             ],
             [
              0.1111111111111111,
              "#46039f"
             ],
             [
              0.2222222222222222,
              "#7201a8"
             ],
             [
              0.3333333333333333,
              "#9c179e"
             ],
             [
              0.4444444444444444,
              "#bd3786"
             ],
             [
              0.5555555555555556,
              "#d8576b"
             ],
             [
              0.6666666666666666,
              "#ed7953"
             ],
             [
              0.7777777777777778,
              "#fb9f3a"
             ],
             [
              0.8888888888888888,
              "#fdca26"
             ],
             [
              1,
              "#f0f921"
             ]
            ],
            "type": "surface"
           }
          ],
          "table": [
           {
            "cells": {
             "fill": {
              "color": "#EBF0F8"
             },
             "line": {
              "color": "white"
             }
            },
            "header": {
             "fill": {
              "color": "#C8D4E3"
             },
             "line": {
              "color": "white"
             }
            },
            "type": "table"
           }
          ]
         },
         "layout": {
          "annotationdefaults": {
           "arrowcolor": "#2a3f5f",
           "arrowhead": 0,
           "arrowwidth": 1
          },
          "autotypenumbers": "strict",
          "coloraxis": {
           "colorbar": {
            "outlinewidth": 0,
            "ticks": ""
           }
          },
          "colorscale": {
           "diverging": [
            [
             0,
             "#8e0152"
            ],
            [
             0.1,
             "#c51b7d"
            ],
            [
             0.2,
             "#de77ae"
            ],
            [
             0.3,
             "#f1b6da"
            ],
            [
             0.4,
             "#fde0ef"
            ],
            [
             0.5,
             "#f7f7f7"
            ],
            [
             0.6,
             "#e6f5d0"
            ],
            [
             0.7,
             "#b8e186"
            ],
            [
             0.8,
             "#7fbc41"
            ],
            [
             0.9,
             "#4d9221"
            ],
            [
             1,
             "#276419"
            ]
           ],
           "sequential": [
            [
             0,
             "#0d0887"
            ],
            [
             0.1111111111111111,
             "#46039f"
            ],
            [
             0.2222222222222222,
             "#7201a8"
            ],
            [
             0.3333333333333333,
             "#9c179e"
            ],
            [
             0.4444444444444444,
             "#bd3786"
            ],
            [
             0.5555555555555556,
             "#d8576b"
            ],
            [
             0.6666666666666666,
             "#ed7953"
            ],
            [
             0.7777777777777778,
             "#fb9f3a"
            ],
            [
             0.8888888888888888,
             "#fdca26"
            ],
            [
             1,
             "#f0f921"
            ]
           ],
           "sequentialminus": [
            [
             0,
             "#0d0887"
            ],
            [
             0.1111111111111111,
             "#46039f"
            ],
            [
             0.2222222222222222,
             "#7201a8"
            ],
            [
             0.3333333333333333,
             "#9c179e"
            ],
            [
             0.4444444444444444,
             "#bd3786"
            ],
            [
             0.5555555555555556,
             "#d8576b"
            ],
            [
             0.6666666666666666,
             "#ed7953"
            ],
            [
             0.7777777777777778,
             "#fb9f3a"
            ],
            [
             0.8888888888888888,
             "#fdca26"
            ],
            [
             1,
             "#f0f921"
            ]
           ]
          },
          "colorway": [
           "#636efa",
           "#EF553B",
           "#00cc96",
           "#ab63fa",
           "#FFA15A",
           "#19d3f3",
           "#FF6692",
           "#B6E880",
           "#FF97FF",
           "#FECB52"
          ],
          "font": {
           "color": "#2a3f5f"
          },
          "geo": {
           "bgcolor": "white",
           "lakecolor": "white",
           "landcolor": "#E5ECF6",
           "showlakes": true,
           "showland": true,
           "subunitcolor": "white"
          },
          "hoverlabel": {
           "align": "left"
          },
          "hovermode": "closest",
          "mapbox": {
           "style": "light"
          },
          "paper_bgcolor": "white",
          "plot_bgcolor": "#E5ECF6",
          "polar": {
           "angularaxis": {
            "gridcolor": "white",
            "linecolor": "white",
            "ticks": ""
           },
           "bgcolor": "#E5ECF6",
           "radialaxis": {
            "gridcolor": "white",
            "linecolor": "white",
            "ticks": ""
           }
          },
          "scene": {
           "xaxis": {
            "backgroundcolor": "#E5ECF6",
            "gridcolor": "white",
            "gridwidth": 2,
            "linecolor": "white",
            "showbackground": true,
            "ticks": "",
            "zerolinecolor": "white"
           },
           "yaxis": {
            "backgroundcolor": "#E5ECF6",
            "gridcolor": "white",
            "gridwidth": 2,
            "linecolor": "white",
            "showbackground": true,
            "ticks": "",
            "zerolinecolor": "white"
           },
           "zaxis": {
            "backgroundcolor": "#E5ECF6",
            "gridcolor": "white",
            "gridwidth": 2,
            "linecolor": "white",
            "showbackground": true,
            "ticks": "",
            "zerolinecolor": "white"
           }
          },
          "shapedefaults": {
           "line": {
            "color": "#2a3f5f"
           }
          },
          "ternary": {
           "aaxis": {
            "gridcolor": "white",
            "linecolor": "white",
            "ticks": ""
           },
           "baxis": {
            "gridcolor": "white",
            "linecolor": "white",
            "ticks": ""
           },
           "bgcolor": "#E5ECF6",
           "caxis": {
            "gridcolor": "white",
            "linecolor": "white",
            "ticks": ""
           }
          },
          "title": {
           "x": 0.05
          },
          "xaxis": {
           "automargin": true,
           "gridcolor": "white",
           "linecolor": "white",
           "ticks": "",
           "title": {
            "standoff": 15
           },
           "zerolinecolor": "white",
           "zerolinewidth": 2
          },
          "yaxis": {
           "automargin": true,
           "gridcolor": "white",
           "linecolor": "white",
           "ticks": "",
           "title": {
            "standoff": 15
           },
           "zerolinecolor": "white",
           "zerolinewidth": 2
          }
         }
        },
        "title": {
         "text": "Multivariate drift (PCA reconstruction error)"
        },
        "xaxis": {
         "linecolor": "#3b0280",
         "matches": "x",
         "mirror": true,
         "showgrid": false,
         "title": {
          "text": "Time"
         },
         "zeroline": false
        },
        "yaxis": {
         "linecolor": "#3b0280",
         "mirror": true,
         "showgrid": false,
         "title": {
          "text": "Data reconstruction drift"
         },
         "zeroline": false
        }
       }
      }
     },
     "metadata": {},
     "output_type": "display_data"
    }
   ],
   "source": [
    "figure = result_2008.plot()\n",
    "\n",
    "figure.show()"
   ]
  }
 ],
 "metadata": {
  "kernelspec": {
   "display_name": "Python 3",
   "language": "python",
   "name": "python3"
  },
  "language_info": {
   "codemirror_mode": {
    "name": "ipython",
    "version": 3
   },
   "file_extension": ".py",
   "mimetype": "text/x-python",
   "name": "python",
   "nbconvert_exporter": "python",
   "pygments_lexer": "ipython3",
   "version": "3.10.0"
  },
  "orig_nbformat": 4
 },
 "nbformat": 4,
 "nbformat_minor": 2
}
