{
 "cells": [
  {
   "cell_type": "code",
   "execution_count": 1,
   "metadata": {},
   "outputs": [],
   "source": [
    "import nannyml as nml\n",
    "import pandas as pd\n",
    "import numpy as np\n",
    "import matplotlib.pyplot as plt\n",
    "import seaborn as sns"
   ]
  },
  {
   "cell_type": "code",
   "execution_count": 2,
   "metadata": {},
   "outputs": [
    {
     "data": {
      "text/html": [
       "<div>\n",
       "<style scoped>\n",
       "    .dataframe tbody tr th:only-of-type {\n",
       "        vertical-align: middle;\n",
       "    }\n",
       "\n",
       "    .dataframe tbody tr th {\n",
       "        vertical-align: top;\n",
       "    }\n",
       "\n",
       "    .dataframe thead th {\n",
       "        text-align: right;\n",
       "    }\n",
       "</style>\n",
       "<table border=\"1\" class=\"dataframe\">\n",
       "  <thead>\n",
       "    <tr style=\"text-align: right;\">\n",
       "      <th></th>\n",
       "      <th>car_age</th>\n",
       "      <th>km_driven</th>\n",
       "      <th>price_new</th>\n",
       "      <th>accident_count</th>\n",
       "      <th>door_count</th>\n",
       "      <th>fuel</th>\n",
       "      <th>transmission</th>\n",
       "      <th>y_true</th>\n",
       "      <th>y_pred</th>\n",
       "      <th>timestamp</th>\n",
       "    </tr>\n",
       "  </thead>\n",
       "  <tbody>\n",
       "    <tr>\n",
       "      <th>0</th>\n",
       "      <td>15.0</td>\n",
       "      <td>144020.0</td>\n",
       "      <td>42810.0</td>\n",
       "      <td>4.0</td>\n",
       "      <td>3.0</td>\n",
       "      <td>diesel</td>\n",
       "      <td>automatic</td>\n",
       "      <td>569.0</td>\n",
       "      <td>1246.0</td>\n",
       "      <td>2017-01-24 08:00:00.000</td>\n",
       "    </tr>\n",
       "    <tr>\n",
       "      <th>1</th>\n",
       "      <td>12.0</td>\n",
       "      <td>57078.0</td>\n",
       "      <td>31835.0</td>\n",
       "      <td>3.0</td>\n",
       "      <td>3.0</td>\n",
       "      <td>electric</td>\n",
       "      <td>automatic</td>\n",
       "      <td>4277.0</td>\n",
       "      <td>4924.0</td>\n",
       "      <td>2017-01-24 08:00:33.600</td>\n",
       "    </tr>\n",
       "    <tr>\n",
       "      <th>2</th>\n",
       "      <td>2.0</td>\n",
       "      <td>76288.0</td>\n",
       "      <td>31851.0</td>\n",
       "      <td>3.0</td>\n",
       "      <td>5.0</td>\n",
       "      <td>diesel</td>\n",
       "      <td>automatic</td>\n",
       "      <td>7011.0</td>\n",
       "      <td>5744.0</td>\n",
       "      <td>2017-01-24 08:01:07.200</td>\n",
       "    </tr>\n",
       "  </tbody>\n",
       "</table>\n",
       "</div>"
      ],
      "text/plain": [
       "   car_age  km_driven  price_new  accident_count  door_count      fuel  \\\n",
       "0     15.0   144020.0    42810.0             4.0         3.0    diesel   \n",
       "1     12.0    57078.0    31835.0             3.0         3.0  electric   \n",
       "2      2.0    76288.0    31851.0             3.0         5.0    diesel   \n",
       "\n",
       "  transmission  y_true  y_pred                timestamp  \n",
       "0    automatic   569.0  1246.0  2017-01-24 08:00:00.000  \n",
       "1    automatic  4277.0  4924.0  2017-01-24 08:00:33.600  \n",
       "2    automatic  7011.0  5744.0  2017-01-24 08:01:07.200  "
      ]
     },
     "metadata": {},
     "output_type": "display_data"
    }
   ],
   "source": [
    "reference_df = nml.load_synthetic_car_price_dataset()[0]\n",
    "analysis_df = nml.load_synthetic_car_price_dataset()[1]\n",
    "display(reference_df.head(3))"
   ]
  },
  {
   "cell_type": "code",
   "execution_count": 3,
   "metadata": {},
   "outputs": [
    {
     "data": {
      "text/html": [
       "<div>\n",
       "<style scoped>\n",
       "    .dataframe tbody tr th:only-of-type {\n",
       "        vertical-align: middle;\n",
       "    }\n",
       "\n",
       "    .dataframe tbody tr th {\n",
       "        vertical-align: top;\n",
       "    }\n",
       "\n",
       "    .dataframe thead th {\n",
       "        text-align: right;\n",
       "    }\n",
       "</style>\n",
       "<table border=\"1\" class=\"dataframe\">\n",
       "  <thead>\n",
       "    <tr style=\"text-align: right;\">\n",
       "      <th></th>\n",
       "      <th>car_age</th>\n",
       "      <th>km_driven</th>\n",
       "      <th>price_new</th>\n",
       "      <th>accident_count</th>\n",
       "      <th>door_count</th>\n",
       "      <th>fuel</th>\n",
       "      <th>transmission</th>\n",
       "      <th>y_pred</th>\n",
       "      <th>timestamp</th>\n",
       "    </tr>\n",
       "  </thead>\n",
       "  <tbody>\n",
       "    <tr>\n",
       "      <th>0</th>\n",
       "      <td>9.0</td>\n",
       "      <td>96276.0</td>\n",
       "      <td>36603.0</td>\n",
       "      <td>4.0</td>\n",
       "      <td>4.0</td>\n",
       "      <td>gas</td>\n",
       "      <td>manual</td>\n",
       "      <td>3785.0</td>\n",
       "      <td>2017-02-16 16:00:00.000</td>\n",
       "    </tr>\n",
       "    <tr>\n",
       "      <th>1</th>\n",
       "      <td>12.0</td>\n",
       "      <td>25303.0</td>\n",
       "      <td>22210.0</td>\n",
       "      <td>2.0</td>\n",
       "      <td>5.0</td>\n",
       "      <td>gas</td>\n",
       "      <td>manual</td>\n",
       "      <td>4134.0</td>\n",
       "      <td>2017-02-16 16:00:33.600</td>\n",
       "    </tr>\n",
       "    <tr>\n",
       "      <th>2</th>\n",
       "      <td>11.0</td>\n",
       "      <td>143756.0</td>\n",
       "      <td>23364.0</td>\n",
       "      <td>1.0</td>\n",
       "      <td>4.0</td>\n",
       "      <td>gas</td>\n",
       "      <td>automatic</td>\n",
       "      <td>2748.0</td>\n",
       "      <td>2017-02-16 16:01:07.200</td>\n",
       "    </tr>\n",
       "  </tbody>\n",
       "</table>\n",
       "</div>"
      ],
      "text/plain": [
       "   car_age  km_driven  price_new  accident_count  door_count fuel  \\\n",
       "0      9.0    96276.0    36603.0             4.0         4.0  gas   \n",
       "1     12.0    25303.0    22210.0             2.0         5.0  gas   \n",
       "2     11.0   143756.0    23364.0             1.0         4.0  gas   \n",
       "\n",
       "  transmission  y_pred                timestamp  \n",
       "0       manual  3785.0  2017-02-16 16:00:00.000  \n",
       "1       manual  4134.0  2017-02-16 16:00:33.600  \n",
       "2    automatic  2748.0  2017-02-16 16:01:07.200  "
      ]
     },
     "metadata": {},
     "output_type": "display_data"
    }
   ],
   "source": [
    "display(analysis_df.head(3))\n"
   ]
  },
  {
   "attachments": {},
   "cell_type": "markdown",
   "metadata": {},
   "source": [
    "# To Do\n",
    "\n",
    "**Datasets**:\n",
    "- add time stamps to raw dataset\n",
    "- create new train dataset and alter it for drift detection\n",
    "\n",
    "**Univariante Data Drift:**\n",
    "- Continuous:\n",
    "  - Kolmogorov-Smirnov Test\n",
    "  - Jensen-Shannon Distance\n",
    "  - + 1 more if possible\n",
    "- Categorical:\n",
    "  - Chi-squared Test\n",
    "  - Jensen-Shannon Distance\n",
    "  - + 1 more if possible\n",
    "\n",
    "**Multivariante Data Drift:**\n",
    "- https://nannyml.readthedocs.io/en/latest/tutorials/detecting_data_drift/multivariate_drift_detection.html\n",
    "\n",
    "**Performance Estimation:**\n",
    "- https://nannyml.readthedocs.io/en/latest/tutorials/performance_estimation/regression_performance_estimation.html\n",
    "- https://nannyml.readthedocs.io/en/latest/how_it_works/performance_estimation.html\n",
    "\n",
    "**Data Quality checks:**\n",
    "- look for further unit tests\n",
    "- Missing value detection\n",
    "- Unseen value detection"
   ]
  },
  {
   "cell_type": "code",
   "execution_count": 9,
   "metadata": {},
   "outputs": [
    {
     "data": {
      "text/plain": [
       "Index(['car_age', 'km_driven', 'price_new', 'accident_count', 'door_count',\n",
       "       'fuel', 'transmission', 'y_true', 'y_pred', 'timestamp'],\n",
       "      dtype='object')"
      ]
     },
     "execution_count": 9,
     "metadata": {},
     "output_type": "execute_result"
    }
   ],
   "source": [
    "reference_df.columns"
   ]
  },
  {
   "cell_type": "code",
   "execution_count": 13,
   "metadata": {},
   "outputs": [
    {
     "data": {
      "text/html": [
       "<div>\n",
       "<style scoped>\n",
       "    .dataframe tbody tr th:only-of-type {\n",
       "        vertical-align: middle;\n",
       "    }\n",
       "\n",
       "    .dataframe tbody tr th {\n",
       "        vertical-align: top;\n",
       "    }\n",
       "\n",
       "    .dataframe thead th {\n",
       "        text-align: right;\n",
       "    }\n",
       "</style>\n",
       "<table border=\"1\" class=\"dataframe\">\n",
       "  <thead>\n",
       "    <tr style=\"text-align: right;\">\n",
       "      <th></th>\n",
       "      <th>distance_from_office</th>\n",
       "      <th>salary_range</th>\n",
       "      <th>gas_price_per_litre</th>\n",
       "      <th>public_transportation_cost</th>\n",
       "      <th>wfh_prev_workday</th>\n",
       "      <th>workday</th>\n",
       "      <th>tenure</th>\n",
       "      <th>identifier</th>\n",
       "      <th>work_home_actual</th>\n",
       "      <th>timestamp</th>\n",
       "      <th>y_pred_proba</th>\n",
       "      <th>period</th>\n",
       "      <th>y_pred</th>\n",
       "    </tr>\n",
       "  </thead>\n",
       "  <tbody>\n",
       "    <tr>\n",
       "      <th>0</th>\n",
       "      <td>5.962247</td>\n",
       "      <td>40K - 60K €</td>\n",
       "      <td>2.119485</td>\n",
       "      <td>8.568058</td>\n",
       "      <td>False</td>\n",
       "      <td>Friday</td>\n",
       "      <td>0.212653</td>\n",
       "      <td>0</td>\n",
       "      <td>1</td>\n",
       "      <td>2014-05-09 22:27:20</td>\n",
       "      <td>0.99</td>\n",
       "      <td>reference</td>\n",
       "      <td>1</td>\n",
       "    </tr>\n",
       "    <tr>\n",
       "      <th>1</th>\n",
       "      <td>0.535872</td>\n",
       "      <td>40K - 60K €</td>\n",
       "      <td>2.357199</td>\n",
       "      <td>5.425382</td>\n",
       "      <td>True</td>\n",
       "      <td>Tuesday</td>\n",
       "      <td>4.927549</td>\n",
       "      <td>1</td>\n",
       "      <td>0</td>\n",
       "      <td>2014-05-09 22:59:32</td>\n",
       "      <td>0.07</td>\n",
       "      <td>reference</td>\n",
       "      <td>0</td>\n",
       "    </tr>\n",
       "    <tr>\n",
       "      <th>2</th>\n",
       "      <td>1.969519</td>\n",
       "      <td>40K - 60K €</td>\n",
       "      <td>2.366849</td>\n",
       "      <td>8.247158</td>\n",
       "      <td>False</td>\n",
       "      <td>Monday</td>\n",
       "      <td>0.520817</td>\n",
       "      <td>2</td>\n",
       "      <td>1</td>\n",
       "      <td>2014-05-09 23:48:25</td>\n",
       "      <td>1.00</td>\n",
       "      <td>reference</td>\n",
       "      <td>1</td>\n",
       "    </tr>\n",
       "    <tr>\n",
       "      <th>3</th>\n",
       "      <td>2.530410</td>\n",
       "      <td>20K - 40K €</td>\n",
       "      <td>2.318722</td>\n",
       "      <td>7.944251</td>\n",
       "      <td>False</td>\n",
       "      <td>Tuesday</td>\n",
       "      <td>0.453649</td>\n",
       "      <td>3</td>\n",
       "      <td>1</td>\n",
       "      <td>2014-05-10 01:12:09</td>\n",
       "      <td>0.98</td>\n",
       "      <td>reference</td>\n",
       "      <td>1</td>\n",
       "    </tr>\n",
       "    <tr>\n",
       "      <th>4</th>\n",
       "      <td>2.253635</td>\n",
       "      <td>60K+ €</td>\n",
       "      <td>2.221265</td>\n",
       "      <td>8.884478</td>\n",
       "      <td>True</td>\n",
       "      <td>Thursday</td>\n",
       "      <td>5.695263</td>\n",
       "      <td>4</td>\n",
       "      <td>1</td>\n",
       "      <td>2014-05-10 02:21:34</td>\n",
       "      <td>0.99</td>\n",
       "      <td>reference</td>\n",
       "      <td>1</td>\n",
       "    </tr>\n",
       "  </tbody>\n",
       "</table>\n",
       "</div>"
      ],
      "text/plain": [
       "   distance_from_office salary_range  gas_price_per_litre  \\\n",
       "0              5.962247  40K - 60K €             2.119485   \n",
       "1              0.535872  40K - 60K €             2.357199   \n",
       "2              1.969519  40K - 60K €             2.366849   \n",
       "3              2.530410  20K - 40K €             2.318722   \n",
       "4              2.253635       60K+ €             2.221265   \n",
       "\n",
       "   public_transportation_cost  wfh_prev_workday   workday    tenure  \\\n",
       "0                    8.568058             False    Friday  0.212653   \n",
       "1                    5.425382              True   Tuesday  4.927549   \n",
       "2                    8.247158             False    Monday  0.520817   \n",
       "3                    7.944251             False   Tuesday  0.453649   \n",
       "4                    8.884478              True  Thursday  5.695263   \n",
       "\n",
       "   identifier  work_home_actual            timestamp  y_pred_proba     period  \\\n",
       "0           0                 1  2014-05-09 22:27:20          0.99  reference   \n",
       "1           1                 0  2014-05-09 22:59:32          0.07  reference   \n",
       "2           2                 1  2014-05-09 23:48:25          1.00  reference   \n",
       "3           3                 1  2014-05-10 01:12:09          0.98  reference   \n",
       "4           4                 1  2014-05-10 02:21:34          0.99  reference   \n",
       "\n",
       "   y_pred  \n",
       "0       1  \n",
       "1       0  \n",
       "2       1  \n",
       "3       1  \n",
       "4       1  "
      ]
     },
     "metadata": {},
     "output_type": "display_data"
    }
   ],
   "source": [
    "reference_df, analysis_df, _ = nml.load_synthetic_binary_classification_dataset()\n",
    "display(reference_df.head())\n",
    "\n",
    "column_names = reference_df.columns"
   ]
  },
  {
   "cell_type": "code",
   "execution_count": 15,
   "metadata": {},
   "outputs": [
    {
     "data": {
      "text/html": [
       "<div>\n",
       "<style scoped>\n",
       "    .dataframe tbody tr th:only-of-type {\n",
       "        vertical-align: middle;\n",
       "    }\n",
       "\n",
       "    .dataframe tbody tr th {\n",
       "        vertical-align: top;\n",
       "    }\n",
       "\n",
       "    .dataframe thead th {\n",
       "        text-align: right;\n",
       "    }\n",
       "</style>\n",
       "<table border=\"1\" class=\"dataframe\">\n",
       "  <thead>\n",
       "    <tr style=\"text-align: right;\">\n",
       "      <th></th>\n",
       "      <th>car_age</th>\n",
       "      <th>km_driven</th>\n",
       "      <th>price_new</th>\n",
       "      <th>accident_count</th>\n",
       "      <th>door_count</th>\n",
       "      <th>fuel</th>\n",
       "      <th>transmission</th>\n",
       "      <th>y_true</th>\n",
       "      <th>y_pred</th>\n",
       "      <th>timestamp</th>\n",
       "    </tr>\n",
       "  </thead>\n",
       "  <tbody>\n",
       "    <tr>\n",
       "      <th>0</th>\n",
       "      <td>15.0</td>\n",
       "      <td>144020.0</td>\n",
       "      <td>42810.0</td>\n",
       "      <td>4.0</td>\n",
       "      <td>3.0</td>\n",
       "      <td>diesel</td>\n",
       "      <td>automatic</td>\n",
       "      <td>569.0</td>\n",
       "      <td>1246.0</td>\n",
       "      <td>2017-01-24 08:00:00.000</td>\n",
       "    </tr>\n",
       "    <tr>\n",
       "      <th>1</th>\n",
       "      <td>12.0</td>\n",
       "      <td>57078.0</td>\n",
       "      <td>31835.0</td>\n",
       "      <td>3.0</td>\n",
       "      <td>3.0</td>\n",
       "      <td>electric</td>\n",
       "      <td>automatic</td>\n",
       "      <td>4277.0</td>\n",
       "      <td>4924.0</td>\n",
       "      <td>2017-01-24 08:00:33.600</td>\n",
       "    </tr>\n",
       "    <tr>\n",
       "      <th>2</th>\n",
       "      <td>2.0</td>\n",
       "      <td>76288.0</td>\n",
       "      <td>31851.0</td>\n",
       "      <td>3.0</td>\n",
       "      <td>5.0</td>\n",
       "      <td>diesel</td>\n",
       "      <td>automatic</td>\n",
       "      <td>7011.0</td>\n",
       "      <td>5744.0</td>\n",
       "      <td>2017-01-24 08:01:07.200</td>\n",
       "    </tr>\n",
       "    <tr>\n",
       "      <th>3</th>\n",
       "      <td>7.0</td>\n",
       "      <td>97593.0</td>\n",
       "      <td>29288.0</td>\n",
       "      <td>2.0</td>\n",
       "      <td>3.0</td>\n",
       "      <td>electric</td>\n",
       "      <td>manual</td>\n",
       "      <td>5576.0</td>\n",
       "      <td>6781.0</td>\n",
       "      <td>2017-01-24 08:01:40.800</td>\n",
       "    </tr>\n",
       "    <tr>\n",
       "      <th>4</th>\n",
       "      <td>13.0</td>\n",
       "      <td>9985.0</td>\n",
       "      <td>41350.0</td>\n",
       "      <td>1.0</td>\n",
       "      <td>5.0</td>\n",
       "      <td>diesel</td>\n",
       "      <td>automatic</td>\n",
       "      <td>6456.0</td>\n",
       "      <td>6822.0</td>\n",
       "      <td>2017-01-24 08:02:14.400</td>\n",
       "    </tr>\n",
       "  </tbody>\n",
       "</table>\n",
       "</div>"
      ],
      "text/plain": [
       "   car_age  km_driven  price_new  accident_count  door_count      fuel  \\\n",
       "0     15.0   144020.0    42810.0             4.0         3.0    diesel   \n",
       "1     12.0    57078.0    31835.0             3.0         3.0  electric   \n",
       "2      2.0    76288.0    31851.0             3.0         5.0    diesel   \n",
       "3      7.0    97593.0    29288.0             2.0         3.0  electric   \n",
       "4     13.0     9985.0    41350.0             1.0         5.0    diesel   \n",
       "\n",
       "  transmission  y_true  y_pred                timestamp  \n",
       "0    automatic   569.0  1246.0  2017-01-24 08:00:00.000  \n",
       "1    automatic  4277.0  4924.0  2017-01-24 08:00:33.600  \n",
       "2    automatic  7011.0  5744.0  2017-01-24 08:01:07.200  \n",
       "3       manual  5576.0  6781.0  2017-01-24 08:01:40.800  \n",
       "4    automatic  6456.0  6822.0  2017-01-24 08:02:14.400  "
      ]
     },
     "metadata": {},
     "output_type": "display_data"
    }
   ],
   "source": [
    "reference_df, analysis_df, _ = nml.load_synthetic_car_price_dataset()\n",
    "display(reference_df.head())\n",
    "\n",
    "column_names = reference_df.columns"
   ]
  },
  {
   "cell_type": "code",
   "execution_count": 16,
   "metadata": {},
   "outputs": [
    {
     "data": {
      "text/html": [
       "<div>\n",
       "<style scoped>\n",
       "    .dataframe tbody tr th:only-of-type {\n",
       "        vertical-align: middle;\n",
       "    }\n",
       "\n",
       "    .dataframe tbody tr th {\n",
       "        vertical-align: top;\n",
       "    }\n",
       "\n",
       "    .dataframe thead th {\n",
       "        text-align: right;\n",
       "    }\n",
       "</style>\n",
       "<table border=\"1\" class=\"dataframe\">\n",
       "  <thead>\n",
       "    <tr style=\"text-align: right;\">\n",
       "      <th></th>\n",
       "      <th>car_age</th>\n",
       "      <th>km_driven</th>\n",
       "      <th>price_new</th>\n",
       "      <th>accident_count</th>\n",
       "      <th>door_count</th>\n",
       "      <th>fuel</th>\n",
       "      <th>transmission</th>\n",
       "      <th>y_pred</th>\n",
       "      <th>timestamp</th>\n",
       "    </tr>\n",
       "  </thead>\n",
       "  <tbody>\n",
       "    <tr>\n",
       "      <th>0</th>\n",
       "      <td>9.0</td>\n",
       "      <td>96276.0</td>\n",
       "      <td>36603.0</td>\n",
       "      <td>4.0</td>\n",
       "      <td>4.0</td>\n",
       "      <td>gas</td>\n",
       "      <td>manual</td>\n",
       "      <td>3785.0</td>\n",
       "      <td>2017-02-16 16:00:00.000</td>\n",
       "    </tr>\n",
       "    <tr>\n",
       "      <th>1</th>\n",
       "      <td>12.0</td>\n",
       "      <td>25303.0</td>\n",
       "      <td>22210.0</td>\n",
       "      <td>2.0</td>\n",
       "      <td>5.0</td>\n",
       "      <td>gas</td>\n",
       "      <td>manual</td>\n",
       "      <td>4134.0</td>\n",
       "      <td>2017-02-16 16:00:33.600</td>\n",
       "    </tr>\n",
       "    <tr>\n",
       "      <th>2</th>\n",
       "      <td>11.0</td>\n",
       "      <td>143756.0</td>\n",
       "      <td>23364.0</td>\n",
       "      <td>1.0</td>\n",
       "      <td>4.0</td>\n",
       "      <td>gas</td>\n",
       "      <td>automatic</td>\n",
       "      <td>2748.0</td>\n",
       "      <td>2017-02-16 16:01:07.200</td>\n",
       "    </tr>\n",
       "    <tr>\n",
       "      <th>3</th>\n",
       "      <td>10.0</td>\n",
       "      <td>88496.0</td>\n",
       "      <td>37141.0</td>\n",
       "      <td>5.0</td>\n",
       "      <td>3.0</td>\n",
       "      <td>electric</td>\n",
       "      <td>manual</td>\n",
       "      <td>3488.0</td>\n",
       "      <td>2017-02-16 16:01:40.800</td>\n",
       "    </tr>\n",
       "    <tr>\n",
       "      <th>4</th>\n",
       "      <td>18.0</td>\n",
       "      <td>110028.0</td>\n",
       "      <td>43042.0</td>\n",
       "      <td>1.0</td>\n",
       "      <td>4.0</td>\n",
       "      <td>gas</td>\n",
       "      <td>manual</td>\n",
       "      <td>3915.0</td>\n",
       "      <td>2017-02-16 16:02:14.400</td>\n",
       "    </tr>\n",
       "    <tr>\n",
       "      <th>...</th>\n",
       "      <td>...</td>\n",
       "      <td>...</td>\n",
       "      <td>...</td>\n",
       "      <td>...</td>\n",
       "      <td>...</td>\n",
       "      <td>...</td>\n",
       "      <td>...</td>\n",
       "      <td>...</td>\n",
       "      <td>...</td>\n",
       "    </tr>\n",
       "    <tr>\n",
       "      <th>59995</th>\n",
       "      <td>15.0</td>\n",
       "      <td>72295.0</td>\n",
       "      <td>21224.0</td>\n",
       "      <td>1.0</td>\n",
       "      <td>3.0</td>\n",
       "      <td>gas</td>\n",
       "      <td>manual</td>\n",
       "      <td>3387.0</td>\n",
       "      <td>2017-03-11 23:57:12.000</td>\n",
       "    </tr>\n",
       "    <tr>\n",
       "      <th>59996</th>\n",
       "      <td>9.0</td>\n",
       "      <td>151645.0</td>\n",
       "      <td>32785.0</td>\n",
       "      <td>3.0</td>\n",
       "      <td>5.0</td>\n",
       "      <td>diesel</td>\n",
       "      <td>automatic</td>\n",
       "      <td>1619.0</td>\n",
       "      <td>2017-03-11 23:57:45.600</td>\n",
       "    </tr>\n",
       "    <tr>\n",
       "      <th>59997</th>\n",
       "      <td>20.0</td>\n",
       "      <td>179926.0</td>\n",
       "      <td>36147.0</td>\n",
       "      <td>5.0</td>\n",
       "      <td>5.0</td>\n",
       "      <td>diesel</td>\n",
       "      <td>automatic</td>\n",
       "      <td>235.0</td>\n",
       "      <td>2017-03-11 23:58:19.200</td>\n",
       "    </tr>\n",
       "    <tr>\n",
       "      <th>59998</th>\n",
       "      <td>11.0</td>\n",
       "      <td>110939.0</td>\n",
       "      <td>32167.0</td>\n",
       "      <td>2.0</td>\n",
       "      <td>4.0</td>\n",
       "      <td>diesel</td>\n",
       "      <td>manual</td>\n",
       "      <td>2967.0</td>\n",
       "      <td>2017-03-11 23:58:52.800</td>\n",
       "    </tr>\n",
       "    <tr>\n",
       "      <th>59999</th>\n",
       "      <td>4.0</td>\n",
       "      <td>29436.0</td>\n",
       "      <td>28090.0</td>\n",
       "      <td>1.0</td>\n",
       "      <td>3.0</td>\n",
       "      <td>electric</td>\n",
       "      <td>manual</td>\n",
       "      <td>13915.0</td>\n",
       "      <td>2017-03-11 23:59:26.400</td>\n",
       "    </tr>\n",
       "  </tbody>\n",
       "</table>\n",
       "<p>60000 rows × 9 columns</p>\n",
       "</div>"
      ],
      "text/plain": [
       "       car_age  km_driven  price_new  accident_count  door_count      fuel  \\\n",
       "0          9.0    96276.0    36603.0             4.0         4.0       gas   \n",
       "1         12.0    25303.0    22210.0             2.0         5.0       gas   \n",
       "2         11.0   143756.0    23364.0             1.0         4.0       gas   \n",
       "3         10.0    88496.0    37141.0             5.0         3.0  electric   \n",
       "4         18.0   110028.0    43042.0             1.0         4.0       gas   \n",
       "...        ...        ...        ...             ...         ...       ...   \n",
       "59995     15.0    72295.0    21224.0             1.0         3.0       gas   \n",
       "59996      9.0   151645.0    32785.0             3.0         5.0    diesel   \n",
       "59997     20.0   179926.0    36147.0             5.0         5.0    diesel   \n",
       "59998     11.0   110939.0    32167.0             2.0         4.0    diesel   \n",
       "59999      4.0    29436.0    28090.0             1.0         3.0  electric   \n",
       "\n",
       "      transmission   y_pred                timestamp  \n",
       "0           manual   3785.0  2017-02-16 16:00:00.000  \n",
       "1           manual   4134.0  2017-02-16 16:00:33.600  \n",
       "2        automatic   2748.0  2017-02-16 16:01:07.200  \n",
       "3           manual   3488.0  2017-02-16 16:01:40.800  \n",
       "4           manual   3915.0  2017-02-16 16:02:14.400  \n",
       "...            ...      ...                      ...  \n",
       "59995       manual   3387.0  2017-03-11 23:57:12.000  \n",
       "59996    automatic   1619.0  2017-03-11 23:57:45.600  \n",
       "59997    automatic    235.0  2017-03-11 23:58:19.200  \n",
       "59998       manual   2967.0  2017-03-11 23:58:52.800  \n",
       "59999       manual  13915.0  2017-03-11 23:59:26.400  \n",
       "\n",
       "[60000 rows x 9 columns]"
      ]
     },
     "execution_count": 16,
     "metadata": {},
     "output_type": "execute_result"
    }
   ],
   "source": [
    "analysis_df"
   ]
  },
  {
   "attachments": {},
   "cell_type": "markdown",
   "metadata": {},
   "source": [
    "# Univariante Drift Detection"
   ]
  },
  {
   "cell_type": "code",
   "execution_count": 11,
   "metadata": {},
   "outputs": [
    {
     "ename": "InvalidArgumentsException",
     "evalue": "missing required columns '['y_true']' in data set:\n\tIndex(['car_age', 'km_driven', 'price_new', 'accident_count', 'door_count',\n       'fuel', 'transmission', 'y_pred', 'timestamp'],\n      dtype='object')",
     "output_type": "error",
     "traceback": [
      "\u001b[1;31m---------------------------------------------------------------------------\u001b[0m",
      "\u001b[1;31mFileNotFoundError\u001b[0m                         Traceback (most recent call last)",
      "File \u001b[1;32mc:\\Users\\jkick\\.conda\\envs\\housepricing\\lib\\site-packages\\nannyml\\usage_logging.py:208\u001b[0m, in \u001b[0;36mlog_usage.<locals>.logging_decorator.<locals>.logging_wrapper\u001b[1;34m(*args, **kwargs)\u001b[0m\n\u001b[0;32m    207\u001b[0m     \u001b[39m# log the event\u001b[39;00m\n\u001b[1;32m--> 208\u001b[0m     logger\u001b[39m.\u001b[39;49mlog(usage_event, md)\n\u001b[0;32m    209\u001b[0m \u001b[39mfinally\u001b[39;00m:\n",
      "File \u001b[1;32mc:\\Users\\jkick\\.conda\\envs\\housepricing\\lib\\site-packages\\nannyml\\usage_logging.py:102\u001b[0m, in \u001b[0;36mUsageLogger.log\u001b[1;34m(self, usage_event, metadata)\u001b[0m\n\u001b[0;32m    101\u001b[0m     metadata \u001b[39m=\u001b[39m {}\n\u001b[1;32m--> 102\u001b[0m \u001b[39mself\u001b[39;49m\u001b[39m.\u001b[39;49m_log(usage_event, metadata)\n\u001b[0;32m    103\u001b[0m \u001b[39mself\u001b[39m\u001b[39m.\u001b[39m_logger\u001b[39m.\u001b[39mdebug(\u001b[39mf\u001b[39m\u001b[39m\"\u001b[39m\u001b[39mlogged usage for event \u001b[39m\u001b[39m{\u001b[39;00musage_event\u001b[39m}\u001b[39;00m\u001b[39m with metadata \u001b[39m\u001b[39m{\u001b[39;00mmetadata\u001b[39m}\u001b[39;00m\u001b[39m\"\u001b[39m)\n",
      "File \u001b[1;32mc:\\Users\\jkick\\.conda\\envs\\housepricing\\lib\\site-packages\\nannyml\\usage_logging.py:132\u001b[0m, in \u001b[0;36mSegmentUsageTracker._log\u001b[1;34m(self, usage_event, metadata)\u001b[0m\n\u001b[0;32m    131\u001b[0m user_id \u001b[39m=\u001b[39m \u001b[39mstr\u001b[39m(uuid\u001b[39m.\u001b[39mUUID(\u001b[39mint\u001b[39m\u001b[39m=\u001b[39muuid\u001b[39m.\u001b[39mgetnode()))\n\u001b[1;32m--> 132\u001b[0m metadata\u001b[39m.\u001b[39mupdate(_get_system_information())\n\u001b[0;32m    133\u001b[0m segment_analytics\u001b[39m.\u001b[39mtrack(user_id, usage_event\u001b[39m.\u001b[39mvalue, metadata)\n",
      "File \u001b[1;32mc:\\Users\\jkick\\.conda\\envs\\housepricing\\lib\\site-packages\\nannyml\\usage_logging.py:223\u001b[0m, in \u001b[0;36m_get_system_information\u001b[1;34m()\u001b[0m\n\u001b[0;32m    220\u001b[0m \u001b[39mdef\u001b[39;00m \u001b[39m_get_system_information\u001b[39m() \u001b[39m-\u001b[39m\u001b[39m>\u001b[39m Dict[\u001b[39mstr\u001b[39m, Any]:\n\u001b[0;32m    221\u001b[0m     \u001b[39mreturn\u001b[39;00m {\n\u001b[0;32m    222\u001b[0m         \u001b[39m\"\u001b[39m\u001b[39mos_type\u001b[39m\u001b[39m\"\u001b[39m: platform\u001b[39m.\u001b[39msystem(),\n\u001b[1;32m--> 223\u001b[0m         \u001b[39m\"\u001b[39m\u001b[39mruntime_environment\u001b[39m\u001b[39m\"\u001b[39m: _get_runtime_environment(),\n\u001b[0;32m    224\u001b[0m         \u001b[39m\"\u001b[39m\u001b[39mpython_version\u001b[39m\u001b[39m\"\u001b[39m: platform\u001b[39m.\u001b[39mpython_version(),\n\u001b[0;32m    225\u001b[0m         \u001b[39m\"\u001b[39m\u001b[39mnannyml_version\u001b[39m\u001b[39m\"\u001b[39m: __version__,\n\u001b[0;32m    226\u001b[0m     }\n",
      "File \u001b[1;32mc:\\Users\\jkick\\.conda\\envs\\housepricing\\lib\\site-packages\\nannyml\\usage_logging.py:230\u001b[0m, in \u001b[0;36m_get_runtime_environment\u001b[1;34m()\u001b[0m\n\u001b[0;32m    229\u001b[0m \u001b[39mdef\u001b[39;00m \u001b[39m_get_runtime_environment\u001b[39m():\n\u001b[1;32m--> 230\u001b[0m     \u001b[39mif\u001b[39;00m _is_running_in_docker():\n\u001b[0;32m    231\u001b[0m         \u001b[39mreturn\u001b[39;00m \u001b[39m'\u001b[39m\u001b[39mdocker\u001b[39m\u001b[39m'\u001b[39m\n",
      "File \u001b[1;32mc:\\Users\\jkick\\.conda\\envs\\housepricing\\lib\\site-packages\\nannyml\\usage_logging.py:243\u001b[0m, in \u001b[0;36m_is_running_in_docker\u001b[1;34m()\u001b[0m\n\u001b[0;32m    241\u001b[0m     \u001b[39mreturn\u001b[39;00m \u001b[39mTrue\u001b[39;00m\n\u001b[1;32m--> 243\u001b[0m \u001b[39mif\u001b[39;00m \u001b[39many\u001b[39m(\u001b[39m'\u001b[39m\u001b[39mdocker\u001b[39m\u001b[39m'\u001b[39m \u001b[39min\u001b[39;00m line \u001b[39mfor\u001b[39;00m line \u001b[39min\u001b[39;00m Path(\u001b[39m'\u001b[39;49m\u001b[39m/proc/self/cgroup\u001b[39;49m\u001b[39m'\u001b[39;49m)\u001b[39m.\u001b[39;49mopen()):\n\u001b[0;32m    244\u001b[0m     \u001b[39mreturn\u001b[39;00m \u001b[39mTrue\u001b[39;00m\n",
      "File \u001b[1;32mc:\\Users\\jkick\\.conda\\envs\\housepricing\\lib\\pathlib.py:1252\u001b[0m, in \u001b[0;36mPath.open\u001b[1;34m(self, mode, buffering, encoding, errors, newline)\u001b[0m\n\u001b[0;32m   1248\u001b[0m \u001b[39m\u001b[39m\u001b[39m\"\"\"\u001b[39;00m\n\u001b[0;32m   1249\u001b[0m \u001b[39mOpen the file pointed by this path and return a file object, as\u001b[39;00m\n\u001b[0;32m   1250\u001b[0m \u001b[39mthe built-in open() function does.\u001b[39;00m\n\u001b[0;32m   1251\u001b[0m \u001b[39m\"\"\"\u001b[39;00m\n\u001b[1;32m-> 1252\u001b[0m \u001b[39mreturn\u001b[39;00m io\u001b[39m.\u001b[39;49mopen(\u001b[39mself\u001b[39;49m, mode, buffering, encoding, errors, newline,\n\u001b[0;32m   1253\u001b[0m                opener\u001b[39m=\u001b[39;49m\u001b[39mself\u001b[39;49m\u001b[39m.\u001b[39;49m_opener)\n",
      "File \u001b[1;32mc:\\Users\\jkick\\.conda\\envs\\housepricing\\lib\\pathlib.py:1120\u001b[0m, in \u001b[0;36mPath._opener\u001b[1;34m(self, name, flags, mode)\u001b[0m\n\u001b[0;32m   1118\u001b[0m \u001b[39mdef\u001b[39;00m \u001b[39m_opener\u001b[39m(\u001b[39mself\u001b[39m, name, flags, mode\u001b[39m=\u001b[39m\u001b[39m0o666\u001b[39m):\n\u001b[0;32m   1119\u001b[0m     \u001b[39m# A stub for the opener argument to built-in open()\u001b[39;00m\n\u001b[1;32m-> 1120\u001b[0m     \u001b[39mreturn\u001b[39;00m \u001b[39mself\u001b[39;49m\u001b[39m.\u001b[39;49m_accessor\u001b[39m.\u001b[39;49mopen(\u001b[39mself\u001b[39;49m, flags, mode)\n",
      "\u001b[1;31mFileNotFoundError\u001b[0m: [Errno 2] No such file or directory: '\\\\proc\\\\self\\\\cgroup'",
      "\nDuring handling of the above exception, another exception occurred:\n",
      "\u001b[1;31mInvalidArgumentsException\u001b[0m                 Traceback (most recent call last)",
      "Cell \u001b[1;32mIn[11], line 11\u001b[0m\n\u001b[0;32m      1\u001b[0m univariate_calculator \u001b[39m=\u001b[39m nml\u001b[39m.\u001b[39mUnivariateDriftCalculator(\n\u001b[0;32m      2\u001b[0m     column_names\u001b[39m=\u001b[39mcolumn_names,\n\u001b[0;32m      3\u001b[0m     treat_as_categorical\u001b[39m=\u001b[39m[\u001b[39m'\u001b[39m\u001b[39my_pred\u001b[39m\u001b[39m'\u001b[39m],\n\u001b[1;32m   (...)\u001b[0m\n\u001b[0;32m      7\u001b[0m     chunk_size\u001b[39m=\u001b[39m\u001b[39m5000\u001b[39m,\n\u001b[0;32m      8\u001b[0m )\n\u001b[0;32m     10\u001b[0m univariate_calculator\u001b[39m.\u001b[39mfit(reference_df)\n\u001b[1;32m---> 11\u001b[0m results \u001b[39m=\u001b[39m univariate_calculator\u001b[39m.\u001b[39;49mcalculate(analysis_df)\n\u001b[0;32m     12\u001b[0m display(results\u001b[39m.\u001b[39mfilter(period\u001b[39m=\u001b[39m\u001b[39m'\u001b[39m\u001b[39manalysis\u001b[39m\u001b[39m'\u001b[39m, column_names\u001b[39m=\u001b[39m[\u001b[39m'\u001b[39m\u001b[39mkm_driven\u001b[39m\u001b[39m'\u001b[39m])\u001b[39m.\u001b[39mto_df())\n",
      "File \u001b[1;32mc:\\Users\\jkick\\.conda\\envs\\housepricing\\lib\\site-packages\\nannyml\\base.py:367\u001b[0m, in \u001b[0;36mAbstractCalculator.calculate\u001b[1;34m(self, data, *args, **kwargs)\u001b[0m\n\u001b[0;32m    365\u001b[0m     \u001b[39mself\u001b[39m\u001b[39m.\u001b[39m_logger\u001b[39m.\u001b[39mdebug(\u001b[39mf\u001b[39m\u001b[39m\"\u001b[39m\u001b[39mcalculating \u001b[39m\u001b[39m{\u001b[39;00m\u001b[39mstr\u001b[39m(\u001b[39mself\u001b[39m)\u001b[39m}\u001b[39;00m\u001b[39m\"\u001b[39m)\n\u001b[0;32m    366\u001b[0m     data \u001b[39m=\u001b[39m data\u001b[39m.\u001b[39mcopy()\n\u001b[1;32m--> 367\u001b[0m     \u001b[39mreturn\u001b[39;00m \u001b[39mself\u001b[39m\u001b[39m.\u001b[39m_calculate(data, \u001b[39m*\u001b[39margs, \u001b[39m*\u001b[39m\u001b[39m*\u001b[39mkwargs)\n\u001b[0;32m    368\u001b[0m \u001b[39mexcept\u001b[39;00m InvalidArgumentsException:\n\u001b[0;32m    369\u001b[0m     \u001b[39mraise\u001b[39;00m\n",
      "File \u001b[1;32mc:\\Users\\jkick\\.conda\\envs\\housepricing\\lib\\site-packages\\nannyml\\usage_logging.py:211\u001b[0m, in \u001b[0;36mlog_usage.<locals>.logging_decorator.<locals>.logging_wrapper\u001b[1;34m(*args, **kwargs)\u001b[0m\n\u001b[0;32m    209\u001b[0m \u001b[39mfinally\u001b[39;00m:\n\u001b[0;32m    210\u001b[0m     \u001b[39mif\u001b[39;00m runtime_exception \u001b[39mis\u001b[39;00m \u001b[39mnot\u001b[39;00m \u001b[39mNone\u001b[39;00m:\n\u001b[1;32m--> 211\u001b[0m         \u001b[39mraise\u001b[39;00m runtime_exception\n\u001b[0;32m    212\u001b[0m     \u001b[39melse\u001b[39;00m:\n\u001b[0;32m    213\u001b[0m         \u001b[39mreturn\u001b[39;00m res\n",
      "File \u001b[1;32mc:\\Users\\jkick\\.conda\\envs\\housepricing\\lib\\site-packages\\nannyml\\usage_logging.py:160\u001b[0m, in \u001b[0;36mlog_usage.<locals>.logging_decorator.<locals>.logging_wrapper\u001b[1;34m(*args, **kwargs)\u001b[0m\n\u001b[0;32m    157\u001b[0m runtime_exception \u001b[39m=\u001b[39m \u001b[39mNone\u001b[39;00m\n\u001b[0;32m    158\u001b[0m \u001b[39mtry\u001b[39;00m:\n\u001b[0;32m    159\u001b[0m     \u001b[39m# run original function\u001b[39;00m\n\u001b[1;32m--> 160\u001b[0m     res \u001b[39m=\u001b[39m func(\u001b[39m*\u001b[39margs, \u001b[39m*\u001b[39m\u001b[39m*\u001b[39mkwargs)\n\u001b[0;32m    161\u001b[0m \u001b[39mexcept\u001b[39;00m \u001b[39mBaseException\u001b[39;00m \u001b[39mas\u001b[39;00m exc:\n\u001b[0;32m    162\u001b[0m     runtime_exception \u001b[39m=\u001b[39m exc\n",
      "File \u001b[1;32mc:\\Users\\jkick\\.conda\\envs\\housepricing\\lib\\site-packages\\nannyml\\drift\\univariate\\calculator.py:317\u001b[0m, in \u001b[0;36mUnivariateDriftCalculator._calculate\u001b[1;34m(self, data, *args, **kwargs)\u001b[0m\n\u001b[0;32m    314\u001b[0m \u001b[39mif\u001b[39;00m data\u001b[39m.\u001b[39mempty:\n\u001b[0;32m    315\u001b[0m     \u001b[39mraise\u001b[39;00m InvalidArgumentsException(\u001b[39m'\u001b[39m\u001b[39mdata contains no rows. Please provide a valid data set.\u001b[39m\u001b[39m'\u001b[39m)\n\u001b[1;32m--> 317\u001b[0m _list_missing(\u001b[39mself\u001b[39;49m\u001b[39m.\u001b[39;49mcolumn_names, data)\n\u001b[0;32m    319\u001b[0m chunks \u001b[39m=\u001b[39m \u001b[39mself\u001b[39m\u001b[39m.\u001b[39mchunker\u001b[39m.\u001b[39msplit(data)\n\u001b[0;32m    321\u001b[0m rows \u001b[39m=\u001b[39m []\n",
      "File \u001b[1;32mc:\\Users\\jkick\\.conda\\envs\\housepricing\\lib\\site-packages\\nannyml\\base.py:570\u001b[0m, in \u001b[0;36m_list_missing\u001b[1;34m(columns_to_find, dataset_columns)\u001b[0m\n\u001b[0;32m    568\u001b[0m missing \u001b[39m=\u001b[39m [col \u001b[39mfor\u001b[39;00m col \u001b[39min\u001b[39;00m columns_to_find \u001b[39mif\u001b[39;00m col \u001b[39mnot\u001b[39;00m \u001b[39min\u001b[39;00m dataset_columns]\n\u001b[0;32m    569\u001b[0m \u001b[39mif\u001b[39;00m missing:\n\u001b[1;32m--> 570\u001b[0m     \u001b[39mraise\u001b[39;00m InvalidArgumentsException(\u001b[39mf\u001b[39m\u001b[39m\"\u001b[39m\u001b[39mmissing required columns \u001b[39m\u001b[39m'\u001b[39m\u001b[39m{\u001b[39;00mmissing\u001b[39m}\u001b[39;00m\u001b[39m'\u001b[39m\u001b[39m in data set:\u001b[39m\u001b[39m\\n\u001b[39;00m\u001b[39m\\t\u001b[39;00m\u001b[39m{\u001b[39;00mdataset_columns\u001b[39m}\u001b[39;00m\u001b[39m\"\u001b[39m)\n",
      "\u001b[1;31mInvalidArgumentsException\u001b[0m: missing required columns '['y_true']' in data set:\n\tIndex(['car_age', 'km_driven', 'price_new', 'accident_count', 'door_count',\n       'fuel', 'transmission', 'y_pred', 'timestamp'],\n      dtype='object')"
     ]
    }
   ],
   "source": [
    "univariate_calculator = nml.UnivariateDriftCalculator(\n",
    "    column_names=column_names,\n",
    "    treat_as_categorical=['y_pred'],\n",
    "    timestamp_column_name=None,\n",
    "    continuous_methods=['kolmogorov_smirnov', 'jensen_shannon'],\n",
    "    categorical_methods=['chi2', 'jensen_shannon'],\n",
    "    chunk_size=5000,\n",
    ")\n",
    "\n",
    "univariate_calculator.fit(reference_df)\n",
    "results = univariate_calculator.calculate(analysis_df)\n",
    "display(results.filter(period='analysis', column_names=['km_driven']).to_df())"
   ]
  },
  {
   "attachments": {},
   "cell_type": "markdown",
   "metadata": {},
   "source": [
    "## Continuous"
   ]
  },
  {
   "attachments": {},
   "cell_type": "markdown",
   "metadata": {},
   "source": [
    "Jensen-Shannon Distance"
   ]
  },
  {
   "cell_type": "code",
   "execution_count": 17,
   "metadata": {},
   "outputs": [
    {
     "data": {
      "application/vnd.plotly.v1+json": {
       "config": {
        "plotlyServerURL": "https://plot.ly"
       },
       "data": [
        {
         "hoverinfo": "skip",
         "legendgroup": "metric_reference",
         "line": {
          "color": "#00c8e5",
          "shape": "hv",
          "width": 2
         },
         "mode": "lines",
         "name": "Method",
         "showlegend": true,
         "type": "scatter",
         "x": [
          "2018-01-01T00:00:00",
          "2018-01-31T06:36:00",
          "2018-03-02T13:12:00",
          "2018-04-01T19:48:00",
          "2018-05-02T02:24:00",
          "2018-06-01T09:00:00",
          "2018-07-01T15:36:00",
          "2018-07-31T22:12:00",
          "2018-08-31T04:48:00",
          "2018-09-30T11:24:00",
          "2018-10-30T17:51:16.848000"
         ],
         "xaxis": "x",
         "y": [
          0.02967360070500397,
          0.023784644458074305,
          0.026468508018645545,
          0.021746829453960774,
          0.02410804128082706,
          0.027558736021178053,
          0.026781750785569228,
          0.03121311397206547,
          0.027301260076747783,
          0.02969816753234162,
          0.02969816753234162
         ],
         "yaxis": "y"
        },
        {
         "customdata": [
          [
           "Jensen-Shannon distance for <b>car_value</b>",
           "<b style=\"color:#00c8e5;line-height:60px\">Reference</b>",
           "",
           "[0:4999]",
           "From <b>Jan-01-2018</b> to <b>Jan-31-2018</b>",
           0.0297
          ],
          [
           "Jensen-Shannon distance for <b>car_value</b>",
           "<b style=\"color:#00c8e5;line-height:60px\">Reference</b>",
           "",
           "[5000:9999]",
           "From <b>Jan-31-2018</b> to <b>Mar-02-2018</b>",
           0.0238
          ],
          [
           "Jensen-Shannon distance for <b>car_value</b>",
           "<b style=\"color:#00c8e5;line-height:60px\">Reference</b>",
           "",
           "[10000:14999]",
           "From <b>Mar-02-2018</b> to <b>Apr-01-2018</b>",
           0.0265
          ],
          [
           "Jensen-Shannon distance for <b>car_value</b>",
           "<b style=\"color:#00c8e5;line-height:60px\">Reference</b>",
           "",
           "[15000:19999]",
           "From <b>Apr-01-2018</b> to <b>May-02-2018</b>",
           0.0217
          ],
          [
           "Jensen-Shannon distance for <b>car_value</b>",
           "<b style=\"color:#00c8e5;line-height:60px\">Reference</b>",
           "",
           "[20000:24999]",
           "From <b>May-02-2018</b> to <b>Jun-01-2018</b>",
           0.0241
          ],
          [
           "Jensen-Shannon distance for <b>car_value</b>",
           "<b style=\"color:#00c8e5;line-height:60px\">Reference</b>",
           "",
           "[25000:29999]",
           "From <b>Jun-01-2018</b> to <b>Jul-01-2018</b>",
           0.0276
          ],
          [
           "Jensen-Shannon distance for <b>car_value</b>",
           "<b style=\"color:#00c8e5;line-height:60px\">Reference</b>",
           "",
           "[30000:34999]",
           "From <b>Jul-01-2018</b> to <b>Jul-31-2018</b>",
           0.0268
          ],
          [
           "Jensen-Shannon distance for <b>car_value</b>",
           "<b style=\"color:#00c8e5;line-height:60px\">Reference</b>",
           "",
           "[35000:39999]",
           "From <b>Jul-31-2018</b> to <b>Aug-31-2018</b>",
           0.0312
          ],
          [
           "Jensen-Shannon distance for <b>car_value</b>",
           "<b style=\"color:#00c8e5;line-height:60px\">Reference</b>",
           "",
           "[40000:44999]",
           "From <b>Aug-31-2018</b> to <b>Sep-30-2018</b>",
           0.0273
          ],
          [
           "Jensen-Shannon distance for <b>car_value</b>",
           "<b style=\"color:#00c8e5;line-height:60px\">Reference</b>",
           "",
           "[45000:49999]",
           "From <b>Sep-30-2018</b> to <b>Oct-30-2018</b>",
           0.0297
          ]
         ],
         "hovertemplate": "%{customdata[1]} &nbsp; &nbsp; %{customdata[2]} <br />Chunk: <b>%{customdata[3]}</b> &nbsp; &nbsp; %{customdata[4]} <br />%{customdata[0]}: <b>%{customdata[5]}</b><b r /><extra></extra>",
         "legendgroup": "metric_reference",
         "marker": {
          "color": "#00c8e5",
          "size": 5,
          "symbol": "circle"
         },
         "mode": "markers",
         "name": "Method",
         "showlegend": false,
         "type": "scatter",
         "x": [
          "2018-01-16T03:18:00",
          "2018-02-15T09:54:00",
          "2018-03-17T16:30:00",
          "2018-04-16T23:06:00",
          "2018-05-17T05:42:00",
          "2018-06-16T12:18:00",
          "2018-07-16T18:54:00",
          "2018-08-16T01:30:00",
          "2018-09-15T08:06:00",
          "2018-10-15T14:37:38.424000"
         ],
         "xaxis": "x",
         "y": [
          0.02967360070500397,
          0.023784644458074305,
          0.026468508018645545,
          0.021746829453960774,
          0.02410804128082706,
          0.027558736021178053,
          0.026781750785569228,
          0.03121311397206547,
          0.027301260076747783,
          0.02969816753234162,
          0.02969816753234162
         ],
         "yaxis": "y"
        },
        {
         "hoverinfo": "skip",
         "legendgroup": "metric_analysis",
         "line": {
          "color": "#00c8e5",
          "shape": "hv",
          "width": 2
         },
         "mode": "lines",
         "name": "Method",
         "showlegend": false,
         "type": "scatter",
         "x": [
          "2018-10-30T18:00:00",
          "2018-11-30T00:36:00",
          "2018-12-30T07:12:00",
          "2019-01-29T13:48:00",
          "2019-02-28T20:24:00",
          "2019-03-31T03:00:00",
          "2019-04-30T09:36:00",
          "2019-05-30T16:12:00",
          "2019-06-29T22:48:00",
          "2019-07-30T05:24:00",
          "2019-08-29T11:51:16.848000"
         ],
         "xaxis": "x",
         "y": [
          0.026193454721509024,
          0.02017777969372546,
          0.021018416680595817,
          0.03635535764410502,
          0.028711899303875733,
          0.4647594880061962,
          0.460056507220431,
          0.4667772829854866,
          0.46619869516426776,
          0.46782687153282126,
          0.46782687153282126
         ],
         "yaxis": "y"
        },
        {
         "customdata": [
          [
           "Jensen-Shannon distance for <b>car_value</b>",
           "<b style=\"color:#00c8e5;line-height:60px\">Analysis</b>",
           "",
           "[0:4999]",
           "From <b>Oct-30-2018</b> to <b>Nov-30-2018</b>",
           0.0262
          ],
          [
           "Jensen-Shannon distance for <b>car_value</b>",
           "<b style=\"color:#00c8e5;line-height:60px\">Analysis</b>",
           "",
           "[5000:9999]",
           "From <b>Nov-30-2018</b> to <b>Dec-30-2018</b>",
           0.0202
          ],
          [
           "Jensen-Shannon distance for <b>car_value</b>",
           "<b style=\"color:#00c8e5;line-height:60px\">Analysis</b>",
           "",
           "[10000:14999]",
           "From <b>Dec-30-2018</b> to <b>Jan-29-2019</b>",
           0.021
          ],
          [
           "Jensen-Shannon distance for <b>car_value</b>",
           "<b style=\"color:#00c8e5;line-height:60px\">Analysis</b>",
           "",
           "[15000:19999]",
           "From <b>Jan-29-2019</b> to <b>Feb-28-2019</b>",
           0.0364
          ],
          [
           "Jensen-Shannon distance for <b>car_value</b>",
           "<b style=\"color:#00c8e5;line-height:60px\">Analysis</b>",
           "",
           "[20000:24999]",
           "From <b>Feb-28-2019</b> to <b>Mar-31-2019</b>",
           0.0287
          ],
          [
           "Jensen-Shannon distance for <b>car_value</b>",
           "<b style=\"color:#00c8e5;line-height:60px\">Analysis</b>",
           "<span style=\"color:#AD0000\">⚠ <b>Drift detected</b></span>",
           "[25000:29999]",
           "From <b>Mar-31-2019</b> to <b>Apr-30-2019</b>",
           0.4648
          ],
          [
           "Jensen-Shannon distance for <b>car_value</b>",
           "<b style=\"color:#00c8e5;line-height:60px\">Analysis</b>",
           "<span style=\"color:#AD0000\">⚠ <b>Drift detected</b></span>",
           "[30000:34999]",
           "From <b>Apr-30-2019</b> to <b>May-30-2019</b>",
           0.4601
          ],
          [
           "Jensen-Shannon distance for <b>car_value</b>",
           "<b style=\"color:#00c8e5;line-height:60px\">Analysis</b>",
           "<span style=\"color:#AD0000\">⚠ <b>Drift detected</b></span>",
           "[35000:39999]",
           "From <b>May-30-2019</b> to <b>Jun-29-2019</b>",
           0.4668
          ],
          [
           "Jensen-Shannon distance for <b>car_value</b>",
           "<b style=\"color:#00c8e5;line-height:60px\">Analysis</b>",
           "<span style=\"color:#AD0000\">⚠ <b>Drift detected</b></span>",
           "[40000:44999]",
           "From <b>Jun-29-2019</b> to <b>Jul-30-2019</b>",
           0.4662
          ],
          [
           "Jensen-Shannon distance for <b>car_value</b>",
           "<b style=\"color:#00c8e5;line-height:60px\">Analysis</b>",
           "<span style=\"color:#AD0000\">⚠ <b>Drift detected</b></span>",
           "[45000:49999]",
           "From <b>Jul-30-2019</b> to <b>Aug-29-2019</b>",
           0.4678
          ]
         ],
         "hovertemplate": "%{customdata[1]} &nbsp; &nbsp; %{customdata[2]} <br />Chunk: <b>%{customdata[3]}</b> &nbsp; &nbsp; %{customdata[4]} <br />%{customdata[0]}: <b>%{customdata[5]}</b><b r /><extra></extra>",
         "legendgroup": "metric_analysis",
         "marker": {
          "color": "#00c8e5",
          "size": 5,
          "symbol": "circle"
         },
         "mode": "markers",
         "name": "Method",
         "showlegend": false,
         "type": "scatter",
         "x": [
          "2018-11-14T21:18:00",
          "2018-12-15T03:54:00",
          "2019-01-14T10:30:00",
          "2019-02-13T17:06:00",
          "2019-03-15T23:42:00",
          "2019-04-15T06:18:00",
          "2019-05-15T12:54:00",
          "2019-06-14T19:30:00",
          "2019-07-15T02:06:00",
          "2019-08-14T08:37:38.424000"
         ],
         "xaxis": "x",
         "y": [
          0.026193454721509024,
          0.02017777969372546,
          0.021018416680595817,
          0.03635535764410502,
          0.028711899303875733,
          0.4647594880061962,
          0.460056507220431,
          0.4667772829854866,
          0.46619869516426776,
          0.46782687153282126,
          0.46782687153282126
         ],
         "yaxis": "y"
        },
        {
         "hoverinfo": "skip",
         "legendgroup": "alert",
         "marker": {
          "color": "#DD4040",
          "size": 8,
          "symbol": "diamond"
         },
         "mode": "markers",
         "name": "Alert",
         "showlegend": true,
         "type": "scatter",
         "x": [
          "2019-04-15T06:18:00",
          "2019-05-15T12:54:00",
          "2019-06-14T19:30:00",
          "2019-07-15T02:06:00",
          "2019-08-14T08:37:38.424000"
         ],
         "xaxis": "x",
         "y": [
          0.4647594880061962,
          0.460056507220431,
          0.4667772829854866,
          0.46619869516426776,
          0.46782687153282126
         ],
         "yaxis": "y"
        },
        {
         "hoverinfo": "skip",
         "legendgroup": "thresh",
         "line": {
          "color": "#DD4040",
          "dash": "dash",
          "width": 2
         },
         "mode": "lines",
         "name": "Threshold",
         "showlegend": true,
         "type": "scatter",
         "x": [
          "2018-01-01T00:00:00",
          "2018-01-31T06:36:00",
          "2018-03-02T13:12:00",
          "2018-04-01T19:48:00",
          "2018-05-02T02:24:00",
          "2018-06-01T09:00:00",
          "2018-07-01T15:36:00",
          "2018-07-31T22:12:00",
          "2018-08-31T04:48:00",
          "2018-09-30T11:24:00",
          "2018-10-30T17:51:16.848000"
         ],
         "xaxis": "x",
         "y": [
          0.1,
          0.1,
          0.1,
          0.1,
          0.1,
          0.1,
          0.1,
          0.1,
          0.1,
          0.1,
          0.1
         ],
         "yaxis": "y"
        },
        {
         "hoverinfo": "skip",
         "legendgroup": "thresh",
         "line": {
          "color": "#DD4040",
          "dash": "dash",
          "width": 2
         },
         "mode": "lines",
         "name": "Threshold",
         "showlegend": false,
         "type": "scatter",
         "x": [
          "2018-10-30T18:00:00",
          "2018-11-30T00:36:00",
          "2018-12-30T07:12:00",
          "2019-01-29T13:48:00",
          "2019-02-28T20:24:00",
          "2019-03-31T03:00:00",
          "2019-04-30T09:36:00",
          "2019-05-30T16:12:00",
          "2019-06-29T22:48:00",
          "2019-07-30T05:24:00",
          "2019-08-29T11:51:16.848000"
         ],
         "xaxis": "x",
         "y": [
          0.1,
          0.1,
          0.1,
          0.1,
          0.1,
          0.1,
          0.1,
          0.1,
          0.1,
          0.1,
          0.1
         ],
         "yaxis": "y"
        },
        {
         "hoverinfo": "skip",
         "legendgroup": "metric_reference",
         "line": {
          "color": "#00c8e5",
          "shape": "hv",
          "width": 2
         },
         "mode": "lines",
         "name": "Method",
         "showlegend": false,
         "type": "scatter",
         "x": [
          "2018-01-01T00:00:00",
          "2018-01-31T06:36:00",
          "2018-03-02T13:12:00",
          "2018-04-01T19:48:00",
          "2018-05-02T02:24:00",
          "2018-06-01T09:00:00",
          "2018-07-01T15:36:00",
          "2018-07-31T22:12:00",
          "2018-08-31T04:48:00",
          "2018-09-30T11:24:00",
          "2018-10-30T17:51:16.848000"
         ],
         "xaxis": "x2",
         "y": [
          0.033367857677403266,
          0.028066020036512592,
          0.022596926180234678,
          0.031586905295173266,
          0.031050064934878954,
          0.03164792099924901,
          0.02580142874637961,
          0.032509787383109244,
          0.02489746669061259,
          0.028474237158757677,
          0.028474237158757677
         ],
         "yaxis": "y2"
        },
        {
         "customdata": [
          [
           "Jensen-Shannon distance for <b>debt_to_income_ratio</b>",
           "<b style=\"color:#00c8e5;line-height:60px\">Reference</b>",
           "",
           "[0:4999]",
           "From <b>Jan-01-2018</b> to <b>Jan-31-2018</b>",
           0.0334
          ],
          [
           "Jensen-Shannon distance for <b>debt_to_income_ratio</b>",
           "<b style=\"color:#00c8e5;line-height:60px\">Reference</b>",
           "",
           "[5000:9999]",
           "From <b>Jan-31-2018</b> to <b>Mar-02-2018</b>",
           0.0281
          ],
          [
           "Jensen-Shannon distance for <b>debt_to_income_ratio</b>",
           "<b style=\"color:#00c8e5;line-height:60px\">Reference</b>",
           "",
           "[10000:14999]",
           "From <b>Mar-02-2018</b> to <b>Apr-01-2018</b>",
           0.0226
          ],
          [
           "Jensen-Shannon distance for <b>debt_to_income_ratio</b>",
           "<b style=\"color:#00c8e5;line-height:60px\">Reference</b>",
           "",
           "[15000:19999]",
           "From <b>Apr-01-2018</b> to <b>May-02-2018</b>",
           0.0316
          ],
          [
           "Jensen-Shannon distance for <b>debt_to_income_ratio</b>",
           "<b style=\"color:#00c8e5;line-height:60px\">Reference</b>",
           "",
           "[20000:24999]",
           "From <b>May-02-2018</b> to <b>Jun-01-2018</b>",
           0.0311
          ],
          [
           "Jensen-Shannon distance for <b>debt_to_income_ratio</b>",
           "<b style=\"color:#00c8e5;line-height:60px\">Reference</b>",
           "",
           "[25000:29999]",
           "From <b>Jun-01-2018</b> to <b>Jul-01-2018</b>",
           0.0316
          ],
          [
           "Jensen-Shannon distance for <b>debt_to_income_ratio</b>",
           "<b style=\"color:#00c8e5;line-height:60px\">Reference</b>",
           "",
           "[30000:34999]",
           "From <b>Jul-01-2018</b> to <b>Jul-31-2018</b>",
           0.0258
          ],
          [
           "Jensen-Shannon distance for <b>debt_to_income_ratio</b>",
           "<b style=\"color:#00c8e5;line-height:60px\">Reference</b>",
           "",
           "[35000:39999]",
           "From <b>Jul-31-2018</b> to <b>Aug-31-2018</b>",
           0.0325
          ],
          [
           "Jensen-Shannon distance for <b>debt_to_income_ratio</b>",
           "<b style=\"color:#00c8e5;line-height:60px\">Reference</b>",
           "",
           "[40000:44999]",
           "From <b>Aug-31-2018</b> to <b>Sep-30-2018</b>",
           0.0249
          ],
          [
           "Jensen-Shannon distance for <b>debt_to_income_ratio</b>",
           "<b style=\"color:#00c8e5;line-height:60px\">Reference</b>",
           "",
           "[45000:49999]",
           "From <b>Sep-30-2018</b> to <b>Oct-30-2018</b>",
           0.0285
          ]
         ],
         "hovertemplate": "%{customdata[1]} &nbsp; &nbsp; %{customdata[2]} <br />Chunk: <b>%{customdata[3]}</b> &nbsp; &nbsp; %{customdata[4]} <br />%{customdata[0]}: <b>%{customdata[5]}</b><b r /><extra></extra>",
         "legendgroup": "metric_reference",
         "marker": {
          "color": "#00c8e5",
          "size": 5,
          "symbol": "circle"
         },
         "mode": "markers",
         "name": "Method",
         "showlegend": false,
         "type": "scatter",
         "x": [
          "2018-01-16T03:18:00",
          "2018-02-15T09:54:00",
          "2018-03-17T16:30:00",
          "2018-04-16T23:06:00",
          "2018-05-17T05:42:00",
          "2018-06-16T12:18:00",
          "2018-07-16T18:54:00",
          "2018-08-16T01:30:00",
          "2018-09-15T08:06:00",
          "2018-10-15T14:37:38.424000"
         ],
         "xaxis": "x2",
         "y": [
          0.033367857677403266,
          0.028066020036512592,
          0.022596926180234678,
          0.031586905295173266,
          0.031050064934878954,
          0.03164792099924901,
          0.02580142874637961,
          0.032509787383109244,
          0.02489746669061259,
          0.028474237158757677,
          0.028474237158757677
         ],
         "yaxis": "y2"
        },
        {
         "hoverinfo": "skip",
         "legendgroup": "metric_analysis",
         "line": {
          "color": "#00c8e5",
          "shape": "hv",
          "width": 2
         },
         "mode": "lines",
         "name": "Method",
         "showlegend": false,
         "type": "scatter",
         "x": [
          "2018-10-30T18:00:00",
          "2018-11-30T00:36:00",
          "2018-12-30T07:12:00",
          "2019-01-29T13:48:00",
          "2019-02-28T20:24:00",
          "2019-03-31T03:00:00",
          "2019-04-30T09:36:00",
          "2019-05-30T16:12:00",
          "2019-06-29T22:48:00",
          "2019-07-30T05:24:00",
          "2019-08-29T11:51:16.848000"
         ],
         "xaxis": "x2",
         "y": [
          0.03166111352086121,
          0.030011260172367146,
          0.03112860558950313,
          0.0294644467601236,
          0.030809452222467264,
          0.028681053859207425,
          0.04362757932259971,
          0.029253341790829276,
          0.030627555864662055,
          0.028330268401837288,
          0.028330268401837288
         ],
         "yaxis": "y2"
        },
        {
         "customdata": [
          [
           "Jensen-Shannon distance for <b>debt_to_income_ratio</b>",
           "<b style=\"color:#00c8e5;line-height:60px\">Analysis</b>",
           "",
           "[0:4999]",
           "From <b>Oct-30-2018</b> to <b>Nov-30-2018</b>",
           0.0317
          ],
          [
           "Jensen-Shannon distance for <b>debt_to_income_ratio</b>",
           "<b style=\"color:#00c8e5;line-height:60px\">Analysis</b>",
           "",
           "[5000:9999]",
           "From <b>Nov-30-2018</b> to <b>Dec-30-2018</b>",
           0.03
          ],
          [
           "Jensen-Shannon distance for <b>debt_to_income_ratio</b>",
           "<b style=\"color:#00c8e5;line-height:60px\">Analysis</b>",
           "",
           "[10000:14999]",
           "From <b>Dec-30-2018</b> to <b>Jan-29-2019</b>",
           0.0311
          ],
          [
           "Jensen-Shannon distance for <b>debt_to_income_ratio</b>",
           "<b style=\"color:#00c8e5;line-height:60px\">Analysis</b>",
           "",
           "[15000:19999]",
           "From <b>Jan-29-2019</b> to <b>Feb-28-2019</b>",
           0.0295
          ],
          [
           "Jensen-Shannon distance for <b>debt_to_income_ratio</b>",
           "<b style=\"color:#00c8e5;line-height:60px\">Analysis</b>",
           "",
           "[20000:24999]",
           "From <b>Feb-28-2019</b> to <b>Mar-31-2019</b>",
           0.0308
          ],
          [
           "Jensen-Shannon distance for <b>debt_to_income_ratio</b>",
           "<b style=\"color:#00c8e5;line-height:60px\">Analysis</b>",
           "",
           "[25000:29999]",
           "From <b>Mar-31-2019</b> to <b>Apr-30-2019</b>",
           0.0287
          ],
          [
           "Jensen-Shannon distance for <b>debt_to_income_ratio</b>",
           "<b style=\"color:#00c8e5;line-height:60px\">Analysis</b>",
           "",
           "[30000:34999]",
           "From <b>Apr-30-2019</b> to <b>May-30-2019</b>",
           0.0436
          ],
          [
           "Jensen-Shannon distance for <b>debt_to_income_ratio</b>",
           "<b style=\"color:#00c8e5;line-height:60px\">Analysis</b>",
           "",
           "[35000:39999]",
           "From <b>May-30-2019</b> to <b>Jun-29-2019</b>",
           0.0293
          ],
          [
           "Jensen-Shannon distance for <b>debt_to_income_ratio</b>",
           "<b style=\"color:#00c8e5;line-height:60px\">Analysis</b>",
           "",
           "[40000:44999]",
           "From <b>Jun-29-2019</b> to <b>Jul-30-2019</b>",
           0.0306
          ],
          [
           "Jensen-Shannon distance for <b>debt_to_income_ratio</b>",
           "<b style=\"color:#00c8e5;line-height:60px\">Analysis</b>",
           "",
           "[45000:49999]",
           "From <b>Jul-30-2019</b> to <b>Aug-29-2019</b>",
           0.0283
          ]
         ],
         "hovertemplate": "%{customdata[1]} &nbsp; &nbsp; %{customdata[2]} <br />Chunk: <b>%{customdata[3]}</b> &nbsp; &nbsp; %{customdata[4]} <br />%{customdata[0]}: <b>%{customdata[5]}</b><b r /><extra></extra>",
         "legendgroup": "metric_analysis",
         "marker": {
          "color": "#00c8e5",
          "size": 5,
          "symbol": "circle"
         },
         "mode": "markers",
         "name": "Method",
         "showlegend": false,
         "type": "scatter",
         "x": [
          "2018-11-14T21:18:00",
          "2018-12-15T03:54:00",
          "2019-01-14T10:30:00",
          "2019-02-13T17:06:00",
          "2019-03-15T23:42:00",
          "2019-04-15T06:18:00",
          "2019-05-15T12:54:00",
          "2019-06-14T19:30:00",
          "2019-07-15T02:06:00",
          "2019-08-14T08:37:38.424000"
         ],
         "xaxis": "x2",
         "y": [
          0.03166111352086121,
          0.030011260172367146,
          0.03112860558950313,
          0.0294644467601236,
          0.030809452222467264,
          0.028681053859207425,
          0.04362757932259971,
          0.029253341790829276,
          0.030627555864662055,
          0.028330268401837288,
          0.028330268401837288
         ],
         "yaxis": "y2"
        },
        {
         "hoverinfo": "skip",
         "legendgroup": "alert",
         "marker": {
          "color": "#DD4040",
          "size": 8,
          "symbol": "diamond"
         },
         "mode": "markers",
         "name": "Alert",
         "showlegend": false,
         "type": "scatter",
         "x": [],
         "xaxis": "x2",
         "y": [],
         "yaxis": "y2"
        },
        {
         "hoverinfo": "skip",
         "legendgroup": "thresh",
         "line": {
          "color": "#DD4040",
          "dash": "dash",
          "width": 2
         },
         "mode": "lines",
         "name": "Threshold",
         "showlegend": false,
         "type": "scatter",
         "x": [
          "2018-01-01T00:00:00",
          "2018-01-31T06:36:00",
          "2018-03-02T13:12:00",
          "2018-04-01T19:48:00",
          "2018-05-02T02:24:00",
          "2018-06-01T09:00:00",
          "2018-07-01T15:36:00",
          "2018-07-31T22:12:00",
          "2018-08-31T04:48:00",
          "2018-09-30T11:24:00",
          "2018-10-30T17:51:16.848000"
         ],
         "xaxis": "x2",
         "y": [
          0.1,
          0.1,
          0.1,
          0.1,
          0.1,
          0.1,
          0.1,
          0.1,
          0.1,
          0.1,
          0.1
         ],
         "yaxis": "y2"
        },
        {
         "hoverinfo": "skip",
         "legendgroup": "thresh",
         "line": {
          "color": "#DD4040",
          "dash": "dash",
          "width": 2
         },
         "mode": "lines",
         "name": "Threshold",
         "showlegend": false,
         "type": "scatter",
         "x": [
          "2018-10-30T18:00:00",
          "2018-11-30T00:36:00",
          "2018-12-30T07:12:00",
          "2019-01-29T13:48:00",
          "2019-02-28T20:24:00",
          "2019-03-31T03:00:00",
          "2019-04-30T09:36:00",
          "2019-05-30T16:12:00",
          "2019-06-29T22:48:00",
          "2019-07-30T05:24:00",
          "2019-08-29T11:51:16.848000"
         ],
         "xaxis": "x2",
         "y": [
          0.1,
          0.1,
          0.1,
          0.1,
          0.1,
          0.1,
          0.1,
          0.1,
          0.1,
          0.1,
          0.1
         ],
         "yaxis": "y2"
        },
        {
         "hoverinfo": "skip",
         "legendgroup": "metric_reference",
         "line": {
          "color": "#00c8e5",
          "shape": "hv",
          "width": 2
         },
         "mode": "lines",
         "name": "Method",
         "showlegend": false,
         "type": "scatter",
         "x": [
          "2018-01-01T00:00:00",
          "2018-01-31T06:36:00",
          "2018-03-02T13:12:00",
          "2018-04-01T19:48:00",
          "2018-05-02T02:24:00",
          "2018-06-01T09:00:00",
          "2018-07-01T15:36:00",
          "2018-07-31T22:12:00",
          "2018-08-31T04:48:00",
          "2018-09-30T11:24:00",
          "2018-10-30T17:51:16.848000"
         ],
         "xaxis": "x3",
         "y": [
          0.02287127104887563,
          0.03354151663398118,
          0.029596972419841567,
          0.028682631947837458,
          0.020987615437999648,
          0.022934892318055518,
          0.022675279910400963,
          0.025517013238107473,
          0.02441446617570316,
          0.032927997848684984,
          0.032927997848684984
         ],
         "yaxis": "y3"
        },
        {
         "customdata": [
          [
           "Jensen-Shannon distance for <b>driver_tenure</b>",
           "<b style=\"color:#00c8e5;line-height:60px\">Reference</b>",
           "",
           "[0:4999]",
           "From <b>Jan-01-2018</b> to <b>Jan-31-2018</b>",
           0.0229
          ],
          [
           "Jensen-Shannon distance for <b>driver_tenure</b>",
           "<b style=\"color:#00c8e5;line-height:60px\">Reference</b>",
           "",
           "[5000:9999]",
           "From <b>Jan-31-2018</b> to <b>Mar-02-2018</b>",
           0.0335
          ],
          [
           "Jensen-Shannon distance for <b>driver_tenure</b>",
           "<b style=\"color:#00c8e5;line-height:60px\">Reference</b>",
           "",
           "[10000:14999]",
           "From <b>Mar-02-2018</b> to <b>Apr-01-2018</b>",
           0.0296
          ],
          [
           "Jensen-Shannon distance for <b>driver_tenure</b>",
           "<b style=\"color:#00c8e5;line-height:60px\">Reference</b>",
           "",
           "[15000:19999]",
           "From <b>Apr-01-2018</b> to <b>May-02-2018</b>",
           0.0287
          ],
          [
           "Jensen-Shannon distance for <b>driver_tenure</b>",
           "<b style=\"color:#00c8e5;line-height:60px\">Reference</b>",
           "",
           "[20000:24999]",
           "From <b>May-02-2018</b> to <b>Jun-01-2018</b>",
           0.021
          ],
          [
           "Jensen-Shannon distance for <b>driver_tenure</b>",
           "<b style=\"color:#00c8e5;line-height:60px\">Reference</b>",
           "",
           "[25000:29999]",
           "From <b>Jun-01-2018</b> to <b>Jul-01-2018</b>",
           0.0229
          ],
          [
           "Jensen-Shannon distance for <b>driver_tenure</b>",
           "<b style=\"color:#00c8e5;line-height:60px\">Reference</b>",
           "",
           "[30000:34999]",
           "From <b>Jul-01-2018</b> to <b>Jul-31-2018</b>",
           0.0227
          ],
          [
           "Jensen-Shannon distance for <b>driver_tenure</b>",
           "<b style=\"color:#00c8e5;line-height:60px\">Reference</b>",
           "",
           "[35000:39999]",
           "From <b>Jul-31-2018</b> to <b>Aug-31-2018</b>",
           0.0255
          ],
          [
           "Jensen-Shannon distance for <b>driver_tenure</b>",
           "<b style=\"color:#00c8e5;line-height:60px\">Reference</b>",
           "",
           "[40000:44999]",
           "From <b>Aug-31-2018</b> to <b>Sep-30-2018</b>",
           0.0244
          ],
          [
           "Jensen-Shannon distance for <b>driver_tenure</b>",
           "<b style=\"color:#00c8e5;line-height:60px\">Reference</b>",
           "",
           "[45000:49999]",
           "From <b>Sep-30-2018</b> to <b>Oct-30-2018</b>",
           0.0329
          ]
         ],
         "hovertemplate": "%{customdata[1]} &nbsp; &nbsp; %{customdata[2]} <br />Chunk: <b>%{customdata[3]}</b> &nbsp; &nbsp; %{customdata[4]} <br />%{customdata[0]}: <b>%{customdata[5]}</b><b r /><extra></extra>",
         "legendgroup": "metric_reference",
         "marker": {
          "color": "#00c8e5",
          "size": 5,
          "symbol": "circle"
         },
         "mode": "markers",
         "name": "Method",
         "showlegend": false,
         "type": "scatter",
         "x": [
          "2018-01-16T03:18:00",
          "2018-02-15T09:54:00",
          "2018-03-17T16:30:00",
          "2018-04-16T23:06:00",
          "2018-05-17T05:42:00",
          "2018-06-16T12:18:00",
          "2018-07-16T18:54:00",
          "2018-08-16T01:30:00",
          "2018-09-15T08:06:00",
          "2018-10-15T14:37:38.424000"
         ],
         "xaxis": "x3",
         "y": [
          0.02287127104887563,
          0.03354151663398118,
          0.029596972419841567,
          0.028682631947837458,
          0.020987615437999648,
          0.022934892318055518,
          0.022675279910400963,
          0.025517013238107473,
          0.02441446617570316,
          0.032927997848684984,
          0.032927997848684984
         ],
         "yaxis": "y3"
        },
        {
         "hoverinfo": "skip",
         "legendgroup": "metric_analysis",
         "line": {
          "color": "#00c8e5",
          "shape": "hv",
          "width": 2
         },
         "mode": "lines",
         "name": "Method",
         "showlegend": false,
         "type": "scatter",
         "x": [
          "2018-10-30T18:00:00",
          "2018-11-30T00:36:00",
          "2018-12-30T07:12:00",
          "2019-01-29T13:48:00",
          "2019-02-28T20:24:00",
          "2019-03-31T03:00:00",
          "2019-04-30T09:36:00",
          "2019-05-30T16:12:00",
          "2019-06-29T22:48:00",
          "2019-07-30T05:24:00",
          "2019-08-29T11:51:16.848000"
         ],
         "xaxis": "x3",
         "y": [
          0.03093554647159928,
          0.03835343507481522,
          0.03417601223076633,
          0.03329680523423909,
          0.026360852429796234,
          0.028838436030976758,
          0.026591786832936348,
          0.027594866018885167,
          0.02324231998507826,
          0.027919137017770584,
          0.027919137017770584
         ],
         "yaxis": "y3"
        },
        {
         "customdata": [
          [
           "Jensen-Shannon distance for <b>driver_tenure</b>",
           "<b style=\"color:#00c8e5;line-height:60px\">Analysis</b>",
           "",
           "[0:4999]",
           "From <b>Oct-30-2018</b> to <b>Nov-30-2018</b>",
           0.0309
          ],
          [
           "Jensen-Shannon distance for <b>driver_tenure</b>",
           "<b style=\"color:#00c8e5;line-height:60px\">Analysis</b>",
           "",
           "[5000:9999]",
           "From <b>Nov-30-2018</b> to <b>Dec-30-2018</b>",
           0.0384
          ],
          [
           "Jensen-Shannon distance for <b>driver_tenure</b>",
           "<b style=\"color:#00c8e5;line-height:60px\">Analysis</b>",
           "",
           "[10000:14999]",
           "From <b>Dec-30-2018</b> to <b>Jan-29-2019</b>",
           0.0342
          ],
          [
           "Jensen-Shannon distance for <b>driver_tenure</b>",
           "<b style=\"color:#00c8e5;line-height:60px\">Analysis</b>",
           "",
           "[15000:19999]",
           "From <b>Jan-29-2019</b> to <b>Feb-28-2019</b>",
           0.0333
          ],
          [
           "Jensen-Shannon distance for <b>driver_tenure</b>",
           "<b style=\"color:#00c8e5;line-height:60px\">Analysis</b>",
           "",
           "[20000:24999]",
           "From <b>Feb-28-2019</b> to <b>Mar-31-2019</b>",
           0.0264
          ],
          [
           "Jensen-Shannon distance for <b>driver_tenure</b>",
           "<b style=\"color:#00c8e5;line-height:60px\">Analysis</b>",
           "",
           "[25000:29999]",
           "From <b>Mar-31-2019</b> to <b>Apr-30-2019</b>",
           0.0288
          ],
          [
           "Jensen-Shannon distance for <b>driver_tenure</b>",
           "<b style=\"color:#00c8e5;line-height:60px\">Analysis</b>",
           "",
           "[30000:34999]",
           "From <b>Apr-30-2019</b> to <b>May-30-2019</b>",
           0.0266
          ],
          [
           "Jensen-Shannon distance for <b>driver_tenure</b>",
           "<b style=\"color:#00c8e5;line-height:60px\">Analysis</b>",
           "",
           "[35000:39999]",
           "From <b>May-30-2019</b> to <b>Jun-29-2019</b>",
           0.0276
          ],
          [
           "Jensen-Shannon distance for <b>driver_tenure</b>",
           "<b style=\"color:#00c8e5;line-height:60px\">Analysis</b>",
           "",
           "[40000:44999]",
           "From <b>Jun-29-2019</b> to <b>Jul-30-2019</b>",
           0.0232
          ],
          [
           "Jensen-Shannon distance for <b>driver_tenure</b>",
           "<b style=\"color:#00c8e5;line-height:60px\">Analysis</b>",
           "",
           "[45000:49999]",
           "From <b>Jul-30-2019</b> to <b>Aug-29-2019</b>",
           0.0279
          ]
         ],
         "hovertemplate": "%{customdata[1]} &nbsp; &nbsp; %{customdata[2]} <br />Chunk: <b>%{customdata[3]}</b> &nbsp; &nbsp; %{customdata[4]} <br />%{customdata[0]}: <b>%{customdata[5]}</b><b r /><extra></extra>",
         "legendgroup": "metric_analysis",
         "marker": {
          "color": "#00c8e5",
          "size": 5,
          "symbol": "circle"
         },
         "mode": "markers",
         "name": "Method",
         "showlegend": false,
         "type": "scatter",
         "x": [
          "2018-11-14T21:18:00",
          "2018-12-15T03:54:00",
          "2019-01-14T10:30:00",
          "2019-02-13T17:06:00",
          "2019-03-15T23:42:00",
          "2019-04-15T06:18:00",
          "2019-05-15T12:54:00",
          "2019-06-14T19:30:00",
          "2019-07-15T02:06:00",
          "2019-08-14T08:37:38.424000"
         ],
         "xaxis": "x3",
         "y": [
          0.03093554647159928,
          0.03835343507481522,
          0.03417601223076633,
          0.03329680523423909,
          0.026360852429796234,
          0.028838436030976758,
          0.026591786832936348,
          0.027594866018885167,
          0.02324231998507826,
          0.027919137017770584,
          0.027919137017770584
         ],
         "yaxis": "y3"
        },
        {
         "hoverinfo": "skip",
         "legendgroup": "alert",
         "marker": {
          "color": "#DD4040",
          "size": 8,
          "symbol": "diamond"
         },
         "mode": "markers",
         "name": "Alert",
         "showlegend": false,
         "type": "scatter",
         "x": [],
         "xaxis": "x3",
         "y": [],
         "yaxis": "y3"
        },
        {
         "hoverinfo": "skip",
         "legendgroup": "thresh",
         "line": {
          "color": "#DD4040",
          "dash": "dash",
          "width": 2
         },
         "mode": "lines",
         "name": "Threshold",
         "showlegend": false,
         "type": "scatter",
         "x": [
          "2018-01-01T00:00:00",
          "2018-01-31T06:36:00",
          "2018-03-02T13:12:00",
          "2018-04-01T19:48:00",
          "2018-05-02T02:24:00",
          "2018-06-01T09:00:00",
          "2018-07-01T15:36:00",
          "2018-07-31T22:12:00",
          "2018-08-31T04:48:00",
          "2018-09-30T11:24:00",
          "2018-10-30T17:51:16.848000"
         ],
         "xaxis": "x3",
         "y": [
          0.1,
          0.1,
          0.1,
          0.1,
          0.1,
          0.1,
          0.1,
          0.1,
          0.1,
          0.1,
          0.1
         ],
         "yaxis": "y3"
        },
        {
         "hoverinfo": "skip",
         "legendgroup": "thresh",
         "line": {
          "color": "#DD4040",
          "dash": "dash",
          "width": 2
         },
         "mode": "lines",
         "name": "Threshold",
         "showlegend": false,
         "type": "scatter",
         "x": [
          "2018-10-30T18:00:00",
          "2018-11-30T00:36:00",
          "2018-12-30T07:12:00",
          "2019-01-29T13:48:00",
          "2019-02-28T20:24:00",
          "2019-03-31T03:00:00",
          "2019-04-30T09:36:00",
          "2019-05-30T16:12:00",
          "2019-06-29T22:48:00",
          "2019-07-30T05:24:00",
          "2019-08-29T11:51:16.848000"
         ],
         "xaxis": "x3",
         "y": [
          0.1,
          0.1,
          0.1,
          0.1,
          0.1,
          0.1,
          0.1,
          0.1,
          0.1,
          0.1,
          0.1
         ],
         "yaxis": "y3"
        },
        {
         "hoverinfo": "skip",
         "legendgroup": "metric_reference",
         "line": {
          "color": "#00c8e5",
          "shape": "hv",
          "width": 2
         },
         "mode": "lines",
         "name": "Method",
         "showlegend": false,
         "type": "scatter",
         "x": [
          "2018-01-01T00:00:00",
          "2018-01-31T06:36:00",
          "2018-03-02T13:12:00",
          "2018-04-01T19:48:00",
          "2018-05-02T02:24:00",
          "2018-06-01T09:00:00",
          "2018-07-01T15:36:00",
          "2018-07-31T22:12:00",
          "2018-08-31T04:48:00",
          "2018-09-30T11:24:00",
          "2018-10-30T17:51:16.848000"
         ],
         "xaxis": "x4",
         "y": [
          0.02428993270570644,
          0.017789659904642027,
          0.024000162951046764,
          0.02921306268935639,
          0.016594551478108455,
          0.027157219580120552,
          0.02593377969672098,
          0.01853717346178169,
          0.029108623740122495,
          0.020719851642543866,
          0.020719851642543866
         ],
         "yaxis": "y4"
        },
        {
         "customdata": [
          [
           "Jensen-Shannon distance for <b>loan_length</b>",
           "<b style=\"color:#00c8e5;line-height:60px\">Reference</b>",
           "",
           "[0:4999]",
           "From <b>Jan-01-2018</b> to <b>Jan-31-2018</b>",
           0.0243
          ],
          [
           "Jensen-Shannon distance for <b>loan_length</b>",
           "<b style=\"color:#00c8e5;line-height:60px\">Reference</b>",
           "",
           "[5000:9999]",
           "From <b>Jan-31-2018</b> to <b>Mar-02-2018</b>",
           0.0178
          ],
          [
           "Jensen-Shannon distance for <b>loan_length</b>",
           "<b style=\"color:#00c8e5;line-height:60px\">Reference</b>",
           "",
           "[10000:14999]",
           "From <b>Mar-02-2018</b> to <b>Apr-01-2018</b>",
           0.024
          ],
          [
           "Jensen-Shannon distance for <b>loan_length</b>",
           "<b style=\"color:#00c8e5;line-height:60px\">Reference</b>",
           "",
           "[15000:19999]",
           "From <b>Apr-01-2018</b> to <b>May-02-2018</b>",
           0.0292
          ],
          [
           "Jensen-Shannon distance for <b>loan_length</b>",
           "<b style=\"color:#00c8e5;line-height:60px\">Reference</b>",
           "",
           "[20000:24999]",
           "From <b>May-02-2018</b> to <b>Jun-01-2018</b>",
           0.0166
          ],
          [
           "Jensen-Shannon distance for <b>loan_length</b>",
           "<b style=\"color:#00c8e5;line-height:60px\">Reference</b>",
           "",
           "[25000:29999]",
           "From <b>Jun-01-2018</b> to <b>Jul-01-2018</b>",
           0.0272
          ],
          [
           "Jensen-Shannon distance for <b>loan_length</b>",
           "<b style=\"color:#00c8e5;line-height:60px\">Reference</b>",
           "",
           "[30000:34999]",
           "From <b>Jul-01-2018</b> to <b>Jul-31-2018</b>",
           0.0259
          ],
          [
           "Jensen-Shannon distance for <b>loan_length</b>",
           "<b style=\"color:#00c8e5;line-height:60px\">Reference</b>",
           "",
           "[35000:39999]",
           "From <b>Jul-31-2018</b> to <b>Aug-31-2018</b>",
           0.0185
          ],
          [
           "Jensen-Shannon distance for <b>loan_length</b>",
           "<b style=\"color:#00c8e5;line-height:60px\">Reference</b>",
           "",
           "[40000:44999]",
           "From <b>Aug-31-2018</b> to <b>Sep-30-2018</b>",
           0.0291
          ],
          [
           "Jensen-Shannon distance for <b>loan_length</b>",
           "<b style=\"color:#00c8e5;line-height:60px\">Reference</b>",
           "",
           "[45000:49999]",
           "From <b>Sep-30-2018</b> to <b>Oct-30-2018</b>",
           0.0207
          ]
         ],
         "hovertemplate": "%{customdata[1]} &nbsp; &nbsp; %{customdata[2]} <br />Chunk: <b>%{customdata[3]}</b> &nbsp; &nbsp; %{customdata[4]} <br />%{customdata[0]}: <b>%{customdata[5]}</b><b r /><extra></extra>",
         "legendgroup": "metric_reference",
         "marker": {
          "color": "#00c8e5",
          "size": 5,
          "symbol": "circle"
         },
         "mode": "markers",
         "name": "Method",
         "showlegend": false,
         "type": "scatter",
         "x": [
          "2018-01-16T03:18:00",
          "2018-02-15T09:54:00",
          "2018-03-17T16:30:00",
          "2018-04-16T23:06:00",
          "2018-05-17T05:42:00",
          "2018-06-16T12:18:00",
          "2018-07-16T18:54:00",
          "2018-08-16T01:30:00",
          "2018-09-15T08:06:00",
          "2018-10-15T14:37:38.424000"
         ],
         "xaxis": "x4",
         "y": [
          0.02428993270570644,
          0.017789659904642027,
          0.024000162951046764,
          0.02921306268935639,
          0.016594551478108455,
          0.027157219580120552,
          0.02593377969672098,
          0.01853717346178169,
          0.029108623740122495,
          0.020719851642543866,
          0.020719851642543866
         ],
         "yaxis": "y4"
        },
        {
         "hoverinfo": "skip",
         "legendgroup": "metric_analysis",
         "line": {
          "color": "#00c8e5",
          "shape": "hv",
          "width": 2
         },
         "mode": "lines",
         "name": "Method",
         "showlegend": false,
         "type": "scatter",
         "x": [
          "2018-10-30T18:00:00",
          "2018-11-30T00:36:00",
          "2018-12-30T07:12:00",
          "2019-01-29T13:48:00",
          "2019-02-28T20:24:00",
          "2019-03-31T03:00:00",
          "2019-04-30T09:36:00",
          "2019-05-30T16:12:00",
          "2019-06-29T22:48:00",
          "2019-07-30T05:24:00",
          "2019-08-29T11:51:16.848000"
         ],
         "xaxis": "x4",
         "y": [
          0.024427791533330852,
          0.02583908651395349,
          0.029372503123602033,
          0.02907840666722535,
          0.028792481036495152,
          0.23393520916341598,
          0.23174729580775716,
          0.23401638916462755,
          0.2314839672503027,
          0.24262003134119114,
          0.24262003134119114
         ],
         "yaxis": "y4"
        },
        {
         "customdata": [
          [
           "Jensen-Shannon distance for <b>loan_length</b>",
           "<b style=\"color:#00c8e5;line-height:60px\">Analysis</b>",
           "",
           "[0:4999]",
           "From <b>Oct-30-2018</b> to <b>Nov-30-2018</b>",
           0.0244
          ],
          [
           "Jensen-Shannon distance for <b>loan_length</b>",
           "<b style=\"color:#00c8e5;line-height:60px\">Analysis</b>",
           "",
           "[5000:9999]",
           "From <b>Nov-30-2018</b> to <b>Dec-30-2018</b>",
           0.0258
          ],
          [
           "Jensen-Shannon distance for <b>loan_length</b>",
           "<b style=\"color:#00c8e5;line-height:60px\">Analysis</b>",
           "",
           "[10000:14999]",
           "From <b>Dec-30-2018</b> to <b>Jan-29-2019</b>",
           0.0294
          ],
          [
           "Jensen-Shannon distance for <b>loan_length</b>",
           "<b style=\"color:#00c8e5;line-height:60px\">Analysis</b>",
           "",
           "[15000:19999]",
           "From <b>Jan-29-2019</b> to <b>Feb-28-2019</b>",
           0.0291
          ],
          [
           "Jensen-Shannon distance for <b>loan_length</b>",
           "<b style=\"color:#00c8e5;line-height:60px\">Analysis</b>",
           "",
           "[20000:24999]",
           "From <b>Feb-28-2019</b> to <b>Mar-31-2019</b>",
           0.0288
          ],
          [
           "Jensen-Shannon distance for <b>loan_length</b>",
           "<b style=\"color:#00c8e5;line-height:60px\">Analysis</b>",
           "<span style=\"color:#AD0000\">⚠ <b>Drift detected</b></span>",
           "[25000:29999]",
           "From <b>Mar-31-2019</b> to <b>Apr-30-2019</b>",
           0.2339
          ],
          [
           "Jensen-Shannon distance for <b>loan_length</b>",
           "<b style=\"color:#00c8e5;line-height:60px\">Analysis</b>",
           "<span style=\"color:#AD0000\">⚠ <b>Drift detected</b></span>",
           "[30000:34999]",
           "From <b>Apr-30-2019</b> to <b>May-30-2019</b>",
           0.2317
          ],
          [
           "Jensen-Shannon distance for <b>loan_length</b>",
           "<b style=\"color:#00c8e5;line-height:60px\">Analysis</b>",
           "<span style=\"color:#AD0000\">⚠ <b>Drift detected</b></span>",
           "[35000:39999]",
           "From <b>May-30-2019</b> to <b>Jun-29-2019</b>",
           0.234
          ],
          [
           "Jensen-Shannon distance for <b>loan_length</b>",
           "<b style=\"color:#00c8e5;line-height:60px\">Analysis</b>",
           "<span style=\"color:#AD0000\">⚠ <b>Drift detected</b></span>",
           "[40000:44999]",
           "From <b>Jun-29-2019</b> to <b>Jul-30-2019</b>",
           0.2315
          ],
          [
           "Jensen-Shannon distance for <b>loan_length</b>",
           "<b style=\"color:#00c8e5;line-height:60px\">Analysis</b>",
           "<span style=\"color:#AD0000\">⚠ <b>Drift detected</b></span>",
           "[45000:49999]",
           "From <b>Jul-30-2019</b> to <b>Aug-29-2019</b>",
           0.2426
          ]
         ],
         "hovertemplate": "%{customdata[1]} &nbsp; &nbsp; %{customdata[2]} <br />Chunk: <b>%{customdata[3]}</b> &nbsp; &nbsp; %{customdata[4]} <br />%{customdata[0]}: <b>%{customdata[5]}</b><b r /><extra></extra>",
         "legendgroup": "metric_analysis",
         "marker": {
          "color": "#00c8e5",
          "size": 5,
          "symbol": "circle"
         },
         "mode": "markers",
         "name": "Method",
         "showlegend": false,
         "type": "scatter",
         "x": [
          "2018-11-14T21:18:00",
          "2018-12-15T03:54:00",
          "2019-01-14T10:30:00",
          "2019-02-13T17:06:00",
          "2019-03-15T23:42:00",
          "2019-04-15T06:18:00",
          "2019-05-15T12:54:00",
          "2019-06-14T19:30:00",
          "2019-07-15T02:06:00",
          "2019-08-14T08:37:38.424000"
         ],
         "xaxis": "x4",
         "y": [
          0.024427791533330852,
          0.02583908651395349,
          0.029372503123602033,
          0.02907840666722535,
          0.028792481036495152,
          0.23393520916341598,
          0.23174729580775716,
          0.23401638916462755,
          0.2314839672503027,
          0.24262003134119114,
          0.24262003134119114
         ],
         "yaxis": "y4"
        },
        {
         "hoverinfo": "skip",
         "legendgroup": "alert",
         "marker": {
          "color": "#DD4040",
          "size": 8,
          "symbol": "diamond"
         },
         "mode": "markers",
         "name": "Alert",
         "showlegend": false,
         "type": "scatter",
         "x": [
          "2019-04-15T06:18:00",
          "2019-05-15T12:54:00",
          "2019-06-14T19:30:00",
          "2019-07-15T02:06:00",
          "2019-08-14T08:37:38.424000"
         ],
         "xaxis": "x4",
         "y": [
          0.23393520916341598,
          0.23174729580775716,
          0.23401638916462755,
          0.2314839672503027,
          0.24262003134119114
         ],
         "yaxis": "y4"
        },
        {
         "hoverinfo": "skip",
         "legendgroup": "thresh",
         "line": {
          "color": "#DD4040",
          "dash": "dash",
          "width": 2
         },
         "mode": "lines",
         "name": "Threshold",
         "showlegend": false,
         "type": "scatter",
         "x": [
          "2018-01-01T00:00:00",
          "2018-01-31T06:36:00",
          "2018-03-02T13:12:00",
          "2018-04-01T19:48:00",
          "2018-05-02T02:24:00",
          "2018-06-01T09:00:00",
          "2018-07-01T15:36:00",
          "2018-07-31T22:12:00",
          "2018-08-31T04:48:00",
          "2018-09-30T11:24:00",
          "2018-10-30T17:51:16.848000"
         ],
         "xaxis": "x4",
         "y": [
          0.1,
          0.1,
          0.1,
          0.1,
          0.1,
          0.1,
          0.1,
          0.1,
          0.1,
          0.1,
          0.1
         ],
         "yaxis": "y4"
        },
        {
         "hoverinfo": "skip",
         "legendgroup": "thresh",
         "line": {
          "color": "#DD4040",
          "dash": "dash",
          "width": 2
         },
         "mode": "lines",
         "name": "Threshold",
         "showlegend": false,
         "type": "scatter",
         "x": [
          "2018-10-30T18:00:00",
          "2018-11-30T00:36:00",
          "2018-12-30T07:12:00",
          "2019-01-29T13:48:00",
          "2019-02-28T20:24:00",
          "2019-03-31T03:00:00",
          "2019-04-30T09:36:00",
          "2019-05-30T16:12:00",
          "2019-06-29T22:48:00",
          "2019-07-30T05:24:00",
          "2019-08-29T11:51:16.848000"
         ],
         "xaxis": "x4",
         "y": [
          0.1,
          0.1,
          0.1,
          0.1,
          0.1,
          0.1,
          0.1,
          0.1,
          0.1,
          0.1,
          0.1
         ],
         "yaxis": "y4"
        },
        {
         "hoverinfo": "skip",
         "legendgroup": "metric_reference",
         "line": {
          "color": "#00c8e5",
          "shape": "hv",
          "width": 2
         },
         "mode": "lines",
         "name": "Method",
         "showlegend": false,
         "type": "scatter",
         "x": [
          "2018-01-01T00:00:00",
          "2018-01-31T06:36:00",
          "2018-03-02T13:12:00",
          "2018-04-01T19:48:00",
          "2018-05-02T02:24:00",
          "2018-06-01T09:00:00",
          "2018-07-01T15:36:00",
          "2018-07-31T22:12:00",
          "2018-08-31T04:48:00",
          "2018-09-30T11:24:00",
          "2018-10-30T17:51:16.848000"
         ],
         "xaxis": "x5",
         "y": [
          0.013355493046211009,
          0.02112922974140151,
          0.022370006083509166,
          0.017828946977458186,
          0.021662176844899992,
          0.017255971064093403,
          0.025321749289977477,
          0.027506843602874212,
          0.02432246986022882,
          0.03039472510364367,
          0.03039472510364367
         ],
         "yaxis": "y5"
        },
        {
         "customdata": [
          [
           "Jensen-Shannon distance for <b>y_pred_proba</b>",
           "<b style=\"color:#00c8e5;line-height:60px\">Reference</b>",
           "",
           "[0:4999]",
           "From <b>Jan-01-2018</b> to <b>Jan-31-2018</b>",
           0.0134
          ],
          [
           "Jensen-Shannon distance for <b>y_pred_proba</b>",
           "<b style=\"color:#00c8e5;line-height:60px\">Reference</b>",
           "",
           "[5000:9999]",
           "From <b>Jan-31-2018</b> to <b>Mar-02-2018</b>",
           0.0211
          ],
          [
           "Jensen-Shannon distance for <b>y_pred_proba</b>",
           "<b style=\"color:#00c8e5;line-height:60px\">Reference</b>",
           "",
           "[10000:14999]",
           "From <b>Mar-02-2018</b> to <b>Apr-01-2018</b>",
           0.0224
          ],
          [
           "Jensen-Shannon distance for <b>y_pred_proba</b>",
           "<b style=\"color:#00c8e5;line-height:60px\">Reference</b>",
           "",
           "[15000:19999]",
           "From <b>Apr-01-2018</b> to <b>May-02-2018</b>",
           0.0178
          ],
          [
           "Jensen-Shannon distance for <b>y_pred_proba</b>",
           "<b style=\"color:#00c8e5;line-height:60px\">Reference</b>",
           "",
           "[20000:24999]",
           "From <b>May-02-2018</b> to <b>Jun-01-2018</b>",
           0.0217
          ],
          [
           "Jensen-Shannon distance for <b>y_pred_proba</b>",
           "<b style=\"color:#00c8e5;line-height:60px\">Reference</b>",
           "",
           "[25000:29999]",
           "From <b>Jun-01-2018</b> to <b>Jul-01-2018</b>",
           0.0173
          ],
          [
           "Jensen-Shannon distance for <b>y_pred_proba</b>",
           "<b style=\"color:#00c8e5;line-height:60px\">Reference</b>",
           "",
           "[30000:34999]",
           "From <b>Jul-01-2018</b> to <b>Jul-31-2018</b>",
           0.0253
          ],
          [
           "Jensen-Shannon distance for <b>y_pred_proba</b>",
           "<b style=\"color:#00c8e5;line-height:60px\">Reference</b>",
           "",
           "[35000:39999]",
           "From <b>Jul-31-2018</b> to <b>Aug-31-2018</b>",
           0.0275
          ],
          [
           "Jensen-Shannon distance for <b>y_pred_proba</b>",
           "<b style=\"color:#00c8e5;line-height:60px\">Reference</b>",
           "",
           "[40000:44999]",
           "From <b>Aug-31-2018</b> to <b>Sep-30-2018</b>",
           0.0243
          ],
          [
           "Jensen-Shannon distance for <b>y_pred_proba</b>",
           "<b style=\"color:#00c8e5;line-height:60px\">Reference</b>",
           "",
           "[45000:49999]",
           "From <b>Sep-30-2018</b> to <b>Oct-30-2018</b>",
           0.0304
          ]
         ],
         "hovertemplate": "%{customdata[1]} &nbsp; &nbsp; %{customdata[2]} <br />Chunk: <b>%{customdata[3]}</b> &nbsp; &nbsp; %{customdata[4]} <br />%{customdata[0]}: <b>%{customdata[5]}</b><b r /><extra></extra>",
         "legendgroup": "metric_reference",
         "marker": {
          "color": "#00c8e5",
          "size": 5,
          "symbol": "circle"
         },
         "mode": "markers",
         "name": "Method",
         "showlegend": false,
         "type": "scatter",
         "x": [
          "2018-01-16T03:18:00",
          "2018-02-15T09:54:00",
          "2018-03-17T16:30:00",
          "2018-04-16T23:06:00",
          "2018-05-17T05:42:00",
          "2018-06-16T12:18:00",
          "2018-07-16T18:54:00",
          "2018-08-16T01:30:00",
          "2018-09-15T08:06:00",
          "2018-10-15T14:37:38.424000"
         ],
         "xaxis": "x5",
         "y": [
          0.013355493046211009,
          0.02112922974140151,
          0.022370006083509166,
          0.017828946977458186,
          0.021662176844899992,
          0.017255971064093403,
          0.025321749289977477,
          0.027506843602874212,
          0.02432246986022882,
          0.03039472510364367,
          0.03039472510364367
         ],
         "yaxis": "y5"
        },
        {
         "hoverinfo": "skip",
         "legendgroup": "metric_analysis",
         "line": {
          "color": "#00c8e5",
          "shape": "hv",
          "width": 2
         },
         "mode": "lines",
         "name": "Method",
         "showlegend": false,
         "type": "scatter",
         "x": [
          "2018-10-30T18:00:00",
          "2018-11-30T00:36:00",
          "2018-12-30T07:12:00",
          "2019-01-29T13:48:00",
          "2019-02-28T20:24:00",
          "2019-03-31T03:00:00",
          "2019-04-30T09:36:00",
          "2019-05-30T16:12:00",
          "2019-06-29T22:48:00",
          "2019-07-30T05:24:00",
          "2019-08-29T11:51:16.848000"
         ],
         "xaxis": "x5",
         "y": [
          0.02893294372076363,
          0.022138893113364276,
          0.0310428124773422,
          0.022833280174765977,
          0.02374738640998019,
          0.22548550716708837,
          0.2088146101476805,
          0.2242815673339107,
          0.20535156077297334,
          0.2155386644722171,
          0.2155386644722171
         ],
         "yaxis": "y5"
        },
        {
         "customdata": [
          [
           "Jensen-Shannon distance for <b>y_pred_proba</b>",
           "<b style=\"color:#00c8e5;line-height:60px\">Analysis</b>",
           "",
           "[0:4999]",
           "From <b>Oct-30-2018</b> to <b>Nov-30-2018</b>",
           0.0289
          ],
          [
           "Jensen-Shannon distance for <b>y_pred_proba</b>",
           "<b style=\"color:#00c8e5;line-height:60px\">Analysis</b>",
           "",
           "[5000:9999]",
           "From <b>Nov-30-2018</b> to <b>Dec-30-2018</b>",
           0.0221
          ],
          [
           "Jensen-Shannon distance for <b>y_pred_proba</b>",
           "<b style=\"color:#00c8e5;line-height:60px\">Analysis</b>",
           "",
           "[10000:14999]",
           "From <b>Dec-30-2018</b> to <b>Jan-29-2019</b>",
           0.031
          ],
          [
           "Jensen-Shannon distance for <b>y_pred_proba</b>",
           "<b style=\"color:#00c8e5;line-height:60px\">Analysis</b>",
           "",
           "[15000:19999]",
           "From <b>Jan-29-2019</b> to <b>Feb-28-2019</b>",
           0.0228
          ],
          [
           "Jensen-Shannon distance for <b>y_pred_proba</b>",
           "<b style=\"color:#00c8e5;line-height:60px\">Analysis</b>",
           "",
           "[20000:24999]",
           "From <b>Feb-28-2019</b> to <b>Mar-31-2019</b>",
           0.0237
          ],
          [
           "Jensen-Shannon distance for <b>y_pred_proba</b>",
           "<b style=\"color:#00c8e5;line-height:60px\">Analysis</b>",
           "<span style=\"color:#AD0000\">⚠ <b>Drift detected</b></span>",
           "[25000:29999]",
           "From <b>Mar-31-2019</b> to <b>Apr-30-2019</b>",
           0.2255
          ],
          [
           "Jensen-Shannon distance for <b>y_pred_proba</b>",
           "<b style=\"color:#00c8e5;line-height:60px\">Analysis</b>",
           "<span style=\"color:#AD0000\">⚠ <b>Drift detected</b></span>",
           "[30000:34999]",
           "From <b>Apr-30-2019</b> to <b>May-30-2019</b>",
           0.2088
          ],
          [
           "Jensen-Shannon distance for <b>y_pred_proba</b>",
           "<b style=\"color:#00c8e5;line-height:60px\">Analysis</b>",
           "<span style=\"color:#AD0000\">⚠ <b>Drift detected</b></span>",
           "[35000:39999]",
           "From <b>May-30-2019</b> to <b>Jun-29-2019</b>",
           0.2243
          ],
          [
           "Jensen-Shannon distance for <b>y_pred_proba</b>",
           "<b style=\"color:#00c8e5;line-height:60px\">Analysis</b>",
           "<span style=\"color:#AD0000\">⚠ <b>Drift detected</b></span>",
           "[40000:44999]",
           "From <b>Jun-29-2019</b> to <b>Jul-30-2019</b>",
           0.2054
          ],
          [
           "Jensen-Shannon distance for <b>y_pred_proba</b>",
           "<b style=\"color:#00c8e5;line-height:60px\">Analysis</b>",
           "<span style=\"color:#AD0000\">⚠ <b>Drift detected</b></span>",
           "[45000:49999]",
           "From <b>Jul-30-2019</b> to <b>Aug-29-2019</b>",
           0.2155
          ]
         ],
         "hovertemplate": "%{customdata[1]} &nbsp; &nbsp; %{customdata[2]} <br />Chunk: <b>%{customdata[3]}</b> &nbsp; &nbsp; %{customdata[4]} <br />%{customdata[0]}: <b>%{customdata[5]}</b><b r /><extra></extra>",
         "legendgroup": "metric_analysis",
         "marker": {
          "color": "#00c8e5",
          "size": 5,
          "symbol": "circle"
         },
         "mode": "markers",
         "name": "Method",
         "showlegend": false,
         "type": "scatter",
         "x": [
          "2018-11-14T21:18:00",
          "2018-12-15T03:54:00",
          "2019-01-14T10:30:00",
          "2019-02-13T17:06:00",
          "2019-03-15T23:42:00",
          "2019-04-15T06:18:00",
          "2019-05-15T12:54:00",
          "2019-06-14T19:30:00",
          "2019-07-15T02:06:00",
          "2019-08-14T08:37:38.424000"
         ],
         "xaxis": "x5",
         "y": [
          0.02893294372076363,
          0.022138893113364276,
          0.0310428124773422,
          0.022833280174765977,
          0.02374738640998019,
          0.22548550716708837,
          0.2088146101476805,
          0.2242815673339107,
          0.20535156077297334,
          0.2155386644722171,
          0.2155386644722171
         ],
         "yaxis": "y5"
        },
        {
         "hoverinfo": "skip",
         "legendgroup": "alert",
         "marker": {
          "color": "#DD4040",
          "size": 8,
          "symbol": "diamond"
         },
         "mode": "markers",
         "name": "Alert",
         "showlegend": false,
         "type": "scatter",
         "x": [
          "2019-04-15T06:18:00",
          "2019-05-15T12:54:00",
          "2019-06-14T19:30:00",
          "2019-07-15T02:06:00",
          "2019-08-14T08:37:38.424000"
         ],
         "xaxis": "x5",
         "y": [
          0.22548550716708837,
          0.2088146101476805,
          0.2242815673339107,
          0.20535156077297334,
          0.2155386644722171
         ],
         "yaxis": "y5"
        },
        {
         "hoverinfo": "skip",
         "legendgroup": "thresh",
         "line": {
          "color": "#DD4040",
          "dash": "dash",
          "width": 2
         },
         "mode": "lines",
         "name": "Threshold",
         "showlegend": false,
         "type": "scatter",
         "x": [
          "2018-01-01T00:00:00",
          "2018-01-31T06:36:00",
          "2018-03-02T13:12:00",
          "2018-04-01T19:48:00",
          "2018-05-02T02:24:00",
          "2018-06-01T09:00:00",
          "2018-07-01T15:36:00",
          "2018-07-31T22:12:00",
          "2018-08-31T04:48:00",
          "2018-09-30T11:24:00",
          "2018-10-30T17:51:16.848000"
         ],
         "xaxis": "x5",
         "y": [
          0.1,
          0.1,
          0.1,
          0.1,
          0.1,
          0.1,
          0.1,
          0.1,
          0.1,
          0.1,
          0.1
         ],
         "yaxis": "y5"
        },
        {
         "hoverinfo": "skip",
         "legendgroup": "thresh",
         "line": {
          "color": "#DD4040",
          "dash": "dash",
          "width": 2
         },
         "mode": "lines",
         "name": "Threshold",
         "showlegend": false,
         "type": "scatter",
         "x": [
          "2018-10-30T18:00:00",
          "2018-11-30T00:36:00",
          "2018-12-30T07:12:00",
          "2019-01-29T13:48:00",
          "2019-02-28T20:24:00",
          "2019-03-31T03:00:00",
          "2019-04-30T09:36:00",
          "2019-05-30T16:12:00",
          "2019-06-29T22:48:00",
          "2019-07-30T05:24:00",
          "2019-08-29T11:51:16.848000"
         ],
         "xaxis": "x5",
         "y": [
          0.1,
          0.1,
          0.1,
          0.1,
          0.1,
          0.1,
          0.1,
          0.1,
          0.1,
          0.1,
          0.1
         ],
         "yaxis": "y5"
        }
       ],
       "layout": {
        "annotations": [
         {
          "font": {
           "size": 16
          },
          "showarrow": false,
          "text": "Jensen-Shannon distance for <b>car_value</b>",
          "x": 0.5,
          "xanchor": "center",
          "xref": "paper",
          "y": 1,
          "yanchor": "bottom",
          "yref": "paper"
         },
         {
          "font": {
           "size": 16
          },
          "showarrow": false,
          "text": "Jensen-Shannon distance for <b>debt_to_income_ratio</b>",
          "x": 0.5,
          "xanchor": "center",
          "xref": "paper",
          "y": 0.78,
          "yanchor": "bottom",
          "yref": "paper"
         },
         {
          "font": {
           "size": 16
          },
          "showarrow": false,
          "text": "Jensen-Shannon distance for <b>driver_tenure</b>",
          "x": 0.5,
          "xanchor": "center",
          "xref": "paper",
          "y": 0.56,
          "yanchor": "bottom",
          "yref": "paper"
         },
         {
          "font": {
           "size": 16
          },
          "showarrow": false,
          "text": "Jensen-Shannon distance for <b>loan_length</b>",
          "x": 0.5,
          "xanchor": "center",
          "xref": "paper",
          "y": 0.33999999999999997,
          "yanchor": "bottom",
          "yref": "paper"
         },
         {
          "font": {
           "size": 16
          },
          "showarrow": false,
          "text": "Jensen-Shannon distance for <b>y_pred_proba</b>",
          "x": 0.5,
          "xanchor": "center",
          "xref": "paper",
          "y": 0.12,
          "yanchor": "bottom",
          "yref": "paper"
         },
         {
          "showarrow": false,
          "text": "Reference",
          "x": "2018-05-17T05:42:00",
          "xref": "x",
          "xshift": 10,
          "y": 1.01,
          "yref": "y domain"
         },
         {
          "showarrow": false,
          "text": "Analysis",
          "x": "2019-03-15T23:42:00",
          "xref": "x",
          "xshift": 15,
          "y": 1.01,
          "yref": "y domain"
         },
         {
          "showarrow": false,
          "text": "Reference",
          "x": "2018-05-17T05:42:00",
          "xref": "x2",
          "xshift": 10,
          "y": 1.01,
          "yref": "y2 domain"
         },
         {
          "showarrow": false,
          "text": "Analysis",
          "x": "2019-03-15T23:42:00",
          "xref": "x2",
          "xshift": 15,
          "y": 1.01,
          "yref": "y2 domain"
         },
         {
          "showarrow": false,
          "text": "Reference",
          "x": "2018-05-17T05:42:00",
          "xref": "x3",
          "xshift": 10,
          "y": 1.01,
          "yref": "y3 domain"
         },
         {
          "showarrow": false,
          "text": "Analysis",
          "x": "2019-03-15T23:42:00",
          "xref": "x3",
          "xshift": 15,
          "y": 1.01,
          "yref": "y3 domain"
         },
         {
          "showarrow": false,
          "text": "Reference",
          "x": "2018-05-17T05:42:00",
          "xref": "x4",
          "xshift": 10,
          "y": 1.01,
          "yref": "y4 domain"
         },
         {
          "showarrow": false,
          "text": "Analysis",
          "x": "2019-03-15T23:42:00",
          "xref": "x4",
          "xshift": 15,
          "y": 1.01,
          "yref": "y4 domain"
         },
         {
          "showarrow": false,
          "text": "Reference",
          "x": "2018-05-17T05:42:00",
          "xref": "x5",
          "xshift": 10,
          "y": 1.01,
          "yref": "y5 domain"
         },
         {
          "showarrow": false,
          "text": "Analysis",
          "x": "2019-03-15T23:42:00",
          "xref": "x5",
          "xshift": 15,
          "y": 1.01,
          "yref": "y5 domain"
         }
        ],
        "height": 2500,
        "hoverlabel": {
         "bgcolor": "white",
         "font": {
          "size": 14
         }
        },
        "legend": {
         "itemclick": false,
         "itemdoubleclick": false,
         "traceorder": "grouped"
        },
        "paper_bgcolor": "rgba(255,255,255,1)",
        "plot_bgcolor": "rgba(255,255,255,1)",
        "shapes": [
         {
          "layer": "below",
          "line": {
           "color": "#666666",
           "width": 1
          },
          "type": "line",
          "x0": "2018-10-30T18:00:00",
          "x1": "2018-10-30T18:00:00",
          "xref": "x",
          "y0": 0,
          "y1": 1,
          "yref": "y domain"
         },
         {
          "layer": "below",
          "line": {
           "color": "#666666",
           "width": 1
          },
          "type": "line",
          "x0": "2018-10-30T18:00:00",
          "x1": "2018-10-30T18:00:00",
          "xref": "x",
          "y0": 0,
          "y1": 1,
          "yref": "y domain"
         },
         {
          "layer": "below",
          "line": {
           "color": "#666666",
           "width": 1
          },
          "type": "line",
          "x0": "2018-10-30T18:00:00",
          "x1": "2018-10-30T18:00:00",
          "xref": "x2",
          "y0": 0,
          "y1": 1,
          "yref": "y2 domain"
         },
         {
          "layer": "below",
          "line": {
           "color": "#666666",
           "width": 1
          },
          "type": "line",
          "x0": "2018-10-30T18:00:00",
          "x1": "2018-10-30T18:00:00",
          "xref": "x",
          "y0": 0,
          "y1": 1,
          "yref": "y domain"
         },
         {
          "layer": "below",
          "line": {
           "color": "#666666",
           "width": 1
          },
          "type": "line",
          "x0": "2018-10-30T18:00:00",
          "x1": "2018-10-30T18:00:00",
          "xref": "x2",
          "y0": 0,
          "y1": 1,
          "yref": "y2 domain"
         },
         {
          "layer": "below",
          "line": {
           "color": "#666666",
           "width": 1
          },
          "type": "line",
          "x0": "2018-10-30T18:00:00",
          "x1": "2018-10-30T18:00:00",
          "xref": "x3",
          "y0": 0,
          "y1": 1,
          "yref": "y3 domain"
         },
         {
          "layer": "below",
          "line": {
           "color": "#666666",
           "width": 1
          },
          "type": "line",
          "x0": "2018-10-30T18:00:00",
          "x1": "2018-10-30T18:00:00",
          "xref": "x",
          "y0": 0,
          "y1": 1,
          "yref": "y domain"
         },
         {
          "layer": "below",
          "line": {
           "color": "#666666",
           "width": 1
          },
          "type": "line",
          "x0": "2018-10-30T18:00:00",
          "x1": "2018-10-30T18:00:00",
          "xref": "x2",
          "y0": 0,
          "y1": 1,
          "yref": "y2 domain"
         },
         {
          "layer": "below",
          "line": {
           "color": "#666666",
           "width": 1
          },
          "type": "line",
          "x0": "2018-10-30T18:00:00",
          "x1": "2018-10-30T18:00:00",
          "xref": "x3",
          "y0": 0,
          "y1": 1,
          "yref": "y3 domain"
         },
         {
          "layer": "below",
          "line": {
           "color": "#666666",
           "width": 1
          },
          "type": "line",
          "x0": "2018-10-30T18:00:00",
          "x1": "2018-10-30T18:00:00",
          "xref": "x4",
          "y0": 0,
          "y1": 1,
          "yref": "y4 domain"
         },
         {
          "layer": "below",
          "line": {
           "color": "#666666",
           "width": 1
          },
          "type": "line",
          "x0": "2018-10-30T18:00:00",
          "x1": "2018-10-30T18:00:00",
          "xref": "x",
          "y0": 0,
          "y1": 1,
          "yref": "y domain"
         },
         {
          "layer": "below",
          "line": {
           "color": "#666666",
           "width": 1
          },
          "type": "line",
          "x0": "2018-10-30T18:00:00",
          "x1": "2018-10-30T18:00:00",
          "xref": "x2",
          "y0": 0,
          "y1": 1,
          "yref": "y2 domain"
         },
         {
          "layer": "below",
          "line": {
           "color": "#666666",
           "width": 1
          },
          "type": "line",
          "x0": "2018-10-30T18:00:00",
          "x1": "2018-10-30T18:00:00",
          "xref": "x3",
          "y0": 0,
          "y1": 1,
          "yref": "y3 domain"
         },
         {
          "layer": "below",
          "line": {
           "color": "#666666",
           "width": 1
          },
          "type": "line",
          "x0": "2018-10-30T18:00:00",
          "x1": "2018-10-30T18:00:00",
          "xref": "x4",
          "y0": 0,
          "y1": 1,
          "yref": "y4 domain"
         },
         {
          "layer": "below",
          "line": {
           "color": "#666666",
           "width": 1
          },
          "type": "line",
          "x0": "2018-10-30T18:00:00",
          "x1": "2018-10-30T18:00:00",
          "xref": "x5",
          "y0": 0,
          "y1": 1,
          "yref": "y5 domain"
         }
        ],
        "template": {
         "data": {
          "bar": [
           {
            "error_x": {
             "color": "#2a3f5f"
            },
            "error_y": {
             "color": "#2a3f5f"
            },
            "marker": {
             "line": {
              "color": "#E5ECF6",
              "width": 0.5
             },
             "pattern": {
              "fillmode": "overlay",
              "size": 10,
              "solidity": 0.2
             }
            },
            "type": "bar"
           }
          ],
          "barpolar": [
           {
            "marker": {
             "line": {
              "color": "#E5ECF6",
              "width": 0.5
             },
             "pattern": {
              "fillmode": "overlay",
              "size": 10,
              "solidity": 0.2
             }
            },
            "type": "barpolar"
           }
          ],
          "carpet": [
           {
            "aaxis": {
             "endlinecolor": "#2a3f5f",
             "gridcolor": "white",
             "linecolor": "white",
             "minorgridcolor": "white",
             "startlinecolor": "#2a3f5f"
            },
            "baxis": {
             "endlinecolor": "#2a3f5f",
             "gridcolor": "white",
             "linecolor": "white",
             "minorgridcolor": "white",
             "startlinecolor": "#2a3f5f"
            },
            "type": "carpet"
           }
          ],
          "choropleth": [
           {
            "colorbar": {
             "outlinewidth": 0,
             "ticks": ""
            },
            "type": "choropleth"
           }
          ],
          "contour": [
           {
            "colorbar": {
             "outlinewidth": 0,
             "ticks": ""
            },
            "colorscale": [
             [
              0,
              "#0d0887"
             ],
             [
              0.1111111111111111,
              "#46039f"
             ],
             [
              0.2222222222222222,
              "#7201a8"
             ],
             [
              0.3333333333333333,
              "#9c179e"
             ],
             [
              0.4444444444444444,
              "#bd3786"
             ],
             [
              0.5555555555555556,
              "#d8576b"
             ],
             [
              0.6666666666666666,
              "#ed7953"
             ],
             [
              0.7777777777777778,
              "#fb9f3a"
             ],
             [
              0.8888888888888888,
              "#fdca26"
             ],
             [
              1,
              "#f0f921"
             ]
            ],
            "type": "contour"
           }
          ],
          "contourcarpet": [
           {
            "colorbar": {
             "outlinewidth": 0,
             "ticks": ""
            },
            "type": "contourcarpet"
           }
          ],
          "heatmap": [
           {
            "colorbar": {
             "outlinewidth": 0,
             "ticks": ""
            },
            "colorscale": [
             [
              0,
              "#0d0887"
             ],
             [
              0.1111111111111111,
              "#46039f"
             ],
             [
              0.2222222222222222,
              "#7201a8"
             ],
             [
              0.3333333333333333,
              "#9c179e"
             ],
             [
              0.4444444444444444,
              "#bd3786"
             ],
             [
              0.5555555555555556,
              "#d8576b"
             ],
             [
              0.6666666666666666,
              "#ed7953"
             ],
             [
              0.7777777777777778,
              "#fb9f3a"
             ],
             [
              0.8888888888888888,
              "#fdca26"
             ],
             [
              1,
              "#f0f921"
             ]
            ],
            "type": "heatmap"
           }
          ],
          "heatmapgl": [
           {
            "colorbar": {
             "outlinewidth": 0,
             "ticks": ""
            },
            "colorscale": [
             [
              0,
              "#0d0887"
             ],
             [
              0.1111111111111111,
              "#46039f"
             ],
             [
              0.2222222222222222,
              "#7201a8"
             ],
             [
              0.3333333333333333,
              "#9c179e"
             ],
             [
              0.4444444444444444,
              "#bd3786"
             ],
             [
              0.5555555555555556,
              "#d8576b"
             ],
             [
              0.6666666666666666,
              "#ed7953"
             ],
             [
              0.7777777777777778,
              "#fb9f3a"
             ],
             [
              0.8888888888888888,
              "#fdca26"
             ],
             [
              1,
              "#f0f921"
             ]
            ],
            "type": "heatmapgl"
           }
          ],
          "histogram": [
           {
            "marker": {
             "pattern": {
              "fillmode": "overlay",
              "size": 10,
              "solidity": 0.2
             }
            },
            "type": "histogram"
           }
          ],
          "histogram2d": [
           {
            "colorbar": {
             "outlinewidth": 0,
             "ticks": ""
            },
            "colorscale": [
             [
              0,
              "#0d0887"
             ],
             [
              0.1111111111111111,
              "#46039f"
             ],
             [
              0.2222222222222222,
              "#7201a8"
             ],
             [
              0.3333333333333333,
              "#9c179e"
             ],
             [
              0.4444444444444444,
              "#bd3786"
             ],
             [
              0.5555555555555556,
              "#d8576b"
             ],
             [
              0.6666666666666666,
              "#ed7953"
             ],
             [
              0.7777777777777778,
              "#fb9f3a"
             ],
             [
              0.8888888888888888,
              "#fdca26"
             ],
             [
              1,
              "#f0f921"
             ]
            ],
            "type": "histogram2d"
           }
          ],
          "histogram2dcontour": [
           {
            "colorbar": {
             "outlinewidth": 0,
             "ticks": ""
            },
            "colorscale": [
             [
              0,
              "#0d0887"
             ],
             [
              0.1111111111111111,
              "#46039f"
             ],
             [
              0.2222222222222222,
              "#7201a8"
             ],
             [
              0.3333333333333333,
              "#9c179e"
             ],
             [
              0.4444444444444444,
              "#bd3786"
             ],
             [
              0.5555555555555556,
              "#d8576b"
             ],
             [
              0.6666666666666666,
              "#ed7953"
             ],
             [
              0.7777777777777778,
              "#fb9f3a"
             ],
             [
              0.8888888888888888,
              "#fdca26"
             ],
             [
              1,
              "#f0f921"
             ]
            ],
            "type": "histogram2dcontour"
           }
          ],
          "mesh3d": [
           {
            "colorbar": {
             "outlinewidth": 0,
             "ticks": ""
            },
            "type": "mesh3d"
           }
          ],
          "parcoords": [
           {
            "line": {
             "colorbar": {
              "outlinewidth": 0,
              "ticks": ""
             }
            },
            "type": "parcoords"
           }
          ],
          "pie": [
           {
            "automargin": true,
            "type": "pie"
           }
          ],
          "scatter": [
           {
            "fillpattern": {
             "fillmode": "overlay",
             "size": 10,
             "solidity": 0.2
            },
            "type": "scatter"
           }
          ],
          "scatter3d": [
           {
            "line": {
             "colorbar": {
              "outlinewidth": 0,
              "ticks": ""
             }
            },
            "marker": {
             "colorbar": {
              "outlinewidth": 0,
              "ticks": ""
             }
            },
            "type": "scatter3d"
           }
          ],
          "scattercarpet": [
           {
            "marker": {
             "colorbar": {
              "outlinewidth": 0,
              "ticks": ""
             }
            },
            "type": "scattercarpet"
           }
          ],
          "scattergeo": [
           {
            "marker": {
             "colorbar": {
              "outlinewidth": 0,
              "ticks": ""
             }
            },
            "type": "scattergeo"
           }
          ],
          "scattergl": [
           {
            "marker": {
             "colorbar": {
              "outlinewidth": 0,
              "ticks": ""
             }
            },
            "type": "scattergl"
           }
          ],
          "scattermapbox": [
           {
            "marker": {
             "colorbar": {
              "outlinewidth": 0,
              "ticks": ""
             }
            },
            "type": "scattermapbox"
           }
          ],
          "scatterpolar": [
           {
            "marker": {
             "colorbar": {
              "outlinewidth": 0,
              "ticks": ""
             }
            },
            "type": "scatterpolar"
           }
          ],
          "scatterpolargl": [
           {
            "marker": {
             "colorbar": {
              "outlinewidth": 0,
              "ticks": ""
             }
            },
            "type": "scatterpolargl"
           }
          ],
          "scatterternary": [
           {
            "marker": {
             "colorbar": {
              "outlinewidth": 0,
              "ticks": ""
             }
            },
            "type": "scatterternary"
           }
          ],
          "surface": [
           {
            "colorbar": {
             "outlinewidth": 0,
             "ticks": ""
            },
            "colorscale": [
             [
              0,
              "#0d0887"
             ],
             [
              0.1111111111111111,
              "#46039f"
             ],
             [
              0.2222222222222222,
              "#7201a8"
             ],
             [
              0.3333333333333333,
              "#9c179e"
             ],
             [
              0.4444444444444444,
              "#bd3786"
             ],
             [
              0.5555555555555556,
              "#d8576b"
             ],
             [
              0.6666666666666666,
              "#ed7953"
             ],
             [
              0.7777777777777778,
              "#fb9f3a"
             ],
             [
              0.8888888888888888,
              "#fdca26"
             ],
             [
              1,
              "#f0f921"
             ]
            ],
            "type": "surface"
           }
          ],
          "table": [
           {
            "cells": {
             "fill": {
              "color": "#EBF0F8"
             },
             "line": {
              "color": "white"
             }
            },
            "header": {
             "fill": {
              "color": "#C8D4E3"
             },
             "line": {
              "color": "white"
             }
            },
            "type": "table"
           }
          ]
         },
         "layout": {
          "annotationdefaults": {
           "arrowcolor": "#2a3f5f",
           "arrowhead": 0,
           "arrowwidth": 1
          },
          "autotypenumbers": "strict",
          "coloraxis": {
           "colorbar": {
            "outlinewidth": 0,
            "ticks": ""
           }
          },
          "colorscale": {
           "diverging": [
            [
             0,
             "#8e0152"
            ],
            [
             0.1,
             "#c51b7d"
            ],
            [
             0.2,
             "#de77ae"
            ],
            [
             0.3,
             "#f1b6da"
            ],
            [
             0.4,
             "#fde0ef"
            ],
            [
             0.5,
             "#f7f7f7"
            ],
            [
             0.6,
             "#e6f5d0"
            ],
            [
             0.7,
             "#b8e186"
            ],
            [
             0.8,
             "#7fbc41"
            ],
            [
             0.9,
             "#4d9221"
            ],
            [
             1,
             "#276419"
            ]
           ],
           "sequential": [
            [
             0,
             "#0d0887"
            ],
            [
             0.1111111111111111,
             "#46039f"
            ],
            [
             0.2222222222222222,
             "#7201a8"
            ],
            [
             0.3333333333333333,
             "#9c179e"
            ],
            [
             0.4444444444444444,
             "#bd3786"
            ],
            [
             0.5555555555555556,
             "#d8576b"
            ],
            [
             0.6666666666666666,
             "#ed7953"
            ],
            [
             0.7777777777777778,
             "#fb9f3a"
            ],
            [
             0.8888888888888888,
             "#fdca26"
            ],
            [
             1,
             "#f0f921"
            ]
           ],
           "sequentialminus": [
            [
             0,
             "#0d0887"
            ],
            [
             0.1111111111111111,
             "#46039f"
            ],
            [
             0.2222222222222222,
             "#7201a8"
            ],
            [
             0.3333333333333333,
             "#9c179e"
            ],
            [
             0.4444444444444444,
             "#bd3786"
            ],
            [
             0.5555555555555556,
             "#d8576b"
            ],
            [
             0.6666666666666666,
             "#ed7953"
            ],
            [
             0.7777777777777778,
             "#fb9f3a"
            ],
            [
             0.8888888888888888,
             "#fdca26"
            ],
            [
             1,
             "#f0f921"
            ]
           ]
          },
          "colorway": [
           "#636efa",
           "#EF553B",
           "#00cc96",
           "#ab63fa",
           "#FFA15A",
           "#19d3f3",
           "#FF6692",
           "#B6E880",
           "#FF97FF",
           "#FECB52"
          ],
          "font": {
           "color": "#2a3f5f"
          },
          "geo": {
           "bgcolor": "white",
           "lakecolor": "white",
           "landcolor": "#E5ECF6",
           "showlakes": true,
           "showland": true,
           "subunitcolor": "white"
          },
          "hoverlabel": {
           "align": "left"
          },
          "hovermode": "closest",
          "mapbox": {
           "style": "light"
          },
          "paper_bgcolor": "white",
          "plot_bgcolor": "#E5ECF6",
          "polar": {
           "angularaxis": {
            "gridcolor": "white",
            "linecolor": "white",
            "ticks": ""
           },
           "bgcolor": "#E5ECF6",
           "radialaxis": {
            "gridcolor": "white",
            "linecolor": "white",
            "ticks": ""
           }
          },
          "scene": {
           "xaxis": {
            "backgroundcolor": "#E5ECF6",
            "gridcolor": "white",
            "gridwidth": 2,
            "linecolor": "white",
            "showbackground": true,
            "ticks": "",
            "zerolinecolor": "white"
           },
           "yaxis": {
            "backgroundcolor": "#E5ECF6",
            "gridcolor": "white",
            "gridwidth": 2,
            "linecolor": "white",
            "showbackground": true,
            "ticks": "",
            "zerolinecolor": "white"
           },
           "zaxis": {
            "backgroundcolor": "#E5ECF6",
            "gridcolor": "white",
            "gridwidth": 2,
            "linecolor": "white",
            "showbackground": true,
            "ticks": "",
            "zerolinecolor": "white"
           }
          },
          "shapedefaults": {
           "line": {
            "color": "#2a3f5f"
           }
          },
          "ternary": {
           "aaxis": {
            "gridcolor": "white",
            "linecolor": "white",
            "ticks": ""
           },
           "baxis": {
            "gridcolor": "white",
            "linecolor": "white",
            "ticks": ""
           },
           "bgcolor": "#E5ECF6",
           "caxis": {
            "gridcolor": "white",
            "linecolor": "white",
            "ticks": ""
           }
          },
          "title": {
           "x": 0.05
          },
          "xaxis": {
           "automargin": true,
           "gridcolor": "white",
           "linecolor": "white",
           "ticks": "",
           "title": {
            "standoff": 15
           },
           "zerolinecolor": "white",
           "zerolinewidth": 2
          },
          "yaxis": {
           "automargin": true,
           "gridcolor": "white",
           "linecolor": "white",
           "ticks": "",
           "title": {
            "standoff": 15
           },
           "zerolinecolor": "white",
           "zerolinewidth": 2
          }
         }
        },
        "title": {
         "text": "Univariate drift metrics"
        },
        "xaxis": {
         "anchor": "y",
         "domain": [
          0,
          1
         ],
         "linecolor": "#3b0280",
         "matches": "x",
         "mirror": true,
         "showgrid": false,
         "title": {
          "text": "Time"
         },
         "zeroline": false
        },
        "xaxis2": {
         "anchor": "y2",
         "domain": [
          0,
          1
         ],
         "linecolor": "#3b0280",
         "matches": "x",
         "mirror": true,
         "showgrid": false,
         "title": {
          "text": "Time"
         },
         "zeroline": false
        },
        "xaxis3": {
         "anchor": "y3",
         "domain": [
          0,
          1
         ],
         "linecolor": "#3b0280",
         "matches": "x",
         "mirror": true,
         "showgrid": false,
         "title": {
          "text": "Time"
         },
         "zeroline": false
        },
        "xaxis4": {
         "anchor": "y4",
         "domain": [
          0,
          1
         ],
         "linecolor": "#3b0280",
         "matches": "x",
         "mirror": true,
         "showgrid": false,
         "title": {
          "text": "Time"
         },
         "zeroline": false
        },
        "xaxis5": {
         "anchor": "y5",
         "domain": [
          0,
          1
         ],
         "linecolor": "#3b0280",
         "matches": "x",
         "mirror": true,
         "showgrid": false,
         "title": {
          "text": "Time"
         },
         "zeroline": false
        },
        "yaxis": {
         "anchor": "x",
         "domain": [
          0.88,
          1
         ],
         "linecolor": "#3b0280",
         "mirror": true,
         "showgrid": false,
         "title": {
          "text": "Jensen-Shannon distance"
         },
         "zeroline": false
        },
        "yaxis2": {
         "anchor": "x2",
         "domain": [
          0.66,
          0.78
         ],
         "linecolor": "#3b0280",
         "mirror": true,
         "showgrid": false,
         "title": {
          "text": "Jensen-Shannon distance"
         },
         "zeroline": false
        },
        "yaxis3": {
         "anchor": "x3",
         "domain": [
          0.44,
          0.56
         ],
         "linecolor": "#3b0280",
         "mirror": true,
         "showgrid": false,
         "title": {
          "text": "Jensen-Shannon distance"
         },
         "zeroline": false
        },
        "yaxis4": {
         "anchor": "x4",
         "domain": [
          0.22,
          0.33999999999999997
         ],
         "linecolor": "#3b0280",
         "mirror": true,
         "showgrid": false,
         "title": {
          "text": "Jensen-Shannon distance"
         },
         "zeroline": false
        },
        "yaxis5": {
         "anchor": "x5",
         "domain": [
          0,
          0.12
         ],
         "linecolor": "#3b0280",
         "mirror": true,
         "showgrid": false,
         "title": {
          "text": "Jensen-Shannon distance"
         },
         "zeroline": false
        }
       }
      }
     },
     "metadata": {},
     "output_type": "display_data"
    }
   ],
   "source": [
    "figure = results.filter(column_names=results.continuous_column_names, \n",
    "                        methods=['jensen_shannon'])\\\n",
    "                        .plot(kind='drift')\n",
    "figure.show()"
   ]
  },
  {
   "cell_type": "code",
   "execution_count": null,
   "metadata": {},
   "outputs": [],
   "source": [
    "figure = results.filter(column_names=results.continuous_column_names,\n",
    "                        methods=['jensen_shannon'])\\\n",
    "                        .plot(kind='distribution')\n",
    "figure.show()"
   ]
  },
  {
   "attachments": {},
   "cell_type": "markdown",
   "metadata": {},
   "source": [
    "Kolmogorov-Smirnov Test"
   ]
  },
  {
   "cell_type": "code",
   "execution_count": null,
   "metadata": {},
   "outputs": [],
   "source": [
    "figure = results.filter(column_names=results.continuous_column_names, \n",
    "                        methods=['kolmogorov_smirnov'])\\\n",
    "                        .plot(kind='drift')\n",
    "figure.show()"
   ]
  },
  {
   "cell_type": "code",
   "execution_count": null,
   "metadata": {},
   "outputs": [],
   "source": [
    "figure = results.filter(column_names=results.continuous_column_names, \n",
    "                        methods=['kolmogorov_smirnov'])\\\n",
    "                        .plot(kind='distribution')\n",
    "figure.show()"
   ]
  },
  {
   "attachments": {},
   "cell_type": "markdown",
   "metadata": {},
   "source": [
    "Wasserstein Distance  \n",
    "Hellinger"
   ]
  },
  {
   "attachments": {},
   "cell_type": "markdown",
   "metadata": {},
   "source": [
    "## Categorical"
   ]
  },
  {
   "attachments": {},
   "cell_type": "markdown",
   "metadata": {},
   "source": [
    "Chi Squared"
   ]
  },
  {
   "cell_type": "code",
   "execution_count": null,
   "metadata": {},
   "outputs": [],
   "source": [
    "figure = results.filter(column_names=results.categorical_column_names, \n",
    "                        methods=['chi2'])\\\n",
    "                        .plot(kind='drift')\n",
    "figure.show()"
   ]
  },
  {
   "cell_type": "code",
   "execution_count": null,
   "metadata": {},
   "outputs": [],
   "source": [
    "figure = results.filter(column_names=results.categorical_column_names,\n",
    "                        methods=['chi2'])\\\n",
    "                        .plot(kind='distribution')\n",
    "figure.show()"
   ]
  },
  {
   "attachments": {},
   "cell_type": "markdown",
   "metadata": {},
   "source": [
    "Jensen Shannon Distance"
   ]
  },
  {
   "cell_type": "code",
   "execution_count": null,
   "metadata": {},
   "outputs": [],
   "source": [
    "figure = results.filter(column_names=results.categorical_column_names, \n",
    "                        methods=['jensen_shannon'])\\\n",
    "                        .plot(kind='drift') \n",
    "figure.show()"
   ]
  },
  {
   "cell_type": "code",
   "execution_count": null,
   "metadata": {},
   "outputs": [],
   "source": [
    "figure = results.filter(column_names=results.categorical_column_names,\n",
    "                        methods=['jensen_shannon'])\\\n",
    "                        .plot(kind='distribution')\n",
    "figure.show()"
   ]
  },
  {
   "attachments": {},
   "cell_type": "markdown",
   "metadata": {},
   "source": [
    "L-Infinity  \n",
    "Hellinger"
   ]
  },
  {
   "attachments": {},
   "cell_type": "markdown",
   "metadata": {},
   "source": [
    "# Multivariante Drift Detection"
   ]
  },
  {
   "cell_type": "code",
   "execution_count": 11,
   "metadata": {},
   "outputs": [
    {
     "data": {
      "application/vnd.plotly.v1+json": {
       "config": {
        "plotlyServerURL": "https://plot.ly"
       },
       "data": [
        {
         "hoverinfo": "skip",
         "legendgroup": "metric_reference",
         "line": {
          "color": "#00c8e5",
          "shape": "hv",
          "width": 2
         },
         "mode": "lines",
         "name": "Metric",
         "showlegend": true,
         "type": "scatter",
         "x": [
          "2018-01-01T00:00:00",
          "2018-01-31T06:36:00",
          "2018-03-02T13:12:00",
          "2018-04-01T19:48:00",
          "2018-05-02T02:24:00",
          "2018-06-01T09:00:00",
          "2018-07-01T15:36:00",
          "2018-07-31T22:12:00",
          "2018-08-31T04:48:00",
          "2018-09-30T11:24:00",
          "2018-10-30T17:51:16.848000"
         ],
         "y": [
          1.1364081809409243,
          1.134477989486864,
          1.1360763923259611,
          1.1401143964629232,
          1.126078113672781,
          1.1420178225541335,
          1.1251463791670575,
          1.143206157105769,
          1.130953510509115,
          1.1270259419997948,
          1.1270259419997948
         ]
        },
        {
         "customdata": [
          [
           "Data reconstruction drift",
           "<b style=\"color:#00c8e5;line-height:60px\">Reference</b>",
           "",
           "[0:4999]",
           "From <b>Jan-01-2018</b> to <b>Jan-31-2018</b>",
           1.1364,
           0.021
          ],
          [
           "Data reconstruction drift",
           "<b style=\"color:#00c8e5;line-height:60px\">Reference</b>",
           "",
           "[5000:9999]",
           "From <b>Jan-31-2018</b> to <b>Mar-02-2018</b>",
           1.1345,
           0.021
          ],
          [
           "Data reconstruction drift",
           "<b style=\"color:#00c8e5;line-height:60px\">Reference</b>",
           "",
           "[10000:14999]",
           "From <b>Mar-02-2018</b> to <b>Apr-01-2018</b>",
           1.1361,
           0.021
          ],
          [
           "Data reconstruction drift",
           "<b style=\"color:#00c8e5;line-height:60px\">Reference</b>",
           "",
           "[15000:19999]",
           "From <b>Apr-01-2018</b> to <b>May-02-2018</b>",
           1.1401,
           0.021
          ],
          [
           "Data reconstruction drift",
           "<b style=\"color:#00c8e5;line-height:60px\">Reference</b>",
           "",
           "[20000:24999]",
           "From <b>May-02-2018</b> to <b>Jun-01-2018</b>",
           1.1261,
           0.021
          ],
          [
           "Data reconstruction drift",
           "<b style=\"color:#00c8e5;line-height:60px\">Reference</b>",
           "",
           "[25000:29999]",
           "From <b>Jun-01-2018</b> to <b>Jul-01-2018</b>",
           1.142,
           0.021
          ],
          [
           "Data reconstruction drift",
           "<b style=\"color:#00c8e5;line-height:60px\">Reference</b>",
           "",
           "[30000:34999]",
           "From <b>Jul-01-2018</b> to <b>Jul-31-2018</b>",
           1.1251,
           0.021
          ],
          [
           "Data reconstruction drift",
           "<b style=\"color:#00c8e5;line-height:60px\">Reference</b>",
           "",
           "[35000:39999]",
           "From <b>Jul-31-2018</b> to <b>Aug-31-2018</b>",
           1.1432,
           0.021
          ],
          [
           "Data reconstruction drift",
           "<b style=\"color:#00c8e5;line-height:60px\">Reference</b>",
           "",
           "[40000:44999]",
           "From <b>Aug-31-2018</b> to <b>Sep-30-2018</b>",
           1.131,
           0.021
          ],
          [
           "Data reconstruction drift",
           "<b style=\"color:#00c8e5;line-height:60px\">Reference</b>",
           "",
           "[45000:49999]",
           "From <b>Sep-30-2018</b> to <b>Oct-30-2018</b>",
           1.127,
           0.021
          ]
         ],
         "hovertemplate": "%{customdata[1]} &nbsp; &nbsp; %{customdata[2]} <br />Chunk: <b>%{customdata[3]}</b> &nbsp; &nbsp; %{customdata[4]} <br />%{customdata[0]}: <b>%{customdata[5]}</b><br />Confidence band: +/- <b>%{customdata[6]}</b><br /><extra></extra>",
         "legendgroup": "metric_reference",
         "marker": {
          "color": "#00c8e5",
          "size": 5,
          "symbol": "circle"
         },
         "mode": "markers",
         "name": "Metric",
         "showlegend": false,
         "type": "scatter",
         "x": [
          "2018-01-16T03:18:00",
          "2018-02-15T09:54:00",
          "2018-03-17T16:30:00",
          "2018-04-16T23:06:00",
          "2018-05-17T05:42:00",
          "2018-06-16T12:18:00",
          "2018-07-16T18:54:00",
          "2018-08-16T01:30:00",
          "2018-09-15T08:06:00",
          "2018-10-15T14:37:38.424000"
         ],
         "y": [
          1.1364081809409243,
          1.134477989486864,
          1.1360763923259611,
          1.1401143964629232,
          1.126078113672781,
          1.1420178225541335,
          1.1251463791670575,
          1.143206157105769,
          1.130953510509115,
          1.1270259419997948,
          1.1270259419997948
         ]
        },
        {
         "hoverinfo": "skip",
         "legendgroup": "metric_analysis",
         "line": {
          "color": "#00c8e5",
          "shape": "hv",
          "width": 2
         },
         "mode": "lines",
         "name": "Metric",
         "showlegend": false,
         "type": "scatter",
         "x": [
          "2018-10-30T18:00:00",
          "2018-11-30T00:36:00",
          "2018-12-30T07:12:00",
          "2019-01-29T13:48:00",
          "2019-02-28T20:24:00",
          "2019-03-31T03:00:00",
          "2019-04-30T09:36:00",
          "2019-05-30T16:12:00",
          "2019-06-29T22:48:00",
          "2019-07-30T05:24:00",
          "2019-08-29T11:51:16.848000"
         ],
         "y": [
          1.1415167360570921,
          1.130636404626367,
          1.1389142568036612,
          1.145040278718482,
          1.1375628170543015,
          1.249205229639025,
          1.243101488735435,
          1.2581468610835445,
          1.2281786294002082,
          1.2598837521769455,
          1.2598837521769455
         ]
        },
        {
         "customdata": [
          [
           "Data reconstruction drift",
           "<b style=\"color:#3b0280;line-height:60px\">Analysis</b>",
           "",
           "[0:4999]",
           "From <b>Oct-30-2018</b> to <b>Nov-30-2018</b>",
           1.1415,
           0.021
          ],
          [
           "Data reconstruction drift",
           "<b style=\"color:#3b0280;line-height:60px\">Analysis</b>",
           "",
           "[5000:9999]",
           "From <b>Nov-30-2018</b> to <b>Dec-30-2018</b>",
           1.1306,
           0.021
          ],
          [
           "Data reconstruction drift",
           "<b style=\"color:#3b0280;line-height:60px\">Analysis</b>",
           "",
           "[10000:14999]",
           "From <b>Dec-30-2018</b> to <b>Jan-29-2019</b>",
           1.1389,
           0.021
          ],
          [
           "Data reconstruction drift",
           "<b style=\"color:#3b0280;line-height:60px\">Analysis</b>",
           "",
           "[15000:19999]",
           "From <b>Jan-29-2019</b> to <b>Feb-28-2019</b>",
           1.145,
           0.021
          ],
          [
           "Data reconstruction drift",
           "<b style=\"color:#3b0280;line-height:60px\">Analysis</b>",
           "",
           "[20000:24999]",
           "From <b>Feb-28-2019</b> to <b>Mar-31-2019</b>",
           1.1376,
           0.021
          ],
          [
           "Data reconstruction drift",
           "<b style=\"color:#3b0280;line-height:60px\">Analysis</b>",
           "<span style=\"color:#AD0000\">⚠ <b>Drift detected</b></span>",
           "[25000:29999]",
           "From <b>Mar-31-2019</b> to <b>Apr-30-2019</b>",
           1.2492,
           0.021
          ],
          [
           "Data reconstruction drift",
           "<b style=\"color:#3b0280;line-height:60px\">Analysis</b>",
           "<span style=\"color:#AD0000\">⚠ <b>Drift detected</b></span>",
           "[30000:34999]",
           "From <b>Apr-30-2019</b> to <b>May-30-2019</b>",
           1.2431,
           0.021
          ],
          [
           "Data reconstruction drift",
           "<b style=\"color:#3b0280;line-height:60px\">Analysis</b>",
           "<span style=\"color:#AD0000\">⚠ <b>Drift detected</b></span>",
           "[35000:39999]",
           "From <b>May-30-2019</b> to <b>Jun-29-2019</b>",
           1.2581,
           0.021
          ],
          [
           "Data reconstruction drift",
           "<b style=\"color:#3b0280;line-height:60px\">Analysis</b>",
           "<span style=\"color:#AD0000\">⚠ <b>Drift detected</b></span>",
           "[40000:44999]",
           "From <b>Jun-29-2019</b> to <b>Jul-30-2019</b>",
           1.2282,
           0.021
          ],
          [
           "Data reconstruction drift",
           "<b style=\"color:#3b0280;line-height:60px\">Analysis</b>",
           "<span style=\"color:#AD0000\">⚠ <b>Drift detected</b></span>",
           "[45000:49999]",
           "From <b>Jul-30-2019</b> to <b>Aug-29-2019</b>",
           1.2599,
           0.021
          ]
         ],
         "hovertemplate": "%{customdata[1]} &nbsp; &nbsp; %{customdata[2]} <br />Chunk: <b>%{customdata[3]}</b> &nbsp; &nbsp; %{customdata[4]} <br />%{customdata[0]}: <b>%{customdata[5]}</b><br />Confidence band: +/- <b>%{customdata[6]}</b><br /><extra></extra>",
         "legendgroup": "metric_analysis",
         "marker": {
          "color": "#00c8e5",
          "size": 5,
          "symbol": "circle"
         },
         "mode": "markers",
         "name": "Metric",
         "showlegend": false,
         "type": "scatter",
         "x": [
          "2018-11-14T21:18:00",
          "2018-12-15T03:54:00",
          "2019-01-14T10:30:00",
          "2019-02-13T17:06:00",
          "2019-03-15T23:42:00",
          "2019-04-15T06:18:00",
          "2019-05-15T12:54:00",
          "2019-06-14T19:30:00",
          "2019-07-15T02:06:00",
          "2019-08-14T08:37:38.424000"
         ],
         "y": [
          1.1415167360570921,
          1.130636404626367,
          1.1389142568036612,
          1.145040278718482,
          1.1375628170543015,
          1.249205229639025,
          1.243101488735435,
          1.2581468610835445,
          1.2281786294002082,
          1.2598837521769455,
          1.2598837521769455
         ]
        },
        {
         "hoverinfo": "skip",
         "legendgroup": "alert",
         "marker": {
          "color": "#DD4040",
          "size": 8,
          "symbol": "diamond"
         },
         "mode": "markers",
         "name": "Alert",
         "showlegend": true,
         "type": "scatter",
         "x": [
          "2019-04-15T06:18:00",
          "2019-05-15T12:54:00",
          "2019-06-14T19:30:00",
          "2019-07-15T02:06:00",
          "2019-08-14T08:37:38.424000"
         ],
         "y": [
          1.249205229639025,
          1.243101488735435,
          1.2581468610835445,
          1.2281786294002082,
          1.2598837521769455
         ]
        },
        {
         "hoverinfo": "skip",
         "legendgroup": "thresh",
         "line": {
          "color": "#DD4040",
          "dash": "dash",
          "width": 2
         },
         "mode": "lines",
         "name": "Threshold",
         "showlegend": false,
         "type": "scatter",
         "x": [
          "2018-01-01T00:00:00",
          "2018-01-31T06:36:00",
          "2018-03-02T13:12:00",
          "2018-04-01T19:48:00",
          "2018-05-02T02:24:00",
          "2018-06-01T09:00:00",
          "2018-07-01T15:36:00",
          "2018-07-31T22:12:00",
          "2018-08-31T04:48:00",
          "2018-09-30T11:24:00",
          "2018-10-30T17:51:16.848000"
         ],
         "y": [
          1.1530194836139023,
          1.1530194836139023,
          1.1530194836139023,
          1.1530194836139023,
          1.1530194836139023,
          1.1530194836139023,
          1.1530194836139023,
          1.1530194836139023,
          1.1530194836139023,
          1.1530194836139023,
          1.1530194836139023
         ]
        },
        {
         "hoverinfo": "skip",
         "legendgroup": "thresh",
         "line": {
          "color": "#DD4040",
          "dash": "dash",
          "width": 2
         },
         "mode": "lines",
         "name": "Threshold",
         "showlegend": false,
         "type": "scatter",
         "x": [
          "2018-01-01T00:00:00",
          "2018-01-31T06:36:00",
          "2018-03-02T13:12:00",
          "2018-04-01T19:48:00",
          "2018-05-02T02:24:00",
          "2018-06-01T09:00:00",
          "2018-07-01T15:36:00",
          "2018-07-31T22:12:00",
          "2018-08-31T04:48:00",
          "2018-09-30T11:24:00",
          "2018-10-30T17:51:16.848000"
         ],
         "y": [
          1.1152814932311625,
          1.1152814932311625,
          1.1152814932311625,
          1.1152814932311625,
          1.1152814932311625,
          1.1152814932311625,
          1.1152814932311625,
          1.1152814932311625,
          1.1152814932311625,
          1.1152814932311625,
          1.1152814932311625
         ]
        },
        {
         "hoverinfo": "skip",
         "legendgroup": "thresh",
         "line": {
          "color": "#DD4040",
          "dash": "dash",
          "width": 2
         },
         "mode": "lines",
         "name": "Threshold",
         "showlegend": false,
         "type": "scatter",
         "x": [
          "2018-10-30T18:00:00",
          "2018-11-30T00:36:00",
          "2018-12-30T07:12:00",
          "2019-01-29T13:48:00",
          "2019-02-28T20:24:00",
          "2019-03-31T03:00:00",
          "2019-04-30T09:36:00",
          "2019-05-30T16:12:00",
          "2019-06-29T22:48:00",
          "2019-07-30T05:24:00",
          "2019-08-29T11:51:16.848000"
         ],
         "y": [
          1.1530194836139023,
          1.1530194836139023,
          1.1530194836139023,
          1.1530194836139023,
          1.1530194836139023,
          1.1530194836139023,
          1.1530194836139023,
          1.1530194836139023,
          1.1530194836139023,
          1.1530194836139023,
          1.1530194836139023
         ]
        },
        {
         "hoverinfo": "skip",
         "legendgroup": "thresh",
         "line": {
          "color": "#DD4040",
          "dash": "dash",
          "width": 2
         },
         "mode": "lines",
         "name": "Threshold",
         "showlegend": false,
         "type": "scatter",
         "x": [
          "2018-10-30T18:00:00",
          "2018-11-30T00:36:00",
          "2018-12-30T07:12:00",
          "2019-01-29T13:48:00",
          "2019-02-28T20:24:00",
          "2019-03-31T03:00:00",
          "2019-04-30T09:36:00",
          "2019-05-30T16:12:00",
          "2019-06-29T22:48:00",
          "2019-07-30T05:24:00",
          "2019-08-29T11:51:16.848000"
         ],
         "y": [
          1.1152814932311625,
          1.1152814932311625,
          1.1152814932311625,
          1.1152814932311625,
          1.1152814932311625,
          1.1152814932311625,
          1.1152814932311625,
          1.1152814932311625,
          1.1152814932311625,
          1.1152814932311625,
          1.1152814932311625
         ]
        },
        {
         "hoverinfo": "skip",
         "line": {
          "color": "rgba(0,0,0,0)",
          "shape": "hv"
         },
         "mode": "lines",
         "name": "Confidence band",
         "showlegend": false,
         "type": "scatter",
         "x": [
          "2018-01-01T00:00:00",
          "2018-01-31T06:36:00",
          "2018-03-02T13:12:00",
          "2018-04-01T19:48:00",
          "2018-05-02T02:24:00",
          "2018-06-01T09:00:00",
          "2018-07-01T15:36:00",
          "2018-07-31T22:12:00",
          "2018-08-31T04:48:00",
          "2018-09-30T11:24:00",
          "2018-10-30T17:51:16.848000"
         ],
         "y": [
          1.1573966671575402,
          1.1554664757034798,
          1.157064878542577,
          1.161102882679539,
          1.147066599889397,
          1.1630063087707494,
          1.1461348653836734,
          1.1641946433223849,
          1.151941996725731,
          1.1480144282164106,
          1.1480144282164106
         ]
        },
        {
         "fill": "tonexty",
         "fillcolor": "rgba(0.0, 0.7843137254901961, 0.8980392156862745, 0.2)",
         "hoverinfo": "skip",
         "line": {
          "color": "rgba(0,0,0,0)",
          "shape": "hv"
         },
         "mode": "lines",
         "name": "Confidence band",
         "showlegend": true,
         "type": "scatter",
         "x": [
          "2018-01-01T00:00:00",
          "2018-01-31T06:36:00",
          "2018-03-02T13:12:00",
          "2018-04-01T19:48:00",
          "2018-05-02T02:24:00",
          "2018-06-01T09:00:00",
          "2018-07-01T15:36:00",
          "2018-07-31T22:12:00",
          "2018-08-31T04:48:00",
          "2018-09-30T11:24:00",
          "2018-10-30T17:51:16.848000"
         ],
         "y": [
          1.1154196947243085,
          1.113489503270248,
          1.1150879061093453,
          1.1191259102463074,
          1.1050896274561652,
          1.1210293363375177,
          1.1041578929504416,
          1.1222176708891531,
          1.1099650242924992,
          1.106037455783179,
          1.106037455783179
         ]
        },
        {
         "hoverinfo": "skip",
         "line": {
          "color": "rgba(0,0,0,0)",
          "shape": "hv"
         },
         "mode": "lines",
         "name": "Confidence band",
         "showlegend": false,
         "type": "scatter",
         "x": [
          "2018-10-30T18:00:00",
          "2018-11-30T00:36:00",
          "2018-12-30T07:12:00",
          "2019-01-29T13:48:00",
          "2019-02-28T20:24:00",
          "2019-03-31T03:00:00",
          "2019-04-30T09:36:00",
          "2019-05-30T16:12:00",
          "2019-06-29T22:48:00",
          "2019-07-30T05:24:00",
          "2019-08-29T11:51:16.848000"
         ],
         "y": [
          1.162505222273708,
          1.151624890842983,
          1.159902743020277,
          1.1660287649350978,
          1.1585513032709174,
          1.270193715855641,
          1.2640899749520509,
          1.2791353473001603,
          1.249167115616824,
          1.2808722383935613,
          1.2808722383935613
         ]
        },
        {
         "fill": "tonexty",
         "fillcolor": "rgba(0.0, 0.7843137254901961, 0.8980392156862745, 0.2)",
         "hoverinfo": "skip",
         "line": {
          "color": "rgba(0,0,0,0)",
          "shape": "hv"
         },
         "mode": "lines",
         "name": "Confidence band",
         "showlegend": false,
         "type": "scatter",
         "x": [
          "2018-10-30T18:00:00",
          "2018-11-30T00:36:00",
          "2018-12-30T07:12:00",
          "2019-01-29T13:48:00",
          "2019-02-28T20:24:00",
          "2019-03-31T03:00:00",
          "2019-04-30T09:36:00",
          "2019-05-30T16:12:00",
          "2019-06-29T22:48:00",
          "2019-07-30T05:24:00",
          "2019-08-29T11:51:16.848000"
         ],
         "y": [
          1.1205282498404763,
          1.1096479184097512,
          1.1179257705870453,
          1.124051792501866,
          1.1165743308376856,
          1.2282167434224092,
          1.2221130025188192,
          1.2371583748669286,
          1.2071901431835923,
          1.2388952659603296,
          1.2388952659603296
         ]
        }
       ],
       "layout": {
        "annotations": [
         {
          "showarrow": false,
          "text": "Reference",
          "x": "2018-05-17T05:42:00",
          "xshift": 10,
          "y": 1.01,
          "yref": "y domain"
         },
         {
          "showarrow": false,
          "text": "Analysis",
          "x": "2019-03-15T23:42:00",
          "xshift": 15,
          "y": 1.01,
          "yref": "y domain"
         }
        ],
        "hoverlabel": {
         "bgcolor": "white",
         "font": {
          "size": 14
         }
        },
        "legend": {
         "itemclick": false,
         "itemdoubleclick": false,
         "traceorder": "grouped"
        },
        "paper_bgcolor": "rgba(255,255,255,1)",
        "plot_bgcolor": "rgba(255,255,255,1)",
        "shapes": [
         {
          "layer": "below",
          "line": {
           "color": "#666666",
           "width": 1
          },
          "type": "line",
          "x0": "2018-10-30T18:00:00",
          "x1": "2018-10-30T18:00:00",
          "xref": "x",
          "y0": 0,
          "y1": 1,
          "yref": "y domain"
         }
        ],
        "template": {
         "data": {
          "bar": [
           {
            "error_x": {
             "color": "#2a3f5f"
            },
            "error_y": {
             "color": "#2a3f5f"
            },
            "marker": {
             "line": {
              "color": "#E5ECF6",
              "width": 0.5
             },
             "pattern": {
              "fillmode": "overlay",
              "size": 10,
              "solidity": 0.2
             }
            },
            "type": "bar"
           }
          ],
          "barpolar": [
           {
            "marker": {
             "line": {
              "color": "#E5ECF6",
              "width": 0.5
             },
             "pattern": {
              "fillmode": "overlay",
              "size": 10,
              "solidity": 0.2
             }
            },
            "type": "barpolar"
           }
          ],
          "carpet": [
           {
            "aaxis": {
             "endlinecolor": "#2a3f5f",
             "gridcolor": "white",
             "linecolor": "white",
             "minorgridcolor": "white",
             "startlinecolor": "#2a3f5f"
            },
            "baxis": {
             "endlinecolor": "#2a3f5f",
             "gridcolor": "white",
             "linecolor": "white",
             "minorgridcolor": "white",
             "startlinecolor": "#2a3f5f"
            },
            "type": "carpet"
           }
          ],
          "choropleth": [
           {
            "colorbar": {
             "outlinewidth": 0,
             "ticks": ""
            },
            "type": "choropleth"
           }
          ],
          "contour": [
           {
            "colorbar": {
             "outlinewidth": 0,
             "ticks": ""
            },
            "colorscale": [
             [
              0,
              "#0d0887"
             ],
             [
              0.1111111111111111,
              "#46039f"
             ],
             [
              0.2222222222222222,
              "#7201a8"
             ],
             [
              0.3333333333333333,
              "#9c179e"
             ],
             [
              0.4444444444444444,
              "#bd3786"
             ],
             [
              0.5555555555555556,
              "#d8576b"
             ],
             [
              0.6666666666666666,
              "#ed7953"
             ],
             [
              0.7777777777777778,
              "#fb9f3a"
             ],
             [
              0.8888888888888888,
              "#fdca26"
             ],
             [
              1,
              "#f0f921"
             ]
            ],
            "type": "contour"
           }
          ],
          "contourcarpet": [
           {
            "colorbar": {
             "outlinewidth": 0,
             "ticks": ""
            },
            "type": "contourcarpet"
           }
          ],
          "heatmap": [
           {
            "colorbar": {
             "outlinewidth": 0,
             "ticks": ""
            },
            "colorscale": [
             [
              0,
              "#0d0887"
             ],
             [
              0.1111111111111111,
              "#46039f"
             ],
             [
              0.2222222222222222,
              "#7201a8"
             ],
             [
              0.3333333333333333,
              "#9c179e"
             ],
             [
              0.4444444444444444,
              "#bd3786"
             ],
             [
              0.5555555555555556,
              "#d8576b"
             ],
             [
              0.6666666666666666,
              "#ed7953"
             ],
             [
              0.7777777777777778,
              "#fb9f3a"
             ],
             [
              0.8888888888888888,
              "#fdca26"
             ],
             [
              1,
              "#f0f921"
             ]
            ],
            "type": "heatmap"
           }
          ],
          "heatmapgl": [
           {
            "colorbar": {
             "outlinewidth": 0,
             "ticks": ""
            },
            "colorscale": [
             [
              0,
              "#0d0887"
             ],
             [
              0.1111111111111111,
              "#46039f"
             ],
             [
              0.2222222222222222,
              "#7201a8"
             ],
             [
              0.3333333333333333,
              "#9c179e"
             ],
             [
              0.4444444444444444,
              "#bd3786"
             ],
             [
              0.5555555555555556,
              "#d8576b"
             ],
             [
              0.6666666666666666,
              "#ed7953"
             ],
             [
              0.7777777777777778,
              "#fb9f3a"
             ],
             [
              0.8888888888888888,
              "#fdca26"
             ],
             [
              1,
              "#f0f921"
             ]
            ],
            "type": "heatmapgl"
           }
          ],
          "histogram": [
           {
            "marker": {
             "pattern": {
              "fillmode": "overlay",
              "size": 10,
              "solidity": 0.2
             }
            },
            "type": "histogram"
           }
          ],
          "histogram2d": [
           {
            "colorbar": {
             "outlinewidth": 0,
             "ticks": ""
            },
            "colorscale": [
             [
              0,
              "#0d0887"
             ],
             [
              0.1111111111111111,
              "#46039f"
             ],
             [
              0.2222222222222222,
              "#7201a8"
             ],
             [
              0.3333333333333333,
              "#9c179e"
             ],
             [
              0.4444444444444444,
              "#bd3786"
             ],
             [
              0.5555555555555556,
              "#d8576b"
             ],
             [
              0.6666666666666666,
              "#ed7953"
             ],
             [
              0.7777777777777778,
              "#fb9f3a"
             ],
             [
              0.8888888888888888,
              "#fdca26"
             ],
             [
              1,
              "#f0f921"
             ]
            ],
            "type": "histogram2d"
           }
          ],
          "histogram2dcontour": [
           {
            "colorbar": {
             "outlinewidth": 0,
             "ticks": ""
            },
            "colorscale": [
             [
              0,
              "#0d0887"
             ],
             [
              0.1111111111111111,
              "#46039f"
             ],
             [
              0.2222222222222222,
              "#7201a8"
             ],
             [
              0.3333333333333333,
              "#9c179e"
             ],
             [
              0.4444444444444444,
              "#bd3786"
             ],
             [
              0.5555555555555556,
              "#d8576b"
             ],
             [
              0.6666666666666666,
              "#ed7953"
             ],
             [
              0.7777777777777778,
              "#fb9f3a"
             ],
             [
              0.8888888888888888,
              "#fdca26"
             ],
             [
              1,
              "#f0f921"
             ]
            ],
            "type": "histogram2dcontour"
           }
          ],
          "mesh3d": [
           {
            "colorbar": {
             "outlinewidth": 0,
             "ticks": ""
            },
            "type": "mesh3d"
           }
          ],
          "parcoords": [
           {
            "line": {
             "colorbar": {
              "outlinewidth": 0,
              "ticks": ""
             }
            },
            "type": "parcoords"
           }
          ],
          "pie": [
           {
            "automargin": true,
            "type": "pie"
           }
          ],
          "scatter": [
           {
            "fillpattern": {
             "fillmode": "overlay",
             "size": 10,
             "solidity": 0.2
            },
            "type": "scatter"
           }
          ],
          "scatter3d": [
           {
            "line": {
             "colorbar": {
              "outlinewidth": 0,
              "ticks": ""
             }
            },
            "marker": {
             "colorbar": {
              "outlinewidth": 0,
              "ticks": ""
             }
            },
            "type": "scatter3d"
           }
          ],
          "scattercarpet": [
           {
            "marker": {
             "colorbar": {
              "outlinewidth": 0,
              "ticks": ""
             }
            },
            "type": "scattercarpet"
           }
          ],
          "scattergeo": [
           {
            "marker": {
             "colorbar": {
              "outlinewidth": 0,
              "ticks": ""
             }
            },
            "type": "scattergeo"
           }
          ],
          "scattergl": [
           {
            "marker": {
             "colorbar": {
              "outlinewidth": 0,
              "ticks": ""
             }
            },
            "type": "scattergl"
           }
          ],
          "scattermapbox": [
           {
            "marker": {
             "colorbar": {
              "outlinewidth": 0,
              "ticks": ""
             }
            },
            "type": "scattermapbox"
           }
          ],
          "scatterpolar": [
           {
            "marker": {
             "colorbar": {
              "outlinewidth": 0,
              "ticks": ""
             }
            },
            "type": "scatterpolar"
           }
          ],
          "scatterpolargl": [
           {
            "marker": {
             "colorbar": {
              "outlinewidth": 0,
              "ticks": ""
             }
            },
            "type": "scatterpolargl"
           }
          ],
          "scatterternary": [
           {
            "marker": {
             "colorbar": {
              "outlinewidth": 0,
              "ticks": ""
             }
            },
            "type": "scatterternary"
           }
          ],
          "surface": [
           {
            "colorbar": {
             "outlinewidth": 0,
             "ticks": ""
            },
            "colorscale": [
             [
              0,
              "#0d0887"
             ],
             [
              0.1111111111111111,
              "#46039f"
             ],
             [
              0.2222222222222222,
              "#7201a8"
             ],
             [
              0.3333333333333333,
              "#9c179e"
             ],
             [
              0.4444444444444444,
              "#bd3786"
             ],
             [
              0.5555555555555556,
              "#d8576b"
             ],
             [
              0.6666666666666666,
              "#ed7953"
             ],
             [
              0.7777777777777778,
              "#fb9f3a"
             ],
             [
              0.8888888888888888,
              "#fdca26"
             ],
             [
              1,
              "#f0f921"
             ]
            ],
            "type": "surface"
           }
          ],
          "table": [
           {
            "cells": {
             "fill": {
              "color": "#EBF0F8"
             },
             "line": {
              "color": "white"
             }
            },
            "header": {
             "fill": {
              "color": "#C8D4E3"
             },
             "line": {
              "color": "white"
             }
            },
            "type": "table"
           }
          ]
         },
         "layout": {
          "annotationdefaults": {
           "arrowcolor": "#2a3f5f",
           "arrowhead": 0,
           "arrowwidth": 1
          },
          "autotypenumbers": "strict",
          "coloraxis": {
           "colorbar": {
            "outlinewidth": 0,
            "ticks": ""
           }
          },
          "colorscale": {
           "diverging": [
            [
             0,
             "#8e0152"
            ],
            [
             0.1,
             "#c51b7d"
            ],
            [
             0.2,
             "#de77ae"
            ],
            [
             0.3,
             "#f1b6da"
            ],
            [
             0.4,
             "#fde0ef"
            ],
            [
             0.5,
             "#f7f7f7"
            ],
            [
             0.6,
             "#e6f5d0"
            ],
            [
             0.7,
             "#b8e186"
            ],
            [
             0.8,
             "#7fbc41"
            ],
            [
             0.9,
             "#4d9221"
            ],
            [
             1,
             "#276419"
            ]
           ],
           "sequential": [
            [
             0,
             "#0d0887"
            ],
            [
             0.1111111111111111,
             "#46039f"
            ],
            [
             0.2222222222222222,
             "#7201a8"
            ],
            [
             0.3333333333333333,
             "#9c179e"
            ],
            [
             0.4444444444444444,
             "#bd3786"
            ],
            [
             0.5555555555555556,
             "#d8576b"
            ],
            [
             0.6666666666666666,
             "#ed7953"
            ],
            [
             0.7777777777777778,
             "#fb9f3a"
            ],
            [
             0.8888888888888888,
             "#fdca26"
            ],
            [
             1,
             "#f0f921"
            ]
           ],
           "sequentialminus": [
            [
             0,
             "#0d0887"
            ],
            [
             0.1111111111111111,
             "#46039f"
            ],
            [
             0.2222222222222222,
             "#7201a8"
            ],
            [
             0.3333333333333333,
             "#9c179e"
            ],
            [
             0.4444444444444444,
             "#bd3786"
            ],
            [
             0.5555555555555556,
             "#d8576b"
            ],
            [
             0.6666666666666666,
             "#ed7953"
            ],
            [
             0.7777777777777778,
             "#fb9f3a"
            ],
            [
             0.8888888888888888,
             "#fdca26"
            ],
            [
             1,
             "#f0f921"
            ]
           ]
          },
          "colorway": [
           "#636efa",
           "#EF553B",
           "#00cc96",
           "#ab63fa",
           "#FFA15A",
           "#19d3f3",
           "#FF6692",
           "#B6E880",
           "#FF97FF",
           "#FECB52"
          ],
          "font": {
           "color": "#2a3f5f"
          },
          "geo": {
           "bgcolor": "white",
           "lakecolor": "white",
           "landcolor": "#E5ECF6",
           "showlakes": true,
           "showland": true,
           "subunitcolor": "white"
          },
          "hoverlabel": {
           "align": "left"
          },
          "hovermode": "closest",
          "mapbox": {
           "style": "light"
          },
          "paper_bgcolor": "white",
          "plot_bgcolor": "#E5ECF6",
          "polar": {
           "angularaxis": {
            "gridcolor": "white",
            "linecolor": "white",
            "ticks": ""
           },
           "bgcolor": "#E5ECF6",
           "radialaxis": {
            "gridcolor": "white",
            "linecolor": "white",
            "ticks": ""
           }
          },
          "scene": {
           "xaxis": {
            "backgroundcolor": "#E5ECF6",
            "gridcolor": "white",
            "gridwidth": 2,
            "linecolor": "white",
            "showbackground": true,
            "ticks": "",
            "zerolinecolor": "white"
           },
           "yaxis": {
            "backgroundcolor": "#E5ECF6",
            "gridcolor": "white",
            "gridwidth": 2,
            "linecolor": "white",
            "showbackground": true,
            "ticks": "",
            "zerolinecolor": "white"
           },
           "zaxis": {
            "backgroundcolor": "#E5ECF6",
            "gridcolor": "white",
            "gridwidth": 2,
            "linecolor": "white",
            "showbackground": true,
            "ticks": "",
            "zerolinecolor": "white"
           }
          },
          "shapedefaults": {
           "line": {
            "color": "#2a3f5f"
           }
          },
          "ternary": {
           "aaxis": {
            "gridcolor": "white",
            "linecolor": "white",
            "ticks": ""
           },
           "baxis": {
            "gridcolor": "white",
            "linecolor": "white",
            "ticks": ""
           },
           "bgcolor": "#E5ECF6",
           "caxis": {
            "gridcolor": "white",
            "linecolor": "white",
            "ticks": ""
           }
          },
          "title": {
           "x": 0.05
          },
          "xaxis": {
           "automargin": true,
           "gridcolor": "white",
           "linecolor": "white",
           "ticks": "",
           "title": {
            "standoff": 15
           },
           "zerolinecolor": "white",
           "zerolinewidth": 2
          },
          "yaxis": {
           "automargin": true,
           "gridcolor": "white",
           "linecolor": "white",
           "ticks": "",
           "title": {
            "standoff": 15
           },
           "zerolinecolor": "white",
           "zerolinewidth": 2
          }
         }
        },
        "title": {
         "text": "Multivariate drift (PCA reconstruction error)"
        },
        "xaxis": {
         "linecolor": "#3b0280",
         "matches": "x",
         "mirror": true,
         "showgrid": false,
         "title": {
          "text": "Time"
         },
         "zeroline": false
        },
        "yaxis": {
         "linecolor": "#3b0280",
         "mirror": true,
         "showgrid": false,
         "title": {
          "text": "Data reconstruction drift"
         },
         "zeroline": false
        }
       }
      }
     },
     "metadata": {},
     "output_type": "display_data"
    }
   ],
   "source": [
    "non_feature_columns = ['timestamp', 'y_pred_proba', 'y_pred', 'repaid']\n",
    "\n",
    "# Define feature columns\n",
    "feature_column_names = [\n",
    "    col for col in reference_df.columns\n",
    "    if col not in non_feature_columns\n",
    "]\n",
    "\n",
    "multivariante_calculator = nml.DataReconstructionDriftCalculator(\n",
    "    column_names=feature_column_names,\n",
    "    timestamp_column_name='timestamp',\n",
    "    chunk_size=5000\n",
    ")\n",
    "multivariante_calculator.fit(reference_df)\n",
    "results = multivariante_calculator.calculate(analysis_df)\n",
    "\n",
    "# display(results.filter(period='analysis').to_df())\n",
    "\n",
    "# display(results.filter(period='reference').to_df())\n",
    "\n",
    "figure = results.plot()\n",
    "figure.show()"
   ]
  },
  {
   "attachments": {},
   "cell_type": "markdown",
   "metadata": {},
   "source": [
    "# Data Quality Checks"
   ]
  },
  {
   "attachments": {},
   "cell_type": "markdown",
   "metadata": {},
   "source": [
    "## Missing Values Detection"
   ]
  },
  {
   "cell_type": "code",
   "execution_count": 14,
   "metadata": {},
   "outputs": [],
   "source": [
    "# impute in first 1000 rows in columns loan_length value NaN\n",
    "analysis_df.loc[0:1000, 'loan_length'] = np.nan"
   ]
  },
  {
   "cell_type": "code",
   "execution_count": 16,
   "metadata": {},
   "outputs": [
    {
     "data": {
      "text/html": [
       "<div>\n",
       "<style scoped>\n",
       "    .dataframe tbody tr th:only-of-type {\n",
       "        vertical-align: middle;\n",
       "    }\n",
       "\n",
       "    .dataframe tbody tr th {\n",
       "        vertical-align: top;\n",
       "    }\n",
       "\n",
       "    .dataframe thead tr th {\n",
       "        text-align: left;\n",
       "    }\n",
       "</style>\n",
       "<table border=\"1\" class=\"dataframe\">\n",
       "  <thead>\n",
       "    <tr>\n",
       "      <th></th>\n",
       "      <th colspan=\"7\" halign=\"left\">chunk</th>\n",
       "      <th colspan=\"3\" halign=\"left\">car_value</th>\n",
       "      <th>...</th>\n",
       "      <th colspan=\"3\" halign=\"left\">size_of_downpayment</th>\n",
       "      <th colspan=\"7\" halign=\"left\">driver_tenure</th>\n",
       "    </tr>\n",
       "    <tr>\n",
       "      <th></th>\n",
       "      <th>key</th>\n",
       "      <th>chunk_index</th>\n",
       "      <th>start_index</th>\n",
       "      <th>end_index</th>\n",
       "      <th>start_date</th>\n",
       "      <th>end_date</th>\n",
       "      <th>period</th>\n",
       "      <th>value</th>\n",
       "      <th>sampling_error</th>\n",
       "      <th>upper_confidence_boundary</th>\n",
       "      <th>...</th>\n",
       "      <th>upper_threshold</th>\n",
       "      <th>lower_threshold</th>\n",
       "      <th>alert</th>\n",
       "      <th>value</th>\n",
       "      <th>sampling_error</th>\n",
       "      <th>upper_confidence_boundary</th>\n",
       "      <th>lower_confidence_boundary</th>\n",
       "      <th>upper_threshold</th>\n",
       "      <th>lower_threshold</th>\n",
       "      <th>alert</th>\n",
       "    </tr>\n",
       "  </thead>\n",
       "  <tbody>\n",
       "    <tr>\n",
       "      <th>0</th>\n",
       "      <td>[0:4999]</td>\n",
       "      <td>0</td>\n",
       "      <td>0</td>\n",
       "      <td>4999</td>\n",
       "      <td>None</td>\n",
       "      <td>None</td>\n",
       "      <td>reference</td>\n",
       "      <td>0.0</td>\n",
       "      <td>0.0</td>\n",
       "      <td>0.0</td>\n",
       "      <td>...</td>\n",
       "      <td>0.0</td>\n",
       "      <td>0.0</td>\n",
       "      <td>False</td>\n",
       "      <td>0.0</td>\n",
       "      <td>0.0</td>\n",
       "      <td>0.0</td>\n",
       "      <td>0.0</td>\n",
       "      <td>0.0</td>\n",
       "      <td>0.0</td>\n",
       "      <td>False</td>\n",
       "    </tr>\n",
       "    <tr>\n",
       "      <th>1</th>\n",
       "      <td>[5000:9999]</td>\n",
       "      <td>1</td>\n",
       "      <td>5000</td>\n",
       "      <td>9999</td>\n",
       "      <td>None</td>\n",
       "      <td>None</td>\n",
       "      <td>reference</td>\n",
       "      <td>0.0</td>\n",
       "      <td>0.0</td>\n",
       "      <td>0.0</td>\n",
       "      <td>...</td>\n",
       "      <td>0.0</td>\n",
       "      <td>0.0</td>\n",
       "      <td>False</td>\n",
       "      <td>0.0</td>\n",
       "      <td>0.0</td>\n",
       "      <td>0.0</td>\n",
       "      <td>0.0</td>\n",
       "      <td>0.0</td>\n",
       "      <td>0.0</td>\n",
       "      <td>False</td>\n",
       "    </tr>\n",
       "    <tr>\n",
       "      <th>2</th>\n",
       "      <td>[10000:14999]</td>\n",
       "      <td>2</td>\n",
       "      <td>10000</td>\n",
       "      <td>14999</td>\n",
       "      <td>None</td>\n",
       "      <td>None</td>\n",
       "      <td>reference</td>\n",
       "      <td>0.0</td>\n",
       "      <td>0.0</td>\n",
       "      <td>0.0</td>\n",
       "      <td>...</td>\n",
       "      <td>0.0</td>\n",
       "      <td>0.0</td>\n",
       "      <td>False</td>\n",
       "      <td>0.0</td>\n",
       "      <td>0.0</td>\n",
       "      <td>0.0</td>\n",
       "      <td>0.0</td>\n",
       "      <td>0.0</td>\n",
       "      <td>0.0</td>\n",
       "      <td>False</td>\n",
       "    </tr>\n",
       "    <tr>\n",
       "      <th>3</th>\n",
       "      <td>[15000:19999]</td>\n",
       "      <td>3</td>\n",
       "      <td>15000</td>\n",
       "      <td>19999</td>\n",
       "      <td>None</td>\n",
       "      <td>None</td>\n",
       "      <td>reference</td>\n",
       "      <td>0.0</td>\n",
       "      <td>0.0</td>\n",
       "      <td>0.0</td>\n",
       "      <td>...</td>\n",
       "      <td>0.0</td>\n",
       "      <td>0.0</td>\n",
       "      <td>False</td>\n",
       "      <td>0.0</td>\n",
       "      <td>0.0</td>\n",
       "      <td>0.0</td>\n",
       "      <td>0.0</td>\n",
       "      <td>0.0</td>\n",
       "      <td>0.0</td>\n",
       "      <td>False</td>\n",
       "    </tr>\n",
       "    <tr>\n",
       "      <th>4</th>\n",
       "      <td>[20000:24999]</td>\n",
       "      <td>4</td>\n",
       "      <td>20000</td>\n",
       "      <td>24999</td>\n",
       "      <td>None</td>\n",
       "      <td>None</td>\n",
       "      <td>reference</td>\n",
       "      <td>0.0</td>\n",
       "      <td>0.0</td>\n",
       "      <td>0.0</td>\n",
       "      <td>...</td>\n",
       "      <td>0.0</td>\n",
       "      <td>0.0</td>\n",
       "      <td>False</td>\n",
       "      <td>0.0</td>\n",
       "      <td>0.0</td>\n",
       "      <td>0.0</td>\n",
       "      <td>0.0</td>\n",
       "      <td>0.0</td>\n",
       "      <td>0.0</td>\n",
       "      <td>False</td>\n",
       "    </tr>\n",
       "    <tr>\n",
       "      <th>5</th>\n",
       "      <td>[25000:29999]</td>\n",
       "      <td>5</td>\n",
       "      <td>25000</td>\n",
       "      <td>29999</td>\n",
       "      <td>None</td>\n",
       "      <td>None</td>\n",
       "      <td>reference</td>\n",
       "      <td>0.0</td>\n",
       "      <td>0.0</td>\n",
       "      <td>0.0</td>\n",
       "      <td>...</td>\n",
       "      <td>0.0</td>\n",
       "      <td>0.0</td>\n",
       "      <td>False</td>\n",
       "      <td>0.0</td>\n",
       "      <td>0.0</td>\n",
       "      <td>0.0</td>\n",
       "      <td>0.0</td>\n",
       "      <td>0.0</td>\n",
       "      <td>0.0</td>\n",
       "      <td>False</td>\n",
       "    </tr>\n",
       "    <tr>\n",
       "      <th>6</th>\n",
       "      <td>[30000:34999]</td>\n",
       "      <td>6</td>\n",
       "      <td>30000</td>\n",
       "      <td>34999</td>\n",
       "      <td>None</td>\n",
       "      <td>None</td>\n",
       "      <td>reference</td>\n",
       "      <td>0.0</td>\n",
       "      <td>0.0</td>\n",
       "      <td>0.0</td>\n",
       "      <td>...</td>\n",
       "      <td>0.0</td>\n",
       "      <td>0.0</td>\n",
       "      <td>False</td>\n",
       "      <td>0.0</td>\n",
       "      <td>0.0</td>\n",
       "      <td>0.0</td>\n",
       "      <td>0.0</td>\n",
       "      <td>0.0</td>\n",
       "      <td>0.0</td>\n",
       "      <td>False</td>\n",
       "    </tr>\n",
       "    <tr>\n",
       "      <th>7</th>\n",
       "      <td>[35000:39999]</td>\n",
       "      <td>7</td>\n",
       "      <td>35000</td>\n",
       "      <td>39999</td>\n",
       "      <td>None</td>\n",
       "      <td>None</td>\n",
       "      <td>reference</td>\n",
       "      <td>0.0</td>\n",
       "      <td>0.0</td>\n",
       "      <td>0.0</td>\n",
       "      <td>...</td>\n",
       "      <td>0.0</td>\n",
       "      <td>0.0</td>\n",
       "      <td>False</td>\n",
       "      <td>0.0</td>\n",
       "      <td>0.0</td>\n",
       "      <td>0.0</td>\n",
       "      <td>0.0</td>\n",
       "      <td>0.0</td>\n",
       "      <td>0.0</td>\n",
       "      <td>False</td>\n",
       "    </tr>\n",
       "    <tr>\n",
       "      <th>8</th>\n",
       "      <td>[40000:44999]</td>\n",
       "      <td>8</td>\n",
       "      <td>40000</td>\n",
       "      <td>44999</td>\n",
       "      <td>None</td>\n",
       "      <td>None</td>\n",
       "      <td>reference</td>\n",
       "      <td>0.0</td>\n",
       "      <td>0.0</td>\n",
       "      <td>0.0</td>\n",
       "      <td>...</td>\n",
       "      <td>0.0</td>\n",
       "      <td>0.0</td>\n",
       "      <td>False</td>\n",
       "      <td>0.0</td>\n",
       "      <td>0.0</td>\n",
       "      <td>0.0</td>\n",
       "      <td>0.0</td>\n",
       "      <td>0.0</td>\n",
       "      <td>0.0</td>\n",
       "      <td>False</td>\n",
       "    </tr>\n",
       "    <tr>\n",
       "      <th>9</th>\n",
       "      <td>[45000:49999]</td>\n",
       "      <td>9</td>\n",
       "      <td>45000</td>\n",
       "      <td>49999</td>\n",
       "      <td>None</td>\n",
       "      <td>None</td>\n",
       "      <td>reference</td>\n",
       "      <td>0.0</td>\n",
       "      <td>0.0</td>\n",
       "      <td>0.0</td>\n",
       "      <td>...</td>\n",
       "      <td>0.0</td>\n",
       "      <td>0.0</td>\n",
       "      <td>False</td>\n",
       "      <td>0.0</td>\n",
       "      <td>0.0</td>\n",
       "      <td>0.0</td>\n",
       "      <td>0.0</td>\n",
       "      <td>0.0</td>\n",
       "      <td>0.0</td>\n",
       "      <td>False</td>\n",
       "    </tr>\n",
       "    <tr>\n",
       "      <th>10</th>\n",
       "      <td>[0:4999]</td>\n",
       "      <td>0</td>\n",
       "      <td>0</td>\n",
       "      <td>4999</td>\n",
       "      <td>None</td>\n",
       "      <td>None</td>\n",
       "      <td>analysis</td>\n",
       "      <td>0.0</td>\n",
       "      <td>0.0</td>\n",
       "      <td>0.0</td>\n",
       "      <td>...</td>\n",
       "      <td>0.0</td>\n",
       "      <td>0.0</td>\n",
       "      <td>False</td>\n",
       "      <td>0.0</td>\n",
       "      <td>0.0</td>\n",
       "      <td>0.0</td>\n",
       "      <td>0.0</td>\n",
       "      <td>0.0</td>\n",
       "      <td>0.0</td>\n",
       "      <td>False</td>\n",
       "    </tr>\n",
       "    <tr>\n",
       "      <th>11</th>\n",
       "      <td>[5000:9999]</td>\n",
       "      <td>1</td>\n",
       "      <td>5000</td>\n",
       "      <td>9999</td>\n",
       "      <td>None</td>\n",
       "      <td>None</td>\n",
       "      <td>analysis</td>\n",
       "      <td>0.0</td>\n",
       "      <td>0.0</td>\n",
       "      <td>0.0</td>\n",
       "      <td>...</td>\n",
       "      <td>0.0</td>\n",
       "      <td>0.0</td>\n",
       "      <td>False</td>\n",
       "      <td>0.0</td>\n",
       "      <td>0.0</td>\n",
       "      <td>0.0</td>\n",
       "      <td>0.0</td>\n",
       "      <td>0.0</td>\n",
       "      <td>0.0</td>\n",
       "      <td>False</td>\n",
       "    </tr>\n",
       "    <tr>\n",
       "      <th>12</th>\n",
       "      <td>[10000:14999]</td>\n",
       "      <td>2</td>\n",
       "      <td>10000</td>\n",
       "      <td>14999</td>\n",
       "      <td>None</td>\n",
       "      <td>None</td>\n",
       "      <td>analysis</td>\n",
       "      <td>0.0</td>\n",
       "      <td>0.0</td>\n",
       "      <td>0.0</td>\n",
       "      <td>...</td>\n",
       "      <td>0.0</td>\n",
       "      <td>0.0</td>\n",
       "      <td>False</td>\n",
       "      <td>0.0</td>\n",
       "      <td>0.0</td>\n",
       "      <td>0.0</td>\n",
       "      <td>0.0</td>\n",
       "      <td>0.0</td>\n",
       "      <td>0.0</td>\n",
       "      <td>False</td>\n",
       "    </tr>\n",
       "    <tr>\n",
       "      <th>13</th>\n",
       "      <td>[15000:19999]</td>\n",
       "      <td>3</td>\n",
       "      <td>15000</td>\n",
       "      <td>19999</td>\n",
       "      <td>None</td>\n",
       "      <td>None</td>\n",
       "      <td>analysis</td>\n",
       "      <td>0.0</td>\n",
       "      <td>0.0</td>\n",
       "      <td>0.0</td>\n",
       "      <td>...</td>\n",
       "      <td>0.0</td>\n",
       "      <td>0.0</td>\n",
       "      <td>False</td>\n",
       "      <td>0.0</td>\n",
       "      <td>0.0</td>\n",
       "      <td>0.0</td>\n",
       "      <td>0.0</td>\n",
       "      <td>0.0</td>\n",
       "      <td>0.0</td>\n",
       "      <td>False</td>\n",
       "    </tr>\n",
       "    <tr>\n",
       "      <th>14</th>\n",
       "      <td>[20000:24999]</td>\n",
       "      <td>4</td>\n",
       "      <td>20000</td>\n",
       "      <td>24999</td>\n",
       "      <td>None</td>\n",
       "      <td>None</td>\n",
       "      <td>analysis</td>\n",
       "      <td>0.0</td>\n",
       "      <td>0.0</td>\n",
       "      <td>0.0</td>\n",
       "      <td>...</td>\n",
       "      <td>0.0</td>\n",
       "      <td>0.0</td>\n",
       "      <td>False</td>\n",
       "      <td>0.0</td>\n",
       "      <td>0.0</td>\n",
       "      <td>0.0</td>\n",
       "      <td>0.0</td>\n",
       "      <td>0.0</td>\n",
       "      <td>0.0</td>\n",
       "      <td>False</td>\n",
       "    </tr>\n",
       "    <tr>\n",
       "      <th>15</th>\n",
       "      <td>[25000:29999]</td>\n",
       "      <td>5</td>\n",
       "      <td>25000</td>\n",
       "      <td>29999</td>\n",
       "      <td>None</td>\n",
       "      <td>None</td>\n",
       "      <td>analysis</td>\n",
       "      <td>0.0</td>\n",
       "      <td>0.0</td>\n",
       "      <td>0.0</td>\n",
       "      <td>...</td>\n",
       "      <td>0.0</td>\n",
       "      <td>0.0</td>\n",
       "      <td>False</td>\n",
       "      <td>0.0</td>\n",
       "      <td>0.0</td>\n",
       "      <td>0.0</td>\n",
       "      <td>0.0</td>\n",
       "      <td>0.0</td>\n",
       "      <td>0.0</td>\n",
       "      <td>False</td>\n",
       "    </tr>\n",
       "    <tr>\n",
       "      <th>16</th>\n",
       "      <td>[30000:34999]</td>\n",
       "      <td>6</td>\n",
       "      <td>30000</td>\n",
       "      <td>34999</td>\n",
       "      <td>None</td>\n",
       "      <td>None</td>\n",
       "      <td>analysis</td>\n",
       "      <td>0.0</td>\n",
       "      <td>0.0</td>\n",
       "      <td>0.0</td>\n",
       "      <td>...</td>\n",
       "      <td>0.0</td>\n",
       "      <td>0.0</td>\n",
       "      <td>False</td>\n",
       "      <td>0.0</td>\n",
       "      <td>0.0</td>\n",
       "      <td>0.0</td>\n",
       "      <td>0.0</td>\n",
       "      <td>0.0</td>\n",
       "      <td>0.0</td>\n",
       "      <td>False</td>\n",
       "    </tr>\n",
       "    <tr>\n",
       "      <th>17</th>\n",
       "      <td>[35000:39999]</td>\n",
       "      <td>7</td>\n",
       "      <td>35000</td>\n",
       "      <td>39999</td>\n",
       "      <td>None</td>\n",
       "      <td>None</td>\n",
       "      <td>analysis</td>\n",
       "      <td>0.0</td>\n",
       "      <td>0.0</td>\n",
       "      <td>0.0</td>\n",
       "      <td>...</td>\n",
       "      <td>0.0</td>\n",
       "      <td>0.0</td>\n",
       "      <td>False</td>\n",
       "      <td>0.0</td>\n",
       "      <td>0.0</td>\n",
       "      <td>0.0</td>\n",
       "      <td>0.0</td>\n",
       "      <td>0.0</td>\n",
       "      <td>0.0</td>\n",
       "      <td>False</td>\n",
       "    </tr>\n",
       "    <tr>\n",
       "      <th>18</th>\n",
       "      <td>[40000:44999]</td>\n",
       "      <td>8</td>\n",
       "      <td>40000</td>\n",
       "      <td>44999</td>\n",
       "      <td>None</td>\n",
       "      <td>None</td>\n",
       "      <td>analysis</td>\n",
       "      <td>0.0</td>\n",
       "      <td>0.0</td>\n",
       "      <td>0.0</td>\n",
       "      <td>...</td>\n",
       "      <td>0.0</td>\n",
       "      <td>0.0</td>\n",
       "      <td>False</td>\n",
       "      <td>0.0</td>\n",
       "      <td>0.0</td>\n",
       "      <td>0.0</td>\n",
       "      <td>0.0</td>\n",
       "      <td>0.0</td>\n",
       "      <td>0.0</td>\n",
       "      <td>False</td>\n",
       "    </tr>\n",
       "    <tr>\n",
       "      <th>19</th>\n",
       "      <td>[45000:49999]</td>\n",
       "      <td>9</td>\n",
       "      <td>45000</td>\n",
       "      <td>49999</td>\n",
       "      <td>None</td>\n",
       "      <td>None</td>\n",
       "      <td>analysis</td>\n",
       "      <td>0.0</td>\n",
       "      <td>0.0</td>\n",
       "      <td>0.0</td>\n",
       "      <td>...</td>\n",
       "      <td>0.0</td>\n",
       "      <td>0.0</td>\n",
       "      <td>False</td>\n",
       "      <td>0.0</td>\n",
       "      <td>0.0</td>\n",
       "      <td>0.0</td>\n",
       "      <td>0.0</td>\n",
       "      <td>0.0</td>\n",
       "      <td>0.0</td>\n",
       "      <td>False</td>\n",
       "    </tr>\n",
       "  </tbody>\n",
       "</table>\n",
       "<p>20 rows × 56 columns</p>\n",
       "</div>"
      ],
      "text/plain": [
       "            chunk                                                        \\\n",
       "              key chunk_index start_index end_index start_date end_date   \n",
       "0        [0:4999]           0           0      4999       None     None   \n",
       "1     [5000:9999]           1        5000      9999       None     None   \n",
       "2   [10000:14999]           2       10000     14999       None     None   \n",
       "3   [15000:19999]           3       15000     19999       None     None   \n",
       "4   [20000:24999]           4       20000     24999       None     None   \n",
       "5   [25000:29999]           5       25000     29999       None     None   \n",
       "6   [30000:34999]           6       30000     34999       None     None   \n",
       "7   [35000:39999]           7       35000     39999       None     None   \n",
       "8   [40000:44999]           8       40000     44999       None     None   \n",
       "9   [45000:49999]           9       45000     49999       None     None   \n",
       "10       [0:4999]           0           0      4999       None     None   \n",
       "11    [5000:9999]           1        5000      9999       None     None   \n",
       "12  [10000:14999]           2       10000     14999       None     None   \n",
       "13  [15000:19999]           3       15000     19999       None     None   \n",
       "14  [20000:24999]           4       20000     24999       None     None   \n",
       "15  [25000:29999]           5       25000     29999       None     None   \n",
       "16  [30000:34999]           6       30000     34999       None     None   \n",
       "17  [35000:39999]           7       35000     39999       None     None   \n",
       "18  [40000:44999]           8       40000     44999       None     None   \n",
       "19  [45000:49999]           9       45000     49999       None     None   \n",
       "\n",
       "              car_value                                           ...  \\\n",
       "       period     value sampling_error upper_confidence_boundary  ...   \n",
       "0   reference       0.0            0.0                       0.0  ...   \n",
       "1   reference       0.0            0.0                       0.0  ...   \n",
       "2   reference       0.0            0.0                       0.0  ...   \n",
       "3   reference       0.0            0.0                       0.0  ...   \n",
       "4   reference       0.0            0.0                       0.0  ...   \n",
       "5   reference       0.0            0.0                       0.0  ...   \n",
       "6   reference       0.0            0.0                       0.0  ...   \n",
       "7   reference       0.0            0.0                       0.0  ...   \n",
       "8   reference       0.0            0.0                       0.0  ...   \n",
       "9   reference       0.0            0.0                       0.0  ...   \n",
       "10   analysis       0.0            0.0                       0.0  ...   \n",
       "11   analysis       0.0            0.0                       0.0  ...   \n",
       "12   analysis       0.0            0.0                       0.0  ...   \n",
       "13   analysis       0.0            0.0                       0.0  ...   \n",
       "14   analysis       0.0            0.0                       0.0  ...   \n",
       "15   analysis       0.0            0.0                       0.0  ...   \n",
       "16   analysis       0.0            0.0                       0.0  ...   \n",
       "17   analysis       0.0            0.0                       0.0  ...   \n",
       "18   analysis       0.0            0.0                       0.0  ...   \n",
       "19   analysis       0.0            0.0                       0.0  ...   \n",
       "\n",
       "   size_of_downpayment                        driver_tenure                 \\\n",
       "       upper_threshold lower_threshold  alert         value sampling_error   \n",
       "0                  0.0             0.0  False           0.0            0.0   \n",
       "1                  0.0             0.0  False           0.0            0.0   \n",
       "2                  0.0             0.0  False           0.0            0.0   \n",
       "3                  0.0             0.0  False           0.0            0.0   \n",
       "4                  0.0             0.0  False           0.0            0.0   \n",
       "5                  0.0             0.0  False           0.0            0.0   \n",
       "6                  0.0             0.0  False           0.0            0.0   \n",
       "7                  0.0             0.0  False           0.0            0.0   \n",
       "8                  0.0             0.0  False           0.0            0.0   \n",
       "9                  0.0             0.0  False           0.0            0.0   \n",
       "10                 0.0             0.0  False           0.0            0.0   \n",
       "11                 0.0             0.0  False           0.0            0.0   \n",
       "12                 0.0             0.0  False           0.0            0.0   \n",
       "13                 0.0             0.0  False           0.0            0.0   \n",
       "14                 0.0             0.0  False           0.0            0.0   \n",
       "15                 0.0             0.0  False           0.0            0.0   \n",
       "16                 0.0             0.0  False           0.0            0.0   \n",
       "17                 0.0             0.0  False           0.0            0.0   \n",
       "18                 0.0             0.0  False           0.0            0.0   \n",
       "19                 0.0             0.0  False           0.0            0.0   \n",
       "\n",
       "                                                                        \\\n",
       "   upper_confidence_boundary lower_confidence_boundary upper_threshold   \n",
       "0                        0.0                       0.0             0.0   \n",
       "1                        0.0                       0.0             0.0   \n",
       "2                        0.0                       0.0             0.0   \n",
       "3                        0.0                       0.0             0.0   \n",
       "4                        0.0                       0.0             0.0   \n",
       "5                        0.0                       0.0             0.0   \n",
       "6                        0.0                       0.0             0.0   \n",
       "7                        0.0                       0.0             0.0   \n",
       "8                        0.0                       0.0             0.0   \n",
       "9                        0.0                       0.0             0.0   \n",
       "10                       0.0                       0.0             0.0   \n",
       "11                       0.0                       0.0             0.0   \n",
       "12                       0.0                       0.0             0.0   \n",
       "13                       0.0                       0.0             0.0   \n",
       "14                       0.0                       0.0             0.0   \n",
       "15                       0.0                       0.0             0.0   \n",
       "16                       0.0                       0.0             0.0   \n",
       "17                       0.0                       0.0             0.0   \n",
       "18                       0.0                       0.0             0.0   \n",
       "19                       0.0                       0.0             0.0   \n",
       "\n",
       "                           \n",
       "   lower_threshold  alert  \n",
       "0              0.0  False  \n",
       "1              0.0  False  \n",
       "2              0.0  False  \n",
       "3              0.0  False  \n",
       "4              0.0  False  \n",
       "5              0.0  False  \n",
       "6              0.0  False  \n",
       "7              0.0  False  \n",
       "8              0.0  False  \n",
       "9              0.0  False  \n",
       "10             0.0  False  \n",
       "11             0.0  False  \n",
       "12             0.0  False  \n",
       "13             0.0  False  \n",
       "14             0.0  False  \n",
       "15             0.0  False  \n",
       "16             0.0  False  \n",
       "17             0.0  False  \n",
       "18             0.0  False  \n",
       "19             0.0  False  \n",
       "\n",
       "[20 rows x 56 columns]"
      ]
     },
     "metadata": {},
     "output_type": "display_data"
    },
    {
     "data": {
      "application/vnd.plotly.v1+json": {
       "config": {
        "plotlyServerURL": "https://plot.ly"
       },
       "data": [
        {
         "hoverinfo": "skip",
         "legendgroup": "metric_reference",
         "line": {
          "color": "#00c8e5",
          "shape": "hv",
          "width": 2
         },
         "mode": "lines",
         "name": "Metric",
         "showlegend": true,
         "type": "scatter",
         "x": [
          0,
          1,
          2,
          3,
          4,
          5,
          6,
          7,
          8,
          9,
          10
         ],
         "xaxis": "x",
         "y": [
          0,
          0,
          0,
          0,
          0,
          0,
          0,
          0,
          0,
          0,
          0
         ],
         "yaxis": "y"
        },
        {
         "customdata": [
          [
           "Missing Values Rate for <b>car_value</b>",
           "<b style=\"color:#00c8e5;line-height:60px\">Reference</b>",
           "",
           "[0:4999]",
           "Chunk index: <b>0</b>",
           0,
           0
          ],
          [
           "Missing Values Rate for <b>car_value</b>",
           "<b style=\"color:#00c8e5;line-height:60px\">Reference</b>",
           "",
           "[5000:9999]",
           "Chunk index: <b>1</b>",
           0,
           0
          ],
          [
           "Missing Values Rate for <b>car_value</b>",
           "<b style=\"color:#00c8e5;line-height:60px\">Reference</b>",
           "",
           "[10000:14999]",
           "Chunk index: <b>2</b>",
           0,
           0
          ],
          [
           "Missing Values Rate for <b>car_value</b>",
           "<b style=\"color:#00c8e5;line-height:60px\">Reference</b>",
           "",
           "[15000:19999]",
           "Chunk index: <b>3</b>",
           0,
           0
          ],
          [
           "Missing Values Rate for <b>car_value</b>",
           "<b style=\"color:#00c8e5;line-height:60px\">Reference</b>",
           "",
           "[20000:24999]",
           "Chunk index: <b>4</b>",
           0,
           0
          ],
          [
           "Missing Values Rate for <b>car_value</b>",
           "<b style=\"color:#00c8e5;line-height:60px\">Reference</b>",
           "",
           "[25000:29999]",
           "Chunk index: <b>5</b>",
           0,
           0
          ],
          [
           "Missing Values Rate for <b>car_value</b>",
           "<b style=\"color:#00c8e5;line-height:60px\">Reference</b>",
           "",
           "[30000:34999]",
           "Chunk index: <b>6</b>",
           0,
           0
          ],
          [
           "Missing Values Rate for <b>car_value</b>",
           "<b style=\"color:#00c8e5;line-height:60px\">Reference</b>",
           "",
           "[35000:39999]",
           "Chunk index: <b>7</b>",
           0,
           0
          ],
          [
           "Missing Values Rate for <b>car_value</b>",
           "<b style=\"color:#00c8e5;line-height:60px\">Reference</b>",
           "",
           "[40000:44999]",
           "Chunk index: <b>8</b>",
           0,
           0
          ],
          [
           "Missing Values Rate for <b>car_value</b>",
           "<b style=\"color:#00c8e5;line-height:60px\">Reference</b>",
           "",
           "[45000:49999]",
           "Chunk index: <b>9</b>",
           0,
           0
          ]
         ],
         "hovertemplate": "%{customdata[1]} &nbsp; &nbsp; %{customdata[2]} <br />Chunk: <b>%{customdata[3]}</b> &nbsp; &nbsp; %{customdata[4]} <br />%{customdata[0]}: <b>%{customdata[5]}</b><br />Confidence band: +/- <b>%{customdata[6]}</b><br /><extra></extra>",
         "legendgroup": "metric_reference",
         "marker": {
          "color": "#00c8e5",
          "size": 5,
          "symbol": "circle"
         },
         "mode": "markers",
         "name": "Metric",
         "showlegend": false,
         "type": "scatter",
         "x": [
          0.5,
          1.5,
          2.5,
          3.5,
          4.5,
          5.5,
          6.5,
          7.5,
          8.5,
          9.5
         ],
         "xaxis": "x",
         "y": [
          0,
          0,
          0,
          0,
          0,
          0,
          0,
          0,
          0,
          0,
          0
         ],
         "yaxis": "y"
        },
        {
         "hoverinfo": "skip",
         "legendgroup": "metric_analysis",
         "line": {
          "color": "#00c8e5",
          "shape": "hv",
          "width": 2
         },
         "mode": "lines",
         "name": "Metric",
         "showlegend": false,
         "type": "scatter",
         "x": [
          10,
          11,
          12,
          13,
          14,
          15,
          16,
          17,
          18,
          19,
          20
         ],
         "xaxis": "x",
         "y": [
          0,
          0,
          0,
          0,
          0,
          0,
          0,
          0,
          0,
          0,
          0
         ],
         "yaxis": "y"
        },
        {
         "customdata": [
          [
           "Missing Values Rate for <b>car_value</b>",
           "<b style=\"color:#3b0280;line-height:60px\">Analysis</b>",
           "",
           "[0:4999]",
           "Chunk index: <b>0</b>",
           0,
           0
          ],
          [
           "Missing Values Rate for <b>car_value</b>",
           "<b style=\"color:#3b0280;line-height:60px\">Analysis</b>",
           "",
           "[5000:9999]",
           "Chunk index: <b>1</b>",
           0,
           0
          ],
          [
           "Missing Values Rate for <b>car_value</b>",
           "<b style=\"color:#3b0280;line-height:60px\">Analysis</b>",
           "",
           "[10000:14999]",
           "Chunk index: <b>2</b>",
           0,
           0
          ],
          [
           "Missing Values Rate for <b>car_value</b>",
           "<b style=\"color:#3b0280;line-height:60px\">Analysis</b>",
           "",
           "[15000:19999]",
           "Chunk index: <b>3</b>",
           0,
           0
          ],
          [
           "Missing Values Rate for <b>car_value</b>",
           "<b style=\"color:#3b0280;line-height:60px\">Analysis</b>",
           "",
           "[20000:24999]",
           "Chunk index: <b>4</b>",
           0,
           0
          ],
          [
           "Missing Values Rate for <b>car_value</b>",
           "<b style=\"color:#3b0280;line-height:60px\">Analysis</b>",
           "",
           "[25000:29999]",
           "Chunk index: <b>5</b>",
           0,
           0
          ],
          [
           "Missing Values Rate for <b>car_value</b>",
           "<b style=\"color:#3b0280;line-height:60px\">Analysis</b>",
           "",
           "[30000:34999]",
           "Chunk index: <b>6</b>",
           0,
           0
          ],
          [
           "Missing Values Rate for <b>car_value</b>",
           "<b style=\"color:#3b0280;line-height:60px\">Analysis</b>",
           "",
           "[35000:39999]",
           "Chunk index: <b>7</b>",
           0,
           0
          ],
          [
           "Missing Values Rate for <b>car_value</b>",
           "<b style=\"color:#3b0280;line-height:60px\">Analysis</b>",
           "",
           "[40000:44999]",
           "Chunk index: <b>8</b>",
           0,
           0
          ],
          [
           "Missing Values Rate for <b>car_value</b>",
           "<b style=\"color:#3b0280;line-height:60px\">Analysis</b>",
           "",
           "[45000:49999]",
           "Chunk index: <b>9</b>",
           0,
           0
          ]
         ],
         "hovertemplate": "%{customdata[1]} &nbsp; &nbsp; %{customdata[2]} <br />Chunk: <b>%{customdata[3]}</b> &nbsp; &nbsp; %{customdata[4]} <br />%{customdata[0]}: <b>%{customdata[5]}</b><br />Confidence band: +/- <b>%{customdata[6]}</b><br /><extra></extra>",
         "legendgroup": "metric_analysis",
         "marker": {
          "color": "#00c8e5",
          "size": 5,
          "symbol": "circle"
         },
         "mode": "markers",
         "name": "Metric",
         "showlegend": false,
         "type": "scatter",
         "x": [
          10.5,
          11.5,
          12.5,
          13.5,
          14.5,
          15.5,
          16.5,
          17.5,
          18.5,
          19.5
         ],
         "xaxis": "x",
         "y": [
          0,
          0,
          0,
          0,
          0,
          0,
          0,
          0,
          0,
          0,
          0
         ],
         "yaxis": "y"
        },
        {
         "hoverinfo": "skip",
         "legendgroup": "alert",
         "marker": {
          "color": "#DD4040",
          "size": 8,
          "symbol": "diamond"
         },
         "mode": "markers",
         "name": "Alert",
         "showlegend": true,
         "type": "scatter",
         "x": [],
         "xaxis": "x",
         "y": [],
         "yaxis": "y"
        },
        {
         "hoverinfo": "skip",
         "legendgroup": "thresh",
         "line": {
          "color": "#DD4040",
          "dash": "dash",
          "width": 2
         },
         "mode": "lines",
         "name": "Threshold",
         "showlegend": true,
         "type": "scatter",
         "x": [
          0,
          1,
          2,
          3,
          4,
          5,
          6,
          7,
          8,
          9,
          10
         ],
         "xaxis": "x",
         "y": [
          0,
          0,
          0,
          0,
          0,
          0,
          0,
          0,
          0,
          0,
          0
         ],
         "yaxis": "y"
        },
        {
         "hoverinfo": "skip",
         "legendgroup": "thresh",
         "line": {
          "color": "#DD4040",
          "dash": "dash",
          "width": 2
         },
         "mode": "lines",
         "name": "Threshold",
         "showlegend": false,
         "type": "scatter",
         "x": [
          0,
          1,
          2,
          3,
          4,
          5,
          6,
          7,
          8,
          9,
          10
         ],
         "xaxis": "x",
         "y": [
          0,
          0,
          0,
          0,
          0,
          0,
          0,
          0,
          0,
          0,
          0
         ],
         "yaxis": "y"
        },
        {
         "hoverinfo": "skip",
         "legendgroup": "thresh",
         "line": {
          "color": "#DD4040",
          "dash": "dash",
          "width": 2
         },
         "mode": "lines",
         "name": "Threshold",
         "showlegend": false,
         "type": "scatter",
         "x": [
          10,
          11,
          12,
          13,
          14,
          15,
          16,
          17,
          18,
          19,
          20
         ],
         "xaxis": "x",
         "y": [
          0,
          0,
          0,
          0,
          0,
          0,
          0,
          0,
          0,
          0,
          0
         ],
         "yaxis": "y"
        },
        {
         "hoverinfo": "skip",
         "legendgroup": "thresh",
         "line": {
          "color": "#DD4040",
          "dash": "dash",
          "width": 2
         },
         "mode": "lines",
         "name": "Threshold",
         "showlegend": false,
         "type": "scatter",
         "x": [
          10,
          11,
          12,
          13,
          14,
          15,
          16,
          17,
          18,
          19,
          20
         ],
         "xaxis": "x",
         "y": [
          0,
          0,
          0,
          0,
          0,
          0,
          0,
          0,
          0,
          0,
          0
         ],
         "yaxis": "y"
        },
        {
         "hoverinfo": "skip",
         "line": {
          "color": "rgba(0,0,0,0)",
          "shape": "hv"
         },
         "mode": "lines",
         "name": "Confidence band",
         "showlegend": false,
         "type": "scatter",
         "x": [
          0,
          1,
          2,
          3,
          4,
          5,
          6,
          7,
          8,
          9,
          10
         ],
         "xaxis": "x",
         "y": [
          0,
          0,
          0,
          0,
          0,
          0,
          0,
          0,
          0,
          0,
          0
         ],
         "yaxis": "y"
        },
        {
         "fill": "tonexty",
         "fillcolor": "rgba(0.0, 0.7843137254901961, 0.8980392156862745, 0.2)",
         "hoverinfo": "skip",
         "line": {
          "color": "rgba(0,0,0,0)",
          "shape": "hv"
         },
         "mode": "lines",
         "name": "Confidence band",
         "showlegend": true,
         "type": "scatter",
         "x": [
          0,
          1,
          2,
          3,
          4,
          5,
          6,
          7,
          8,
          9,
          10
         ],
         "xaxis": "x",
         "y": [
          0,
          0,
          0,
          0,
          0,
          0,
          0,
          0,
          0,
          0,
          0
         ],
         "yaxis": "y"
        },
        {
         "hoverinfo": "skip",
         "line": {
          "color": "rgba(0,0,0,0)",
          "shape": "hv"
         },
         "mode": "lines",
         "name": "Confidence band",
         "showlegend": false,
         "type": "scatter",
         "x": [
          10,
          11,
          12,
          13,
          14,
          15,
          16,
          17,
          18,
          19,
          20
         ],
         "xaxis": "x",
         "y": [
          0,
          0,
          0,
          0,
          0,
          0,
          0,
          0,
          0,
          0,
          0
         ],
         "yaxis": "y"
        },
        {
         "fill": "tonexty",
         "fillcolor": "rgba(0.0, 0.7843137254901961, 0.8980392156862745, 0.2)",
         "hoverinfo": "skip",
         "line": {
          "color": "rgba(0,0,0,0)",
          "shape": "hv"
         },
         "mode": "lines",
         "name": "Confidence band",
         "showlegend": false,
         "type": "scatter",
         "x": [
          10,
          11,
          12,
          13,
          14,
          15,
          16,
          17,
          18,
          19,
          20
         ],
         "xaxis": "x",
         "y": [
          0,
          0,
          0,
          0,
          0,
          0,
          0,
          0,
          0,
          0,
          0
         ],
         "yaxis": "y"
        }
       ],
       "layout": {
        "annotations": [
         {
          "font": {
           "size": 16
          },
          "showarrow": false,
          "text": "Missing Values Rate for <b>car_value</b>",
          "x": 0.5,
          "xanchor": "center",
          "xref": "paper",
          "y": 1,
          "yanchor": "bottom",
          "yref": "paper"
         },
         {
          "showarrow": false,
          "text": "Reference",
          "x": 4.5,
          "xref": "x",
          "xshift": 10,
          "y": 1.01,
          "yref": "y domain"
         },
         {
          "showarrow": false,
          "text": "Analysis",
          "x": 14.5,
          "xref": "x",
          "xshift": 15,
          "y": 1.01,
          "yref": "y domain"
         }
        ],
        "height": 500,
        "hoverlabel": {
         "bgcolor": "white",
         "font": {
          "size": 14
         }
        },
        "legend": {
         "itemclick": false,
         "itemdoubleclick": false,
         "traceorder": "grouped"
        },
        "paper_bgcolor": "rgba(255,255,255,1)",
        "plot_bgcolor": "rgba(255,255,255,1)",
        "shapes": [
         {
          "layer": "below",
          "line": {
           "color": "#666666",
           "width": 1
          },
          "type": "line",
          "x0": 10,
          "x1": 10,
          "xref": "x",
          "y0": 0,
          "y1": 1,
          "yref": "y domain"
         }
        ],
        "template": {
         "data": {
          "bar": [
           {
            "error_x": {
             "color": "#2a3f5f"
            },
            "error_y": {
             "color": "#2a3f5f"
            },
            "marker": {
             "line": {
              "color": "#E5ECF6",
              "width": 0.5
             },
             "pattern": {
              "fillmode": "overlay",
              "size": 10,
              "solidity": 0.2
             }
            },
            "type": "bar"
           }
          ],
          "barpolar": [
           {
            "marker": {
             "line": {
              "color": "#E5ECF6",
              "width": 0.5
             },
             "pattern": {
              "fillmode": "overlay",
              "size": 10,
              "solidity": 0.2
             }
            },
            "type": "barpolar"
           }
          ],
          "carpet": [
           {
            "aaxis": {
             "endlinecolor": "#2a3f5f",
             "gridcolor": "white",
             "linecolor": "white",
             "minorgridcolor": "white",
             "startlinecolor": "#2a3f5f"
            },
            "baxis": {
             "endlinecolor": "#2a3f5f",
             "gridcolor": "white",
             "linecolor": "white",
             "minorgridcolor": "white",
             "startlinecolor": "#2a3f5f"
            },
            "type": "carpet"
           }
          ],
          "choropleth": [
           {
            "colorbar": {
             "outlinewidth": 0,
             "ticks": ""
            },
            "type": "choropleth"
           }
          ],
          "contour": [
           {
            "colorbar": {
             "outlinewidth": 0,
             "ticks": ""
            },
            "colorscale": [
             [
              0,
              "#0d0887"
             ],
             [
              0.1111111111111111,
              "#46039f"
             ],
             [
              0.2222222222222222,
              "#7201a8"
             ],
             [
              0.3333333333333333,
              "#9c179e"
             ],
             [
              0.4444444444444444,
              "#bd3786"
             ],
             [
              0.5555555555555556,
              "#d8576b"
             ],
             [
              0.6666666666666666,
              "#ed7953"
             ],
             [
              0.7777777777777778,
              "#fb9f3a"
             ],
             [
              0.8888888888888888,
              "#fdca26"
             ],
             [
              1,
              "#f0f921"
             ]
            ],
            "type": "contour"
           }
          ],
          "contourcarpet": [
           {
            "colorbar": {
             "outlinewidth": 0,
             "ticks": ""
            },
            "type": "contourcarpet"
           }
          ],
          "heatmap": [
           {
            "colorbar": {
             "outlinewidth": 0,
             "ticks": ""
            },
            "colorscale": [
             [
              0,
              "#0d0887"
             ],
             [
              0.1111111111111111,
              "#46039f"
             ],
             [
              0.2222222222222222,
              "#7201a8"
             ],
             [
              0.3333333333333333,
              "#9c179e"
             ],
             [
              0.4444444444444444,
              "#bd3786"
             ],
             [
              0.5555555555555556,
              "#d8576b"
             ],
             [
              0.6666666666666666,
              "#ed7953"
             ],
             [
              0.7777777777777778,
              "#fb9f3a"
             ],
             [
              0.8888888888888888,
              "#fdca26"
             ],
             [
              1,
              "#f0f921"
             ]
            ],
            "type": "heatmap"
           }
          ],
          "heatmapgl": [
           {
            "colorbar": {
             "outlinewidth": 0,
             "ticks": ""
            },
            "colorscale": [
             [
              0,
              "#0d0887"
             ],
             [
              0.1111111111111111,
              "#46039f"
             ],
             [
              0.2222222222222222,
              "#7201a8"
             ],
             [
              0.3333333333333333,
              "#9c179e"
             ],
             [
              0.4444444444444444,
              "#bd3786"
             ],
             [
              0.5555555555555556,
              "#d8576b"
             ],
             [
              0.6666666666666666,
              "#ed7953"
             ],
             [
              0.7777777777777778,
              "#fb9f3a"
             ],
             [
              0.8888888888888888,
              "#fdca26"
             ],
             [
              1,
              "#f0f921"
             ]
            ],
            "type": "heatmapgl"
           }
          ],
          "histogram": [
           {
            "marker": {
             "pattern": {
              "fillmode": "overlay",
              "size": 10,
              "solidity": 0.2
             }
            },
            "type": "histogram"
           }
          ],
          "histogram2d": [
           {
            "colorbar": {
             "outlinewidth": 0,
             "ticks": ""
            },
            "colorscale": [
             [
              0,
              "#0d0887"
             ],
             [
              0.1111111111111111,
              "#46039f"
             ],
             [
              0.2222222222222222,
              "#7201a8"
             ],
             [
              0.3333333333333333,
              "#9c179e"
             ],
             [
              0.4444444444444444,
              "#bd3786"
             ],
             [
              0.5555555555555556,
              "#d8576b"
             ],
             [
              0.6666666666666666,
              "#ed7953"
             ],
             [
              0.7777777777777778,
              "#fb9f3a"
             ],
             [
              0.8888888888888888,
              "#fdca26"
             ],
             [
              1,
              "#f0f921"
             ]
            ],
            "type": "histogram2d"
           }
          ],
          "histogram2dcontour": [
           {
            "colorbar": {
             "outlinewidth": 0,
             "ticks": ""
            },
            "colorscale": [
             [
              0,
              "#0d0887"
             ],
             [
              0.1111111111111111,
              "#46039f"
             ],
             [
              0.2222222222222222,
              "#7201a8"
             ],
             [
              0.3333333333333333,
              "#9c179e"
             ],
             [
              0.4444444444444444,
              "#bd3786"
             ],
             [
              0.5555555555555556,
              "#d8576b"
             ],
             [
              0.6666666666666666,
              "#ed7953"
             ],
             [
              0.7777777777777778,
              "#fb9f3a"
             ],
             [
              0.8888888888888888,
              "#fdca26"
             ],
             [
              1,
              "#f0f921"
             ]
            ],
            "type": "histogram2dcontour"
           }
          ],
          "mesh3d": [
           {
            "colorbar": {
             "outlinewidth": 0,
             "ticks": ""
            },
            "type": "mesh3d"
           }
          ],
          "parcoords": [
           {
            "line": {
             "colorbar": {
              "outlinewidth": 0,
              "ticks": ""
             }
            },
            "type": "parcoords"
           }
          ],
          "pie": [
           {
            "automargin": true,
            "type": "pie"
           }
          ],
          "scatter": [
           {
            "fillpattern": {
             "fillmode": "overlay",
             "size": 10,
             "solidity": 0.2
            },
            "type": "scatter"
           }
          ],
          "scatter3d": [
           {
            "line": {
             "colorbar": {
              "outlinewidth": 0,
              "ticks": ""
             }
            },
            "marker": {
             "colorbar": {
              "outlinewidth": 0,
              "ticks": ""
             }
            },
            "type": "scatter3d"
           }
          ],
          "scattercarpet": [
           {
            "marker": {
             "colorbar": {
              "outlinewidth": 0,
              "ticks": ""
             }
            },
            "type": "scattercarpet"
           }
          ],
          "scattergeo": [
           {
            "marker": {
             "colorbar": {
              "outlinewidth": 0,
              "ticks": ""
             }
            },
            "type": "scattergeo"
           }
          ],
          "scattergl": [
           {
            "marker": {
             "colorbar": {
              "outlinewidth": 0,
              "ticks": ""
             }
            },
            "type": "scattergl"
           }
          ],
          "scattermapbox": [
           {
            "marker": {
             "colorbar": {
              "outlinewidth": 0,
              "ticks": ""
             }
            },
            "type": "scattermapbox"
           }
          ],
          "scatterpolar": [
           {
            "marker": {
             "colorbar": {
              "outlinewidth": 0,
              "ticks": ""
             }
            },
            "type": "scatterpolar"
           }
          ],
          "scatterpolargl": [
           {
            "marker": {
             "colorbar": {
              "outlinewidth": 0,
              "ticks": ""
             }
            },
            "type": "scatterpolargl"
           }
          ],
          "scatterternary": [
           {
            "marker": {
             "colorbar": {
              "outlinewidth": 0,
              "ticks": ""
             }
            },
            "type": "scatterternary"
           }
          ],
          "surface": [
           {
            "colorbar": {
             "outlinewidth": 0,
             "ticks": ""
            },
            "colorscale": [
             [
              0,
              "#0d0887"
             ],
             [
              0.1111111111111111,
              "#46039f"
             ],
             [
              0.2222222222222222,
              "#7201a8"
             ],
             [
              0.3333333333333333,
              "#9c179e"
             ],
             [
              0.4444444444444444,
              "#bd3786"
             ],
             [
              0.5555555555555556,
              "#d8576b"
             ],
             [
              0.6666666666666666,
              "#ed7953"
             ],
             [
              0.7777777777777778,
              "#fb9f3a"
             ],
             [
              0.8888888888888888,
              "#fdca26"
             ],
             [
              1,
              "#f0f921"
             ]
            ],
            "type": "surface"
           }
          ],
          "table": [
           {
            "cells": {
             "fill": {
              "color": "#EBF0F8"
             },
             "line": {
              "color": "white"
             }
            },
            "header": {
             "fill": {
              "color": "#C8D4E3"
             },
             "line": {
              "color": "white"
             }
            },
            "type": "table"
           }
          ]
         },
         "layout": {
          "annotationdefaults": {
           "arrowcolor": "#2a3f5f",
           "arrowhead": 0,
           "arrowwidth": 1
          },
          "autotypenumbers": "strict",
          "coloraxis": {
           "colorbar": {
            "outlinewidth": 0,
            "ticks": ""
           }
          },
          "colorscale": {
           "diverging": [
            [
             0,
             "#8e0152"
            ],
            [
             0.1,
             "#c51b7d"
            ],
            [
             0.2,
             "#de77ae"
            ],
            [
             0.3,
             "#f1b6da"
            ],
            [
             0.4,
             "#fde0ef"
            ],
            [
             0.5,
             "#f7f7f7"
            ],
            [
             0.6,
             "#e6f5d0"
            ],
            [
             0.7,
             "#b8e186"
            ],
            [
             0.8,
             "#7fbc41"
            ],
            [
             0.9,
             "#4d9221"
            ],
            [
             1,
             "#276419"
            ]
           ],
           "sequential": [
            [
             0,
             "#0d0887"
            ],
            [
             0.1111111111111111,
             "#46039f"
            ],
            [
             0.2222222222222222,
             "#7201a8"
            ],
            [
             0.3333333333333333,
             "#9c179e"
            ],
            [
             0.4444444444444444,
             "#bd3786"
            ],
            [
             0.5555555555555556,
             "#d8576b"
            ],
            [
             0.6666666666666666,
             "#ed7953"
            ],
            [
             0.7777777777777778,
             "#fb9f3a"
            ],
            [
             0.8888888888888888,
             "#fdca26"
            ],
            [
             1,
             "#f0f921"
            ]
           ],
           "sequentialminus": [
            [
             0,
             "#0d0887"
            ],
            [
             0.1111111111111111,
             "#46039f"
            ],
            [
             0.2222222222222222,
             "#7201a8"
            ],
            [
             0.3333333333333333,
             "#9c179e"
            ],
            [
             0.4444444444444444,
             "#bd3786"
            ],
            [
             0.5555555555555556,
             "#d8576b"
            ],
            [
             0.6666666666666666,
             "#ed7953"
            ],
            [
             0.7777777777777778,
             "#fb9f3a"
            ],
            [
             0.8888888888888888,
             "#fdca26"
            ],
            [
             1,
             "#f0f921"
            ]
           ]
          },
          "colorway": [
           "#636efa",
           "#EF553B",
           "#00cc96",
           "#ab63fa",
           "#FFA15A",
           "#19d3f3",
           "#FF6692",
           "#B6E880",
           "#FF97FF",
           "#FECB52"
          ],
          "font": {
           "color": "#2a3f5f"
          },
          "geo": {
           "bgcolor": "white",
           "lakecolor": "white",
           "landcolor": "#E5ECF6",
           "showlakes": true,
           "showland": true,
           "subunitcolor": "white"
          },
          "hoverlabel": {
           "align": "left"
          },
          "hovermode": "closest",
          "mapbox": {
           "style": "light"
          },
          "paper_bgcolor": "white",
          "plot_bgcolor": "#E5ECF6",
          "polar": {
           "angularaxis": {
            "gridcolor": "white",
            "linecolor": "white",
            "ticks": ""
           },
           "bgcolor": "#E5ECF6",
           "radialaxis": {
            "gridcolor": "white",
            "linecolor": "white",
            "ticks": ""
           }
          },
          "scene": {
           "xaxis": {
            "backgroundcolor": "#E5ECF6",
            "gridcolor": "white",
            "gridwidth": 2,
            "linecolor": "white",
            "showbackground": true,
            "ticks": "",
            "zerolinecolor": "white"
           },
           "yaxis": {
            "backgroundcolor": "#E5ECF6",
            "gridcolor": "white",
            "gridwidth": 2,
            "linecolor": "white",
            "showbackground": true,
            "ticks": "",
            "zerolinecolor": "white"
           },
           "zaxis": {
            "backgroundcolor": "#E5ECF6",
            "gridcolor": "white",
            "gridwidth": 2,
            "linecolor": "white",
            "showbackground": true,
            "ticks": "",
            "zerolinecolor": "white"
           }
          },
          "shapedefaults": {
           "line": {
            "color": "#2a3f5f"
           }
          },
          "ternary": {
           "aaxis": {
            "gridcolor": "white",
            "linecolor": "white",
            "ticks": ""
           },
           "baxis": {
            "gridcolor": "white",
            "linecolor": "white",
            "ticks": ""
           },
           "bgcolor": "#E5ECF6",
           "caxis": {
            "gridcolor": "white",
            "linecolor": "white",
            "ticks": ""
           }
          },
          "title": {
           "x": 0.05
          },
          "xaxis": {
           "automargin": true,
           "gridcolor": "white",
           "linecolor": "white",
           "ticks": "",
           "title": {
            "standoff": 15
           },
           "zerolinecolor": "white",
           "zerolinewidth": 2
          },
          "yaxis": {
           "automargin": true,
           "gridcolor": "white",
           "linecolor": "white",
           "ticks": "",
           "title": {
            "standoff": 15
           },
           "zerolinecolor": "white",
           "zerolinewidth": 2
          }
         }
        },
        "title": {
         "text": "Data Quality "
        },
        "xaxis": {
         "anchor": "y",
         "domain": [
          0,
          1
         ],
         "linecolor": "#3b0280",
         "matches": "x",
         "mirror": true,
         "showgrid": false,
         "title": {
          "text": "Chunk"
         },
         "zeroline": false
        },
        "yaxis": {
         "anchor": "x",
         "domain": [
          0,
          1
         ],
         "linecolor": "#3b0280",
         "mirror": true,
         "showgrid": false,
         "title": {
          "text": "Missing Values Rate"
         },
         "zeroline": false
        }
       }
      }
     },
     "metadata": {},
     "output_type": "display_data"
    },
    {
     "data": {
      "application/vnd.plotly.v1+json": {
       "config": {
        "plotlyServerURL": "https://plot.ly"
       },
       "data": [
        {
         "hoverinfo": "skip",
         "legendgroup": "metric_reference",
         "line": {
          "color": "#00c8e5",
          "shape": "hv",
          "width": 2
         },
         "mode": "lines",
         "name": "Metric",
         "showlegend": true,
         "type": "scatter",
         "x": [
          0,
          1,
          2,
          3,
          4,
          5,
          6,
          7,
          8,
          9,
          10
         ],
         "xaxis": "x",
         "y": [
          0,
          0,
          0,
          0,
          0,
          0,
          0,
          0,
          0,
          0,
          0
         ],
         "yaxis": "y"
        },
        {
         "customdata": [
          [
           "Missing Values Rate for <b>salary_range</b>",
           "<b style=\"color:#00c8e5;line-height:60px\">Reference</b>",
           "",
           "[0:4999]",
           "Chunk index: <b>0</b>",
           0,
           0
          ],
          [
           "Missing Values Rate for <b>salary_range</b>",
           "<b style=\"color:#00c8e5;line-height:60px\">Reference</b>",
           "",
           "[5000:9999]",
           "Chunk index: <b>1</b>",
           0,
           0
          ],
          [
           "Missing Values Rate for <b>salary_range</b>",
           "<b style=\"color:#00c8e5;line-height:60px\">Reference</b>",
           "",
           "[10000:14999]",
           "Chunk index: <b>2</b>",
           0,
           0
          ],
          [
           "Missing Values Rate for <b>salary_range</b>",
           "<b style=\"color:#00c8e5;line-height:60px\">Reference</b>",
           "",
           "[15000:19999]",
           "Chunk index: <b>3</b>",
           0,
           0
          ],
          [
           "Missing Values Rate for <b>salary_range</b>",
           "<b style=\"color:#00c8e5;line-height:60px\">Reference</b>",
           "",
           "[20000:24999]",
           "Chunk index: <b>4</b>",
           0,
           0
          ],
          [
           "Missing Values Rate for <b>salary_range</b>",
           "<b style=\"color:#00c8e5;line-height:60px\">Reference</b>",
           "",
           "[25000:29999]",
           "Chunk index: <b>5</b>",
           0,
           0
          ],
          [
           "Missing Values Rate for <b>salary_range</b>",
           "<b style=\"color:#00c8e5;line-height:60px\">Reference</b>",
           "",
           "[30000:34999]",
           "Chunk index: <b>6</b>",
           0,
           0
          ],
          [
           "Missing Values Rate for <b>salary_range</b>",
           "<b style=\"color:#00c8e5;line-height:60px\">Reference</b>",
           "",
           "[35000:39999]",
           "Chunk index: <b>7</b>",
           0,
           0
          ],
          [
           "Missing Values Rate for <b>salary_range</b>",
           "<b style=\"color:#00c8e5;line-height:60px\">Reference</b>",
           "",
           "[40000:44999]",
           "Chunk index: <b>8</b>",
           0,
           0
          ],
          [
           "Missing Values Rate for <b>salary_range</b>",
           "<b style=\"color:#00c8e5;line-height:60px\">Reference</b>",
           "",
           "[45000:49999]",
           "Chunk index: <b>9</b>",
           0,
           0
          ]
         ],
         "hovertemplate": "%{customdata[1]} &nbsp; &nbsp; %{customdata[2]} <br />Chunk: <b>%{customdata[3]}</b> &nbsp; &nbsp; %{customdata[4]} <br />%{customdata[0]}: <b>%{customdata[5]}</b><br />Confidence band: +/- <b>%{customdata[6]}</b><br /><extra></extra>",
         "legendgroup": "metric_reference",
         "marker": {
          "color": "#00c8e5",
          "size": 5,
          "symbol": "circle"
         },
         "mode": "markers",
         "name": "Metric",
         "showlegend": false,
         "type": "scatter",
         "x": [
          0.5,
          1.5,
          2.5,
          3.5,
          4.5,
          5.5,
          6.5,
          7.5,
          8.5,
          9.5
         ],
         "xaxis": "x",
         "y": [
          0,
          0,
          0,
          0,
          0,
          0,
          0,
          0,
          0,
          0,
          0
         ],
         "yaxis": "y"
        },
        {
         "hoverinfo": "skip",
         "legendgroup": "metric_analysis",
         "line": {
          "color": "#00c8e5",
          "shape": "hv",
          "width": 2
         },
         "mode": "lines",
         "name": "Metric",
         "showlegend": false,
         "type": "scatter",
         "x": [
          10,
          11,
          12,
          13,
          14,
          15,
          16,
          17,
          18,
          19,
          20
         ],
         "xaxis": "x",
         "y": [
          0,
          0,
          0,
          0,
          0,
          0,
          0,
          0,
          0,
          0,
          0
         ],
         "yaxis": "y"
        },
        {
         "customdata": [
          [
           "Missing Values Rate for <b>salary_range</b>",
           "<b style=\"color:#3b0280;line-height:60px\">Analysis</b>",
           "",
           "[0:4999]",
           "Chunk index: <b>0</b>",
           0,
           0
          ],
          [
           "Missing Values Rate for <b>salary_range</b>",
           "<b style=\"color:#3b0280;line-height:60px\">Analysis</b>",
           "",
           "[5000:9999]",
           "Chunk index: <b>1</b>",
           0,
           0
          ],
          [
           "Missing Values Rate for <b>salary_range</b>",
           "<b style=\"color:#3b0280;line-height:60px\">Analysis</b>",
           "",
           "[10000:14999]",
           "Chunk index: <b>2</b>",
           0,
           0
          ],
          [
           "Missing Values Rate for <b>salary_range</b>",
           "<b style=\"color:#3b0280;line-height:60px\">Analysis</b>",
           "",
           "[15000:19999]",
           "Chunk index: <b>3</b>",
           0,
           0
          ],
          [
           "Missing Values Rate for <b>salary_range</b>",
           "<b style=\"color:#3b0280;line-height:60px\">Analysis</b>",
           "",
           "[20000:24999]",
           "Chunk index: <b>4</b>",
           0,
           0
          ],
          [
           "Missing Values Rate for <b>salary_range</b>",
           "<b style=\"color:#3b0280;line-height:60px\">Analysis</b>",
           "",
           "[25000:29999]",
           "Chunk index: <b>5</b>",
           0,
           0
          ],
          [
           "Missing Values Rate for <b>salary_range</b>",
           "<b style=\"color:#3b0280;line-height:60px\">Analysis</b>",
           "",
           "[30000:34999]",
           "Chunk index: <b>6</b>",
           0,
           0
          ],
          [
           "Missing Values Rate for <b>salary_range</b>",
           "<b style=\"color:#3b0280;line-height:60px\">Analysis</b>",
           "",
           "[35000:39999]",
           "Chunk index: <b>7</b>",
           0,
           0
          ],
          [
           "Missing Values Rate for <b>salary_range</b>",
           "<b style=\"color:#3b0280;line-height:60px\">Analysis</b>",
           "",
           "[40000:44999]",
           "Chunk index: <b>8</b>",
           0,
           0
          ],
          [
           "Missing Values Rate for <b>salary_range</b>",
           "<b style=\"color:#3b0280;line-height:60px\">Analysis</b>",
           "",
           "[45000:49999]",
           "Chunk index: <b>9</b>",
           0,
           0
          ]
         ],
         "hovertemplate": "%{customdata[1]} &nbsp; &nbsp; %{customdata[2]} <br />Chunk: <b>%{customdata[3]}</b> &nbsp; &nbsp; %{customdata[4]} <br />%{customdata[0]}: <b>%{customdata[5]}</b><br />Confidence band: +/- <b>%{customdata[6]}</b><br /><extra></extra>",
         "legendgroup": "metric_analysis",
         "marker": {
          "color": "#00c8e5",
          "size": 5,
          "symbol": "circle"
         },
         "mode": "markers",
         "name": "Metric",
         "showlegend": false,
         "type": "scatter",
         "x": [
          10.5,
          11.5,
          12.5,
          13.5,
          14.5,
          15.5,
          16.5,
          17.5,
          18.5,
          19.5
         ],
         "xaxis": "x",
         "y": [
          0,
          0,
          0,
          0,
          0,
          0,
          0,
          0,
          0,
          0,
          0
         ],
         "yaxis": "y"
        },
        {
         "hoverinfo": "skip",
         "legendgroup": "alert",
         "marker": {
          "color": "#DD4040",
          "size": 8,
          "symbol": "diamond"
         },
         "mode": "markers",
         "name": "Alert",
         "showlegend": true,
         "type": "scatter",
         "x": [],
         "xaxis": "x",
         "y": [],
         "yaxis": "y"
        },
        {
         "hoverinfo": "skip",
         "legendgroup": "thresh",
         "line": {
          "color": "#DD4040",
          "dash": "dash",
          "width": 2
         },
         "mode": "lines",
         "name": "Threshold",
         "showlegend": true,
         "type": "scatter",
         "x": [
          0,
          1,
          2,
          3,
          4,
          5,
          6,
          7,
          8,
          9,
          10
         ],
         "xaxis": "x",
         "y": [
          0,
          0,
          0,
          0,
          0,
          0,
          0,
          0,
          0,
          0,
          0
         ],
         "yaxis": "y"
        },
        {
         "hoverinfo": "skip",
         "legendgroup": "thresh",
         "line": {
          "color": "#DD4040",
          "dash": "dash",
          "width": 2
         },
         "mode": "lines",
         "name": "Threshold",
         "showlegend": false,
         "type": "scatter",
         "x": [
          0,
          1,
          2,
          3,
          4,
          5,
          6,
          7,
          8,
          9,
          10
         ],
         "xaxis": "x",
         "y": [
          0,
          0,
          0,
          0,
          0,
          0,
          0,
          0,
          0,
          0,
          0
         ],
         "yaxis": "y"
        },
        {
         "hoverinfo": "skip",
         "legendgroup": "thresh",
         "line": {
          "color": "#DD4040",
          "dash": "dash",
          "width": 2
         },
         "mode": "lines",
         "name": "Threshold",
         "showlegend": false,
         "type": "scatter",
         "x": [
          10,
          11,
          12,
          13,
          14,
          15,
          16,
          17,
          18,
          19,
          20
         ],
         "xaxis": "x",
         "y": [
          0,
          0,
          0,
          0,
          0,
          0,
          0,
          0,
          0,
          0,
          0
         ],
         "yaxis": "y"
        },
        {
         "hoverinfo": "skip",
         "legendgroup": "thresh",
         "line": {
          "color": "#DD4040",
          "dash": "dash",
          "width": 2
         },
         "mode": "lines",
         "name": "Threshold",
         "showlegend": false,
         "type": "scatter",
         "x": [
          10,
          11,
          12,
          13,
          14,
          15,
          16,
          17,
          18,
          19,
          20
         ],
         "xaxis": "x",
         "y": [
          0,
          0,
          0,
          0,
          0,
          0,
          0,
          0,
          0,
          0,
          0
         ],
         "yaxis": "y"
        },
        {
         "hoverinfo": "skip",
         "line": {
          "color": "rgba(0,0,0,0)",
          "shape": "hv"
         },
         "mode": "lines",
         "name": "Confidence band",
         "showlegend": false,
         "type": "scatter",
         "x": [
          0,
          1,
          2,
          3,
          4,
          5,
          6,
          7,
          8,
          9,
          10
         ],
         "xaxis": "x",
         "y": [
          0,
          0,
          0,
          0,
          0,
          0,
          0,
          0,
          0,
          0,
          0
         ],
         "yaxis": "y"
        },
        {
         "fill": "tonexty",
         "fillcolor": "rgba(0.0, 0.7843137254901961, 0.8980392156862745, 0.2)",
         "hoverinfo": "skip",
         "line": {
          "color": "rgba(0,0,0,0)",
          "shape": "hv"
         },
         "mode": "lines",
         "name": "Confidence band",
         "showlegend": true,
         "type": "scatter",
         "x": [
          0,
          1,
          2,
          3,
          4,
          5,
          6,
          7,
          8,
          9,
          10
         ],
         "xaxis": "x",
         "y": [
          0,
          0,
          0,
          0,
          0,
          0,
          0,
          0,
          0,
          0,
          0
         ],
         "yaxis": "y"
        },
        {
         "hoverinfo": "skip",
         "line": {
          "color": "rgba(0,0,0,0)",
          "shape": "hv"
         },
         "mode": "lines",
         "name": "Confidence band",
         "showlegend": false,
         "type": "scatter",
         "x": [
          10,
          11,
          12,
          13,
          14,
          15,
          16,
          17,
          18,
          19,
          20
         ],
         "xaxis": "x",
         "y": [
          0,
          0,
          0,
          0,
          0,
          0,
          0,
          0,
          0,
          0,
          0
         ],
         "yaxis": "y"
        },
        {
         "fill": "tonexty",
         "fillcolor": "rgba(0.0, 0.7843137254901961, 0.8980392156862745, 0.2)",
         "hoverinfo": "skip",
         "line": {
          "color": "rgba(0,0,0,0)",
          "shape": "hv"
         },
         "mode": "lines",
         "name": "Confidence band",
         "showlegend": false,
         "type": "scatter",
         "x": [
          10,
          11,
          12,
          13,
          14,
          15,
          16,
          17,
          18,
          19,
          20
         ],
         "xaxis": "x",
         "y": [
          0,
          0,
          0,
          0,
          0,
          0,
          0,
          0,
          0,
          0,
          0
         ],
         "yaxis": "y"
        }
       ],
       "layout": {
        "annotations": [
         {
          "font": {
           "size": 16
          },
          "showarrow": false,
          "text": "Missing Values Rate for <b>salary_range</b>",
          "x": 0.5,
          "xanchor": "center",
          "xref": "paper",
          "y": 1,
          "yanchor": "bottom",
          "yref": "paper"
         },
         {
          "showarrow": false,
          "text": "Reference",
          "x": 4.5,
          "xref": "x",
          "xshift": 10,
          "y": 1.01,
          "yref": "y domain"
         },
         {
          "showarrow": false,
          "text": "Analysis",
          "x": 14.5,
          "xref": "x",
          "xshift": 15,
          "y": 1.01,
          "yref": "y domain"
         }
        ],
        "height": 500,
        "hoverlabel": {
         "bgcolor": "white",
         "font": {
          "size": 14
         }
        },
        "legend": {
         "itemclick": false,
         "itemdoubleclick": false,
         "traceorder": "grouped"
        },
        "paper_bgcolor": "rgba(255,255,255,1)",
        "plot_bgcolor": "rgba(255,255,255,1)",
        "shapes": [
         {
          "layer": "below",
          "line": {
           "color": "#666666",
           "width": 1
          },
          "type": "line",
          "x0": 10,
          "x1": 10,
          "xref": "x",
          "y0": 0,
          "y1": 1,
          "yref": "y domain"
         }
        ],
        "template": {
         "data": {
          "bar": [
           {
            "error_x": {
             "color": "#2a3f5f"
            },
            "error_y": {
             "color": "#2a3f5f"
            },
            "marker": {
             "line": {
              "color": "#E5ECF6",
              "width": 0.5
             },
             "pattern": {
              "fillmode": "overlay",
              "size": 10,
              "solidity": 0.2
             }
            },
            "type": "bar"
           }
          ],
          "barpolar": [
           {
            "marker": {
             "line": {
              "color": "#E5ECF6",
              "width": 0.5
             },
             "pattern": {
              "fillmode": "overlay",
              "size": 10,
              "solidity": 0.2
             }
            },
            "type": "barpolar"
           }
          ],
          "carpet": [
           {
            "aaxis": {
             "endlinecolor": "#2a3f5f",
             "gridcolor": "white",
             "linecolor": "white",
             "minorgridcolor": "white",
             "startlinecolor": "#2a3f5f"
            },
            "baxis": {
             "endlinecolor": "#2a3f5f",
             "gridcolor": "white",
             "linecolor": "white",
             "minorgridcolor": "white",
             "startlinecolor": "#2a3f5f"
            },
            "type": "carpet"
           }
          ],
          "choropleth": [
           {
            "colorbar": {
             "outlinewidth": 0,
             "ticks": ""
            },
            "type": "choropleth"
           }
          ],
          "contour": [
           {
            "colorbar": {
             "outlinewidth": 0,
             "ticks": ""
            },
            "colorscale": [
             [
              0,
              "#0d0887"
             ],
             [
              0.1111111111111111,
              "#46039f"
             ],
             [
              0.2222222222222222,
              "#7201a8"
             ],
             [
              0.3333333333333333,
              "#9c179e"
             ],
             [
              0.4444444444444444,
              "#bd3786"
             ],
             [
              0.5555555555555556,
              "#d8576b"
             ],
             [
              0.6666666666666666,
              "#ed7953"
             ],
             [
              0.7777777777777778,
              "#fb9f3a"
             ],
             [
              0.8888888888888888,
              "#fdca26"
             ],
             [
              1,
              "#f0f921"
             ]
            ],
            "type": "contour"
           }
          ],
          "contourcarpet": [
           {
            "colorbar": {
             "outlinewidth": 0,
             "ticks": ""
            },
            "type": "contourcarpet"
           }
          ],
          "heatmap": [
           {
            "colorbar": {
             "outlinewidth": 0,
             "ticks": ""
            },
            "colorscale": [
             [
              0,
              "#0d0887"
             ],
             [
              0.1111111111111111,
              "#46039f"
             ],
             [
              0.2222222222222222,
              "#7201a8"
             ],
             [
              0.3333333333333333,
              "#9c179e"
             ],
             [
              0.4444444444444444,
              "#bd3786"
             ],
             [
              0.5555555555555556,
              "#d8576b"
             ],
             [
              0.6666666666666666,
              "#ed7953"
             ],
             [
              0.7777777777777778,
              "#fb9f3a"
             ],
             [
              0.8888888888888888,
              "#fdca26"
             ],
             [
              1,
              "#f0f921"
             ]
            ],
            "type": "heatmap"
           }
          ],
          "heatmapgl": [
           {
            "colorbar": {
             "outlinewidth": 0,
             "ticks": ""
            },
            "colorscale": [
             [
              0,
              "#0d0887"
             ],
             [
              0.1111111111111111,
              "#46039f"
             ],
             [
              0.2222222222222222,
              "#7201a8"
             ],
             [
              0.3333333333333333,
              "#9c179e"
             ],
             [
              0.4444444444444444,
              "#bd3786"
             ],
             [
              0.5555555555555556,
              "#d8576b"
             ],
             [
              0.6666666666666666,
              "#ed7953"
             ],
             [
              0.7777777777777778,
              "#fb9f3a"
             ],
             [
              0.8888888888888888,
              "#fdca26"
             ],
             [
              1,
              "#f0f921"
             ]
            ],
            "type": "heatmapgl"
           }
          ],
          "histogram": [
           {
            "marker": {
             "pattern": {
              "fillmode": "overlay",
              "size": 10,
              "solidity": 0.2
             }
            },
            "type": "histogram"
           }
          ],
          "histogram2d": [
           {
            "colorbar": {
             "outlinewidth": 0,
             "ticks": ""
            },
            "colorscale": [
             [
              0,
              "#0d0887"
             ],
             [
              0.1111111111111111,
              "#46039f"
             ],
             [
              0.2222222222222222,
              "#7201a8"
             ],
             [
              0.3333333333333333,
              "#9c179e"
             ],
             [
              0.4444444444444444,
              "#bd3786"
             ],
             [
              0.5555555555555556,
              "#d8576b"
             ],
             [
              0.6666666666666666,
              "#ed7953"
             ],
             [
              0.7777777777777778,
              "#fb9f3a"
             ],
             [
              0.8888888888888888,
              "#fdca26"
             ],
             [
              1,
              "#f0f921"
             ]
            ],
            "type": "histogram2d"
           }
          ],
          "histogram2dcontour": [
           {
            "colorbar": {
             "outlinewidth": 0,
             "ticks": ""
            },
            "colorscale": [
             [
              0,
              "#0d0887"
             ],
             [
              0.1111111111111111,
              "#46039f"
             ],
             [
              0.2222222222222222,
              "#7201a8"
             ],
             [
              0.3333333333333333,
              "#9c179e"
             ],
             [
              0.4444444444444444,
              "#bd3786"
             ],
             [
              0.5555555555555556,
              "#d8576b"
             ],
             [
              0.6666666666666666,
              "#ed7953"
             ],
             [
              0.7777777777777778,
              "#fb9f3a"
             ],
             [
              0.8888888888888888,
              "#fdca26"
             ],
             [
              1,
              "#f0f921"
             ]
            ],
            "type": "histogram2dcontour"
           }
          ],
          "mesh3d": [
           {
            "colorbar": {
             "outlinewidth": 0,
             "ticks": ""
            },
            "type": "mesh3d"
           }
          ],
          "parcoords": [
           {
            "line": {
             "colorbar": {
              "outlinewidth": 0,
              "ticks": ""
             }
            },
            "type": "parcoords"
           }
          ],
          "pie": [
           {
            "automargin": true,
            "type": "pie"
           }
          ],
          "scatter": [
           {
            "fillpattern": {
             "fillmode": "overlay",
             "size": 10,
             "solidity": 0.2
            },
            "type": "scatter"
           }
          ],
          "scatter3d": [
           {
            "line": {
             "colorbar": {
              "outlinewidth": 0,
              "ticks": ""
             }
            },
            "marker": {
             "colorbar": {
              "outlinewidth": 0,
              "ticks": ""
             }
            },
            "type": "scatter3d"
           }
          ],
          "scattercarpet": [
           {
            "marker": {
             "colorbar": {
              "outlinewidth": 0,
              "ticks": ""
             }
            },
            "type": "scattercarpet"
           }
          ],
          "scattergeo": [
           {
            "marker": {
             "colorbar": {
              "outlinewidth": 0,
              "ticks": ""
             }
            },
            "type": "scattergeo"
           }
          ],
          "scattergl": [
           {
            "marker": {
             "colorbar": {
              "outlinewidth": 0,
              "ticks": ""
             }
            },
            "type": "scattergl"
           }
          ],
          "scattermapbox": [
           {
            "marker": {
             "colorbar": {
              "outlinewidth": 0,
              "ticks": ""
             }
            },
            "type": "scattermapbox"
           }
          ],
          "scatterpolar": [
           {
            "marker": {
             "colorbar": {
              "outlinewidth": 0,
              "ticks": ""
             }
            },
            "type": "scatterpolar"
           }
          ],
          "scatterpolargl": [
           {
            "marker": {
             "colorbar": {
              "outlinewidth": 0,
              "ticks": ""
             }
            },
            "type": "scatterpolargl"
           }
          ],
          "scatterternary": [
           {
            "marker": {
             "colorbar": {
              "outlinewidth": 0,
              "ticks": ""
             }
            },
            "type": "scatterternary"
           }
          ],
          "surface": [
           {
            "colorbar": {
             "outlinewidth": 0,
             "ticks": ""
            },
            "colorscale": [
             [
              0,
              "#0d0887"
             ],
             [
              0.1111111111111111,
              "#46039f"
             ],
             [
              0.2222222222222222,
              "#7201a8"
             ],
             [
              0.3333333333333333,
              "#9c179e"
             ],
             [
              0.4444444444444444,
              "#bd3786"
             ],
             [
              0.5555555555555556,
              "#d8576b"
             ],
             [
              0.6666666666666666,
              "#ed7953"
             ],
             [
              0.7777777777777778,
              "#fb9f3a"
             ],
             [
              0.8888888888888888,
              "#fdca26"
             ],
             [
              1,
              "#f0f921"
             ]
            ],
            "type": "surface"
           }
          ],
          "table": [
           {
            "cells": {
             "fill": {
              "color": "#EBF0F8"
             },
             "line": {
              "color": "white"
             }
            },
            "header": {
             "fill": {
              "color": "#C8D4E3"
             },
             "line": {
              "color": "white"
             }
            },
            "type": "table"
           }
          ]
         },
         "layout": {
          "annotationdefaults": {
           "arrowcolor": "#2a3f5f",
           "arrowhead": 0,
           "arrowwidth": 1
          },
          "autotypenumbers": "strict",
          "coloraxis": {
           "colorbar": {
            "outlinewidth": 0,
            "ticks": ""
           }
          },
          "colorscale": {
           "diverging": [
            [
             0,
             "#8e0152"
            ],
            [
             0.1,
             "#c51b7d"
            ],
            [
             0.2,
             "#de77ae"
            ],
            [
             0.3,
             "#f1b6da"
            ],
            [
             0.4,
             "#fde0ef"
            ],
            [
             0.5,
             "#f7f7f7"
            ],
            [
             0.6,
             "#e6f5d0"
            ],
            [
             0.7,
             "#b8e186"
            ],
            [
             0.8,
             "#7fbc41"
            ],
            [
             0.9,
             "#4d9221"
            ],
            [
             1,
             "#276419"
            ]
           ],
           "sequential": [
            [
             0,
             "#0d0887"
            ],
            [
             0.1111111111111111,
             "#46039f"
            ],
            [
             0.2222222222222222,
             "#7201a8"
            ],
            [
             0.3333333333333333,
             "#9c179e"
            ],
            [
             0.4444444444444444,
             "#bd3786"
            ],
            [
             0.5555555555555556,
             "#d8576b"
            ],
            [
             0.6666666666666666,
             "#ed7953"
            ],
            [
             0.7777777777777778,
             "#fb9f3a"
            ],
            [
             0.8888888888888888,
             "#fdca26"
            ],
            [
             1,
             "#f0f921"
            ]
           ],
           "sequentialminus": [
            [
             0,
             "#0d0887"
            ],
            [
             0.1111111111111111,
             "#46039f"
            ],
            [
             0.2222222222222222,
             "#7201a8"
            ],
            [
             0.3333333333333333,
             "#9c179e"
            ],
            [
             0.4444444444444444,
             "#bd3786"
            ],
            [
             0.5555555555555556,
             "#d8576b"
            ],
            [
             0.6666666666666666,
             "#ed7953"
            ],
            [
             0.7777777777777778,
             "#fb9f3a"
            ],
            [
             0.8888888888888888,
             "#fdca26"
            ],
            [
             1,
             "#f0f921"
            ]
           ]
          },
          "colorway": [
           "#636efa",
           "#EF553B",
           "#00cc96",
           "#ab63fa",
           "#FFA15A",
           "#19d3f3",
           "#FF6692",
           "#B6E880",
           "#FF97FF",
           "#FECB52"
          ],
          "font": {
           "color": "#2a3f5f"
          },
          "geo": {
           "bgcolor": "white",
           "lakecolor": "white",
           "landcolor": "#E5ECF6",
           "showlakes": true,
           "showland": true,
           "subunitcolor": "white"
          },
          "hoverlabel": {
           "align": "left"
          },
          "hovermode": "closest",
          "mapbox": {
           "style": "light"
          },
          "paper_bgcolor": "white",
          "plot_bgcolor": "#E5ECF6",
          "polar": {
           "angularaxis": {
            "gridcolor": "white",
            "linecolor": "white",
            "ticks": ""
           },
           "bgcolor": "#E5ECF6",
           "radialaxis": {
            "gridcolor": "white",
            "linecolor": "white",
            "ticks": ""
           }
          },
          "scene": {
           "xaxis": {
            "backgroundcolor": "#E5ECF6",
            "gridcolor": "white",
            "gridwidth": 2,
            "linecolor": "white",
            "showbackground": true,
            "ticks": "",
            "zerolinecolor": "white"
           },
           "yaxis": {
            "backgroundcolor": "#E5ECF6",
            "gridcolor": "white",
            "gridwidth": 2,
            "linecolor": "white",
            "showbackground": true,
            "ticks": "",
            "zerolinecolor": "white"
           },
           "zaxis": {
            "backgroundcolor": "#E5ECF6",
            "gridcolor": "white",
            "gridwidth": 2,
            "linecolor": "white",
            "showbackground": true,
            "ticks": "",
            "zerolinecolor": "white"
           }
          },
          "shapedefaults": {
           "line": {
            "color": "#2a3f5f"
           }
          },
          "ternary": {
           "aaxis": {
            "gridcolor": "white",
            "linecolor": "white",
            "ticks": ""
           },
           "baxis": {
            "gridcolor": "white",
            "linecolor": "white",
            "ticks": ""
           },
           "bgcolor": "#E5ECF6",
           "caxis": {
            "gridcolor": "white",
            "linecolor": "white",
            "ticks": ""
           }
          },
          "title": {
           "x": 0.05
          },
          "xaxis": {
           "automargin": true,
           "gridcolor": "white",
           "linecolor": "white",
           "ticks": "",
           "title": {
            "standoff": 15
           },
           "zerolinecolor": "white",
           "zerolinewidth": 2
          },
          "yaxis": {
           "automargin": true,
           "gridcolor": "white",
           "linecolor": "white",
           "ticks": "",
           "title": {
            "standoff": 15
           },
           "zerolinecolor": "white",
           "zerolinewidth": 2
          }
         }
        },
        "title": {
         "text": "Data Quality "
        },
        "xaxis": {
         "anchor": "y",
         "domain": [
          0,
          1
         ],
         "linecolor": "#3b0280",
         "matches": "x",
         "mirror": true,
         "showgrid": false,
         "title": {
          "text": "Chunk"
         },
         "zeroline": false
        },
        "yaxis": {
         "anchor": "x",
         "domain": [
          0,
          1
         ],
         "linecolor": "#3b0280",
         "mirror": true,
         "showgrid": false,
         "title": {
          "text": "Missing Values Rate"
         },
         "zeroline": false
        }
       }
      }
     },
     "metadata": {},
     "output_type": "display_data"
    },
    {
     "data": {
      "application/vnd.plotly.v1+json": {
       "config": {
        "plotlyServerURL": "https://plot.ly"
       },
       "data": [
        {
         "hoverinfo": "skip",
         "legendgroup": "metric_reference",
         "line": {
          "color": "#00c8e5",
          "shape": "hv",
          "width": 2
         },
         "mode": "lines",
         "name": "Metric",
         "showlegend": true,
         "type": "scatter",
         "x": [
          0,
          1,
          2,
          3,
          4,
          5,
          6,
          7,
          8,
          9,
          10
         ],
         "xaxis": "x",
         "y": [
          0,
          0,
          0,
          0,
          0,
          0,
          0,
          0,
          0,
          0,
          0
         ],
         "yaxis": "y"
        },
        {
         "customdata": [
          [
           "Missing Values Rate for <b>debt_to_income_ratio</b>",
           "<b style=\"color:#00c8e5;line-height:60px\">Reference</b>",
           "",
           "[0:4999]",
           "Chunk index: <b>0</b>",
           0,
           0
          ],
          [
           "Missing Values Rate for <b>debt_to_income_ratio</b>",
           "<b style=\"color:#00c8e5;line-height:60px\">Reference</b>",
           "",
           "[5000:9999]",
           "Chunk index: <b>1</b>",
           0,
           0
          ],
          [
           "Missing Values Rate for <b>debt_to_income_ratio</b>",
           "<b style=\"color:#00c8e5;line-height:60px\">Reference</b>",
           "",
           "[10000:14999]",
           "Chunk index: <b>2</b>",
           0,
           0
          ],
          [
           "Missing Values Rate for <b>debt_to_income_ratio</b>",
           "<b style=\"color:#00c8e5;line-height:60px\">Reference</b>",
           "",
           "[15000:19999]",
           "Chunk index: <b>3</b>",
           0,
           0
          ],
          [
           "Missing Values Rate for <b>debt_to_income_ratio</b>",
           "<b style=\"color:#00c8e5;line-height:60px\">Reference</b>",
           "",
           "[20000:24999]",
           "Chunk index: <b>4</b>",
           0,
           0
          ],
          [
           "Missing Values Rate for <b>debt_to_income_ratio</b>",
           "<b style=\"color:#00c8e5;line-height:60px\">Reference</b>",
           "",
           "[25000:29999]",
           "Chunk index: <b>5</b>",
           0,
           0
          ],
          [
           "Missing Values Rate for <b>debt_to_income_ratio</b>",
           "<b style=\"color:#00c8e5;line-height:60px\">Reference</b>",
           "",
           "[30000:34999]",
           "Chunk index: <b>6</b>",
           0,
           0
          ],
          [
           "Missing Values Rate for <b>debt_to_income_ratio</b>",
           "<b style=\"color:#00c8e5;line-height:60px\">Reference</b>",
           "",
           "[35000:39999]",
           "Chunk index: <b>7</b>",
           0,
           0
          ],
          [
           "Missing Values Rate for <b>debt_to_income_ratio</b>",
           "<b style=\"color:#00c8e5;line-height:60px\">Reference</b>",
           "",
           "[40000:44999]",
           "Chunk index: <b>8</b>",
           0,
           0
          ],
          [
           "Missing Values Rate for <b>debt_to_income_ratio</b>",
           "<b style=\"color:#00c8e5;line-height:60px\">Reference</b>",
           "",
           "[45000:49999]",
           "Chunk index: <b>9</b>",
           0,
           0
          ]
         ],
         "hovertemplate": "%{customdata[1]} &nbsp; &nbsp; %{customdata[2]} <br />Chunk: <b>%{customdata[3]}</b> &nbsp; &nbsp; %{customdata[4]} <br />%{customdata[0]}: <b>%{customdata[5]}</b><br />Confidence band: +/- <b>%{customdata[6]}</b><br /><extra></extra>",
         "legendgroup": "metric_reference",
         "marker": {
          "color": "#00c8e5",
          "size": 5,
          "symbol": "circle"
         },
         "mode": "markers",
         "name": "Metric",
         "showlegend": false,
         "type": "scatter",
         "x": [
          0.5,
          1.5,
          2.5,
          3.5,
          4.5,
          5.5,
          6.5,
          7.5,
          8.5,
          9.5
         ],
         "xaxis": "x",
         "y": [
          0,
          0,
          0,
          0,
          0,
          0,
          0,
          0,
          0,
          0,
          0
         ],
         "yaxis": "y"
        },
        {
         "hoverinfo": "skip",
         "legendgroup": "metric_analysis",
         "line": {
          "color": "#00c8e5",
          "shape": "hv",
          "width": 2
         },
         "mode": "lines",
         "name": "Metric",
         "showlegend": false,
         "type": "scatter",
         "x": [
          10,
          11,
          12,
          13,
          14,
          15,
          16,
          17,
          18,
          19,
          20
         ],
         "xaxis": "x",
         "y": [
          0,
          0,
          0,
          0,
          0,
          0,
          0,
          0,
          0,
          0,
          0
         ],
         "yaxis": "y"
        },
        {
         "customdata": [
          [
           "Missing Values Rate for <b>debt_to_income_ratio</b>",
           "<b style=\"color:#3b0280;line-height:60px\">Analysis</b>",
           "",
           "[0:4999]",
           "Chunk index: <b>0</b>",
           0,
           0
          ],
          [
           "Missing Values Rate for <b>debt_to_income_ratio</b>",
           "<b style=\"color:#3b0280;line-height:60px\">Analysis</b>",
           "",
           "[5000:9999]",
           "Chunk index: <b>1</b>",
           0,
           0
          ],
          [
           "Missing Values Rate for <b>debt_to_income_ratio</b>",
           "<b style=\"color:#3b0280;line-height:60px\">Analysis</b>",
           "",
           "[10000:14999]",
           "Chunk index: <b>2</b>",
           0,
           0
          ],
          [
           "Missing Values Rate for <b>debt_to_income_ratio</b>",
           "<b style=\"color:#3b0280;line-height:60px\">Analysis</b>",
           "",
           "[15000:19999]",
           "Chunk index: <b>3</b>",
           0,
           0
          ],
          [
           "Missing Values Rate for <b>debt_to_income_ratio</b>",
           "<b style=\"color:#3b0280;line-height:60px\">Analysis</b>",
           "",
           "[20000:24999]",
           "Chunk index: <b>4</b>",
           0,
           0
          ],
          [
           "Missing Values Rate for <b>debt_to_income_ratio</b>",
           "<b style=\"color:#3b0280;line-height:60px\">Analysis</b>",
           "",
           "[25000:29999]",
           "Chunk index: <b>5</b>",
           0,
           0
          ],
          [
           "Missing Values Rate for <b>debt_to_income_ratio</b>",
           "<b style=\"color:#3b0280;line-height:60px\">Analysis</b>",
           "",
           "[30000:34999]",
           "Chunk index: <b>6</b>",
           0,
           0
          ],
          [
           "Missing Values Rate for <b>debt_to_income_ratio</b>",
           "<b style=\"color:#3b0280;line-height:60px\">Analysis</b>",
           "",
           "[35000:39999]",
           "Chunk index: <b>7</b>",
           0,
           0
          ],
          [
           "Missing Values Rate for <b>debt_to_income_ratio</b>",
           "<b style=\"color:#3b0280;line-height:60px\">Analysis</b>",
           "",
           "[40000:44999]",
           "Chunk index: <b>8</b>",
           0,
           0
          ],
          [
           "Missing Values Rate for <b>debt_to_income_ratio</b>",
           "<b style=\"color:#3b0280;line-height:60px\">Analysis</b>",
           "",
           "[45000:49999]",
           "Chunk index: <b>9</b>",
           0,
           0
          ]
         ],
         "hovertemplate": "%{customdata[1]} &nbsp; &nbsp; %{customdata[2]} <br />Chunk: <b>%{customdata[3]}</b> &nbsp; &nbsp; %{customdata[4]} <br />%{customdata[0]}: <b>%{customdata[5]}</b><br />Confidence band: +/- <b>%{customdata[6]}</b><br /><extra></extra>",
         "legendgroup": "metric_analysis",
         "marker": {
          "color": "#00c8e5",
          "size": 5,
          "symbol": "circle"
         },
         "mode": "markers",
         "name": "Metric",
         "showlegend": false,
         "type": "scatter",
         "x": [
          10.5,
          11.5,
          12.5,
          13.5,
          14.5,
          15.5,
          16.5,
          17.5,
          18.5,
          19.5
         ],
         "xaxis": "x",
         "y": [
          0,
          0,
          0,
          0,
          0,
          0,
          0,
          0,
          0,
          0,
          0
         ],
         "yaxis": "y"
        },
        {
         "hoverinfo": "skip",
         "legendgroup": "alert",
         "marker": {
          "color": "#DD4040",
          "size": 8,
          "symbol": "diamond"
         },
         "mode": "markers",
         "name": "Alert",
         "showlegend": true,
         "type": "scatter",
         "x": [],
         "xaxis": "x",
         "y": [],
         "yaxis": "y"
        },
        {
         "hoverinfo": "skip",
         "legendgroup": "thresh",
         "line": {
          "color": "#DD4040",
          "dash": "dash",
          "width": 2
         },
         "mode": "lines",
         "name": "Threshold",
         "showlegend": true,
         "type": "scatter",
         "x": [
          0,
          1,
          2,
          3,
          4,
          5,
          6,
          7,
          8,
          9,
          10
         ],
         "xaxis": "x",
         "y": [
          0,
          0,
          0,
          0,
          0,
          0,
          0,
          0,
          0,
          0,
          0
         ],
         "yaxis": "y"
        },
        {
         "hoverinfo": "skip",
         "legendgroup": "thresh",
         "line": {
          "color": "#DD4040",
          "dash": "dash",
          "width": 2
         },
         "mode": "lines",
         "name": "Threshold",
         "showlegend": false,
         "type": "scatter",
         "x": [
          0,
          1,
          2,
          3,
          4,
          5,
          6,
          7,
          8,
          9,
          10
         ],
         "xaxis": "x",
         "y": [
          0,
          0,
          0,
          0,
          0,
          0,
          0,
          0,
          0,
          0,
          0
         ],
         "yaxis": "y"
        },
        {
         "hoverinfo": "skip",
         "legendgroup": "thresh",
         "line": {
          "color": "#DD4040",
          "dash": "dash",
          "width": 2
         },
         "mode": "lines",
         "name": "Threshold",
         "showlegend": false,
         "type": "scatter",
         "x": [
          10,
          11,
          12,
          13,
          14,
          15,
          16,
          17,
          18,
          19,
          20
         ],
         "xaxis": "x",
         "y": [
          0,
          0,
          0,
          0,
          0,
          0,
          0,
          0,
          0,
          0,
          0
         ],
         "yaxis": "y"
        },
        {
         "hoverinfo": "skip",
         "legendgroup": "thresh",
         "line": {
          "color": "#DD4040",
          "dash": "dash",
          "width": 2
         },
         "mode": "lines",
         "name": "Threshold",
         "showlegend": false,
         "type": "scatter",
         "x": [
          10,
          11,
          12,
          13,
          14,
          15,
          16,
          17,
          18,
          19,
          20
         ],
         "xaxis": "x",
         "y": [
          0,
          0,
          0,
          0,
          0,
          0,
          0,
          0,
          0,
          0,
          0
         ],
         "yaxis": "y"
        },
        {
         "hoverinfo": "skip",
         "line": {
          "color": "rgba(0,0,0,0)",
          "shape": "hv"
         },
         "mode": "lines",
         "name": "Confidence band",
         "showlegend": false,
         "type": "scatter",
         "x": [
          0,
          1,
          2,
          3,
          4,
          5,
          6,
          7,
          8,
          9,
          10
         ],
         "xaxis": "x",
         "y": [
          0,
          0,
          0,
          0,
          0,
          0,
          0,
          0,
          0,
          0,
          0
         ],
         "yaxis": "y"
        },
        {
         "fill": "tonexty",
         "fillcolor": "rgba(0.0, 0.7843137254901961, 0.8980392156862745, 0.2)",
         "hoverinfo": "skip",
         "line": {
          "color": "rgba(0,0,0,0)",
          "shape": "hv"
         },
         "mode": "lines",
         "name": "Confidence band",
         "showlegend": true,
         "type": "scatter",
         "x": [
          0,
          1,
          2,
          3,
          4,
          5,
          6,
          7,
          8,
          9,
          10
         ],
         "xaxis": "x",
         "y": [
          0,
          0,
          0,
          0,
          0,
          0,
          0,
          0,
          0,
          0,
          0
         ],
         "yaxis": "y"
        },
        {
         "hoverinfo": "skip",
         "line": {
          "color": "rgba(0,0,0,0)",
          "shape": "hv"
         },
         "mode": "lines",
         "name": "Confidence band",
         "showlegend": false,
         "type": "scatter",
         "x": [
          10,
          11,
          12,
          13,
          14,
          15,
          16,
          17,
          18,
          19,
          20
         ],
         "xaxis": "x",
         "y": [
          0,
          0,
          0,
          0,
          0,
          0,
          0,
          0,
          0,
          0,
          0
         ],
         "yaxis": "y"
        },
        {
         "fill": "tonexty",
         "fillcolor": "rgba(0.0, 0.7843137254901961, 0.8980392156862745, 0.2)",
         "hoverinfo": "skip",
         "line": {
          "color": "rgba(0,0,0,0)",
          "shape": "hv"
         },
         "mode": "lines",
         "name": "Confidence band",
         "showlegend": false,
         "type": "scatter",
         "x": [
          10,
          11,
          12,
          13,
          14,
          15,
          16,
          17,
          18,
          19,
          20
         ],
         "xaxis": "x",
         "y": [
          0,
          0,
          0,
          0,
          0,
          0,
          0,
          0,
          0,
          0,
          0
         ],
         "yaxis": "y"
        }
       ],
       "layout": {
        "annotations": [
         {
          "font": {
           "size": 16
          },
          "showarrow": false,
          "text": "Missing Values Rate for <b>debt_to_income_ratio</b>",
          "x": 0.5,
          "xanchor": "center",
          "xref": "paper",
          "y": 1,
          "yanchor": "bottom",
          "yref": "paper"
         },
         {
          "showarrow": false,
          "text": "Reference",
          "x": 4.5,
          "xref": "x",
          "xshift": 10,
          "y": 1.01,
          "yref": "y domain"
         },
         {
          "showarrow": false,
          "text": "Analysis",
          "x": 14.5,
          "xref": "x",
          "xshift": 15,
          "y": 1.01,
          "yref": "y domain"
         }
        ],
        "height": 500,
        "hoverlabel": {
         "bgcolor": "white",
         "font": {
          "size": 14
         }
        },
        "legend": {
         "itemclick": false,
         "itemdoubleclick": false,
         "traceorder": "grouped"
        },
        "paper_bgcolor": "rgba(255,255,255,1)",
        "plot_bgcolor": "rgba(255,255,255,1)",
        "shapes": [
         {
          "layer": "below",
          "line": {
           "color": "#666666",
           "width": 1
          },
          "type": "line",
          "x0": 10,
          "x1": 10,
          "xref": "x",
          "y0": 0,
          "y1": 1,
          "yref": "y domain"
         }
        ],
        "template": {
         "data": {
          "bar": [
           {
            "error_x": {
             "color": "#2a3f5f"
            },
            "error_y": {
             "color": "#2a3f5f"
            },
            "marker": {
             "line": {
              "color": "#E5ECF6",
              "width": 0.5
             },
             "pattern": {
              "fillmode": "overlay",
              "size": 10,
              "solidity": 0.2
             }
            },
            "type": "bar"
           }
          ],
          "barpolar": [
           {
            "marker": {
             "line": {
              "color": "#E5ECF6",
              "width": 0.5
             },
             "pattern": {
              "fillmode": "overlay",
              "size": 10,
              "solidity": 0.2
             }
            },
            "type": "barpolar"
           }
          ],
          "carpet": [
           {
            "aaxis": {
             "endlinecolor": "#2a3f5f",
             "gridcolor": "white",
             "linecolor": "white",
             "minorgridcolor": "white",
             "startlinecolor": "#2a3f5f"
            },
            "baxis": {
             "endlinecolor": "#2a3f5f",
             "gridcolor": "white",
             "linecolor": "white",
             "minorgridcolor": "white",
             "startlinecolor": "#2a3f5f"
            },
            "type": "carpet"
           }
          ],
          "choropleth": [
           {
            "colorbar": {
             "outlinewidth": 0,
             "ticks": ""
            },
            "type": "choropleth"
           }
          ],
          "contour": [
           {
            "colorbar": {
             "outlinewidth": 0,
             "ticks": ""
            },
            "colorscale": [
             [
              0,
              "#0d0887"
             ],
             [
              0.1111111111111111,
              "#46039f"
             ],
             [
              0.2222222222222222,
              "#7201a8"
             ],
             [
              0.3333333333333333,
              "#9c179e"
             ],
             [
              0.4444444444444444,
              "#bd3786"
             ],
             [
              0.5555555555555556,
              "#d8576b"
             ],
             [
              0.6666666666666666,
              "#ed7953"
             ],
             [
              0.7777777777777778,
              "#fb9f3a"
             ],
             [
              0.8888888888888888,
              "#fdca26"
             ],
             [
              1,
              "#f0f921"
             ]
            ],
            "type": "contour"
           }
          ],
          "contourcarpet": [
           {
            "colorbar": {
             "outlinewidth": 0,
             "ticks": ""
            },
            "type": "contourcarpet"
           }
          ],
          "heatmap": [
           {
            "colorbar": {
             "outlinewidth": 0,
             "ticks": ""
            },
            "colorscale": [
             [
              0,
              "#0d0887"
             ],
             [
              0.1111111111111111,
              "#46039f"
             ],
             [
              0.2222222222222222,
              "#7201a8"
             ],
             [
              0.3333333333333333,
              "#9c179e"
             ],
             [
              0.4444444444444444,
              "#bd3786"
             ],
             [
              0.5555555555555556,
              "#d8576b"
             ],
             [
              0.6666666666666666,
              "#ed7953"
             ],
             [
              0.7777777777777778,
              "#fb9f3a"
             ],
             [
              0.8888888888888888,
              "#fdca26"
             ],
             [
              1,
              "#f0f921"
             ]
            ],
            "type": "heatmap"
           }
          ],
          "heatmapgl": [
           {
            "colorbar": {
             "outlinewidth": 0,
             "ticks": ""
            },
            "colorscale": [
             [
              0,
              "#0d0887"
             ],
             [
              0.1111111111111111,
              "#46039f"
             ],
             [
              0.2222222222222222,
              "#7201a8"
             ],
             [
              0.3333333333333333,
              "#9c179e"
             ],
             [
              0.4444444444444444,
              "#bd3786"
             ],
             [
              0.5555555555555556,
              "#d8576b"
             ],
             [
              0.6666666666666666,
              "#ed7953"
             ],
             [
              0.7777777777777778,
              "#fb9f3a"
             ],
             [
              0.8888888888888888,
              "#fdca26"
             ],
             [
              1,
              "#f0f921"
             ]
            ],
            "type": "heatmapgl"
           }
          ],
          "histogram": [
           {
            "marker": {
             "pattern": {
              "fillmode": "overlay",
              "size": 10,
              "solidity": 0.2
             }
            },
            "type": "histogram"
           }
          ],
          "histogram2d": [
           {
            "colorbar": {
             "outlinewidth": 0,
             "ticks": ""
            },
            "colorscale": [
             [
              0,
              "#0d0887"
             ],
             [
              0.1111111111111111,
              "#46039f"
             ],
             [
              0.2222222222222222,
              "#7201a8"
             ],
             [
              0.3333333333333333,
              "#9c179e"
             ],
             [
              0.4444444444444444,
              "#bd3786"
             ],
             [
              0.5555555555555556,
              "#d8576b"
             ],
             [
              0.6666666666666666,
              "#ed7953"
             ],
             [
              0.7777777777777778,
              "#fb9f3a"
             ],
             [
              0.8888888888888888,
              "#fdca26"
             ],
             [
              1,
              "#f0f921"
             ]
            ],
            "type": "histogram2d"
           }
          ],
          "histogram2dcontour": [
           {
            "colorbar": {
             "outlinewidth": 0,
             "ticks": ""
            },
            "colorscale": [
             [
              0,
              "#0d0887"
             ],
             [
              0.1111111111111111,
              "#46039f"
             ],
             [
              0.2222222222222222,
              "#7201a8"
             ],
             [
              0.3333333333333333,
              "#9c179e"
             ],
             [
              0.4444444444444444,
              "#bd3786"
             ],
             [
              0.5555555555555556,
              "#d8576b"
             ],
             [
              0.6666666666666666,
              "#ed7953"
             ],
             [
              0.7777777777777778,
              "#fb9f3a"
             ],
             [
              0.8888888888888888,
              "#fdca26"
             ],
             [
              1,
              "#f0f921"
             ]
            ],
            "type": "histogram2dcontour"
           }
          ],
          "mesh3d": [
           {
            "colorbar": {
             "outlinewidth": 0,
             "ticks": ""
            },
            "type": "mesh3d"
           }
          ],
          "parcoords": [
           {
            "line": {
             "colorbar": {
              "outlinewidth": 0,
              "ticks": ""
             }
            },
            "type": "parcoords"
           }
          ],
          "pie": [
           {
            "automargin": true,
            "type": "pie"
           }
          ],
          "scatter": [
           {
            "fillpattern": {
             "fillmode": "overlay",
             "size": 10,
             "solidity": 0.2
            },
            "type": "scatter"
           }
          ],
          "scatter3d": [
           {
            "line": {
             "colorbar": {
              "outlinewidth": 0,
              "ticks": ""
             }
            },
            "marker": {
             "colorbar": {
              "outlinewidth": 0,
              "ticks": ""
             }
            },
            "type": "scatter3d"
           }
          ],
          "scattercarpet": [
           {
            "marker": {
             "colorbar": {
              "outlinewidth": 0,
              "ticks": ""
             }
            },
            "type": "scattercarpet"
           }
          ],
          "scattergeo": [
           {
            "marker": {
             "colorbar": {
              "outlinewidth": 0,
              "ticks": ""
             }
            },
            "type": "scattergeo"
           }
          ],
          "scattergl": [
           {
            "marker": {
             "colorbar": {
              "outlinewidth": 0,
              "ticks": ""
             }
            },
            "type": "scattergl"
           }
          ],
          "scattermapbox": [
           {
            "marker": {
             "colorbar": {
              "outlinewidth": 0,
              "ticks": ""
             }
            },
            "type": "scattermapbox"
           }
          ],
          "scatterpolar": [
           {
            "marker": {
             "colorbar": {
              "outlinewidth": 0,
              "ticks": ""
             }
            },
            "type": "scatterpolar"
           }
          ],
          "scatterpolargl": [
           {
            "marker": {
             "colorbar": {
              "outlinewidth": 0,
              "ticks": ""
             }
            },
            "type": "scatterpolargl"
           }
          ],
          "scatterternary": [
           {
            "marker": {
             "colorbar": {
              "outlinewidth": 0,
              "ticks": ""
             }
            },
            "type": "scatterternary"
           }
          ],
          "surface": [
           {
            "colorbar": {
             "outlinewidth": 0,
             "ticks": ""
            },
            "colorscale": [
             [
              0,
              "#0d0887"
             ],
             [
              0.1111111111111111,
              "#46039f"
             ],
             [
              0.2222222222222222,
              "#7201a8"
             ],
             [
              0.3333333333333333,
              "#9c179e"
             ],
             [
              0.4444444444444444,
              "#bd3786"
             ],
             [
              0.5555555555555556,
              "#d8576b"
             ],
             [
              0.6666666666666666,
              "#ed7953"
             ],
             [
              0.7777777777777778,
              "#fb9f3a"
             ],
             [
              0.8888888888888888,
              "#fdca26"
             ],
             [
              1,
              "#f0f921"
             ]
            ],
            "type": "surface"
           }
          ],
          "table": [
           {
            "cells": {
             "fill": {
              "color": "#EBF0F8"
             },
             "line": {
              "color": "white"
             }
            },
            "header": {
             "fill": {
              "color": "#C8D4E3"
             },
             "line": {
              "color": "white"
             }
            },
            "type": "table"
           }
          ]
         },
         "layout": {
          "annotationdefaults": {
           "arrowcolor": "#2a3f5f",
           "arrowhead": 0,
           "arrowwidth": 1
          },
          "autotypenumbers": "strict",
          "coloraxis": {
           "colorbar": {
            "outlinewidth": 0,
            "ticks": ""
           }
          },
          "colorscale": {
           "diverging": [
            [
             0,
             "#8e0152"
            ],
            [
             0.1,
             "#c51b7d"
            ],
            [
             0.2,
             "#de77ae"
            ],
            [
             0.3,
             "#f1b6da"
            ],
            [
             0.4,
             "#fde0ef"
            ],
            [
             0.5,
             "#f7f7f7"
            ],
            [
             0.6,
             "#e6f5d0"
            ],
            [
             0.7,
             "#b8e186"
            ],
            [
             0.8,
             "#7fbc41"
            ],
            [
             0.9,
             "#4d9221"
            ],
            [
             1,
             "#276419"
            ]
           ],
           "sequential": [
            [
             0,
             "#0d0887"
            ],
            [
             0.1111111111111111,
             "#46039f"
            ],
            [
             0.2222222222222222,
             "#7201a8"
            ],
            [
             0.3333333333333333,
             "#9c179e"
            ],
            [
             0.4444444444444444,
             "#bd3786"
            ],
            [
             0.5555555555555556,
             "#d8576b"
            ],
            [
             0.6666666666666666,
             "#ed7953"
            ],
            [
             0.7777777777777778,
             "#fb9f3a"
            ],
            [
             0.8888888888888888,
             "#fdca26"
            ],
            [
             1,
             "#f0f921"
            ]
           ],
           "sequentialminus": [
            [
             0,
             "#0d0887"
            ],
            [
             0.1111111111111111,
             "#46039f"
            ],
            [
             0.2222222222222222,
             "#7201a8"
            ],
            [
             0.3333333333333333,
             "#9c179e"
            ],
            [
             0.4444444444444444,
             "#bd3786"
            ],
            [
             0.5555555555555556,
             "#d8576b"
            ],
            [
             0.6666666666666666,
             "#ed7953"
            ],
            [
             0.7777777777777778,
             "#fb9f3a"
            ],
            [
             0.8888888888888888,
             "#fdca26"
            ],
            [
             1,
             "#f0f921"
            ]
           ]
          },
          "colorway": [
           "#636efa",
           "#EF553B",
           "#00cc96",
           "#ab63fa",
           "#FFA15A",
           "#19d3f3",
           "#FF6692",
           "#B6E880",
           "#FF97FF",
           "#FECB52"
          ],
          "font": {
           "color": "#2a3f5f"
          },
          "geo": {
           "bgcolor": "white",
           "lakecolor": "white",
           "landcolor": "#E5ECF6",
           "showlakes": true,
           "showland": true,
           "subunitcolor": "white"
          },
          "hoverlabel": {
           "align": "left"
          },
          "hovermode": "closest",
          "mapbox": {
           "style": "light"
          },
          "paper_bgcolor": "white",
          "plot_bgcolor": "#E5ECF6",
          "polar": {
           "angularaxis": {
            "gridcolor": "white",
            "linecolor": "white",
            "ticks": ""
           },
           "bgcolor": "#E5ECF6",
           "radialaxis": {
            "gridcolor": "white",
            "linecolor": "white",
            "ticks": ""
           }
          },
          "scene": {
           "xaxis": {
            "backgroundcolor": "#E5ECF6",
            "gridcolor": "white",
            "gridwidth": 2,
            "linecolor": "white",
            "showbackground": true,
            "ticks": "",
            "zerolinecolor": "white"
           },
           "yaxis": {
            "backgroundcolor": "#E5ECF6",
            "gridcolor": "white",
            "gridwidth": 2,
            "linecolor": "white",
            "showbackground": true,
            "ticks": "",
            "zerolinecolor": "white"
           },
           "zaxis": {
            "backgroundcolor": "#E5ECF6",
            "gridcolor": "white",
            "gridwidth": 2,
            "linecolor": "white",
            "showbackground": true,
            "ticks": "",
            "zerolinecolor": "white"
           }
          },
          "shapedefaults": {
           "line": {
            "color": "#2a3f5f"
           }
          },
          "ternary": {
           "aaxis": {
            "gridcolor": "white",
            "linecolor": "white",
            "ticks": ""
           },
           "baxis": {
            "gridcolor": "white",
            "linecolor": "white",
            "ticks": ""
           },
           "bgcolor": "#E5ECF6",
           "caxis": {
            "gridcolor": "white",
            "linecolor": "white",
            "ticks": ""
           }
          },
          "title": {
           "x": 0.05
          },
          "xaxis": {
           "automargin": true,
           "gridcolor": "white",
           "linecolor": "white",
           "ticks": "",
           "title": {
            "standoff": 15
           },
           "zerolinecolor": "white",
           "zerolinewidth": 2
          },
          "yaxis": {
           "automargin": true,
           "gridcolor": "white",
           "linecolor": "white",
           "ticks": "",
           "title": {
            "standoff": 15
           },
           "zerolinecolor": "white",
           "zerolinewidth": 2
          }
         }
        },
        "title": {
         "text": "Data Quality "
        },
        "xaxis": {
         "anchor": "y",
         "domain": [
          0,
          1
         ],
         "linecolor": "#3b0280",
         "matches": "x",
         "mirror": true,
         "showgrid": false,
         "title": {
          "text": "Chunk"
         },
         "zeroline": false
        },
        "yaxis": {
         "anchor": "x",
         "domain": [
          0,
          1
         ],
         "linecolor": "#3b0280",
         "mirror": true,
         "showgrid": false,
         "title": {
          "text": "Missing Values Rate"
         },
         "zeroline": false
        }
       }
      }
     },
     "metadata": {},
     "output_type": "display_data"
    },
    {
     "data": {
      "application/vnd.plotly.v1+json": {
       "config": {
        "plotlyServerURL": "https://plot.ly"
       },
       "data": [
        {
         "hoverinfo": "skip",
         "legendgroup": "metric_reference",
         "line": {
          "color": "#00c8e5",
          "shape": "hv",
          "width": 2
         },
         "mode": "lines",
         "name": "Metric",
         "showlegend": true,
         "type": "scatter",
         "x": [
          0,
          1,
          2,
          3,
          4,
          5,
          6,
          7,
          8,
          9,
          10
         ],
         "xaxis": "x",
         "y": [
          0,
          0,
          0,
          0,
          0,
          0,
          0,
          0,
          0,
          0,
          0
         ],
         "yaxis": "y"
        },
        {
         "customdata": [
          [
           "Missing Values Rate for <b>loan_length</b>",
           "<b style=\"color:#00c8e5;line-height:60px\">Reference</b>",
           "",
           "[0:4999]",
           "Chunk index: <b>0</b>",
           0,
           0
          ],
          [
           "Missing Values Rate for <b>loan_length</b>",
           "<b style=\"color:#00c8e5;line-height:60px\">Reference</b>",
           "",
           "[5000:9999]",
           "Chunk index: <b>1</b>",
           0,
           0
          ],
          [
           "Missing Values Rate for <b>loan_length</b>",
           "<b style=\"color:#00c8e5;line-height:60px\">Reference</b>",
           "",
           "[10000:14999]",
           "Chunk index: <b>2</b>",
           0,
           0
          ],
          [
           "Missing Values Rate for <b>loan_length</b>",
           "<b style=\"color:#00c8e5;line-height:60px\">Reference</b>",
           "",
           "[15000:19999]",
           "Chunk index: <b>3</b>",
           0,
           0
          ],
          [
           "Missing Values Rate for <b>loan_length</b>",
           "<b style=\"color:#00c8e5;line-height:60px\">Reference</b>",
           "",
           "[20000:24999]",
           "Chunk index: <b>4</b>",
           0,
           0
          ],
          [
           "Missing Values Rate for <b>loan_length</b>",
           "<b style=\"color:#00c8e5;line-height:60px\">Reference</b>",
           "",
           "[25000:29999]",
           "Chunk index: <b>5</b>",
           0,
           0
          ],
          [
           "Missing Values Rate for <b>loan_length</b>",
           "<b style=\"color:#00c8e5;line-height:60px\">Reference</b>",
           "",
           "[30000:34999]",
           "Chunk index: <b>6</b>",
           0,
           0
          ],
          [
           "Missing Values Rate for <b>loan_length</b>",
           "<b style=\"color:#00c8e5;line-height:60px\">Reference</b>",
           "",
           "[35000:39999]",
           "Chunk index: <b>7</b>",
           0,
           0
          ],
          [
           "Missing Values Rate for <b>loan_length</b>",
           "<b style=\"color:#00c8e5;line-height:60px\">Reference</b>",
           "",
           "[40000:44999]",
           "Chunk index: <b>8</b>",
           0,
           0
          ],
          [
           "Missing Values Rate for <b>loan_length</b>",
           "<b style=\"color:#00c8e5;line-height:60px\">Reference</b>",
           "",
           "[45000:49999]",
           "Chunk index: <b>9</b>",
           0,
           0
          ]
         ],
         "hovertemplate": "%{customdata[1]} &nbsp; &nbsp; %{customdata[2]} <br />Chunk: <b>%{customdata[3]}</b> &nbsp; &nbsp; %{customdata[4]} <br />%{customdata[0]}: <b>%{customdata[5]}</b><br />Confidence band: +/- <b>%{customdata[6]}</b><br /><extra></extra>",
         "legendgroup": "metric_reference",
         "marker": {
          "color": "#00c8e5",
          "size": 5,
          "symbol": "circle"
         },
         "mode": "markers",
         "name": "Metric",
         "showlegend": false,
         "type": "scatter",
         "x": [
          0.5,
          1.5,
          2.5,
          3.5,
          4.5,
          5.5,
          6.5,
          7.5,
          8.5,
          9.5
         ],
         "xaxis": "x",
         "y": [
          0,
          0,
          0,
          0,
          0,
          0,
          0,
          0,
          0,
          0,
          0
         ],
         "yaxis": "y"
        },
        {
         "hoverinfo": "skip",
         "legendgroup": "metric_analysis",
         "line": {
          "color": "#00c8e5",
          "shape": "hv",
          "width": 2
         },
         "mode": "lines",
         "name": "Metric",
         "showlegend": false,
         "type": "scatter",
         "x": [
          10,
          11,
          12,
          13,
          14,
          15,
          16,
          17,
          18,
          19,
          20
         ],
         "xaxis": "x",
         "y": [
          0.2002,
          0,
          0,
          0,
          0,
          0,
          0,
          0,
          0,
          0,
          0
         ],
         "yaxis": "y"
        },
        {
         "customdata": [
          [
           "Missing Values Rate for <b>loan_length</b>",
           "<b style=\"color:#3b0280;line-height:60px\">Analysis</b>",
           "<span style=\"color:#AD0000\">⚠ <b>Drift detected</b></span>",
           "[0:4999]",
           "Chunk index: <b>0</b>",
           0.2002,
           0
          ],
          [
           "Missing Values Rate for <b>loan_length</b>",
           "<b style=\"color:#3b0280;line-height:60px\">Analysis</b>",
           "",
           "[5000:9999]",
           "Chunk index: <b>1</b>",
           0,
           0
          ],
          [
           "Missing Values Rate for <b>loan_length</b>",
           "<b style=\"color:#3b0280;line-height:60px\">Analysis</b>",
           "",
           "[10000:14999]",
           "Chunk index: <b>2</b>",
           0,
           0
          ],
          [
           "Missing Values Rate for <b>loan_length</b>",
           "<b style=\"color:#3b0280;line-height:60px\">Analysis</b>",
           "",
           "[15000:19999]",
           "Chunk index: <b>3</b>",
           0,
           0
          ],
          [
           "Missing Values Rate for <b>loan_length</b>",
           "<b style=\"color:#3b0280;line-height:60px\">Analysis</b>",
           "",
           "[20000:24999]",
           "Chunk index: <b>4</b>",
           0,
           0
          ],
          [
           "Missing Values Rate for <b>loan_length</b>",
           "<b style=\"color:#3b0280;line-height:60px\">Analysis</b>",
           "",
           "[25000:29999]",
           "Chunk index: <b>5</b>",
           0,
           0
          ],
          [
           "Missing Values Rate for <b>loan_length</b>",
           "<b style=\"color:#3b0280;line-height:60px\">Analysis</b>",
           "",
           "[30000:34999]",
           "Chunk index: <b>6</b>",
           0,
           0
          ],
          [
           "Missing Values Rate for <b>loan_length</b>",
           "<b style=\"color:#3b0280;line-height:60px\">Analysis</b>",
           "",
           "[35000:39999]",
           "Chunk index: <b>7</b>",
           0,
           0
          ],
          [
           "Missing Values Rate for <b>loan_length</b>",
           "<b style=\"color:#3b0280;line-height:60px\">Analysis</b>",
           "",
           "[40000:44999]",
           "Chunk index: <b>8</b>",
           0,
           0
          ],
          [
           "Missing Values Rate for <b>loan_length</b>",
           "<b style=\"color:#3b0280;line-height:60px\">Analysis</b>",
           "",
           "[45000:49999]",
           "Chunk index: <b>9</b>",
           0,
           0
          ]
         ],
         "hovertemplate": "%{customdata[1]} &nbsp; &nbsp; %{customdata[2]} <br />Chunk: <b>%{customdata[3]}</b> &nbsp; &nbsp; %{customdata[4]} <br />%{customdata[0]}: <b>%{customdata[5]}</b><br />Confidence band: +/- <b>%{customdata[6]}</b><br /><extra></extra>",
         "legendgroup": "metric_analysis",
         "marker": {
          "color": "#00c8e5",
          "size": 5,
          "symbol": "circle"
         },
         "mode": "markers",
         "name": "Metric",
         "showlegend": false,
         "type": "scatter",
         "x": [
          10.5,
          11.5,
          12.5,
          13.5,
          14.5,
          15.5,
          16.5,
          17.5,
          18.5,
          19.5
         ],
         "xaxis": "x",
         "y": [
          0.2002,
          0,
          0,
          0,
          0,
          0,
          0,
          0,
          0,
          0,
          0
         ],
         "yaxis": "y"
        },
        {
         "hoverinfo": "skip",
         "legendgroup": "alert",
         "marker": {
          "color": "#DD4040",
          "size": 8,
          "symbol": "diamond"
         },
         "mode": "markers",
         "name": "Alert",
         "showlegend": true,
         "type": "scatter",
         "x": [
          10.5
         ],
         "xaxis": "x",
         "y": [
          0.2002
         ],
         "yaxis": "y"
        },
        {
         "hoverinfo": "skip",
         "legendgroup": "thresh",
         "line": {
          "color": "#DD4040",
          "dash": "dash",
          "width": 2
         },
         "mode": "lines",
         "name": "Threshold",
         "showlegend": true,
         "type": "scatter",
         "x": [
          0,
          1,
          2,
          3,
          4,
          5,
          6,
          7,
          8,
          9,
          10
         ],
         "xaxis": "x",
         "y": [
          0,
          0,
          0,
          0,
          0,
          0,
          0,
          0,
          0,
          0,
          0
         ],
         "yaxis": "y"
        },
        {
         "hoverinfo": "skip",
         "legendgroup": "thresh",
         "line": {
          "color": "#DD4040",
          "dash": "dash",
          "width": 2
         },
         "mode": "lines",
         "name": "Threshold",
         "showlegend": false,
         "type": "scatter",
         "x": [
          0,
          1,
          2,
          3,
          4,
          5,
          6,
          7,
          8,
          9,
          10
         ],
         "xaxis": "x",
         "y": [
          0,
          0,
          0,
          0,
          0,
          0,
          0,
          0,
          0,
          0,
          0
         ],
         "yaxis": "y"
        },
        {
         "hoverinfo": "skip",
         "legendgroup": "thresh",
         "line": {
          "color": "#DD4040",
          "dash": "dash",
          "width": 2
         },
         "mode": "lines",
         "name": "Threshold",
         "showlegend": false,
         "type": "scatter",
         "x": [
          10,
          11,
          12,
          13,
          14,
          15,
          16,
          17,
          18,
          19,
          20
         ],
         "xaxis": "x",
         "y": [
          0,
          0,
          0,
          0,
          0,
          0,
          0,
          0,
          0,
          0,
          0
         ],
         "yaxis": "y"
        },
        {
         "hoverinfo": "skip",
         "legendgroup": "thresh",
         "line": {
          "color": "#DD4040",
          "dash": "dash",
          "width": 2
         },
         "mode": "lines",
         "name": "Threshold",
         "showlegend": false,
         "type": "scatter",
         "x": [
          10,
          11,
          12,
          13,
          14,
          15,
          16,
          17,
          18,
          19,
          20
         ],
         "xaxis": "x",
         "y": [
          0,
          0,
          0,
          0,
          0,
          0,
          0,
          0,
          0,
          0,
          0
         ],
         "yaxis": "y"
        },
        {
         "hoverinfo": "skip",
         "line": {
          "color": "rgba(0,0,0,0)",
          "shape": "hv"
         },
         "mode": "lines",
         "name": "Confidence band",
         "showlegend": false,
         "type": "scatter",
         "x": [
          0,
          1,
          2,
          3,
          4,
          5,
          6,
          7,
          8,
          9,
          10
         ],
         "xaxis": "x",
         "y": [
          0,
          0,
          0,
          0,
          0,
          0,
          0,
          0,
          0,
          0,
          0
         ],
         "yaxis": "y"
        },
        {
         "fill": "tonexty",
         "fillcolor": "rgba(0.0, 0.7843137254901961, 0.8980392156862745, 0.2)",
         "hoverinfo": "skip",
         "line": {
          "color": "rgba(0,0,0,0)",
          "shape": "hv"
         },
         "mode": "lines",
         "name": "Confidence band",
         "showlegend": true,
         "type": "scatter",
         "x": [
          0,
          1,
          2,
          3,
          4,
          5,
          6,
          7,
          8,
          9,
          10
         ],
         "xaxis": "x",
         "y": [
          0,
          0,
          0,
          0,
          0,
          0,
          0,
          0,
          0,
          0,
          0
         ],
         "yaxis": "y"
        },
        {
         "hoverinfo": "skip",
         "line": {
          "color": "rgba(0,0,0,0)",
          "shape": "hv"
         },
         "mode": "lines",
         "name": "Confidence band",
         "showlegend": false,
         "type": "scatter",
         "x": [
          10,
          11,
          12,
          13,
          14,
          15,
          16,
          17,
          18,
          19,
          20
         ],
         "xaxis": "x",
         "y": [
          0.2002,
          0,
          0,
          0,
          0,
          0,
          0,
          0,
          0,
          0,
          0
         ],
         "yaxis": "y"
        },
        {
         "fill": "tonexty",
         "fillcolor": "rgba(0.0, 0.7843137254901961, 0.8980392156862745, 0.2)",
         "hoverinfo": "skip",
         "line": {
          "color": "rgba(0,0,0,0)",
          "shape": "hv"
         },
         "mode": "lines",
         "name": "Confidence band",
         "showlegend": false,
         "type": "scatter",
         "x": [
          10,
          11,
          12,
          13,
          14,
          15,
          16,
          17,
          18,
          19,
          20
         ],
         "xaxis": "x",
         "y": [
          0.2002,
          0,
          0,
          0,
          0,
          0,
          0,
          0,
          0,
          0,
          0
         ],
         "yaxis": "y"
        }
       ],
       "layout": {
        "annotations": [
         {
          "font": {
           "size": 16
          },
          "showarrow": false,
          "text": "Missing Values Rate for <b>loan_length</b>",
          "x": 0.5,
          "xanchor": "center",
          "xref": "paper",
          "y": 1,
          "yanchor": "bottom",
          "yref": "paper"
         },
         {
          "showarrow": false,
          "text": "Reference",
          "x": 4.5,
          "xref": "x",
          "xshift": 10,
          "y": 1.01,
          "yref": "y domain"
         },
         {
          "showarrow": false,
          "text": "Analysis",
          "x": 14.5,
          "xref": "x",
          "xshift": 15,
          "y": 1.01,
          "yref": "y domain"
         }
        ],
        "height": 500,
        "hoverlabel": {
         "bgcolor": "white",
         "font": {
          "size": 14
         }
        },
        "legend": {
         "itemclick": false,
         "itemdoubleclick": false,
         "traceorder": "grouped"
        },
        "paper_bgcolor": "rgba(255,255,255,1)",
        "plot_bgcolor": "rgba(255,255,255,1)",
        "shapes": [
         {
          "layer": "below",
          "line": {
           "color": "#666666",
           "width": 1
          },
          "type": "line",
          "x0": 10,
          "x1": 10,
          "xref": "x",
          "y0": 0,
          "y1": 1,
          "yref": "y domain"
         }
        ],
        "template": {
         "data": {
          "bar": [
           {
            "error_x": {
             "color": "#2a3f5f"
            },
            "error_y": {
             "color": "#2a3f5f"
            },
            "marker": {
             "line": {
              "color": "#E5ECF6",
              "width": 0.5
             },
             "pattern": {
              "fillmode": "overlay",
              "size": 10,
              "solidity": 0.2
             }
            },
            "type": "bar"
           }
          ],
          "barpolar": [
           {
            "marker": {
             "line": {
              "color": "#E5ECF6",
              "width": 0.5
             },
             "pattern": {
              "fillmode": "overlay",
              "size": 10,
              "solidity": 0.2
             }
            },
            "type": "barpolar"
           }
          ],
          "carpet": [
           {
            "aaxis": {
             "endlinecolor": "#2a3f5f",
             "gridcolor": "white",
             "linecolor": "white",
             "minorgridcolor": "white",
             "startlinecolor": "#2a3f5f"
            },
            "baxis": {
             "endlinecolor": "#2a3f5f",
             "gridcolor": "white",
             "linecolor": "white",
             "minorgridcolor": "white",
             "startlinecolor": "#2a3f5f"
            },
            "type": "carpet"
           }
          ],
          "choropleth": [
           {
            "colorbar": {
             "outlinewidth": 0,
             "ticks": ""
            },
            "type": "choropleth"
           }
          ],
          "contour": [
           {
            "colorbar": {
             "outlinewidth": 0,
             "ticks": ""
            },
            "colorscale": [
             [
              0,
              "#0d0887"
             ],
             [
              0.1111111111111111,
              "#46039f"
             ],
             [
              0.2222222222222222,
              "#7201a8"
             ],
             [
              0.3333333333333333,
              "#9c179e"
             ],
             [
              0.4444444444444444,
              "#bd3786"
             ],
             [
              0.5555555555555556,
              "#d8576b"
             ],
             [
              0.6666666666666666,
              "#ed7953"
             ],
             [
              0.7777777777777778,
              "#fb9f3a"
             ],
             [
              0.8888888888888888,
              "#fdca26"
             ],
             [
              1,
              "#f0f921"
             ]
            ],
            "type": "contour"
           }
          ],
          "contourcarpet": [
           {
            "colorbar": {
             "outlinewidth": 0,
             "ticks": ""
            },
            "type": "contourcarpet"
           }
          ],
          "heatmap": [
           {
            "colorbar": {
             "outlinewidth": 0,
             "ticks": ""
            },
            "colorscale": [
             [
              0,
              "#0d0887"
             ],
             [
              0.1111111111111111,
              "#46039f"
             ],
             [
              0.2222222222222222,
              "#7201a8"
             ],
             [
              0.3333333333333333,
              "#9c179e"
             ],
             [
              0.4444444444444444,
              "#bd3786"
             ],
             [
              0.5555555555555556,
              "#d8576b"
             ],
             [
              0.6666666666666666,
              "#ed7953"
             ],
             [
              0.7777777777777778,
              "#fb9f3a"
             ],
             [
              0.8888888888888888,
              "#fdca26"
             ],
             [
              1,
              "#f0f921"
             ]
            ],
            "type": "heatmap"
           }
          ],
          "heatmapgl": [
           {
            "colorbar": {
             "outlinewidth": 0,
             "ticks": ""
            },
            "colorscale": [
             [
              0,
              "#0d0887"
             ],
             [
              0.1111111111111111,
              "#46039f"
             ],
             [
              0.2222222222222222,
              "#7201a8"
             ],
             [
              0.3333333333333333,
              "#9c179e"
             ],
             [
              0.4444444444444444,
              "#bd3786"
             ],
             [
              0.5555555555555556,
              "#d8576b"
             ],
             [
              0.6666666666666666,
              "#ed7953"
             ],
             [
              0.7777777777777778,
              "#fb9f3a"
             ],
             [
              0.8888888888888888,
              "#fdca26"
             ],
             [
              1,
              "#f0f921"
             ]
            ],
            "type": "heatmapgl"
           }
          ],
          "histogram": [
           {
            "marker": {
             "pattern": {
              "fillmode": "overlay",
              "size": 10,
              "solidity": 0.2
             }
            },
            "type": "histogram"
           }
          ],
          "histogram2d": [
           {
            "colorbar": {
             "outlinewidth": 0,
             "ticks": ""
            },
            "colorscale": [
             [
              0,
              "#0d0887"
             ],
             [
              0.1111111111111111,
              "#46039f"
             ],
             [
              0.2222222222222222,
              "#7201a8"
             ],
             [
              0.3333333333333333,
              "#9c179e"
             ],
             [
              0.4444444444444444,
              "#bd3786"
             ],
             [
              0.5555555555555556,
              "#d8576b"
             ],
             [
              0.6666666666666666,
              "#ed7953"
             ],
             [
              0.7777777777777778,
              "#fb9f3a"
             ],
             [
              0.8888888888888888,
              "#fdca26"
             ],
             [
              1,
              "#f0f921"
             ]
            ],
            "type": "histogram2d"
           }
          ],
          "histogram2dcontour": [
           {
            "colorbar": {
             "outlinewidth": 0,
             "ticks": ""
            },
            "colorscale": [
             [
              0,
              "#0d0887"
             ],
             [
              0.1111111111111111,
              "#46039f"
             ],
             [
              0.2222222222222222,
              "#7201a8"
             ],
             [
              0.3333333333333333,
              "#9c179e"
             ],
             [
              0.4444444444444444,
              "#bd3786"
             ],
             [
              0.5555555555555556,
              "#d8576b"
             ],
             [
              0.6666666666666666,
              "#ed7953"
             ],
             [
              0.7777777777777778,
              "#fb9f3a"
             ],
             [
              0.8888888888888888,
              "#fdca26"
             ],
             [
              1,
              "#f0f921"
             ]
            ],
            "type": "histogram2dcontour"
           }
          ],
          "mesh3d": [
           {
            "colorbar": {
             "outlinewidth": 0,
             "ticks": ""
            },
            "type": "mesh3d"
           }
          ],
          "parcoords": [
           {
            "line": {
             "colorbar": {
              "outlinewidth": 0,
              "ticks": ""
             }
            },
            "type": "parcoords"
           }
          ],
          "pie": [
           {
            "automargin": true,
            "type": "pie"
           }
          ],
          "scatter": [
           {
            "fillpattern": {
             "fillmode": "overlay",
             "size": 10,
             "solidity": 0.2
            },
            "type": "scatter"
           }
          ],
          "scatter3d": [
           {
            "line": {
             "colorbar": {
              "outlinewidth": 0,
              "ticks": ""
             }
            },
            "marker": {
             "colorbar": {
              "outlinewidth": 0,
              "ticks": ""
             }
            },
            "type": "scatter3d"
           }
          ],
          "scattercarpet": [
           {
            "marker": {
             "colorbar": {
              "outlinewidth": 0,
              "ticks": ""
             }
            },
            "type": "scattercarpet"
           }
          ],
          "scattergeo": [
           {
            "marker": {
             "colorbar": {
              "outlinewidth": 0,
              "ticks": ""
             }
            },
            "type": "scattergeo"
           }
          ],
          "scattergl": [
           {
            "marker": {
             "colorbar": {
              "outlinewidth": 0,
              "ticks": ""
             }
            },
            "type": "scattergl"
           }
          ],
          "scattermapbox": [
           {
            "marker": {
             "colorbar": {
              "outlinewidth": 0,
              "ticks": ""
             }
            },
            "type": "scattermapbox"
           }
          ],
          "scatterpolar": [
           {
            "marker": {
             "colorbar": {
              "outlinewidth": 0,
              "ticks": ""
             }
            },
            "type": "scatterpolar"
           }
          ],
          "scatterpolargl": [
           {
            "marker": {
             "colorbar": {
              "outlinewidth": 0,
              "ticks": ""
             }
            },
            "type": "scatterpolargl"
           }
          ],
          "scatterternary": [
           {
            "marker": {
             "colorbar": {
              "outlinewidth": 0,
              "ticks": ""
             }
            },
            "type": "scatterternary"
           }
          ],
          "surface": [
           {
            "colorbar": {
             "outlinewidth": 0,
             "ticks": ""
            },
            "colorscale": [
             [
              0,
              "#0d0887"
             ],
             [
              0.1111111111111111,
              "#46039f"
             ],
             [
              0.2222222222222222,
              "#7201a8"
             ],
             [
              0.3333333333333333,
              "#9c179e"
             ],
             [
              0.4444444444444444,
              "#bd3786"
             ],
             [
              0.5555555555555556,
              "#d8576b"
             ],
             [
              0.6666666666666666,
              "#ed7953"
             ],
             [
              0.7777777777777778,
              "#fb9f3a"
             ],
             [
              0.8888888888888888,
              "#fdca26"
             ],
             [
              1,
              "#f0f921"
             ]
            ],
            "type": "surface"
           }
          ],
          "table": [
           {
            "cells": {
             "fill": {
              "color": "#EBF0F8"
             },
             "line": {
              "color": "white"
             }
            },
            "header": {
             "fill": {
              "color": "#C8D4E3"
             },
             "line": {
              "color": "white"
             }
            },
            "type": "table"
           }
          ]
         },
         "layout": {
          "annotationdefaults": {
           "arrowcolor": "#2a3f5f",
           "arrowhead": 0,
           "arrowwidth": 1
          },
          "autotypenumbers": "strict",
          "coloraxis": {
           "colorbar": {
            "outlinewidth": 0,
            "ticks": ""
           }
          },
          "colorscale": {
           "diverging": [
            [
             0,
             "#8e0152"
            ],
            [
             0.1,
             "#c51b7d"
            ],
            [
             0.2,
             "#de77ae"
            ],
            [
             0.3,
             "#f1b6da"
            ],
            [
             0.4,
             "#fde0ef"
            ],
            [
             0.5,
             "#f7f7f7"
            ],
            [
             0.6,
             "#e6f5d0"
            ],
            [
             0.7,
             "#b8e186"
            ],
            [
             0.8,
             "#7fbc41"
            ],
            [
             0.9,
             "#4d9221"
            ],
            [
             1,
             "#276419"
            ]
           ],
           "sequential": [
            [
             0,
             "#0d0887"
            ],
            [
             0.1111111111111111,
             "#46039f"
            ],
            [
             0.2222222222222222,
             "#7201a8"
            ],
            [
             0.3333333333333333,
             "#9c179e"
            ],
            [
             0.4444444444444444,
             "#bd3786"
            ],
            [
             0.5555555555555556,
             "#d8576b"
            ],
            [
             0.6666666666666666,
             "#ed7953"
            ],
            [
             0.7777777777777778,
             "#fb9f3a"
            ],
            [
             0.8888888888888888,
             "#fdca26"
            ],
            [
             1,
             "#f0f921"
            ]
           ],
           "sequentialminus": [
            [
             0,
             "#0d0887"
            ],
            [
             0.1111111111111111,
             "#46039f"
            ],
            [
             0.2222222222222222,
             "#7201a8"
            ],
            [
             0.3333333333333333,
             "#9c179e"
            ],
            [
             0.4444444444444444,
             "#bd3786"
            ],
            [
             0.5555555555555556,
             "#d8576b"
            ],
            [
             0.6666666666666666,
             "#ed7953"
            ],
            [
             0.7777777777777778,
             "#fb9f3a"
            ],
            [
             0.8888888888888888,
             "#fdca26"
            ],
            [
             1,
             "#f0f921"
            ]
           ]
          },
          "colorway": [
           "#636efa",
           "#EF553B",
           "#00cc96",
           "#ab63fa",
           "#FFA15A",
           "#19d3f3",
           "#FF6692",
           "#B6E880",
           "#FF97FF",
           "#FECB52"
          ],
          "font": {
           "color": "#2a3f5f"
          },
          "geo": {
           "bgcolor": "white",
           "lakecolor": "white",
           "landcolor": "#E5ECF6",
           "showlakes": true,
           "showland": true,
           "subunitcolor": "white"
          },
          "hoverlabel": {
           "align": "left"
          },
          "hovermode": "closest",
          "mapbox": {
           "style": "light"
          },
          "paper_bgcolor": "white",
          "plot_bgcolor": "#E5ECF6",
          "polar": {
           "angularaxis": {
            "gridcolor": "white",
            "linecolor": "white",
            "ticks": ""
           },
           "bgcolor": "#E5ECF6",
           "radialaxis": {
            "gridcolor": "white",
            "linecolor": "white",
            "ticks": ""
           }
          },
          "scene": {
           "xaxis": {
            "backgroundcolor": "#E5ECF6",
            "gridcolor": "white",
            "gridwidth": 2,
            "linecolor": "white",
            "showbackground": true,
            "ticks": "",
            "zerolinecolor": "white"
           },
           "yaxis": {
            "backgroundcolor": "#E5ECF6",
            "gridcolor": "white",
            "gridwidth": 2,
            "linecolor": "white",
            "showbackground": true,
            "ticks": "",
            "zerolinecolor": "white"
           },
           "zaxis": {
            "backgroundcolor": "#E5ECF6",
            "gridcolor": "white",
            "gridwidth": 2,
            "linecolor": "white",
            "showbackground": true,
            "ticks": "",
            "zerolinecolor": "white"
           }
          },
          "shapedefaults": {
           "line": {
            "color": "#2a3f5f"
           }
          },
          "ternary": {
           "aaxis": {
            "gridcolor": "white",
            "linecolor": "white",
            "ticks": ""
           },
           "baxis": {
            "gridcolor": "white",
            "linecolor": "white",
            "ticks": ""
           },
           "bgcolor": "#E5ECF6",
           "caxis": {
            "gridcolor": "white",
            "linecolor": "white",
            "ticks": ""
           }
          },
          "title": {
           "x": 0.05
          },
          "xaxis": {
           "automargin": true,
           "gridcolor": "white",
           "linecolor": "white",
           "ticks": "",
           "title": {
            "standoff": 15
           },
           "zerolinecolor": "white",
           "zerolinewidth": 2
          },
          "yaxis": {
           "automargin": true,
           "gridcolor": "white",
           "linecolor": "white",
           "ticks": "",
           "title": {
            "standoff": 15
           },
           "zerolinecolor": "white",
           "zerolinewidth": 2
          }
         }
        },
        "title": {
         "text": "Data Quality "
        },
        "xaxis": {
         "anchor": "y",
         "domain": [
          0,
          1
         ],
         "linecolor": "#3b0280",
         "matches": "x",
         "mirror": true,
         "showgrid": false,
         "title": {
          "text": "Chunk"
         },
         "zeroline": false
        },
        "yaxis": {
         "anchor": "x",
         "domain": [
          0,
          1
         ],
         "linecolor": "#3b0280",
         "mirror": true,
         "showgrid": false,
         "title": {
          "text": "Missing Values Rate"
         },
         "zeroline": false
        }
       }
      }
     },
     "metadata": {},
     "output_type": "display_data"
    },
    {
     "data": {
      "application/vnd.plotly.v1+json": {
       "config": {
        "plotlyServerURL": "https://plot.ly"
       },
       "data": [
        {
         "hoverinfo": "skip",
         "legendgroup": "metric_reference",
         "line": {
          "color": "#00c8e5",
          "shape": "hv",
          "width": 2
         },
         "mode": "lines",
         "name": "Metric",
         "showlegend": true,
         "type": "scatter",
         "x": [
          0,
          1,
          2,
          3,
          4,
          5,
          6,
          7,
          8,
          9,
          10
         ],
         "xaxis": "x",
         "y": [
          0,
          0,
          0,
          0,
          0,
          0,
          0,
          0,
          0,
          0,
          0
         ],
         "yaxis": "y"
        },
        {
         "customdata": [
          [
           "Missing Values Rate for <b>repaid_loan_on_prev_car</b>",
           "<b style=\"color:#00c8e5;line-height:60px\">Reference</b>",
           "",
           "[0:4999]",
           "Chunk index: <b>0</b>",
           0,
           0
          ],
          [
           "Missing Values Rate for <b>repaid_loan_on_prev_car</b>",
           "<b style=\"color:#00c8e5;line-height:60px\">Reference</b>",
           "",
           "[5000:9999]",
           "Chunk index: <b>1</b>",
           0,
           0
          ],
          [
           "Missing Values Rate for <b>repaid_loan_on_prev_car</b>",
           "<b style=\"color:#00c8e5;line-height:60px\">Reference</b>",
           "",
           "[10000:14999]",
           "Chunk index: <b>2</b>",
           0,
           0
          ],
          [
           "Missing Values Rate for <b>repaid_loan_on_prev_car</b>",
           "<b style=\"color:#00c8e5;line-height:60px\">Reference</b>",
           "",
           "[15000:19999]",
           "Chunk index: <b>3</b>",
           0,
           0
          ],
          [
           "Missing Values Rate for <b>repaid_loan_on_prev_car</b>",
           "<b style=\"color:#00c8e5;line-height:60px\">Reference</b>",
           "",
           "[20000:24999]",
           "Chunk index: <b>4</b>",
           0,
           0
          ],
          [
           "Missing Values Rate for <b>repaid_loan_on_prev_car</b>",
           "<b style=\"color:#00c8e5;line-height:60px\">Reference</b>",
           "",
           "[25000:29999]",
           "Chunk index: <b>5</b>",
           0,
           0
          ],
          [
           "Missing Values Rate for <b>repaid_loan_on_prev_car</b>",
           "<b style=\"color:#00c8e5;line-height:60px\">Reference</b>",
           "",
           "[30000:34999]",
           "Chunk index: <b>6</b>",
           0,
           0
          ],
          [
           "Missing Values Rate for <b>repaid_loan_on_prev_car</b>",
           "<b style=\"color:#00c8e5;line-height:60px\">Reference</b>",
           "",
           "[35000:39999]",
           "Chunk index: <b>7</b>",
           0,
           0
          ],
          [
           "Missing Values Rate for <b>repaid_loan_on_prev_car</b>",
           "<b style=\"color:#00c8e5;line-height:60px\">Reference</b>",
           "",
           "[40000:44999]",
           "Chunk index: <b>8</b>",
           0,
           0
          ],
          [
           "Missing Values Rate for <b>repaid_loan_on_prev_car</b>",
           "<b style=\"color:#00c8e5;line-height:60px\">Reference</b>",
           "",
           "[45000:49999]",
           "Chunk index: <b>9</b>",
           0,
           0
          ]
         ],
         "hovertemplate": "%{customdata[1]} &nbsp; &nbsp; %{customdata[2]} <br />Chunk: <b>%{customdata[3]}</b> &nbsp; &nbsp; %{customdata[4]} <br />%{customdata[0]}: <b>%{customdata[5]}</b><br />Confidence band: +/- <b>%{customdata[6]}</b><br /><extra></extra>",
         "legendgroup": "metric_reference",
         "marker": {
          "color": "#00c8e5",
          "size": 5,
          "symbol": "circle"
         },
         "mode": "markers",
         "name": "Metric",
         "showlegend": false,
         "type": "scatter",
         "x": [
          0.5,
          1.5,
          2.5,
          3.5,
          4.5,
          5.5,
          6.5,
          7.5,
          8.5,
          9.5
         ],
         "xaxis": "x",
         "y": [
          0,
          0,
          0,
          0,
          0,
          0,
          0,
          0,
          0,
          0,
          0
         ],
         "yaxis": "y"
        },
        {
         "hoverinfo": "skip",
         "legendgroup": "metric_analysis",
         "line": {
          "color": "#00c8e5",
          "shape": "hv",
          "width": 2
         },
         "mode": "lines",
         "name": "Metric",
         "showlegend": false,
         "type": "scatter",
         "x": [
          10,
          11,
          12,
          13,
          14,
          15,
          16,
          17,
          18,
          19,
          20
         ],
         "xaxis": "x",
         "y": [
          0,
          0,
          0,
          0,
          0,
          0,
          0,
          0,
          0,
          0,
          0
         ],
         "yaxis": "y"
        },
        {
         "customdata": [
          [
           "Missing Values Rate for <b>repaid_loan_on_prev_car</b>",
           "<b style=\"color:#3b0280;line-height:60px\">Analysis</b>",
           "",
           "[0:4999]",
           "Chunk index: <b>0</b>",
           0,
           0
          ],
          [
           "Missing Values Rate for <b>repaid_loan_on_prev_car</b>",
           "<b style=\"color:#3b0280;line-height:60px\">Analysis</b>",
           "",
           "[5000:9999]",
           "Chunk index: <b>1</b>",
           0,
           0
          ],
          [
           "Missing Values Rate for <b>repaid_loan_on_prev_car</b>",
           "<b style=\"color:#3b0280;line-height:60px\">Analysis</b>",
           "",
           "[10000:14999]",
           "Chunk index: <b>2</b>",
           0,
           0
          ],
          [
           "Missing Values Rate for <b>repaid_loan_on_prev_car</b>",
           "<b style=\"color:#3b0280;line-height:60px\">Analysis</b>",
           "",
           "[15000:19999]",
           "Chunk index: <b>3</b>",
           0,
           0
          ],
          [
           "Missing Values Rate for <b>repaid_loan_on_prev_car</b>",
           "<b style=\"color:#3b0280;line-height:60px\">Analysis</b>",
           "",
           "[20000:24999]",
           "Chunk index: <b>4</b>",
           0,
           0
          ],
          [
           "Missing Values Rate for <b>repaid_loan_on_prev_car</b>",
           "<b style=\"color:#3b0280;line-height:60px\">Analysis</b>",
           "",
           "[25000:29999]",
           "Chunk index: <b>5</b>",
           0,
           0
          ],
          [
           "Missing Values Rate for <b>repaid_loan_on_prev_car</b>",
           "<b style=\"color:#3b0280;line-height:60px\">Analysis</b>",
           "",
           "[30000:34999]",
           "Chunk index: <b>6</b>",
           0,
           0
          ],
          [
           "Missing Values Rate for <b>repaid_loan_on_prev_car</b>",
           "<b style=\"color:#3b0280;line-height:60px\">Analysis</b>",
           "",
           "[35000:39999]",
           "Chunk index: <b>7</b>",
           0,
           0
          ],
          [
           "Missing Values Rate for <b>repaid_loan_on_prev_car</b>",
           "<b style=\"color:#3b0280;line-height:60px\">Analysis</b>",
           "",
           "[40000:44999]",
           "Chunk index: <b>8</b>",
           0,
           0
          ],
          [
           "Missing Values Rate for <b>repaid_loan_on_prev_car</b>",
           "<b style=\"color:#3b0280;line-height:60px\">Analysis</b>",
           "",
           "[45000:49999]",
           "Chunk index: <b>9</b>",
           0,
           0
          ]
         ],
         "hovertemplate": "%{customdata[1]} &nbsp; &nbsp; %{customdata[2]} <br />Chunk: <b>%{customdata[3]}</b> &nbsp; &nbsp; %{customdata[4]} <br />%{customdata[0]}: <b>%{customdata[5]}</b><br />Confidence band: +/- <b>%{customdata[6]}</b><br /><extra></extra>",
         "legendgroup": "metric_analysis",
         "marker": {
          "color": "#00c8e5",
          "size": 5,
          "symbol": "circle"
         },
         "mode": "markers",
         "name": "Metric",
         "showlegend": false,
         "type": "scatter",
         "x": [
          10.5,
          11.5,
          12.5,
          13.5,
          14.5,
          15.5,
          16.5,
          17.5,
          18.5,
          19.5
         ],
         "xaxis": "x",
         "y": [
          0,
          0,
          0,
          0,
          0,
          0,
          0,
          0,
          0,
          0,
          0
         ],
         "yaxis": "y"
        },
        {
         "hoverinfo": "skip",
         "legendgroup": "alert",
         "marker": {
          "color": "#DD4040",
          "size": 8,
          "symbol": "diamond"
         },
         "mode": "markers",
         "name": "Alert",
         "showlegend": true,
         "type": "scatter",
         "x": [],
         "xaxis": "x",
         "y": [],
         "yaxis": "y"
        },
        {
         "hoverinfo": "skip",
         "legendgroup": "thresh",
         "line": {
          "color": "#DD4040",
          "dash": "dash",
          "width": 2
         },
         "mode": "lines",
         "name": "Threshold",
         "showlegend": true,
         "type": "scatter",
         "x": [
          0,
          1,
          2,
          3,
          4,
          5,
          6,
          7,
          8,
          9,
          10
         ],
         "xaxis": "x",
         "y": [
          0,
          0,
          0,
          0,
          0,
          0,
          0,
          0,
          0,
          0,
          0
         ],
         "yaxis": "y"
        },
        {
         "hoverinfo": "skip",
         "legendgroup": "thresh",
         "line": {
          "color": "#DD4040",
          "dash": "dash",
          "width": 2
         },
         "mode": "lines",
         "name": "Threshold",
         "showlegend": false,
         "type": "scatter",
         "x": [
          0,
          1,
          2,
          3,
          4,
          5,
          6,
          7,
          8,
          9,
          10
         ],
         "xaxis": "x",
         "y": [
          0,
          0,
          0,
          0,
          0,
          0,
          0,
          0,
          0,
          0,
          0
         ],
         "yaxis": "y"
        },
        {
         "hoverinfo": "skip",
         "legendgroup": "thresh",
         "line": {
          "color": "#DD4040",
          "dash": "dash",
          "width": 2
         },
         "mode": "lines",
         "name": "Threshold",
         "showlegend": false,
         "type": "scatter",
         "x": [
          10,
          11,
          12,
          13,
          14,
          15,
          16,
          17,
          18,
          19,
          20
         ],
         "xaxis": "x",
         "y": [
          0,
          0,
          0,
          0,
          0,
          0,
          0,
          0,
          0,
          0,
          0
         ],
         "yaxis": "y"
        },
        {
         "hoverinfo": "skip",
         "legendgroup": "thresh",
         "line": {
          "color": "#DD4040",
          "dash": "dash",
          "width": 2
         },
         "mode": "lines",
         "name": "Threshold",
         "showlegend": false,
         "type": "scatter",
         "x": [
          10,
          11,
          12,
          13,
          14,
          15,
          16,
          17,
          18,
          19,
          20
         ],
         "xaxis": "x",
         "y": [
          0,
          0,
          0,
          0,
          0,
          0,
          0,
          0,
          0,
          0,
          0
         ],
         "yaxis": "y"
        },
        {
         "hoverinfo": "skip",
         "line": {
          "color": "rgba(0,0,0,0)",
          "shape": "hv"
         },
         "mode": "lines",
         "name": "Confidence band",
         "showlegend": false,
         "type": "scatter",
         "x": [
          0,
          1,
          2,
          3,
          4,
          5,
          6,
          7,
          8,
          9,
          10
         ],
         "xaxis": "x",
         "y": [
          0,
          0,
          0,
          0,
          0,
          0,
          0,
          0,
          0,
          0,
          0
         ],
         "yaxis": "y"
        },
        {
         "fill": "tonexty",
         "fillcolor": "rgba(0.0, 0.7843137254901961, 0.8980392156862745, 0.2)",
         "hoverinfo": "skip",
         "line": {
          "color": "rgba(0,0,0,0)",
          "shape": "hv"
         },
         "mode": "lines",
         "name": "Confidence band",
         "showlegend": true,
         "type": "scatter",
         "x": [
          0,
          1,
          2,
          3,
          4,
          5,
          6,
          7,
          8,
          9,
          10
         ],
         "xaxis": "x",
         "y": [
          0,
          0,
          0,
          0,
          0,
          0,
          0,
          0,
          0,
          0,
          0
         ],
         "yaxis": "y"
        },
        {
         "hoverinfo": "skip",
         "line": {
          "color": "rgba(0,0,0,0)",
          "shape": "hv"
         },
         "mode": "lines",
         "name": "Confidence band",
         "showlegend": false,
         "type": "scatter",
         "x": [
          10,
          11,
          12,
          13,
          14,
          15,
          16,
          17,
          18,
          19,
          20
         ],
         "xaxis": "x",
         "y": [
          0,
          0,
          0,
          0,
          0,
          0,
          0,
          0,
          0,
          0,
          0
         ],
         "yaxis": "y"
        },
        {
         "fill": "tonexty",
         "fillcolor": "rgba(0.0, 0.7843137254901961, 0.8980392156862745, 0.2)",
         "hoverinfo": "skip",
         "line": {
          "color": "rgba(0,0,0,0)",
          "shape": "hv"
         },
         "mode": "lines",
         "name": "Confidence band",
         "showlegend": false,
         "type": "scatter",
         "x": [
          10,
          11,
          12,
          13,
          14,
          15,
          16,
          17,
          18,
          19,
          20
         ],
         "xaxis": "x",
         "y": [
          0,
          0,
          0,
          0,
          0,
          0,
          0,
          0,
          0,
          0,
          0
         ],
         "yaxis": "y"
        }
       ],
       "layout": {
        "annotations": [
         {
          "font": {
           "size": 16
          },
          "showarrow": false,
          "text": "Missing Values Rate for <b>repaid_loan_on_prev_car</b>",
          "x": 0.5,
          "xanchor": "center",
          "xref": "paper",
          "y": 1,
          "yanchor": "bottom",
          "yref": "paper"
         },
         {
          "showarrow": false,
          "text": "Reference",
          "x": 4.5,
          "xref": "x",
          "xshift": 10,
          "y": 1.01,
          "yref": "y domain"
         },
         {
          "showarrow": false,
          "text": "Analysis",
          "x": 14.5,
          "xref": "x",
          "xshift": 15,
          "y": 1.01,
          "yref": "y domain"
         }
        ],
        "height": 500,
        "hoverlabel": {
         "bgcolor": "white",
         "font": {
          "size": 14
         }
        },
        "legend": {
         "itemclick": false,
         "itemdoubleclick": false,
         "traceorder": "grouped"
        },
        "paper_bgcolor": "rgba(255,255,255,1)",
        "plot_bgcolor": "rgba(255,255,255,1)",
        "shapes": [
         {
          "layer": "below",
          "line": {
           "color": "#666666",
           "width": 1
          },
          "type": "line",
          "x0": 10,
          "x1": 10,
          "xref": "x",
          "y0": 0,
          "y1": 1,
          "yref": "y domain"
         }
        ],
        "template": {
         "data": {
          "bar": [
           {
            "error_x": {
             "color": "#2a3f5f"
            },
            "error_y": {
             "color": "#2a3f5f"
            },
            "marker": {
             "line": {
              "color": "#E5ECF6",
              "width": 0.5
             },
             "pattern": {
              "fillmode": "overlay",
              "size": 10,
              "solidity": 0.2
             }
            },
            "type": "bar"
           }
          ],
          "barpolar": [
           {
            "marker": {
             "line": {
              "color": "#E5ECF6",
              "width": 0.5
             },
             "pattern": {
              "fillmode": "overlay",
              "size": 10,
              "solidity": 0.2
             }
            },
            "type": "barpolar"
           }
          ],
          "carpet": [
           {
            "aaxis": {
             "endlinecolor": "#2a3f5f",
             "gridcolor": "white",
             "linecolor": "white",
             "minorgridcolor": "white",
             "startlinecolor": "#2a3f5f"
            },
            "baxis": {
             "endlinecolor": "#2a3f5f",
             "gridcolor": "white",
             "linecolor": "white",
             "minorgridcolor": "white",
             "startlinecolor": "#2a3f5f"
            },
            "type": "carpet"
           }
          ],
          "choropleth": [
           {
            "colorbar": {
             "outlinewidth": 0,
             "ticks": ""
            },
            "type": "choropleth"
           }
          ],
          "contour": [
           {
            "colorbar": {
             "outlinewidth": 0,
             "ticks": ""
            },
            "colorscale": [
             [
              0,
              "#0d0887"
             ],
             [
              0.1111111111111111,
              "#46039f"
             ],
             [
              0.2222222222222222,
              "#7201a8"
             ],
             [
              0.3333333333333333,
              "#9c179e"
             ],
             [
              0.4444444444444444,
              "#bd3786"
             ],
             [
              0.5555555555555556,
              "#d8576b"
             ],
             [
              0.6666666666666666,
              "#ed7953"
             ],
             [
              0.7777777777777778,
              "#fb9f3a"
             ],
             [
              0.8888888888888888,
              "#fdca26"
             ],
             [
              1,
              "#f0f921"
             ]
            ],
            "type": "contour"
           }
          ],
          "contourcarpet": [
           {
            "colorbar": {
             "outlinewidth": 0,
             "ticks": ""
            },
            "type": "contourcarpet"
           }
          ],
          "heatmap": [
           {
            "colorbar": {
             "outlinewidth": 0,
             "ticks": ""
            },
            "colorscale": [
             [
              0,
              "#0d0887"
             ],
             [
              0.1111111111111111,
              "#46039f"
             ],
             [
              0.2222222222222222,
              "#7201a8"
             ],
             [
              0.3333333333333333,
              "#9c179e"
             ],
             [
              0.4444444444444444,
              "#bd3786"
             ],
             [
              0.5555555555555556,
              "#d8576b"
             ],
             [
              0.6666666666666666,
              "#ed7953"
             ],
             [
              0.7777777777777778,
              "#fb9f3a"
             ],
             [
              0.8888888888888888,
              "#fdca26"
             ],
             [
              1,
              "#f0f921"
             ]
            ],
            "type": "heatmap"
           }
          ],
          "heatmapgl": [
           {
            "colorbar": {
             "outlinewidth": 0,
             "ticks": ""
            },
            "colorscale": [
             [
              0,
              "#0d0887"
             ],
             [
              0.1111111111111111,
              "#46039f"
             ],
             [
              0.2222222222222222,
              "#7201a8"
             ],
             [
              0.3333333333333333,
              "#9c179e"
             ],
             [
              0.4444444444444444,
              "#bd3786"
             ],
             [
              0.5555555555555556,
              "#d8576b"
             ],
             [
              0.6666666666666666,
              "#ed7953"
             ],
             [
              0.7777777777777778,
              "#fb9f3a"
             ],
             [
              0.8888888888888888,
              "#fdca26"
             ],
             [
              1,
              "#f0f921"
             ]
            ],
            "type": "heatmapgl"
           }
          ],
          "histogram": [
           {
            "marker": {
             "pattern": {
              "fillmode": "overlay",
              "size": 10,
              "solidity": 0.2
             }
            },
            "type": "histogram"
           }
          ],
          "histogram2d": [
           {
            "colorbar": {
             "outlinewidth": 0,
             "ticks": ""
            },
            "colorscale": [
             [
              0,
              "#0d0887"
             ],
             [
              0.1111111111111111,
              "#46039f"
             ],
             [
              0.2222222222222222,
              "#7201a8"
             ],
             [
              0.3333333333333333,
              "#9c179e"
             ],
             [
              0.4444444444444444,
              "#bd3786"
             ],
             [
              0.5555555555555556,
              "#d8576b"
             ],
             [
              0.6666666666666666,
              "#ed7953"
             ],
             [
              0.7777777777777778,
              "#fb9f3a"
             ],
             [
              0.8888888888888888,
              "#fdca26"
             ],
             [
              1,
              "#f0f921"
             ]
            ],
            "type": "histogram2d"
           }
          ],
          "histogram2dcontour": [
           {
            "colorbar": {
             "outlinewidth": 0,
             "ticks": ""
            },
            "colorscale": [
             [
              0,
              "#0d0887"
             ],
             [
              0.1111111111111111,
              "#46039f"
             ],
             [
              0.2222222222222222,
              "#7201a8"
             ],
             [
              0.3333333333333333,
              "#9c179e"
             ],
             [
              0.4444444444444444,
              "#bd3786"
             ],
             [
              0.5555555555555556,
              "#d8576b"
             ],
             [
              0.6666666666666666,
              "#ed7953"
             ],
             [
              0.7777777777777778,
              "#fb9f3a"
             ],
             [
              0.8888888888888888,
              "#fdca26"
             ],
             [
              1,
              "#f0f921"
             ]
            ],
            "type": "histogram2dcontour"
           }
          ],
          "mesh3d": [
           {
            "colorbar": {
             "outlinewidth": 0,
             "ticks": ""
            },
            "type": "mesh3d"
           }
          ],
          "parcoords": [
           {
            "line": {
             "colorbar": {
              "outlinewidth": 0,
              "ticks": ""
             }
            },
            "type": "parcoords"
           }
          ],
          "pie": [
           {
            "automargin": true,
            "type": "pie"
           }
          ],
          "scatter": [
           {
            "fillpattern": {
             "fillmode": "overlay",
             "size": 10,
             "solidity": 0.2
            },
            "type": "scatter"
           }
          ],
          "scatter3d": [
           {
            "line": {
             "colorbar": {
              "outlinewidth": 0,
              "ticks": ""
             }
            },
            "marker": {
             "colorbar": {
              "outlinewidth": 0,
              "ticks": ""
             }
            },
            "type": "scatter3d"
           }
          ],
          "scattercarpet": [
           {
            "marker": {
             "colorbar": {
              "outlinewidth": 0,
              "ticks": ""
             }
            },
            "type": "scattercarpet"
           }
          ],
          "scattergeo": [
           {
            "marker": {
             "colorbar": {
              "outlinewidth": 0,
              "ticks": ""
             }
            },
            "type": "scattergeo"
           }
          ],
          "scattergl": [
           {
            "marker": {
             "colorbar": {
              "outlinewidth": 0,
              "ticks": ""
             }
            },
            "type": "scattergl"
           }
          ],
          "scattermapbox": [
           {
            "marker": {
             "colorbar": {
              "outlinewidth": 0,
              "ticks": ""
             }
            },
            "type": "scattermapbox"
           }
          ],
          "scatterpolar": [
           {
            "marker": {
             "colorbar": {
              "outlinewidth": 0,
              "ticks": ""
             }
            },
            "type": "scatterpolar"
           }
          ],
          "scatterpolargl": [
           {
            "marker": {
             "colorbar": {
              "outlinewidth": 0,
              "ticks": ""
             }
            },
            "type": "scatterpolargl"
           }
          ],
          "scatterternary": [
           {
            "marker": {
             "colorbar": {
              "outlinewidth": 0,
              "ticks": ""
             }
            },
            "type": "scatterternary"
           }
          ],
          "surface": [
           {
            "colorbar": {
             "outlinewidth": 0,
             "ticks": ""
            },
            "colorscale": [
             [
              0,
              "#0d0887"
             ],
             [
              0.1111111111111111,
              "#46039f"
             ],
             [
              0.2222222222222222,
              "#7201a8"
             ],
             [
              0.3333333333333333,
              "#9c179e"
             ],
             [
              0.4444444444444444,
              "#bd3786"
             ],
             [
              0.5555555555555556,
              "#d8576b"
             ],
             [
              0.6666666666666666,
              "#ed7953"
             ],
             [
              0.7777777777777778,
              "#fb9f3a"
             ],
             [
              0.8888888888888888,
              "#fdca26"
             ],
             [
              1,
              "#f0f921"
             ]
            ],
            "type": "surface"
           }
          ],
          "table": [
           {
            "cells": {
             "fill": {
              "color": "#EBF0F8"
             },
             "line": {
              "color": "white"
             }
            },
            "header": {
             "fill": {
              "color": "#C8D4E3"
             },
             "line": {
              "color": "white"
             }
            },
            "type": "table"
           }
          ]
         },
         "layout": {
          "annotationdefaults": {
           "arrowcolor": "#2a3f5f",
           "arrowhead": 0,
           "arrowwidth": 1
          },
          "autotypenumbers": "strict",
          "coloraxis": {
           "colorbar": {
            "outlinewidth": 0,
            "ticks": ""
           }
          },
          "colorscale": {
           "diverging": [
            [
             0,
             "#8e0152"
            ],
            [
             0.1,
             "#c51b7d"
            ],
            [
             0.2,
             "#de77ae"
            ],
            [
             0.3,
             "#f1b6da"
            ],
            [
             0.4,
             "#fde0ef"
            ],
            [
             0.5,
             "#f7f7f7"
            ],
            [
             0.6,
             "#e6f5d0"
            ],
            [
             0.7,
             "#b8e186"
            ],
            [
             0.8,
             "#7fbc41"
            ],
            [
             0.9,
             "#4d9221"
            ],
            [
             1,
             "#276419"
            ]
           ],
           "sequential": [
            [
             0,
             "#0d0887"
            ],
            [
             0.1111111111111111,
             "#46039f"
            ],
            [
             0.2222222222222222,
             "#7201a8"
            ],
            [
             0.3333333333333333,
             "#9c179e"
            ],
            [
             0.4444444444444444,
             "#bd3786"
            ],
            [
             0.5555555555555556,
             "#d8576b"
            ],
            [
             0.6666666666666666,
             "#ed7953"
            ],
            [
             0.7777777777777778,
             "#fb9f3a"
            ],
            [
             0.8888888888888888,
             "#fdca26"
            ],
            [
             1,
             "#f0f921"
            ]
           ],
           "sequentialminus": [
            [
             0,
             "#0d0887"
            ],
            [
             0.1111111111111111,
             "#46039f"
            ],
            [
             0.2222222222222222,
             "#7201a8"
            ],
            [
             0.3333333333333333,
             "#9c179e"
            ],
            [
             0.4444444444444444,
             "#bd3786"
            ],
            [
             0.5555555555555556,
             "#d8576b"
            ],
            [
             0.6666666666666666,
             "#ed7953"
            ],
            [
             0.7777777777777778,
             "#fb9f3a"
            ],
            [
             0.8888888888888888,
             "#fdca26"
            ],
            [
             1,
             "#f0f921"
            ]
           ]
          },
          "colorway": [
           "#636efa",
           "#EF553B",
           "#00cc96",
           "#ab63fa",
           "#FFA15A",
           "#19d3f3",
           "#FF6692",
           "#B6E880",
           "#FF97FF",
           "#FECB52"
          ],
          "font": {
           "color": "#2a3f5f"
          },
          "geo": {
           "bgcolor": "white",
           "lakecolor": "white",
           "landcolor": "#E5ECF6",
           "showlakes": true,
           "showland": true,
           "subunitcolor": "white"
          },
          "hoverlabel": {
           "align": "left"
          },
          "hovermode": "closest",
          "mapbox": {
           "style": "light"
          },
          "paper_bgcolor": "white",
          "plot_bgcolor": "#E5ECF6",
          "polar": {
           "angularaxis": {
            "gridcolor": "white",
            "linecolor": "white",
            "ticks": ""
           },
           "bgcolor": "#E5ECF6",
           "radialaxis": {
            "gridcolor": "white",
            "linecolor": "white",
            "ticks": ""
           }
          },
          "scene": {
           "xaxis": {
            "backgroundcolor": "#E5ECF6",
            "gridcolor": "white",
            "gridwidth": 2,
            "linecolor": "white",
            "showbackground": true,
            "ticks": "",
            "zerolinecolor": "white"
           },
           "yaxis": {
            "backgroundcolor": "#E5ECF6",
            "gridcolor": "white",
            "gridwidth": 2,
            "linecolor": "white",
            "showbackground": true,
            "ticks": "",
            "zerolinecolor": "white"
           },
           "zaxis": {
            "backgroundcolor": "#E5ECF6",
            "gridcolor": "white",
            "gridwidth": 2,
            "linecolor": "white",
            "showbackground": true,
            "ticks": "",
            "zerolinecolor": "white"
           }
          },
          "shapedefaults": {
           "line": {
            "color": "#2a3f5f"
           }
          },
          "ternary": {
           "aaxis": {
            "gridcolor": "white",
            "linecolor": "white",
            "ticks": ""
           },
           "baxis": {
            "gridcolor": "white",
            "linecolor": "white",
            "ticks": ""
           },
           "bgcolor": "#E5ECF6",
           "caxis": {
            "gridcolor": "white",
            "linecolor": "white",
            "ticks": ""
           }
          },
          "title": {
           "x": 0.05
          },
          "xaxis": {
           "automargin": true,
           "gridcolor": "white",
           "linecolor": "white",
           "ticks": "",
           "title": {
            "standoff": 15
           },
           "zerolinecolor": "white",
           "zerolinewidth": 2
          },
          "yaxis": {
           "automargin": true,
           "gridcolor": "white",
           "linecolor": "white",
           "ticks": "",
           "title": {
            "standoff": 15
           },
           "zerolinecolor": "white",
           "zerolinewidth": 2
          }
         }
        },
        "title": {
         "text": "Data Quality "
        },
        "xaxis": {
         "anchor": "y",
         "domain": [
          0,
          1
         ],
         "linecolor": "#3b0280",
         "matches": "x",
         "mirror": true,
         "showgrid": false,
         "title": {
          "text": "Chunk"
         },
         "zeroline": false
        },
        "yaxis": {
         "anchor": "x",
         "domain": [
          0,
          1
         ],
         "linecolor": "#3b0280",
         "mirror": true,
         "showgrid": false,
         "title": {
          "text": "Missing Values Rate"
         },
         "zeroline": false
        }
       }
      }
     },
     "metadata": {},
     "output_type": "display_data"
    },
    {
     "data": {
      "application/vnd.plotly.v1+json": {
       "config": {
        "plotlyServerURL": "https://plot.ly"
       },
       "data": [
        {
         "hoverinfo": "skip",
         "legendgroup": "metric_reference",
         "line": {
          "color": "#00c8e5",
          "shape": "hv",
          "width": 2
         },
         "mode": "lines",
         "name": "Metric",
         "showlegend": true,
         "type": "scatter",
         "x": [
          0,
          1,
          2,
          3,
          4,
          5,
          6,
          7,
          8,
          9,
          10
         ],
         "xaxis": "x",
         "y": [
          0,
          0,
          0,
          0,
          0,
          0,
          0,
          0,
          0,
          0,
          0
         ],
         "yaxis": "y"
        },
        {
         "customdata": [
          [
           "Missing Values Rate for <b>size_of_downpayment</b>",
           "<b style=\"color:#00c8e5;line-height:60px\">Reference</b>",
           "",
           "[0:4999]",
           "Chunk index: <b>0</b>",
           0,
           0
          ],
          [
           "Missing Values Rate for <b>size_of_downpayment</b>",
           "<b style=\"color:#00c8e5;line-height:60px\">Reference</b>",
           "",
           "[5000:9999]",
           "Chunk index: <b>1</b>",
           0,
           0
          ],
          [
           "Missing Values Rate for <b>size_of_downpayment</b>",
           "<b style=\"color:#00c8e5;line-height:60px\">Reference</b>",
           "",
           "[10000:14999]",
           "Chunk index: <b>2</b>",
           0,
           0
          ],
          [
           "Missing Values Rate for <b>size_of_downpayment</b>",
           "<b style=\"color:#00c8e5;line-height:60px\">Reference</b>",
           "",
           "[15000:19999]",
           "Chunk index: <b>3</b>",
           0,
           0
          ],
          [
           "Missing Values Rate for <b>size_of_downpayment</b>",
           "<b style=\"color:#00c8e5;line-height:60px\">Reference</b>",
           "",
           "[20000:24999]",
           "Chunk index: <b>4</b>",
           0,
           0
          ],
          [
           "Missing Values Rate for <b>size_of_downpayment</b>",
           "<b style=\"color:#00c8e5;line-height:60px\">Reference</b>",
           "",
           "[25000:29999]",
           "Chunk index: <b>5</b>",
           0,
           0
          ],
          [
           "Missing Values Rate for <b>size_of_downpayment</b>",
           "<b style=\"color:#00c8e5;line-height:60px\">Reference</b>",
           "",
           "[30000:34999]",
           "Chunk index: <b>6</b>",
           0,
           0
          ],
          [
           "Missing Values Rate for <b>size_of_downpayment</b>",
           "<b style=\"color:#00c8e5;line-height:60px\">Reference</b>",
           "",
           "[35000:39999]",
           "Chunk index: <b>7</b>",
           0,
           0
          ],
          [
           "Missing Values Rate for <b>size_of_downpayment</b>",
           "<b style=\"color:#00c8e5;line-height:60px\">Reference</b>",
           "",
           "[40000:44999]",
           "Chunk index: <b>8</b>",
           0,
           0
          ],
          [
           "Missing Values Rate for <b>size_of_downpayment</b>",
           "<b style=\"color:#00c8e5;line-height:60px\">Reference</b>",
           "",
           "[45000:49999]",
           "Chunk index: <b>9</b>",
           0,
           0
          ]
         ],
         "hovertemplate": "%{customdata[1]} &nbsp; &nbsp; %{customdata[2]} <br />Chunk: <b>%{customdata[3]}</b> &nbsp; &nbsp; %{customdata[4]} <br />%{customdata[0]}: <b>%{customdata[5]}</b><br />Confidence band: +/- <b>%{customdata[6]}</b><br /><extra></extra>",
         "legendgroup": "metric_reference",
         "marker": {
          "color": "#00c8e5",
          "size": 5,
          "symbol": "circle"
         },
         "mode": "markers",
         "name": "Metric",
         "showlegend": false,
         "type": "scatter",
         "x": [
          0.5,
          1.5,
          2.5,
          3.5,
          4.5,
          5.5,
          6.5,
          7.5,
          8.5,
          9.5
         ],
         "xaxis": "x",
         "y": [
          0,
          0,
          0,
          0,
          0,
          0,
          0,
          0,
          0,
          0,
          0
         ],
         "yaxis": "y"
        },
        {
         "hoverinfo": "skip",
         "legendgroup": "metric_analysis",
         "line": {
          "color": "#00c8e5",
          "shape": "hv",
          "width": 2
         },
         "mode": "lines",
         "name": "Metric",
         "showlegend": false,
         "type": "scatter",
         "x": [
          10,
          11,
          12,
          13,
          14,
          15,
          16,
          17,
          18,
          19,
          20
         ],
         "xaxis": "x",
         "y": [
          0,
          0,
          0,
          0,
          0,
          0,
          0,
          0,
          0,
          0,
          0
         ],
         "yaxis": "y"
        },
        {
         "customdata": [
          [
           "Missing Values Rate for <b>size_of_downpayment</b>",
           "<b style=\"color:#3b0280;line-height:60px\">Analysis</b>",
           "",
           "[0:4999]",
           "Chunk index: <b>0</b>",
           0,
           0
          ],
          [
           "Missing Values Rate for <b>size_of_downpayment</b>",
           "<b style=\"color:#3b0280;line-height:60px\">Analysis</b>",
           "",
           "[5000:9999]",
           "Chunk index: <b>1</b>",
           0,
           0
          ],
          [
           "Missing Values Rate for <b>size_of_downpayment</b>",
           "<b style=\"color:#3b0280;line-height:60px\">Analysis</b>",
           "",
           "[10000:14999]",
           "Chunk index: <b>2</b>",
           0,
           0
          ],
          [
           "Missing Values Rate for <b>size_of_downpayment</b>",
           "<b style=\"color:#3b0280;line-height:60px\">Analysis</b>",
           "",
           "[15000:19999]",
           "Chunk index: <b>3</b>",
           0,
           0
          ],
          [
           "Missing Values Rate for <b>size_of_downpayment</b>",
           "<b style=\"color:#3b0280;line-height:60px\">Analysis</b>",
           "",
           "[20000:24999]",
           "Chunk index: <b>4</b>",
           0,
           0
          ],
          [
           "Missing Values Rate for <b>size_of_downpayment</b>",
           "<b style=\"color:#3b0280;line-height:60px\">Analysis</b>",
           "",
           "[25000:29999]",
           "Chunk index: <b>5</b>",
           0,
           0
          ],
          [
           "Missing Values Rate for <b>size_of_downpayment</b>",
           "<b style=\"color:#3b0280;line-height:60px\">Analysis</b>",
           "",
           "[30000:34999]",
           "Chunk index: <b>6</b>",
           0,
           0
          ],
          [
           "Missing Values Rate for <b>size_of_downpayment</b>",
           "<b style=\"color:#3b0280;line-height:60px\">Analysis</b>",
           "",
           "[35000:39999]",
           "Chunk index: <b>7</b>",
           0,
           0
          ],
          [
           "Missing Values Rate for <b>size_of_downpayment</b>",
           "<b style=\"color:#3b0280;line-height:60px\">Analysis</b>",
           "",
           "[40000:44999]",
           "Chunk index: <b>8</b>",
           0,
           0
          ],
          [
           "Missing Values Rate for <b>size_of_downpayment</b>",
           "<b style=\"color:#3b0280;line-height:60px\">Analysis</b>",
           "",
           "[45000:49999]",
           "Chunk index: <b>9</b>",
           0,
           0
          ]
         ],
         "hovertemplate": "%{customdata[1]} &nbsp; &nbsp; %{customdata[2]} <br />Chunk: <b>%{customdata[3]}</b> &nbsp; &nbsp; %{customdata[4]} <br />%{customdata[0]}: <b>%{customdata[5]}</b><br />Confidence band: +/- <b>%{customdata[6]}</b><br /><extra></extra>",
         "legendgroup": "metric_analysis",
         "marker": {
          "color": "#00c8e5",
          "size": 5,
          "symbol": "circle"
         },
         "mode": "markers",
         "name": "Metric",
         "showlegend": false,
         "type": "scatter",
         "x": [
          10.5,
          11.5,
          12.5,
          13.5,
          14.5,
          15.5,
          16.5,
          17.5,
          18.5,
          19.5
         ],
         "xaxis": "x",
         "y": [
          0,
          0,
          0,
          0,
          0,
          0,
          0,
          0,
          0,
          0,
          0
         ],
         "yaxis": "y"
        },
        {
         "hoverinfo": "skip",
         "legendgroup": "alert",
         "marker": {
          "color": "#DD4040",
          "size": 8,
          "symbol": "diamond"
         },
         "mode": "markers",
         "name": "Alert",
         "showlegend": true,
         "type": "scatter",
         "x": [],
         "xaxis": "x",
         "y": [],
         "yaxis": "y"
        },
        {
         "hoverinfo": "skip",
         "legendgroup": "thresh",
         "line": {
          "color": "#DD4040",
          "dash": "dash",
          "width": 2
         },
         "mode": "lines",
         "name": "Threshold",
         "showlegend": true,
         "type": "scatter",
         "x": [
          0,
          1,
          2,
          3,
          4,
          5,
          6,
          7,
          8,
          9,
          10
         ],
         "xaxis": "x",
         "y": [
          0,
          0,
          0,
          0,
          0,
          0,
          0,
          0,
          0,
          0,
          0
         ],
         "yaxis": "y"
        },
        {
         "hoverinfo": "skip",
         "legendgroup": "thresh",
         "line": {
          "color": "#DD4040",
          "dash": "dash",
          "width": 2
         },
         "mode": "lines",
         "name": "Threshold",
         "showlegend": false,
         "type": "scatter",
         "x": [
          0,
          1,
          2,
          3,
          4,
          5,
          6,
          7,
          8,
          9,
          10
         ],
         "xaxis": "x",
         "y": [
          0,
          0,
          0,
          0,
          0,
          0,
          0,
          0,
          0,
          0,
          0
         ],
         "yaxis": "y"
        },
        {
         "hoverinfo": "skip",
         "legendgroup": "thresh",
         "line": {
          "color": "#DD4040",
          "dash": "dash",
          "width": 2
         },
         "mode": "lines",
         "name": "Threshold",
         "showlegend": false,
         "type": "scatter",
         "x": [
          10,
          11,
          12,
          13,
          14,
          15,
          16,
          17,
          18,
          19,
          20
         ],
         "xaxis": "x",
         "y": [
          0,
          0,
          0,
          0,
          0,
          0,
          0,
          0,
          0,
          0,
          0
         ],
         "yaxis": "y"
        },
        {
         "hoverinfo": "skip",
         "legendgroup": "thresh",
         "line": {
          "color": "#DD4040",
          "dash": "dash",
          "width": 2
         },
         "mode": "lines",
         "name": "Threshold",
         "showlegend": false,
         "type": "scatter",
         "x": [
          10,
          11,
          12,
          13,
          14,
          15,
          16,
          17,
          18,
          19,
          20
         ],
         "xaxis": "x",
         "y": [
          0,
          0,
          0,
          0,
          0,
          0,
          0,
          0,
          0,
          0,
          0
         ],
         "yaxis": "y"
        },
        {
         "hoverinfo": "skip",
         "line": {
          "color": "rgba(0,0,0,0)",
          "shape": "hv"
         },
         "mode": "lines",
         "name": "Confidence band",
         "showlegend": false,
         "type": "scatter",
         "x": [
          0,
          1,
          2,
          3,
          4,
          5,
          6,
          7,
          8,
          9,
          10
         ],
         "xaxis": "x",
         "y": [
          0,
          0,
          0,
          0,
          0,
          0,
          0,
          0,
          0,
          0,
          0
         ],
         "yaxis": "y"
        },
        {
         "fill": "tonexty",
         "fillcolor": "rgba(0.0, 0.7843137254901961, 0.8980392156862745, 0.2)",
         "hoverinfo": "skip",
         "line": {
          "color": "rgba(0,0,0,0)",
          "shape": "hv"
         },
         "mode": "lines",
         "name": "Confidence band",
         "showlegend": true,
         "type": "scatter",
         "x": [
          0,
          1,
          2,
          3,
          4,
          5,
          6,
          7,
          8,
          9,
          10
         ],
         "xaxis": "x",
         "y": [
          0,
          0,
          0,
          0,
          0,
          0,
          0,
          0,
          0,
          0,
          0
         ],
         "yaxis": "y"
        },
        {
         "hoverinfo": "skip",
         "line": {
          "color": "rgba(0,0,0,0)",
          "shape": "hv"
         },
         "mode": "lines",
         "name": "Confidence band",
         "showlegend": false,
         "type": "scatter",
         "x": [
          10,
          11,
          12,
          13,
          14,
          15,
          16,
          17,
          18,
          19,
          20
         ],
         "xaxis": "x",
         "y": [
          0,
          0,
          0,
          0,
          0,
          0,
          0,
          0,
          0,
          0,
          0
         ],
         "yaxis": "y"
        },
        {
         "fill": "tonexty",
         "fillcolor": "rgba(0.0, 0.7843137254901961, 0.8980392156862745, 0.2)",
         "hoverinfo": "skip",
         "line": {
          "color": "rgba(0,0,0,0)",
          "shape": "hv"
         },
         "mode": "lines",
         "name": "Confidence band",
         "showlegend": false,
         "type": "scatter",
         "x": [
          10,
          11,
          12,
          13,
          14,
          15,
          16,
          17,
          18,
          19,
          20
         ],
         "xaxis": "x",
         "y": [
          0,
          0,
          0,
          0,
          0,
          0,
          0,
          0,
          0,
          0,
          0
         ],
         "yaxis": "y"
        }
       ],
       "layout": {
        "annotations": [
         {
          "font": {
           "size": 16
          },
          "showarrow": false,
          "text": "Missing Values Rate for <b>size_of_downpayment</b>",
          "x": 0.5,
          "xanchor": "center",
          "xref": "paper",
          "y": 1,
          "yanchor": "bottom",
          "yref": "paper"
         },
         {
          "showarrow": false,
          "text": "Reference",
          "x": 4.5,
          "xref": "x",
          "xshift": 10,
          "y": 1.01,
          "yref": "y domain"
         },
         {
          "showarrow": false,
          "text": "Analysis",
          "x": 14.5,
          "xref": "x",
          "xshift": 15,
          "y": 1.01,
          "yref": "y domain"
         }
        ],
        "height": 500,
        "hoverlabel": {
         "bgcolor": "white",
         "font": {
          "size": 14
         }
        },
        "legend": {
         "itemclick": false,
         "itemdoubleclick": false,
         "traceorder": "grouped"
        },
        "paper_bgcolor": "rgba(255,255,255,1)",
        "plot_bgcolor": "rgba(255,255,255,1)",
        "shapes": [
         {
          "layer": "below",
          "line": {
           "color": "#666666",
           "width": 1
          },
          "type": "line",
          "x0": 10,
          "x1": 10,
          "xref": "x",
          "y0": 0,
          "y1": 1,
          "yref": "y domain"
         }
        ],
        "template": {
         "data": {
          "bar": [
           {
            "error_x": {
             "color": "#2a3f5f"
            },
            "error_y": {
             "color": "#2a3f5f"
            },
            "marker": {
             "line": {
              "color": "#E5ECF6",
              "width": 0.5
             },
             "pattern": {
              "fillmode": "overlay",
              "size": 10,
              "solidity": 0.2
             }
            },
            "type": "bar"
           }
          ],
          "barpolar": [
           {
            "marker": {
             "line": {
              "color": "#E5ECF6",
              "width": 0.5
             },
             "pattern": {
              "fillmode": "overlay",
              "size": 10,
              "solidity": 0.2
             }
            },
            "type": "barpolar"
           }
          ],
          "carpet": [
           {
            "aaxis": {
             "endlinecolor": "#2a3f5f",
             "gridcolor": "white",
             "linecolor": "white",
             "minorgridcolor": "white",
             "startlinecolor": "#2a3f5f"
            },
            "baxis": {
             "endlinecolor": "#2a3f5f",
             "gridcolor": "white",
             "linecolor": "white",
             "minorgridcolor": "white",
             "startlinecolor": "#2a3f5f"
            },
            "type": "carpet"
           }
          ],
          "choropleth": [
           {
            "colorbar": {
             "outlinewidth": 0,
             "ticks": ""
            },
            "type": "choropleth"
           }
          ],
          "contour": [
           {
            "colorbar": {
             "outlinewidth": 0,
             "ticks": ""
            },
            "colorscale": [
             [
              0,
              "#0d0887"
             ],
             [
              0.1111111111111111,
              "#46039f"
             ],
             [
              0.2222222222222222,
              "#7201a8"
             ],
             [
              0.3333333333333333,
              "#9c179e"
             ],
             [
              0.4444444444444444,
              "#bd3786"
             ],
             [
              0.5555555555555556,
              "#d8576b"
             ],
             [
              0.6666666666666666,
              "#ed7953"
             ],
             [
              0.7777777777777778,
              "#fb9f3a"
             ],
             [
              0.8888888888888888,
              "#fdca26"
             ],
             [
              1,
              "#f0f921"
             ]
            ],
            "type": "contour"
           }
          ],
          "contourcarpet": [
           {
            "colorbar": {
             "outlinewidth": 0,
             "ticks": ""
            },
            "type": "contourcarpet"
           }
          ],
          "heatmap": [
           {
            "colorbar": {
             "outlinewidth": 0,
             "ticks": ""
            },
            "colorscale": [
             [
              0,
              "#0d0887"
             ],
             [
              0.1111111111111111,
              "#46039f"
             ],
             [
              0.2222222222222222,
              "#7201a8"
             ],
             [
              0.3333333333333333,
              "#9c179e"
             ],
             [
              0.4444444444444444,
              "#bd3786"
             ],
             [
              0.5555555555555556,
              "#d8576b"
             ],
             [
              0.6666666666666666,
              "#ed7953"
             ],
             [
              0.7777777777777778,
              "#fb9f3a"
             ],
             [
              0.8888888888888888,
              "#fdca26"
             ],
             [
              1,
              "#f0f921"
             ]
            ],
            "type": "heatmap"
           }
          ],
          "heatmapgl": [
           {
            "colorbar": {
             "outlinewidth": 0,
             "ticks": ""
            },
            "colorscale": [
             [
              0,
              "#0d0887"
             ],
             [
              0.1111111111111111,
              "#46039f"
             ],
             [
              0.2222222222222222,
              "#7201a8"
             ],
             [
              0.3333333333333333,
              "#9c179e"
             ],
             [
              0.4444444444444444,
              "#bd3786"
             ],
             [
              0.5555555555555556,
              "#d8576b"
             ],
             [
              0.6666666666666666,
              "#ed7953"
             ],
             [
              0.7777777777777778,
              "#fb9f3a"
             ],
             [
              0.8888888888888888,
              "#fdca26"
             ],
             [
              1,
              "#f0f921"
             ]
            ],
            "type": "heatmapgl"
           }
          ],
          "histogram": [
           {
            "marker": {
             "pattern": {
              "fillmode": "overlay",
              "size": 10,
              "solidity": 0.2
             }
            },
            "type": "histogram"
           }
          ],
          "histogram2d": [
           {
            "colorbar": {
             "outlinewidth": 0,
             "ticks": ""
            },
            "colorscale": [
             [
              0,
              "#0d0887"
             ],
             [
              0.1111111111111111,
              "#46039f"
             ],
             [
              0.2222222222222222,
              "#7201a8"
             ],
             [
              0.3333333333333333,
              "#9c179e"
             ],
             [
              0.4444444444444444,
              "#bd3786"
             ],
             [
              0.5555555555555556,
              "#d8576b"
             ],
             [
              0.6666666666666666,
              "#ed7953"
             ],
             [
              0.7777777777777778,
              "#fb9f3a"
             ],
             [
              0.8888888888888888,
              "#fdca26"
             ],
             [
              1,
              "#f0f921"
             ]
            ],
            "type": "histogram2d"
           }
          ],
          "histogram2dcontour": [
           {
            "colorbar": {
             "outlinewidth": 0,
             "ticks": ""
            },
            "colorscale": [
             [
              0,
              "#0d0887"
             ],
             [
              0.1111111111111111,
              "#46039f"
             ],
             [
              0.2222222222222222,
              "#7201a8"
             ],
             [
              0.3333333333333333,
              "#9c179e"
             ],
             [
              0.4444444444444444,
              "#bd3786"
             ],
             [
              0.5555555555555556,
              "#d8576b"
             ],
             [
              0.6666666666666666,
              "#ed7953"
             ],
             [
              0.7777777777777778,
              "#fb9f3a"
             ],
             [
              0.8888888888888888,
              "#fdca26"
             ],
             [
              1,
              "#f0f921"
             ]
            ],
            "type": "histogram2dcontour"
           }
          ],
          "mesh3d": [
           {
            "colorbar": {
             "outlinewidth": 0,
             "ticks": ""
            },
            "type": "mesh3d"
           }
          ],
          "parcoords": [
           {
            "line": {
             "colorbar": {
              "outlinewidth": 0,
              "ticks": ""
             }
            },
            "type": "parcoords"
           }
          ],
          "pie": [
           {
            "automargin": true,
            "type": "pie"
           }
          ],
          "scatter": [
           {
            "fillpattern": {
             "fillmode": "overlay",
             "size": 10,
             "solidity": 0.2
            },
            "type": "scatter"
           }
          ],
          "scatter3d": [
           {
            "line": {
             "colorbar": {
              "outlinewidth": 0,
              "ticks": ""
             }
            },
            "marker": {
             "colorbar": {
              "outlinewidth": 0,
              "ticks": ""
             }
            },
            "type": "scatter3d"
           }
          ],
          "scattercarpet": [
           {
            "marker": {
             "colorbar": {
              "outlinewidth": 0,
              "ticks": ""
             }
            },
            "type": "scattercarpet"
           }
          ],
          "scattergeo": [
           {
            "marker": {
             "colorbar": {
              "outlinewidth": 0,
              "ticks": ""
             }
            },
            "type": "scattergeo"
           }
          ],
          "scattergl": [
           {
            "marker": {
             "colorbar": {
              "outlinewidth": 0,
              "ticks": ""
             }
            },
            "type": "scattergl"
           }
          ],
          "scattermapbox": [
           {
            "marker": {
             "colorbar": {
              "outlinewidth": 0,
              "ticks": ""
             }
            },
            "type": "scattermapbox"
           }
          ],
          "scatterpolar": [
           {
            "marker": {
             "colorbar": {
              "outlinewidth": 0,
              "ticks": ""
             }
            },
            "type": "scatterpolar"
           }
          ],
          "scatterpolargl": [
           {
            "marker": {
             "colorbar": {
              "outlinewidth": 0,
              "ticks": ""
             }
            },
            "type": "scatterpolargl"
           }
          ],
          "scatterternary": [
           {
            "marker": {
             "colorbar": {
              "outlinewidth": 0,
              "ticks": ""
             }
            },
            "type": "scatterternary"
           }
          ],
          "surface": [
           {
            "colorbar": {
             "outlinewidth": 0,
             "ticks": ""
            },
            "colorscale": [
             [
              0,
              "#0d0887"
             ],
             [
              0.1111111111111111,
              "#46039f"
             ],
             [
              0.2222222222222222,
              "#7201a8"
             ],
             [
              0.3333333333333333,
              "#9c179e"
             ],
             [
              0.4444444444444444,
              "#bd3786"
             ],
             [
              0.5555555555555556,
              "#d8576b"
             ],
             [
              0.6666666666666666,
              "#ed7953"
             ],
             [
              0.7777777777777778,
              "#fb9f3a"
             ],
             [
              0.8888888888888888,
              "#fdca26"
             ],
             [
              1,
              "#f0f921"
             ]
            ],
            "type": "surface"
           }
          ],
          "table": [
           {
            "cells": {
             "fill": {
              "color": "#EBF0F8"
             },
             "line": {
              "color": "white"
             }
            },
            "header": {
             "fill": {
              "color": "#C8D4E3"
             },
             "line": {
              "color": "white"
             }
            },
            "type": "table"
           }
          ]
         },
         "layout": {
          "annotationdefaults": {
           "arrowcolor": "#2a3f5f",
           "arrowhead": 0,
           "arrowwidth": 1
          },
          "autotypenumbers": "strict",
          "coloraxis": {
           "colorbar": {
            "outlinewidth": 0,
            "ticks": ""
           }
          },
          "colorscale": {
           "diverging": [
            [
             0,
             "#8e0152"
            ],
            [
             0.1,
             "#c51b7d"
            ],
            [
             0.2,
             "#de77ae"
            ],
            [
             0.3,
             "#f1b6da"
            ],
            [
             0.4,
             "#fde0ef"
            ],
            [
             0.5,
             "#f7f7f7"
            ],
            [
             0.6,
             "#e6f5d0"
            ],
            [
             0.7,
             "#b8e186"
            ],
            [
             0.8,
             "#7fbc41"
            ],
            [
             0.9,
             "#4d9221"
            ],
            [
             1,
             "#276419"
            ]
           ],
           "sequential": [
            [
             0,
             "#0d0887"
            ],
            [
             0.1111111111111111,
             "#46039f"
            ],
            [
             0.2222222222222222,
             "#7201a8"
            ],
            [
             0.3333333333333333,
             "#9c179e"
            ],
            [
             0.4444444444444444,
             "#bd3786"
            ],
            [
             0.5555555555555556,
             "#d8576b"
            ],
            [
             0.6666666666666666,
             "#ed7953"
            ],
            [
             0.7777777777777778,
             "#fb9f3a"
            ],
            [
             0.8888888888888888,
             "#fdca26"
            ],
            [
             1,
             "#f0f921"
            ]
           ],
           "sequentialminus": [
            [
             0,
             "#0d0887"
            ],
            [
             0.1111111111111111,
             "#46039f"
            ],
            [
             0.2222222222222222,
             "#7201a8"
            ],
            [
             0.3333333333333333,
             "#9c179e"
            ],
            [
             0.4444444444444444,
             "#bd3786"
            ],
            [
             0.5555555555555556,
             "#d8576b"
            ],
            [
             0.6666666666666666,
             "#ed7953"
            ],
            [
             0.7777777777777778,
             "#fb9f3a"
            ],
            [
             0.8888888888888888,
             "#fdca26"
            ],
            [
             1,
             "#f0f921"
            ]
           ]
          },
          "colorway": [
           "#636efa",
           "#EF553B",
           "#00cc96",
           "#ab63fa",
           "#FFA15A",
           "#19d3f3",
           "#FF6692",
           "#B6E880",
           "#FF97FF",
           "#FECB52"
          ],
          "font": {
           "color": "#2a3f5f"
          },
          "geo": {
           "bgcolor": "white",
           "lakecolor": "white",
           "landcolor": "#E5ECF6",
           "showlakes": true,
           "showland": true,
           "subunitcolor": "white"
          },
          "hoverlabel": {
           "align": "left"
          },
          "hovermode": "closest",
          "mapbox": {
           "style": "light"
          },
          "paper_bgcolor": "white",
          "plot_bgcolor": "#E5ECF6",
          "polar": {
           "angularaxis": {
            "gridcolor": "white",
            "linecolor": "white",
            "ticks": ""
           },
           "bgcolor": "#E5ECF6",
           "radialaxis": {
            "gridcolor": "white",
            "linecolor": "white",
            "ticks": ""
           }
          },
          "scene": {
           "xaxis": {
            "backgroundcolor": "#E5ECF6",
            "gridcolor": "white",
            "gridwidth": 2,
            "linecolor": "white",
            "showbackground": true,
            "ticks": "",
            "zerolinecolor": "white"
           },
           "yaxis": {
            "backgroundcolor": "#E5ECF6",
            "gridcolor": "white",
            "gridwidth": 2,
            "linecolor": "white",
            "showbackground": true,
            "ticks": "",
            "zerolinecolor": "white"
           },
           "zaxis": {
            "backgroundcolor": "#E5ECF6",
            "gridcolor": "white",
            "gridwidth": 2,
            "linecolor": "white",
            "showbackground": true,
            "ticks": "",
            "zerolinecolor": "white"
           }
          },
          "shapedefaults": {
           "line": {
            "color": "#2a3f5f"
           }
          },
          "ternary": {
           "aaxis": {
            "gridcolor": "white",
            "linecolor": "white",
            "ticks": ""
           },
           "baxis": {
            "gridcolor": "white",
            "linecolor": "white",
            "ticks": ""
           },
           "bgcolor": "#E5ECF6",
           "caxis": {
            "gridcolor": "white",
            "linecolor": "white",
            "ticks": ""
           }
          },
          "title": {
           "x": 0.05
          },
          "xaxis": {
           "automargin": true,
           "gridcolor": "white",
           "linecolor": "white",
           "ticks": "",
           "title": {
            "standoff": 15
           },
           "zerolinecolor": "white",
           "zerolinewidth": 2
          },
          "yaxis": {
           "automargin": true,
           "gridcolor": "white",
           "linecolor": "white",
           "ticks": "",
           "title": {
            "standoff": 15
           },
           "zerolinecolor": "white",
           "zerolinewidth": 2
          }
         }
        },
        "title": {
         "text": "Data Quality "
        },
        "xaxis": {
         "anchor": "y",
         "domain": [
          0,
          1
         ],
         "linecolor": "#3b0280",
         "matches": "x",
         "mirror": true,
         "showgrid": false,
         "title": {
          "text": "Chunk"
         },
         "zeroline": false
        },
        "yaxis": {
         "anchor": "x",
         "domain": [
          0,
          1
         ],
         "linecolor": "#3b0280",
         "mirror": true,
         "showgrid": false,
         "title": {
          "text": "Missing Values Rate"
         },
         "zeroline": false
        }
       }
      }
     },
     "metadata": {},
     "output_type": "display_data"
    },
    {
     "data": {
      "application/vnd.plotly.v1+json": {
       "config": {
        "plotlyServerURL": "https://plot.ly"
       },
       "data": [
        {
         "hoverinfo": "skip",
         "legendgroup": "metric_reference",
         "line": {
          "color": "#00c8e5",
          "shape": "hv",
          "width": 2
         },
         "mode": "lines",
         "name": "Metric",
         "showlegend": true,
         "type": "scatter",
         "x": [
          0,
          1,
          2,
          3,
          4,
          5,
          6,
          7,
          8,
          9,
          10
         ],
         "xaxis": "x",
         "y": [
          0,
          0,
          0,
          0,
          0,
          0,
          0,
          0,
          0,
          0,
          0
         ],
         "yaxis": "y"
        },
        {
         "customdata": [
          [
           "Missing Values Rate for <b>driver_tenure</b>",
           "<b style=\"color:#00c8e5;line-height:60px\">Reference</b>",
           "",
           "[0:4999]",
           "Chunk index: <b>0</b>",
           0,
           0
          ],
          [
           "Missing Values Rate for <b>driver_tenure</b>",
           "<b style=\"color:#00c8e5;line-height:60px\">Reference</b>",
           "",
           "[5000:9999]",
           "Chunk index: <b>1</b>",
           0,
           0
          ],
          [
           "Missing Values Rate for <b>driver_tenure</b>",
           "<b style=\"color:#00c8e5;line-height:60px\">Reference</b>",
           "",
           "[10000:14999]",
           "Chunk index: <b>2</b>",
           0,
           0
          ],
          [
           "Missing Values Rate for <b>driver_tenure</b>",
           "<b style=\"color:#00c8e5;line-height:60px\">Reference</b>",
           "",
           "[15000:19999]",
           "Chunk index: <b>3</b>",
           0,
           0
          ],
          [
           "Missing Values Rate for <b>driver_tenure</b>",
           "<b style=\"color:#00c8e5;line-height:60px\">Reference</b>",
           "",
           "[20000:24999]",
           "Chunk index: <b>4</b>",
           0,
           0
          ],
          [
           "Missing Values Rate for <b>driver_tenure</b>",
           "<b style=\"color:#00c8e5;line-height:60px\">Reference</b>",
           "",
           "[25000:29999]",
           "Chunk index: <b>5</b>",
           0,
           0
          ],
          [
           "Missing Values Rate for <b>driver_tenure</b>",
           "<b style=\"color:#00c8e5;line-height:60px\">Reference</b>",
           "",
           "[30000:34999]",
           "Chunk index: <b>6</b>",
           0,
           0
          ],
          [
           "Missing Values Rate for <b>driver_tenure</b>",
           "<b style=\"color:#00c8e5;line-height:60px\">Reference</b>",
           "",
           "[35000:39999]",
           "Chunk index: <b>7</b>",
           0,
           0
          ],
          [
           "Missing Values Rate for <b>driver_tenure</b>",
           "<b style=\"color:#00c8e5;line-height:60px\">Reference</b>",
           "",
           "[40000:44999]",
           "Chunk index: <b>8</b>",
           0,
           0
          ],
          [
           "Missing Values Rate for <b>driver_tenure</b>",
           "<b style=\"color:#00c8e5;line-height:60px\">Reference</b>",
           "",
           "[45000:49999]",
           "Chunk index: <b>9</b>",
           0,
           0
          ]
         ],
         "hovertemplate": "%{customdata[1]} &nbsp; &nbsp; %{customdata[2]} <br />Chunk: <b>%{customdata[3]}</b> &nbsp; &nbsp; %{customdata[4]} <br />%{customdata[0]}: <b>%{customdata[5]}</b><br />Confidence band: +/- <b>%{customdata[6]}</b><br /><extra></extra>",
         "legendgroup": "metric_reference",
         "marker": {
          "color": "#00c8e5",
          "size": 5,
          "symbol": "circle"
         },
         "mode": "markers",
         "name": "Metric",
         "showlegend": false,
         "type": "scatter",
         "x": [
          0.5,
          1.5,
          2.5,
          3.5,
          4.5,
          5.5,
          6.5,
          7.5,
          8.5,
          9.5
         ],
         "xaxis": "x",
         "y": [
          0,
          0,
          0,
          0,
          0,
          0,
          0,
          0,
          0,
          0,
          0
         ],
         "yaxis": "y"
        },
        {
         "hoverinfo": "skip",
         "legendgroup": "metric_analysis",
         "line": {
          "color": "#00c8e5",
          "shape": "hv",
          "width": 2
         },
         "mode": "lines",
         "name": "Metric",
         "showlegend": false,
         "type": "scatter",
         "x": [
          10,
          11,
          12,
          13,
          14,
          15,
          16,
          17,
          18,
          19,
          20
         ],
         "xaxis": "x",
         "y": [
          0,
          0,
          0,
          0,
          0,
          0,
          0,
          0,
          0,
          0,
          0
         ],
         "yaxis": "y"
        },
        {
         "customdata": [
          [
           "Missing Values Rate for <b>driver_tenure</b>",
           "<b style=\"color:#3b0280;line-height:60px\">Analysis</b>",
           "",
           "[0:4999]",
           "Chunk index: <b>0</b>",
           0,
           0
          ],
          [
           "Missing Values Rate for <b>driver_tenure</b>",
           "<b style=\"color:#3b0280;line-height:60px\">Analysis</b>",
           "",
           "[5000:9999]",
           "Chunk index: <b>1</b>",
           0,
           0
          ],
          [
           "Missing Values Rate for <b>driver_tenure</b>",
           "<b style=\"color:#3b0280;line-height:60px\">Analysis</b>",
           "",
           "[10000:14999]",
           "Chunk index: <b>2</b>",
           0,
           0
          ],
          [
           "Missing Values Rate for <b>driver_tenure</b>",
           "<b style=\"color:#3b0280;line-height:60px\">Analysis</b>",
           "",
           "[15000:19999]",
           "Chunk index: <b>3</b>",
           0,
           0
          ],
          [
           "Missing Values Rate for <b>driver_tenure</b>",
           "<b style=\"color:#3b0280;line-height:60px\">Analysis</b>",
           "",
           "[20000:24999]",
           "Chunk index: <b>4</b>",
           0,
           0
          ],
          [
           "Missing Values Rate for <b>driver_tenure</b>",
           "<b style=\"color:#3b0280;line-height:60px\">Analysis</b>",
           "",
           "[25000:29999]",
           "Chunk index: <b>5</b>",
           0,
           0
          ],
          [
           "Missing Values Rate for <b>driver_tenure</b>",
           "<b style=\"color:#3b0280;line-height:60px\">Analysis</b>",
           "",
           "[30000:34999]",
           "Chunk index: <b>6</b>",
           0,
           0
          ],
          [
           "Missing Values Rate for <b>driver_tenure</b>",
           "<b style=\"color:#3b0280;line-height:60px\">Analysis</b>",
           "",
           "[35000:39999]",
           "Chunk index: <b>7</b>",
           0,
           0
          ],
          [
           "Missing Values Rate for <b>driver_tenure</b>",
           "<b style=\"color:#3b0280;line-height:60px\">Analysis</b>",
           "",
           "[40000:44999]",
           "Chunk index: <b>8</b>",
           0,
           0
          ],
          [
           "Missing Values Rate for <b>driver_tenure</b>",
           "<b style=\"color:#3b0280;line-height:60px\">Analysis</b>",
           "",
           "[45000:49999]",
           "Chunk index: <b>9</b>",
           0,
           0
          ]
         ],
         "hovertemplate": "%{customdata[1]} &nbsp; &nbsp; %{customdata[2]} <br />Chunk: <b>%{customdata[3]}</b> &nbsp; &nbsp; %{customdata[4]} <br />%{customdata[0]}: <b>%{customdata[5]}</b><br />Confidence band: +/- <b>%{customdata[6]}</b><br /><extra></extra>",
         "legendgroup": "metric_analysis",
         "marker": {
          "color": "#00c8e5",
          "size": 5,
          "symbol": "circle"
         },
         "mode": "markers",
         "name": "Metric",
         "showlegend": false,
         "type": "scatter",
         "x": [
          10.5,
          11.5,
          12.5,
          13.5,
          14.5,
          15.5,
          16.5,
          17.5,
          18.5,
          19.5
         ],
         "xaxis": "x",
         "y": [
          0,
          0,
          0,
          0,
          0,
          0,
          0,
          0,
          0,
          0,
          0
         ],
         "yaxis": "y"
        },
        {
         "hoverinfo": "skip",
         "legendgroup": "alert",
         "marker": {
          "color": "#DD4040",
          "size": 8,
          "symbol": "diamond"
         },
         "mode": "markers",
         "name": "Alert",
         "showlegend": true,
         "type": "scatter",
         "x": [],
         "xaxis": "x",
         "y": [],
         "yaxis": "y"
        },
        {
         "hoverinfo": "skip",
         "legendgroup": "thresh",
         "line": {
          "color": "#DD4040",
          "dash": "dash",
          "width": 2
         },
         "mode": "lines",
         "name": "Threshold",
         "showlegend": true,
         "type": "scatter",
         "x": [
          0,
          1,
          2,
          3,
          4,
          5,
          6,
          7,
          8,
          9,
          10
         ],
         "xaxis": "x",
         "y": [
          0,
          0,
          0,
          0,
          0,
          0,
          0,
          0,
          0,
          0,
          0
         ],
         "yaxis": "y"
        },
        {
         "hoverinfo": "skip",
         "legendgroup": "thresh",
         "line": {
          "color": "#DD4040",
          "dash": "dash",
          "width": 2
         },
         "mode": "lines",
         "name": "Threshold",
         "showlegend": false,
         "type": "scatter",
         "x": [
          0,
          1,
          2,
          3,
          4,
          5,
          6,
          7,
          8,
          9,
          10
         ],
         "xaxis": "x",
         "y": [
          0,
          0,
          0,
          0,
          0,
          0,
          0,
          0,
          0,
          0,
          0
         ],
         "yaxis": "y"
        },
        {
         "hoverinfo": "skip",
         "legendgroup": "thresh",
         "line": {
          "color": "#DD4040",
          "dash": "dash",
          "width": 2
         },
         "mode": "lines",
         "name": "Threshold",
         "showlegend": false,
         "type": "scatter",
         "x": [
          10,
          11,
          12,
          13,
          14,
          15,
          16,
          17,
          18,
          19,
          20
         ],
         "xaxis": "x",
         "y": [
          0,
          0,
          0,
          0,
          0,
          0,
          0,
          0,
          0,
          0,
          0
         ],
         "yaxis": "y"
        },
        {
         "hoverinfo": "skip",
         "legendgroup": "thresh",
         "line": {
          "color": "#DD4040",
          "dash": "dash",
          "width": 2
         },
         "mode": "lines",
         "name": "Threshold",
         "showlegend": false,
         "type": "scatter",
         "x": [
          10,
          11,
          12,
          13,
          14,
          15,
          16,
          17,
          18,
          19,
          20
         ],
         "xaxis": "x",
         "y": [
          0,
          0,
          0,
          0,
          0,
          0,
          0,
          0,
          0,
          0,
          0
         ],
         "yaxis": "y"
        },
        {
         "hoverinfo": "skip",
         "line": {
          "color": "rgba(0,0,0,0)",
          "shape": "hv"
         },
         "mode": "lines",
         "name": "Confidence band",
         "showlegend": false,
         "type": "scatter",
         "x": [
          0,
          1,
          2,
          3,
          4,
          5,
          6,
          7,
          8,
          9,
          10
         ],
         "xaxis": "x",
         "y": [
          0,
          0,
          0,
          0,
          0,
          0,
          0,
          0,
          0,
          0,
          0
         ],
         "yaxis": "y"
        },
        {
         "fill": "tonexty",
         "fillcolor": "rgba(0.0, 0.7843137254901961, 0.8980392156862745, 0.2)",
         "hoverinfo": "skip",
         "line": {
          "color": "rgba(0,0,0,0)",
          "shape": "hv"
         },
         "mode": "lines",
         "name": "Confidence band",
         "showlegend": true,
         "type": "scatter",
         "x": [
          0,
          1,
          2,
          3,
          4,
          5,
          6,
          7,
          8,
          9,
          10
         ],
         "xaxis": "x",
         "y": [
          0,
          0,
          0,
          0,
          0,
          0,
          0,
          0,
          0,
          0,
          0
         ],
         "yaxis": "y"
        },
        {
         "hoverinfo": "skip",
         "line": {
          "color": "rgba(0,0,0,0)",
          "shape": "hv"
         },
         "mode": "lines",
         "name": "Confidence band",
         "showlegend": false,
         "type": "scatter",
         "x": [
          10,
          11,
          12,
          13,
          14,
          15,
          16,
          17,
          18,
          19,
          20
         ],
         "xaxis": "x",
         "y": [
          0,
          0,
          0,
          0,
          0,
          0,
          0,
          0,
          0,
          0,
          0
         ],
         "yaxis": "y"
        },
        {
         "fill": "tonexty",
         "fillcolor": "rgba(0.0, 0.7843137254901961, 0.8980392156862745, 0.2)",
         "hoverinfo": "skip",
         "line": {
          "color": "rgba(0,0,0,0)",
          "shape": "hv"
         },
         "mode": "lines",
         "name": "Confidence band",
         "showlegend": false,
         "type": "scatter",
         "x": [
          10,
          11,
          12,
          13,
          14,
          15,
          16,
          17,
          18,
          19,
          20
         ],
         "xaxis": "x",
         "y": [
          0,
          0,
          0,
          0,
          0,
          0,
          0,
          0,
          0,
          0,
          0
         ],
         "yaxis": "y"
        }
       ],
       "layout": {
        "annotations": [
         {
          "font": {
           "size": 16
          },
          "showarrow": false,
          "text": "Missing Values Rate for <b>driver_tenure</b>",
          "x": 0.5,
          "xanchor": "center",
          "xref": "paper",
          "y": 1,
          "yanchor": "bottom",
          "yref": "paper"
         },
         {
          "showarrow": false,
          "text": "Reference",
          "x": 4.5,
          "xref": "x",
          "xshift": 10,
          "y": 1.01,
          "yref": "y domain"
         },
         {
          "showarrow": false,
          "text": "Analysis",
          "x": 14.5,
          "xref": "x",
          "xshift": 15,
          "y": 1.01,
          "yref": "y domain"
         }
        ],
        "height": 500,
        "hoverlabel": {
         "bgcolor": "white",
         "font": {
          "size": 14
         }
        },
        "legend": {
         "itemclick": false,
         "itemdoubleclick": false,
         "traceorder": "grouped"
        },
        "paper_bgcolor": "rgba(255,255,255,1)",
        "plot_bgcolor": "rgba(255,255,255,1)",
        "shapes": [
         {
          "layer": "below",
          "line": {
           "color": "#666666",
           "width": 1
          },
          "type": "line",
          "x0": 10,
          "x1": 10,
          "xref": "x",
          "y0": 0,
          "y1": 1,
          "yref": "y domain"
         }
        ],
        "template": {
         "data": {
          "bar": [
           {
            "error_x": {
             "color": "#2a3f5f"
            },
            "error_y": {
             "color": "#2a3f5f"
            },
            "marker": {
             "line": {
              "color": "#E5ECF6",
              "width": 0.5
             },
             "pattern": {
              "fillmode": "overlay",
              "size": 10,
              "solidity": 0.2
             }
            },
            "type": "bar"
           }
          ],
          "barpolar": [
           {
            "marker": {
             "line": {
              "color": "#E5ECF6",
              "width": 0.5
             },
             "pattern": {
              "fillmode": "overlay",
              "size": 10,
              "solidity": 0.2
             }
            },
            "type": "barpolar"
           }
          ],
          "carpet": [
           {
            "aaxis": {
             "endlinecolor": "#2a3f5f",
             "gridcolor": "white",
             "linecolor": "white",
             "minorgridcolor": "white",
             "startlinecolor": "#2a3f5f"
            },
            "baxis": {
             "endlinecolor": "#2a3f5f",
             "gridcolor": "white",
             "linecolor": "white",
             "minorgridcolor": "white",
             "startlinecolor": "#2a3f5f"
            },
            "type": "carpet"
           }
          ],
          "choropleth": [
           {
            "colorbar": {
             "outlinewidth": 0,
             "ticks": ""
            },
            "type": "choropleth"
           }
          ],
          "contour": [
           {
            "colorbar": {
             "outlinewidth": 0,
             "ticks": ""
            },
            "colorscale": [
             [
              0,
              "#0d0887"
             ],
             [
              0.1111111111111111,
              "#46039f"
             ],
             [
              0.2222222222222222,
              "#7201a8"
             ],
             [
              0.3333333333333333,
              "#9c179e"
             ],
             [
              0.4444444444444444,
              "#bd3786"
             ],
             [
              0.5555555555555556,
              "#d8576b"
             ],
             [
              0.6666666666666666,
              "#ed7953"
             ],
             [
              0.7777777777777778,
              "#fb9f3a"
             ],
             [
              0.8888888888888888,
              "#fdca26"
             ],
             [
              1,
              "#f0f921"
             ]
            ],
            "type": "contour"
           }
          ],
          "contourcarpet": [
           {
            "colorbar": {
             "outlinewidth": 0,
             "ticks": ""
            },
            "type": "contourcarpet"
           }
          ],
          "heatmap": [
           {
            "colorbar": {
             "outlinewidth": 0,
             "ticks": ""
            },
            "colorscale": [
             [
              0,
              "#0d0887"
             ],
             [
              0.1111111111111111,
              "#46039f"
             ],
             [
              0.2222222222222222,
              "#7201a8"
             ],
             [
              0.3333333333333333,
              "#9c179e"
             ],
             [
              0.4444444444444444,
              "#bd3786"
             ],
             [
              0.5555555555555556,
              "#d8576b"
             ],
             [
              0.6666666666666666,
              "#ed7953"
             ],
             [
              0.7777777777777778,
              "#fb9f3a"
             ],
             [
              0.8888888888888888,
              "#fdca26"
             ],
             [
              1,
              "#f0f921"
             ]
            ],
            "type": "heatmap"
           }
          ],
          "heatmapgl": [
           {
            "colorbar": {
             "outlinewidth": 0,
             "ticks": ""
            },
            "colorscale": [
             [
              0,
              "#0d0887"
             ],
             [
              0.1111111111111111,
              "#46039f"
             ],
             [
              0.2222222222222222,
              "#7201a8"
             ],
             [
              0.3333333333333333,
              "#9c179e"
             ],
             [
              0.4444444444444444,
              "#bd3786"
             ],
             [
              0.5555555555555556,
              "#d8576b"
             ],
             [
              0.6666666666666666,
              "#ed7953"
             ],
             [
              0.7777777777777778,
              "#fb9f3a"
             ],
             [
              0.8888888888888888,
              "#fdca26"
             ],
             [
              1,
              "#f0f921"
             ]
            ],
            "type": "heatmapgl"
           }
          ],
          "histogram": [
           {
            "marker": {
             "pattern": {
              "fillmode": "overlay",
              "size": 10,
              "solidity": 0.2
             }
            },
            "type": "histogram"
           }
          ],
          "histogram2d": [
           {
            "colorbar": {
             "outlinewidth": 0,
             "ticks": ""
            },
            "colorscale": [
             [
              0,
              "#0d0887"
             ],
             [
              0.1111111111111111,
              "#46039f"
             ],
             [
              0.2222222222222222,
              "#7201a8"
             ],
             [
              0.3333333333333333,
              "#9c179e"
             ],
             [
              0.4444444444444444,
              "#bd3786"
             ],
             [
              0.5555555555555556,
              "#d8576b"
             ],
             [
              0.6666666666666666,
              "#ed7953"
             ],
             [
              0.7777777777777778,
              "#fb9f3a"
             ],
             [
              0.8888888888888888,
              "#fdca26"
             ],
             [
              1,
              "#f0f921"
             ]
            ],
            "type": "histogram2d"
           }
          ],
          "histogram2dcontour": [
           {
            "colorbar": {
             "outlinewidth": 0,
             "ticks": ""
            },
            "colorscale": [
             [
              0,
              "#0d0887"
             ],
             [
              0.1111111111111111,
              "#46039f"
             ],
             [
              0.2222222222222222,
              "#7201a8"
             ],
             [
              0.3333333333333333,
              "#9c179e"
             ],
             [
              0.4444444444444444,
              "#bd3786"
             ],
             [
              0.5555555555555556,
              "#d8576b"
             ],
             [
              0.6666666666666666,
              "#ed7953"
             ],
             [
              0.7777777777777778,
              "#fb9f3a"
             ],
             [
              0.8888888888888888,
              "#fdca26"
             ],
             [
              1,
              "#f0f921"
             ]
            ],
            "type": "histogram2dcontour"
           }
          ],
          "mesh3d": [
           {
            "colorbar": {
             "outlinewidth": 0,
             "ticks": ""
            },
            "type": "mesh3d"
           }
          ],
          "parcoords": [
           {
            "line": {
             "colorbar": {
              "outlinewidth": 0,
              "ticks": ""
             }
            },
            "type": "parcoords"
           }
          ],
          "pie": [
           {
            "automargin": true,
            "type": "pie"
           }
          ],
          "scatter": [
           {
            "fillpattern": {
             "fillmode": "overlay",
             "size": 10,
             "solidity": 0.2
            },
            "type": "scatter"
           }
          ],
          "scatter3d": [
           {
            "line": {
             "colorbar": {
              "outlinewidth": 0,
              "ticks": ""
             }
            },
            "marker": {
             "colorbar": {
              "outlinewidth": 0,
              "ticks": ""
             }
            },
            "type": "scatter3d"
           }
          ],
          "scattercarpet": [
           {
            "marker": {
             "colorbar": {
              "outlinewidth": 0,
              "ticks": ""
             }
            },
            "type": "scattercarpet"
           }
          ],
          "scattergeo": [
           {
            "marker": {
             "colorbar": {
              "outlinewidth": 0,
              "ticks": ""
             }
            },
            "type": "scattergeo"
           }
          ],
          "scattergl": [
           {
            "marker": {
             "colorbar": {
              "outlinewidth": 0,
              "ticks": ""
             }
            },
            "type": "scattergl"
           }
          ],
          "scattermapbox": [
           {
            "marker": {
             "colorbar": {
              "outlinewidth": 0,
              "ticks": ""
             }
            },
            "type": "scattermapbox"
           }
          ],
          "scatterpolar": [
           {
            "marker": {
             "colorbar": {
              "outlinewidth": 0,
              "ticks": ""
             }
            },
            "type": "scatterpolar"
           }
          ],
          "scatterpolargl": [
           {
            "marker": {
             "colorbar": {
              "outlinewidth": 0,
              "ticks": ""
             }
            },
            "type": "scatterpolargl"
           }
          ],
          "scatterternary": [
           {
            "marker": {
             "colorbar": {
              "outlinewidth": 0,
              "ticks": ""
             }
            },
            "type": "scatterternary"
           }
          ],
          "surface": [
           {
            "colorbar": {
             "outlinewidth": 0,
             "ticks": ""
            },
            "colorscale": [
             [
              0,
              "#0d0887"
             ],
             [
              0.1111111111111111,
              "#46039f"
             ],
             [
              0.2222222222222222,
              "#7201a8"
             ],
             [
              0.3333333333333333,
              "#9c179e"
             ],
             [
              0.4444444444444444,
              "#bd3786"
             ],
             [
              0.5555555555555556,
              "#d8576b"
             ],
             [
              0.6666666666666666,
              "#ed7953"
             ],
             [
              0.7777777777777778,
              "#fb9f3a"
             ],
             [
              0.8888888888888888,
              "#fdca26"
             ],
             [
              1,
              "#f0f921"
             ]
            ],
            "type": "surface"
           }
          ],
          "table": [
           {
            "cells": {
             "fill": {
              "color": "#EBF0F8"
             },
             "line": {
              "color": "white"
             }
            },
            "header": {
             "fill": {
              "color": "#C8D4E3"
             },
             "line": {
              "color": "white"
             }
            },
            "type": "table"
           }
          ]
         },
         "layout": {
          "annotationdefaults": {
           "arrowcolor": "#2a3f5f",
           "arrowhead": 0,
           "arrowwidth": 1
          },
          "autotypenumbers": "strict",
          "coloraxis": {
           "colorbar": {
            "outlinewidth": 0,
            "ticks": ""
           }
          },
          "colorscale": {
           "diverging": [
            [
             0,
             "#8e0152"
            ],
            [
             0.1,
             "#c51b7d"
            ],
            [
             0.2,
             "#de77ae"
            ],
            [
             0.3,
             "#f1b6da"
            ],
            [
             0.4,
             "#fde0ef"
            ],
            [
             0.5,
             "#f7f7f7"
            ],
            [
             0.6,
             "#e6f5d0"
            ],
            [
             0.7,
             "#b8e186"
            ],
            [
             0.8,
             "#7fbc41"
            ],
            [
             0.9,
             "#4d9221"
            ],
            [
             1,
             "#276419"
            ]
           ],
           "sequential": [
            [
             0,
             "#0d0887"
            ],
            [
             0.1111111111111111,
             "#46039f"
            ],
            [
             0.2222222222222222,
             "#7201a8"
            ],
            [
             0.3333333333333333,
             "#9c179e"
            ],
            [
             0.4444444444444444,
             "#bd3786"
            ],
            [
             0.5555555555555556,
             "#d8576b"
            ],
            [
             0.6666666666666666,
             "#ed7953"
            ],
            [
             0.7777777777777778,
             "#fb9f3a"
            ],
            [
             0.8888888888888888,
             "#fdca26"
            ],
            [
             1,
             "#f0f921"
            ]
           ],
           "sequentialminus": [
            [
             0,
             "#0d0887"
            ],
            [
             0.1111111111111111,
             "#46039f"
            ],
            [
             0.2222222222222222,
             "#7201a8"
            ],
            [
             0.3333333333333333,
             "#9c179e"
            ],
            [
             0.4444444444444444,
             "#bd3786"
            ],
            [
             0.5555555555555556,
             "#d8576b"
            ],
            [
             0.6666666666666666,
             "#ed7953"
            ],
            [
             0.7777777777777778,
             "#fb9f3a"
            ],
            [
             0.8888888888888888,
             "#fdca26"
            ],
            [
             1,
             "#f0f921"
            ]
           ]
          },
          "colorway": [
           "#636efa",
           "#EF553B",
           "#00cc96",
           "#ab63fa",
           "#FFA15A",
           "#19d3f3",
           "#FF6692",
           "#B6E880",
           "#FF97FF",
           "#FECB52"
          ],
          "font": {
           "color": "#2a3f5f"
          },
          "geo": {
           "bgcolor": "white",
           "lakecolor": "white",
           "landcolor": "#E5ECF6",
           "showlakes": true,
           "showland": true,
           "subunitcolor": "white"
          },
          "hoverlabel": {
           "align": "left"
          },
          "hovermode": "closest",
          "mapbox": {
           "style": "light"
          },
          "paper_bgcolor": "white",
          "plot_bgcolor": "#E5ECF6",
          "polar": {
           "angularaxis": {
            "gridcolor": "white",
            "linecolor": "white",
            "ticks": ""
           },
           "bgcolor": "#E5ECF6",
           "radialaxis": {
            "gridcolor": "white",
            "linecolor": "white",
            "ticks": ""
           }
          },
          "scene": {
           "xaxis": {
            "backgroundcolor": "#E5ECF6",
            "gridcolor": "white",
            "gridwidth": 2,
            "linecolor": "white",
            "showbackground": true,
            "ticks": "",
            "zerolinecolor": "white"
           },
           "yaxis": {
            "backgroundcolor": "#E5ECF6",
            "gridcolor": "white",
            "gridwidth": 2,
            "linecolor": "white",
            "showbackground": true,
            "ticks": "",
            "zerolinecolor": "white"
           },
           "zaxis": {
            "backgroundcolor": "#E5ECF6",
            "gridcolor": "white",
            "gridwidth": 2,
            "linecolor": "white",
            "showbackground": true,
            "ticks": "",
            "zerolinecolor": "white"
           }
          },
          "shapedefaults": {
           "line": {
            "color": "#2a3f5f"
           }
          },
          "ternary": {
           "aaxis": {
            "gridcolor": "white",
            "linecolor": "white",
            "ticks": ""
           },
           "baxis": {
            "gridcolor": "white",
            "linecolor": "white",
            "ticks": ""
           },
           "bgcolor": "#E5ECF6",
           "caxis": {
            "gridcolor": "white",
            "linecolor": "white",
            "ticks": ""
           }
          },
          "title": {
           "x": 0.05
          },
          "xaxis": {
           "automargin": true,
           "gridcolor": "white",
           "linecolor": "white",
           "ticks": "",
           "title": {
            "standoff": 15
           },
           "zerolinecolor": "white",
           "zerolinewidth": 2
          },
          "yaxis": {
           "automargin": true,
           "gridcolor": "white",
           "linecolor": "white",
           "ticks": "",
           "title": {
            "standoff": 15
           },
           "zerolinecolor": "white",
           "zerolinewidth": 2
          }
         }
        },
        "title": {
         "text": "Data Quality "
        },
        "xaxis": {
         "anchor": "y",
         "domain": [
          0,
          1
         ],
         "linecolor": "#3b0280",
         "matches": "x",
         "mirror": true,
         "showgrid": false,
         "title": {
          "text": "Chunk"
         },
         "zeroline": false
        },
        "yaxis": {
         "anchor": "x",
         "domain": [
          0,
          1
         ],
         "linecolor": "#3b0280",
         "mirror": true,
         "showgrid": false,
         "title": {
          "text": "Missing Values Rate"
         },
         "zeroline": false
        }
       }
      }
     },
     "metadata": {},
     "output_type": "display_data"
    }
   ],
   "source": [
    "calc = nml.MissingValuesCalculator(\n",
    "    column_names=feature_column_names,\n",
    ")\n",
    "\n",
    "calc.fit(reference_df)\n",
    "results = calc.calculate(analysis_df)\n",
    "display(results.filter(period='all').to_df())\n",
    "\n",
    "for column_name in results.column_names:\n",
    "    results.filter(column_names=column_name).plot().show()"
   ]
  },
  {
   "attachments": {},
   "cell_type": "markdown",
   "metadata": {},
   "source": [
    "## Unseen Values Detection"
   ]
  },
  {
   "cell_type": "code",
   "execution_count": 21,
   "metadata": {},
   "outputs": [],
   "source": [
    "categorical_columns = ['salary_range', 'repaid_loan_on_prev_car']"
   ]
  },
  {
   "cell_type": "code",
   "execution_count": 22,
   "metadata": {},
   "outputs": [
    {
     "data": {
      "text/html": [
       "<div>\n",
       "<style scoped>\n",
       "    .dataframe tbody tr th:only-of-type {\n",
       "        vertical-align: middle;\n",
       "    }\n",
       "\n",
       "    .dataframe tbody tr th {\n",
       "        vertical-align: top;\n",
       "    }\n",
       "\n",
       "    .dataframe thead tr th {\n",
       "        text-align: left;\n",
       "    }\n",
       "</style>\n",
       "<table border=\"1\" class=\"dataframe\">\n",
       "  <thead>\n",
       "    <tr>\n",
       "      <th></th>\n",
       "      <th colspan=\"7\" halign=\"left\">chunk</th>\n",
       "      <th colspan=\"4\" halign=\"left\">salary_range</th>\n",
       "      <th colspan=\"4\" halign=\"left\">repaid_loan_on_prev_car</th>\n",
       "    </tr>\n",
       "    <tr>\n",
       "      <th></th>\n",
       "      <th>key</th>\n",
       "      <th>chunk_index</th>\n",
       "      <th>start_index</th>\n",
       "      <th>end_index</th>\n",
       "      <th>start_date</th>\n",
       "      <th>end_date</th>\n",
       "      <th>period</th>\n",
       "      <th>value</th>\n",
       "      <th>upper_threshold</th>\n",
       "      <th>lower_threshold</th>\n",
       "      <th>alert</th>\n",
       "      <th>value</th>\n",
       "      <th>upper_threshold</th>\n",
       "      <th>lower_threshold</th>\n",
       "      <th>alert</th>\n",
       "    </tr>\n",
       "  </thead>\n",
       "  <tbody>\n",
       "    <tr>\n",
       "      <th>0</th>\n",
       "      <td>[0:4999]</td>\n",
       "      <td>0</td>\n",
       "      <td>0</td>\n",
       "      <td>4999</td>\n",
       "      <td>None</td>\n",
       "      <td>None</td>\n",
       "      <td>reference</td>\n",
       "      <td>0.0</td>\n",
       "      <td>0</td>\n",
       "      <td>None</td>\n",
       "      <td>False</td>\n",
       "      <td>0.0</td>\n",
       "      <td>0</td>\n",
       "      <td>None</td>\n",
       "      <td>False</td>\n",
       "    </tr>\n",
       "    <tr>\n",
       "      <th>1</th>\n",
       "      <td>[5000:9999]</td>\n",
       "      <td>1</td>\n",
       "      <td>5000</td>\n",
       "      <td>9999</td>\n",
       "      <td>None</td>\n",
       "      <td>None</td>\n",
       "      <td>reference</td>\n",
       "      <td>0.0</td>\n",
       "      <td>0</td>\n",
       "      <td>None</td>\n",
       "      <td>False</td>\n",
       "      <td>0.0</td>\n",
       "      <td>0</td>\n",
       "      <td>None</td>\n",
       "      <td>False</td>\n",
       "    </tr>\n",
       "    <tr>\n",
       "      <th>2</th>\n",
       "      <td>[10000:14999]</td>\n",
       "      <td>2</td>\n",
       "      <td>10000</td>\n",
       "      <td>14999</td>\n",
       "      <td>None</td>\n",
       "      <td>None</td>\n",
       "      <td>reference</td>\n",
       "      <td>0.0</td>\n",
       "      <td>0</td>\n",
       "      <td>None</td>\n",
       "      <td>False</td>\n",
       "      <td>0.0</td>\n",
       "      <td>0</td>\n",
       "      <td>None</td>\n",
       "      <td>False</td>\n",
       "    </tr>\n",
       "    <tr>\n",
       "      <th>3</th>\n",
       "      <td>[15000:19999]</td>\n",
       "      <td>3</td>\n",
       "      <td>15000</td>\n",
       "      <td>19999</td>\n",
       "      <td>None</td>\n",
       "      <td>None</td>\n",
       "      <td>reference</td>\n",
       "      <td>0.0</td>\n",
       "      <td>0</td>\n",
       "      <td>None</td>\n",
       "      <td>False</td>\n",
       "      <td>0.0</td>\n",
       "      <td>0</td>\n",
       "      <td>None</td>\n",
       "      <td>False</td>\n",
       "    </tr>\n",
       "    <tr>\n",
       "      <th>4</th>\n",
       "      <td>[20000:24999]</td>\n",
       "      <td>4</td>\n",
       "      <td>20000</td>\n",
       "      <td>24999</td>\n",
       "      <td>None</td>\n",
       "      <td>None</td>\n",
       "      <td>reference</td>\n",
       "      <td>0.0</td>\n",
       "      <td>0</td>\n",
       "      <td>None</td>\n",
       "      <td>False</td>\n",
       "      <td>0.0</td>\n",
       "      <td>0</td>\n",
       "      <td>None</td>\n",
       "      <td>False</td>\n",
       "    </tr>\n",
       "    <tr>\n",
       "      <th>5</th>\n",
       "      <td>[25000:29999]</td>\n",
       "      <td>5</td>\n",
       "      <td>25000</td>\n",
       "      <td>29999</td>\n",
       "      <td>None</td>\n",
       "      <td>None</td>\n",
       "      <td>reference</td>\n",
       "      <td>0.0</td>\n",
       "      <td>0</td>\n",
       "      <td>None</td>\n",
       "      <td>False</td>\n",
       "      <td>0.0</td>\n",
       "      <td>0</td>\n",
       "      <td>None</td>\n",
       "      <td>False</td>\n",
       "    </tr>\n",
       "    <tr>\n",
       "      <th>6</th>\n",
       "      <td>[30000:34999]</td>\n",
       "      <td>6</td>\n",
       "      <td>30000</td>\n",
       "      <td>34999</td>\n",
       "      <td>None</td>\n",
       "      <td>None</td>\n",
       "      <td>reference</td>\n",
       "      <td>0.0</td>\n",
       "      <td>0</td>\n",
       "      <td>None</td>\n",
       "      <td>False</td>\n",
       "      <td>0.0</td>\n",
       "      <td>0</td>\n",
       "      <td>None</td>\n",
       "      <td>False</td>\n",
       "    </tr>\n",
       "    <tr>\n",
       "      <th>7</th>\n",
       "      <td>[35000:39999]</td>\n",
       "      <td>7</td>\n",
       "      <td>35000</td>\n",
       "      <td>39999</td>\n",
       "      <td>None</td>\n",
       "      <td>None</td>\n",
       "      <td>reference</td>\n",
       "      <td>0.0</td>\n",
       "      <td>0</td>\n",
       "      <td>None</td>\n",
       "      <td>False</td>\n",
       "      <td>0.0</td>\n",
       "      <td>0</td>\n",
       "      <td>None</td>\n",
       "      <td>False</td>\n",
       "    </tr>\n",
       "    <tr>\n",
       "      <th>8</th>\n",
       "      <td>[40000:44999]</td>\n",
       "      <td>8</td>\n",
       "      <td>40000</td>\n",
       "      <td>44999</td>\n",
       "      <td>None</td>\n",
       "      <td>None</td>\n",
       "      <td>reference</td>\n",
       "      <td>0.0</td>\n",
       "      <td>0</td>\n",
       "      <td>None</td>\n",
       "      <td>False</td>\n",
       "      <td>0.0</td>\n",
       "      <td>0</td>\n",
       "      <td>None</td>\n",
       "      <td>False</td>\n",
       "    </tr>\n",
       "    <tr>\n",
       "      <th>9</th>\n",
       "      <td>[45000:49999]</td>\n",
       "      <td>9</td>\n",
       "      <td>45000</td>\n",
       "      <td>49999</td>\n",
       "      <td>None</td>\n",
       "      <td>None</td>\n",
       "      <td>reference</td>\n",
       "      <td>0.0</td>\n",
       "      <td>0</td>\n",
       "      <td>None</td>\n",
       "      <td>False</td>\n",
       "      <td>0.0</td>\n",
       "      <td>0</td>\n",
       "      <td>None</td>\n",
       "      <td>False</td>\n",
       "    </tr>\n",
       "    <tr>\n",
       "      <th>10</th>\n",
       "      <td>[0:4999]</td>\n",
       "      <td>0</td>\n",
       "      <td>0</td>\n",
       "      <td>4999</td>\n",
       "      <td>None</td>\n",
       "      <td>None</td>\n",
       "      <td>analysis</td>\n",
       "      <td>0.0</td>\n",
       "      <td>0</td>\n",
       "      <td>None</td>\n",
       "      <td>False</td>\n",
       "      <td>0.0</td>\n",
       "      <td>0</td>\n",
       "      <td>None</td>\n",
       "      <td>False</td>\n",
       "    </tr>\n",
       "    <tr>\n",
       "      <th>11</th>\n",
       "      <td>[5000:9999]</td>\n",
       "      <td>1</td>\n",
       "      <td>5000</td>\n",
       "      <td>9999</td>\n",
       "      <td>None</td>\n",
       "      <td>None</td>\n",
       "      <td>analysis</td>\n",
       "      <td>0.0</td>\n",
       "      <td>0</td>\n",
       "      <td>None</td>\n",
       "      <td>False</td>\n",
       "      <td>0.0</td>\n",
       "      <td>0</td>\n",
       "      <td>None</td>\n",
       "      <td>False</td>\n",
       "    </tr>\n",
       "    <tr>\n",
       "      <th>12</th>\n",
       "      <td>[10000:14999]</td>\n",
       "      <td>2</td>\n",
       "      <td>10000</td>\n",
       "      <td>14999</td>\n",
       "      <td>None</td>\n",
       "      <td>None</td>\n",
       "      <td>analysis</td>\n",
       "      <td>0.0</td>\n",
       "      <td>0</td>\n",
       "      <td>None</td>\n",
       "      <td>False</td>\n",
       "      <td>0.0</td>\n",
       "      <td>0</td>\n",
       "      <td>None</td>\n",
       "      <td>False</td>\n",
       "    </tr>\n",
       "    <tr>\n",
       "      <th>13</th>\n",
       "      <td>[15000:19999]</td>\n",
       "      <td>3</td>\n",
       "      <td>15000</td>\n",
       "      <td>19999</td>\n",
       "      <td>None</td>\n",
       "      <td>None</td>\n",
       "      <td>analysis</td>\n",
       "      <td>0.0</td>\n",
       "      <td>0</td>\n",
       "      <td>None</td>\n",
       "      <td>False</td>\n",
       "      <td>0.0</td>\n",
       "      <td>0</td>\n",
       "      <td>None</td>\n",
       "      <td>False</td>\n",
       "    </tr>\n",
       "    <tr>\n",
       "      <th>14</th>\n",
       "      <td>[20000:24999]</td>\n",
       "      <td>4</td>\n",
       "      <td>20000</td>\n",
       "      <td>24999</td>\n",
       "      <td>None</td>\n",
       "      <td>None</td>\n",
       "      <td>analysis</td>\n",
       "      <td>0.0</td>\n",
       "      <td>0</td>\n",
       "      <td>None</td>\n",
       "      <td>False</td>\n",
       "      <td>0.0</td>\n",
       "      <td>0</td>\n",
       "      <td>None</td>\n",
       "      <td>False</td>\n",
       "    </tr>\n",
       "    <tr>\n",
       "      <th>15</th>\n",
       "      <td>[25000:29999]</td>\n",
       "      <td>5</td>\n",
       "      <td>25000</td>\n",
       "      <td>29999</td>\n",
       "      <td>None</td>\n",
       "      <td>None</td>\n",
       "      <td>analysis</td>\n",
       "      <td>0.0</td>\n",
       "      <td>0</td>\n",
       "      <td>None</td>\n",
       "      <td>False</td>\n",
       "      <td>0.0</td>\n",
       "      <td>0</td>\n",
       "      <td>None</td>\n",
       "      <td>False</td>\n",
       "    </tr>\n",
       "    <tr>\n",
       "      <th>16</th>\n",
       "      <td>[30000:34999]</td>\n",
       "      <td>6</td>\n",
       "      <td>30000</td>\n",
       "      <td>34999</td>\n",
       "      <td>None</td>\n",
       "      <td>None</td>\n",
       "      <td>analysis</td>\n",
       "      <td>0.0</td>\n",
       "      <td>0</td>\n",
       "      <td>None</td>\n",
       "      <td>False</td>\n",
       "      <td>0.0</td>\n",
       "      <td>0</td>\n",
       "      <td>None</td>\n",
       "      <td>False</td>\n",
       "    </tr>\n",
       "    <tr>\n",
       "      <th>17</th>\n",
       "      <td>[35000:39999]</td>\n",
       "      <td>7</td>\n",
       "      <td>35000</td>\n",
       "      <td>39999</td>\n",
       "      <td>None</td>\n",
       "      <td>None</td>\n",
       "      <td>analysis</td>\n",
       "      <td>0.0</td>\n",
       "      <td>0</td>\n",
       "      <td>None</td>\n",
       "      <td>False</td>\n",
       "      <td>0.0</td>\n",
       "      <td>0</td>\n",
       "      <td>None</td>\n",
       "      <td>False</td>\n",
       "    </tr>\n",
       "    <tr>\n",
       "      <th>18</th>\n",
       "      <td>[40000:44999]</td>\n",
       "      <td>8</td>\n",
       "      <td>40000</td>\n",
       "      <td>44999</td>\n",
       "      <td>None</td>\n",
       "      <td>None</td>\n",
       "      <td>analysis</td>\n",
       "      <td>0.0</td>\n",
       "      <td>0</td>\n",
       "      <td>None</td>\n",
       "      <td>False</td>\n",
       "      <td>0.0</td>\n",
       "      <td>0</td>\n",
       "      <td>None</td>\n",
       "      <td>False</td>\n",
       "    </tr>\n",
       "    <tr>\n",
       "      <th>19</th>\n",
       "      <td>[45000:49999]</td>\n",
       "      <td>9</td>\n",
       "      <td>45000</td>\n",
       "      <td>49999</td>\n",
       "      <td>None</td>\n",
       "      <td>None</td>\n",
       "      <td>analysis</td>\n",
       "      <td>0.0</td>\n",
       "      <td>0</td>\n",
       "      <td>None</td>\n",
       "      <td>False</td>\n",
       "      <td>0.0</td>\n",
       "      <td>0</td>\n",
       "      <td>None</td>\n",
       "      <td>False</td>\n",
       "    </tr>\n",
       "  </tbody>\n",
       "</table>\n",
       "</div>"
      ],
      "text/plain": [
       "            chunk                                                        \\\n",
       "              key chunk_index start_index end_index start_date end_date   \n",
       "0        [0:4999]           0           0      4999       None     None   \n",
       "1     [5000:9999]           1        5000      9999       None     None   \n",
       "2   [10000:14999]           2       10000     14999       None     None   \n",
       "3   [15000:19999]           3       15000     19999       None     None   \n",
       "4   [20000:24999]           4       20000     24999       None     None   \n",
       "5   [25000:29999]           5       25000     29999       None     None   \n",
       "6   [30000:34999]           6       30000     34999       None     None   \n",
       "7   [35000:39999]           7       35000     39999       None     None   \n",
       "8   [40000:44999]           8       40000     44999       None     None   \n",
       "9   [45000:49999]           9       45000     49999       None     None   \n",
       "10       [0:4999]           0           0      4999       None     None   \n",
       "11    [5000:9999]           1        5000      9999       None     None   \n",
       "12  [10000:14999]           2       10000     14999       None     None   \n",
       "13  [15000:19999]           3       15000     19999       None     None   \n",
       "14  [20000:24999]           4       20000     24999       None     None   \n",
       "15  [25000:29999]           5       25000     29999       None     None   \n",
       "16  [30000:34999]           6       30000     34999       None     None   \n",
       "17  [35000:39999]           7       35000     39999       None     None   \n",
       "18  [40000:44999]           8       40000     44999       None     None   \n",
       "19  [45000:49999]           9       45000     49999       None     None   \n",
       "\n",
       "              salary_range                                         \\\n",
       "       period        value upper_threshold lower_threshold  alert   \n",
       "0   reference          0.0               0            None  False   \n",
       "1   reference          0.0               0            None  False   \n",
       "2   reference          0.0               0            None  False   \n",
       "3   reference          0.0               0            None  False   \n",
       "4   reference          0.0               0            None  False   \n",
       "5   reference          0.0               0            None  False   \n",
       "6   reference          0.0               0            None  False   \n",
       "7   reference          0.0               0            None  False   \n",
       "8   reference          0.0               0            None  False   \n",
       "9   reference          0.0               0            None  False   \n",
       "10   analysis          0.0               0            None  False   \n",
       "11   analysis          0.0               0            None  False   \n",
       "12   analysis          0.0               0            None  False   \n",
       "13   analysis          0.0               0            None  False   \n",
       "14   analysis          0.0               0            None  False   \n",
       "15   analysis          0.0               0            None  False   \n",
       "16   analysis          0.0               0            None  False   \n",
       "17   analysis          0.0               0            None  False   \n",
       "18   analysis          0.0               0            None  False   \n",
       "19   analysis          0.0               0            None  False   \n",
       "\n",
       "   repaid_loan_on_prev_car                                         \n",
       "                     value upper_threshold lower_threshold  alert  \n",
       "0                      0.0               0            None  False  \n",
       "1                      0.0               0            None  False  \n",
       "2                      0.0               0            None  False  \n",
       "3                      0.0               0            None  False  \n",
       "4                      0.0               0            None  False  \n",
       "5                      0.0               0            None  False  \n",
       "6                      0.0               0            None  False  \n",
       "7                      0.0               0            None  False  \n",
       "8                      0.0               0            None  False  \n",
       "9                      0.0               0            None  False  \n",
       "10                     0.0               0            None  False  \n",
       "11                     0.0               0            None  False  \n",
       "12                     0.0               0            None  False  \n",
       "13                     0.0               0            None  False  \n",
       "14                     0.0               0            None  False  \n",
       "15                     0.0               0            None  False  \n",
       "16                     0.0               0            None  False  \n",
       "17                     0.0               0            None  False  \n",
       "18                     0.0               0            None  False  \n",
       "19                     0.0               0            None  False  "
      ]
     },
     "metadata": {},
     "output_type": "display_data"
    },
    {
     "data": {
      "application/vnd.plotly.v1+json": {
       "config": {
        "plotlyServerURL": "https://plot.ly"
       },
       "data": [
        {
         "hoverinfo": "skip",
         "legendgroup": "metric_reference",
         "line": {
          "color": "#00c8e5",
          "shape": "hv",
          "width": 2
         },
         "mode": "lines",
         "name": "Metric",
         "showlegend": true,
         "type": "scatter",
         "x": [
          0,
          1,
          2,
          3,
          4,
          5,
          6,
          7,
          8,
          9,
          10
         ],
         "xaxis": "x",
         "y": [
          0,
          0,
          0,
          0,
          0,
          0,
          0,
          0,
          0,
          0,
          0
         ],
         "yaxis": "y"
        },
        {
         "customdata": [
          [
           "Unseen Values Rate for <b>salary_range</b>",
           "<b style=\"color:#00c8e5;line-height:60px\">Reference</b>",
           "",
           "[0:4999]",
           "Chunk index: <b>0</b>",
           0
          ],
          [
           "Unseen Values Rate for <b>salary_range</b>",
           "<b style=\"color:#00c8e5;line-height:60px\">Reference</b>",
           "",
           "[5000:9999]",
           "Chunk index: <b>1</b>",
           0
          ],
          [
           "Unseen Values Rate for <b>salary_range</b>",
           "<b style=\"color:#00c8e5;line-height:60px\">Reference</b>",
           "",
           "[10000:14999]",
           "Chunk index: <b>2</b>",
           0
          ],
          [
           "Unseen Values Rate for <b>salary_range</b>",
           "<b style=\"color:#00c8e5;line-height:60px\">Reference</b>",
           "",
           "[15000:19999]",
           "Chunk index: <b>3</b>",
           0
          ],
          [
           "Unseen Values Rate for <b>salary_range</b>",
           "<b style=\"color:#00c8e5;line-height:60px\">Reference</b>",
           "",
           "[20000:24999]",
           "Chunk index: <b>4</b>",
           0
          ],
          [
           "Unseen Values Rate for <b>salary_range</b>",
           "<b style=\"color:#00c8e5;line-height:60px\">Reference</b>",
           "",
           "[25000:29999]",
           "Chunk index: <b>5</b>",
           0
          ],
          [
           "Unseen Values Rate for <b>salary_range</b>",
           "<b style=\"color:#00c8e5;line-height:60px\">Reference</b>",
           "",
           "[30000:34999]",
           "Chunk index: <b>6</b>",
           0
          ],
          [
           "Unseen Values Rate for <b>salary_range</b>",
           "<b style=\"color:#00c8e5;line-height:60px\">Reference</b>",
           "",
           "[35000:39999]",
           "Chunk index: <b>7</b>",
           0
          ],
          [
           "Unseen Values Rate for <b>salary_range</b>",
           "<b style=\"color:#00c8e5;line-height:60px\">Reference</b>",
           "",
           "[40000:44999]",
           "Chunk index: <b>8</b>",
           0
          ],
          [
           "Unseen Values Rate for <b>salary_range</b>",
           "<b style=\"color:#00c8e5;line-height:60px\">Reference</b>",
           "",
           "[45000:49999]",
           "Chunk index: <b>9</b>",
           0
          ]
         ],
         "hovertemplate": "%{customdata[1]} &nbsp; &nbsp; %{customdata[2]} <br />Chunk: <b>%{customdata[3]}</b> &nbsp; &nbsp; %{customdata[4]} <br />%{customdata[0]}: <b>%{customdata[5]}</b><b r /><extra></extra>",
         "legendgroup": "metric_reference",
         "marker": {
          "color": "#00c8e5",
          "size": 5,
          "symbol": "circle"
         },
         "mode": "markers",
         "name": "Metric",
         "showlegend": false,
         "type": "scatter",
         "x": [
          0.5,
          1.5,
          2.5,
          3.5,
          4.5,
          5.5,
          6.5,
          7.5,
          8.5,
          9.5
         ],
         "xaxis": "x",
         "y": [
          0,
          0,
          0,
          0,
          0,
          0,
          0,
          0,
          0,
          0,
          0
         ],
         "yaxis": "y"
        },
        {
         "hoverinfo": "skip",
         "legendgroup": "metric_analysis",
         "line": {
          "color": "#00c8e5",
          "shape": "hv",
          "width": 2
         },
         "mode": "lines",
         "name": "Metric",
         "showlegend": false,
         "type": "scatter",
         "x": [
          10,
          11,
          12,
          13,
          14,
          15,
          16,
          17,
          18,
          19,
          20
         ],
         "xaxis": "x",
         "y": [
          0,
          0,
          0,
          0,
          0,
          0,
          0,
          0,
          0,
          0,
          0
         ],
         "yaxis": "y"
        },
        {
         "customdata": [
          [
           "Unseen Values Rate for <b>salary_range</b>",
           "<b style=\"color:#3b0280;line-height:60px\">Analysis</b>",
           "",
           "[0:4999]",
           "Chunk index: <b>0</b>",
           0
          ],
          [
           "Unseen Values Rate for <b>salary_range</b>",
           "<b style=\"color:#3b0280;line-height:60px\">Analysis</b>",
           "",
           "[5000:9999]",
           "Chunk index: <b>1</b>",
           0
          ],
          [
           "Unseen Values Rate for <b>salary_range</b>",
           "<b style=\"color:#3b0280;line-height:60px\">Analysis</b>",
           "",
           "[10000:14999]",
           "Chunk index: <b>2</b>",
           0
          ],
          [
           "Unseen Values Rate for <b>salary_range</b>",
           "<b style=\"color:#3b0280;line-height:60px\">Analysis</b>",
           "",
           "[15000:19999]",
           "Chunk index: <b>3</b>",
           0
          ],
          [
           "Unseen Values Rate for <b>salary_range</b>",
           "<b style=\"color:#3b0280;line-height:60px\">Analysis</b>",
           "",
           "[20000:24999]",
           "Chunk index: <b>4</b>",
           0
          ],
          [
           "Unseen Values Rate for <b>salary_range</b>",
           "<b style=\"color:#3b0280;line-height:60px\">Analysis</b>",
           "",
           "[25000:29999]",
           "Chunk index: <b>5</b>",
           0
          ],
          [
           "Unseen Values Rate for <b>salary_range</b>",
           "<b style=\"color:#3b0280;line-height:60px\">Analysis</b>",
           "",
           "[30000:34999]",
           "Chunk index: <b>6</b>",
           0
          ],
          [
           "Unseen Values Rate for <b>salary_range</b>",
           "<b style=\"color:#3b0280;line-height:60px\">Analysis</b>",
           "",
           "[35000:39999]",
           "Chunk index: <b>7</b>",
           0
          ],
          [
           "Unseen Values Rate for <b>salary_range</b>",
           "<b style=\"color:#3b0280;line-height:60px\">Analysis</b>",
           "",
           "[40000:44999]",
           "Chunk index: <b>8</b>",
           0
          ],
          [
           "Unseen Values Rate for <b>salary_range</b>",
           "<b style=\"color:#3b0280;line-height:60px\">Analysis</b>",
           "",
           "[45000:49999]",
           "Chunk index: <b>9</b>",
           0
          ]
         ],
         "hovertemplate": "%{customdata[1]} &nbsp; &nbsp; %{customdata[2]} <br />Chunk: <b>%{customdata[3]}</b> &nbsp; &nbsp; %{customdata[4]} <br />%{customdata[0]}: <b>%{customdata[5]}</b><b r /><extra></extra>",
         "legendgroup": "metric_analysis",
         "marker": {
          "color": "#00c8e5",
          "size": 5,
          "symbol": "circle"
         },
         "mode": "markers",
         "name": "Metric",
         "showlegend": false,
         "type": "scatter",
         "x": [
          10.5,
          11.5,
          12.5,
          13.5,
          14.5,
          15.5,
          16.5,
          17.5,
          18.5,
          19.5
         ],
         "xaxis": "x",
         "y": [
          0,
          0,
          0,
          0,
          0,
          0,
          0,
          0,
          0,
          0,
          0
         ],
         "yaxis": "y"
        },
        {
         "hoverinfo": "skip",
         "legendgroup": "alert",
         "marker": {
          "color": "#DD4040",
          "size": 8,
          "symbol": "diamond"
         },
         "mode": "markers",
         "name": "Alert",
         "showlegend": true,
         "type": "scatter",
         "x": [],
         "xaxis": "x",
         "y": [],
         "yaxis": "y"
        },
        {
         "hoverinfo": "skip",
         "legendgroup": "thresh",
         "line": {
          "color": "#DD4040",
          "dash": "dash",
          "width": 2
         },
         "mode": "lines",
         "name": "Threshold",
         "showlegend": true,
         "type": "scatter",
         "x": [
          0,
          1,
          2,
          3,
          4,
          5,
          6,
          7,
          8,
          9,
          10
         ],
         "xaxis": "x",
         "y": [
          0,
          0,
          0,
          0,
          0,
          0,
          0,
          0,
          0,
          0,
          0
         ],
         "yaxis": "y"
        },
        {
         "hoverinfo": "skip",
         "legendgroup": "thresh",
         "line": {
          "color": "#DD4040",
          "dash": "dash",
          "width": 2
         },
         "mode": "lines",
         "name": "Threshold",
         "showlegend": false,
         "type": "scatter",
         "x": [
          10,
          11,
          12,
          13,
          14,
          15,
          16,
          17,
          18,
          19,
          20
         ],
         "xaxis": "x",
         "y": [
          0,
          0,
          0,
          0,
          0,
          0,
          0,
          0,
          0,
          0,
          0
         ],
         "yaxis": "y"
        }
       ],
       "layout": {
        "annotations": [
         {
          "font": {
           "size": 16
          },
          "showarrow": false,
          "text": "Unseen Values Rate for <b>salary_range</b>",
          "x": 0.5,
          "xanchor": "center",
          "xref": "paper",
          "y": 1,
          "yanchor": "bottom",
          "yref": "paper"
         },
         {
          "showarrow": false,
          "text": "Reference",
          "x": 4.5,
          "xref": "x",
          "xshift": 10,
          "y": 1.01,
          "yref": "y domain"
         },
         {
          "showarrow": false,
          "text": "Analysis",
          "x": 14.5,
          "xref": "x",
          "xshift": 15,
          "y": 1.01,
          "yref": "y domain"
         }
        ],
        "height": 500,
        "hoverlabel": {
         "bgcolor": "white",
         "font": {
          "size": 14
         }
        },
        "legend": {
         "itemclick": false,
         "itemdoubleclick": false,
         "traceorder": "grouped"
        },
        "paper_bgcolor": "rgba(255,255,255,1)",
        "plot_bgcolor": "rgba(255,255,255,1)",
        "shapes": [
         {
          "layer": "below",
          "line": {
           "color": "#666666",
           "width": 1
          },
          "type": "line",
          "x0": 10,
          "x1": 10,
          "xref": "x",
          "y0": 0,
          "y1": 1,
          "yref": "y domain"
         }
        ],
        "template": {
         "data": {
          "bar": [
           {
            "error_x": {
             "color": "#2a3f5f"
            },
            "error_y": {
             "color": "#2a3f5f"
            },
            "marker": {
             "line": {
              "color": "#E5ECF6",
              "width": 0.5
             },
             "pattern": {
              "fillmode": "overlay",
              "size": 10,
              "solidity": 0.2
             }
            },
            "type": "bar"
           }
          ],
          "barpolar": [
           {
            "marker": {
             "line": {
              "color": "#E5ECF6",
              "width": 0.5
             },
             "pattern": {
              "fillmode": "overlay",
              "size": 10,
              "solidity": 0.2
             }
            },
            "type": "barpolar"
           }
          ],
          "carpet": [
           {
            "aaxis": {
             "endlinecolor": "#2a3f5f",
             "gridcolor": "white",
             "linecolor": "white",
             "minorgridcolor": "white",
             "startlinecolor": "#2a3f5f"
            },
            "baxis": {
             "endlinecolor": "#2a3f5f",
             "gridcolor": "white",
             "linecolor": "white",
             "minorgridcolor": "white",
             "startlinecolor": "#2a3f5f"
            },
            "type": "carpet"
           }
          ],
          "choropleth": [
           {
            "colorbar": {
             "outlinewidth": 0,
             "ticks": ""
            },
            "type": "choropleth"
           }
          ],
          "contour": [
           {
            "colorbar": {
             "outlinewidth": 0,
             "ticks": ""
            },
            "colorscale": [
             [
              0,
              "#0d0887"
             ],
             [
              0.1111111111111111,
              "#46039f"
             ],
             [
              0.2222222222222222,
              "#7201a8"
             ],
             [
              0.3333333333333333,
              "#9c179e"
             ],
             [
              0.4444444444444444,
              "#bd3786"
             ],
             [
              0.5555555555555556,
              "#d8576b"
             ],
             [
              0.6666666666666666,
              "#ed7953"
             ],
             [
              0.7777777777777778,
              "#fb9f3a"
             ],
             [
              0.8888888888888888,
              "#fdca26"
             ],
             [
              1,
              "#f0f921"
             ]
            ],
            "type": "contour"
           }
          ],
          "contourcarpet": [
           {
            "colorbar": {
             "outlinewidth": 0,
             "ticks": ""
            },
            "type": "contourcarpet"
           }
          ],
          "heatmap": [
           {
            "colorbar": {
             "outlinewidth": 0,
             "ticks": ""
            },
            "colorscale": [
             [
              0,
              "#0d0887"
             ],
             [
              0.1111111111111111,
              "#46039f"
             ],
             [
              0.2222222222222222,
              "#7201a8"
             ],
             [
              0.3333333333333333,
              "#9c179e"
             ],
             [
              0.4444444444444444,
              "#bd3786"
             ],
             [
              0.5555555555555556,
              "#d8576b"
             ],
             [
              0.6666666666666666,
              "#ed7953"
             ],
             [
              0.7777777777777778,
              "#fb9f3a"
             ],
             [
              0.8888888888888888,
              "#fdca26"
             ],
             [
              1,
              "#f0f921"
             ]
            ],
            "type": "heatmap"
           }
          ],
          "heatmapgl": [
           {
            "colorbar": {
             "outlinewidth": 0,
             "ticks": ""
            },
            "colorscale": [
             [
              0,
              "#0d0887"
             ],
             [
              0.1111111111111111,
              "#46039f"
             ],
             [
              0.2222222222222222,
              "#7201a8"
             ],
             [
              0.3333333333333333,
              "#9c179e"
             ],
             [
              0.4444444444444444,
              "#bd3786"
             ],
             [
              0.5555555555555556,
              "#d8576b"
             ],
             [
              0.6666666666666666,
              "#ed7953"
             ],
             [
              0.7777777777777778,
              "#fb9f3a"
             ],
             [
              0.8888888888888888,
              "#fdca26"
             ],
             [
              1,
              "#f0f921"
             ]
            ],
            "type": "heatmapgl"
           }
          ],
          "histogram": [
           {
            "marker": {
             "pattern": {
              "fillmode": "overlay",
              "size": 10,
              "solidity": 0.2
             }
            },
            "type": "histogram"
           }
          ],
          "histogram2d": [
           {
            "colorbar": {
             "outlinewidth": 0,
             "ticks": ""
            },
            "colorscale": [
             [
              0,
              "#0d0887"
             ],
             [
              0.1111111111111111,
              "#46039f"
             ],
             [
              0.2222222222222222,
              "#7201a8"
             ],
             [
              0.3333333333333333,
              "#9c179e"
             ],
             [
              0.4444444444444444,
              "#bd3786"
             ],
             [
              0.5555555555555556,
              "#d8576b"
             ],
             [
              0.6666666666666666,
              "#ed7953"
             ],
             [
              0.7777777777777778,
              "#fb9f3a"
             ],
             [
              0.8888888888888888,
              "#fdca26"
             ],
             [
              1,
              "#f0f921"
             ]
            ],
            "type": "histogram2d"
           }
          ],
          "histogram2dcontour": [
           {
            "colorbar": {
             "outlinewidth": 0,
             "ticks": ""
            },
            "colorscale": [
             [
              0,
              "#0d0887"
             ],
             [
              0.1111111111111111,
              "#46039f"
             ],
             [
              0.2222222222222222,
              "#7201a8"
             ],
             [
              0.3333333333333333,
              "#9c179e"
             ],
             [
              0.4444444444444444,
              "#bd3786"
             ],
             [
              0.5555555555555556,
              "#d8576b"
             ],
             [
              0.6666666666666666,
              "#ed7953"
             ],
             [
              0.7777777777777778,
              "#fb9f3a"
             ],
             [
              0.8888888888888888,
              "#fdca26"
             ],
             [
              1,
              "#f0f921"
             ]
            ],
            "type": "histogram2dcontour"
           }
          ],
          "mesh3d": [
           {
            "colorbar": {
             "outlinewidth": 0,
             "ticks": ""
            },
            "type": "mesh3d"
           }
          ],
          "parcoords": [
           {
            "line": {
             "colorbar": {
              "outlinewidth": 0,
              "ticks": ""
             }
            },
            "type": "parcoords"
           }
          ],
          "pie": [
           {
            "automargin": true,
            "type": "pie"
           }
          ],
          "scatter": [
           {
            "fillpattern": {
             "fillmode": "overlay",
             "size": 10,
             "solidity": 0.2
            },
            "type": "scatter"
           }
          ],
          "scatter3d": [
           {
            "line": {
             "colorbar": {
              "outlinewidth": 0,
              "ticks": ""
             }
            },
            "marker": {
             "colorbar": {
              "outlinewidth": 0,
              "ticks": ""
             }
            },
            "type": "scatter3d"
           }
          ],
          "scattercarpet": [
           {
            "marker": {
             "colorbar": {
              "outlinewidth": 0,
              "ticks": ""
             }
            },
            "type": "scattercarpet"
           }
          ],
          "scattergeo": [
           {
            "marker": {
             "colorbar": {
              "outlinewidth": 0,
              "ticks": ""
             }
            },
            "type": "scattergeo"
           }
          ],
          "scattergl": [
           {
            "marker": {
             "colorbar": {
              "outlinewidth": 0,
              "ticks": ""
             }
            },
            "type": "scattergl"
           }
          ],
          "scattermapbox": [
           {
            "marker": {
             "colorbar": {
              "outlinewidth": 0,
              "ticks": ""
             }
            },
            "type": "scattermapbox"
           }
          ],
          "scatterpolar": [
           {
            "marker": {
             "colorbar": {
              "outlinewidth": 0,
              "ticks": ""
             }
            },
            "type": "scatterpolar"
           }
          ],
          "scatterpolargl": [
           {
            "marker": {
             "colorbar": {
              "outlinewidth": 0,
              "ticks": ""
             }
            },
            "type": "scatterpolargl"
           }
          ],
          "scatterternary": [
           {
            "marker": {
             "colorbar": {
              "outlinewidth": 0,
              "ticks": ""
             }
            },
            "type": "scatterternary"
           }
          ],
          "surface": [
           {
            "colorbar": {
             "outlinewidth": 0,
             "ticks": ""
            },
            "colorscale": [
             [
              0,
              "#0d0887"
             ],
             [
              0.1111111111111111,
              "#46039f"
             ],
             [
              0.2222222222222222,
              "#7201a8"
             ],
             [
              0.3333333333333333,
              "#9c179e"
             ],
             [
              0.4444444444444444,
              "#bd3786"
             ],
             [
              0.5555555555555556,
              "#d8576b"
             ],
             [
              0.6666666666666666,
              "#ed7953"
             ],
             [
              0.7777777777777778,
              "#fb9f3a"
             ],
             [
              0.8888888888888888,
              "#fdca26"
             ],
             [
              1,
              "#f0f921"
             ]
            ],
            "type": "surface"
           }
          ],
          "table": [
           {
            "cells": {
             "fill": {
              "color": "#EBF0F8"
             },
             "line": {
              "color": "white"
             }
            },
            "header": {
             "fill": {
              "color": "#C8D4E3"
             },
             "line": {
              "color": "white"
             }
            },
            "type": "table"
           }
          ]
         },
         "layout": {
          "annotationdefaults": {
           "arrowcolor": "#2a3f5f",
           "arrowhead": 0,
           "arrowwidth": 1
          },
          "autotypenumbers": "strict",
          "coloraxis": {
           "colorbar": {
            "outlinewidth": 0,
            "ticks": ""
           }
          },
          "colorscale": {
           "diverging": [
            [
             0,
             "#8e0152"
            ],
            [
             0.1,
             "#c51b7d"
            ],
            [
             0.2,
             "#de77ae"
            ],
            [
             0.3,
             "#f1b6da"
            ],
            [
             0.4,
             "#fde0ef"
            ],
            [
             0.5,
             "#f7f7f7"
            ],
            [
             0.6,
             "#e6f5d0"
            ],
            [
             0.7,
             "#b8e186"
            ],
            [
             0.8,
             "#7fbc41"
            ],
            [
             0.9,
             "#4d9221"
            ],
            [
             1,
             "#276419"
            ]
           ],
           "sequential": [
            [
             0,
             "#0d0887"
            ],
            [
             0.1111111111111111,
             "#46039f"
            ],
            [
             0.2222222222222222,
             "#7201a8"
            ],
            [
             0.3333333333333333,
             "#9c179e"
            ],
            [
             0.4444444444444444,
             "#bd3786"
            ],
            [
             0.5555555555555556,
             "#d8576b"
            ],
            [
             0.6666666666666666,
             "#ed7953"
            ],
            [
             0.7777777777777778,
             "#fb9f3a"
            ],
            [
             0.8888888888888888,
             "#fdca26"
            ],
            [
             1,
             "#f0f921"
            ]
           ],
           "sequentialminus": [
            [
             0,
             "#0d0887"
            ],
            [
             0.1111111111111111,
             "#46039f"
            ],
            [
             0.2222222222222222,
             "#7201a8"
            ],
            [
             0.3333333333333333,
             "#9c179e"
            ],
            [
             0.4444444444444444,
             "#bd3786"
            ],
            [
             0.5555555555555556,
             "#d8576b"
            ],
            [
             0.6666666666666666,
             "#ed7953"
            ],
            [
             0.7777777777777778,
             "#fb9f3a"
            ],
            [
             0.8888888888888888,
             "#fdca26"
            ],
            [
             1,
             "#f0f921"
            ]
           ]
          },
          "colorway": [
           "#636efa",
           "#EF553B",
           "#00cc96",
           "#ab63fa",
           "#FFA15A",
           "#19d3f3",
           "#FF6692",
           "#B6E880",
           "#FF97FF",
           "#FECB52"
          ],
          "font": {
           "color": "#2a3f5f"
          },
          "geo": {
           "bgcolor": "white",
           "lakecolor": "white",
           "landcolor": "#E5ECF6",
           "showlakes": true,
           "showland": true,
           "subunitcolor": "white"
          },
          "hoverlabel": {
           "align": "left"
          },
          "hovermode": "closest",
          "mapbox": {
           "style": "light"
          },
          "paper_bgcolor": "white",
          "plot_bgcolor": "#E5ECF6",
          "polar": {
           "angularaxis": {
            "gridcolor": "white",
            "linecolor": "white",
            "ticks": ""
           },
           "bgcolor": "#E5ECF6",
           "radialaxis": {
            "gridcolor": "white",
            "linecolor": "white",
            "ticks": ""
           }
          },
          "scene": {
           "xaxis": {
            "backgroundcolor": "#E5ECF6",
            "gridcolor": "white",
            "gridwidth": 2,
            "linecolor": "white",
            "showbackground": true,
            "ticks": "",
            "zerolinecolor": "white"
           },
           "yaxis": {
            "backgroundcolor": "#E5ECF6",
            "gridcolor": "white",
            "gridwidth": 2,
            "linecolor": "white",
            "showbackground": true,
            "ticks": "",
            "zerolinecolor": "white"
           },
           "zaxis": {
            "backgroundcolor": "#E5ECF6",
            "gridcolor": "white",
            "gridwidth": 2,
            "linecolor": "white",
            "showbackground": true,
            "ticks": "",
            "zerolinecolor": "white"
           }
          },
          "shapedefaults": {
           "line": {
            "color": "#2a3f5f"
           }
          },
          "ternary": {
           "aaxis": {
            "gridcolor": "white",
            "linecolor": "white",
            "ticks": ""
           },
           "baxis": {
            "gridcolor": "white",
            "linecolor": "white",
            "ticks": ""
           },
           "bgcolor": "#E5ECF6",
           "caxis": {
            "gridcolor": "white",
            "linecolor": "white",
            "ticks": ""
           }
          },
          "title": {
           "x": 0.05
          },
          "xaxis": {
           "automargin": true,
           "gridcolor": "white",
           "linecolor": "white",
           "ticks": "",
           "title": {
            "standoff": 15
           },
           "zerolinecolor": "white",
           "zerolinewidth": 2
          },
          "yaxis": {
           "automargin": true,
           "gridcolor": "white",
           "linecolor": "white",
           "ticks": "",
           "title": {
            "standoff": 15
           },
           "zerolinecolor": "white",
           "zerolinewidth": 2
          }
         }
        },
        "title": {
         "text": "Data Quality "
        },
        "xaxis": {
         "anchor": "y",
         "domain": [
          0,
          1
         ],
         "linecolor": "#3b0280",
         "matches": "x",
         "mirror": true,
         "showgrid": false,
         "title": {
          "text": "Chunk"
         },
         "zeroline": false
        },
        "yaxis": {
         "anchor": "x",
         "domain": [
          0,
          1
         ],
         "linecolor": "#3b0280",
         "mirror": true,
         "showgrid": false,
         "title": {
          "text": "Unseen Values Rate"
         },
         "zeroline": false
        }
       }
      }
     },
     "metadata": {},
     "output_type": "display_data"
    },
    {
     "data": {
      "application/vnd.plotly.v1+json": {
       "config": {
        "plotlyServerURL": "https://plot.ly"
       },
       "data": [
        {
         "hoverinfo": "skip",
         "legendgroup": "metric_reference",
         "line": {
          "color": "#00c8e5",
          "shape": "hv",
          "width": 2
         },
         "mode": "lines",
         "name": "Metric",
         "showlegend": true,
         "type": "scatter",
         "x": [
          0,
          1,
          2,
          3,
          4,
          5,
          6,
          7,
          8,
          9,
          10
         ],
         "xaxis": "x",
         "y": [
          0,
          0,
          0,
          0,
          0,
          0,
          0,
          0,
          0,
          0,
          0
         ],
         "yaxis": "y"
        },
        {
         "customdata": [
          [
           "Unseen Values Rate for <b>repaid_loan_on_prev_car</b>",
           "<b style=\"color:#00c8e5;line-height:60px\">Reference</b>",
           "",
           "[0:4999]",
           "Chunk index: <b>0</b>",
           0
          ],
          [
           "Unseen Values Rate for <b>repaid_loan_on_prev_car</b>",
           "<b style=\"color:#00c8e5;line-height:60px\">Reference</b>",
           "",
           "[5000:9999]",
           "Chunk index: <b>1</b>",
           0
          ],
          [
           "Unseen Values Rate for <b>repaid_loan_on_prev_car</b>",
           "<b style=\"color:#00c8e5;line-height:60px\">Reference</b>",
           "",
           "[10000:14999]",
           "Chunk index: <b>2</b>",
           0
          ],
          [
           "Unseen Values Rate for <b>repaid_loan_on_prev_car</b>",
           "<b style=\"color:#00c8e5;line-height:60px\">Reference</b>",
           "",
           "[15000:19999]",
           "Chunk index: <b>3</b>",
           0
          ],
          [
           "Unseen Values Rate for <b>repaid_loan_on_prev_car</b>",
           "<b style=\"color:#00c8e5;line-height:60px\">Reference</b>",
           "",
           "[20000:24999]",
           "Chunk index: <b>4</b>",
           0
          ],
          [
           "Unseen Values Rate for <b>repaid_loan_on_prev_car</b>",
           "<b style=\"color:#00c8e5;line-height:60px\">Reference</b>",
           "",
           "[25000:29999]",
           "Chunk index: <b>5</b>",
           0
          ],
          [
           "Unseen Values Rate for <b>repaid_loan_on_prev_car</b>",
           "<b style=\"color:#00c8e5;line-height:60px\">Reference</b>",
           "",
           "[30000:34999]",
           "Chunk index: <b>6</b>",
           0
          ],
          [
           "Unseen Values Rate for <b>repaid_loan_on_prev_car</b>",
           "<b style=\"color:#00c8e5;line-height:60px\">Reference</b>",
           "",
           "[35000:39999]",
           "Chunk index: <b>7</b>",
           0
          ],
          [
           "Unseen Values Rate for <b>repaid_loan_on_prev_car</b>",
           "<b style=\"color:#00c8e5;line-height:60px\">Reference</b>",
           "",
           "[40000:44999]",
           "Chunk index: <b>8</b>",
           0
          ],
          [
           "Unseen Values Rate for <b>repaid_loan_on_prev_car</b>",
           "<b style=\"color:#00c8e5;line-height:60px\">Reference</b>",
           "",
           "[45000:49999]",
           "Chunk index: <b>9</b>",
           0
          ]
         ],
         "hovertemplate": "%{customdata[1]} &nbsp; &nbsp; %{customdata[2]} <br />Chunk: <b>%{customdata[3]}</b> &nbsp; &nbsp; %{customdata[4]} <br />%{customdata[0]}: <b>%{customdata[5]}</b><b r /><extra></extra>",
         "legendgroup": "metric_reference",
         "marker": {
          "color": "#00c8e5",
          "size": 5,
          "symbol": "circle"
         },
         "mode": "markers",
         "name": "Metric",
         "showlegend": false,
         "type": "scatter",
         "x": [
          0.5,
          1.5,
          2.5,
          3.5,
          4.5,
          5.5,
          6.5,
          7.5,
          8.5,
          9.5
         ],
         "xaxis": "x",
         "y": [
          0,
          0,
          0,
          0,
          0,
          0,
          0,
          0,
          0,
          0,
          0
         ],
         "yaxis": "y"
        },
        {
         "hoverinfo": "skip",
         "legendgroup": "metric_analysis",
         "line": {
          "color": "#00c8e5",
          "shape": "hv",
          "width": 2
         },
         "mode": "lines",
         "name": "Metric",
         "showlegend": false,
         "type": "scatter",
         "x": [
          10,
          11,
          12,
          13,
          14,
          15,
          16,
          17,
          18,
          19,
          20
         ],
         "xaxis": "x",
         "y": [
          0,
          0,
          0,
          0,
          0,
          0,
          0,
          0,
          0,
          0,
          0
         ],
         "yaxis": "y"
        },
        {
         "customdata": [
          [
           "Unseen Values Rate for <b>repaid_loan_on_prev_car</b>",
           "<b style=\"color:#3b0280;line-height:60px\">Analysis</b>",
           "",
           "[0:4999]",
           "Chunk index: <b>0</b>",
           0
          ],
          [
           "Unseen Values Rate for <b>repaid_loan_on_prev_car</b>",
           "<b style=\"color:#3b0280;line-height:60px\">Analysis</b>",
           "",
           "[5000:9999]",
           "Chunk index: <b>1</b>",
           0
          ],
          [
           "Unseen Values Rate for <b>repaid_loan_on_prev_car</b>",
           "<b style=\"color:#3b0280;line-height:60px\">Analysis</b>",
           "",
           "[10000:14999]",
           "Chunk index: <b>2</b>",
           0
          ],
          [
           "Unseen Values Rate for <b>repaid_loan_on_prev_car</b>",
           "<b style=\"color:#3b0280;line-height:60px\">Analysis</b>",
           "",
           "[15000:19999]",
           "Chunk index: <b>3</b>",
           0
          ],
          [
           "Unseen Values Rate for <b>repaid_loan_on_prev_car</b>",
           "<b style=\"color:#3b0280;line-height:60px\">Analysis</b>",
           "",
           "[20000:24999]",
           "Chunk index: <b>4</b>",
           0
          ],
          [
           "Unseen Values Rate for <b>repaid_loan_on_prev_car</b>",
           "<b style=\"color:#3b0280;line-height:60px\">Analysis</b>",
           "",
           "[25000:29999]",
           "Chunk index: <b>5</b>",
           0
          ],
          [
           "Unseen Values Rate for <b>repaid_loan_on_prev_car</b>",
           "<b style=\"color:#3b0280;line-height:60px\">Analysis</b>",
           "",
           "[30000:34999]",
           "Chunk index: <b>6</b>",
           0
          ],
          [
           "Unseen Values Rate for <b>repaid_loan_on_prev_car</b>",
           "<b style=\"color:#3b0280;line-height:60px\">Analysis</b>",
           "",
           "[35000:39999]",
           "Chunk index: <b>7</b>",
           0
          ],
          [
           "Unseen Values Rate for <b>repaid_loan_on_prev_car</b>",
           "<b style=\"color:#3b0280;line-height:60px\">Analysis</b>",
           "",
           "[40000:44999]",
           "Chunk index: <b>8</b>",
           0
          ],
          [
           "Unseen Values Rate for <b>repaid_loan_on_prev_car</b>",
           "<b style=\"color:#3b0280;line-height:60px\">Analysis</b>",
           "",
           "[45000:49999]",
           "Chunk index: <b>9</b>",
           0
          ]
         ],
         "hovertemplate": "%{customdata[1]} &nbsp; &nbsp; %{customdata[2]} <br />Chunk: <b>%{customdata[3]}</b> &nbsp; &nbsp; %{customdata[4]} <br />%{customdata[0]}: <b>%{customdata[5]}</b><b r /><extra></extra>",
         "legendgroup": "metric_analysis",
         "marker": {
          "color": "#00c8e5",
          "size": 5,
          "symbol": "circle"
         },
         "mode": "markers",
         "name": "Metric",
         "showlegend": false,
         "type": "scatter",
         "x": [
          10.5,
          11.5,
          12.5,
          13.5,
          14.5,
          15.5,
          16.5,
          17.5,
          18.5,
          19.5
         ],
         "xaxis": "x",
         "y": [
          0,
          0,
          0,
          0,
          0,
          0,
          0,
          0,
          0,
          0,
          0
         ],
         "yaxis": "y"
        },
        {
         "hoverinfo": "skip",
         "legendgroup": "alert",
         "marker": {
          "color": "#DD4040",
          "size": 8,
          "symbol": "diamond"
         },
         "mode": "markers",
         "name": "Alert",
         "showlegend": true,
         "type": "scatter",
         "x": [],
         "xaxis": "x",
         "y": [],
         "yaxis": "y"
        },
        {
         "hoverinfo": "skip",
         "legendgroup": "thresh",
         "line": {
          "color": "#DD4040",
          "dash": "dash",
          "width": 2
         },
         "mode": "lines",
         "name": "Threshold",
         "showlegend": true,
         "type": "scatter",
         "x": [
          0,
          1,
          2,
          3,
          4,
          5,
          6,
          7,
          8,
          9,
          10
         ],
         "xaxis": "x",
         "y": [
          0,
          0,
          0,
          0,
          0,
          0,
          0,
          0,
          0,
          0,
          0
         ],
         "yaxis": "y"
        },
        {
         "hoverinfo": "skip",
         "legendgroup": "thresh",
         "line": {
          "color": "#DD4040",
          "dash": "dash",
          "width": 2
         },
         "mode": "lines",
         "name": "Threshold",
         "showlegend": false,
         "type": "scatter",
         "x": [
          10,
          11,
          12,
          13,
          14,
          15,
          16,
          17,
          18,
          19,
          20
         ],
         "xaxis": "x",
         "y": [
          0,
          0,
          0,
          0,
          0,
          0,
          0,
          0,
          0,
          0,
          0
         ],
         "yaxis": "y"
        }
       ],
       "layout": {
        "annotations": [
         {
          "font": {
           "size": 16
          },
          "showarrow": false,
          "text": "Unseen Values Rate for <b>repaid_loan_on_prev_car</b>",
          "x": 0.5,
          "xanchor": "center",
          "xref": "paper",
          "y": 1,
          "yanchor": "bottom",
          "yref": "paper"
         },
         {
          "showarrow": false,
          "text": "Reference",
          "x": 4.5,
          "xref": "x",
          "xshift": 10,
          "y": 1.01,
          "yref": "y domain"
         },
         {
          "showarrow": false,
          "text": "Analysis",
          "x": 14.5,
          "xref": "x",
          "xshift": 15,
          "y": 1.01,
          "yref": "y domain"
         }
        ],
        "height": 500,
        "hoverlabel": {
         "bgcolor": "white",
         "font": {
          "size": 14
         }
        },
        "legend": {
         "itemclick": false,
         "itemdoubleclick": false,
         "traceorder": "grouped"
        },
        "paper_bgcolor": "rgba(255,255,255,1)",
        "plot_bgcolor": "rgba(255,255,255,1)",
        "shapes": [
         {
          "layer": "below",
          "line": {
           "color": "#666666",
           "width": 1
          },
          "type": "line",
          "x0": 10,
          "x1": 10,
          "xref": "x",
          "y0": 0,
          "y1": 1,
          "yref": "y domain"
         }
        ],
        "template": {
         "data": {
          "bar": [
           {
            "error_x": {
             "color": "#2a3f5f"
            },
            "error_y": {
             "color": "#2a3f5f"
            },
            "marker": {
             "line": {
              "color": "#E5ECF6",
              "width": 0.5
             },
             "pattern": {
              "fillmode": "overlay",
              "size": 10,
              "solidity": 0.2
             }
            },
            "type": "bar"
           }
          ],
          "barpolar": [
           {
            "marker": {
             "line": {
              "color": "#E5ECF6",
              "width": 0.5
             },
             "pattern": {
              "fillmode": "overlay",
              "size": 10,
              "solidity": 0.2
             }
            },
            "type": "barpolar"
           }
          ],
          "carpet": [
           {
            "aaxis": {
             "endlinecolor": "#2a3f5f",
             "gridcolor": "white",
             "linecolor": "white",
             "minorgridcolor": "white",
             "startlinecolor": "#2a3f5f"
            },
            "baxis": {
             "endlinecolor": "#2a3f5f",
             "gridcolor": "white",
             "linecolor": "white",
             "minorgridcolor": "white",
             "startlinecolor": "#2a3f5f"
            },
            "type": "carpet"
           }
          ],
          "choropleth": [
           {
            "colorbar": {
             "outlinewidth": 0,
             "ticks": ""
            },
            "type": "choropleth"
           }
          ],
          "contour": [
           {
            "colorbar": {
             "outlinewidth": 0,
             "ticks": ""
            },
            "colorscale": [
             [
              0,
              "#0d0887"
             ],
             [
              0.1111111111111111,
              "#46039f"
             ],
             [
              0.2222222222222222,
              "#7201a8"
             ],
             [
              0.3333333333333333,
              "#9c179e"
             ],
             [
              0.4444444444444444,
              "#bd3786"
             ],
             [
              0.5555555555555556,
              "#d8576b"
             ],
             [
              0.6666666666666666,
              "#ed7953"
             ],
             [
              0.7777777777777778,
              "#fb9f3a"
             ],
             [
              0.8888888888888888,
              "#fdca26"
             ],
             [
              1,
              "#f0f921"
             ]
            ],
            "type": "contour"
           }
          ],
          "contourcarpet": [
           {
            "colorbar": {
             "outlinewidth": 0,
             "ticks": ""
            },
            "type": "contourcarpet"
           }
          ],
          "heatmap": [
           {
            "colorbar": {
             "outlinewidth": 0,
             "ticks": ""
            },
            "colorscale": [
             [
              0,
              "#0d0887"
             ],
             [
              0.1111111111111111,
              "#46039f"
             ],
             [
              0.2222222222222222,
              "#7201a8"
             ],
             [
              0.3333333333333333,
              "#9c179e"
             ],
             [
              0.4444444444444444,
              "#bd3786"
             ],
             [
              0.5555555555555556,
              "#d8576b"
             ],
             [
              0.6666666666666666,
              "#ed7953"
             ],
             [
              0.7777777777777778,
              "#fb9f3a"
             ],
             [
              0.8888888888888888,
              "#fdca26"
             ],
             [
              1,
              "#f0f921"
             ]
            ],
            "type": "heatmap"
           }
          ],
          "heatmapgl": [
           {
            "colorbar": {
             "outlinewidth": 0,
             "ticks": ""
            },
            "colorscale": [
             [
              0,
              "#0d0887"
             ],
             [
              0.1111111111111111,
              "#46039f"
             ],
             [
              0.2222222222222222,
              "#7201a8"
             ],
             [
              0.3333333333333333,
              "#9c179e"
             ],
             [
              0.4444444444444444,
              "#bd3786"
             ],
             [
              0.5555555555555556,
              "#d8576b"
             ],
             [
              0.6666666666666666,
              "#ed7953"
             ],
             [
              0.7777777777777778,
              "#fb9f3a"
             ],
             [
              0.8888888888888888,
              "#fdca26"
             ],
             [
              1,
              "#f0f921"
             ]
            ],
            "type": "heatmapgl"
           }
          ],
          "histogram": [
           {
            "marker": {
             "pattern": {
              "fillmode": "overlay",
              "size": 10,
              "solidity": 0.2
             }
            },
            "type": "histogram"
           }
          ],
          "histogram2d": [
           {
            "colorbar": {
             "outlinewidth": 0,
             "ticks": ""
            },
            "colorscale": [
             [
              0,
              "#0d0887"
             ],
             [
              0.1111111111111111,
              "#46039f"
             ],
             [
              0.2222222222222222,
              "#7201a8"
             ],
             [
              0.3333333333333333,
              "#9c179e"
             ],
             [
              0.4444444444444444,
              "#bd3786"
             ],
             [
              0.5555555555555556,
              "#d8576b"
             ],
             [
              0.6666666666666666,
              "#ed7953"
             ],
             [
              0.7777777777777778,
              "#fb9f3a"
             ],
             [
              0.8888888888888888,
              "#fdca26"
             ],
             [
              1,
              "#f0f921"
             ]
            ],
            "type": "histogram2d"
           }
          ],
          "histogram2dcontour": [
           {
            "colorbar": {
             "outlinewidth": 0,
             "ticks": ""
            },
            "colorscale": [
             [
              0,
              "#0d0887"
             ],
             [
              0.1111111111111111,
              "#46039f"
             ],
             [
              0.2222222222222222,
              "#7201a8"
             ],
             [
              0.3333333333333333,
              "#9c179e"
             ],
             [
              0.4444444444444444,
              "#bd3786"
             ],
             [
              0.5555555555555556,
              "#d8576b"
             ],
             [
              0.6666666666666666,
              "#ed7953"
             ],
             [
              0.7777777777777778,
              "#fb9f3a"
             ],
             [
              0.8888888888888888,
              "#fdca26"
             ],
             [
              1,
              "#f0f921"
             ]
            ],
            "type": "histogram2dcontour"
           }
          ],
          "mesh3d": [
           {
            "colorbar": {
             "outlinewidth": 0,
             "ticks": ""
            },
            "type": "mesh3d"
           }
          ],
          "parcoords": [
           {
            "line": {
             "colorbar": {
              "outlinewidth": 0,
              "ticks": ""
             }
            },
            "type": "parcoords"
           }
          ],
          "pie": [
           {
            "automargin": true,
            "type": "pie"
           }
          ],
          "scatter": [
           {
            "fillpattern": {
             "fillmode": "overlay",
             "size": 10,
             "solidity": 0.2
            },
            "type": "scatter"
           }
          ],
          "scatter3d": [
           {
            "line": {
             "colorbar": {
              "outlinewidth": 0,
              "ticks": ""
             }
            },
            "marker": {
             "colorbar": {
              "outlinewidth": 0,
              "ticks": ""
             }
            },
            "type": "scatter3d"
           }
          ],
          "scattercarpet": [
           {
            "marker": {
             "colorbar": {
              "outlinewidth": 0,
              "ticks": ""
             }
            },
            "type": "scattercarpet"
           }
          ],
          "scattergeo": [
           {
            "marker": {
             "colorbar": {
              "outlinewidth": 0,
              "ticks": ""
             }
            },
            "type": "scattergeo"
           }
          ],
          "scattergl": [
           {
            "marker": {
             "colorbar": {
              "outlinewidth": 0,
              "ticks": ""
             }
            },
            "type": "scattergl"
           }
          ],
          "scattermapbox": [
           {
            "marker": {
             "colorbar": {
              "outlinewidth": 0,
              "ticks": ""
             }
            },
            "type": "scattermapbox"
           }
          ],
          "scatterpolar": [
           {
            "marker": {
             "colorbar": {
              "outlinewidth": 0,
              "ticks": ""
             }
            },
            "type": "scatterpolar"
           }
          ],
          "scatterpolargl": [
           {
            "marker": {
             "colorbar": {
              "outlinewidth": 0,
              "ticks": ""
             }
            },
            "type": "scatterpolargl"
           }
          ],
          "scatterternary": [
           {
            "marker": {
             "colorbar": {
              "outlinewidth": 0,
              "ticks": ""
             }
            },
            "type": "scatterternary"
           }
          ],
          "surface": [
           {
            "colorbar": {
             "outlinewidth": 0,
             "ticks": ""
            },
            "colorscale": [
             [
              0,
              "#0d0887"
             ],
             [
              0.1111111111111111,
              "#46039f"
             ],
             [
              0.2222222222222222,
              "#7201a8"
             ],
             [
              0.3333333333333333,
              "#9c179e"
             ],
             [
              0.4444444444444444,
              "#bd3786"
             ],
             [
              0.5555555555555556,
              "#d8576b"
             ],
             [
              0.6666666666666666,
              "#ed7953"
             ],
             [
              0.7777777777777778,
              "#fb9f3a"
             ],
             [
              0.8888888888888888,
              "#fdca26"
             ],
             [
              1,
              "#f0f921"
             ]
            ],
            "type": "surface"
           }
          ],
          "table": [
           {
            "cells": {
             "fill": {
              "color": "#EBF0F8"
             },
             "line": {
              "color": "white"
             }
            },
            "header": {
             "fill": {
              "color": "#C8D4E3"
             },
             "line": {
              "color": "white"
             }
            },
            "type": "table"
           }
          ]
         },
         "layout": {
          "annotationdefaults": {
           "arrowcolor": "#2a3f5f",
           "arrowhead": 0,
           "arrowwidth": 1
          },
          "autotypenumbers": "strict",
          "coloraxis": {
           "colorbar": {
            "outlinewidth": 0,
            "ticks": ""
           }
          },
          "colorscale": {
           "diverging": [
            [
             0,
             "#8e0152"
            ],
            [
             0.1,
             "#c51b7d"
            ],
            [
             0.2,
             "#de77ae"
            ],
            [
             0.3,
             "#f1b6da"
            ],
            [
             0.4,
             "#fde0ef"
            ],
            [
             0.5,
             "#f7f7f7"
            ],
            [
             0.6,
             "#e6f5d0"
            ],
            [
             0.7,
             "#b8e186"
            ],
            [
             0.8,
             "#7fbc41"
            ],
            [
             0.9,
             "#4d9221"
            ],
            [
             1,
             "#276419"
            ]
           ],
           "sequential": [
            [
             0,
             "#0d0887"
            ],
            [
             0.1111111111111111,
             "#46039f"
            ],
            [
             0.2222222222222222,
             "#7201a8"
            ],
            [
             0.3333333333333333,
             "#9c179e"
            ],
            [
             0.4444444444444444,
             "#bd3786"
            ],
            [
             0.5555555555555556,
             "#d8576b"
            ],
            [
             0.6666666666666666,
             "#ed7953"
            ],
            [
             0.7777777777777778,
             "#fb9f3a"
            ],
            [
             0.8888888888888888,
             "#fdca26"
            ],
            [
             1,
             "#f0f921"
            ]
           ],
           "sequentialminus": [
            [
             0,
             "#0d0887"
            ],
            [
             0.1111111111111111,
             "#46039f"
            ],
            [
             0.2222222222222222,
             "#7201a8"
            ],
            [
             0.3333333333333333,
             "#9c179e"
            ],
            [
             0.4444444444444444,
             "#bd3786"
            ],
            [
             0.5555555555555556,
             "#d8576b"
            ],
            [
             0.6666666666666666,
             "#ed7953"
            ],
            [
             0.7777777777777778,
             "#fb9f3a"
            ],
            [
             0.8888888888888888,
             "#fdca26"
            ],
            [
             1,
             "#f0f921"
            ]
           ]
          },
          "colorway": [
           "#636efa",
           "#EF553B",
           "#00cc96",
           "#ab63fa",
           "#FFA15A",
           "#19d3f3",
           "#FF6692",
           "#B6E880",
           "#FF97FF",
           "#FECB52"
          ],
          "font": {
           "color": "#2a3f5f"
          },
          "geo": {
           "bgcolor": "white",
           "lakecolor": "white",
           "landcolor": "#E5ECF6",
           "showlakes": true,
           "showland": true,
           "subunitcolor": "white"
          },
          "hoverlabel": {
           "align": "left"
          },
          "hovermode": "closest",
          "mapbox": {
           "style": "light"
          },
          "paper_bgcolor": "white",
          "plot_bgcolor": "#E5ECF6",
          "polar": {
           "angularaxis": {
            "gridcolor": "white",
            "linecolor": "white",
            "ticks": ""
           },
           "bgcolor": "#E5ECF6",
           "radialaxis": {
            "gridcolor": "white",
            "linecolor": "white",
            "ticks": ""
           }
          },
          "scene": {
           "xaxis": {
            "backgroundcolor": "#E5ECF6",
            "gridcolor": "white",
            "gridwidth": 2,
            "linecolor": "white",
            "showbackground": true,
            "ticks": "",
            "zerolinecolor": "white"
           },
           "yaxis": {
            "backgroundcolor": "#E5ECF6",
            "gridcolor": "white",
            "gridwidth": 2,
            "linecolor": "white",
            "showbackground": true,
            "ticks": "",
            "zerolinecolor": "white"
           },
           "zaxis": {
            "backgroundcolor": "#E5ECF6",
            "gridcolor": "white",
            "gridwidth": 2,
            "linecolor": "white",
            "showbackground": true,
            "ticks": "",
            "zerolinecolor": "white"
           }
          },
          "shapedefaults": {
           "line": {
            "color": "#2a3f5f"
           }
          },
          "ternary": {
           "aaxis": {
            "gridcolor": "white",
            "linecolor": "white",
            "ticks": ""
           },
           "baxis": {
            "gridcolor": "white",
            "linecolor": "white",
            "ticks": ""
           },
           "bgcolor": "#E5ECF6",
           "caxis": {
            "gridcolor": "white",
            "linecolor": "white",
            "ticks": ""
           }
          },
          "title": {
           "x": 0.05
          },
          "xaxis": {
           "automargin": true,
           "gridcolor": "white",
           "linecolor": "white",
           "ticks": "",
           "title": {
            "standoff": 15
           },
           "zerolinecolor": "white",
           "zerolinewidth": 2
          },
          "yaxis": {
           "automargin": true,
           "gridcolor": "white",
           "linecolor": "white",
           "ticks": "",
           "title": {
            "standoff": 15
           },
           "zerolinecolor": "white",
           "zerolinewidth": 2
          }
         }
        },
        "title": {
         "text": "Data Quality "
        },
        "xaxis": {
         "anchor": "y",
         "domain": [
          0,
          1
         ],
         "linecolor": "#3b0280",
         "matches": "x",
         "mirror": true,
         "showgrid": false,
         "title": {
          "text": "Chunk"
         },
         "zeroline": false
        },
        "yaxis": {
         "anchor": "x",
         "domain": [
          0,
          1
         ],
         "linecolor": "#3b0280",
         "mirror": true,
         "showgrid": false,
         "title": {
          "text": "Unseen Values Rate"
         },
         "zeroline": false
        }
       }
      }
     },
     "metadata": {},
     "output_type": "display_data"
    }
   ],
   "source": [
    "calc = nml.UnseenValuesCalculator(\n",
    "    column_names=categorical_columns,\n",
    ")\n",
    "\n",
    "calc.fit(reference_data=reference_df)\n",
    "results = calc.calculate(analysis_df)\n",
    "display(results.filter(period='all').to_df())\n",
    "\n",
    "for column_name in results.column_names:\n",
    "    results.filter(column_names=column_name).plot().show()"
   ]
  },
  {
   "cell_type": "code",
   "execution_count": null,
   "metadata": {},
   "outputs": [],
   "source": []
  }
 ],
 "metadata": {
  "kernelspec": {
   "display_name": "mlops-project",
   "language": "python",
   "name": "python3"
  },
  "language_info": {
   "codemirror_mode": {
    "name": "ipython",
    "version": 3
   },
   "file_extension": ".py",
   "mimetype": "text/x-python",
   "name": "python",
   "nbconvert_exporter": "python",
   "pygments_lexer": "ipython3",
   "version": "3.9.16"
  },
  "orig_nbformat": 4
 },
 "nbformat": 4,
 "nbformat_minor": 2
}
